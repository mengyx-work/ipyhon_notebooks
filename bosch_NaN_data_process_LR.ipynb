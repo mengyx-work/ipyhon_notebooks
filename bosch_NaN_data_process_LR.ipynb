{
 "cells": [
  {
   "cell_type": "code",
   "execution_count": 85,
   "metadata": {
    "collapsed": false,
    "scrolled": true
   },
   "outputs": [],
   "source": [
    "%matplotlib inline\n",
    "\n",
    "import os, sys, time\n",
    "import pandas as pd\n",
    "import numpy as np\n",
    "from os.path import join\n",
    "import matplotlib.pyplot as plt\n",
    "\n",
    "from sklearn.linear_model import LogisticRegression\n",
    "sys.path.append('/home/ymm/kaggle/xgboost_hyperopt')\n",
    "import utils.bosch_functions as bosch_functions\n",
    "from utils.validation_tools import score_MCC, MCC, create_validation_index\n",
    "from utils.models import CombinedModel\n",
    "\n",
    "data_path = '/home/ymm/bosch/'\n",
    "\n",
    "train_num_file   = 'train_numeric.csv'\n",
    "train_cat_file   = 'train_categorical.csv'\n",
    "train_date_file  = 'train_date.csv'\n",
    "test_num_file    = 'test_numeric.csv'\n",
    "test_cat_file    = 'test_categorical.csv'\n",
    "test_date_file   = 'test_date.csv'\n",
    "\n",
    "sample_submission_file   = 'sample_submission.csv'\n",
    "\n",
    "\n",
    "start_time_column_name = 'L0_S0_D1'\n",
    "id_column_name = 'Id'\n",
    "dep_var_name = 'Response'"
   ]
  },
  {
   "cell_type": "code",
   "execution_count": 31,
   "metadata": {
    "collapsed": false
   },
   "outputs": [
    {
     "name": "stdout",
     "output_type": "stream",
     "text": [
      "data loading takes  65.0  seconds.\n"
     ]
    }
   ],
   "source": [
    "nrows = 10000\n",
    "bin_num = 1 ## number of bins to separate data by start_time\n",
    "tmp_train, tmp_test, bins, bin_names = bosch_functions.create_grouped_index_df(bin_num)"
   ]
  },
  {
   "cell_type": "code",
   "execution_count": 32,
   "metadata": {
    "collapsed": true
   },
   "outputs": [],
   "source": [
    "## create the skipped row numbers\n",
    "none_selected_window_num = ['0']\n",
    "skipped_test_row_num = tmp_test.loc[tmp_test['time_window_num'].isin(none_selected_window_num), 'row_num'].tolist()\n",
    "skipped_train_row_num = tmp_train.loc[tmp_train['time_window_num'].isin(none_selected_window_num), 'row_num'].tolist()\n",
    "\n",
    "train_cat_cols  = pd.read_csv(join(data_path, train_cat_file), index_col=id_column_name, nrows=0)\n",
    "train_date_cols = pd.read_csv(join(data_path, train_date_file), index_col=id_column_name, nrows=0)\n",
    "train_num_cols  = pd.read_csv(join(data_path, train_num_file), index_col=id_column_name, nrows=0)"
   ]
  },
  {
   "cell_type": "code",
   "execution_count": 33,
   "metadata": {
    "collapsed": false
   },
   "outputs": [
    {
     "name": "stdout",
     "output_type": "stream",
     "text": [
      "674503 673861\n"
     ]
    }
   ],
   "source": [
    "print len(skipped_test_row_num), len(skipped_train_row_num)"
   ]
  },
  {
   "cell_type": "markdown",
   "metadata": {},
   "source": [
    "### R&D work\n",
    "\n",
    "Independent work to build LR models on both numerical and date features. Those LR\n",
    "models will be used as feature selection tools.\n",
    "\n",
    "    1. use all the numerical/date data and only first 50,000 rows\n",
    "    2. try to build a LR model and understand the features"
   ]
  },
  {
   "cell_type": "code",
   "execution_count": 34,
   "metadata": {
    "collapsed": false
   },
   "outputs": [
    {
     "name": "stdout",
     "output_type": "stream",
     "text": [
      "finish loading date using 13.0 seconds\n"
     ]
    }
   ],
   "source": [
    "## select all the numerical columns and try to use LR\n",
    "start_time = time.time()\n",
    "train_num  = pd.read_csv(join(data_path, train_num_file),    index_col='Id', skiprows=skipped_train_row_num, nrows=50000)\n",
    "train_date = pd.read_csv(join(data_path, train_date_file),   index_col='Id', skiprows=skipped_train_row_num, nrows=50000)\n",
    "print 'finish loading date using {} seconds'.format(round(time.time() - start_time, 0))"
   ]
  },
  {
   "cell_type": "code",
   "execution_count": 35,
   "metadata": {
    "collapsed": false
   },
   "outputs": [
    {
     "name": "stdout",
     "output_type": "stream",
     "text": [
      "1717.86 0.39\n"
     ]
    }
   ],
   "source": [
    "print train_date.max().max(), train_date.min().min()"
   ]
  },
  {
   "cell_type": "code",
   "execution_count": 36,
   "metadata": {
    "collapsed": true
   },
   "outputs": [],
   "source": [
    "## remove columns that mostly just NaN\n",
    "train_num.fillna(-1., inplace=True)\n",
    "train_date.fillna(-1., inplace=True)"
   ]
  },
  {
   "cell_type": "code",
   "execution_count": 37,
   "metadata": {
    "collapsed": false
   },
   "outputs": [
    {
     "name": "stdout",
     "output_type": "stream",
     "text": [
      "finish calculating correlation using 261.0 seconds\n"
     ]
    }
   ],
   "source": [
    "start_time = time.time()\n",
    "train_num_corr = train_num.corr()\n",
    "train_date_corr = train_date.corr()\n",
    "print 'finish calculating correlation using {} seconds'.format(round(time.time() - start_time, 0))"
   ]
  },
  {
   "cell_type": "code",
   "execution_count": 38,
   "metadata": {
    "collapsed": false
   },
   "outputs": [
    {
     "name": "stdout",
     "output_type": "stream",
     "text": [
      "(969, 969) (1156, 1156)\n"
     ]
    }
   ],
   "source": [
    "print train_num_corr.shape, train_date_corr.shape"
   ]
  },
  {
   "cell_type": "code",
   "execution_count": 26,
   "metadata": {
    "collapsed": false
   },
   "outputs": [],
   "source": [
    "#train_date_corr"
   ]
  },
  {
   "cell_type": "code",
   "execution_count": 39,
   "metadata": {
    "collapsed": false
   },
   "outputs": [],
   "source": [
    "start_index = 0\n",
    "thres = 0.5\n",
    "num_removed_cols = set()\n",
    "dat_removed_cols = set()\n",
    "\n",
    "for column in train_num_corr.columns:\n",
    "    start_index += 1\n",
    "    if column not in num_removed_cols:\n",
    "        for index, value in enumerate(train_num_corr[column][start_index:]):\n",
    "            if abs(value) > thres:\n",
    "                num_removed_cols.add(train_num_corr.columns[(index + start_index)])\n",
    "               \n",
    "start_index = 0           \n",
    "for column in train_date_corr.columns:\n",
    "    start_index += 1\n",
    "    if column not in dat_removed_cols:\n",
    "        for index, value in enumerate(train_date_corr[column][start_index:]):\n",
    "            if abs(value) > thres:\n",
    "                dat_removed_cols.add(train_date_corr.columns[(index + start_index)])"
   ]
  },
  {
   "cell_type": "code",
   "execution_count": 40,
   "metadata": {
    "collapsed": false,
    "scrolled": true
   },
   "outputs": [
    {
     "name": "stdout",
     "output_type": "stream",
     "text": [
      "921 1108 969 1156\n"
     ]
    }
   ],
   "source": [
    "print len(num_removed_cols), len(dat_removed_cols), train_num_corr.shape[1], train_date_corr.shape[1]"
   ]
  },
  {
   "cell_type": "code",
   "execution_count": 41,
   "metadata": {
    "collapsed": false,
    "scrolled": true
   },
   "outputs": [],
   "source": [
    "max_corr_fea = train_num_corr['Response'][:-1].argmax()\n",
    "min_corr_fea = train_num_corr['Response'][:-1].argmin()"
   ]
  },
  {
   "cell_type": "code",
   "execution_count": 42,
   "metadata": {
    "collapsed": false
   },
   "outputs": [
    {
     "name": "stdout",
     "output_type": "stream",
     "text": [
      "0.0893626579396 L3_S32_F3850 \n",
      "-0.0569501205985 L3_S33_F3869\n"
     ]
    }
   ],
   "source": [
    "print train_num_corr['Response'][:-1].max(), max_corr_fea, '\\n', train_num_corr['Response'][:-1].min(), min_corr_fea"
   ]
  },
  {
   "cell_type": "code",
   "execution_count": 43,
   "metadata": {
    "collapsed": false,
    "scrolled": true
   },
   "outputs": [
    {
     "data": {
      "text/plain": [
       "<matplotlib.axes._subplots.AxesSubplot at 0x7ff65254d510>"
      ]
     },
     "execution_count": 43,
     "metadata": {},
     "output_type": "execute_result"
    },
    {
     "data": {
      "image/png": "[encoded data removed]",
      "text/plain": [
       "<matplotlib.figure.Figure at 0x7ff63b0e4850>"
      ]
     },
     "metadata": {},
     "output_type": "display_data"
    }
   ],
   "source": [
    "train_num_corr['Response'][:-1].hist(bins=50)"
   ]
  },
  {
   "cell_type": "code",
   "execution_count": 44,
   "metadata": {
    "collapsed": false
   },
   "outputs": [],
   "source": [
    "selected_num_col_names = [col for col in train_num.columns if col not in num_removed_cols]\n",
    "selected_dat_col_names = [col for col in train_date.columns if col not in dat_removed_cols]"
   ]
  },
  {
   "cell_type": "code",
   "execution_count": 45,
   "metadata": {
    "collapsed": false
   },
   "outputs": [
    {
     "name": "stdout",
     "output_type": "stream",
     "text": [
      "48 48\n"
     ]
    }
   ],
   "source": [
    "print len(selected_num_col_names), len(selected_dat_col_names)"
   ]
  },
  {
   "cell_type": "code",
   "execution_count": 46,
   "metadata": {
    "collapsed": false
   },
   "outputs": [],
   "source": [
    "selected_num_col_names.extend(['Id', 'Response'])\n",
    "selected_dat_col_names.extend(['Id'])"
   ]
  },
  {
   "cell_type": "markdown",
   "metadata": {},
   "source": [
    "load data using the selected columns.\n",
    "train_num and train_cat data will be combined and used as a whole for the LR model training"
   ]
  },
  {
   "cell_type": "code",
   "execution_count": 47,
   "metadata": {
    "collapsed": false
   },
   "outputs": [
    {
     "name": "stdout",
     "output_type": "stream",
     "text": [
      "finish loading full data using 34.0 seconds\n"
     ]
    }
   ],
   "source": [
    "start_time = time.time()\n",
    "full_train_num  = pd.read_csv(join(data_path, train_num_file),    index_col='Id', skiprows=skipped_train_row_num, usecols=selected_num_col_names)\n",
    "full_train_cat  = pd.read_csv(join(data_path, train_date_file),   index_col='Id', skiprows=skipped_train_row_num, usecols=selected_dat_col_names)\n",
    "print 'finish loading full data using {} seconds'.format(round(time.time() - start_time, 0))"
   ]
  },
  {
   "cell_type": "code",
   "execution_count": 73,
   "metadata": {
    "collapsed": false
   },
   "outputs": [
    {
     "name": "stdout",
     "output_type": "stream",
     "text": [
      "(509886, 48) (509886, 48)\n"
     ]
    }
   ],
   "source": [
    "tmp_train_num = full_train_num.copy()\n",
    "tmp_train_cat = full_train_cat.copy()\n",
    "\n",
    "## remove columns that mostly just NaN\n",
    "tmp_train_num.fillna(-1., inplace=True)\n",
    "tmp_train_cat.fillna(-1., inplace=True)\n",
    "\n",
    "print tmp_train_num.shape, tmp_train_cat.shape"
   ]
  },
  {
   "cell_type": "code",
   "execution_count": 74,
   "metadata": {
    "collapsed": false
   },
   "outputs": [],
   "source": [
    "combined_train = pd.merge(tmp_train_num, tmp_train_cat, how='outer', left_index=True, right_index=True)"
   ]
  },
  {
   "cell_type": "code",
   "execution_count": 75,
   "metadata": {
    "collapsed": false,
    "scrolled": true
   },
   "outputs": [
    {
     "name": "stdout",
     "output_type": "stream",
     "text": [
      "(509886, 96) True\n"
     ]
    },
    {
     "data": {
      "text/html": [
       "<div>\n",
       "<table border=\"1\" class=\"dataframe\">\n",
       "  <thead>\n",
       "    <tr style=\"text-align: right;\">\n",
       "      <th></th>\n",
       "      <th>L0_S0_F0</th>\n",
       "      <th>L0_S0_F2</th>\n",
       "      <th>L0_S0_F4</th>\n",
       "      <th>L0_S0_F6</th>\n",
       "      <th>L0_S0_F8</th>\n",
       "      <th>L0_S0_F10</th>\n",
       "      <th>L0_S0_F12</th>\n",
       "      <th>L0_S0_F14</th>\n",
       "      <th>L0_S0_F16</th>\n",
       "      <th>L0_S0_F18</th>\n",
       "      <th>...</th>\n",
       "      <th>L3_S39_D3966</th>\n",
       "      <th>L3_S42_D4029</th>\n",
       "      <th>L3_S42_D4033</th>\n",
       "      <th>L3_S42_D4037</th>\n",
       "      <th>L3_S42_D4041</th>\n",
       "      <th>L3_S42_D4045</th>\n",
       "      <th>L3_S42_D4049</th>\n",
       "      <th>L3_S42_D4053</th>\n",
       "      <th>L3_S42_D4057</th>\n",
       "      <th>L3_S46_D4135</th>\n",
       "    </tr>\n",
       "    <tr>\n",
       "      <th>Id</th>\n",
       "      <th></th>\n",
       "      <th></th>\n",
       "      <th></th>\n",
       "      <th></th>\n",
       "      <th></th>\n",
       "      <th></th>\n",
       "      <th></th>\n",
       "      <th></th>\n",
       "      <th></th>\n",
       "      <th></th>\n",
       "      <th></th>\n",
       "      <th></th>\n",
       "      <th></th>\n",
       "      <th></th>\n",
       "      <th></th>\n",
       "      <th></th>\n",
       "      <th></th>\n",
       "      <th></th>\n",
       "      <th></th>\n",
       "      <th></th>\n",
       "      <th></th>\n",
       "    </tr>\n",
       "  </thead>\n",
       "  <tbody>\n",
       "    <tr>\n",
       "      <th>6</th>\n",
       "      <td>-1.0</td>\n",
       "      <td>-1.0</td>\n",
       "      <td>-1.0</td>\n",
       "      <td>-1.0</td>\n",
       "      <td>-1.0</td>\n",
       "      <td>-1.0</td>\n",
       "      <td>-1.0</td>\n",
       "      <td>-1.0</td>\n",
       "      <td>-1.0</td>\n",
       "      <td>-1.0</td>\n",
       "      <td>...</td>\n",
       "      <td>-1.0</td>\n",
       "      <td>-1.0</td>\n",
       "      <td>-1.0</td>\n",
       "      <td>-1.0</td>\n",
       "      <td>-1.0</td>\n",
       "      <td>-1.0</td>\n",
       "      <td>-1.0</td>\n",
       "      <td>-1.0</td>\n",
       "      <td>-1.0</td>\n",
       "      <td>-1.0</td>\n",
       "    </tr>\n",
       "    <tr>\n",
       "      <th>14</th>\n",
       "      <td>-1.0</td>\n",
       "      <td>-1.0</td>\n",
       "      <td>-1.0</td>\n",
       "      <td>-1.0</td>\n",
       "      <td>-1.0</td>\n",
       "      <td>-1.0</td>\n",
       "      <td>-1.0</td>\n",
       "      <td>-1.0</td>\n",
       "      <td>-1.0</td>\n",
       "      <td>-1.0</td>\n",
       "      <td>...</td>\n",
       "      <td>-1.0</td>\n",
       "      <td>-1.0</td>\n",
       "      <td>-1.0</td>\n",
       "      <td>-1.0</td>\n",
       "      <td>-1.0</td>\n",
       "      <td>-1.0</td>\n",
       "      <td>-1.0</td>\n",
       "      <td>-1.0</td>\n",
       "      <td>-1.0</td>\n",
       "      <td>-1.0</td>\n",
       "    </tr>\n",
       "    <tr>\n",
       "      <th>16</th>\n",
       "      <td>-1.0</td>\n",
       "      <td>-1.0</td>\n",
       "      <td>-1.0</td>\n",
       "      <td>-1.0</td>\n",
       "      <td>-1.0</td>\n",
       "      <td>-1.0</td>\n",
       "      <td>-1.0</td>\n",
       "      <td>-1.0</td>\n",
       "      <td>-1.0</td>\n",
       "      <td>-1.0</td>\n",
       "      <td>...</td>\n",
       "      <td>-1.0</td>\n",
       "      <td>-1.0</td>\n",
       "      <td>-1.0</td>\n",
       "      <td>-1.0</td>\n",
       "      <td>-1.0</td>\n",
       "      <td>-1.0</td>\n",
       "      <td>-1.0</td>\n",
       "      <td>-1.0</td>\n",
       "      <td>-1.0</td>\n",
       "      <td>-1.0</td>\n",
       "    </tr>\n",
       "    <tr>\n",
       "      <th>23</th>\n",
       "      <td>-1.0</td>\n",
       "      <td>-1.0</td>\n",
       "      <td>-1.0</td>\n",
       "      <td>-1.0</td>\n",
       "      <td>-1.0</td>\n",
       "      <td>-1.0</td>\n",
       "      <td>-1.0</td>\n",
       "      <td>-1.0</td>\n",
       "      <td>-1.0</td>\n",
       "      <td>-1.0</td>\n",
       "      <td>...</td>\n",
       "      <td>-1.0</td>\n",
       "      <td>-1.0</td>\n",
       "      <td>-1.0</td>\n",
       "      <td>-1.0</td>\n",
       "      <td>-1.0</td>\n",
       "      <td>-1.0</td>\n",
       "      <td>-1.0</td>\n",
       "      <td>-1.0</td>\n",
       "      <td>-1.0</td>\n",
       "      <td>-1.0</td>\n",
       "    </tr>\n",
       "    <tr>\n",
       "      <th>41</th>\n",
       "      <td>-1.0</td>\n",
       "      <td>-1.0</td>\n",
       "      <td>-1.0</td>\n",
       "      <td>-1.0</td>\n",
       "      <td>-1.0</td>\n",
       "      <td>-1.0</td>\n",
       "      <td>-1.0</td>\n",
       "      <td>-1.0</td>\n",
       "      <td>-1.0</td>\n",
       "      <td>-1.0</td>\n",
       "      <td>...</td>\n",
       "      <td>-1.0</td>\n",
       "      <td>-1.0</td>\n",
       "      <td>-1.0</td>\n",
       "      <td>-1.0</td>\n",
       "      <td>-1.0</td>\n",
       "      <td>-1.0</td>\n",
       "      <td>-1.0</td>\n",
       "      <td>-1.0</td>\n",
       "      <td>-1.0</td>\n",
       "      <td>-1.0</td>\n",
       "    </tr>\n",
       "  </tbody>\n",
       "</table>\n",
       "<p>5 rows × 96 columns</p>\n",
       "</div>"
      ],
      "text/plain": [
       "    L0_S0_F0  L0_S0_F2  L0_S0_F4  L0_S0_F6  L0_S0_F8  L0_S0_F10  L0_S0_F12  \\\n",
       "Id                                                                           \n",
       "6       -1.0      -1.0      -1.0      -1.0      -1.0       -1.0       -1.0   \n",
       "14      -1.0      -1.0      -1.0      -1.0      -1.0       -1.0       -1.0   \n",
       "16      -1.0      -1.0      -1.0      -1.0      -1.0       -1.0       -1.0   \n",
       "23      -1.0      -1.0      -1.0      -1.0      -1.0       -1.0       -1.0   \n",
       "41      -1.0      -1.0      -1.0      -1.0      -1.0       -1.0       -1.0   \n",
       "\n",
       "    L0_S0_F14  L0_S0_F16  L0_S0_F18      ...       L3_S39_D3966  L3_S42_D4029  \\\n",
       "Id                                       ...                                    \n",
       "6        -1.0       -1.0       -1.0      ...               -1.0          -1.0   \n",
       "14       -1.0       -1.0       -1.0      ...               -1.0          -1.0   \n",
       "16       -1.0       -1.0       -1.0      ...               -1.0          -1.0   \n",
       "23       -1.0       -1.0       -1.0      ...               -1.0          -1.0   \n",
       "41       -1.0       -1.0       -1.0      ...               -1.0          -1.0   \n",
       "\n",
       "    L3_S42_D4033  L3_S42_D4037  L3_S42_D4041  L3_S42_D4045  L3_S42_D4049  \\\n",
       "Id                                                                         \n",
       "6           -1.0          -1.0          -1.0          -1.0          -1.0   \n",
       "14          -1.0          -1.0          -1.0          -1.0          -1.0   \n",
       "16          -1.0          -1.0          -1.0          -1.0          -1.0   \n",
       "23          -1.0          -1.0          -1.0          -1.0          -1.0   \n",
       "41          -1.0          -1.0          -1.0          -1.0          -1.0   \n",
       "\n",
       "    L3_S42_D4053  L3_S42_D4057  L3_S46_D4135  \n",
       "Id                                            \n",
       "6           -1.0          -1.0          -1.0  \n",
       "14          -1.0          -1.0          -1.0  \n",
       "16          -1.0          -1.0          -1.0  \n",
       "23          -1.0          -1.0          -1.0  \n",
       "41          -1.0          -1.0          -1.0  \n",
       "\n",
       "[5 rows x 96 columns]"
      ]
     },
     "execution_count": 75,
     "metadata": {},
     "output_type": "execute_result"
    }
   ],
   "source": [
    "print combined_train.shape, dep_var_name in combined_train.columns\n",
    "combined_train.head()"
   ]
  },
  {
   "cell_type": "code",
   "execution_count": 76,
   "metadata": {
    "collapsed": false
   },
   "outputs": [],
   "source": [
    "############## Section of regular validation #######################\n",
    "train_index, valid_index = create_validation_index(combined_train, 0.3, dep_var_name, True)\n",
    "valid_data = combined_train.ix[valid_index]\n",
    "tmp_train  = combined_train.ix[train_index]"
   ]
  },
  {
   "cell_type": "code",
   "execution_count": 77,
   "metadata": {
    "collapsed": true
   },
   "outputs": [],
   "source": [
    "y = tmp_train[dep_var_name].values\n",
    "X = tmp_train.drop(dep_var_name, axis=1)\n",
    "\n",
    "valid_y = valid_data[dep_var_name].values\n",
    "valid_X = valid_data.drop(dep_var_name, axis=1)"
   ]
  },
  {
   "cell_type": "code",
   "execution_count": 78,
   "metadata": {
    "collapsed": false
   },
   "outputs": [
    {
     "name": "stdout",
     "output_type": "stream",
     "text": [
      "(356921, 95) (152965, 95)\n"
     ]
    }
   ],
   "source": [
    "print X.shape, valid_X.shape"
   ]
  },
  {
   "cell_type": "code",
   "execution_count": 79,
   "metadata": {
    "collapsed": true
   },
   "outputs": [],
   "source": [
    "C = 0.01"
   ]
  },
  {
   "cell_type": "code",
   "execution_count": 80,
   "metadata": {
    "collapsed": false
   },
   "outputs": [
    {
     "data": {
      "text/plain": [
       "LogisticRegression(C=0.01, class_weight='balanced', dual=False,\n",
       "          fit_intercept=True, intercept_scaling=1, max_iter=100,\n",
       "          multi_class='ovr', n_jobs=-1, penalty='l2', random_state=None,\n",
       "          solver='liblinear', tol=0.0001, verbose=0, warm_start=False)"
      ]
     },
     "execution_count": 80,
     "metadata": {},
     "output_type": "execute_result"
    }
   ],
   "source": [
    "start_time = time.time()\n",
    "LR_clf = LogisticRegression(C = C, class_weight='balanced', n_jobs = -1, penalty='l2')\n",
    "LR_clf.fit(X, y)\n",
    "print 'finish training LR model using {} seconds'.format(round(time.time() - start_time, 0))"
   ]
  },
  {
   "cell_type": "code",
   "execution_count": 81,
   "metadata": {
    "collapsed": false
   },
   "outputs": [
    {
     "name": "stdout",
     "output_type": "stream",
     "text": [
      "result from using constant fraction: \n",
      "mean of groud truth: 0.00641323178505\n",
      "threshold for preds: 0.907512666314\n",
      "0.079724974269\n",
      "\n",
      " \n",
      "\n",
      "result from using flexsible threshold: (0.10051449974313409, 0.7422325440755092)\n"
     ]
    }
   ],
   "source": [
    "pred = LR_clf.predict_proba(valid_X)[:, 1]\n",
    "\n",
    "print 'result from using constant fraction: \\n', score_MCC(valid_y, pred)\n",
    "print '\\n \\n'\n",
    "print 'result from using flexsible threshold:', CombinedModel.mcc_eval_func(valid_y, pred)"
   ]
  },
  {
   "cell_type": "code",
   "execution_count": 82,
   "metadata": {
    "collapsed": true
   },
   "outputs": [],
   "source": [
    "coef_l1_LR = LR_clf.coef_.ravel()"
   ]
  },
  {
   "cell_type": "code",
   "execution_count": 83,
   "metadata": {
    "collapsed": false
   },
   "outputs": [
    {
     "data": {
      "text/plain": [
       "95"
      ]
     },
     "execution_count": 83,
     "metadata": {},
     "output_type": "execute_result"
    }
   ],
   "source": [
    "len(coef_l1_LR)"
   ]
  },
  {
   "cell_type": "code",
   "execution_count": 89,
   "metadata": {
    "collapsed": false,
    "scrolled": true
   },
   "outputs": [
    {
     "data": {
      "text/plain": [
       "(array([  3.,   0.,   3.,   3.,   4.,  40.,   1.,   1.,  26.,   1.,   0.,\n",
       "          0.,   0.,   1.,   2.,   1.,   2.,   2.,   0.,   0.,   0.,   0.,\n",
       "          0.,   0.,   1.,   1.,   0.,   0.,   0.,   0.,   0.,   0.,   0.,\n",
       "          0.,   0.,   0.,   0.,   0.,   2.,   0.,   0.,   0.,   0.,   0.,\n",
       "          0.,   0.,   0.,   0.,   0.,   1.]),\n",
       " array([-0.4058657 , -0.35781755, -0.3097694 , -0.26172125, -0.2136731 ,\n",
       "        -0.16562494, -0.11757679, -0.06952864, -0.02148049,  0.02656766,\n",
       "         0.07461581,  0.12266396,  0.17071211,  0.21876026,  0.26680842,\n",
       "         0.31485657,  0.36290472,  0.41095287,  0.45900102,  0.50704917,\n",
       "         0.55509732,  0.60314547,  0.65119362,  0.69924178,  0.74728993,\n",
       "         0.79533808,  0.84338623,  0.89143438,  0.93948253,  0.98753068,\n",
       "         1.03557883,  1.08362698,  1.13167513,  1.17972329,  1.22777144,\n",
       "         1.27581959,  1.32386774,  1.37191589,  1.41996404,  1.46801219,\n",
       "         1.51606034,  1.56410849,  1.61215665,  1.6602048 ,  1.70825295,\n",
       "         1.7563011 ,  1.80434925,  1.8523974 ,  1.90044555,  1.9484937 ,\n",
       "         1.99654185]),\n",
       " <a list of 50 Patch objects>)"
      ]
     },
     "execution_count": 89,
     "metadata": {},
     "output_type": "execute_result"
    },
    {
     "data": {
      "image/png": "[encoded data removed]",
      "text/plain": [
       "<matplotlib.figure.Figure at 0x7ff642688210>"
      ]
     },
     "metadata": {},
     "output_type": "display_data"
    }
   ],
   "source": [
    "plt.hist(coef_l1_LR, bins=50)"
   ]
  },
  {
   "cell_type": "code",
   "execution_count": 99,
   "metadata": {
    "collapsed": false
   },
   "outputs": [
    {
     "data": {
      "text/plain": [
       "(array([ 26.,   1.,   1.,   1.,   1.,  37.,   2.,   3.,   2.,   2.,   2.,\n",
       "          4.,   0.,   1.,   1.,   2.,   3.,   1.,   0.,   0.,   0.,   0.,\n",
       "          0.,   0.,   0.,   0.,   0.,   0.,   0.,   0.,   0.,   1.,   1.,\n",
       "          0.,   0.,   0.,   0.,   0.,   0.,   0.,   0.,   0.,   0.,   0.,\n",
       "          0.,   0.,   0.,   0.,   0.,   0.,   0.,   0.,   0.,   0.,   0.,\n",
       "          0.,   1.,   1.,   0.,   0.,   0.,   0.,   0.,   0.,   0.,   0.,\n",
       "          0.,   0.,   0.,   0.,   0.,   0.,   0.,   0.,   0.,   0.,   0.,\n",
       "          0.,   0.,   1.]),\n",
       " array([  1.04347182e-04,   2.50598160e-02,   5.00152849e-02,\n",
       "          7.49707537e-02,   9.99262225e-02,   1.24881691e-01,\n",
       "          1.49837160e-01,   1.74792629e-01,   1.99748098e-01,\n",
       "          2.24703567e-01,   2.49659036e-01,   2.74614504e-01,\n",
       "          2.99569973e-01,   3.24525442e-01,   3.49480911e-01,\n",
       "          3.74436380e-01,   3.99391849e-01,   4.24347317e-01,\n",
       "          4.49302786e-01,   4.74258255e-01,   4.99213724e-01,\n",
       "          5.24169193e-01,   5.49124662e-01,   5.74080130e-01,\n",
       "          5.99035599e-01,   6.23991068e-01,   6.48946537e-01,\n",
       "          6.73902006e-01,   6.98857475e-01,   7.23812943e-01,\n",
       "          7.48768412e-01,   7.73723881e-01,   7.98679350e-01,\n",
       "          8.23634819e-01,   8.48590288e-01,   8.73545756e-01,\n",
       "          8.98501225e-01,   9.23456694e-01,   9.48412163e-01,\n",
       "          9.73367632e-01,   9.98323101e-01,   1.02327857e+00,\n",
       "          1.04823404e+00,   1.07318951e+00,   1.09814498e+00,\n",
       "          1.12310044e+00,   1.14805591e+00,   1.17301138e+00,\n",
       "          1.19796685e+00,   1.22292232e+00,   1.24787779e+00,\n",
       "          1.27283326e+00,   1.29778873e+00,   1.32274420e+00,\n",
       "          1.34769966e+00,   1.37265513e+00,   1.39761060e+00,\n",
       "          1.42256607e+00,   1.44752154e+00,   1.47247701e+00,\n",
       "          1.49743248e+00,   1.52238795e+00,   1.54734341e+00,\n",
       "          1.57229888e+00,   1.59725435e+00,   1.62220982e+00,\n",
       "          1.64716529e+00,   1.67212076e+00,   1.69707623e+00,\n",
       "          1.72203170e+00,   1.74698717e+00,   1.77194263e+00,\n",
       "          1.79689810e+00,   1.82185357e+00,   1.84680904e+00,\n",
       "          1.87176451e+00,   1.89671998e+00,   1.92167545e+00,\n",
       "          1.94663092e+00,   1.97158639e+00,   1.99654185e+00]),\n",
       " <a list of 80 Patch objects>)"
      ]
     },
     "execution_count": 99,
     "metadata": {},
     "output_type": "execute_result"
    },
    {
     "data": {
      "image/png": "[encoded data removed]",
      "text/plain": [
       "<matplotlib.figure.Figure at 0x7ff6422f3dd0>"
      ]
     },
     "metadata": {},
     "output_type": "display_data"
    }
   ],
   "source": [
    "plt.hist(abs(coef_l1_LR), bins=80)"
   ]
  },
  {
   "cell_type": "code",
   "execution_count": 90,
   "metadata": {
    "collapsed": false
   },
   "outputs": [
    {
     "name": "stdout",
     "output_type": "stream",
     "text": [
      "41 40\n"
     ]
    }
   ],
   "source": [
    "print np.argmax(coef_l1_LR), np.argmin(coef_l1_LR)"
   ]
  },
  {
   "cell_type": "code",
   "execution_count": 91,
   "metadata": {
    "collapsed": true
   },
   "outputs": [],
   "source": [
    "sorted_index = np.argsort(abs(coef_l1_LR))"
   ]
  },
  {
   "cell_type": "code",
   "execution_count": 104,
   "metadata": {
    "collapsed": false
   },
   "outputs": [
    {
     "data": {
      "text/plain": [
       "array([ 0.25730656, -0.27214237,  0.27717454, -0.28075841,  0.28671067,\n",
       "       -0.2958737 ,  0.33863482,  0.36509587, -0.3821762 ,  0.38715437,\n",
       "       -0.40161981, -0.4058657 ,  0.41581182,  0.44451443,  0.77817978,\n",
       "        0.80855061,  1.4200994 ,  1.44046263,  1.99654185])"
      ]
     },
     "execution_count": 104,
     "metadata": {},
     "output_type": "execute_result"
    }
   ],
   "source": [
    "coef_l1_LR[sorted_index][-19:]"
   ]
  },
  {
   "cell_type": "code",
   "execution_count": 94,
   "metadata": {
    "collapsed": false
   },
   "outputs": [
    {
     "name": "stdout",
     "output_type": "stream",
     "text": [
      "(356921, 95)\n"
     ]
    }
   ],
   "source": [
    "## data used in model training\n",
    "print X.shape"
   ]
  },
  {
   "cell_type": "code",
   "execution_count": 105,
   "metadata": {
    "collapsed": false,
    "scrolled": true
   },
   "outputs": [
    {
     "data": {
      "text/plain": [
       "Index([u'L3_S38_F3952', u'L0_S23_F619', u'L1_S25_F1855', u'L1_S25_F2799',\n",
       "       u'L3_S29_F3379', u'L1_S24_F1808', u'L1_S24_F679', u'L1_S25_F2498',\n",
       "       u'L1_S24_F1118', u'L3_S49_F4206', u'L0_S22_F546', u'L3_S31_F3834',\n",
       "       u'L3_S29_F3464', u'L3_S50_F4243', u'L2_S28_F3222', u'L1_S25_F2231',\n",
       "       u'L1_S24_F1581', u'L1_S24_F1672', u'L3_S32_F3850'],\n",
       "      dtype='object')"
      ]
     },
     "execution_count": 105,
     "metadata": {},
     "output_type": "execute_result"
    }
   ],
   "source": [
    "X.columns[sorted_index[-19:]]"
   ]
  },
  {
   "cell_type": "code",
   "execution_count": 100,
   "metadata": {
    "collapsed": false
   },
   "outputs": [
    {
     "data": {
      "text/plain": [
       "Index([u'L0_S22_D543', u'L1_S24_D677', u'L3_S38_D3953', u'L3_S35_D3886',\n",
       "       u'L1_S25_D2206', u'L1_S25_D1854', u'L2_S26_D3037', u'L1_S25_D2180',\n",
       "       u'L1_S25_D2879', u'L3_S32_D3852', u'L1_S25_D2801', u'L2_S27_D3130',\n",
       "       u'L2_S28_D3223', u'L1_S25_D2957', u'L1_S25_D2471', u'L1_S24_D1116',\n",
       "       u'L1_S24_D1511', u'L1_S25_D2230', u'L0_S1_D26', u'L1_S25_D2754',\n",
       "       u'L3_S39_D3966', u'L0_S12_D331', u'L3_S29_D3316', u'L1_S25_D2497',\n",
       "       u'L3_S31_D3836', u'L1_S25_F2960', u'L3_S30_F3564', u'L1_S25_F2877',\n",
       "       u'L1_S25_F2755', u'L0_S1_F24', u'L0_S0_D7', u'L0_S0_D13', u'L0_S0_D9',\n",
       "       u'L0_S0_D11', u'L0_S0_D15', u'L0_S0_F0', u'L0_S0_D19', u'L0_S0_D21',\n",
       "       u'L0_S0_D23', u'L1_S24_D1158', u'L0_S0_D5', u'L0_S0_D17', u'L0_S0_D3',\n",
       "       u'L0_S0_D1', u'L3_S46_D4135', u'L0_S0_F20', u'L0_S0_F18', u'L0_S0_F16',\n",
       "       u'L0_S0_F14', u'L0_S0_F12', u'L0_S0_F10', u'L0_S0_F8', u'L0_S0_F6',\n",
       "       u'L0_S0_F22', u'L0_S0_F4', u'L0_S0_F2', u'L3_S42_D4045',\n",
       "       u'L3_S42_D4057', u'L3_S42_D4049', u'L3_S42_D4053', u'L1_S24_D1562',\n",
       "       u'L3_S42_D4029', u'L3_S42_D4033', u'L3_S42_D4037', u'L3_S42_D4041',\n",
       "       u'L1_S25_F2181', u'L3_S29_F3315', u'L3_S44_F4100', u'L3_S35_F3884',\n",
       "       u'L0_S12_F330', u'L1_S25_F2472', u'L2_S27_F3129', u'L1_S25_F2207',\n",
       "       u'L0_S21_F472', u'L1_S24_F1763', u'L1_S25_F3003', u'L3_S38_F3952',\n",
       "       u'L0_S23_F619', u'L1_S25_F1855', u'L1_S25_F2799', u'L3_S29_F3379',\n",
       "       u'L1_S24_F1808', u'L1_S24_F679', u'L1_S25_F2498', u'L1_S24_F1118',\n",
       "       u'L3_S49_F4206', u'L0_S22_F546', u'L3_S31_F3834', u'L3_S29_F3464',\n",
       "       u'L3_S50_F4243', u'L2_S28_F3222', u'L1_S25_F2231', u'L1_S24_F1581',\n",
       "       u'L1_S24_F1672', u'L3_S32_F3850'],\n",
       "      dtype='object')"
      ]
     },
     "execution_count": 100,
     "metadata": {},
     "output_type": "execute_result"
    }
   ],
   "source": [
    "X.columns[sorted_index]"
   ]
  },
  {
   "cell_type": "code",
   "execution_count": 86,
   "metadata": {
    "collapsed": false
   },
   "outputs": [
    {
     "name": "stdout",
     "output_type": "stream",
     "text": [
      "L3_S32_F3850 L0_S8_F144\n"
     ]
    }
   ],
   "source": [
    "print tmp_train_num.columns[np.argmax(coef_l1_LR)], tmp_train_num.columns[np.argmin(coef_l1_LR)]"
   ]
  },
  {
   "cell_type": "code",
   "execution_count": 101,
   "metadata": {
    "collapsed": false
   },
   "outputs": [
    {
     "data": {
      "text/plain": [
       "Index([u'L3_S31_F3834', u'L1_S25_F1855', u'L0_S8_F144', u'L0_S8_F146',\n",
       "       u'L3_S32_F3850'],\n",
       "      dtype='object')"
      ]
     },
     "execution_count": 101,
     "metadata": {},
     "output_type": "execute_result"
    }
   ],
   "source": [
    "tmp_train_num.columns[sorted_index[-5:]]"
   ]
  },
  {
   "cell_type": "code",
   "execution_count": 98,
   "metadata": {
    "collapsed": false
   },
   "outputs": [
    {
     "data": {
      "text/plain": [
       " 0.000    671682\n",
       "-1.000       835\n",
       " 0.011       663\n",
       " 0.021       225\n",
       " 0.032       132\n",
       " 0.042        70\n",
       " 0.053        49\n",
       " 0.064        41\n",
       " 0.074        30\n",
       " 0.085        23\n",
       " 0.128        18\n",
       " 0.096        17\n",
       " 0.117        14\n",
       " 0.106        12\n",
       " 0.138        10\n",
       " 0.149         7\n",
       " 0.181         5\n",
       " 0.160         4\n",
       " 0.170         3\n",
       " 0.202         3\n",
       " 0.468         2\n",
       " 0.425         2\n",
       " 0.415         2\n",
       " 0.362         1\n",
       " 0.191         1\n",
       " 0.691         1\n",
       " 1.000         1\n",
       " 0.372         1\n",
       " 0.383         1\n",
       " 0.777         1\n",
       " 0.330         1\n",
       " 0.457         1\n",
       " 0.436         1\n",
       " 0.564         1\n",
       " 0.628         1\n",
       "Name: L0_S8_F146, dtype: int64"
      ]
     },
     "execution_count": 98,
     "metadata": {},
     "output_type": "execute_result"
    }
   ],
   "source": [
    "tmp_train_num['L0_S8_F146'].value_counts()"
   ]
  },
  {
   "cell_type": "code",
   "execution_count": 108,
   "metadata": {
    "collapsed": false
   },
   "outputs": [
    {
     "data": {
      "text/plain": [
       "<matplotlib.image.AxesImage at 0x7ff641e7e5d0>"
      ]
     },
     "execution_count": 108,
     "metadata": {},
     "output_type": "execute_result"
    },
    {
     "data": {
      "image/png": "[encoded data removed]",
      "text/plain": [
       "<matplotlib.figure.Figure at 0x7ff641f9e0d0>"
      ]
     },
     "metadata": {},
     "output_type": "display_data"
    }
   ],
   "source": [
    "import matplotlib.pyplot as plt\n",
    "plt.imshow(np.abs(coef_l1_LR.reshape(5, 19)), interpolation='nearest',\n",
    "                   cmap='binary', vmax=1, vmin=0)"
   ]
  },
  {
   "cell_type": "code",
   "execution_count": null,
   "metadata": {
    "collapsed": true
   },
   "outputs": [],
   "source": []
  },
  {
   "cell_type": "code",
   "execution_count": null,
   "metadata": {
    "collapsed": true
   },
   "outputs": [],
   "source": []
  }
 ],
 "metadata": {
  "kernelspec": {
   "display_name": "Python 2",
   "language": "python",
   "name": "python2"
  },
  "language_info": {
   "codemirror_mode": {
    "name": "ipython",
    "version": 2
   },
   "file_extension": ".py",
   "mimetype": "text/x-python",
   "name": "python",
   "nbconvert_exporter": "python",
   "pygments_lexer": "ipython2",
   "version": "2.7.6"
  }
 },
 "nbformat": 4,
 "nbformat_minor": 0
}
