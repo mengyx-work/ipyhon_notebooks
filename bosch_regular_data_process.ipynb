{
 "cells": [
  {
   "cell_type": "code",
   "execution_count": 1,
   "metadata": {
    "collapsed": false,
    "scrolled": true
   },
   "outputs": [],
   "source": [
    "%matplotlib inline\n",
    "\n",
    "import os, sys, time\n",
    "import pandas as pd\n",
    "import numpy as np\n",
    "from os.path import join\n",
    "\n",
    "sys.path.append('/home/ymm/kaggle/xgboost_hyperopt')\n",
    "import utils.bosch_functions as bosch_functions\n",
    "\n",
    "data_path = '/home/ymm/bosch/'\n",
    "\n",
    "train_num_file   = 'train_numeric.csv'\n",
    "train_cat_file   = 'train_categorical.csv'\n",
    "train_date_file  = 'train_date.csv'\n",
    "test_num_file    = 'test_numeric.csv'\n",
    "test_cat_file    = 'test_categorical.csv'\n",
    "test_date_file   = 'test_date.csv'\n",
    "\n",
    "sample_submission_file   = 'sample_submission.csv'\n",
    "\n",
    "\n",
    "start_time_column_name = 'L0_S0_D1'\n",
    "id_column_name = 'Id'\n",
    "dep_var_name = 'Response'"
   ]
  },
  {
   "cell_type": "code",
   "execution_count": 2,
   "metadata": {
    "collapsed": false
   },
   "outputs": [
    {
     "name": "stdout",
     "output_type": "stream",
     "text": [
      "data loading takes  61.9  seconds.\n"
     ]
    }
   ],
   "source": [
    "nrows = 10000\n",
    "bin_num = 1 ## number of bins to separate data by start_time\n",
    "tmp_train, tmp_test, bins, bin_names = bosch_functions.create_grouped_index_df(bin_num)"
   ]
  },
  {
   "cell_type": "code",
   "execution_count": 3,
   "metadata": {
    "collapsed": true
   },
   "outputs": [],
   "source": [
    "## create the skipped row numbers\n",
    "none_selected_window_num = [np.NaN]\n",
    "skipped_test_row_num = tmp_test.loc[tmp_test['time_window_num'].isin(none_selected_window_num), 'row_num'].tolist()\n",
    "skipped_train_row_num = tmp_train.loc[tmp_train['time_window_num'].isin(none_selected_window_num), 'row_num'].tolist()\n",
    "\n",
    "train_cat_cols  = pd.read_csv(join(data_path, train_cat_file), index_col=id_column_name, nrows=0)\n",
    "train_date_cols = pd.read_csv(join(data_path, train_date_file), index_col=id_column_name, nrows=0)\n",
    "train_num_cols  = pd.read_csv(join(data_path, train_num_file), index_col=id_column_name, nrows=0)\n",
    "\n",
    "### section to obtain the feature impotance from xgboost model\n",
    "#bin_0_data_path = '/home/ymm/kaggle/bosch/data_2_bins_xgb_combined_models/data_bin_0_models'\n",
    "#bin_1_data_path = '/home/ymm/kaggle/bosch/data_2_bins_xgb_combined_models/data_bin_1_models'\n",
    "#bin_0_selected_col_names = collect_feature_names(bin_0_data_path, 'feature', 'fscore', 10)\n",
    "#bin_1_selected_col_names = collect_feature_names(bin_1_data_path, 'feature', 'fscore', 10)\n",
    "\n",
    "regular_data_path = '/home/ymm/kaggle/bosch/data_1_bins_cross_fit_xgb_models/data_bin_0_models'"
   ]
  },
  {
   "cell_type": "code",
   "execution_count": 24,
   "metadata": {
    "collapsed": false
   },
   "outputs": [],
   "source": [
    "def collect_feature_names(data_path, fea_name='feature', thres_name = None, thres = 10):\n",
    "    csv_files = [f for f in os.listdir(data_path) if '.csv' in f]\n",
    "    feature_names = set()\n",
    "    for file_name in csv_files:\n",
    "        data = pd.read_csv(join(data_path, file_name), index_col=0)\n",
    "        if thres_name is None:\n",
    "            feature_names = feature_names.union(data[fea_name])\n",
    "        else:\n",
    "            feature_names = feature_names.union(data.loc[data[thres_name] > thres, fea_name])\n",
    "\n",
    "    return feature_names\n",
    "\n",
    "## collect feature names based on the fscore\n",
    "\n",
    "bin_regular_selected_col_name = collect_feature_names(regular_data_path, 'feature', 'fscore', 10)\n",
    "\n",
    "selected_cat_col_names =  train_cat_cols.columns[train_cat_cols.columns.isin(bin_regular_selected_col_name)].tolist()\n",
    "selected_num_col_names =  train_num_cols.columns[train_num_cols.columns.isin(bin_regular_selected_col_name)].tolist()\n",
    "selected_dat_col_names =  train_date_cols.columns[train_date_cols.columns.isin(bin_regular_selected_col_name)].tolist()\n",
    "test_num_col_names     =  selected_num_col_names[:]\n",
    "selected_dat_col_names.extend([id_column_name, start_time_column_name])\n",
    "selected_cat_col_names.extend([id_column_name])\n",
    "selected_num_col_names.extend([id_column_name, dep_var_name])\n",
    "test_num_col_names.extend([id_column_name])"
   ]
  },
  {
   "cell_type": "code",
   "execution_count": 29,
   "metadata": {
    "collapsed": false
   },
   "outputs": [
    {
     "name": "stdout",
     "output_type": "stream",
     "text": [
      "292 293\n"
     ]
    }
   ],
   "source": [
    "print len(test_num_col_names), len(selected_num_col_names)"
   ]
  },
  {
   "cell_type": "code",
   "execution_count": 30,
   "metadata": {
    "collapsed": false
   },
   "outputs": [
    {
     "name": "stdout",
     "output_type": "stream",
     "text": [
      "finish reading data by columns selected using xgboost feature importance, using 152.64 seconds.\n"
     ]
    }
   ],
   "source": [
    "start_time = time.time()\n",
    "train_cat  = pd.read_csv(join(data_path, train_cat_file),   index_col='Id', skiprows=skipped_train_row_num, usecols=selected_cat_col_names)\n",
    "test_cat   = pd.read_csv(join(data_path, test_cat_file),    index_col='Id', skiprows=skipped_test_row_num,  usecols=selected_cat_col_names)\n",
    "train_dat  = pd.read_csv(join(data_path, train_date_file),  index_col='Id', skiprows=skipped_train_row_num, usecols=selected_dat_col_names)\n",
    "test_dat   = pd.read_csv(join(data_path, test_date_file),   index_col='Id', skiprows=skipped_test_row_num,  usecols=selected_dat_col_names)\n",
    "train_num  = pd.read_csv(join(data_path, train_num_file),   index_col='Id', skiprows=skipped_train_row_num, usecols=selected_num_col_names)\n",
    "test_num   = pd.read_csv(join(data_path, test_num_file),    index_col='Id', skiprows=skipped_test_row_num,  usecols=test_num_col_names)\n",
    "\n",
    "print 'finish reading data by columns selected using xgboost feature importance, using {} seconds.'.format(round(time.time() - start_time, 2))"
   ]
  },
  {
   "cell_type": "code",
   "execution_count": 21,
   "metadata": {
    "collapsed": false
   },
   "outputs": [
    {
     "data": {
      "text/plain": [
       "292"
      ]
     },
     "execution_count": 21,
     "metadata": {},
     "output_type": "execute_result"
    }
   ],
   "source": [
    "len(selected_num_col_names)"
   ]
  },
  {
   "cell_type": "code",
   "execution_count": 31,
   "metadata": {
    "collapsed": false
   },
   "outputs": [
    {
     "name": "stdout",
     "output_type": "stream",
     "text": [
      "(673861, 12) (673861, 292) (673861, 67)\n"
     ]
    }
   ],
   "source": [
    "print train_cat.shape, train_num.shape, train_dat.shape"
   ]
  },
  {
   "cell_type": "code",
   "execution_count": 32,
   "metadata": {
    "collapsed": false,
    "scrolled": true
   },
   "outputs": [
    {
     "name": "stdout",
     "output_type": "stream",
     "text": [
      "(674503, 12) (674503, 291) (674503, 67)\n"
     ]
    }
   ],
   "source": [
    "print test_cat.shape, test_num.shape, test_dat.shape"
   ]
  },
  {
   "cell_type": "markdown",
   "metadata": {
    "collapsed": true
   },
   "source": [
    "### process the date features"
   ]
  },
  {
   "cell_type": "code",
   "execution_count": 8,
   "metadata": {
    "collapsed": true
   },
   "outputs": [],
   "source": [
    "tmp_train_date = train_dat.copy()"
   ]
  },
  {
   "cell_type": "code",
   "execution_count": 9,
   "metadata": {
    "collapsed": false
   },
   "outputs": [],
   "source": [
    "## the date features are extremely high-correlated \n",
    "#train_dat.corr()"
   ]
  },
  {
   "cell_type": "code",
   "execution_count": 10,
   "metadata": {
    "collapsed": false
   },
   "outputs": [
    {
     "name": "stdout",
     "output_type": "stream",
     "text": [
      "finish substract start_time using 0.46 seconds\n"
     ]
    }
   ],
   "source": [
    "start_time = time.time()\n",
    "tmp_train_date['start_time'] = tmp_train_date[start_time_column_name]\n",
    "for column in tmp_train_date.columns:\n",
    "    if column != 'start_time':\n",
    "        tmp_train_date[column] = tmp_train_date[column] - tmp_train_date['start_time']\n",
    "print 'finish substract start_time using {} seconds'.format(round(time.time() - start_time, 2))"
   ]
  },
  {
   "cell_type": "code",
   "execution_count": 11,
   "metadata": {
    "collapsed": false
   },
   "outputs": [
    {
     "name": "stdout",
     "output_type": "stream",
     "text": [
      "finish substract start_time using 0.75 seconds\n"
     ]
    }
   ],
   "source": [
    "start_time = time.time()\n",
    "tmp_test_date = test_dat.copy()\n",
    "tmp_test_date['start_time'] = tmp_test_date[start_time_column_name]\n",
    "for column in tmp_train_date.columns:\n",
    "    if column != 'start_time':\n",
    "        tmp_test_date[column] = tmp_test_date[column] - tmp_test_date['start_time']\n",
    "print 'finish substract start_time using {} seconds'.format(round(time.time() - start_time, 2))"
   ]
  },
  {
   "cell_type": "code",
   "execution_count": 12,
   "metadata": {
    "collapsed": false
   },
   "outputs": [
    {
     "name": "stdout",
     "output_type": "stream",
     "text": [
      "(674503, 68)\n"
     ]
    },
    {
     "data": {
      "text/html": [
       "<div>\n",
       "<table border=\"1\" class=\"dataframe\">\n",
       "  <thead>\n",
       "    <tr style=\"text-align: right;\">\n",
       "      <th></th>\n",
       "      <th>L0_S0_D1</th>\n",
       "      <th>L0_S1_D26</th>\n",
       "      <th>L0_S2_D34</th>\n",
       "      <th>L0_S3_D70</th>\n",
       "      <th>L0_S3_D74</th>\n",
       "      <th>L0_S4_D106</th>\n",
       "      <th>L0_S4_D111</th>\n",
       "      <th>L0_S5_D115</th>\n",
       "      <th>L0_S5_D117</th>\n",
       "      <th>L0_S6_D120</th>\n",
       "      <th>...</th>\n",
       "      <th>L3_S38_D3961</th>\n",
       "      <th>L3_S39_D3966</th>\n",
       "      <th>L3_S43_D4062</th>\n",
       "      <th>L3_S44_D4101</th>\n",
       "      <th>L3_S47_D4140</th>\n",
       "      <th>L3_S49_D4208</th>\n",
       "      <th>L3_S49_D4213</th>\n",
       "      <th>L3_S50_D4242</th>\n",
       "      <th>L3_S51_D4255</th>\n",
       "      <th>start_time</th>\n",
       "    </tr>\n",
       "    <tr>\n",
       "      <th>Id</th>\n",
       "      <th></th>\n",
       "      <th></th>\n",
       "      <th></th>\n",
       "      <th></th>\n",
       "      <th></th>\n",
       "      <th></th>\n",
       "      <th></th>\n",
       "      <th></th>\n",
       "      <th></th>\n",
       "      <th></th>\n",
       "      <th></th>\n",
       "      <th></th>\n",
       "      <th></th>\n",
       "      <th></th>\n",
       "      <th></th>\n",
       "      <th></th>\n",
       "      <th></th>\n",
       "      <th></th>\n",
       "      <th></th>\n",
       "      <th></th>\n",
       "      <th></th>\n",
       "    </tr>\n",
       "  </thead>\n",
       "  <tbody>\n",
       "    <tr>\n",
       "      <th>5</th>\n",
       "      <td>0.0</td>\n",
       "      <td>0.0</td>\n",
       "      <td>0.01</td>\n",
       "      <td>NaN</td>\n",
       "      <td>NaN</td>\n",
       "      <td>0.03</td>\n",
       "      <td>0.03</td>\n",
       "      <td>NaN</td>\n",
       "      <td>NaN</td>\n",
       "      <td>NaN</td>\n",
       "      <td>...</td>\n",
       "      <td>NaN</td>\n",
       "      <td>NaN</td>\n",
       "      <td>NaN</td>\n",
       "      <td>NaN</td>\n",
       "      <td>NaN</td>\n",
       "      <td>NaN</td>\n",
       "      <td>NaN</td>\n",
       "      <td>NaN</td>\n",
       "      <td>NaN</td>\n",
       "      <td>255.45</td>\n",
       "    </tr>\n",
       "    <tr>\n",
       "      <th>10</th>\n",
       "      <td>0.0</td>\n",
       "      <td>0.0</td>\n",
       "      <td>0.00</td>\n",
       "      <td>NaN</td>\n",
       "      <td>NaN</td>\n",
       "      <td>NaN</td>\n",
       "      <td>NaN</td>\n",
       "      <td>0.03</td>\n",
       "      <td>0.03</td>\n",
       "      <td>NaN</td>\n",
       "      <td>...</td>\n",
       "      <td>NaN</td>\n",
       "      <td>NaN</td>\n",
       "      <td>NaN</td>\n",
       "      <td>NaN</td>\n",
       "      <td>NaN</td>\n",
       "      <td>NaN</td>\n",
       "      <td>NaN</td>\n",
       "      <td>NaN</td>\n",
       "      <td>NaN</td>\n",
       "      <td>907.34</td>\n",
       "    </tr>\n",
       "    <tr>\n",
       "      <th>12</th>\n",
       "      <td>0.0</td>\n",
       "      <td>0.0</td>\n",
       "      <td>NaN</td>\n",
       "      <td>0.0</td>\n",
       "      <td>0.0</td>\n",
       "      <td>0.02</td>\n",
       "      <td>0.02</td>\n",
       "      <td>NaN</td>\n",
       "      <td>NaN</td>\n",
       "      <td>NaN</td>\n",
       "      <td>...</td>\n",
       "      <td>20.64</td>\n",
       "      <td>NaN</td>\n",
       "      <td>NaN</td>\n",
       "      <td>NaN</td>\n",
       "      <td>NaN</td>\n",
       "      <td>NaN</td>\n",
       "      <td>NaN</td>\n",
       "      <td>NaN</td>\n",
       "      <td>NaN</td>\n",
       "      <td>602.64</td>\n",
       "    </tr>\n",
       "    <tr>\n",
       "      <th>15</th>\n",
       "      <td>0.0</td>\n",
       "      <td>0.0</td>\n",
       "      <td>NaN</td>\n",
       "      <td>0.0</td>\n",
       "      <td>0.0</td>\n",
       "      <td>NaN</td>\n",
       "      <td>NaN</td>\n",
       "      <td>0.01</td>\n",
       "      <td>0.01</td>\n",
       "      <td>0.02</td>\n",
       "      <td>...</td>\n",
       "      <td>NaN</td>\n",
       "      <td>NaN</td>\n",
       "      <td>NaN</td>\n",
       "      <td>NaN</td>\n",
       "      <td>NaN</td>\n",
       "      <td>NaN</td>\n",
       "      <td>NaN</td>\n",
       "      <td>NaN</td>\n",
       "      <td>NaN</td>\n",
       "      <td>575.68</td>\n",
       "    </tr>\n",
       "    <tr>\n",
       "      <th>20</th>\n",
       "      <td>0.0</td>\n",
       "      <td>0.0</td>\n",
       "      <td>0.01</td>\n",
       "      <td>NaN</td>\n",
       "      <td>NaN</td>\n",
       "      <td>0.02</td>\n",
       "      <td>0.02</td>\n",
       "      <td>NaN</td>\n",
       "      <td>NaN</td>\n",
       "      <td>NaN</td>\n",
       "      <td>...</td>\n",
       "      <td>NaN</td>\n",
       "      <td>NaN</td>\n",
       "      <td>NaN</td>\n",
       "      <td>NaN</td>\n",
       "      <td>NaN</td>\n",
       "      <td>NaN</td>\n",
       "      <td>NaN</td>\n",
       "      <td>NaN</td>\n",
       "      <td>NaN</td>\n",
       "      <td>271.42</td>\n",
       "    </tr>\n",
       "  </tbody>\n",
       "</table>\n",
       "<p>5 rows × 68 columns</p>\n",
       "</div>"
      ],
      "text/plain": [
       "    L0_S0_D1  L0_S1_D26  L0_S2_D34  L0_S3_D70  L0_S3_D74  L0_S4_D106  \\\n",
       "Id                                                                     \n",
       "5        0.0        0.0       0.01        NaN        NaN        0.03   \n",
       "10       0.0        0.0       0.00        NaN        NaN         NaN   \n",
       "12       0.0        0.0        NaN        0.0        0.0        0.02   \n",
       "15       0.0        0.0        NaN        0.0        0.0         NaN   \n",
       "20       0.0        0.0       0.01        NaN        NaN        0.02   \n",
       "\n",
       "    L0_S4_D111  L0_S5_D115  L0_S5_D117  L0_S6_D120     ...      L3_S38_D3961  \\\n",
       "Id                                                     ...                     \n",
       "5         0.03         NaN         NaN         NaN     ...               NaN   \n",
       "10         NaN        0.03        0.03         NaN     ...               NaN   \n",
       "12        0.02         NaN         NaN         NaN     ...             20.64   \n",
       "15         NaN        0.01        0.01        0.02     ...               NaN   \n",
       "20        0.02         NaN         NaN         NaN     ...               NaN   \n",
       "\n",
       "    L3_S39_D3966  L3_S43_D4062  L3_S44_D4101  L3_S47_D4140  L3_S49_D4208  \\\n",
       "Id                                                                         \n",
       "5            NaN           NaN           NaN           NaN           NaN   \n",
       "10           NaN           NaN           NaN           NaN           NaN   \n",
       "12           NaN           NaN           NaN           NaN           NaN   \n",
       "15           NaN           NaN           NaN           NaN           NaN   \n",
       "20           NaN           NaN           NaN           NaN           NaN   \n",
       "\n",
       "    L3_S49_D4213  L3_S50_D4242  L3_S51_D4255  start_time  \n",
       "Id                                                        \n",
       "5            NaN           NaN           NaN      255.45  \n",
       "10           NaN           NaN           NaN      907.34  \n",
       "12           NaN           NaN           NaN      602.64  \n",
       "15           NaN           NaN           NaN      575.68  \n",
       "20           NaN           NaN           NaN      271.42  \n",
       "\n",
       "[5 rows x 68 columns]"
      ]
     },
     "execution_count": 12,
     "metadata": {},
     "output_type": "execute_result"
    }
   ],
   "source": [
    "print tmp_test_date.shape\n",
    "tmp_test_date.head()"
   ]
  },
  {
   "cell_type": "code",
   "execution_count": 13,
   "metadata": {
    "collapsed": false,
    "scrolled": false
   },
   "outputs": [
    {
     "name": "stdout",
     "output_type": "stream",
     "text": [
      "(673861, 68)\n"
     ]
    },
    {
     "data": {
      "text/html": [
       "<div>\n",
       "<table border=\"1\" class=\"dataframe\">\n",
       "  <thead>\n",
       "    <tr style=\"text-align: right;\">\n",
       "      <th></th>\n",
       "      <th>L0_S0_D1</th>\n",
       "      <th>L0_S1_D26</th>\n",
       "      <th>L0_S2_D34</th>\n",
       "      <th>L0_S3_D70</th>\n",
       "      <th>L0_S3_D74</th>\n",
       "      <th>L0_S4_D106</th>\n",
       "      <th>L0_S4_D111</th>\n",
       "      <th>L0_S5_D115</th>\n",
       "      <th>L0_S5_D117</th>\n",
       "      <th>L0_S6_D120</th>\n",
       "      <th>...</th>\n",
       "      <th>L3_S38_D3961</th>\n",
       "      <th>L3_S39_D3966</th>\n",
       "      <th>L3_S43_D4062</th>\n",
       "      <th>L3_S44_D4101</th>\n",
       "      <th>L3_S47_D4140</th>\n",
       "      <th>L3_S49_D4208</th>\n",
       "      <th>L3_S49_D4213</th>\n",
       "      <th>L3_S50_D4242</th>\n",
       "      <th>L3_S51_D4255</th>\n",
       "      <th>start_time</th>\n",
       "    </tr>\n",
       "    <tr>\n",
       "      <th>Id</th>\n",
       "      <th></th>\n",
       "      <th></th>\n",
       "      <th></th>\n",
       "      <th></th>\n",
       "      <th></th>\n",
       "      <th></th>\n",
       "      <th></th>\n",
       "      <th></th>\n",
       "      <th></th>\n",
       "      <th></th>\n",
       "      <th></th>\n",
       "      <th></th>\n",
       "      <th></th>\n",
       "      <th></th>\n",
       "      <th></th>\n",
       "      <th></th>\n",
       "      <th></th>\n",
       "      <th></th>\n",
       "      <th></th>\n",
       "      <th></th>\n",
       "      <th></th>\n",
       "    </tr>\n",
       "  </thead>\n",
       "  <tbody>\n",
       "    <tr>\n",
       "      <th>4</th>\n",
       "      <td>0.0</td>\n",
       "      <td>0.0</td>\n",
       "      <td>0.00</td>\n",
       "      <td>NaN</td>\n",
       "      <td>NaN</td>\n",
       "      <td>0.02</td>\n",
       "      <td>0.02</td>\n",
       "      <td>NaN</td>\n",
       "      <td>NaN</td>\n",
       "      <td>NaN</td>\n",
       "      <td>...</td>\n",
       "      <td>NaN</td>\n",
       "      <td>NaN</td>\n",
       "      <td>NaN</td>\n",
       "      <td>NaN</td>\n",
       "      <td>NaN</td>\n",
       "      <td>NaN</td>\n",
       "      <td>NaN</td>\n",
       "      <td>NaN</td>\n",
       "      <td>NaN</td>\n",
       "      <td>82.24</td>\n",
       "    </tr>\n",
       "    <tr>\n",
       "      <th>7</th>\n",
       "      <td>0.0</td>\n",
       "      <td>0.0</td>\n",
       "      <td>0.00</td>\n",
       "      <td>NaN</td>\n",
       "      <td>NaN</td>\n",
       "      <td>NaN</td>\n",
       "      <td>NaN</td>\n",
       "      <td>0.02</td>\n",
       "      <td>0.02</td>\n",
       "      <td>0.02</td>\n",
       "      <td>...</td>\n",
       "      <td>NaN</td>\n",
       "      <td>NaN</td>\n",
       "      <td>NaN</td>\n",
       "      <td>NaN</td>\n",
       "      <td>NaN</td>\n",
       "      <td>NaN</td>\n",
       "      <td>NaN</td>\n",
       "      <td>NaN</td>\n",
       "      <td>NaN</td>\n",
       "      <td>1618.70</td>\n",
       "    </tr>\n",
       "    <tr>\n",
       "      <th>9</th>\n",
       "      <td>0.0</td>\n",
       "      <td>0.0</td>\n",
       "      <td>0.01</td>\n",
       "      <td>NaN</td>\n",
       "      <td>NaN</td>\n",
       "      <td>0.02</td>\n",
       "      <td>0.02</td>\n",
       "      <td>NaN</td>\n",
       "      <td>NaN</td>\n",
       "      <td>NaN</td>\n",
       "      <td>...</td>\n",
       "      <td>NaN</td>\n",
       "      <td>NaN</td>\n",
       "      <td>NaN</td>\n",
       "      <td>NaN</td>\n",
       "      <td>NaN</td>\n",
       "      <td>NaN</td>\n",
       "      <td>NaN</td>\n",
       "      <td>NaN</td>\n",
       "      <td>NaN</td>\n",
       "      <td>1149.20</td>\n",
       "    </tr>\n",
       "    <tr>\n",
       "      <th>11</th>\n",
       "      <td>0.0</td>\n",
       "      <td>0.0</td>\n",
       "      <td>NaN</td>\n",
       "      <td>0.00</td>\n",
       "      <td>0.00</td>\n",
       "      <td>0.02</td>\n",
       "      <td>0.02</td>\n",
       "      <td>NaN</td>\n",
       "      <td>NaN</td>\n",
       "      <td>NaN</td>\n",
       "      <td>...</td>\n",
       "      <td>NaN</td>\n",
       "      <td>NaN</td>\n",
       "      <td>NaN</td>\n",
       "      <td>NaN</td>\n",
       "      <td>NaN</td>\n",
       "      <td>NaN</td>\n",
       "      <td>NaN</td>\n",
       "      <td>NaN</td>\n",
       "      <td>NaN</td>\n",
       "      <td>602.64</td>\n",
       "    </tr>\n",
       "    <tr>\n",
       "      <th>13</th>\n",
       "      <td>0.0</td>\n",
       "      <td>0.0</td>\n",
       "      <td>NaN</td>\n",
       "      <td>0.01</td>\n",
       "      <td>0.01</td>\n",
       "      <td>0.02</td>\n",
       "      <td>0.02</td>\n",
       "      <td>NaN</td>\n",
       "      <td>NaN</td>\n",
       "      <td>NaN</td>\n",
       "      <td>...</td>\n",
       "      <td>NaN</td>\n",
       "      <td>NaN</td>\n",
       "      <td>NaN</td>\n",
       "      <td>NaN</td>\n",
       "      <td>NaN</td>\n",
       "      <td>NaN</td>\n",
       "      <td>NaN</td>\n",
       "      <td>NaN</td>\n",
       "      <td>NaN</td>\n",
       "      <td>1331.66</td>\n",
       "    </tr>\n",
       "  </tbody>\n",
       "</table>\n",
       "<p>5 rows × 68 columns</p>\n",
       "</div>"
      ],
      "text/plain": [
       "    L0_S0_D1  L0_S1_D26  L0_S2_D34  L0_S3_D70  L0_S3_D74  L0_S4_D106  \\\n",
       "Id                                                                     \n",
       "4        0.0        0.0       0.00        NaN        NaN        0.02   \n",
       "7        0.0        0.0       0.00        NaN        NaN         NaN   \n",
       "9        0.0        0.0       0.01        NaN        NaN        0.02   \n",
       "11       0.0        0.0        NaN       0.00       0.00        0.02   \n",
       "13       0.0        0.0        NaN       0.01       0.01        0.02   \n",
       "\n",
       "    L0_S4_D111  L0_S5_D115  L0_S5_D117  L0_S6_D120     ...      L3_S38_D3961  \\\n",
       "Id                                                     ...                     \n",
       "4         0.02         NaN         NaN         NaN     ...               NaN   \n",
       "7          NaN        0.02        0.02        0.02     ...               NaN   \n",
       "9         0.02         NaN         NaN         NaN     ...               NaN   \n",
       "11        0.02         NaN         NaN         NaN     ...               NaN   \n",
       "13        0.02         NaN         NaN         NaN     ...               NaN   \n",
       "\n",
       "    L3_S39_D3966  L3_S43_D4062  L3_S44_D4101  L3_S47_D4140  L3_S49_D4208  \\\n",
       "Id                                                                         \n",
       "4            NaN           NaN           NaN           NaN           NaN   \n",
       "7            NaN           NaN           NaN           NaN           NaN   \n",
       "9            NaN           NaN           NaN           NaN           NaN   \n",
       "11           NaN           NaN           NaN           NaN           NaN   \n",
       "13           NaN           NaN           NaN           NaN           NaN   \n",
       "\n",
       "    L3_S49_D4213  L3_S50_D4242  L3_S51_D4255  start_time  \n",
       "Id                                                        \n",
       "4            NaN           NaN           NaN       82.24  \n",
       "7            NaN           NaN           NaN     1618.70  \n",
       "9            NaN           NaN           NaN     1149.20  \n",
       "11           NaN           NaN           NaN      602.64  \n",
       "13           NaN           NaN           NaN     1331.66  \n",
       "\n",
       "[5 rows x 68 columns]"
      ]
     },
     "execution_count": 13,
     "metadata": {},
     "output_type": "execute_result"
    }
   ],
   "source": [
    "print tmp_train_date.shape\n",
    "tmp_train_date.head()"
   ]
  },
  {
   "cell_type": "code",
   "execution_count": 14,
   "metadata": {
    "collapsed": false
   },
   "outputs": [
    {
     "name": "stdout",
     "output_type": "stream",
     "text": [
      "0.0 1713.71\n"
     ]
    }
   ],
   "source": [
    "print tmp_test_date.min().min(), tmp_train_date.max().max()\n",
    "print tmp_train_date.min().min(), tmp_train_date.max().max()"
   ]
  },
  {
   "cell_type": "code",
   "execution_count": 16,
   "metadata": {
    "collapsed": true
   },
   "outputs": [],
   "source": [
    "tmp_train_date = tmp_train_date.fillna(-1.)\n",
    "tmp_test_date = tmp_test_date.fillna(-1.)"
   ]
  },
  {
   "cell_type": "code",
   "execution_count": 19,
   "metadata": {
    "collapsed": false
   },
   "outputs": [
    {
     "data": {
      "text/plain": [
       "float64    68\n",
       "dtype: int64"
      ]
     },
     "execution_count": 19,
     "metadata": {},
     "output_type": "execute_result"
    }
   ],
   "source": [
    "tmp_train_date.dtypes.value_counts()"
   ]
  },
  {
   "cell_type": "markdown",
   "metadata": {},
   "source": [
    "### encode the numerical data"
   ]
  },
  {
   "cell_type": "code",
   "execution_count": 36,
   "metadata": {
    "collapsed": true
   },
   "outputs": [],
   "source": [
    "tmp_num_train = train_num.copy()\n",
    "tmp_num_test = test_num.copy()"
   ]
  },
  {
   "cell_type": "code",
   "execution_count": 37,
   "metadata": {
    "collapsed": false,
    "scrolled": true
   },
   "outputs": [
    {
     "data": {
      "text/html": [
       "<div>\n",
       "<table border=\"1\" class=\"dataframe\">\n",
       "  <thead>\n",
       "    <tr style=\"text-align: right;\">\n",
       "      <th></th>\n",
       "      <th>L0_S0_F0</th>\n",
       "      <th>L0_S0_F2</th>\n",
       "      <th>L0_S0_F4</th>\n",
       "      <th>L0_S0_F6</th>\n",
       "      <th>L0_S0_F8</th>\n",
       "      <th>L0_S0_F10</th>\n",
       "      <th>L0_S0_F12</th>\n",
       "      <th>L0_S0_F14</th>\n",
       "      <th>L0_S0_F16</th>\n",
       "      <th>L0_S0_F18</th>\n",
       "      <th>...</th>\n",
       "      <th>L3_S47_F4153</th>\n",
       "      <th>L3_S47_F4158</th>\n",
       "      <th>L3_S47_F4163</th>\n",
       "      <th>L3_S48_F4196</th>\n",
       "      <th>L3_S48_F4198</th>\n",
       "      <th>L3_S49_F4211</th>\n",
       "      <th>L3_S49_F4226</th>\n",
       "      <th>L3_S50_F4243</th>\n",
       "      <th>L3_S50_F4253</th>\n",
       "      <th>Response</th>\n",
       "    </tr>\n",
       "    <tr>\n",
       "      <th>Id</th>\n",
       "      <th></th>\n",
       "      <th></th>\n",
       "      <th></th>\n",
       "      <th></th>\n",
       "      <th></th>\n",
       "      <th></th>\n",
       "      <th></th>\n",
       "      <th></th>\n",
       "      <th></th>\n",
       "      <th></th>\n",
       "      <th></th>\n",
       "      <th></th>\n",
       "      <th></th>\n",
       "      <th></th>\n",
       "      <th></th>\n",
       "      <th></th>\n",
       "      <th></th>\n",
       "      <th></th>\n",
       "      <th></th>\n",
       "      <th></th>\n",
       "      <th></th>\n",
       "    </tr>\n",
       "  </thead>\n",
       "  <tbody>\n",
       "    <tr>\n",
       "      <th>4</th>\n",
       "      <td>0.030</td>\n",
       "      <td>-0.034</td>\n",
       "      <td>-0.197</td>\n",
       "      <td>-0.179</td>\n",
       "      <td>0.118</td>\n",
       "      <td>0.116</td>\n",
       "      <td>-0.015</td>\n",
       "      <td>-0.032</td>\n",
       "      <td>0.020</td>\n",
       "      <td>0.083</td>\n",
       "      <td>...</td>\n",
       "      <td>NaN</td>\n",
       "      <td>NaN</td>\n",
       "      <td>NaN</td>\n",
       "      <td>NaN</td>\n",
       "      <td>NaN</td>\n",
       "      <td>NaN</td>\n",
       "      <td>NaN</td>\n",
       "      <td>NaN</td>\n",
       "      <td>NaN</td>\n",
       "      <td>0</td>\n",
       "    </tr>\n",
       "    <tr>\n",
       "      <th>7</th>\n",
       "      <td>0.088</td>\n",
       "      <td>0.086</td>\n",
       "      <td>0.003</td>\n",
       "      <td>-0.052</td>\n",
       "      <td>0.161</td>\n",
       "      <td>0.025</td>\n",
       "      <td>-0.015</td>\n",
       "      <td>-0.072</td>\n",
       "      <td>-0.225</td>\n",
       "      <td>-0.147</td>\n",
       "      <td>...</td>\n",
       "      <td>NaN</td>\n",
       "      <td>NaN</td>\n",
       "      <td>NaN</td>\n",
       "      <td>NaN</td>\n",
       "      <td>NaN</td>\n",
       "      <td>NaN</td>\n",
       "      <td>NaN</td>\n",
       "      <td>NaN</td>\n",
       "      <td>NaN</td>\n",
       "      <td>0</td>\n",
       "    </tr>\n",
       "    <tr>\n",
       "      <th>9</th>\n",
       "      <td>-0.036</td>\n",
       "      <td>-0.064</td>\n",
       "      <td>0.294</td>\n",
       "      <td>0.330</td>\n",
       "      <td>0.074</td>\n",
       "      <td>0.161</td>\n",
       "      <td>0.022</td>\n",
       "      <td>0.128</td>\n",
       "      <td>-0.026</td>\n",
       "      <td>-0.046</td>\n",
       "      <td>...</td>\n",
       "      <td>NaN</td>\n",
       "      <td>NaN</td>\n",
       "      <td>NaN</td>\n",
       "      <td>NaN</td>\n",
       "      <td>NaN</td>\n",
       "      <td>NaN</td>\n",
       "      <td>NaN</td>\n",
       "      <td>NaN</td>\n",
       "      <td>NaN</td>\n",
       "      <td>0</td>\n",
       "    </tr>\n",
       "    <tr>\n",
       "      <th>11</th>\n",
       "      <td>-0.055</td>\n",
       "      <td>-0.086</td>\n",
       "      <td>0.294</td>\n",
       "      <td>0.330</td>\n",
       "      <td>0.118</td>\n",
       "      <td>0.025</td>\n",
       "      <td>0.030</td>\n",
       "      <td>0.168</td>\n",
       "      <td>-0.169</td>\n",
       "      <td>-0.099</td>\n",
       "      <td>...</td>\n",
       "      <td>NaN</td>\n",
       "      <td>NaN</td>\n",
       "      <td>NaN</td>\n",
       "      <td>NaN</td>\n",
       "      <td>NaN</td>\n",
       "      <td>NaN</td>\n",
       "      <td>NaN</td>\n",
       "      <td>NaN</td>\n",
       "      <td>NaN</td>\n",
       "      <td>0</td>\n",
       "    </tr>\n",
       "    <tr>\n",
       "      <th>13</th>\n",
       "      <td>0.003</td>\n",
       "      <td>0.019</td>\n",
       "      <td>0.294</td>\n",
       "      <td>0.312</td>\n",
       "      <td>0.031</td>\n",
       "      <td>0.161</td>\n",
       "      <td>0.022</td>\n",
       "      <td>0.088</td>\n",
       "      <td>-0.005</td>\n",
       "      <td>-0.003</td>\n",
       "      <td>...</td>\n",
       "      <td>NaN</td>\n",
       "      <td>NaN</td>\n",
       "      <td>NaN</td>\n",
       "      <td>NaN</td>\n",
       "      <td>NaN</td>\n",
       "      <td>NaN</td>\n",
       "      <td>NaN</td>\n",
       "      <td>NaN</td>\n",
       "      <td>NaN</td>\n",
       "      <td>0</td>\n",
       "    </tr>\n",
       "  </tbody>\n",
       "</table>\n",
       "<p>5 rows × 292 columns</p>\n",
       "</div>"
      ],
      "text/plain": [
       "    L0_S0_F0  L0_S0_F2  L0_S0_F4  L0_S0_F6  L0_S0_F8  L0_S0_F10  L0_S0_F12  \\\n",
       "Id                                                                           \n",
       "4      0.030    -0.034    -0.197    -0.179     0.118      0.116     -0.015   \n",
       "7      0.088     0.086     0.003    -0.052     0.161      0.025     -0.015   \n",
       "9     -0.036    -0.064     0.294     0.330     0.074      0.161      0.022   \n",
       "11    -0.055    -0.086     0.294     0.330     0.118      0.025      0.030   \n",
       "13     0.003     0.019     0.294     0.312     0.031      0.161      0.022   \n",
       "\n",
       "    L0_S0_F14  L0_S0_F16  L0_S0_F18    ...     L3_S47_F4153  L3_S47_F4158  \\\n",
       "Id                                     ...                                  \n",
       "4      -0.032      0.020      0.083    ...              NaN           NaN   \n",
       "7      -0.072     -0.225     -0.147    ...              NaN           NaN   \n",
       "9       0.128     -0.026     -0.046    ...              NaN           NaN   \n",
       "11      0.168     -0.169     -0.099    ...              NaN           NaN   \n",
       "13      0.088     -0.005     -0.003    ...              NaN           NaN   \n",
       "\n",
       "    L3_S47_F4163  L3_S48_F4196  L3_S48_F4198  L3_S49_F4211  L3_S49_F4226  \\\n",
       "Id                                                                         \n",
       "4            NaN           NaN           NaN           NaN           NaN   \n",
       "7            NaN           NaN           NaN           NaN           NaN   \n",
       "9            NaN           NaN           NaN           NaN           NaN   \n",
       "11           NaN           NaN           NaN           NaN           NaN   \n",
       "13           NaN           NaN           NaN           NaN           NaN   \n",
       "\n",
       "    L3_S50_F4243  L3_S50_F4253  Response  \n",
       "Id                                        \n",
       "4            NaN           NaN         0  \n",
       "7            NaN           NaN         0  \n",
       "9            NaN           NaN         0  \n",
       "11           NaN           NaN         0  \n",
       "13           NaN           NaN         0  \n",
       "\n",
       "[5 rows x 292 columns]"
      ]
     },
     "execution_count": 37,
     "metadata": {},
     "output_type": "execute_result"
    }
   ],
   "source": [
    "tmp_num_train.head()"
   ]
  },
  {
   "cell_type": "code",
   "execution_count": 38,
   "metadata": {
    "collapsed": false
   },
   "outputs": [
    {
     "name": "stdout",
     "output_type": "stream",
     "text": [
      "-0.984 1.0\n",
      "-0.984 1.0\n"
     ]
    }
   ],
   "source": [
    "print tmp_num_train.min().min(), tmp_num_train.max().max()\n",
    "print tmp_num_test.min().min(), tmp_num_test.max().max()"
   ]
  },
  {
   "cell_type": "code",
   "execution_count": 39,
   "metadata": {
    "collapsed": true
   },
   "outputs": [],
   "source": [
    "tmp_num_train = tmp_num_train.fillna(-1.)\n",
    "tmp_num_test = tmp_num_test.fillna(-1.)"
   ]
  },
  {
   "cell_type": "code",
   "execution_count": 40,
   "metadata": {
    "collapsed": false
   },
   "outputs": [
    {
     "data": {
      "text/html": [
       "<div>\n",
       "<table border=\"1\" class=\"dataframe\">\n",
       "  <thead>\n",
       "    <tr style=\"text-align: right;\">\n",
       "      <th></th>\n",
       "      <th>L0_S0_F0</th>\n",
       "      <th>L0_S0_F2</th>\n",
       "      <th>L0_S0_F4</th>\n",
       "      <th>L0_S0_F6</th>\n",
       "      <th>L0_S0_F8</th>\n",
       "      <th>L0_S0_F10</th>\n",
       "      <th>L0_S0_F12</th>\n",
       "      <th>L0_S0_F14</th>\n",
       "      <th>L0_S0_F16</th>\n",
       "      <th>L0_S0_F18</th>\n",
       "      <th>...</th>\n",
       "      <th>L3_S47_F4153</th>\n",
       "      <th>L3_S47_F4158</th>\n",
       "      <th>L3_S47_F4163</th>\n",
       "      <th>L3_S48_F4196</th>\n",
       "      <th>L3_S48_F4198</th>\n",
       "      <th>L3_S49_F4211</th>\n",
       "      <th>L3_S49_F4226</th>\n",
       "      <th>L3_S50_F4243</th>\n",
       "      <th>L3_S50_F4253</th>\n",
       "      <th>Response</th>\n",
       "    </tr>\n",
       "    <tr>\n",
       "      <th>Id</th>\n",
       "      <th></th>\n",
       "      <th></th>\n",
       "      <th></th>\n",
       "      <th></th>\n",
       "      <th></th>\n",
       "      <th></th>\n",
       "      <th></th>\n",
       "      <th></th>\n",
       "      <th></th>\n",
       "      <th></th>\n",
       "      <th></th>\n",
       "      <th></th>\n",
       "      <th></th>\n",
       "      <th></th>\n",
       "      <th></th>\n",
       "      <th></th>\n",
       "      <th></th>\n",
       "      <th></th>\n",
       "      <th></th>\n",
       "      <th></th>\n",
       "      <th></th>\n",
       "    </tr>\n",
       "  </thead>\n",
       "  <tbody>\n",
       "    <tr>\n",
       "      <th>4</th>\n",
       "      <td>0.030</td>\n",
       "      <td>-0.034</td>\n",
       "      <td>-0.197</td>\n",
       "      <td>-0.179</td>\n",
       "      <td>0.118</td>\n",
       "      <td>0.116</td>\n",
       "      <td>-0.015</td>\n",
       "      <td>-0.032</td>\n",
       "      <td>0.020</td>\n",
       "      <td>0.083</td>\n",
       "      <td>...</td>\n",
       "      <td>-1.0</td>\n",
       "      <td>-1.0</td>\n",
       "      <td>-1.0</td>\n",
       "      <td>-1.0</td>\n",
       "      <td>-1.0</td>\n",
       "      <td>-1.0</td>\n",
       "      <td>-1.0</td>\n",
       "      <td>-1.0</td>\n",
       "      <td>-1.0</td>\n",
       "      <td>0</td>\n",
       "    </tr>\n",
       "    <tr>\n",
       "      <th>7</th>\n",
       "      <td>0.088</td>\n",
       "      <td>0.086</td>\n",
       "      <td>0.003</td>\n",
       "      <td>-0.052</td>\n",
       "      <td>0.161</td>\n",
       "      <td>0.025</td>\n",
       "      <td>-0.015</td>\n",
       "      <td>-0.072</td>\n",
       "      <td>-0.225</td>\n",
       "      <td>-0.147</td>\n",
       "      <td>...</td>\n",
       "      <td>-1.0</td>\n",
       "      <td>-1.0</td>\n",
       "      <td>-1.0</td>\n",
       "      <td>-1.0</td>\n",
       "      <td>-1.0</td>\n",
       "      <td>-1.0</td>\n",
       "      <td>-1.0</td>\n",
       "      <td>-1.0</td>\n",
       "      <td>-1.0</td>\n",
       "      <td>0</td>\n",
       "    </tr>\n",
       "    <tr>\n",
       "      <th>9</th>\n",
       "      <td>-0.036</td>\n",
       "      <td>-0.064</td>\n",
       "      <td>0.294</td>\n",
       "      <td>0.330</td>\n",
       "      <td>0.074</td>\n",
       "      <td>0.161</td>\n",
       "      <td>0.022</td>\n",
       "      <td>0.128</td>\n",
       "      <td>-0.026</td>\n",
       "      <td>-0.046</td>\n",
       "      <td>...</td>\n",
       "      <td>-1.0</td>\n",
       "      <td>-1.0</td>\n",
       "      <td>-1.0</td>\n",
       "      <td>-1.0</td>\n",
       "      <td>-1.0</td>\n",
       "      <td>-1.0</td>\n",
       "      <td>-1.0</td>\n",
       "      <td>-1.0</td>\n",
       "      <td>-1.0</td>\n",
       "      <td>0</td>\n",
       "    </tr>\n",
       "    <tr>\n",
       "      <th>11</th>\n",
       "      <td>-0.055</td>\n",
       "      <td>-0.086</td>\n",
       "      <td>0.294</td>\n",
       "      <td>0.330</td>\n",
       "      <td>0.118</td>\n",
       "      <td>0.025</td>\n",
       "      <td>0.030</td>\n",
       "      <td>0.168</td>\n",
       "      <td>-0.169</td>\n",
       "      <td>-0.099</td>\n",
       "      <td>...</td>\n",
       "      <td>-1.0</td>\n",
       "      <td>-1.0</td>\n",
       "      <td>-1.0</td>\n",
       "      <td>-1.0</td>\n",
       "      <td>-1.0</td>\n",
       "      <td>-1.0</td>\n",
       "      <td>-1.0</td>\n",
       "      <td>-1.0</td>\n",
       "      <td>-1.0</td>\n",
       "      <td>0</td>\n",
       "    </tr>\n",
       "    <tr>\n",
       "      <th>13</th>\n",
       "      <td>0.003</td>\n",
       "      <td>0.019</td>\n",
       "      <td>0.294</td>\n",
       "      <td>0.312</td>\n",
       "      <td>0.031</td>\n",
       "      <td>0.161</td>\n",
       "      <td>0.022</td>\n",
       "      <td>0.088</td>\n",
       "      <td>-0.005</td>\n",
       "      <td>-0.003</td>\n",
       "      <td>...</td>\n",
       "      <td>-1.0</td>\n",
       "      <td>-1.0</td>\n",
       "      <td>-1.0</td>\n",
       "      <td>-1.0</td>\n",
       "      <td>-1.0</td>\n",
       "      <td>-1.0</td>\n",
       "      <td>-1.0</td>\n",
       "      <td>-1.0</td>\n",
       "      <td>-1.0</td>\n",
       "      <td>0</td>\n",
       "    </tr>\n",
       "  </tbody>\n",
       "</table>\n",
       "<p>5 rows × 292 columns</p>\n",
       "</div>"
      ],
      "text/plain": [
       "    L0_S0_F0  L0_S0_F2  L0_S0_F4  L0_S0_F6  L0_S0_F8  L0_S0_F10  L0_S0_F12  \\\n",
       "Id                                                                           \n",
       "4      0.030    -0.034    -0.197    -0.179     0.118      0.116     -0.015   \n",
       "7      0.088     0.086     0.003    -0.052     0.161      0.025     -0.015   \n",
       "9     -0.036    -0.064     0.294     0.330     0.074      0.161      0.022   \n",
       "11    -0.055    -0.086     0.294     0.330     0.118      0.025      0.030   \n",
       "13     0.003     0.019     0.294     0.312     0.031      0.161      0.022   \n",
       "\n",
       "    L0_S0_F14  L0_S0_F16  L0_S0_F18    ...     L3_S47_F4153  L3_S47_F4158  \\\n",
       "Id                                     ...                                  \n",
       "4      -0.032      0.020      0.083    ...             -1.0          -1.0   \n",
       "7      -0.072     -0.225     -0.147    ...             -1.0          -1.0   \n",
       "9       0.128     -0.026     -0.046    ...             -1.0          -1.0   \n",
       "11      0.168     -0.169     -0.099    ...             -1.0          -1.0   \n",
       "13      0.088     -0.005     -0.003    ...             -1.0          -1.0   \n",
       "\n",
       "    L3_S47_F4163  L3_S48_F4196  L3_S48_F4198  L3_S49_F4211  L3_S49_F4226  \\\n",
       "Id                                                                         \n",
       "4           -1.0          -1.0          -1.0          -1.0          -1.0   \n",
       "7           -1.0          -1.0          -1.0          -1.0          -1.0   \n",
       "9           -1.0          -1.0          -1.0          -1.0          -1.0   \n",
       "11          -1.0          -1.0          -1.0          -1.0          -1.0   \n",
       "13          -1.0          -1.0          -1.0          -1.0          -1.0   \n",
       "\n",
       "    L3_S50_F4243  L3_S50_F4253  Response  \n",
       "Id                                        \n",
       "4           -1.0          -1.0         0  \n",
       "7           -1.0          -1.0         0  \n",
       "9           -1.0          -1.0         0  \n",
       "11          -1.0          -1.0         0  \n",
       "13          -1.0          -1.0         0  \n",
       "\n",
       "[5 rows x 292 columns]"
      ]
     },
     "execution_count": 40,
     "metadata": {},
     "output_type": "execute_result"
    }
   ],
   "source": [
    "tmp_num_train.head()"
   ]
  },
  {
   "cell_type": "markdown",
   "metadata": {},
   "source": [
    "### process the categorical features"
   ]
  },
  {
   "cell_type": "code",
   "execution_count": 33,
   "metadata": {
    "collapsed": false
   },
   "outputs": [
    {
     "name": "stdout",
     "output_type": "stream",
     "text": [
      "finish OneHot encoding the categorical columns, using 11.69 seconds\n"
     ]
    }
   ],
   "source": [
    "start_time = time.time()\n",
    "combined_cat = pd.concat([train_cat, test_cat])\n",
    "## convert to string so that column is categorical\n",
    "combined_cat = combined_cat.astype(str)\n",
    "## One-Hot encode all the categorical columns\n",
    "oneHot_combined_cat = pd.get_dummies(combined_cat, dummy_na=True)\n",
    "\n",
    "train_index = train_cat.index\n",
    "test_index  = test_cat.index\n",
    "oneHot_train_cat = oneHot_combined_cat.ix[train_index]\n",
    "oneHot_test_cat  = oneHot_combined_cat.ix[test_index]\n",
    "print 'finish OneHot encoding the categorical columns, using {} seconds'.format(round(time.time() - start_time, 2))"
   ]
  },
  {
   "cell_type": "code",
   "execution_count": 35,
   "metadata": {
    "collapsed": false
   },
   "outputs": [
    {
     "name": "stdout",
     "output_type": "stream",
     "text": [
      "(673861, 77)\n"
     ]
    },
    {
     "data": {
      "text/html": [
       "<div>\n",
       "<table border=\"1\" class=\"dataframe\">\n",
       "  <thead>\n",
       "    <tr style=\"text-align: right;\">\n",
       "      <th></th>\n",
       "      <th>L2_S26_F3038_1.0</th>\n",
       "      <th>L2_S26_F3038_nan</th>\n",
       "      <th>L2_S26_F3038_nan</th>\n",
       "      <th>L2_S27_F3131_1.0</th>\n",
       "      <th>L2_S27_F3131_nan</th>\n",
       "      <th>L2_S27_F3131_nan</th>\n",
       "      <th>L3_S29_F3317_1.0</th>\n",
       "      <th>L3_S29_F3317_nan</th>\n",
       "      <th>L3_S29_F3317_nan</th>\n",
       "      <th>L3_S29_F3475_1.0</th>\n",
       "      <th>...</th>\n",
       "      <th>L3_S35_F3912_nan</th>\n",
       "      <th>L3_S35_F3912_nan</th>\n",
       "      <th>L3_S49_F4217_1.0</th>\n",
       "      <th>L3_S49_F4217_nan</th>\n",
       "      <th>L3_S49_F4217_nan</th>\n",
       "      <th>L3_S49_F4220_16.0</th>\n",
       "      <th>L3_S49_F4220_2.0</th>\n",
       "      <th>L3_S49_F4220_4.0</th>\n",
       "      <th>L3_S49_F4220_nan</th>\n",
       "      <th>L3_S49_F4220_nan</th>\n",
       "    </tr>\n",
       "    <tr>\n",
       "      <th>Id</th>\n",
       "      <th></th>\n",
       "      <th></th>\n",
       "      <th></th>\n",
       "      <th></th>\n",
       "      <th></th>\n",
       "      <th></th>\n",
       "      <th></th>\n",
       "      <th></th>\n",
       "      <th></th>\n",
       "      <th></th>\n",
       "      <th></th>\n",
       "      <th></th>\n",
       "      <th></th>\n",
       "      <th></th>\n",
       "      <th></th>\n",
       "      <th></th>\n",
       "      <th></th>\n",
       "      <th></th>\n",
       "      <th></th>\n",
       "      <th></th>\n",
       "      <th></th>\n",
       "    </tr>\n",
       "  </thead>\n",
       "  <tbody>\n",
       "    <tr>\n",
       "      <th>4</th>\n",
       "      <td>0.0</td>\n",
       "      <td>1.0</td>\n",
       "      <td>0.0</td>\n",
       "      <td>0.0</td>\n",
       "      <td>1.0</td>\n",
       "      <td>0.0</td>\n",
       "      <td>0.0</td>\n",
       "      <td>1.0</td>\n",
       "      <td>0.0</td>\n",
       "      <td>0.0</td>\n",
       "      <td>...</td>\n",
       "      <td>1.0</td>\n",
       "      <td>0.0</td>\n",
       "      <td>0.0</td>\n",
       "      <td>1.0</td>\n",
       "      <td>0.0</td>\n",
       "      <td>0.0</td>\n",
       "      <td>0.0</td>\n",
       "      <td>0.0</td>\n",
       "      <td>1.0</td>\n",
       "      <td>0.0</td>\n",
       "    </tr>\n",
       "    <tr>\n",
       "      <th>7</th>\n",
       "      <td>0.0</td>\n",
       "      <td>1.0</td>\n",
       "      <td>0.0</td>\n",
       "      <td>0.0</td>\n",
       "      <td>1.0</td>\n",
       "      <td>0.0</td>\n",
       "      <td>1.0</td>\n",
       "      <td>0.0</td>\n",
       "      <td>0.0</td>\n",
       "      <td>1.0</td>\n",
       "      <td>...</td>\n",
       "      <td>1.0</td>\n",
       "      <td>0.0</td>\n",
       "      <td>0.0</td>\n",
       "      <td>1.0</td>\n",
       "      <td>0.0</td>\n",
       "      <td>0.0</td>\n",
       "      <td>0.0</td>\n",
       "      <td>0.0</td>\n",
       "      <td>1.0</td>\n",
       "      <td>0.0</td>\n",
       "    </tr>\n",
       "    <tr>\n",
       "      <th>9</th>\n",
       "      <td>0.0</td>\n",
       "      <td>1.0</td>\n",
       "      <td>0.0</td>\n",
       "      <td>0.0</td>\n",
       "      <td>1.0</td>\n",
       "      <td>0.0</td>\n",
       "      <td>1.0</td>\n",
       "      <td>0.0</td>\n",
       "      <td>0.0</td>\n",
       "      <td>1.0</td>\n",
       "      <td>...</td>\n",
       "      <td>1.0</td>\n",
       "      <td>0.0</td>\n",
       "      <td>0.0</td>\n",
       "      <td>1.0</td>\n",
       "      <td>0.0</td>\n",
       "      <td>0.0</td>\n",
       "      <td>0.0</td>\n",
       "      <td>0.0</td>\n",
       "      <td>1.0</td>\n",
       "      <td>0.0</td>\n",
       "    </tr>\n",
       "    <tr>\n",
       "      <th>11</th>\n",
       "      <td>0.0</td>\n",
       "      <td>1.0</td>\n",
       "      <td>0.0</td>\n",
       "      <td>0.0</td>\n",
       "      <td>1.0</td>\n",
       "      <td>0.0</td>\n",
       "      <td>1.0</td>\n",
       "      <td>0.0</td>\n",
       "      <td>0.0</td>\n",
       "      <td>1.0</td>\n",
       "      <td>...</td>\n",
       "      <td>1.0</td>\n",
       "      <td>0.0</td>\n",
       "      <td>0.0</td>\n",
       "      <td>1.0</td>\n",
       "      <td>0.0</td>\n",
       "      <td>0.0</td>\n",
       "      <td>0.0</td>\n",
       "      <td>0.0</td>\n",
       "      <td>1.0</td>\n",
       "      <td>0.0</td>\n",
       "    </tr>\n",
       "    <tr>\n",
       "      <th>13</th>\n",
       "      <td>0.0</td>\n",
       "      <td>1.0</td>\n",
       "      <td>0.0</td>\n",
       "      <td>0.0</td>\n",
       "      <td>1.0</td>\n",
       "      <td>0.0</td>\n",
       "      <td>1.0</td>\n",
       "      <td>0.0</td>\n",
       "      <td>0.0</td>\n",
       "      <td>1.0</td>\n",
       "      <td>...</td>\n",
       "      <td>1.0</td>\n",
       "      <td>0.0</td>\n",
       "      <td>0.0</td>\n",
       "      <td>1.0</td>\n",
       "      <td>0.0</td>\n",
       "      <td>0.0</td>\n",
       "      <td>0.0</td>\n",
       "      <td>0.0</td>\n",
       "      <td>1.0</td>\n",
       "      <td>0.0</td>\n",
       "    </tr>\n",
       "  </tbody>\n",
       "</table>\n",
       "<p>5 rows × 77 columns</p>\n",
       "</div>"
      ],
      "text/plain": [
       "    L2_S26_F3038_1.0  L2_S26_F3038_nan  L2_S26_F3038_nan  L2_S27_F3131_1.0  \\\n",
       "Id                                                                           \n",
       "4                0.0               1.0               0.0               0.0   \n",
       "7                0.0               1.0               0.0               0.0   \n",
       "9                0.0               1.0               0.0               0.0   \n",
       "11               0.0               1.0               0.0               0.0   \n",
       "13               0.0               1.0               0.0               0.0   \n",
       "\n",
       "    L2_S27_F3131_nan  L2_S27_F3131_nan  L3_S29_F3317_1.0  L3_S29_F3317_nan  \\\n",
       "Id                                                                           \n",
       "4                1.0               0.0               0.0               1.0   \n",
       "7                1.0               0.0               1.0               0.0   \n",
       "9                1.0               0.0               1.0               0.0   \n",
       "11               1.0               0.0               1.0               0.0   \n",
       "13               1.0               0.0               1.0               0.0   \n",
       "\n",
       "    L3_S29_F3317_nan  L3_S29_F3475_1.0        ...         L3_S35_F3912_nan  \\\n",
       "Id                                            ...                            \n",
       "4                0.0               0.0        ...                      1.0   \n",
       "7                0.0               1.0        ...                      1.0   \n",
       "9                0.0               1.0        ...                      1.0   \n",
       "11               0.0               1.0        ...                      1.0   \n",
       "13               0.0               1.0        ...                      1.0   \n",
       "\n",
       "    L3_S35_F3912_nan  L3_S49_F4217_1.0  L3_S49_F4217_nan  L3_S49_F4217_nan  \\\n",
       "Id                                                                           \n",
       "4                0.0               0.0               1.0               0.0   \n",
       "7                0.0               0.0               1.0               0.0   \n",
       "9                0.0               0.0               1.0               0.0   \n",
       "11               0.0               0.0               1.0               0.0   \n",
       "13               0.0               0.0               1.0               0.0   \n",
       "\n",
       "    L3_S49_F4220_16.0  L3_S49_F4220_2.0  L3_S49_F4220_4.0  L3_S49_F4220_nan  \\\n",
       "Id                                                                            \n",
       "4                 0.0               0.0               0.0               1.0   \n",
       "7                 0.0               0.0               0.0               1.0   \n",
       "9                 0.0               0.0               0.0               1.0   \n",
       "11                0.0               0.0               0.0               1.0   \n",
       "13                0.0               0.0               0.0               1.0   \n",
       "\n",
       "    L3_S49_F4220_nan  \n",
       "Id                    \n",
       "4                0.0  \n",
       "7                0.0  \n",
       "9                0.0  \n",
       "11               0.0  \n",
       "13               0.0  \n",
       "\n",
       "[5 rows x 77 columns]"
      ]
     },
     "execution_count": 35,
     "metadata": {},
     "output_type": "execute_result"
    }
   ],
   "source": [
    "print oneHot_train_cat.shape\n",
    "oneHot_train_cat.head()"
   ]
  },
  {
   "cell_type": "code",
   "execution_count": 45,
   "metadata": {
    "collapsed": true
   },
   "outputs": [],
   "source": [
    "combined_train = pd.concat([oneHot_train_cat, tmp_num_train, tmp_train_date], axis=1)\n",
    "combined_test  = pd.concat([oneHot_test_cat,  tmp_num_test,  tmp_test_date],  axis=1)"
   ]
  },
  {
   "cell_type": "code",
   "execution_count": 46,
   "metadata": {
    "collapsed": false
   },
   "outputs": [
    {
     "name": "stdout",
     "output_type": "stream",
     "text": [
      "(673861, 437) (674503, 436)\n"
     ]
    }
   ],
   "source": [
    "print combined_train.shape, combined_test.shape"
   ]
  },
  {
   "cell_type": "code",
   "execution_count": 48,
   "metadata": {
    "collapsed": false
   },
   "outputs": [
    {
     "name": "stdout",
     "output_type": "stream",
     "text": [
      "0 0\n"
     ]
    }
   ],
   "source": [
    "print combined_test.isnull().sum().sum(), '\\n \\n', combined_train.isnull().sum().sum()"
   ]
  },
  {
   "cell_type": "code",
   "execution_count": 51,
   "metadata": {
    "collapsed": false,
    "scrolled": true
   },
   "outputs": [
    {
     "name": "stdout",
     "output_type": "stream",
     "text": [
      "float64    436\n",
      "dtype: int64 \n",
      " \n",
      "float64    436\n",
      "int64        1\n",
      "dtype: int64\n"
     ]
    }
   ],
   "source": [
    "print combined_test.dtypes.value_counts(), '\\n \\n',  combined_train.dtypes.value_counts()"
   ]
  },
  {
   "cell_type": "code",
   "execution_count": 3,
   "metadata": {
    "collapsed": false
   },
   "outputs": [
    {
     "ename": "NameError",
     "evalue": "name 'time' is not defined",
     "output_type": "error",
     "traceback": [
      "\u001b[0;31m---------------------------------------------------------------------------\u001b[0m",
      "\u001b[0;31mNameError\u001b[0m                                 Traceback (most recent call last)",
      "\u001b[0;32m<ipython-input-3-b646c712d69b>\u001b[0m in \u001b[0;36m<module>\u001b[0;34m()\u001b[0m\n\u001b[0;32m----> 1\u001b[0;31m \u001b[0mstart_time\u001b[0m \u001b[0;34m=\u001b[0m \u001b[0mtime\u001b[0m\u001b[0;34m.\u001b[0m\u001b[0mtime\u001b[0m\u001b[0;34m(\u001b[0m\u001b[0;34m)\u001b[0m\u001b[0;34m\u001b[0m\u001b[0m\n\u001b[0m\u001b[1;32m      2\u001b[0m \u001b[0mcombined_train\u001b[0m\u001b[0;34m.\u001b[0m\u001b[0mto_csv\u001b[0m\u001b[0;34m(\u001b[0m\u001b[0;34m'bosch_processed_regular_filled_thres_10_train_data.csv'\u001b[0m\u001b[0;34m)\u001b[0m\u001b[0;34m\u001b[0m\u001b[0m\n\u001b[1;32m      3\u001b[0m \u001b[0mcombined_test\u001b[0m\u001b[0;34m.\u001b[0m\u001b[0mto_csv\u001b[0m\u001b[0;34m(\u001b[0m\u001b[0;34m'bosch_processed_regular_filled_thres_10_test_data.csv'\u001b[0m\u001b[0;34m)\u001b[0m\u001b[0;34m\u001b[0m\u001b[0m\n\u001b[1;32m      4\u001b[0m \u001b[0;32mprint\u001b[0m \u001b[0;34m'saving data using {} seconds'\u001b[0m\u001b[0;34m.\u001b[0m\u001b[0mformat\u001b[0m\u001b[0;34m(\u001b[0m\u001b[0mround\u001b[0m\u001b[0;34m(\u001b[0m\u001b[0mtime\u001b[0m\u001b[0;34m.\u001b[0m\u001b[0mtime\u001b[0m\u001b[0;34m(\u001b[0m\u001b[0;34m)\u001b[0m \u001b[0;34m-\u001b[0m \u001b[0mstart_time\u001b[0m\u001b[0;34m,\u001b[0m \u001b[0;36m2\u001b[0m\u001b[0;34m)\u001b[0m\u001b[0;34m)\u001b[0m\u001b[0;34m\u001b[0m\u001b[0m\n",
      "\u001b[0;31mNameError\u001b[0m: name 'time' is not defined"
     ]
    }
   ],
   "source": [
    "start_time = time.time()\n",
    "combined_train.to_csv('bosch_processed_regular_filled_thres_10_train_data.csv')\n",
    "combined_test.to_csv('bosch_processed_regular_filled_thres_10_test_data.csv')\n",
    "print 'saving data using {} seconds'.format(round(time.time() - start_time, 2))"
   ]
  }
 ],
 "metadata": {
  "kernelspec": {
   "display_name": "Python 2",
   "language": "python",
   "name": "python2"
  },
  "language_info": {
   "codemirror_mode": {
    "name": "ipython",
    "version": 2
   },
   "file_extension": ".py",
   "mimetype": "text/x-python",
   "name": "python",
   "nbconvert_exporter": "python",
   "pygments_lexer": "ipython2",
   "version": "2.7.6"
  }
 },
 "nbformat": 4,
 "nbformat_minor": 0
}
