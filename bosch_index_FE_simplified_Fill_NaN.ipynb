{
 "cells": [
  {
   "cell_type": "code",
   "execution_count": 1,
   "metadata": {
    "collapsed": false
   },
   "outputs": [],
   "source": [
    "import os, sys, time, random\n",
    "import pandas as pd\n",
    "import numpy as np\n",
    "from os.path import join\n",
    "import matplotlib.pyplot as plt\n",
    "\n",
    "from sklearn.linear_model import LogisticRegression\n",
    "from sklearn.ensemble import RandomForestClassifier, ExtraTreesClassifier\n",
    "from sklearn import preprocessing\n",
    "from sklearn.cross_validation import StratifiedKFold\n",
    "\n",
    "sys.path.append('/home/ymm/kaggle/xgboost_hyperopt')\n",
    "import utils.bosch_functions as bosch_functions\n",
    "from utils.wrapped_xgboost import xgboost_classifier\n",
    "from utils.validation_tools import score_MCC, MCC, create_validation_index\n",
    "from utils.models import CombinedModel\n",
    "from utils.data_munge import remove_single_value_columns\n",
    "from utils.feature_engineering import NumericalFeatureEngineering, getRelativeTimeColumns, BasicDate_FeatureEngineering\n",
    "from utils.feature_engineering import getTimeChangeColumns, getTimeSteps, build_IndexFeatures, build_sortedData_indexDiff\n",
    "\n",
    "data_path = '/home/ymm/bosch/'\n",
    "\n",
    "train_num_file   = 'train_numeric.csv'\n",
    "train_cat_file   = 'train_categorical.csv'\n",
    "train_date_file  = 'train_date.csv'\n",
    "test_num_file    = 'test_numeric.csv'\n",
    "test_cat_file    = 'test_categorical.csv'\n",
    "test_date_file   = 'test_date.csv'\n",
    "\n",
    "sample_submission_file   = 'sample_submission.csv'\n",
    "\n",
    "start_time_column_name = 'L0_S0_D1'\n",
    "id_column_name = 'Id'\n",
    "dep_var_name = 'Response'"
   ]
  },
  {
   "cell_type": "code",
   "execution_count": 2,
   "metadata": {
    "collapsed": false
   },
   "outputs": [],
   "source": [
    "tot_row_num = 1183747\n",
    "num_rows = 50000\n",
    "skip = sorted(random.sample(xrange(1,tot_row_num + 1),tot_row_num - num_rows))"
   ]
  },
  {
   "cell_type": "code",
   "execution_count": 3,
   "metadata": {
    "collapsed": false
   },
   "outputs": [
    {
     "name": "stdout",
     "output_type": "stream",
     "text": [
      "finish loading date using 81.0 seconds\n"
     ]
    }
   ],
   "source": [
    "#'''\n",
    "start_time = time.time()\n",
    "## randomly select certain rows\n",
    "train_num = pd.read_csv(join(data_path, train_num_file),    index_col='Id', skiprows=skip, nrows=num_rows)\n",
    "train_dat = pd.read_csv(join(data_path, train_date_file),   index_col='Id', skiprows=skip, nrows=num_rows)\n",
    "train_cat = pd.read_csv(join(data_path, train_cat_file),    index_col='Id', skiprows=skip, nrows=num_rows)\n",
    "\n",
    "test_num = pd.read_csv(join(data_path, test_num_file),      index_col='Id', nrows=num_rows)\n",
    "test_dat = pd.read_csv(join(data_path, test_date_file),     index_col='Id', nrows=num_rows)\n",
    "test_cat = pd.read_csv(join(data_path, test_cat_file),      index_col='Id', nrows=num_rows)\n",
    "\n",
    "print 'finish loading date using {} seconds'.format(round(time.time() - start_time, 0))\n",
    "#'''"
   ]
  },
  {
   "cell_type": "code",
   "execution_count": 4,
   "metadata": {
    "collapsed": false,
    "scrolled": true
   },
   "outputs": [
    {
     "name": "stdout",
     "output_type": "stream",
     "text": [
      "raw train data dimension:  (50000, 969)\n",
      "raw test data dimension:  (50000, 968)\n",
      "processed train data dimension:  (50000, 969)\n",
      "processed test data dimension:  (50000, 968)\n",
      "raw train data dimension:  (50000, 1156)\n",
      "raw test data dimension:  (50000, 1156)\n",
      "processed train data dimension:  (50000, 1146)\n",
      "processed test data dimension:  (50000, 1146)\n",
      "raw train data dimension:  (50000, 2140)\n",
      "raw test data dimension:  (50000, 2140)\n",
      "processed train data dimension:  (50000, 1204)\n",
      "processed test data dimension:  (50000, 1204)\n"
     ]
    }
   ],
   "source": [
    "remove_single_value_columns(train_num, 'Response', test=test_num)\n",
    "remove_single_value_columns(train_dat, test=test_dat)\n",
    "remove_single_value_columns(train_cat, test=test_cat)"
   ]
  },
  {
   "cell_type": "code",
   "execution_count": 5,
   "metadata": {
    "collapsed": true
   },
   "outputs": [],
   "source": [
    "dat_columns = train_dat.columns.tolist()\n",
    "num_columns = train_num.columns.tolist()\n",
    "num_columns.remove(dep_var_name)\n",
    "\n",
    "def build_column_dict(columns):\n",
    "    station_dict = {}\n",
    "    line_dict = {}\n",
    "    for col in columns:\n",
    "        stationList = col.split('_')[0:2]\n",
    "        stationKey = ('_').join(stationList)\n",
    "        lineKey = col.split('_')[0]\n",
    "        \n",
    "        if lineKey not in line_dict:\n",
    "            line_dict[lineKey] = [col]\n",
    "        else:\n",
    "            line_dict[lineKey].append(col)\n",
    "                    \n",
    "        if stationKey not in station_dict:\n",
    "            station_dict[stationKey] = [col]\n",
    "        else:\n",
    "            station_dict[stationKey].append(col)\n",
    "            \n",
    "    return station_dict, line_dict\n",
    "\n",
    "\n",
    "def build_station_features(df, col_dict, prefix='dat'):\n",
    "    features = pd.DataFrame()\n",
    "    for key, value in col_dict.items():\n",
    "        features['{}_{}_{}'.format(prefix, key, 'mean')] = df[value].mean(axis=1)\n",
    "        features['{}_{}_{}'.format(prefix, key, 'max')] = df[value].max(axis=1)\n",
    "        features['{}_{}_{}'.format(prefix, key, 'min')] = df[value].min(axis=1)\n",
    "        features['{}_{}_{}'.format(prefix, key, 'var')] = df[value].var(axis=1)\n",
    "    return features\n",
    "\n",
    "\n",
    "def build_station_index_features(train, test = None):\n",
    "    selected_columns = []\n",
    "    for col in train.columns:\n",
    "        if 'mean' in col or 'var' in col:\n",
    "            selected_columns.append(col)\n",
    "            \n",
    "    if test is not None:\n",
    "        train_test = pd.concat([train[selected_columns], test[selected_columns]], axis=0)\n",
    "    else:\n",
    "        train_test = train[selected_columns]\n",
    "        \n",
    "    train_test['index'] = train_test.index\n",
    "    new_fea = pd.DataFrame()\n",
    "    ## function to build index based on the given columns\n",
    "    build_sortedData_indexDiff(train_test, new_fea, selected_columns)\n",
    "    \n",
    "    return new_fea\n",
    "\n",
    "\n",
    "dat_col_dict, dat_line_dict = build_column_dict(dat_columns)\n",
    "num_col_dict, num_line_dict = build_column_dict(num_columns)\n",
    "\n",
    "dat_col_dict.update(dat_line_dict)\n",
    "num_col_dict.update(num_line_dict)"
   ]
  },
  {
   "cell_type": "code",
   "execution_count": 6,
   "metadata": {
    "collapsed": false
   },
   "outputs": [
    {
     "name": "stdout",
     "output_type": "stream",
     "text": [
      "finish feature engineering date station using 0.46 minutes\n"
     ]
    }
   ],
   "source": [
    "start_time = time.time()\n",
    "\n",
    "train_dat_stations = build_station_features(train_dat, dat_col_dict, 'dat')\n",
    "test_dat_stations = build_station_features(test_dat, dat_col_dict, 'dat')\n",
    "\n",
    "train_num_stations = build_station_features(train_num, num_col_dict, 'num')\n",
    "test_num_stations = build_station_features(test_num, num_col_dict, 'num')\n",
    "\n",
    "num_station_index = build_station_index_features(train_num_stations, test_num_stations)\n",
    "dat_station_index = build_station_index_features(train_dat_stations, test_dat_stations)\n",
    "\n",
    "print 'finish feature engineering date station using {} minutes'.format(round((time.time() - start_time)/60, 2))"
   ]
  },
  {
   "cell_type": "code",
   "execution_count": 8,
   "metadata": {
    "collapsed": true
   },
   "outputs": [],
   "source": [
    "combined_train_station_num = pd.concat([train_num_stations, num_station_index.ix[train_num_stations.index]], axis=1)\n",
    "combined_train_station_dat = pd.concat([train_dat_stations, dat_station_index.ix[train_dat_stations.index]], axis=1)\n",
    "\n",
    "combined_test_station_num = pd.concat([test_num_stations, num_station_index.ix[train_num_stations.index]], axis=1)\n",
    "combined_test_station_dat = pd.concat([test_dat_stations, dat_station_index.ix[train_dat_stations.index]], axis=1)\n"
   ]
  },
  {
   "cell_type": "code",
   "execution_count": 16,
   "metadata": {
    "collapsed": false
   },
   "outputs": [
    {
     "name": "stdout",
     "output_type": "stream",
     "text": [
      "raw train data dimension:  (50000, 432)\n",
      "raw test data dimension:  (100000, 432)\n",
      "processed train data dimension:  (50000, 431)\n",
      "processed test data dimension:  (100000, 431)\n",
      "raw train data dimension:  (50000, 432)\n",
      "raw test data dimension:  (100000, 432)\n",
      "processed train data dimension:  (50000, 431)\n",
      "processed test data dimension:  (100000, 431)\n"
     ]
    }
   ],
   "source": [
    "remove_single_value_columns(combined_train_station_num, test=combined_test_station_num)\n",
    "remove_single_value_columns(combined_train_station_dat, test=combined_test_station_dat)"
   ]
  },
  {
   "cell_type": "code",
   "execution_count": 30,
   "metadata": {
    "collapsed": true
   },
   "outputs": [],
   "source": [
    "station_fillna_value = 9999999\n",
    "combined_train_station_num.fillna(station_fillna_value, inplace=True)\n",
    "combined_test_station_num.fillna(station_fillna_value, inplace=True)\n",
    "combined_train_station_dat.fillna(station_fillna_value, inplace=True)\n",
    "combined_test_station_dat.fillna(station_fillna_value, inplace=True)"
   ]
  },
  {
   "cell_type": "code",
   "execution_count": 17,
   "metadata": {
    "collapsed": false,
    "scrolled": true
   },
   "outputs": [
    {
     "data": {
      "text/html": [
       "<div>\n",
       "<table border=\"1\" class=\"dataframe\">\n",
       "  <thead>\n",
       "    <tr style=\"text-align: right;\">\n",
       "      <th></th>\n",
       "      <th>num_L2_S28_mean</th>\n",
       "      <th>num_L2_S28_max</th>\n",
       "      <th>num_L2_S28_min</th>\n",
       "      <th>num_L2_S28_var</th>\n",
       "      <th>num_L3_S31_mean</th>\n",
       "      <th>num_L3_S31_max</th>\n",
       "      <th>num_L3_S31_min</th>\n",
       "      <th>num_L3_S31_var</th>\n",
       "      <th>num_L2_S26_mean</th>\n",
       "      <th>num_L2_S26_max</th>\n",
       "      <th>...</th>\n",
       "      <th>num_L1_S25_var_index_diff_0</th>\n",
       "      <th>num_L1_S25_var_index_diff_1</th>\n",
       "      <th>num_L1_S24_mean_index_diff_0</th>\n",
       "      <th>num_L1_S24_mean_index_diff_1</th>\n",
       "      <th>num_L1_S24_var_index_diff_0</th>\n",
       "      <th>num_L1_S24_var_index_diff_1</th>\n",
       "      <th>num_L3_S39_mean_index_diff_0</th>\n",
       "      <th>num_L3_S39_mean_index_diff_1</th>\n",
       "      <th>num_L3_S39_var_index_diff_0</th>\n",
       "      <th>num_L3_S39_var_index_diff_1</th>\n",
       "    </tr>\n",
       "    <tr>\n",
       "      <th>Id</th>\n",
       "      <th></th>\n",
       "      <th></th>\n",
       "      <th></th>\n",
       "      <th></th>\n",
       "      <th></th>\n",
       "      <th></th>\n",
       "      <th></th>\n",
       "      <th></th>\n",
       "      <th></th>\n",
       "      <th></th>\n",
       "      <th></th>\n",
       "      <th></th>\n",
       "      <th></th>\n",
       "      <th></th>\n",
       "      <th></th>\n",
       "      <th></th>\n",
       "      <th></th>\n",
       "      <th></th>\n",
       "      <th></th>\n",
       "      <th></th>\n",
       "      <th></th>\n",
       "    </tr>\n",
       "  </thead>\n",
       "  <tbody>\n",
       "    <tr>\n",
       "      <th>9</th>\n",
       "      <td>NaN</td>\n",
       "      <td>NaN</td>\n",
       "      <td>NaN</td>\n",
       "      <td>NaN</td>\n",
       "      <td>NaN</td>\n",
       "      <td>NaN</td>\n",
       "      <td>NaN</td>\n",
       "      <td>NaN</td>\n",
       "      <td>NaN</td>\n",
       "      <td>NaN</td>\n",
       "      <td>...</td>\n",
       "      <td>1</td>\n",
       "      <td>-1</td>\n",
       "      <td>4</td>\n",
       "      <td>-1</td>\n",
       "      <td>4</td>\n",
       "      <td>-1</td>\n",
       "      <td>1</td>\n",
       "      <td>-1</td>\n",
       "      <td>1</td>\n",
       "      <td>-1</td>\n",
       "    </tr>\n",
       "    <tr>\n",
       "      <th>136</th>\n",
       "      <td>NaN</td>\n",
       "      <td>NaN</td>\n",
       "      <td>NaN</td>\n",
       "      <td>NaN</td>\n",
       "      <td>NaN</td>\n",
       "      <td>NaN</td>\n",
       "      <td>NaN</td>\n",
       "      <td>NaN</td>\n",
       "      <td>NaN</td>\n",
       "      <td>NaN</td>\n",
       "      <td>...</td>\n",
       "      <td>2</td>\n",
       "      <td>-3</td>\n",
       "      <td>2</td>\n",
       "      <td>-2</td>\n",
       "      <td>2</td>\n",
       "      <td>-2</td>\n",
       "      <td>-2367003</td>\n",
       "      <td>-2083</td>\n",
       "      <td>-2326492</td>\n",
       "      <td>-10902</td>\n",
       "    </tr>\n",
       "    <tr>\n",
       "      <th>229</th>\n",
       "      <td>NaN</td>\n",
       "      <td>NaN</td>\n",
       "      <td>NaN</td>\n",
       "      <td>NaN</td>\n",
       "      <td>NaN</td>\n",
       "      <td>NaN</td>\n",
       "      <td>NaN</td>\n",
       "      <td>NaN</td>\n",
       "      <td>NaN</td>\n",
       "      <td>NaN</td>\n",
       "      <td>...</td>\n",
       "      <td>1</td>\n",
       "      <td>-2</td>\n",
       "      <td>1</td>\n",
       "      <td>-1</td>\n",
       "      <td>1</td>\n",
       "      <td>-1</td>\n",
       "      <td>1</td>\n",
       "      <td>-1</td>\n",
       "      <td>1</td>\n",
       "      <td>-1</td>\n",
       "    </tr>\n",
       "    <tr>\n",
       "      <th>248</th>\n",
       "      <td>NaN</td>\n",
       "      <td>NaN</td>\n",
       "      <td>NaN</td>\n",
       "      <td>NaN</td>\n",
       "      <td>NaN</td>\n",
       "      <td>NaN</td>\n",
       "      <td>NaN</td>\n",
       "      <td>NaN</td>\n",
       "      <td>NaN</td>\n",
       "      <td>NaN</td>\n",
       "      <td>...</td>\n",
       "      <td>5</td>\n",
       "      <td>-3</td>\n",
       "      <td>5</td>\n",
       "      <td>-3</td>\n",
       "      <td>5</td>\n",
       "      <td>-3</td>\n",
       "      <td>5</td>\n",
       "      <td>-3</td>\n",
       "      <td>5</td>\n",
       "      <td>-3</td>\n",
       "    </tr>\n",
       "    <tr>\n",
       "      <th>258</th>\n",
       "      <td>NaN</td>\n",
       "      <td>NaN</td>\n",
       "      <td>NaN</td>\n",
       "      <td>NaN</td>\n",
       "      <td>NaN</td>\n",
       "      <td>NaN</td>\n",
       "      <td>NaN</td>\n",
       "      <td>NaN</td>\n",
       "      <td>-0.005571</td>\n",
       "      <td>0.244</td>\n",
       "      <td>...</td>\n",
       "      <td>-22744</td>\n",
       "      <td>-632996</td>\n",
       "      <td>5</td>\n",
       "      <td>-2</td>\n",
       "      <td>5</td>\n",
       "      <td>-2</td>\n",
       "      <td>5</td>\n",
       "      <td>-2</td>\n",
       "      <td>5</td>\n",
       "      <td>-2</td>\n",
       "    </tr>\n",
       "  </tbody>\n",
       "</table>\n",
       "<p>5 rows × 431 columns</p>\n",
       "</div>"
      ],
      "text/plain": [
       "     num_L2_S28_mean  num_L2_S28_max  num_L2_S28_min  num_L2_S28_var  \\\n",
       "Id                                                                     \n",
       "9                NaN             NaN             NaN             NaN   \n",
       "136              NaN             NaN             NaN             NaN   \n",
       "229              NaN             NaN             NaN             NaN   \n",
       "248              NaN             NaN             NaN             NaN   \n",
       "258              NaN             NaN             NaN             NaN   \n",
       "\n",
       "     num_L3_S31_mean  num_L3_S31_max  num_L3_S31_min  num_L3_S31_var  \\\n",
       "Id                                                                     \n",
       "9                NaN             NaN             NaN             NaN   \n",
       "136              NaN             NaN             NaN             NaN   \n",
       "229              NaN             NaN             NaN             NaN   \n",
       "248              NaN             NaN             NaN             NaN   \n",
       "258              NaN             NaN             NaN             NaN   \n",
       "\n",
       "     num_L2_S26_mean  num_L2_S26_max             ...               \\\n",
       "Id                                               ...                \n",
       "9                NaN             NaN             ...                \n",
       "136              NaN             NaN             ...                \n",
       "229              NaN             NaN             ...                \n",
       "248              NaN             NaN             ...                \n",
       "258        -0.005571           0.244             ...                \n",
       "\n",
       "     num_L1_S25_var_index_diff_0  num_L1_S25_var_index_diff_1  \\\n",
       "Id                                                              \n",
       "9                              1                           -1   \n",
       "136                            2                           -3   \n",
       "229                            1                           -2   \n",
       "248                            5                           -3   \n",
       "258                       -22744                      -632996   \n",
       "\n",
       "     num_L1_S24_mean_index_diff_0  num_L1_S24_mean_index_diff_1  \\\n",
       "Id                                                                \n",
       "9                               4                            -1   \n",
       "136                             2                            -2   \n",
       "229                             1                            -1   \n",
       "248                             5                            -3   \n",
       "258                             5                            -2   \n",
       "\n",
       "     num_L1_S24_var_index_diff_0  num_L1_S24_var_index_diff_1  \\\n",
       "Id                                                              \n",
       "9                              4                           -1   \n",
       "136                            2                           -2   \n",
       "229                            1                           -1   \n",
       "248                            5                           -3   \n",
       "258                            5                           -2   \n",
       "\n",
       "     num_L3_S39_mean_index_diff_0  num_L3_S39_mean_index_diff_1  \\\n",
       "Id                                                                \n",
       "9                               1                            -1   \n",
       "136                      -2367003                         -2083   \n",
       "229                             1                            -1   \n",
       "248                             5                            -3   \n",
       "258                             5                            -2   \n",
       "\n",
       "     num_L3_S39_var_index_diff_0  num_L3_S39_var_index_diff_1  \n",
       "Id                                                             \n",
       "9                              1                           -1  \n",
       "136                     -2326492                       -10902  \n",
       "229                            1                           -1  \n",
       "248                            5                           -3  \n",
       "258                            5                           -2  \n",
       "\n",
       "[5 rows x 431 columns]"
      ]
     },
     "execution_count": 17,
     "metadata": {},
     "output_type": "execute_result"
    }
   ],
   "source": [
    "combined_train_station_num.head()"
   ]
  },
  {
   "cell_type": "code",
   "execution_count": 18,
   "metadata": {
    "collapsed": false
   },
   "outputs": [
    {
     "data": {
      "text/plain": [
       "-2367003.0"
      ]
     },
     "execution_count": 18,
     "metadata": {},
     "output_type": "execute_result"
    }
   ],
   "source": [
    "combined_train_station_num.min(axis=0).min()"
   ]
  },
  {
   "cell_type": "code",
   "execution_count": 19,
   "metadata": {
    "collapsed": false,
    "scrolled": true
   },
   "outputs": [
    {
     "data": {
      "text/plain": [
       "9999999.0"
      ]
     },
     "execution_count": 19,
     "metadata": {},
     "output_type": "execute_result"
    }
   ],
   "source": [
    "combined_train_station_num.max(axis=0).max()"
   ]
  },
  {
   "cell_type": "code",
   "execution_count": 21,
   "metadata": {
    "collapsed": false
   },
   "outputs": [
    {
     "data": {
      "text/plain": [
       "-2367235.0"
      ]
     },
     "execution_count": 21,
     "metadata": {},
     "output_type": "execute_result"
    }
   ],
   "source": [
    "combined_train_station_dat.min(axis=0).min()"
   ]
  },
  {
   "cell_type": "code",
   "execution_count": 31,
   "metadata": {
    "collapsed": false
   },
   "outputs": [],
   "source": [
    "#for col in combined_train_station_dat.columns:\n",
    "    #print col, len(combined_train_station_dat[col].value_counts())"
   ]
  },
  {
   "cell_type": "code",
   "execution_count": 32,
   "metadata": {
    "collapsed": false
   },
   "outputs": [
    {
     "data": {
      "text/plain": [
       "Id\n",
       "9          0\n",
       "136        0\n",
       "229        0\n",
       "248        0\n",
       "258        0\n",
       "269        0\n",
       "293        0\n",
       "421        0\n",
       "464        0\n",
       "471        0\n",
       "505        0\n",
       "558        0\n",
       "565        0\n",
       "744        0\n",
       "754        0\n",
       "755        0\n",
       "767        0\n",
       "955        0\n",
       "970        0\n",
       "1019       0\n",
       "1050       0\n",
       "1112       0\n",
       "1191       0\n",
       "1219       0\n",
       "1222       0\n",
       "1252       0\n",
       "1304       0\n",
       "1325       0\n",
       "1351       0\n",
       "1387       0\n",
       "          ..\n",
       "2366182    0\n",
       "2366215    0\n",
       "2366260    0\n",
       "2366297    0\n",
       "2366330    0\n",
       "2366349    0\n",
       "2366374    0\n",
       "2366510    0\n",
       "2366546    0\n",
       "2366569    0\n",
       "2366580    0\n",
       "2366638    0\n",
       "2366816    0\n",
       "2366851    0\n",
       "2366915    0\n",
       "2366972    0\n",
       "2366991    0\n",
       "2367013    0\n",
       "2367069    0\n",
       "2367139    0\n",
       "2367145    0\n",
       "2367174    0\n",
       "2367196    0\n",
       "2367228    0\n",
       "2367244    0\n",
       "2367247    0\n",
       "2367302    0\n",
       "2367357    0\n",
       "2367384    0\n",
       "2367400    0\n",
       "dtype: int64"
      ]
     },
     "execution_count": 32,
     "metadata": {},
     "output_type": "execute_result"
    }
   ],
   "source": [
    "combined_train_station_num.isnull().sum(axis=1)"
   ]
  },
  {
   "cell_type": "code",
   "execution_count": 35,
   "metadata": {
    "collapsed": false
   },
   "outputs": [
    {
     "data": {
      "text/plain": [
       "(0, 0)"
      ]
     },
     "execution_count": 35,
     "metadata": {},
     "output_type": "execute_result"
    }
   ],
   "source": [
    "print combined_train_station_num.isnull().sum().sum(), combined_train_station_dat.isnull().sum().sum()"
   ]
  },
  {
   "cell_type": "code",
   "execution_count": null,
   "metadata": {
    "collapsed": true
   },
   "outputs": [],
   "source": []
  },
  {
   "cell_type": "code",
   "execution_count": null,
   "metadata": {
    "collapsed": true
   },
   "outputs": [],
   "source": []
  },
  {
   "cell_type": "markdown",
   "metadata": {},
   "source": [
    "#### build categorical features"
   ]
  },
  {
   "cell_type": "code",
   "execution_count": 50,
   "metadata": {
    "collapsed": true
   },
   "outputs": [],
   "source": [
    "def BasicCat_FeatureEngineering(train_cat):\n",
    "    ## feature engineering on the date features\n",
    "    encoder = preprocessing.LabelEncoder()\n",
    "    column_names = train_cat.columns.tolist()\n",
    "    column_names.append('NaN')\n",
    "    encoder.fit(column_names)\n",
    "    dat_new_fea = pd.DataFrame()\n",
    "    dat_new_fea['cat_sum'] = train_cat.sum(axis=1)\n",
    "    dat_new_fea['cat_mean'] = train_cat.mean(axis=1)\n",
    "    dat_new_fea['cat_nan_count'] = train_cat.isnull().sum(axis=1)\n",
    "    dat_new_fea['cat_max'] = train_cat.max(axis=1)\n",
    "    dat_new_fea['cat_min'] = train_cat.min(axis=1)\n",
    "    dat_new_fea['cat_max_min_diff'] = dat_new_fea['cat_max'] - dat_new_fea['cat_min']\n",
    "    dat_new_fea['cat_max_min_ratio'] = dat_new_fea['cat_min'] / dat_new_fea['cat_max']\n",
    "\n",
    "    dat_new_fea['cat_idxmax'] = train_cat.idxmax(axis=1)\n",
    "    dat_new_fea['cat_idxmax'].fillna('NaN', inplace=True)\n",
    "    dat_new_fea['cat_idxmax'] = encoder.transform(dat_new_fea['cat_idxmax'])\n",
    "    dat_new_fea['cat_idxmin'] = train_cat.idxmin(axis=1)\n",
    "    dat_new_fea['cat_idxmin'].fillna('NaN', inplace=True)\n",
    "    dat_new_fea['cat_idxmin'] = encoder.transform(dat_new_fea['cat_idxmin'])\n",
    "    return dat_new_fea\n",
    "\n",
    "\n",
    "\n",
    "def encode_categorical_by_dep_var(train, test, dep_var_column='Response'):\n",
    "    for col_name in train.columns:\n",
    "        if col_name == dep_var_column:\n",
    "            continue\n",
    "        \n",
    "        train[col_name] = train[col_name].astype(str)\n",
    "        test[col_name] = test[col_name].astype(str)\n",
    "        dep_var_mean = train[[col_name, dep_var_column]].groupby(col_name).mean()\n",
    "    \n",
    "        dep_var_dict = {}\n",
    "        for level in dep_var_mean.index.tolist():\n",
    "            dep_var_dict[level] = dep_var_mean.ix[level, dep_var_column]\n",
    "    \n",
    "        train[col_name] = train[col_name].replace(dep_var_dict)  \n",
    "        test[col_name] = test[col_name].replace(dep_var_dict)  "
   ]
  },
  {
   "cell_type": "code",
   "execution_count": null,
   "metadata": {
    "collapsed": true
   },
   "outputs": [],
   "source": []
  },
  {
   "cell_type": "code",
   "execution_count": 51,
   "metadata": {
    "collapsed": false
   },
   "outputs": [
    {
     "name": "stdout",
     "output_type": "stream",
     "text": [
      "finish generating categorical features using 914.0 seconds\n"
     ]
    }
   ],
   "source": [
    "start_time = time.time()\n",
    "\n",
    "train_cat['Response'] = train_num['Response']\n",
    "encode_categorical_by_dep_var(train_cat, test_cat)\n",
    "train_cat.drop('Response', axis=1, inplace=True)\n",
    "\n",
    "print 'finish encoding categorical features using {} seconds'.format(round(time.time() - start_time, 0))\n",
    "\n",
    "train_cat_Basics = BasicCat_FeatureEngineering(train_cat)\n",
    "test_cat_Basics  = BasicCat_FeatureEngineering(train_cat)\n",
    "\n",
    "print 'finish generating all categorical features using {} seconds'.format(round(time.time() - start_time, 0))\n"
   ]
  },
  {
   "cell_type": "code",
   "execution_count": 56,
   "metadata": {
    "collapsed": false
   },
   "outputs": [
    {
     "data": {
      "text/plain": [
       "float64    1204\n",
       "dtype: int64"
      ]
     },
     "execution_count": 56,
     "metadata": {},
     "output_type": "execute_result"
    }
   ],
   "source": [
    "train_cat.dtypes.value_counts()"
   ]
  },
  {
   "cell_type": "code",
   "execution_count": 57,
   "metadata": {
    "collapsed": false
   },
   "outputs": [
    {
     "name": "stdout",
     "output_type": "stream",
     "text": [
      "(50000, 1204) (50000, 1204)\n"
     ]
    },
    {
     "data": {
      "text/html": [
       "<div>\n",
       "<table border=\"1\" class=\"dataframe\">\n",
       "  <thead>\n",
       "    <tr style=\"text-align: right;\">\n",
       "      <th></th>\n",
       "      <th>L0_S2_F33</th>\n",
       "      <th>L0_S2_F35</th>\n",
       "      <th>L0_S2_F37</th>\n",
       "      <th>L0_S2_F39</th>\n",
       "      <th>L0_S2_F41</th>\n",
       "      <th>L0_S2_F43</th>\n",
       "      <th>L0_S2_F45</th>\n",
       "      <th>L0_S2_F47</th>\n",
       "      <th>L0_S2_F49</th>\n",
       "      <th>L0_S2_F51</th>\n",
       "      <th>...</th>\n",
       "      <th>L3_S49_F4225</th>\n",
       "      <th>L3_S49_F4227</th>\n",
       "      <th>L3_S49_F4229</th>\n",
       "      <th>L3_S49_F4230</th>\n",
       "      <th>L3_S49_F4232</th>\n",
       "      <th>L3_S49_F4234</th>\n",
       "      <th>L3_S49_F4235</th>\n",
       "      <th>L3_S49_F4237</th>\n",
       "      <th>L3_S49_F4239</th>\n",
       "      <th>L3_S49_F4240</th>\n",
       "    </tr>\n",
       "    <tr>\n",
       "      <th>Id</th>\n",
       "      <th></th>\n",
       "      <th></th>\n",
       "      <th></th>\n",
       "      <th></th>\n",
       "      <th></th>\n",
       "      <th></th>\n",
       "      <th></th>\n",
       "      <th></th>\n",
       "      <th></th>\n",
       "      <th></th>\n",
       "      <th></th>\n",
       "      <th></th>\n",
       "      <th></th>\n",
       "      <th></th>\n",
       "      <th></th>\n",
       "      <th></th>\n",
       "      <th></th>\n",
       "      <th></th>\n",
       "      <th></th>\n",
       "      <th></th>\n",
       "      <th></th>\n",
       "    </tr>\n",
       "  </thead>\n",
       "  <tbody>\n",
       "    <tr>\n",
       "      <th>9</th>\n",
       "      <td>0.006241</td>\n",
       "      <td>0.006241</td>\n",
       "      <td>0.006241</td>\n",
       "      <td>0.006241</td>\n",
       "      <td>0.006241</td>\n",
       "      <td>0.006241</td>\n",
       "      <td>0.006241</td>\n",
       "      <td>0.006241</td>\n",
       "      <td>0.006241</td>\n",
       "      <td>0.006241</td>\n",
       "      <td>...</td>\n",
       "      <td>0.00624</td>\n",
       "      <td>0.00624</td>\n",
       "      <td>0.00624</td>\n",
       "      <td>0.00624</td>\n",
       "      <td>0.00624</td>\n",
       "      <td>0.00624</td>\n",
       "      <td>0.00624</td>\n",
       "      <td>0.00624</td>\n",
       "      <td>0.00624</td>\n",
       "      <td>0.00624</td>\n",
       "    </tr>\n",
       "    <tr>\n",
       "      <th>136</th>\n",
       "      <td>0.006241</td>\n",
       "      <td>0.006241</td>\n",
       "      <td>0.006241</td>\n",
       "      <td>0.006241</td>\n",
       "      <td>0.006241</td>\n",
       "      <td>0.006241</td>\n",
       "      <td>0.006241</td>\n",
       "      <td>0.006241</td>\n",
       "      <td>0.006241</td>\n",
       "      <td>0.006241</td>\n",
       "      <td>...</td>\n",
       "      <td>0.00624</td>\n",
       "      <td>0.00624</td>\n",
       "      <td>0.00624</td>\n",
       "      <td>0.00624</td>\n",
       "      <td>0.00624</td>\n",
       "      <td>0.00624</td>\n",
       "      <td>0.00624</td>\n",
       "      <td>0.00624</td>\n",
       "      <td>0.00624</td>\n",
       "      <td>0.00624</td>\n",
       "    </tr>\n",
       "    <tr>\n",
       "      <th>229</th>\n",
       "      <td>0.006241</td>\n",
       "      <td>0.006241</td>\n",
       "      <td>0.006241</td>\n",
       "      <td>0.006241</td>\n",
       "      <td>0.006241</td>\n",
       "      <td>0.006241</td>\n",
       "      <td>0.006241</td>\n",
       "      <td>0.006241</td>\n",
       "      <td>0.006241</td>\n",
       "      <td>0.006241</td>\n",
       "      <td>...</td>\n",
       "      <td>0.00624</td>\n",
       "      <td>0.00624</td>\n",
       "      <td>0.00624</td>\n",
       "      <td>0.00624</td>\n",
       "      <td>0.00624</td>\n",
       "      <td>0.00624</td>\n",
       "      <td>0.00624</td>\n",
       "      <td>0.00624</td>\n",
       "      <td>0.00624</td>\n",
       "      <td>0.00624</td>\n",
       "    </tr>\n",
       "    <tr>\n",
       "      <th>248</th>\n",
       "      <td>0.006241</td>\n",
       "      <td>0.006241</td>\n",
       "      <td>0.006241</td>\n",
       "      <td>0.006241</td>\n",
       "      <td>0.006241</td>\n",
       "      <td>0.006241</td>\n",
       "      <td>0.006241</td>\n",
       "      <td>0.006241</td>\n",
       "      <td>0.006241</td>\n",
       "      <td>0.006241</td>\n",
       "      <td>...</td>\n",
       "      <td>0.00624</td>\n",
       "      <td>0.00624</td>\n",
       "      <td>0.00624</td>\n",
       "      <td>0.00624</td>\n",
       "      <td>0.00624</td>\n",
       "      <td>0.00624</td>\n",
       "      <td>0.00624</td>\n",
       "      <td>0.00624</td>\n",
       "      <td>0.00624</td>\n",
       "      <td>0.00624</td>\n",
       "    </tr>\n",
       "    <tr>\n",
       "      <th>258</th>\n",
       "      <td>0.006241</td>\n",
       "      <td>0.006241</td>\n",
       "      <td>0.006241</td>\n",
       "      <td>0.006241</td>\n",
       "      <td>0.006241</td>\n",
       "      <td>0.006241</td>\n",
       "      <td>0.006241</td>\n",
       "      <td>0.006241</td>\n",
       "      <td>0.006241</td>\n",
       "      <td>0.006241</td>\n",
       "      <td>...</td>\n",
       "      <td>0.00624</td>\n",
       "      <td>0.00624</td>\n",
       "      <td>0.00624</td>\n",
       "      <td>0.00624</td>\n",
       "      <td>0.00624</td>\n",
       "      <td>0.00624</td>\n",
       "      <td>0.00624</td>\n",
       "      <td>0.00624</td>\n",
       "      <td>0.00624</td>\n",
       "      <td>0.00624</td>\n",
       "    </tr>\n",
       "  </tbody>\n",
       "</table>\n",
       "<p>5 rows × 1204 columns</p>\n",
       "</div>"
      ],
      "text/plain": [
       "     L0_S2_F33  L0_S2_F35  L0_S2_F37  L0_S2_F39  L0_S2_F41  L0_S2_F43  \\\n",
       "Id                                                                      \n",
       "9     0.006241   0.006241   0.006241   0.006241   0.006241   0.006241   \n",
       "136   0.006241   0.006241   0.006241   0.006241   0.006241   0.006241   \n",
       "229   0.006241   0.006241   0.006241   0.006241   0.006241   0.006241   \n",
       "248   0.006241   0.006241   0.006241   0.006241   0.006241   0.006241   \n",
       "258   0.006241   0.006241   0.006241   0.006241   0.006241   0.006241   \n",
       "\n",
       "     L0_S2_F45  L0_S2_F47  L0_S2_F49  L0_S2_F51      ...       L3_S49_F4225  \\\n",
       "Id                                                   ...                      \n",
       "9     0.006241   0.006241   0.006241   0.006241      ...            0.00624   \n",
       "136   0.006241   0.006241   0.006241   0.006241      ...            0.00624   \n",
       "229   0.006241   0.006241   0.006241   0.006241      ...            0.00624   \n",
       "248   0.006241   0.006241   0.006241   0.006241      ...            0.00624   \n",
       "258   0.006241   0.006241   0.006241   0.006241      ...            0.00624   \n",
       "\n",
       "     L3_S49_F4227  L3_S49_F4229  L3_S49_F4230  L3_S49_F4232  L3_S49_F4234  \\\n",
       "Id                                                                          \n",
       "9         0.00624       0.00624       0.00624       0.00624       0.00624   \n",
       "136       0.00624       0.00624       0.00624       0.00624       0.00624   \n",
       "229       0.00624       0.00624       0.00624       0.00624       0.00624   \n",
       "248       0.00624       0.00624       0.00624       0.00624       0.00624   \n",
       "258       0.00624       0.00624       0.00624       0.00624       0.00624   \n",
       "\n",
       "     L3_S49_F4235  L3_S49_F4237  L3_S49_F4239  L3_S49_F4240  \n",
       "Id                                                           \n",
       "9         0.00624       0.00624       0.00624       0.00624  \n",
       "136       0.00624       0.00624       0.00624       0.00624  \n",
       "229       0.00624       0.00624       0.00624       0.00624  \n",
       "248       0.00624       0.00624       0.00624       0.00624  \n",
       "258       0.00624       0.00624       0.00624       0.00624  \n",
       "\n",
       "[5 rows x 1204 columns]"
      ]
     },
     "execution_count": 57,
     "metadata": {},
     "output_type": "execute_result"
    }
   ],
   "source": [
    "print train_cat.shape, test_cat.shape\n",
    "train_cat.head()"
   ]
  },
  {
   "cell_type": "code",
   "execution_count": 60,
   "metadata": {
    "collapsed": false,
    "scrolled": true
   },
   "outputs": [
    {
     "data": {
      "text/plain": [
       "0"
      ]
     },
     "execution_count": 60,
     "metadata": {},
     "output_type": "execute_result"
    }
   ],
   "source": [
    "train_cat_Basics.isnull().sum(axis=0).sum()"
   ]
  },
  {
   "cell_type": "code",
   "execution_count": 82,
   "metadata": {
    "collapsed": false
   },
   "outputs": [
    {
     "name": "stdout",
     "output_type": "stream",
     "text": [
      "finish feature engineering date using 2.01 seconds\n"
     ]
    }
   ],
   "source": [
    "start_time = time.time()\n",
    "combined_train_cat = pd.concat([train_cat, train_cat_Basics], axis=1)\n",
    "combined_test_cat  = pd.concat([test_cat, test_cat_Basics], axis=1)                                                                                                                                                 \n",
    "print 'finish feature engineering date using {} seconds'.format(round((time.time() - start_time), 2))"
   ]
  },
  {
   "cell_type": "code",
   "execution_count": null,
   "metadata": {
    "collapsed": true
   },
   "outputs": [],
   "source": []
  },
  {
   "cell_type": "code",
   "execution_count": 65,
   "metadata": {
    "collapsed": false
   },
   "outputs": [
    {
     "name": "stdout",
     "output_type": "stream",
     "text": [
      "finish feature engineering numercical using 12.59 seconds\n",
      "combined train numerical feature shape: (50000, 978), combined test numerical features shape: (50000, 977)\n"
     ]
    }
   ],
   "source": [
    "start_time = time.time()\n",
    "\n",
    "#### numerical feature engineering work\n",
    "train_num_Basics = NumericalFeatureEngineering(train_num)\n",
    "test_num_Basics = NumericalFeatureEngineering(test_num)\n",
    "\n",
    "missing_value= -1.5\n",
    "train_num_Basics.fillna(missing_value, inplace=True)\n",
    "test_num_Basics.fillna(missing_value, inplace=True)\n",
    "\n",
    "train_num.fillna(missing_value, inplace=True)\n",
    "test_num.fillna(missing_value, inplace=True)\n",
    "\n",
    "combined_train_num = pd.concat([train_num, train_num_Basics], axis=1)\n",
    "combined_test_num  = pd.concat([test_num, test_num_Basics], axis=1)\n",
    "print 'finish feature engineering numercical using {} seconds'.format(round((time.time() - start_time), 2))\n",
    "print 'combined train numerical feature shape: {}, combined test numerical features shape: {}'.format(combined_train_num.shape, combined_test_num.shape)"
   ]
  },
  {
   "cell_type": "code",
   "execution_count": 67,
   "metadata": {
    "collapsed": false
   },
   "outputs": [
    {
     "name": "stdout",
     "output_type": "stream",
     "text": [
      "0 0\n"
     ]
    }
   ],
   "source": [
    "print combined_train_num.isnull().sum().sum(), combined_test_num.isnull().sum().sum()"
   ]
  },
  {
   "cell_type": "code",
   "execution_count": null,
   "metadata": {
    "collapsed": true
   },
   "outputs": [],
   "source": []
  },
  {
   "cell_type": "code",
   "execution_count": 66,
   "metadata": {
    "collapsed": true
   },
   "outputs": [],
   "source": [
    "### section of date features\n",
    "\n",
    "## basic features from tmp_train_dat\n",
    "train_dat_Basics = BasicDate_FeatureEngineering(train_dat)\n",
    "test_dat_Basics  = BasicDate_FeatureEngineering(test_dat)"
   ]
  },
  {
   "cell_type": "code",
   "execution_count": 68,
   "metadata": {
    "collapsed": false
   },
   "outputs": [
    {
     "name": "stdout",
     "output_type": "stream",
     "text": [
      "raw train data dimension:  (50000, 1146)\n",
      "raw test data dimension:  (50000, 1146)\n",
      "processed train data dimension:  (50000, 960)\n",
      "processed test data dimension:  (50000, 960)\n"
     ]
    }
   ],
   "source": [
    "## normalized date columns\n",
    "train_dat_Norm = train_dat.apply(getRelativeTimeColumns, axis=1)\n",
    "test_dat_Norm  = test_dat.apply(getRelativeTimeColumns, axis=1)\n",
    "## remove single-valued columns\n",
    "remove_single_value_columns(train_dat_Norm, test=test_dat_Norm)"
   ]
  },
  {
   "cell_type": "code",
   "execution_count": 69,
   "metadata": {
    "collapsed": false
   },
   "outputs": [
    {
     "data": {
      "text/plain": [
       "LabelEncoder()"
      ]
     },
     "execution_count": 69,
     "metadata": {},
     "output_type": "execute_result"
    }
   ],
   "source": [
    "encoder = preprocessing.LabelEncoder()\n",
    "column_names = train_dat.columns.tolist()\n",
    "column_names.append('NaN')\n",
    "encoder.fit(column_names)"
   ]
  },
  {
   "cell_type": "code",
   "execution_count": 70,
   "metadata": {
    "collapsed": true
   },
   "outputs": [],
   "source": [
    "## TimeDiff features\n",
    "train_dat_TimeDiff = train_dat.apply(getTimeChangeColumns, axis=1)\n",
    "test_dat_TimeDiff  = test_dat.apply(getTimeChangeColumns, axis=1)\n",
    "TimeDiff_ColumnNames = ['time_diff_start_col', 'time_diff_end_col', 'time_diff_value',\n",
    "                        'time_ratio_value', 'first_time_value', 'last_time_value', 'first_date_value']\n",
    "\n",
    "train_dat_TimeDiff.columns = TimeDiff_ColumnNames\n",
    "test_dat_TimeDiff.columns = TimeDiff_ColumnNames\n",
    "\n",
    "for column in ['time_diff_start_col', 'time_diff_end_col']:\n",
    "    train_dat_TimeDiff[column].fillna('NaN', inplace=True)\n",
    "    train_dat_TimeDiff[column] = encoder.transform(train_dat_TimeDiff[column])\n",
    "    \n",
    "    test_dat_TimeDiff[column].fillna('NaN', inplace=True)\n",
    "    test_dat_TimeDiff[column] = encoder.transform(test_dat_TimeDiff[column])\n"
   ]
  },
  {
   "cell_type": "code",
   "execution_count": 71,
   "metadata": {
    "collapsed": false
   },
   "outputs": [
    {
     "name": "stdout",
     "output_type": "stream",
     "text": [
      "finish generating TimeStep features using 616.0 seconds\n"
     ]
    }
   ],
   "source": [
    "start_time = time.time()\n",
    "\n",
    "## section to create timeStep features\n",
    "\n",
    "unique_value_counts = 6\n",
    "timeStep_columnNames = []\n",
    "column_name_columns = []\n",
    "for i in xrange(unique_value_counts):\n",
    "    timeStep_columnNames.extend(['time_diff_step_{}'.format(i), 'column_counts_step_{}'.format(i),\n",
    "                                 'time_cost_step_{}'.format(i), 'first_column_step_{}'.format(i)])\n",
    "    column_name_columns.append('first_column_step_{}'.format(i))\n",
    "\n",
    "train_dat_TimeStep = train_dat_Norm.apply(getTimeSteps, axis=1)\n",
    "test_dat_TimeStep  = test_dat_Norm.apply(getTimeSteps, axis=1)\n",
    "train_dat_TimeStep.columns = timeStep_columnNames\n",
    "test_dat_TimeStep.columns  = timeStep_columnNames\n",
    "\n",
    "for column in column_name_columns:\n",
    "    train_dat_TimeStep[column].fillna('NaN', inplace=True)\n",
    "    test_dat_TimeStep[column].fillna('NaN', inplace=True)\n",
    "    train_dat_TimeStep[column] = encoder.transform(train_dat_TimeStep[column])\n",
    "    test_dat_TimeStep[column] = encoder.transform(test_dat_TimeStep[column])\n",
    "\n",
    "\n",
    "print 'finish generating TimeStep features using {} seconds'.format(round(time.time() - start_time, 0))\n"
   ]
  },
  {
   "cell_type": "code",
   "execution_count": 72,
   "metadata": {
    "collapsed": false
   },
   "outputs": [
    {
     "name": "stdout",
     "output_type": "stream",
     "text": [
      "42369176 21633 144517 21587\n"
     ]
    }
   ],
   "source": [
    "print train_dat_Norm.isnull().sum().sum(), train_dat_Basics.isnull().sum().sum(), train_dat_TimeStep.isnull().sum().sum(), train_dat_TimeDiff.isnull().sum().sum()"
   ]
  },
  {
   "cell_type": "code",
   "execution_count": 73,
   "metadata": {
    "collapsed": false,
    "scrolled": true
   },
   "outputs": [
    {
     "data": {
      "text/html": [
       "<div>\n",
       "<table border=\"1\" class=\"dataframe\">\n",
       "  <thead>\n",
       "    <tr style=\"text-align: right;\">\n",
       "      <th></th>\n",
       "      <th>L0_S0_D1</th>\n",
       "      <th>L0_S0_D3</th>\n",
       "      <th>L0_S0_D5</th>\n",
       "      <th>L0_S0_D7</th>\n",
       "      <th>L0_S0_D9</th>\n",
       "      <th>L0_S0_D11</th>\n",
       "      <th>L0_S0_D13</th>\n",
       "      <th>L0_S0_D15</th>\n",
       "      <th>L0_S0_D17</th>\n",
       "      <th>L0_S0_D19</th>\n",
       "      <th>...</th>\n",
       "      <th>L3_S50_D4246</th>\n",
       "      <th>L3_S50_D4248</th>\n",
       "      <th>L3_S50_D4250</th>\n",
       "      <th>L3_S50_D4252</th>\n",
       "      <th>L3_S50_D4254</th>\n",
       "      <th>L3_S51_D4255</th>\n",
       "      <th>L3_S51_D4257</th>\n",
       "      <th>L3_S51_D4259</th>\n",
       "      <th>L3_S51_D4261</th>\n",
       "      <th>L3_S51_D4263</th>\n",
       "    </tr>\n",
       "    <tr>\n",
       "      <th>Id</th>\n",
       "      <th></th>\n",
       "      <th></th>\n",
       "      <th></th>\n",
       "      <th></th>\n",
       "      <th></th>\n",
       "      <th></th>\n",
       "      <th></th>\n",
       "      <th></th>\n",
       "      <th></th>\n",
       "      <th></th>\n",
       "      <th></th>\n",
       "      <th></th>\n",
       "      <th></th>\n",
       "      <th></th>\n",
       "      <th></th>\n",
       "      <th></th>\n",
       "      <th></th>\n",
       "      <th></th>\n",
       "      <th></th>\n",
       "      <th></th>\n",
       "      <th></th>\n",
       "    </tr>\n",
       "  </thead>\n",
       "  <tbody>\n",
       "    <tr>\n",
       "      <th>9</th>\n",
       "      <td>0.0</td>\n",
       "      <td>0.0</td>\n",
       "      <td>0.0</td>\n",
       "      <td>0.0</td>\n",
       "      <td>0.0</td>\n",
       "      <td>0.0</td>\n",
       "      <td>0.0</td>\n",
       "      <td>0.0</td>\n",
       "      <td>0.0</td>\n",
       "      <td>0.0</td>\n",
       "      <td>...</td>\n",
       "      <td>NaN</td>\n",
       "      <td>NaN</td>\n",
       "      <td>NaN</td>\n",
       "      <td>NaN</td>\n",
       "      <td>NaN</td>\n",
       "      <td>NaN</td>\n",
       "      <td>NaN</td>\n",
       "      <td>NaN</td>\n",
       "      <td>NaN</td>\n",
       "      <td>NaN</td>\n",
       "    </tr>\n",
       "    <tr>\n",
       "      <th>136</th>\n",
       "      <td>0.0</td>\n",
       "      <td>0.0</td>\n",
       "      <td>0.0</td>\n",
       "      <td>0.0</td>\n",
       "      <td>0.0</td>\n",
       "      <td>0.0</td>\n",
       "      <td>0.0</td>\n",
       "      <td>0.0</td>\n",
       "      <td>0.0</td>\n",
       "      <td>0.0</td>\n",
       "      <td>...</td>\n",
       "      <td>2.38</td>\n",
       "      <td>2.38</td>\n",
       "      <td>2.38</td>\n",
       "      <td>2.38</td>\n",
       "      <td>2.38</td>\n",
       "      <td>2.38</td>\n",
       "      <td>2.38</td>\n",
       "      <td>2.38</td>\n",
       "      <td>2.38</td>\n",
       "      <td>2.38</td>\n",
       "    </tr>\n",
       "    <tr>\n",
       "      <th>229</th>\n",
       "      <td>NaN</td>\n",
       "      <td>NaN</td>\n",
       "      <td>NaN</td>\n",
       "      <td>NaN</td>\n",
       "      <td>NaN</td>\n",
       "      <td>NaN</td>\n",
       "      <td>NaN</td>\n",
       "      <td>NaN</td>\n",
       "      <td>NaN</td>\n",
       "      <td>NaN</td>\n",
       "      <td>...</td>\n",
       "      <td>NaN</td>\n",
       "      <td>NaN</td>\n",
       "      <td>NaN</td>\n",
       "      <td>NaN</td>\n",
       "      <td>NaN</td>\n",
       "      <td>NaN</td>\n",
       "      <td>NaN</td>\n",
       "      <td>NaN</td>\n",
       "      <td>NaN</td>\n",
       "      <td>NaN</td>\n",
       "    </tr>\n",
       "    <tr>\n",
       "      <th>248</th>\n",
       "      <td>0.0</td>\n",
       "      <td>0.0</td>\n",
       "      <td>0.0</td>\n",
       "      <td>0.0</td>\n",
       "      <td>0.0</td>\n",
       "      <td>0.0</td>\n",
       "      <td>0.0</td>\n",
       "      <td>0.0</td>\n",
       "      <td>0.0</td>\n",
       "      <td>0.0</td>\n",
       "      <td>...</td>\n",
       "      <td>NaN</td>\n",
       "      <td>NaN</td>\n",
       "      <td>NaN</td>\n",
       "      <td>NaN</td>\n",
       "      <td>NaN</td>\n",
       "      <td>NaN</td>\n",
       "      <td>NaN</td>\n",
       "      <td>NaN</td>\n",
       "      <td>NaN</td>\n",
       "      <td>NaN</td>\n",
       "    </tr>\n",
       "    <tr>\n",
       "      <th>258</th>\n",
       "      <td>NaN</td>\n",
       "      <td>NaN</td>\n",
       "      <td>NaN</td>\n",
       "      <td>NaN</td>\n",
       "      <td>NaN</td>\n",
       "      <td>NaN</td>\n",
       "      <td>NaN</td>\n",
       "      <td>NaN</td>\n",
       "      <td>NaN</td>\n",
       "      <td>NaN</td>\n",
       "      <td>...</td>\n",
       "      <td>NaN</td>\n",
       "      <td>NaN</td>\n",
       "      <td>NaN</td>\n",
       "      <td>NaN</td>\n",
       "      <td>NaN</td>\n",
       "      <td>NaN</td>\n",
       "      <td>NaN</td>\n",
       "      <td>NaN</td>\n",
       "      <td>NaN</td>\n",
       "      <td>NaN</td>\n",
       "    </tr>\n",
       "  </tbody>\n",
       "</table>\n",
       "<p>5 rows × 960 columns</p>\n",
       "</div>"
      ],
      "text/plain": [
       "     L0_S0_D1  L0_S0_D3  L0_S0_D5  L0_S0_D7  L0_S0_D9  L0_S0_D11  L0_S0_D13  \\\n",
       "Id                                                                            \n",
       "9         0.0       0.0       0.0       0.0       0.0        0.0        0.0   \n",
       "136       0.0       0.0       0.0       0.0       0.0        0.0        0.0   \n",
       "229       NaN       NaN       NaN       NaN       NaN        NaN        NaN   \n",
       "248       0.0       0.0       0.0       0.0       0.0        0.0        0.0   \n",
       "258       NaN       NaN       NaN       NaN       NaN        NaN        NaN   \n",
       "\n",
       "     L0_S0_D15  L0_S0_D17  L0_S0_D19      ...       L3_S50_D4246  \\\n",
       "Id                                        ...                      \n",
       "9          0.0        0.0        0.0      ...                NaN   \n",
       "136        0.0        0.0        0.0      ...               2.38   \n",
       "229        NaN        NaN        NaN      ...                NaN   \n",
       "248        0.0        0.0        0.0      ...                NaN   \n",
       "258        NaN        NaN        NaN      ...                NaN   \n",
       "\n",
       "     L3_S50_D4248  L3_S50_D4250  L3_S50_D4252  L3_S50_D4254  L3_S51_D4255  \\\n",
       "Id                                                                          \n",
       "9             NaN           NaN           NaN           NaN           NaN   \n",
       "136          2.38          2.38          2.38          2.38          2.38   \n",
       "229           NaN           NaN           NaN           NaN           NaN   \n",
       "248           NaN           NaN           NaN           NaN           NaN   \n",
       "258           NaN           NaN           NaN           NaN           NaN   \n",
       "\n",
       "     L3_S51_D4257  L3_S51_D4259  L3_S51_D4261  L3_S51_D4263  \n",
       "Id                                                           \n",
       "9             NaN           NaN           NaN           NaN  \n",
       "136          2.38          2.38          2.38          2.38  \n",
       "229           NaN           NaN           NaN           NaN  \n",
       "248           NaN           NaN           NaN           NaN  \n",
       "258           NaN           NaN           NaN           NaN  \n",
       "\n",
       "[5 rows x 960 columns]"
      ]
     },
     "execution_count": 73,
     "metadata": {},
     "output_type": "execute_result"
    }
   ],
   "source": [
    "train_dat_Norm.head()"
   ]
  },
  {
   "cell_type": "code",
   "execution_count": null,
   "metadata": {
    "collapsed": true
   },
   "outputs": [],
   "source": []
  },
  {
   "cell_type": "markdown",
   "metadata": {},
   "source": [
    "##### fill up missing values"
   ]
  },
  {
   "cell_type": "code",
   "execution_count": 98,
   "metadata": {
    "collapsed": true
   },
   "outputs": [],
   "source": [
    "train_dat_Norm.fillna(-1., inplace=True)\n",
    "test_dat_Norm.fillna(-1., inplace=True)\n",
    "\n",
    "train_dat_Basics.fillna(-1., inplace=True)\n",
    "test_dat_Basics.fillna(-1., inplace=True)\n",
    "\n",
    "train_dat_TimeStep.fillna(0, inplace=True)\n",
    "test_dat_TimeStep.fillna(0, inplace=True)\n",
    "\n",
    "train_dat_TimeDiff.fillna(0, inplace=True)\n",
    "test_dat_TimeDiff.fillna(0, inplace=True)"
   ]
  },
  {
   "cell_type": "code",
   "execution_count": 74,
   "metadata": {
    "collapsed": true
   },
   "outputs": [],
   "source": [
    "'''\n",
    "tmp_train_dat = train_dat_TimeDiff.copy()\n",
    "tmp_test_dat = test_dat_TimeDiff.copy()\n",
    "\n",
    "if 'start_time' in train_dat_Basics:\n",
    "    tmp_train_dat['start_time'] = train_dat_Basics['start_time']\n",
    "    tmp_test_dat['start_time']  = test_dat_Basics['start_time']\n",
    "'''\n"
   ]
  },
  {
   "cell_type": "code",
   "execution_count": 99,
   "metadata": {
    "collapsed": false
   },
   "outputs": [
    {
     "name": "stdout",
     "output_type": "stream",
     "text": [
      "finish feature engineering date using 0.02 minutes\n"
     ]
    }
   ],
   "source": [
    "start_time = time.time()\n",
    "combined_train_dat = pd.concat([train_dat_Norm, train_dat_Basics, train_dat_TimeDiff, train_dat_TimeStep], axis=1)\n",
    "combined_test_dat  = pd.concat([test_dat_Norm, test_dat_Basics, test_dat_TimeDiff, test_dat_TimeStep], axis=1)                                                                                                                                                 \n",
    "print 'finish feature engineering date using {} minutes'.format(round((time.time() - start_time)/60, 2))"
   ]
  },
  {
   "cell_type": "code",
   "execution_count": 100,
   "metadata": {
    "collapsed": false
   },
   "outputs": [
    {
     "name": "stdout",
     "output_type": "stream",
     "text": [
      "finish feature engineering date index using 0.02 minutes\n"
     ]
    }
   ],
   "source": [
    "start_time = time.time()\n",
    "train_test_datIndex_features = build_IndexFeatures(combined_train_dat, combined_test_dat)\n",
    "print 'finish feature engineering date index using {} minutes'.format(round((time.time() - start_time)/60, 2))"
   ]
  },
  {
   "cell_type": "code",
   "execution_count": 101,
   "metadata": {
    "collapsed": false,
    "scrolled": true
   },
   "outputs": [
    {
     "name": "stdout",
     "output_type": "stream",
     "text": [
      "(50000, 1001) (50000, 1001)\n"
     ]
    },
    {
     "data": {
      "text/html": [
       "<div>\n",
       "<table border=\"1\" class=\"dataframe\">\n",
       "  <thead>\n",
       "    <tr style=\"text-align: right;\">\n",
       "      <th></th>\n",
       "      <th>L0_S0_D1</th>\n",
       "      <th>L0_S0_D3</th>\n",
       "      <th>L0_S0_D5</th>\n",
       "      <th>L0_S0_D7</th>\n",
       "      <th>L0_S0_D9</th>\n",
       "      <th>L0_S0_D11</th>\n",
       "      <th>L0_S0_D13</th>\n",
       "      <th>L0_S0_D15</th>\n",
       "      <th>L0_S0_D17</th>\n",
       "      <th>L0_S0_D19</th>\n",
       "      <th>...</th>\n",
       "      <th>time_cost_step_3</th>\n",
       "      <th>first_column_step_3</th>\n",
       "      <th>time_diff_step_4</th>\n",
       "      <th>column_counts_step_4</th>\n",
       "      <th>time_cost_step_4</th>\n",
       "      <th>first_column_step_4</th>\n",
       "      <th>time_diff_step_5</th>\n",
       "      <th>column_counts_step_5</th>\n",
       "      <th>time_cost_step_5</th>\n",
       "      <th>first_column_step_5</th>\n",
       "    </tr>\n",
       "    <tr>\n",
       "      <th>Id</th>\n",
       "      <th></th>\n",
       "      <th></th>\n",
       "      <th></th>\n",
       "      <th></th>\n",
       "      <th></th>\n",
       "      <th></th>\n",
       "      <th></th>\n",
       "      <th></th>\n",
       "      <th></th>\n",
       "      <th></th>\n",
       "      <th></th>\n",
       "      <th></th>\n",
       "      <th></th>\n",
       "      <th></th>\n",
       "      <th></th>\n",
       "      <th></th>\n",
       "      <th></th>\n",
       "      <th></th>\n",
       "      <th></th>\n",
       "      <th></th>\n",
       "      <th></th>\n",
       "    </tr>\n",
       "  </thead>\n",
       "  <tbody>\n",
       "    <tr>\n",
       "      <th>9</th>\n",
       "      <td>0.0</td>\n",
       "      <td>0.0</td>\n",
       "      <td>0.0</td>\n",
       "      <td>0.0</td>\n",
       "      <td>0.0</td>\n",
       "      <td>0.0</td>\n",
       "      <td>0.0</td>\n",
       "      <td>0.0</td>\n",
       "      <td>0.0</td>\n",
       "      <td>0.0</td>\n",
       "      <td>...</td>\n",
       "      <td>0.072500</td>\n",
       "      <td>945</td>\n",
       "      <td>4.94</td>\n",
       "      <td>10</td>\n",
       "      <td>0.494000</td>\n",
       "      <td>1018</td>\n",
       "      <td>4.95</td>\n",
       "      <td>5</td>\n",
       "      <td>0.990000</td>\n",
       "      <td>1028</td>\n",
       "    </tr>\n",
       "    <tr>\n",
       "      <th>136</th>\n",
       "      <td>0.0</td>\n",
       "      <td>0.0</td>\n",
       "      <td>0.0</td>\n",
       "      <td>0.0</td>\n",
       "      <td>0.0</td>\n",
       "      <td>0.0</td>\n",
       "      <td>0.0</td>\n",
       "      <td>0.0</td>\n",
       "      <td>0.0</td>\n",
       "      <td>0.0</td>\n",
       "      <td>...</td>\n",
       "      <td>0.069412</td>\n",
       "      <td>1062</td>\n",
       "      <td>2.37</td>\n",
       "      <td>5</td>\n",
       "      <td>0.474000</td>\n",
       "      <td>1104</td>\n",
       "      <td>2.38</td>\n",
       "      <td>30</td>\n",
       "      <td>0.079333</td>\n",
       "      <td>1109</td>\n",
       "    </tr>\n",
       "    <tr>\n",
       "      <th>229</th>\n",
       "      <td>-1.0</td>\n",
       "      <td>-1.0</td>\n",
       "      <td>-1.0</td>\n",
       "      <td>-1.0</td>\n",
       "      <td>-1.0</td>\n",
       "      <td>-1.0</td>\n",
       "      <td>-1.0</td>\n",
       "      <td>-1.0</td>\n",
       "      <td>-1.0</td>\n",
       "      <td>-1.0</td>\n",
       "      <td>...</td>\n",
       "      <td>0.000000</td>\n",
       "      <td>1146</td>\n",
       "      <td>0.00</td>\n",
       "      <td>0</td>\n",
       "      <td>0.000000</td>\n",
       "      <td>1146</td>\n",
       "      <td>0.00</td>\n",
       "      <td>0</td>\n",
       "      <td>0.000000</td>\n",
       "      <td>1146</td>\n",
       "    </tr>\n",
       "    <tr>\n",
       "      <th>248</th>\n",
       "      <td>0.0</td>\n",
       "      <td>0.0</td>\n",
       "      <td>0.0</td>\n",
       "      <td>0.0</td>\n",
       "      <td>0.0</td>\n",
       "      <td>0.0</td>\n",
       "      <td>0.0</td>\n",
       "      <td>0.0</td>\n",
       "      <td>0.0</td>\n",
       "      <td>0.0</td>\n",
       "      <td>...</td>\n",
       "      <td>0.579333</td>\n",
       "      <td>1018</td>\n",
       "      <td>8.70</td>\n",
       "      <td>14</td>\n",
       "      <td>0.621429</td>\n",
       "      <td>1033</td>\n",
       "      <td>0.00</td>\n",
       "      <td>0</td>\n",
       "      <td>0.000000</td>\n",
       "      <td>1146</td>\n",
       "    </tr>\n",
       "    <tr>\n",
       "      <th>258</th>\n",
       "      <td>-1.0</td>\n",
       "      <td>-1.0</td>\n",
       "      <td>-1.0</td>\n",
       "      <td>-1.0</td>\n",
       "      <td>-1.0</td>\n",
       "      <td>-1.0</td>\n",
       "      <td>-1.0</td>\n",
       "      <td>-1.0</td>\n",
       "      <td>-1.0</td>\n",
       "      <td>-1.0</td>\n",
       "      <td>...</td>\n",
       "      <td>0.000000</td>\n",
       "      <td>1146</td>\n",
       "      <td>0.00</td>\n",
       "      <td>0</td>\n",
       "      <td>0.000000</td>\n",
       "      <td>1146</td>\n",
       "      <td>0.00</td>\n",
       "      <td>0</td>\n",
       "      <td>0.000000</td>\n",
       "      <td>1146</td>\n",
       "    </tr>\n",
       "  </tbody>\n",
       "</table>\n",
       "<p>5 rows × 1001 columns</p>\n",
       "</div>"
      ],
      "text/plain": [
       "     L0_S0_D1  L0_S0_D3  L0_S0_D5  L0_S0_D7  L0_S0_D9  L0_S0_D11  L0_S0_D13  \\\n",
       "Id                                                                            \n",
       "9         0.0       0.0       0.0       0.0       0.0        0.0        0.0   \n",
       "136       0.0       0.0       0.0       0.0       0.0        0.0        0.0   \n",
       "229      -1.0      -1.0      -1.0      -1.0      -1.0       -1.0       -1.0   \n",
       "248       0.0       0.0       0.0       0.0       0.0        0.0        0.0   \n",
       "258      -1.0      -1.0      -1.0      -1.0      -1.0       -1.0       -1.0   \n",
       "\n",
       "     L0_S0_D15  L0_S0_D17  L0_S0_D19         ...           time_cost_step_3  \\\n",
       "Id                                           ...                              \n",
       "9          0.0        0.0        0.0         ...                   0.072500   \n",
       "136        0.0        0.0        0.0         ...                   0.069412   \n",
       "229       -1.0       -1.0       -1.0         ...                   0.000000   \n",
       "248        0.0        0.0        0.0         ...                   0.579333   \n",
       "258       -1.0       -1.0       -1.0         ...                   0.000000   \n",
       "\n",
       "     first_column_step_3  time_diff_step_4  column_counts_step_4  \\\n",
       "Id                                                                 \n",
       "9                    945              4.94                    10   \n",
       "136                 1062              2.37                     5   \n",
       "229                 1146              0.00                     0   \n",
       "248                 1018              8.70                    14   \n",
       "258                 1146              0.00                     0   \n",
       "\n",
       "     time_cost_step_4  first_column_step_4  time_diff_step_5  \\\n",
       "Id                                                             \n",
       "9            0.494000                 1018              4.95   \n",
       "136          0.474000                 1104              2.38   \n",
       "229          0.000000                 1146              0.00   \n",
       "248          0.621429                 1033              0.00   \n",
       "258          0.000000                 1146              0.00   \n",
       "\n",
       "     column_counts_step_5  time_cost_step_5  first_column_step_5  \n",
       "Id                                                                \n",
       "9                       5          0.990000                 1028  \n",
       "136                    30          0.079333                 1109  \n",
       "229                     0          0.000000                 1146  \n",
       "248                     0          0.000000                 1146  \n",
       "258                     0          0.000000                 1146  \n",
       "\n",
       "[5 rows x 1001 columns]"
      ]
     },
     "execution_count": 101,
     "metadata": {},
     "output_type": "execute_result"
    }
   ],
   "source": [
    "print combined_train_dat.shape, combined_test_dat.shape\n",
    "combined_train_dat.head()"
   ]
  },
  {
   "cell_type": "code",
   "execution_count": null,
   "metadata": {
    "collapsed": true
   },
   "outputs": [],
   "source": []
  },
  {
   "cell_type": "markdown",
   "metadata": {},
   "source": [
    "#### load the feature importances from xgboost models"
   ]
  },
  {
   "cell_type": "code",
   "execution_count": 50,
   "metadata": {
    "collapsed": true
   },
   "outputs": [],
   "source": [
    "xgb_feature_imp = pd.read_csv('/home/ymm/full_data_xgb_feature_importance.csv', index_col='feature')"
   ]
  },
  {
   "cell_type": "code",
   "execution_count": 51,
   "metadata": {
    "collapsed": false
   },
   "outputs": [
    {
     "data": {
      "text/html": [
       "<div>\n",
       "<table border=\"1\" class=\"dataframe\">\n",
       "  <thead>\n",
       "    <tr style=\"text-align: right;\">\n",
       "      <th></th>\n",
       "      <th>fscore_0</th>\n",
       "      <th>norm_fscore_0</th>\n",
       "      <th>fscore_1</th>\n",
       "      <th>norm_fscore_1</th>\n",
       "      <th>fscore_2</th>\n",
       "      <th>norm_fscore_2</th>\n",
       "      <th>fscore_3</th>\n",
       "      <th>norm_fscore_3</th>\n",
       "      <th>fscore_4</th>\n",
       "      <th>norm_fscore_4</th>\n",
       "      <th>...</th>\n",
       "      <th>fscore_8</th>\n",
       "      <th>norm_fscore_8</th>\n",
       "      <th>fscore_9</th>\n",
       "      <th>norm_fscore_9</th>\n",
       "      <th>fscore_10</th>\n",
       "      <th>norm_fscore_10</th>\n",
       "      <th>fscore_11</th>\n",
       "      <th>norm_fscore_11</th>\n",
       "      <th>fscore_sum</th>\n",
       "      <th>norm_fscore_sum</th>\n",
       "    </tr>\n",
       "    <tr>\n",
       "      <th>feature</th>\n",
       "      <th></th>\n",
       "      <th></th>\n",
       "      <th></th>\n",
       "      <th></th>\n",
       "      <th></th>\n",
       "      <th></th>\n",
       "      <th></th>\n",
       "      <th></th>\n",
       "      <th></th>\n",
       "      <th></th>\n",
       "      <th></th>\n",
       "      <th></th>\n",
       "      <th></th>\n",
       "      <th></th>\n",
       "      <th></th>\n",
       "      <th></th>\n",
       "      <th></th>\n",
       "      <th></th>\n",
       "      <th></th>\n",
       "      <th></th>\n",
       "      <th></th>\n",
       "    </tr>\n",
       "  </thead>\n",
       "  <tbody>\n",
       "    <tr>\n",
       "      <th>first_time_value_index_diff_1</th>\n",
       "      <td>1357.0</td>\n",
       "      <td>0.013342</td>\n",
       "      <td>1480.0</td>\n",
       "      <td>0.014495</td>\n",
       "      <td>773.0</td>\n",
       "      <td>0.032962</td>\n",
       "      <td>1701.0</td>\n",
       "      <td>0.011999</td>\n",
       "      <td>1198.0</td>\n",
       "      <td>0.018810</td>\n",
       "      <td>...</td>\n",
       "      <td>1723.0</td>\n",
       "      <td>0.012308</td>\n",
       "      <td>747.0</td>\n",
       "      <td>0.031607</td>\n",
       "      <td>1671.0</td>\n",
       "      <td>0.011886</td>\n",
       "      <td>1152.0</td>\n",
       "      <td>0.018246</td>\n",
       "      <td>15033.0</td>\n",
       "      <td>0.228153</td>\n",
       "    </tr>\n",
       "    <tr>\n",
       "      <th>L3_S33_F3857</th>\n",
       "      <td>1317.0</td>\n",
       "      <td>0.012948</td>\n",
       "      <td>1226.0</td>\n",
       "      <td>0.012007</td>\n",
       "      <td>316.0</td>\n",
       "      <td>0.013475</td>\n",
       "      <td>1797.0</td>\n",
       "      <td>0.012676</td>\n",
       "      <td>648.0</td>\n",
       "      <td>0.010175</td>\n",
       "      <td>...</td>\n",
       "      <td>1745.0</td>\n",
       "      <td>0.012465</td>\n",
       "      <td>391.0</td>\n",
       "      <td>0.016544</td>\n",
       "      <td>1874.0</td>\n",
       "      <td>0.013330</td>\n",
       "      <td>708.0</td>\n",
       "      <td>0.011214</td>\n",
       "      <td>12276.0</td>\n",
       "      <td>0.149472</td>\n",
       "    </tr>\n",
       "    <tr>\n",
       "      <th>last_time_value_index_diff_1</th>\n",
       "      <td>1015.0</td>\n",
       "      <td>0.009979</td>\n",
       "      <td>1059.0</td>\n",
       "      <td>0.010372</td>\n",
       "      <td>410.0</td>\n",
       "      <td>0.017483</td>\n",
       "      <td>1310.0</td>\n",
       "      <td>0.009241</td>\n",
       "      <td>840.0</td>\n",
       "      <td>0.013189</td>\n",
       "      <td>...</td>\n",
       "      <td>1488.0</td>\n",
       "      <td>0.010629</td>\n",
       "      <td>382.0</td>\n",
       "      <td>0.016163</td>\n",
       "      <td>1329.0</td>\n",
       "      <td>0.009453</td>\n",
       "      <td>743.0</td>\n",
       "      <td>0.011768</td>\n",
       "      <td>10737.0</td>\n",
       "      <td>0.145426</td>\n",
       "    </tr>\n",
       "    <tr>\n",
       "      <th>L3_S33_F3859</th>\n",
       "      <td>1223.0</td>\n",
       "      <td>0.012024</td>\n",
       "      <td>1161.0</td>\n",
       "      <td>0.011371</td>\n",
       "      <td>264.0</td>\n",
       "      <td>0.011258</td>\n",
       "      <td>1722.0</td>\n",
       "      <td>0.012147</td>\n",
       "      <td>744.0</td>\n",
       "      <td>0.011682</td>\n",
       "      <td>...</td>\n",
       "      <td>1556.0</td>\n",
       "      <td>0.011115</td>\n",
       "      <td>375.0</td>\n",
       "      <td>0.015867</td>\n",
       "      <td>1649.0</td>\n",
       "      <td>0.011729</td>\n",
       "      <td>786.0</td>\n",
       "      <td>0.012449</td>\n",
       "      <td>11676.0</td>\n",
       "      <td>0.144343</td>\n",
       "    </tr>\n",
       "    <tr>\n",
       "      <th>last_time_value_index_diff_0</th>\n",
       "      <td>1020.0</td>\n",
       "      <td>0.010028</td>\n",
       "      <td>1087.0</td>\n",
       "      <td>0.010646</td>\n",
       "      <td>350.0</td>\n",
       "      <td>0.014925</td>\n",
       "      <td>1351.0</td>\n",
       "      <td>0.009530</td>\n",
       "      <td>707.0</td>\n",
       "      <td>0.011101</td>\n",
       "      <td>...</td>\n",
       "      <td>1391.0</td>\n",
       "      <td>0.009937</td>\n",
       "      <td>310.0</td>\n",
       "      <td>0.013117</td>\n",
       "      <td>1320.0</td>\n",
       "      <td>0.009389</td>\n",
       "      <td>612.0</td>\n",
       "      <td>0.009693</td>\n",
       "      <td>10258.0</td>\n",
       "      <td>0.132143</td>\n",
       "    </tr>\n",
       "  </tbody>\n",
       "</table>\n",
       "<p>5 rows × 26 columns</p>\n",
       "</div>"
      ],
      "text/plain": [
       "                               fscore_0  norm_fscore_0  fscore_1  \\\n",
       "feature                                                            \n",
       "first_time_value_index_diff_1    1357.0       0.013342    1480.0   \n",
       "L3_S33_F3857                     1317.0       0.012948    1226.0   \n",
       "last_time_value_index_diff_1     1015.0       0.009979    1059.0   \n",
       "L3_S33_F3859                     1223.0       0.012024    1161.0   \n",
       "last_time_value_index_diff_0     1020.0       0.010028    1087.0   \n",
       "\n",
       "                               norm_fscore_1  fscore_2  norm_fscore_2  \\\n",
       "feature                                                                 \n",
       "first_time_value_index_diff_1       0.014495     773.0       0.032962   \n",
       "L3_S33_F3857                        0.012007     316.0       0.013475   \n",
       "last_time_value_index_diff_1        0.010372     410.0       0.017483   \n",
       "L3_S33_F3859                        0.011371     264.0       0.011258   \n",
       "last_time_value_index_diff_0        0.010646     350.0       0.014925   \n",
       "\n",
       "                               fscore_3  norm_fscore_3  fscore_4  \\\n",
       "feature                                                            \n",
       "first_time_value_index_diff_1    1701.0       0.011999    1198.0   \n",
       "L3_S33_F3857                     1797.0       0.012676     648.0   \n",
       "last_time_value_index_diff_1     1310.0       0.009241     840.0   \n",
       "L3_S33_F3859                     1722.0       0.012147     744.0   \n",
       "last_time_value_index_diff_0     1351.0       0.009530     707.0   \n",
       "\n",
       "                               norm_fscore_4       ...         fscore_8  \\\n",
       "feature                                            ...                    \n",
       "first_time_value_index_diff_1       0.018810       ...           1723.0   \n",
       "L3_S33_F3857                        0.010175       ...           1745.0   \n",
       "last_time_value_index_diff_1        0.013189       ...           1488.0   \n",
       "L3_S33_F3859                        0.011682       ...           1556.0   \n",
       "last_time_value_index_diff_0        0.011101       ...           1391.0   \n",
       "\n",
       "                               norm_fscore_8  fscore_9  norm_fscore_9  \\\n",
       "feature                                                                 \n",
       "first_time_value_index_diff_1       0.012308     747.0       0.031607   \n",
       "L3_S33_F3857                        0.012465     391.0       0.016544   \n",
       "last_time_value_index_diff_1        0.010629     382.0       0.016163   \n",
       "L3_S33_F3859                        0.011115     375.0       0.015867   \n",
       "last_time_value_index_diff_0        0.009937     310.0       0.013117   \n",
       "\n",
       "                               fscore_10  norm_fscore_10  fscore_11  \\\n",
       "feature                                                               \n",
       "first_time_value_index_diff_1     1671.0        0.011886     1152.0   \n",
       "L3_S33_F3857                      1874.0        0.013330      708.0   \n",
       "last_time_value_index_diff_1      1329.0        0.009453      743.0   \n",
       "L3_S33_F3859                      1649.0        0.011729      786.0   \n",
       "last_time_value_index_diff_0      1320.0        0.009389      612.0   \n",
       "\n",
       "                               norm_fscore_11  fscore_sum  norm_fscore_sum  \n",
       "feature                                                                     \n",
       "first_time_value_index_diff_1        0.018246     15033.0         0.228153  \n",
       "L3_S33_F3857                         0.011214     12276.0         0.149472  \n",
       "last_time_value_index_diff_1         0.011768     10737.0         0.145426  \n",
       "L3_S33_F3859                         0.012449     11676.0         0.144343  \n",
       "last_time_value_index_diff_0         0.009693     10258.0         0.132143  \n",
       "\n",
       "[5 rows x 26 columns]"
      ]
     },
     "execution_count": 51,
     "metadata": {},
     "output_type": "execute_result"
    }
   ],
   "source": [
    "xgb_feature_imp.head()"
   ]
  },
  {
   "cell_type": "code",
   "execution_count": 97,
   "metadata": {
    "collapsed": true
   },
   "outputs": [],
   "source": [
    "## sort by the norm_fscore_sum\n",
    "sorted_combined_imp = xgb_feature_imp.sort_values(by=['norm_fscore_sum'], ascending=False)\n",
    "#imp_feature = sorted_combined_imp.index[sorted_combined_imp['norm_fscore_sum'] >= 0.005].tolist()\n",
    "imp_feature = sorted_combined_imp.index.tolist()"
   ]
  },
  {
   "cell_type": "code",
   "execution_count": 98,
   "metadata": {
    "collapsed": true
   },
   "outputs": [],
   "source": [
    "def select_important_features(df, imp_feature, test_df = None, dep_var_name = 'Response'):\n",
    "    imp_col_names = [col for col in df.columns if col in imp_feature]\n",
    "    print 'total {} columns in original DataFrame, select {} columns'.format(df.shape[1], len(imp_col_names))\n",
    "    train_col_names = imp_col_names[:]\n",
    "    test_col_names = imp_col_names[:]\n",
    "    if dep_var_name in df.columns:    \n",
    "        train_col_names.append(dep_var_name)\n",
    "    if test_df is None:\n",
    "        return df[train_col_names]\n",
    "    else:\n",
    "        return df[train_col_names], test_df[test_col_names]\n"
   ]
  },
  {
   "cell_type": "code",
   "execution_count": 99,
   "metadata": {
    "collapsed": false
   },
   "outputs": [
    {
     "name": "stdout",
     "output_type": "stream",
     "text": [
      "total 978 columns in original DataFrame, select 691 columns\n",
      "total 1013 columns in original DataFrame, select 108 columns\n",
      "total 23 columns in original DataFrame, select 22 columns\n"
     ]
    }
   ],
   "source": [
    "combined_train_num, combined_test_num  = select_important_features(combined_train_num, imp_feature, combined_test_num)\n",
    "combined_train_dat, combined_test_dat  = select_important_features(combined_train_dat, imp_feature, combined_test_dat)\n",
    "train_test_datIndex_features = select_important_features(train_test_datIndex_features, imp_feature)"
   ]
  },
  {
   "cell_type": "code",
   "execution_count": null,
   "metadata": {
    "collapsed": true
   },
   "outputs": [],
   "source": []
  },
  {
   "cell_type": "markdown",
   "metadata": {},
   "source": [
    "#### combine all the features together"
   ]
  },
  {
   "cell_type": "code",
   "execution_count": 48,
   "metadata": {
    "collapsed": true
   },
   "outputs": [],
   "source": [
    "## combined data with station features\n",
    "#combined_train = pd.concat([train_dat_stations, train_num_stations, combined_train_num, combined_train_dat, train_test_datIndex_features.ix[combined_train_num.index, :]], axis=1)\n",
    "#combined_test  = pd.concat([test_dat_stations, test_num_stations, combined_test_num,  combined_test_dat,  train_test_datIndex_features.ix[combined_test_num.index, :]], axis=1)"
   ]
  },
  {
   "cell_type": "code",
   "execution_count": 78,
   "metadata": {
    "collapsed": true
   },
   "outputs": [],
   "source": [
    "#combined_train = pd.concat([combined_train_num, combined_train_dat, train_test_datIndex_features.ix[combined_train_num.index, :]], axis=1)\n",
    "#combined_test  = pd.concat([combined_test_num,  combined_test_dat,  train_test_datIndex_features.ix[combined_test_num.index, :]], axis=1)"
   ]
  },
  {
   "cell_type": "code",
   "execution_count": 84,
   "metadata": {
    "collapsed": false,
    "scrolled": true
   },
   "outputs": [],
   "source": [
    "## combined data with categorical features\n",
    "#combined_train = pd.concat([combined_train_cat, combined_train_num, combined_train_dat, train_test_datIndex_features.ix[combined_train_num.index, :]], axis=1)\n",
    "#combined_test  = pd.concat([combined_test_cat,  combined_test_num,  combined_test_dat,  train_test_datIndex_features.ix[combined_test_num.index, :]], axis=1)"
   ]
  },
  {
   "cell_type": "code",
   "execution_count": 102,
   "metadata": {
    "collapsed": false
   },
   "outputs": [],
   "source": [
    "## combined data with all features\n",
    "combined_train = pd.concat([combined_train_station_dat, combined_train_station_num, combined_train_cat, combined_train_num, combined_train_dat, train_test_datIndex_features.ix[combined_train_num.index, :]], axis=1)\n",
    "combined_test  = pd.concat([combined_test_station_dat, combined_test_station_num, combined_test_cat,  combined_test_num,  combined_test_dat,  train_test_datIndex_features.ix[combined_test_num.index, :]], axis=1)"
   ]
  },
  {
   "cell_type": "code",
   "execution_count": 107,
   "metadata": {
    "collapsed": false
   },
   "outputs": [
    {
     "name": "stdout",
     "output_type": "stream",
     "text": [
      "0 160700000\n"
     ]
    }
   ],
   "source": [
    "print combined_train.isnull().sum().sum(), combined_test.isnull().sum().sum()"
   ]
  },
  {
   "cell_type": "code",
   "execution_count": 103,
   "metadata": {
    "collapsed": false,
    "scrolled": true
   },
   "outputs": [
    {
     "name": "stdout",
     "output_type": "stream",
     "text": [
      "(100000, 4076)\n"
     ]
    },
    {
     "data": {
      "text/html": [
       "<div>\n",
       "<table border=\"1\" class=\"dataframe\">\n",
       "  <thead>\n",
       "    <tr style=\"text-align: right;\">\n",
       "      <th></th>\n",
       "      <th>dat_L2_S28_mean</th>\n",
       "      <th>dat_L2_S28_max</th>\n",
       "      <th>dat_L2_S28_min</th>\n",
       "      <th>dat_L2_S28_var</th>\n",
       "      <th>dat_L3_S31_mean</th>\n",
       "      <th>dat_L3_S31_max</th>\n",
       "      <th>dat_L3_S31_min</th>\n",
       "      <th>dat_L3_S31_var</th>\n",
       "      <th>dat_L2_S26_mean</th>\n",
       "      <th>dat_L2_S26_max</th>\n",
       "      <th>...</th>\n",
       "      <th>first_date_value_index_ratio_1</th>\n",
       "      <th>first_date_value_index_ratio_2</th>\n",
       "      <th>time_ratio_value_index_diff_0</th>\n",
       "      <th>time_ratio_value_index_diff_1</th>\n",
       "      <th>first_time_value_index_diff_0</th>\n",
       "      <th>first_time_value_index_diff_1</th>\n",
       "      <th>last_time_value_index_diff_0</th>\n",
       "      <th>last_time_value_index_diff_1</th>\n",
       "      <th>first_date_value_index_diff_0</th>\n",
       "      <th>first_date_value_index_diff_1</th>\n",
       "    </tr>\n",
       "    <tr>\n",
       "      <th>Id</th>\n",
       "      <th></th>\n",
       "      <th></th>\n",
       "      <th></th>\n",
       "      <th></th>\n",
       "      <th></th>\n",
       "      <th></th>\n",
       "      <th></th>\n",
       "      <th></th>\n",
       "      <th></th>\n",
       "      <th></th>\n",
       "      <th></th>\n",
       "      <th></th>\n",
       "      <th></th>\n",
       "      <th></th>\n",
       "      <th></th>\n",
       "      <th></th>\n",
       "      <th></th>\n",
       "      <th></th>\n",
       "      <th></th>\n",
       "      <th></th>\n",
       "      <th></th>\n",
       "    </tr>\n",
       "  </thead>\n",
       "  <tbody>\n",
       "    <tr>\n",
       "      <th>1</th>\n",
       "      <td>9999999.0</td>\n",
       "      <td>9999999.0</td>\n",
       "      <td>9999999.0</td>\n",
       "      <td>9999999.0</td>\n",
       "      <td>9999999.0</td>\n",
       "      <td>9999999.0</td>\n",
       "      <td>9999999.0</td>\n",
       "      <td>9999999.0</td>\n",
       "      <td>9999999.00</td>\n",
       "      <td>9999999.00</td>\n",
       "      <td>...</td>\n",
       "      <td>23747.000000</td>\n",
       "      <td>99531.000000</td>\n",
       "      <td>-1932587.0</td>\n",
       "      <td>-3232.0</td>\n",
       "      <td>-2294181.0</td>\n",
       "      <td>-3232.0</td>\n",
       "      <td>-68013.0</td>\n",
       "      <td>-3232.0</td>\n",
       "      <td>9999999.0</td>\n",
       "      <td>-1.0</td>\n",
       "    </tr>\n",
       "    <tr>\n",
       "      <th>2</th>\n",
       "      <td>9999999.0</td>\n",
       "      <td>9999999.0</td>\n",
       "      <td>9999999.0</td>\n",
       "      <td>9999999.0</td>\n",
       "      <td>9999999.0</td>\n",
       "      <td>9999999.0</td>\n",
       "      <td>9999999.0</td>\n",
       "      <td>9999999.0</td>\n",
       "      <td>9999999.00</td>\n",
       "      <td>9999999.00</td>\n",
       "      <td>...</td>\n",
       "      <td>14590.000000</td>\n",
       "      <td>49170.500000</td>\n",
       "      <td>-1686473.0</td>\n",
       "      <td>-62612.0</td>\n",
       "      <td>-3722.0</td>\n",
       "      <td>-5943.0</td>\n",
       "      <td>-2059413.0</td>\n",
       "      <td>-61348.0</td>\n",
       "      <td>1.0</td>\n",
       "      <td>-1.0</td>\n",
       "    </tr>\n",
       "    <tr>\n",
       "      <th>3</th>\n",
       "      <td>9999999.0</td>\n",
       "      <td>9999999.0</td>\n",
       "      <td>9999999.0</td>\n",
       "      <td>9999999.0</td>\n",
       "      <td>9999999.0</td>\n",
       "      <td>9999999.0</td>\n",
       "      <td>9999999.0</td>\n",
       "      <td>9999999.0</td>\n",
       "      <td>704.11</td>\n",
       "      <td>704.11</td>\n",
       "      <td>...</td>\n",
       "      <td>12082.333333</td>\n",
       "      <td>4708.333333</td>\n",
       "      <td>-814062.0</td>\n",
       "      <td>-24124.0</td>\n",
       "      <td>-1903401.0</td>\n",
       "      <td>-17769.0</td>\n",
       "      <td>-2180310.0</td>\n",
       "      <td>-24124.0</td>\n",
       "      <td>1.0</td>\n",
       "      <td>-5.0</td>\n",
       "    </tr>\n",
       "    <tr>\n",
       "      <th>5</th>\n",
       "      <td>9999999.0</td>\n",
       "      <td>9999999.0</td>\n",
       "      <td>9999999.0</td>\n",
       "      <td>9999999.0</td>\n",
       "      <td>9999999.0</td>\n",
       "      <td>9999999.0</td>\n",
       "      <td>9999999.0</td>\n",
       "      <td>9999999.0</td>\n",
       "      <td>255.50</td>\n",
       "      <td>255.50</td>\n",
       "      <td>...</td>\n",
       "      <td>6793.600000</td>\n",
       "      <td>2256.800000</td>\n",
       "      <td>-88702.0</td>\n",
       "      <td>-97262.0</td>\n",
       "      <td>-74259.0</td>\n",
       "      <td>-147131.0</td>\n",
       "      <td>-74259.0</td>\n",
       "      <td>-61577.0</td>\n",
       "      <td>-147131.0</td>\n",
       "      <td>-63560.0</td>\n",
       "    </tr>\n",
       "    <tr>\n",
       "      <th>8</th>\n",
       "      <td>9999999.0</td>\n",
       "      <td>9999999.0</td>\n",
       "      <td>9999999.0</td>\n",
       "      <td>9999999.0</td>\n",
       "      <td>9999999.0</td>\n",
       "      <td>9999999.0</td>\n",
       "      <td>9999999.0</td>\n",
       "      <td>9999999.0</td>\n",
       "      <td>760.93</td>\n",
       "      <td>760.93</td>\n",
       "      <td>...</td>\n",
       "      <td>3465.875000</td>\n",
       "      <td>4005.625000</td>\n",
       "      <td>-69633.0</td>\n",
       "      <td>-1471526.0</td>\n",
       "      <td>-58459.0</td>\n",
       "      <td>-1766232.0</td>\n",
       "      <td>-2177226.0</td>\n",
       "      <td>-4313.0</td>\n",
       "      <td>5.0</td>\n",
       "      <td>-9.0</td>\n",
       "    </tr>\n",
       "  </tbody>\n",
       "</table>\n",
       "<p>5 rows × 4076 columns</p>\n",
       "</div>"
      ],
      "text/plain": [
       "    dat_L2_S28_mean  dat_L2_S28_max  dat_L2_S28_min  dat_L2_S28_var  \\\n",
       "Id                                                                    \n",
       "1         9999999.0       9999999.0       9999999.0       9999999.0   \n",
       "2         9999999.0       9999999.0       9999999.0       9999999.0   \n",
       "3         9999999.0       9999999.0       9999999.0       9999999.0   \n",
       "5         9999999.0       9999999.0       9999999.0       9999999.0   \n",
       "8         9999999.0       9999999.0       9999999.0       9999999.0   \n",
       "\n",
       "    dat_L3_S31_mean  dat_L3_S31_max  dat_L3_S31_min  dat_L3_S31_var  \\\n",
       "Id                                                                    \n",
       "1         9999999.0       9999999.0       9999999.0       9999999.0   \n",
       "2         9999999.0       9999999.0       9999999.0       9999999.0   \n",
       "3         9999999.0       9999999.0       9999999.0       9999999.0   \n",
       "5         9999999.0       9999999.0       9999999.0       9999999.0   \n",
       "8         9999999.0       9999999.0       9999999.0       9999999.0   \n",
       "\n",
       "    dat_L2_S26_mean  dat_L2_S26_max              ...                \\\n",
       "Id                                               ...                 \n",
       "1        9999999.00      9999999.00              ...                 \n",
       "2        9999999.00      9999999.00              ...                 \n",
       "3            704.11          704.11              ...                 \n",
       "5            255.50          255.50              ...                 \n",
       "8            760.93          760.93              ...                 \n",
       "\n",
       "    first_date_value_index_ratio_1  first_date_value_index_ratio_2  \\\n",
       "Id                                                                   \n",
       "1                     23747.000000                    99531.000000   \n",
       "2                     14590.000000                    49170.500000   \n",
       "3                     12082.333333                     4708.333333   \n",
       "5                      6793.600000                     2256.800000   \n",
       "8                      3465.875000                     4005.625000   \n",
       "\n",
       "    time_ratio_value_index_diff_0  time_ratio_value_index_diff_1  \\\n",
       "Id                                                                 \n",
       "1                      -1932587.0                        -3232.0   \n",
       "2                      -1686473.0                       -62612.0   \n",
       "3                       -814062.0                       -24124.0   \n",
       "5                        -88702.0                       -97262.0   \n",
       "8                        -69633.0                     -1471526.0   \n",
       "\n",
       "    first_time_value_index_diff_0  first_time_value_index_diff_1  \\\n",
       "Id                                                                 \n",
       "1                      -2294181.0                        -3232.0   \n",
       "2                         -3722.0                        -5943.0   \n",
       "3                      -1903401.0                       -17769.0   \n",
       "5                        -74259.0                      -147131.0   \n",
       "8                        -58459.0                     -1766232.0   \n",
       "\n",
       "    last_time_value_index_diff_0  last_time_value_index_diff_1  \\\n",
       "Id                                                               \n",
       "1                       -68013.0                       -3232.0   \n",
       "2                     -2059413.0                      -61348.0   \n",
       "3                     -2180310.0                      -24124.0   \n",
       "5                       -74259.0                      -61577.0   \n",
       "8                     -2177226.0                       -4313.0   \n",
       "\n",
       "    first_date_value_index_diff_0  first_date_value_index_diff_1  \n",
       "Id                                                                \n",
       "1                       9999999.0                           -1.0  \n",
       "2                             1.0                           -1.0  \n",
       "3                             1.0                           -5.0  \n",
       "5                       -147131.0                       -63560.0  \n",
       "8                             5.0                           -9.0  \n",
       "\n",
       "[5 rows x 4076 columns]"
      ]
     },
     "execution_count": 103,
     "metadata": {},
     "output_type": "execute_result"
    }
   ],
   "source": [
    "print combined_test.shape\n",
    "combined_test.head()"
   ]
  },
  {
   "cell_type": "code",
   "execution_count": 104,
   "metadata": {
    "collapsed": false
   },
   "outputs": [
    {
     "name": "stdout",
     "output_type": "stream",
     "text": [
      "(50000, 4077)\n"
     ]
    },
    {
     "data": {
      "text/html": [
       "<div>\n",
       "<table border=\"1\" class=\"dataframe\">\n",
       "  <thead>\n",
       "    <tr style=\"text-align: right;\">\n",
       "      <th></th>\n",
       "      <th>dat_L2_S28_mean</th>\n",
       "      <th>dat_L2_S28_max</th>\n",
       "      <th>dat_L2_S28_min</th>\n",
       "      <th>dat_L2_S28_var</th>\n",
       "      <th>dat_L3_S31_mean</th>\n",
       "      <th>dat_L3_S31_max</th>\n",
       "      <th>dat_L3_S31_min</th>\n",
       "      <th>dat_L3_S31_var</th>\n",
       "      <th>dat_L2_S26_mean</th>\n",
       "      <th>dat_L2_S26_max</th>\n",
       "      <th>...</th>\n",
       "      <th>first_date_value_index_ratio_1</th>\n",
       "      <th>first_date_value_index_ratio_2</th>\n",
       "      <th>time_ratio_value_index_diff_0</th>\n",
       "      <th>time_ratio_value_index_diff_1</th>\n",
       "      <th>first_time_value_index_diff_0</th>\n",
       "      <th>first_time_value_index_diff_1</th>\n",
       "      <th>last_time_value_index_diff_0</th>\n",
       "      <th>last_time_value_index_diff_1</th>\n",
       "      <th>first_date_value_index_diff_0</th>\n",
       "      <th>first_date_value_index_diff_1</th>\n",
       "    </tr>\n",
       "    <tr>\n",
       "      <th>Id</th>\n",
       "      <th></th>\n",
       "      <th></th>\n",
       "      <th></th>\n",
       "      <th></th>\n",
       "      <th></th>\n",
       "      <th></th>\n",
       "      <th></th>\n",
       "      <th></th>\n",
       "      <th></th>\n",
       "      <th></th>\n",
       "      <th></th>\n",
       "      <th></th>\n",
       "      <th></th>\n",
       "      <th></th>\n",
       "      <th></th>\n",
       "      <th></th>\n",
       "      <th></th>\n",
       "      <th></th>\n",
       "      <th></th>\n",
       "      <th></th>\n",
       "      <th></th>\n",
       "    </tr>\n",
       "  </thead>\n",
       "  <tbody>\n",
       "    <tr>\n",
       "      <th>9</th>\n",
       "      <td>9999999.0</td>\n",
       "      <td>9999999.0</td>\n",
       "      <td>9999999.0</td>\n",
       "      <td>9999999.0</td>\n",
       "      <td>9999999.0</td>\n",
       "      <td>9999999.0</td>\n",
       "      <td>9999999.0</td>\n",
       "      <td>9999999.0</td>\n",
       "      <td>9999999.00</td>\n",
       "      <td>9999999.00</td>\n",
       "      <td>...</td>\n",
       "      <td>10721.555556</td>\n",
       "      <td>1792.888889</td>\n",
       "      <td>-308115</td>\n",
       "      <td>-3564</td>\n",
       "      <td>-98445</td>\n",
       "      <td>-3564</td>\n",
       "      <td>-83397</td>\n",
       "      <td>-3564</td>\n",
       "      <td>-98445</td>\n",
       "      <td>-3564</td>\n",
       "    </tr>\n",
       "    <tr>\n",
       "      <th>136</th>\n",
       "      <td>9999999.0</td>\n",
       "      <td>9999999.0</td>\n",
       "      <td>9999999.0</td>\n",
       "      <td>9999999.0</td>\n",
       "      <td>9999999.0</td>\n",
       "      <td>9999999.0</td>\n",
       "      <td>9999999.0</td>\n",
       "      <td>9999999.0</td>\n",
       "      <td>9999999.00</td>\n",
       "      <td>9999999.00</td>\n",
       "      <td>...</td>\n",
       "      <td>476.088235</td>\n",
       "      <td>488.529412</td>\n",
       "      <td>-894094</td>\n",
       "      <td>-62447</td>\n",
       "      <td>-581605</td>\n",
       "      <td>-13642</td>\n",
       "      <td>-64460</td>\n",
       "      <td>-78493</td>\n",
       "      <td>-581605</td>\n",
       "      <td>-15560</td>\n",
       "    </tr>\n",
       "    <tr>\n",
       "      <th>229</th>\n",
       "      <td>9999999.0</td>\n",
       "      <td>9999999.0</td>\n",
       "      <td>9999999.0</td>\n",
       "      <td>9999999.0</td>\n",
       "      <td>9999999.0</td>\n",
       "      <td>9999999.0</td>\n",
       "      <td>9999999.0</td>\n",
       "      <td>9999999.0</td>\n",
       "      <td>9999999.00</td>\n",
       "      <td>9999999.00</td>\n",
       "      <td>...</td>\n",
       "      <td>177.545852</td>\n",
       "      <td>182.960699</td>\n",
       "      <td>-77797</td>\n",
       "      <td>-57389</td>\n",
       "      <td>-23224</td>\n",
       "      <td>-57389</td>\n",
       "      <td>-258424</td>\n",
       "      <td>-3436</td>\n",
       "      <td>1</td>\n",
       "      <td>-1</td>\n",
       "    </tr>\n",
       "    <tr>\n",
       "      <th>248</th>\n",
       "      <td>9999999.0</td>\n",
       "      <td>9999999.0</td>\n",
       "      <td>9999999.0</td>\n",
       "      <td>9999999.0</td>\n",
       "      <td>9999999.0</td>\n",
       "      <td>9999999.0</td>\n",
       "      <td>9999999.0</td>\n",
       "      <td>9999999.0</td>\n",
       "      <td>9999999.00</td>\n",
       "      <td>9999999.00</td>\n",
       "      <td>...</td>\n",
       "      <td>395.524194</td>\n",
       "      <td>163.943548</td>\n",
       "      <td>-1775834</td>\n",
       "      <td>-1835979</td>\n",
       "      <td>-75565</td>\n",
       "      <td>-91574</td>\n",
       "      <td>-86189</td>\n",
       "      <td>-75565</td>\n",
       "      <td>-86189</td>\n",
       "      <td>-75565</td>\n",
       "    </tr>\n",
       "    <tr>\n",
       "      <th>258</th>\n",
       "      <td>9999999.0</td>\n",
       "      <td>9999999.0</td>\n",
       "      <td>9999999.0</td>\n",
       "      <td>9999999.0</td>\n",
       "      <td>9999999.0</td>\n",
       "      <td>9999999.0</td>\n",
       "      <td>9999999.0</td>\n",
       "      <td>9999999.0</td>\n",
       "      <td>1013.16</td>\n",
       "      <td>1013.16</td>\n",
       "      <td>...</td>\n",
       "      <td>27.693798</td>\n",
       "      <td>366.527132</td>\n",
       "      <td>-93147</td>\n",
       "      <td>-94044</td>\n",
       "      <td>-70815</td>\n",
       "      <td>-11669</td>\n",
       "      <td>-2212578</td>\n",
       "      <td>-3552</td>\n",
       "      <td>15</td>\n",
       "      <td>-2</td>\n",
       "    </tr>\n",
       "  </tbody>\n",
       "</table>\n",
       "<p>5 rows × 4077 columns</p>\n",
       "</div>"
      ],
      "text/plain": [
       "     dat_L2_S28_mean  dat_L2_S28_max  dat_L2_S28_min  dat_L2_S28_var  \\\n",
       "Id                                                                     \n",
       "9          9999999.0       9999999.0       9999999.0       9999999.0   \n",
       "136        9999999.0       9999999.0       9999999.0       9999999.0   \n",
       "229        9999999.0       9999999.0       9999999.0       9999999.0   \n",
       "248        9999999.0       9999999.0       9999999.0       9999999.0   \n",
       "258        9999999.0       9999999.0       9999999.0       9999999.0   \n",
       "\n",
       "     dat_L3_S31_mean  dat_L3_S31_max  dat_L3_S31_min  dat_L3_S31_var  \\\n",
       "Id                                                                     \n",
       "9          9999999.0       9999999.0       9999999.0       9999999.0   \n",
       "136        9999999.0       9999999.0       9999999.0       9999999.0   \n",
       "229        9999999.0       9999999.0       9999999.0       9999999.0   \n",
       "248        9999999.0       9999999.0       9999999.0       9999999.0   \n",
       "258        9999999.0       9999999.0       9999999.0       9999999.0   \n",
       "\n",
       "     dat_L2_S26_mean  dat_L2_S26_max              ...                \\\n",
       "Id                                                ...                 \n",
       "9         9999999.00      9999999.00              ...                 \n",
       "136       9999999.00      9999999.00              ...                 \n",
       "229       9999999.00      9999999.00              ...                 \n",
       "248       9999999.00      9999999.00              ...                 \n",
       "258          1013.16         1013.16              ...                 \n",
       "\n",
       "     first_date_value_index_ratio_1  first_date_value_index_ratio_2  \\\n",
       "Id                                                                    \n",
       "9                      10721.555556                     1792.888889   \n",
       "136                      476.088235                      488.529412   \n",
       "229                      177.545852                      182.960699   \n",
       "248                      395.524194                      163.943548   \n",
       "258                       27.693798                      366.527132   \n",
       "\n",
       "     time_ratio_value_index_diff_0  time_ratio_value_index_diff_1  \\\n",
       "Id                                                                  \n",
       "9                          -308115                          -3564   \n",
       "136                        -894094                         -62447   \n",
       "229                         -77797                         -57389   \n",
       "248                       -1775834                       -1835979   \n",
       "258                         -93147                         -94044   \n",
       "\n",
       "     first_time_value_index_diff_0  first_time_value_index_diff_1  \\\n",
       "Id                                                                  \n",
       "9                           -98445                          -3564   \n",
       "136                        -581605                         -13642   \n",
       "229                         -23224                         -57389   \n",
       "248                         -75565                         -91574   \n",
       "258                         -70815                         -11669   \n",
       "\n",
       "     last_time_value_index_diff_0  last_time_value_index_diff_1  \\\n",
       "Id                                                                \n",
       "9                          -83397                         -3564   \n",
       "136                        -64460                        -78493   \n",
       "229                       -258424                         -3436   \n",
       "248                        -86189                        -75565   \n",
       "258                      -2212578                         -3552   \n",
       "\n",
       "     first_date_value_index_diff_0  first_date_value_index_diff_1  \n",
       "Id                                                                 \n",
       "9                           -98445                          -3564  \n",
       "136                        -581605                         -15560  \n",
       "229                              1                             -1  \n",
       "248                         -86189                         -75565  \n",
       "258                             15                             -2  \n",
       "\n",
       "[5 rows x 4077 columns]"
      ]
     },
     "execution_count": 104,
     "metadata": {},
     "output_type": "execute_result"
    }
   ],
   "source": [
    "print combined_train.shape\n",
    "combined_train.head()"
   ]
  },
  {
   "cell_type": "code",
   "execution_count": null,
   "metadata": {
    "collapsed": true
   },
   "outputs": [],
   "source": []
  },
  {
   "cell_type": "markdown",
   "metadata": {},
   "source": [
    "#### KFold cross-validation"
   ]
  },
  {
   "cell_type": "code",
   "execution_count": 79,
   "metadata": {
    "collapsed": true
   },
   "outputs": [],
   "source": [
    "params = {}\n",
    "params[\"eta\"]                      = 0.0075\n",
    "params[\"subsample\"]                = 0.8\n",
    "params[\"colsample_bytree\"]         = 0.8\n",
    "params[\"num_round\"]                = 501\n",
    "params[\"max_depth\"]                = 5\n",
    "params[\"gamma\"]                    = 0\n",
    "params[\"metrics\"]                  = 'auc'\n",
    "params['eval_metric']              = 'auc'\n",
    "params[\"seed\"]                     = 999\n",
    "params['verbose_eval']             = 50\n",
    "## whether to use weights\n",
    "params['use_base_score']           = True\n",
    "params['use_weights']              = True\n",
    "#params['use_scale_pos_weight']     = True\n",
    "params[\"val\"]                      = False\n"
   ]
  },
  {
   "cell_type": "code",
   "execution_count": 89,
   "metadata": {
    "collapsed": false
   },
   "outputs": [
    {
     "name": "stdout",
     "output_type": "stream",
     "text": [
      "scale_pos_weight: 159.256410256\n",
      "a base_score 0.00624 is used in the xgboost model...\n"
     ]
    },
    {
     "name": "stderr",
     "output_type": "stream",
     "text": [
      "\n",
      "####################\n",
      " train the xgboost without early stopping\n",
      "####################\n"
     ]
    },
    {
     "name": "stdout",
     "output_type": "stream",
     "text": [
      "[0]\ttrain-auc:0.714139\n",
      "[50]\ttrain-auc:0.929012\n",
      "[100]\ttrain-auc:0.95725\n",
      "[150]\ttrain-auc:0.973002\n",
      "[200]\ttrain-auc:0.985635\n",
      "[250]\ttrain-auc:0.99175\n",
      "[300]\ttrain-auc:0.995396\n",
      "[350]\ttrain-auc:0.997078\n",
      "[400]\ttrain-auc:0.998003\n",
      "[450]\ttrain-auc:0.998593\n",
      "[500]\ttrain-auc:0.999007\n",
      "the xgboost fit is finished by using 276.0 seconds, saved into test_bosch_xgb_model\n",
      "in the prediction step, dep_var_name is not provided....\n",
      "result from using constant fraction: \n",
      "mean of groud truth: 0.00624\n",
      "threshold for preds: 0.0305829042032\n",
      "0.148532999765\n",
      "\n",
      "\n",
      "result from using flexsible threshold: (0.24959160803234479, 0.2047889679670334)\n",
      "scale_pos_weight: 159.256410256\n",
      "a base_score 0.00624 is used in the xgboost model...\n"
     ]
    },
    {
     "name": "stderr",
     "output_type": "stream",
     "text": [
      "\n",
      "####################\n",
      " train the xgboost without early stopping\n",
      "####################\n"
     ]
    },
    {
     "name": "stdout",
     "output_type": "stream",
     "text": [
      "[0]\ttrain-auc:0.743321\n",
      "[50]\ttrain-auc:0.893038\n",
      "[100]\ttrain-auc:0.930638\n",
      "[150]\ttrain-auc:0.95189\n",
      "[200]\ttrain-auc:0.969382\n",
      "[250]\ttrain-auc:0.981204\n",
      "[300]\ttrain-auc:0.988611\n",
      "[350]\ttrain-auc:0.992939\n",
      "[400]\ttrain-auc:0.995426\n",
      "[450]\ttrain-auc:0.997187\n",
      "[500]\ttrain-auc:0.998183\n",
      "the xgboost fit is finished by using 271.0 seconds, saved into test_bosch_xgb_model\n",
      "in the prediction step, dep_var_name is not provided....\n",
      "result from using constant fraction: \n",
      "mean of groud truth: 0.00624\n",
      "threshold for preds: 0.0304269296962\n",
      "0.174335030075\n",
      "\n",
      "\n",
      "result from using flexsible threshold: (0.19066125578191645, 0.046489156782627106)\n",
      "scale_pos_weight: 159.256410256\n",
      "a base_score 0.00624 is used in the xgboost model...\n"
     ]
    },
    {
     "name": "stderr",
     "output_type": "stream",
     "text": [
      "\n",
      "####################\n",
      " train the xgboost without early stopping\n",
      "####################\n"
     ]
    },
    {
     "name": "stdout",
     "output_type": "stream",
     "text": [
      "[0]\ttrain-auc:0.762604\n",
      "[50]\ttrain-auc:0.924373\n",
      "[100]\ttrain-auc:0.946609\n",
      "[150]\ttrain-auc:0.962632\n",
      "[200]\ttrain-auc:0.980306\n",
      "[250]\ttrain-auc:0.98836\n",
      "[300]\ttrain-auc:0.992974\n",
      "[350]\ttrain-auc:0.995513\n",
      "[400]\ttrain-auc:0.99719\n",
      "[450]\ttrain-auc:0.998258\n",
      "[500]\ttrain-auc:0.998896\n",
      "the xgboost fit is finished by using 275.0 seconds, saved into test_bosch_xgb_model\n",
      "in the prediction step, dep_var_name is not provided....\n",
      "result from using constant fraction: \n",
      "mean of groud truth: 0.00624\n",
      "threshold for preds: 0.0214032711911\n",
      "0.148532999765\n",
      "\n",
      "\n",
      "result from using flexsible threshold: (0.2285969636038559, 0.11651329696178436)\n",
      "scale_pos_weight: 159.256410256\n",
      "a base_score 0.00624 is used in the xgboost model...\n"
     ]
    },
    {
     "name": "stderr",
     "output_type": "stream",
     "text": [
      "\n",
      "####################\n",
      " train the xgboost without early stopping\n",
      "####################\n"
     ]
    },
    {
     "name": "stdout",
     "output_type": "stream",
     "text": [
      "[0]\ttrain-auc:0.686714\n",
      "[50]\ttrain-auc:0.903945\n",
      "[100]\ttrain-auc:0.938321\n",
      "[150]\ttrain-auc:0.959428\n",
      "[200]\ttrain-auc:0.978452\n",
      "[250]\ttrain-auc:0.988739\n",
      "[300]\ttrain-auc:0.99346\n",
      "[350]\ttrain-auc:0.996336\n",
      "[400]\ttrain-auc:0.997937\n",
      "[450]\ttrain-auc:0.998603\n",
      "[500]\ttrain-auc:0.99906\n",
      "the xgboost fit is finished by using 274.0 seconds, saved into test_bosch_xgb_model\n",
      "in the prediction step, dep_var_name is not provided....\n",
      "result from using constant fraction: \n",
      "mean of groud truth: 0.00624\n",
      "threshold for preds: 0.028971457653\n",
      "0.16143401492\n",
      "\n",
      "\n",
      "result from using flexsible threshold: (0.21370497474412756, 0.09888489544391632)\n"
     ]
    }
   ],
   "source": [
    "\n",
    "skf = StratifiedKFold(combined_train[dep_var_name], 4)\n",
    "\n",
    "for train_index, valid_index in skf:\n",
    "    valid_data = combined_train.iloc[valid_index]\n",
    "    tmp_train  = combined_train.iloc[train_index]\n",
    "\n",
    "    y = tmp_train[dep_var_name].values\n",
    "    X = tmp_train.drop(dep_var_name, axis=1)\n",
    "\n",
    "    valid_y = valid_data[dep_var_name].values\n",
    "    valid_X = valid_data.drop(dep_var_name, axis=1)\n",
    "    \n",
    "    model = xgboost_classifier(label_name = dep_var_name, params = params, model_file='test_bosch_xgb_model')\n",
    "    model.fit(tmp_train, dep_var_name)\n",
    "    \n",
    "    pred = model.predict(valid_X)\n",
    "    print 'result from using constant fraction: \\n', score_MCC(valid_y, pred)\n",
    "    print '\\n'\n",
    "    print 'result from using flexsible threshold:', CombinedModel.mcc_eval_func(valid_y, pred)"
   ]
  },
  {
   "cell_type": "code",
   "execution_count": null,
   "metadata": {
    "collapsed": true
   },
   "outputs": [],
   "source": []
  },
  {
   "cell_type": "code",
   "execution_count": null,
   "metadata": {
    "collapsed": true
   },
   "outputs": [],
   "source": []
  },
  {
   "cell_type": "code",
   "execution_count": 108,
   "metadata": {
    "collapsed": true
   },
   "outputs": [],
   "source": [
    "############## Section of regular validation #######################\n",
    "train_index, valid_index = create_validation_index(combined_train, 0.3, dep_var_name, True)\n",
    "valid_data = combined_train.ix[valid_index]\n",
    "tmp_train  = combined_train.ix[train_index]\n",
    "\n",
    "y = tmp_train[dep_var_name].values\n",
    "X = tmp_train.drop(dep_var_name, axis=1)\n",
    "\n",
    "valid_y = valid_data[dep_var_name].values\n",
    "valid_X = valid_data.drop(dep_var_name, axis=1)\n"
   ]
  },
  {
   "cell_type": "markdown",
   "metadata": {},
   "source": [
    "#### regular models"
   ]
  },
  {
   "cell_type": "code",
   "execution_count": 97,
   "metadata": {
    "collapsed": false
   },
   "outputs": [
    {
     "name": "stdout",
     "output_type": "stream",
     "text": [
      "4.4927666457e-05 14205.5\n"
     ]
    }
   ],
   "source": [
    "#print tmp_train['index_ratio'].min(), tmp_train['index_ratio'].max()"
   ]
  },
  {
   "cell_type": "code",
   "execution_count": 116,
   "metadata": {
    "collapsed": false
   },
   "outputs": [],
   "source": [
    "rf_params = {'random_state' : 9999, 'n_estimators' : 2000, 'max_depth' : 5, 'criterion' : 'gini', 'n_jobs' : -1}\n",
    "et_params = {'random_state' : 9999, 'n_estimators' : 200, 'max_depth' : 5, 'criterion' : 'gini', 'n_jobs' : -1}\n",
    "rf_clf = RandomForestClassifier(**rf_params)\n",
    "rf_clf = rf_clf.fit(X, y)\n",
    "\n",
    "et_clf = RandomForestClassifier(**et_params)\n",
    "et_clf = et_clf.fit(X, y)"
   ]
  },
  {
   "cell_type": "code",
   "execution_count": 115,
   "metadata": {
    "collapsed": false
   },
   "outputs": [
    {
     "name": "stdout",
     "output_type": "stream",
     "text": [
      "result from using constant fraction: \n",
      "\n",
      "mean of groud truth: 0.00620041336089\n",
      "threshold for preds: 0.208108795254\n",
      "0.123598204663\n",
      "mean of groud truth: 0.00620041336089\n",
      "threshold for preds: 0.144437788891\n",
      "0.112778429412\n",
      "\n",
      "\n",
      "result from using flexsible threshold:\n",
      "(0.1689863037893953, 0.2573276077009751)\n",
      "(0.19700913316658514, 0.1844954264950454)\n"
     ]
    }
   ],
   "source": [
    "rf_pred = rf_clf.predict_proba(valid_X)[:, 1]\n",
    "et_pred = et_clf.predict_proba(valid_X)[:, 1]\n",
    "\n",
    "print 'result from using constant fraction: \\n'\n",
    "print score_MCC(valid_y, rf_pred)\n",
    "print score_MCC(valid_y, et_pred)\n",
    "print '\\n'\n",
    "print 'result from using flexsible threshold:'\n",
    "print CombinedModel.mcc_eval_func(valid_y, rf_pred)\n",
    "print CombinedModel.mcc_eval_func(valid_y, et_pred)\n"
   ]
  },
  {
   "cell_type": "code",
   "execution_count": null,
   "metadata": {
    "collapsed": true
   },
   "outputs": [],
   "source": []
  },
  {
   "cell_type": "code",
   "execution_count": null,
   "metadata": {
    "collapsed": true
   },
   "outputs": [],
   "source": []
  },
  {
   "cell_type": "code",
   "execution_count": 117,
   "metadata": {
    "collapsed": false
   },
   "outputs": [
    {
     "name": "stdout",
     "output_type": "stream",
     "text": [
      "scale_pos_weight: 158.821917808\n",
      "a base_score 0.00625696408674 is used in the xgboost model...\n"
     ]
    },
    {
     "name": "stderr",
     "output_type": "stream",
     "text": [
      "\n",
      "####################\n",
      " train the xgboost without early stopping\n",
      "####################\n"
     ]
    },
    {
     "name": "stdout",
     "output_type": "stream",
     "text": [
      "[0]\ttrain-auc:0.73591\n",
      "[50]\ttrain-auc:0.927667\n",
      "[100]\ttrain-auc:0.94932\n",
      "[150]\ttrain-auc:0.967596\n",
      "[200]\ttrain-auc:0.983819\n",
      "[250]\ttrain-auc:0.992125\n",
      "[300]\ttrain-auc:0.995802\n",
      "[350]\ttrain-auc:0.997635\n",
      "[400]\ttrain-auc:0.998412\n",
      "[450]\ttrain-auc:0.998901\n",
      "[500]\ttrain-auc:0.999253\n",
      "the xgboost fit is finished by using 259.0 seconds, saved into test_bosch_xgb_model\n",
      "in the prediction step, dep_var_name is not provided....\n",
      "result from using constant fraction: \n",
      "mean of groud truth: 0.00620041336089\n",
      "threshold for preds: 0.0542272486146\n",
      "0.156057530416\n",
      "\n",
      "\n",
      "result from using flexsible threshold: (0.22856920443307793, 0.2713233530521393)\n"
     ]
    }
   ],
   "source": [
    "############## Section of regular validation #######################\n",
    "train_index, valid_index = create_validation_index(combined_train, 0.3, dep_var_name, True)\n",
    "valid_data = combined_train.ix[valid_index]\n",
    "tmp_train  = combined_train.ix[train_index]\n",
    "\n",
    "y = tmp_train[dep_var_name].values\n",
    "X = tmp_train.drop(dep_var_name, axis=1)\n",
    "\n",
    "valid_y = valid_data[dep_var_name].values\n",
    "valid_X = valid_data.drop(dep_var_name, axis=1)\n",
    "\n",
    "model = xgboost_classifier(label_name = dep_var_name, params = params, model_file='test_bosch_xgb_model')\n",
    "model.fit(tmp_train, dep_var_name)\n",
    "pred = model.predict(valid_X)\n",
    "\n",
    "print 'result from using constant fraction: \\n', score_MCC(valid_y, pred)\n",
    "print '\\n'\n",
    "print 'result from using flexsible threshold:', CombinedModel.mcc_eval_func(valid_y, pred)"
   ]
  },
  {
   "cell_type": "code",
   "execution_count": null,
   "metadata": {
    "collapsed": true
   },
   "outputs": [],
   "source": []
  },
  {
   "cell_type": "code",
   "execution_count": null,
   "metadata": {
    "collapsed": true
   },
   "outputs": [],
   "source": []
  },
  {
   "cell_type": "code",
   "execution_count": null,
   "metadata": {
    "collapsed": true
   },
   "outputs": [],
   "source": []
  }
 ],
 "metadata": {
  "kernelspec": {
   "display_name": "Python 2",
   "language": "python",
   "name": "python2"
  },
  "language_info": {
   "codemirror_mode": {
    "name": "ipython",
    "version": 2
   },
   "file_extension": ".py",
   "mimetype": "text/x-python",
   "name": "python",
   "nbconvert_exporter": "python",
   "pygments_lexer": "ipython2",
   "version": "2.7.6"
  }
 },
 "nbformat": 4,
 "nbformat_minor": 0
}
