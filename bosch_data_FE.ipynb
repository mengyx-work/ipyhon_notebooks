{
 "cells": [
  {
   "cell_type": "code",
   "execution_count": 79,
   "metadata": {
    "collapsed": false,
    "scrolled": true
   },
   "outputs": [],
   "source": [
    "%matplotlib inline\n",
    "import os, sys, time\n",
    "import pandas as pd\n",
    "import numpy as np\n",
    "from os.path import join\n",
    "import matplotlib.pyplot as plt\n",
    "\n",
    "from sklearn.linear_model import LogisticRegression\n",
    "from sklearn.ensemble import RandomForestClassifier, ExtraTreesClassifier\n",
    "from sklearn import preprocessing\n",
    "sys.path.append('/home/ymm/kaggle/xgboost_hyperopt')\n",
    "import utils.bosch_functions as bosch_functions\n",
    "from utils.wrapped_xgboost import xgboost_classifier\n",
    "from utils.validation_tools import score_MCC, MCC, create_validation_index\n",
    "from utils.models import CombinedModel\n",
    "\n",
    "data_path = '/home/ymm/bosch/'\n",
    "\n",
    "train_num_file   = 'train_numeric.csv'\n",
    "train_cat_file   = 'train_categorical.csv'\n",
    "train_date_file  = 'train_date.csv'\n",
    "test_num_file    = 'test_numeric.csv'\n",
    "test_cat_file    = 'test_categorical.csv'\n",
    "test_date_file   = 'test_date.csv'\n",
    "\n",
    "sample_submission_file   = 'sample_submission.csv'\n",
    "\n",
    "\n",
    "start_time_column_name = 'L0_S0_D1'\n",
    "id_column_name = 'Id'\n",
    "dep_var_name = 'Response'\n",
    "nan_fill_value = -2.\n"
   ]
  },
  {
   "cell_type": "code",
   "execution_count": 2,
   "metadata": {
    "collapsed": false,
    "scrolled": true
   },
   "outputs": [
    {
     "name": "stdout",
     "output_type": "stream",
     "text": [
      "finish loading date using 22.0 seconds\n"
     ]
    }
   ],
   "source": [
    "nrows = 100000\n",
    "## select all the numerical columns and try to use LR\n",
    "start_time = time.time()\n",
    "train_num = pd.read_csv(join(data_path, train_num_file),    index_col='Id', nrows = nrows)\n",
    "train_dat = pd.read_csv(join(data_path, train_date_file),   index_col='Id', nrows = nrows)\n",
    "print 'finish loading date using {} seconds'.format(round(time.time() - start_time, 0))"
   ]
  },
  {
   "cell_type": "code",
   "execution_count": 3,
   "metadata": {
    "collapsed": false
   },
   "outputs": [
    {
     "name": "stdout",
     "output_type": "stream",
     "text": [
      "(100000, 1156) (100000, 969)\n"
     ]
    }
   ],
   "source": [
    "print train_dat.shape, train_num.shape"
   ]
  },
  {
   "cell_type": "code",
   "execution_count": 4,
   "metadata": {
    "collapsed": false,
    "scrolled": false
   },
   "outputs": [
    {
     "data": {
      "text/html": [
       "<div>\n",
       "<table border=\"1\" class=\"dataframe\">\n",
       "  <thead>\n",
       "    <tr style=\"text-align: right;\">\n",
       "      <th></th>\n",
       "      <th>L0_S0_D1</th>\n",
       "      <th>L0_S0_D3</th>\n",
       "      <th>L0_S0_D5</th>\n",
       "      <th>L0_S0_D7</th>\n",
       "      <th>L0_S0_D9</th>\n",
       "      <th>L0_S0_D11</th>\n",
       "      <th>L0_S0_D13</th>\n",
       "      <th>L0_S0_D15</th>\n",
       "      <th>L0_S0_D17</th>\n",
       "      <th>L0_S0_D19</th>\n",
       "      <th>...</th>\n",
       "      <th>L3_S50_D4246</th>\n",
       "      <th>L3_S50_D4248</th>\n",
       "      <th>L3_S50_D4250</th>\n",
       "      <th>L3_S50_D4252</th>\n",
       "      <th>L3_S50_D4254</th>\n",
       "      <th>L3_S51_D4255</th>\n",
       "      <th>L3_S51_D4257</th>\n",
       "      <th>L3_S51_D4259</th>\n",
       "      <th>L3_S51_D4261</th>\n",
       "      <th>L3_S51_D4263</th>\n",
       "    </tr>\n",
       "    <tr>\n",
       "      <th>Id</th>\n",
       "      <th></th>\n",
       "      <th></th>\n",
       "      <th></th>\n",
       "      <th></th>\n",
       "      <th></th>\n",
       "      <th></th>\n",
       "      <th></th>\n",
       "      <th></th>\n",
       "      <th></th>\n",
       "      <th></th>\n",
       "      <th></th>\n",
       "      <th></th>\n",
       "      <th></th>\n",
       "      <th></th>\n",
       "      <th></th>\n",
       "      <th></th>\n",
       "      <th></th>\n",
       "      <th></th>\n",
       "      <th></th>\n",
       "      <th></th>\n",
       "      <th></th>\n",
       "    </tr>\n",
       "  </thead>\n",
       "  <tbody>\n",
       "    <tr>\n",
       "      <th>4</th>\n",
       "      <td>82.24</td>\n",
       "      <td>82.24</td>\n",
       "      <td>82.24</td>\n",
       "      <td>82.24</td>\n",
       "      <td>82.24</td>\n",
       "      <td>82.24</td>\n",
       "      <td>82.24</td>\n",
       "      <td>82.24</td>\n",
       "      <td>82.24</td>\n",
       "      <td>82.24</td>\n",
       "      <td>...</td>\n",
       "      <td>NaN</td>\n",
       "      <td>NaN</td>\n",
       "      <td>NaN</td>\n",
       "      <td>NaN</td>\n",
       "      <td>NaN</td>\n",
       "      <td>NaN</td>\n",
       "      <td>NaN</td>\n",
       "      <td>NaN</td>\n",
       "      <td>NaN</td>\n",
       "      <td>NaN</td>\n",
       "    </tr>\n",
       "    <tr>\n",
       "      <th>6</th>\n",
       "      <td>NaN</td>\n",
       "      <td>NaN</td>\n",
       "      <td>NaN</td>\n",
       "      <td>NaN</td>\n",
       "      <td>NaN</td>\n",
       "      <td>NaN</td>\n",
       "      <td>NaN</td>\n",
       "      <td>NaN</td>\n",
       "      <td>NaN</td>\n",
       "      <td>NaN</td>\n",
       "      <td>...</td>\n",
       "      <td>NaN</td>\n",
       "      <td>NaN</td>\n",
       "      <td>NaN</td>\n",
       "      <td>NaN</td>\n",
       "      <td>NaN</td>\n",
       "      <td>NaN</td>\n",
       "      <td>NaN</td>\n",
       "      <td>NaN</td>\n",
       "      <td>NaN</td>\n",
       "      <td>NaN</td>\n",
       "    </tr>\n",
       "    <tr>\n",
       "      <th>7</th>\n",
       "      <td>1618.70</td>\n",
       "      <td>1618.70</td>\n",
       "      <td>1618.70</td>\n",
       "      <td>1618.70</td>\n",
       "      <td>1618.70</td>\n",
       "      <td>1618.70</td>\n",
       "      <td>1618.70</td>\n",
       "      <td>1618.70</td>\n",
       "      <td>1618.70</td>\n",
       "      <td>1618.70</td>\n",
       "      <td>...</td>\n",
       "      <td>NaN</td>\n",
       "      <td>NaN</td>\n",
       "      <td>NaN</td>\n",
       "      <td>NaN</td>\n",
       "      <td>NaN</td>\n",
       "      <td>NaN</td>\n",
       "      <td>NaN</td>\n",
       "      <td>NaN</td>\n",
       "      <td>NaN</td>\n",
       "      <td>NaN</td>\n",
       "    </tr>\n",
       "    <tr>\n",
       "      <th>9</th>\n",
       "      <td>1149.20</td>\n",
       "      <td>1149.20</td>\n",
       "      <td>1149.20</td>\n",
       "      <td>1149.20</td>\n",
       "      <td>1149.20</td>\n",
       "      <td>1149.20</td>\n",
       "      <td>1149.20</td>\n",
       "      <td>1149.20</td>\n",
       "      <td>1149.20</td>\n",
       "      <td>1149.20</td>\n",
       "      <td>...</td>\n",
       "      <td>NaN</td>\n",
       "      <td>NaN</td>\n",
       "      <td>NaN</td>\n",
       "      <td>NaN</td>\n",
       "      <td>NaN</td>\n",
       "      <td>NaN</td>\n",
       "      <td>NaN</td>\n",
       "      <td>NaN</td>\n",
       "      <td>NaN</td>\n",
       "      <td>NaN</td>\n",
       "    </tr>\n",
       "    <tr>\n",
       "      <th>11</th>\n",
       "      <td>602.64</td>\n",
       "      <td>602.64</td>\n",
       "      <td>602.64</td>\n",
       "      <td>602.64</td>\n",
       "      <td>602.64</td>\n",
       "      <td>602.64</td>\n",
       "      <td>602.64</td>\n",
       "      <td>602.64</td>\n",
       "      <td>602.64</td>\n",
       "      <td>602.64</td>\n",
       "      <td>...</td>\n",
       "      <td>NaN</td>\n",
       "      <td>NaN</td>\n",
       "      <td>NaN</td>\n",
       "      <td>NaN</td>\n",
       "      <td>NaN</td>\n",
       "      <td>NaN</td>\n",
       "      <td>NaN</td>\n",
       "      <td>NaN</td>\n",
       "      <td>NaN</td>\n",
       "      <td>NaN</td>\n",
       "    </tr>\n",
       "    <tr>\n",
       "      <th>13</th>\n",
       "      <td>1331.66</td>\n",
       "      <td>1331.66</td>\n",
       "      <td>1331.66</td>\n",
       "      <td>1331.66</td>\n",
       "      <td>1331.66</td>\n",
       "      <td>1331.66</td>\n",
       "      <td>1331.66</td>\n",
       "      <td>1331.66</td>\n",
       "      <td>1331.66</td>\n",
       "      <td>1331.66</td>\n",
       "      <td>...</td>\n",
       "      <td>NaN</td>\n",
       "      <td>NaN</td>\n",
       "      <td>NaN</td>\n",
       "      <td>NaN</td>\n",
       "      <td>NaN</td>\n",
       "      <td>NaN</td>\n",
       "      <td>NaN</td>\n",
       "      <td>NaN</td>\n",
       "      <td>NaN</td>\n",
       "      <td>NaN</td>\n",
       "    </tr>\n",
       "    <tr>\n",
       "      <th>14</th>\n",
       "      <td>NaN</td>\n",
       "      <td>NaN</td>\n",
       "      <td>NaN</td>\n",
       "      <td>NaN</td>\n",
       "      <td>NaN</td>\n",
       "      <td>NaN</td>\n",
       "      <td>NaN</td>\n",
       "      <td>NaN</td>\n",
       "      <td>NaN</td>\n",
       "      <td>NaN</td>\n",
       "      <td>...</td>\n",
       "      <td>NaN</td>\n",
       "      <td>NaN</td>\n",
       "      <td>NaN</td>\n",
       "      <td>NaN</td>\n",
       "      <td>NaN</td>\n",
       "      <td>NaN</td>\n",
       "      <td>NaN</td>\n",
       "      <td>NaN</td>\n",
       "      <td>NaN</td>\n",
       "      <td>NaN</td>\n",
       "    </tr>\n",
       "    <tr>\n",
       "      <th>16</th>\n",
       "      <td>NaN</td>\n",
       "      <td>NaN</td>\n",
       "      <td>NaN</td>\n",
       "      <td>NaN</td>\n",
       "      <td>NaN</td>\n",
       "      <td>NaN</td>\n",
       "      <td>NaN</td>\n",
       "      <td>NaN</td>\n",
       "      <td>NaN</td>\n",
       "      <td>NaN</td>\n",
       "      <td>...</td>\n",
       "      <td>NaN</td>\n",
       "      <td>NaN</td>\n",
       "      <td>NaN</td>\n",
       "      <td>NaN</td>\n",
       "      <td>NaN</td>\n",
       "      <td>NaN</td>\n",
       "      <td>NaN</td>\n",
       "      <td>NaN</td>\n",
       "      <td>NaN</td>\n",
       "      <td>NaN</td>\n",
       "    </tr>\n",
       "    <tr>\n",
       "      <th>18</th>\n",
       "      <td>517.64</td>\n",
       "      <td>517.64</td>\n",
       "      <td>517.64</td>\n",
       "      <td>517.64</td>\n",
       "      <td>517.64</td>\n",
       "      <td>517.64</td>\n",
       "      <td>517.64</td>\n",
       "      <td>517.64</td>\n",
       "      <td>517.64</td>\n",
       "      <td>517.64</td>\n",
       "      <td>...</td>\n",
       "      <td>NaN</td>\n",
       "      <td>NaN</td>\n",
       "      <td>NaN</td>\n",
       "      <td>NaN</td>\n",
       "      <td>NaN</td>\n",
       "      <td>NaN</td>\n",
       "      <td>NaN</td>\n",
       "      <td>NaN</td>\n",
       "      <td>NaN</td>\n",
       "      <td>NaN</td>\n",
       "    </tr>\n",
       "    <tr>\n",
       "      <th>23</th>\n",
       "      <td>NaN</td>\n",
       "      <td>NaN</td>\n",
       "      <td>NaN</td>\n",
       "      <td>NaN</td>\n",
       "      <td>NaN</td>\n",
       "      <td>NaN</td>\n",
       "      <td>NaN</td>\n",
       "      <td>NaN</td>\n",
       "      <td>NaN</td>\n",
       "      <td>NaN</td>\n",
       "      <td>...</td>\n",
       "      <td>NaN</td>\n",
       "      <td>NaN</td>\n",
       "      <td>NaN</td>\n",
       "      <td>NaN</td>\n",
       "      <td>NaN</td>\n",
       "      <td>NaN</td>\n",
       "      <td>NaN</td>\n",
       "      <td>NaN</td>\n",
       "      <td>NaN</td>\n",
       "      <td>NaN</td>\n",
       "    </tr>\n",
       "  </tbody>\n",
       "</table>\n",
       "<p>10 rows × 1156 columns</p>\n",
       "</div>"
      ],
      "text/plain": [
       "    L0_S0_D1  L0_S0_D3  L0_S0_D5  L0_S0_D7  L0_S0_D9  L0_S0_D11  L0_S0_D13  \\\n",
       "Id                                                                           \n",
       "4      82.24     82.24     82.24     82.24     82.24      82.24      82.24   \n",
       "6        NaN       NaN       NaN       NaN       NaN        NaN        NaN   \n",
       "7    1618.70   1618.70   1618.70   1618.70   1618.70    1618.70    1618.70   \n",
       "9    1149.20   1149.20   1149.20   1149.20   1149.20    1149.20    1149.20   \n",
       "11    602.64    602.64    602.64    602.64    602.64     602.64     602.64   \n",
       "13   1331.66   1331.66   1331.66   1331.66   1331.66    1331.66    1331.66   \n",
       "14       NaN       NaN       NaN       NaN       NaN        NaN        NaN   \n",
       "16       NaN       NaN       NaN       NaN       NaN        NaN        NaN   \n",
       "18    517.64    517.64    517.64    517.64    517.64     517.64     517.64   \n",
       "23       NaN       NaN       NaN       NaN       NaN        NaN        NaN   \n",
       "\n",
       "    L0_S0_D15  L0_S0_D17  L0_S0_D19      ...       L3_S50_D4246  L3_S50_D4248  \\\n",
       "Id                                       ...                                    \n",
       "4       82.24      82.24      82.24      ...                NaN           NaN   \n",
       "6         NaN        NaN        NaN      ...                NaN           NaN   \n",
       "7     1618.70    1618.70    1618.70      ...                NaN           NaN   \n",
       "9     1149.20    1149.20    1149.20      ...                NaN           NaN   \n",
       "11     602.64     602.64     602.64      ...                NaN           NaN   \n",
       "13    1331.66    1331.66    1331.66      ...                NaN           NaN   \n",
       "14        NaN        NaN        NaN      ...                NaN           NaN   \n",
       "16        NaN        NaN        NaN      ...                NaN           NaN   \n",
       "18     517.64     517.64     517.64      ...                NaN           NaN   \n",
       "23        NaN        NaN        NaN      ...                NaN           NaN   \n",
       "\n",
       "    L3_S50_D4250  L3_S50_D4252  L3_S50_D4254  L3_S51_D4255  L3_S51_D4257  \\\n",
       "Id                                                                         \n",
       "4            NaN           NaN           NaN           NaN           NaN   \n",
       "6            NaN           NaN           NaN           NaN           NaN   \n",
       "7            NaN           NaN           NaN           NaN           NaN   \n",
       "9            NaN           NaN           NaN           NaN           NaN   \n",
       "11           NaN           NaN           NaN           NaN           NaN   \n",
       "13           NaN           NaN           NaN           NaN           NaN   \n",
       "14           NaN           NaN           NaN           NaN           NaN   \n",
       "16           NaN           NaN           NaN           NaN           NaN   \n",
       "18           NaN           NaN           NaN           NaN           NaN   \n",
       "23           NaN           NaN           NaN           NaN           NaN   \n",
       "\n",
       "    L3_S51_D4259  L3_S51_D4261  L3_S51_D4263  \n",
       "Id                                            \n",
       "4            NaN           NaN           NaN  \n",
       "6            NaN           NaN           NaN  \n",
       "7            NaN           NaN           NaN  \n",
       "9            NaN           NaN           NaN  \n",
       "11           NaN           NaN           NaN  \n",
       "13           NaN           NaN           NaN  \n",
       "14           NaN           NaN           NaN  \n",
       "16           NaN           NaN           NaN  \n",
       "18           NaN           NaN           NaN  \n",
       "23           NaN           NaN           NaN  \n",
       "\n",
       "[10 rows x 1156 columns]"
      ]
     },
     "execution_count": 4,
     "metadata": {},
     "output_type": "execute_result"
    }
   ],
   "source": [
    "train_dat.head(10)"
   ]
  },
  {
   "cell_type": "code",
   "execution_count": 5,
   "metadata": {
    "collapsed": false
   },
   "outputs": [],
   "source": [
    "tmp_train_num = train_num\n",
    "tmp_train_dat = train_dat\n",
    "#tmp_train_num = train_num.copy()\n",
    "#tmp_train_dat = train_dat.copy()"
   ]
  },
  {
   "cell_type": "code",
   "execution_count": 6,
   "metadata": {
    "collapsed": false
   },
   "outputs": [],
   "source": [
    "\n",
    "\n",
    "def BasicDate_FeatureEngineering(tmp_train_dat):\n",
    "    ## feature engineering on the date features\n",
    "    encoder = preprocessing.LabelEncoder()\n",
    "    column_names = tmp_train_dat.columns.tolist()\n",
    "    column_names.append('NaN')\n",
    "    encoder.fit(column_names)\n",
    "    dat_new_fea = pd.DataFrame()\n",
    "    dat_new_fea['start_time'] = tmp_train_dat['L0_S0_D1']\n",
    "    dat_new_fea['time_sum'] = tmp_train_dat.sum(axis=1)\n",
    "    dat_new_fea['time_mean'] = tmp_train_dat.mean(axis=1)\n",
    "    dat_new_fea['dat_nan_count'] = tmp_train_dat.isnull().sum(axis=1)\n",
    "    dat_new_fea['max_time'] = tmp_train_dat.max(axis=1)\n",
    "    dat_new_fea['min_time'] = tmp_train_dat.min(axis=1)\n",
    "    dat_new_fea['max_min_diff'] = dat_new_fea['max_time'] - dat_new_fea['min_time']\n",
    "    dat_new_fea['max_min_ratio'] = dat_new_fea['min_time'] / dat_new_fea['max_time']\n",
    "\n",
    "    dat_new_fea['idxmax'] = tmp_train_dat.idxmax(axis=1)\n",
    "    dat_new_fea['idxmax'].fillna('NaN', inplace=True)\n",
    "    dat_new_fea['idxmax'] = encoder.transform(dat_new_fea['idxmax'])\n",
    "    dat_new_fea['idxmin'] = tmp_train_dat.idxmin(axis=1)\n",
    "    dat_new_fea['idxmin'].fillna('NaN', inplace=True)\n",
    "    dat_new_fea['idxmin'] = encoder.transform(dat_new_fea['idxmin'])\n",
    "    return dat_new_fea\n",
    "\n",
    "\n",
    "def getRelativeTimeColumns(series):\n",
    "    '''\n",
    "    normalize the time features by\n",
    "    the start_time, the first none-NaN\n",
    "    value\n",
    "    '''\n",
    "    if series[0] == np.NaN:\n",
    "        start_time = series.dropna().index[0]\n",
    "    else:\n",
    "        start_time = series[0]\n",
    "    new_series = series - start_time\n",
    "    return new_series\n",
    "   \n",
    "\n",
    "\n",
    "def getTimeSteps(series, unique_value_counts = 5):\n",
    "    '''\n",
    "    in each row/series, use the sorted value_count\n",
    "    to find the time steps and use the value, counts\n",
    "    and column_index as features\n",
    "    '''\n",
    "    value_counts = series.value_counts()\n",
    "    value_counts.sort_index(inplace=True)\n",
    "\n",
    "    if 0. in value_counts.index:\n",
    "        value_counts = value_counts[value_counts.index != 0.]\n",
    "        \n",
    "    available_counts = value_counts.shape[0]\n",
    "    feature_array = []\n",
    "    for i in xrange(unique_value_counts):\n",
    "        if i < available_counts:\n",
    "            value = value_counts.index[i]\n",
    "            counts = value_counts[value]\n",
    "            first_index = series[series == value].index[0]\n",
    "            avg_time_cost = value / counts\n",
    "            feature = [value, counts, avg_time_cost, first_index]\n",
    "        else:\n",
    "            feature = [np.NaN, np.NaN, np.NaN, np.NaN]\n",
    "        feature_array.extend(feature)\n",
    "\n",
    "    return pd.Series(feature_array)\n",
    "\n",
    "\n",
    "\n",
    "def getTimeChangeColumns(series):\n",
    "    start_time = series[0]\n",
    "    tmp_series = series.dropna()\n",
    "    if start_time == np.NaN:\n",
    "        first_index = tmp_series.index[0]\n",
    "        last_index  = tmp_series.index[-1]\n",
    "        time_diff = tmp_series[last_index] - tmp_series[first_index]\n",
    "        return pd.Series([first_index, last_index, time_diff])\n",
    "    else:\n",
    "        if np.sum(tmp_series != start_time) == 0:\n",
    "            return pd.Series([np.NaN, np.NaN, np.NaN])\n",
    "        else:\n",
    "            first_index = tmp_series.index[tmp_series != start_time][0]\n",
    "            last_index = tmp_series.index[tmp_series != start_time][-1]\n",
    "            time_diff = tmp_series[last_index] - tmp_series[first_index]\n",
    "            return pd.Series([first_index, last_index, time_diff])\n",
    "\n",
    "\n",
    "        \n",
    "def getNonNaN_ColumIndex(series):\n",
    "    if series.notnull().sum() == 0:\n",
    "        return pd.Series([np.NaN, np.NaN, np.NaN])\n",
    "    else:\n",
    "        first_id = series[series.notnull()].index[0]\n",
    "        last_id = series[series.notnull()].index[-1]\n",
    "        time_diff = series[last_id] - series[first_id]\n",
    "        return pd.Series([first_id, last_id, time_diff])\n",
    "\n",
    "\n",
    "\n",
    "    \n",
    "    \n",
    "def DateFeatureEngineering(series):\n",
    "    '''\n",
    "    combination of time difference features and none-NaN features    \n",
    "    this method is faster than separating two functions\n",
    "    '''\n",
    "    ## time features\n",
    "    start_time = series[0]\n",
    "    tmp_series = series.dropna()\n",
    "    if start_time == np.NaN:\n",
    "        first_index = tmp_series.index[0]\n",
    "        last_index  = tmp_series.index[-1]\n",
    "        time_diff   = tmp_series[last_index] - tmp_series[first_index]\n",
    "        time_fea    = np.array([first_index, last_index, time_diff])\n",
    "    else:\n",
    "        if np.sum(tmp_series != start_time) == 0:\n",
    "            time_fea = np.array([np.NaN, np.NaN, np.NaN])\n",
    "        else:\n",
    "            first_index = tmp_series.index[tmp_series != start_time][0]\n",
    "            last_index  = tmp_series.index[tmp_series != start_time][-1]\n",
    "            time_diff   = tmp_series[last_index] - tmp_series[first_index]\n",
    "            time_fea = np.array([first_index, last_index, time_diff])\n",
    "    ## none-NaN features\n",
    "    if series.notnull().sum() == 0:\n",
    "        nan_fea = np.array([np.NaN, np.NaN, np.NaN])\n",
    "    else:\n",
    "        first_id  = tmp_series.index[0]\n",
    "        last_id   = tmp_series.index[-1]\n",
    "        time_diff = tmp_series[last_id] - tmp_series[first_id]\n",
    "        nan_fea = np.array([first_id, last_id, time_diff])\n",
    "         \n",
    "    new_fea_row = np.concatenate([time_fea, nan_fea])\n",
    "    return pd.Series(new_fea_row)"
   ]
  },
  {
   "cell_type": "code",
   "execution_count": 68,
   "metadata": {
    "collapsed": false
   },
   "outputs": [],
   "source": [
    "\n",
    "\n",
    "def NumericalFeatureEngineering(df, col_ignore = ['Response']):\n",
    "    tmp_df = df.loc[:, ~df.columns.isin(col_ignore)]\n",
    "    new_fea_df = pd.DataFrame()\n",
    "    encoder = preprocessing.LabelEncoder()\n",
    "    column_names = tmp_df.columns.tolist()\n",
    "    column_names.append('NaN')\n",
    "    encoder.fit(column_names)\n",
    "    new_fea_df['num_sum'] = tmp_df.sum(axis=1)\n",
    "    num_sum_max = new_fea_df['num_sum'].max()\n",
    "    new_fea_df['num_sum'].fillna(1.*int(num_sum_max - 5), inplace=True)\n",
    "    new_fea_df['num_max'] = tmp_df.max(axis=1)\n",
    "    num_max_max = new_fea_df['num_max'].max()\n",
    "    new_fea_df['num_max'].fillna(1.*int(num_max_max + 1), inplace=True)\n",
    "    new_fea_df['num_min'] = tmp_df.min(axis=1)\n",
    "    num_min_min = new_fea_df['num_min'].min()\n",
    "    new_fea_df['num_min'].fillna(1.*int(num_min_min - 1.), inplace=True)\n",
    "    new_fea_df['mun_max_min_ratio'] = new_fea_df['num_min'] / new_fea_df['num_max']\n",
    "    new_fea_df['mun_max_min_ratio'] = new_fea_df['mun_max_min_ratio'].replace([np.inf, -np.inf], 1100.)\n",
    "    new_fea_df['num_nan_col_count'] = tmp_df.isnull().sum(axis=1)\n",
    "    new_fea_df['num_reg_col_count'] = tmp_df.shape[1] - tmp_df.isnull().sum(axis=1)\n",
    "    new_fea_df['idxmax'] = tmp_df.idxmax(axis=1)\n",
    "    new_fea_df['idxmax'].fillna('NaN', inplace=True)\n",
    "    new_fea_df['idxmax'] = encoder.transform(new_fea_df['idxmax'])\n",
    "    new_fea_df['idxmin'] = tmp_df.idxmin(axis=1)\n",
    "    new_fea_df['idxmin'].fillna('NaN', inplace=True)\n",
    "    new_fea_df['idxmin'] = encoder.transform(new_fea_df['idxmin'])\n",
    "    return new_fea_df\n"
   ]
  },
  {
   "cell_type": "code",
   "execution_count": 69,
   "metadata": {
    "collapsed": false
   },
   "outputs": [],
   "source": [
    "tmp_train_num_Basics = NumericalFeatureEngineering(tmp_train_num)"
   ]
  },
  {
   "cell_type": "code",
   "execution_count": 70,
   "metadata": {
    "collapsed": false
   },
   "outputs": [
    {
     "name": "stdout",
     "output_type": "stream",
     "text": [
      "-1936.0 1100.0\n"
     ]
    }
   ],
   "source": [
    "print tmp_train_num_Basics.min().min(), tmp_train_num_Basics.max().max()"
   ]
  },
  {
   "cell_type": "code",
   "execution_count": 15,
   "metadata": {
    "collapsed": false
   },
   "outputs": [
    {
     "name": "stdout",
     "output_type": "stream",
     "text": [
      "1.0 \n",
      "-1.0\n"
     ]
    }
   ],
   "source": [
    "#print tmp_train_num.max().max(), '\\n', tmp_train_num.min().min()\n",
    "tmp_train_num.fillna(nan_fill_value, inplace=True)"
   ]
  },
  {
   "cell_type": "code",
   "execution_count": 71,
   "metadata": {
    "collapsed": false
   },
   "outputs": [],
   "source": [
    "combined_train_num = pd.concat([tmp_train_num, tmp_train_num_Basics], axis=1)"
   ]
  },
  {
   "cell_type": "code",
   "execution_count": 30,
   "metadata": {
    "collapsed": false
   },
   "outputs": [
    {
     "name": "stdout",
     "output_type": "stream",
     "text": [
      "0\n"
     ]
    }
   ],
   "source": [
    "print combined_train_num.isnull().sum().sum()"
   ]
  },
  {
   "cell_type": "code",
   "execution_count": 32,
   "metadata": {
    "collapsed": false,
    "scrolled": false
   },
   "outputs": [
    {
     "name": "stdout",
     "output_type": "stream",
     "text": [
      "finish feature engineering date using 7.24 minutes\n"
     ]
    }
   ],
   "source": [
    "start_time = time.time()\n",
    "\n",
    "## normalized date columns\n",
    "tmp_train_dat_Norm = tmp_train_dat.apply(getRelativeTimeColumns, axis=1)\n",
    "## basic features from tmp_train_dat\n",
    "tmp_train_dat_Basics = BasicDate_FeatureEngineering(tmp_train_dat)\n",
    "\n",
    "encoder = preprocessing.LabelEncoder()\n",
    "column_names = tmp_train_dat.columns.tolist()\n",
    "column_names.append('NaN')\n",
    "encoder.fit(column_names)\n",
    "    \n",
    "#'''\n",
    "tmp_train_dat_TimeDiff = tmp_train_dat.apply(getTimeChangeColumns, axis=1)\n",
    "tmp_train_dat_TimeDiff.columns = ['time_diff_start_col', 'time_diff_end_col', 'time_diff_value']\n",
    "                   \n",
    "for column in ['time_diff_start_col', 'time_diff_end_col']:\n",
    "    tmp_train_dat_TimeDiff[column].fillna('NaN', inplace=True)\n",
    "    tmp_train_dat_TimeDiff[column] = encoder.transform(tmp_train_dat_TimeDiff[column])  \n",
    "    \n",
    "#'''\n",
    "\n",
    "\n",
    "unique_value_counts = 5\n",
    "timeStep_columnNames = []\n",
    "column_name_columns = []\n",
    "for i in xrange(unique_value_counts):\n",
    "    timeStep_columnNames.extend(['time_diff_step_{}'.format(i), 'column_counts_step_{}'.format(i), \n",
    "                                 'time_cost_step_{}'.format(i), 'first_column_step_{}'.format(i)])\n",
    "    column_name_columns.append('first_column_step_{}'.format(i))\n",
    "\n",
    "tmp_train_dat_TimeStep = tmp_train_dat_Norm.apply(getTimeSteps, axis=1)\n",
    "tmp_train_dat_TimeStep.columns = timeStep_columnNames\n",
    "for column in column_name_columns:\n",
    "    tmp_train_dat_TimeStep[column].fillna('NaN', inplace=True)\n",
    "    tmp_train_dat_TimeStep[column] = encoder.transform(tmp_train_dat_TimeStep[column])\n",
    "    \n",
    "\n",
    "print 'finish feature engineering date using {} minutes'.format(round((time.time() - start_time)/60, 2))"
   ]
  },
  {
   "cell_type": "code",
   "execution_count": null,
   "metadata": {
    "collapsed": false
   },
   "outputs": [],
   "source": [
    "'''\n",
    "print tmp_train_dat_Norm.shape\n",
    "tmp_train_dat_Norm.head()\n",
    "\n",
    "print tmp_train_dat_TimeStep.shape\n",
    "tmp_train_dat_TimeStep.head()\n",
    "\n",
    "print tmp_train_dat_TimeDiff.shape\n",
    "tmp_train_dat_TimeDiff.head()\n",
    "\n",
    "print tmp_train_dat_Basics.shape\n",
    "tmp_train_dat_Basics.head()\n",
    "'''"
   ]
  },
  {
   "cell_type": "code",
   "execution_count": 33,
   "metadata": {
    "collapsed": false
   },
   "outputs": [],
   "source": [
    "combined_train_dat = pd.concat([tmp_train_dat_Norm, tmp_train_dat_Basics, tmp_train_dat_TimeDiff, tmp_train_dat_TimeStep], axis=1)"
   ]
  },
  {
   "cell_type": "code",
   "execution_count": 34,
   "metadata": {
    "collapsed": false
   },
   "outputs": [
    {
     "name": "stdout",
     "output_type": "stream",
     "text": [
      "556416.2 0.0\n"
     ]
    }
   ],
   "source": [
    "print combined_train_dat.max().max(), combined_train_dat.min().min()"
   ]
  },
  {
   "cell_type": "code",
   "execution_count": 35,
   "metadata": {
    "collapsed": true
   },
   "outputs": [],
   "source": [
    "combined_train_dat.fillna(nan_fill_value, inplace=True)"
   ]
  },
  {
   "cell_type": "code",
   "execution_count": 36,
   "metadata": {
    "collapsed": false
   },
   "outputs": [
    {
     "name": "stdout",
     "output_type": "stream",
     "text": [
      "0\n"
     ]
    }
   ],
   "source": [
    "print combined_train_dat.isnull().sum().sum()"
   ]
  },
  {
   "cell_type": "code",
   "execution_count": null,
   "metadata": {
    "collapsed": true
   },
   "outputs": [],
   "source": []
  },
  {
   "cell_type": "code",
   "execution_count": null,
   "metadata": {
    "collapsed": true
   },
   "outputs": [],
   "source": []
  },
  {
   "cell_type": "code",
   "execution_count": 72,
   "metadata": {
    "collapsed": true
   },
   "outputs": [],
   "source": [
    "combined_train = pd.concat([combined_train_num, combined_train_dat], axis=1)"
   ]
  },
  {
   "cell_type": "code",
   "execution_count": 38,
   "metadata": {
    "collapsed": false,
    "scrolled": false
   },
   "outputs": [
    {
     "name": "stdout",
     "output_type": "stream",
     "text": [
      "(100000, 2166)\n"
     ]
    },
    {
     "data": {
      "text/html": [
       "<div>\n",
       "<table border=\"1\" class=\"dataframe\">\n",
       "  <thead>\n",
       "    <tr style=\"text-align: right;\">\n",
       "      <th></th>\n",
       "      <th>L0_S0_F0</th>\n",
       "      <th>L0_S0_F2</th>\n",
       "      <th>L0_S0_F4</th>\n",
       "      <th>L0_S0_F6</th>\n",
       "      <th>L0_S0_F8</th>\n",
       "      <th>L0_S0_F10</th>\n",
       "      <th>L0_S0_F12</th>\n",
       "      <th>L0_S0_F14</th>\n",
       "      <th>L0_S0_F16</th>\n",
       "      <th>L0_S0_F18</th>\n",
       "      <th>...</th>\n",
       "      <th>time_cost_step_2</th>\n",
       "      <th>first_column_step_2</th>\n",
       "      <th>time_diff_step_3</th>\n",
       "      <th>column_counts_step_3</th>\n",
       "      <th>time_cost_step_3</th>\n",
       "      <th>first_column_step_3</th>\n",
       "      <th>time_diff_step_4</th>\n",
       "      <th>column_counts_step_4</th>\n",
       "      <th>time_cost_step_4</th>\n",
       "      <th>first_column_step_4</th>\n",
       "    </tr>\n",
       "    <tr>\n",
       "      <th>Id</th>\n",
       "      <th></th>\n",
       "      <th></th>\n",
       "      <th></th>\n",
       "      <th></th>\n",
       "      <th></th>\n",
       "      <th></th>\n",
       "      <th></th>\n",
       "      <th></th>\n",
       "      <th></th>\n",
       "      <th></th>\n",
       "      <th></th>\n",
       "      <th></th>\n",
       "      <th></th>\n",
       "      <th></th>\n",
       "      <th></th>\n",
       "      <th></th>\n",
       "      <th></th>\n",
       "      <th></th>\n",
       "      <th></th>\n",
       "      <th></th>\n",
       "      <th></th>\n",
       "    </tr>\n",
       "  </thead>\n",
       "  <tbody>\n",
       "    <tr>\n",
       "      <th>4</th>\n",
       "      <td>0.030</td>\n",
       "      <td>-0.034</td>\n",
       "      <td>-0.197</td>\n",
       "      <td>-0.179</td>\n",
       "      <td>0.118</td>\n",
       "      <td>0.116</td>\n",
       "      <td>-0.015</td>\n",
       "      <td>-0.032</td>\n",
       "      <td>0.020</td>\n",
       "      <td>0.083</td>\n",
       "      <td>...</td>\n",
       "      <td>0.050707</td>\n",
       "      <td>883</td>\n",
       "      <td>5.03</td>\n",
       "      <td>4.0</td>\n",
       "      <td>1.257500</td>\n",
       "      <td>1014</td>\n",
       "      <td>5.04</td>\n",
       "      <td>15.0</td>\n",
       "      <td>0.336000</td>\n",
       "      <td>1019</td>\n",
       "    </tr>\n",
       "    <tr>\n",
       "      <th>6</th>\n",
       "      <td>-2.000</td>\n",
       "      <td>-2.000</td>\n",
       "      <td>-2.000</td>\n",
       "      <td>-2.000</td>\n",
       "      <td>-2.000</td>\n",
       "      <td>-2.000</td>\n",
       "      <td>-2.000</td>\n",
       "      <td>-2.000</td>\n",
       "      <td>-2.000</td>\n",
       "      <td>-2.000</td>\n",
       "      <td>...</td>\n",
       "      <td>-2.000000</td>\n",
       "      <td>1156</td>\n",
       "      <td>-2.00</td>\n",
       "      <td>-2.0</td>\n",
       "      <td>-2.000000</td>\n",
       "      <td>1156</td>\n",
       "      <td>-2.00</td>\n",
       "      <td>-2.0</td>\n",
       "      <td>-2.000000</td>\n",
       "      <td>1156</td>\n",
       "    </tr>\n",
       "    <tr>\n",
       "      <th>7</th>\n",
       "      <td>0.088</td>\n",
       "      <td>0.086</td>\n",
       "      <td>0.003</td>\n",
       "      <td>-0.052</td>\n",
       "      <td>0.161</td>\n",
       "      <td>0.025</td>\n",
       "      <td>-0.015</td>\n",
       "      <td>-0.072</td>\n",
       "      <td>-0.225</td>\n",
       "      <td>-0.147</td>\n",
       "      <td>...</td>\n",
       "      <td>0.090476</td>\n",
       "      <td>883</td>\n",
       "      <td>5.71</td>\n",
       "      <td>68.0</td>\n",
       "      <td>0.083971</td>\n",
       "      <td>946</td>\n",
       "      <td>5.72</td>\n",
       "      <td>29.0</td>\n",
       "      <td>0.197241</td>\n",
       "      <td>1019</td>\n",
       "    </tr>\n",
       "    <tr>\n",
       "      <th>9</th>\n",
       "      <td>-0.036</td>\n",
       "      <td>-0.064</td>\n",
       "      <td>0.294</td>\n",
       "      <td>0.330</td>\n",
       "      <td>0.074</td>\n",
       "      <td>0.161</td>\n",
       "      <td>0.022</td>\n",
       "      <td>0.128</td>\n",
       "      <td>-0.026</td>\n",
       "      <td>-0.046</td>\n",
       "      <td>...</td>\n",
       "      <td>0.078095</td>\n",
       "      <td>883</td>\n",
       "      <td>4.93</td>\n",
       "      <td>68.0</td>\n",
       "      <td>0.072500</td>\n",
       "      <td>946</td>\n",
       "      <td>4.94</td>\n",
       "      <td>10.0</td>\n",
       "      <td>0.494000</td>\n",
       "      <td>1019</td>\n",
       "    </tr>\n",
       "    <tr>\n",
       "      <th>11</th>\n",
       "      <td>-0.055</td>\n",
       "      <td>-0.086</td>\n",
       "      <td>0.294</td>\n",
       "      <td>0.330</td>\n",
       "      <td>0.118</td>\n",
       "      <td>0.025</td>\n",
       "      <td>0.030</td>\n",
       "      <td>0.168</td>\n",
       "      <td>-0.169</td>\n",
       "      <td>-0.099</td>\n",
       "      <td>...</td>\n",
       "      <td>0.025649</td>\n",
       "      <td>883</td>\n",
       "      <td>3.37</td>\n",
       "      <td>15.0</td>\n",
       "      <td>0.224667</td>\n",
       "      <td>1019</td>\n",
       "      <td>3.38</td>\n",
       "      <td>14.0</td>\n",
       "      <td>0.241429</td>\n",
       "      <td>1042</td>\n",
       "    </tr>\n",
       "  </tbody>\n",
       "</table>\n",
       "<p>5 rows × 2166 columns</p>\n",
       "</div>"
      ],
      "text/plain": [
       "    L0_S0_F0  L0_S0_F2  L0_S0_F4  L0_S0_F6  L0_S0_F8  L0_S0_F10  L0_S0_F12  \\\n",
       "Id                                                                           \n",
       "4      0.030    -0.034    -0.197    -0.179     0.118      0.116     -0.015   \n",
       "6     -2.000    -2.000    -2.000    -2.000    -2.000     -2.000     -2.000   \n",
       "7      0.088     0.086     0.003    -0.052     0.161      0.025     -0.015   \n",
       "9     -0.036    -0.064     0.294     0.330     0.074      0.161      0.022   \n",
       "11    -0.055    -0.086     0.294     0.330     0.118      0.025      0.030   \n",
       "\n",
       "    L0_S0_F14  L0_S0_F16  L0_S0_F18         ...           time_cost_step_2  \\\n",
       "Id                                          ...                              \n",
       "4      -0.032      0.020      0.083         ...                   0.050707   \n",
       "6      -2.000     -2.000     -2.000         ...                  -2.000000   \n",
       "7      -0.072     -0.225     -0.147         ...                   0.090476   \n",
       "9       0.128     -0.026     -0.046         ...                   0.078095   \n",
       "11      0.168     -0.169     -0.099         ...                   0.025649   \n",
       "\n",
       "    first_column_step_2  time_diff_step_3  column_counts_step_3  \\\n",
       "Id                                                                \n",
       "4                   883              5.03                   4.0   \n",
       "6                  1156             -2.00                  -2.0   \n",
       "7                   883              5.71                  68.0   \n",
       "9                   883              4.93                  68.0   \n",
       "11                  883              3.37                  15.0   \n",
       "\n",
       "    time_cost_step_3  first_column_step_3  time_diff_step_4  \\\n",
       "Id                                                            \n",
       "4           1.257500                 1014              5.04   \n",
       "6          -2.000000                 1156             -2.00   \n",
       "7           0.083971                  946              5.72   \n",
       "9           0.072500                  946              4.94   \n",
       "11          0.224667                 1019              3.38   \n",
       "\n",
       "    column_counts_step_4  time_cost_step_4  first_column_step_4  \n",
       "Id                                                               \n",
       "4                   15.0          0.336000                 1019  \n",
       "6                   -2.0         -2.000000                 1156  \n",
       "7                   29.0          0.197241                 1019  \n",
       "9                   10.0          0.494000                 1019  \n",
       "11                  14.0          0.241429                 1042  \n",
       "\n",
       "[5 rows x 2166 columns]"
      ]
     },
     "execution_count": 38,
     "metadata": {},
     "output_type": "execute_result"
    }
   ],
   "source": [
    "print combined_train.shape\n",
    "combined_train.head()"
   ]
  },
  {
   "cell_type": "code",
   "execution_count": 239,
   "metadata": {
    "collapsed": true
   },
   "outputs": [],
   "source": [
    "#combined_train = combined_train_dat\n",
    "#combined_train[dep_var_name] = combined_train_num[dep_var_name]"
   ]
  },
  {
   "cell_type": "code",
   "execution_count": 73,
   "metadata": {
    "collapsed": false
   },
   "outputs": [],
   "source": [
    "############## Section of regular validation #######################\n",
    "train_index, valid_index = create_validation_index(combined_train, 0.3, dep_var_name, True)\n",
    "valid_data = combined_train.ix[valid_index]\n",
    "tmp_train  = combined_train.ix[train_index]"
   ]
  },
  {
   "cell_type": "code",
   "execution_count": 74,
   "metadata": {
    "collapsed": true
   },
   "outputs": [],
   "source": [
    "y = tmp_train[dep_var_name].values\n",
    "X = tmp_train.drop(dep_var_name, axis=1)\n",
    "\n",
    "valid_y = valid_data[dep_var_name].values\n",
    "valid_X = valid_data.drop(dep_var_name, axis=1)"
   ]
  },
  {
   "cell_type": "code",
   "execution_count": 75,
   "metadata": {
    "collapsed": false
   },
   "outputs": [],
   "source": [
    "rf_params = {'random_state' : 9999, 'n_estimators' : 2000, 'max_depth' : 7, 'criterion' : 'gini', 'n_jobs' : -1}\n",
    "et_params = {'random_state' : 9999, 'n_estimators' : 200, 'max_depth' : 18, 'criterion' : 'gini', 'n_jobs' : -1}\n",
    "rf_clf = RandomForestClassifier(**rf_params)\n",
    "rf_clf = rf_clf.fit(X, y)\n",
    "\n",
    "et_clf = RandomForestClassifier(**et_params)\n",
    "et_clf = et_clf.fit(X, y)"
   ]
  },
  {
   "cell_type": "code",
   "execution_count": 247,
   "metadata": {
    "collapsed": false
   },
   "outputs": [
    {
     "name": "stdout",
     "output_type": "stream",
     "text": [
      "finish training LR model using 242.0 seconds\n"
     ]
    }
   ],
   "source": [
    "C = 0.1\n",
    "start_time = time.time()\n",
    "LR_clf = LogisticRegression(C = C, class_weight='balanced', n_jobs = -1, penalty='l2')\n",
    "LR_clf.fit(X, y)\n",
    "print 'finish training LR model using {} seconds'.format(round(time.time() - start_time, 0))"
   ]
  },
  {
   "cell_type": "code",
   "execution_count": 81,
   "metadata": {
    "collapsed": false
   },
   "outputs": [
    {
     "name": "stdout",
     "output_type": "stream",
     "text": [
      "scale_pos_weight: 174.881909548\n",
      "a base_score 0.00568563306238 is used in the xgboost model...\n"
     ]
    },
    {
     "name": "stderr",
     "output_type": "stream",
     "text": [
      "\n",
      "####################\n",
      " train the xgboost without early stopping\n",
      "####################\n"
     ]
    },
    {
     "name": "stdout",
     "output_type": "stream",
     "text": [
      "[0]\ttrain-auc:0.719957\n",
      "[50]\ttrain-auc:0.837319\n",
      "[100]\ttrain-auc:0.849805\n",
      "[150]\ttrain-auc:0.878313\n",
      "[200]\ttrain-auc:0.900251\n",
      "[250]\ttrain-auc:0.920368\n",
      "[300]\ttrain-auc:0.936107\n",
      "[350]\ttrain-auc:0.94872\n",
      "[400]\ttrain-auc:0.959309\n",
      "[450]\ttrain-auc:0.965316\n",
      "[500]\ttrain-auc:0.971164\n",
      "[550]\ttrain-auc:0.975505\n",
      "[600]\ttrain-auc:0.978556\n",
      "[650]\ttrain-auc:0.981243\n",
      "[700]\ttrain-auc:0.984397\n",
      "[750]\ttrain-auc:0.987084\n",
      "[800]\ttrain-auc:0.988832\n",
      "[850]\ttrain-auc:0.990672\n",
      "[900]\ttrain-auc:0.992029\n",
      "[950]\ttrain-auc:0.993165\n",
      "[1000]\ttrain-auc:0.99409\n",
      "[1050]\ttrain-auc:0.9947\n",
      "[1100]\ttrain-auc:0.995434\n",
      "[1150]\ttrain-auc:0.99613\n",
      "[1200]\ttrain-auc:0.996666\n",
      "[1250]\ttrain-auc:0.996992\n",
      "[1300]\ttrain-auc:0.99727\n",
      "[1350]\ttrain-auc:0.997605\n",
      "[1400]\ttrain-auc:0.997867\n",
      "[1450]\ttrain-auc:0.998081\n",
      "[1500]\ttrain-auc:0.99826\n",
      "[1550]\ttrain-auc:0.998398\n",
      "[1600]\ttrain-auc:0.998535\n",
      "[1650]\ttrain-auc:0.998665\n",
      "[1700]\ttrain-auc:0.998775\n",
      "[1750]\ttrain-auc:0.998874\n",
      "[1800]\ttrain-auc:0.998961\n",
      "[1850]\ttrain-auc:0.999045\n",
      "[1900]\ttrain-auc:0.999129\n",
      "[1950]\ttrain-auc:0.999191\n",
      "[2000]\ttrain-auc:0.999245\n",
      "[2050]\ttrain-auc:0.999303\n",
      "[2100]\ttrain-auc:0.999343\n",
      "[2150]\ttrain-auc:0.999391\n",
      "[2200]\ttrain-auc:0.999432\n",
      "[2250]\ttrain-auc:0.999469\n",
      "[2300]\ttrain-auc:0.999505\n",
      "[2350]\ttrain-auc:0.999532\n",
      "[2400]\ttrain-auc:0.999561\n",
      "[2450]\ttrain-auc:0.999588\n",
      "the xgboost fit is finished by using 670.838034153 seconds, saved into bosch_xgb_model\n"
     ]
    },
    {
     "data": {
      "text/plain": [
       "<utils.wrapped_xgboost.xgboost_classifier at 0x7f0e82307c50>"
      ]
     },
     "execution_count": 81,
     "metadata": {},
     "output_type": "execute_result"
    }
   ],
   "source": [
    "params = {}\n",
    "params[\"eta\"]                      = 0.0075\n",
    "params[\"subsample\"]                = 0.8\n",
    "params[\"colsample_bytree\"]         = 0.8\n",
    "params[\"num_round\"]                = 2000\n",
    "params[\"max_depth\"]                = 5\n",
    "params[\"gamma\"]                    = 0\n",
    "params[\"metrics\"]                  = 'auc'\n",
    "params['eval_metric']              = 'auc'\n",
    "params[\"seed\"]                     = 999\n",
    "params['verbose_eval']             = 50\n",
    "## whether to use weights\n",
    "params['use_base_score']           = True\n",
    "params['use_weights']              = True\n",
    "#params['use_scale_pos_weight']     = True\n",
    "params[\"val\"]                      = False\n",
    "\n",
    "model = xgboost_classifier(label_name = dep_var_name, params = params, model_file='bosch_xgb_model')\n",
    "model.fit(tmp_train, dep_var_name)"
   ]
  },
  {
   "cell_type": "code",
   "execution_count": 83,
   "metadata": {
    "collapsed": false,
    "scrolled": true
   },
   "outputs": [
    {
     "name": "stdout",
     "output_type": "stream",
     "text": [
      "in the prediction step, dep_var_name is not provided....\n",
      "result from using constant fraction: \n",
      "mean of groud truth: 0.00566685556185\n",
      "threshold for preds: 0.0325735116611\n",
      "0.201356555898\n",
      "\n",
      " \n",
      "\n",
      "result from using flexsible threshold: (0.23640114182377825, 0.04184843227267265)\n"
     ]
    }
   ],
   "source": [
    "#pred = rf_clf.predict_proba(valid_X)[:, 1]\n",
    "#pred = et_clf.predict_proba(valid_X)[:, 1]\n",
    "#pred = LR_clf.predict_proba(valid_X)[:, 1]\n",
    "pred = model.predict(valid_X)\n",
    "\n",
    "print 'result from using constant fraction: \\n', score_MCC(valid_y, pred)\n",
    "print '\\n \\n'\n",
    "print 'result from using flexsible threshold:', CombinedModel.mcc_eval_func(valid_y, pred)"
   ]
  },
  {
   "cell_type": "code",
   "execution_count": null,
   "metadata": {
    "collapsed": true
   },
   "outputs": [],
   "source": []
  },
  {
   "cell_type": "code",
   "execution_count": null,
   "metadata": {
    "collapsed": true
   },
   "outputs": [],
   "source": []
  },
  {
   "cell_type": "code",
   "execution_count": null,
   "metadata": {
    "collapsed": true
   },
   "outputs": [],
   "source": [
    "et_params = {'random_state' : 9999, 'n_estimators' : 200, 'max_depth' : 18, 'criterion' : 'gini', 'n_jobs' : -1}"
   ]
  },
  {
   "cell_type": "code",
   "execution_count": null,
   "metadata": {
    "collapsed": true
   },
   "outputs": [],
   "source": []
  },
  {
   "cell_type": "code",
   "execution_count": null,
   "metadata": {
    "collapsed": true
   },
   "outputs": [],
   "source": []
  },
  {
   "cell_type": "code",
   "execution_count": null,
   "metadata": {
    "collapsed": true
   },
   "outputs": [],
   "source": []
  },
  {
   "cell_type": "markdown",
   "metadata": {},
   "source": [
    "### R&D work\n",
    "\n",
    "Independent work to build LR models on both numerical and date features. Those LR\n",
    "models will be used as feature selection tools.\n",
    "\n",
    "    1. use all the numerical/date data and only first 50,000 rows\n",
    "    2. try to build a LR model and understand the features"
   ]
  },
  {
   "cell_type": "code",
   "execution_count": 34,
   "metadata": {
    "collapsed": false
   },
   "outputs": [
    {
     "name": "stdout",
     "output_type": "stream",
     "text": [
      "finish loading date using 13.0 seconds\n"
     ]
    }
   ],
   "source": [
    "## select all the numerical columns and try to use LR\n",
    "start_time = time.time()\n",
    "train_num  = pd.read_csv(join(data_path, train_num_file),    index_col='Id', skiprows=skipped_train_row_num, nrows=50000)\n",
    "train_date = pd.read_csv(join(data_path, train_date_file),   index_col='Id', skiprows=skipped_train_row_num, nrows=50000)\n",
    "print 'finish loading date using {} seconds'.format(round(time.time() - start_time, 0))"
   ]
  },
  {
   "cell_type": "code",
   "execution_count": 35,
   "metadata": {
    "collapsed": false
   },
   "outputs": [
    {
     "name": "stdout",
     "output_type": "stream",
     "text": [
      "1717.86 0.39\n"
     ]
    }
   ],
   "source": [
    "print train_date.max().max(), train_date.min().min()"
   ]
  },
  {
   "cell_type": "code",
   "execution_count": 36,
   "metadata": {
    "collapsed": true
   },
   "outputs": [],
   "source": [
    "## remove columns that mostly just NaN\n",
    "train_num.fillna(-1., inplace=True)\n",
    "train_date.fillna(-1., inplace=True)"
   ]
  },
  {
   "cell_type": "code",
   "execution_count": 37,
   "metadata": {
    "collapsed": false
   },
   "outputs": [
    {
     "name": "stdout",
     "output_type": "stream",
     "text": [
      "finish calculating correlation using 261.0 seconds\n"
     ]
    }
   ],
   "source": [
    "start_time = time.time()\n",
    "train_num_corr = train_num.corr()\n",
    "train_date_corr = train_date.corr()\n",
    "print 'finish calculating correlation using {} seconds'.format(round(time.time() - start_time, 0))"
   ]
  },
  {
   "cell_type": "code",
   "execution_count": 38,
   "metadata": {
    "collapsed": false
   },
   "outputs": [
    {
     "name": "stdout",
     "output_type": "stream",
     "text": [
      "(969, 969) (1156, 1156)\n"
     ]
    }
   ],
   "source": [
    "print train_num_corr.shape, train_date_corr.shape"
   ]
  },
  {
   "cell_type": "code",
   "execution_count": 26,
   "metadata": {
    "collapsed": false
   },
   "outputs": [],
   "source": [
    "#train_date_corr"
   ]
  },
  {
   "cell_type": "code",
   "execution_count": 39,
   "metadata": {
    "collapsed": false
   },
   "outputs": [],
   "source": [
    "start_index = 0\n",
    "thres = 0.5\n",
    "num_removed_cols = set()\n",
    "dat_removed_cols = set()\n",
    "\n",
    "for column in train_num_corr.columns:\n",
    "    start_index += 1\n",
    "    if column not in num_removed_cols:\n",
    "        for index, value in enumerate(train_num_corr[column][start_index:]):\n",
    "            if abs(value) > thres:\n",
    "                num_removed_cols.add(train_num_corr.columns[(index + start_index)])\n",
    "               \n",
    "start_index = 0           \n",
    "for column in train_date_corr.columns:\n",
    "    start_index += 1\n",
    "    if column not in dat_removed_cols:\n",
    "        for index, value in enumerate(train_date_corr[column][start_index:]):\n",
    "            if abs(value) > thres:\n",
    "                dat_removed_cols.add(train_date_corr.columns[(index + start_index)])"
   ]
  },
  {
   "cell_type": "code",
   "execution_count": 40,
   "metadata": {
    "collapsed": false,
    "scrolled": true
   },
   "outputs": [
    {
     "name": "stdout",
     "output_type": "stream",
     "text": [
      "921 1108 969 1156\n"
     ]
    }
   ],
   "source": [
    "print len(num_removed_cols), len(dat_removed_cols), train_num_corr.shape[1], train_date_corr.shape[1]"
   ]
  },
  {
   "cell_type": "code",
   "execution_count": 41,
   "metadata": {
    "collapsed": false,
    "scrolled": true
   },
   "outputs": [],
   "source": [
    "max_corr_fea = train_num_corr['Response'][:-1].argmax()\n",
    "min_corr_fea = train_num_corr['Response'][:-1].argmin()"
   ]
  },
  {
   "cell_type": "code",
   "execution_count": 42,
   "metadata": {
    "collapsed": false
   },
   "outputs": [
    {
     "name": "stdout",
     "output_type": "stream",
     "text": [
      "0.0893626579396 L3_S32_F3850 \n",
      "-0.0569501205985 L3_S33_F3869\n"
     ]
    }
   ],
   "source": [
    "print train_num_corr['Response'][:-1].max(), max_corr_fea, '\\n', train_num_corr['Response'][:-1].min(), min_corr_fea"
   ]
  },
  {
   "cell_type": "code",
   "execution_count": 43,
   "metadata": {
    "collapsed": false,
    "scrolled": true
   },
   "outputs": [
    {
     "data": {
      "text/plain": [
       "<matplotlib.axes._subplots.AxesSubplot at 0x7ff65254d510>"
      ]
     },
     "execution_count": 43,
     "metadata": {},
     "output_type": "execute_result"
    },
    {
     "data": {
      "image/png": "[encoded data removed]",
      "text/plain": [
       "<matplotlib.figure.Figure at 0x7ff63b0e4850>"
      ]
     },
     "metadata": {},
     "output_type": "display_data"
    }
   ],
   "source": [
    "train_num_corr['Response'][:-1].hist(bins=50)"
   ]
  },
  {
   "cell_type": "code",
   "execution_count": 44,
   "metadata": {
    "collapsed": false
   },
   "outputs": [],
   "source": [
    "selected_num_col_names = [col for col in train_num.columns if col not in num_removed_cols]\n",
    "selected_dat_col_names = [col for col in train_date.columns if col not in dat_removed_cols]"
   ]
  },
  {
   "cell_type": "code",
   "execution_count": 45,
   "metadata": {
    "collapsed": false
   },
   "outputs": [
    {
     "name": "stdout",
     "output_type": "stream",
     "text": [
      "48 48\n"
     ]
    }
   ],
   "source": [
    "print len(selected_num_col_names), len(selected_dat_col_names)"
   ]
  },
  {
   "cell_type": "code",
   "execution_count": 46,
   "metadata": {
    "collapsed": false
   },
   "outputs": [],
   "source": [
    "selected_num_col_names.extend(['Id', 'Response'])\n",
    "selected_dat_col_names.extend(['Id'])"
   ]
  },
  {
   "cell_type": "markdown",
   "metadata": {},
   "source": [
    "load data using the selected columns.\n",
    "train_num and train_cat data will be combined and used as a whole for the LR model training"
   ]
  },
  {
   "cell_type": "code",
   "execution_count": 47,
   "metadata": {
    "collapsed": false
   },
   "outputs": [
    {
     "name": "stdout",
     "output_type": "stream",
     "text": [
      "finish loading full data using 34.0 seconds\n"
     ]
    }
   ],
   "source": [
    "start_time = time.time()\n",
    "full_train_num  = pd.read_csv(join(data_path, train_num_file),    index_col='Id', skiprows=skipped_train_row_num, usecols=selected_num_col_names)\n",
    "full_train_cat  = pd.read_csv(join(data_path, train_date_file),   index_col='Id', skiprows=skipped_train_row_num, usecols=selected_dat_col_names)\n",
    "print 'finish loading full data using {} seconds'.format(round(time.time() - start_time, 0))"
   ]
  },
  {
   "cell_type": "code",
   "execution_count": 73,
   "metadata": {
    "collapsed": false
   },
   "outputs": [
    {
     "name": "stdout",
     "output_type": "stream",
     "text": [
      "(509886, 48) (509886, 48)\n"
     ]
    }
   ],
   "source": [
    "tmp_train_num = full_train_num.copy()\n",
    "tmp_train_cat = full_train_cat.copy()\n",
    "\n",
    "## remove columns that mostly just NaN\n",
    "tmp_train_num.fillna(-1., inplace=True)\n",
    "tmp_train_cat.fillna(-1., inplace=True)\n",
    "\n",
    "print tmp_train_num.shape, tmp_train_cat.shape"
   ]
  },
  {
   "cell_type": "code",
   "execution_count": 74,
   "metadata": {
    "collapsed": false
   },
   "outputs": [],
   "source": [
    "combined_train = pd.merge(tmp_train_num, tmp_train_cat, how='outer', left_index=True, right_index=True)"
   ]
  },
  {
   "cell_type": "code",
   "execution_count": 75,
   "metadata": {
    "collapsed": false,
    "scrolled": true
   },
   "outputs": [
    {
     "name": "stdout",
     "output_type": "stream",
     "text": [
      "(509886, 96) True\n"
     ]
    },
    {
     "data": {
      "text/html": [
       "<div>\n",
       "<table border=\"1\" class=\"dataframe\">\n",
       "  <thead>\n",
       "    <tr style=\"text-align: right;\">\n",
       "      <th></th>\n",
       "      <th>L0_S0_F0</th>\n",
       "      <th>L0_S0_F2</th>\n",
       "      <th>L0_S0_F4</th>\n",
       "      <th>L0_S0_F6</th>\n",
       "      <th>L0_S0_F8</th>\n",
       "      <th>L0_S0_F10</th>\n",
       "      <th>L0_S0_F12</th>\n",
       "      <th>L0_S0_F14</th>\n",
       "      <th>L0_S0_F16</th>\n",
       "      <th>L0_S0_F18</th>\n",
       "      <th>...</th>\n",
       "      <th>L3_S39_D3966</th>\n",
       "      <th>L3_S42_D4029</th>\n",
       "      <th>L3_S42_D4033</th>\n",
       "      <th>L3_S42_D4037</th>\n",
       "      <th>L3_S42_D4041</th>\n",
       "      <th>L3_S42_D4045</th>\n",
       "      <th>L3_S42_D4049</th>\n",
       "      <th>L3_S42_D4053</th>\n",
       "      <th>L3_S42_D4057</th>\n",
       "      <th>L3_S46_D4135</th>\n",
       "    </tr>\n",
       "    <tr>\n",
       "      <th>Id</th>\n",
       "      <th></th>\n",
       "      <th></th>\n",
       "      <th></th>\n",
       "      <th></th>\n",
       "      <th></th>\n",
       "      <th></th>\n",
       "      <th></th>\n",
       "      <th></th>\n",
       "      <th></th>\n",
       "      <th></th>\n",
       "      <th></th>\n",
       "      <th></th>\n",
       "      <th></th>\n",
       "      <th></th>\n",
       "      <th></th>\n",
       "      <th></th>\n",
       "      <th></th>\n",
       "      <th></th>\n",
       "      <th></th>\n",
       "      <th></th>\n",
       "      <th></th>\n",
       "    </tr>\n",
       "  </thead>\n",
       "  <tbody>\n",
       "    <tr>\n",
       "      <th>6</th>\n",
       "      <td>-1.0</td>\n",
       "      <td>-1.0</td>\n",
       "      <td>-1.0</td>\n",
       "      <td>-1.0</td>\n",
       "      <td>-1.0</td>\n",
       "      <td>-1.0</td>\n",
       "      <td>-1.0</td>\n",
       "      <td>-1.0</td>\n",
       "      <td>-1.0</td>\n",
       "      <td>-1.0</td>\n",
       "      <td>...</td>\n",
       "      <td>-1.0</td>\n",
       "      <td>-1.0</td>\n",
       "      <td>-1.0</td>\n",
       "      <td>-1.0</td>\n",
       "      <td>-1.0</td>\n",
       "      <td>-1.0</td>\n",
       "      <td>-1.0</td>\n",
       "      <td>-1.0</td>\n",
       "      <td>-1.0</td>\n",
       "      <td>-1.0</td>\n",
       "    </tr>\n",
       "    <tr>\n",
       "      <th>14</th>\n",
       "      <td>-1.0</td>\n",
       "      <td>-1.0</td>\n",
       "      <td>-1.0</td>\n",
       "      <td>-1.0</td>\n",
       "      <td>-1.0</td>\n",
       "      <td>-1.0</td>\n",
       "      <td>-1.0</td>\n",
       "      <td>-1.0</td>\n",
       "      <td>-1.0</td>\n",
       "      <td>-1.0</td>\n",
       "      <td>...</td>\n",
       "      <td>-1.0</td>\n",
       "      <td>-1.0</td>\n",
       "      <td>-1.0</td>\n",
       "      <td>-1.0</td>\n",
       "      <td>-1.0</td>\n",
       "      <td>-1.0</td>\n",
       "      <td>-1.0</td>\n",
       "      <td>-1.0</td>\n",
       "      <td>-1.0</td>\n",
       "      <td>-1.0</td>\n",
       "    </tr>\n",
       "    <tr>\n",
       "      <th>16</th>\n",
       "      <td>-1.0</td>\n",
       "      <td>-1.0</td>\n",
       "      <td>-1.0</td>\n",
       "      <td>-1.0</td>\n",
       "      <td>-1.0</td>\n",
       "      <td>-1.0</td>\n",
       "      <td>-1.0</td>\n",
       "      <td>-1.0</td>\n",
       "      <td>-1.0</td>\n",
       "      <td>-1.0</td>\n",
       "      <td>...</td>\n",
       "      <td>-1.0</td>\n",
       "      <td>-1.0</td>\n",
       "      <td>-1.0</td>\n",
       "      <td>-1.0</td>\n",
       "      <td>-1.0</td>\n",
       "      <td>-1.0</td>\n",
       "      <td>-1.0</td>\n",
       "      <td>-1.0</td>\n",
       "      <td>-1.0</td>\n",
       "      <td>-1.0</td>\n",
       "    </tr>\n",
       "    <tr>\n",
       "      <th>23</th>\n",
       "      <td>-1.0</td>\n",
       "      <td>-1.0</td>\n",
       "      <td>-1.0</td>\n",
       "      <td>-1.0</td>\n",
       "      <td>-1.0</td>\n",
       "      <td>-1.0</td>\n",
       "      <td>-1.0</td>\n",
       "      <td>-1.0</td>\n",
       "      <td>-1.0</td>\n",
       "      <td>-1.0</td>\n",
       "      <td>...</td>\n",
       "      <td>-1.0</td>\n",
       "      <td>-1.0</td>\n",
       "      <td>-1.0</td>\n",
       "      <td>-1.0</td>\n",
       "      <td>-1.0</td>\n",
       "      <td>-1.0</td>\n",
       "      <td>-1.0</td>\n",
       "      <td>-1.0</td>\n",
       "      <td>-1.0</td>\n",
       "      <td>-1.0</td>\n",
       "    </tr>\n",
       "    <tr>\n",
       "      <th>41</th>\n",
       "      <td>-1.0</td>\n",
       "      <td>-1.0</td>\n",
       "      <td>-1.0</td>\n",
       "      <td>-1.0</td>\n",
       "      <td>-1.0</td>\n",
       "      <td>-1.0</td>\n",
       "      <td>-1.0</td>\n",
       "      <td>-1.0</td>\n",
       "      <td>-1.0</td>\n",
       "      <td>-1.0</td>\n",
       "      <td>...</td>\n",
       "      <td>-1.0</td>\n",
       "      <td>-1.0</td>\n",
       "      <td>-1.0</td>\n",
       "      <td>-1.0</td>\n",
       "      <td>-1.0</td>\n",
       "      <td>-1.0</td>\n",
       "      <td>-1.0</td>\n",
       "      <td>-1.0</td>\n",
       "      <td>-1.0</td>\n",
       "      <td>-1.0</td>\n",
       "    </tr>\n",
       "  </tbody>\n",
       "</table>\n",
       "<p>5 rows × 96 columns</p>\n",
       "</div>"
      ],
      "text/plain": [
       "    L0_S0_F0  L0_S0_F2  L0_S0_F4  L0_S0_F6  L0_S0_F8  L0_S0_F10  L0_S0_F12  \\\n",
       "Id                                                                           \n",
       "6       -1.0      -1.0      -1.0      -1.0      -1.0       -1.0       -1.0   \n",
       "14      -1.0      -1.0      -1.0      -1.0      -1.0       -1.0       -1.0   \n",
       "16      -1.0      -1.0      -1.0      -1.0      -1.0       -1.0       -1.0   \n",
       "23      -1.0      -1.0      -1.0      -1.0      -1.0       -1.0       -1.0   \n",
       "41      -1.0      -1.0      -1.0      -1.0      -1.0       -1.0       -1.0   \n",
       "\n",
       "    L0_S0_F14  L0_S0_F16  L0_S0_F18      ...       L3_S39_D3966  L3_S42_D4029  \\\n",
       "Id                                       ...                                    \n",
       "6        -1.0       -1.0       -1.0      ...               -1.0          -1.0   \n",
       "14       -1.0       -1.0       -1.0      ...               -1.0          -1.0   \n",
       "16       -1.0       -1.0       -1.0      ...               -1.0          -1.0   \n",
       "23       -1.0       -1.0       -1.0      ...               -1.0          -1.0   \n",
       "41       -1.0       -1.0       -1.0      ...               -1.0          -1.0   \n",
       "\n",
       "    L3_S42_D4033  L3_S42_D4037  L3_S42_D4041  L3_S42_D4045  L3_S42_D4049  \\\n",
       "Id                                                                         \n",
       "6           -1.0          -1.0          -1.0          -1.0          -1.0   \n",
       "14          -1.0          -1.0          -1.0          -1.0          -1.0   \n",
       "16          -1.0          -1.0          -1.0          -1.0          -1.0   \n",
       "23          -1.0          -1.0          -1.0          -1.0          -1.0   \n",
       "41          -1.0          -1.0          -1.0          -1.0          -1.0   \n",
       "\n",
       "    L3_S42_D4053  L3_S42_D4057  L3_S46_D4135  \n",
       "Id                                            \n",
       "6           -1.0          -1.0          -1.0  \n",
       "14          -1.0          -1.0          -1.0  \n",
       "16          -1.0          -1.0          -1.0  \n",
       "23          -1.0          -1.0          -1.0  \n",
       "41          -1.0          -1.0          -1.0  \n",
       "\n",
       "[5 rows x 96 columns]"
      ]
     },
     "execution_count": 75,
     "metadata": {},
     "output_type": "execute_result"
    }
   ],
   "source": [
    "print combined_train.shape, dep_var_name in combined_train.columns\n",
    "combined_train.head()"
   ]
  },
  {
   "cell_type": "code",
   "execution_count": 76,
   "metadata": {
    "collapsed": false
   },
   "outputs": [],
   "source": [
    "############## Section of regular validation #######################\n",
    "train_index, valid_index = create_validation_index(combined_train, 0.3, dep_var_name, True)\n",
    "valid_data = combined_train.ix[valid_index]\n",
    "tmp_train  = combined_train.ix[train_index]"
   ]
  },
  {
   "cell_type": "code",
   "execution_count": 77,
   "metadata": {
    "collapsed": true
   },
   "outputs": [],
   "source": [
    "y = tmp_train[dep_var_name].values\n",
    "X = tmp_train.drop(dep_var_name, axis=1)\n",
    "\n",
    "valid_y = valid_data[dep_var_name].values\n",
    "valid_X = valid_data.drop(dep_var_name, axis=1)"
   ]
  },
  {
   "cell_type": "code",
   "execution_count": 78,
   "metadata": {
    "collapsed": false
   },
   "outputs": [
    {
     "name": "stdout",
     "output_type": "stream",
     "text": [
      "(356921, 95) (152965, 95)\n"
     ]
    }
   ],
   "source": [
    "print X.shape, valid_X.shape"
   ]
  },
  {
   "cell_type": "code",
   "execution_count": 79,
   "metadata": {
    "collapsed": true
   },
   "outputs": [],
   "source": [
    "C = 0.01"
   ]
  },
  {
   "cell_type": "code",
   "execution_count": 80,
   "metadata": {
    "collapsed": false
   },
   "outputs": [
    {
     "data": {
      "text/plain": [
       "LogisticRegression(C=0.01, class_weight='balanced', dual=False,\n",
       "          fit_intercept=True, intercept_scaling=1, max_iter=100,\n",
       "          multi_class='ovr', n_jobs=-1, penalty='l2', random_state=None,\n",
       "          solver='liblinear', tol=0.0001, verbose=0, warm_start=False)"
      ]
     },
     "execution_count": 80,
     "metadata": {},
     "output_type": "execute_result"
    }
   ],
   "source": [
    "start_time = time.time()\n",
    "LR_clf = LogisticRegression(C = C, class_weight='balanced', n_jobs = -1, penalty='l2')\n",
    "LR_clf.fit(X, y)\n",
    "print 'finish training LR model using {} seconds'.format(round(time.time() - start_time, 0))"
   ]
  },
  {
   "cell_type": "code",
   "execution_count": 81,
   "metadata": {
    "collapsed": false
   },
   "outputs": [
    {
     "name": "stdout",
     "output_type": "stream",
     "text": [
      "result from using constant fraction: \n",
      "mean of groud truth: 0.00641323178505\n",
      "threshold for preds: 0.907512666314\n",
      "0.079724974269\n",
      "\n",
      " \n",
      "\n",
      "result from using flexsible threshold: (0.10051449974313409, 0.7422325440755092)\n"
     ]
    }
   ],
   "source": [
    "pred = LR_clf.predict_proba(valid_X)[:, 1]\n",
    "\n",
    "print 'result from using constant fraction: \\n', score_MCC(valid_y, pred)\n",
    "print '\\n \\n'\n",
    "print 'result from using flexsible threshold:', CombinedModel.mcc_eval_func(valid_y, pred)"
   ]
  },
  {
   "cell_type": "code",
   "execution_count": 82,
   "metadata": {
    "collapsed": true
   },
   "outputs": [],
   "source": [
    "coef_l1_LR = LR_clf.coef_.ravel()"
   ]
  },
  {
   "cell_type": "code",
   "execution_count": 83,
   "metadata": {
    "collapsed": false
   },
   "outputs": [
    {
     "data": {
      "text/plain": [
       "95"
      ]
     },
     "execution_count": 83,
     "metadata": {},
     "output_type": "execute_result"
    }
   ],
   "source": [
    "len(coef_l1_LR)"
   ]
  },
  {
   "cell_type": "code",
   "execution_count": 99,
   "metadata": {
    "collapsed": false
   },
   "outputs": [
    {
     "data": {
      "text/plain": [
       "(array([ 26.,   1.,   1.,   1.,   1.,  37.,   2.,   3.,   2.,   2.,   2.,\n",
       "          4.,   0.,   1.,   1.,   2.,   3.,   1.,   0.,   0.,   0.,   0.,\n",
       "          0.,   0.,   0.,   0.,   0.,   0.,   0.,   0.,   0.,   1.,   1.,\n",
       "          0.,   0.,   0.,   0.,   0.,   0.,   0.,   0.,   0.,   0.,   0.,\n",
       "          0.,   0.,   0.,   0.,   0.,   0.,   0.,   0.,   0.,   0.,   0.,\n",
       "          0.,   1.,   1.,   0.,   0.,   0.,   0.,   0.,   0.,   0.,   0.,\n",
       "          0.,   0.,   0.,   0.,   0.,   0.,   0.,   0.,   0.,   0.,   0.,\n",
       "          0.,   0.,   1.]),\n",
       " array([  1.04347182e-04,   2.50598160e-02,   5.00152849e-02,\n",
       "          7.49707537e-02,   9.99262225e-02,   1.24881691e-01,\n",
       "          1.49837160e-01,   1.74792629e-01,   1.99748098e-01,\n",
       "          2.24703567e-01,   2.49659036e-01,   2.74614504e-01,\n",
       "          2.99569973e-01,   3.24525442e-01,   3.49480911e-01,\n",
       "          3.74436380e-01,   3.99391849e-01,   4.24347317e-01,\n",
       "          4.49302786e-01,   4.74258255e-01,   4.99213724e-01,\n",
       "          5.24169193e-01,   5.49124662e-01,   5.74080130e-01,\n",
       "          5.99035599e-01,   6.23991068e-01,   6.48946537e-01,\n",
       "          6.73902006e-01,   6.98857475e-01,   7.23812943e-01,\n",
       "          7.48768412e-01,   7.73723881e-01,   7.98679350e-01,\n",
       "          8.23634819e-01,   8.48590288e-01,   8.73545756e-01,\n",
       "          8.98501225e-01,   9.23456694e-01,   9.48412163e-01,\n",
       "          9.73367632e-01,   9.98323101e-01,   1.02327857e+00,\n",
       "          1.04823404e+00,   1.07318951e+00,   1.09814498e+00,\n",
       "          1.12310044e+00,   1.14805591e+00,   1.17301138e+00,\n",
       "          1.19796685e+00,   1.22292232e+00,   1.24787779e+00,\n",
       "          1.27283326e+00,   1.29778873e+00,   1.32274420e+00,\n",
       "          1.34769966e+00,   1.37265513e+00,   1.39761060e+00,\n",
       "          1.42256607e+00,   1.44752154e+00,   1.47247701e+00,\n",
       "          1.49743248e+00,   1.52238795e+00,   1.54734341e+00,\n",
       "          1.57229888e+00,   1.59725435e+00,   1.62220982e+00,\n",
       "          1.64716529e+00,   1.67212076e+00,   1.69707623e+00,\n",
       "          1.72203170e+00,   1.74698717e+00,   1.77194263e+00,\n",
       "          1.79689810e+00,   1.82185357e+00,   1.84680904e+00,\n",
       "          1.87176451e+00,   1.89671998e+00,   1.92167545e+00,\n",
       "          1.94663092e+00,   1.97158639e+00,   1.99654185e+00]),\n",
       " <a list of 80 Patch objects>)"
      ]
     },
     "execution_count": 99,
     "metadata": {},
     "output_type": "execute_result"
    },
    {
     "data": {
      "image/png": "[encoded data removed]",
      "text/plain": [
       "<matplotlib.figure.Figure at 0x7ff6422f3dd0>"
      ]
     },
     "metadata": {},
     "output_type": "display_data"
    }
   ],
   "source": [
    "plt.hist(abs(coef_l1_LR), bins=80)"
   ]
  },
  {
   "cell_type": "code",
   "execution_count": 90,
   "metadata": {
    "collapsed": false
   },
   "outputs": [
    {
     "name": "stdout",
     "output_type": "stream",
     "text": [
      "41 40\n"
     ]
    }
   ],
   "source": [
    "print np.argmax(coef_l1_LR), np.argmin(coef_l1_LR)"
   ]
  },
  {
   "cell_type": "code",
   "execution_count": 91,
   "metadata": {
    "collapsed": true
   },
   "outputs": [],
   "source": [
    "sorted_index = np.argsort(abs(coef_l1_LR))"
   ]
  },
  {
   "cell_type": "code",
   "execution_count": 104,
   "metadata": {
    "collapsed": false
   },
   "outputs": [
    {
     "data": {
      "text/plain": [
       "array([ 0.25730656, -0.27214237,  0.27717454, -0.28075841,  0.28671067,\n",
       "       -0.2958737 ,  0.33863482,  0.36509587, -0.3821762 ,  0.38715437,\n",
       "       -0.40161981, -0.4058657 ,  0.41581182,  0.44451443,  0.77817978,\n",
       "        0.80855061,  1.4200994 ,  1.44046263,  1.99654185])"
      ]
     },
     "execution_count": 104,
     "metadata": {},
     "output_type": "execute_result"
    }
   ],
   "source": [
    "coef_l1_LR[sorted_index][-19:]"
   ]
  },
  {
   "cell_type": "code",
   "execution_count": 94,
   "metadata": {
    "collapsed": false
   },
   "outputs": [
    {
     "name": "stdout",
     "output_type": "stream",
     "text": [
      "(356921, 95)\n"
     ]
    }
   ],
   "source": [
    "## data used in model training\n",
    "print X.shape"
   ]
  },
  {
   "cell_type": "code",
   "execution_count": 105,
   "metadata": {
    "collapsed": false,
    "scrolled": true
   },
   "outputs": [
    {
     "data": {
      "text/plain": [
       "Index([u'L3_S38_F3952', u'L0_S23_F619', u'L1_S25_F1855', u'L1_S25_F2799',\n",
       "       u'L3_S29_F3379', u'L1_S24_F1808', u'L1_S24_F679', u'L1_S25_F2498',\n",
       "       u'L1_S24_F1118', u'L3_S49_F4206', u'L0_S22_F546', u'L3_S31_F3834',\n",
       "       u'L3_S29_F3464', u'L3_S50_F4243', u'L2_S28_F3222', u'L1_S25_F2231',\n",
       "       u'L1_S24_F1581', u'L1_S24_F1672', u'L3_S32_F3850'],\n",
       "      dtype='object')"
      ]
     },
     "execution_count": 105,
     "metadata": {},
     "output_type": "execute_result"
    }
   ],
   "source": [
    "X.columns[sorted_index[-19:]]"
   ]
  },
  {
   "cell_type": "code",
   "execution_count": 100,
   "metadata": {
    "collapsed": false
   },
   "outputs": [
    {
     "data": {
      "text/plain": [
       "Index([u'L0_S22_D543', u'L1_S24_D677', u'L3_S38_D3953', u'L3_S35_D3886',\n",
       "       u'L1_S25_D2206', u'L1_S25_D1854', u'L2_S26_D3037', u'L1_S25_D2180',\n",
       "       u'L1_S25_D2879', u'L3_S32_D3852', u'L1_S25_D2801', u'L2_S27_D3130',\n",
       "       u'L2_S28_D3223', u'L1_S25_D2957', u'L1_S25_D2471', u'L1_S24_D1116',\n",
       "       u'L1_S24_D1511', u'L1_S25_D2230', u'L0_S1_D26', u'L1_S25_D2754',\n",
       "       u'L3_S39_D3966', u'L0_S12_D331', u'L3_S29_D3316', u'L1_S25_D2497',\n",
       "       u'L3_S31_D3836', u'L1_S25_F2960', u'L3_S30_F3564', u'L1_S25_F2877',\n",
       "       u'L1_S25_F2755', u'L0_S1_F24', u'L0_S0_D7', u'L0_S0_D13', u'L0_S0_D9',\n",
       "       u'L0_S0_D11', u'L0_S0_D15', u'L0_S0_F0', u'L0_S0_D19', u'L0_S0_D21',\n",
       "       u'L0_S0_D23', u'L1_S24_D1158', u'L0_S0_D5', u'L0_S0_D17', u'L0_S0_D3',\n",
       "       u'L0_S0_D1', u'L3_S46_D4135', u'L0_S0_F20', u'L0_S0_F18', u'L0_S0_F16',\n",
       "       u'L0_S0_F14', u'L0_S0_F12', u'L0_S0_F10', u'L0_S0_F8', u'L0_S0_F6',\n",
       "       u'L0_S0_F22', u'L0_S0_F4', u'L0_S0_F2', u'L3_S42_D4045',\n",
       "       u'L3_S42_D4057', u'L3_S42_D4049', u'L3_S42_D4053', u'L1_S24_D1562',\n",
       "       u'L3_S42_D4029', u'L3_S42_D4033', u'L3_S42_D4037', u'L3_S42_D4041',\n",
       "       u'L1_S25_F2181', u'L3_S29_F3315', u'L3_S44_F4100', u'L3_S35_F3884',\n",
       "       u'L0_S12_F330', u'L1_S25_F2472', u'L2_S27_F3129', u'L1_S25_F2207',\n",
       "       u'L0_S21_F472', u'L1_S24_F1763', u'L1_S25_F3003', u'L3_S38_F3952',\n",
       "       u'L0_S23_F619', u'L1_S25_F1855', u'L1_S25_F2799', u'L3_S29_F3379',\n",
       "       u'L1_S24_F1808', u'L1_S24_F679', u'L1_S25_F2498', u'L1_S24_F1118',\n",
       "       u'L3_S49_F4206', u'L0_S22_F546', u'L3_S31_F3834', u'L3_S29_F3464',\n",
       "       u'L3_S50_F4243', u'L2_S28_F3222', u'L1_S25_F2231', u'L1_S24_F1581',\n",
       "       u'L1_S24_F1672', u'L3_S32_F3850'],\n",
       "      dtype='object')"
      ]
     },
     "execution_count": 100,
     "metadata": {},
     "output_type": "execute_result"
    }
   ],
   "source": [
    "X.columns[sorted_index]"
   ]
  },
  {
   "cell_type": "code",
   "execution_count": 86,
   "metadata": {
    "collapsed": false
   },
   "outputs": [
    {
     "name": "stdout",
     "output_type": "stream",
     "text": [
      "L3_S32_F3850 L0_S8_F144\n"
     ]
    }
   ],
   "source": [
    "print tmp_train_num.columns[np.argmax(coef_l1_LR)], tmp_train_num.columns[np.argmin(coef_l1_LR)]"
   ]
  }
 ],
 "metadata": {
  "kernelspec": {
   "display_name": "Python 2",
   "language": "python",
   "name": "python2"
  },
  "language_info": {
   "codemirror_mode": {
    "name": "ipython",
    "version": 2
   },
   "file_extension": ".py",
   "mimetype": "text/x-python",
   "name": "python",
   "nbconvert_exporter": "python",
   "pygments_lexer": "ipython2",
   "version": "2.7.6"
  }
 },
 "nbformat": 4,
 "nbformat_minor": 0
}
