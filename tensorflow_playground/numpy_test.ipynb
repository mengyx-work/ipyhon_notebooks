{
 "cells": [
  {
   "cell_type": "code",
   "execution_count": 1,
   "metadata": {
    "collapsed": false
   },
   "outputs": [],
   "source": [
    "import numpy as np\n",
    "import random"
   ]
  },
  {
   "cell_type": "code",
   "execution_count": 5,
   "metadata": {
    "collapsed": false
   },
   "outputs": [],
   "source": [
    "x = np.arange(3)"
   ]
  },
  {
   "cell_type": "code",
   "execution_count": 6,
   "metadata": {
    "collapsed": false
   },
   "outputs": [
    {
     "data": {
      "text/plain": [
       "3"
      ]
     },
     "execution_count": 6,
     "metadata": {},
     "output_type": "execute_result"
    }
   ],
   "source": [
    "len(x)"
   ]
  },
  {
   "cell_type": "code",
   "execution_count": 7,
   "metadata": {
    "collapsed": false
   },
   "outputs": [
    {
     "data": {
      "text/plain": [
       "array([0, 1, 2])"
      ]
     },
     "execution_count": 7,
     "metadata": {},
     "output_type": "execute_result"
    }
   ],
   "source": [
    "x"
   ]
  },
  {
   "cell_type": "code",
   "execution_count": 9,
   "metadata": {
    "collapsed": false
   },
   "outputs": [
    {
     "data": {
      "text/plain": [
       "(3, 2)"
      ]
     },
     "execution_count": 9,
     "metadata": {},
     "output_type": "execute_result"
    }
   ],
   "source": [
    "yy = np.array([[1, 1], [2, 2], [3, 3]])\n",
    "yy.shape"
   ]
  },
  {
   "cell_type": "code",
   "execution_count": 22,
   "metadata": {
    "collapsed": false
   },
   "outputs": [],
   "source": [
    "#aa = np.matmul(x.reshape(1, -1), yy)\n",
    "aa = np.matmul(x, yy)"
   ]
  },
  {
   "cell_type": "code",
   "execution_count": 24,
   "metadata": {
    "collapsed": false
   },
   "outputs": [
    {
     "name": "stdout",
     "output_type": "stream",
     "text": [
      "(2,)\n",
      "[8 8]\n",
      "16\n"
     ]
    }
   ],
   "source": [
    "print aa.shape\n",
    "print aa\n",
    "print aa.sum()"
   ]
  },
  {
   "cell_type": "markdown",
   "metadata": {},
   "source": [
    "#### two vector outer product"
   ]
  },
  {
   "cell_type": "code",
   "execution_count": 26,
   "metadata": {
    "collapsed": true
   },
   "outputs": [],
   "source": [
    "aa = np.arange(3)\n",
    "bb = np.arange(2)"
   ]
  },
  {
   "cell_type": "code",
   "execution_count": 31,
   "metadata": {
    "collapsed": false
   },
   "outputs": [
    {
     "name": "stdout",
     "output_type": "stream",
     "text": [
      "(3,) (2,)\n"
     ]
    }
   ],
   "source": [
    "print aa.shape, bb.shape"
   ]
  },
  {
   "cell_type": "code",
   "execution_count": 37,
   "metadata": {
    "collapsed": false
   },
   "outputs": [
    {
     "data": {
      "text/plain": [
       "(3,)"
      ]
     },
     "execution_count": 37,
     "metadata": {},
     "output_type": "execute_result"
    }
   ],
   "source": [
    "np.transpose(aa).shape"
   ]
  },
  {
   "cell_type": "code",
   "execution_count": 40,
   "metadata": {
    "collapsed": false
   },
   "outputs": [
    {
     "name": "stdout",
     "output_type": "stream",
     "text": [
      "(3, 2)\n",
      "[[0 0]\n",
      " [0 1]\n",
      " [0 2]]\n"
     ]
    }
   ],
   "source": [
    "cc = np.matmul(aa.reshape(len(aa), 1), bb.reshape(1, len(bb)))\n",
    "print cc.shape\n",
    "print cc"
   ]
  },
  {
   "cell_type": "markdown",
   "metadata": {},
   "source": [
    "#### check the multi-index stuff"
   ]
  },
  {
   "cell_type": "code",
   "execution_count": 44,
   "metadata": {
    "collapsed": false
   },
   "outputs": [],
   "source": [
    "aa = np.zeros([4, 3])"
   ]
  },
  {
   "cell_type": "code",
   "execution_count": 47,
   "metadata": {
    "collapsed": false
   },
   "outputs": [
    {
     "name": "stdout",
     "output_type": "stream",
     "text": [
      "[[ 0.  0.  0.]\n",
      " [ 3.  3.  3.]\n",
      " [ 4.  4.  4.]\n",
      " [ 0.  0.  0.]]\n"
     ]
    }
   ],
   "source": [
    "#aa[[1, 2]] = np.array([[3, 3, 3], [4, 4, 4]])\n",
    "aa[[1, 2]] = [[3, 3, 3], [4, 4, 4]]\n",
    "print aa"
   ]
  },
  {
   "cell_type": "code",
   "execution_count": 48,
   "metadata": {
    "collapsed": false
   },
   "outputs": [
    {
     "data": {
      "text/plain": [
       "array([[ 0.,  0.,  0.],\n",
       "       [ 3.,  3.,  3.],\n",
       "       [ 4.,  4.,  4.],\n",
       "       [ 0.,  0.,  0.]])"
      ]
     },
     "execution_count": 48,
     "metadata": {},
     "output_type": "execute_result"
    }
   ],
   "source": [
    "aa"
   ]
  },
  {
   "cell_type": "code",
   "execution_count": null,
   "metadata": {
    "collapsed": true
   },
   "outputs": [],
   "source": [
    "np.log(1.)"
   ]
  },
  {
   "cell_type": "code",
   "execution_count": null,
   "metadata": {
    "collapsed": true
   },
   "outputs": [],
   "source": []
  },
  {
   "cell_type": "code",
   "execution_count": 26,
   "metadata": {
    "collapsed": false
   },
   "outputs": [],
   "source": [
    "aa = np.zeros(5)\n",
    "aa[2] = 1"
   ]
  },
  {
   "cell_type": "code",
   "execution_count": 27,
   "metadata": {
    "collapsed": false
   },
   "outputs": [
    {
     "data": {
      "text/plain": [
       "array([ 0.,  0.,  1.,  0.,  0.])"
      ]
     },
     "execution_count": 27,
     "metadata": {},
     "output_type": "execute_result"
    }
   ],
   "source": [
    "aa"
   ]
  },
  {
   "cell_type": "code",
   "execution_count": 17,
   "metadata": {
    "collapsed": false
   },
   "outputs": [],
   "source": [
    "x = x.reshape(4, 1)"
   ]
  },
  {
   "cell_type": "code",
   "execution_count": 18,
   "metadata": {
    "collapsed": false
   },
   "outputs": [
    {
     "data": {
      "text/plain": [
       "(1, 4)"
      ]
     },
     "execution_count": 18,
     "metadata": {},
     "output_type": "execute_result"
    }
   ],
   "source": [
    "x.T.shape"
   ]
  },
  {
   "cell_type": "code",
   "execution_count": 19,
   "metadata": {
    "collapsed": false,
    "scrolled": true
   },
   "outputs": [
    {
     "data": {
      "text/plain": [
       "(4, 1)"
      ]
     },
     "execution_count": 19,
     "metadata": {},
     "output_type": "execute_result"
    }
   ],
   "source": [
    "x.shape"
   ]
  },
  {
   "cell_type": "code",
   "execution_count": 5,
   "metadata": {
    "collapsed": true
   },
   "outputs": [],
   "source": [
    "xx = x.reshape(4, 1)"
   ]
  },
  {
   "cell_type": "code",
   "execution_count": 20,
   "metadata": {
    "collapsed": false
   },
   "outputs": [],
   "source": [
    "xx = np.random.rand(4, 2)"
   ]
  },
  {
   "cell_type": "code",
   "execution_count": 21,
   "metadata": {
    "collapsed": false
   },
   "outputs": [
    {
     "data": {
      "text/plain": [
       "array([[ 0.81801638,  0.6377167 ],\n",
       "       [ 0.76205853,  0.46495717],\n",
       "       [ 0.52801006,  0.91492024],\n",
       "       [ 0.16205028,  0.19815989]])"
      ]
     },
     "execution_count": 21,
     "metadata": {},
     "output_type": "execute_result"
    }
   ],
   "source": [
    "xx"
   ]
  },
  {
   "cell_type": "code",
   "execution_count": 22,
   "metadata": {
    "collapsed": false
   },
   "outputs": [
    {
     "data": {
      "text/plain": [
       "array([[ 2.3042295 ,  2.88927734]])"
      ]
     },
     "execution_count": 22,
     "metadata": {},
     "output_type": "execute_result"
    }
   ],
   "source": [
    "np.matmul(x.T, xx)"
   ]
  },
  {
   "cell_type": "code",
   "execution_count": 25,
   "metadata": {
    "collapsed": false
   },
   "outputs": [
    {
     "data": {
      "text/plain": [
       "(4, 5)"
      ]
     },
     "execution_count": 25,
     "metadata": {},
     "output_type": "execute_result"
    }
   ],
   "source": [
    "tmp = xx + y\n",
    "tmp.shape"
   ]
  },
  {
   "cell_type": "code",
   "execution_count": 26,
   "metadata": {
    "collapsed": false
   },
   "outputs": [
    {
     "data": {
      "text/plain": [
       "array([[ 1.,  1.,  1.,  1.,  1.],\n",
       "       [ 2.,  2.,  2.,  2.,  2.],\n",
       "       [ 3.,  3.,  3.,  3.,  3.],\n",
       "       [ 4.,  4.,  4.,  4.,  4.]])"
      ]
     },
     "execution_count": 26,
     "metadata": {},
     "output_type": "execute_result"
    }
   ],
   "source": [
    "tmp"
   ]
  },
  {
   "cell_type": "code",
   "execution_count": 7,
   "metadata": {
    "collapsed": true
   },
   "outputs": [],
   "source": [
    "y = np.ones(5)\n",
    "z = np.ones((3, 4))"
   ]
  },
  {
   "cell_type": "code",
   "execution_count": 9,
   "metadata": {
    "collapsed": false
   },
   "outputs": [
    {
     "data": {
      "text/plain": [
       "array([[ 1.,  1.,  1.,  1.],\n",
       "       [ 1.,  1.,  1.,  1.],\n",
       "       [ 1.,  1.,  1.,  1.]])"
      ]
     },
     "execution_count": 9,
     "metadata": {},
     "output_type": "execute_result"
    }
   ],
   "source": [
    "z"
   ]
  },
  {
   "cell_type": "code",
   "execution_count": 27,
   "metadata": {
    "collapsed": false
   },
   "outputs": [
    {
     "data": {
      "text/plain": [
       "array([[ 0.,  0.,  0.,  0.,  0.],\n",
       "       [ 0.,  0.,  0.,  0.,  0.],\n",
       "       [ 0.,  0.,  0.,  0.,  0.],\n",
       "       [ 0.,  0.,  0.,  0.,  0.]])"
      ]
     },
     "execution_count": 27,
     "metadata": {},
     "output_type": "execute_result"
    }
   ],
   "source": [
    "tmp - np.amax(tmp, axis=1).reshape((tmp.shape[0], 1))"
   ]
  },
  {
   "cell_type": "code",
   "execution_count": 31,
   "metadata": {
    "collapsed": false
   },
   "outputs": [
    {
     "data": {
      "text/plain": [
       "array([[ 1.,  1.,  1.,  1.,  1.],\n",
       "       [ 2.,  2.,  2.,  2.,  2.],\n",
       "       [ 3.,  3.,  3.,  3.,  3.],\n",
       "       [ 4.,  4.,  4.,  4.,  4.]])"
      ]
     },
     "execution_count": 31,
     "metadata": {},
     "output_type": "execute_result"
    }
   ],
   "source": [
    "tmp"
   ]
  },
  {
   "cell_type": "code",
   "execution_count": 29,
   "metadata": {
    "collapsed": false
   },
   "outputs": [
    {
     "data": {
      "text/plain": [
       "array([[  2.71828183,   2.71828183,   2.71828183,   2.71828183,\n",
       "          2.71828183],\n",
       "       [  7.3890561 ,   7.3890561 ,   7.3890561 ,   7.3890561 ,   7.3890561 ],\n",
       "       [ 20.08553692,  20.08553692,  20.08553692,  20.08553692,\n",
       "         20.08553692],\n",
       "       [ 54.59815003,  54.59815003,  54.59815003,  54.59815003,\n",
       "         54.59815003]])"
      ]
     },
     "execution_count": 29,
     "metadata": {},
     "output_type": "execute_result"
    }
   ],
   "source": [
    "np.exp(tmp)"
   ]
  },
  {
   "cell_type": "code",
   "execution_count": 32,
   "metadata": {
    "collapsed": false
   },
   "outputs": [
    {
     "data": {
      "text/plain": [
       "array([  5.,  10.,  15.,  20.])"
      ]
     },
     "execution_count": 32,
     "metadata": {},
     "output_type": "execute_result"
    }
   ],
   "source": [
    "np.sum(tmp, axis=1)"
   ]
  },
  {
   "cell_type": "markdown",
   "metadata": {
    "collapsed": true
   },
   "source": [
    "#### check the `sigmoid` function"
   ]
  },
  {
   "cell_type": "code",
   "execution_count": 18,
   "metadata": {
    "collapsed": false
   },
   "outputs": [],
   "source": [
    "rndstate = random.getstate()"
   ]
  },
  {
   "cell_type": "code",
   "execution_count": 22,
   "metadata": {
    "collapsed": false
   },
   "outputs": [
    {
     "data": {
      "text/plain": [
       "(3,\n",
       " (2147483648L,\n",
       "  3825722852L,\n",
       "  3423508426L,\n",
       "  4248033027L,\n",
       "  2097757886L,\n",
       "  433988641L,\n",
       "  481062745L,\n",
       "  2461311606L,\n",
       "  3407900201L,\n",
       "  144514326L,\n",
       "  2960930209L,\n",
       "  1488727961L,\n",
       "  225531695L,\n",
       "  755564246L,\n",
       "  2128058733L,\n",
       "  2622389340L,\n",
       "  1195289316L,\n",
       "  456368364L,\n",
       "  2663620456L,\n",
       "  759368535L,\n",
       "  319192370L,\n",
       "  1557185433L,\n",
       "  3556377473L,\n",
       "  1317303775L,\n",
       "  1896599745L,\n",
       "  4253662011L,\n",
       "  366074714L,\n",
       "  554558712L,\n",
       "  4063547538L,\n",
       "  1195729401L,\n",
       "  3683363332L,\n",
       "  610961739L,\n",
       "  1118315268L,\n",
       "  3628417161L,\n",
       "  3454879328L,\n",
       "  3159573949L,\n",
       "  1444747361L,\n",
       "  1268560922L,\n",
       "  1095972090L,\n",
       "  659060115L,\n",
       "  3935466036L,\n",
       "  1073595213L,\n",
       "  2127840068L,\n",
       "  522059434L,\n",
       "  1144466660L,\n",
       "  1611038319L,\n",
       "  1981671946L,\n",
       "  2353061408L,\n",
       "  754569138L,\n",
       "  4172084713L,\n",
       "  3735359122L,\n",
       "  1709694879L,\n",
       "  214872233L,\n",
       "  2880276289L,\n",
       "  1669076112L,\n",
       "  2620670060L,\n",
       "  2857287276L,\n",
       "  1475930604L,\n",
       "  2736693376L,\n",
       "  2094171516L,\n",
       "  1446637627L,\n",
       "  1630269772L,\n",
       "  3266637133L,\n",
       "  1504502778L,\n",
       "  1675384960L,\n",
       "  4157024626L,\n",
       "  1206182007L,\n",
       "  3722829139L,\n",
       "  793608255L,\n",
       "  1946105080L,\n",
       "  3528844664L,\n",
       "  996433404L,\n",
       "  3760171868L,\n",
       "  221689859L,\n",
       "  1140903582L,\n",
       "  1925015391L,\n",
       "  2497877517L,\n",
       "  1831981661L,\n",
       "  2813397L,\n",
       "  1220920432L,\n",
       "  4139664375L,\n",
       "  1689151821L,\n",
       "  3420859643L,\n",
       "  3966948308L,\n",
       "  925784597L,\n",
       "  3311420760L,\n",
       "  625623591L,\n",
       "  2376294663L,\n",
       "  1150590709L,\n",
       "  2622237628L,\n",
       "  2232336856L,\n",
       "  2545257761L,\n",
       "  1956601928L,\n",
       "  4124610972L,\n",
       "  1822896272L,\n",
       "  1544779352L,\n",
       "  3151672308L,\n",
       "  406977636L,\n",
       "  3134183025L,\n",
       "  369485492L,\n",
       "  845908309L,\n",
       "  3135718744L,\n",
       "  1779921996L,\n",
       "  3663089691L,\n",
       "  1666547301L,\n",
       "  3867533382L,\n",
       "  1428234028L,\n",
       "  1817270576L,\n",
       "  3603490006L,\n",
       "  1024781039L,\n",
       "  2915394496L,\n",
       "  409126465L,\n",
       "  1331235135L,\n",
       "  2383771658L,\n",
       "  739731877L,\n",
       "  971259714L,\n",
       "  522698853L,\n",
       "  1595665095L,\n",
       "  40385580L,\n",
       "  675172938L,\n",
       "  3205014742L,\n",
       "  980545249L,\n",
       "  3500835314L,\n",
       "  2650409897L,\n",
       "  139885310L,\n",
       "  2023204996L,\n",
       "  1480859167L,\n",
       "  225106084L,\n",
       "  181006728L,\n",
       "  156601414L,\n",
       "  3621687369L,\n",
       "  1430556389L,\n",
       "  1152920810L,\n",
       "  3237768334L,\n",
       "  2935281567L,\n",
       "  1769437974L,\n",
       "  4246457665L,\n",
       "  4283148620L,\n",
       "  3925128859L,\n",
       "  3879699157L,\n",
       "  3234112380L,\n",
       "  2411732836L,\n",
       "  1152176970L,\n",
       "  1152373405L,\n",
       "  3789109972L,\n",
       "  1814019206L,\n",
       "  2674525148L,\n",
       "  765409409L,\n",
       "  2960346062L,\n",
       "  3911450137L,\n",
       "  4279590544L,\n",
       "  108194098L,\n",
       "  2115854545L,\n",
       "  946507129L,\n",
       "  2000692794L,\n",
       "  4153941322L,\n",
       "  176469897L,\n",
       "  1797527531L,\n",
       "  3675788087L,\n",
       "  3661902221L,\n",
       "  2805414790L,\n",
       "  4196621900L,\n",
       "  1198142754L,\n",
       "  1508197196L,\n",
       "  2991333070L,\n",
       "  3628412479L,\n",
       "  2015072876L,\n",
       "  4024026603L,\n",
       "  1846342104L,\n",
       "  3908667957L,\n",
       "  3058055867L,\n",
       "  4011262783L,\n",
       "  900890717L,\n",
       "  3388525693L,\n",
       "  2864020805L,\n",
       "  3309588851L,\n",
       "  498205568L,\n",
       "  3993583211L,\n",
       "  3168361892L,\n",
       "  48615047L,\n",
       "  2238124982L,\n",
       "  761100885L,\n",
       "  422471961L,\n",
       "  1161447278L,\n",
       "  1653867727L,\n",
       "  982254063L,\n",
       "  12009666L,\n",
       "  1999546991L,\n",
       "  740716540L,\n",
       "  3188002727L,\n",
       "  2640419934L,\n",
       "  3253849883L,\n",
       "  3771562070L,\n",
       "  3839326546L,\n",
       "  1443872817L,\n",
       "  475428858L,\n",
       "  4071958270L,\n",
       "  2174387281L,\n",
       "  648826705L,\n",
       "  752991856L,\n",
       "  3538869043L,\n",
       "  1583954994L,\n",
       "  1494146650L,\n",
       "  3453609102L,\n",
       "  3198807943L,\n",
       "  3683289941L,\n",
       "  2497266088L,\n",
       "  3725457861L,\n",
       "  40660167L,\n",
       "  3471087855L,\n",
       "  995619604L,\n",
       "  3509387974L,\n",
       "  2482951718L,\n",
       "  1882047302L,\n",
       "  2045854528L,\n",
       "  3947594890L,\n",
       "  2583229136L,\n",
       "  234940566L,\n",
       "  969983189L,\n",
       "  1111914902L,\n",
       "  4145839675L,\n",
       "  1727233413L,\n",
       "  1522739150L,\n",
       "  3597246560L,\n",
       "  4054994981L,\n",
       "  12335996L,\n",
       "  584663853L,\n",
       "  3851537809L,\n",
       "  1889363258L,\n",
       "  936540697L,\n",
       "  2522873052L,\n",
       "  334788497L,\n",
       "  2804934494L,\n",
       "  1719828070L,\n",
       "  3818252334L,\n",
       "  292423177L,\n",
       "  2801980565L,\n",
       "  987735670L,\n",
       "  625681382L,\n",
       "  3327846133L,\n",
       "  3174426346L,\n",
       "  3449913106L,\n",
       "  2291955426L,\n",
       "  2492430820L,\n",
       "  1044060421L,\n",
       "  2761034214L,\n",
       "  1025810164L,\n",
       "  3210444467L,\n",
       "  4117919592L,\n",
       "  2399190626L,\n",
       "  1605800338L,\n",
       "  2837415903L,\n",
       "  715343312L,\n",
       "  962486682L,\n",
       "  3499875371L,\n",
       "  3234990536L,\n",
       "  2914951365L,\n",
       "  3391304556L,\n",
       "  1983293411L,\n",
       "  3912689078L,\n",
       "  944291962L,\n",
       "  3374436877L,\n",
       "  1328623987L,\n",
       "  3862947890L,\n",
       "  369085800L,\n",
       "  1112112085L,\n",
       "  2703213627L,\n",
       "  2963455048L,\n",
       "  2477261248L,\n",
       "  1254138200L,\n",
       "  2414109337L,\n",
       "  300213814L,\n",
       "  936789566L,\n",
       "  942436592L,\n",
       "  3725823195L,\n",
       "  3908915898L,\n",
       "  3791660051L,\n",
       "  2763341154L,\n",
       "  3122299768L,\n",
       "  4223465729L,\n",
       "  1467197487L,\n",
       "  2510648464L,\n",
       "  1440755727L,\n",
       "  2934912408L,\n",
       "  3311300886L,\n",
       "  1449102522L,\n",
       "  2749170243L,\n",
       "  1829808261L,\n",
       "  3908010833L,\n",
       "  1602261692L,\n",
       "  3850606897L,\n",
       "  2695215121L,\n",
       "  3312125288L,\n",
       "  93522485L,\n",
       "  2923743340L,\n",
       "  3587276919L,\n",
       "  2247639981L,\n",
       "  306622603L,\n",
       "  3832159834L,\n",
       "  1358403696L,\n",
       "  4168987752L,\n",
       "  2263745089L,\n",
       "  1313616308L,\n",
       "  1848938990L,\n",
       "  749224714L,\n",
       "  1581735278L,\n",
       "  1328583169L,\n",
       "  3613213003L,\n",
       "  225681200L,\n",
       "  1678935978L,\n",
       "  2733579195L,\n",
       "  3892255866L,\n",
       "  1430505953L,\n",
       "  439201813L,\n",
       "  2705010473L,\n",
       "  1141356158L,\n",
       "  2198648685L,\n",
       "  2914368410L,\n",
       "  1857352820L,\n",
       "  786208605L,\n",
       "  2233191009L,\n",
       "  2190193998L,\n",
       "  690612315L,\n",
       "  2257718370L,\n",
       "  2311383565L,\n",
       "  1987283382L,\n",
       "  1700576988L,\n",
       "  1794169462L,\n",
       "  29454285L,\n",
       "  2382544097L,\n",
       "  1533742783L,\n",
       "  717465721L,\n",
       "  158006469L,\n",
       "  58046021L,\n",
       "  775931586L,\n",
       "  3476885660L,\n",
       "  4031556500L,\n",
       "  3738509288L,\n",
       "  1771614936L,\n",
       "  2191000091L,\n",
       "  848055342L,\n",
       "  685729772L,\n",
       "  3238819436L,\n",
       "  3950191173L,\n",
       "  3810069045L,\n",
       "  2566575366L,\n",
       "  855021765L,\n",
       "  1200837751L,\n",
       "  920226143L,\n",
       "  596749334L,\n",
       "  4105100338L,\n",
       "  613493154L,\n",
       "  3859447806L,\n",
       "  3299168637L,\n",
       "  3423740744L,\n",
       "  3729299932L,\n",
       "  182152226L,\n",
       "  1979530758L,\n",
       "  3045382650L,\n",
       "  1638479585L,\n",
       "  4200449599L,\n",
       "  830999310L,\n",
       "  3394235873L,\n",
       "  3644566127L,\n",
       "  932819567L,\n",
       "  854846709L,\n",
       "  4269679422L,\n",
       "  797508630L,\n",
       "  1386689644L,\n",
       "  1681647320L,\n",
       "  3200558593L,\n",
       "  3283746975L,\n",
       "  3736438540L,\n",
       "  1045510742L,\n",
       "  2262124157L,\n",
       "  2628023210L,\n",
       "  2800770536L,\n",
       "  3114776637L,\n",
       "  2853402720L,\n",
       "  2270403205L,\n",
       "  845681905L,\n",
       "  136637311L,\n",
       "  563337766L,\n",
       "  1203090596L,\n",
       "  2231347773L,\n",
       "  2073906549L,\n",
       "  1279611292L,\n",
       "  869681064L,\n",
       "  2552592560L,\n",
       "  3380118932L,\n",
       "  2562281391L,\n",
       "  704956958L,\n",
       "  2766793161L,\n",
       "  748582937L,\n",
       "  1308492629L,\n",
       "  213450697L,\n",
       "  118590760L,\n",
       "  2541591882L,\n",
       "  3510923389L,\n",
       "  3929256631L,\n",
       "  2279036286L,\n",
       "  2480671899L,\n",
       "  476654691L,\n",
       "  2534835036L,\n",
       "  532361989L,\n",
       "  3411414674L,\n",
       "  2682805020L,\n",
       "  1821867553L,\n",
       "  1639910007L,\n",
       "  1048815038L,\n",
       "  3978881301L,\n",
       "  826418036L,\n",
       "  2748871059L,\n",
       "  285772001L,\n",
       "  632589901L,\n",
       "  1920464350L,\n",
       "  2196919999L,\n",
       "  646454323L,\n",
       "  2321285L,\n",
       "  1226120470L,\n",
       "  2033148848L,\n",
       "  3553556307L,\n",
       "  3075645292L,\n",
       "  1193349173L,\n",
       "  2968349628L,\n",
       "  3070340522L,\n",
       "  3851411196L,\n",
       "  2564239713L,\n",
       "  665803087L,\n",
       "  1371798279L,\n",
       "  1055773168L,\n",
       "  3135740026L,\n",
       "  2659938392L,\n",
       "  3778940048L,\n",
       "  1770779023L,\n",
       "  3477247295L,\n",
       "  783160362L,\n",
       "  4030020073L,\n",
       "  1628341534L,\n",
       "  2171553210L,\n",
       "  3616656323L,\n",
       "  2592769195L,\n",
       "  3792034292L,\n",
       "  3420482427L,\n",
       "  42732221L,\n",
       "  3424250371L,\n",
       "  1728133353L,\n",
       "  2673702394L,\n",
       "  74485341L,\n",
       "  3575839133L,\n",
       "  3359074087L,\n",
       "  1903022080L,\n",
       "  2603593152L,\n",
       "  4100841391L,\n",
       "  1579147703L,\n",
       "  3812185745L,\n",
       "  3794309001L,\n",
       "  2959985245L,\n",
       "  1922419762L,\n",
       "  3979860232L,\n",
       "  3022265890L,\n",
       "  39646194L,\n",
       "  272910009L,\n",
       "  1833683487L,\n",
       "  3730082040L,\n",
       "  2423983698L,\n",
       "  2487158962L,\n",
       "  2616113945L,\n",
       "  1294737250L,\n",
       "  3812769950L,\n",
       "  3238081296L,\n",
       "  2032002270L,\n",
       "  2083908291L,\n",
       "  597594876L,\n",
       "  2012547271L,\n",
       "  1135592649L,\n",
       "  48414398L,\n",
       "  525655838L,\n",
       "  2702246691L,\n",
       "  3259356442L,\n",
       "  2489547594L,\n",
       "  4092712142L,\n",
       "  3945918544L,\n",
       "  2104128454L,\n",
       "  18281041L,\n",
       "  3578408191L,\n",
       "  468228624L,\n",
       "  337890224L,\n",
       "  1818365932L,\n",
       "  931367883L,\n",
       "  3474151863L,\n",
       "  1760651874L,\n",
       "  157637787L,\n",
       "  1882976830L,\n",
       "  1170991205L,\n",
       "  2964319317L,\n",
       "  377090198L,\n",
       "  2996152311L,\n",
       "  588527115L,\n",
       "  3678309969L,\n",
       "  1700793839L,\n",
       "  4026024806L,\n",
       "  929360224L,\n",
       "  2558616122L,\n",
       "  1688142519L,\n",
       "  4037664170L,\n",
       "  3653007130L,\n",
       "  1947373732L,\n",
       "  2032009850L,\n",
       "  866626177L,\n",
       "  2949393003L,\n",
       "  1534603514L,\n",
       "  987813680L,\n",
       "  2571402945L,\n",
       "  1273870571L,\n",
       "  67215407L,\n",
       "  3685845079L,\n",
       "  504538985L,\n",
       "  2545380295L,\n",
       "  2872949048L,\n",
       "  3286502168L,\n",
       "  1473446539L,\n",
       "  1043854891L,\n",
       "  3580307619L,\n",
       "  2033158952L,\n",
       "  2386643410L,\n",
       "  4208544066L,\n",
       "  381062978L,\n",
       "  22305197L,\n",
       "  1259905095L,\n",
       "  2894375380L,\n",
       "  3279447341L,\n",
       "  639340261L,\n",
       "  4174043297L,\n",
       "  309740342L,\n",
       "  1971071356L,\n",
       "  2325675496L,\n",
       "  187647386L,\n",
       "  228933404L,\n",
       "  3652564672L,\n",
       "  1726116410L,\n",
       "  2806007876L,\n",
       "  4124427874L,\n",
       "  3140097553L,\n",
       "  3878672584L,\n",
       "  3984173027L,\n",
       "  748633663L,\n",
       "  1937524963L,\n",
       "  1932566875L,\n",
       "  2869701983L,\n",
       "  1761934912L,\n",
       "  3722294961L,\n",
       "  1412699263L,\n",
       "  543266403L,\n",
       "  1570500770L,\n",
       "  3901358923L,\n",
       "  1330901949L,\n",
       "  3981130365L,\n",
       "  3401368587L,\n",
       "  4193255239L,\n",
       "  3584198901L,\n",
       "  218469889L,\n",
       "  127372541L,\n",
       "  3563813916L,\n",
       "  2846420211L,\n",
       "  4229841693L,\n",
       "  2401655570L,\n",
       "  783366016L,\n",
       "  3343062073L,\n",
       "  1706072257L,\n",
       "  1289703438L,\n",
       "  230471609L,\n",
       "  363958374L,\n",
       "  1054319099L,\n",
       "  2424687020L,\n",
       "  4189068692L,\n",
       "  1806428112L,\n",
       "  3518469463L,\n",
       "  710047035L,\n",
       "  401108478L,\n",
       "  3913419749L,\n",
       "  23753310L,\n",
       "  468819650L,\n",
       "  1581489575L,\n",
       "  1067155759L,\n",
       "  55901711L,\n",
       "  3493935152L,\n",
       "  110345932L,\n",
       "  3348611050L,\n",
       "  557323099L,\n",
       "  746647613L,\n",
       "  549944400L,\n",
       "  2491713973L,\n",
       "  1852989250L,\n",
       "  3098351843L,\n",
       "  1035802192L,\n",
       "  2364158889L,\n",
       "  3059551455L,\n",
       "  1713107868L,\n",
       "  1196381121L,\n",
       "  1143924650L,\n",
       "  2526318389L,\n",
       "  541810956L,\n",
       "  1955831099L,\n",
       "  978439610L,\n",
       "  2476794799L,\n",
       "  1500404941L,\n",
       "  2290423961L,\n",
       "  3370140021L,\n",
       "  3080567441L,\n",
       "  2547015780L,\n",
       "  168287296L,\n",
       "  3778846863L,\n",
       "  73520402L,\n",
       "  3292851242L,\n",
       "  3181018529L,\n",
       "  2669718296L,\n",
       "  1019207333L,\n",
       "  4144107451L,\n",
       "  1719963059L,\n",
       "  189042241L,\n",
       "  1267425182L,\n",
       "  2465369847L,\n",
       "  622300276L,\n",
       "  624L),\n",
       " None)"
      ]
     },
     "execution_count": 22,
     "metadata": {},
     "output_type": "execute_result"
    }
   ],
   "source": [
    "(rndstate)"
   ]
  },
  {
   "cell_type": "code",
   "execution_count": 10,
   "metadata": {
    "collapsed": false
   },
   "outputs": [
    {
     "data": {
      "text/plain": [
       "1.0"
      ]
     },
     "execution_count": 10,
     "metadata": {},
     "output_type": "execute_result"
    }
   ],
   "source": [
    "np.exp(0)"
   ]
  },
  {
   "cell_type": "code",
   "execution_count": null,
   "metadata": {
    "collapsed": true
   },
   "outputs": [],
   "source": []
  }
 ],
 "metadata": {
  "kernelspec": {
   "display_name": "Python 2",
   "language": "python",
   "name": "python2"
  },
  "language_info": {
   "codemirror_mode": {
    "name": "ipython",
    "version": 2
   },
   "file_extension": ".py",
   "mimetype": "text/x-python",
   "name": "python",
   "nbconvert_exporter": "python",
   "pygments_lexer": "ipython2",
   "version": "2.7.10"
  }
 },
 "nbformat": 4,
 "nbformat_minor": 2
}
