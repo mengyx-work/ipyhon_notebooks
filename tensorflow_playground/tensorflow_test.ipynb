{
 "cells": [
  {
   "cell_type": "markdown",
   "metadata": {},
   "source": [
    "### understand Tensorflow basic operations on the constant"
   ]
  },
  {
   "cell_type": "code",
   "execution_count": 1,
   "metadata": {
    "collapsed": false,
    "scrolled": false
   },
   "outputs": [],
   "source": [
    "import numpy as np\n",
    "import tensorflow as tf"
   ]
  },
  {
   "cell_type": "markdown",
   "metadata": {},
   "source": [
    "#### create the softmax in TensorFlow"
   ]
  },
  {
   "cell_type": "code",
   "execution_count": 35,
   "metadata": {
    "collapsed": false
   },
   "outputs": [
    {
     "name": "stdout",
     "output_type": "stream",
     "text": [
      "[[ 0.26894143  0.7310586 ]\n",
      " [ 0.26894143  0.7310586 ]]\n"
     ]
    }
   ],
   "source": [
    "sess = tf.InteractiveSession()\n",
    "inputs = tf.constant(np.array([[1001, 1002], [3, 4]]))\n",
    "row_max = tf.reduce_max(inputs, 1)\n",
    "row_max = tf.reshape(row_max, [inputs.shape[0].value, 1])\n",
    "exp_x = tf.exp(tf.to_float(inputs - row_max))\n",
    "row_exp_sum = tf.reduce_sum(exp_x, 1)\n",
    "out = exp_x / row_exp_sum\n",
    "print out.eval()\n",
    "#row_max = tf.reshape(, [inputs.shape[0], 1])\n",
    "#row_max = tf.constant(tf.reduce_max(inputs, 1), shape=)\n",
    "#exp_x = tf.exp(inputs. - row_max)\n",
    "#print(exp_x.eval())\n",
    "sess.close()\n",
    "                              "
   ]
  },
  {
   "cell_type": "markdown",
   "metadata": {},
   "source": [
    "#### try the boolean mask"
   ]
  },
  {
   "cell_type": "code",
   "execution_count": 48,
   "metadata": {
    "collapsed": false
   },
   "outputs": [
    {
     "name": "stdout",
     "output_type": "stream",
     "text": [
      "[[  9.99999972e-10   0.00000000e+00]\n",
      " [  0.00000000e+00   9.99999972e-10]]\n"
     ]
    }
   ],
   "source": [
    "inputs = tf.constant(np.array([[0., 1002.], [3., 0.]]))\n",
    "#zero = tf.constant(0, dtype=tf.float64)\n",
    "boolean_mask = tf.equal(inputs, 0.)\n",
    "boolean_mask = tf.to_float(boolean_mask) * 1E-9\n",
    "print boolean_mask.eval()\n"
   ]
  },
  {
   "cell_type": "code",
   "execution_count": null,
   "metadata": {
    "collapsed": true
   },
   "outputs": [],
   "source": []
  },
  {
   "cell_type": "code",
   "execution_count": null,
   "metadata": {
    "collapsed": true
   },
   "outputs": [],
   "source": []
  },
  {
   "cell_type": "code",
   "execution_count": 2,
   "metadata": {
    "collapsed": false
   },
   "outputs": [],
   "source": [
    "random_num = np.random.rand(2, 3, 4)"
   ]
  },
  {
   "cell_type": "code",
   "execution_count": 3,
   "metadata": {
    "collapsed": false
   },
   "outputs": [
    {
     "data": {
      "text/plain": [
       "array([[[ 0.04524727,  0.33377906,  0.89476474,  0.83266262],\n",
       "        [ 0.22051281,  0.07657816,  0.20222046,  0.20336211],\n",
       "        [ 0.80924396,  0.68478933,  0.69294016,  0.02292009]],\n",
       "\n",
       "       [[ 0.42256813,  0.90166277,  0.90175484,  0.09649898],\n",
       "        [ 0.52047075,  0.95096625,  0.66740198,  0.89025909],\n",
       "        [ 0.57504036,  0.24302295,  0.71615617,  0.45741952]]])"
      ]
     },
     "execution_count": 3,
     "metadata": {},
     "output_type": "execute_result"
    }
   ],
   "source": [
    "random_num"
   ]
  },
  {
   "cell_type": "code",
   "execution_count": 16,
   "metadata": {
    "collapsed": true
   },
   "outputs": [],
   "source": [
    "#vector = np.random.rand(5)\n",
    "#vector = np.array([[1, 2, 3], [4, 5, 6]])\n",
    "vector = np.arange(2, 5)"
   ]
  },
  {
   "cell_type": "code",
   "execution_count": 17,
   "metadata": {
    "collapsed": false
   },
   "outputs": [
    {
     "name": "stdout",
     "output_type": "stream",
     "text": [
      "(3,)\n"
     ]
    },
    {
     "data": {
      "text/plain": [
       "array([2, 3, 4])"
      ]
     },
     "execution_count": 17,
     "metadata": {},
     "output_type": "execute_result"
    }
   ],
   "source": [
    "print vector.shape\n",
    "vector"
   ]
  },
  {
   "cell_type": "code",
   "execution_count": 24,
   "metadata": {
    "collapsed": false
   },
   "outputs": [],
   "source": [
    "matrix = np.array([[2, 2, 2], [3, 3, 3]])"
   ]
  },
  {
   "cell_type": "code",
   "execution_count": 25,
   "metadata": {
    "collapsed": false
   },
   "outputs": [
    {
     "name": "stdout",
     "output_type": "stream",
     "text": [
      "(2, 3)\n"
     ]
    },
    {
     "data": {
      "text/plain": [
       "array([[2, 2, 2],\n",
       "       [3, 3, 3]])"
      ]
     },
     "execution_count": 25,
     "metadata": {},
     "output_type": "execute_result"
    }
   ],
   "source": [
    "print matrix.shape\n",
    "matrix"
   ]
  },
  {
   "cell_type": "code",
   "execution_count": 18,
   "metadata": {
    "collapsed": false
   },
   "outputs": [
    {
     "data": {
      "text/plain": [
       "(1, 3)"
      ]
     },
     "execution_count": 18,
     "metadata": {},
     "output_type": "execute_result"
    }
   ],
   "source": [
    "vector.reshape([1, -1]).shape\n",
    "#vector.reshape([-1, 1])"
   ]
  },
  {
   "cell_type": "code",
   "execution_count": 22,
   "metadata": {
    "collapsed": false
   },
   "outputs": [
    {
     "data": {
      "text/plain": [
       "array([[4, 5, 6],\n",
       "       [5, 6, 7]])"
      ]
     },
     "execution_count": 22,
     "metadata": {},
     "output_type": "execute_result"
    }
   ],
   "source": [
    "matrix + vector"
   ]
  },
  {
   "cell_type": "code",
   "execution_count": null,
   "metadata": {
    "collapsed": true
   },
   "outputs": [],
   "source": []
  }
 ],
 "metadata": {
  "kernelspec": {
   "display_name": "Python 2",
   "language": "python",
   "name": "python2"
  },
  "language_info": {
   "codemirror_mode": {
    "name": "ipython",
    "version": 2
   },
   "file_extension": ".py",
   "mimetype": "text/x-python",
   "name": "python",
   "nbconvert_exporter": "python",
   "pygments_lexer": "ipython2",
   "version": "2.7.10"
  }
 },
 "nbformat": 4,
 "nbformat_minor": 2
}
