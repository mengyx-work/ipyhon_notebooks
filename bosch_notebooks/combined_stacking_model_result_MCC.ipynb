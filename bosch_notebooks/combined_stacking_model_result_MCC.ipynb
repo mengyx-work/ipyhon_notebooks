{
 "cells": [
  {
   "cell_type": "code",
   "execution_count": 1,
   "metadata": {
    "collapsed": false
   },
   "outputs": [],
   "source": [
    "import pandas as pd\n",
    "import numpy as np\n",
    "import os, sys, time, random\n",
    "from os.path import join\n",
    "import yaml\n",
    "import cPickle as pickle\n",
    "\n",
    "sys.path.append('/home/ymm/kaggle/xgboost_hyperopt')\n",
    "from utils.bosch_functions import load_processed_bosch_data\n",
    "from utils.utils_functions import print_colors\n",
    "from utils.combined_model import CombinedModel\n",
    "from utils.validation_tools import score_MCC, MCC, create_validation_index, cross_validate_model\n",
    "from utils.validation_tools import combine_prediction_results_for_combined_models\n",
    "\n",
    "dep_var_name = 'Response'\n",
    "project_name = 'tmp'\n",
    "num_rows = 5000\n",
    "\n",
    "start_time = time.time()\n",
    "data_path = '/home/ymm/kaggle/bosch_data/bosch_processed_data'\n",
    "train_file_name = 'selected_combined_train.csv'\n",
    "\n",
    "train = pd.read_csv(join(data_path, train_file_name), index_col='Id', nrows = num_rows)"
   ]
  },
  {
   "cell_type": "code",
   "execution_count": 2,
   "metadata": {
    "collapsed": false
   },
   "outputs": [
    {
     "name": "stdout",
     "output_type": "stream",
     "text": [
      "warning! in the prediction step, dep_var_name is not provided....\n",
      "warning! in the prediction step, dep_var_name is not provided....\n",
      "warning! in the prediction step, dep_var_name is not provided....\n",
      "warning! in the prediction step, dep_var_name is not provided....\n",
      "finish training and prediction for project: tmp, using 0.0 minutes\n"
     ]
    }
   ],
   "source": [
    "## params for combined model\n",
    "#raw_models_yaml_file    = 'raw_combined_models.yml'\n",
    "raw_models_yaml_file    = 'final_xgb_models.yml'\n",
    "raw_models_yaml_file    = 'tmp_final_xgb_models.yml'\n",
    "raw_models_yaml_path    = './'\n",
    "trained_model_yaml_file = 'trained_combined_model.yml'\n",
    "#project_path            = './cross_validate_{}_models'.format(project_name)\n",
    "project_path            = '/home/ymm/kaggle/bosch/full_data_FE_cross_fit_xgb_models/cross_validate_tmp_models'\n",
    "## train the comined model\n",
    "combined_model_params = {}\n",
    "combined_model_params['raw_models_yaml_file']   = raw_models_yaml_file\n",
    "combined_model_params['project_path']           = project_path\n",
    "combined_model_params['models_yaml_file']       = trained_model_yaml_file\n",
    "combined_model_params['raw_models_yaml_path']   = raw_models_yaml_path\n",
    "\n",
    "## build the combined model\n",
    "combined_model = CombinedModel(combined_model_params)\n",
    "MCC, thres = combined_model.get_MCC_results_fromStackedBoschModel(train, dep_var_name)\n",
    "#combined_model.cross_vlidate_fit(train, dep_var_name, fold_num=4)\n",
    "print 'finish training and prediction for project: {}, using {} minutes'.format(project_name, round((time.time() - start_time)/60, 1))\n"
   ]
  },
  {
   "cell_type": "code",
   "execution_count": 3,
   "metadata": {
    "collapsed": false
   },
   "outputs": [
    {
     "name": "stdout",
     "output_type": "stream",
     "text": [
      "0.2624880631 0.00801546219736\n"
     ]
    }
   ],
   "source": [
    "print MCC, thres"
   ]
  }
 ],
 "metadata": {
  "kernelspec": {
   "display_name": "Python 2",
   "language": "python",
   "name": "python2"
  },
  "language_info": {
   "codemirror_mode": {
    "name": "ipython",
    "version": 2
   },
   "file_extension": ".py",
   "mimetype": "text/x-python",
   "name": "python",
   "nbconvert_exporter": "python",
   "pygments_lexer": "ipython2",
   "version": "2.7.6"
  }
 },
 "nbformat": 4,
 "nbformat_minor": 0
}
