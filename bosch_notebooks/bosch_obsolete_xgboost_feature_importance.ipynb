{
 "cells": [
  {
   "cell_type": "code",
   "execution_count": 3,
   "metadata": {
    "collapsed": false
   },
   "outputs": [],
   "source": [
    "%matplotlib inline\n",
    "import os, sys\n",
    "import pandas as pd\n",
    "import numpy as np\n",
    "import seaborn as sns\n",
    "from sklearn.preprocessing import LabelEncoder\n",
    "from scipy.sparse import csr_matrix, hstack\n",
    "from os.path import join, isfile\n",
    "\n",
    "import matplotlib.pyplot as plt"
   ]
  },
  {
   "cell_type": "code",
   "execution_count": 4,
   "metadata": {
    "collapsed": false
   },
   "outputs": [],
   "source": [
    "bin_NaN_data_path = '/home/ymm/kaggle/bosch/data_2_bins_xgb_combined_models/data_bin_NaN_models'\n",
    "bin_0_data_path = '/home/ymm/kaggle/bosch/data_2_bins_xgb_combined_models/data_bin_0_models'\n",
    "bin_1_data_path = '/home/ymm/kaggle/bosch/data_2_bins_xgb_combined_models/data_bin_1_models'"
   ]
  },
  {
   "cell_type": "code",
   "execution_count": 5,
   "metadata": {
    "collapsed": false
   },
   "outputs": [],
   "source": [
    "def collect_feature_names(data_path, fea_name='feature', thres_name = None, thres = 10):\n",
    "    csv_files = [f for f in os.listdir(data_path) if '.csv' in f]\n",
    "    feature_names = set()\n",
    "    for file_name in csv_files:\n",
    "        data = pd.read_csv(join(data_path, file_name), index_col=0)\n",
    "        if thres_name is None:\n",
    "            feature_names = feature_names.union(data[fea_name])\n",
    "        else:\n",
    "            feature_names = feature_names.union(data.loc[data[thres_name] > thres, fea_name])\n",
    "            \n",
    "    return feature_names\n",
    "\n",
    "\n",
    "def combine_feature_score(data_path, fea_name='feature', score_name = None):\n",
    "    csv_files = [f for f in os.listdir(data_path) if '.csv' in f]\n",
    "    fea_score = None\n",
    "    \n",
    "    for i, file_name in enumerate(csv_files):\n",
    "        data = pd.read_csv(join(data_path, file_name), index_col=0)\n",
    "        data = data.set_index([fea_name])\n",
    "        col_name = '{}_{}'.format(score_name, i)\n",
    "        \n",
    "        if fea_score is None:\n",
    "            fea_score = pd.DataFrame()\n",
    "        \n",
    "        fea_score[col_name] = data[score_name]\n",
    "\n",
    "            #fea_score = pd.merge(fea_score, data, how='outer', left_index=True, right_index=True)\n",
    "            \n",
    "    return fea_score"
   ]
  },
  {
   "cell_type": "code",
   "execution_count": 6,
   "metadata": {
    "collapsed": true
   },
   "outputs": [],
   "source": [
    "## count all the features\n",
    "bin_0_collected_names = collect_feature_names(bin_0_data_path)      \n",
    "bin_1_collected_names = collect_feature_names(bin_1_data_path)      \n",
    "bin_NaN_collected_names = collect_feature_names(bin_NaN_data_path)"
   ]
  },
  {
   "cell_type": "code",
   "execution_count": 7,
   "metadata": {
    "collapsed": false
   },
   "outputs": [],
   "source": [
    "## count only the important features\n",
    "bin_0_collected_names = collect_feature_names(bin_0_data_path, 'feature', 'fscore')      \n",
    "bin_1_collected_names = collect_feature_names(bin_1_data_path, 'feature', 'fscore')      \n",
    "bin_NaN_collected_names = collect_feature_names(bin_NaN_data_path, 'feature', 'fscore')"
   ]
  },
  {
   "cell_type": "code",
   "execution_count": 124,
   "metadata": {
    "collapsed": false,
    "scrolled": false
   },
   "outputs": [
    {
     "name": "stdout",
     "output_type": "stream",
     "text": [
      "331 318 568\n"
     ]
    }
   ],
   "source": [
    "print len(bin_0_collected_names), len(bin_1_collected_names), len(bin_NaN_collected_names)"
   ]
  },
  {
   "cell_type": "code",
   "execution_count": 125,
   "metadata": {
    "collapsed": false,
    "scrolled": true
   },
   "outputs": [
    {
     "name": "stdout",
     "output_type": "stream",
     "text": [
      "180 177 293\n"
     ]
    }
   ],
   "source": [
    "print len(bin_1_collected_names.intersection(bin_NaN_collected_names)), len(bin_0_collected_names.intersection(bin_NaN_collected_names)), len(bin_0_collected_names.intersection(bin_1_collected_names)) "
   ]
  },
  {
   "cell_type": "code",
   "execution_count": 126,
   "metadata": {
    "collapsed": true
   },
   "outputs": [],
   "source": [
    "full_union = bin_0_collected_names.union(bin_1_collected_names).union(bin_NaN_collected_names)"
   ]
  },
  {
   "cell_type": "code",
   "execution_count": null,
   "metadata": {
    "collapsed": true
   },
   "outputs": [],
   "source": [
    "len(full_union)"
   ]
  },
  {
   "cell_type": "code",
   "execution_count": 167,
   "metadata": {
    "collapsed": false
   },
   "outputs": [
    {
     "name": "stdout",
     "output_type": "stream",
     "text": [
      "79 76 49\n",
      "25 27 54\n"
     ]
    }
   ],
   "source": [
    "## count only the important features\n",
    "bin_0_collected_names = collect_feature_names(bin_0_data_path, 'feature', 'fscore', 200)      \n",
    "bin_1_collected_names = collect_feature_names(bin_1_data_path, 'feature', 'fscore', 200)      \n",
    "bin_NaN_collected_names = collect_feature_names(bin_NaN_data_path, 'feature', 'fscore', 200)\n",
    "\n",
    "print len(bin_0_collected_names), len(bin_1_collected_names), len(bin_NaN_collected_names)\n",
    "print len(bin_1_collected_names.intersection(bin_NaN_collected_names)), len(bin_0_collected_names.intersection(bin_NaN_collected_names)), len(bin_0_collected_names.intersection(bin_1_collected_names)) "
   ]
  },
  {
   "cell_type": "code",
   "execution_count": 157,
   "metadata": {
    "collapsed": false
   },
   "outputs": [],
   "source": [
    "tmp1 = bin_1_collected_names.intersection(bin_0_collected_names)\n",
    "tmp2 = bin_0_collected_names.intersection(bin_NaN_collected_names)"
   ]
  },
  {
   "cell_type": "code",
   "execution_count": 158,
   "metadata": {
    "collapsed": false
   },
   "outputs": [
    {
     "data": {
      "text/plain": [
       "{'L0_S0_F0',\n",
       " 'L0_S0_F16',\n",
       " 'L0_S0_F18',\n",
       " 'L0_S0_F2',\n",
       " 'L0_S0_F20',\n",
       " 'L0_S0_F22',\n",
       " 'L0_S0_F4',\n",
       " 'L0_S11_F286',\n",
       " 'L0_S11_F294',\n",
       " 'L0_S1_F24',\n",
       " 'L0_S1_F28',\n",
       " 'L0_S2_F36',\n",
       " 'L0_S2_F44',\n",
       " 'L0_S2_F64',\n",
       " 'L0_S3_F100',\n",
       " 'L0_S3_F72',\n",
       " 'L0_S3_F80',\n",
       " 'L0_S3_F96',\n",
       " 'L0_S4_F104',\n",
       " 'L0_S5_F116',\n",
       " 'L0_S6_F122',\n",
       " 'L0_S7_F138',\n",
       " 'L0_S7_F142',\n",
       " 'L0_S9_F160',\n",
       " 'L3_S29_F3327',\n",
       " 'L3_S29_F3330',\n",
       " 'L3_S29_F3336',\n",
       " 'L3_S29_F3345',\n",
       " 'L3_S29_F3348',\n",
       " 'L3_S29_F3479',\n",
       " 'L3_S30_F3534',\n",
       " 'L3_S30_F3554',\n",
       " 'L3_S30_F3574',\n",
       " 'L3_S30_F3704',\n",
       " 'L3_S30_F3744',\n",
       " 'L3_S30_F3749',\n",
       " 'L3_S30_F3754',\n",
       " 'L3_S30_F3759',\n",
       " 'L3_S30_F3769',\n",
       " 'L3_S30_F3774',\n",
       " 'L3_S30_F3804',\n",
       " 'L3_S30_F3809',\n",
       " 'L3_S30_F3819',\n",
       " 'L3_S30_F3829',\n",
       " 'L3_S32_D3852',\n",
       " 'L3_S32_F3850',\n",
       " 'L3_S32_F3854',\n",
       " 'L3_S33_D3856',\n",
       " 'L3_S33_F3855',\n",
       " 'L3_S33_F3857',\n",
       " 'L3_S33_F3859',\n",
       " 'L3_S33_F3865',\n",
       " 'L3_S36_F3920',\n",
       " 'start_time'}"
      ]
     },
     "execution_count": 158,
     "metadata": {},
     "output_type": "execute_result"
    }
   ],
   "source": [
    "tmp1"
   ]
  },
  {
   "cell_type": "code",
   "execution_count": 35,
   "metadata": {
    "collapsed": true
   },
   "outputs": [],
   "source": [
    "bin_NaN_imp = combine_feature_score(bin_NaN_data_path, 'feature', 'fscore')"
   ]
  },
  {
   "cell_type": "code",
   "execution_count": 37,
   "metadata": {
    "collapsed": false
   },
   "outputs": [],
   "source": [
    "NaN_LR_important_features = [u'L3_S49_F4206', u'L0_S22_F546', u'L3_S31_F3834', \n",
    "                             u'L3_S29_F3464', u'L3_S50_F4243', u'L2_S28_F3222', \n",
    "                             u'L1_S25_F2231', u'L1_S24_F1581',u'L1_S24_F1672',\n",
    "                             u'L3_S32_F3850']"
   ]
  },
  {
   "cell_type": "code",
   "execution_count": 38,
   "metadata": {
    "collapsed": false
   },
   "outputs": [
    {
     "name": "stdout",
     "output_type": "stream",
     "text": [
      "fscore_0    2.0\n",
      "fscore_1    NaN\n",
      "fscore_2    NaN\n",
      "fscore_3    NaN\n",
      "fscore_4    3.0\n",
      "Name: L3_S49_F4206, dtype: float64\n",
      "fscore_0    149.0\n",
      "fscore_1    128.0\n",
      "fscore_2    152.0\n",
      "fscore_3    153.0\n",
      "fscore_4    142.0\n",
      "Name: L0_S22_F546, dtype: float64\n",
      "fscore_0    36.0\n",
      "fscore_1    43.0\n",
      "fscore_2    41.0\n",
      "fscore_3    40.0\n",
      "fscore_4    37.0\n",
      "Name: L3_S31_F3834, dtype: float64\n",
      "fscore_0    492.0\n",
      "fscore_1    527.0\n",
      "fscore_2    490.0\n",
      "fscore_3    512.0\n",
      "fscore_4    528.0\n",
      "Name: L3_S29_F3464, dtype: float64\n",
      "fscore_0    23.0\n",
      "fscore_1    16.0\n",
      "fscore_2     8.0\n",
      "fscore_3    15.0\n",
      "fscore_4    21.0\n",
      "Name: L3_S50_F4243, dtype: float64\n",
      "fscore_0    6.0\n",
      "fscore_1    3.0\n",
      "fscore_2    1.0\n",
      "fscore_3    5.0\n",
      "fscore_4    1.0\n",
      "Name: L2_S28_F3222, dtype: float64\n",
      "fscore_0    6.0\n",
      "fscore_1    8.0\n",
      "fscore_2    9.0\n",
      "fscore_3    9.0\n",
      "fscore_4    9.0\n",
      "Name: L1_S25_F2231, dtype: float64\n",
      "fscore_0    65.0\n",
      "fscore_1    57.0\n",
      "fscore_2    49.0\n",
      "fscore_3    62.0\n",
      "fscore_4    76.0\n",
      "Name: L1_S24_F1581, dtype: float64\n",
      "fscore_0    83.0\n",
      "fscore_1    82.0\n",
      "fscore_2    81.0\n",
      "fscore_3    85.0\n",
      "fscore_4    75.0\n",
      "Name: L1_S24_F1672, dtype: float64\n",
      "fscore_0    551.0\n",
      "fscore_1    510.0\n",
      "fscore_2    513.0\n",
      "fscore_3    516.0\n",
      "fscore_4    474.0\n",
      "Name: L3_S32_F3850, dtype: float64\n"
     ]
    }
   ],
   "source": [
    "for feature in NaN_LR_important_features:\n",
    "    print bin_NaN_imp.ix[feature]"
   ]
  },
  {
   "cell_type": "code",
   "execution_count": null,
   "metadata": {
    "collapsed": true
   },
   "outputs": [],
   "source": []
  },
  {
   "cell_type": "code",
   "execution_count": null,
   "metadata": {
    "collapsed": true
   },
   "outputs": [],
   "source": []
  },
  {
   "cell_type": "markdown",
   "metadata": {
    "collapsed": true
   },
   "source": [
    "## Exam the important features from other mdoels\n",
    "        1. LR\n",
    "        2. ET and RF"
   ]
  },
  {
   "cell_type": "code",
   "execution_count": 19,
   "metadata": {
    "collapsed": false
   },
   "outputs": [],
   "source": [
    "bin_0_imp = combine_feature_score(bin_0_data_path, 'feature', 'fscore')\n",
    "bin_NaN_imp = combine_feature_score(bin_NaN_data_path, 'feature', 'fscore')"
   ]
  },
  {
   "cell_type": "code",
   "execution_count": 32,
   "metadata": {
    "collapsed": false
   },
   "outputs": [],
   "source": [
    "NaN_data_ET_important_features = ['L3_S32_F3850', u'L3_S32_F3854', u'L3_S32_F3851']\n",
    "\n",
    "regular_data_ET_important_features = ['L3_S33_F3867', 'L3_S33_F3873', 'L3_S32_F3854',\n",
    "                                      'L3_S32_F3850', 'L3_S32_F3851']"
   ]
  },
  {
   "cell_type": "code",
   "execution_count": 33,
   "metadata": {
    "collapsed": false
   },
   "outputs": [
    {
     "data": {
      "text/plain": [
       "Index([u'L1_S24_F1260', u'L1_S25_F2031', u'L1_S25_F2193', u'L1_S24_F821',\n",
       "       u'L3_S47_F4141', u'L1_S24_F1188', u'L3_S50_F4253', u'L1_S25_F2597',\n",
       "       u'L1_S25_F2433', u'L1_S25_F2732',\n",
       "       ...\n",
       "       u'L0_S12_F350', u'L3_S29_F3464', u'L1_S24_F1723', u'L3_S32_F3850',\n",
       "       u'L3_S38_F3960', u'L3_S29_F3407', u'L3_S33_F3855', u'L3_S33_F3857',\n",
       "       u'L3_S33_F3865', u'L3_S32_F3854'],\n",
       "      dtype='object', name=u'feature', length=812)"
      ]
     },
     "execution_count": 33,
     "metadata": {},
     "output_type": "execute_result"
    }
   ],
   "source": [
    "bin_NaN_imp.index"
   ]
  },
  {
   "cell_type": "code",
   "execution_count": 34,
   "metadata": {
    "collapsed": false
   },
   "outputs": [
    {
     "name": "stdout",
     "output_type": "stream",
     "text": [
      "fscore_0    551.0\n",
      "fscore_1    510.0\n",
      "fscore_2    513.0\n",
      "fscore_3    516.0\n",
      "fscore_4    474.0\n",
      "Name: L3_S32_F3850, dtype: float64\n",
      "fscore_0    1781.0\n",
      "fscore_1    1724.0\n",
      "fscore_2    1744.0\n",
      "fscore_3    1748.0\n",
      "fscore_4    1757.0\n",
      "Name: L3_S32_F3854, dtype: float64\n",
      "fscore_0    179.0\n",
      "fscore_1    182.0\n",
      "fscore_2    172.0\n",
      "fscore_3    158.0\n",
      "fscore_4    162.0\n",
      "Name: L3_S32_F3851, dtype: float64\n"
     ]
    }
   ],
   "source": [
    "for feature in NaN_data_ET_important_features:\n",
    "    if feature not in bin_NaN_imp.index:\n",
    "        print 'missing feature {} from xgboost'.format(feature)\n",
    "    else:\n",
    "        print bin_NaN_imp.ix[feature]"
   ]
  },
  {
   "cell_type": "code",
   "execution_count": 17,
   "metadata": {
    "collapsed": false
   },
   "outputs": [
    {
     "name": "stdout",
     "output_type": "stream",
     "text": [
      "fscore_0    13.0\n",
      "fscore_1    11.0\n",
      "fscore_2     8.0\n",
      "fscore_3    11.0\n",
      "fscore_4    14.0\n",
      "Name: L3_S33_F3867, dtype: float64\n",
      "fscore_0    21.0\n",
      "fscore_1    19.0\n",
      "fscore_2    26.0\n",
      "fscore_3    31.0\n",
      "fscore_4    28.0\n",
      "Name: L3_S33_F3873, dtype: float64\n",
      "fscore_0    1272.0\n",
      "fscore_1    1316.0\n",
      "fscore_2    1218.0\n",
      "fscore_3    1235.0\n",
      "fscore_4    1190.0\n",
      "Name: L3_S32_F3854, dtype: float64\n",
      "fscore_0    296.0\n",
      "fscore_1    294.0\n",
      "fscore_2    274.0\n",
      "fscore_3    293.0\n",
      "fscore_4    271.0\n",
      "Name: L3_S32_F3850, dtype: float64\n",
      "fscore_0    129.0\n",
      "fscore_1    115.0\n",
      "fscore_2    141.0\n",
      "fscore_3    130.0\n",
      "fscore_4    143.0\n",
      "Name: L3_S32_F3851, dtype: float64\n"
     ]
    }
   ],
   "source": [
    "for feature in regular_data_ET_important_features:\n",
    "    print bin_0_imp.ix[feature]"
   ]
  },
  {
   "cell_type": "code",
   "execution_count": 11,
   "metadata": {
    "collapsed": false
   },
   "outputs": [
    {
     "data": {
      "text/plain": [
       "fscore_0    22.0\n",
       "fscore_1    27.0\n",
       "fscore_2    15.0\n",
       "fscore_3    29.0\n",
       "fscore_4    19.0\n",
       "Name: L3_S31_F3834, dtype: float64"
      ]
     },
     "execution_count": 11,
     "metadata": {},
     "output_type": "execute_result"
    }
   ],
   "source": [
    "bin_0_imp.ix['L3_S31_F3834']"
   ]
  },
  {
   "cell_type": "code",
   "execution_count": 10,
   "metadata": {
    "collapsed": false
   },
   "outputs": [
    {
     "data": {
      "text/plain": [
       "fscore_0    129.0\n",
       "fscore_1    115.0\n",
       "fscore_2    141.0\n",
       "fscore_3    130.0\n",
       "fscore_4    143.0\n",
       "Name: L3_S32_F3851, dtype: float64"
      ]
     },
     "execution_count": 10,
     "metadata": {},
     "output_type": "execute_result"
    }
   ],
   "source": [
    "bin_0_imp.ix['L3_S32_F3851']"
   ]
  },
  {
   "cell_type": "code",
   "execution_count": 6,
   "metadata": {
    "collapsed": false
   },
   "outputs": [
    {
     "data": {
      "text/html": [
       "<div>\n",
       "<table border=\"1\" class=\"dataframe\">\n",
       "  <thead>\n",
       "    <tr style=\"text-align: right;\">\n",
       "      <th></th>\n",
       "      <th>fscore_0</th>\n",
       "      <th>fscore_1</th>\n",
       "      <th>fscore_2</th>\n",
       "      <th>fscore_3</th>\n",
       "      <th>fscore_4</th>\n",
       "    </tr>\n",
       "    <tr>\n",
       "      <th>feature</th>\n",
       "      <th></th>\n",
       "      <th></th>\n",
       "      <th></th>\n",
       "      <th></th>\n",
       "      <th></th>\n",
       "    </tr>\n",
       "  </thead>\n",
       "  <tbody>\n",
       "    <tr>\n",
       "      <th>L3_S33_F3857</th>\n",
       "      <td>743</td>\n",
       "      <td>740.0</td>\n",
       "      <td>737.0</td>\n",
       "      <td>771.0</td>\n",
       "      <td>694.0</td>\n",
       "    </tr>\n",
       "    <tr>\n",
       "      <th>L0_S1_F28</th>\n",
       "      <td>743</td>\n",
       "      <td>712.0</td>\n",
       "      <td>748.0</td>\n",
       "      <td>725.0</td>\n",
       "      <td>725.0</td>\n",
       "    </tr>\n",
       "    <tr>\n",
       "      <th>L0_S0_F20</th>\n",
       "      <td>771</td>\n",
       "      <td>780.0</td>\n",
       "      <td>774.0</td>\n",
       "      <td>769.0</td>\n",
       "      <td>758.0</td>\n",
       "    </tr>\n",
       "    <tr>\n",
       "      <th>L3_S32_F3854</th>\n",
       "      <td>1272</td>\n",
       "      <td>1316.0</td>\n",
       "      <td>1218.0</td>\n",
       "      <td>1235.0</td>\n",
       "      <td>1190.0</td>\n",
       "    </tr>\n",
       "    <tr>\n",
       "      <th>start_time</th>\n",
       "      <td>1342</td>\n",
       "      <td>1316.0</td>\n",
       "      <td>1183.0</td>\n",
       "      <td>1302.0</td>\n",
       "      <td>1265.0</td>\n",
       "    </tr>\n",
       "  </tbody>\n",
       "</table>\n",
       "</div>"
      ],
      "text/plain": [
       "              fscore_0  fscore_1  fscore_2  fscore_3  fscore_4\n",
       "feature                                                       \n",
       "L3_S33_F3857       743     740.0     737.0     771.0     694.0\n",
       "L0_S1_F28          743     712.0     748.0     725.0     725.0\n",
       "L0_S0_F20          771     780.0     774.0     769.0     758.0\n",
       "L3_S32_F3854      1272    1316.0    1218.0    1235.0    1190.0\n",
       "start_time        1342    1316.0    1183.0    1302.0    1265.0"
      ]
     },
     "execution_count": 6,
     "metadata": {},
     "output_type": "execute_result"
    }
   ],
   "source": [
    "bin_0_imp.tail()"
   ]
  },
  {
   "cell_type": "code",
   "execution_count": 142,
   "metadata": {
    "collapsed": true
   },
   "outputs": [],
   "source": [
    "bin_0_data_files =  [f for f in os.listdir(bin_0_data_path) if '.csv' in f]\n",
    "data = pd.read_csv(join(bin_0_data_path, bin_0_csv_files[0]), index_col=0)\n",
    "tmp = data.loc[data['fscore']>10 ,'feature']"
   ]
  },
  {
   "cell_type": "code",
   "execution_count": 153,
   "metadata": {
    "collapsed": false,
    "scrolled": true
   },
   "outputs": [
    {
     "data": {
      "text/html": [
       "<div>\n",
       "<table border=\"1\" class=\"dataframe\">\n",
       "  <thead>\n",
       "    <tr style=\"text-align: right;\">\n",
       "      <th></th>\n",
       "      <th>feature</th>\n",
       "      <th>fscore</th>\n",
       "      <th>norm_fscore</th>\n",
       "    </tr>\n",
       "  </thead>\n",
       "  <tbody>\n",
       "    <tr>\n",
       "      <th>782</th>\n",
       "      <td>L1_S24_F1604</td>\n",
       "      <td>238</td>\n",
       "      <td>0.005364</td>\n",
       "    </tr>\n",
       "    <tr>\n",
       "      <th>783</th>\n",
       "      <td>L1_S24_F1695</td>\n",
       "      <td>246</td>\n",
       "      <td>0.005544</td>\n",
       "    </tr>\n",
       "    <tr>\n",
       "      <th>784</th>\n",
       "      <td>L3_S30_F3749</td>\n",
       "      <td>255</td>\n",
       "      <td>0.005747</td>\n",
       "    </tr>\n",
       "    <tr>\n",
       "      <th>785</th>\n",
       "      <td>L3_S30_F3774</td>\n",
       "      <td>256</td>\n",
       "      <td>0.005770</td>\n",
       "    </tr>\n",
       "    <tr>\n",
       "      <th>786</th>\n",
       "      <td>L0_S12_F346</td>\n",
       "      <td>266</td>\n",
       "      <td>0.005995</td>\n",
       "    </tr>\n",
       "    <tr>\n",
       "      <th>787</th>\n",
       "      <td>L3_S30_F3744</td>\n",
       "      <td>269</td>\n",
       "      <td>0.006063</td>\n",
       "    </tr>\n",
       "    <tr>\n",
       "      <th>788</th>\n",
       "      <td>L3_S29_F3373</td>\n",
       "      <td>273</td>\n",
       "      <td>0.006153</td>\n",
       "    </tr>\n",
       "    <tr>\n",
       "      <th>789</th>\n",
       "      <td>L3_S30_F3809</td>\n",
       "      <td>274</td>\n",
       "      <td>0.006175</td>\n",
       "    </tr>\n",
       "    <tr>\n",
       "      <th>790</th>\n",
       "      <td>L3_S30_F3704</td>\n",
       "      <td>277</td>\n",
       "      <td>0.006243</td>\n",
       "    </tr>\n",
       "    <tr>\n",
       "      <th>791</th>\n",
       "      <td>L3_S30_F3554</td>\n",
       "      <td>283</td>\n",
       "      <td>0.006378</td>\n",
       "    </tr>\n",
       "    <tr>\n",
       "      <th>792</th>\n",
       "      <td>L3_S29_F3351</td>\n",
       "      <td>288</td>\n",
       "      <td>0.006491</td>\n",
       "    </tr>\n",
       "    <tr>\n",
       "      <th>793</th>\n",
       "      <td>L3_S29_F3479</td>\n",
       "      <td>312</td>\n",
       "      <td>0.007032</td>\n",
       "    </tr>\n",
       "    <tr>\n",
       "      <th>794</th>\n",
       "      <td>L3_S30_F3804</td>\n",
       "      <td>313</td>\n",
       "      <td>0.007054</td>\n",
       "    </tr>\n",
       "    <tr>\n",
       "      <th>795</th>\n",
       "      <td>L3_S30_F3754</td>\n",
       "      <td>331</td>\n",
       "      <td>0.007460</td>\n",
       "    </tr>\n",
       "    <tr>\n",
       "      <th>796</th>\n",
       "      <td>L1_S24_F1844</td>\n",
       "      <td>359</td>\n",
       "      <td>0.008091</td>\n",
       "    </tr>\n",
       "    <tr>\n",
       "      <th>797</th>\n",
       "      <td>L3_S38_F3956</td>\n",
       "      <td>383</td>\n",
       "      <td>0.008632</td>\n",
       "    </tr>\n",
       "    <tr>\n",
       "      <th>798</th>\n",
       "      <td>L3_S30_F3759</td>\n",
       "      <td>411</td>\n",
       "      <td>0.009263</td>\n",
       "    </tr>\n",
       "    <tr>\n",
       "      <th>799</th>\n",
       "      <td>L3_S29_F3339</td>\n",
       "      <td>419</td>\n",
       "      <td>0.009443</td>\n",
       "    </tr>\n",
       "    <tr>\n",
       "      <th>800</th>\n",
       "      <td>L1_S24_F1846</td>\n",
       "      <td>421</td>\n",
       "      <td>0.009488</td>\n",
       "    </tr>\n",
       "    <tr>\n",
       "      <th>801</th>\n",
       "      <td>L3_S33_F3859</td>\n",
       "      <td>431</td>\n",
       "      <td>0.009714</td>\n",
       "    </tr>\n",
       "    <tr>\n",
       "      <th>802</th>\n",
       "      <td>L0_S12_F350</td>\n",
       "      <td>431</td>\n",
       "      <td>0.009714</td>\n",
       "    </tr>\n",
       "    <tr>\n",
       "      <th>803</th>\n",
       "      <td>L3_S29_F3464</td>\n",
       "      <td>492</td>\n",
       "      <td>0.011089</td>\n",
       "    </tr>\n",
       "    <tr>\n",
       "      <th>804</th>\n",
       "      <td>L1_S24_F1723</td>\n",
       "      <td>505</td>\n",
       "      <td>0.011382</td>\n",
       "    </tr>\n",
       "    <tr>\n",
       "      <th>805</th>\n",
       "      <td>L3_S32_F3850</td>\n",
       "      <td>551</td>\n",
       "      <td>0.012418</td>\n",
       "    </tr>\n",
       "    <tr>\n",
       "      <th>806</th>\n",
       "      <td>L3_S38_F3960</td>\n",
       "      <td>558</td>\n",
       "      <td>0.012576</td>\n",
       "    </tr>\n",
       "    <tr>\n",
       "      <th>807</th>\n",
       "      <td>L3_S29_F3407</td>\n",
       "      <td>569</td>\n",
       "      <td>0.012824</td>\n",
       "    </tr>\n",
       "    <tr>\n",
       "      <th>808</th>\n",
       "      <td>L3_S33_F3855</td>\n",
       "      <td>593</td>\n",
       "      <td>0.013365</td>\n",
       "    </tr>\n",
       "    <tr>\n",
       "      <th>809</th>\n",
       "      <td>L3_S33_F3857</td>\n",
       "      <td>653</td>\n",
       "      <td>0.014717</td>\n",
       "    </tr>\n",
       "    <tr>\n",
       "      <th>810</th>\n",
       "      <td>L3_S33_F3865</td>\n",
       "      <td>720</td>\n",
       "      <td>0.016227</td>\n",
       "    </tr>\n",
       "    <tr>\n",
       "      <th>811</th>\n",
       "      <td>L3_S32_F3854</td>\n",
       "      <td>1781</td>\n",
       "      <td>0.040140</td>\n",
       "    </tr>\n",
       "  </tbody>\n",
       "</table>\n",
       "</div>"
      ],
      "text/plain": [
       "          feature  fscore  norm_fscore\n",
       "782  L1_S24_F1604     238     0.005364\n",
       "783  L1_S24_F1695     246     0.005544\n",
       "784  L3_S30_F3749     255     0.005747\n",
       "785  L3_S30_F3774     256     0.005770\n",
       "786   L0_S12_F346     266     0.005995\n",
       "787  L3_S30_F3744     269     0.006063\n",
       "788  L3_S29_F3373     273     0.006153\n",
       "789  L3_S30_F3809     274     0.006175\n",
       "790  L3_S30_F3704     277     0.006243\n",
       "791  L3_S30_F3554     283     0.006378\n",
       "792  L3_S29_F3351     288     0.006491\n",
       "793  L3_S29_F3479     312     0.007032\n",
       "794  L3_S30_F3804     313     0.007054\n",
       "795  L3_S30_F3754     331     0.007460\n",
       "796  L1_S24_F1844     359     0.008091\n",
       "797  L3_S38_F3956     383     0.008632\n",
       "798  L3_S30_F3759     411     0.009263\n",
       "799  L3_S29_F3339     419     0.009443\n",
       "800  L1_S24_F1846     421     0.009488\n",
       "801  L3_S33_F3859     431     0.009714\n",
       "802   L0_S12_F350     431     0.009714\n",
       "803  L3_S29_F3464     492     0.011089\n",
       "804  L1_S24_F1723     505     0.011382\n",
       "805  L3_S32_F3850     551     0.012418\n",
       "806  L3_S38_F3960     558     0.012576\n",
       "807  L3_S29_F3407     569     0.012824\n",
       "808  L3_S33_F3855     593     0.013365\n",
       "809  L3_S33_F3857     653     0.014717\n",
       "810  L3_S33_F3865     720     0.016227\n",
       "811  L3_S32_F3854    1781     0.040140"
      ]
     },
     "execution_count": 153,
     "metadata": {},
     "output_type": "execute_result"
    }
   ],
   "source": [
    "data.tail(30)"
   ]
  },
  {
   "cell_type": "code",
   "execution_count": 147,
   "metadata": {
    "collapsed": false,
    "scrolled": true
   },
   "outputs": [
    {
     "data": {
      "image/png": "[encoded data removed]",
      "text/plain": [
       "<matplotlib.figure.Figure at 0x7f98804f21d0>"
      ]
     },
     "metadata": {},
     "output_type": "display_data"
    }
   ],
   "source": [
    "plt.hist(data['fscore'], bins=50)\n",
    "plt.gca().set_yscale(\"log\")"
   ]
  },
  {
   "cell_type": "code",
   "execution_count": 166,
   "metadata": {
    "collapsed": false
   },
   "outputs": [
    {
     "name": "stdout",
     "output_type": "stream",
     "text": [
      "(812, 3)\n"
     ]
    },
    {
     "data": {
      "text/html": [
       "<div>\n",
       "<table border=\"1\" class=\"dataframe\">\n",
       "  <thead>\n",
       "    <tr style=\"text-align: right;\">\n",
       "      <th></th>\n",
       "      <th>feature</th>\n",
       "      <th>fscore</th>\n",
       "      <th>norm_fscore</th>\n",
       "    </tr>\n",
       "  </thead>\n",
       "  <tbody>\n",
       "    <tr>\n",
       "      <th>0</th>\n",
       "      <td>L1_S24_F1260</td>\n",
       "      <td>1</td>\n",
       "      <td>0.000023</td>\n",
       "    </tr>\n",
       "    <tr>\n",
       "      <th>1</th>\n",
       "      <td>L1_S25_F2031</td>\n",
       "      <td>1</td>\n",
       "      <td>0.000023</td>\n",
       "    </tr>\n",
       "    <tr>\n",
       "      <th>2</th>\n",
       "      <td>L1_S25_F2193</td>\n",
       "      <td>1</td>\n",
       "      <td>0.000023</td>\n",
       "    </tr>\n",
       "    <tr>\n",
       "      <th>3</th>\n",
       "      <td>L1_S24_F821</td>\n",
       "      <td>1</td>\n",
       "      <td>0.000023</td>\n",
       "    </tr>\n",
       "    <tr>\n",
       "      <th>4</th>\n",
       "      <td>L3_S47_F4141</td>\n",
       "      <td>1</td>\n",
       "      <td>0.000023</td>\n",
       "    </tr>\n",
       "  </tbody>\n",
       "</table>\n",
       "</div>"
      ],
      "text/plain": [
       "        feature  fscore  norm_fscore\n",
       "0  L1_S24_F1260       1     0.000023\n",
       "1  L1_S25_F2031       1     0.000023\n",
       "2  L1_S25_F2193       1     0.000023\n",
       "3   L1_S24_F821       1     0.000023\n",
       "4  L3_S47_F4141       1     0.000023"
      ]
     },
     "execution_count": 166,
     "metadata": {},
     "output_type": "execute_result"
    }
   ],
   "source": [
    "print data.shape\n",
    "data.head()"
   ]
  },
  {
   "cell_type": "code",
   "execution_count": 164,
   "metadata": {
    "collapsed": false
   },
   "outputs": [],
   "source": [
    "tmp = data.feature.apply(lambda x: x.split('_')[2][0])"
   ]
  },
  {
   "cell_type": "code",
   "execution_count": 165,
   "metadata": {
    "collapsed": false
   },
   "outputs": [
    {
     "data": {
      "text/plain": [
       "F    812\n",
       "Name: feature, dtype: int64"
      ]
     },
     "execution_count": 165,
     "metadata": {},
     "output_type": "execute_result"
    }
   ],
   "source": [
    "tmp.value_counts()"
   ]
  },
  {
   "cell_type": "code",
   "execution_count": 151,
   "metadata": {
    "collapsed": false
   },
   "outputs": [
    {
     "data": {
      "image/png": "[encoded data removed]",
      "text/plain": [
       "<matplotlib.figure.Figure at 0x7f98e3ca2210>"
      ]
     },
     "metadata": {},
     "output_type": "display_data"
    }
   ],
   "source": [
    "plt.hist(data['norm_fscore'], bins=50)\n",
    "plt.gca().set_yscale(\"log\")"
   ]
  },
  {
   "cell_type": "code",
   "execution_count": 148,
   "metadata": {
    "collapsed": true
   },
   "outputs": [],
   "source": [
    "bin_NaN_data_files =  [f for f in os.listdir(bin_0_data_path) if '.csv' in f]\n",
    "data = pd.read_csv(join(bin_NaN_data_path, bin_NaN_data_files[0]), index_col=0)\n",
    "tmp = data.loc[data['fscore']>10 ,'feature']"
   ]
  },
  {
   "cell_type": "code",
   "execution_count": 152,
   "metadata": {
    "collapsed": false
   },
   "outputs": [
    {
     "data": {
      "text/html": [
       "<div>\n",
       "<table border=\"1\" class=\"dataframe\">\n",
       "  <thead>\n",
       "    <tr style=\"text-align: right;\">\n",
       "      <th></th>\n",
       "      <th>feature</th>\n",
       "      <th>fscore</th>\n",
       "      <th>norm_fscore</th>\n",
       "    </tr>\n",
       "  </thead>\n",
       "  <tbody>\n",
       "    <tr>\n",
       "      <th>792</th>\n",
       "      <td>L3_S29_F3351</td>\n",
       "      <td>288</td>\n",
       "      <td>0.006491</td>\n",
       "    </tr>\n",
       "    <tr>\n",
       "      <th>793</th>\n",
       "      <td>L3_S29_F3479</td>\n",
       "      <td>312</td>\n",
       "      <td>0.007032</td>\n",
       "    </tr>\n",
       "    <tr>\n",
       "      <th>794</th>\n",
       "      <td>L3_S30_F3804</td>\n",
       "      <td>313</td>\n",
       "      <td>0.007054</td>\n",
       "    </tr>\n",
       "    <tr>\n",
       "      <th>795</th>\n",
       "      <td>L3_S30_F3754</td>\n",
       "      <td>331</td>\n",
       "      <td>0.007460</td>\n",
       "    </tr>\n",
       "    <tr>\n",
       "      <th>796</th>\n",
       "      <td>L1_S24_F1844</td>\n",
       "      <td>359</td>\n",
       "      <td>0.008091</td>\n",
       "    </tr>\n",
       "    <tr>\n",
       "      <th>797</th>\n",
       "      <td>L3_S38_F3956</td>\n",
       "      <td>383</td>\n",
       "      <td>0.008632</td>\n",
       "    </tr>\n",
       "    <tr>\n",
       "      <th>798</th>\n",
       "      <td>L3_S30_F3759</td>\n",
       "      <td>411</td>\n",
       "      <td>0.009263</td>\n",
       "    </tr>\n",
       "    <tr>\n",
       "      <th>799</th>\n",
       "      <td>L3_S29_F3339</td>\n",
       "      <td>419</td>\n",
       "      <td>0.009443</td>\n",
       "    </tr>\n",
       "    <tr>\n",
       "      <th>800</th>\n",
       "      <td>L1_S24_F1846</td>\n",
       "      <td>421</td>\n",
       "      <td>0.009488</td>\n",
       "    </tr>\n",
       "    <tr>\n",
       "      <th>801</th>\n",
       "      <td>L3_S33_F3859</td>\n",
       "      <td>431</td>\n",
       "      <td>0.009714</td>\n",
       "    </tr>\n",
       "    <tr>\n",
       "      <th>802</th>\n",
       "      <td>L0_S12_F350</td>\n",
       "      <td>431</td>\n",
       "      <td>0.009714</td>\n",
       "    </tr>\n",
       "    <tr>\n",
       "      <th>803</th>\n",
       "      <td>L3_S29_F3464</td>\n",
       "      <td>492</td>\n",
       "      <td>0.011089</td>\n",
       "    </tr>\n",
       "    <tr>\n",
       "      <th>804</th>\n",
       "      <td>L1_S24_F1723</td>\n",
       "      <td>505</td>\n",
       "      <td>0.011382</td>\n",
       "    </tr>\n",
       "    <tr>\n",
       "      <th>805</th>\n",
       "      <td>L3_S32_F3850</td>\n",
       "      <td>551</td>\n",
       "      <td>0.012418</td>\n",
       "    </tr>\n",
       "    <tr>\n",
       "      <th>806</th>\n",
       "      <td>L3_S38_F3960</td>\n",
       "      <td>558</td>\n",
       "      <td>0.012576</td>\n",
       "    </tr>\n",
       "    <tr>\n",
       "      <th>807</th>\n",
       "      <td>L3_S29_F3407</td>\n",
       "      <td>569</td>\n",
       "      <td>0.012824</td>\n",
       "    </tr>\n",
       "    <tr>\n",
       "      <th>808</th>\n",
       "      <td>L3_S33_F3855</td>\n",
       "      <td>593</td>\n",
       "      <td>0.013365</td>\n",
       "    </tr>\n",
       "    <tr>\n",
       "      <th>809</th>\n",
       "      <td>L3_S33_F3857</td>\n",
       "      <td>653</td>\n",
       "      <td>0.014717</td>\n",
       "    </tr>\n",
       "    <tr>\n",
       "      <th>810</th>\n",
       "      <td>L3_S33_F3865</td>\n",
       "      <td>720</td>\n",
       "      <td>0.016227</td>\n",
       "    </tr>\n",
       "    <tr>\n",
       "      <th>811</th>\n",
       "      <td>L3_S32_F3854</td>\n",
       "      <td>1781</td>\n",
       "      <td>0.040140</td>\n",
       "    </tr>\n",
       "  </tbody>\n",
       "</table>\n",
       "</div>"
      ],
      "text/plain": [
       "          feature  fscore  norm_fscore\n",
       "792  L3_S29_F3351     288     0.006491\n",
       "793  L3_S29_F3479     312     0.007032\n",
       "794  L3_S30_F3804     313     0.007054\n",
       "795  L3_S30_F3754     331     0.007460\n",
       "796  L1_S24_F1844     359     0.008091\n",
       "797  L3_S38_F3956     383     0.008632\n",
       "798  L3_S30_F3759     411     0.009263\n",
       "799  L3_S29_F3339     419     0.009443\n",
       "800  L1_S24_F1846     421     0.009488\n",
       "801  L3_S33_F3859     431     0.009714\n",
       "802   L0_S12_F350     431     0.009714\n",
       "803  L3_S29_F3464     492     0.011089\n",
       "804  L1_S24_F1723     505     0.011382\n",
       "805  L3_S32_F3850     551     0.012418\n",
       "806  L3_S38_F3960     558     0.012576\n",
       "807  L3_S29_F3407     569     0.012824\n",
       "808  L3_S33_F3855     593     0.013365\n",
       "809  L3_S33_F3857     653     0.014717\n",
       "810  L3_S33_F3865     720     0.016227\n",
       "811  L3_S32_F3854    1781     0.040140"
      ]
     },
     "execution_count": 152,
     "metadata": {},
     "output_type": "execute_result"
    }
   ],
   "source": [
    "data.tail(20)"
   ]
  },
  {
   "cell_type": "code",
   "execution_count": 127,
   "metadata": {
    "collapsed": false,
    "scrolled": true
   },
   "outputs": [
    {
     "data": {
      "text/plain": [
       "736"
      ]
     },
     "execution_count": 127,
     "metadata": {},
     "output_type": "execute_result"
    }
   ],
   "source": [
    "len(full_union)"
   ]
  }
 ],
 "metadata": {
  "kernelspec": {
   "display_name": "Python 2",
   "language": "python",
   "name": "python2"
  },
  "language_info": {
   "codemirror_mode": {
    "name": "ipython",
    "version": 2
   },
   "file_extension": ".py",
   "mimetype": "text/x-python",
   "name": "python",
   "nbconvert_exporter": "python",
   "pygments_lexer": "ipython2",
   "version": "2.7.6"
  }
 },
 "nbformat": 4,
 "nbformat_minor": 0
}
