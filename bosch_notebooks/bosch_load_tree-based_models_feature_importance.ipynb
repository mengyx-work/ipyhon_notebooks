{
 "cells": [
  {
   "cell_type": "code",
   "execution_count": 56,
   "metadata": {
    "collapsed": false
   },
   "outputs": [],
   "source": [
    "%matplotlib inline\n",
    "from sklearn import preprocessing\n",
    "import os, sys, time\n",
    "from os.path import join, isfile\n",
    "import pandas as pd\n",
    "import numpy as np\n",
    "from os.path import join\n",
    "import cPickle as pickle\n",
    "import matplotlib.pyplot as plt\n",
    "\n",
    "sys.path.append('/home/ymm/kaggle/xgboost_hyperopt')\n",
    "from utils.bosch_functions import load_processed_bosch_data"
   ]
  },
  {
   "cell_type": "markdown",
   "metadata": {},
   "source": [
    "## section#1 feature importances from regular data"
   ]
  },
  {
   "cell_type": "code",
   "execution_count": 105,
   "metadata": {
    "collapsed": false
   },
   "outputs": [
    {
     "name": "stdout",
     "output_type": "stream",
     "text": [
      "loading bosch data from  /home/ymm/kaggle/bosch_data/bosch_complete_processed_2_bins_data\n",
      "(10, 3069)\n"
     ]
    },
    {
     "data": {
      "text/html": [
       "<div>\n",
       "<table border=\"1\" class=\"dataframe\">\n",
       "  <thead>\n",
       "    <tr style=\"text-align: right;\">\n",
       "      <th></th>\n",
       "      <th>L0_S1_F25</th>\n",
       "      <th>L0_S1_F27</th>\n",
       "      <th>L0_S1_F29</th>\n",
       "      <th>L0_S1_F31</th>\n",
       "      <th>L0_S2_F33</th>\n",
       "      <th>L0_S2_F35</th>\n",
       "      <th>L0_S2_F37</th>\n",
       "      <th>L0_S2_F39</th>\n",
       "      <th>L0_S2_F41</th>\n",
       "      <th>L0_S2_F43</th>\n",
       "      <th>...</th>\n",
       "      <th>L3_S50_D4248</th>\n",
       "      <th>L3_S50_D4250</th>\n",
       "      <th>L3_S50_D4252</th>\n",
       "      <th>L3_S50_D4254</th>\n",
       "      <th>L3_S51_D4255</th>\n",
       "      <th>L3_S51_D4257</th>\n",
       "      <th>L3_S51_D4259</th>\n",
       "      <th>L3_S51_D4261</th>\n",
       "      <th>L3_S51_D4263</th>\n",
       "      <th>start_time</th>\n",
       "    </tr>\n",
       "    <tr>\n",
       "      <th>Id</th>\n",
       "      <th></th>\n",
       "      <th></th>\n",
       "      <th></th>\n",
       "      <th></th>\n",
       "      <th></th>\n",
       "      <th></th>\n",
       "      <th></th>\n",
       "      <th></th>\n",
       "      <th></th>\n",
       "      <th></th>\n",
       "      <th></th>\n",
       "      <th></th>\n",
       "      <th></th>\n",
       "      <th></th>\n",
       "      <th></th>\n",
       "      <th></th>\n",
       "      <th></th>\n",
       "      <th></th>\n",
       "      <th></th>\n",
       "      <th></th>\n",
       "      <th></th>\n",
       "    </tr>\n",
       "  </thead>\n",
       "  <tbody>\n",
       "    <tr>\n",
       "      <th>4</th>\n",
       "      <td>1</td>\n",
       "      <td>2</td>\n",
       "      <td>1</td>\n",
       "      <td>6</td>\n",
       "      <td>1</td>\n",
       "      <td>6</td>\n",
       "      <td>1</td>\n",
       "      <td>6</td>\n",
       "      <td>1</td>\n",
       "      <td>6</td>\n",
       "      <td>...</td>\n",
       "      <td>-1.0</td>\n",
       "      <td>-1.0</td>\n",
       "      <td>-1.0</td>\n",
       "      <td>-1.0</td>\n",
       "      <td>-1.0</td>\n",
       "      <td>-1.0</td>\n",
       "      <td>-1.0</td>\n",
       "      <td>-1.0</td>\n",
       "      <td>-1.0</td>\n",
       "      <td>82.24</td>\n",
       "    </tr>\n",
       "    <tr>\n",
       "      <th>7</th>\n",
       "      <td>1</td>\n",
       "      <td>2</td>\n",
       "      <td>1</td>\n",
       "      <td>6</td>\n",
       "      <td>1</td>\n",
       "      <td>6</td>\n",
       "      <td>1</td>\n",
       "      <td>6</td>\n",
       "      <td>1</td>\n",
       "      <td>6</td>\n",
       "      <td>...</td>\n",
       "      <td>-1.0</td>\n",
       "      <td>-1.0</td>\n",
       "      <td>-1.0</td>\n",
       "      <td>-1.0</td>\n",
       "      <td>-1.0</td>\n",
       "      <td>-1.0</td>\n",
       "      <td>-1.0</td>\n",
       "      <td>-1.0</td>\n",
       "      <td>-1.0</td>\n",
       "      <td>1618.70</td>\n",
       "    </tr>\n",
       "    <tr>\n",
       "      <th>9</th>\n",
       "      <td>1</td>\n",
       "      <td>2</td>\n",
       "      <td>1</td>\n",
       "      <td>6</td>\n",
       "      <td>1</td>\n",
       "      <td>6</td>\n",
       "      <td>1</td>\n",
       "      <td>6</td>\n",
       "      <td>1</td>\n",
       "      <td>6</td>\n",
       "      <td>...</td>\n",
       "      <td>-1.0</td>\n",
       "      <td>-1.0</td>\n",
       "      <td>-1.0</td>\n",
       "      <td>-1.0</td>\n",
       "      <td>-1.0</td>\n",
       "      <td>-1.0</td>\n",
       "      <td>-1.0</td>\n",
       "      <td>-1.0</td>\n",
       "      <td>-1.0</td>\n",
       "      <td>1149.20</td>\n",
       "    </tr>\n",
       "    <tr>\n",
       "      <th>11</th>\n",
       "      <td>1</td>\n",
       "      <td>2</td>\n",
       "      <td>1</td>\n",
       "      <td>6</td>\n",
       "      <td>1</td>\n",
       "      <td>6</td>\n",
       "      <td>1</td>\n",
       "      <td>6</td>\n",
       "      <td>1</td>\n",
       "      <td>6</td>\n",
       "      <td>...</td>\n",
       "      <td>-1.0</td>\n",
       "      <td>-1.0</td>\n",
       "      <td>-1.0</td>\n",
       "      <td>-1.0</td>\n",
       "      <td>-1.0</td>\n",
       "      <td>-1.0</td>\n",
       "      <td>-1.0</td>\n",
       "      <td>-1.0</td>\n",
       "      <td>-1.0</td>\n",
       "      <td>602.64</td>\n",
       "    </tr>\n",
       "    <tr>\n",
       "      <th>13</th>\n",
       "      <td>1</td>\n",
       "      <td>2</td>\n",
       "      <td>1</td>\n",
       "      <td>6</td>\n",
       "      <td>1</td>\n",
       "      <td>6</td>\n",
       "      <td>1</td>\n",
       "      <td>6</td>\n",
       "      <td>1</td>\n",
       "      <td>6</td>\n",
       "      <td>...</td>\n",
       "      <td>-1.0</td>\n",
       "      <td>-1.0</td>\n",
       "      <td>-1.0</td>\n",
       "      <td>-1.0</td>\n",
       "      <td>-1.0</td>\n",
       "      <td>-1.0</td>\n",
       "      <td>-1.0</td>\n",
       "      <td>-1.0</td>\n",
       "      <td>-1.0</td>\n",
       "      <td>1331.66</td>\n",
       "    </tr>\n",
       "  </tbody>\n",
       "</table>\n",
       "<p>5 rows × 3069 columns</p>\n",
       "</div>"
      ],
      "text/plain": [
       "    L0_S1_F25  L0_S1_F27  L0_S1_F29  L0_S1_F31  L0_S2_F33  L0_S2_F35  \\\n",
       "Id                                                                     \n",
       "4           1          2          1          6          1          6   \n",
       "7           1          2          1          6          1          6   \n",
       "9           1          2          1          6          1          6   \n",
       "11          1          2          1          6          1          6   \n",
       "13          1          2          1          6          1          6   \n",
       "\n",
       "    L0_S2_F37  L0_S2_F39  L0_S2_F41  L0_S2_F43     ...      L3_S50_D4248  \\\n",
       "Id                                                 ...                     \n",
       "4           1          6          1          6     ...              -1.0   \n",
       "7           1          6          1          6     ...              -1.0   \n",
       "9           1          6          1          6     ...              -1.0   \n",
       "11          1          6          1          6     ...              -1.0   \n",
       "13          1          6          1          6     ...              -1.0   \n",
       "\n",
       "    L3_S50_D4250  L3_S50_D4252  L3_S50_D4254  L3_S51_D4255  L3_S51_D4257  \\\n",
       "Id                                                                         \n",
       "4           -1.0          -1.0          -1.0          -1.0          -1.0   \n",
       "7           -1.0          -1.0          -1.0          -1.0          -1.0   \n",
       "9           -1.0          -1.0          -1.0          -1.0          -1.0   \n",
       "11          -1.0          -1.0          -1.0          -1.0          -1.0   \n",
       "13          -1.0          -1.0          -1.0          -1.0          -1.0   \n",
       "\n",
       "    L3_S51_D4259  L3_S51_D4261  L3_S51_D4263  start_time  \n",
       "Id                                                        \n",
       "4           -1.0          -1.0          -1.0       82.24  \n",
       "7           -1.0          -1.0          -1.0     1618.70  \n",
       "9           -1.0          -1.0          -1.0     1149.20  \n",
       "11          -1.0          -1.0          -1.0      602.64  \n",
       "13          -1.0          -1.0          -1.0     1331.66  \n",
       "\n",
       "[5 rows x 3069 columns]"
      ]
     },
     "execution_count": 105,
     "metadata": {},
     "output_type": "execute_result"
    }
   ],
   "source": [
    "## single bin for all the none-NaN data\n",
    "data_path = '/home/ymm/kaggle/bosch_data/bosch_complete_processed_2_bins_data'\n",
    "data_yaml_file = 'complete_subset_data_2_bins_dict.yml'\n",
    "train  = load_processed_bosch_data(data_path, data_yaml_file, data_index = '0', nrows=10)\n",
    "\n",
    "train.drop(['Response'], axis=1, inplace=True)\n",
    "print train.shape\n",
    "train.head()"
   ]
  },
  {
   "cell_type": "code",
   "execution_count": 106,
   "metadata": {
    "collapsed": true
   },
   "outputs": [],
   "source": [
    "#models_path = '/home/ymm/kaggle/bosch/data_regular_cross_fit_tree_models/data_regular_base_score_et_models_0'\n",
    "et_models_path = '/home/ymm/kaggle/bosch/data_1_bins_cross_fit_tree_models/data_bin_0_ET_models'\n",
    "rf_models_path = '/home/ymm/kaggle/bosch/data_1_bins_cross_fit_tree_models/data_bin_0_RF_models'\n",
    "pickle_files = [f for f in os.listdir(et_models_path) if '.pkl' in f]"
   ]
  },
  {
   "cell_type": "code",
   "execution_count": 107,
   "metadata": {
    "collapsed": false
   },
   "outputs": [],
   "source": [
    "def collect_feature_importances(models_path, model_type = 'ExtraTree'):\n",
    "    pickle_files = [f for f in os.listdir(models_path) if '.pkl' in f and model_type in f]\n",
    "    print 'total {} {} models are found from {}'.format(len(pickle_files), model_type, models_path)\n",
    "    df = pd.DataFrame()\n",
    "    model_counts = 0\n",
    "    start_time = time.time()\n",
    "    for picke_file in pickle_files:\n",
    "        model_counts += 1\n",
    "        if model_counts % 20 == 0:\n",
    "            print '{} models have been processed using {} seconds'.format(model_counts, round(time.time() - start_time, 0))\n",
    "        with open(join(models_path, picke_file), 'r') as model_stream:\n",
    "            model = pickle.load(model_stream)\n",
    "            col_name = 'model_{}'.format(model_counts)\n",
    "            df[col_name] = model.model.feature_importances_\n",
    "    return df"
   ]
  },
  {
   "cell_type": "code",
   "execution_count": 108,
   "metadata": {
    "collapsed": false
   },
   "outputs": [
    {
     "name": "stdout",
     "output_type": "stream",
     "text": [
      "total 80 ExtraTree models are found from /home/ymm/kaggle/bosch/data_1_bins_cross_fit_tree_models/data_bin_0_ET_models\n",
      "20 models have been processed using 7.0 seconds\n",
      "40 models have been processed using 14.0 seconds\n",
      "60 models have been processed using 21.0 seconds\n",
      "80 models have been processed using 27.0 seconds\n",
      "total 96 RandomForest models are found from /home/ymm/kaggle/bosch/data_1_bins_cross_fit_tree_models/data_bin_0_RF_models\n",
      "20 models have been processed using 22.0 seconds\n",
      "40 models have been processed using 44.0 seconds\n",
      "60 models have been processed using 67.0 seconds\n",
      "80 models have been processed using 93.0 seconds\n"
     ]
    }
   ],
   "source": [
    "et_df = collect_feature_importances(et_models_path, 'ExtraTree')\n",
    "rf_df = collect_feature_importances(rf_models_path, 'RandomForest')"
   ]
  },
  {
   "cell_type": "code",
   "execution_count": 109,
   "metadata": {
    "collapsed": false,
    "scrolled": true
   },
   "outputs": [
    {
     "name": "stdout",
     "output_type": "stream",
     "text": [
      "(3069, 80) (3069, 96) (10, 3069)\n"
     ]
    }
   ],
   "source": [
    "print et_df.shape, rf_df.shape, train.shape"
   ]
  },
  {
   "cell_type": "code",
   "execution_count": 110,
   "metadata": {
    "collapsed": false
   },
   "outputs": [],
   "source": [
    "et_agg_sum = et_df.sum(axis=1)\n",
    "rf_agg_sum = rf_df.sum(axis=1)"
   ]
  },
  {
   "cell_type": "code",
   "execution_count": 111,
   "metadata": {
    "collapsed": true
   },
   "outputs": [],
   "source": [
    "et_sorted_index = et_agg_sum.argsort()\n",
    "rf_sorted_index = rf_agg_sum.argsort()"
   ]
  },
  {
   "cell_type": "code",
   "execution_count": 113,
   "metadata": {
    "collapsed": false
   },
   "outputs": [
    {
     "data": {
      "text/plain": [
       "1746    0.550737\n",
       "2931    0.562779\n",
       "2938    0.564872\n",
       "2939    0.565871\n",
       "2937    0.571923\n",
       "2934    0.572296\n",
       "2933    0.575727\n",
       "1847    0.576177\n",
       "2940    0.577321\n",
       "2932    0.585985\n",
       "1852    0.586120\n",
       "2935    0.590500\n",
       "1844    0.590581\n",
       "1846    0.591957\n",
       "1848    0.604254\n",
       "1845    0.614741\n",
       "1842    1.069154\n",
       "911     1.071504\n",
       "2930    1.076674\n",
       "913     2.437465\n",
       "dtype: float64"
      ]
     },
     "execution_count": 113,
     "metadata": {},
     "output_type": "execute_result"
    }
   ],
   "source": [
    "rf_agg_sum[rf_sorted_index][-20:]"
   ]
  },
  {
   "cell_type": "code",
   "execution_count": 112,
   "metadata": {
    "collapsed": false,
    "scrolled": true
   },
   "outputs": [
    {
     "data": {
      "text/plain": [
       "1780    0.337574\n",
       "1773    0.348828\n",
       "1776    0.406469\n",
       "1843    1.097983\n",
       "1845    1.097993\n",
       "1847    1.124732\n",
       "1846    1.195154\n",
       "1844    1.205999\n",
       "1854    1.214659\n",
       "1855    1.214959\n",
       "1853    1.245410\n",
       "1848    1.324577\n",
       "1856    1.413988\n",
       "1851    1.456521\n",
       "1850    1.843781\n",
       "1849    1.922791\n",
       "1852    1.945726\n",
       "913     2.115080\n",
       "1842    2.290375\n",
       "911     3.460338\n",
       "dtype: float64"
      ]
     },
     "execution_count": 112,
     "metadata": {},
     "output_type": "execute_result"
    }
   ],
   "source": [
    "et_agg_sum[et_sorted_index][-20:]"
   ]
  },
  {
   "cell_type": "code",
   "execution_count": 115,
   "metadata": {
    "collapsed": false
   },
   "outputs": [
    {
     "data": {
      "text/plain": [
       "<matplotlib.axes._subplots.AxesSubplot at 0x7f1eecac08d0>"
      ]
     },
     "execution_count": 115,
     "metadata": {},
     "output_type": "execute_result"
    },
    {
     "data": {
      "image/png": "[encoded data removed]",
      "text/plain": [
       "<matplotlib.figure.Figure at 0x7f1f6e4d4b10>"
      ]
     },
     "metadata": {},
     "output_type": "display_data"
    }
   ],
   "source": [
    "rf_df.sum(axis=1).hist(bins = 50)"
   ]
  },
  {
   "cell_type": "code",
   "execution_count": 114,
   "metadata": {
    "collapsed": false,
    "scrolled": false
   },
   "outputs": [
    {
     "data": {
      "text/plain": [
       "<matplotlib.axes._subplots.AxesSubplot at 0x7f1eec8c6390>"
      ]
     },
     "execution_count": 114,
     "metadata": {},
     "output_type": "execute_result"
    },
    {
     "data": {
      "image/png": "[encoded data removed]",
      "text/plain": [
       "<matplotlib.figure.Figure at 0x7f1eec8c6f50>"
      ]
     },
     "metadata": {},
     "output_type": "display_data"
    }
   ],
   "source": [
    "et_df.sum(axis=1).hist(bins = 50)"
   ]
  },
  {
   "cell_type": "code",
   "execution_count": 118,
   "metadata": {
    "collapsed": false
   },
   "outputs": [
    {
     "data": {
      "image/png": "[encoded data removed]",
      "text/plain": [
       "<matplotlib.figure.Figure at 0x7f1eec6a5890>"
      ]
     },
     "metadata": {},
     "output_type": "display_data"
    }
   ],
   "source": [
    "plt.hist(rf_df.sum(axis=1), bins=50)\n",
    "plt.gca().set_yscale(\"log\")"
   ]
  },
  {
   "cell_type": "code",
   "execution_count": 117,
   "metadata": {
    "collapsed": false,
    "scrolled": true
   },
   "outputs": [
    {
     "data": {
      "image/png": "[encoded data removed]",
      "text/plain": [
       "<matplotlib.figure.Figure at 0x7f1eec8bfd50>"
      ]
     },
     "metadata": {},
     "output_type": "display_data"
    }
   ],
   "source": [
    "plt.hist(et_df.sum(axis=1), bins=50)\n",
    "plt.gca().set_yscale(\"log\")"
   ]
  },
  {
   "cell_type": "code",
   "execution_count": 54,
   "metadata": {
    "collapsed": false
   },
   "outputs": [
    {
     "data": {
      "text/plain": [
       "3064    1849\n",
       "3065    1852\n",
       "3066     913\n",
       "3067    1842\n",
       "3068     911\n",
       "dtype: int64"
      ]
     },
     "execution_count": 54,
     "metadata": {},
     "output_type": "execute_result"
    }
   ],
   "source": [
    "sorted_index[-5:]"
   ]
  },
  {
   "cell_type": "code",
   "execution_count": 53,
   "metadata": {
    "collapsed": false,
    "scrolled": true
   },
   "outputs": [
    {
     "data": {
      "text/plain": [
       "Index([u'L3_S33_F3867', u'L3_S33_F3873', u'L3_S32_F3854', u'L3_S32_F3850',\n",
       "       u'L3_S32_F3851'],\n",
       "      dtype='object')"
      ]
     },
     "execution_count": 53,
     "metadata": {},
     "output_type": "execute_result"
    }
   ],
   "source": [
    "train.columns[sorted_index[-5:]]"
   ]
  },
  {
   "cell_type": "code",
   "execution_count": null,
   "metadata": {
    "collapsed": true
   },
   "outputs": [],
   "source": []
  },
  {
   "cell_type": "code",
   "execution_count": null,
   "metadata": {
    "collapsed": true
   },
   "outputs": [],
   "source": []
  },
  {
   "cell_type": "code",
   "execution_count": null,
   "metadata": {
    "collapsed": true
   },
   "outputs": [],
   "source": []
  },
  {
   "cell_type": "markdown",
   "metadata": {},
   "source": [
    "## section#2 feature importances from NaN data"
   ]
  },
  {
   "cell_type": "code",
   "execution_count": null,
   "metadata": {
    "collapsed": true
   },
   "outputs": [],
   "source": []
  },
  {
   "cell_type": "code",
   "execution_count": 58,
   "metadata": {
    "collapsed": true
   },
   "outputs": [],
   "source": [
    "models_path = '/home/ymm/kaggle/bosch/data_2_bins_combined_models/data_bin_NaN_models'\n",
    "pickle_files = [f for f in os.listdir(models_path) if '.pkl' in f]"
   ]
  },
  {
   "cell_type": "code",
   "execution_count": 63,
   "metadata": {
    "collapsed": false
   },
   "outputs": [
    {
     "name": "stdout",
     "output_type": "stream",
     "text": [
      "loading bosch data from  /home/ymm/kaggle/bosch_data/bosch_complete_processed_3_bins_data\n"
     ]
    }
   ],
   "source": [
    "## 3 bins data\n",
    "project_yml_path    = '/mnt/home/ymm/kaggle/compete/current'\n",
    "data_path           = '/home/ymm/kaggle/bosch_data/bosch_complete_processed_3_bins_data'\n",
    "data_yaml_file      = 'complete_subset_data_3_bins_dict.yml'\n",
    "train = load_processed_bosch_data(data_path, data_yaml_file, data_index = 'NaN', nrows=10)"
   ]
  },
  {
   "cell_type": "code",
   "execution_count": 64,
   "metadata": {
    "collapsed": false
   },
   "outputs": [
    {
     "name": "stdout",
     "output_type": "stream",
     "text": [
      "(10, 2933)\n"
     ]
    },
    {
     "data": {
      "text/html": [
       "<div>\n",
       "<table border=\"1\" class=\"dataframe\">\n",
       "  <thead>\n",
       "    <tr style=\"text-align: right;\">\n",
       "      <th></th>\n",
       "      <th>L0_S9_F151</th>\n",
       "      <th>L0_S9_F153</th>\n",
       "      <th>L0_S9_F154</th>\n",
       "      <th>L0_S9_F156</th>\n",
       "      <th>L0_S9_F158</th>\n",
       "      <th>L0_S9_F159</th>\n",
       "      <th>L0_S9_F161</th>\n",
       "      <th>L0_S9_F163</th>\n",
       "      <th>L0_S9_F164</th>\n",
       "      <th>L0_S9_F166</th>\n",
       "      <th>...</th>\n",
       "      <th>L3_S36_D3932</th>\n",
       "      <th>L3_S36_D3936</th>\n",
       "      <th>L3_S36_D3940</th>\n",
       "      <th>L3_S37_D3942</th>\n",
       "      <th>L3_S37_D3943</th>\n",
       "      <th>L3_S37_D3945</th>\n",
       "      <th>L3_S37_D3947</th>\n",
       "      <th>L3_S37_D3949</th>\n",
       "      <th>L3_S37_D3951</th>\n",
       "      <th>start_time</th>\n",
       "    </tr>\n",
       "    <tr>\n",
       "      <th>Id</th>\n",
       "      <th></th>\n",
       "      <th></th>\n",
       "      <th></th>\n",
       "      <th></th>\n",
       "      <th></th>\n",
       "      <th></th>\n",
       "      <th></th>\n",
       "      <th></th>\n",
       "      <th></th>\n",
       "      <th></th>\n",
       "      <th></th>\n",
       "      <th></th>\n",
       "      <th></th>\n",
       "      <th></th>\n",
       "      <th></th>\n",
       "      <th></th>\n",
       "      <th></th>\n",
       "      <th></th>\n",
       "      <th></th>\n",
       "      <th></th>\n",
       "      <th></th>\n",
       "    </tr>\n",
       "  </thead>\n",
       "  <tbody>\n",
       "    <tr>\n",
       "      <th>6</th>\n",
       "      <td>1</td>\n",
       "      <td>1</td>\n",
       "      <td>3</td>\n",
       "      <td>1</td>\n",
       "      <td>1</td>\n",
       "      <td>3</td>\n",
       "      <td>1</td>\n",
       "      <td>1</td>\n",
       "      <td>3</td>\n",
       "      <td>1</td>\n",
       "      <td>...</td>\n",
       "      <td>-1.0</td>\n",
       "      <td>-1.0</td>\n",
       "      <td>-1.0</td>\n",
       "      <td>-1.0</td>\n",
       "      <td>-1.0</td>\n",
       "      <td>-1.0</td>\n",
       "      <td>-1.0</td>\n",
       "      <td>-1.0</td>\n",
       "      <td>-1.0</td>\n",
       "      <td>-1.0</td>\n",
       "    </tr>\n",
       "    <tr>\n",
       "      <th>14</th>\n",
       "      <td>1</td>\n",
       "      <td>1</td>\n",
       "      <td>3</td>\n",
       "      <td>1</td>\n",
       "      <td>1</td>\n",
       "      <td>3</td>\n",
       "      <td>1</td>\n",
       "      <td>1</td>\n",
       "      <td>3</td>\n",
       "      <td>1</td>\n",
       "      <td>...</td>\n",
       "      <td>-1.0</td>\n",
       "      <td>-1.0</td>\n",
       "      <td>-1.0</td>\n",
       "      <td>-1.0</td>\n",
       "      <td>-1.0</td>\n",
       "      <td>-1.0</td>\n",
       "      <td>-1.0</td>\n",
       "      <td>-1.0</td>\n",
       "      <td>-1.0</td>\n",
       "      <td>-1.0</td>\n",
       "    </tr>\n",
       "    <tr>\n",
       "      <th>16</th>\n",
       "      <td>1</td>\n",
       "      <td>1</td>\n",
       "      <td>3</td>\n",
       "      <td>1</td>\n",
       "      <td>1</td>\n",
       "      <td>3</td>\n",
       "      <td>1</td>\n",
       "      <td>1</td>\n",
       "      <td>3</td>\n",
       "      <td>1</td>\n",
       "      <td>...</td>\n",
       "      <td>-1.0</td>\n",
       "      <td>-1.0</td>\n",
       "      <td>-1.0</td>\n",
       "      <td>-1.0</td>\n",
       "      <td>-1.0</td>\n",
       "      <td>-1.0</td>\n",
       "      <td>-1.0</td>\n",
       "      <td>-1.0</td>\n",
       "      <td>-1.0</td>\n",
       "      <td>-1.0</td>\n",
       "    </tr>\n",
       "    <tr>\n",
       "      <th>23</th>\n",
       "      <td>1</td>\n",
       "      <td>1</td>\n",
       "      <td>3</td>\n",
       "      <td>1</td>\n",
       "      <td>1</td>\n",
       "      <td>3</td>\n",
       "      <td>1</td>\n",
       "      <td>1</td>\n",
       "      <td>3</td>\n",
       "      <td>1</td>\n",
       "      <td>...</td>\n",
       "      <td>-1.0</td>\n",
       "      <td>-1.0</td>\n",
       "      <td>-1.0</td>\n",
       "      <td>-1.0</td>\n",
       "      <td>-1.0</td>\n",
       "      <td>-1.0</td>\n",
       "      <td>-1.0</td>\n",
       "      <td>-1.0</td>\n",
       "      <td>-1.0</td>\n",
       "      <td>-1.0</td>\n",
       "    </tr>\n",
       "    <tr>\n",
       "      <th>41</th>\n",
       "      <td>1</td>\n",
       "      <td>1</td>\n",
       "      <td>3</td>\n",
       "      <td>1</td>\n",
       "      <td>1</td>\n",
       "      <td>3</td>\n",
       "      <td>1</td>\n",
       "      <td>1</td>\n",
       "      <td>3</td>\n",
       "      <td>1</td>\n",
       "      <td>...</td>\n",
       "      <td>-1.0</td>\n",
       "      <td>-1.0</td>\n",
       "      <td>-1.0</td>\n",
       "      <td>-1.0</td>\n",
       "      <td>-1.0</td>\n",
       "      <td>-1.0</td>\n",
       "      <td>-1.0</td>\n",
       "      <td>-1.0</td>\n",
       "      <td>-1.0</td>\n",
       "      <td>-1.0</td>\n",
       "    </tr>\n",
       "  </tbody>\n",
       "</table>\n",
       "<p>5 rows × 2933 columns</p>\n",
       "</div>"
      ],
      "text/plain": [
       "    L0_S9_F151  L0_S9_F153  L0_S9_F154  L0_S9_F156  L0_S9_F158  L0_S9_F159  \\\n",
       "Id                                                                           \n",
       "6            1           1           3           1           1           3   \n",
       "14           1           1           3           1           1           3   \n",
       "16           1           1           3           1           1           3   \n",
       "23           1           1           3           1           1           3   \n",
       "41           1           1           3           1           1           3   \n",
       "\n",
       "    L0_S9_F161  L0_S9_F163  L0_S9_F164  L0_S9_F166     ...      L3_S36_D3932  \\\n",
       "Id                                                     ...                     \n",
       "6            1           1           3           1     ...              -1.0   \n",
       "14           1           1           3           1     ...              -1.0   \n",
       "16           1           1           3           1     ...              -1.0   \n",
       "23           1           1           3           1     ...              -1.0   \n",
       "41           1           1           3           1     ...              -1.0   \n",
       "\n",
       "    L3_S36_D3936  L3_S36_D3940  L3_S37_D3942  L3_S37_D3943  L3_S37_D3945  \\\n",
       "Id                                                                         \n",
       "6           -1.0          -1.0          -1.0          -1.0          -1.0   \n",
       "14          -1.0          -1.0          -1.0          -1.0          -1.0   \n",
       "16          -1.0          -1.0          -1.0          -1.0          -1.0   \n",
       "23          -1.0          -1.0          -1.0          -1.0          -1.0   \n",
       "41          -1.0          -1.0          -1.0          -1.0          -1.0   \n",
       "\n",
       "    L3_S37_D3947  L3_S37_D3949  L3_S37_D3951  start_time  \n",
       "Id                                                        \n",
       "6           -1.0          -1.0          -1.0        -1.0  \n",
       "14          -1.0          -1.0          -1.0        -1.0  \n",
       "16          -1.0          -1.0          -1.0        -1.0  \n",
       "23          -1.0          -1.0          -1.0        -1.0  \n",
       "41          -1.0          -1.0          -1.0        -1.0  \n",
       "\n",
       "[5 rows x 2933 columns]"
      ]
     },
     "execution_count": 64,
     "metadata": {},
     "output_type": "execute_result"
    }
   ],
   "source": [
    "train.drop(['Response'], axis=1, inplace=True)\n",
    "print train.shape\n",
    "train.head()"
   ]
  },
  {
   "cell_type": "code",
   "execution_count": 59,
   "metadata": {
    "collapsed": false
   },
   "outputs": [
    {
     "name": "stdout",
     "output_type": "stream",
     "text": [
      "total 24 models are found from /home/ymm/kaggle/bosch/data_2_bins_combined_models/data_bin_NaN_models\n",
      "20 models have been processed using 11.0 seconds\n",
      "total 1 models are found from /home/ymm/kaggle/bosch/data_2_bins_combined_models/data_bin_NaN_models\n"
     ]
    }
   ],
   "source": [
    "et_df = collect_feature_importances(models_path, 'ExtraTree')\n",
    "rf_df = collect_feature_importances(models_path, 'RandomForest')"
   ]
  },
  {
   "cell_type": "code",
   "execution_count": 65,
   "metadata": {
    "collapsed": false
   },
   "outputs": [
    {
     "name": "stdout",
     "output_type": "stream",
     "text": [
      "(2933, 24) (2933, 1) (10, 2933)\n"
     ]
    }
   ],
   "source": [
    "print et_df.shape, rf_df.shape, train.shape"
   ]
  },
  {
   "cell_type": "code",
   "execution_count": 73,
   "metadata": {
    "collapsed": true
   },
   "outputs": [],
   "source": [
    "agg_et_sum = et_df.sum(axis=1)\n",
    "agg_rf_sum = rf_df.sum(axis=1)\n",
    "sorted_et_index = agg_et_sum.argsort()\n",
    "sorted_rf_index = agg_rf_sum.argsort()"
   ]
  },
  {
   "cell_type": "code",
   "execution_count": 84,
   "metadata": {
    "collapsed": false
   },
   "outputs": [
    {
     "name": "stdout",
     "output_type": "stream",
     "text": [
      "51\n"
     ]
    }
   ],
   "source": [
    "num_fea = 100\n",
    "common_index = set(agg_rf_sum[sorted_rf_index][-num_fea:].index).intersection(set(agg_et_sum[sorted_et_index][-num_fea:].index))\n",
    "print len(common_index)"
   ]
  },
  {
   "cell_type": "code",
   "execution_count": 85,
   "metadata": {
    "collapsed": false,
    "scrolled": true
   },
   "outputs": [
    {
     "data": {
      "text/plain": [
       "2643    0.019978\n",
       "2648    0.021220\n",
       "2186    0.022702\n",
       "2644    0.024746\n",
       "2148    0.025622\n",
       "1683    0.026511\n",
       "2152    0.028042\n",
       "2640    0.028876\n",
       "2650    0.029687\n",
       "1685    0.036737\n",
       "dtype: float64"
      ]
     },
     "execution_count": 85,
     "metadata": {},
     "output_type": "execute_result"
    }
   ],
   "source": [
    "agg_rf_sum[sorted_rf_index][-10:]"
   ]
  },
  {
   "cell_type": "code",
   "execution_count": 88,
   "metadata": {
    "collapsed": false
   },
   "outputs": [
    {
     "data": {
      "image/png": "[encoded data removed]",
      "text/plain": [
       "<matplotlib.figure.Figure at 0x7f1eec3b8150>"
      ]
     },
     "metadata": {},
     "output_type": "display_data"
    }
   ],
   "source": [
    "plt.hist(agg_rf_sum, bins=50)\n",
    "plt.gca().set_yscale(\"log\")"
   ]
  },
  {
   "cell_type": "code",
   "execution_count": 92,
   "metadata": {
    "collapsed": false
   },
   "outputs": [
    {
     "data": {
      "text/plain": [
       "2647    0.012421\n",
       "2654    0.013543\n",
       "2137    0.014157\n",
       "2642    0.015005\n",
       "2185    0.016825\n",
       "2649    0.017116\n",
       "2641    0.018226\n",
       "2653    0.018941\n",
       "2645    0.019422\n",
       "2646    0.019528\n",
       "2643    0.019978\n",
       "2648    0.021220\n",
       "2186    0.022702\n",
       "2644    0.024746\n",
       "2148    0.025622\n",
       "1683    0.026511\n",
       "2152    0.028042\n",
       "2640    0.028876\n",
       "2650    0.029687\n",
       "1685    0.036737\n",
       "dtype: float64"
      ]
     },
     "execution_count": 92,
     "metadata": {},
     "output_type": "execute_result"
    }
   ],
   "source": [
    "agg_rf_sum[sorted_rf_index][-20:]"
   ]
  },
  {
   "cell_type": "code",
   "execution_count": 75,
   "metadata": {
    "collapsed": false,
    "scrolled": false
   },
   "outputs": [
    {
     "data": {
      "image/png": "[encoded data removed]",
      "text/plain": [
       "<matplotlib.figure.Figure at 0x7f1eef122850>"
      ]
     },
     "metadata": {},
     "output_type": "display_data"
    }
   ],
   "source": [
    "plt.hist(agg_et_sum, bins=50)\n",
    "plt.gca().set_yscale(\"log\")"
   ]
  },
  {
   "cell_type": "markdown",
   "metadata": {},
   "source": [
    "#### ET models, select a feature importance threshold for the feature selection\n",
    "    most features give 0. contribution and lots of them give little contribution. So the threholds of 0.02 is used"
   ]
  },
  {
   "cell_type": "code",
   "execution_count": 101,
   "metadata": {
    "collapsed": false
   },
   "outputs": [
    {
     "data": {
      "text/plain": [
       "(array([  2.70400000e+03,   6.80000000e+01,   4.00000000e+01,\n",
       "          5.10000000e+01,   2.60000000e+01,   2.20000000e+01,\n",
       "          0.00000000e+00,   0.00000000e+00,   1.00000000e+00,\n",
       "          3.00000000e+00,   1.00000000e+00,   1.00000000e+00,\n",
       "          5.00000000e+00,   0.00000000e+00,   1.00000000e+00,\n",
       "          3.00000000e+00,   0.00000000e+00,   0.00000000e+00,\n",
       "          3.00000000e+00,   1.00000000e+00,   0.00000000e+00,\n",
       "          0.00000000e+00,   0.00000000e+00,   0.00000000e+00,\n",
       "          0.00000000e+00,   0.00000000e+00,   0.00000000e+00,\n",
       "          0.00000000e+00,   0.00000000e+00,   0.00000000e+00,\n",
       "          1.00000000e+00,   0.00000000e+00,   0.00000000e+00,\n",
       "          0.00000000e+00,   0.00000000e+00,   1.00000000e+00,\n",
       "          0.00000000e+00,   0.00000000e+00,   0.00000000e+00,\n",
       "          0.00000000e+00,   0.00000000e+00,   0.00000000e+00,\n",
       "          0.00000000e+00,   0.00000000e+00,   0.00000000e+00,\n",
       "          0.00000000e+00,   0.00000000e+00,   0.00000000e+00,\n",
       "          0.00000000e+00,   1.00000000e+00]),\n",
       " array([ 0.        ,  0.02057105,  0.04114211,  0.06171316,  0.08228422,\n",
       "         0.10285527,  0.12342632,  0.14399738,  0.16456843,  0.18513949,\n",
       "         0.20571054,  0.22628159,  0.24685265,  0.2674237 ,  0.28799476,\n",
       "         0.30856581,  0.32913686,  0.34970792,  0.37027897,  0.39085002,\n",
       "         0.41142108,  0.43199213,  0.45256319,  0.47313424,  0.49370529,\n",
       "         0.51427635,  0.5348474 ,  0.55541846,  0.57598951,  0.59656056,\n",
       "         0.61713162,  0.63770267,  0.65827373,  0.67884478,  0.69941583,\n",
       "         0.71998689,  0.74055794,  0.761129  ,  0.78170005,  0.8022711 ,\n",
       "         0.82284216,  0.84341321,  0.86398427,  0.88455532,  0.90512637,\n",
       "         0.92569743,  0.94626848,  0.96683954,  0.98741059,  1.00798164,\n",
       "         1.0285527 ]),\n",
       " <a list of 50 Patch objects>)"
      ]
     },
     "execution_count": 101,
     "metadata": {},
     "output_type": "execute_result"
    },
    {
     "data": {
      "image/png": "[encoded data removed]",
      "text/plain": [
       "<matplotlib.figure.Figure at 0x7f1eec4a5f50>"
      ]
     },
     "metadata": {},
     "output_type": "display_data"
    }
   ],
   "source": [
    "plt.hist(agg_et_sum, bins=50)"
   ]
  },
  {
   "cell_type": "code",
   "execution_count": 99,
   "metadata": {
    "collapsed": false,
    "scrolled": true
   },
   "outputs": [
    {
     "name": "stdout",
     "output_type": "stream",
     "text": [
      "1378 2697 2933\n"
     ]
    }
   ],
   "source": [
    "print sum(agg_et_sum == 0.), sum(agg_et_sum < 0.02), len(agg_et_sum)"
   ]
  },
  {
   "cell_type": "code",
   "execution_count": null,
   "metadata": {
    "collapsed": true
   },
   "outputs": [],
   "source": [
    "agg_et_sum[sorted_et_index][-10:]"
   ]
  },
  {
   "cell_type": "code",
   "execution_count": 87,
   "metadata": {
    "collapsed": false
   },
   "outputs": [
    {
     "data": {
      "text/plain": [
       "Index([u'L3_S32_F3850', u'L3_S32_F3854', u'L3_S32_F3851'], dtype='object')"
      ]
     },
     "execution_count": 87,
     "metadata": {},
     "output_type": "execute_result"
    }
   ],
   "source": [
    "train.columns[sorted_et_index[-3:]]"
   ]
  }
 ],
 "metadata": {
  "kernelspec": {
   "display_name": "Python 2",
   "language": "python",
   "name": "python2"
  },
  "language_info": {
   "codemirror_mode": {
    "name": "ipython",
    "version": 2
   },
   "file_extension": ".py",
   "mimetype": "text/x-python",
   "name": "python",
   "nbconvert_exporter": "python",
   "pygments_lexer": "ipython2",
   "version": "2.7.6"
  }
 },
 "nbformat": 4,
 "nbformat_minor": 0
}
