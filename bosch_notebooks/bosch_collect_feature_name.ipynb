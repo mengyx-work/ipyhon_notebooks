{
 "cells": [
  {
   "cell_type": "code",
   "execution_count": 2,
   "metadata": {
    "collapsed": true
   },
   "outputs": [],
   "source": [
    "import pandas as pd\n",
    "import numpy as np\n",
    "\n",
    "import os, sys, time, random\n",
    "from os.path import join\n",
    "import yaml\n"
   ]
  },
  {
   "cell_type": "code",
   "execution_count": 24,
   "metadata": {
    "collapsed": true
   },
   "outputs": [],
   "source": [
    "data_path = '/home/ymm/kaggle/bosch_data/bosch_processed_data'\n",
    "dep_var_name = 'Response'\n",
    "id_name = 'Id'\n",
    "station_train_file = 'bosch_train_station_features.csv'\n",
    "station_test_file = 'bosch_test_station_features.csv'\n",
    "\n",
    "dat_train_file = 'bosch_train_date_features.csv'\n",
    "dat_test_file = 'bosch_test_date_features.csv'\n",
    "\n",
    "cat_train_file = 'bosch_train_categorical_features.csv'\n",
    "cat_test_file = 'bosch_test_categorical_features.csv'\n",
    "\n",
    "num_train_file = 'bosch_train_numerical_features.csv'\n",
    "num_test_file = 'bosch_test_numerical_features.csv'"
   ]
  },
  {
   "cell_type": "code",
   "execution_count": 14,
   "metadata": {
    "collapsed": true
   },
   "outputs": [],
   "source": [
    "station_train = pd.read_csv(join(data_path, station_train_file), nrows=5000)\n",
    "station_test = pd.read_csv(join(data_path, station_train_file), nrows=5000)"
   ]
  },
  {
   "cell_type": "code",
   "execution_count": 9,
   "metadata": {
    "collapsed": false
   },
   "outputs": [
    {
     "name": "stdout",
     "output_type": "stream",
     "text": [
      "881 881\n"
     ]
    }
   ],
   "source": [
    "print len(station_train.columns), len(station_test.columns)"
   ]
  },
  {
   "cell_type": "code",
   "execution_count": 19,
   "metadata": {
    "collapsed": false
   },
   "outputs": [],
   "source": [
    "def get_columnNames(data_path, train_file, test_file, dep_var_name, id_name):\n",
    "    train = pd.read_csv(join(data_path, train_file), nrows=10)\n",
    "    test = pd.read_csv(join(data_path, test_file), nrows=10)\n",
    "    train_columns = train.columns.tolist()\n",
    "    test_columns = test.columns.tolist()\n",
    "    if dep_var_name in train_columns:\n",
    "        train_columns.remove(dep_var_name)\n",
    "    if id_name in train_columns:\n",
    "        train_columns.remove(id_name)\n",
    "        test_columns.remove(id_name)\n",
    "        \n",
    "    if train_columns != test_columns:\n",
    "        raise ValueError('different columns are found!')\n",
    "    \n",
    "    return train_columns"
   ]
  },
  {
   "cell_type": "code",
   "execution_count": 25,
   "metadata": {
    "collapsed": false
   },
   "outputs": [],
   "source": [
    "station_columns = get_columnNames(data_path, station_train_file, station_test_file, dep_var_name, id_name)\n",
    "date_columns = get_columnNames(data_path, dat_train_file, dat_test_file, dep_var_name, id_name)\n",
    "numerical_columns = get_columnNames(data_path, num_train_file, num_test_file, dep_var_name, id_name)\n",
    "categorical_columns = get_columnNames(data_path, cat_train_file, cat_test_file, dep_var_name, id_name)"
   ]
  },
  {
   "cell_type": "code",
   "execution_count": 31,
   "metadata": {
    "collapsed": false
   },
   "outputs": [],
   "source": [
    "feature_dict = {'station' : station_columns, 'date' : date_columns, 'num' : numerical_columns, 'cat' : categorical_columns}"
   ]
  },
  {
   "cell_type": "code",
   "execution_count": 29,
   "metadata": {
    "collapsed": false
   },
   "outputs": [
    {
     "name": "stdout",
     "output_type": "stream",
     "text": [
      "880 1182 977 1986\n"
     ]
    }
   ],
   "source": [
    "print len(station_columns), len(date_columns), len(numerical_columns), len(categorical_columns)"
   ]
  },
  {
   "cell_type": "code",
   "execution_count": 32,
   "metadata": {
    "collapsed": true
   },
   "outputs": [],
   "source": [
    "with open('bosch_feature_dict.yml', 'w') as yml_stream:\n",
    "    yaml.dump(feature_dict, yml_stream, default_flow_style=False)"
   ]
  },
  {
   "cell_type": "code",
   "execution_count": null,
   "metadata": {
    "collapsed": true
   },
   "outputs": [],
   "source": []
  },
  {
   "cell_type": "code",
   "execution_count": null,
   "metadata": {
    "collapsed": true
   },
   "outputs": [],
   "source": []
  },
  {
   "cell_type": "code",
   "execution_count": 22,
   "metadata": {
    "collapsed": false
   },
   "outputs": [
    {
     "data": {
      "text/html": [
       "<div>\n",
       "<table border=\"1\" class=\"dataframe\">\n",
       "  <thead>\n",
       "    <tr style=\"text-align: right;\">\n",
       "      <th></th>\n",
       "      <th>Id</th>\n",
       "      <th>dat_L2_S28_mean</th>\n",
       "      <th>dat_L2_S28_max</th>\n",
       "      <th>dat_L2_S28_min</th>\n",
       "      <th>dat_L2_S28_var</th>\n",
       "      <th>dat_L3_S31_mean</th>\n",
       "      <th>dat_L3_S31_max</th>\n",
       "      <th>dat_L3_S31_min</th>\n",
       "      <th>dat_L3_S31_var</th>\n",
       "      <th>dat_L2_S26_mean</th>\n",
       "      <th>...</th>\n",
       "      <th>num_L1_S25_var_index_diff_0</th>\n",
       "      <th>num_L1_S25_var_index_diff_1</th>\n",
       "      <th>num_L1_S24_mean_index_diff_0</th>\n",
       "      <th>num_L1_S24_mean_index_diff_1</th>\n",
       "      <th>num_L1_S24_var_index_diff_0</th>\n",
       "      <th>num_L1_S24_var_index_diff_1</th>\n",
       "      <th>num_L3_S39_mean_index_diff_0</th>\n",
       "      <th>num_L3_S39_mean_index_diff_1</th>\n",
       "      <th>num_L3_S39_var_index_diff_0</th>\n",
       "      <th>num_L3_S39_var_index_diff_1</th>\n",
       "    </tr>\n",
       "  </thead>\n",
       "  <tbody>\n",
       "    <tr>\n",
       "      <th>0</th>\n",
       "      <td>4</td>\n",
       "      <td>NaN</td>\n",
       "      <td>NaN</td>\n",
       "      <td>NaN</td>\n",
       "      <td>NaN</td>\n",
       "      <td>87.27</td>\n",
       "      <td>87.27</td>\n",
       "      <td>87.27</td>\n",
       "      <td>0.0</td>\n",
       "      <td>NaN</td>\n",
       "      <td>...</td>\n",
       "      <td>1</td>\n",
       "      <td>-1</td>\n",
       "      <td>-335159</td>\n",
       "      <td>-1</td>\n",
       "      <td>-1171286</td>\n",
       "      <td>-1</td>\n",
       "      <td>1</td>\n",
       "      <td>-1</td>\n",
       "      <td>1</td>\n",
       "      <td>-1</td>\n",
       "    </tr>\n",
       "    <tr>\n",
       "      <th>1</th>\n",
       "      <td>6</td>\n",
       "      <td>NaN</td>\n",
       "      <td>NaN</td>\n",
       "      <td>NaN</td>\n",
       "      <td>NaN</td>\n",
       "      <td>NaN</td>\n",
       "      <td>NaN</td>\n",
       "      <td>NaN</td>\n",
       "      <td>NaN</td>\n",
       "      <td>NaN</td>\n",
       "      <td>...</td>\n",
       "      <td>1</td>\n",
       "      <td>-1</td>\n",
       "      <td>1</td>\n",
       "      <td>-1</td>\n",
       "      <td>1</td>\n",
       "      <td>-1</td>\n",
       "      <td>1</td>\n",
       "      <td>-1</td>\n",
       "      <td>1</td>\n",
       "      <td>-1</td>\n",
       "    </tr>\n",
       "    <tr>\n",
       "      <th>2</th>\n",
       "      <td>7</td>\n",
       "      <td>NaN</td>\n",
       "      <td>NaN</td>\n",
       "      <td>NaN</td>\n",
       "      <td>NaN</td>\n",
       "      <td>NaN</td>\n",
       "      <td>NaN</td>\n",
       "      <td>NaN</td>\n",
       "      <td>NaN</td>\n",
       "      <td>NaN</td>\n",
       "      <td>...</td>\n",
       "      <td>1</td>\n",
       "      <td>-1</td>\n",
       "      <td>1</td>\n",
       "      <td>-2</td>\n",
       "      <td>1</td>\n",
       "      <td>-2</td>\n",
       "      <td>1</td>\n",
       "      <td>-1</td>\n",
       "      <td>1</td>\n",
       "      <td>-1</td>\n",
       "    </tr>\n",
       "    <tr>\n",
       "      <th>3</th>\n",
       "      <td>9</td>\n",
       "      <td>NaN</td>\n",
       "      <td>NaN</td>\n",
       "      <td>NaN</td>\n",
       "      <td>NaN</td>\n",
       "      <td>NaN</td>\n",
       "      <td>NaN</td>\n",
       "      <td>NaN</td>\n",
       "      <td>NaN</td>\n",
       "      <td>NaN</td>\n",
       "      <td>...</td>\n",
       "      <td>1</td>\n",
       "      <td>-1</td>\n",
       "      <td>2</td>\n",
       "      <td>-1</td>\n",
       "      <td>2</td>\n",
       "      <td>-1</td>\n",
       "      <td>1</td>\n",
       "      <td>-1</td>\n",
       "      <td>1</td>\n",
       "      <td>-1</td>\n",
       "    </tr>\n",
       "    <tr>\n",
       "      <th>4</th>\n",
       "      <td>11</td>\n",
       "      <td>NaN</td>\n",
       "      <td>NaN</td>\n",
       "      <td>NaN</td>\n",
       "      <td>NaN</td>\n",
       "      <td>NaN</td>\n",
       "      <td>NaN</td>\n",
       "      <td>NaN</td>\n",
       "      <td>NaN</td>\n",
       "      <td>NaN</td>\n",
       "      <td>...</td>\n",
       "      <td>1</td>\n",
       "      <td>-1</td>\n",
       "      <td>1</td>\n",
       "      <td>-1</td>\n",
       "      <td>1</td>\n",
       "      <td>-1</td>\n",
       "      <td>1</td>\n",
       "      <td>-1</td>\n",
       "      <td>1</td>\n",
       "      <td>-1</td>\n",
       "    </tr>\n",
       "  </tbody>\n",
       "</table>\n",
       "<p>5 rows × 881 columns</p>\n",
       "</div>"
      ],
      "text/plain": [
       "   Id  dat_L2_S28_mean  dat_L2_S28_max  dat_L2_S28_min  dat_L2_S28_var  \\\n",
       "0   4              NaN             NaN             NaN             NaN   \n",
       "1   6              NaN             NaN             NaN             NaN   \n",
       "2   7              NaN             NaN             NaN             NaN   \n",
       "3   9              NaN             NaN             NaN             NaN   \n",
       "4  11              NaN             NaN             NaN             NaN   \n",
       "\n",
       "   dat_L3_S31_mean  dat_L3_S31_max  dat_L3_S31_min  dat_L3_S31_var  \\\n",
       "0            87.27           87.27           87.27             0.0   \n",
       "1              NaN             NaN             NaN             NaN   \n",
       "2              NaN             NaN             NaN             NaN   \n",
       "3              NaN             NaN             NaN             NaN   \n",
       "4              NaN             NaN             NaN             NaN   \n",
       "\n",
       "   dat_L2_S26_mean             ...               num_L1_S25_var_index_diff_0  \\\n",
       "0              NaN             ...                                         1   \n",
       "1              NaN             ...                                         1   \n",
       "2              NaN             ...                                         1   \n",
       "3              NaN             ...                                         1   \n",
       "4              NaN             ...                                         1   \n",
       "\n",
       "   num_L1_S25_var_index_diff_1  num_L1_S24_mean_index_diff_0  \\\n",
       "0                           -1                       -335159   \n",
       "1                           -1                             1   \n",
       "2                           -1                             1   \n",
       "3                           -1                             2   \n",
       "4                           -1                             1   \n",
       "\n",
       "   num_L1_S24_mean_index_diff_1  num_L1_S24_var_index_diff_0  \\\n",
       "0                            -1                     -1171286   \n",
       "1                            -1                            1   \n",
       "2                            -2                            1   \n",
       "3                            -1                            2   \n",
       "4                            -1                            1   \n",
       "\n",
       "   num_L1_S24_var_index_diff_1  num_L3_S39_mean_index_diff_0  \\\n",
       "0                           -1                             1   \n",
       "1                           -1                             1   \n",
       "2                           -2                             1   \n",
       "3                           -1                             1   \n",
       "4                           -1                             1   \n",
       "\n",
       "   num_L3_S39_mean_index_diff_1  num_L3_S39_var_index_diff_0  \\\n",
       "0                            -1                            1   \n",
       "1                            -1                            1   \n",
       "2                            -1                            1   \n",
       "3                            -1                            1   \n",
       "4                            -1                            1   \n",
       "\n",
       "   num_L3_S39_var_index_diff_1  \n",
       "0                           -1  \n",
       "1                           -1  \n",
       "2                           -1  \n",
       "3                           -1  \n",
       "4                           -1  \n",
       "\n",
       "[5 rows x 881 columns]"
      ]
     },
     "execution_count": 22,
     "metadata": {},
     "output_type": "execute_result"
    }
   ],
   "source": [
    "station_train.head()"
   ]
  }
 ],
 "metadata": {
  "kernelspec": {
   "display_name": "Python 2",
   "language": "python",
   "name": "python2"
  },
  "language_info": {
   "codemirror_mode": {
    "name": "ipython",
    "version": 2
   },
   "file_extension": ".py",
   "mimetype": "text/x-python",
   "name": "python",
   "nbconvert_exporter": "python",
   "pygments_lexer": "ipython2",
   "version": "2.7.6"
  }
 },
 "nbformat": 4,
 "nbformat_minor": 0
}
