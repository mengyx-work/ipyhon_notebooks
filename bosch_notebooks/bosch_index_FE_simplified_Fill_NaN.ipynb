{
 "cells": [
  {
   "cell_type": "code",
   "execution_count": null,
   "metadata": {
    "collapsed": true
   },
   "outputs": [],
   "source": []
  },
  {
   "cell_type": "code",
   "execution_count": 46,
   "metadata": {
    "collapsed": false
   },
   "outputs": [],
   "source": [
    "import os, sys, time, random\n",
    "import pandas as pd\n",
    "import numpy as np\n",
    "from os.path import join\n",
    "import matplotlib.pyplot as plt\n",
    "\n",
    "from sklearn.linear_model import LogisticRegression\n",
    "from sklearn.ensemble import RandomForestClassifier, ExtraTreesClassifier\n",
    "from sklearn import preprocessing\n",
    "from sklearn.cross_validation import StratifiedKFold\n",
    "\n",
    "sys.path.append('/home/ymm/kaggle/xgboost_hyperopt')\n",
    "import utils.bosch_functions as bosch_functions\n",
    "from utils.wrapped_xgboost import xgboost_classifier\n",
    "from utils.validation_tools import score_MCC, MCC, create_validation_index\n",
    "from utils.models import CombinedModel\n",
    "from utils.data_munge import remove_single_value_columns\n",
    "from utils.feature_engineering import NumericalFeatureEngineering, getRelativeTimeColumns, BasicDate_FeatureEngineering\n",
    "from utils.feature_engineering import getTimeChangeColumns, getTimeSteps, build_IndexFeatures, build_sortedData_indexDiff\n",
    "from utils.feature_engineering import BasicCat_FeatureEngineering, encode_categorical_by_dep_var\n",
    "\n",
    "\n",
    "data_path = '/home/ymm/bosch/'\n",
    "\n",
    "train_num_file   = 'train_numeric.csv'\n",
    "train_cat_file   = 'train_categorical.csv'\n",
    "train_date_file  = 'train_date.csv'\n",
    "test_num_file    = 'test_numeric.csv'\n",
    "test_cat_file    = 'test_categorical.csv'\n",
    "test_date_file   = 'test_date.csv'\n",
    "\n",
    "sample_submission_file   = 'sample_submission.csv'\n",
    "\n",
    "start_time_column_name = 'L0_S0_D1'\n",
    "id_column_name = 'Id'\n",
    "dep_var_name = 'Response'"
   ]
  },
  {
   "cell_type": "code",
   "execution_count": 47,
   "metadata": {
    "collapsed": false
   },
   "outputs": [],
   "source": [
    "tot_row_num = 1183747\n",
    "num_rows = 100000\n",
    "skip = sorted(random.sample(xrange(1,tot_row_num + 1),tot_row_num - num_rows))"
   ]
  },
  {
   "cell_type": "code",
   "execution_count": 48,
   "metadata": {
    "collapsed": false
   },
   "outputs": [
    {
     "name": "stdout",
     "output_type": "stream",
     "text": [
      "finish loading date using 74.0 seconds\n"
     ]
    }
   ],
   "source": [
    "#'''\n",
    "start_time = time.time()\n",
    "## randomly select certain rows\n",
    "train_num = pd.read_csv(join(data_path, train_num_file),    index_col='Id', skiprows=skip, nrows=num_rows)\n",
    "train_dat = pd.read_csv(join(data_path, train_date_file),   index_col='Id', skiprows=skip, nrows=num_rows)\n",
    "train_cat = pd.read_csv(join(data_path, train_cat_file),    index_col='Id', skiprows=skip, nrows=num_rows)\n",
    "\n",
    "test_num = pd.read_csv(join(data_path, test_num_file),      index_col='Id', nrows=num_rows)\n",
    "test_dat = pd.read_csv(join(data_path, test_date_file),     index_col='Id', nrows=num_rows)\n",
    "test_cat = pd.read_csv(join(data_path, test_cat_file),      index_col='Id', nrows=num_rows)\n",
    "\n",
    "print 'finish loading date using {} seconds'.format(round(time.time() - start_time, 0))\n",
    "#'''"
   ]
  },
  {
   "cell_type": "code",
   "execution_count": 49,
   "metadata": {
    "collapsed": false,
    "scrolled": true
   },
   "outputs": [
    {
     "name": "stdout",
     "output_type": "stream",
     "text": [
      "raw train data dimension:  (50000, 969)\n",
      "raw test data dimension:  (50000, 968)\n",
      "processed train data dimension:  (50000, 969)\n",
      "processed test data dimension:  (50000, 968)\n",
      "raw train data dimension:  (50000, 1156)\n",
      "raw test data dimension:  (50000, 1156)\n",
      "processed train data dimension:  (50000, 1146)\n",
      "processed test data dimension:  (50000, 1146)\n",
      "raw train data dimension:  (50000, 2140)\n",
      "raw test data dimension:  (50000, 2140)\n",
      "processed train data dimension:  (50000, 1307)\n",
      "processed test data dimension:  (50000, 1307)\n"
     ]
    }
   ],
   "source": [
    "remove_single_value_columns(train_num, 'Response', test=test_num)\n",
    "remove_single_value_columns(train_dat, test=test_dat)\n",
    "remove_single_value_columns(train_cat, test=test_cat)"
   ]
  },
  {
   "cell_type": "code",
   "execution_count": 50,
   "metadata": {
    "collapsed": true
   },
   "outputs": [],
   "source": [
    "dat_columns = train_dat.columns.tolist()\n",
    "num_columns = train_num.columns.tolist()\n",
    "num_columns.remove(dep_var_name)\n",
    "\n",
    "def build_column_dict(columns):\n",
    "    station_dict = {}\n",
    "    line_dict = {}\n",
    "    for col in columns:\n",
    "        stationList = col.split('_')[0:2]\n",
    "        stationKey = ('_').join(stationList)\n",
    "        lineKey = col.split('_')[0]\n",
    "        \n",
    "        if lineKey not in line_dict:\n",
    "            line_dict[lineKey] = [col]\n",
    "        else:\n",
    "            line_dict[lineKey].append(col)\n",
    "                    \n",
    "        if stationKey not in station_dict:\n",
    "            station_dict[stationKey] = [col]\n",
    "        else:\n",
    "            station_dict[stationKey].append(col)\n",
    "            \n",
    "    return station_dict, line_dict\n",
    "\n",
    "\n",
    "def build_station_features(df, col_dict, prefix='dat'):\n",
    "    features = pd.DataFrame()\n",
    "    for key, value in col_dict.items():\n",
    "        features['{}_{}_{}'.format(prefix, key, 'mean')] = df[value].mean(axis=1)\n",
    "        features['{}_{}_{}'.format(prefix, key, 'max')] = df[value].max(axis=1)\n",
    "        features['{}_{}_{}'.format(prefix, key, 'min')] = df[value].min(axis=1)\n",
    "        features['{}_{}_{}'.format(prefix, key, 'var')] = df[value].var(axis=1)\n",
    "    return features\n",
    "\n",
    "\n",
    "def build_station_index_features(train, test = None):\n",
    "    selected_columns = []\n",
    "    for col in train.columns:\n",
    "        if 'mean' in col or 'var' in col:\n",
    "            selected_columns.append(col)\n",
    "            \n",
    "    if test is not None:\n",
    "        train_test = pd.concat([train[selected_columns], test[selected_columns]], axis=0)\n",
    "    else:\n",
    "        train_test = train[selected_columns]\n",
    "        \n",
    "    train_test['index'] = train_test.index\n",
    "    new_fea = pd.DataFrame()\n",
    "    ## function to build index based on the given columns\n",
    "    build_sortedData_indexDiff(train_test, new_fea, selected_columns)\n",
    "    \n",
    "    return new_fea\n",
    "\n",
    "\n",
    "dat_col_dict, dat_line_dict = build_column_dict(dat_columns)\n",
    "num_col_dict, num_line_dict = build_column_dict(num_columns)\n",
    "\n",
    "dat_col_dict.update(dat_line_dict)\n",
    "num_col_dict.update(num_line_dict)"
   ]
  },
  {
   "cell_type": "code",
   "execution_count": 51,
   "metadata": {
    "collapsed": false
   },
   "outputs": [
    {
     "name": "stdout",
     "output_type": "stream",
     "text": [
      "finish feature engineering date station using 0.91 minutes\n"
     ]
    }
   ],
   "source": [
    "start_time = time.time()\n",
    "\n",
    "train_dat_stations = build_station_features(train_dat, dat_col_dict, 'dat')\n",
    "test_dat_stations = build_station_features(test_dat, dat_col_dict, 'dat')\n",
    "\n",
    "train_num_stations = build_station_features(train_num, num_col_dict, 'num')\n",
    "test_num_stations = build_station_features(test_num, num_col_dict, 'num')\n",
    "\n",
    "num_station_index = build_station_index_features(train_num_stations, test_num_stations)\n",
    "dat_station_index = build_station_index_features(train_dat_stations, test_dat_stations)\n",
    "\n",
    "print 'finish feature engineering date station using {} minutes'.format(round((time.time() - start_time)/60, 2))"
   ]
  },
  {
   "cell_type": "code",
   "execution_count": 52,
   "metadata": {
    "collapsed": true
   },
   "outputs": [],
   "source": [
    "combined_train_station_num = pd.concat([train_num_stations, num_station_index.ix[train_num_stations.index]], axis=1)\n",
    "combined_train_station_dat = pd.concat([train_dat_stations, dat_station_index.ix[train_dat_stations.index]], axis=1)\n",
    "\n",
    "combined_test_station_num = pd.concat([test_num_stations, num_station_index.ix[test_num_stations.index]], axis=1)\n",
    "combined_test_station_dat = pd.concat([test_dat_stations, dat_station_index.ix[test_num_stations.index]], axis=1)"
   ]
  },
  {
   "cell_type": "code",
   "execution_count": 53,
   "metadata": {
    "collapsed": false
   },
   "outputs": [
    {
     "name": "stdout",
     "output_type": "stream",
     "text": [
      "7912227 7912227\n"
     ]
    }
   ],
   "source": [
    "print combined_train_station_num.isnull().sum().sum(), combined_train_station_dat.isnull().sum().sum() "
   ]
  },
  {
   "cell_type": "code",
   "execution_count": 54,
   "metadata": {
    "collapsed": false
   },
   "outputs": [
    {
     "name": "stdout",
     "output_type": "stream",
     "text": [
      "7908313 7908313\n"
     ]
    }
   ],
   "source": [
    "print combined_test_station_num.isnull().sum().sum(), combined_test_station_dat.isnull().sum().sum() "
   ]
  },
  {
   "cell_type": "code",
   "execution_count": 55,
   "metadata": {
    "collapsed": false
   },
   "outputs": [
    {
     "name": "stdout",
     "output_type": "stream",
     "text": [
      "raw train data dimension:  (50000, 432)\n",
      "raw test data dimension:  (50000, 432)\n",
      "processed train data dimension:  (50000, 431)\n",
      "processed test data dimension:  (50000, 431)\n",
      "raw train data dimension:  (50000, 432)\n",
      "raw test data dimension:  (50000, 432)\n",
      "processed train data dimension:  (50000, 431)\n",
      "processed test data dimension:  (50000, 431)\n"
     ]
    }
   ],
   "source": [
    "remove_single_value_columns(combined_train_station_num, test=combined_test_station_num)\n",
    "remove_single_value_columns(combined_train_station_dat, test=combined_test_station_dat)"
   ]
  },
  {
   "cell_type": "code",
   "execution_count": 56,
   "metadata": {
    "collapsed": true
   },
   "outputs": [],
   "source": [
    "station_fillna_value = 9999999\n",
    "combined_train_station_num.fillna(station_fillna_value, inplace=True)\n",
    "combined_test_station_num.fillna(station_fillna_value, inplace=True)\n",
    "combined_train_station_dat.fillna(station_fillna_value, inplace=True)\n",
    "combined_test_station_dat.fillna(station_fillna_value, inplace=True)"
   ]
  },
  {
   "cell_type": "code",
   "execution_count": 57,
   "metadata": {
    "collapsed": false,
    "scrolled": true
   },
   "outputs": [
    {
     "data": {
      "text/html": [
       "<div>\n",
       "<table border=\"1\" class=\"dataframe\">\n",
       "  <thead>\n",
       "    <tr style=\"text-align: right;\">\n",
       "      <th></th>\n",
       "      <th>num_L2_S28_mean</th>\n",
       "      <th>num_L2_S28_max</th>\n",
       "      <th>num_L2_S28_min</th>\n",
       "      <th>num_L2_S28_var</th>\n",
       "      <th>num_L3_S31_mean</th>\n",
       "      <th>num_L3_S31_max</th>\n",
       "      <th>num_L3_S31_min</th>\n",
       "      <th>num_L3_S31_var</th>\n",
       "      <th>num_L2_S26_mean</th>\n",
       "      <th>num_L2_S26_max</th>\n",
       "      <th>...</th>\n",
       "      <th>num_L1_S25_var_index_diff_0</th>\n",
       "      <th>num_L1_S25_var_index_diff_1</th>\n",
       "      <th>num_L1_S24_mean_index_diff_0</th>\n",
       "      <th>num_L1_S24_mean_index_diff_1</th>\n",
       "      <th>num_L1_S24_var_index_diff_0</th>\n",
       "      <th>num_L1_S24_var_index_diff_1</th>\n",
       "      <th>num_L3_S39_mean_index_diff_0</th>\n",
       "      <th>num_L3_S39_mean_index_diff_1</th>\n",
       "      <th>num_L3_S39_var_index_diff_0</th>\n",
       "      <th>num_L3_S39_var_index_diff_1</th>\n",
       "    </tr>\n",
       "    <tr>\n",
       "      <th>Id</th>\n",
       "      <th></th>\n",
       "      <th></th>\n",
       "      <th></th>\n",
       "      <th></th>\n",
       "      <th></th>\n",
       "      <th></th>\n",
       "      <th></th>\n",
       "      <th></th>\n",
       "      <th></th>\n",
       "      <th></th>\n",
       "      <th></th>\n",
       "      <th></th>\n",
       "      <th></th>\n",
       "      <th></th>\n",
       "      <th></th>\n",
       "      <th></th>\n",
       "      <th></th>\n",
       "      <th></th>\n",
       "      <th></th>\n",
       "      <th></th>\n",
       "      <th></th>\n",
       "    </tr>\n",
       "  </thead>\n",
       "  <tbody>\n",
       "    <tr>\n",
       "      <th>34</th>\n",
       "      <td>9999999.0</td>\n",
       "      <td>9999999.0</td>\n",
       "      <td>9999999.0</td>\n",
       "      <td>9999999.0</td>\n",
       "      <td>9999999.0</td>\n",
       "      <td>9999999.0</td>\n",
       "      <td>9999999.0</td>\n",
       "      <td>9999999.0</td>\n",
       "      <td>9999999.0</td>\n",
       "      <td>9999999.0</td>\n",
       "      <td>...</td>\n",
       "      <td>1</td>\n",
       "      <td>-1</td>\n",
       "      <td>1</td>\n",
       "      <td>-1</td>\n",
       "      <td>1</td>\n",
       "      <td>-1</td>\n",
       "      <td>1</td>\n",
       "      <td>-1</td>\n",
       "      <td>1</td>\n",
       "      <td>-1</td>\n",
       "    </tr>\n",
       "    <tr>\n",
       "      <th>79</th>\n",
       "      <td>9999999.0</td>\n",
       "      <td>9999999.0</td>\n",
       "      <td>9999999.0</td>\n",
       "      <td>9999999.0</td>\n",
       "      <td>9999999.0</td>\n",
       "      <td>9999999.0</td>\n",
       "      <td>9999999.0</td>\n",
       "      <td>9999999.0</td>\n",
       "      <td>9999999.0</td>\n",
       "      <td>9999999.0</td>\n",
       "      <td>...</td>\n",
       "      <td>2</td>\n",
       "      <td>-4</td>\n",
       "      <td>2</td>\n",
       "      <td>-1</td>\n",
       "      <td>2</td>\n",
       "      <td>-1</td>\n",
       "      <td>2</td>\n",
       "      <td>-1</td>\n",
       "      <td>2</td>\n",
       "      <td>-1</td>\n",
       "    </tr>\n",
       "    <tr>\n",
       "      <th>93</th>\n",
       "      <td>9999999.0</td>\n",
       "      <td>9999999.0</td>\n",
       "      <td>9999999.0</td>\n",
       "      <td>9999999.0</td>\n",
       "      <td>9999999.0</td>\n",
       "      <td>9999999.0</td>\n",
       "      <td>9999999.0</td>\n",
       "      <td>9999999.0</td>\n",
       "      <td>9999999.0</td>\n",
       "      <td>9999999.0</td>\n",
       "      <td>...</td>\n",
       "      <td>3</td>\n",
       "      <td>-1</td>\n",
       "      <td>3</td>\n",
       "      <td>-1</td>\n",
       "      <td>3</td>\n",
       "      <td>-1</td>\n",
       "      <td>3</td>\n",
       "      <td>-1</td>\n",
       "      <td>3</td>\n",
       "      <td>-1</td>\n",
       "    </tr>\n",
       "    <tr>\n",
       "      <th>126</th>\n",
       "      <td>9999999.0</td>\n",
       "      <td>9999999.0</td>\n",
       "      <td>9999999.0</td>\n",
       "      <td>9999999.0</td>\n",
       "      <td>9999999.0</td>\n",
       "      <td>9999999.0</td>\n",
       "      <td>9999999.0</td>\n",
       "      <td>9999999.0</td>\n",
       "      <td>9999999.0</td>\n",
       "      <td>9999999.0</td>\n",
       "      <td>...</td>\n",
       "      <td>7</td>\n",
       "      <td>-2</td>\n",
       "      <td>5</td>\n",
       "      <td>-2</td>\n",
       "      <td>5</td>\n",
       "      <td>-2</td>\n",
       "      <td>5</td>\n",
       "      <td>-2</td>\n",
       "      <td>5</td>\n",
       "      <td>-2</td>\n",
       "    </tr>\n",
       "    <tr>\n",
       "      <th>201</th>\n",
       "      <td>9999999.0</td>\n",
       "      <td>9999999.0</td>\n",
       "      <td>9999999.0</td>\n",
       "      <td>9999999.0</td>\n",
       "      <td>9999999.0</td>\n",
       "      <td>9999999.0</td>\n",
       "      <td>9999999.0</td>\n",
       "      <td>9999999.0</td>\n",
       "      <td>9999999.0</td>\n",
       "      <td>9999999.0</td>\n",
       "      <td>...</td>\n",
       "      <td>2</td>\n",
       "      <td>-1</td>\n",
       "      <td>2</td>\n",
       "      <td>-1</td>\n",
       "      <td>2</td>\n",
       "      <td>-1</td>\n",
       "      <td>2</td>\n",
       "      <td>-1</td>\n",
       "      <td>2</td>\n",
       "      <td>-1</td>\n",
       "    </tr>\n",
       "  </tbody>\n",
       "</table>\n",
       "<p>5 rows × 431 columns</p>\n",
       "</div>"
      ],
      "text/plain": [
       "     num_L2_S28_mean  num_L2_S28_max  num_L2_S28_min  num_L2_S28_var  \\\n",
       "Id                                                                     \n",
       "34         9999999.0       9999999.0       9999999.0       9999999.0   \n",
       "79         9999999.0       9999999.0       9999999.0       9999999.0   \n",
       "93         9999999.0       9999999.0       9999999.0       9999999.0   \n",
       "126        9999999.0       9999999.0       9999999.0       9999999.0   \n",
       "201        9999999.0       9999999.0       9999999.0       9999999.0   \n",
       "\n",
       "     num_L3_S31_mean  num_L3_S31_max  num_L3_S31_min  num_L3_S31_var  \\\n",
       "Id                                                                     \n",
       "34         9999999.0       9999999.0       9999999.0       9999999.0   \n",
       "79         9999999.0       9999999.0       9999999.0       9999999.0   \n",
       "93         9999999.0       9999999.0       9999999.0       9999999.0   \n",
       "126        9999999.0       9999999.0       9999999.0       9999999.0   \n",
       "201        9999999.0       9999999.0       9999999.0       9999999.0   \n",
       "\n",
       "     num_L2_S26_mean  num_L2_S26_max             ...               \\\n",
       "Id                                               ...                \n",
       "34         9999999.0       9999999.0             ...                \n",
       "79         9999999.0       9999999.0             ...                \n",
       "93         9999999.0       9999999.0             ...                \n",
       "126        9999999.0       9999999.0             ...                \n",
       "201        9999999.0       9999999.0             ...                \n",
       "\n",
       "     num_L1_S25_var_index_diff_0  num_L1_S25_var_index_diff_1  \\\n",
       "Id                                                              \n",
       "34                             1                           -1   \n",
       "79                             2                           -4   \n",
       "93                             3                           -1   \n",
       "126                            7                           -2   \n",
       "201                            2                           -1   \n",
       "\n",
       "     num_L1_S24_mean_index_diff_0  num_L1_S24_mean_index_diff_1  \\\n",
       "Id                                                                \n",
       "34                              1                            -1   \n",
       "79                              2                            -1   \n",
       "93                              3                            -1   \n",
       "126                             5                            -2   \n",
       "201                             2                            -1   \n",
       "\n",
       "     num_L1_S24_var_index_diff_0  num_L1_S24_var_index_diff_1  \\\n",
       "Id                                                              \n",
       "34                             1                           -1   \n",
       "79                             2                           -1   \n",
       "93                             3                           -1   \n",
       "126                            5                           -2   \n",
       "201                            2                           -1   \n",
       "\n",
       "     num_L3_S39_mean_index_diff_0  num_L3_S39_mean_index_diff_1  \\\n",
       "Id                                                                \n",
       "34                              1                            -1   \n",
       "79                              2                            -1   \n",
       "93                              3                            -1   \n",
       "126                             5                            -2   \n",
       "201                             2                            -1   \n",
       "\n",
       "     num_L3_S39_var_index_diff_0  num_L3_S39_var_index_diff_1  \n",
       "Id                                                             \n",
       "34                             1                           -1  \n",
       "79                             2                           -1  \n",
       "93                             3                           -1  \n",
       "126                            5                           -2  \n",
       "201                            2                           -1  \n",
       "\n",
       "[5 rows x 431 columns]"
      ]
     },
     "execution_count": 57,
     "metadata": {},
     "output_type": "execute_result"
    }
   ],
   "source": [
    "combined_train_station_num.head()"
   ]
  },
  {
   "cell_type": "code",
   "execution_count": 58,
   "metadata": {
    "collapsed": false
   },
   "outputs": [
    {
     "name": "stdout",
     "output_type": "stream",
     "text": [
      "0 0\n"
     ]
    }
   ],
   "source": [
    "print combined_train_station_num.isnull().sum().sum(), combined_train_station_dat.isnull().sum().sum()"
   ]
  },
  {
   "cell_type": "code",
   "execution_count": null,
   "metadata": {
    "collapsed": true
   },
   "outputs": [],
   "source": []
  },
  {
   "cell_type": "code",
   "execution_count": null,
   "metadata": {
    "collapsed": true
   },
   "outputs": [],
   "source": []
  },
  {
   "cell_type": "markdown",
   "metadata": {},
   "source": [
    "#### build categorical features"
   ]
  },
  {
   "cell_type": "code",
   "execution_count": 59,
   "metadata": {
    "collapsed": false
   },
   "outputs": [
    {
     "data": {
      "text/plain": [
       "\"\\ndef BasicCat_FeatureEngineering(train_cat):\\n    ## feature engineering on the date features\\n    encoder = preprocessing.LabelEncoder()\\n    column_names = train_cat.columns.tolist()\\n    column_names.append('NaN')\\n    encoder.fit(column_names)\\n    dat_new_fea = pd.DataFrame()\\n    dat_new_fea['cat_sum'] = train_cat.sum(axis=1)\\n    dat_new_fea['cat_mean'] = train_cat.mean(axis=1)\\n    dat_new_fea['cat_nan_count'] = train_cat.isnull().sum(axis=1)\\n    dat_new_fea['cat_max'] = train_cat.max(axis=1)\\n    dat_new_fea['cat_min'] = train_cat.min(axis=1)\\n    dat_new_fea['cat_max_min_diff'] = dat_new_fea['cat_max'] - dat_new_fea['cat_min']\\n    dat_new_fea['cat_max_min_ratio'] = dat_new_fea['cat_min'] / dat_new_fea['cat_max']\\n\\n    dat_new_fea['cat_idxmax'] = train_cat.idxmax(axis=1)\\n    dat_new_fea['cat_idxmax'].fillna('NaN', inplace=True)\\n    dat_new_fea['cat_idxmax'] = encoder.transform(dat_new_fea['cat_idxmax'])\\n    dat_new_fea['cat_idxmin'] = train_cat.idxmin(axis=1)\\n    dat_new_fea['cat_idxmin'].fillna('NaN', inplace=True)\\n    dat_new_fea['cat_idxmin'] = encoder.transform(dat_new_fea['cat_idxmin'])\\n    return dat_new_fea\\n\\n\\n\\ndef encode_categorical_by_dep_var(train, test, dep_var_column='Response'):\\n    for col_name in train.columns:\\n        if col_name == dep_var_column:\\n            continue\\n        \\n        train[col_name] = train[col_name].astype(str)\\n        test[col_name] = test[col_name].astype(str)\\n        dep_var_mean = train[[col_name, dep_var_column]].groupby(col_name).mean()\\n    \\n        dep_var_dict = {}\\n        for level in dep_var_mean.index.tolist():\\n            dep_var_dict[level] = dep_var_mean.ix[level, dep_var_column]\\n    \\n        train[col_name] = train[col_name].replace(dep_var_dict)  \\n        test[col_name] = test[col_name].replace(dep_var_dict)\\n\""
      ]
     },
     "execution_count": 59,
     "metadata": {},
     "output_type": "execute_result"
    }
   ],
   "source": [
    "'''\n",
    "def BasicCat_FeatureEngineering(train_cat):\n",
    "    ## feature engineering on the date features\n",
    "    encoder = preprocessing.LabelEncoder()\n",
    "    column_names = train_cat.columns.tolist()\n",
    "    column_names.append('NaN')\n",
    "    encoder.fit(column_names)\n",
    "    dat_new_fea = pd.DataFrame()\n",
    "    dat_new_fea['cat_sum'] = train_cat.sum(axis=1)\n",
    "    dat_new_fea['cat_mean'] = train_cat.mean(axis=1)\n",
    "    dat_new_fea['cat_nan_count'] = train_cat.isnull().sum(axis=1)\n",
    "    dat_new_fea['cat_max'] = train_cat.max(axis=1)\n",
    "    dat_new_fea['cat_min'] = train_cat.min(axis=1)\n",
    "    dat_new_fea['cat_max_min_diff'] = dat_new_fea['cat_max'] - dat_new_fea['cat_min']\n",
    "    dat_new_fea['cat_max_min_ratio'] = dat_new_fea['cat_min'] / dat_new_fea['cat_max']\n",
    "\n",
    "    dat_new_fea['cat_idxmax'] = train_cat.idxmax(axis=1)\n",
    "    dat_new_fea['cat_idxmax'].fillna('NaN', inplace=True)\n",
    "    dat_new_fea['cat_idxmax'] = encoder.transform(dat_new_fea['cat_idxmax'])\n",
    "    dat_new_fea['cat_idxmin'] = train_cat.idxmin(axis=1)\n",
    "    dat_new_fea['cat_idxmin'].fillna('NaN', inplace=True)\n",
    "    dat_new_fea['cat_idxmin'] = encoder.transform(dat_new_fea['cat_idxmin'])\n",
    "    return dat_new_fea\n",
    "\n",
    "\n",
    "\n",
    "def encode_categorical_by_dep_var(train, test, dep_var_column='Response'):\n",
    "    for col_name in train.columns:\n",
    "        if col_name == dep_var_column:\n",
    "            continue\n",
    "        \n",
    "        train[col_name] = train[col_name].astype(str)\n",
    "        test[col_name] = test[col_name].astype(str)\n",
    "        dep_var_mean = train[[col_name, dep_var_column]].groupby(col_name).mean()\n",
    "    \n",
    "        dep_var_dict = {}\n",
    "        for level in dep_var_mean.index.tolist():\n",
    "            dep_var_dict[level] = dep_var_mean.ix[level, dep_var_column]\n",
    "    \n",
    "        train[col_name] = train[col_name].replace(dep_var_dict)  \n",
    "        test[col_name] = test[col_name].replace(dep_var_dict)\n",
    "'''"
   ]
  },
  {
   "cell_type": "code",
   "execution_count": null,
   "metadata": {
    "collapsed": true
   },
   "outputs": [],
   "source": []
  },
  {
   "cell_type": "code",
   "execution_count": 60,
   "metadata": {
    "collapsed": false
   },
   "outputs": [
    {
     "name": "stdout",
     "output_type": "stream",
     "text": [
      "finish encoding categorical features using 8.0 seconds\n",
      "finish generating all categorical features using 22.0 seconds\n"
     ]
    }
   ],
   "source": [
    "start_time = time.time()\n",
    "\n",
    "train_cat['Response'] = train_num['Response']\n",
    "encode_categorical_by_dep_var(train_cat, test_cat, dep_var_column='Response', fill_missing=True)\n",
    "train_cat.drop('Response', axis=1, inplace=True)\n",
    "\n",
    "print 'finish encoding categorical features using {} seconds'.format(round(time.time() - start_time, 0))\n",
    "\n",
    "train_cat_Basics = BasicCat_FeatureEngineering(train_cat)\n",
    "test_cat_Basics  = BasicCat_FeatureEngineering(test_cat)\n",
    "\n",
    "print 'finish generating all categorical features using {} seconds'.format(round(time.time() - start_time, 0))\n"
   ]
  },
  {
   "cell_type": "code",
   "execution_count": 61,
   "metadata": {
    "collapsed": false
   },
   "outputs": [
    {
     "name": "stdout",
     "output_type": "stream",
     "text": [
      "(50000, 1307) (50000, 1307)\n"
     ]
    },
    {
     "data": {
      "text/html": [
       "<div>\n",
       "<table border=\"1\" class=\"dataframe\">\n",
       "  <thead>\n",
       "    <tr style=\"text-align: right;\">\n",
       "      <th></th>\n",
       "      <th>L0_S2_F33</th>\n",
       "      <th>L0_S2_F35</th>\n",
       "      <th>L0_S2_F37</th>\n",
       "      <th>L0_S2_F39</th>\n",
       "      <th>L0_S2_F41</th>\n",
       "      <th>L0_S2_F43</th>\n",
       "      <th>L0_S2_F45</th>\n",
       "      <th>L0_S2_F47</th>\n",
       "      <th>L0_S2_F49</th>\n",
       "      <th>L0_S2_F51</th>\n",
       "      <th>...</th>\n",
       "      <th>L3_S49_F4225</th>\n",
       "      <th>L3_S49_F4227</th>\n",
       "      <th>L3_S49_F4229</th>\n",
       "      <th>L3_S49_F4230</th>\n",
       "      <th>L3_S49_F4232</th>\n",
       "      <th>L3_S49_F4234</th>\n",
       "      <th>L3_S49_F4235</th>\n",
       "      <th>L3_S49_F4237</th>\n",
       "      <th>L3_S49_F4239</th>\n",
       "      <th>L3_S49_F4240</th>\n",
       "    </tr>\n",
       "    <tr>\n",
       "      <th>Id</th>\n",
       "      <th></th>\n",
       "      <th></th>\n",
       "      <th></th>\n",
       "      <th></th>\n",
       "      <th></th>\n",
       "      <th></th>\n",
       "      <th></th>\n",
       "      <th></th>\n",
       "      <th></th>\n",
       "      <th></th>\n",
       "      <th></th>\n",
       "      <th></th>\n",
       "      <th></th>\n",
       "      <th></th>\n",
       "      <th></th>\n",
       "      <th></th>\n",
       "      <th></th>\n",
       "      <th></th>\n",
       "      <th></th>\n",
       "      <th></th>\n",
       "      <th></th>\n",
       "    </tr>\n",
       "  </thead>\n",
       "  <tbody>\n",
       "    <tr>\n",
       "      <th>34</th>\n",
       "      <td>5.962</td>\n",
       "      <td>5.962</td>\n",
       "      <td>5.962</td>\n",
       "      <td>5.962</td>\n",
       "      <td>5.962</td>\n",
       "      <td>5.962</td>\n",
       "      <td>5.962</td>\n",
       "      <td>5.962</td>\n",
       "      <td>5.962</td>\n",
       "      <td>5.962</td>\n",
       "      <td>...</td>\n",
       "      <td>5.96</td>\n",
       "      <td>5.96</td>\n",
       "      <td>5.96</td>\n",
       "      <td>5.96</td>\n",
       "      <td>5.96</td>\n",
       "      <td>5.96</td>\n",
       "      <td>5.96</td>\n",
       "      <td>5.96</td>\n",
       "      <td>5.96</td>\n",
       "      <td>5.96</td>\n",
       "    </tr>\n",
       "    <tr>\n",
       "      <th>79</th>\n",
       "      <td>5.962</td>\n",
       "      <td>5.962</td>\n",
       "      <td>5.962</td>\n",
       "      <td>5.962</td>\n",
       "      <td>5.962</td>\n",
       "      <td>5.962</td>\n",
       "      <td>5.962</td>\n",
       "      <td>5.962</td>\n",
       "      <td>5.962</td>\n",
       "      <td>5.962</td>\n",
       "      <td>...</td>\n",
       "      <td>5.96</td>\n",
       "      <td>5.96</td>\n",
       "      <td>5.96</td>\n",
       "      <td>5.96</td>\n",
       "      <td>5.96</td>\n",
       "      <td>5.96</td>\n",
       "      <td>5.96</td>\n",
       "      <td>5.96</td>\n",
       "      <td>5.96</td>\n",
       "      <td>5.96</td>\n",
       "    </tr>\n",
       "    <tr>\n",
       "      <th>93</th>\n",
       "      <td>5.962</td>\n",
       "      <td>5.962</td>\n",
       "      <td>5.962</td>\n",
       "      <td>5.962</td>\n",
       "      <td>5.962</td>\n",
       "      <td>5.962</td>\n",
       "      <td>5.962</td>\n",
       "      <td>5.962</td>\n",
       "      <td>5.962</td>\n",
       "      <td>5.962</td>\n",
       "      <td>...</td>\n",
       "      <td>5.96</td>\n",
       "      <td>5.96</td>\n",
       "      <td>5.96</td>\n",
       "      <td>5.96</td>\n",
       "      <td>5.96</td>\n",
       "      <td>5.96</td>\n",
       "      <td>5.96</td>\n",
       "      <td>5.96</td>\n",
       "      <td>5.96</td>\n",
       "      <td>5.96</td>\n",
       "    </tr>\n",
       "    <tr>\n",
       "      <th>126</th>\n",
       "      <td>5.962</td>\n",
       "      <td>5.962</td>\n",
       "      <td>5.962</td>\n",
       "      <td>5.962</td>\n",
       "      <td>5.962</td>\n",
       "      <td>5.962</td>\n",
       "      <td>5.962</td>\n",
       "      <td>5.962</td>\n",
       "      <td>5.962</td>\n",
       "      <td>5.962</td>\n",
       "      <td>...</td>\n",
       "      <td>5.96</td>\n",
       "      <td>5.96</td>\n",
       "      <td>5.96</td>\n",
       "      <td>5.96</td>\n",
       "      <td>5.96</td>\n",
       "      <td>5.96</td>\n",
       "      <td>5.96</td>\n",
       "      <td>5.96</td>\n",
       "      <td>5.96</td>\n",
       "      <td>5.96</td>\n",
       "    </tr>\n",
       "    <tr>\n",
       "      <th>201</th>\n",
       "      <td>5.962</td>\n",
       "      <td>5.962</td>\n",
       "      <td>5.962</td>\n",
       "      <td>5.962</td>\n",
       "      <td>5.962</td>\n",
       "      <td>5.962</td>\n",
       "      <td>5.962</td>\n",
       "      <td>5.962</td>\n",
       "      <td>5.962</td>\n",
       "      <td>5.962</td>\n",
       "      <td>...</td>\n",
       "      <td>5.96</td>\n",
       "      <td>5.96</td>\n",
       "      <td>5.96</td>\n",
       "      <td>5.96</td>\n",
       "      <td>5.96</td>\n",
       "      <td>5.96</td>\n",
       "      <td>5.96</td>\n",
       "      <td>5.96</td>\n",
       "      <td>5.96</td>\n",
       "      <td>5.96</td>\n",
       "    </tr>\n",
       "  </tbody>\n",
       "</table>\n",
       "<p>5 rows × 1307 columns</p>\n",
       "</div>"
      ],
      "text/plain": [
       "     L0_S2_F33  L0_S2_F35  L0_S2_F37  L0_S2_F39  L0_S2_F41  L0_S2_F43  \\\n",
       "Id                                                                      \n",
       "34       5.962      5.962      5.962      5.962      5.962      5.962   \n",
       "79       5.962      5.962      5.962      5.962      5.962      5.962   \n",
       "93       5.962      5.962      5.962      5.962      5.962      5.962   \n",
       "126      5.962      5.962      5.962      5.962      5.962      5.962   \n",
       "201      5.962      5.962      5.962      5.962      5.962      5.962   \n",
       "\n",
       "     L0_S2_F45  L0_S2_F47  L0_S2_F49  L0_S2_F51      ...       L3_S49_F4225  \\\n",
       "Id                                                   ...                      \n",
       "34       5.962      5.962      5.962      5.962      ...               5.96   \n",
       "79       5.962      5.962      5.962      5.962      ...               5.96   \n",
       "93       5.962      5.962      5.962      5.962      ...               5.96   \n",
       "126      5.962      5.962      5.962      5.962      ...               5.96   \n",
       "201      5.962      5.962      5.962      5.962      ...               5.96   \n",
       "\n",
       "     L3_S49_F4227  L3_S49_F4229  L3_S49_F4230  L3_S49_F4232  L3_S49_F4234  \\\n",
       "Id                                                                          \n",
       "34           5.96          5.96          5.96          5.96          5.96   \n",
       "79           5.96          5.96          5.96          5.96          5.96   \n",
       "93           5.96          5.96          5.96          5.96          5.96   \n",
       "126          5.96          5.96          5.96          5.96          5.96   \n",
       "201          5.96          5.96          5.96          5.96          5.96   \n",
       "\n",
       "     L3_S49_F4235  L3_S49_F4237  L3_S49_F4239  L3_S49_F4240  \n",
       "Id                                                           \n",
       "34           5.96          5.96          5.96          5.96  \n",
       "79           5.96          5.96          5.96          5.96  \n",
       "93           5.96          5.96          5.96          5.96  \n",
       "126          5.96          5.96          5.96          5.96  \n",
       "201          5.96          5.96          5.96          5.96  \n",
       "\n",
       "[5 rows x 1307 columns]"
      ]
     },
     "execution_count": 61,
     "metadata": {},
     "output_type": "execute_result"
    }
   ],
   "source": [
    "print train_cat.shape, test_cat.shape\n",
    "train_cat.head()"
   ]
  },
  {
   "cell_type": "code",
   "execution_count": 62,
   "metadata": {
    "collapsed": false
   },
   "outputs": [
    {
     "name": "stdout",
     "output_type": "stream",
     "text": [
      "finish feature engineering date using 0.48 seconds\n"
     ]
    }
   ],
   "source": [
    "start_time = time.time()\n",
    "combined_train_cat = pd.concat([train_cat, train_cat_Basics], axis=1)\n",
    "combined_test_cat  = pd.concat([test_cat, test_cat_Basics], axis=1)                                                                                                                                                 \n",
    "print 'finish feature engineering date using {} seconds'.format(round((time.time() - start_time), 2))"
   ]
  },
  {
   "cell_type": "code",
   "execution_count": 63,
   "metadata": {
    "collapsed": false
   },
   "outputs": [
    {
     "name": "stdout",
     "output_type": "stream",
     "text": [
      "0 0\n"
     ]
    }
   ],
   "source": [
    "print combined_train_cat.isnull().sum(axis=0).sum(), combined_test_cat.isnull().sum(axis=0).sum()"
   ]
  },
  {
   "cell_type": "code",
   "execution_count": 64,
   "metadata": {
    "collapsed": false
   },
   "outputs": [
    {
     "data": {
      "text/html": [
       "<div>\n",
       "<table border=\"1\" class=\"dataframe\">\n",
       "  <thead>\n",
       "    <tr style=\"text-align: right;\">\n",
       "      <th></th>\n",
       "      <th>L0_S2_F33</th>\n",
       "      <th>L0_S2_F35</th>\n",
       "      <th>L0_S2_F37</th>\n",
       "      <th>L0_S2_F39</th>\n",
       "      <th>L0_S2_F41</th>\n",
       "      <th>L0_S2_F43</th>\n",
       "      <th>L0_S2_F45</th>\n",
       "      <th>L0_S2_F47</th>\n",
       "      <th>L0_S2_F49</th>\n",
       "      <th>L0_S2_F51</th>\n",
       "      <th>...</th>\n",
       "      <th>L3_S49_F4240</th>\n",
       "      <th>cat_sum</th>\n",
       "      <th>cat_mean</th>\n",
       "      <th>cat_nan_count</th>\n",
       "      <th>cat_max</th>\n",
       "      <th>cat_min</th>\n",
       "      <th>cat_max_min_diff</th>\n",
       "      <th>cat_max_min_ratio</th>\n",
       "      <th>cat_idxmax</th>\n",
       "      <th>cat_idxmin</th>\n",
       "    </tr>\n",
       "    <tr>\n",
       "      <th>Id</th>\n",
       "      <th></th>\n",
       "      <th></th>\n",
       "      <th></th>\n",
       "      <th></th>\n",
       "      <th></th>\n",
       "      <th></th>\n",
       "      <th></th>\n",
       "      <th></th>\n",
       "      <th></th>\n",
       "      <th></th>\n",
       "      <th></th>\n",
       "      <th></th>\n",
       "      <th></th>\n",
       "      <th></th>\n",
       "      <th></th>\n",
       "      <th></th>\n",
       "      <th></th>\n",
       "      <th></th>\n",
       "      <th></th>\n",
       "      <th></th>\n",
       "      <th></th>\n",
       "    </tr>\n",
       "  </thead>\n",
       "  <tbody>\n",
       "    <tr>\n",
       "      <th>1</th>\n",
       "      <td>5.962</td>\n",
       "      <td>5.962</td>\n",
       "      <td>5.962</td>\n",
       "      <td>5.962</td>\n",
       "      <td>5.962</td>\n",
       "      <td>5.962</td>\n",
       "      <td>5.962</td>\n",
       "      <td>5.962</td>\n",
       "      <td>5.962</td>\n",
       "      <td>5.962</td>\n",
       "      <td>...</td>\n",
       "      <td>5.96</td>\n",
       "      <td>7868.758</td>\n",
       "      <td>6.020473</td>\n",
       "      <td>0</td>\n",
       "      <td>9.877</td>\n",
       "      <td>5.034</td>\n",
       "      <td>4.843</td>\n",
       "      <td>0.509669</td>\n",
       "      <td>466</td>\n",
       "      <td>1009</td>\n",
       "    </tr>\n",
       "    <tr>\n",
       "      <th>2</th>\n",
       "      <td>5.962</td>\n",
       "      <td>5.962</td>\n",
       "      <td>5.962</td>\n",
       "      <td>5.962</td>\n",
       "      <td>5.962</td>\n",
       "      <td>5.962</td>\n",
       "      <td>5.962</td>\n",
       "      <td>5.962</td>\n",
       "      <td>5.962</td>\n",
       "      <td>5.962</td>\n",
       "      <td>...</td>\n",
       "      <td>5.96</td>\n",
       "      <td>7639.305</td>\n",
       "      <td>5.844916</td>\n",
       "      <td>0</td>\n",
       "      <td>6.082</td>\n",
       "      <td>1.938</td>\n",
       "      <td>4.144</td>\n",
       "      <td>0.318645</td>\n",
       "      <td>550</td>\n",
       "      <td>512</td>\n",
       "    </tr>\n",
       "    <tr>\n",
       "      <th>3</th>\n",
       "      <td>5.962</td>\n",
       "      <td>5.962</td>\n",
       "      <td>5.962</td>\n",
       "      <td>5.962</td>\n",
       "      <td>5.962</td>\n",
       "      <td>5.962</td>\n",
       "      <td>5.962</td>\n",
       "      <td>5.962</td>\n",
       "      <td>5.962</td>\n",
       "      <td>5.962</td>\n",
       "      <td>...</td>\n",
       "      <td>5.96</td>\n",
       "      <td>7965.554</td>\n",
       "      <td>6.094533</td>\n",
       "      <td>0</td>\n",
       "      <td>10.667</td>\n",
       "      <td>5.133</td>\n",
       "      <td>5.534</td>\n",
       "      <td>0.481204</td>\n",
       "      <td>397</td>\n",
       "      <td>1248</td>\n",
       "    </tr>\n",
       "    <tr>\n",
       "      <th>5</th>\n",
       "      <td>5.962</td>\n",
       "      <td>5.962</td>\n",
       "      <td>5.962</td>\n",
       "      <td>5.962</td>\n",
       "      <td>5.962</td>\n",
       "      <td>5.962</td>\n",
       "      <td>5.962</td>\n",
       "      <td>5.962</td>\n",
       "      <td>5.962</td>\n",
       "      <td>5.962</td>\n",
       "      <td>...</td>\n",
       "      <td>5.96</td>\n",
       "      <td>7838.734</td>\n",
       "      <td>5.997501</td>\n",
       "      <td>0</td>\n",
       "      <td>8.141</td>\n",
       "      <td>5.133</td>\n",
       "      <td>3.008</td>\n",
       "      <td>0.630512</td>\n",
       "      <td>964</td>\n",
       "      <td>1248</td>\n",
       "    </tr>\n",
       "    <tr>\n",
       "      <th>8</th>\n",
       "      <td>5.962</td>\n",
       "      <td>5.962</td>\n",
       "      <td>5.962</td>\n",
       "      <td>5.962</td>\n",
       "      <td>5.962</td>\n",
       "      <td>5.962</td>\n",
       "      <td>5.962</td>\n",
       "      <td>5.962</td>\n",
       "      <td>5.962</td>\n",
       "      <td>5.962</td>\n",
       "      <td>...</td>\n",
       "      <td>5.96</td>\n",
       "      <td>7938.973</td>\n",
       "      <td>6.074195</td>\n",
       "      <td>0</td>\n",
       "      <td>10.667</td>\n",
       "      <td>5.133</td>\n",
       "      <td>5.534</td>\n",
       "      <td>0.481204</td>\n",
       "      <td>397</td>\n",
       "      <td>1248</td>\n",
       "    </tr>\n",
       "  </tbody>\n",
       "</table>\n",
       "<p>5 rows × 1316 columns</p>\n",
       "</div>"
      ],
      "text/plain": [
       "    L0_S2_F33  L0_S2_F35  L0_S2_F37  L0_S2_F39  L0_S2_F41  L0_S2_F43  \\\n",
       "Id                                                                     \n",
       "1       5.962      5.962      5.962      5.962      5.962      5.962   \n",
       "2       5.962      5.962      5.962      5.962      5.962      5.962   \n",
       "3       5.962      5.962      5.962      5.962      5.962      5.962   \n",
       "5       5.962      5.962      5.962      5.962      5.962      5.962   \n",
       "8       5.962      5.962      5.962      5.962      5.962      5.962   \n",
       "\n",
       "    L0_S2_F45  L0_S2_F47  L0_S2_F49  L0_S2_F51     ...      L3_S49_F4240  \\\n",
       "Id                                                 ...                     \n",
       "1       5.962      5.962      5.962      5.962     ...              5.96   \n",
       "2       5.962      5.962      5.962      5.962     ...              5.96   \n",
       "3       5.962      5.962      5.962      5.962     ...              5.96   \n",
       "5       5.962      5.962      5.962      5.962     ...              5.96   \n",
       "8       5.962      5.962      5.962      5.962     ...              5.96   \n",
       "\n",
       "     cat_sum  cat_mean  cat_nan_count  cat_max  cat_min  cat_max_min_diff  \\\n",
       "Id                                                                          \n",
       "1   7868.758  6.020473              0    9.877    5.034             4.843   \n",
       "2   7639.305  5.844916              0    6.082    1.938             4.144   \n",
       "3   7965.554  6.094533              0   10.667    5.133             5.534   \n",
       "5   7838.734  5.997501              0    8.141    5.133             3.008   \n",
       "8   7938.973  6.074195              0   10.667    5.133             5.534   \n",
       "\n",
       "    cat_max_min_ratio  cat_idxmax  cat_idxmin  \n",
       "Id                                             \n",
       "1            0.509669         466        1009  \n",
       "2            0.318645         550         512  \n",
       "3            0.481204         397        1248  \n",
       "5            0.630512         964        1248  \n",
       "8            0.481204         397        1248  \n",
       "\n",
       "[5 rows x 1316 columns]"
      ]
     },
     "execution_count": 64,
     "metadata": {},
     "output_type": "execute_result"
    }
   ],
   "source": [
    "combined_test_cat.head()"
   ]
  },
  {
   "cell_type": "code",
   "execution_count": 65,
   "metadata": {
    "collapsed": false
   },
   "outputs": [
    {
     "data": {
      "text/plain": [
       "0"
      ]
     },
     "execution_count": 65,
     "metadata": {},
     "output_type": "execute_result"
    }
   ],
   "source": [
    "combined_test_cat.isnull().sum().sum()"
   ]
  },
  {
   "cell_type": "code",
   "execution_count": null,
   "metadata": {
    "collapsed": true
   },
   "outputs": [],
   "source": []
  },
  {
   "cell_type": "code",
   "execution_count": 66,
   "metadata": {
    "collapsed": false
   },
   "outputs": [
    {
     "name": "stdout",
     "output_type": "stream",
     "text": [
      "finish feature engineering numercical using 13.37 seconds\n",
      "combined train numerical feature shape: (50000, 978), combined test numerical features shape: (50000, 977)\n"
     ]
    }
   ],
   "source": [
    "start_time = time.time()\n",
    "\n",
    "#### numerical feature engineering work\n",
    "train_num_Basics = NumericalFeatureEngineering(train_num)\n",
    "test_num_Basics = NumericalFeatureEngineering(test_num)\n",
    "\n",
    "missing_value= -1.5\n",
    "train_num_Basics.fillna(missing_value, inplace=True)\n",
    "test_num_Basics.fillna(missing_value, inplace=True)\n",
    "\n",
    "train_num.fillna(missing_value, inplace=True)\n",
    "test_num.fillna(missing_value, inplace=True)\n",
    "\n",
    "combined_train_num = pd.concat([train_num, train_num_Basics], axis=1)\n",
    "combined_test_num  = pd.concat([test_num, test_num_Basics], axis=1)\n",
    "print 'finish feature engineering numercical using {} seconds'.format(round((time.time() - start_time), 2))\n",
    "print 'combined train numerical feature shape: {}, combined test numerical features shape: {}'.format(combined_train_num.shape, combined_test_num.shape)"
   ]
  },
  {
   "cell_type": "code",
   "execution_count": 67,
   "metadata": {
    "collapsed": false
   },
   "outputs": [
    {
     "name": "stdout",
     "output_type": "stream",
     "text": [
      "0 0\n"
     ]
    }
   ],
   "source": [
    "print combined_train_num.isnull().sum().sum(), combined_test_num.isnull().sum().sum()"
   ]
  },
  {
   "cell_type": "markdown",
   "metadata": {
    "collapsed": true
   },
   "source": [
    "### section of date features"
   ]
  },
  {
   "cell_type": "code",
   "execution_count": 68,
   "metadata": {
    "collapsed": true
   },
   "outputs": [],
   "source": [
    "\n",
    "## basic features from tmp_train_dat\n",
    "train_dat_Basics = BasicDate_FeatureEngineering(train_dat)\n",
    "test_dat_Basics  = BasicDate_FeatureEngineering(test_dat)"
   ]
  },
  {
   "cell_type": "code",
   "execution_count": 69,
   "metadata": {
    "collapsed": false
   },
   "outputs": [
    {
     "name": "stdout",
     "output_type": "stream",
     "text": [
      "raw train data dimension:  (50000, 1146)\n",
      "raw test data dimension:  (50000, 1146)\n",
      "processed train data dimension:  (50000, 960)\n",
      "processed test data dimension:  (50000, 960)\n"
     ]
    }
   ],
   "source": [
    "## normalized date columns\n",
    "train_dat_Norm = train_dat.apply(getRelativeTimeColumns, axis=1)\n",
    "test_dat_Norm  = test_dat.apply(getRelativeTimeColumns, axis=1)\n",
    "## remove single-valued columns\n",
    "remove_single_value_columns(train_dat_Norm, test=test_dat_Norm)"
   ]
  },
  {
   "cell_type": "code",
   "execution_count": 70,
   "metadata": {
    "collapsed": false
   },
   "outputs": [
    {
     "data": {
      "text/plain": [
       "LabelEncoder()"
      ]
     },
     "execution_count": 70,
     "metadata": {},
     "output_type": "execute_result"
    }
   ],
   "source": [
    "encoder = preprocessing.LabelEncoder()\n",
    "column_names = train_dat.columns.tolist()\n",
    "column_names.append('NaN')\n",
    "encoder.fit(column_names)"
   ]
  },
  {
   "cell_type": "code",
   "execution_count": 71,
   "metadata": {
    "collapsed": true
   },
   "outputs": [],
   "source": [
    "## TimeDiff features\n",
    "train_dat_TimeDiff = train_dat.apply(getTimeChangeColumns, axis=1)\n",
    "test_dat_TimeDiff  = test_dat.apply(getTimeChangeColumns, axis=1)\n",
    "TimeDiff_ColumnNames = ['time_diff_start_col', 'time_diff_end_col', 'time_diff_value',\n",
    "                        'time_ratio_value', 'first_time_value', 'last_time_value', 'first_date_value']\n",
    "\n",
    "train_dat_TimeDiff.columns = TimeDiff_ColumnNames\n",
    "test_dat_TimeDiff.columns = TimeDiff_ColumnNames\n",
    "\n",
    "for column in ['time_diff_start_col', 'time_diff_end_col']:\n",
    "    train_dat_TimeDiff[column].fillna('NaN', inplace=True)\n",
    "    train_dat_TimeDiff[column] = encoder.transform(train_dat_TimeDiff[column])\n",
    "    \n",
    "    test_dat_TimeDiff[column].fillna('NaN', inplace=True)\n",
    "    test_dat_TimeDiff[column] = encoder.transform(test_dat_TimeDiff[column])\n"
   ]
  },
  {
   "cell_type": "code",
   "execution_count": 72,
   "metadata": {
    "collapsed": false
   },
   "outputs": [
    {
     "name": "stdout",
     "output_type": "stream",
     "text": [
      "finish generating TimeStep features using 11.0 minutes\n"
     ]
    }
   ],
   "source": [
    "start_time = time.time()\n",
    "\n",
    "## section to create timeStep features\n",
    "unique_value_counts = 6\n",
    "timeStep_columnNames = []\n",
    "column_name_columns = []\n",
    "for i in xrange(unique_value_counts):\n",
    "    timeStep_columnNames.extend(['time_diff_step_{}'.format(i), 'column_counts_step_{}'.format(i),\n",
    "                                 'time_cost_step_{}'.format(i), 'first_column_step_{}'.format(i)])\n",
    "    column_name_columns.append('first_column_step_{}'.format(i))\n",
    "\n",
    "train_dat_TimeStep = train_dat_Norm.apply(getTimeSteps, axis=1)\n",
    "test_dat_TimeStep  = test_dat_Norm.apply(getTimeSteps, axis=1)\n",
    "train_dat_TimeStep.columns = timeStep_columnNames\n",
    "test_dat_TimeStep.columns  = timeStep_columnNames\n",
    "\n",
    "for column in column_name_columns:\n",
    "    train_dat_TimeStep[column].fillna('NaN', inplace=True)\n",
    "    test_dat_TimeStep[column].fillna('NaN', inplace=True)\n",
    "    train_dat_TimeStep[column] = encoder.transform(train_dat_TimeStep[column])\n",
    "    test_dat_TimeStep[column] = encoder.transform(test_dat_TimeStep[column])\n",
    "\n",
    "\n",
    "print 'finish generating TimeStep features using {} minutes'.format(round((time.time() - start_time)/60, 0))\n"
   ]
  },
  {
   "cell_type": "code",
   "execution_count": 73,
   "metadata": {
    "collapsed": false
   },
   "outputs": [],
   "source": [
    "#print train_dat_Norm.isnull().sum().sum(), train_dat_Basics.isnull().sum().sum(), train_dat_TimeStep.isnull().sum().sum(), train_dat_TimeDiff.isnull().sum().sum()"
   ]
  },
  {
   "cell_type": "code",
   "execution_count": null,
   "metadata": {
    "collapsed": true
   },
   "outputs": [],
   "source": []
  },
  {
   "cell_type": "markdown",
   "metadata": {},
   "source": [
    "##### fill up missing values"
   ]
  },
  {
   "cell_type": "code",
   "execution_count": 74,
   "metadata": {
    "collapsed": false
   },
   "outputs": [
    {
     "data": {
      "text/plain": [
       "\"\\ntmp_train_dat = train_dat_TimeDiff.copy()\\ntmp_test_dat = test_dat_TimeDiff.copy()\\n\\nif 'start_time' in train_dat_Basics:\\n    tmp_train_dat['start_time'] = train_dat_Basics['start_time']\\n    tmp_test_dat['start_time']  = test_dat_Basics['start_time']\\n\""
      ]
     },
     "execution_count": 74,
     "metadata": {},
     "output_type": "execute_result"
    }
   ],
   "source": [
    "'''\n",
    "tmp_train_dat = train_dat_TimeDiff.copy()\n",
    "tmp_test_dat = test_dat_TimeDiff.copy()\n",
    "\n",
    "if 'start_time' in train_dat_Basics:\n",
    "    tmp_train_dat['start_time'] = train_dat_Basics['start_time']\n",
    "    tmp_test_dat['start_time']  = test_dat_Basics['start_time']\n",
    "'''\n"
   ]
  },
  {
   "cell_type": "code",
   "execution_count": 75,
   "metadata": {
    "collapsed": false
   },
   "outputs": [
    {
     "name": "stdout",
     "output_type": "stream",
     "text": [
      "finish feature engineering date using 0.02 minutes\n"
     ]
    }
   ],
   "source": [
    "start_time = time.time()\n",
    "combined_train_dat = pd.concat([train_dat_Norm, train_dat_Basics, train_dat_TimeDiff, train_dat_TimeStep], axis=1)\n",
    "combined_test_dat  = pd.concat([test_dat_Norm, test_dat_Basics, test_dat_TimeDiff, test_dat_TimeStep], axis=1)                                                                                                                                                 \n",
    "print 'finish feature engineering date using {} minutes'.format(round((time.time() - start_time)/60, 2))"
   ]
  },
  {
   "cell_type": "code",
   "execution_count": 76,
   "metadata": {
    "collapsed": false
   },
   "outputs": [
    {
     "name": "stdout",
     "output_type": "stream",
     "text": [
      "finish feature engineering date index using 0.02 minutes\n"
     ]
    }
   ],
   "source": [
    "start_time = time.time()\n",
    "train_test_datIndex_features = build_IndexFeatures(combined_train_dat, combined_test_dat)\n",
    "print 'finish feature engineering date index using {} minutes'.format(round((time.time() - start_time)/60, 2))"
   ]
  },
  {
   "cell_type": "markdown",
   "metadata": {},
   "source": [
    "#### index columns fill up missing"
   ]
  },
  {
   "cell_type": "code",
   "execution_count": 77,
   "metadata": {
    "collapsed": true
   },
   "outputs": [],
   "source": [
    "train_test_datIndex_features.fillna(-1., inplace=True)"
   ]
  },
  {
   "cell_type": "markdown",
   "metadata": {},
   "source": [
    "#### after filling up missing, re-create the date columns"
   ]
  },
  {
   "cell_type": "code",
   "execution_count": 78,
   "metadata": {
    "collapsed": false,
    "scrolled": true
   },
   "outputs": [],
   "source": [
    "#print combined_train_dat.shape, combined_test_dat.shape\n",
    "#combined_train_dat.head()"
   ]
  },
  {
   "cell_type": "code",
   "execution_count": 79,
   "metadata": {
    "collapsed": true
   },
   "outputs": [],
   "source": [
    "train_dat_Norm.fillna(-1., inplace=True)\n",
    "test_dat_Norm.fillna(-1., inplace=True)\n",
    "\n",
    "train_dat_Basics.fillna(-1., inplace=True)\n",
    "test_dat_Basics.fillna(-1., inplace=True)\n",
    "\n",
    "train_dat_TimeStep.fillna(0, inplace=True)\n",
    "test_dat_TimeStep.fillna(0, inplace=True)\n",
    "\n",
    "train_dat_TimeDiff.fillna(0, inplace=True)\n",
    "test_dat_TimeDiff.fillna(0, inplace=True)"
   ]
  },
  {
   "cell_type": "code",
   "execution_count": 80,
   "metadata": {
    "collapsed": true
   },
   "outputs": [],
   "source": [
    "combined_train_dat = pd.concat([train_dat_Norm, train_dat_Basics, train_dat_TimeDiff, train_dat_TimeStep], axis=1)\n",
    "combined_test_dat  = pd.concat([test_dat_Norm, test_dat_Basics, test_dat_TimeDiff, test_dat_TimeStep], axis=1)  "
   ]
  },
  {
   "cell_type": "code",
   "execution_count": 81,
   "metadata": {
    "collapsed": false
   },
   "outputs": [
    {
     "name": "stdout",
     "output_type": "stream",
     "text": [
      "0 0\n"
     ]
    }
   ],
   "source": [
    "print combined_test_dat.isnull().sum().sum(), combined_train_dat.isnull().sum().sum()"
   ]
  },
  {
   "cell_type": "code",
   "execution_count": 82,
   "metadata": {
    "collapsed": false
   },
   "outputs": [],
   "source": [
    "#train_test_datIndex_features['index_ratio'].min()\n",
    "#train_test_datIndex_features.isnull().sum().sum()"
   ]
  },
  {
   "cell_type": "code",
   "execution_count": null,
   "metadata": {
    "collapsed": true
   },
   "outputs": [],
   "source": []
  },
  {
   "cell_type": "code",
   "execution_count": null,
   "metadata": {
    "collapsed": true
   },
   "outputs": [],
   "source": []
  },
  {
   "cell_type": "markdown",
   "metadata": {},
   "source": [
    "#### load the feature importances from xgboost models"
   ]
  },
  {
   "cell_type": "code",
   "execution_count": 83,
   "metadata": {
    "collapsed": true
   },
   "outputs": [],
   "source": [
    "xgb_feature_imp = pd.read_csv('/home/ymm/full_data_xgb_feature_importance.csv', index_col='feature')"
   ]
  },
  {
   "cell_type": "code",
   "execution_count": 84,
   "metadata": {
    "collapsed": false
   },
   "outputs": [
    {
     "data": {
      "text/html": [
       "<div>\n",
       "<table border=\"1\" class=\"dataframe\">\n",
       "  <thead>\n",
       "    <tr style=\"text-align: right;\">\n",
       "      <th></th>\n",
       "      <th>fscore_0</th>\n",
       "      <th>norm_fscore_0</th>\n",
       "      <th>fscore_1</th>\n",
       "      <th>norm_fscore_1</th>\n",
       "      <th>fscore_2</th>\n",
       "      <th>norm_fscore_2</th>\n",
       "      <th>fscore_3</th>\n",
       "      <th>norm_fscore_3</th>\n",
       "      <th>fscore_4</th>\n",
       "      <th>norm_fscore_4</th>\n",
       "      <th>...</th>\n",
       "      <th>fscore_8</th>\n",
       "      <th>norm_fscore_8</th>\n",
       "      <th>fscore_9</th>\n",
       "      <th>norm_fscore_9</th>\n",
       "      <th>fscore_10</th>\n",
       "      <th>norm_fscore_10</th>\n",
       "      <th>fscore_11</th>\n",
       "      <th>norm_fscore_11</th>\n",
       "      <th>fscore_sum</th>\n",
       "      <th>norm_fscore_sum</th>\n",
       "    </tr>\n",
       "    <tr>\n",
       "      <th>feature</th>\n",
       "      <th></th>\n",
       "      <th></th>\n",
       "      <th></th>\n",
       "      <th></th>\n",
       "      <th></th>\n",
       "      <th></th>\n",
       "      <th></th>\n",
       "      <th></th>\n",
       "      <th></th>\n",
       "      <th></th>\n",
       "      <th></th>\n",
       "      <th></th>\n",
       "      <th></th>\n",
       "      <th></th>\n",
       "      <th></th>\n",
       "      <th></th>\n",
       "      <th></th>\n",
       "      <th></th>\n",
       "      <th></th>\n",
       "      <th></th>\n",
       "      <th></th>\n",
       "    </tr>\n",
       "  </thead>\n",
       "  <tbody>\n",
       "    <tr>\n",
       "      <th>first_time_value_index_diff_1</th>\n",
       "      <td>1357.0</td>\n",
       "      <td>0.013342</td>\n",
       "      <td>1480.0</td>\n",
       "      <td>0.014495</td>\n",
       "      <td>773.0</td>\n",
       "      <td>0.032962</td>\n",
       "      <td>1701.0</td>\n",
       "      <td>0.011999</td>\n",
       "      <td>1198.0</td>\n",
       "      <td>0.018810</td>\n",
       "      <td>...</td>\n",
       "      <td>1723.0</td>\n",
       "      <td>0.012308</td>\n",
       "      <td>747.0</td>\n",
       "      <td>0.031607</td>\n",
       "      <td>1671.0</td>\n",
       "      <td>0.011886</td>\n",
       "      <td>1152.0</td>\n",
       "      <td>0.018246</td>\n",
       "      <td>15033.0</td>\n",
       "      <td>0.228153</td>\n",
       "    </tr>\n",
       "    <tr>\n",
       "      <th>L3_S33_F3857</th>\n",
       "      <td>1317.0</td>\n",
       "      <td>0.012948</td>\n",
       "      <td>1226.0</td>\n",
       "      <td>0.012007</td>\n",
       "      <td>316.0</td>\n",
       "      <td>0.013475</td>\n",
       "      <td>1797.0</td>\n",
       "      <td>0.012676</td>\n",
       "      <td>648.0</td>\n",
       "      <td>0.010175</td>\n",
       "      <td>...</td>\n",
       "      <td>1745.0</td>\n",
       "      <td>0.012465</td>\n",
       "      <td>391.0</td>\n",
       "      <td>0.016544</td>\n",
       "      <td>1874.0</td>\n",
       "      <td>0.013330</td>\n",
       "      <td>708.0</td>\n",
       "      <td>0.011214</td>\n",
       "      <td>12276.0</td>\n",
       "      <td>0.149472</td>\n",
       "    </tr>\n",
       "    <tr>\n",
       "      <th>last_time_value_index_diff_1</th>\n",
       "      <td>1015.0</td>\n",
       "      <td>0.009979</td>\n",
       "      <td>1059.0</td>\n",
       "      <td>0.010372</td>\n",
       "      <td>410.0</td>\n",
       "      <td>0.017483</td>\n",
       "      <td>1310.0</td>\n",
       "      <td>0.009241</td>\n",
       "      <td>840.0</td>\n",
       "      <td>0.013189</td>\n",
       "      <td>...</td>\n",
       "      <td>1488.0</td>\n",
       "      <td>0.010629</td>\n",
       "      <td>382.0</td>\n",
       "      <td>0.016163</td>\n",
       "      <td>1329.0</td>\n",
       "      <td>0.009453</td>\n",
       "      <td>743.0</td>\n",
       "      <td>0.011768</td>\n",
       "      <td>10737.0</td>\n",
       "      <td>0.145426</td>\n",
       "    </tr>\n",
       "    <tr>\n",
       "      <th>L3_S33_F3859</th>\n",
       "      <td>1223.0</td>\n",
       "      <td>0.012024</td>\n",
       "      <td>1161.0</td>\n",
       "      <td>0.011371</td>\n",
       "      <td>264.0</td>\n",
       "      <td>0.011258</td>\n",
       "      <td>1722.0</td>\n",
       "      <td>0.012147</td>\n",
       "      <td>744.0</td>\n",
       "      <td>0.011682</td>\n",
       "      <td>...</td>\n",
       "      <td>1556.0</td>\n",
       "      <td>0.011115</td>\n",
       "      <td>375.0</td>\n",
       "      <td>0.015867</td>\n",
       "      <td>1649.0</td>\n",
       "      <td>0.011729</td>\n",
       "      <td>786.0</td>\n",
       "      <td>0.012449</td>\n",
       "      <td>11676.0</td>\n",
       "      <td>0.144343</td>\n",
       "    </tr>\n",
       "    <tr>\n",
       "      <th>last_time_value_index_diff_0</th>\n",
       "      <td>1020.0</td>\n",
       "      <td>0.010028</td>\n",
       "      <td>1087.0</td>\n",
       "      <td>0.010646</td>\n",
       "      <td>350.0</td>\n",
       "      <td>0.014925</td>\n",
       "      <td>1351.0</td>\n",
       "      <td>0.009530</td>\n",
       "      <td>707.0</td>\n",
       "      <td>0.011101</td>\n",
       "      <td>...</td>\n",
       "      <td>1391.0</td>\n",
       "      <td>0.009937</td>\n",
       "      <td>310.0</td>\n",
       "      <td>0.013117</td>\n",
       "      <td>1320.0</td>\n",
       "      <td>0.009389</td>\n",
       "      <td>612.0</td>\n",
       "      <td>0.009693</td>\n",
       "      <td>10258.0</td>\n",
       "      <td>0.132143</td>\n",
       "    </tr>\n",
       "  </tbody>\n",
       "</table>\n",
       "<p>5 rows × 26 columns</p>\n",
       "</div>"
      ],
      "text/plain": [
       "                               fscore_0  norm_fscore_0  fscore_1  \\\n",
       "feature                                                            \n",
       "first_time_value_index_diff_1    1357.0       0.013342    1480.0   \n",
       "L3_S33_F3857                     1317.0       0.012948    1226.0   \n",
       "last_time_value_index_diff_1     1015.0       0.009979    1059.0   \n",
       "L3_S33_F3859                     1223.0       0.012024    1161.0   \n",
       "last_time_value_index_diff_0     1020.0       0.010028    1087.0   \n",
       "\n",
       "                               norm_fscore_1  fscore_2  norm_fscore_2  \\\n",
       "feature                                                                 \n",
       "first_time_value_index_diff_1       0.014495     773.0       0.032962   \n",
       "L3_S33_F3857                        0.012007     316.0       0.013475   \n",
       "last_time_value_index_diff_1        0.010372     410.0       0.017483   \n",
       "L3_S33_F3859                        0.011371     264.0       0.011258   \n",
       "last_time_value_index_diff_0        0.010646     350.0       0.014925   \n",
       "\n",
       "                               fscore_3  norm_fscore_3  fscore_4  \\\n",
       "feature                                                            \n",
       "first_time_value_index_diff_1    1701.0       0.011999    1198.0   \n",
       "L3_S33_F3857                     1797.0       0.012676     648.0   \n",
       "last_time_value_index_diff_1     1310.0       0.009241     840.0   \n",
       "L3_S33_F3859                     1722.0       0.012147     744.0   \n",
       "last_time_value_index_diff_0     1351.0       0.009530     707.0   \n",
       "\n",
       "                               norm_fscore_4       ...         fscore_8  \\\n",
       "feature                                            ...                    \n",
       "first_time_value_index_diff_1       0.018810       ...           1723.0   \n",
       "L3_S33_F3857                        0.010175       ...           1745.0   \n",
       "last_time_value_index_diff_1        0.013189       ...           1488.0   \n",
       "L3_S33_F3859                        0.011682       ...           1556.0   \n",
       "last_time_value_index_diff_0        0.011101       ...           1391.0   \n",
       "\n",
       "                               norm_fscore_8  fscore_9  norm_fscore_9  \\\n",
       "feature                                                                 \n",
       "first_time_value_index_diff_1       0.012308     747.0       0.031607   \n",
       "L3_S33_F3857                        0.012465     391.0       0.016544   \n",
       "last_time_value_index_diff_1        0.010629     382.0       0.016163   \n",
       "L3_S33_F3859                        0.011115     375.0       0.015867   \n",
       "last_time_value_index_diff_0        0.009937     310.0       0.013117   \n",
       "\n",
       "                               fscore_10  norm_fscore_10  fscore_11  \\\n",
       "feature                                                               \n",
       "first_time_value_index_diff_1     1671.0        0.011886     1152.0   \n",
       "L3_S33_F3857                      1874.0        0.013330      708.0   \n",
       "last_time_value_index_diff_1      1329.0        0.009453      743.0   \n",
       "L3_S33_F3859                      1649.0        0.011729      786.0   \n",
       "last_time_value_index_diff_0      1320.0        0.009389      612.0   \n",
       "\n",
       "                               norm_fscore_11  fscore_sum  norm_fscore_sum  \n",
       "feature                                                                     \n",
       "first_time_value_index_diff_1        0.018246     15033.0         0.228153  \n",
       "L3_S33_F3857                         0.011214     12276.0         0.149472  \n",
       "last_time_value_index_diff_1         0.011768     10737.0         0.145426  \n",
       "L3_S33_F3859                         0.012449     11676.0         0.144343  \n",
       "last_time_value_index_diff_0         0.009693     10258.0         0.132143  \n",
       "\n",
       "[5 rows x 26 columns]"
      ]
     },
     "execution_count": 84,
     "metadata": {},
     "output_type": "execute_result"
    }
   ],
   "source": [
    "xgb_feature_imp.head()"
   ]
  },
  {
   "cell_type": "code",
   "execution_count": 85,
   "metadata": {
    "collapsed": true
   },
   "outputs": [],
   "source": [
    "## sort by the norm_fscore_sum\n",
    "sorted_combined_imp = xgb_feature_imp.sort_values(by=['norm_fscore_sum'], ascending=False)\n",
    "#imp_feature = sorted_combined_imp.index[sorted_combined_imp['norm_fscore_sum'] >= 0.005].tolist()\n",
    "imp_feature = sorted_combined_imp.index.tolist()"
   ]
  },
  {
   "cell_type": "code",
   "execution_count": 86,
   "metadata": {
    "collapsed": true
   },
   "outputs": [],
   "source": [
    "def select_important_features(df, imp_feature, test_df = None, dep_var_name = 'Response'):\n",
    "    imp_col_names = [col for col in df.columns if col in imp_feature]\n",
    "    print 'total {} columns in original DataFrame, select {} columns'.format(df.shape[1], len(imp_col_names))\n",
    "    train_col_names = imp_col_names[:]\n",
    "    test_col_names = imp_col_names[:]\n",
    "    if dep_var_name in df.columns:    \n",
    "        train_col_names.append(dep_var_name)\n",
    "    if test_df is None:\n",
    "        return df[train_col_names]\n",
    "    else:\n",
    "        return df[train_col_names], test_df[test_col_names]\n"
   ]
  },
  {
   "cell_type": "code",
   "execution_count": 87,
   "metadata": {
    "collapsed": false
   },
   "outputs": [
    {
     "name": "stdout",
     "output_type": "stream",
     "text": [
      "total 978 columns in original DataFrame, select 691 columns\n",
      "total 1001 columns in original DataFrame, select 108 columns\n",
      "total 23 columns in original DataFrame, select 22 columns\n"
     ]
    }
   ],
   "source": [
    "combined_train_num, combined_test_num  = select_important_features(combined_train_num, imp_feature, combined_test_num)\n",
    "combined_train_dat, combined_test_dat  = select_important_features(combined_train_dat, imp_feature, combined_test_dat)\n",
    "train_test_datIndex_features = select_important_features(train_test_datIndex_features, imp_feature)"
   ]
  },
  {
   "cell_type": "code",
   "execution_count": null,
   "metadata": {
    "collapsed": true
   },
   "outputs": [],
   "source": []
  },
  {
   "cell_type": "code",
   "execution_count": null,
   "metadata": {
    "collapsed": true
   },
   "outputs": [],
   "source": []
  },
  {
   "cell_type": "markdown",
   "metadata": {},
   "source": [
    "#### combine all the features together"
   ]
  },
  {
   "cell_type": "code",
   "execution_count": 88,
   "metadata": {
    "collapsed": true
   },
   "outputs": [],
   "source": [
    "## combined data with station features\n",
    "#combined_train = pd.concat([train_dat_stations, train_num_stations, combined_train_num, combined_train_dat, train_test_datIndex_features.ix[combined_train_num.index, :]], axis=1)\n",
    "#combined_test  = pd.concat([test_dat_stations, test_num_stations, combined_test_num,  combined_test_dat,  train_test_datIndex_features.ix[combined_test_num.index, :]], axis=1)"
   ]
  },
  {
   "cell_type": "code",
   "execution_count": 89,
   "metadata": {
    "collapsed": true
   },
   "outputs": [],
   "source": [
    "#combined_train = pd.concat([combined_train_num, combined_train_dat, train_test_datIndex_features.ix[combined_train_num.index, :]], axis=1)\n",
    "#combined_test  = pd.concat([combined_test_num,  combined_test_dat,  train_test_datIndex_features.ix[combined_test_num.index, :]], axis=1)"
   ]
  },
  {
   "cell_type": "code",
   "execution_count": 90,
   "metadata": {
    "collapsed": false,
    "scrolled": true
   },
   "outputs": [],
   "source": [
    "## combined data with categorical features\n",
    "#combined_train = pd.concat([combined_train_cat, combined_train_num, combined_train_dat, train_test_datIndex_features.ix[combined_train_num.index, :]], axis=1)\n",
    "#combined_test  = pd.concat([combined_test_cat,  combined_test_num,  combined_test_dat,  train_test_datIndex_features.ix[combined_test_num.index, :]], axis=1)"
   ]
  },
  {
   "cell_type": "code",
   "execution_count": 91,
   "metadata": {
    "collapsed": false
   },
   "outputs": [],
   "source": [
    "## combined data with all features\n",
    "combined_train = pd.concat([combined_train_station_dat, combined_train_station_num, combined_train_cat, combined_train_num, combined_train_dat, train_test_datIndex_features.ix[combined_train_num.index, :]], axis=1)\n",
    "combined_test  = pd.concat([combined_test_station_dat, combined_test_station_num, combined_test_cat,  combined_test_num,  combined_test_dat,  train_test_datIndex_features.ix[combined_test_num.index, :]], axis=1)"
   ]
  },
  {
   "cell_type": "code",
   "execution_count": 92,
   "metadata": {
    "collapsed": false
   },
   "outputs": [
    {
     "name": "stdout",
     "output_type": "stream",
     "text": [
      "0 0\n"
     ]
    }
   ],
   "source": [
    "print combined_train.isnull().sum().sum(), combined_test.isnull().sum().sum()"
   ]
  },
  {
   "cell_type": "code",
   "execution_count": 93,
   "metadata": {
    "collapsed": false,
    "scrolled": true
   },
   "outputs": [
    {
     "name": "stdout",
     "output_type": "stream",
     "text": [
      "(50000, 2999)\n"
     ]
    },
    {
     "data": {
      "text/html": [
       "<div>\n",
       "<table border=\"1\" class=\"dataframe\">\n",
       "  <thead>\n",
       "    <tr style=\"text-align: right;\">\n",
       "      <th></th>\n",
       "      <th>dat_L2_S28_mean</th>\n",
       "      <th>dat_L2_S28_max</th>\n",
       "      <th>dat_L2_S28_min</th>\n",
       "      <th>dat_L2_S28_var</th>\n",
       "      <th>dat_L3_S31_mean</th>\n",
       "      <th>dat_L3_S31_max</th>\n",
       "      <th>dat_L3_S31_min</th>\n",
       "      <th>dat_L3_S31_var</th>\n",
       "      <th>dat_L2_S26_mean</th>\n",
       "      <th>dat_L2_S26_max</th>\n",
       "      <th>...</th>\n",
       "      <th>first_date_value_index_ratio_1</th>\n",
       "      <th>first_date_value_index_ratio_2</th>\n",
       "      <th>time_ratio_value_index_diff_0</th>\n",
       "      <th>time_ratio_value_index_diff_1</th>\n",
       "      <th>first_time_value_index_diff_0</th>\n",
       "      <th>first_time_value_index_diff_1</th>\n",
       "      <th>last_time_value_index_diff_0</th>\n",
       "      <th>last_time_value_index_diff_1</th>\n",
       "      <th>first_date_value_index_diff_0</th>\n",
       "      <th>first_date_value_index_diff_1</th>\n",
       "    </tr>\n",
       "    <tr>\n",
       "      <th>Id</th>\n",
       "      <th></th>\n",
       "      <th></th>\n",
       "      <th></th>\n",
       "      <th></th>\n",
       "      <th></th>\n",
       "      <th></th>\n",
       "      <th></th>\n",
       "      <th></th>\n",
       "      <th></th>\n",
       "      <th></th>\n",
       "      <th></th>\n",
       "      <th></th>\n",
       "      <th></th>\n",
       "      <th></th>\n",
       "      <th></th>\n",
       "      <th></th>\n",
       "      <th></th>\n",
       "      <th></th>\n",
       "      <th></th>\n",
       "      <th></th>\n",
       "      <th></th>\n",
       "    </tr>\n",
       "  </thead>\n",
       "  <tbody>\n",
       "    <tr>\n",
       "      <th>1</th>\n",
       "      <td>9999999.0</td>\n",
       "      <td>9999999.0</td>\n",
       "      <td>9999999.0</td>\n",
       "      <td>9999999.0</td>\n",
       "      <td>9999999.0</td>\n",
       "      <td>9999999.0</td>\n",
       "      <td>9999999.0</td>\n",
       "      <td>9999999.0</td>\n",
       "      <td>9999999.00</td>\n",
       "      <td>9999999.00</td>\n",
       "      <td>...</td>\n",
       "      <td>60973.000</td>\n",
       "      <td>94011.00</td>\n",
       "      <td>-60087</td>\n",
       "      <td>-3232</td>\n",
       "      <td>-158518</td>\n",
       "      <td>-3232</td>\n",
       "      <td>-68013</td>\n",
       "      <td>-3232</td>\n",
       "      <td>-69475</td>\n",
       "      <td>-1</td>\n",
       "    </tr>\n",
       "    <tr>\n",
       "      <th>2</th>\n",
       "      <td>9999999.0</td>\n",
       "      <td>9999999.0</td>\n",
       "      <td>9999999.0</td>\n",
       "      <td>9999999.0</td>\n",
       "      <td>9999999.0</td>\n",
       "      <td>9999999.0</td>\n",
       "      <td>9999999.0</td>\n",
       "      <td>9999999.0</td>\n",
       "      <td>9999999.00</td>\n",
       "      <td>9999999.00</td>\n",
       "      <td>...</td>\n",
       "      <td>20524.500</td>\n",
       "      <td>31769.00</td>\n",
       "      <td>-720791</td>\n",
       "      <td>-62612</td>\n",
       "      <td>-3722</td>\n",
       "      <td>-5943</td>\n",
       "      <td>-1341168</td>\n",
       "      <td>-61348</td>\n",
       "      <td>1</td>\n",
       "      <td>-1</td>\n",
       "    </tr>\n",
       "    <tr>\n",
       "      <th>3</th>\n",
       "      <td>9999999.0</td>\n",
       "      <td>9999999.0</td>\n",
       "      <td>9999999.0</td>\n",
       "      <td>9999999.0</td>\n",
       "      <td>9999999.0</td>\n",
       "      <td>9999999.0</td>\n",
       "      <td>9999999.0</td>\n",
       "      <td>9999999.0</td>\n",
       "      <td>704.11</td>\n",
       "      <td>704.11</td>\n",
       "      <td>...</td>\n",
       "      <td>20928.000</td>\n",
       "      <td>20878.00</td>\n",
       "      <td>-1962074</td>\n",
       "      <td>-24124</td>\n",
       "      <td>-1713048</td>\n",
       "      <td>-24124</td>\n",
       "      <td>-182117</td>\n",
       "      <td>-24124</td>\n",
       "      <td>1</td>\n",
       "      <td>-5</td>\n",
       "    </tr>\n",
       "    <tr>\n",
       "      <th>5</th>\n",
       "      <td>9999999.0</td>\n",
       "      <td>9999999.0</td>\n",
       "      <td>9999999.0</td>\n",
       "      <td>9999999.0</td>\n",
       "      <td>9999999.0</td>\n",
       "      <td>9999999.0</td>\n",
       "      <td>9999999.0</td>\n",
       "      <td>9999999.0</td>\n",
       "      <td>255.50</td>\n",
       "      <td>255.50</td>\n",
       "      <td>...</td>\n",
       "      <td>680.400</td>\n",
       "      <td>19458.00</td>\n",
       "      <td>-88702</td>\n",
       "      <td>-97262</td>\n",
       "      <td>-74259</td>\n",
       "      <td>-24195</td>\n",
       "      <td>-74259</td>\n",
       "      <td>-61577</td>\n",
       "      <td>-74259</td>\n",
       "      <td>-63560</td>\n",
       "    </tr>\n",
       "    <tr>\n",
       "      <th>8</th>\n",
       "      <td>9999999.0</td>\n",
       "      <td>9999999.0</td>\n",
       "      <td>9999999.0</td>\n",
       "      <td>9999999.0</td>\n",
       "      <td>9999999.0</td>\n",
       "      <td>9999999.0</td>\n",
       "      <td>9999999.0</td>\n",
       "      <td>9999999.0</td>\n",
       "      <td>760.93</td>\n",
       "      <td>760.93</td>\n",
       "      <td>...</td>\n",
       "      <td>8004.375</td>\n",
       "      <td>9348.25</td>\n",
       "      <td>-141736</td>\n",
       "      <td>-1395506</td>\n",
       "      <td>-1263631</td>\n",
       "      <td>-4313</td>\n",
       "      <td>-548728</td>\n",
       "      <td>-4313</td>\n",
       "      <td>5</td>\n",
       "      <td>-9</td>\n",
       "    </tr>\n",
       "  </tbody>\n",
       "</table>\n",
       "<p>5 rows × 2999 columns</p>\n",
       "</div>"
      ],
      "text/plain": [
       "    dat_L2_S28_mean  dat_L2_S28_max  dat_L2_S28_min  dat_L2_S28_var  \\\n",
       "Id                                                                    \n",
       "1         9999999.0       9999999.0       9999999.0       9999999.0   \n",
       "2         9999999.0       9999999.0       9999999.0       9999999.0   \n",
       "3         9999999.0       9999999.0       9999999.0       9999999.0   \n",
       "5         9999999.0       9999999.0       9999999.0       9999999.0   \n",
       "8         9999999.0       9999999.0       9999999.0       9999999.0   \n",
       "\n",
       "    dat_L3_S31_mean  dat_L3_S31_max  dat_L3_S31_min  dat_L3_S31_var  \\\n",
       "Id                                                                    \n",
       "1         9999999.0       9999999.0       9999999.0       9999999.0   \n",
       "2         9999999.0       9999999.0       9999999.0       9999999.0   \n",
       "3         9999999.0       9999999.0       9999999.0       9999999.0   \n",
       "5         9999999.0       9999999.0       9999999.0       9999999.0   \n",
       "8         9999999.0       9999999.0       9999999.0       9999999.0   \n",
       "\n",
       "    dat_L2_S26_mean  dat_L2_S26_max              ...                \\\n",
       "Id                                               ...                 \n",
       "1        9999999.00      9999999.00              ...                 \n",
       "2        9999999.00      9999999.00              ...                 \n",
       "3            704.11          704.11              ...                 \n",
       "5            255.50          255.50              ...                 \n",
       "8            760.93          760.93              ...                 \n",
       "\n",
       "    first_date_value_index_ratio_1  first_date_value_index_ratio_2  \\\n",
       "Id                                                                   \n",
       "1                        60973.000                        94011.00   \n",
       "2                        20524.500                        31769.00   \n",
       "3                        20928.000                        20878.00   \n",
       "5                          680.400                        19458.00   \n",
       "8                         8004.375                         9348.25   \n",
       "\n",
       "    time_ratio_value_index_diff_0  time_ratio_value_index_diff_1  \\\n",
       "Id                                                                 \n",
       "1                          -60087                          -3232   \n",
       "2                         -720791                         -62612   \n",
       "3                        -1962074                         -24124   \n",
       "5                          -88702                         -97262   \n",
       "8                         -141736                       -1395506   \n",
       "\n",
       "    first_time_value_index_diff_0  first_time_value_index_diff_1  \\\n",
       "Id                                                                 \n",
       "1                         -158518                          -3232   \n",
       "2                           -3722                          -5943   \n",
       "3                        -1713048                         -24124   \n",
       "5                          -74259                         -24195   \n",
       "8                        -1263631                          -4313   \n",
       "\n",
       "    last_time_value_index_diff_0  last_time_value_index_diff_1  \\\n",
       "Id                                                               \n",
       "1                         -68013                         -3232   \n",
       "2                       -1341168                        -61348   \n",
       "3                        -182117                        -24124   \n",
       "5                         -74259                        -61577   \n",
       "8                        -548728                         -4313   \n",
       "\n",
       "    first_date_value_index_diff_0  first_date_value_index_diff_1  \n",
       "Id                                                                \n",
       "1                          -69475                             -1  \n",
       "2                               1                             -1  \n",
       "3                               1                             -5  \n",
       "5                          -74259                         -63560  \n",
       "8                               5                             -9  \n",
       "\n",
       "[5 rows x 2999 columns]"
      ]
     },
     "execution_count": 93,
     "metadata": {},
     "output_type": "execute_result"
    }
   ],
   "source": [
    "print combined_test.shape\n",
    "combined_test.head()"
   ]
  },
  {
   "cell_type": "code",
   "execution_count": 94,
   "metadata": {
    "collapsed": false
   },
   "outputs": [
    {
     "name": "stdout",
     "output_type": "stream",
     "text": [
      "(50000, 3000)\n"
     ]
    },
    {
     "data": {
      "text/html": [
       "<div>\n",
       "<table border=\"1\" class=\"dataframe\">\n",
       "  <thead>\n",
       "    <tr style=\"text-align: right;\">\n",
       "      <th></th>\n",
       "      <th>dat_L2_S28_mean</th>\n",
       "      <th>dat_L2_S28_max</th>\n",
       "      <th>dat_L2_S28_min</th>\n",
       "      <th>dat_L2_S28_var</th>\n",
       "      <th>dat_L3_S31_mean</th>\n",
       "      <th>dat_L3_S31_max</th>\n",
       "      <th>dat_L3_S31_min</th>\n",
       "      <th>dat_L3_S31_var</th>\n",
       "      <th>dat_L2_S26_mean</th>\n",
       "      <th>dat_L2_S26_max</th>\n",
       "      <th>...</th>\n",
       "      <th>first_date_value_index_ratio_1</th>\n",
       "      <th>first_date_value_index_ratio_2</th>\n",
       "      <th>time_ratio_value_index_diff_0</th>\n",
       "      <th>time_ratio_value_index_diff_1</th>\n",
       "      <th>first_time_value_index_diff_0</th>\n",
       "      <th>first_time_value_index_diff_1</th>\n",
       "      <th>last_time_value_index_diff_0</th>\n",
       "      <th>last_time_value_index_diff_1</th>\n",
       "      <th>first_date_value_index_diff_0</th>\n",
       "      <th>first_date_value_index_diff_1</th>\n",
       "    </tr>\n",
       "    <tr>\n",
       "      <th>Id</th>\n",
       "      <th></th>\n",
       "      <th></th>\n",
       "      <th></th>\n",
       "      <th></th>\n",
       "      <th></th>\n",
       "      <th></th>\n",
       "      <th></th>\n",
       "      <th></th>\n",
       "      <th></th>\n",
       "      <th></th>\n",
       "      <th></th>\n",
       "      <th></th>\n",
       "      <th></th>\n",
       "      <th></th>\n",
       "      <th></th>\n",
       "      <th></th>\n",
       "      <th></th>\n",
       "      <th></th>\n",
       "      <th></th>\n",
       "      <th></th>\n",
       "      <th></th>\n",
       "    </tr>\n",
       "  </thead>\n",
       "  <tbody>\n",
       "    <tr>\n",
       "      <th>34</th>\n",
       "      <td>9999999.0</td>\n",
       "      <td>9999999.0</td>\n",
       "      <td>9999999.0</td>\n",
       "      <td>9999999.0</td>\n",
       "      <td>9999999.0</td>\n",
       "      <td>9999999.0</td>\n",
       "      <td>9999999.0</td>\n",
       "      <td>9999999.0</td>\n",
       "      <td>9999999.0</td>\n",
       "      <td>9999999.0</td>\n",
       "      <td>...</td>\n",
       "      <td>362.235294</td>\n",
       "      <td>2265.147059</td>\n",
       "      <td>-1842341</td>\n",
       "      <td>-5871</td>\n",
       "      <td>-76692</td>\n",
       "      <td>-5871</td>\n",
       "      <td>-94328</td>\n",
       "      <td>-4528</td>\n",
       "      <td>-26982</td>\n",
       "      <td>-5871</td>\n",
       "    </tr>\n",
       "    <tr>\n",
       "      <th>79</th>\n",
       "      <td>9999999.0</td>\n",
       "      <td>9999999.0</td>\n",
       "      <td>9999999.0</td>\n",
       "      <td>9999999.0</td>\n",
       "      <td>9999999.0</td>\n",
       "      <td>9999999.0</td>\n",
       "      <td>9999999.0</td>\n",
       "      <td>9999999.0</td>\n",
       "      <td>9999999.0</td>\n",
       "      <td>9999999.0</td>\n",
       "      <td>...</td>\n",
       "      <td>86.493671</td>\n",
       "      <td>53.848101</td>\n",
       "      <td>-95264</td>\n",
       "      <td>-70837</td>\n",
       "      <td>-26920</td>\n",
       "      <td>-1486988</td>\n",
       "      <td>-50259</td>\n",
       "      <td>-26920</td>\n",
       "      <td>12</td>\n",
       "      <td>-1</td>\n",
       "    </tr>\n",
       "    <tr>\n",
       "      <th>93</th>\n",
       "      <td>9999999.0</td>\n",
       "      <td>9999999.0</td>\n",
       "      <td>9999999.0</td>\n",
       "      <td>9999999.0</td>\n",
       "      <td>9999999.0</td>\n",
       "      <td>9999999.0</td>\n",
       "      <td>9999999.0</td>\n",
       "      <td>9999999.0</td>\n",
       "      <td>9999999.0</td>\n",
       "      <td>9999999.0</td>\n",
       "      <td>...</td>\n",
       "      <td>121.989247</td>\n",
       "      <td>941.301075</td>\n",
       "      <td>-21859</td>\n",
       "      <td>-71016</td>\n",
       "      <td>-131545</td>\n",
       "      <td>-4106</td>\n",
       "      <td>-1193889</td>\n",
       "      <td>-57270</td>\n",
       "      <td>-249700</td>\n",
       "      <td>-71016</td>\n",
       "    </tr>\n",
       "    <tr>\n",
       "      <th>126</th>\n",
       "      <td>9999999.0</td>\n",
       "      <td>9999999.0</td>\n",
       "      <td>9999999.0</td>\n",
       "      <td>9999999.0</td>\n",
       "      <td>9999999.0</td>\n",
       "      <td>9999999.0</td>\n",
       "      <td>9999999.0</td>\n",
       "      <td>9999999.0</td>\n",
       "      <td>9999999.0</td>\n",
       "      <td>9999999.0</td>\n",
       "      <td>...</td>\n",
       "      <td>141.253968</td>\n",
       "      <td>623.134921</td>\n",
       "      <td>-793582</td>\n",
       "      <td>-3597</td>\n",
       "      <td>-917261</td>\n",
       "      <td>-3597</td>\n",
       "      <td>-917261</td>\n",
       "      <td>-3597</td>\n",
       "      <td>-917261</td>\n",
       "      <td>-6243</td>\n",
       "    </tr>\n",
       "    <tr>\n",
       "      <th>201</th>\n",
       "      <td>9999999.0</td>\n",
       "      <td>9999999.0</td>\n",
       "      <td>9999999.0</td>\n",
       "      <td>9999999.0</td>\n",
       "      <td>9999999.0</td>\n",
       "      <td>9999999.0</td>\n",
       "      <td>9999999.0</td>\n",
       "      <td>9999999.0</td>\n",
       "      <td>9999999.0</td>\n",
       "      <td>9999999.0</td>\n",
       "      <td>...</td>\n",
       "      <td>34.751244</td>\n",
       "      <td>245.457711</td>\n",
       "      <td>-96928</td>\n",
       "      <td>-752598</td>\n",
       "      <td>-43864</td>\n",
       "      <td>-10581</td>\n",
       "      <td>-423771</td>\n",
       "      <td>-12919</td>\n",
       "      <td>-35983</td>\n",
       "      <td>-6877</td>\n",
       "    </tr>\n",
       "  </tbody>\n",
       "</table>\n",
       "<p>5 rows × 3000 columns</p>\n",
       "</div>"
      ],
      "text/plain": [
       "     dat_L2_S28_mean  dat_L2_S28_max  dat_L2_S28_min  dat_L2_S28_var  \\\n",
       "Id                                                                     \n",
       "34         9999999.0       9999999.0       9999999.0       9999999.0   \n",
       "79         9999999.0       9999999.0       9999999.0       9999999.0   \n",
       "93         9999999.0       9999999.0       9999999.0       9999999.0   \n",
       "126        9999999.0       9999999.0       9999999.0       9999999.0   \n",
       "201        9999999.0       9999999.0       9999999.0       9999999.0   \n",
       "\n",
       "     dat_L3_S31_mean  dat_L3_S31_max  dat_L3_S31_min  dat_L3_S31_var  \\\n",
       "Id                                                                     \n",
       "34         9999999.0       9999999.0       9999999.0       9999999.0   \n",
       "79         9999999.0       9999999.0       9999999.0       9999999.0   \n",
       "93         9999999.0       9999999.0       9999999.0       9999999.0   \n",
       "126        9999999.0       9999999.0       9999999.0       9999999.0   \n",
       "201        9999999.0       9999999.0       9999999.0       9999999.0   \n",
       "\n",
       "     dat_L2_S26_mean  dat_L2_S26_max              ...                \\\n",
       "Id                                                ...                 \n",
       "34         9999999.0       9999999.0              ...                 \n",
       "79         9999999.0       9999999.0              ...                 \n",
       "93         9999999.0       9999999.0              ...                 \n",
       "126        9999999.0       9999999.0              ...                 \n",
       "201        9999999.0       9999999.0              ...                 \n",
       "\n",
       "     first_date_value_index_ratio_1  first_date_value_index_ratio_2  \\\n",
       "Id                                                                    \n",
       "34                       362.235294                     2265.147059   \n",
       "79                        86.493671                       53.848101   \n",
       "93                       121.989247                      941.301075   \n",
       "126                      141.253968                      623.134921   \n",
       "201                       34.751244                      245.457711   \n",
       "\n",
       "     time_ratio_value_index_diff_0  time_ratio_value_index_diff_1  \\\n",
       "Id                                                                  \n",
       "34                        -1842341                          -5871   \n",
       "79                          -95264                         -70837   \n",
       "93                          -21859                         -71016   \n",
       "126                        -793582                          -3597   \n",
       "201                         -96928                        -752598   \n",
       "\n",
       "     first_time_value_index_diff_0  first_time_value_index_diff_1  \\\n",
       "Id                                                                  \n",
       "34                          -76692                          -5871   \n",
       "79                          -26920                       -1486988   \n",
       "93                         -131545                          -4106   \n",
       "126                        -917261                          -3597   \n",
       "201                         -43864                         -10581   \n",
       "\n",
       "     last_time_value_index_diff_0  last_time_value_index_diff_1  \\\n",
       "Id                                                                \n",
       "34                         -94328                         -4528   \n",
       "79                         -50259                        -26920   \n",
       "93                       -1193889                        -57270   \n",
       "126                       -917261                         -3597   \n",
       "201                       -423771                        -12919   \n",
       "\n",
       "     first_date_value_index_diff_0  first_date_value_index_diff_1  \n",
       "Id                                                                 \n",
       "34                          -26982                          -5871  \n",
       "79                              12                             -1  \n",
       "93                         -249700                         -71016  \n",
       "126                        -917261                          -6243  \n",
       "201                         -35983                          -6877  \n",
       "\n",
       "[5 rows x 3000 columns]"
      ]
     },
     "execution_count": 94,
     "metadata": {},
     "output_type": "execute_result"
    }
   ],
   "source": [
    "print combined_train.shape\n",
    "combined_train.head()"
   ]
  },
  {
   "cell_type": "code",
   "execution_count": null,
   "metadata": {
    "collapsed": true
   },
   "outputs": [],
   "source": []
  },
  {
   "cell_type": "markdown",
   "metadata": {},
   "source": [
    "#### KFold cross-validation"
   ]
  },
  {
   "cell_type": "code",
   "execution_count": 95,
   "metadata": {
    "collapsed": true
   },
   "outputs": [],
   "source": [
    "params = {}\n",
    "params[\"eta\"]                      = 0.0075\n",
    "params[\"subsample\"]                = 0.8\n",
    "params[\"colsample_bytree\"]         = 0.8\n",
    "params[\"num_round\"]                = 501\n",
    "params[\"max_depth\"]                = 5\n",
    "params[\"gamma\"]                    = 0\n",
    "params[\"metrics\"]                  = 'auc'\n",
    "params['eval_metric']              = 'auc'\n",
    "params[\"seed\"]                     = 999\n",
    "params['verbose_eval']             = 50\n",
    "## whether to use weights\n",
    "params['use_base_score']           = True\n",
    "params['use_weights']              = True\n",
    "#params['use_scale_pos_weight']     = True\n",
    "params[\"val\"]                      = False\n"
   ]
  },
  {
   "cell_type": "code",
   "execution_count": 96,
   "metadata": {
    "collapsed": false
   },
   "outputs": [
    {
     "name": "stdout",
     "output_type": "stream",
     "text": [
      "scale_pos_weight: 167.156950673\n",
      "a base_score 0.00594682524867 is used in the xgboost model...\n"
     ]
    },
    {
     "name": "stderr",
     "output_type": "stream",
     "text": [
      "\n",
      "####################\n",
      " train the xgboost without early stopping\n",
      "####################\n"
     ]
    },
    {
     "name": "stdout",
     "output_type": "stream",
     "text": [
      "[0]\ttrain-auc:0.759023\n",
      "[50]\ttrain-auc:0.943626\n",
      "[100]\ttrain-auc:0.966481\n",
      "[150]\ttrain-auc:0.982596\n",
      "[200]\ttrain-auc:0.990381\n",
      "[250]\ttrain-auc:0.993962\n",
      "[300]\ttrain-auc:0.996303\n",
      "[350]\ttrain-auc:0.997596\n",
      "[400]\ttrain-auc:0.998471\n",
      "[450]\ttrain-auc:0.998999\n",
      "[500]\ttrain-auc:0.999309\n",
      "the xgboost fit is finished by using 512.0 seconds, saved into test_bosch_xgb_model\n",
      "in the prediction step, dep_var_name is not provided....\n",
      "result from using constant fraction: \n",
      "mean of groud truth: 0.0059995200384\n",
      "threshold for preds: 0.0274208657996\n",
      "0.154929985514\n",
      "\n",
      "\n",
      "result from using flexsible threshold: (0.20552173685540615, 0.04819463565945625)\n",
      "scale_pos_weight: 167.156950673\n",
      "a base_score 0.00594682524867 is used in the xgboost model...\n"
     ]
    },
    {
     "name": "stderr",
     "output_type": "stream",
     "text": [
      "\n",
      "####################\n",
      " train the xgboost without early stopping\n",
      "####################\n"
     ]
    },
    {
     "name": "stdout",
     "output_type": "stream",
     "text": [
      "[0]\ttrain-auc:0.73263\n",
      "[50]\ttrain-auc:0.935127\n",
      "[100]\ttrain-auc:0.95768\n",
      "[150]\ttrain-auc:0.973508\n",
      "[200]\ttrain-auc:0.986704\n",
      "[250]\ttrain-auc:0.992463\n",
      "[300]\ttrain-auc:0.995568\n",
      "[350]\ttrain-auc:0.997182\n",
      "[400]\ttrain-auc:0.998057\n",
      "[450]\ttrain-auc:0.998704\n",
      "[500]\ttrain-auc:0.999105\n",
      "the xgboost fit is finished by using 514.0 seconds, saved into test_bosch_xgb_model\n",
      "in the prediction step, dep_var_name is not provided....\n",
      "result from using constant fraction: \n",
      "mean of groud truth: 0.0059995200384\n",
      "threshold for preds: 0.0224218471318\n",
      "0.128102366007\n",
      "\n",
      "\n",
      "result from using flexsible threshold: (0.17495003632481068, 0.06440790742635727)\n",
      "scale_pos_weight: 166.415178571\n",
      "a base_score 0.00597317404869 is used in the xgboost model...\n"
     ]
    },
    {
     "name": "stderr",
     "output_type": "stream",
     "text": [
      "\n",
      "####################\n",
      " train the xgboost without early stopping\n",
      "####################\n"
     ]
    },
    {
     "name": "stdout",
     "output_type": "stream",
     "text": [
      "[0]\ttrain-auc:0.710101\n",
      "[50]\ttrain-auc:0.929215\n",
      "[100]\ttrain-auc:0.954512\n",
      "[150]\ttrain-auc:0.974787\n",
      "[200]\ttrain-auc:0.986535\n",
      "[250]\ttrain-auc:0.991752\n",
      "[300]\ttrain-auc:0.995074\n",
      "[350]\ttrain-auc:0.996943\n",
      "[400]\ttrain-auc:0.998021\n",
      "[450]\ttrain-auc:0.998692\n",
      "[500]\ttrain-auc:0.99915\n",
      "the xgboost fit is finished by using 494.0 seconds, saved into test_bosch_xgb_model\n",
      "in the prediction step, dep_var_name is not provided....\n",
      "result from using constant fraction: \n",
      "mean of groud truth: 0.00592047363789\n",
      "threshold for preds: 0.0227514473451\n",
      "0.0756082440589\n",
      "\n",
      "\n",
      "result from using flexsible threshold: (0.11610650229570822, 0.0710984617471695)\n",
      "scale_pos_weight: 166.415178571\n",
      "a base_score 0.00597317404869 is used in the xgboost model...\n"
     ]
    },
    {
     "name": "stderr",
     "output_type": "stream",
     "text": [
      "\n",
      "####################\n",
      " train the xgboost without early stopping\n",
      "####################\n"
     ]
    },
    {
     "name": "stdout",
     "output_type": "stream",
     "text": [
      "[0]\ttrain-auc:0.711511\n",
      "[50]\ttrain-auc:0.93912\n",
      "[100]\ttrain-auc:0.964627\n",
      "[150]\ttrain-auc:0.980588\n",
      "[200]\ttrain-auc:0.987685\n",
      "[250]\ttrain-auc:0.991302\n",
      "[300]\ttrain-auc:0.99468\n",
      "[350]\ttrain-auc:0.996814\n",
      "[400]\ttrain-auc:0.998045\n",
      "[450]\ttrain-auc:0.998717\n",
      "[500]\ttrain-auc:0.99919\n",
      "the xgboost fit is finished by using 509.0 seconds, saved into test_bosch_xgb_model\n",
      "in the prediction step, dep_var_name is not provided....\n",
      "result from using constant fraction: \n",
      "mean of groud truth: 0.00592047363789\n",
      "threshold for preds: 0.0192040979714\n",
      "0.184360215346\n",
      "\n",
      "\n",
      "result from using flexsible threshold: (0.26104864307720244, 0.057706885039806366)\n"
     ]
    }
   ],
   "source": [
    "\n",
    "skf = StratifiedKFold(combined_train[dep_var_name], 4)\n",
    "\n",
    "for train_index, valid_index in skf:\n",
    "    valid_data = combined_train.iloc[valid_index]\n",
    "    tmp_train  = combined_train.iloc[train_index]\n",
    "\n",
    "    y = tmp_train[dep_var_name].values\n",
    "    X = tmp_train.drop(dep_var_name, axis=1)\n",
    "\n",
    "    valid_y = valid_data[dep_var_name].values\n",
    "    valid_X = valid_data.drop(dep_var_name, axis=1)\n",
    "    \n",
    "    model = xgboost_classifier(label_name = dep_var_name, params = params, model_file='test_bosch_xgb_model')\n",
    "    model.fit(tmp_train, dep_var_name)\n",
    "    \n",
    "    pred = model.predict(valid_X)\n",
    "    print 'result from using constant fraction: \\n', score_MCC(valid_y, pred)\n",
    "    print '\\n'\n",
    "    print 'result from using flexsible threshold:', CombinedModel.mcc_eval_func(valid_y, pred)"
   ]
  },
  {
   "cell_type": "code",
   "execution_count": null,
   "metadata": {
    "collapsed": true
   },
   "outputs": [],
   "source": []
  },
  {
   "cell_type": "code",
   "execution_count": null,
   "metadata": {
    "collapsed": true
   },
   "outputs": [],
   "source": []
  },
  {
   "cell_type": "code",
   "execution_count": null,
   "metadata": {
    "collapsed": true
   },
   "outputs": [],
   "source": []
  },
  {
   "cell_type": "markdown",
   "metadata": {},
   "source": [
    "#### regular models"
   ]
  },
  {
   "cell_type": "code",
   "execution_count": null,
   "metadata": {
    "collapsed": false
   },
   "outputs": [],
   "source": [
    "#print tmp_train['index_ratio'].min(), tmp_train['index_ratio'].max()"
   ]
  },
  {
   "cell_type": "code",
   "execution_count": 44,
   "metadata": {
    "collapsed": true
   },
   "outputs": [],
   "source": [
    "############## Section of regular validation #######################\n",
    "train_index, valid_index = create_validation_index(combined_train, 0.3, dep_var_name, True)\n",
    "valid_data = combined_train.ix[valid_index]\n",
    "tmp_train  = combined_train.ix[train_index]\n",
    "\n",
    "y = tmp_train[dep_var_name].values\n",
    "X = tmp_train.drop(dep_var_name, axis=1)\n",
    "\n",
    "valid_y = valid_data[dep_var_name].values\n",
    "valid_X = valid_data.drop(dep_var_name, axis=1)\n"
   ]
  },
  {
   "cell_type": "code",
   "execution_count": 42,
   "metadata": {
    "collapsed": false
   },
   "outputs": [],
   "source": [
    "rf_params = {'random_state' : 9999, 'n_estimators' : 3000, 'max_depth' : 5, 'criterion' : 'gini', 'n_jobs' : -1}\n",
    "et_params = {'random_state' : 9999, 'n_estimators' : 500, 'max_depth' : 5, 'criterion' : 'gini', 'n_jobs' : -1}\n",
    "rf_clf = RandomForestClassifier(**rf_params)\n",
    "rf_clf = rf_clf.fit(X, y)\n",
    "\n",
    "et_clf = RandomForestClassifier(**et_params)\n",
    "et_clf = et_clf.fit(X, y)"
   ]
  },
  {
   "cell_type": "code",
   "execution_count": 43,
   "metadata": {
    "collapsed": false
   },
   "outputs": [
    {
     "name": "stdout",
     "output_type": "stream",
     "text": [
      "result from using constant fraction: \n",
      "\n",
      "mean of groud truth: 0.00593372891526\n",
      "threshold for preds: 0.0579520484467\n",
      "0.140970165563\n",
      "mean of groud truth: 0.00593372891526\n",
      "threshold for preds: 0.0660397376776\n",
      "0.140970165563\n",
      "\n",
      "\n",
      "result from using flexsible threshold:\n",
      "(0.1933435433683039, 0.07455889273561173)\n",
      "(0.1685155598098684, 0.08649280269190743)\n"
     ]
    }
   ],
   "source": [
    "rf_pred = rf_clf.predict_proba(valid_X)[:, 1]\n",
    "et_pred = et_clf.predict_proba(valid_X)[:, 1]\n",
    "\n",
    "print 'result from using constant fraction: \\n'\n",
    "print score_MCC(valid_y, rf_pred)\n",
    "print score_MCC(valid_y, et_pred)\n",
    "print '\\n'\n",
    "print 'result from using flexsible threshold:'\n",
    "print CombinedModel.mcc_eval_func(valid_y, rf_pred)\n",
    "print CombinedModel.mcc_eval_func(valid_y, et_pred)\n"
   ]
  },
  {
   "cell_type": "code",
   "execution_count": null,
   "metadata": {
    "collapsed": true
   },
   "outputs": [],
   "source": []
  },
  {
   "cell_type": "code",
   "execution_count": 45,
   "metadata": {
    "collapsed": false
   },
   "outputs": [
    {
     "name": "stdout",
     "output_type": "stream",
     "text": [
      "scale_pos_weight: 166.468899522\n",
      "a base_score 0.00597125796406 is used in the xgboost model...\n"
     ]
    },
    {
     "name": "stderr",
     "output_type": "stream",
     "text": [
      "\n",
      "####################\n",
      " train the xgboost without early stopping\n",
      "####################\n"
     ]
    },
    {
     "name": "stdout",
     "output_type": "stream",
     "text": [
      "[0]\ttrain-auc:0.730501\n",
      "[50]\ttrain-auc:0.916098\n",
      "[100]\ttrain-auc:0.93997\n",
      "[150]\ttrain-auc:0.963734\n",
      "[200]\ttrain-auc:0.981598\n",
      "[250]\ttrain-auc:0.989991\n",
      "[300]\ttrain-auc:0.994931\n",
      "[350]\ttrain-auc:0.99744\n",
      "[400]\ttrain-auc:0.998508\n",
      "[450]\ttrain-auc:0.99904\n",
      "[500]\ttrain-auc:0.999385\n",
      "the xgboost fit is finished by using 510.0 seconds, saved into test_bosch_xgb_model\n",
      "in the prediction step, dep_var_name is not provided....\n",
      "result from using constant fraction: \n",
      "mean of groud truth: 0.00593372891526\n",
      "threshold for preds: 0.0241102440794\n",
      "0.1522731897\n",
      "\n",
      "\n",
      "result from using flexsible threshold: (0.20338393874433255, 0.09097399562597275)\n"
     ]
    }
   ],
   "source": [
    "model = xgboost_classifier(label_name = dep_var_name, params = params, model_file='test_bosch_xgb_model')\n",
    "model.fit(tmp_train, dep_var_name)\n",
    "pred = model.predict(valid_X)\n",
    "\n",
    "print 'result from using constant fraction: \\n', score_MCC(valid_y, pred)\n",
    "print '\\n'\n",
    "print 'result from using flexsible threshold:', CombinedModel.mcc_eval_func(valid_y, pred)"
   ]
  },
  {
   "cell_type": "code",
   "execution_count": null,
   "metadata": {
    "collapsed": true
   },
   "outputs": [],
   "source": []
  },
  {
   "cell_type": "code",
   "execution_count": null,
   "metadata": {
    "collapsed": true
   },
   "outputs": [],
   "source": []
  },
  {
   "cell_type": "code",
   "execution_count": null,
   "metadata": {
    "collapsed": true
   },
   "outputs": [],
   "source": []
  }
 ],
 "metadata": {
  "kernelspec": {
   "display_name": "Python 2",
   "language": "python",
   "name": "python2"
  },
  "language_info": {
   "codemirror_mode": {
    "name": "ipython",
    "version": 2
   },
   "file_extension": ".py",
   "mimetype": "text/x-python",
   "name": "python",
   "nbconvert_exporter": "python",
   "pygments_lexer": "ipython2",
   "version": "2.7.6"
  }
 },
 "nbformat": 4,
 "nbformat_minor": 0
}
