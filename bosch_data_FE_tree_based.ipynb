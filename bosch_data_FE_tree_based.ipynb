{
 "cells": [
  {
   "cell_type": "code",
   "execution_count": 1,
   "metadata": {
    "collapsed": false,
    "scrolled": true
   },
   "outputs": [],
   "source": [
    "%matplotlib inline\n",
    "import random\n",
    "import os, sys, time\n",
    "import pandas as pd\n",
    "import numpy as np\n",
    "from os.path import join\n",
    "import matplotlib.pyplot as plt\n",
    "\n",
    "from sklearn.linear_model import LogisticRegression\n",
    "from sklearn.ensemble import RandomForestClassifier, ExtraTreesClassifier\n",
    "from sklearn import preprocessing\n",
    "sys.path.append('/home/ymm/kaggle/xgboost_hyperopt')\n",
    "import utils.bosch_functions as bosch_functions\n",
    "from utils.wrapped_xgboost import xgboost_classifier\n",
    "from utils.validation_tools import score_MCC, MCC, create_validation_index\n",
    "from utils.models import CombinedModel\n",
    "from utils.data_munge import remove_single_value_columns\n",
    "\n",
    "data_path = '/home/ymm/bosch/'\n",
    "\n",
    "train_num_file   = 'train_numeric.csv'\n",
    "train_cat_file   = 'train_categorical.csv'\n",
    "train_date_file  = 'train_date.csv'\n",
    "test_num_file    = 'test_numeric.csv'\n",
    "test_cat_file    = 'test_categorical.csv'\n",
    "test_date_file   = 'test_date.csv'\n",
    "\n",
    "sample_submission_file   = 'sample_submission.csv'\n",
    "\n",
    "\n",
    "start_time_column_name = 'L0_S0_D1'\n",
    "id_column_name = 'Id'\n",
    "dep_var_name = 'Response'\n",
    "nan_fill_value = -2.\n"
   ]
  },
  {
   "cell_type": "markdown",
   "metadata": {},
   "source": [
    "### section to select data (rows-wise) based on the start_time"
   ]
  },
  {
   "cell_type": "code",
   "execution_count": 2,
   "metadata": {
    "collapsed": false
   },
   "outputs": [
    {
     "name": "stdout",
     "output_type": "stream",
     "text": [
      "data loading takes  57.8  seconds.\n"
     ]
    }
   ],
   "source": [
    "bin_num = 1 ## number of bins to separate data by start_time\n",
    "tmp_train, tmp_test, bins, bin_names = bosch_functions.create_grouped_index_df(bin_num)"
   ]
  },
  {
   "cell_type": "code",
   "execution_count": 4,
   "metadata": {
    "collapsed": false
   },
   "outputs": [
    {
     "name": "stdout",
     "output_type": "stream",
     "text": [
      "(1183747, 3)\n"
     ]
    },
    {
     "data": {
      "text/html": [
       "<div>\n",
       "<table border=\"1\" class=\"dataframe\">\n",
       "  <thead>\n",
       "    <tr style=\"text-align: right;\">\n",
       "      <th></th>\n",
       "      <th>L0_S0_D1</th>\n",
       "      <th>time_window_num</th>\n",
       "      <th>row_num</th>\n",
       "    </tr>\n",
       "    <tr>\n",
       "      <th>Id</th>\n",
       "      <th></th>\n",
       "      <th></th>\n",
       "      <th></th>\n",
       "    </tr>\n",
       "  </thead>\n",
       "  <tbody>\n",
       "    <tr>\n",
       "      <th>4</th>\n",
       "      <td>82.24</td>\n",
       "      <td>0</td>\n",
       "      <td>1</td>\n",
       "    </tr>\n",
       "    <tr>\n",
       "      <th>6</th>\n",
       "      <td>NaN</td>\n",
       "      <td>NaN</td>\n",
       "      <td>2</td>\n",
       "    </tr>\n",
       "    <tr>\n",
       "      <th>7</th>\n",
       "      <td>1618.70</td>\n",
       "      <td>0</td>\n",
       "      <td>3</td>\n",
       "    </tr>\n",
       "    <tr>\n",
       "      <th>9</th>\n",
       "      <td>1149.20</td>\n",
       "      <td>0</td>\n",
       "      <td>4</td>\n",
       "    </tr>\n",
       "    <tr>\n",
       "      <th>11</th>\n",
       "      <td>602.64</td>\n",
       "      <td>0</td>\n",
       "      <td>5</td>\n",
       "    </tr>\n",
       "  </tbody>\n",
       "</table>\n",
       "</div>"
      ],
      "text/plain": [
       "    L0_S0_D1 time_window_num  row_num\n",
       "Id                                   \n",
       "4      82.24               0        1\n",
       "6        NaN             NaN        2\n",
       "7    1618.70               0        3\n",
       "9    1149.20               0        4\n",
       "11    602.64               0        5"
      ]
     },
     "execution_count": 4,
     "metadata": {},
     "output_type": "execute_result"
    }
   ],
   "source": [
    "print tmp_train.shape\n",
    "tmp_train.head()"
   ]
  },
  {
   "cell_type": "code",
   "execution_count": 22,
   "metadata": {
    "collapsed": false
   },
   "outputs": [],
   "source": [
    "nrows = 50000\n",
    "sampled_index = random.sample(tmp_train.index.tolist(), nrows)\n",
    "skipped_train_row_num = tmp_train.loc[~tmp_train.index.isin(sampled_index), 'row_num'].tolist()"
   ]
  },
  {
   "cell_type": "code",
   "execution_count": 25,
   "metadata": {
    "collapsed": false
   },
   "outputs": [
    {
     "name": "stdout",
     "output_type": "stream",
     "text": [
      "50000\n"
     ]
    }
   ],
   "source": [
    "print tmp_train.shape[0] - len(skipped_train_row_num)"
   ]
  },
  {
   "cell_type": "code",
   "execution_count": 26,
   "metadata": {
    "collapsed": false,
    "scrolled": true
   },
   "outputs": [
    {
     "name": "stdout",
     "output_type": "stream",
     "text": [
      "finish loading date using 25.0 seconds\n"
     ]
    }
   ],
   "source": [
    "start_time = time.time()\n",
    "train_num = pd.read_csv(join(data_path, train_num_file),  skiprows=skipped_train_row_num,  index_col='Id')\n",
    "train_dat = pd.read_csv(join(data_path, train_date_file), skiprows=skipped_train_row_num,  index_col='Id')\n",
    "print 'finish loading date using {} seconds'.format(round(time.time() - start_time, 0))"
   ]
  },
  {
   "cell_type": "code",
   "execution_count": 28,
   "metadata": {
    "collapsed": false
   },
   "outputs": [
    {
     "name": "stdout",
     "output_type": "stream",
     "text": [
      "(50000, 969) (50000, 1156)\n"
     ]
    }
   ],
   "source": [
    "print train_num.shape, train_dat.shape"
   ]
  },
  {
   "cell_type": "code",
   "execution_count": 4,
   "metadata": {
    "collapsed": false
   },
   "outputs": [
    {
     "name": "stdout",
     "output_type": "stream",
     "text": [
      "\n"
     ]
    }
   ],
   "source": [
    "'''\n",
    "def creat_non_selected_window_num(bin_num, select_bin = '3'):\n",
    "    none_selected_window_num = [np.NaN]\n",
    "    for i in range(bin_num):\n",
    "        if str(i) != select_bin:\n",
    "            none_selected_window_num.append(str(i))\n",
    "    return none_selected_window_num\n",
    "    \n",
    "none_selected_window_num = creat_non_selected_window_num(bin_num, '0')\n",
    "skipped_test_row_num = tmp_test.loc[tmp_test['time_window_num'].isin(none_selected_window_num), 'row_num'].tolist()\n",
    "skipped_train_row_num = tmp_train.loc[tmp_train['time_window_num'].isin(none_selected_window_num), 'row_num'].tolist()\n",
    "print tmp_train.shape, tmp_test.shape, len(skipped_train_row_num), len(skipped_test_row_num)\n",
    "'''"
   ]
  },
  {
   "cell_type": "code",
   "execution_count": 27,
   "metadata": {
    "collapsed": false
   },
   "outputs": [
    {
     "data": {
      "text/plain": [
       "\"\\n## select all the numerical columns and try to use LR\\nstart_time = time.time()\\ntrain_num = pd.read_csv(join(data_path, train_num_file),  skiprows=skipped_train_row_num,  index_col='Id', nrows = nrows)\\ntrain_dat = pd.read_csv(join(data_path, train_date_file), skiprows=skipped_train_row_num,  index_col='Id', nrows = nrows)\\ntrain_cat = pd.read_csv(join(data_path, train_cat_file),  skiprows=skipped_train_row_num,  index_col='Id', nrows = nrows)\\nprint 'finish loading date using {} seconds'.format(round(time.time() - start_time, 0))\\n\""
      ]
     },
     "execution_count": 27,
     "metadata": {},
     "output_type": "execute_result"
    }
   ],
   "source": [
    "'''\n",
    "## select all the numerical columns and try to use LR\n",
    "start_time = time.time()\n",
    "train_num = pd.read_csv(join(data_path, train_num_file),  skiprows=skipped_train_row_num,  index_col='Id', nrows = nrows)\n",
    "train_dat = pd.read_csv(join(data_path, train_date_file), skiprows=skipped_train_row_num,  index_col='Id', nrows = nrows)\n",
    "train_cat = pd.read_csv(join(data_path, train_cat_file),  skiprows=skipped_train_row_num,  index_col='Id', nrows = nrows)\n",
    "print 'finish loading date using {} seconds'.format(round(time.time() - start_time, 0))\n",
    "'''"
   ]
  },
  {
   "cell_type": "code",
   "execution_count": 3,
   "metadata": {
    "collapsed": false
   },
   "outputs": [
    {
     "name": "stdout",
     "output_type": "stream",
     "text": [
      "finish loading date using 2.0 seconds\n"
     ]
    }
   ],
   "source": [
    "'''\n",
    "nrows = 5000\n",
    "## select all the numerical columns and try to use LR\n",
    "start_time = time.time()\n",
    "train_num = pd.read_csv(join(data_path, train_num_file),  index_col='Id', nrows = nrows)\n",
    "train_dat = pd.read_csv(join(data_path, train_date_file), index_col='Id', nrows = nrows)\n",
    "train_cat = pd.read_csv(join(data_path, train_cat_file),  index_col='Id', nrows = nrows)\n",
    "print 'finish loading date using {} seconds'.format(round(time.time() - start_time, 0))\n",
    "'''"
   ]
  },
  {
   "cell_type": "code",
   "execution_count": null,
   "metadata": {
    "collapsed": true
   },
   "outputs": [],
   "source": []
  },
  {
   "cell_type": "code",
   "execution_count": 33,
   "metadata": {
    "collapsed": false
   },
   "outputs": [
    {
     "data": {
      "text/plain": [
       "<matplotlib.axes._subplots.AxesSubplot at 0x7fa74752f850>"
      ]
     },
     "execution_count": 33,
     "metadata": {},
     "output_type": "execute_result"
    },
    {
     "data": {
      "image/png": "[encoded data removed]",
      "text/plain": [
       "<matplotlib.figure.Figure at 0x7fa760ea71d0>"
      ]
     },
     "metadata": {},
     "output_type": "display_data"
    }
   ],
   "source": [
    "pd.Series(train_num.index).hist(bins=50)"
   ]
  },
  {
   "cell_type": "code",
   "execution_count": 41,
   "metadata": {
    "collapsed": false,
    "scrolled": true
   },
   "outputs": [
    {
     "data": {
      "text/plain": [
       "Int64Index([   5179,    9368,   11575,   11864,   33821,   40151,   41146,\n",
       "              41865,   44375,   49474,\n",
       "            ...\n",
       "            2309182, 2318356, 2322537, 2329368, 2334586, 2335395, 2346379,\n",
       "            2346429, 2348808, 2355356],\n",
       "           dtype='int64', name=u'Id', length=294)"
      ]
     },
     "execution_count": 41,
     "metadata": {},
     "output_type": "execute_result"
    }
   ],
   "source": [
    "train_num[train_num['Response']==1].index"
   ]
  },
  {
   "cell_type": "code",
   "execution_count": 40,
   "metadata": {
    "collapsed": false,
    "scrolled": true
   },
   "outputs": [
    {
     "data": {
      "text/plain": [
       "<matplotlib.axes._subplots.AxesSubplot at 0x7fa762255790>"
      ]
     },
     "execution_count": 40,
     "metadata": {},
     "output_type": "execute_result"
    },
    {
     "data": {
      "image/png": "[encoded data removed]",
      "text/plain": [
       "<matplotlib.figure.Figure at 0x7fa7625b7250>"
      ]
     },
     "metadata": {},
     "output_type": "display_data"
    }
   ],
   "source": [
    "pd.Series(train_num[train_num['Response']==1].index).hist(bins=20)"
   ]
  },
  {
   "cell_type": "code",
   "execution_count": 43,
   "metadata": {
    "collapsed": false
   },
   "outputs": [],
   "source": [
    "combo = pd.merge(train_num, train_dat, how='left', left_index=True, right_index=True)"
   ]
  },
  {
   "cell_type": "code",
   "execution_count": 46,
   "metadata": {
    "collapsed": false
   },
   "outputs": [
    {
     "name": "stderr",
     "output_type": "stream",
     "text": [
      "/mnt/home/ymm/.virtualenvs/kaggle/lib/python2.7/site-packages/ipykernel/__main__.py:1: FutureWarning: sort(columns=....) is deprecated, use sort_values(by=.....)\n",
      "  if __name__ == '__main__':\n"
     ]
    }
   ],
   "source": [
    "sorted_combo = combo.sort('L0_S0_D1')"
   ]
  },
  {
   "cell_type": "code",
   "execution_count": 49,
   "metadata": {
    "collapsed": false
   },
   "outputs": [
    {
     "data": {
      "text/html": [
       "<div>\n",
       "<table border=\"1\" class=\"dataframe\">\n",
       "  <thead>\n",
       "    <tr style=\"text-align: right;\">\n",
       "      <th></th>\n",
       "      <th>L0_S0_F0</th>\n",
       "      <th>L0_S0_F2</th>\n",
       "      <th>L0_S0_F4</th>\n",
       "      <th>L0_S0_F6</th>\n",
       "      <th>L0_S0_F8</th>\n",
       "      <th>L0_S0_F10</th>\n",
       "      <th>L0_S0_F12</th>\n",
       "      <th>L0_S0_F14</th>\n",
       "      <th>L0_S0_F16</th>\n",
       "      <th>L0_S0_F18</th>\n",
       "      <th>...</th>\n",
       "      <th>L3_S50_D4246</th>\n",
       "      <th>L3_S50_D4248</th>\n",
       "      <th>L3_S50_D4250</th>\n",
       "      <th>L3_S50_D4252</th>\n",
       "      <th>L3_S50_D4254</th>\n",
       "      <th>L3_S51_D4255</th>\n",
       "      <th>L3_S51_D4257</th>\n",
       "      <th>L3_S51_D4259</th>\n",
       "      <th>L3_S51_D4261</th>\n",
       "      <th>L3_S51_D4263</th>\n",
       "    </tr>\n",
       "    <tr>\n",
       "      <th>Id</th>\n",
       "      <th></th>\n",
       "      <th></th>\n",
       "      <th></th>\n",
       "      <th></th>\n",
       "      <th></th>\n",
       "      <th></th>\n",
       "      <th></th>\n",
       "      <th></th>\n",
       "      <th></th>\n",
       "      <th></th>\n",
       "      <th></th>\n",
       "      <th></th>\n",
       "      <th></th>\n",
       "      <th></th>\n",
       "      <th></th>\n",
       "      <th></th>\n",
       "      <th></th>\n",
       "      <th></th>\n",
       "      <th></th>\n",
       "      <th></th>\n",
       "      <th></th>\n",
       "    </tr>\n",
       "  </thead>\n",
       "  <tbody>\n",
       "    <tr>\n",
       "      <th>823623</th>\n",
       "      <td>-0.219</td>\n",
       "      <td>-0.243</td>\n",
       "      <td>0.385</td>\n",
       "      <td>0.384</td>\n",
       "      <td>-0.013</td>\n",
       "      <td>-0.066</td>\n",
       "      <td>0.037</td>\n",
       "      <td>0.168</td>\n",
       "      <td>0.051</td>\n",
       "      <td>-0.115</td>\n",
       "      <td>...</td>\n",
       "      <td>NaN</td>\n",
       "      <td>NaN</td>\n",
       "      <td>NaN</td>\n",
       "      <td>NaN</td>\n",
       "      <td>NaN</td>\n",
       "      <td>NaN</td>\n",
       "      <td>NaN</td>\n",
       "      <td>NaN</td>\n",
       "      <td>NaN</td>\n",
       "      <td>NaN</td>\n",
       "    </tr>\n",
       "    <tr>\n",
       "      <th>750490</th>\n",
       "      <td>-0.193</td>\n",
       "      <td>-0.258</td>\n",
       "      <td>0.348</td>\n",
       "      <td>0.348</td>\n",
       "      <td>0.031</td>\n",
       "      <td>-0.066</td>\n",
       "      <td>0.030</td>\n",
       "      <td>0.208</td>\n",
       "      <td>-0.016</td>\n",
       "      <td>-0.030</td>\n",
       "      <td>...</td>\n",
       "      <td>NaN</td>\n",
       "      <td>NaN</td>\n",
       "      <td>NaN</td>\n",
       "      <td>NaN</td>\n",
       "      <td>NaN</td>\n",
       "      <td>NaN</td>\n",
       "      <td>NaN</td>\n",
       "      <td>NaN</td>\n",
       "      <td>NaN</td>\n",
       "      <td>NaN</td>\n",
       "    </tr>\n",
       "    <tr>\n",
       "      <th>640276</th>\n",
       "      <td>-0.206</td>\n",
       "      <td>-0.235</td>\n",
       "      <td>0.330</td>\n",
       "      <td>0.366</td>\n",
       "      <td>0.074</td>\n",
       "      <td>-0.021</td>\n",
       "      <td>0.030</td>\n",
       "      <td>0.168</td>\n",
       "      <td>-0.123</td>\n",
       "      <td>-0.104</td>\n",
       "      <td>...</td>\n",
       "      <td>NaN</td>\n",
       "      <td>NaN</td>\n",
       "      <td>NaN</td>\n",
       "      <td>NaN</td>\n",
       "      <td>NaN</td>\n",
       "      <td>NaN</td>\n",
       "      <td>NaN</td>\n",
       "      <td>NaN</td>\n",
       "      <td>NaN</td>\n",
       "      <td>NaN</td>\n",
       "    </tr>\n",
       "    <tr>\n",
       "      <th>1264014</th>\n",
       "      <td>-0.127</td>\n",
       "      <td>-0.213</td>\n",
       "      <td>0.348</td>\n",
       "      <td>0.348</td>\n",
       "      <td>0.074</td>\n",
       "      <td>-0.021</td>\n",
       "      <td>0.022</td>\n",
       "      <td>0.128</td>\n",
       "      <td>-0.102</td>\n",
       "      <td>-0.062</td>\n",
       "      <td>...</td>\n",
       "      <td>NaN</td>\n",
       "      <td>NaN</td>\n",
       "      <td>NaN</td>\n",
       "      <td>NaN</td>\n",
       "      <td>NaN</td>\n",
       "      <td>NaN</td>\n",
       "      <td>NaN</td>\n",
       "      <td>NaN</td>\n",
       "      <td>NaN</td>\n",
       "      <td>NaN</td>\n",
       "    </tr>\n",
       "    <tr>\n",
       "      <th>441961</th>\n",
       "      <td>-0.147</td>\n",
       "      <td>-0.183</td>\n",
       "      <td>0.330</td>\n",
       "      <td>0.348</td>\n",
       "      <td>0.031</td>\n",
       "      <td>-0.021</td>\n",
       "      <td>0.022</td>\n",
       "      <td>0.128</td>\n",
       "      <td>-0.046</td>\n",
       "      <td>-0.078</td>\n",
       "      <td>...</td>\n",
       "      <td>NaN</td>\n",
       "      <td>NaN</td>\n",
       "      <td>NaN</td>\n",
       "      <td>NaN</td>\n",
       "      <td>NaN</td>\n",
       "      <td>NaN</td>\n",
       "      <td>NaN</td>\n",
       "      <td>NaN</td>\n",
       "      <td>NaN</td>\n",
       "      <td>NaN</td>\n",
       "    </tr>\n",
       "    <tr>\n",
       "      <th>401128</th>\n",
       "      <td>-0.127</td>\n",
       "      <td>-0.198</td>\n",
       "      <td>0.385</td>\n",
       "      <td>0.330</td>\n",
       "      <td>-0.013</td>\n",
       "      <td>0.025</td>\n",
       "      <td>0.015</td>\n",
       "      <td>0.128</td>\n",
       "      <td>-0.082</td>\n",
       "      <td>-0.046</td>\n",
       "      <td>...</td>\n",
       "      <td>NaN</td>\n",
       "      <td>NaN</td>\n",
       "      <td>NaN</td>\n",
       "      <td>NaN</td>\n",
       "      <td>NaN</td>\n",
       "      <td>NaN</td>\n",
       "      <td>NaN</td>\n",
       "      <td>NaN</td>\n",
       "      <td>NaN</td>\n",
       "      <td>NaN</td>\n",
       "    </tr>\n",
       "    <tr>\n",
       "      <th>320578</th>\n",
       "      <td>-0.114</td>\n",
       "      <td>-0.198</td>\n",
       "      <td>0.385</td>\n",
       "      <td>0.366</td>\n",
       "      <td>-0.013</td>\n",
       "      <td>-0.021</td>\n",
       "      <td>0.015</td>\n",
       "      <td>0.128</td>\n",
       "      <td>0.036</td>\n",
       "      <td>-0.019</td>\n",
       "      <td>...</td>\n",
       "      <td>NaN</td>\n",
       "      <td>NaN</td>\n",
       "      <td>NaN</td>\n",
       "      <td>NaN</td>\n",
       "      <td>NaN</td>\n",
       "      <td>NaN</td>\n",
       "      <td>NaN</td>\n",
       "      <td>NaN</td>\n",
       "      <td>NaN</td>\n",
       "      <td>NaN</td>\n",
       "    </tr>\n",
       "    <tr>\n",
       "      <th>443268</th>\n",
       "      <td>-0.160</td>\n",
       "      <td>-0.198</td>\n",
       "      <td>0.348</td>\n",
       "      <td>0.348</td>\n",
       "      <td>-0.013</td>\n",
       "      <td>-0.066</td>\n",
       "      <td>0.022</td>\n",
       "      <td>0.128</td>\n",
       "      <td>0.102</td>\n",
       "      <td>-0.115</td>\n",
       "      <td>...</td>\n",
       "      <td>NaN</td>\n",
       "      <td>NaN</td>\n",
       "      <td>NaN</td>\n",
       "      <td>NaN</td>\n",
       "      <td>NaN</td>\n",
       "      <td>NaN</td>\n",
       "      <td>NaN</td>\n",
       "      <td>NaN</td>\n",
       "      <td>NaN</td>\n",
       "      <td>NaN</td>\n",
       "    </tr>\n",
       "    <tr>\n",
       "      <th>877334</th>\n",
       "      <td>-0.127</td>\n",
       "      <td>-0.175</td>\n",
       "      <td>0.367</td>\n",
       "      <td>0.312</td>\n",
       "      <td>-0.056</td>\n",
       "      <td>-0.066</td>\n",
       "      <td>0.015</td>\n",
       "      <td>0.128</td>\n",
       "      <td>0.076</td>\n",
       "      <td>-0.088</td>\n",
       "      <td>...</td>\n",
       "      <td>NaN</td>\n",
       "      <td>NaN</td>\n",
       "      <td>NaN</td>\n",
       "      <td>NaN</td>\n",
       "      <td>NaN</td>\n",
       "      <td>NaN</td>\n",
       "      <td>NaN</td>\n",
       "      <td>NaN</td>\n",
       "      <td>NaN</td>\n",
       "      <td>NaN</td>\n",
       "    </tr>\n",
       "    <tr>\n",
       "      <th>333557</th>\n",
       "      <td>-0.212</td>\n",
       "      <td>-0.183</td>\n",
       "      <td>0.312</td>\n",
       "      <td>0.330</td>\n",
       "      <td>-0.013</td>\n",
       "      <td>-0.066</td>\n",
       "      <td>0.030</td>\n",
       "      <td>0.128</td>\n",
       "      <td>-0.016</td>\n",
       "      <td>-0.046</td>\n",
       "      <td>...</td>\n",
       "      <td>NaN</td>\n",
       "      <td>NaN</td>\n",
       "      <td>NaN</td>\n",
       "      <td>NaN</td>\n",
       "      <td>NaN</td>\n",
       "      <td>NaN</td>\n",
       "      <td>NaN</td>\n",
       "      <td>NaN</td>\n",
       "      <td>NaN</td>\n",
       "      <td>NaN</td>\n",
       "    </tr>\n",
       "    <tr>\n",
       "      <th>1089216</th>\n",
       "      <td>-0.140</td>\n",
       "      <td>-0.213</td>\n",
       "      <td>0.367</td>\n",
       "      <td>0.384</td>\n",
       "      <td>-0.056</td>\n",
       "      <td>-0.066</td>\n",
       "      <td>0.022</td>\n",
       "      <td>0.128</td>\n",
       "      <td>-0.005</td>\n",
       "      <td>0.088</td>\n",
       "      <td>...</td>\n",
       "      <td>NaN</td>\n",
       "      <td>NaN</td>\n",
       "      <td>NaN</td>\n",
       "      <td>NaN</td>\n",
       "      <td>NaN</td>\n",
       "      <td>NaN</td>\n",
       "      <td>NaN</td>\n",
       "      <td>NaN</td>\n",
       "      <td>NaN</td>\n",
       "      <td>NaN</td>\n",
       "    </tr>\n",
       "    <tr>\n",
       "      <th>948584</th>\n",
       "      <td>-0.121</td>\n",
       "      <td>-0.183</td>\n",
       "      <td>0.367</td>\n",
       "      <td>0.348</td>\n",
       "      <td>-0.056</td>\n",
       "      <td>-0.066</td>\n",
       "      <td>0.015</td>\n",
       "      <td>0.128</td>\n",
       "      <td>-0.031</td>\n",
       "      <td>-0.003</td>\n",
       "      <td>...</td>\n",
       "      <td>NaN</td>\n",
       "      <td>NaN</td>\n",
       "      <td>NaN</td>\n",
       "      <td>NaN</td>\n",
       "      <td>NaN</td>\n",
       "      <td>NaN</td>\n",
       "      <td>NaN</td>\n",
       "      <td>NaN</td>\n",
       "      <td>NaN</td>\n",
       "      <td>NaN</td>\n",
       "    </tr>\n",
       "    <tr>\n",
       "      <th>859586</th>\n",
       "      <td>-0.160</td>\n",
       "      <td>-0.146</td>\n",
       "      <td>0.367</td>\n",
       "      <td>0.366</td>\n",
       "      <td>-0.013</td>\n",
       "      <td>-0.021</td>\n",
       "      <td>0.022</td>\n",
       "      <td>0.128</td>\n",
       "      <td>-0.067</td>\n",
       "      <td>-0.024</td>\n",
       "      <td>...</td>\n",
       "      <td>NaN</td>\n",
       "      <td>NaN</td>\n",
       "      <td>NaN</td>\n",
       "      <td>NaN</td>\n",
       "      <td>NaN</td>\n",
       "      <td>NaN</td>\n",
       "      <td>NaN</td>\n",
       "      <td>NaN</td>\n",
       "      <td>NaN</td>\n",
       "      <td>NaN</td>\n",
       "    </tr>\n",
       "    <tr>\n",
       "      <th>864200</th>\n",
       "      <td>-0.134</td>\n",
       "      <td>-0.213</td>\n",
       "      <td>0.348</td>\n",
       "      <td>0.384</td>\n",
       "      <td>-0.100</td>\n",
       "      <td>-0.021</td>\n",
       "      <td>0.022</td>\n",
       "      <td>0.128</td>\n",
       "      <td>0.000</td>\n",
       "      <td>0.061</td>\n",
       "      <td>...</td>\n",
       "      <td>NaN</td>\n",
       "      <td>NaN</td>\n",
       "      <td>NaN</td>\n",
       "      <td>NaN</td>\n",
       "      <td>NaN</td>\n",
       "      <td>NaN</td>\n",
       "      <td>NaN</td>\n",
       "      <td>NaN</td>\n",
       "      <td>NaN</td>\n",
       "      <td>NaN</td>\n",
       "    </tr>\n",
       "    <tr>\n",
       "      <th>867768</th>\n",
       "      <td>-0.114</td>\n",
       "      <td>-0.153</td>\n",
       "      <td>0.385</td>\n",
       "      <td>0.366</td>\n",
       "      <td>0.074</td>\n",
       "      <td>-0.066</td>\n",
       "      <td>0.015</td>\n",
       "      <td>0.128</td>\n",
       "      <td>-0.067</td>\n",
       "      <td>-0.035</td>\n",
       "      <td>...</td>\n",
       "      <td>NaN</td>\n",
       "      <td>NaN</td>\n",
       "      <td>NaN</td>\n",
       "      <td>NaN</td>\n",
       "      <td>NaN</td>\n",
       "      <td>NaN</td>\n",
       "      <td>NaN</td>\n",
       "      <td>NaN</td>\n",
       "      <td>NaN</td>\n",
       "      <td>NaN</td>\n",
       "    </tr>\n",
       "    <tr>\n",
       "      <th>1344834</th>\n",
       "      <td>-0.173</td>\n",
       "      <td>-0.235</td>\n",
       "      <td>0.348</td>\n",
       "      <td>0.366</td>\n",
       "      <td>0.074</td>\n",
       "      <td>-0.066</td>\n",
       "      <td>0.022</td>\n",
       "      <td>0.168</td>\n",
       "      <td>-0.072</td>\n",
       "      <td>0.061</td>\n",
       "      <td>...</td>\n",
       "      <td>NaN</td>\n",
       "      <td>NaN</td>\n",
       "      <td>NaN</td>\n",
       "      <td>NaN</td>\n",
       "      <td>NaN</td>\n",
       "      <td>NaN</td>\n",
       "      <td>NaN</td>\n",
       "      <td>NaN</td>\n",
       "      <td>NaN</td>\n",
       "      <td>NaN</td>\n",
       "    </tr>\n",
       "    <tr>\n",
       "      <th>1073759</th>\n",
       "      <td>-0.127</td>\n",
       "      <td>-0.190</td>\n",
       "      <td>0.367</td>\n",
       "      <td>0.384</td>\n",
       "      <td>0.031</td>\n",
       "      <td>-0.066</td>\n",
       "      <td>0.022</td>\n",
       "      <td>0.128</td>\n",
       "      <td>0.092</td>\n",
       "      <td>-0.046</td>\n",
       "      <td>...</td>\n",
       "      <td>NaN</td>\n",
       "      <td>NaN</td>\n",
       "      <td>NaN</td>\n",
       "      <td>NaN</td>\n",
       "      <td>NaN</td>\n",
       "      <td>NaN</td>\n",
       "      <td>NaN</td>\n",
       "      <td>NaN</td>\n",
       "      <td>NaN</td>\n",
       "      <td>NaN</td>\n",
       "    </tr>\n",
       "    <tr>\n",
       "      <th>1149436</th>\n",
       "      <td>-0.101</td>\n",
       "      <td>-0.213</td>\n",
       "      <td>0.330</td>\n",
       "      <td>0.330</td>\n",
       "      <td>-0.013</td>\n",
       "      <td>-0.066</td>\n",
       "      <td>0.015</td>\n",
       "      <td>0.128</td>\n",
       "      <td>0.030</td>\n",
       "      <td>0.040</td>\n",
       "      <td>...</td>\n",
       "      <td>NaN</td>\n",
       "      <td>NaN</td>\n",
       "      <td>NaN</td>\n",
       "      <td>NaN</td>\n",
       "      <td>NaN</td>\n",
       "      <td>NaN</td>\n",
       "      <td>NaN</td>\n",
       "      <td>NaN</td>\n",
       "      <td>NaN</td>\n",
       "      <td>NaN</td>\n",
       "    </tr>\n",
       "    <tr>\n",
       "      <th>1336608</th>\n",
       "      <td>-0.127</td>\n",
       "      <td>-0.228</td>\n",
       "      <td>0.367</td>\n",
       "      <td>0.348</td>\n",
       "      <td>0.031</td>\n",
       "      <td>-0.112</td>\n",
       "      <td>0.015</td>\n",
       "      <td>0.168</td>\n",
       "      <td>-0.128</td>\n",
       "      <td>-0.040</td>\n",
       "      <td>...</td>\n",
       "      <td>NaN</td>\n",
       "      <td>NaN</td>\n",
       "      <td>NaN</td>\n",
       "      <td>NaN</td>\n",
       "      <td>NaN</td>\n",
       "      <td>NaN</td>\n",
       "      <td>NaN</td>\n",
       "      <td>NaN</td>\n",
       "      <td>NaN</td>\n",
       "      <td>NaN</td>\n",
       "    </tr>\n",
       "    <tr>\n",
       "      <th>1307848</th>\n",
       "      <td>-0.121</td>\n",
       "      <td>-0.175</td>\n",
       "      <td>0.367</td>\n",
       "      <td>0.384</td>\n",
       "      <td>0.074</td>\n",
       "      <td>-0.066</td>\n",
       "      <td>0.015</td>\n",
       "      <td>0.128</td>\n",
       "      <td>0.046</td>\n",
       "      <td>-0.035</td>\n",
       "      <td>...</td>\n",
       "      <td>NaN</td>\n",
       "      <td>NaN</td>\n",
       "      <td>NaN</td>\n",
       "      <td>NaN</td>\n",
       "      <td>NaN</td>\n",
       "      <td>NaN</td>\n",
       "      <td>NaN</td>\n",
       "      <td>NaN</td>\n",
       "      <td>NaN</td>\n",
       "      <td>NaN</td>\n",
       "    </tr>\n",
       "  </tbody>\n",
       "</table>\n",
       "<p>20 rows × 2125 columns</p>\n",
       "</div>"
      ],
      "text/plain": [
       "         L0_S0_F0  L0_S0_F2  L0_S0_F4  L0_S0_F6  L0_S0_F8  L0_S0_F10  \\\n",
       "Id                                                                     \n",
       "823623     -0.219    -0.243     0.385     0.384    -0.013     -0.066   \n",
       "750490     -0.193    -0.258     0.348     0.348     0.031     -0.066   \n",
       "640276     -0.206    -0.235     0.330     0.366     0.074     -0.021   \n",
       "1264014    -0.127    -0.213     0.348     0.348     0.074     -0.021   \n",
       "441961     -0.147    -0.183     0.330     0.348     0.031     -0.021   \n",
       "401128     -0.127    -0.198     0.385     0.330    -0.013      0.025   \n",
       "320578     -0.114    -0.198     0.385     0.366    -0.013     -0.021   \n",
       "443268     -0.160    -0.198     0.348     0.348    -0.013     -0.066   \n",
       "877334     -0.127    -0.175     0.367     0.312    -0.056     -0.066   \n",
       "333557     -0.212    -0.183     0.312     0.330    -0.013     -0.066   \n",
       "1089216    -0.140    -0.213     0.367     0.384    -0.056     -0.066   \n",
       "948584     -0.121    -0.183     0.367     0.348    -0.056     -0.066   \n",
       "859586     -0.160    -0.146     0.367     0.366    -0.013     -0.021   \n",
       "864200     -0.134    -0.213     0.348     0.384    -0.100     -0.021   \n",
       "867768     -0.114    -0.153     0.385     0.366     0.074     -0.066   \n",
       "1344834    -0.173    -0.235     0.348     0.366     0.074     -0.066   \n",
       "1073759    -0.127    -0.190     0.367     0.384     0.031     -0.066   \n",
       "1149436    -0.101    -0.213     0.330     0.330    -0.013     -0.066   \n",
       "1336608    -0.127    -0.228     0.367     0.348     0.031     -0.112   \n",
       "1307848    -0.121    -0.175     0.367     0.384     0.074     -0.066   \n",
       "\n",
       "         L0_S0_F12  L0_S0_F14  L0_S0_F16  L0_S0_F18      ...       \\\n",
       "Id                                                       ...        \n",
       "823623       0.037      0.168      0.051     -0.115      ...        \n",
       "750490       0.030      0.208     -0.016     -0.030      ...        \n",
       "640276       0.030      0.168     -0.123     -0.104      ...        \n",
       "1264014      0.022      0.128     -0.102     -0.062      ...        \n",
       "441961       0.022      0.128     -0.046     -0.078      ...        \n",
       "401128       0.015      0.128     -0.082     -0.046      ...        \n",
       "320578       0.015      0.128      0.036     -0.019      ...        \n",
       "443268       0.022      0.128      0.102     -0.115      ...        \n",
       "877334       0.015      0.128      0.076     -0.088      ...        \n",
       "333557       0.030      0.128     -0.016     -0.046      ...        \n",
       "1089216      0.022      0.128     -0.005      0.088      ...        \n",
       "948584       0.015      0.128     -0.031     -0.003      ...        \n",
       "859586       0.022      0.128     -0.067     -0.024      ...        \n",
       "864200       0.022      0.128      0.000      0.061      ...        \n",
       "867768       0.015      0.128     -0.067     -0.035      ...        \n",
       "1344834      0.022      0.168     -0.072      0.061      ...        \n",
       "1073759      0.022      0.128      0.092     -0.046      ...        \n",
       "1149436      0.015      0.128      0.030      0.040      ...        \n",
       "1336608      0.015      0.168     -0.128     -0.040      ...        \n",
       "1307848      0.015      0.128      0.046     -0.035      ...        \n",
       "\n",
       "         L3_S50_D4246  L3_S50_D4248  L3_S50_D4250  L3_S50_D4252  L3_S50_D4254  \\\n",
       "Id                                                                              \n",
       "823623            NaN           NaN           NaN           NaN           NaN   \n",
       "750490            NaN           NaN           NaN           NaN           NaN   \n",
       "640276            NaN           NaN           NaN           NaN           NaN   \n",
       "1264014           NaN           NaN           NaN           NaN           NaN   \n",
       "441961            NaN           NaN           NaN           NaN           NaN   \n",
       "401128            NaN           NaN           NaN           NaN           NaN   \n",
       "320578            NaN           NaN           NaN           NaN           NaN   \n",
       "443268            NaN           NaN           NaN           NaN           NaN   \n",
       "877334            NaN           NaN           NaN           NaN           NaN   \n",
       "333557            NaN           NaN           NaN           NaN           NaN   \n",
       "1089216           NaN           NaN           NaN           NaN           NaN   \n",
       "948584            NaN           NaN           NaN           NaN           NaN   \n",
       "859586            NaN           NaN           NaN           NaN           NaN   \n",
       "864200            NaN           NaN           NaN           NaN           NaN   \n",
       "867768            NaN           NaN           NaN           NaN           NaN   \n",
       "1344834           NaN           NaN           NaN           NaN           NaN   \n",
       "1073759           NaN           NaN           NaN           NaN           NaN   \n",
       "1149436           NaN           NaN           NaN           NaN           NaN   \n",
       "1336608           NaN           NaN           NaN           NaN           NaN   \n",
       "1307848           NaN           NaN           NaN           NaN           NaN   \n",
       "\n",
       "         L3_S51_D4255  L3_S51_D4257  L3_S51_D4259  L3_S51_D4261  L3_S51_D4263  \n",
       "Id                                                                             \n",
       "823623            NaN           NaN           NaN           NaN           NaN  \n",
       "750490            NaN           NaN           NaN           NaN           NaN  \n",
       "640276            NaN           NaN           NaN           NaN           NaN  \n",
       "1264014           NaN           NaN           NaN           NaN           NaN  \n",
       "441961            NaN           NaN           NaN           NaN           NaN  \n",
       "401128            NaN           NaN           NaN           NaN           NaN  \n",
       "320578            NaN           NaN           NaN           NaN           NaN  \n",
       "443268            NaN           NaN           NaN           NaN           NaN  \n",
       "877334            NaN           NaN           NaN           NaN           NaN  \n",
       "333557            NaN           NaN           NaN           NaN           NaN  \n",
       "1089216           NaN           NaN           NaN           NaN           NaN  \n",
       "948584            NaN           NaN           NaN           NaN           NaN  \n",
       "859586            NaN           NaN           NaN           NaN           NaN  \n",
       "864200            NaN           NaN           NaN           NaN           NaN  \n",
       "867768            NaN           NaN           NaN           NaN           NaN  \n",
       "1344834           NaN           NaN           NaN           NaN           NaN  \n",
       "1073759           NaN           NaN           NaN           NaN           NaN  \n",
       "1149436           NaN           NaN           NaN           NaN           NaN  \n",
       "1336608           NaN           NaN           NaN           NaN           NaN  \n",
       "1307848           NaN           NaN           NaN           NaN           NaN  \n",
       "\n",
       "[20 rows x 2125 columns]"
      ]
     },
     "execution_count": 49,
     "metadata": {},
     "output_type": "execute_result"
    }
   ],
   "source": [
    "sorted_combo.head(20)"
   ]
  },
  {
   "cell_type": "code",
   "execution_count": 47,
   "metadata": {
    "collapsed": false
   },
   "outputs": [
    {
     "data": {
      "text/plain": [
       "<matplotlib.axes._subplots.AxesSubplot at 0x7fa7605e25d0>"
      ]
     },
     "execution_count": 47,
     "metadata": {},
     "output_type": "execute_result"
    },
    {
     "data": {
      "image/png": "[encoded data removed]",
      "text/plain": [
       "<matplotlib.figure.Figure at 0x7fa7622d0210>"
      ]
     },
     "metadata": {},
     "output_type": "display_data"
    }
   ],
   "source": [
    "pd.Series(sorted_combo.index).hist(bins=50)"
   ]
  },
  {
   "cell_type": "code",
   "execution_count": null,
   "metadata": {
    "collapsed": true
   },
   "outputs": [],
   "source": []
  },
  {
   "cell_type": "code",
   "execution_count": null,
   "metadata": {
    "collapsed": true
   },
   "outputs": [],
   "source": []
  },
  {
   "cell_type": "code",
   "execution_count": null,
   "metadata": {
    "collapsed": true
   },
   "outputs": [],
   "source": []
  },
  {
   "cell_type": "markdown",
   "metadata": {},
   "source": [
    "#### load the regular data"
   ]
  },
  {
   "cell_type": "code",
   "execution_count": null,
   "metadata": {
    "collapsed": false,
    "scrolled": true
   },
   "outputs": [],
   "source": [
    "'''\n",
    "nrows = 50000\n",
    "## select all the numerical columns and try to use LR\n",
    "start_time = time.time()\n",
    "train_num = pd.read_csv(join(data_path, train_num_file),    index_col='Id', nrows = nrows)\n",
    "train_dat = pd.read_csv(join(data_path, train_date_file),   index_col='Id', nrows = nrows)\n",
    "train_cat = pd.read_csv(join(data_path, train_cat_file),    index_col='Id', nrows = nrows)\n",
    "print 'finish loading date using {} seconds'.format(round(time.time() - start_time, 0))\n",
    "print train_dat.shape, train_num.shape, train_cat.shape\n",
    "'''"
   ]
  },
  {
   "cell_type": "code",
   "execution_count": 12,
   "metadata": {
    "collapsed": true
   },
   "outputs": [],
   "source": [
    "tmp_train_num = train_num\n",
    "tmp_train_dat = train_dat\n",
    "tmp_train_cat = train_cat\n",
    "#tmp_train_num = train_num.copy()\n",
    "#tmp_train_dat = train_dat.copy()\n",
    "#tmp_train_cat = train_cat.copy()"
   ]
  },
  {
   "cell_type": "markdown",
   "metadata": {},
   "source": [
    "### stat processing categorical features"
   ]
  },
  {
   "cell_type": "code",
   "execution_count": 13,
   "metadata": {
    "collapsed": false
   },
   "outputs": [],
   "source": [
    "\n",
    "def BasicCat_FeatureEngineering(train_cat):\n",
    "    ## feature engineering on the date features\n",
    "    encoder = preprocessing.LabelEncoder()\n",
    "    column_names = train_cat.columns.tolist()\n",
    "    column_names.append('NaN')\n",
    "    encoder.fit(column_names)\n",
    "    dat_new_fea = pd.DataFrame()\n",
    "    dat_new_fea['cat_sum'] = train_cat.sum(axis=1)\n",
    "    dat_new_fea['cat_mean'] = train_cat.mean(axis=1)\n",
    "    dat_new_fea['cat_nan_count'] = train_cat.isnull().sum(axis=1)\n",
    "    dat_new_fea['cat_max'] = train_cat.max(axis=1)\n",
    "    dat_new_fea['cat_min'] = train_cat.min(axis=1)\n",
    "    dat_new_fea['cat_max_min_diff'] = dat_new_fea['cat_max'] - dat_new_fea['cat_min']\n",
    "    dat_new_fea['cat_max_min_ratio'] = dat_new_fea['cat_min'] / dat_new_fea['cat_max']\n",
    "\n",
    "    dat_new_fea['cat_idxmax'] = train_cat.idxmax(axis=1)\n",
    "    dat_new_fea['cag_idxmax'].fillna('NaN', inplace=True)\n",
    "    dat_new_fea['cat_idxmax'] = encoder.transform(dat_new_fea['cat_idxmax'])\n",
    "    dat_new_fea['cat_idxmin'] = train_cat.idxmin(axis=1)\n",
    "    dat_new_fea['cat_idxmin'].fillna('NaN', inplace=True)\n",
    "    dat_new_fea['cat_idxmin'] = encoder.transform(dat_new_fea['cat_idxmin'])\n",
    "    return dat_new_fea"
   ]
  },
  {
   "cell_type": "code",
   "execution_count": 14,
   "metadata": {
    "collapsed": false
   },
   "outputs": [
    {
     "name": "stdout",
     "output_type": "stream",
     "text": [
      "raw train data dimension:  (50000, 2140)\n",
      "processed train data dimension:  (50000, 705)\n",
      "raw train data dimension:  (50000, 969)\n",
      "processed train data dimension:  (50000, 780)\n",
      "raw train data dimension:  (50000, 1156)\n",
      "processed train data dimension:  (50000, 931)\n"
     ]
    }
   ],
   "source": [
    "remove_single_value_columns(tmp_train_cat)\n",
    "remove_single_value_columns(tmp_train_num)\n",
    "remove_single_value_columns(tmp_train_dat)"
   ]
  },
  {
   "cell_type": "markdown",
   "metadata": {
    "collapsed": false
   },
   "source": [
    "#### collect all the unique levels from categorical features and transform data by each level"
   ]
  },
  {
   "cell_type": "code",
   "execution_count": 15,
   "metadata": {
    "collapsed": false
   },
   "outputs": [],
   "source": [
    "unique_value_set = set()\n",
    "for col in tmp_train_cat.columns:\n",
    "    uniques = tmp_train_cat[col].dropna().unique()\n",
    "    unique_value_set |= set(uniques)\n",
    "    \n",
    "level_mapping_dict = {}\n",
    "for i, value in enumerate(sorted(list(unique_value_set))):\n",
    "    level_mapping_dict[value] = i + 1"
   ]
  },
  {
   "cell_type": "code",
   "execution_count": 16,
   "metadata": {
    "collapsed": false
   },
   "outputs": [],
   "source": [
    "sorted_level_list = list(unique_value_set)\n",
    "sorted_level_list = sorted(sorted_level_list)"
   ]
  },
  {
   "cell_type": "code",
   "execution_count": 17,
   "metadata": {
    "collapsed": false
   },
   "outputs": [
    {
     "name": "stdout",
     "output_type": "stream",
     "text": [
      "finish categorical feature engineering date using 7.86 minutes\n"
     ]
    }
   ],
   "source": [
    "## generic function to encode categorical features\n",
    "def sweep_up_categorical_encode_by_dep_var(df, fea_name, test_df = None, dep_var_name='Response', count_thres = 10, nan_fill = -1., const_scale = 1.):\n",
    "    tmp_df = df[[fea_name, dep_var_name]]\n",
    "    tmp_df = tmp_df.fillna(nan_fill)\n",
    "    value_counts = tmp_df[fea_name].value_counts()\n",
    "    minor_keys = []\n",
    "    key_dep_var_map = {}\n",
    "    \n",
    "    ## training sweep-up\n",
    "    for counts, key in zip(value_counts.values, value_counts.index):\n",
    "        if counts > count_thres:\n",
    "            mean_dep_var = const_scale * tmp_df.loc[tmp_df[fea_name] == key, dep_var_name].mean()\n",
    "            key_dep_var_map[key] = mean_dep_var\n",
    "        else:\n",
    "            minor_keys.append(key)\n",
    "            \n",
    "    ## mean value of dep_var for all the minor levels\n",
    "    if len(minor_keys) > 0:\n",
    "        minor_key_dep_var_mean = const_scale * tmp_df.loc[tmp_df[fea_name].isin(minor_keys), dep_var_name].mean()\n",
    "        ## update the key_dep_var_map with minor key\n",
    "        for key in minor_keys:\n",
    "            key_dep_var_map[key] = minor_key_dep_var_mean\n",
    "    \n",
    "    encoded_train = tmp_df[fea_name].replace(key_dep_var_map)\n",
    "    overall_mean_dep_var = tmp_df[dep_var_name].mean()\n",
    "    \n",
    "    ## sweep up the test column\n",
    "    if test_df is not None:\n",
    "        test_value_counts = test_df[fea_name].value_counts()\n",
    "        test_minor_keys = []\n",
    "        test_key_dep_var_map = key_dep_var_map.copy()\n",
    "    \n",
    "        for counts, key in zip(test_value_counts.values, test_value_counts.index):\n",
    "            if key not in test_key_dep_var_map:\n",
    "                print 'new level {} with counts {} found in test data'.format(key, counts)\n",
    "                if counts > count_thres:\n",
    "                    print 'warning! new level {} is found in test data!'.format(key)\n",
    "                else:\n",
    "                    test_minor_keys.append(key)\n",
    "        \n",
    "        if len(test_minor_keys) > 0:\n",
    "            for key in test_minor_keys:\n",
    "                test_key_dep_var_map[key] = const_scale * overall_mean_dep_var\n",
    "        \n",
    "        encoded_test = test_df[fea_name].replace(test_key_dep_var_map)\n",
    "        return encoded_train, encoded_test\n",
    "    \n",
    "    else:\n",
    "        return encoded_train\n",
    "    \n",
    "    \n",
    "    \n",
    "\n",
    "def getCat_LevelFeatures(series):\n",
    "    feature_array = []\n",
    "    tmp_series = series.dropna()\n",
    "    for level in sorted_level_list:\n",
    "        if sum(tmp_series.isin([level])):\n",
    "            level_index = tmp_series[tmp_series == level].index\n",
    "            feature_array.extend([level_index[0], level_index[-1], len(level_index)])\n",
    "        else:\n",
    "            feature_array.extend(['NaN', 'NaN', 0])\n",
    "    return pd.Series(feature_array)       \n",
    "    #print series.value_counts()       \n",
    "    value_counts = series.value_counts()\n",
    "\n",
    "    \n",
    "start_time = time.time()\n",
    "\n",
    "levelFeatures = tmp_train_cat.apply(getCat_LevelFeatures, axis=1)\n",
    "\n",
    "print 'finish categorical feature engineering date using {} minutes'.format(round((time.time() - start_time)/60., 2))"
   ]
  },
  {
   "cell_type": "code",
   "execution_count": null,
   "metadata": {
    "collapsed": true
   },
   "outputs": [],
   "source": []
  },
  {
   "cell_type": "code",
   "execution_count": null,
   "metadata": {
    "collapsed": true
   },
   "outputs": [],
   "source": []
  },
  {
   "cell_type": "code",
   "execution_count": 18,
   "metadata": {
    "collapsed": true
   },
   "outputs": [],
   "source": [
    "#sorted_level_list\n",
    "column_name_features = []\n",
    "cat_fea_names = []\n",
    "for level in sorted_level_list:\n",
    "    cat_fea_names.extend(['level_{}_start_column'.format(level), \n",
    "                          'level_{}_end_column'.format(level), \n",
    "                          'level_{}_column_counts'.format(level)])\n",
    "    \n",
    "    column_name_features.extend(['level_{}_start_column'.format(level), \n",
    "                                 'level_{}_end_column'.format(level)])"
   ]
  },
  {
   "cell_type": "code",
   "execution_count": 19,
   "metadata": {
    "collapsed": false
   },
   "outputs": [],
   "source": [
    "levelFeatures.columns = cat_fea_names\n",
    "\n",
    "encoder = preprocessing.LabelEncoder()\n",
    "column_names = train_cat.columns.tolist()\n",
    "column_names.append('NaN')\n",
    "encoder.fit(column_names)\n",
    "\n",
    "for col in column_name_features:\n",
    "    levelFeatures[col] = encoder.transform(levelFeatures[col]) "
   ]
  },
  {
   "cell_type": "code",
   "execution_count": 20,
   "metadata": {
    "collapsed": false
   },
   "outputs": [
    {
     "name": "stdout",
     "output_type": "stream",
     "text": [
      "(50000, 705)\n",
      "(50000, 700)\n"
     ]
    }
   ],
   "source": [
    "## One-Hot encode important categorical columns\n",
    "print tmp_train_cat.shape\n",
    "imp_cat_fea = ['L3_S29_F3317', 'L3_S35_F3907', 'L3_S49_F4217', 'L3_S35_F3902', 'L3_S32_F3851', 'L3_S32_F3854']\n",
    "cat_fea = []\n",
    "for col in imp_cat_fea:\n",
    "    if col in tmp_train_cat.columns:\n",
    "        cat_fea.append(col)\n",
    "\n",
    "imp_cat_df = tmp_train_cat[cat_fea].astype(str)\n",
    "oneHot_combined_cat = pd.get_dummies(imp_cat_df, dummy_na=True)\n",
    "tmp_train_cat = tmp_train_cat.ix[:, ~tmp_train_cat.columns.isin(imp_cat_fea)]\n",
    "print tmp_train_cat.shape"
   ]
  },
  {
   "cell_type": "code",
   "execution_count": 21,
   "metadata": {
    "collapsed": false
   },
   "outputs": [
    {
     "name": "stdout",
     "output_type": "stream",
     "text": [
      "(50000, 30)\n"
     ]
    }
   ],
   "source": [
    "print oneHot_combined_cat.shape"
   ]
  },
  {
   "cell_type": "code",
   "execution_count": 24,
   "metadata": {
    "collapsed": false
   },
   "outputs": [
    {
     "data": {
      "text/html": [
       "<div>\n",
       "<table border=\"1\" class=\"dataframe\">\n",
       "  <thead>\n",
       "    <tr style=\"text-align: right;\">\n",
       "      <th></th>\n",
       "      <th>level_-2147483648.0_start_column</th>\n",
       "      <th>level_-2147483648.0_end_column</th>\n",
       "      <th>level_-2147483648.0_column_counts</th>\n",
       "      <th>level_-2147482688.0_start_column</th>\n",
       "      <th>level_-2147482688.0_end_column</th>\n",
       "      <th>level_-2147482688.0_column_counts</th>\n",
       "      <th>level_-2147482432.0_start_column</th>\n",
       "      <th>level_-2147482432.0_end_column</th>\n",
       "      <th>level_-2147482432.0_column_counts</th>\n",
       "      <th>level_-2147481664.0_start_column</th>\n",
       "      <th>...</th>\n",
       "      <th>level_16777248.0_column_counts</th>\n",
       "      <th>level_16777557.0_start_column</th>\n",
       "      <th>level_16777557.0_end_column</th>\n",
       "      <th>level_16777557.0_column_counts</th>\n",
       "      <th>level_33554448.0_start_column</th>\n",
       "      <th>level_33554448.0_end_column</th>\n",
       "      <th>level_33554448.0_column_counts</th>\n",
       "      <th>level_134217728.0_start_column</th>\n",
       "      <th>level_134217728.0_end_column</th>\n",
       "      <th>level_134217728.0_column_counts</th>\n",
       "    </tr>\n",
       "    <tr>\n",
       "      <th>Id</th>\n",
       "      <th></th>\n",
       "      <th></th>\n",
       "      <th></th>\n",
       "      <th></th>\n",
       "      <th></th>\n",
       "      <th></th>\n",
       "      <th></th>\n",
       "      <th></th>\n",
       "      <th></th>\n",
       "      <th></th>\n",
       "      <th></th>\n",
       "      <th></th>\n",
       "      <th></th>\n",
       "      <th></th>\n",
       "      <th></th>\n",
       "      <th></th>\n",
       "      <th></th>\n",
       "      <th></th>\n",
       "      <th></th>\n",
       "      <th></th>\n",
       "      <th></th>\n",
       "    </tr>\n",
       "  </thead>\n",
       "  <tbody>\n",
       "    <tr>\n",
       "      <th>26</th>\n",
       "      <td>705</td>\n",
       "      <td>705</td>\n",
       "      <td>NaN</td>\n",
       "      <td>705</td>\n",
       "      <td>705</td>\n",
       "      <td>NaN</td>\n",
       "      <td>705</td>\n",
       "      <td>705</td>\n",
       "      <td>NaN</td>\n",
       "      <td>705</td>\n",
       "      <td>...</td>\n",
       "      <td>NaN</td>\n",
       "      <td>705</td>\n",
       "      <td>705</td>\n",
       "      <td>NaN</td>\n",
       "      <td>705</td>\n",
       "      <td>705</td>\n",
       "      <td>NaN</td>\n",
       "      <td>705</td>\n",
       "      <td>705</td>\n",
       "      <td>NaN</td>\n",
       "    </tr>\n",
       "    <tr>\n",
       "      <th>49</th>\n",
       "      <td>705</td>\n",
       "      <td>705</td>\n",
       "      <td>NaN</td>\n",
       "      <td>705</td>\n",
       "      <td>705</td>\n",
       "      <td>NaN</td>\n",
       "      <td>705</td>\n",
       "      <td>705</td>\n",
       "      <td>NaN</td>\n",
       "      <td>705</td>\n",
       "      <td>...</td>\n",
       "      <td>NaN</td>\n",
       "      <td>705</td>\n",
       "      <td>705</td>\n",
       "      <td>NaN</td>\n",
       "      <td>705</td>\n",
       "      <td>705</td>\n",
       "      <td>NaN</td>\n",
       "      <td>705</td>\n",
       "      <td>705</td>\n",
       "      <td>NaN</td>\n",
       "    </tr>\n",
       "    <tr>\n",
       "      <th>56</th>\n",
       "      <td>705</td>\n",
       "      <td>705</td>\n",
       "      <td>NaN</td>\n",
       "      <td>705</td>\n",
       "      <td>705</td>\n",
       "      <td>NaN</td>\n",
       "      <td>705</td>\n",
       "      <td>705</td>\n",
       "      <td>NaN</td>\n",
       "      <td>705</td>\n",
       "      <td>...</td>\n",
       "      <td>NaN</td>\n",
       "      <td>705</td>\n",
       "      <td>705</td>\n",
       "      <td>NaN</td>\n",
       "      <td>705</td>\n",
       "      <td>705</td>\n",
       "      <td>NaN</td>\n",
       "      <td>705</td>\n",
       "      <td>705</td>\n",
       "      <td>NaN</td>\n",
       "    </tr>\n",
       "    <tr>\n",
       "      <th>86</th>\n",
       "      <td>705</td>\n",
       "      <td>705</td>\n",
       "      <td>NaN</td>\n",
       "      <td>705</td>\n",
       "      <td>705</td>\n",
       "      <td>NaN</td>\n",
       "      <td>705</td>\n",
       "      <td>705</td>\n",
       "      <td>NaN</td>\n",
       "      <td>705</td>\n",
       "      <td>...</td>\n",
       "      <td>NaN</td>\n",
       "      <td>705</td>\n",
       "      <td>705</td>\n",
       "      <td>NaN</td>\n",
       "      <td>705</td>\n",
       "      <td>705</td>\n",
       "      <td>NaN</td>\n",
       "      <td>705</td>\n",
       "      <td>705</td>\n",
       "      <td>NaN</td>\n",
       "    </tr>\n",
       "    <tr>\n",
       "      <th>93</th>\n",
       "      <td>705</td>\n",
       "      <td>705</td>\n",
       "      <td>NaN</td>\n",
       "      <td>705</td>\n",
       "      <td>705</td>\n",
       "      <td>NaN</td>\n",
       "      <td>705</td>\n",
       "      <td>705</td>\n",
       "      <td>NaN</td>\n",
       "      <td>705</td>\n",
       "      <td>...</td>\n",
       "      <td>NaN</td>\n",
       "      <td>705</td>\n",
       "      <td>705</td>\n",
       "      <td>NaN</td>\n",
       "      <td>705</td>\n",
       "      <td>705</td>\n",
       "      <td>NaN</td>\n",
       "      <td>705</td>\n",
       "      <td>705</td>\n",
       "      <td>NaN</td>\n",
       "    </tr>\n",
       "  </tbody>\n",
       "</table>\n",
       "<p>5 rows × 96 columns</p>\n",
       "</div>"
      ],
      "text/plain": [
       "    level_-2147483648.0_start_column  level_-2147483648.0_end_column  \\\n",
       "Id                                                                     \n",
       "26                               705                             705   \n",
       "49                               705                             705   \n",
       "56                               705                             705   \n",
       "86                               705                             705   \n",
       "93                               705                             705   \n",
       "\n",
       "    level_-2147483648.0_column_counts  level_-2147482688.0_start_column  \\\n",
       "Id                                                                        \n",
       "26                                NaN                               705   \n",
       "49                                NaN                               705   \n",
       "56                                NaN                               705   \n",
       "86                                NaN                               705   \n",
       "93                                NaN                               705   \n",
       "\n",
       "    level_-2147482688.0_end_column  level_-2147482688.0_column_counts  \\\n",
       "Id                                                                      \n",
       "26                             705                                NaN   \n",
       "49                             705                                NaN   \n",
       "56                             705                                NaN   \n",
       "86                             705                                NaN   \n",
       "93                             705                                NaN   \n",
       "\n",
       "    level_-2147482432.0_start_column  level_-2147482432.0_end_column  \\\n",
       "Id                                                                     \n",
       "26                               705                             705   \n",
       "49                               705                             705   \n",
       "56                               705                             705   \n",
       "86                               705                             705   \n",
       "93                               705                             705   \n",
       "\n",
       "    level_-2147482432.0_column_counts  level_-2147481664.0_start_column  \\\n",
       "Id                                                                        \n",
       "26                                NaN                               705   \n",
       "49                                NaN                               705   \n",
       "56                                NaN                               705   \n",
       "86                                NaN                               705   \n",
       "93                                NaN                               705   \n",
       "\n",
       "                 ...                 level_16777248.0_column_counts  \\\n",
       "Id               ...                                                  \n",
       "26               ...                                            NaN   \n",
       "49               ...                                            NaN   \n",
       "56               ...                                            NaN   \n",
       "86               ...                                            NaN   \n",
       "93               ...                                            NaN   \n",
       "\n",
       "    level_16777557.0_start_column  level_16777557.0_end_column  \\\n",
       "Id                                                               \n",
       "26                            705                          705   \n",
       "49                            705                          705   \n",
       "56                            705                          705   \n",
       "86                            705                          705   \n",
       "93                            705                          705   \n",
       "\n",
       "    level_16777557.0_column_counts  level_33554448.0_start_column  \\\n",
       "Id                                                                  \n",
       "26                             NaN                            705   \n",
       "49                             NaN                            705   \n",
       "56                             NaN                            705   \n",
       "86                             NaN                            705   \n",
       "93                             NaN                            705   \n",
       "\n",
       "    level_33554448.0_end_column  level_33554448.0_column_counts  \\\n",
       "Id                                                                \n",
       "26                          705                             NaN   \n",
       "49                          705                             NaN   \n",
       "56                          705                             NaN   \n",
       "86                          705                             NaN   \n",
       "93                          705                             NaN   \n",
       "\n",
       "    level_134217728.0_start_column  level_134217728.0_end_column  \\\n",
       "Id                                                                 \n",
       "26                             705                           705   \n",
       "49                             705                           705   \n",
       "56                             705                           705   \n",
       "86                             705                           705   \n",
       "93                             705                           705   \n",
       "\n",
       "    level_134217728.0_column_counts  \n",
       "Id                                   \n",
       "26                              NaN  \n",
       "49                              NaN  \n",
       "56                              NaN  \n",
       "86                              NaN  \n",
       "93                              NaN  \n",
       "\n",
       "[5 rows x 96 columns]"
      ]
     },
     "execution_count": 24,
     "metadata": {},
     "output_type": "execute_result"
    }
   ],
   "source": [
    "#levelFeatures.head()"
   ]
  },
  {
   "cell_type": "code",
   "execution_count": 48,
   "metadata": {
    "collapsed": false
   },
   "outputs": [],
   "source": [
    "## fill up the NaN in categorical data with 0.\n",
    "tmp_train_cat = tmp_train_cat.fillna(0.)"
   ]
  },
  {
   "cell_type": "code",
   "execution_count": 43,
   "metadata": {
    "collapsed": false
   },
   "outputs": [],
   "source": [
    "#levelFeatures = levelFeatures.fillna(0)"
   ]
  },
  {
   "cell_type": "code",
   "execution_count": null,
   "metadata": {
    "collapsed": false,
    "scrolled": true
   },
   "outputs": [],
   "source": [
    "'''\n",
    "print levelFeatures.shape\n",
    "levelFeatures.head()\n",
    "\n",
    "print tmp_train_cat.shape\n",
    "tmp_train_cat.head()\n",
    "'''"
   ]
  },
  {
   "cell_type": "code",
   "execution_count": 50,
   "metadata": {
    "collapsed": true
   },
   "outputs": [],
   "source": [
    "combined_train_cat = pd.concat([tmp_train_cat, oneHot_combined_cat, levelFeatures], axis=1)"
   ]
  },
  {
   "cell_type": "code",
   "execution_count": 51,
   "metadata": {
    "collapsed": false
   },
   "outputs": [
    {
     "name": "stdout",
     "output_type": "stream",
     "text": [
      "(50000, 826)\n"
     ]
    }
   ],
   "source": [
    "print combined_train_cat.shape"
   ]
  },
  {
   "cell_type": "code",
   "execution_count": null,
   "metadata": {
    "collapsed": true
   },
   "outputs": [],
   "source": []
  },
  {
   "cell_type": "markdown",
   "metadata": {
    "collapsed": false
   },
   "source": [
    "### functions to process numerical and date features"
   ]
  },
  {
   "cell_type": "code",
   "execution_count": 72,
   "metadata": {
    "collapsed": false
   },
   "outputs": [],
   "source": [
    "\n",
    "\n",
    "def BasicDate_FeatureEngineering(tmp_train_dat):\n",
    "    ## feature engineering on the date features\n",
    "    encoder = preprocessing.LabelEncoder()\n",
    "    column_names = tmp_train_dat.columns.tolist()\n",
    "    column_names.append('NaN')\n",
    "    encoder.fit(column_names)\n",
    "    dat_new_fea = pd.DataFrame()\n",
    "    dat_new_fea['start_time'] = tmp_train_dat['L0_S0_D1']\n",
    "    dat_new_fea['time_sum'] = tmp_train_dat.sum(axis=1)\n",
    "    dat_new_fea['time_mean'] = tmp_train_dat.mean(axis=1)\n",
    "    dat_new_fea['dat_nan_count'] = tmp_train_dat.isnull().sum(axis=1)\n",
    "    dat_new_fea['max_time'] = tmp_train_dat.max(axis=1)\n",
    "    dat_new_fea['min_time'] = tmp_train_dat.min(axis=1)\n",
    "    dat_new_fea['dat_max_min_diff'] = dat_new_fea['max_time'] - dat_new_fea['min_time']\n",
    "    dat_new_fea['dat_max_min_ratio'] = dat_new_fea['min_time'] / dat_new_fea['max_time']\n",
    "\n",
    "    dat_new_fea['dat_idxmax'] = tmp_train_dat.idxmax(axis=1)\n",
    "    dat_new_fea['dat_idxmax'].fillna('NaN', inplace=True)\n",
    "    dat_new_fea['dat_idxmax'] = encoder.transform(dat_new_fea['dat_idxmax'])\n",
    "    dat_new_fea['dat_idxmin'] = tmp_train_dat.idxmin(axis=1)\n",
    "    dat_new_fea['dat_idxmin'].fillna('NaN', inplace=True)\n",
    "    dat_new_fea['dat_idxmin'] = encoder.transform(dat_new_fea['dat_idxmin'])\n",
    "    return dat_new_fea\n",
    "\n",
    "\n",
    "def getRelativeTimeColumns(series):\n",
    "    '''\n",
    "    normalize the time features by\n",
    "    the start_time, the first none-NaN\n",
    "    value\n",
    "    '''\n",
    "    if series[0] == np.NaN:\n",
    "        start_time = series.dropna().index[0]\n",
    "    else:\n",
    "        start_time = series[0]\n",
    "    new_series = series - start_time\n",
    "    return new_series\n",
    "   \n",
    "\n",
    "\n",
    "def getTimeSteps(series, unique_value_counts = 10):\n",
    "    '''\n",
    "    in each row/series, use the sorted value_count\n",
    "    to find the time steps and use the value, counts\n",
    "    and column_index as features\n",
    "    '''\n",
    "    value_counts = series.value_counts()\n",
    "    value_counts.sort_index(inplace=True)\n",
    "\n",
    "    if 0. in value_counts.index:\n",
    "        value_counts = value_counts[value_counts.index != 0.]\n",
    "        \n",
    "    available_counts = value_counts.shape[0]\n",
    "    feature_array = []\n",
    "    for i in xrange(unique_value_counts):\n",
    "        if i < available_counts:\n",
    "            value = value_counts.index[i]\n",
    "            counts = value_counts[value]\n",
    "            first_index = series[series == value].index[0]\n",
    "            avg_time_cost = value / counts\n",
    "            feature = [value, counts, avg_time_cost, first_index]\n",
    "        else:\n",
    "            feature = [-1., 0., 0., 'NaN']\n",
    "        feature_array.extend(feature)\n",
    "\n",
    "    return pd.Series(feature_array)\n",
    "\n",
    "\n",
    "\n",
    "def getTimeChangeColumns(series):\n",
    "    start_time = series[0]\n",
    "    tmp_series = series.dropna()\n",
    "    if start_time == np.NaN:\n",
    "        first_index    = tmp_series.index[0]\n",
    "        last_index     = tmp_series.index[-1]\n",
    "        first_id_value = tmp_series[first_index]\n",
    "        last_id_value  = tmp_series[last_index]\n",
    "        time_diff      = last_id_value - first_id_value\n",
    "        return pd.Series([first_index, last_index, time_diff, first_id_value, last_id_value])\n",
    "    else:\n",
    "        if np.sum(tmp_series != start_time) == 0:\n",
    "            return pd.Series([np.NaN, np.NaN, np.NaN])\n",
    "        else:\n",
    "            first_index    = tmp_series.index[tmp_series != start_time][0]\n",
    "            last_index     = tmp_series.index[tmp_series != start_time][-1]\n",
    "            first_id_value = series[first_index]\n",
    "            last_id_value  = series[last_index]\n",
    "            first_id_value = tmp_series[first_index]\n",
    "            last_id_value  = tmp_series[last_index]\n",
    "            time_diff      = last_id_value - first_id_value\n",
    "            return pd.Series([first_index, last_index, time_diff, first_id_value, last_id_value])\n",
    "\n",
    "\n",
    "        \n",
    "def getNonNaN_ColumIndex(series):\n",
    "    if series.notnull().sum() == 0:\n",
    "        return pd.Series([np.NaN, np.NaN, np.NaN])\n",
    "    else:\n",
    "        first_id = series[series.notnull()].index[0]\n",
    "        last_id = series[series.notnull()].index[-1]\n",
    "        time_diff = series[last_id] - series[first_id]\n",
    "        return pd.Series([first_id, last_id, time_diff, first_time_value, last_time_value])\n",
    "\n",
    "\n",
    "\n",
    "    \n",
    "    \n",
    "    \n",
    "    \n",
    "def DateFeatureEngineering(series):\n",
    "    '''\n",
    "    combination of time difference features and none-NaN features    \n",
    "    this method is faster than separating two functions\n",
    "    '''\n",
    "    ## time features\n",
    "    start_time = series[0]\n",
    "    tmp_series = series.dropna()\n",
    "    if start_time == np.NaN:\n",
    "        first_index = tmp_series.index[0]\n",
    "        last_index  = tmp_series.index[-1]\n",
    "        time_diff   = tmp_series[last_index] - tmp_series[first_index]\n",
    "        time_fea    = np.array([first_index, last_index, time_diff])\n",
    "    else:\n",
    "        if np.sum(tmp_series != start_time) == 0:\n",
    "            time_fea = np.array([np.NaN, np.NaN, np.NaN])\n",
    "        else:\n",
    "            first_index = tmp_series.index[tmp_series != start_time][0]\n",
    "            last_index  = tmp_series.index[tmp_series != start_time][-1]\n",
    "            time_diff   = tmp_series[last_index] - tmp_series[first_index]\n",
    "            time_fea = np.array([first_index, last_index, time_diff])\n",
    "    ## none-NaN features\n",
    "    if series.notnull().sum() == 0:\n",
    "        nan_fea = np.array([np.NaN, np.NaN, np.NaN])\n",
    "    else:\n",
    "        first_id  = tmp_series.index[0]\n",
    "        last_id   = tmp_series.index[-1]\n",
    "        time_diff = tmp_series[last_id] - tmp_series[first_id]\n",
    "        nan_fea = np.array([first_id, last_id, time_diff])\n",
    "         \n",
    "    new_fea_row = np.concatenate([time_fea, nan_fea])\n",
    "    return pd.Series(new_fea_row)"
   ]
  },
  {
   "cell_type": "markdown",
   "metadata": {},
   "source": [
    "### start processing numerical features"
   ]
  },
  {
   "cell_type": "code",
   "execution_count": 53,
   "metadata": {
    "collapsed": false
   },
   "outputs": [],
   "source": [
    "\n",
    "\n",
    "def NumericalFeatureEngineering(df, col_ignore = ['Response']):\n",
    "    tmp_df = df.loc[:, ~df.columns.isin(col_ignore)]\n",
    "    new_fea_df = pd.DataFrame()\n",
    "    encoder = preprocessing.LabelEncoder()\n",
    "    column_names = tmp_df.columns.tolist()\n",
    "    column_names.append('NaN')\n",
    "    encoder.fit(column_names)\n",
    "    \n",
    "    new_fea_df['num_mean'] = tmp_df.mean(axis=1)\n",
    "    \n",
    "    new_fea_df['num_sum'] = tmp_df.sum(axis=1)\n",
    "    #num_sum_max = new_fea_df['num_sum'].max()\n",
    "    #new_fea_df['num_sum'].fillna(1.*int(num_sum_max - 5), inplace=True)\n",
    "    new_fea_df['num_max'] = tmp_df.max(axis=1)\n",
    "    #num_max_max = new_fea_df['num_max'].max()\n",
    "    #new_fea_df['num_max'].fillna(1.*int(num_max_max + 1), inplace=True)\n",
    "    new_fea_df['num_min'] = tmp_df.min(axis=1)\n",
    "    #num_min_min = new_fea_df['num_min'].min()\n",
    "    #new_fea_df['num_min'].fillna(1.*int(num_min_min - 1.), inplace=True)\n",
    "    new_fea_df['num_max_min_ratio'] = new_fea_df['num_min'] / new_fea_df['num_max']\n",
    "    new_fea_df['num_max_min_ratio'] = new_fea_df['num_max_min_ratio'].replace([np.inf, -np.inf], np.NaN)\n",
    "    new_fea_df['num_nan_col_count'] = tmp_df.isnull().sum(axis=1)\n",
    "    new_fea_df['num_reg_col_count'] = tmp_df.shape[1] - tmp_df.isnull().sum(axis=1)\n",
    "    new_fea_df['num_idxmax'] = tmp_df.idxmax(axis=1)\n",
    "    new_fea_df['num_idxmax'].fillna('NaN', inplace=True)\n",
    "    new_fea_df['num_idxmax'] = encoder.transform(new_fea_df['num_idxmax'])\n",
    "    new_fea_df['num_idxmin'] = tmp_df.idxmin(axis=1)\n",
    "    new_fea_df['num_idxmin'].fillna('NaN', inplace=True)\n",
    "    new_fea_df['num_idxmin'] = encoder.transform(new_fea_df['num_idxmin'])\n",
    "    return new_fea_df\n"
   ]
  },
  {
   "cell_type": "code",
   "execution_count": 54,
   "metadata": {
    "collapsed": false
   },
   "outputs": [],
   "source": [
    "tmp_train_num_Basics = NumericalFeatureEngineering(tmp_train_num)"
   ]
  },
  {
   "cell_type": "code",
   "execution_count": null,
   "metadata": {
    "collapsed": false
   },
   "outputs": [],
   "source": [
    "#print tmp_train_num_Basics.min().min(), tmp_train_num_Basics.max().max()"
   ]
  },
  {
   "cell_type": "markdown",
   "metadata": {},
   "source": [
    "#### fill up the NaN in numerical features with nan_fill_value"
   ]
  },
  {
   "cell_type": "code",
   "execution_count": null,
   "metadata": {
    "collapsed": true
   },
   "outputs": [],
   "source": [
    "#print tmp_train_num.max().max(), '\\n', tmp_train_num.min().min()"
   ]
  },
  {
   "cell_type": "code",
   "execution_count": 64,
   "metadata": {
    "collapsed": false
   },
   "outputs": [],
   "source": [
    "## check the maximum in different columns\n",
    "#sorted_index = tmp_train_num.max().argsort()\n",
    "#tmp_train_num.max()[sorted_index[-10:]]"
   ]
  },
  {
   "cell_type": "code",
   "execution_count": 65,
   "metadata": {
    "collapsed": false,
    "scrolled": true
   },
   "outputs": [],
   "source": [
    "tmp_train_num.fillna(1., inplace=True)"
   ]
  },
  {
   "cell_type": "code",
   "execution_count": 66,
   "metadata": {
    "collapsed": false
   },
   "outputs": [],
   "source": [
    "combined_train_num = pd.concat([tmp_train_num, tmp_train_num_Basics], axis=1)"
   ]
  },
  {
   "cell_type": "code",
   "execution_count": null,
   "metadata": {
    "collapsed": false
   },
   "outputs": [],
   "source": [
    "#print combined_train_num.isnull().sum().sum()"
   ]
  },
  {
   "cell_type": "markdown",
   "metadata": {},
   "source": [
    "### start processing date features"
   ]
  },
  {
   "cell_type": "code",
   "execution_count": 73,
   "metadata": {
    "collapsed": false,
    "scrolled": true
   },
   "outputs": [
    {
     "name": "stdout",
     "output_type": "stream",
     "text": [
      "finish feature engineering date using 11.57 minutes\n"
     ]
    }
   ],
   "source": [
    "start_time = time.time()\n",
    "\n",
    "## normalized date columns\n",
    "tmp_train_dat_Norm = tmp_train_dat.apply(getRelativeTimeColumns, axis=1)\n",
    "## basic features from tmp_train_dat\n",
    "tmp_train_dat_Basics = BasicDate_FeatureEngineering(tmp_train_dat)\n",
    "\n",
    "encoder = preprocessing.LabelEncoder()\n",
    "column_names = tmp_train_dat.columns.tolist()\n",
    "column_names.append('NaN')\n",
    "encoder.fit(column_names)\n",
    "    \n",
    "#'''\n",
    "tmp_train_dat_TimeDiff = tmp_train_dat.apply(getTimeChangeColumns, axis=1)\n",
    "tmp_train_dat_TimeDiff.columns = ['time_diff_start_col', 'time_diff_end_col', 'time_diff_value', \n",
    "                                  'first_time_value', 'last_time_value']\n",
    "                   \n",
    "for column in ['time_diff_start_col', 'time_diff_end_col']:\n",
    "    tmp_train_dat_TimeDiff[column].fillna('NaN', inplace=True)\n",
    "    tmp_train_dat_TimeDiff[column] = encoder.transform(tmp_train_dat_TimeDiff[column])  \n",
    "    \n",
    "#'''\n",
    "\n",
    "\n",
    "unique_value_counts = 10\n",
    "timeStep_columnNames = []\n",
    "column_name_columns = []\n",
    "for i in xrange(unique_value_counts):\n",
    "    timeStep_columnNames.extend(['time_diff_step_{}'.format(i), 'column_counts_step_{}'.format(i), \n",
    "                                 'time_cost_step_{}'.format(i), 'first_column_step_{}'.format(i)])\n",
    "    column_name_columns.append('first_column_step_{}'.format(i))\n",
    "\n",
    "tmp_train_dat_TimeStep = tmp_train_dat_Norm.apply(getTimeSteps, axis=1)\n",
    "tmp_train_dat_TimeStep.columns = timeStep_columnNames\n",
    "for column in column_name_columns:\n",
    "    tmp_train_dat_TimeStep[column].fillna('NaN', inplace=True)\n",
    "    tmp_train_dat_TimeStep[column] = encoder.transform(tmp_train_dat_TimeStep[column])\n",
    "    \n",
    "\n",
    "print 'finish feature engineering date using {} minutes'.format(round((time.time() - start_time)/60, 2))"
   ]
  },
  {
   "cell_type": "code",
   "execution_count": null,
   "metadata": {
    "collapsed": true
   },
   "outputs": [],
   "source": []
  },
  {
   "cell_type": "code",
   "execution_count": 77,
   "metadata": {
    "collapsed": false
   },
   "outputs": [
    {
     "data": {
      "text/plain": [
       "L0_S0_D1            0\n",
       "L0_S0_D3            0\n",
       "L0_S0_D5            0\n",
       "L0_S0_D7            0\n",
       "L0_S0_D9            0\n",
       "L0_S0_D11           0\n",
       "L0_S0_D13           0\n",
       "L0_S0_D15           0\n",
       "L0_S0_D17           0\n",
       "L0_S0_D19           0\n",
       "L0_S0_D21           0\n",
       "L0_S0_D23           0\n",
       "L0_S1_D26          54\n",
       "L0_S1_D30          54\n",
       "L0_S2_D34       24937\n",
       "L0_S2_D38       24937\n",
       "L0_S2_D42       24937\n",
       "L0_S2_D46       24937\n",
       "L0_S2_D50       24937\n",
       "L0_S2_D54       24937\n",
       "L0_S2_D58       24937\n",
       "L0_S2_D62       24937\n",
       "L0_S2_D66       24937\n",
       "L0_S3_D70       25082\n",
       "L0_S3_D74       25082\n",
       "L0_S3_D78       25082\n",
       "L0_S3_D82       25082\n",
       "L0_S3_D86       25082\n",
       "L0_S3_D90       25082\n",
       "L0_S3_D94       25082\n",
       "                ...  \n",
       "L3_S47_D4175    49179\n",
       "L3_S47_D4180    49179\n",
       "L3_S47_D4185    49179\n",
       "L3_S47_D4190    49179\n",
       "L3_S48_D4194    49180\n",
       "L3_S48_D4195    49180\n",
       "L3_S48_D4197    49180\n",
       "L3_S48_D4199    49180\n",
       "L3_S48_D4201    49180\n",
       "L3_S48_D4203    49180\n",
       "L3_S48_D4205    49180\n",
       "L3_S49_D4208    49596\n",
       "L3_S49_D4213    49596\n",
       "L3_S49_D4218    49596\n",
       "L3_S49_D4223    49596\n",
       "L3_S49_D4228    49596\n",
       "L3_S49_D4233    49596\n",
       "L3_S49_D4238    49596\n",
       "L3_S50_D4242    49583\n",
       "L3_S50_D4244    49583\n",
       "L3_S50_D4246    49583\n",
       "L3_S50_D4248    49583\n",
       "L3_S50_D4250    49583\n",
       "L3_S50_D4252    49583\n",
       "L3_S50_D4254    49583\n",
       "L3_S51_D4255    49179\n",
       "L3_S51_D4257    49179\n",
       "L3_S51_D4259    49179\n",
       "L3_S51_D4261    49179\n",
       "L3_S51_D4263    49179\n",
       "dtype: int64"
      ]
     },
     "execution_count": 77,
     "metadata": {},
     "output_type": "execute_result"
    }
   ],
   "source": [
    "tmp_train_dat_Norm.isnull().sum()"
   ]
  },
  {
   "cell_type": "code",
   "execution_count": null,
   "metadata": {
    "collapsed": true
   },
   "outputs": [],
   "source": []
  },
  {
   "cell_type": "code",
   "execution_count": 23,
   "metadata": {
    "collapsed": false,
    "scrolled": false
   },
   "outputs": [
    {
     "data": {
      "text/html": [
       "<div>\n",
       "<table border=\"1\" class=\"dataframe\">\n",
       "  <thead>\n",
       "    <tr style=\"text-align: right;\">\n",
       "      <th></th>\n",
       "      <th>time_diff_start_col</th>\n",
       "      <th>time_diff_end_col</th>\n",
       "      <th>time_diff_value</th>\n",
       "      <th>first_time_value</th>\n",
       "      <th>last_time_value</th>\n",
       "    </tr>\n",
       "    <tr>\n",
       "      <th>Id</th>\n",
       "      <th></th>\n",
       "      <th></th>\n",
       "      <th></th>\n",
       "      <th></th>\n",
       "      <th></th>\n",
       "    </tr>\n",
       "  </thead>\n",
       "  <tbody>\n",
       "    <tr>\n",
       "      <th>26</th>\n",
       "      <td>58</td>\n",
       "      <td>839</td>\n",
       "      <td>1.16</td>\n",
       "      <td>1104.79</td>\n",
       "      <td>1105.95</td>\n",
       "    </tr>\n",
       "    <tr>\n",
       "      <th>49</th>\n",
       "      <td>58</td>\n",
       "      <td>839</td>\n",
       "      <td>1.81</td>\n",
       "      <td>675.87</td>\n",
       "      <td>677.68</td>\n",
       "    </tr>\n",
       "    <tr>\n",
       "      <th>56</th>\n",
       "      <td>40</td>\n",
       "      <td>839</td>\n",
       "      <td>3.91</td>\n",
       "      <td>886.19</td>\n",
       "      <td>890.10</td>\n",
       "    </tr>\n",
       "    <tr>\n",
       "      <th>86</th>\n",
       "      <td>50</td>\n",
       "      <td>839</td>\n",
       "      <td>4.20</td>\n",
       "      <td>922.91</td>\n",
       "      <td>927.11</td>\n",
       "    </tr>\n",
       "    <tr>\n",
       "      <th>93</th>\n",
       "      <td>60</td>\n",
       "      <td>839</td>\n",
       "      <td>1.50</td>\n",
       "      <td>1096.11</td>\n",
       "      <td>1097.61</td>\n",
       "    </tr>\n",
       "  </tbody>\n",
       "</table>\n",
       "</div>"
      ],
      "text/plain": [
       "    time_diff_start_col  time_diff_end_col  time_diff_value  first_time_value  \\\n",
       "Id                                                                              \n",
       "26                   58                839             1.16           1104.79   \n",
       "49                   58                839             1.81            675.87   \n",
       "56                   40                839             3.91            886.19   \n",
       "86                   50                839             4.20            922.91   \n",
       "93                   60                839             1.50           1096.11   \n",
       "\n",
       "    last_time_value  \n",
       "Id                   \n",
       "26          1105.95  \n",
       "49           677.68  \n",
       "56           890.10  \n",
       "86           927.11  \n",
       "93          1097.61  "
      ]
     },
     "execution_count": 23,
     "metadata": {},
     "output_type": "execute_result"
    }
   ],
   "source": [
    "tmp_train_dat_TimeDiff.head()"
   ]
  },
  {
   "cell_type": "code",
   "execution_count": null,
   "metadata": {
    "collapsed": false
   },
   "outputs": [],
   "source": [
    "'''\n",
    "print tmp_train_dat_Norm.shape\n",
    "tmp_train_dat_Norm.head()\n",
    "\n",
    "print tmp_train_dat_TimeStep.shape\n",
    "tmp_train_dat_TimeStep.head()\n",
    "\n",
    "print tmp_train_dat_TimeDiff.shape\n",
    "tmp_train_dat_TimeDiff.head()\n",
    "\n",
    "print tmp_train_dat_Basics.shape\n",
    "tmp_train_dat_Basics.head()\n",
    "'''"
   ]
  },
  {
   "cell_type": "markdown",
   "metadata": {},
   "source": [
    "#### fill up NaN in the date features"
   ]
  },
  {
   "cell_type": "code",
   "execution_count": 78,
   "metadata": {
    "collapsed": true
   },
   "outputs": [],
   "source": [
    "tmp_train_dat_Norm.fillna(-1., inplace=True)"
   ]
  },
  {
   "cell_type": "code",
   "execution_count": 79,
   "metadata": {
    "collapsed": false
   },
   "outputs": [],
   "source": [
    "combined_train_dat = pd.concat([tmp_train_dat_Norm, tmp_train_dat_Basics, tmp_train_dat_TimeDiff, tmp_train_dat_TimeStep], axis=1)"
   ]
  },
  {
   "cell_type": "code",
   "execution_count": null,
   "metadata": {
    "collapsed": true
   },
   "outputs": [],
   "source": []
  },
  {
   "cell_type": "code",
   "execution_count": null,
   "metadata": {
    "collapsed": true
   },
   "outputs": [],
   "source": []
  },
  {
   "cell_type": "code",
   "execution_count": 81,
   "metadata": {
    "collapsed": false
   },
   "outputs": [],
   "source": [
    "#combined_train_dat.isnull().sum()"
   ]
  },
  {
   "cell_type": "code",
   "execution_count": null,
   "metadata": {
    "collapsed": false,
    "scrolled": true
   },
   "outputs": [],
   "source": [
    "#print combined_train_dat.max().max(), combined_train_dat.min().min()"
   ]
  },
  {
   "cell_type": "code",
   "execution_count": null,
   "metadata": {
    "collapsed": true
   },
   "outputs": [],
   "source": [
    "#combined_train_dat.fillna(nan_fill_value, inplace=True)"
   ]
  },
  {
   "cell_type": "code",
   "execution_count": null,
   "metadata": {
    "collapsed": false
   },
   "outputs": [],
   "source": [
    "#print combined_train_dat.isnull().sum().sum()"
   ]
  },
  {
   "cell_type": "code",
   "execution_count": null,
   "metadata": {
    "collapsed": false,
    "scrolled": true
   },
   "outputs": [],
   "source": [
    "#'start_time' in combined_train_dat"
   ]
  },
  {
   "cell_type": "markdown",
   "metadata": {},
   "source": [
    "#### create features from index columns"
   ]
  },
  {
   "cell_type": "code",
   "execution_count": 97,
   "metadata": {
    "collapsed": false
   },
   "outputs": [],
   "source": [
    "combined_train_dat['first_time_index']         = combined_train_dat['first_time_value'].argsort() + 1\n",
    "combined_train_dat['last_time_index']          = combined_train_dat['last_time_value'].argsort() + 1 \n",
    "combined_train_dat['index_ratio']              = combined_train_dat['first_time_index'] / combined_train_dat['last_time_index']\n",
    "combined_train_dat['start_time_index']         = combined_train_dat['start_time'].argsort() + 1\n",
    "combined_train_dat['start_time_index_ratio_1'] = combined_train_dat['first_time_index'] / combined_train_dat['start_time_index']\n",
    "combined_train_dat['start_time_index_ratio_2'] = combined_train_dat['last_time_index'] / combined_train_dat['start_time_index']\n",
    "combined_train_dat['index']                    = combined_train_cat.index"
   ]
  },
  {
   "cell_type": "code",
   "execution_count": 26,
   "metadata": {
    "collapsed": false
   },
   "outputs": [
    {
     "data": {
      "text/plain": [
       "\"\\nto_index_column_names = ['L0_S0_F20', 'L3_S33_F3859', 'L0_S1_F28', 'L3_S30_F3754', 'L3_S33_F3857',\\n                         'L0_S1_F24', 'L0_S2_F44', 'L3_S30_F3754', 'L3_S30_F3744']\\nfor col in to_index_column_names:\\n    col_name = '{}_index'.format(col)\\n    combined_train_num[col_name] = combined_train_num[col].argsort()\\n    if col != to_index_column_names[0]:\\n        ratio_col_name = '{}_index_ratio'.format(col)\\n        bench_col_name = col_name = '{}_index'.format(to_index_column_names[0])\\n        combined_train_num[ratio_col_name] = combined_train_num[col] / combined_train_num[bench_col_name]\\n\""
      ]
     },
     "execution_count": 26,
     "metadata": {},
     "output_type": "execute_result"
    }
   ],
   "source": [
    "combined_train_num['top_2_ratio'] = combined_train_num['L3_S33_F3859'] / combined_train_num['L3_S33_F3857']\n",
    "\n",
    "'''\n",
    "to_index_column_names = ['L0_S0_F20', 'L3_S33_F3859', 'L0_S1_F28', 'L3_S30_F3754', 'L3_S33_F3857',\n",
    "                         'L0_S1_F24', 'L0_S2_F44', 'L3_S30_F3754', 'L3_S30_F3744']\n",
    "for col in to_index_column_names:\n",
    "    col_name = '{}_index'.format(col)\n",
    "    combined_train_num[col_name] = combined_train_num[col].argsort()\n",
    "    if col != to_index_column_names[0]:\n",
    "        ratio_col_name = '{}_index_ratio'.format(col)\n",
    "        bench_col_name = col_name = '{}_index'.format(to_index_column_names[0])\n",
    "        combined_train_num[ratio_col_name] = combined_train_num[col] / combined_train_num[bench_col_name]\n",
    "'''"
   ]
  },
  {
   "cell_type": "code",
   "execution_count": 83,
   "metadata": {
    "collapsed": false
   },
   "outputs": [
    {
     "name": "stdout",
     "output_type": "stream",
     "text": [
      "raw train data dimension:  (50000, 789)\n",
      "processed train data dimension:  (50000, 789)\n",
      "raw train data dimension:  (50000, 993)\n",
      "processed train data dimension:  (50000, 980)\n"
     ]
    }
   ],
   "source": [
    "remove_single_value_columns(combined_train_num)\n",
    "remove_single_value_columns(combined_train_dat)"
   ]
  },
  {
   "cell_type": "markdown",
   "metadata": {
    "collapsed": true
   },
   "source": [
    "### combine all the data together"
   ]
  },
  {
   "cell_type": "code",
   "execution_count": 103,
   "metadata": {
    "collapsed": false
   },
   "outputs": [],
   "source": [
    "combined_train = pd.concat([combined_train_num, combined_train_dat, combined_train_cat], axis=1)"
   ]
  },
  {
   "cell_type": "code",
   "execution_count": null,
   "metadata": {
    "collapsed": true
   },
   "outputs": [],
   "source": []
  },
  {
   "cell_type": "code",
   "execution_count": 104,
   "metadata": {
    "collapsed": false
   },
   "outputs": [],
   "source": [
    "spec_col = combined_train[['start_time_index_ratio_1', 'start_time_index_ratio_2']].apply(lambda x: sum(x.isin([np.inf, -np.inf])))"
   ]
  },
  {
   "cell_type": "code",
   "execution_count": 105,
   "metadata": {
    "collapsed": false
   },
   "outputs": [
    {
     "data": {
      "text/plain": [
       "start_time_index_ratio_1    0\n",
       "start_time_index_ratio_2    0\n",
       "dtype: int64"
      ]
     },
     "execution_count": 105,
     "metadata": {},
     "output_type": "execute_result"
    }
   ],
   "source": [
    "spec_col"
   ]
  },
  {
   "cell_type": "code",
   "execution_count": 94,
   "metadata": {
    "collapsed": false
   },
   "outputs": [
    {
     "data": {
      "text/plain": [
       "index_ratio                 1\n",
       "start_time_index_ratio_1    1\n",
       "start_time_index_ratio_2    1\n",
       "dtype: int64"
      ]
     },
     "execution_count": 94,
     "metadata": {},
     "output_type": "execute_result"
    }
   ],
   "source": [
    "spec_col[spec_col != 0]"
   ]
  },
  {
   "cell_type": "code",
   "execution_count": 102,
   "metadata": {
    "collapsed": false
   },
   "outputs": [
    {
     "data": {
      "text/plain": [
       "1"
      ]
     },
     "execution_count": 102,
     "metadata": {},
     "output_type": "execute_result"
    }
   ],
   "source": [
    "combined_train_dat['first_time_index'].min()"
   ]
  },
  {
   "cell_type": "code",
   "execution_count": null,
   "metadata": {
    "collapsed": true
   },
   "outputs": [],
   "source": []
  },
  {
   "cell_type": "code",
   "execution_count": null,
   "metadata": {
    "collapsed": true
   },
   "outputs": [],
   "source": []
  },
  {
   "cell_type": "code",
   "execution_count": 29,
   "metadata": {
    "collapsed": false
   },
   "outputs": [
    {
     "data": {
      "text/plain": [
       "True"
      ]
     },
     "execution_count": 29,
     "metadata": {},
     "output_type": "execute_result"
    }
   ],
   "source": [
    "'start_time' in combined_train.columns"
   ]
  },
  {
   "cell_type": "code",
   "execution_count": 86,
   "metadata": {
    "collapsed": false,
    "scrolled": false
   },
   "outputs": [
    {
     "name": "stdout",
     "output_type": "stream",
     "text": [
      "(50000, 2595)\n"
     ]
    },
    {
     "data": {
      "text/html": [
       "<div>\n",
       "<table border=\"1\" class=\"dataframe\">\n",
       "  <thead>\n",
       "    <tr style=\"text-align: right;\">\n",
       "      <th></th>\n",
       "      <th>L0_S0_F0</th>\n",
       "      <th>L0_S0_F2</th>\n",
       "      <th>L0_S0_F4</th>\n",
       "      <th>L0_S0_F6</th>\n",
       "      <th>L0_S0_F8</th>\n",
       "      <th>L0_S0_F10</th>\n",
       "      <th>L0_S0_F12</th>\n",
       "      <th>L0_S0_F14</th>\n",
       "      <th>L0_S0_F16</th>\n",
       "      <th>L0_S0_F18</th>\n",
       "      <th>...</th>\n",
       "      <th>level_16777248.0_column_counts</th>\n",
       "      <th>level_16777557.0_start_column</th>\n",
       "      <th>level_16777557.0_end_column</th>\n",
       "      <th>level_16777557.0_column_counts</th>\n",
       "      <th>level_33554448.0_start_column</th>\n",
       "      <th>level_33554448.0_end_column</th>\n",
       "      <th>level_33554448.0_column_counts</th>\n",
       "      <th>level_134217728.0_start_column</th>\n",
       "      <th>level_134217728.0_end_column</th>\n",
       "      <th>level_134217728.0_column_counts</th>\n",
       "    </tr>\n",
       "    <tr>\n",
       "      <th>Id</th>\n",
       "      <th></th>\n",
       "      <th></th>\n",
       "      <th></th>\n",
       "      <th></th>\n",
       "      <th></th>\n",
       "      <th></th>\n",
       "      <th></th>\n",
       "      <th></th>\n",
       "      <th></th>\n",
       "      <th></th>\n",
       "      <th></th>\n",
       "      <th></th>\n",
       "      <th></th>\n",
       "      <th></th>\n",
       "      <th></th>\n",
       "      <th></th>\n",
       "      <th></th>\n",
       "      <th></th>\n",
       "      <th></th>\n",
       "      <th></th>\n",
       "      <th></th>\n",
       "    </tr>\n",
       "  </thead>\n",
       "  <tbody>\n",
       "    <tr>\n",
       "      <th>26</th>\n",
       "      <td>0.016</td>\n",
       "      <td>0.093</td>\n",
       "      <td>-0.015</td>\n",
       "      <td>-0.016</td>\n",
       "      <td>0.031</td>\n",
       "      <td>0.116</td>\n",
       "      <td>-0.007</td>\n",
       "      <td>-0.072</td>\n",
       "      <td>0.209</td>\n",
       "      <td>0.035</td>\n",
       "      <td>...</td>\n",
       "      <td>0.0</td>\n",
       "      <td>705</td>\n",
       "      <td>705</td>\n",
       "      <td>0.0</td>\n",
       "      <td>705</td>\n",
       "      <td>705</td>\n",
       "      <td>0.0</td>\n",
       "      <td>705</td>\n",
       "      <td>705</td>\n",
       "      <td>0.0</td>\n",
       "    </tr>\n",
       "    <tr>\n",
       "      <th>49</th>\n",
       "      <td>0.088</td>\n",
       "      <td>0.033</td>\n",
       "      <td>0.330</td>\n",
       "      <td>0.348</td>\n",
       "      <td>-0.056</td>\n",
       "      <td>0.161</td>\n",
       "      <td>0.008</td>\n",
       "      <td>0.088</td>\n",
       "      <td>-0.112</td>\n",
       "      <td>0.008</td>\n",
       "      <td>...</td>\n",
       "      <td>0.0</td>\n",
       "      <td>705</td>\n",
       "      <td>705</td>\n",
       "      <td>0.0</td>\n",
       "      <td>705</td>\n",
       "      <td>705</td>\n",
       "      <td>0.0</td>\n",
       "      <td>705</td>\n",
       "      <td>705</td>\n",
       "      <td>0.0</td>\n",
       "    </tr>\n",
       "    <tr>\n",
       "      <th>56</th>\n",
       "      <td>0.003</td>\n",
       "      <td>0.056</td>\n",
       "      <td>-0.033</td>\n",
       "      <td>-0.034</td>\n",
       "      <td>-0.056</td>\n",
       "      <td>0.116</td>\n",
       "      <td>0.000</td>\n",
       "      <td>-0.072</td>\n",
       "      <td>0.056</td>\n",
       "      <td>0.045</td>\n",
       "      <td>...</td>\n",
       "      <td>0.0</td>\n",
       "      <td>705</td>\n",
       "      <td>705</td>\n",
       "      <td>0.0</td>\n",
       "      <td>705</td>\n",
       "      <td>705</td>\n",
       "      <td>0.0</td>\n",
       "      <td>705</td>\n",
       "      <td>705</td>\n",
       "      <td>0.0</td>\n",
       "    </tr>\n",
       "    <tr>\n",
       "      <th>86</th>\n",
       "      <td>-0.003</td>\n",
       "      <td>0.041</td>\n",
       "      <td>-0.033</td>\n",
       "      <td>-0.016</td>\n",
       "      <td>0.074</td>\n",
       "      <td>0.161</td>\n",
       "      <td>0.000</td>\n",
       "      <td>-0.072</td>\n",
       "      <td>0.025</td>\n",
       "      <td>-0.024</td>\n",
       "      <td>...</td>\n",
       "      <td>0.0</td>\n",
       "      <td>705</td>\n",
       "      <td>705</td>\n",
       "      <td>0.0</td>\n",
       "      <td>705</td>\n",
       "      <td>705</td>\n",
       "      <td>0.0</td>\n",
       "      <td>705</td>\n",
       "      <td>705</td>\n",
       "      <td>0.0</td>\n",
       "    </tr>\n",
       "    <tr>\n",
       "      <th>93</th>\n",
       "      <td>-0.029</td>\n",
       "      <td>-0.071</td>\n",
       "      <td>-0.015</td>\n",
       "      <td>0.003</td>\n",
       "      <td>0.031</td>\n",
       "      <td>0.116</td>\n",
       "      <td>0.008</td>\n",
       "      <td>0.088</td>\n",
       "      <td>0.071</td>\n",
       "      <td>0.083</td>\n",
       "      <td>...</td>\n",
       "      <td>0.0</td>\n",
       "      <td>705</td>\n",
       "      <td>705</td>\n",
       "      <td>0.0</td>\n",
       "      <td>705</td>\n",
       "      <td>705</td>\n",
       "      <td>0.0</td>\n",
       "      <td>705</td>\n",
       "      <td>705</td>\n",
       "      <td>0.0</td>\n",
       "    </tr>\n",
       "  </tbody>\n",
       "</table>\n",
       "<p>5 rows × 2595 columns</p>\n",
       "</div>"
      ],
      "text/plain": [
       "    L0_S0_F0  L0_S0_F2  L0_S0_F4  L0_S0_F6  L0_S0_F8  L0_S0_F10  L0_S0_F12  \\\n",
       "Id                                                                           \n",
       "26     0.016     0.093    -0.015    -0.016     0.031      0.116     -0.007   \n",
       "49     0.088     0.033     0.330     0.348    -0.056      0.161      0.008   \n",
       "56     0.003     0.056    -0.033    -0.034    -0.056      0.116      0.000   \n",
       "86    -0.003     0.041    -0.033    -0.016     0.074      0.161      0.000   \n",
       "93    -0.029    -0.071    -0.015     0.003     0.031      0.116      0.008   \n",
       "\n",
       "    L0_S0_F14  L0_S0_F16  L0_S0_F18               ...                 \\\n",
       "Id                                                ...                  \n",
       "26     -0.072      0.209      0.035               ...                  \n",
       "49      0.088     -0.112      0.008               ...                  \n",
       "56     -0.072      0.056      0.045               ...                  \n",
       "86     -0.072      0.025     -0.024               ...                  \n",
       "93      0.088      0.071      0.083               ...                  \n",
       "\n",
       "    level_16777248.0_column_counts  level_16777557.0_start_column  \\\n",
       "Id                                                                  \n",
       "26                             0.0                            705   \n",
       "49                             0.0                            705   \n",
       "56                             0.0                            705   \n",
       "86                             0.0                            705   \n",
       "93                             0.0                            705   \n",
       "\n",
       "    level_16777557.0_end_column  level_16777557.0_column_counts  \\\n",
       "Id                                                                \n",
       "26                          705                             0.0   \n",
       "49                          705                             0.0   \n",
       "56                          705                             0.0   \n",
       "86                          705                             0.0   \n",
       "93                          705                             0.0   \n",
       "\n",
       "    level_33554448.0_start_column  level_33554448.0_end_column  \\\n",
       "Id                                                               \n",
       "26                            705                          705   \n",
       "49                            705                          705   \n",
       "56                            705                          705   \n",
       "86                            705                          705   \n",
       "93                            705                          705   \n",
       "\n",
       "    level_33554448.0_column_counts  level_134217728.0_start_column  \\\n",
       "Id                                                                   \n",
       "26                             0.0                             705   \n",
       "49                             0.0                             705   \n",
       "56                             0.0                             705   \n",
       "86                             0.0                             705   \n",
       "93                             0.0                             705   \n",
       "\n",
       "    level_134217728.0_end_column  level_134217728.0_column_counts  \n",
       "Id                                                                 \n",
       "26                           705                              0.0  \n",
       "49                           705                              0.0  \n",
       "56                           705                              0.0  \n",
       "86                           705                              0.0  \n",
       "93                           705                              0.0  \n",
       "\n",
       "[5 rows x 2595 columns]"
      ]
     },
     "execution_count": 86,
     "metadata": {},
     "output_type": "execute_result"
    }
   ],
   "source": [
    "print combined_train.shape\n",
    "combined_train.head()"
   ]
  },
  {
   "cell_type": "code",
   "execution_count": 239,
   "metadata": {
    "collapsed": true
   },
   "outputs": [],
   "source": [
    "#combined_train = combined_train_dat\n",
    "#combined_train[dep_var_name] = combined_train_num[dep_var_name]"
   ]
  },
  {
   "cell_type": "code",
   "execution_count": 124,
   "metadata": {
    "collapsed": false
   },
   "outputs": [],
   "source": [
    "############## Section of regular validation #######################\n",
    "train_index, valid_index = create_validation_index(combined_train, 0.3, dep_var_name, True)\n",
    "valid_data = combined_train.ix[valid_index]\n",
    "tmp_train  = combined_train.ix[train_index]"
   ]
  },
  {
   "cell_type": "code",
   "execution_count": 125,
   "metadata": {
    "collapsed": true
   },
   "outputs": [],
   "source": [
    "y = tmp_train[dep_var_name].values\n",
    "X = tmp_train.drop(dep_var_name, axis=1)\n",
    "\n",
    "valid_y = valid_data[dep_var_name].values\n",
    "valid_X = valid_data.drop(dep_var_name, axis=1)"
   ]
  },
  {
   "cell_type": "markdown",
   "metadata": {},
   "source": [
    "#### tree-base models"
   ]
  },
  {
   "cell_type": "code",
   "execution_count": 126,
   "metadata": {
    "collapsed": false
   },
   "outputs": [],
   "source": [
    "rf_params = {'random_state' : 9999, 'n_estimators' : 2000, 'max_depth' : 7, 'criterion' : 'gini', 'n_jobs' : -1}\n",
    "et_params = {'random_state' : 9999, 'n_estimators' : 500, 'max_depth' : 8, 'criterion' : 'gini', 'n_jobs' : -1}\n",
    "rf_clf = RandomForestClassifier(**rf_params)\n",
    "rf_clf = rf_clf.fit(X, y)\n",
    "\n",
    "et_clf = RandomForestClassifier(**et_params)\n",
    "et_clf = et_clf.fit(X, y)"
   ]
  },
  {
   "cell_type": "code",
   "execution_count": 127,
   "metadata": {
    "collapsed": false
   },
   "outputs": [
    {
     "name": "stdout",
     "output_type": "stream",
     "text": [
      "result from using constant fraction: \n",
      "mean of groud truth: 0.00673378225215\n",
      "threshold for preds: 0.0169038483449\n",
      "-0.006779433481\n",
      "\n",
      "\n",
      "result from using flexsible threshold: (0.16059995247485082, 0.10554372131336556) (0.15940669472622862, 0.0966805250669105)\n"
     ]
    }
   ],
   "source": [
    "rf_pred = rf_clf.predict_proba(valid_X)[:, 1]\n",
    "et_pred = et_clf.predict_proba(valid_X)[:, 1]\n",
    "\n",
    "print 'result from using constant fraction: \\n', score_MCC(valid_y, pred)\n",
    "print '\\n'\n",
    "print 'result from using flexsible threshold:', CombinedModel.mcc_eval_func(valid_y, rf_pred), CombinedModel.mcc_eval_func(valid_y, et_pred)"
   ]
  },
  {
   "cell_type": "markdown",
   "metadata": {},
   "source": [
    "#### Logistic Regression model"
   ]
  },
  {
   "cell_type": "code",
   "execution_count": 247,
   "metadata": {
    "collapsed": false
   },
   "outputs": [
    {
     "name": "stdout",
     "output_type": "stream",
     "text": [
      "finish training LR model using 242.0 seconds\n"
     ]
    }
   ],
   "source": [
    "C = 0.1\n",
    "start_time = time.time()\n",
    "LR_clf = LogisticRegression(C = C, class_weight='balanced', n_jobs = -1, penalty='l2')\n",
    "LR_clf.fit(X, y)\n",
    "print 'finish training LR model using {} seconds'.format(round(time.time() - start_time, 0))"
   ]
  },
  {
   "cell_type": "markdown",
   "metadata": {},
   "source": [
    "#### xgboost model"
   ]
  },
  {
   "cell_type": "code",
   "execution_count": 128,
   "metadata": {
    "collapsed": false
   },
   "outputs": [
    {
     "name": "stdout",
     "output_type": "stream",
     "text": [
      "scale_pos_weight: 146.06302521\n",
      "a base_score 0.00679980571984 is used in the xgboost model...\n"
     ]
    },
    {
     "name": "stderr",
     "output_type": "stream",
     "text": [
      "\n",
      "####################\n",
      " train the xgboost without early stopping\n",
      "####################\n"
     ]
    },
    {
     "name": "stdout",
     "output_type": "stream",
     "text": [
      "[0]\ttrain-auc:0.868976\n",
      "[50]\ttrain-auc:0.994708\n",
      "[100]\ttrain-auc:0.996915\n",
      "[150]\ttrain-auc:0.998074\n",
      "[200]\ttrain-auc:0.99903\n",
      "the xgboost fit is finished by using 237.490554094 seconds, saved into bosch_xgb_model\n"
     ]
    },
    {
     "data": {
      "text/plain": [
       "<utils.wrapped_xgboost.xgboost_classifier at 0x7fe4ca3a7450>"
      ]
     },
     "execution_count": 128,
     "metadata": {},
     "output_type": "execute_result"
    }
   ],
   "source": [
    "params = {}\n",
    "params[\"eta\"]                      = 0.0075\n",
    "params[\"subsample\"]                = 0.8\n",
    "params[\"colsample_bytree\"]         = 0.8\n",
    "params[\"num_round\"]                = 201\n",
    "params[\"max_depth\"]                = 20\n",
    "params[\"gamma\"]                    = 0\n",
    "params[\"metrics\"]                  = 'auc'\n",
    "params['eval_metric']              = 'auc'\n",
    "params[\"seed\"]                     = 999\n",
    "params['verbose_eval']             = 50\n",
    "## whether to use weights\n",
    "params['use_base_score']           = True\n",
    "params['use_weights']              = True\n",
    "#params['use_scale_pos_weight']     = True\n",
    "params[\"val\"]                      = False\n",
    "\n",
    "model = xgboost_classifier(label_name = dep_var_name, params = params, model_file='bosch_xgb_model')\n",
    "model.fit(tmp_train, dep_var_name)"
   ]
  },
  {
   "cell_type": "code",
   "execution_count": 129,
   "metadata": {
    "collapsed": false,
    "scrolled": true
   },
   "outputs": [
    {
     "name": "stdout",
     "output_type": "stream",
     "text": [
      "in the prediction step, dep_var_name is not provided....\n",
      "result from using constant fraction: \n",
      "mean of groud truth: 0.00673378225215\n",
      "threshold for preds: 0.0181400978378\n",
      "0.132774151358\n",
      "\n",
      " \n",
      "\n",
      "result from using flexsible threshold: (0.1643330196872456, 0.0278753861784935)\n"
     ]
    }
   ],
   "source": [
    "#pred = LR_clf.predict_proba(valid_X)[:, 1]\n",
    "pred = model.predict(valid_X)\n",
    "\n",
    "print 'result from using constant fraction: \\n', score_MCC(valid_y, pred)\n",
    "print '\\n \\n'\n",
    "print 'result from using flexsible threshold:', CombinedModel.mcc_eval_func(valid_y, pred)"
   ]
  },
  {
   "cell_type": "code",
   "execution_count": null,
   "metadata": {
    "collapsed": true
   },
   "outputs": [],
   "source": []
  },
  {
   "cell_type": "code",
   "execution_count": null,
   "metadata": {
    "collapsed": true
   },
   "outputs": [],
   "source": []
  },
  {
   "cell_type": "code",
   "execution_count": null,
   "metadata": {
    "collapsed": true
   },
   "outputs": [],
   "source": []
  },
  {
   "cell_type": "code",
   "execution_count": null,
   "metadata": {
    "collapsed": true
   },
   "outputs": [],
   "source": []
  },
  {
   "cell_type": "code",
   "execution_count": null,
   "metadata": {
    "collapsed": true
   },
   "outputs": [],
   "source": []
  }
 ],
 "metadata": {
  "kernelspec": {
   "display_name": "Python 2",
   "language": "python",
   "name": "python2"
  },
  "language_info": {
   "codemirror_mode": {
    "name": "ipython",
    "version": 2
   },
   "file_extension": ".py",
   "mimetype": "text/x-python",
   "name": "python",
   "nbconvert_exporter": "python",
   "pygments_lexer": "ipython2",
   "version": "2.7.6"
  }
 },
 "nbformat": 4,
 "nbformat_minor": 0
}
