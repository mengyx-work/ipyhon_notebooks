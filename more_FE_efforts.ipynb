{
 "cells": [
  {
   "cell_type": "code",
   "execution_count": 1,
   "metadata": {
    "collapsed": true
   },
   "outputs": [],
   "source": [
    "%matplotlib inline\n",
    "import os, sys, time\n",
    "import pandas as pd\n",
    "import numpy as np\n",
    "from os.path import join\n",
    "import matplotlib.pyplot as plt\n",
    "\n",
    "from sklearn.linear_model import LogisticRegression\n",
    "from sklearn.ensemble import RandomForestClassifier, ExtraTreesClassifier\n",
    "from sklearn import preprocessing\n",
    "sys.path.append('/home/ymm/kaggle/xgboost_hyperopt')\n",
    "import utils.bosch_functions as bosch_functions\n",
    "from utils.wrapped_xgboost import xgboost_classifier\n",
    "from utils.validation_tools import score_MCC, MCC, create_validation_index\n",
    "from utils.models import CombinedModel\n",
    "from utils.data_munge import remove_single_value_columns\n",
    "\n",
    "data_path = '/home/ymm/bosch/'\n",
    "\n",
    "train_num_file   = 'train_numeric.csv'\n",
    "train_cat_file   = 'train_categorical.csv'\n",
    "train_date_file  = 'train_date.csv'\n",
    "test_num_file    = 'test_numeric.csv'\n",
    "test_cat_file    = 'test_categorical.csv'\n",
    "test_date_file   = 'test_date.csv'\n",
    "\n",
    "sample_submission_file   = 'sample_submission.csv'\n",
    "\n",
    "\n",
    "start_time_column_name = 'L0_S0_D1'\n",
    "id_column_name = 'Id'\n",
    "dep_var_name = 'Response'\n",
    "nan_fill_value = -2.\n"
   ]
  },
  {
   "cell_type": "code",
   "execution_count": 3,
   "metadata": {
    "collapsed": false
   },
   "outputs": [
    {
     "name": "stdout",
     "output_type": "stream",
     "text": [
      "data loading takes  57.7  seconds.\n"
     ]
    }
   ],
   "source": [
    "bin_num = 1 ## number of bins to separate data by start_time\n",
    "tmp_train, tmp_test, bins, bin_names = bosch_functions.create_grouped_index_df(bin_num)"
   ]
  },
  {
   "cell_type": "code",
   "execution_count": 119,
   "metadata": {
    "collapsed": false
   },
   "outputs": [
    {
     "name": "stdout",
     "output_type": "stream",
     "text": [
      "(1183747, 3) (1183748, 3) 1048954 1049267\n"
     ]
    }
   ],
   "source": [
    "def creat_non_selected_window_num(bin_num, select_bin = '0'):\n",
    "    none_selected_window_num = [np.NaN]\n",
    "    for i in range(bin_num):\n",
    "        if str(i) != select_bin:\n",
    "            none_selected_window_num.append(str(i))\n",
    "    return none_selected_window_num\n",
    "    \n",
    "none_selected_window_num = creat_non_selected_window_num(bin_num, '0')\n",
    "skipped_test_row_num = tmp_test.loc[tmp_test['time_window_num'].isin(none_selected_window_num), 'row_num'].tolist()\n",
    "skipped_train_row_num = tmp_train.loc[tmp_train['time_window_num'].isin(none_selected_window_num), 'row_num'].tolist()\n",
    "\n",
    "print tmp_train.shape, tmp_test.shape, len(skipped_train_row_num), len(skipped_test_row_num)"
   ]
  },
  {
   "cell_type": "code",
   "execution_count": 120,
   "metadata": {
    "collapsed": false
   },
   "outputs": [
    {
     "name": "stdout",
     "output_type": "stream",
     "text": [
      "finish loading date using 50.0 seconds\n"
     ]
    }
   ],
   "source": [
    "nrows = 50000\n",
    "## select all the numerical columns and try to use LR\n",
    "start_time = time.time()\n",
    "train_num = pd.read_csv(join(data_path, train_num_file),  skiprows=skipped_train_row_num,  index_col='Id', nrows = nrows)\n",
    "train_dat = pd.read_csv(join(data_path, train_date_file), skiprows=skipped_train_row_num,  index_col='Id', nrows = nrows)\n",
    "train_cat = pd.read_csv(join(data_path, train_cat_file),  skiprows=skipped_train_row_num,  index_col='Id', nrows = nrows)\n",
    "\n",
    "all_labels = pd.read_csv(join(data_path, train_num_file), index_col='Id', usecols=['Response', 'Id'])\n",
    "\n",
    "print 'finish loading date using {} seconds'.format(round(time.time() - start_time, 0))"
   ]
  },
  {
   "cell_type": "code",
   "execution_count": 122,
   "metadata": {
    "collapsed": true
   },
   "outputs": [],
   "source": [
    "start_time = time.time()\n",
    "nrows = 50000\n",
    "## select all the numerical columns and try to use LR\n",
    "start_time = time.time()\n",
    "train_num = pd.read_csv(join(data_path, train_num_file),  index_col='Id', nrows = nrows)\n",
    "train_dat = pd.read_csv(join(data_path, train_date_file), index_col='Id', nrows = nrows)\n",
    "#train_cat = pd.read_csv(join(data_path, train_cat_file),  index_col='Id', nrows = nrows)\n",
    "print 'finish loading date using {} seconds'.format(round(time.time() - start_time, 0))"
   ]
  },
  {
   "cell_type": "code",
   "execution_count": 187,
   "metadata": {
    "collapsed": false,
    "scrolled": false
   },
   "outputs": [
    {
     "name": "stdout",
     "output_type": "stream",
     "text": [
      "(50000, 969) (50000, 1156)\n"
     ]
    }
   ],
   "source": [
    "print train_num.shape, train_dat.shape"
   ]
  },
  {
   "cell_type": "code",
   "execution_count": 177,
   "metadata": {
    "collapsed": true
   },
   "outputs": [],
   "source": [
    "#combined_train = pd.merge(train_num, train_dat, how='left', left_index=True, right_index=True)\n",
    "#print combined_train.shape"
   ]
  },
  {
   "cell_type": "code",
   "execution_count": 342,
   "metadata": {
    "collapsed": false
   },
   "outputs": [],
   "source": [
    "num_station_dict = {}\n",
    "dat_station_dict = {}\n",
    "\n",
    "for col in train_dat.columns:\n",
    "    col_list = col.split('_')\n",
    "    station_name = '_'.join(col_list[:2])\n",
    "    if station_name in dat_station_dict:\n",
    "        dat_station_dict[station_name].append(col)\n",
    "    else:\n",
    "        dat_station_dict[station_name] = [col]\n",
    "        \n",
    "        \n",
    "for col in train_num.columns:\n",
    "    if col == 'Response':\n",
    "        continue\n",
    "    col_list = col.split('_')\n",
    "    station_name = '_'.join(col_list[:2])\n",
    "    if station_name in num_station_dict:\n",
    "        num_station_dict[station_name].append(col)\n",
    "    else:\n",
    "        num_station_dict[station_name] = [col]\n"
   ]
  },
  {
   "cell_type": "code",
   "execution_count": 361,
   "metadata": {
    "collapsed": true
   },
   "outputs": [],
   "source": [
    "tmp_train_dat = train_dat.copy()\n",
    "tmp_train_num = train_num.copy()"
   ]
  },
  {
   "cell_type": "code",
   "execution_count": 362,
   "metadata": {
    "collapsed": false
   },
   "outputs": [],
   "source": [
    "def getRelativeTimeColumns(series):\n",
    "    '''\n",
    "    normalize the time features by\n",
    "    the start_time, the first none-NaN\n",
    "    value\n",
    "    '''\n",
    "    if series[0] == np.NaN:\n",
    "        start_time = series.dropna().index[0]\n",
    "    else:\n",
    "        start_time = series[0]\n",
    "    new_series = series - start_time\n",
    "    return new_series\n",
    "   \n",
    "\n",
    "tmp_train_dat_norm = tmp_train_dat.apply(getRelativeTimeColumns, axis=1)"
   ]
  },
  {
   "cell_type": "code",
   "execution_count": 363,
   "metadata": {
    "collapsed": false
   },
   "outputs": [],
   "source": [
    "## unique features: mean, max, min, #NaN, #unique_value, \n",
    "def get_Date_StationFeatures(series):\n",
    "    series_value = {}\n",
    "    for station_name, col_names in dat_station_dict.items():\n",
    "        station_value = series[col_names]\n",
    "        station_name = '{}_time'.format(station_name)\n",
    "        series_value['{}_mean'.format(station_name)] = station_value.mean()\n",
    "        '''\n",
    "        series_value['{}_sum'.format(station_name)] = station_value.sum()\n",
    "        series_value['{}_max'.format(station_name)] = station_value.max()\n",
    "        series_value['{}_min'.format(station_name)] = station_value.min()\n",
    "        series_value['{}_var'.format(station_name)] = station_value.var()\n",
    "        series_value['{}_unique_counts'.format(station_name)] = len(station_value.unique())\n",
    "        series_value['{}_nan_counts'.format(station_name)] = sum(station_value.isnull())\n",
    "        '''\n",
    "    return pd.Series(series_value)\n",
    "\n",
    "\n",
    "def get_Num_StationFeatures(series):\n",
    "    series_value = {}\n",
    "    for station_name, col_names in num_station_dict.items():\n",
    "        station_value = series[col_names]\n",
    "        station_name = '{}_num'.format(station_name)\n",
    "        series_value['{}_mean'.format(station_name)] = station_value.mean()\n",
    "        series_value['{}_sum'.format(station_name)] = station_value.sum()\n",
    "        series_value['{}_max'.format(station_name)] = station_value.max()\n",
    "        series_value['{}_min'.format(station_name)] = station_value.min()\n",
    "        series_value['{}_var'.format(station_name)] = station_value.var()\n",
    "        series_value['{}_unique_counts'.format(station_name)] = len(station_value.unique())\n",
    "        series_value['{}_nan_counts'.format(station_name)] = sum(station_value.isnull())\n",
    "    return pd.Series(series_value)"
   ]
  },
  {
   "cell_type": "code",
   "execution_count": 364,
   "metadata": {
    "collapsed": false
   },
   "outputs": [
    {
     "name": "stdout",
     "output_type": "stream",
     "text": [
      "finish creating date features using 4509.0 seconds\n"
     ]
    }
   ],
   "source": [
    "start_time = time.time()\n",
    "tmp_train_dat_station_features = tmp_train_dat_norm.apply(get_Date_StationFeatures, axis=1)\n",
    "tmp_train_num_station_features = tmp_train_num.apply(get_Num_StationFeatures, axis=1)\n",
    "print 'finish creating date features using {} seconds'.format(round(time.time() - start_time, 0))"
   ]
  },
  {
   "cell_type": "code",
   "execution_count": null,
   "metadata": {
    "collapsed": true
   },
   "outputs": [],
   "source": []
  },
  {
   "cell_type": "code",
   "execution_count": null,
   "metadata": {
    "collapsed": true
   },
   "outputs": [],
   "source": []
  },
  {
   "cell_type": "code",
   "execution_count": null,
   "metadata": {
    "collapsed": true
   },
   "outputs": [],
   "source": []
  },
  {
   "cell_type": "code",
   "execution_count": 340,
   "metadata": {
    "collapsed": false
   },
   "outputs": [
    {
     "name": "stdout",
     "output_type": "stream",
     "text": [
      "finish creating date features using 62.0 seconds\n"
     ]
    }
   ],
   "source": [
    "start_time = time.time()\n",
    "print 'finish creating date features using {} seconds'.format(round(time.time() - start_time, 0))"
   ]
  },
  {
   "cell_type": "code",
   "execution_count": 341,
   "metadata": {
    "collapsed": false
   },
   "outputs": [
    {
     "data": {
      "text/html": [
       "<div>\n",
       "<table border=\"1\" class=\"dataframe\">\n",
       "  <thead>\n",
       "    <tr style=\"text-align: right;\">\n",
       "      <th></th>\n",
       "      <th>L0_S0_num_max</th>\n",
       "      <th>L0_S0_num_mean</th>\n",
       "      <th>L0_S0_num_min</th>\n",
       "      <th>L0_S0_num_nan_counts</th>\n",
       "      <th>L0_S0_num_sum</th>\n",
       "      <th>L0_S0_num_unique_counts</th>\n",
       "      <th>L0_S0_num_var</th>\n",
       "      <th>L0_S10_num_max</th>\n",
       "      <th>L0_S10_num_mean</th>\n",
       "      <th>L0_S10_num_min</th>\n",
       "      <th>...</th>\n",
       "      <th>L3_S51_num_sum</th>\n",
       "      <th>L3_S51_num_unique_counts</th>\n",
       "      <th>L3_S51_num_var</th>\n",
       "      <th>Response_num_max</th>\n",
       "      <th>Response_num_mean</th>\n",
       "      <th>Response_num_min</th>\n",
       "      <th>Response_num_nan_counts</th>\n",
       "      <th>Response_num_sum</th>\n",
       "      <th>Response_num_unique_counts</th>\n",
       "      <th>Response_num_var</th>\n",
       "    </tr>\n",
       "    <tr>\n",
       "      <th>Id</th>\n",
       "      <th></th>\n",
       "      <th></th>\n",
       "      <th></th>\n",
       "      <th></th>\n",
       "      <th></th>\n",
       "      <th></th>\n",
       "      <th></th>\n",
       "      <th></th>\n",
       "      <th></th>\n",
       "      <th></th>\n",
       "      <th></th>\n",
       "      <th></th>\n",
       "      <th></th>\n",
       "      <th></th>\n",
       "      <th></th>\n",
       "      <th></th>\n",
       "      <th></th>\n",
       "      <th></th>\n",
       "      <th></th>\n",
       "      <th></th>\n",
       "      <th></th>\n",
       "    </tr>\n",
       "  </thead>\n",
       "  <tbody>\n",
       "    <tr>\n",
       "      <th>4</th>\n",
       "      <td>0.118</td>\n",
       "      <td>-0.053000</td>\n",
       "      <td>-0.273</td>\n",
       "      <td>0.0</td>\n",
       "      <td>-0.636</td>\n",
       "      <td>11.0</td>\n",
       "      <td>0.020379</td>\n",
       "      <td>NaN</td>\n",
       "      <td>NaN</td>\n",
       "      <td>NaN</td>\n",
       "      <td>...</td>\n",
       "      <td>NaN</td>\n",
       "      <td>1.0</td>\n",
       "      <td>NaN</td>\n",
       "      <td>0.0</td>\n",
       "      <td>0.0</td>\n",
       "      <td>0.0</td>\n",
       "      <td>0.0</td>\n",
       "      <td>0.0</td>\n",
       "      <td>1.0</td>\n",
       "      <td>NaN</td>\n",
       "    </tr>\n",
       "    <tr>\n",
       "      <th>6</th>\n",
       "      <td>NaN</td>\n",
       "      <td>NaN</td>\n",
       "      <td>NaN</td>\n",
       "      <td>12.0</td>\n",
       "      <td>NaN</td>\n",
       "      <td>1.0</td>\n",
       "      <td>NaN</td>\n",
       "      <td>NaN</td>\n",
       "      <td>NaN</td>\n",
       "      <td>NaN</td>\n",
       "      <td>...</td>\n",
       "      <td>NaN</td>\n",
       "      <td>1.0</td>\n",
       "      <td>NaN</td>\n",
       "      <td>0.0</td>\n",
       "      <td>0.0</td>\n",
       "      <td>0.0</td>\n",
       "      <td>0.0</td>\n",
       "      <td>0.0</td>\n",
       "      <td>1.0</td>\n",
       "      <td>NaN</td>\n",
       "    </tr>\n",
       "    <tr>\n",
       "      <th>7</th>\n",
       "      <td>0.250</td>\n",
       "      <td>0.029333</td>\n",
       "      <td>-0.225</td>\n",
       "      <td>0.0</td>\n",
       "      <td>0.352</td>\n",
       "      <td>11.0</td>\n",
       "      <td>0.021520</td>\n",
       "      <td>0.105</td>\n",
       "      <td>0.003917</td>\n",
       "      <td>-0.047</td>\n",
       "      <td>...</td>\n",
       "      <td>NaN</td>\n",
       "      <td>1.0</td>\n",
       "      <td>NaN</td>\n",
       "      <td>0.0</td>\n",
       "      <td>0.0</td>\n",
       "      <td>0.0</td>\n",
       "      <td>0.0</td>\n",
       "      <td>0.0</td>\n",
       "      <td>1.0</td>\n",
       "      <td>NaN</td>\n",
       "    </tr>\n",
       "    <tr>\n",
       "      <th>9</th>\n",
       "      <td>0.330</td>\n",
       "      <td>0.027583</td>\n",
       "      <td>-0.253</td>\n",
       "      <td>0.0</td>\n",
       "      <td>0.331</td>\n",
       "      <td>11.0</td>\n",
       "      <td>0.033698</td>\n",
       "      <td>0.139</td>\n",
       "      <td>0.004333</td>\n",
       "      <td>-0.049</td>\n",
       "      <td>...</td>\n",
       "      <td>NaN</td>\n",
       "      <td>1.0</td>\n",
       "      <td>NaN</td>\n",
       "      <td>0.0</td>\n",
       "      <td>0.0</td>\n",
       "      <td>0.0</td>\n",
       "      <td>0.0</td>\n",
       "      <td>0.0</td>\n",
       "      <td>1.0</td>\n",
       "      <td>NaN</td>\n",
       "    </tr>\n",
       "    <tr>\n",
       "      <th>11</th>\n",
       "      <td>0.330</td>\n",
       "      <td>0.053333</td>\n",
       "      <td>-0.169</td>\n",
       "      <td>0.0</td>\n",
       "      <td>0.640</td>\n",
       "      <td>11.0</td>\n",
       "      <td>0.023381</td>\n",
       "      <td>NaN</td>\n",
       "      <td>NaN</td>\n",
       "      <td>NaN</td>\n",
       "      <td>...</td>\n",
       "      <td>NaN</td>\n",
       "      <td>1.0</td>\n",
       "      <td>NaN</td>\n",
       "      <td>0.0</td>\n",
       "      <td>0.0</td>\n",
       "      <td>0.0</td>\n",
       "      <td>0.0</td>\n",
       "      <td>0.0</td>\n",
       "      <td>1.0</td>\n",
       "      <td>NaN</td>\n",
       "    </tr>\n",
       "    <tr>\n",
       "      <th>13</th>\n",
       "      <td>0.312</td>\n",
       "      <td>0.071000</td>\n",
       "      <td>-0.035</td>\n",
       "      <td>0.0</td>\n",
       "      <td>0.852</td>\n",
       "      <td>11.0</td>\n",
       "      <td>0.014659</td>\n",
       "      <td>0.010</td>\n",
       "      <td>-0.011000</td>\n",
       "      <td>-0.061</td>\n",
       "      <td>...</td>\n",
       "      <td>NaN</td>\n",
       "      <td>1.0</td>\n",
       "      <td>NaN</td>\n",
       "      <td>0.0</td>\n",
       "      <td>0.0</td>\n",
       "      <td>0.0</td>\n",
       "      <td>0.0</td>\n",
       "      <td>0.0</td>\n",
       "      <td>1.0</td>\n",
       "      <td>NaN</td>\n",
       "    </tr>\n",
       "    <tr>\n",
       "      <th>14</th>\n",
       "      <td>NaN</td>\n",
       "      <td>NaN</td>\n",
       "      <td>NaN</td>\n",
       "      <td>12.0</td>\n",
       "      <td>NaN</td>\n",
       "      <td>1.0</td>\n",
       "      <td>NaN</td>\n",
       "      <td>NaN</td>\n",
       "      <td>NaN</td>\n",
       "      <td>NaN</td>\n",
       "      <td>...</td>\n",
       "      <td>NaN</td>\n",
       "      <td>1.0</td>\n",
       "      <td>NaN</td>\n",
       "      <td>0.0</td>\n",
       "      <td>0.0</td>\n",
       "      <td>0.0</td>\n",
       "      <td>0.0</td>\n",
       "      <td>0.0</td>\n",
       "      <td>1.0</td>\n",
       "      <td>NaN</td>\n",
       "    </tr>\n",
       "    <tr>\n",
       "      <th>16</th>\n",
       "      <td>NaN</td>\n",
       "      <td>NaN</td>\n",
       "      <td>NaN</td>\n",
       "      <td>12.0</td>\n",
       "      <td>NaN</td>\n",
       "      <td>1.0</td>\n",
       "      <td>NaN</td>\n",
       "      <td>NaN</td>\n",
       "      <td>NaN</td>\n",
       "      <td>NaN</td>\n",
       "      <td>...</td>\n",
       "      <td>NaN</td>\n",
       "      <td>1.0</td>\n",
       "      <td>NaN</td>\n",
       "      <td>0.0</td>\n",
       "      <td>0.0</td>\n",
       "      <td>0.0</td>\n",
       "      <td>0.0</td>\n",
       "      <td>0.0</td>\n",
       "      <td>1.0</td>\n",
       "      <td>NaN</td>\n",
       "    </tr>\n",
       "    <tr>\n",
       "      <th>18</th>\n",
       "      <td>0.163</td>\n",
       "      <td>-0.059000</td>\n",
       "      <td>-0.220</td>\n",
       "      <td>0.0</td>\n",
       "      <td>-0.708</td>\n",
       "      <td>10.0</td>\n",
       "      <td>0.016770</td>\n",
       "      <td>0.051</td>\n",
       "      <td>-0.023917</td>\n",
       "      <td>-0.233</td>\n",
       "      <td>...</td>\n",
       "      <td>NaN</td>\n",
       "      <td>1.0</td>\n",
       "      <td>NaN</td>\n",
       "      <td>0.0</td>\n",
       "      <td>0.0</td>\n",
       "      <td>0.0</td>\n",
       "      <td>0.0</td>\n",
       "      <td>0.0</td>\n",
       "      <td>1.0</td>\n",
       "      <td>NaN</td>\n",
       "    </tr>\n",
       "    <tr>\n",
       "      <th>23</th>\n",
       "      <td>NaN</td>\n",
       "      <td>NaN</td>\n",
       "      <td>NaN</td>\n",
       "      <td>12.0</td>\n",
       "      <td>NaN</td>\n",
       "      <td>1.0</td>\n",
       "      <td>NaN</td>\n",
       "      <td>NaN</td>\n",
       "      <td>NaN</td>\n",
       "      <td>NaN</td>\n",
       "      <td>...</td>\n",
       "      <td>NaN</td>\n",
       "      <td>1.0</td>\n",
       "      <td>NaN</td>\n",
       "      <td>0.0</td>\n",
       "      <td>0.0</td>\n",
       "      <td>0.0</td>\n",
       "      <td>0.0</td>\n",
       "      <td>0.0</td>\n",
       "      <td>1.0</td>\n",
       "      <td>NaN</td>\n",
       "    </tr>\n",
       "  </tbody>\n",
       "</table>\n",
       "<p>10 rows × 357 columns</p>\n",
       "</div>"
      ],
      "text/plain": [
       "    L0_S0_num_max  L0_S0_num_mean  L0_S0_num_min  L0_S0_num_nan_counts  \\\n",
       "Id                                                                       \n",
       "4           0.118       -0.053000         -0.273                   0.0   \n",
       "6             NaN             NaN            NaN                  12.0   \n",
       "7           0.250        0.029333         -0.225                   0.0   \n",
       "9           0.330        0.027583         -0.253                   0.0   \n",
       "11          0.330        0.053333         -0.169                   0.0   \n",
       "13          0.312        0.071000         -0.035                   0.0   \n",
       "14            NaN             NaN            NaN                  12.0   \n",
       "16            NaN             NaN            NaN                  12.0   \n",
       "18          0.163       -0.059000         -0.220                   0.0   \n",
       "23            NaN             NaN            NaN                  12.0   \n",
       "\n",
       "    L0_S0_num_sum  L0_S0_num_unique_counts  L0_S0_num_var  L0_S10_num_max  \\\n",
       "Id                                                                          \n",
       "4          -0.636                     11.0       0.020379             NaN   \n",
       "6             NaN                      1.0            NaN             NaN   \n",
       "7           0.352                     11.0       0.021520           0.105   \n",
       "9           0.331                     11.0       0.033698           0.139   \n",
       "11          0.640                     11.0       0.023381             NaN   \n",
       "13          0.852                     11.0       0.014659           0.010   \n",
       "14            NaN                      1.0            NaN             NaN   \n",
       "16            NaN                      1.0            NaN             NaN   \n",
       "18         -0.708                     10.0       0.016770           0.051   \n",
       "23            NaN                      1.0            NaN             NaN   \n",
       "\n",
       "    L0_S10_num_mean  L0_S10_num_min        ...         L3_S51_num_sum  \\\n",
       "Id                                         ...                          \n",
       "4               NaN             NaN        ...                    NaN   \n",
       "6               NaN             NaN        ...                    NaN   \n",
       "7          0.003917          -0.047        ...                    NaN   \n",
       "9          0.004333          -0.049        ...                    NaN   \n",
       "11              NaN             NaN        ...                    NaN   \n",
       "13        -0.011000          -0.061        ...                    NaN   \n",
       "14              NaN             NaN        ...                    NaN   \n",
       "16              NaN             NaN        ...                    NaN   \n",
       "18        -0.023917          -0.233        ...                    NaN   \n",
       "23              NaN             NaN        ...                    NaN   \n",
       "\n",
       "    L3_S51_num_unique_counts  L3_S51_num_var  Response_num_max  \\\n",
       "Id                                                               \n",
       "4                        1.0             NaN               0.0   \n",
       "6                        1.0             NaN               0.0   \n",
       "7                        1.0             NaN               0.0   \n",
       "9                        1.0             NaN               0.0   \n",
       "11                       1.0             NaN               0.0   \n",
       "13                       1.0             NaN               0.0   \n",
       "14                       1.0             NaN               0.0   \n",
       "16                       1.0             NaN               0.0   \n",
       "18                       1.0             NaN               0.0   \n",
       "23                       1.0             NaN               0.0   \n",
       "\n",
       "    Response_num_mean  Response_num_min  Response_num_nan_counts  \\\n",
       "Id                                                                 \n",
       "4                 0.0               0.0                      0.0   \n",
       "6                 0.0               0.0                      0.0   \n",
       "7                 0.0               0.0                      0.0   \n",
       "9                 0.0               0.0                      0.0   \n",
       "11                0.0               0.0                      0.0   \n",
       "13                0.0               0.0                      0.0   \n",
       "14                0.0               0.0                      0.0   \n",
       "16                0.0               0.0                      0.0   \n",
       "18                0.0               0.0                      0.0   \n",
       "23                0.0               0.0                      0.0   \n",
       "\n",
       "    Response_num_sum  Response_num_unique_counts  Response_num_var  \n",
       "Id                                                                  \n",
       "4                0.0                         1.0               NaN  \n",
       "6                0.0                         1.0               NaN  \n",
       "7                0.0                         1.0               NaN  \n",
       "9                0.0                         1.0               NaN  \n",
       "11               0.0                         1.0               NaN  \n",
       "13               0.0                         1.0               NaN  \n",
       "14               0.0                         1.0               NaN  \n",
       "16               0.0                         1.0               NaN  \n",
       "18               0.0                         1.0               NaN  \n",
       "23               0.0                         1.0               NaN  \n",
       "\n",
       "[10 rows x 357 columns]"
      ]
     },
     "execution_count": 341,
     "metadata": {},
     "output_type": "execute_result"
    }
   ],
   "source": [
    "tmp_train_num_station_features[:10]"
   ]
  },
  {
   "cell_type": "code",
   "execution_count": null,
   "metadata": {
    "collapsed": true
   },
   "outputs": [],
   "source": []
  },
  {
   "cell_type": "code",
   "execution_count": null,
   "metadata": {
    "collapsed": true
   },
   "outputs": [],
   "source": []
  },
  {
   "cell_type": "code",
   "execution_count": null,
   "metadata": {
    "collapsed": true
   },
   "outputs": [],
   "source": []
  },
  {
   "cell_type": "code",
   "execution_count": null,
   "metadata": {
    "collapsed": true
   },
   "outputs": [],
   "source": []
  },
  {
   "cell_type": "code",
   "execution_count": null,
   "metadata": {
    "collapsed": true
   },
   "outputs": [],
   "source": []
  },
  {
   "cell_type": "code",
   "execution_count": 41,
   "metadata": {
    "collapsed": false
   },
   "outputs": [],
   "source": [
    "all_labels = pd.read_csv(join(data_path, train_num_file), index_col='Id', usecols=['Response', 'Id'])\n",
    "start_time = pd.read_csv(join(data_path, train_date_file), index_col='Id', usecols=['L0_S0_D1', 'Id'])"
   ]
  },
  {
   "cell_type": "code",
   "execution_count": 102,
   "metadata": {
    "collapsed": true
   },
   "outputs": [],
   "source": [
    "start_time['start_time_diff'] = start_time['L0_S0_D1'].diff()"
   ]
  },
  {
   "cell_type": "code",
   "execution_count": 138,
   "metadata": {
    "collapsed": false
   },
   "outputs": [
    {
     "name": "stderr",
     "output_type": "stream",
     "text": [
      "/mnt/home/ymm/.virtualenvs/kaggle/lib/python2.7/site-packages/ipykernel/__main__.py:1: FutureWarning: pd.rolling_mean is deprecated for Series and will be removed in a future version, replace with \n",
      "\tSeries.rolling(window=100000,center=False).mean()\n",
      "  if __name__ == '__main__':\n"
     ]
    }
   ],
   "source": [
    "tmp = pd.rolling_mean(all_labels['Response'], 100000)"
   ]
  },
  {
   "cell_type": "code",
   "execution_count": 139,
   "metadata": {
    "collapsed": false
   },
   "outputs": [
    {
     "data": {
      "text/plain": [
       "[<matplotlib.lines.Line2D at 0x7f76f6ceed50>]"
      ]
     },
     "execution_count": 139,
     "metadata": {},
     "output_type": "execute_result"
    },
    {
     "data": {
      "image/png": "[encoded data removed]",
      "text/plain": [
       "<matplotlib.figure.Figure at 0x7f76f6e00a90>"
      ]
     },
     "metadata": {},
     "output_type": "display_data"
    }
   ],
   "source": [
    "plt.plot(tmp)"
   ]
  },
  {
   "cell_type": "code",
   "execution_count": 103,
   "metadata": {
    "collapsed": true
   },
   "outputs": [],
   "source": [
    "combined_labels = pd.merge(all_labels, start_time, how='left', left_index=True, right_index=True)"
   ]
  },
  {
   "cell_type": "code",
   "execution_count": 149,
   "metadata": {
    "collapsed": false
   },
   "outputs": [
    {
     "data": {
      "text/html": [
       "<div>\n",
       "<table border=\"1\" class=\"dataframe\">\n",
       "  <thead>\n",
       "    <tr style=\"text-align: right;\">\n",
       "      <th></th>\n",
       "      <th>Response</th>\n",
       "      <th>L0_S0_D1</th>\n",
       "      <th>start_time_diff</th>\n",
       "    </tr>\n",
       "    <tr>\n",
       "      <th>Id</th>\n",
       "      <th></th>\n",
       "      <th></th>\n",
       "      <th></th>\n",
       "    </tr>\n",
       "  </thead>\n",
       "  <tbody>\n",
       "    <tr>\n",
       "      <th>746919</th>\n",
       "      <td>0</td>\n",
       "      <td>1.10</td>\n",
       "      <td>-1710.07</td>\n",
       "    </tr>\n",
       "    <tr>\n",
       "      <th>582229</th>\n",
       "      <td>0</td>\n",
       "      <td>3.90</td>\n",
       "      <td>-1709.76</td>\n",
       "    </tr>\n",
       "    <tr>\n",
       "      <th>2120607</th>\n",
       "      <td>0</td>\n",
       "      <td>1.02</td>\n",
       "      <td>-1709.47</td>\n",
       "    </tr>\n",
       "    <tr>\n",
       "      <th>1395613</th>\n",
       "      <td>0</td>\n",
       "      <td>0.66</td>\n",
       "      <td>-1709.24</td>\n",
       "    </tr>\n",
       "    <tr>\n",
       "      <th>1277674</th>\n",
       "      <td>0</td>\n",
       "      <td>1.57</td>\n",
       "      <td>-1709.08</td>\n",
       "    </tr>\n",
       "  </tbody>\n",
       "</table>\n",
       "</div>"
      ],
      "text/plain": [
       "         Response  L0_S0_D1  start_time_diff\n",
       "Id                                          \n",
       "746919          0      1.10         -1710.07\n",
       "582229          0      3.90         -1709.76\n",
       "2120607         0      1.02         -1709.47\n",
       "1395613         0      0.66         -1709.24\n",
       "1277674         0      1.57         -1709.08"
      ]
     },
     "execution_count": 149,
     "metadata": {},
     "output_type": "execute_result"
    }
   ],
   "source": [
    "sorted_combined.head()"
   ]
  },
  {
   "cell_type": "code",
   "execution_count": 169,
   "metadata": {
    "collapsed": false,
    "scrolled": false
   },
   "outputs": [
    {
     "name": "stderr",
     "output_type": "stream",
     "text": [
      "/mnt/home/ymm/.virtualenvs/kaggle/lib/python2.7/site-packages/ipykernel/__main__.py:1: FutureWarning: sort(columns=....) is deprecated, use sort_values(by=.....)\n",
      "  if __name__ == '__main__':\n",
      "/mnt/home/ymm/.virtualenvs/kaggle/lib/python2.7/site-packages/ipykernel/__main__.py:3: FutureWarning: pd.rolling_mean is deprecated for Series and will be removed in a future version, replace with \n",
      "\tSeries.rolling(window=50000,center=False).mean()\n",
      "  app.launch_new_instance()\n"
     ]
    }
   ],
   "source": [
    "sorted_combined = combined_labels.sort('start_time_diff')\n",
    "clean_df = sorted_combined.reset_index()\n",
    "tmp = pd.rolling_mean(clean_df['Response'], 50000)"
   ]
  },
  {
   "cell_type": "code",
   "execution_count": 170,
   "metadata": {
    "collapsed": false
   },
   "outputs": [
    {
     "data": {
      "text/plain": [
       "[<matplotlib.lines.Line2D at 0x7f76f675a710>]"
      ]
     },
     "execution_count": 170,
     "metadata": {},
     "output_type": "execute_result"
    },
    {
     "data": {
      "image/png": "[encoded data removed]",
      "text/plain": [
       "<matplotlib.figure.Figure at 0x7f76f6835710>"
      ]
     },
     "metadata": {},
     "output_type": "display_data"
    }
   ],
   "source": [
    "plt.plot(tmp)"
   ]
  },
  {
   "cell_type": "code",
   "execution_count": 104,
   "metadata": {
    "collapsed": false,
    "scrolled": true
   },
   "outputs": [
    {
     "name": "stderr",
     "output_type": "stream",
     "text": [
      "/mnt/home/ymm/.virtualenvs/kaggle/lib/python2.7/site-packages/ipykernel/__main__.py:1: FutureWarning: sort(columns=....) is deprecated, use sort_values(by=.....)\n",
      "  if __name__ == '__main__':\n"
     ]
    }
   ],
   "source": [
    "sorted_combined = combined_labels.sort('start_time_diff')"
   ]
  },
  {
   "cell_type": "code",
   "execution_count": 93,
   "metadata": {
    "collapsed": false
   },
   "outputs": [],
   "source": [
    "#all_labels.iloc[0:100, [True]]"
   ]
  },
  {
   "cell_type": "code",
   "execution_count": 80,
   "metadata": {
    "collapsed": false
   },
   "outputs": [
    {
     "data": {
      "text/plain": [
       "array([ True], dtype=bool)"
      ]
     },
     "execution_count": 80,
     "metadata": {},
     "output_type": "execute_result"
    }
   ],
   "source": [
    "all_labels.columns.isin(['Response'])"
   ]
  },
  {
   "cell_type": "code",
   "execution_count": 125,
   "metadata": {
    "collapsed": true
   },
   "outputs": [],
   "source": [
    "bin_num = 200\n",
    "def getAvg_depVar_mean(df, dep_var_name, bin_num):\n",
    "    bin_range = []\n",
    "    for i in range(bin_num):\n",
    "        bin_range.append(int(1.*df.shape[0]/bin_num*i))\n",
    "    bin_range.append(df.shape[0])\n",
    "    avg_dep_var = []\n",
    "    for i in range(bin_num):\n",
    "        mean_value = df.iloc[bin_range[i]:bin_range[i+1], df.columns.isin([dep_var_name])].mean()\n",
    "        #print mean_value\n",
    "        avg_dep_var.append(mean_value)\n",
    "        \n",
    "    return avg_dep_var"
   ]
  },
  {
   "cell_type": "code",
   "execution_count": 130,
   "metadata": {
    "collapsed": false
   },
   "outputs": [],
   "source": [
    "#aa= getAvg_depVar_mean(sorted_combined, 'Response', bin_num)\n",
    "aa= getAvg_depVar_mean(all_labels, 'Response', bin_num)"
   ]
  },
  {
   "cell_type": "code",
   "execution_count": 131,
   "metadata": {
    "collapsed": false
   },
   "outputs": [
    {
     "data": {
      "text/plain": [
       "[<matplotlib.lines.Line2D at 0x7f76f6e20fd0>]"
      ]
     },
     "execution_count": 131,
     "metadata": {},
     "output_type": "execute_result"
    },
    {
     "data": {
      "image/png": "[encoded data removed]",
      "text/plain": [
       "<matplotlib.figure.Figure at 0x7f77684c9550>"
      ]
     },
     "metadata": {},
     "output_type": "display_data"
    }
   ],
   "source": [
    "plt.plot(aa)"
   ]
  },
  {
   "cell_type": "code",
   "execution_count": 21,
   "metadata": {
    "collapsed": false,
    "scrolled": true
   },
   "outputs": [
    {
     "name": "stderr",
     "output_type": "stream",
     "text": [
      "/mnt/home/ymm/.virtualenvs/kaggle/lib/python2.7/site-packages/ipykernel/__main__.py:1: FutureWarning: pd.rolling_mean is deprecated for DataFrame and will be removed in a future version, replace with \n",
      "\tDataFrame.rolling(window=1000,center=False).mean()\n",
      "  if __name__ == '__main__':\n"
     ]
    },
    {
     "data": {
      "text/plain": [
       "array([[<matplotlib.axes._subplots.AxesSubplot object at 0x7f76fb157390>]], dtype=object)"
      ]
     },
     "execution_count": 21,
     "metadata": {},
     "output_type": "execute_result"
    },
    {
     "data": {
      "image/png": "[encoded data removed]",
      "text/plain": [
       "<matplotlib.figure.Figure at 0x7f76fb456b10>"
      ]
     },
     "metadata": {},
     "output_type": "display_data"
    }
   ],
   "source": [
    "pd.rolling_mean(all_labels, 1000).hist(bins=50)"
   ]
  },
  {
   "cell_type": "code",
   "execution_count": 16,
   "metadata": {
    "collapsed": false
   },
   "outputs": [],
   "source": [
    "pos_index = all_labels.loc[all_labels['Response']==1, :].index\n",
    "neg_index = all_labels.loc[all_labels['Response']==0, :].index"
   ]
  },
  {
   "cell_type": "code",
   "execution_count": 17,
   "metadata": {
    "collapsed": false
   },
   "outputs": [
    {
     "data": {
      "text/plain": [
       "<matplotlib.axes._subplots.AxesSubplot at 0x7f76fb7d9b50>"
      ]
     },
     "execution_count": 17,
     "metadata": {},
     "output_type": "execute_result"
    },
    {
     "data": {
      "image/png": "[encoded data removed]",
      "text/plain": [
       "<matplotlib.figure.Figure at 0x7f76fb9ca2d0>"
      ]
     },
     "metadata": {},
     "output_type": "display_data"
    }
   ],
   "source": [
    "pd.Series(neg_index).hist(bins=50)"
   ]
  },
  {
   "cell_type": "code",
   "execution_count": 15,
   "metadata": {
    "collapsed": false
   },
   "outputs": [
    {
     "data": {
      "text/plain": [
       "<matplotlib.axes._subplots.AxesSubplot at 0x7f76fb9b6b50>"
      ]
     },
     "execution_count": 15,
     "metadata": {},
     "output_type": "execute_result"
    },
    {
     "data": {
      "image/png": "[encoded data removed]",
      "text/plain": [
       "<matplotlib.figure.Figure at 0x7f76fbaa0290>"
      ]
     },
     "metadata": {},
     "output_type": "display_data"
    }
   ],
   "source": [
    "pd.Series(pos_index).hist(bins=50)"
   ]
  }
 ],
 "metadata": {
  "kernelspec": {
   "display_name": "Python 2",
   "language": "python",
   "name": "python2"
  },
  "language_info": {
   "codemirror_mode": {
    "name": "ipython",
    "version": 2
   },
   "file_extension": ".py",
   "mimetype": "text/x-python",
   "name": "python",
   "nbconvert_exporter": "python",
   "pygments_lexer": "ipython2",
   "version": "2.7.6"
  }
 },
 "nbformat": 4,
 "nbformat_minor": 0
}
