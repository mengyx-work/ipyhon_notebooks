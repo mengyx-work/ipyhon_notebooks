{
 "cells": [
  {
   "cell_type": "code",
   "execution_count": 3,
   "metadata": {
    "collapsed": false
   },
   "outputs": [],
   "source": [
    "import os, sys, time, random\n",
    "import pandas as pd\n",
    "import numpy as np\n",
    "from os.path import join\n",
    "import matplotlib.pyplot as plt\n",
    "\n",
    "from sklearn.linear_model import LogisticRegression\n",
    "from sklearn.ensemble import RandomForestClassifier, ExtraTreesClassifier\n",
    "from sklearn import preprocessing\n",
    "sys.path.append('/home/ymm/kaggle/xgboost_hyperopt')\n",
    "import utils.bosch_functions as bosch_functions\n",
    "from utils.wrapped_xgboost import xgboost_classifier\n",
    "from utils.validation_tools import score_MCC, MCC, create_validation_index\n",
    "from utils.models import CombinedModel\n",
    "from utils.data_munge import remove_single_value_columns\n",
    "from utils.feature_engineering import NumericalFeatureEngineering, getRelativeTimeColumns, BasicDate_FeatureEngineering\n",
    "from utils.feature_engineering import getTimeChangeColumns, getTimeSteps, build_IndexFeatures\n",
    "\n",
    "data_path = '/home/ymm/bosch/'\n",
    "\n",
    "train_num_file   = 'train_numeric.csv'\n",
    "train_cat_file   = 'train_categorical.csv'\n",
    "train_date_file  = 'train_date.csv'\n",
    "test_num_file    = 'test_numeric.csv'\n",
    "test_cat_file    = 'test_categorical.csv'\n",
    "test_date_file   = 'test_date.csv'\n",
    "\n",
    "sample_submission_file   = 'sample_submission.csv'\n",
    "\n",
    "start_time_column_name = 'L0_S0_D1'\n",
    "id_column_name = 'Id'\n",
    "dep_var_name = 'Response'"
   ]
  },
  {
   "cell_type": "code",
   "execution_count": 4,
   "metadata": {
    "collapsed": false
   },
   "outputs": [],
   "source": [
    "tot_row_num = 1183747\n",
    "num_rows = 50000\n",
    "skip = sorted(random.sample(xrange(1,tot_row_num + 1),tot_row_num - num_rows))"
   ]
  },
  {
   "cell_type": "code",
   "execution_count": 5,
   "metadata": {
    "collapsed": false
   },
   "outputs": [
    {
     "ename": "KeyboardInterrupt",
     "evalue": "",
     "output_type": "error",
     "traceback": [
      "\u001b[0;31m---------------------------------------------------------------------------\u001b[0m",
      "\u001b[0;31mKeyboardInterrupt\u001b[0m                         Traceback (most recent call last)",
      "\u001b[0;32m<ipython-input-5-54173cfdb68d>\u001b[0m in \u001b[0;36m<module>\u001b[0;34m()\u001b[0m\n\u001b[1;32m      2\u001b[0m \u001b[0mtrain_num\u001b[0m \u001b[0;34m=\u001b[0m \u001b[0mpd\u001b[0m\u001b[0;34m.\u001b[0m\u001b[0mread_csv\u001b[0m\u001b[0;34m(\u001b[0m\u001b[0mjoin\u001b[0m\u001b[0;34m(\u001b[0m\u001b[0mdata_path\u001b[0m\u001b[0;34m,\u001b[0m \u001b[0mtrain_num_file\u001b[0m\u001b[0;34m)\u001b[0m\u001b[0;34m,\u001b[0m    \u001b[0mindex_col\u001b[0m\u001b[0;34m=\u001b[0m\u001b[0;34m'Id'\u001b[0m\u001b[0;34m,\u001b[0m \u001b[0mskiprows\u001b[0m\u001b[0;34m=\u001b[0m\u001b[0mskip\u001b[0m\u001b[0;34m,\u001b[0m \u001b[0mnrows\u001b[0m\u001b[0;34m=\u001b[0m\u001b[0mnum_rows\u001b[0m\u001b[0;34m)\u001b[0m\u001b[0;34m\u001b[0m\u001b[0m\n\u001b[1;32m      3\u001b[0m \u001b[0mtrain_dat\u001b[0m \u001b[0;34m=\u001b[0m \u001b[0mpd\u001b[0m\u001b[0;34m.\u001b[0m\u001b[0mread_csv\u001b[0m\u001b[0;34m(\u001b[0m\u001b[0mjoin\u001b[0m\u001b[0;34m(\u001b[0m\u001b[0mdata_path\u001b[0m\u001b[0;34m,\u001b[0m \u001b[0mtrain_date_file\u001b[0m\u001b[0;34m)\u001b[0m\u001b[0;34m,\u001b[0m   \u001b[0mindex_col\u001b[0m\u001b[0;34m=\u001b[0m\u001b[0;34m'Id'\u001b[0m\u001b[0;34m,\u001b[0m \u001b[0mskiprows\u001b[0m\u001b[0;34m=\u001b[0m\u001b[0mskip\u001b[0m\u001b[0;34m,\u001b[0m \u001b[0mnrows\u001b[0m\u001b[0;34m=\u001b[0m\u001b[0mnum_rows\u001b[0m\u001b[0;34m)\u001b[0m\u001b[0;34m\u001b[0m\u001b[0m\n\u001b[0;32m----> 4\u001b[0;31m \u001b[0mtrain_cat\u001b[0m \u001b[0;34m=\u001b[0m \u001b[0mpd\u001b[0m\u001b[0;34m.\u001b[0m\u001b[0mread_csv\u001b[0m\u001b[0;34m(\u001b[0m\u001b[0mjoin\u001b[0m\u001b[0;34m(\u001b[0m\u001b[0mdata_path\u001b[0m\u001b[0;34m,\u001b[0m \u001b[0mtrain_cat_file\u001b[0m\u001b[0;34m)\u001b[0m\u001b[0;34m,\u001b[0m    \u001b[0mindex_col\u001b[0m\u001b[0;34m=\u001b[0m\u001b[0;34m'Id'\u001b[0m\u001b[0;34m,\u001b[0m \u001b[0mskiprows\u001b[0m\u001b[0;34m=\u001b[0m\u001b[0mskip\u001b[0m\u001b[0;34m,\u001b[0m \u001b[0mnrows\u001b[0m\u001b[0;34m=\u001b[0m\u001b[0mnum_rows\u001b[0m\u001b[0;34m)\u001b[0m\u001b[0;34m\u001b[0m\u001b[0m\n\u001b[0m\u001b[1;32m      5\u001b[0m \u001b[0;34m\u001b[0m\u001b[0m\n\u001b[1;32m      6\u001b[0m \u001b[0mtest_num\u001b[0m \u001b[0;34m=\u001b[0m \u001b[0mpd\u001b[0m\u001b[0;34m.\u001b[0m\u001b[0mread_csv\u001b[0m\u001b[0;34m(\u001b[0m\u001b[0mjoin\u001b[0m\u001b[0;34m(\u001b[0m\u001b[0mdata_path\u001b[0m\u001b[0;34m,\u001b[0m \u001b[0mtest_num_file\u001b[0m\u001b[0;34m)\u001b[0m\u001b[0;34m,\u001b[0m      \u001b[0mindex_col\u001b[0m\u001b[0;34m=\u001b[0m\u001b[0;34m'Id'\u001b[0m\u001b[0;34m,\u001b[0m \u001b[0mnrows\u001b[0m\u001b[0;34m=\u001b[0m\u001b[0mnum_rows\u001b[0m\u001b[0;34m)\u001b[0m\u001b[0;34m\u001b[0m\u001b[0m\n",
      "\u001b[0;32m/mnt/home/ymm/.virtualenvs/kaggle/local/lib/python2.7/site-packages/pandas/io/parsers.pyc\u001b[0m in \u001b[0;36mparser_f\u001b[0;34m(filepath_or_buffer, sep, delimiter, header, names, index_col, usecols, squeeze, prefix, mangle_dupe_cols, dtype, engine, converters, true_values, false_values, skipinitialspace, skiprows, skipfooter, nrows, na_values, keep_default_na, na_filter, verbose, skip_blank_lines, parse_dates, infer_datetime_format, keep_date_col, date_parser, dayfirst, iterator, chunksize, compression, thousands, decimal, lineterminator, quotechar, quoting, escapechar, comment, encoding, dialect, tupleize_cols, error_bad_lines, warn_bad_lines, skip_footer, doublequote, delim_whitespace, as_recarray, compact_ints, use_unsigned, low_memory, buffer_lines, memory_map, float_precision)\u001b[0m\n\u001b[1;32m    560\u001b[0m                     skip_blank_lines=skip_blank_lines)\n\u001b[1;32m    561\u001b[0m \u001b[0;34m\u001b[0m\u001b[0m\n\u001b[0;32m--> 562\u001b[0;31m         \u001b[0;32mreturn\u001b[0m \u001b[0m_read\u001b[0m\u001b[0;34m(\u001b[0m\u001b[0mfilepath_or_buffer\u001b[0m\u001b[0;34m,\u001b[0m \u001b[0mkwds\u001b[0m\u001b[0;34m)\u001b[0m\u001b[0;34m\u001b[0m\u001b[0m\n\u001b[0m\u001b[1;32m    563\u001b[0m \u001b[0;34m\u001b[0m\u001b[0m\n\u001b[1;32m    564\u001b[0m     \u001b[0mparser_f\u001b[0m\u001b[0;34m.\u001b[0m\u001b[0m__name__\u001b[0m \u001b[0;34m=\u001b[0m \u001b[0mname\u001b[0m\u001b[0;34m\u001b[0m\u001b[0m\n",
      "\u001b[0;32m/mnt/home/ymm/.virtualenvs/kaggle/local/lib/python2.7/site-packages/pandas/io/parsers.pyc\u001b[0m in \u001b[0;36m_read\u001b[0;34m(filepath_or_buffer, kwds)\u001b[0m\n\u001b[1;32m    319\u001b[0m                                   \" together yet.\")\n\u001b[1;32m    320\u001b[0m     \u001b[0;32melif\u001b[0m \u001b[0mnrows\u001b[0m \u001b[0;32mis\u001b[0m \u001b[0;32mnot\u001b[0m \u001b[0mNone\u001b[0m\u001b[0;34m:\u001b[0m\u001b[0;34m\u001b[0m\u001b[0m\n\u001b[0;32m--> 321\u001b[0;31m         \u001b[0;32mreturn\u001b[0m \u001b[0mparser\u001b[0m\u001b[0;34m.\u001b[0m\u001b[0mread\u001b[0m\u001b[0;34m(\u001b[0m\u001b[0mnrows\u001b[0m\u001b[0;34m)\u001b[0m\u001b[0;34m\u001b[0m\u001b[0m\n\u001b[0m\u001b[1;32m    322\u001b[0m     \u001b[0;32melif\u001b[0m \u001b[0mchunksize\u001b[0m \u001b[0;32mor\u001b[0m \u001b[0miterator\u001b[0m\u001b[0;34m:\u001b[0m\u001b[0;34m\u001b[0m\u001b[0m\n\u001b[1;32m    323\u001b[0m         \u001b[0;32mreturn\u001b[0m \u001b[0mparser\u001b[0m\u001b[0;34m\u001b[0m\u001b[0m\n",
      "\u001b[0;32m/mnt/home/ymm/.virtualenvs/kaggle/local/lib/python2.7/site-packages/pandas/io/parsers.pyc\u001b[0m in \u001b[0;36mread\u001b[0;34m(self, nrows)\u001b[0m\n\u001b[1;32m    813\u001b[0m                 \u001b[0;32mraise\u001b[0m \u001b[0mValueError\u001b[0m\u001b[0;34m(\u001b[0m\u001b[0;34m'skip_footer not supported for iteration'\u001b[0m\u001b[0;34m)\u001b[0m\u001b[0;34m\u001b[0m\u001b[0m\n\u001b[1;32m    814\u001b[0m \u001b[0;34m\u001b[0m\u001b[0m\n\u001b[0;32m--> 815\u001b[0;31m         \u001b[0mret\u001b[0m \u001b[0;34m=\u001b[0m \u001b[0mself\u001b[0m\u001b[0;34m.\u001b[0m\u001b[0m_engine\u001b[0m\u001b[0;34m.\u001b[0m\u001b[0mread\u001b[0m\u001b[0;34m(\u001b[0m\u001b[0mnrows\u001b[0m\u001b[0;34m)\u001b[0m\u001b[0;34m\u001b[0m\u001b[0m\n\u001b[0m\u001b[1;32m    816\u001b[0m \u001b[0;34m\u001b[0m\u001b[0m\n\u001b[1;32m    817\u001b[0m         \u001b[0;32mif\u001b[0m \u001b[0mself\u001b[0m\u001b[0;34m.\u001b[0m\u001b[0moptions\u001b[0m\u001b[0;34m.\u001b[0m\u001b[0mget\u001b[0m\u001b[0;34m(\u001b[0m\u001b[0;34m'as_recarray'\u001b[0m\u001b[0;34m)\u001b[0m\u001b[0;34m:\u001b[0m\u001b[0;34m\u001b[0m\u001b[0m\n",
      "\u001b[0;32m/mnt/home/ymm/.virtualenvs/kaggle/local/lib/python2.7/site-packages/pandas/io/parsers.pyc\u001b[0m in \u001b[0;36mread\u001b[0;34m(self, nrows)\u001b[0m\n\u001b[1;32m   1312\u001b[0m     \u001b[0;32mdef\u001b[0m \u001b[0mread\u001b[0m\u001b[0;34m(\u001b[0m\u001b[0mself\u001b[0m\u001b[0;34m,\u001b[0m \u001b[0mnrows\u001b[0m\u001b[0;34m=\u001b[0m\u001b[0mNone\u001b[0m\u001b[0;34m)\u001b[0m\u001b[0;34m:\u001b[0m\u001b[0;34m\u001b[0m\u001b[0m\n\u001b[1;32m   1313\u001b[0m         \u001b[0;32mtry\u001b[0m\u001b[0;34m:\u001b[0m\u001b[0;34m\u001b[0m\u001b[0m\n\u001b[0;32m-> 1314\u001b[0;31m             \u001b[0mdata\u001b[0m \u001b[0;34m=\u001b[0m \u001b[0mself\u001b[0m\u001b[0;34m.\u001b[0m\u001b[0m_reader\u001b[0m\u001b[0;34m.\u001b[0m\u001b[0mread\u001b[0m\u001b[0;34m(\u001b[0m\u001b[0mnrows\u001b[0m\u001b[0;34m)\u001b[0m\u001b[0;34m\u001b[0m\u001b[0m\n\u001b[0m\u001b[1;32m   1315\u001b[0m         \u001b[0;32mexcept\u001b[0m \u001b[0mStopIteration\u001b[0m\u001b[0;34m:\u001b[0m\u001b[0;34m\u001b[0m\u001b[0m\n\u001b[1;32m   1316\u001b[0m             \u001b[0;32mif\u001b[0m \u001b[0mself\u001b[0m\u001b[0;34m.\u001b[0m\u001b[0m_first_chunk\u001b[0m\u001b[0;34m:\u001b[0m\u001b[0;34m\u001b[0m\u001b[0m\n",
      "\u001b[0;31mKeyboardInterrupt\u001b[0m: "
     ]
    }
   ],
   "source": [
    "## randomly select certain rows\n",
    "train_num = pd.read_csv(join(data_path, train_num_file),    index_col='Id', skiprows=skip, nrows=num_rows)\n",
    "train_dat = pd.read_csv(join(data_path, train_date_file),   index_col='Id', skiprows=skip, nrows=num_rows)\n",
    "train_cat = pd.read_csv(join(data_path, train_cat_file),    index_col='Id', skiprows=skip, nrows=num_rows)\n",
    "\n",
    "test_num = pd.read_csv(join(data_path, test_num_file),      index_col='Id', nrows=num_rows)\n",
    "test_dat = pd.read_csv(join(data_path, test_date_file),     index_col='Id', nrows=num_rows)\n",
    "test_cat = pd.read_csv(join(data_path, test_cat_file),      index_col='Id', nrows=num_rows)\n",
    "\n",
    "print 'finish loading date using {} seconds'.format(round(time.time() - start_time, 0))"
   ]
  },
  {
   "cell_type": "code",
   "execution_count": 4,
   "metadata": {
    "collapsed": false
   },
   "outputs": [
    {
     "name": "stdout",
     "output_type": "stream",
     "text": [
      "raw train data dimension:  (50000, 969)\n",
      "raw test data dimension:  (50000, 968)\n",
      "processed train data dimension:  (50000, 969)\n",
      "processed test data dimension:  (50000, 968)\n",
      "raw train data dimension:  (50000, 1156)\n",
      "raw test data dimension:  (50000, 1156)\n",
      "processed train data dimension:  (50000, 1150)\n",
      "processed test data dimension:  (50000, 1150)\n",
      "raw train data dimension:  (50000, 2140)\n",
      "raw test data dimension:  (50000, 2140)\n",
      "processed train data dimension:  (50000, 1082)\n",
      "processed test data dimension:  (50000, 1082)\n"
     ]
    }
   ],
   "source": [
    "remove_single_value_columns(train_num, 'Response', test=test_num)\n",
    "remove_single_value_columns(train_dat, test=test_dat)\n",
    "remove_single_value_columns(train_cat, test=test_cat)"
   ]
  },
  {
   "cell_type": "code",
   "execution_count": 55,
   "metadata": {
    "collapsed": false
   },
   "outputs": [],
   "source": [
    "dat_columns = tmp_train_dat.columns.tolist()\n",
    "num_columns = tmp_train_num.columns.tolist()\n",
    "\n",
    "\n",
    "\n",
    "def build_column_dict(columns):\n",
    "    col_dict = {}\n",
    "    for col in columns:\n",
    "        tmpList = col.split('_')[0:2]\n",
    "        key = ('_').join(tmpList)\n",
    "        if key not in col_dict:\n",
    "            col_dict[key] = [col]\n",
    "        else:\n",
    "            col_dict[key].append(col)\n",
    "            \n",
    "    return col_dict\n",
    "\n",
    "dat_col_dict = build_column_dict(dat_columns)\n",
    "num_col_dict = build_column_dict(num_columns)\n",
    "        "
   ]
  },
  {
   "cell_type": "code",
   "execution_count": 38,
   "metadata": {
    "collapsed": false,
    "scrolled": true
   },
   "outputs": [
    {
     "data": {
      "text/plain": [
       "(50000, 1150)"
      ]
     },
     "execution_count": 38,
     "metadata": {},
     "output_type": "execute_result"
    }
   ],
   "source": [
    "tmp_train_dat.shape"
   ]
  },
  {
   "cell_type": "code",
   "execution_count": 56,
   "metadata": {
    "collapsed": false
   },
   "outputs": [
    {
     "name": "stdout",
     "output_type": "stream",
     "text": [
      "finish feature engineering date station using 0.13 minutes\n"
     ]
    }
   ],
   "source": [
    "start_time = time.time()\n",
    "\n",
    "\n",
    "def build_station_features(df, col_dict, prefix='dat'):\n",
    "    features = pd.DataFrame()\n",
    "    for key, value in col_dict.items():\n",
    "        features['{}_{}_{}'.format(prefix, key, 'mean')] = df[value].mean(axis=1)\n",
    "        features['{}_{}_{}'.format(prefix, key, 'max')] = df[value].max(axis=1)\n",
    "        features['{}_{}_{}'.format(prefix, key, 'min')] = df[value].min(axis=1)\n",
    "        features['{}_{}_{}'.format(prefix, key, 'var')] = df[value].var(axis=1)\n",
    "    return features\n",
    "    \n",
    "dat_features = build_station_features(tmp_train_dat, dat_col_dict, 'dat')\n",
    "num_features = build_station_features(tmp_train_num, num_col_dict, 'num')\n",
    "print 'finish feature engineering date station using {} minutes'.format(round((time.time() - start_time)/60, 2))"
   ]
  },
  {
   "cell_type": "code",
   "execution_count": 72,
   "metadata": {
    "collapsed": false
   },
   "outputs": [],
   "source": [
    "#print features.shape\n",
    "#features.head()"
   ]
  },
  {
   "cell_type": "code",
   "execution_count": null,
   "metadata": {
    "collapsed": true
   },
   "outputs": [],
   "source": []
  },
  {
   "cell_type": "code",
   "execution_count": 6,
   "metadata": {
    "collapsed": false,
    "scrolled": true
   },
   "outputs": [],
   "source": [
    "#### numerical feature engineering work\n",
    "train_num_Basics = NumericalFeatureEngineering(train_num)\n",
    "test_num_Basics = NumericalFeatureEngineering(test_num)"
   ]
  },
  {
   "cell_type": "code",
   "execution_count": 7,
   "metadata": {
    "collapsed": false
   },
   "outputs": [],
   "source": [
    "missing_value= -1.5\n",
    "train_num_Basics.fillna(missing_value, inplace=True)\n",
    "test_num_Basics.fillna(missing_value, inplace=True)\n",
    "\n",
    "train_num.fillna(missing_value, inplace=True)\n",
    "test_num.fillna(missing_value, inplace=True)"
   ]
  },
  {
   "cell_type": "code",
   "execution_count": 8,
   "metadata": {
    "collapsed": false
   },
   "outputs": [
    {
     "name": "stdout",
     "output_type": "stream",
     "text": [
      "combined train numerical feature shape: (50000, 978), combined test numerical features shape: (50000, 977)\n"
     ]
    }
   ],
   "source": [
    "combined_train_num = pd.concat([train_num, train_num_Basics], axis=1)\n",
    "combined_test_num  = pd.concat([test_num, test_num_Basics], axis=1)                                                                            \n",
    "print 'combined train numerical feature shape: {}, combined test numerical features shape: {}'.format(combined_train_num.shape, combined_test_num.shape)"
   ]
  },
  {
   "cell_type": "code",
   "execution_count": 9,
   "metadata": {
    "collapsed": false
   },
   "outputs": [],
   "source": [
    "#print combined_test_num.isnull().sum().sum(), combined_train_num.isnull().sum().sum()"
   ]
  },
  {
   "cell_type": "code",
   "execution_count": 10,
   "metadata": {
    "collapsed": false
   },
   "outputs": [],
   "source": [
    "#train_num.min().hist(bins=50)"
   ]
  },
  {
   "cell_type": "code",
   "execution_count": 11,
   "metadata": {
    "collapsed": false,
    "scrolled": true
   },
   "outputs": [],
   "source": [
    "#train_num.max().hist(bins=50)"
   ]
  },
  {
   "cell_type": "code",
   "execution_count": 12,
   "metadata": {
    "collapsed": true
   },
   "outputs": [],
   "source": [
    "### section of date features\n",
    "\n",
    "## basic features from tmp_train_dat\n",
    "train_dat_Basics = BasicDate_FeatureEngineering(train_dat)\n",
    "test_dat_Basics  = BasicDate_FeatureEngineering(test_dat)"
   ]
  },
  {
   "cell_type": "code",
   "execution_count": 13,
   "metadata": {
    "collapsed": false
   },
   "outputs": [
    {
     "name": "stdout",
     "output_type": "stream",
     "text": [
      "raw train data dimension:  (50000, 1150)\n",
      "raw test data dimension:  (50000, 1150)\n",
      "processed train data dimension:  (50000, 952)\n",
      "processed test data dimension:  (50000, 952)\n"
     ]
    }
   ],
   "source": [
    "## normalized date columns\n",
    "train_dat_Norm = train_dat.apply(getRelativeTimeColumns, axis=1)\n",
    "test_dat_Norm  = test_dat.apply(getRelativeTimeColumns, axis=1)\n",
    "## remove single-valued columns\n",
    "remove_single_value_columns(train_dat_Norm, test=test_dat_Norm)"
   ]
  },
  {
   "cell_type": "code",
   "execution_count": 14,
   "metadata": {
    "collapsed": false
   },
   "outputs": [
    {
     "data": {
      "text/plain": [
       "LabelEncoder()"
      ]
     },
     "execution_count": 14,
     "metadata": {},
     "output_type": "execute_result"
    }
   ],
   "source": [
    "encoder = preprocessing.LabelEncoder()\n",
    "column_names = train_dat.columns.tolist()\n",
    "column_names.append('NaN')\n",
    "encoder.fit(column_names)"
   ]
  },
  {
   "cell_type": "code",
   "execution_count": 15,
   "metadata": {
    "collapsed": true
   },
   "outputs": [],
   "source": [
    "## TimeDiff features\n",
    "train_dat_TimeDiff = train_dat.apply(getTimeChangeColumns, axis=1)\n",
    "test_dat_TimeDiff  = test_dat.apply(getTimeChangeColumns, axis=1)\n",
    "TimeDiff_ColumnNames = ['time_diff_start_col', 'time_diff_end_col', 'time_diff_value',\n",
    "                        'time_ratio_value', 'first_time_value', 'last_time_value', 'first_date_value']\n",
    "train_dat_TimeDiff.columns = TimeDiff_ColumnNames\n",
    "test_dat_TimeDiff.columns = TimeDiff_ColumnNames\n",
    "\n",
    "for column in ['time_diff_start_col', 'time_diff_end_col']:\n",
    "    train_dat_TimeDiff[column].fillna('NaN', inplace=True)\n",
    "    train_dat_TimeDiff[column] = encoder.transform(train_dat_TimeDiff[column])\n",
    "    \n",
    "    test_dat_TimeDiff[column].fillna('NaN', inplace=True)\n",
    "    test_dat_TimeDiff[column] = encoder.transform(test_dat_TimeDiff[column])\n"
   ]
  },
  {
   "cell_type": "code",
   "execution_count": 16,
   "metadata": {
    "collapsed": false
   },
   "outputs": [
    {
     "name": "stdout",
     "output_type": "stream",
     "text": [
      "finish generating TimeStep features using 672.0 seconds\n"
     ]
    }
   ],
   "source": [
    "start_time = time.time()\n",
    "\n",
    "## section to create timeStep features\n",
    "\n",
    "unique_value_counts = 6\n",
    "timeStep_columnNames = []\n",
    "column_name_columns = []\n",
    "for i in xrange(unique_value_counts):\n",
    "    timeStep_columnNames.extend(['time_diff_step_{}'.format(i), 'column_counts_step_{}'.format(i),\n",
    "                                 'time_cost_step_{}'.format(i), 'first_column_step_{}'.format(i)])\n",
    "    column_name_columns.append('first_column_step_{}'.format(i))\n",
    "\n",
    "train_dat_TimeStep = train_dat_Norm.apply(getTimeSteps, axis=1)\n",
    "test_dat_TimeStep  = test_dat_Norm.apply(getTimeSteps, axis=1)\n",
    "train_dat_TimeStep.columns = timeStep_columnNames\n",
    "test_dat_TimeStep.columns  = timeStep_columnNames\n",
    "\n",
    "for column in column_name_columns:\n",
    "    train_dat_TimeStep[column].fillna('NaN', inplace=True)\n",
    "    test_dat_TimeStep[column].fillna('NaN', inplace=True)\n",
    "    train_dat_TimeStep[column] = encoder.transform(train_dat_TimeStep[column])\n",
    "    test_dat_TimeStep[column] = encoder.transform(test_dat_TimeStep[column])\n",
    "\n",
    "\n",
    "print 'finish generating TimeStep features using {} seconds'.format(round(time.time() - start_time, 0))\n"
   ]
  },
  {
   "cell_type": "code",
   "execution_count": null,
   "metadata": {
    "collapsed": true
   },
   "outputs": [],
   "source": []
  },
  {
   "cell_type": "code",
   "execution_count": 17,
   "metadata": {
    "collapsed": false
   },
   "outputs": [],
   "source": [
    "#print train_dat_TimeDiff.min()\n",
    "#print train_dat_TimeDiff.isnull().sum()"
   ]
  },
  {
   "cell_type": "code",
   "execution_count": 18,
   "metadata": {
    "collapsed": false
   },
   "outputs": [],
   "source": [
    "#train_dat_Basics.head()"
   ]
  },
  {
   "cell_type": "code",
   "execution_count": 19,
   "metadata": {
    "collapsed": true
   },
   "outputs": [],
   "source": [
    "train_dat_Norm.fillna(-1., inplace=True)\n",
    "test_dat_Norm.fillna(-1., inplace=True)"
   ]
  },
  {
   "cell_type": "code",
   "execution_count": 20,
   "metadata": {
    "collapsed": true
   },
   "outputs": [],
   "source": [
    "train_dat_Basics.fillna(-1., inplace=True)\n",
    "test_dat_Basics.fillna(-1., inplace=True)"
   ]
  },
  {
   "cell_type": "code",
   "execution_count": 21,
   "metadata": {
    "collapsed": true
   },
   "outputs": [],
   "source": [
    "train_dat_TimeStep.fillna(0, inplace=True)\n",
    "test_dat_TimeStep.fillna(0, inplace=True)"
   ]
  },
  {
   "cell_type": "code",
   "execution_count": 22,
   "metadata": {
    "collapsed": false
   },
   "outputs": [],
   "source": [
    "train_dat_TimeDiff.fillna(0, inplace=True)\n",
    "test_dat_TimeDiff.fillna(0, inplace=True)"
   ]
  },
  {
   "cell_type": "code",
   "execution_count": 23,
   "metadata": {
    "collapsed": true
   },
   "outputs": [],
   "source": [
    "#expected_columns = ['first_time_value', 'last_time_value', 'time_ratio_value', 'first_date_value']"
   ]
  },
  {
   "cell_type": "code",
   "execution_count": 24,
   "metadata": {
    "collapsed": true
   },
   "outputs": [],
   "source": [
    "tmp_train_dat = train_dat_TimeDiff.copy()\n",
    "tmp_test_dat = test_dat_TimeDiff.copy()\n",
    "if 'start_time' in train_dat_Basics:\n",
    "    tmp_train_dat['start_time'] = train_dat_Basics['start_time']\n",
    "    tmp_test_dat['start_time']  = test_dat_Basics['start_time']\n",
    "    \n",
    "train_test_datIndex_features = build_IndexFeatures(tmp_train_dat, tmp_test_dat)"
   ]
  },
  {
   "cell_type": "code",
   "execution_count": null,
   "metadata": {
    "collapsed": true
   },
   "outputs": [],
   "source": []
  },
  {
   "cell_type": "code",
   "execution_count": 25,
   "metadata": {
    "collapsed": false
   },
   "outputs": [
    {
     "name": "stdout",
     "output_type": "stream",
     "text": [
      "finish feature engineering date using 0.01 minutes\n"
     ]
    }
   ],
   "source": [
    "start_time = time.time()\n",
    "combined_train_dat = pd.concat([train_dat_Norm, train_dat_Basics, train_dat_TimeDiff, train_dat_TimeStep], axis=1)\n",
    "combined_test_dat  = pd.concat([test_dat_Norm, test_dat_Basics, test_dat_TimeDiff, test_dat_TimeStep], axis=1)                                                                                                                                                 \n",
    "print 'finish feature engineering date using {} minutes'.format(round((time.time() - start_time)/60, 2))"
   ]
  },
  {
   "cell_type": "code",
   "execution_count": 26,
   "metadata": {
    "collapsed": false,
    "scrolled": false
   },
   "outputs": [
    {
     "name": "stdout",
     "output_type": "stream",
     "text": [
      "(50000, 993) (50000, 993)\n"
     ]
    },
    {
     "data": {
      "text/html": [
       "<div>\n",
       "<table border=\"1\" class=\"dataframe\">\n",
       "  <thead>\n",
       "    <tr style=\"text-align: right;\">\n",
       "      <th></th>\n",
       "      <th>L0_S0_D1</th>\n",
       "      <th>L0_S0_D3</th>\n",
       "      <th>L0_S0_D5</th>\n",
       "      <th>L0_S0_D7</th>\n",
       "      <th>L0_S0_D9</th>\n",
       "      <th>L0_S0_D11</th>\n",
       "      <th>L0_S0_D13</th>\n",
       "      <th>L0_S0_D15</th>\n",
       "      <th>L0_S0_D17</th>\n",
       "      <th>L0_S0_D19</th>\n",
       "      <th>...</th>\n",
       "      <th>time_cost_step_3</th>\n",
       "      <th>first_column_step_3</th>\n",
       "      <th>time_diff_step_4</th>\n",
       "      <th>column_counts_step_4</th>\n",
       "      <th>time_cost_step_4</th>\n",
       "      <th>first_column_step_4</th>\n",
       "      <th>time_diff_step_5</th>\n",
       "      <th>column_counts_step_5</th>\n",
       "      <th>time_cost_step_5</th>\n",
       "      <th>first_column_step_5</th>\n",
       "    </tr>\n",
       "    <tr>\n",
       "      <th>Id</th>\n",
       "      <th></th>\n",
       "      <th></th>\n",
       "      <th></th>\n",
       "      <th></th>\n",
       "      <th></th>\n",
       "      <th></th>\n",
       "      <th></th>\n",
       "      <th></th>\n",
       "      <th></th>\n",
       "      <th></th>\n",
       "      <th></th>\n",
       "      <th></th>\n",
       "      <th></th>\n",
       "      <th></th>\n",
       "      <th></th>\n",
       "      <th></th>\n",
       "      <th></th>\n",
       "      <th></th>\n",
       "      <th></th>\n",
       "      <th></th>\n",
       "      <th></th>\n",
       "    </tr>\n",
       "  </thead>\n",
       "  <tbody>\n",
       "    <tr>\n",
       "      <th>4</th>\n",
       "      <td>0.0</td>\n",
       "      <td>0.0</td>\n",
       "      <td>0.0</td>\n",
       "      <td>0.0</td>\n",
       "      <td>0.0</td>\n",
       "      <td>0.0</td>\n",
       "      <td>0.0</td>\n",
       "      <td>0.0</td>\n",
       "      <td>0.0</td>\n",
       "      <td>0.0</td>\n",
       "      <td>...</td>\n",
       "      <td>1.257500</td>\n",
       "      <td>1013</td>\n",
       "      <td>5.04</td>\n",
       "      <td>15</td>\n",
       "      <td>0.336000</td>\n",
       "      <td>1018</td>\n",
       "      <td>5.05</td>\n",
       "      <td>14</td>\n",
       "      <td>0.360714</td>\n",
       "      <td>1033</td>\n",
       "    </tr>\n",
       "    <tr>\n",
       "      <th>6</th>\n",
       "      <td>-1.0</td>\n",
       "      <td>-1.0</td>\n",
       "      <td>-1.0</td>\n",
       "      <td>-1.0</td>\n",
       "      <td>-1.0</td>\n",
       "      <td>-1.0</td>\n",
       "      <td>-1.0</td>\n",
       "      <td>-1.0</td>\n",
       "      <td>-1.0</td>\n",
       "      <td>-1.0</td>\n",
       "      <td>...</td>\n",
       "      <td>0.000000</td>\n",
       "      <td>1150</td>\n",
       "      <td>0.00</td>\n",
       "      <td>0</td>\n",
       "      <td>0.000000</td>\n",
       "      <td>1150</td>\n",
       "      <td>0.00</td>\n",
       "      <td>0</td>\n",
       "      <td>0.000000</td>\n",
       "      <td>1150</td>\n",
       "    </tr>\n",
       "    <tr>\n",
       "      <th>7</th>\n",
       "      <td>0.0</td>\n",
       "      <td>0.0</td>\n",
       "      <td>0.0</td>\n",
       "      <td>0.0</td>\n",
       "      <td>0.0</td>\n",
       "      <td>0.0</td>\n",
       "      <td>0.0</td>\n",
       "      <td>0.0</td>\n",
       "      <td>0.0</td>\n",
       "      <td>0.0</td>\n",
       "      <td>...</td>\n",
       "      <td>0.083971</td>\n",
       "      <td>945</td>\n",
       "      <td>5.72</td>\n",
       "      <td>29</td>\n",
       "      <td>0.197241</td>\n",
       "      <td>1018</td>\n",
       "      <td>0.00</td>\n",
       "      <td>0</td>\n",
       "      <td>0.000000</td>\n",
       "      <td>1150</td>\n",
       "    </tr>\n",
       "    <tr>\n",
       "      <th>9</th>\n",
       "      <td>0.0</td>\n",
       "      <td>0.0</td>\n",
       "      <td>0.0</td>\n",
       "      <td>0.0</td>\n",
       "      <td>0.0</td>\n",
       "      <td>0.0</td>\n",
       "      <td>0.0</td>\n",
       "      <td>0.0</td>\n",
       "      <td>0.0</td>\n",
       "      <td>0.0</td>\n",
       "      <td>...</td>\n",
       "      <td>0.072500</td>\n",
       "      <td>945</td>\n",
       "      <td>4.94</td>\n",
       "      <td>10</td>\n",
       "      <td>0.494000</td>\n",
       "      <td>1018</td>\n",
       "      <td>4.95</td>\n",
       "      <td>5</td>\n",
       "      <td>0.990000</td>\n",
       "      <td>1028</td>\n",
       "    </tr>\n",
       "    <tr>\n",
       "      <th>11</th>\n",
       "      <td>0.0</td>\n",
       "      <td>0.0</td>\n",
       "      <td>0.0</td>\n",
       "      <td>0.0</td>\n",
       "      <td>0.0</td>\n",
       "      <td>0.0</td>\n",
       "      <td>0.0</td>\n",
       "      <td>0.0</td>\n",
       "      <td>0.0</td>\n",
       "      <td>0.0</td>\n",
       "      <td>...</td>\n",
       "      <td>0.224667</td>\n",
       "      <td>1018</td>\n",
       "      <td>3.38</td>\n",
       "      <td>14</td>\n",
       "      <td>0.241429</td>\n",
       "      <td>1041</td>\n",
       "      <td>0.00</td>\n",
       "      <td>0</td>\n",
       "      <td>0.000000</td>\n",
       "      <td>1150</td>\n",
       "    </tr>\n",
       "  </tbody>\n",
       "</table>\n",
       "<p>5 rows × 993 columns</p>\n",
       "</div>"
      ],
      "text/plain": [
       "    L0_S0_D1  L0_S0_D3  L0_S0_D5  L0_S0_D7  L0_S0_D9  L0_S0_D11  L0_S0_D13  \\\n",
       "Id                                                                           \n",
       "4        0.0       0.0       0.0       0.0       0.0        0.0        0.0   \n",
       "6       -1.0      -1.0      -1.0      -1.0      -1.0       -1.0       -1.0   \n",
       "7        0.0       0.0       0.0       0.0       0.0        0.0        0.0   \n",
       "9        0.0       0.0       0.0       0.0       0.0        0.0        0.0   \n",
       "11       0.0       0.0       0.0       0.0       0.0        0.0        0.0   \n",
       "\n",
       "    L0_S0_D15  L0_S0_D17  L0_S0_D19         ...           time_cost_step_3  \\\n",
       "Id                                          ...                              \n",
       "4         0.0        0.0        0.0         ...                   1.257500   \n",
       "6        -1.0       -1.0       -1.0         ...                   0.000000   \n",
       "7         0.0        0.0        0.0         ...                   0.083971   \n",
       "9         0.0        0.0        0.0         ...                   0.072500   \n",
       "11        0.0        0.0        0.0         ...                   0.224667   \n",
       "\n",
       "    first_column_step_3  time_diff_step_4  column_counts_step_4  \\\n",
       "Id                                                                \n",
       "4                  1013              5.04                    15   \n",
       "6                  1150              0.00                     0   \n",
       "7                   945              5.72                    29   \n",
       "9                   945              4.94                    10   \n",
       "11                 1018              3.38                    14   \n",
       "\n",
       "    time_cost_step_4  first_column_step_4  time_diff_step_5  \\\n",
       "Id                                                            \n",
       "4           0.336000                 1018              5.05   \n",
       "6           0.000000                 1150              0.00   \n",
       "7           0.197241                 1018              0.00   \n",
       "9           0.494000                 1018              4.95   \n",
       "11          0.241429                 1041              0.00   \n",
       "\n",
       "    column_counts_step_5  time_cost_step_5  first_column_step_5  \n",
       "Id                                                               \n",
       "4                     14          0.360714                 1033  \n",
       "6                      0          0.000000                 1150  \n",
       "7                      0          0.000000                 1150  \n",
       "9                      5          0.990000                 1028  \n",
       "11                     0          0.000000                 1150  \n",
       "\n",
       "[5 rows x 993 columns]"
      ]
     },
     "execution_count": 26,
     "metadata": {},
     "output_type": "execute_result"
    }
   ],
   "source": [
    "print combined_train_dat.shape, combined_test_dat.shape\n",
    "combined_train_dat.head()"
   ]
  },
  {
   "cell_type": "code",
   "execution_count": null,
   "metadata": {
    "collapsed": false
   },
   "outputs": [],
   "source": []
  },
  {
   "cell_type": "code",
   "execution_count": 27,
   "metadata": {
    "collapsed": true
   },
   "outputs": [],
   "source": [
    "combined_train = pd.concat([combined_train_num, combined_train_dat, train_test_datIndex_features.ix[combined_train_num.index, :]], axis=1)\n",
    "combined_test  = pd.concat([combined_test_num,  combined_test_dat,  train_test_datIndex_features.ix[combined_test_num.index, :]], axis=1)\n",
    "\n",
    "#combined_train.to_csv('bosch_FE_raw_train_num_dat_data.csv') "
   ]
  },
  {
   "cell_type": "code",
   "execution_count": 28,
   "metadata": {
    "collapsed": false
   },
   "outputs": [
    {
     "name": "stdout",
     "output_type": "stream",
     "text": [
      "(50000, 1993)\n"
     ]
    },
    {
     "data": {
      "text/html": [
       "<div>\n",
       "<table border=\"1\" class=\"dataframe\">\n",
       "  <thead>\n",
       "    <tr style=\"text-align: right;\">\n",
       "      <th></th>\n",
       "      <th>L0_S0_F0</th>\n",
       "      <th>L0_S0_F2</th>\n",
       "      <th>L0_S0_F4</th>\n",
       "      <th>L0_S0_F6</th>\n",
       "      <th>L0_S0_F8</th>\n",
       "      <th>L0_S0_F10</th>\n",
       "      <th>L0_S0_F12</th>\n",
       "      <th>L0_S0_F14</th>\n",
       "      <th>L0_S0_F16</th>\n",
       "      <th>L0_S0_F18</th>\n",
       "      <th>...</th>\n",
       "      <th>first_date_value_index_ratio_1</th>\n",
       "      <th>first_date_value_index_ratio_2</th>\n",
       "      <th>time_ratio_value_index_diff_0</th>\n",
       "      <th>time_ratio_value_index_diff_1</th>\n",
       "      <th>first_time_value_index_diff_0</th>\n",
       "      <th>first_time_value_index_diff_1</th>\n",
       "      <th>last_time_value_index_diff_0</th>\n",
       "      <th>last_time_value_index_diff_1</th>\n",
       "      <th>first_date_value_index_diff_0</th>\n",
       "      <th>first_date_value_index_diff_1</th>\n",
       "    </tr>\n",
       "    <tr>\n",
       "      <th>Id</th>\n",
       "      <th></th>\n",
       "      <th></th>\n",
       "      <th></th>\n",
       "      <th></th>\n",
       "      <th></th>\n",
       "      <th></th>\n",
       "      <th></th>\n",
       "      <th></th>\n",
       "      <th></th>\n",
       "      <th></th>\n",
       "      <th></th>\n",
       "      <th></th>\n",
       "      <th></th>\n",
       "      <th></th>\n",
       "      <th></th>\n",
       "      <th></th>\n",
       "      <th></th>\n",
       "      <th></th>\n",
       "      <th></th>\n",
       "      <th></th>\n",
       "      <th></th>\n",
       "    </tr>\n",
       "  </thead>\n",
       "  <tbody>\n",
       "    <tr>\n",
       "      <th>1</th>\n",
       "      <td>-1.500</td>\n",
       "      <td>-1.500</td>\n",
       "      <td>-1.500</td>\n",
       "      <td>-1.500</td>\n",
       "      <td>-1.500</td>\n",
       "      <td>-1.500</td>\n",
       "      <td>-1.5</td>\n",
       "      <td>-1.500</td>\n",
       "      <td>-1.500</td>\n",
       "      <td>-1.500</td>\n",
       "      <td>...</td>\n",
       "      <td>71856.000</td>\n",
       "      <td>41239.000000</td>\n",
       "      <td>-60087</td>\n",
       "      <td>-3232</td>\n",
       "      <td>-18352</td>\n",
       "      <td>-3232</td>\n",
       "      <td>-76879</td>\n",
       "      <td>-3232</td>\n",
       "      <td>9999999</td>\n",
       "      <td>-1</td>\n",
       "    </tr>\n",
       "    <tr>\n",
       "      <th>2</th>\n",
       "      <td>-1.500</td>\n",
       "      <td>-1.500</td>\n",
       "      <td>-1.500</td>\n",
       "      <td>-1.500</td>\n",
       "      <td>-1.500</td>\n",
       "      <td>-1.500</td>\n",
       "      <td>-1.5</td>\n",
       "      <td>-1.500</td>\n",
       "      <td>-1.500</td>\n",
       "      <td>-1.500</td>\n",
       "      <td>...</td>\n",
       "      <td>34967.500</td>\n",
       "      <td>9818.500000</td>\n",
       "      <td>-67274</td>\n",
       "      <td>-62612</td>\n",
       "      <td>-72870</td>\n",
       "      <td>-5943</td>\n",
       "      <td>-46601</td>\n",
       "      <td>-61348</td>\n",
       "      <td>1</td>\n",
       "      <td>-1</td>\n",
       "    </tr>\n",
       "    <tr>\n",
       "      <th>3</th>\n",
       "      <td>-1.500</td>\n",
       "      <td>-1.500</td>\n",
       "      <td>-1.500</td>\n",
       "      <td>-1.500</td>\n",
       "      <td>-1.500</td>\n",
       "      <td>-1.500</td>\n",
       "      <td>-1.5</td>\n",
       "      <td>-1.500</td>\n",
       "      <td>-1.500</td>\n",
       "      <td>-1.500</td>\n",
       "      <td>...</td>\n",
       "      <td>8798.000</td>\n",
       "      <td>21954.666667</td>\n",
       "      <td>-81490</td>\n",
       "      <td>-24124</td>\n",
       "      <td>-31865</td>\n",
       "      <td>-17769</td>\n",
       "      <td>-97025</td>\n",
       "      <td>-20967</td>\n",
       "      <td>1</td>\n",
       "      <td>-3</td>\n",
       "    </tr>\n",
       "    <tr>\n",
       "      <th>5</th>\n",
       "      <td>-0.016</td>\n",
       "      <td>-0.026</td>\n",
       "      <td>-0.033</td>\n",
       "      <td>-0.016</td>\n",
       "      <td>0.205</td>\n",
       "      <td>-0.157</td>\n",
       "      <td>0.0</td>\n",
       "      <td>0.008</td>\n",
       "      <td>0.087</td>\n",
       "      <td>0.077</td>\n",
       "      <td>...</td>\n",
       "      <td>13784.600</td>\n",
       "      <td>2666.800000</td>\n",
       "      <td>-88702</td>\n",
       "      <td>-95353</td>\n",
       "      <td>-74259</td>\n",
       "      <td>-13304</td>\n",
       "      <td>-77946</td>\n",
       "      <td>-4697</td>\n",
       "      <td>-74259</td>\n",
       "      <td>-33948</td>\n",
       "    </tr>\n",
       "    <tr>\n",
       "      <th>8</th>\n",
       "      <td>-1.500</td>\n",
       "      <td>-1.500</td>\n",
       "      <td>-1.500</td>\n",
       "      <td>-1.500</td>\n",
       "      <td>-1.500</td>\n",
       "      <td>-1.500</td>\n",
       "      <td>-1.5</td>\n",
       "      <td>-1.500</td>\n",
       "      <td>-1.500</td>\n",
       "      <td>-1.500</td>\n",
       "      <td>...</td>\n",
       "      <td>2229.875</td>\n",
       "      <td>8185.000000</td>\n",
       "      <td>-90231</td>\n",
       "      <td>-31470</td>\n",
       "      <td>-55325</td>\n",
       "      <td>-4312</td>\n",
       "      <td>-74511</td>\n",
       "      <td>-4312</td>\n",
       "      <td>2</td>\n",
       "      <td>-6</td>\n",
       "    </tr>\n",
       "  </tbody>\n",
       "</table>\n",
       "<p>5 rows × 1993 columns</p>\n",
       "</div>"
      ],
      "text/plain": [
       "    L0_S0_F0  L0_S0_F2  L0_S0_F4  L0_S0_F6  L0_S0_F8  L0_S0_F10  L0_S0_F12  \\\n",
       "Id                                                                           \n",
       "1     -1.500    -1.500    -1.500    -1.500    -1.500     -1.500       -1.5   \n",
       "2     -1.500    -1.500    -1.500    -1.500    -1.500     -1.500       -1.5   \n",
       "3     -1.500    -1.500    -1.500    -1.500    -1.500     -1.500       -1.5   \n",
       "5     -0.016    -0.026    -0.033    -0.016     0.205     -0.157        0.0   \n",
       "8     -1.500    -1.500    -1.500    -1.500    -1.500     -1.500       -1.5   \n",
       "\n",
       "    L0_S0_F14  L0_S0_F16  L0_S0_F18              ...                \\\n",
       "Id                                               ...                 \n",
       "1      -1.500     -1.500     -1.500              ...                 \n",
       "2      -1.500     -1.500     -1.500              ...                 \n",
       "3      -1.500     -1.500     -1.500              ...                 \n",
       "5       0.008      0.087      0.077              ...                 \n",
       "8      -1.500     -1.500     -1.500              ...                 \n",
       "\n",
       "    first_date_value_index_ratio_1  first_date_value_index_ratio_2  \\\n",
       "Id                                                                   \n",
       "1                        71856.000                    41239.000000   \n",
       "2                        34967.500                     9818.500000   \n",
       "3                         8798.000                    21954.666667   \n",
       "5                        13784.600                     2666.800000   \n",
       "8                         2229.875                     8185.000000   \n",
       "\n",
       "    time_ratio_value_index_diff_0  time_ratio_value_index_diff_1  \\\n",
       "Id                                                                 \n",
       "1                          -60087                          -3232   \n",
       "2                          -67274                         -62612   \n",
       "3                          -81490                         -24124   \n",
       "5                          -88702                         -95353   \n",
       "8                          -90231                         -31470   \n",
       "\n",
       "    first_time_value_index_diff_0  first_time_value_index_diff_1  \\\n",
       "Id                                                                 \n",
       "1                          -18352                          -3232   \n",
       "2                          -72870                          -5943   \n",
       "3                          -31865                         -17769   \n",
       "5                          -74259                         -13304   \n",
       "8                          -55325                          -4312   \n",
       "\n",
       "    last_time_value_index_diff_0  last_time_value_index_diff_1  \\\n",
       "Id                                                               \n",
       "1                         -76879                         -3232   \n",
       "2                         -46601                        -61348   \n",
       "3                         -97025                        -20967   \n",
       "5                         -77946                         -4697   \n",
       "8                         -74511                         -4312   \n",
       "\n",
       "    first_date_value_index_diff_0  first_date_value_index_diff_1  \n",
       "Id                                                                \n",
       "1                         9999999                             -1  \n",
       "2                               1                             -1  \n",
       "3                               1                             -3  \n",
       "5                          -74259                         -33948  \n",
       "8                               2                             -6  \n",
       "\n",
       "[5 rows x 1993 columns]"
      ]
     },
     "execution_count": 28,
     "metadata": {},
     "output_type": "execute_result"
    }
   ],
   "source": [
    "print combined_test.shape\n",
    "combined_test.head()"
   ]
  },
  {
   "cell_type": "code",
   "execution_count": 29,
   "metadata": {
    "collapsed": false
   },
   "outputs": [
    {
     "data": {
      "text/plain": [
       "L0_S0_F0                          0\n",
       "L0_S0_F2                          0\n",
       "L0_S0_F4                          0\n",
       "L0_S0_F6                          0\n",
       "L0_S0_F8                          0\n",
       "L0_S0_F10                         0\n",
       "L0_S0_F12                         0\n",
       "L0_S0_F14                         0\n",
       "L0_S0_F16                         0\n",
       "L0_S0_F18                         0\n",
       "L0_S0_F20                         0\n",
       "L0_S0_F22                         0\n",
       "L0_S1_F24                         0\n",
       "L0_S1_F28                         0\n",
       "L0_S2_F32                         0\n",
       "L0_S2_F36                         0\n",
       "L0_S2_F40                         0\n",
       "L0_S2_F44                         0\n",
       "L0_S2_F48                         0\n",
       "L0_S2_F52                         0\n",
       "L0_S2_F56                         0\n",
       "L0_S2_F60                         0\n",
       "L0_S2_F64                         0\n",
       "L0_S3_F68                         0\n",
       "L0_S3_F72                         0\n",
       "L0_S3_F76                         0\n",
       "L0_S3_F80                         0\n",
       "L0_S3_F84                         0\n",
       "L0_S3_F88                         0\n",
       "L0_S3_F92                         0\n",
       "                                 ..\n",
       "column_counts_step_4              0\n",
       "time_cost_step_4                  0\n",
       "first_column_step_4               0\n",
       "time_diff_step_5                  0\n",
       "column_counts_step_5              0\n",
       "time_cost_step_5                  0\n",
       "first_column_step_5               0\n",
       "index                             0\n",
       "first_time_index                  0\n",
       "last_time_index                   0\n",
       "index_ratio                       0\n",
       "start_time_diff                   0\n",
       "start_time_index                  0\n",
       "start_time_index_ratio_1          0\n",
       "start_time_index_ratio_2          0\n",
       "start_time_index_diff_0           0\n",
       "start_time_index_diff_1           0\n",
       "time_ratio_value_index            0\n",
       "first_time_value_index            0\n",
       "first_date_value_index            0\n",
       "first_date_value_index_ratio_1    0\n",
       "first_date_value_index_ratio_2    0\n",
       "time_ratio_value_index_diff_0     0\n",
       "time_ratio_value_index_diff_1     0\n",
       "first_time_value_index_diff_0     0\n",
       "first_time_value_index_diff_1     0\n",
       "last_time_value_index_diff_0      0\n",
       "last_time_value_index_diff_1      0\n",
       "first_date_value_index_diff_0     0\n",
       "first_date_value_index_diff_1     0\n",
       "dtype: int64"
      ]
     },
     "execution_count": 29,
     "metadata": {},
     "output_type": "execute_result"
    }
   ],
   "source": [
    "combined_train.isnull().sum()"
   ]
  },
  {
   "cell_type": "code",
   "execution_count": 30,
   "metadata": {
    "collapsed": false
   },
   "outputs": [
    {
     "name": "stdout",
     "output_type": "stream",
     "text": [
      "(50000, 1994)\n"
     ]
    },
    {
     "data": {
      "text/html": [
       "<div>\n",
       "<table border=\"1\" class=\"dataframe\">\n",
       "  <thead>\n",
       "    <tr style=\"text-align: right;\">\n",
       "      <th></th>\n",
       "      <th>L0_S0_F0</th>\n",
       "      <th>L0_S0_F2</th>\n",
       "      <th>L0_S0_F4</th>\n",
       "      <th>L0_S0_F6</th>\n",
       "      <th>L0_S0_F8</th>\n",
       "      <th>L0_S0_F10</th>\n",
       "      <th>L0_S0_F12</th>\n",
       "      <th>L0_S0_F14</th>\n",
       "      <th>L0_S0_F16</th>\n",
       "      <th>L0_S0_F18</th>\n",
       "      <th>...</th>\n",
       "      <th>first_date_value_index_ratio_1</th>\n",
       "      <th>first_date_value_index_ratio_2</th>\n",
       "      <th>time_ratio_value_index_diff_0</th>\n",
       "      <th>time_ratio_value_index_diff_1</th>\n",
       "      <th>first_time_value_index_diff_0</th>\n",
       "      <th>first_time_value_index_diff_1</th>\n",
       "      <th>last_time_value_index_diff_0</th>\n",
       "      <th>last_time_value_index_diff_1</th>\n",
       "      <th>first_date_value_index_diff_0</th>\n",
       "      <th>first_date_value_index_diff_1</th>\n",
       "    </tr>\n",
       "    <tr>\n",
       "      <th>Id</th>\n",
       "      <th></th>\n",
       "      <th></th>\n",
       "      <th></th>\n",
       "      <th></th>\n",
       "      <th></th>\n",
       "      <th></th>\n",
       "      <th></th>\n",
       "      <th></th>\n",
       "      <th></th>\n",
       "      <th></th>\n",
       "      <th></th>\n",
       "      <th></th>\n",
       "      <th></th>\n",
       "      <th></th>\n",
       "      <th></th>\n",
       "      <th></th>\n",
       "      <th></th>\n",
       "      <th></th>\n",
       "      <th></th>\n",
       "      <th></th>\n",
       "      <th></th>\n",
       "    </tr>\n",
       "  </thead>\n",
       "  <tbody>\n",
       "    <tr>\n",
       "      <th>4</th>\n",
       "      <td>0.030</td>\n",
       "      <td>-0.034</td>\n",
       "      <td>-0.197</td>\n",
       "      <td>-0.179</td>\n",
       "      <td>0.118</td>\n",
       "      <td>0.116</td>\n",
       "      <td>-0.015</td>\n",
       "      <td>-0.032</td>\n",
       "      <td>0.020</td>\n",
       "      <td>0.083</td>\n",
       "      <td>...</td>\n",
       "      <td>10158.750000</td>\n",
       "      <td>14870.000000</td>\n",
       "      <td>-68076</td>\n",
       "      <td>-67669</td>\n",
       "      <td>-92464</td>\n",
       "      <td>-47255</td>\n",
       "      <td>-89751</td>\n",
       "      <td>-3482</td>\n",
       "      <td>-93208</td>\n",
       "      <td>-47255</td>\n",
       "    </tr>\n",
       "    <tr>\n",
       "      <th>6</th>\n",
       "      <td>-1.500</td>\n",
       "      <td>-1.500</td>\n",
       "      <td>-1.500</td>\n",
       "      <td>-1.500</td>\n",
       "      <td>-1.500</td>\n",
       "      <td>-1.500</td>\n",
       "      <td>-1.500</td>\n",
       "      <td>-1.500</td>\n",
       "      <td>-1.500</td>\n",
       "      <td>-1.500</td>\n",
       "      <td>...</td>\n",
       "      <td>10528.333333</td>\n",
       "      <td>14795.666667</td>\n",
       "      <td>-93062</td>\n",
       "      <td>-79568</td>\n",
       "      <td>-60941</td>\n",
       "      <td>-67530</td>\n",
       "      <td>-46827</td>\n",
       "      <td>-58861</td>\n",
       "      <td>3</td>\n",
       "      <td>-2</td>\n",
       "    </tr>\n",
       "    <tr>\n",
       "      <th>7</th>\n",
       "      <td>0.088</td>\n",
       "      <td>0.086</td>\n",
       "      <td>0.003</td>\n",
       "      <td>-0.052</td>\n",
       "      <td>0.161</td>\n",
       "      <td>0.025</td>\n",
       "      <td>-0.015</td>\n",
       "      <td>-0.072</td>\n",
       "      <td>-0.225</td>\n",
       "      <td>-0.147</td>\n",
       "      <td>...</td>\n",
       "      <td>14052.285714</td>\n",
       "      <td>5805.000000</td>\n",
       "      <td>-67143</td>\n",
       "      <td>-38624</td>\n",
       "      <td>-90452</td>\n",
       "      <td>-26876</td>\n",
       "      <td>-64873</td>\n",
       "      <td>-13283</td>\n",
       "      <td>-71530</td>\n",
       "      <td>-26876</td>\n",
       "    </tr>\n",
       "    <tr>\n",
       "      <th>9</th>\n",
       "      <td>-0.036</td>\n",
       "      <td>-0.064</td>\n",
       "      <td>0.294</td>\n",
       "      <td>0.330</td>\n",
       "      <td>0.074</td>\n",
       "      <td>0.161</td>\n",
       "      <td>0.022</td>\n",
       "      <td>0.128</td>\n",
       "      <td>-0.026</td>\n",
       "      <td>-0.046</td>\n",
       "      <td>...</td>\n",
       "      <td>4686.777778</td>\n",
       "      <td>3931.000000</td>\n",
       "      <td>-61853</td>\n",
       "      <td>-3564</td>\n",
       "      <td>-98445</td>\n",
       "      <td>-3564</td>\n",
       "      <td>-83397</td>\n",
       "      <td>-3564</td>\n",
       "      <td>-98445</td>\n",
       "      <td>-3564</td>\n",
       "    </tr>\n",
       "    <tr>\n",
       "      <th>11</th>\n",
       "      <td>-0.055</td>\n",
       "      <td>-0.086</td>\n",
       "      <td>0.294</td>\n",
       "      <td>0.330</td>\n",
       "      <td>0.118</td>\n",
       "      <td>0.025</td>\n",
       "      <td>0.030</td>\n",
       "      <td>0.168</td>\n",
       "      <td>-0.169</td>\n",
       "      <td>-0.099</td>\n",
       "      <td>...</td>\n",
       "      <td>7406.181818</td>\n",
       "      <td>3694.000000</td>\n",
       "      <td>-61721</td>\n",
       "      <td>-13963</td>\n",
       "      <td>-32921</td>\n",
       "      <td>-1</td>\n",
       "      <td>-62044</td>\n",
       "      <td>-13963</td>\n",
       "      <td>-21032</td>\n",
       "      <td>-1</td>\n",
       "    </tr>\n",
       "  </tbody>\n",
       "</table>\n",
       "<p>5 rows × 1994 columns</p>\n",
       "</div>"
      ],
      "text/plain": [
       "    L0_S0_F0  L0_S0_F2  L0_S0_F4  L0_S0_F6  L0_S0_F8  L0_S0_F10  L0_S0_F12  \\\n",
       "Id                                                                           \n",
       "4      0.030    -0.034    -0.197    -0.179     0.118      0.116     -0.015   \n",
       "6     -1.500    -1.500    -1.500    -1.500    -1.500     -1.500     -1.500   \n",
       "7      0.088     0.086     0.003    -0.052     0.161      0.025     -0.015   \n",
       "9     -0.036    -0.064     0.294     0.330     0.074      0.161      0.022   \n",
       "11    -0.055    -0.086     0.294     0.330     0.118      0.025      0.030   \n",
       "\n",
       "    L0_S0_F14  L0_S0_F16  L0_S0_F18              ...                \\\n",
       "Id                                               ...                 \n",
       "4      -0.032      0.020      0.083              ...                 \n",
       "6      -1.500     -1.500     -1.500              ...                 \n",
       "7      -0.072     -0.225     -0.147              ...                 \n",
       "9       0.128     -0.026     -0.046              ...                 \n",
       "11      0.168     -0.169     -0.099              ...                 \n",
       "\n",
       "    first_date_value_index_ratio_1  first_date_value_index_ratio_2  \\\n",
       "Id                                                                   \n",
       "4                     10158.750000                    14870.000000   \n",
       "6                     10528.333333                    14795.666667   \n",
       "7                     14052.285714                     5805.000000   \n",
       "9                      4686.777778                     3931.000000   \n",
       "11                     7406.181818                     3694.000000   \n",
       "\n",
       "    time_ratio_value_index_diff_0  time_ratio_value_index_diff_1  \\\n",
       "Id                                                                 \n",
       "4                          -68076                         -67669   \n",
       "6                          -93062                         -79568   \n",
       "7                          -67143                         -38624   \n",
       "9                          -61853                          -3564   \n",
       "11                         -61721                         -13963   \n",
       "\n",
       "    first_time_value_index_diff_0  first_time_value_index_diff_1  \\\n",
       "Id                                                                 \n",
       "4                          -92464                         -47255   \n",
       "6                          -60941                         -67530   \n",
       "7                          -90452                         -26876   \n",
       "9                          -98445                          -3564   \n",
       "11                         -32921                             -1   \n",
       "\n",
       "    last_time_value_index_diff_0  last_time_value_index_diff_1  \\\n",
       "Id                                                               \n",
       "4                         -89751                         -3482   \n",
       "6                         -46827                        -58861   \n",
       "7                         -64873                        -13283   \n",
       "9                         -83397                         -3564   \n",
       "11                        -62044                        -13963   \n",
       "\n",
       "    first_date_value_index_diff_0  first_date_value_index_diff_1  \n",
       "Id                                                                \n",
       "4                          -93208                         -47255  \n",
       "6                               3                             -2  \n",
       "7                          -71530                         -26876  \n",
       "9                          -98445                          -3564  \n",
       "11                         -21032                             -1  \n",
       "\n",
       "[5 rows x 1994 columns]"
      ]
     },
     "execution_count": 30,
     "metadata": {},
     "output_type": "execute_result"
    }
   ],
   "source": [
    "print combined_train.shape\n",
    "combined_train.head()"
   ]
  },
  {
   "cell_type": "code",
   "execution_count": null,
   "metadata": {
    "collapsed": true
   },
   "outputs": [],
   "source": []
  },
  {
   "cell_type": "code",
   "execution_count": null,
   "metadata": {
    "collapsed": true
   },
   "outputs": [],
   "source": []
  },
  {
   "cell_type": "code",
   "execution_count": 31,
   "metadata": {
    "collapsed": true
   },
   "outputs": [],
   "source": [
    "############## Section of regular validation #######################\n",
    "train_index, valid_index = create_validation_index(combined_train, 0.3, dep_var_name, True)\n",
    "valid_data = combined_train.ix[valid_index]\n",
    "tmp_train  = combined_train.ix[train_index]\n",
    "\n",
    "y = tmp_train[dep_var_name].values\n",
    "X = tmp_train.drop(dep_var_name, axis=1)\n",
    "\n",
    "valid_y = valid_data[dep_var_name].values\n",
    "valid_X = valid_data.drop(dep_var_name, axis=1)"
   ]
  },
  {
   "cell_type": "code",
   "execution_count": 32,
   "metadata": {
    "collapsed": false,
    "scrolled": true
   },
   "outputs": [
    {
     "name": "stdout",
     "output_type": "stream",
     "text": [
      "scale_pos_weight: 183.215789474\n",
      "a base_score 0.00542841633096 is used in the xgboost model...\n"
     ]
    },
    {
     "name": "stderr",
     "output_type": "stream",
     "text": [
      "\n",
      "####################\n",
      " train the xgboost without early stopping\n",
      "####################\n"
     ]
    },
    {
     "name": "stdout",
     "output_type": "stream",
     "text": [
      "[0]\ttrain-auc:0.906669\n",
      "[50]\ttrain-auc:0.973255\n",
      "[100]\ttrain-auc:0.977964\n",
      "[150]\ttrain-auc:0.981893\n",
      "[200]\ttrain-auc:0.984569\n",
      "[250]\ttrain-auc:0.986377\n",
      "the xgboost fit is finished by using 185.292252064 seconds, saved into bosch_xgb_model\n"
     ]
    },
    {
     "data": {
      "text/plain": [
       "<utils.wrapped_xgboost.xgboost_classifier at 0x7fc54ccda050>"
      ]
     },
     "execution_count": 32,
     "metadata": {},
     "output_type": "execute_result"
    }
   ],
   "source": [
    "params = {}\n",
    "params[\"eta\"]                      = 0.0075\n",
    "params[\"subsample\"]                = 0.8\n",
    "params[\"colsample_bytree\"]         = 0.8\n",
    "params[\"num_round\"]                = 251\n",
    "params[\"max_depth\"]                = 5\n",
    "params[\"gamma\"]                    = 0\n",
    "params[\"metrics\"]                  = 'auc'\n",
    "params['eval_metric']              = 'auc'\n",
    "params[\"seed\"]                     = 999\n",
    "params['verbose_eval']             = 50\n",
    "## whether to use weights\n",
    "params['use_base_score']           = True\n",
    "params['use_weights']              = True\n",
    "#params['use_scale_pos_weight']     = True\n",
    "params[\"val\"]                      = False\n",
    "\n",
    "model = xgboost_classifier(label_name = dep_var_name, params = params, model_file='bosch_xgb_model')\n",
    "model.fit(tmp_train, dep_var_name)"
   ]
  },
  {
   "cell_type": "code",
   "execution_count": 33,
   "metadata": {
    "collapsed": false
   },
   "outputs": [
    {
     "name": "stdout",
     "output_type": "stream",
     "text": [
      "in the prediction step, dep_var_name is not provided....\n",
      "result from using constant fraction: \n",
      "mean of groud truth: 0.005400360024\n",
      "threshold for preds: 0.141219810168\n",
      "0.366951681538\n",
      "\n",
      " \n",
      "\n",
      "result from using flexsible threshold: (0.3922567473950953, 0.1621287763118744)\n"
     ]
    }
   ],
   "source": [
    "pred = model.predict(valid_X)\n",
    "\n",
    "print 'result from using constant fraction: \\n', score_MCC(valid_y, pred)\n",
    "print '\\n \\n'\n",
    "print 'result from using flexsible threshold:', CombinedModel.mcc_eval_func(valid_y, pred)"
   ]
  },
  {
   "cell_type": "code",
   "execution_count": null,
   "metadata": {
    "collapsed": true
   },
   "outputs": [],
   "source": []
  },
  {
   "cell_type": "code",
   "execution_count": null,
   "metadata": {
    "collapsed": true
   },
   "outputs": [],
   "source": []
  },
  {
   "cell_type": "code",
   "execution_count": null,
   "metadata": {
    "collapsed": true
   },
   "outputs": [],
   "source": []
  },
  {
   "cell_type": "code",
   "execution_count": null,
   "metadata": {
    "collapsed": true
   },
   "outputs": [],
   "source": []
  },
  {
   "cell_type": "code",
   "execution_count": 34,
   "metadata": {
    "collapsed": false
   },
   "outputs": [],
   "source": [
    "rf_params = {'random_state' : 9999, 'n_estimators' : 2000, 'max_depth' : 7, 'criterion' : 'gini', 'n_jobs' : -1}\n",
    "et_params = {'random_state' : 9999, 'n_estimators' : 200, 'max_depth' : 18, 'criterion' : 'gini', 'n_jobs' : -1}\n",
    "rf_clf = RandomForestClassifier(**rf_params)\n",
    "rf_clf = rf_clf.fit(X, y)\n",
    "\n",
    "et_clf = RandomForestClassifier(**et_params)\n",
    "et_clf = et_clf.fit(X, y)"
   ]
  },
  {
   "cell_type": "code",
   "execution_count": 35,
   "metadata": {
    "collapsed": false
   },
   "outputs": [
    {
     "data": {
      "text/plain": [
       "0"
      ]
     },
     "execution_count": 35,
     "metadata": {},
     "output_type": "execute_result"
    }
   ],
   "source": [
    "valid_X.isnull().sum().sum()"
   ]
  },
  {
   "cell_type": "code",
   "execution_count": 35,
   "metadata": {
    "collapsed": false
   },
   "outputs": [
    {
     "ename": "ValueError",
     "evalue": "Input contains NaN, infinity or a value too large for dtype('float32').",
     "output_type": "error",
     "traceback": [
      "\u001b[0;31m---------------------------------------------------------------------------\u001b[0m",
      "\u001b[0;31mValueError\u001b[0m                                Traceback (most recent call last)",
      "\u001b[0;32m<ipython-input-35-18b1183a801e>\u001b[0m in \u001b[0;36m<module>\u001b[0;34m()\u001b[0m\n\u001b[1;32m      1\u001b[0m \u001b[0;31m#rf_pred = rf_clf.predict_proba(valid_X)[:, 1]\u001b[0m\u001b[0;34m\u001b[0m\u001b[0;34m\u001b[0m\u001b[0m\n\u001b[0;32m----> 2\u001b[0;31m \u001b[0met_pred\u001b[0m \u001b[0;34m=\u001b[0m \u001b[0met_clf\u001b[0m\u001b[0;34m.\u001b[0m\u001b[0mpredict_proba\u001b[0m\u001b[0;34m(\u001b[0m\u001b[0mvalid_X\u001b[0m\u001b[0;34m)\u001b[0m\u001b[0;34m[\u001b[0m\u001b[0;34m:\u001b[0m\u001b[0;34m,\u001b[0m \u001b[0;36m1\u001b[0m\u001b[0;34m]\u001b[0m\u001b[0;34m\u001b[0m\u001b[0m\n\u001b[0m\u001b[1;32m      3\u001b[0m \u001b[0;34m\u001b[0m\u001b[0m\n\u001b[1;32m      4\u001b[0m \u001b[0;32mprint\u001b[0m \u001b[0;34m'result from using constant fraction: \\n'\u001b[0m\u001b[0;34m,\u001b[0m \u001b[0mscore_MCC\u001b[0m\u001b[0;34m(\u001b[0m\u001b[0mvalid_y\u001b[0m\u001b[0;34m,\u001b[0m \u001b[0mrf_pred\u001b[0m\u001b[0;34m)\u001b[0m\u001b[0;34m,\u001b[0m \u001b[0mscore_MCC\u001b[0m\u001b[0;34m(\u001b[0m\u001b[0mvalid_y\u001b[0m\u001b[0;34m,\u001b[0m \u001b[0met_pred\u001b[0m\u001b[0;34m)\u001b[0m\u001b[0;34m\u001b[0m\u001b[0m\n\u001b[1;32m      5\u001b[0m \u001b[0;32mprint\u001b[0m \u001b[0;34m'\\n'\u001b[0m\u001b[0;34m\u001b[0m\u001b[0m\n",
      "\u001b[0;32m/mnt/home/ymm/.virtualenvs/kaggle/local/lib/python2.7/site-packages/sklearn/ensemble/forest.pyc\u001b[0m in \u001b[0;36mpredict_proba\u001b[0;34m(self, X)\u001b[0m\n\u001b[1;32m    535\u001b[0m         \"\"\"\n\u001b[1;32m    536\u001b[0m         \u001b[0;31m# Check data\u001b[0m\u001b[0;34m\u001b[0m\u001b[0;34m\u001b[0m\u001b[0m\n\u001b[0;32m--> 537\u001b[0;31m         \u001b[0mX\u001b[0m \u001b[0;34m=\u001b[0m \u001b[0mself\u001b[0m\u001b[0;34m.\u001b[0m\u001b[0m_validate_X_predict\u001b[0m\u001b[0;34m(\u001b[0m\u001b[0mX\u001b[0m\u001b[0;34m)\u001b[0m\u001b[0;34m\u001b[0m\u001b[0m\n\u001b[0m\u001b[1;32m    538\u001b[0m \u001b[0;34m\u001b[0m\u001b[0m\n\u001b[1;32m    539\u001b[0m         \u001b[0;31m# Assign chunk of trees to jobs\u001b[0m\u001b[0;34m\u001b[0m\u001b[0;34m\u001b[0m\u001b[0m\n",
      "\u001b[0;32m/mnt/home/ymm/.virtualenvs/kaggle/local/lib/python2.7/site-packages/sklearn/ensemble/forest.pyc\u001b[0m in \u001b[0;36m_validate_X_predict\u001b[0;34m(self, X)\u001b[0m\n\u001b[1;32m    317\u001b[0m                                  \"call `fit` before exploiting the model.\")\n\u001b[1;32m    318\u001b[0m \u001b[0;34m\u001b[0m\u001b[0m\n\u001b[0;32m--> 319\u001b[0;31m         \u001b[0;32mreturn\u001b[0m \u001b[0mself\u001b[0m\u001b[0;34m.\u001b[0m\u001b[0mestimators_\u001b[0m\u001b[0;34m[\u001b[0m\u001b[0;36m0\u001b[0m\u001b[0;34m]\u001b[0m\u001b[0;34m.\u001b[0m\u001b[0m_validate_X_predict\u001b[0m\u001b[0;34m(\u001b[0m\u001b[0mX\u001b[0m\u001b[0;34m,\u001b[0m \u001b[0mcheck_input\u001b[0m\u001b[0;34m=\u001b[0m\u001b[0mTrue\u001b[0m\u001b[0;34m)\u001b[0m\u001b[0;34m\u001b[0m\u001b[0m\n\u001b[0m\u001b[1;32m    320\u001b[0m \u001b[0;34m\u001b[0m\u001b[0m\n\u001b[1;32m    321\u001b[0m     \u001b[0;34m@\u001b[0m\u001b[0mproperty\u001b[0m\u001b[0;34m\u001b[0m\u001b[0m\n",
      "\u001b[0;32m/mnt/home/ymm/.virtualenvs/kaggle/local/lib/python2.7/site-packages/sklearn/tree/tree.pyc\u001b[0m in \u001b[0;36m_validate_X_predict\u001b[0;34m(self, X, check_input)\u001b[0m\n\u001b[1;32m    363\u001b[0m \u001b[0;34m\u001b[0m\u001b[0m\n\u001b[1;32m    364\u001b[0m         \u001b[0;32mif\u001b[0m \u001b[0mcheck_input\u001b[0m\u001b[0;34m:\u001b[0m\u001b[0;34m\u001b[0m\u001b[0m\n\u001b[0;32m--> 365\u001b[0;31m             \u001b[0mX\u001b[0m \u001b[0;34m=\u001b[0m \u001b[0mcheck_array\u001b[0m\u001b[0;34m(\u001b[0m\u001b[0mX\u001b[0m\u001b[0;34m,\u001b[0m \u001b[0mdtype\u001b[0m\u001b[0;34m=\u001b[0m\u001b[0mDTYPE\u001b[0m\u001b[0;34m,\u001b[0m \u001b[0maccept_sparse\u001b[0m\u001b[0;34m=\u001b[0m\u001b[0;34m\"csr\"\u001b[0m\u001b[0;34m)\u001b[0m\u001b[0;34m\u001b[0m\u001b[0m\n\u001b[0m\u001b[1;32m    366\u001b[0m             if issparse(X) and (X.indices.dtype != np.intc or\n\u001b[1;32m    367\u001b[0m                                 X.indptr.dtype != np.intc):\n",
      "\u001b[0;32m/mnt/home/ymm/.virtualenvs/kaggle/local/lib/python2.7/site-packages/sklearn/utils/validation.pyc\u001b[0m in \u001b[0;36mcheck_array\u001b[0;34m(array, accept_sparse, dtype, order, copy, force_all_finite, ensure_2d, allow_nd, ensure_min_samples, ensure_min_features, warn_on_dtype, estimator)\u001b[0m\n\u001b[1;32m    396\u001b[0m                              % (array.ndim, estimator_name))\n\u001b[1;32m    397\u001b[0m         \u001b[0;32mif\u001b[0m \u001b[0mforce_all_finite\u001b[0m\u001b[0;34m:\u001b[0m\u001b[0;34m\u001b[0m\u001b[0m\n\u001b[0;32m--> 398\u001b[0;31m             \u001b[0m_assert_all_finite\u001b[0m\u001b[0;34m(\u001b[0m\u001b[0marray\u001b[0m\u001b[0;34m)\u001b[0m\u001b[0;34m\u001b[0m\u001b[0m\n\u001b[0m\u001b[1;32m    399\u001b[0m \u001b[0;34m\u001b[0m\u001b[0m\n\u001b[1;32m    400\u001b[0m     \u001b[0mshape_repr\u001b[0m \u001b[0;34m=\u001b[0m \u001b[0m_shape_repr\u001b[0m\u001b[0;34m(\u001b[0m\u001b[0marray\u001b[0m\u001b[0;34m.\u001b[0m\u001b[0mshape\u001b[0m\u001b[0;34m)\u001b[0m\u001b[0;34m\u001b[0m\u001b[0m\n",
      "\u001b[0;32m/mnt/home/ymm/.virtualenvs/kaggle/local/lib/python2.7/site-packages/sklearn/utils/validation.pyc\u001b[0m in \u001b[0;36m_assert_all_finite\u001b[0;34m(X)\u001b[0m\n\u001b[1;32m     52\u001b[0m             and not np.isfinite(X).all()):\n\u001b[1;32m     53\u001b[0m         raise ValueError(\"Input contains NaN, infinity\"\n\u001b[0;32m---> 54\u001b[0;31m                          \" or a value too large for %r.\" % X.dtype)\n\u001b[0m\u001b[1;32m     55\u001b[0m \u001b[0;34m\u001b[0m\u001b[0m\n\u001b[1;32m     56\u001b[0m \u001b[0;34m\u001b[0m\u001b[0m\n",
      "\u001b[0;31mValueError\u001b[0m: Input contains NaN, infinity or a value too large for dtype('float32')."
     ]
    }
   ],
   "source": [
    "#rf_pred = rf_clf.predict_proba(valid_X)[:, 1]\n",
    "et_pred = et_clf.predict_proba(valid_X)[:, 1]\n",
    "\n",
    "print 'result from using constant fraction: \\n', score_MCC(valid_y, rf_pred), score_MCC(valid_y, et_pred)\n",
    "print '\\n'\n",
    "print 'result from using flexsible threshold:', CombinedModel.mcc_eval_func(valid_y, rf_pred), CombinedModel.mcc_eval_func(valid_y, et_pred)"
   ]
  },
  {
   "cell_type": "code",
   "execution_count": null,
   "metadata": {
    "collapsed": true
   },
   "outputs": [],
   "source": []
  }
 ],
 "metadata": {
  "kernelspec": {
   "display_name": "Python 2",
   "language": "python",
   "name": "python2"
  },
  "language_info": {
   "codemirror_mode": {
    "name": "ipython",
    "version": 2
   },
   "file_extension": ".py",
   "mimetype": "text/x-python",
   "name": "python",
   "nbconvert_exporter": "python",
   "pygments_lexer": "ipython2",
   "version": "2.7.6"
  }
 },
 "nbformat": 4,
 "nbformat_minor": 0
}
