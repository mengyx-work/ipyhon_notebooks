{
 "cells": [
  {
   "cell_type": "code",
   "execution_count": null,
   "metadata": {
    "collapsed": true
   },
   "outputs": [],
   "source": []
  },
  {
   "cell_type": "code",
   "execution_count": 1,
   "metadata": {
    "collapsed": true
   },
   "outputs": [],
   "source": [
    "%matplotlib inline  \n",
    "from sklearn.metrics import matthews_corrcoef\n",
    "import matplotlib.pyplot as plt\n",
    "import seaborn as sns\n",
    "\n",
    "\n",
    "\n",
    "def mcc(tp, tn, fp, fn):\n",
    "    sup = tp * tn - fp * fn\n",
    "    inf = (tp + fp) * (tp + fn) * (tn + fp) * (tn + fn)\n",
    "    if inf==0:\n",
    "        return 0\n",
    "    else:\n",
    "        return sup / np.sqrt(inf)\n",
    "\n",
    "def eval_mcc(y_true, y_prob, show=False):\n",
    "    idx = np.argsort(y_prob)\n",
    "    y_true_sort = y_true[idx]\n",
    "    n = y_true.shape[0]\n",
    "    nump = 1.0 * np.sum(y_true) # number of positive\n",
    "    numn = n - nump # number of negative\n",
    "    tp = nump\n",
    "    tn = 0.0\n",
    "    fp = numn\n",
    "    fn = 0.0\n",
    "    best_mcc = 0.0\n",
    "    best_id = -1\n",
    "    mccs = np.zeros(n)\n",
    "    for i in range(n):\n",
    "        # all items with idx <= i are predicted negative while others are predicted positive\n",
    "        if y_true_sort[i] == 1:\n",
    "            tp -= 1.0\n",
    "            fn += 1.0\n",
    "        else:\n",
    "            fp -= 1.0\n",
    "            tn += 1.0\n",
    "        new_mcc = mcc(tp, tn, fp, fn)\n",
    "        mccs[i] = new_mcc\n",
    "        if new_mcc >= best_mcc:\n",
    "            best_mcc = new_mcc\n",
    "            best_id = i\n",
    "    if show:\n",
    "        best_proba = y_prob[idx[best_id]]\n",
    "        y_pred = (y_prob > best_proba).astype(int)\n",
    "        score = matthews_corrcoef(y_true, y_pred)\n",
    "        print(score, best_mcc)\n",
    "        plt.plot(mccs)\n",
    "        return best_proba, best_mcc, y_pred, mccs\n",
    "    else:\n",
    "        return best_mcc"
   ]
  },
  {
   "cell_type": "code",
   "execution_count": 2,
   "metadata": {
    "collapsed": true
   },
   "outputs": [],
   "source": [
    "import pandas as pd\n",
    "import numpy as np\n",
    "import os, sys, time\n",
    "import yaml\n",
    "\n",
    "sys.path.append('/home/ymm/kaggle/xgboost_hyperopt')\n",
    "import utils\n",
    "from utils.bosch_functions import load_processed_bosch_data\n",
    "from utils.models import CombinedModel, ExtraTreeModel\n",
    "from utils.validation_tools import score_MCC, create_validation_index, cross_validate_model"
   ]
  },
  {
   "cell_type": "code",
   "execution_count": 3,
   "metadata": {
    "collapsed": false
   },
   "outputs": [
    {
     "name": "stdout",
     "output_type": "stream",
     "text": [
      "loading bosch data from  /home/ymm/kaggle/bosch_data/bosch_complete_processed_6_bins_data/processed_totBins_6_bin_0_train.csv\n"
     ]
    },
    {
     "data": {
      "text/plain": [
       "\"\\n## train the comined model\\ncombined_model_params = {}\\ncombined_model_params['raw_models_yaml_file'] = raw_models_yaml_file\\ncombined_model_params['project_path'] = project_path\\ncombined_model_params['models_yaml_file'] = trained_model_yaml_file\\n\\n## initiate a combined model\\ncombined_model = CombinedModel(combined_model_params)\\n## regular fit and predict\\ncombined_model.fit(tmp_train, dep_var_name)\\npred_df = combined_model.predict(valid_data)\\n#pred_df.to_csv('tmp.csv')\\n\""
      ]
     },
     "execution_count": 3,
     "metadata": {},
     "output_type": "execute_result"
    }
   ],
   "source": [
    "dep_var_name = 'Response'\n",
    "raw_models_yaml_file = 'raw_combined_models.yml'\n",
    "trained_model_yaml_file = 'trained_combined_model.yml'\n",
    "project_path = '/mnt/home/ymm/kaggle/compete/current/combined_model'\n",
    "trained_model_yaml_file = 'trained_combined_model.yml'\n",
    "\n",
    "## load training data\n",
    "#project_yml_path = '/mnt/home/ymm/kaggle/compete/current'\n",
    "#data_path = '/mnt/home/ymm/kaggle/bosch_data/bosch_complete_processed_data'\n",
    "#data_yaml_file = 'bosch_processed_data_dict.yml'\n",
    "\n",
    "project_path = '/home/ymm/kaggle/compete/current/model_6_bins_data'\n",
    "data_path = '/home/ymm/kaggle/bosch_data/bosch_complete_processed_6_bins_data'\n",
    "data_yaml_file = 'complete_subset_data_6_bins_dict.yml'\n",
    "data_index= '0'\n",
    "train = load_processed_bosch_data(data_path, project_path, data_yaml_file, data_index=data_index)\n",
    "train_index, valid_index = create_validation_index(train, 0.4, dep_var_name, True)  \n",
    "valid_data = train.ix[valid_index]\n",
    "tmp_train  = train.ix[train_index]\n",
    "\n",
    "et_params = {'random_state' : 0, 'criterion' : 'entropy', 'n_jobs' : -1, 'n_estimators' : 500, 'max_depth' : 6}\n",
    "et_model = ExtraTreeModel(et_params)\n",
    "et_model.fit(tmp_train, dep_var_name)\n",
    "valid_result = et_model.predict(valid_data)\n",
    "\n",
    "'''\n",
    "## train the comined model\n",
    "combined_model_params = {}\n",
    "combined_model_params['raw_models_yaml_file'] = raw_models_yaml_file\n",
    "combined_model_params['project_path'] = project_path\n",
    "combined_model_params['models_yaml_file'] = trained_model_yaml_file\n",
    "\n",
    "## initiate a combined model\n",
    "combined_model = CombinedModel(combined_model_params)\n",
    "## regular fit and predict\n",
    "combined_model.fit(tmp_train, dep_var_name)\n",
    "pred_df = combined_model.predict(valid_data)\n",
    "#pred_df.to_csv('tmp.csv')\n",
    "'''"
   ]
  },
  {
   "cell_type": "code",
   "execution_count": 4,
   "metadata": {
    "collapsed": true
   },
   "outputs": [],
   "source": [
    "valid_label = valid_data[dep_var_name]"
   ]
  },
  {
   "cell_type": "code",
   "execution_count": 5,
   "metadata": {
    "collapsed": false
   },
   "outputs": [
    {
     "data": {
      "text/plain": [
       "Id\n",
       "477700    0.004535\n",
       "248658    0.003230\n",
       "869790    0.004987\n",
       "591823    0.004444\n",
       "307810    0.004816\n",
       "dtype: float64"
      ]
     },
     "execution_count": 5,
     "metadata": {},
     "output_type": "execute_result"
    }
   ],
   "source": [
    "valid_result.head()"
   ]
  },
  {
   "cell_type": "code",
   "execution_count": 8,
   "metadata": {
    "collapsed": false,
    "scrolled": true
   },
   "outputs": [
    {
     "name": "stdout",
     "output_type": "stream",
     "text": [
      "(101977,)\n"
     ]
    },
    {
     "data": {
      "text/plain": [
       "Id\n",
       "432955    0\n",
       "479560    0\n",
       "52745     0\n",
       "296607    0\n",
       "34315     0\n",
       "156475    0\n",
       "106042    0\n",
       "364804    0\n",
       "237670    0\n",
       "164405    0\n",
       "Name: Response, dtype: int64"
      ]
     },
     "execution_count": 8,
     "metadata": {},
     "output_type": "execute_result"
    }
   ],
   "source": [
    "print valid_label.shape\n",
    "valid_label[0:10]"
   ]
  },
  {
   "cell_type": "code",
   "execution_count": 9,
   "metadata": {
    "collapsed": false,
    "scrolled": true
   },
   "outputs": [
    {
     "name": "stdout",
     "output_type": "stream",
     "text": [
      "(101977,)\n"
     ]
    },
    {
     "data": {
      "text/plain": [
       "Id\n",
       "432955    0.017966\n",
       "479560    0.014284\n",
       "52745     0.014202\n",
       "296607    0.013999\n",
       "34315     0.013869\n",
       "156475    0.023666\n",
       "106042    0.016510\n",
       "364804    0.017289\n",
       "237670    0.017027\n",
       "164405    0.015030\n",
       "dtype: float64"
      ]
     },
     "execution_count": 9,
     "metadata": {},
     "output_type": "execute_result"
    }
   ],
   "source": [
    "print pred_df.shape\n",
    "pred_df[0:10]"
   ]
  },
  {
   "cell_type": "code",
   "execution_count": 7,
   "metadata": {
    "collapsed": true
   },
   "outputs": [],
   "source": [
    "def tmp_score_MCC(ground_truth, scores):\n",
    "    '''\n",
    "    assuming the model output is the probability of being default,\n",
    "    then this probability can be used for ranking. Then using the fraction of\n",
    "    default in validation data to assign the proper threshold to the prediction\n",
    "    '''\n",
    "\n",
    "    if isinstance(scores, pd.Series):\n",
    "        scores = scores.values\n",
    "\n",
    "    if isinstance(ground_truth, pd.Series):\n",
    "        ground_truth = ground_truth.values\n",
    "\n",
    "    tmp_ground_truth = np.copy(ground_truth)\n",
    "    fault_frac = tmp_ground_truth.mean()\n",
    "    #print 'score shape:', scores.shape,\n",
    "    print 'mean of groud truth:', fault_frac\n",
    "    thres_value = np.percentile(scores, 100.*(1-fault_frac), axis=0)\n",
    "    print 'threshold for preds:', thres_value\n",
    "    binary_scores = scores > thres_value\n",
    "    binary_scores = binary_scores.astype(int)\n",
    "    ## convert to sk-learn format\n",
    "    np.place(binary_scores, binary_scores==0, -1)\n",
    "    np.place(tmp_ground_truth, tmp_ground_truth==0, -1)\n",
    "\n",
    "    return matthews_corrcoef(tmp_ground_truth, binary_scores)"
   ]
  },
  {
   "cell_type": "code",
   "execution_count": 18,
   "metadata": {
    "collapsed": false,
    "scrolled": true
   },
   "outputs": [
    {
     "name": "stdout",
     "output_type": "stream",
     "text": [
      "mean of groud truth: 0.00641321082205\n",
      "threshold for preds: 0.0547840873124\n"
     ]
    },
    {
     "data": {
      "text/plain": [
       "0.23207821379419286"
      ]
     },
     "execution_count": 18,
     "metadata": {},
     "output_type": "execute_result"
    }
   ],
   "source": [
    "tmp_score_MCC(valid_label, pred_df)"
   ]
  },
  {
   "cell_type": "code",
   "execution_count": 8,
   "metadata": {
    "collapsed": false
   },
   "outputs": [
    {
     "name": "stdout",
     "output_type": "stream",
     "text": [
      "mean of groud truth: 0.0053050397878\n",
      "threshold for preds: 0.108321127485\n"
     ]
    },
    {
     "data": {
      "text/plain": [
       "0.17042424242424251"
      ]
     },
     "execution_count": 8,
     "metadata": {},
     "output_type": "execute_result"
    }
   ],
   "source": [
    "tmp_score_MCC(valid_label, valid_result)"
   ]
  },
  {
   "cell_type": "code",
   "execution_count": 8,
   "metadata": {
    "collapsed": true
   },
   "outputs": [],
   "source": [
    "combo_df = pd.DataFrame()\n",
    "combo_df['label'] = valid_label\n",
    "combo_df['pred'] = pred_df"
   ]
  },
  {
   "cell_type": "code",
   "execution_count": 10,
   "metadata": {
    "collapsed": false
   },
   "outputs": [
    {
     "name": "stderr",
     "output_type": "stream",
     "text": [
      "/mnt/home/ymm/.virtualenvs/kaggle/lib/python2.7/site-packages/ipykernel/__main__.py:1: FutureWarning: sort(columns=....) is deprecated, use sort_values(by=.....)\n",
      "  if __name__ == '__main__':\n"
     ]
    }
   ],
   "source": [
    "sorted_res_df = combo_df.sort(['pred'], ascending=False)"
   ]
  },
  {
   "cell_type": "code",
   "execution_count": 18,
   "metadata": {
    "collapsed": false
   },
   "outputs": [
    {
     "name": "stderr",
     "output_type": "stream",
     "text": [
      "/mnt/home/ymm/.virtualenvs/kaggle/lib/python2.7/site-packages/ipykernel/__main__.py:1: FutureWarning: sort(columns=....) is deprecated, use sort_values(by=.....)\n",
      "  if __name__ == '__main__':\n"
     ]
    }
   ],
   "source": [
    "sorted_pos_valid = combo_df[combo_df.label==1].sort(['pred'], ascending=False)"
   ]
  },
  {
   "cell_type": "code",
   "execution_count": 12,
   "metadata": {
    "collapsed": false
   },
   "outputs": [],
   "source": [
    "#sorted_pos_valid"
   ]
  },
  {
   "cell_type": "code",
   "execution_count": 13,
   "metadata": {
    "collapsed": false
   },
   "outputs": [],
   "source": [
    "#sorted_res_df.head(30)"
   ]
  },
  {
   "cell_type": "code",
   "execution_count": 14,
   "metadata": {
    "collapsed": false,
    "scrolled": true
   },
   "outputs": [
    {
     "data": {
      "text/plain": [
       "654"
      ]
     },
     "execution_count": 14,
     "metadata": {},
     "output_type": "execute_result"
    }
   ],
   "source": [
    "valid_label.sum()"
   ]
  },
  {
   "cell_type": "code",
   "execution_count": 22,
   "metadata": {
    "collapsed": false,
    "scrolled": true
   },
   "outputs": [
    {
     "data": {
      "image/png": "[encoded data removed]",
      "text/plain": [
       "<matplotlib.figure.Figure at 0x7f8a216f9810>"
      ]
     },
     "metadata": {},
     "output_type": "display_data"
    }
   ],
   "source": [
    "fig, ax = plt.subplots()\n",
    "pred_df.hist(ax=ax, bins=100, bottom=0.1)\n",
    "ax.set_yscale('log')"
   ]
  },
  {
   "cell_type": "code",
   "execution_count": 42,
   "metadata": {
    "collapsed": false
   },
   "outputs": [
    {
     "data": {
      "text/plain": [
       "30"
      ]
     },
     "execution_count": 42,
     "metadata": {},
     "output_type": "execute_result"
    }
   ],
   "source": [
    "sum(pred_df > best_proba)"
   ]
  },
  {
   "cell_type": "code",
   "execution_count": 10,
   "metadata": {
    "collapsed": false,
    "scrolled": true
   },
   "outputs": [
    {
     "name": "stdout",
     "output_type": "stream",
     "text": [
      "(0.17324549934742889, 0.17324549934742903)\n"
     ]
    },
    {
     "data": {
      "image/png": "[encoded data removed]",
      "text/plain": [
       "<matplotlib.figure.Figure at 0x7f4b9a99ff10>"
      ]
     },
     "metadata": {},
     "output_type": "display_data"
    }
   ],
   "source": [
    "best_proba, best_mcc, y_pred, mccs = eval_mcc(valid_label.values, valid_result.values, True)"
   ]
  },
  {
   "cell_type": "code",
   "execution_count": 21,
   "metadata": {
    "collapsed": false
   },
   "outputs": [
    {
     "data": {
      "text/plain": [
       "101323"
      ]
     },
     "execution_count": 21,
     "metadata": {},
     "output_type": "execute_result"
    }
   ],
   "source": [
    "print 'expected cut-off threshold based on the #faulted: ', len(mccs) - valid_label.sum()"
   ]
  },
  {
   "cell_type": "code",
   "execution_count": 54,
   "metadata": {
    "collapsed": false
   },
   "outputs": [
    {
     "data": {
      "text/plain": [
       "[<matplotlib.lines.Line2D at 0x7f77bd2bdd90>]"
      ]
     },
     "execution_count": 54,
     "metadata": {},
     "output_type": "execute_result"
    },
    {
     "data": {
      "image/png": "[encoded data removed]",
      "text/plain": [
       "<matplotlib.figure.Figure at 0x7f77bd3a1290>"
      ]
     },
     "metadata": {},
     "output_type": "display_data"
    }
   ],
   "source": [
    "axis = range(len(mccs))\n",
    "limit = 1000\n",
    "plt.plot(axis[-limit:], mccs[-limit:])\n",
    "#plt.plot(x=axis[-50:], y=mccs[-50:])"
   ]
  }
 ],
 "metadata": {
  "kernelspec": {
   "display_name": "Python 2",
   "language": "python",
   "name": "python2"
  },
  "language_info": {
   "codemirror_mode": {
    "name": "ipython",
    "version": 2
   },
   "file_extension": ".py",
   "mimetype": "text/x-python",
   "name": "python",
   "nbconvert_exporter": "python",
   "pygments_lexer": "ipython2",
   "version": "2.7.6"
  }
 },
 "nbformat": 4,
 "nbformat_minor": 0
}
