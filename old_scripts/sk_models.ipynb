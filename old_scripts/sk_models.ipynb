{
 "cells": [
  {
   "cell_type": "code",
   "execution_count": 1,
   "metadata": {
    "collapsed": true
   },
   "outputs": [],
   "source": [
    "import pandas as pd\n",
    "import numpy as np\n",
    "import os, sys, time\n",
    "import yaml\n",
    "from sklearn.metrics import matthews_corrcoef\n",
    "from sklearn.ensemble import ExtraTreesClassifier\n",
    "\n",
    "\n",
    "project_path = '/mnt/home/ymm/kaggle/compete/current'\n",
    "data_path = '/mnt/home/ymm/kaggle/bosch_data/bosch_complete_processed_data'\n",
    "#data_path = '/mnt/home/ymm/kaggle/bosch_processed_data'"
   ]
  },
  {
   "cell_type": "code",
   "execution_count": 2,
   "metadata": {
    "collapsed": false
   },
   "outputs": [],
   "source": [
    "yaml_file = 'bosch_processed_data_dict.yml'\n",
    "with open(os.path.join(project_path, yaml_file), 'r') as yml_stream:\n",
    "    data_dict = yaml.load(yml_stream)\n",
    "    "
   ]
  },
  {
   "cell_type": "code",
   "execution_count": 3,
   "metadata": {
    "collapsed": false,
    "scrolled": true
   },
   "outputs": [
    {
     "name": "stdout",
     "output_type": "stream",
     "text": [
      "loading data from  /mnt/home/ymm/kaggle/bosch_data/bosch_complete_processed_data/processed_totBins_16_bin_0_train.csv\n"
     ]
    }
   ],
   "source": [
    "data_index = '0'\n",
    "data_file = os.path.join(data_path, data_dict[data_index]['train_file'])\n",
    "print 'loading data from ', data_file\n",
    "train = pd.read_csv(data_file, index_col='Id')\n",
    "#train = pd.read_csv(data_file, index_col='Id', nrows=1000)"
   ]
  },
  {
   "cell_type": "code",
   "execution_count": 4,
   "metadata": {
    "collapsed": true
   },
   "outputs": [],
   "source": [
    "sys.path.append('/home/ymm/kaggle/xgboost_hyperopt')\n",
    "import utils\n",
    "#from utils.wrapped_xgboost import xgboost_classifier\n",
    "from utils.models import RandomForestModel, ExtraTreeModel\n",
    "from utils.validation_tools import cross_validate_model, score_MCC"
   ]
  },
  {
   "cell_type": "code",
   "execution_count": 5,
   "metadata": {
    "collapsed": false
   },
   "outputs": [],
   "source": [
    "#reload(utils.models)\n",
    "#dir(utils.models)\n",
    "#reload(utils.validation_tools)\n",
    "#reload(utils.wrapped_xgboost)\n",
    "#dir(utils.wrapped_xgboost)"
   ]
  },
  {
   "cell_type": "code",
   "execution_count": 5,
   "metadata": {
    "collapsed": false,
    "scrolled": true
   },
   "outputs": [],
   "source": [
    "## for other sk-learn models\n",
    "dep_var_name = 'Response'\n",
    "## not to separate the dep_var from data\n",
    "#train_label = train[dep_var_name]\n",
    "#train.drop(dep_var_name, axis=1, inplace=True)"
   ]
  },
  {
   "cell_type": "code",
   "execution_count": 26,
   "metadata": {
    "collapsed": false
   },
   "outputs": [],
   "source": [
    "'''\n",
    "from sklearn.cross_validation import StratifiedKFold\n",
    "from sklearn.ensemble import RandomForestClassifier\n",
    "from sklearn.ensemble import ExtraTreesClassifier\n",
    "import abc\n",
    "import pandas as pd\n",
    "import numpy as np\n",
    "\n",
    "class BaseModel(object):\n",
    "    __metaclass__ = abc.ABCMeta\n",
    "\n",
    "    @abc.abstractmethod\n",
    "    def fit(self, data):\n",
    "        pass\n",
    "\n",
    "    @abc.abstractmethod\n",
    "    def predict(self, data):\n",
    "        pass\n",
    "\n",
    "    \n",
    "\n",
    "class RandomForestModel(BaseModel):\n",
    "\n",
    "    def __init__(self, model_params):\n",
    "        super(BaseModel, self).__init__()\n",
    "        self.model = RandomForestClassifier(**model_params)\n",
    "\n",
    "    def fit(self, data, label):\n",
    "        if isinstance(label, pd.Series):\n",
    "            label = label.values\n",
    "        self.model.fit(data, label)\n",
    "\n",
    "    def predict(self, data):\n",
    "        scores = self.model.predict_proba(data)\n",
    "        return scores[:, 1]\n",
    "    \n",
    "    \n",
    "\n",
    "class ExtraTreeModel(BaseModel):\n",
    "\n",
    "    def __init__(self, model_params):\n",
    "        super(BaseModel, self).__init__()\n",
    "        self.model = ExtraTreesClassifier(**model_params)\n",
    "\n",
    "    def fit(self, data, label):\n",
    "        if isinstance(label, pd.Series):\n",
    "            label = label.values\n",
    "\n",
    "        self.model.fit(data, label)\n",
    "\n",
    "    def predict(self, data):\n",
    "        scores = self.model.predict_proba(data)\n",
    "        return scores[:, 1]\n",
    "\n",
    "'''"
   ]
  },
  {
   "cell_type": "code",
   "execution_count": 9,
   "metadata": {
    "collapsed": false
   },
   "outputs": [],
   "source": [
    "rf_params = {'n_estimators' : 100, 'max_depth' : 5, 'random_state' : 0}\n",
    "rf_model = RandomForestModel(rf_params)\n",
    "#rf_model = ExtraTreeModel(rf_params)"
   ]
  },
  {
   "cell_type": "code",
   "execution_count": 9,
   "metadata": {
    "collapsed": false
   },
   "outputs": [],
   "source": [
    "'''\n",
    "tmp_model = RandomForestClassifier(**rf_params)\n",
    "#tmp_model = ExtraTreesClassifier(**rf_params)\n",
    "\n",
    "#tmp_train = train.copy()\n",
    "tmp1 = train.copy()\n",
    "tmp2 = tmp1[dep_var_name]\n",
    "tmp1.drop(dep_var_name, axis=1, inplace=True)\n",
    "tmp_model.fit(tmp1, tmp2)\n",
    "res = tmp_model.predict_proba(tmp1)\n",
    "'''"
   ]
  },
  {
   "cell_type": "code",
   "execution_count": 10,
   "metadata": {
    "collapsed": false,
    "scrolled": true
   },
   "outputs": [
    {
     "name": "stdout",
     "output_type": "stream",
     "text": [
      "0.00284925652213 0.00294663176599\n",
      "score shape: (22462,) mean of groud truth: 0.00284925652213\n",
      "threshold value: 0.0848952207232\n",
      "0.00284938337563 0.00283042118953\n",
      "score shape: (22461,) mean of groud truth: 0.00284938337563\n",
      "threshold value: 0.0728924114752\n"
     ]
    }
   ],
   "source": [
    "tmp_train = train.copy()\n",
    "results = cross_validate_model(tmp_train, dep_var_name, rf_model, score_MCC, 2)"
   ]
  },
  {
   "cell_type": "code",
   "execution_count": 11,
   "metadata": {
    "collapsed": false
   },
   "outputs": [
    {
     "data": {
      "text/plain": [
       "[0.12249977676578253, 0.12249966513372394]"
      ]
     },
     "execution_count": 11,
     "metadata": {},
     "output_type": "execute_result"
    }
   ],
   "source": [
    "results"
   ]
  },
  {
   "cell_type": "code",
   "execution_count": null,
   "metadata": {
    "collapsed": true
   },
   "outputs": [],
   "source": []
  },
  {
   "cell_type": "code",
   "execution_count": 147,
   "metadata": {
    "collapsed": false,
    "scrolled": true
   },
   "outputs": [
    {
     "data": {
      "text/plain": [
       "\"\\nfrom utils.validation_tools import create_validation_index\\n## obtein the index for train and validation data\\ntrain_index, valid_index = create_validation_index(train, dep_var_name='Response', valid_frac=0.3)\\n\""
      ]
     },
     "execution_count": 147,
     "metadata": {},
     "output_type": "execute_result"
    }
   ],
   "source": [
    "'''\n",
    "from utils.validation_tools import create_validation_index\n",
    "## obtein the index for train and validation data\n",
    "train_index, valid_index = create_validation_index(train, dep_var_name='Response', valid_frac=0.3)\n",
    "'''"
   ]
  },
  {
   "cell_type": "code",
   "execution_count": 51,
   "metadata": {
    "collapsed": true
   },
   "outputs": [],
   "source": [
    "import itertools"
   ]
  },
  {
   "cell_type": "code",
   "execution_count": 56,
   "metadata": {
    "collapsed": false
   },
   "outputs": [],
   "source": [
    "a = list(itertools.product([1, 2, 3], ['a', 'b'], [1]))"
   ]
  },
  {
   "cell_type": "code",
   "execution_count": 44,
   "metadata": {
    "collapsed": true
   },
   "outputs": [],
   "source": [
    "def abc(model_object, param):\n",
    "    model = model_object(param)\n",
    "    return model"
   ]
  },
  {
   "cell_type": "code",
   "execution_count": 46,
   "metadata": {
    "collapsed": false
   },
   "outputs": [],
   "source": [
    "a = ExtraTreeModel(rf_params)"
   ]
  },
  {
   "cell_type": "code",
   "execution_count": 47,
   "metadata": {
    "collapsed": false
   },
   "outputs": [
    {
     "data": {
      "text/plain": [
       "<utils.models.ExtraTreeModel at 0x7fd21992cc10>"
      ]
     },
     "execution_count": 47,
     "metadata": {},
     "output_type": "execute_result"
    }
   ],
   "source": [
    "a"
   ]
  },
  {
   "cell_type": "code",
   "execution_count": 62,
   "metadata": {
    "collapsed": false
   },
   "outputs": [],
   "source": [
    "\n",
    "\n",
    "def grid_search_crosvalid_model(train, dep_var_name, model_class, eval_func, param_dict, fold_num=3, result_file='grid_search_results.csv'):\n",
    "    params_list = list(itertools.product(*param_dict.values()))\n",
    "    df = pd.DataFrame(columns=param_dict.keys() + ['avg_score', 'score_std'])\n",
    "    df.to_csv(result_file)\n",
    "    row_counter = 0\n",
    "    start_time = time()\n",
    "    for param in params_list:\n",
    "        model_params = {}\n",
    "        for value, key in zip(param, param_dict.keys()):\n",
    "            model_params[key] = value\n",
    "            \n",
    "        model = model_class(model_params)\n",
    "        tmp_train = train.copy()\n",
    "        results = cross_validate_model(tmp_train, dep_var_name, model, eval_func, fold_num)\n",
    "        row_content = model_params.values()\n",
    "        row_content.append(np.mean(results))\n",
    "        row_content.append(np.std(results))\n",
    "        df = pd.read_csv(result_file, index_col=0)\n",
    "        df.loc[row_counter] = row_content\n",
    "        df.to_csv(result_file)\n",
    "        row_counter += 1\n",
    "        if row_counter % 10 == 0:\n",
    "            print '{} grid points are finished using {} seconds'.format(row_counter, round((time() - start_time), 0))\n",
    "        \n",
    "        "
   ]
  },
  {
   "cell_type": "code",
   "execution_count": 60,
   "metadata": {
    "collapsed": true
   },
   "outputs": [],
   "source": [
    "const_param_dict = {'random_state' : 0}\n",
    "def list_const_params(params):\n",
    "    listed_params = {}\n",
    "    for key, value in params.items():\n",
    "        listed_params[key] = [value]\n",
    "    return listed_params\n",
    "const_param_dict = list_const_params(const_param_dict)\n",
    "tuning_param_dict = {'n_estimators':range(500, 5000, 500), 'max_depth':range(4, 11)}\n",
    "\n",
    "#rf_params = {'n_estimators' : 100, 'max_depth' : 5, 'random_state' : 0}"
   ]
  },
  {
   "cell_type": "code",
   "execution_count": null,
   "metadata": {
    "collapsed": false,
    "scrolled": true
   },
   "outputs": [
    {
     "name": "stdout",
     "output_type": "stream",
     "text": [
      "{'n_estimators': [500, 1000, 1500, 2000, 2500, 3000, 3500, 4000, 4500], 'random_state': [0], 'max_depth': [4, 5, 6, 7, 8, 9, 10]}\n",
      "0.0028714524207 0.00285180748516\n",
      "score shape: (14975,) mean of groud truth: 0.0028714524207\n",
      "threshold value: 0.0610825296271\n",
      "0.0028714524207 0.002895283718\n",
      "score shape: (14975,) mean of groud truth: 0.0028714524207\n",
      "threshold value: 0.0733789272449\n",
      "0.00280504908836 0.00278911723844\n",
      "score shape: (14973,) mean of groud truth: 0.00280504908836\n",
      "threshold value: 0.0510899454839\n",
      "0.0028714524207 0.0028090234061\n",
      "score shape: (14975,) mean of groud truth: 0.0028714524207\n",
      "threshold value: 0.0723569989499\n",
      "0.0028714524207 0.0028381197687\n",
      "score shape: (14975,) mean of groud truth: 0.0028714524207\n",
      "threshold value: 0.0764744660799\n",
      "0.00280504908836 0.00293338692286\n",
      "score shape: (14973,) mean of groud truth: 0.00280504908836\n",
      "threshold value: 0.0556635795039\n",
      "0.0028714524207 0.00298178383784\n",
      "score shape: (14975,) mean of groud truth: 0.0028714524207\n",
      "threshold value: 0.0840610375915\n",
      "0.0028714524207 0.00297206068808\n",
      "score shape: (14975,) mean of groud truth: 0.0028714524207\n",
      "threshold value: 0.0731522344793\n",
      "0.00280504908836 0.00275690903876\n",
      "score shape: (14973,) mean of groud truth: 0.00280504908836\n",
      "threshold value: 0.0681319890639\n",
      "0.0028714524207 0.00310573424074\n",
      "score shape: (14975,) mean of groud truth: 0.0028714524207\n",
      "threshold value: 0.0785366746943\n",
      "0.0028714524207 0.00288385260055\n",
      "score shape: (14975,) mean of groud truth: 0.0028714524207\n",
      "threshold value: 0.0935202122275\n",
      "0.00280504908836 0.00293627457677\n",
      "score shape: (14973,) mean of groud truth: 0.00280504908836\n",
      "threshold value: 0.0695011583563\n",
      "0.0028714524207 0.00281006886222\n",
      "score shape: (14975,) mean of groud truth: 0.0028714524207\n",
      "threshold value: 0.0774450159638\n",
      "0.0028714524207 0.00325076914525\n",
      "score shape: (14975,) mean of groud truth: 0.0028714524207\n",
      "threshold value: 0.098804107665\n",
      "0.00280504908836 0.00292411939679\n",
      "score shape: (14973,) mean of groud truth: 0.00280504908836\n",
      "threshold value: 0.0716708044863\n",
      "0.0028714524207 0.00297208562312\n",
      "score shape: (14975,) mean of groud truth: 0.0028714524207\n",
      "threshold value: 0.0929271314395\n",
      "0.0028714524207 0.00311481223239\n",
      "score shape: (14975,) mean of groud truth: 0.0028714524207\n",
      "threshold value: 0.0667711481313\n",
      "0.00280504908836 0.00300679856589\n",
      "score shape: (14973,) mean of groud truth: 0.00280504908836\n",
      "threshold value: 0.0578322784569\n",
      "0.0028714524207 0.0030746413528\n",
      "score shape: (14975,) mean of groud truth: 0.0028714524207\n",
      "threshold value: 0.06981427624\n",
      "0.0028714524207 0.0030453843373\n",
      "score shape: (14975,) mean of groud truth: 0.0028714524207\n",
      "threshold value: 0.0824170220638\n",
      "0.00280504908836 0.00327852644248\n",
      "score shape: (14973,) mean of groud truth: 0.00280504908836\n",
      "threshold value: 0.106351113769\n",
      "0.0028714524207 0.00291364308026\n",
      "score shape: (14975,) mean of groud truth: 0.0028714524207\n",
      "threshold value: 0.0769664040889\n",
      "0.0028714524207 0.00282221108819\n",
      "score shape: (14975,) mean of groud truth: 0.0028714524207\n",
      "threshold value: 0.06720884292\n",
      "0.00280504908836 0.00287472896885\n",
      "score shape: (14973,) mean of groud truth: 0.00280504908836\n",
      "threshold value: 0.0530521095685\n",
      "0.0028714524207 0.0028414472378\n",
      "score shape: (14975,) mean of groud truth: 0.0028714524207\n",
      "threshold value: 0.0490018707485\n",
      "0.0028714524207 0.00287672445308\n",
      "score shape: (14975,) mean of groud truth: 0.0028714524207\n",
      "threshold value: 0.0785469518834\n",
      "0.00280504908836 0.00286850272856\n",
      "score shape: (14973,) mean of groud truth: 0.00280504908836\n",
      "threshold value: 0.0696731511236\n",
      "0.0028714524207 0.00293954507082\n",
      "score shape: (14975,) mean of groud truth: 0.0028714524207\n",
      "threshold value: 0.0735035374176\n",
      "0.0028714524207 0.00270321353136\n",
      "score shape: (14975,) mean of groud truth: 0.0028714524207\n",
      "threshold value: 0.079684638933\n",
      "0.00280504908836 0.00299070572972\n",
      "score shape: (14973,) mean of groud truth: 0.00280504908836\n",
      "threshold value: 0.0677474680919\n",
      "0.0028714524207 0.00306524979719\n",
      "score shape: (14975,) mean of groud truth: 0.0028714524207\n",
      "threshold value: 0.0703151888066\n",
      "0.0028714524207 0.00292531912633\n",
      "score shape: (14975,) mean of groud truth: 0.0028714524207\n",
      "threshold value: 0.0754464682149\n",
      "0.00280504908836 0.00284168304636\n",
      "score shape: (14973,) mean of groud truth: 0.00280504908836\n",
      "threshold value: 0.0723097992104\n",
      "0.0028714524207 0.00309246950908\n",
      "score shape: (14975,) mean of groud truth: 0.0028714524207\n",
      "threshold value: 0.0992996647865\n",
      "0.0028714524207 0.00295259743848\n",
      "score shape: (14975,) mean of groud truth: 0.0028714524207\n",
      "threshold value: 0.0652941677289\n",
      "0.00280504908836 0.00290572418537\n",
      "score shape: (14973,) mean of groud truth: 0.00280504908836\n",
      "threshold value: 0.0785754958703\n",
      "0.0028714524207 0.00314776522963\n",
      "score shape: (14975,) mean of groud truth: 0.0028714524207\n",
      "threshold value: 0.0955500079808\n",
      "0.0028714524207 0.00306414273759\n",
      "score shape: (14975,) mean of groud truth: 0.0028714524207\n",
      "threshold value: 0.0736027619053\n",
      "0.00280504908836 0.00316911141506\n",
      "score shape: (14973,) mean of groud truth: 0.00280504908836\n",
      "threshold value: 0.0977171719506\n",
      "0.0028714524207 0.00305897439839\n",
      "score shape: (14975,) mean of groud truth: 0.0028714524207\n",
      "threshold value: 0.0779100825352\n",
      "0.0028714524207 0.00335182186679\n",
      "score shape: (14975,) mean of groud truth: 0.0028714524207\n",
      "threshold value: 0.0849815191253\n",
      "0.00280504908836 0.00314106298123\n",
      "score shape: (14973,) mean of groud truth: 0.00280504908836\n",
      "threshold value: 0.0884817714752\n",
      "0.0028714524207 0.00286712193382\n",
      "score shape: (14975,) mean of groud truth: 0.0028714524207\n",
      "threshold value: 0.0676898361144\n",
      "0.0028714524207 0.00280822594253\n",
      "score shape: (14975,) mean of groud truth: 0.0028714524207\n",
      "threshold value: 0.069222148481\n",
      "0.00280504908836 0.00283179979339\n",
      "score shape: (14973,) mean of groud truth: 0.00280504908836\n",
      "threshold value: 0.0451026257028\n",
      "0.0028714524207 0.00297349358843\n",
      "score shape: (14975,) mean of groud truth: 0.0028714524207\n",
      "threshold value: 0.0604878433008\n",
      "0.0028714524207 0.00274506537411\n",
      "score shape: (14975,) mean of groud truth: 0.0028714524207\n",
      "threshold value: 0.0650669924933\n",
      "0.00280504908836 0.00291526978759\n",
      "score shape: (14973,) mean of groud truth: 0.00280504908836\n",
      "threshold value: 0.0676712925562\n",
      "0.0028714524207 0.00304319838654\n",
      "score shape: (14975,) mean of groud truth: 0.0028714524207\n",
      "threshold value: 0.0850389908528\n",
      "0.0028714524207 0.00287919045338\n",
      "score shape: (14975,) mean of groud truth: 0.0028714524207\n",
      "threshold value: 0.0790688662094\n",
      "0.00280504908836 0.00282447061638\n",
      "score shape: (14973,) mean of groud truth: 0.00280504908836\n",
      "threshold value: 0.058494509401\n",
      "0.0028714524207 0.00299121824395\n",
      "score shape: (14975,) mean of groud truth: 0.0028714524207\n",
      "threshold value: 0.0814336984166\n",
      "0.0028714524207 0.00280599690294\n",
      "score shape: (14975,) mean of groud truth: 0.0028714524207\n",
      "threshold value: 0.0596885335623\n",
      "0.00280504908836 0.00296200978925\n",
      "score shape: (14973,) mean of groud truth: 0.00280504908836\n",
      "threshold value: 0.0833801374092\n",
      "0.0028714524207 0.00285360885483\n",
      "score shape: (14975,) mean of groud truth: 0.0028714524207\n",
      "threshold value: 0.0699692932396\n",
      "0.0028714524207 0.0028162612382\n",
      "score shape: (14975,) mean of groud truth: 0.0028714524207\n",
      "threshold value: 0.0732649308555\n",
      "0.00280504908836 0.00314656325758\n",
      "score shape: (14973,) mean of groud truth: 0.00280504908836\n",
      "threshold value: 0.0852681597949\n",
      "0.0028714524207 0.00300436107545\n",
      "score shape: (14975,) mean of groud truth: 0.0028714524207\n",
      "threshold value: 0.084921926896\n",
      "0.0028714524207 0.00310392505114\n",
      "score shape: (14975,) mean of groud truth: 0.0028714524207\n",
      "threshold value: 0.0945278306647\n",
      "0.00280504908836 0.00304949498987\n",
      "score shape: (14973,) mean of groud truth: 0.00280504908836\n",
      "threshold value: 0.0915182926131\n",
      "0.0028714524207 0.00312986931414\n",
      "score shape: (14975,) mean of groud truth: 0.0028714524207\n",
      "threshold value: 0.0815183575888\n",
      "0.0028714524207 0.00312695499415\n",
      "score shape: (14975,) mean of groud truth: 0.0028714524207\n",
      "threshold value: 0.0839036398959\n",
      "0.00280504908836 0.00325230925317\n",
      "score shape: (14973,) mean of groud truth: 0.00280504908836\n",
      "threshold value: 0.0929729304971\n",
      "0.0028714524207 0.00281452030058\n",
      "score shape: (14975,) mean of groud truth: 0.0028714524207\n",
      "threshold value: 0.0689964993123\n",
      "0.0028714524207 0.00283016774744\n",
      "score shape: (14975,) mean of groud truth: 0.0028714524207\n",
      "threshold value: 0.0553668306045\n",
      "0.00280504908836 0.00293004408638\n",
      "score shape: (14973,) mean of groud truth: 0.00280504908836\n",
      "threshold value: 0.0801919520043\n",
      "0.0028714524207 0.00305357873779\n",
      "score shape: (14975,) mean of groud truth: 0.0028714524207\n",
      "threshold value: 0.0802013518764\n",
      "0.0028714524207 0.0027605408032\n",
      "score shape: (14975,) mean of groud truth: 0.0028714524207\n",
      "threshold value: 0.0677214060058\n"
     ]
    }
   ],
   "source": [
    "param_dict = const_param_dict.copy()\n",
    "param_dict.update(tuning_param_dict)\n",
    "print param_dict\n",
    "list(itertools.product(*param_dict.values()))\n",
    "\n",
    "grid_search_crosvalid_model(train, dep_var_name, ExtraTreeModel, score_MCC, param_dict)"
   ]
  },
  {
   "cell_type": "code",
   "execution_count": null,
   "metadata": {
    "collapsed": true
   },
   "outputs": [],
   "source": [
    "grid_search_crosvalid_model(train, dep_var_name, ExtraTreeModel, )"
   ]
  },
  {
   "cell_type": "code",
   "execution_count": 21,
   "metadata": {
    "collapsed": false
   },
   "outputs": [
    {
     "data": {
      "text/plain": [
       "[array([[1, 2, 3],\n",
       "        [1, 2, 3]]), array([[1, 1, 1],\n",
       "        [2, 2, 2]])]"
      ]
     },
     "execution_count": 21,
     "metadata": {},
     "output_type": "execute_result"
    }
   ],
   "source": [
    "tmp"
   ]
  }
 ],
 "metadata": {
  "kernelspec": {
   "display_name": "Python 2",
   "language": "python",
   "name": "python2"
  },
  "language_info": {
   "codemirror_mode": {
    "name": "ipython",
    "version": 2
   },
   "file_extension": ".py",
   "mimetype": "text/x-python",
   "name": "python",
   "nbconvert_exporter": "python",
   "pygments_lexer": "ipython2",
   "version": "2.7.6"
  }
 },
 "nbformat": 4,
 "nbformat_minor": 0
}
