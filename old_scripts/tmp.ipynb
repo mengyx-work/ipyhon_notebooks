{
 "cells": [
  {
   "cell_type": "code",
   "execution_count": 2,
   "metadata": {
    "collapsed": false
   },
   "outputs": [],
   "source": [
    "import pandas as pd\n",
    "from os.path import join"
   ]
  },
  {
   "cell_type": "code",
   "execution_count": 10,
   "metadata": {
    "collapsed": false
   },
   "outputs": [],
   "source": [
    "data_path = '/mnt/home/ymm/kaggle/bosch_data/bosch_regular_data_FE_xgb_feature_10_thres'\n",
    "train_file_name = 'bosch_processed_regular_filled_FE_thres_10_test_data.csv'\n",
    "#test_file_name = 'bosch_processed_regular_filled_FE_thres_10_test_data.csv'\n",
    "train = pd.read_csv('/home/ymm/kaggle/bosch_data/bosch_regular_data_FE_xgb_feature_10_thres/', index_col='Id', nrows=1000)"
   ]
  },
  {
   "cell_type": "code",
   "execution_count": 11,
   "metadata": {
    "collapsed": false
   },
   "outputs": [
    {
     "data": {
      "text/plain": [
       "True"
      ]
     },
     "execution_count": 11,
     "metadata": {},
     "output_type": "execute_result"
    }
   ],
   "source": [
    "'Response' in train.columns"
   ]
  },
  {
   "cell_type": "code",
   "execution_count": 1,
   "metadata": {
    "collapsed": true
   },
   "outputs": [],
   "source": [
    "import numpy as np"
   ]
  },
  {
   "cell_type": "code",
   "execution_count": 4,
   "metadata": {
    "collapsed": false
   },
   "outputs": [
    {
     "name": "stdout",
     "output_type": "stream",
     "text": [
      "0.3625 0.0462448195297\n"
     ]
    }
   ],
   "source": [
    "print np.mean([0.322, 0.368,  0.336,  0.326,  0.458,  0.365]), np.std([0.322, 0.368,  0.336,  0.326,  0.458,  0.365])"
   ]
  },
  {
   "cell_type": "code",
   "execution_count": 5,
   "metadata": {
    "collapsed": false
   },
   "outputs": [
    {
     "name": "stdout",
     "output_type": "stream",
     "text": [
      "0.349333333333 0.0177638834593\n"
     ]
    }
   ],
   "source": [
    "print np.mean([0.351,  0.328,  0.375,  0.369,  0.331,  0.342]), np.std([0.351,  0.328,  0.375,  0.369,  0.331,  0.342])"
   ]
  },
  {
   "cell_type": "code",
   "execution_count": 6,
   "metadata": {
    "collapsed": false
   },
   "outputs": [
    {
     "name": "stdout",
     "output_type": "stream",
     "text": [
      "0.342666666667 0.00878761755098\n"
     ]
    }
   ],
   "source": [
    "print np.mean([0.351, 0.330,  0.342,  0.333,  0.346,  0.354]), np.std([0.351, 0.330,  0.342,  0.333,  0.346,  0.354])"
   ]
  },
  {
   "cell_type": "code",
   "execution_count": null,
   "metadata": {
    "collapsed": true
   },
   "outputs": [],
   "source": []
  },
  {
   "cell_type": "code",
   "execution_count": 10,
   "metadata": {
    "collapsed": false
   },
   "outputs": [],
   "source": [
    "a.remove(1)"
   ]
  },
  {
   "cell_type": "code",
   "execution_count": 11,
   "metadata": {
    "collapsed": false
   },
   "outputs": [
    {
     "data": {
      "text/plain": [
       "[2, [3, 4], 3, 4]"
      ]
     },
     "execution_count": 11,
     "metadata": {},
     "output_type": "execute_result"
    }
   ],
   "source": [
    "a"
   ]
  },
  {
   "cell_type": "code",
   "execution_count": 36,
   "metadata": {
    "collapsed": true
   },
   "outputs": [],
   "source": [
    "import itertools\n",
    "def generate_model_param_list(models, const_params, tuning_params, model_type, model_index=None):\n",
    "    if model_index is None:\n",
    "        model_index = -1\n",
    "\n",
    "    param_dict = const_params.copy()\n",
    "\n",
    "    for key, value in tuning_params.items():\n",
    "        param_dict[key] = value\n",
    "\n",
    "    for key, value in param_dict.items():\n",
    "        if isinstance(value, int) or isinstance(value, float) or isinstance(value, str):\n",
    "            param_dict[key] = [value]\n",
    "\n",
    "    params_list = list(itertools.product(*param_dict.values()))\n",
    "    \n",
    "    for params in params_list:\n",
    "        model_dict = {}\n",
    "        model_index += 1\n",
    "        model_params = {}\n",
    "        ## convert params from a list into the dict\n",
    "        for value, key in zip(params, param_dict.keys()):\n",
    "            model_params[key] = value\n",
    "\n",
    "        model_dict['model_params'] = model_params\n",
    "        model_dict['model_type'] = model_type\n",
    "        print 'build a {} model using params: {}'.format(model_type, model_params)\n",
    "        models[model_index] = model_dict\n",
    "\n",
    "\n"
   ]
  },
  {
   "cell_type": "code",
   "execution_count": 38,
   "metadata": {
    "collapsed": false
   },
   "outputs": [
    {
     "name": "stdout",
     "output_type": "stream",
     "text": [
      "build a RandomForest model using params: {'n_estimators': 3600, 'criterion': 'entropy', 'random_state': 0, 'n_jobs': -1, 'max_depth': 3}\n",
      "build a RandomForest model using params: {'n_estimators': 3600, 'criterion': 'entropy', 'random_state': 0, 'n_jobs': -1, 'max_depth': 4}\n",
      "build a RandomForest model using params: {'n_estimators': 3600, 'criterion': 'entropy', 'random_state': 0, 'n_jobs': -1, 'max_depth': 5}\n",
      "build a RandomForest model using params: {'n_estimators': 3600, 'criterion': 'entropy', 'random_state': 0, 'n_jobs': -1, 'max_depth': 6}\n",
      "build a RandomForest model using params: {'n_estimators': 3600, 'criterion': 'entropy', 'random_state': 0, 'n_jobs': -1, 'max_depth': 7}\n",
      "build a RandomForest model using params: {'n_estimators': 3600, 'criterion': 'entropy', 'random_state': 0, 'n_jobs': -1, 'max_depth': 8}\n",
      "build a RandomForest model using params: {'n_estimators': 3600, 'criterion': 'entropy', 'random_state': 0, 'n_jobs': -1, 'max_depth': 9}\n",
      "build a RandomForest model using params: {'n_estimators': 3600, 'criterion': 'entropy', 'random_state': 20, 'n_jobs': -1, 'max_depth': 3}\n",
      "build a RandomForest model using params: {'n_estimators': 3600, 'criterion': 'entropy', 'random_state': 20, 'n_jobs': -1, 'max_depth': 4}\n",
      "build a RandomForest model using params: {'n_estimators': 3600, 'criterion': 'entropy', 'random_state': 20, 'n_jobs': -1, 'max_depth': 5}\n",
      "build a RandomForest model using params: {'n_estimators': 3600, 'criterion': 'entropy', 'random_state': 20, 'n_jobs': -1, 'max_depth': 6}\n",
      "build a RandomForest model using params: {'n_estimators': 3600, 'criterion': 'entropy', 'random_state': 20, 'n_jobs': -1, 'max_depth': 7}\n",
      "build a RandomForest model using params: {'n_estimators': 3600, 'criterion': 'entropy', 'random_state': 20, 'n_jobs': -1, 'max_depth': 8}\n",
      "build a RandomForest model using params: {'n_estimators': 3600, 'criterion': 'entropy', 'random_state': 20, 'n_jobs': -1, 'max_depth': 9}\n",
      "build a RandomForest model using params: {'n_estimators': 3600, 'criterion': 'entropy', 'random_state': 40, 'n_jobs': -1, 'max_depth': 3}\n",
      "build a RandomForest model using params: {'n_estimators': 3600, 'criterion': 'entropy', 'random_state': 40, 'n_jobs': -1, 'max_depth': 4}\n",
      "build a RandomForest model using params: {'n_estimators': 3600, 'criterion': 'entropy', 'random_state': 40, 'n_jobs': -1, 'max_depth': 5}\n",
      "build a RandomForest model using params: {'n_estimators': 3600, 'criterion': 'entropy', 'random_state': 40, 'n_jobs': -1, 'max_depth': 6}\n",
      "build a RandomForest model using params: {'n_estimators': 3600, 'criterion': 'entropy', 'random_state': 40, 'n_jobs': -1, 'max_depth': 7}\n",
      "build a RandomForest model using params: {'n_estimators': 3600, 'criterion': 'entropy', 'random_state': 40, 'n_jobs': -1, 'max_depth': 8}\n",
      "build a RandomForest model using params: {'n_estimators': 3600, 'criterion': 'entropy', 'random_state': 40, 'n_jobs': -1, 'max_depth': 9}\n",
      "build a RandomForest model using params: {'n_estimators': 3600, 'criterion': 'entropy', 'random_state': 60, 'n_jobs': -1, 'max_depth': 3}\n",
      "build a RandomForest model using params: {'n_estimators': 3600, 'criterion': 'entropy', 'random_state': 60, 'n_jobs': -1, 'max_depth': 4}\n",
      "build a RandomForest model using params: {'n_estimators': 3600, 'criterion': 'entropy', 'random_state': 60, 'n_jobs': -1, 'max_depth': 5}\n",
      "build a RandomForest model using params: {'n_estimators': 3600, 'criterion': 'entropy', 'random_state': 60, 'n_jobs': -1, 'max_depth': 6}\n",
      "build a RandomForest model using params: {'n_estimators': 3600, 'criterion': 'entropy', 'random_state': 60, 'n_jobs': -1, 'max_depth': 7}\n",
      "build a RandomForest model using params: {'n_estimators': 3600, 'criterion': 'entropy', 'random_state': 60, 'n_jobs': -1, 'max_depth': 8}\n",
      "build a RandomForest model using params: {'n_estimators': 3600, 'criterion': 'entropy', 'random_state': 60, 'n_jobs': -1, 'max_depth': 9}\n",
      "build a RandomForest model using params: {'n_estimators': 3600, 'criterion': 'entropy', 'random_state': 80, 'n_jobs': -1, 'max_depth': 3}\n",
      "build a RandomForest model using params: {'n_estimators': 3600, 'criterion': 'entropy', 'random_state': 80, 'n_jobs': -1, 'max_depth': 4}\n",
      "build a RandomForest model using params: {'n_estimators': 3600, 'criterion': 'entropy', 'random_state': 80, 'n_jobs': -1, 'max_depth': 5}\n",
      "build a RandomForest model using params: {'n_estimators': 3600, 'criterion': 'entropy', 'random_state': 80, 'n_jobs': -1, 'max_depth': 6}\n",
      "build a RandomForest model using params: {'n_estimators': 3600, 'criterion': 'entropy', 'random_state': 80, 'n_jobs': -1, 'max_depth': 7}\n",
      "build a RandomForest model using params: {'n_estimators': 3600, 'criterion': 'entropy', 'random_state': 80, 'n_jobs': -1, 'max_depth': 8}\n",
      "build a RandomForest model using params: {'n_estimators': 3600, 'criterion': 'entropy', 'random_state': 80, 'n_jobs': -1, 'max_depth': 9}\n"
     ]
    }
   ],
   "source": [
    "## RandomForest models\n",
    "models = {}\n",
    "model_index = 0\n",
    "rf_const_params = {'random_state' : 9999, 'n_estimators' : 3600, 'max_depth' : 5, 'criterion' : 'entropy', 'n_jobs' : -1}\n",
    "list_param_dict = {}\n",
    "list_param_dict['random_state'] = range(0, 100, 20)\n",
    "list_param_dict['max_depth'] = range(3, 10)\n",
    "#auto_fill_model_dicts(models, rf_const_params, list_param_dict, 'RandomForest')\n",
    "generate_model_param_list(models, rf_const_params, list_param_dict, 'RandomForest', model_index)\n",
    "\n"
   ]
  },
  {
   "cell_type": "code",
   "execution_count": null,
   "metadata": {
    "collapsed": true
   },
   "outputs": [],
   "source": []
  },
  {
   "cell_type": "code",
   "execution_count": 23,
   "metadata": {
    "collapsed": true
   },
   "outputs": [],
   "source": [
    "import os, sys, time\n",
    "import pandas as pd\n",
    "import numpy as np\n",
    "sys.path.append('/home/ymm/kaggle/xgboost_hyperopt')\n",
    "import utils\n",
    "from utils.models import CombinedModel"
   ]
  },
  {
   "cell_type": "code",
   "execution_count": 24,
   "metadata": {
    "collapsed": true
   },
   "outputs": [],
   "source": [
    "aa = np.mean([1, 2, 3, 4])"
   ]
  },
  {
   "cell_type": "code",
   "execution_count": 29,
   "metadata": {
    "collapsed": false
   },
   "outputs": [
    {
     "data": {
      "text/plain": [
       "float"
      ]
     },
     "execution_count": 29,
     "metadata": {},
     "output_type": "execute_result"
    }
   ],
   "source": [
    "type(float(aa))"
   ]
  },
  {
   "cell_type": "code",
   "execution_count": 28,
   "metadata": {
    "collapsed": false
   },
   "outputs": [
    {
     "data": {
      "text/plain": [
       "type"
      ]
     },
     "execution_count": 28,
     "metadata": {},
     "output_type": "execute_result"
    }
   ],
   "source": [
    "type(bb)"
   ]
  },
  {
   "cell_type": "code",
   "execution_count": 17,
   "metadata": {
    "collapsed": false
   },
   "outputs": [],
   "source": [
    "tmp = pd.Series([0.1, 0.2, 0.3, 0.4, 0.5], index=range(0, 50, 10))"
   ]
  },
  {
   "cell_type": "code",
   "execution_count": 21,
   "metadata": {
    "collapsed": true
   },
   "outputs": [],
   "source": [
    "tmp1 = tmp.copy()"
   ]
  },
  {
   "cell_type": "code",
   "execution_count": 18,
   "metadata": {
    "collapsed": false
   },
   "outputs": [],
   "source": [
    "thres = 0.2"
   ]
  },
  {
   "cell_type": "code",
   "execution_count": 19,
   "metadata": {
    "collapsed": false
   },
   "outputs": [],
   "source": [
    "tmp[tmp < thres] = 0\n",
    "tmp[tmp >= thres] = 1"
   ]
  },
  {
   "cell_type": "code",
   "execution_count": 22,
   "metadata": {
    "collapsed": false
   },
   "outputs": [
    {
     "data": {
      "text/plain": [
       "0     0\n",
       "10    1\n",
       "20    1\n",
       "30    1\n",
       "40    1\n",
       "dtype: int64"
      ]
     },
     "execution_count": 22,
     "metadata": {},
     "output_type": "execute_result"
    }
   ],
   "source": [
    "tmp.astype(int)"
   ]
  },
  {
   "cell_type": "code",
   "execution_count": 2,
   "metadata": {
    "collapsed": false
   },
   "outputs": [],
   "source": [
    "from utils.bosch_functions import load_processed_bosch_data\n",
    "## 15 bins data\n",
    "'''\n",
    "project_yml_path    = '/mnt/home/ymm/kaggle/compete/current'\n",
    "data_path           = '/home/ymm/kaggle/bosch_data/bosch_complete_processed_15_bins_data'\n",
    "data_yaml_file      = 'bosch_processed_data_dict.yml'\n",
    "bin_index = '1'\n",
    "train, test  = load_processed_bosch_data(data_path, data_yaml_file, data_index = bin_index, load_test=True)\n",
    "'''\n",
    "train = pd.read_csv('/home/ymm/kaggle/bosch_data/bosch_complete_processed_15_bins_data/processed_totBins_16_bin_0_train.csv', index_col='Id', nrows=5000)\n",
    "test = pd.read_csv('/home/ymm/kaggle/bosch_data/bosch_complete_processed_15_bins_data/processed_totBins_16_bin_0_test.csv', index_col='Id', nrows=5000)"
   ]
  },
  {
   "cell_type": "code",
   "execution_count": 3,
   "metadata": {
    "collapsed": true
   },
   "outputs": [],
   "source": [
    "dep_var_name = 'Response'\n",
    "## params for combined model\n",
    "raw_models_yaml_file    = 'raw_combined_models.yml'\n",
    "trained_model_yaml_file = 'trained_combined_model.yml'\n",
    "project_path            = '/mnt/home/ymm/kaggle/compete/current/combined_model'\n",
    "raw_models_yaml_path    = '/mnt/home/ymm/kaggle/compete/current/combined_model'"
   ]
  },
  {
   "cell_type": "code",
   "execution_count": 4,
   "metadata": {
    "collapsed": false
   },
   "outputs": [],
   "source": [
    " ## train the comined model\n",
    "combined_model_params = {}\n",
    "combined_model_params['raw_models_yaml_file']   = raw_models_yaml_file\n",
    "combined_model_params['project_path']           = project_path\n",
    "combined_model_params['models_yaml_file']       = trained_model_yaml_file\n",
    "combined_model_params['raw_models_yaml_path']   = raw_models_yaml_path\n",
    "\n",
    "## build the combined model\n",
    "combined_model = utils.models.CombinedModel(combined_model_params)"
   ]
  },
  {
   "cell_type": "code",
   "execution_count": 5,
   "metadata": {
    "collapsed": false
   },
   "outputs": [],
   "source": [
    "best_mcc, best_thres = combined_model.mcc_eval_func([1, 1, 0, 0, 1, 0], [0.5, 0.3, 0.2, 0.1, 0.23, 0.77])"
   ]
  },
  {
   "cell_type": "code",
   "execution_count": 7,
   "metadata": {
    "collapsed": false,
    "scrolled": true
   },
   "outputs": [
    {
     "name": "stdout",
     "output_type": "stream",
     "text": [
      "the predict_path /mnt/home/ymm/kaggle/compete/current/combined_model already exits, overwrite the contents...\n",
      "scale_pos_weight: 1249.0\n",
      "weights are used for xgboost training data...\n"
     ]
    },
    {
     "name": "stderr",
     "output_type": "stream",
     "text": [
      "\n",
      "####################\n",
      " train the xgboost without early stopping\n",
      "####################\n"
     ]
    },
    {
     "name": "stdout",
     "output_type": "stream",
     "text": [
      "[0]\ttrain-auc:0.9998\n",
      "[1]\ttrain-auc:0.9998\n",
      "[2]\ttrain-auc:0.9998\n",
      "[3]\ttrain-auc:0.9998\n",
      "[4]\ttrain-auc:0.9997\n",
      "the xgboost fit is finished by using 2.87239789963 seconds, saved into /mnt/home/ymm/kaggle/compete/current/combined_model/combinedModel_indexed_0_Xgboost_model_CV_0\n"
     ]
    },
    {
     "name": "stderr",
     "output_type": "stream",
     "text": [
      "\n",
      "####################\n",
      " train the xgboost without early stopping\n",
      "####################\n"
     ]
    },
    {
     "name": "stdout",
     "output_type": "stream",
     "text": [
      "[0]\ttrain-auc:0.5\n",
      "[1]\ttrain-auc:0.5\n",
      "[2]\ttrain-auc:0.748399\n",
      "[3]\ttrain-auc:0.996998\n",
      "[4]\ttrain-auc:0.996998\n",
      "the xgboost fit is finished by using 2.49449491501 seconds, saved into /mnt/home/ymm/kaggle/compete/current/combined_model/combinedModel_indexed_1_Xgboost_model_CV_1\n",
      "1\n",
      "{'model_params': {'colsample_bytree': 0.8, 'eval_metric': 'auc', 'val': False, 'max_depth': 5, 'metrics': 'auc', 'subsample': 0.8, 'eta': 0.0075, 'num_round': 5, 'seed': 100, 'gamma': 0}, 'model_type': 'Xgboost', 'model_file': 'combinedModel_indexed_1_Xgboost_model_CV_1', 'model_threshold': 0.4864945411682129, 'result': 0.49959967974379504}\n",
      "0\n",
      "{'model_params': {'colsample_bytree': 0.8, 'eval_metric': 'auc', 'val': False, 'max_depth': 5, 'metrics': 'auc', 'subsample': 0.8, 'eta': 0.0075, 'num_round': 5, 'seed': 100, 'gamma': 0}, 'model_type': 'Xgboost', 'model_file': 'combinedModel_indexed_0_Xgboost_model_CV_0', 'model_threshold': 0.48887887597084045, 'result': 0.1454576015581418}\n",
      "3\n",
      "{'model_params': {'n_estimators': 50, 'criterion': 'entropy', 'random_state': 100, 'n_jobs': -1, 'max_depth': 4}, 'model_type': 'ExtraTree', 'model_file': 'combinedModel_indexed_3_ExtraTree_model_CV_1.pkl', 'model_threshold': 0.0, 'result': 0.01865357917751734}\n",
      "2\n",
      "{'model_params': {'n_estimators': 50, 'criterion': 'entropy', 'random_state': 100, 'n_jobs': -1, 'max_depth': 4}, 'model_type': 'ExtraTree', 'model_file': 'combinedModel_indexed_2_ExtraTree_model_CV_0.pkl', 'model_threshold': 0.003543120792707953, 'result': 0.047516962021330114}\n",
      "5\n",
      "{'model_params': {'n_estimators': 50, 'criterion': 'entropy', 'random_state': 100, 'n_jobs': -1, 'max_depth': 4}, 'model_type': 'RandomForest', 'model_file': 'combinedModel_indexed_5_RandomForest_model_CV_1.pkl', 'model_threshold': 0.0, 'result': 0.05815130457195612}\n",
      "4\n",
      "{'model_params': {'n_estimators': 50, 'criterion': 'entropy', 'random_state': 100, 'n_jobs': -1, 'max_depth': 4}, 'model_type': 'RandomForest', 'model_file': 'combinedModel_indexed_4_RandomForest_model_CV_0.pkl', 'model_threshold': 0.0, 'result': 0.0038740071457687418}\n"
     ]
    }
   ],
   "source": [
    "combined_model.cross_vlidate_fit(train, dep_var_name)"
   ]
  },
  {
   "cell_type": "code",
   "execution_count": null,
   "metadata": {
    "collapsed": true
   },
   "outputs": [],
   "source": [
    "    combined_model.fit(train, dep_var_name)"
   ]
  },
  {
   "cell_type": "code",
   "execution_count": 10,
   "metadata": {
    "collapsed": true
   },
   "outputs": [],
   "source": [
    "import cPickle as pickle"
   ]
  },
  {
   "cell_type": "code",
   "execution_count": 12,
   "metadata": {
    "collapsed": false
   },
   "outputs": [],
   "source": [
    "aa = pickle.load(open('tmp_dict.pkl'))"
   ]
  },
  {
   "cell_type": "code",
   "execution_count": 22,
   "metadata": {
    "collapsed": false
   },
   "outputs": [
    {
     "data": {
      "text/plain": [
       "{'model_file': 'combinedModel_indexed_0_Xgboost_model_CV_0',\n",
       " 'model_params': {'colsample_bytree': 0.8,\n",
       "  'eta': 0.0075,\n",
       "  'eval_metric': 'auc',\n",
       "  'gamma': 0,\n",
       "  'max_depth': 5,\n",
       "  'metrics': 'auc',\n",
       "  'num_round': 5,\n",
       "  'seed': 100,\n",
       "  'subsample': 0.8,\n",
       "  'val': False},\n",
       " 'model_threshold': 0.48974037,\n",
       " 'model_type': 'Xgboost',\n",
       " 'result': 0.15241326019272355}"
      ]
     },
     "execution_count": 22,
     "metadata": {},
     "output_type": "execute_result"
    }
   ],
   "source": [
    "aa['0']"
   ]
  },
  {
   "cell_type": "code",
   "execution_count": 24,
   "metadata": {
    "collapsed": false
   },
   "outputs": [
    {
     "data": {
      "text/plain": [
       "[{'colsample_bytree': 0.8,\n",
       "  'eta': 0.0075,\n",
       "  'eval_metric': 'auc',\n",
       "  'gamma': 0,\n",
       "  'max_depth': 5,\n",
       "  'metrics': 'auc',\n",
       "  'num_round': 5,\n",
       "  'seed': 100,\n",
       "  'subsample': 0.8,\n",
       "  'val': False},\n",
       " 'Xgboost',\n",
       " 'combinedModel_indexed_0_Xgboost_model_CV_0',\n",
       " 0.48974037,\n",
       " 0.15241326019272355]"
      ]
     },
     "execution_count": 24,
     "metadata": {},
     "output_type": "execute_result"
    }
   ],
   "source": [
    "aa['0'].values()"
   ]
  },
  {
   "cell_type": "code",
   "execution_count": 21,
   "metadata": {
    "collapsed": false,
    "scrolled": true
   },
   "outputs": [
    {
     "data": {
      "text/plain": [
       "['model_params', 'model_type', 'model_file', 'model_threshold', 'result']"
      ]
     },
     "execution_count": 21,
     "metadata": {},
     "output_type": "execute_result"
    }
   ],
   "source": [
    "aa['0'].keys()"
   ]
  },
  {
   "cell_type": "code",
   "execution_count": 67,
   "metadata": {
    "collapsed": true
   },
   "outputs": [],
   "source": [
    "tmp = aa['0'].copy()"
   ]
  },
  {
   "cell_type": "code",
   "execution_count": 68,
   "metadata": {
    "collapsed": false,
    "scrolled": false
   },
   "outputs": [
    {
     "data": {
      "text/plain": [
       "{'model_file': 'combinedModel_indexed_0_Xgboost_model_CV_0',\n",
       " 'model_params': {'colsample_bytree': 0.8,\n",
       "  'eta': 0.0075,\n",
       "  'eval_metric': 'auc',\n",
       "  'gamma': 0,\n",
       "  'max_depth': 5,\n",
       "  'metrics': 'auc',\n",
       "  'num_round': 5,\n",
       "  'seed': 100,\n",
       "  'subsample': 0.8,\n",
       "  'val': False},\n",
       " 'model_threshold': 0.48974037,\n",
       " 'model_type': 'Xgboost',\n",
       " 'result': 0.15241326019272355}"
      ]
     },
     "execution_count": 68,
     "metadata": {},
     "output_type": "execute_result"
    }
   ],
   "source": [
    "tmp"
   ]
  },
  {
   "cell_type": "code",
   "execution_count": 71,
   "metadata": {
    "collapsed": false
   },
   "outputs": [],
   "source": [
    "tmp['model_threshold'] = float(tmp['model_threshold'])"
   ]
  },
  {
   "cell_type": "code",
   "execution_count": 54,
   "metadata": {
    "collapsed": false,
    "scrolled": true
   },
   "outputs": [
    {
     "data": {
      "text/plain": [
       "0.48974037"
      ]
     },
     "execution_count": 54,
     "metadata": {},
     "output_type": "execute_result"
    }
   ],
   "source": [
    "#tmp.pop('model_threshold', None)"
   ]
  },
  {
   "cell_type": "code",
   "execution_count": 47,
   "metadata": {
    "collapsed": true
   },
   "outputs": [],
   "source": [
    "a = {'c': {'b': 0.48974037}}"
   ]
  },
  {
   "cell_type": "code",
   "execution_count": 72,
   "metadata": {
    "collapsed": false
   },
   "outputs": [],
   "source": [
    "with open('tmp.yml', 'w') as yml_stream:\n",
    "    yaml.dump(tmp, yml_stream, default_flow_style=False)"
   ]
  },
  {
   "cell_type": "code",
   "execution_count": 25,
   "metadata": {
    "collapsed": false
   },
   "outputs": [
    {
     "name": "stdout",
     "output_type": "stream",
     "text": [
      "model_params\n",
      "{'colsample_bytree': 0.8, 'eval_metric': 'auc', 'val': False, 'metrics': 'auc', 'subsample': 0.8, 'eta': 0.0075, 'num_round': 5, 'seed': 100, 'max_depth': 5, 'gamma': 0}\n",
      "model_type\n",
      "Xgboost\n",
      "model_file\n",
      "combinedModel_indexed_0_Xgboost_model_CV_0\n",
      "model_threshold\n",
      "0.48974\n",
      "result\n",
      "0.152413260193\n"
     ]
    }
   ],
   "source": [
    "for key, value in aa['0'].items():\n",
    "    print key\n",
    "    print value"
   ]
  },
  {
   "cell_type": "code",
   "execution_count": 19,
   "metadata": {
    "collapsed": false
   },
   "outputs": [
    {
     "ename": "TypeError",
     "evalue": "data type not understood",
     "output_type": "error",
     "traceback": [
      "\u001b[0;31m---------------------------------------------------------------------------\u001b[0m",
      "\u001b[0;31mTypeError\u001b[0m                                 Traceback (most recent call last)",
      "\u001b[0;32m<ipython-input-19-42cd23dadb28>\u001b[0m in \u001b[0;36m<module>\u001b[0;34m()\u001b[0m\n\u001b[1;32m      1\u001b[0m \u001b[0;32mimport\u001b[0m \u001b[0myaml\u001b[0m\u001b[0;34m\u001b[0m\u001b[0m\n\u001b[1;32m      2\u001b[0m \u001b[0;32mwith\u001b[0m \u001b[0mopen\u001b[0m\u001b[0;34m(\u001b[0m\u001b[0;34m'tmp.yml'\u001b[0m\u001b[0;34m,\u001b[0m \u001b[0;34m'w'\u001b[0m\u001b[0;34m)\u001b[0m \u001b[0;32mas\u001b[0m \u001b[0myml_stream\u001b[0m\u001b[0;34m:\u001b[0m\u001b[0;34m\u001b[0m\u001b[0m\n\u001b[0;32m----> 3\u001b[0;31m     \u001b[0myaml\u001b[0m\u001b[0;34m.\u001b[0m\u001b[0mdump\u001b[0m\u001b[0;34m(\u001b[0m\u001b[0maa\u001b[0m\u001b[0;34m[\u001b[0m\u001b[0;34m'0'\u001b[0m\u001b[0;34m]\u001b[0m\u001b[0;34m,\u001b[0m \u001b[0myml_stream\u001b[0m\u001b[0;34m,\u001b[0m \u001b[0mdefault_flow_style\u001b[0m\u001b[0;34m=\u001b[0m\u001b[0mFalse\u001b[0m\u001b[0;34m)\u001b[0m\u001b[0;34m\u001b[0m\u001b[0m\n\u001b[0m",
      "\u001b[0;32m/mnt/home/ymm/.virtualenvs/kaggle/local/lib/python2.7/site-packages/yaml/__init__.pyc\u001b[0m in \u001b[0;36mdump\u001b[0;34m(data, stream, Dumper, **kwds)\u001b[0m\n\u001b[1;32m    200\u001b[0m     \u001b[0mIf\u001b[0m \u001b[0mstream\u001b[0m \u001b[0;32mis\u001b[0m \u001b[0mNone\u001b[0m\u001b[0;34m,\u001b[0m \u001b[0;32mreturn\u001b[0m \u001b[0mthe\u001b[0m \u001b[0mproduced\u001b[0m \u001b[0mstring\u001b[0m \u001b[0minstead\u001b[0m\u001b[0;34m.\u001b[0m\u001b[0;34m\u001b[0m\u001b[0m\n\u001b[1;32m    201\u001b[0m     \"\"\"\n\u001b[0;32m--> 202\u001b[0;31m     \u001b[0;32mreturn\u001b[0m \u001b[0mdump_all\u001b[0m\u001b[0;34m(\u001b[0m\u001b[0;34m[\u001b[0m\u001b[0mdata\u001b[0m\u001b[0;34m]\u001b[0m\u001b[0;34m,\u001b[0m \u001b[0mstream\u001b[0m\u001b[0;34m,\u001b[0m \u001b[0mDumper\u001b[0m\u001b[0;34m=\u001b[0m\u001b[0mDumper\u001b[0m\u001b[0;34m,\u001b[0m \u001b[0;34m**\u001b[0m\u001b[0mkwds\u001b[0m\u001b[0;34m)\u001b[0m\u001b[0;34m\u001b[0m\u001b[0m\n\u001b[0m\u001b[1;32m    203\u001b[0m \u001b[0;34m\u001b[0m\u001b[0m\n\u001b[1;32m    204\u001b[0m \u001b[0;32mdef\u001b[0m \u001b[0msafe_dump_all\u001b[0m\u001b[0;34m(\u001b[0m\u001b[0mdocuments\u001b[0m\u001b[0;34m,\u001b[0m \u001b[0mstream\u001b[0m\u001b[0;34m=\u001b[0m\u001b[0mNone\u001b[0m\u001b[0;34m,\u001b[0m \u001b[0;34m**\u001b[0m\u001b[0mkwds\u001b[0m\u001b[0;34m)\u001b[0m\u001b[0;34m:\u001b[0m\u001b[0;34m\u001b[0m\u001b[0m\n",
      "\u001b[0;32m/mnt/home/ymm/.virtualenvs/kaggle/local/lib/python2.7/site-packages/yaml/__init__.pyc\u001b[0m in \u001b[0;36mdump_all\u001b[0;34m(documents, stream, Dumper, default_style, default_flow_style, canonical, indent, width, allow_unicode, line_break, encoding, explicit_start, explicit_end, version, tags)\u001b[0m\n\u001b[1;32m    188\u001b[0m         \u001b[0mdumper\u001b[0m\u001b[0;34m.\u001b[0m\u001b[0mopen\u001b[0m\u001b[0;34m(\u001b[0m\u001b[0;34m)\u001b[0m\u001b[0;34m\u001b[0m\u001b[0m\n\u001b[1;32m    189\u001b[0m         \u001b[0;32mfor\u001b[0m \u001b[0mdata\u001b[0m \u001b[0;32min\u001b[0m \u001b[0mdocuments\u001b[0m\u001b[0;34m:\u001b[0m\u001b[0;34m\u001b[0m\u001b[0m\n\u001b[0;32m--> 190\u001b[0;31m             \u001b[0mdumper\u001b[0m\u001b[0;34m.\u001b[0m\u001b[0mrepresent\u001b[0m\u001b[0;34m(\u001b[0m\u001b[0mdata\u001b[0m\u001b[0;34m)\u001b[0m\u001b[0;34m\u001b[0m\u001b[0m\n\u001b[0m\u001b[1;32m    191\u001b[0m         \u001b[0mdumper\u001b[0m\u001b[0;34m.\u001b[0m\u001b[0mclose\u001b[0m\u001b[0;34m(\u001b[0m\u001b[0;34m)\u001b[0m\u001b[0;34m\u001b[0m\u001b[0m\n\u001b[1;32m    192\u001b[0m     \u001b[0;32mfinally\u001b[0m\u001b[0;34m:\u001b[0m\u001b[0;34m\u001b[0m\u001b[0m\n",
      "\u001b[0;32m/mnt/home/ymm/.virtualenvs/kaggle/local/lib/python2.7/site-packages/yaml/representer.pyc\u001b[0m in \u001b[0;36mrepresent\u001b[0;34m(self, data)\u001b[0m\n\u001b[1;32m     26\u001b[0m \u001b[0;34m\u001b[0m\u001b[0m\n\u001b[1;32m     27\u001b[0m     \u001b[0;32mdef\u001b[0m \u001b[0mrepresent\u001b[0m\u001b[0;34m(\u001b[0m\u001b[0mself\u001b[0m\u001b[0;34m,\u001b[0m \u001b[0mdata\u001b[0m\u001b[0;34m)\u001b[0m\u001b[0;34m:\u001b[0m\u001b[0;34m\u001b[0m\u001b[0m\n\u001b[0;32m---> 28\u001b[0;31m         \u001b[0mnode\u001b[0m \u001b[0;34m=\u001b[0m \u001b[0mself\u001b[0m\u001b[0;34m.\u001b[0m\u001b[0mrepresent_data\u001b[0m\u001b[0;34m(\u001b[0m\u001b[0mdata\u001b[0m\u001b[0;34m)\u001b[0m\u001b[0;34m\u001b[0m\u001b[0m\n\u001b[0m\u001b[1;32m     29\u001b[0m         \u001b[0mself\u001b[0m\u001b[0;34m.\u001b[0m\u001b[0mserialize\u001b[0m\u001b[0;34m(\u001b[0m\u001b[0mnode\u001b[0m\u001b[0;34m)\u001b[0m\u001b[0;34m\u001b[0m\u001b[0m\n\u001b[1;32m     30\u001b[0m         \u001b[0mself\u001b[0m\u001b[0;34m.\u001b[0m\u001b[0mrepresented_objects\u001b[0m \u001b[0;34m=\u001b[0m \u001b[0;34m{\u001b[0m\u001b[0;34m}\u001b[0m\u001b[0;34m\u001b[0m\u001b[0m\n",
      "\u001b[0;32m/mnt/home/ymm/.virtualenvs/kaggle/local/lib/python2.7/site-packages/yaml/representer.pyc\u001b[0m in \u001b[0;36mrepresent_data\u001b[0;34m(self, data)\u001b[0m\n\u001b[1;32m     55\u001b[0m             \u001b[0mdata_types\u001b[0m \u001b[0;34m=\u001b[0m \u001b[0mself\u001b[0m\u001b[0;34m.\u001b[0m\u001b[0mget_classobj_bases\u001b[0m\u001b[0;34m(\u001b[0m\u001b[0mdata\u001b[0m\u001b[0;34m.\u001b[0m\u001b[0m__class__\u001b[0m\u001b[0;34m)\u001b[0m\u001b[0;34m+\u001b[0m\u001b[0mlist\u001b[0m\u001b[0;34m(\u001b[0m\u001b[0mdata_types\u001b[0m\u001b[0;34m)\u001b[0m\u001b[0;34m\u001b[0m\u001b[0m\n\u001b[1;32m     56\u001b[0m         \u001b[0;32mif\u001b[0m \u001b[0mdata_types\u001b[0m\u001b[0;34m[\u001b[0m\u001b[0;36m0\u001b[0m\u001b[0;34m]\u001b[0m \u001b[0;32min\u001b[0m \u001b[0mself\u001b[0m\u001b[0;34m.\u001b[0m\u001b[0myaml_representers\u001b[0m\u001b[0;34m:\u001b[0m\u001b[0;34m\u001b[0m\u001b[0m\n\u001b[0;32m---> 57\u001b[0;31m             \u001b[0mnode\u001b[0m \u001b[0;34m=\u001b[0m \u001b[0mself\u001b[0m\u001b[0;34m.\u001b[0m\u001b[0myaml_representers\u001b[0m\u001b[0;34m[\u001b[0m\u001b[0mdata_types\u001b[0m\u001b[0;34m[\u001b[0m\u001b[0;36m0\u001b[0m\u001b[0;34m]\u001b[0m\u001b[0;34m]\u001b[0m\u001b[0;34m(\u001b[0m\u001b[0mself\u001b[0m\u001b[0;34m,\u001b[0m \u001b[0mdata\u001b[0m\u001b[0;34m)\u001b[0m\u001b[0;34m\u001b[0m\u001b[0m\n\u001b[0m\u001b[1;32m     58\u001b[0m         \u001b[0;32melse\u001b[0m\u001b[0;34m:\u001b[0m\u001b[0;34m\u001b[0m\u001b[0m\n\u001b[1;32m     59\u001b[0m             \u001b[0;32mfor\u001b[0m \u001b[0mdata_type\u001b[0m \u001b[0;32min\u001b[0m \u001b[0mdata_types\u001b[0m\u001b[0;34m:\u001b[0m\u001b[0;34m\u001b[0m\u001b[0m\n",
      "\u001b[0;32m/mnt/home/ymm/.virtualenvs/kaggle/local/lib/python2.7/site-packages/yaml/representer.pyc\u001b[0m in \u001b[0;36mrepresent_dict\u001b[0;34m(self, data)\u001b[0m\n\u001b[1;32m    221\u001b[0m \u001b[0;34m\u001b[0m\u001b[0m\n\u001b[1;32m    222\u001b[0m     \u001b[0;32mdef\u001b[0m \u001b[0mrepresent_dict\u001b[0m\u001b[0;34m(\u001b[0m\u001b[0mself\u001b[0m\u001b[0;34m,\u001b[0m \u001b[0mdata\u001b[0m\u001b[0;34m)\u001b[0m\u001b[0;34m:\u001b[0m\u001b[0;34m\u001b[0m\u001b[0m\n\u001b[0;32m--> 223\u001b[0;31m         \u001b[0;32mreturn\u001b[0m \u001b[0mself\u001b[0m\u001b[0;34m.\u001b[0m\u001b[0mrepresent_mapping\u001b[0m\u001b[0;34m(\u001b[0m\u001b[0;34mu'tag:yaml.org,2002:map'\u001b[0m\u001b[0;34m,\u001b[0m \u001b[0mdata\u001b[0m\u001b[0;34m)\u001b[0m\u001b[0;34m\u001b[0m\u001b[0m\n\u001b[0m\u001b[1;32m    224\u001b[0m \u001b[0;34m\u001b[0m\u001b[0m\n\u001b[1;32m    225\u001b[0m     \u001b[0;32mdef\u001b[0m \u001b[0mrepresent_set\u001b[0m\u001b[0;34m(\u001b[0m\u001b[0mself\u001b[0m\u001b[0;34m,\u001b[0m \u001b[0mdata\u001b[0m\u001b[0;34m)\u001b[0m\u001b[0;34m:\u001b[0m\u001b[0;34m\u001b[0m\u001b[0m\n",
      "\u001b[0;32m/mnt/home/ymm/.virtualenvs/kaggle/local/lib/python2.7/site-packages/yaml/representer.pyc\u001b[0m in \u001b[0;36mrepresent_mapping\u001b[0;34m(self, tag, mapping, flow_style)\u001b[0m\n\u001b[1;32m    121\u001b[0m         \u001b[0;32mfor\u001b[0m \u001b[0mitem_key\u001b[0m\u001b[0;34m,\u001b[0m \u001b[0mitem_value\u001b[0m \u001b[0;32min\u001b[0m \u001b[0mmapping\u001b[0m\u001b[0;34m:\u001b[0m\u001b[0;34m\u001b[0m\u001b[0m\n\u001b[1;32m    122\u001b[0m             \u001b[0mnode_key\u001b[0m \u001b[0;34m=\u001b[0m \u001b[0mself\u001b[0m\u001b[0;34m.\u001b[0m\u001b[0mrepresent_data\u001b[0m\u001b[0;34m(\u001b[0m\u001b[0mitem_key\u001b[0m\u001b[0;34m)\u001b[0m\u001b[0;34m\u001b[0m\u001b[0m\n\u001b[0;32m--> 123\u001b[0;31m             \u001b[0mnode_value\u001b[0m \u001b[0;34m=\u001b[0m \u001b[0mself\u001b[0m\u001b[0;34m.\u001b[0m\u001b[0mrepresent_data\u001b[0m\u001b[0;34m(\u001b[0m\u001b[0mitem_value\u001b[0m\u001b[0;34m)\u001b[0m\u001b[0;34m\u001b[0m\u001b[0m\n\u001b[0m\u001b[1;32m    124\u001b[0m             \u001b[0;32mif\u001b[0m \u001b[0;32mnot\u001b[0m \u001b[0;34m(\u001b[0m\u001b[0misinstance\u001b[0m\u001b[0;34m(\u001b[0m\u001b[0mnode_key\u001b[0m\u001b[0;34m,\u001b[0m \u001b[0mScalarNode\u001b[0m\u001b[0;34m)\u001b[0m \u001b[0;32mand\u001b[0m \u001b[0;32mnot\u001b[0m \u001b[0mnode_key\u001b[0m\u001b[0;34m.\u001b[0m\u001b[0mstyle\u001b[0m\u001b[0;34m)\u001b[0m\u001b[0;34m:\u001b[0m\u001b[0;34m\u001b[0m\u001b[0m\n\u001b[1;32m    125\u001b[0m                 \u001b[0mbest_style\u001b[0m \u001b[0;34m=\u001b[0m \u001b[0mFalse\u001b[0m\u001b[0;34m\u001b[0m\u001b[0m\n",
      "\u001b[0;32m/mnt/home/ymm/.virtualenvs/kaggle/local/lib/python2.7/site-packages/yaml/representer.pyc\u001b[0m in \u001b[0;36mrepresent_data\u001b[0;34m(self, data)\u001b[0m\n\u001b[1;32m     59\u001b[0m             \u001b[0;32mfor\u001b[0m \u001b[0mdata_type\u001b[0m \u001b[0;32min\u001b[0m \u001b[0mdata_types\u001b[0m\u001b[0;34m:\u001b[0m\u001b[0;34m\u001b[0m\u001b[0m\n\u001b[1;32m     60\u001b[0m                 \u001b[0;32mif\u001b[0m \u001b[0mdata_type\u001b[0m \u001b[0;32min\u001b[0m \u001b[0mself\u001b[0m\u001b[0;34m.\u001b[0m\u001b[0myaml_multi_representers\u001b[0m\u001b[0;34m:\u001b[0m\u001b[0;34m\u001b[0m\u001b[0m\n\u001b[0;32m---> 61\u001b[0;31m                     \u001b[0mnode\u001b[0m \u001b[0;34m=\u001b[0m \u001b[0mself\u001b[0m\u001b[0;34m.\u001b[0m\u001b[0myaml_multi_representers\u001b[0m\u001b[0;34m[\u001b[0m\u001b[0mdata_type\u001b[0m\u001b[0;34m]\u001b[0m\u001b[0;34m(\u001b[0m\u001b[0mself\u001b[0m\u001b[0;34m,\u001b[0m \u001b[0mdata\u001b[0m\u001b[0;34m)\u001b[0m\u001b[0;34m\u001b[0m\u001b[0m\n\u001b[0m\u001b[1;32m     62\u001b[0m                     \u001b[0;32mbreak\u001b[0m\u001b[0;34m\u001b[0m\u001b[0m\n\u001b[1;32m     63\u001b[0m             \u001b[0;32melse\u001b[0m\u001b[0;34m:\u001b[0m\u001b[0;34m\u001b[0m\u001b[0m\n",
      "\u001b[0;32m/mnt/home/ymm/.virtualenvs/kaggle/local/lib/python2.7/site-packages/yaml/representer.pyc\u001b[0m in \u001b[0;36mrepresent_object\u001b[0;34m(self, data)\u001b[0m\n\u001b[1;32m    435\u001b[0m         \u001b[0;32mif\u001b[0m \u001b[0;32mnot\u001b[0m \u001b[0mlistitems\u001b[0m \u001b[0;32mand\u001b[0m \u001b[0;32mnot\u001b[0m \u001b[0mdictitems\u001b[0m\u001b[0;31m \u001b[0m\u001b[0;31m \u001b[0m\u001b[0;31m\\\u001b[0m\u001b[0;34m\u001b[0m\u001b[0m\n\u001b[1;32m    436\u001b[0m                 \u001b[0;32mand\u001b[0m \u001b[0misinstance\u001b[0m\u001b[0;34m(\u001b[0m\u001b[0mstate\u001b[0m\u001b[0;34m,\u001b[0m \u001b[0mdict\u001b[0m\u001b[0;34m)\u001b[0m \u001b[0;32mand\u001b[0m \u001b[0;32mnot\u001b[0m \u001b[0mstate\u001b[0m\u001b[0;34m:\u001b[0m\u001b[0;34m\u001b[0m\u001b[0m\n\u001b[0;32m--> 437\u001b[0;31m             \u001b[0;32mreturn\u001b[0m \u001b[0mself\u001b[0m\u001b[0;34m.\u001b[0m\u001b[0mrepresent_sequence\u001b[0m\u001b[0;34m(\u001b[0m\u001b[0mtag\u001b[0m\u001b[0;34m+\u001b[0m\u001b[0mfunction_name\u001b[0m\u001b[0;34m,\u001b[0m \u001b[0margs\u001b[0m\u001b[0;34m)\u001b[0m\u001b[0;34m\u001b[0m\u001b[0m\n\u001b[0m\u001b[1;32m    438\u001b[0m         \u001b[0mvalue\u001b[0m \u001b[0;34m=\u001b[0m \u001b[0;34m{\u001b[0m\u001b[0;34m}\u001b[0m\u001b[0;34m\u001b[0m\u001b[0m\n\u001b[1;32m    439\u001b[0m         \u001b[0;32mif\u001b[0m \u001b[0margs\u001b[0m\u001b[0;34m:\u001b[0m\u001b[0;34m\u001b[0m\u001b[0m\n",
      "\u001b[0;32m/mnt/home/ymm/.virtualenvs/kaggle/local/lib/python2.7/site-packages/yaml/representer.pyc\u001b[0m in \u001b[0;36mrepresent_sequence\u001b[0;34m(self, tag, sequence, flow_style)\u001b[0m\n\u001b[1;32m     99\u001b[0m         \u001b[0mbest_style\u001b[0m \u001b[0;34m=\u001b[0m \u001b[0mTrue\u001b[0m\u001b[0;34m\u001b[0m\u001b[0m\n\u001b[1;32m    100\u001b[0m         \u001b[0;32mfor\u001b[0m \u001b[0mitem\u001b[0m \u001b[0;32min\u001b[0m \u001b[0msequence\u001b[0m\u001b[0;34m:\u001b[0m\u001b[0;34m\u001b[0m\u001b[0m\n\u001b[0;32m--> 101\u001b[0;31m             \u001b[0mnode_item\u001b[0m \u001b[0;34m=\u001b[0m \u001b[0mself\u001b[0m\u001b[0;34m.\u001b[0m\u001b[0mrepresent_data\u001b[0m\u001b[0;34m(\u001b[0m\u001b[0mitem\u001b[0m\u001b[0;34m)\u001b[0m\u001b[0;34m\u001b[0m\u001b[0m\n\u001b[0m\u001b[1;32m    102\u001b[0m             \u001b[0;32mif\u001b[0m \u001b[0;32mnot\u001b[0m \u001b[0;34m(\u001b[0m\u001b[0misinstance\u001b[0m\u001b[0;34m(\u001b[0m\u001b[0mnode_item\u001b[0m\u001b[0;34m,\u001b[0m \u001b[0mScalarNode\u001b[0m\u001b[0;34m)\u001b[0m \u001b[0;32mand\u001b[0m \u001b[0;32mnot\u001b[0m \u001b[0mnode_item\u001b[0m\u001b[0;34m.\u001b[0m\u001b[0mstyle\u001b[0m\u001b[0;34m)\u001b[0m\u001b[0;34m:\u001b[0m\u001b[0;34m\u001b[0m\u001b[0m\n\u001b[1;32m    103\u001b[0m                 \u001b[0mbest_style\u001b[0m \u001b[0;34m=\u001b[0m \u001b[0mFalse\u001b[0m\u001b[0;34m\u001b[0m\u001b[0m\n",
      "\u001b[0;32m/mnt/home/ymm/.virtualenvs/kaggle/local/lib/python2.7/site-packages/yaml/representer.pyc\u001b[0m in \u001b[0;36mrepresent_data\u001b[0;34m(self, data)\u001b[0m\n\u001b[1;32m     39\u001b[0m \u001b[0;34m\u001b[0m\u001b[0m\n\u001b[1;32m     40\u001b[0m     \u001b[0;32mdef\u001b[0m \u001b[0mrepresent_data\u001b[0m\u001b[0;34m(\u001b[0m\u001b[0mself\u001b[0m\u001b[0;34m,\u001b[0m \u001b[0mdata\u001b[0m\u001b[0;34m)\u001b[0m\u001b[0;34m:\u001b[0m\u001b[0;34m\u001b[0m\u001b[0m\n\u001b[0;32m---> 41\u001b[0;31m         \u001b[0;32mif\u001b[0m \u001b[0mself\u001b[0m\u001b[0;34m.\u001b[0m\u001b[0mignore_aliases\u001b[0m\u001b[0;34m(\u001b[0m\u001b[0mdata\u001b[0m\u001b[0;34m)\u001b[0m\u001b[0;34m:\u001b[0m\u001b[0;34m\u001b[0m\u001b[0m\n\u001b[0m\u001b[1;32m     42\u001b[0m             \u001b[0mself\u001b[0m\u001b[0;34m.\u001b[0m\u001b[0malias_key\u001b[0m \u001b[0;34m=\u001b[0m \u001b[0mNone\u001b[0m\u001b[0;34m\u001b[0m\u001b[0m\n\u001b[1;32m     43\u001b[0m         \u001b[0;32melse\u001b[0m\u001b[0;34m:\u001b[0m\u001b[0;34m\u001b[0m\u001b[0m\n",
      "\u001b[0;32m/mnt/home/ymm/.virtualenvs/kaggle/local/lib/python2.7/site-packages/yaml/representer.pyc\u001b[0m in \u001b[0;36mignore_aliases\u001b[0;34m(self, data)\u001b[0m\n\u001b[1;32m    140\u001b[0m \u001b[0;34m\u001b[0m\u001b[0m\n\u001b[1;32m    141\u001b[0m     \u001b[0;32mdef\u001b[0m \u001b[0mignore_aliases\u001b[0m\u001b[0;34m(\u001b[0m\u001b[0mself\u001b[0m\u001b[0;34m,\u001b[0m \u001b[0mdata\u001b[0m\u001b[0;34m)\u001b[0m\u001b[0;34m:\u001b[0m\u001b[0;34m\u001b[0m\u001b[0m\n\u001b[0;32m--> 142\u001b[0;31m         \u001b[0;32mif\u001b[0m \u001b[0mdata\u001b[0m \u001b[0;32min\u001b[0m \u001b[0;34m[\u001b[0m\u001b[0mNone\u001b[0m\u001b[0;34m,\u001b[0m \u001b[0;34m(\u001b[0m\u001b[0;34m)\u001b[0m\u001b[0;34m]\u001b[0m\u001b[0;34m:\u001b[0m\u001b[0;34m\u001b[0m\u001b[0m\n\u001b[0m\u001b[1;32m    143\u001b[0m             \u001b[0;32mreturn\u001b[0m \u001b[0mTrue\u001b[0m\u001b[0;34m\u001b[0m\u001b[0m\n\u001b[1;32m    144\u001b[0m         \u001b[0;32mif\u001b[0m \u001b[0misinstance\u001b[0m\u001b[0;34m(\u001b[0m\u001b[0mdata\u001b[0m\u001b[0;34m,\u001b[0m \u001b[0;34m(\u001b[0m\u001b[0mstr\u001b[0m\u001b[0;34m,\u001b[0m \u001b[0municode\u001b[0m\u001b[0;34m,\u001b[0m \u001b[0mbool\u001b[0m\u001b[0;34m,\u001b[0m \u001b[0mint\u001b[0m\u001b[0;34m,\u001b[0m \u001b[0mfloat\u001b[0m\u001b[0;34m)\u001b[0m\u001b[0;34m)\u001b[0m\u001b[0;34m:\u001b[0m\u001b[0;34m\u001b[0m\u001b[0m\n",
      "\u001b[0;31mTypeError\u001b[0m: data type not understood"
     ]
    }
   ],
   "source": [
    "import yaml\n",
    "with open('tmp.yml', 'w') as yml_stream:\n",
    "    yaml.dump(aa['0'], yml_stream, default_flow_style=False)"
   ]
  },
  {
   "cell_type": "code",
   "execution_count": 57,
   "metadata": {
    "collapsed": false
   },
   "outputs": [
    {
     "data": {
      "text/plain": [
       "\"\\n## 3 bins data\\nproject_yml_path    = '/mnt/home/ymm/kaggle/compete/current'\\ndata_path           = '/home/ymm/kaggle/bosch_data/bosch_complete_processed_3_bins_data'\\ndata_yaml_file      = 'complete_subset_data_3_bins_dict.yml'\\n\""
      ]
     },
     "execution_count": 57,
     "metadata": {},
     "output_type": "execute_result"
    }
   ],
   "source": [
    "import numpy as np\n",
    "import os, sys, time\n",
    "import yaml\n",
    "import cPickle as pickle\n",
    "\n",
    "sys.path.append('/home/ymm/kaggle/xgboost_hyperopt')\n",
    "from utils.bosch_functions import load_processed_bosch_data\n",
    "from utils.utils_functions import print_colors\n",
    "from utils.models import CombinedModel\n",
    "from utils.validation_tools import score_MCC, MCC, create_validation_index, cross_validate_model\n",
    "\n",
    "dep_var_name = 'Response'\n",
    "tot_bins = [str(x) for x in range(15)] + ['NaN']\n",
    "\n",
    "## 15 bins data\n",
    "project_yml_path    = '/mnt/home/ymm/kaggle/compete/current'\n",
    "data_path           = '/home/ymm/kaggle/bosch_data/bosch_complete_processed_15_bins_data'\n",
    "data_yaml_file      = 'bosch_processed_data_dict.yml'\n",
    "\n",
    "'''\n",
    "## 3 bins data\n",
    "project_yml_path    = '/mnt/home/ymm/kaggle/compete/current'\n",
    "data_path           = '/home/ymm/kaggle/bosch_data/bosch_complete_processed_3_bins_data'\n",
    "data_yaml_file      = 'complete_subset_data_3_bins_dict.yml'\n",
    "'''"
   ]
  },
  {
   "cell_type": "code",
   "execution_count": null,
   "metadata": {
    "collapsed": true
   },
   "outputs": [],
   "source": []
  },
  {
   "cell_type": "code",
   "execution_count": null,
   "metadata": {
    "collapsed": true
   },
   "outputs": [],
   "source": []
  },
  {
   "cell_type": "code",
   "execution_count": null,
   "metadata": {
    "collapsed": true
   },
   "outputs": [],
   "source": []
  },
  {
   "cell_type": "code",
   "execution_count": null,
   "metadata": {
    "collapsed": true
   },
   "outputs": [],
   "source": []
  },
  {
   "cell_type": "code",
   "execution_count": 62,
   "metadata": {
    "collapsed": false
   },
   "outputs": [
    {
     "name": "stdout",
     "output_type": "stream",
     "text": [
      "loading bosch data from  /home/ymm/kaggle/bosch_data/bosch_complete_processed_15_bins_data\n"
     ]
    }
   ],
   "source": [
    "bin_index = '1'\n",
    "train, test  = load_processed_bosch_data(data_path, data_yaml_file, data_index = bin_index, load_test=True)"
   ]
  },
  {
   "cell_type": "code",
   "execution_count": 64,
   "metadata": {
    "collapsed": false
   },
   "outputs": [
    {
     "name": "stdout",
     "output_type": "stream",
     "text": [
      "(44930, 1747)\n"
     ]
    }
   ],
   "source": [
    "print train.shape"
   ]
  },
  {
   "cell_type": "code",
   "execution_count": 135,
   "metadata": {
    "collapsed": true
   },
   "outputs": [],
   "source": [
    "labels = train[dep_var_name]\n",
    "\n",
    "negative_index = train.index[labels == 0].tolist()\n",
    "positive_index = train.index[labels == 1].tolist()"
   ]
  },
  {
   "cell_type": "code",
   "execution_count": 123,
   "metadata": {
    "collapsed": false
   },
   "outputs": [],
   "source": [
    "from random import shuffle\n",
    "slice_num = 10\n",
    "shuffle(negative_index)\n",
    "index_list = [int(1.*i/slice_num*len(negative_index)) for i in range(slice_num)]\n",
    "index_list.append(len(negative_index))"
   ]
  },
  {
   "cell_type": "code",
   "execution_count": 124,
   "metadata": {
    "collapsed": false
   },
   "outputs": [
    {
     "data": {
      "text/plain": [
       "[0, 4461, 8922, 13383, 17845, 22306, 26767, 31229, 35690, 40151, 44613]"
      ]
     },
     "execution_count": 124,
     "metadata": {},
     "output_type": "execute_result"
    }
   ],
   "source": [
    "index_list"
   ]
  },
  {
   "cell_type": "code",
   "execution_count": 139,
   "metadata": {
    "collapsed": false
   },
   "outputs": [
    {
     "data": {
      "text/plain": [
       "317"
      ]
     },
     "execution_count": 139,
     "metadata": {},
     "output_type": "execute_result"
    }
   ],
   "source": [
    "len(positive_index)"
   ]
  },
  {
   "cell_type": "code",
   "execution_count": 138,
   "metadata": {
    "collapsed": false,
    "scrolled": false
   },
   "outputs": [
    {
     "name": "stdout",
     "output_type": "stream",
     "text": [
      "final len: 4778\n",
      "final len: 4778\n",
      "final len: 4778\n",
      "final len: 4779\n",
      "final len: 4778\n",
      "final len: 4778\n",
      "final len: 4779\n",
      "final len: 4778\n",
      "final len: 4778\n",
      "final len: 4779\n"
     ]
    }
   ],
   "source": [
    "for i in range(slice_num):\n",
    "    data_index = positive_index[:]\n",
    "    #print 'curr len:', len(data_index)\n",
    "    #print 'tot pos:', len(data_index)\n",
    "    #print 'index diff:', index_list[i+1] - index_list[i]\n",
    "    tmp_negative_index = negative_index[index_list[i]:index_list[i+1]]\n",
    "    #print 'tmp neg:', len(tmp_negative_index)\n",
    "    data_index.extend(tmp_negative_index)\n",
    "    print 'final len:', len(data_index)"
   ]
  },
  {
   "cell_type": "code",
   "execution_count": 97,
   "metadata": {
    "collapsed": false
   },
   "outputs": [
    {
     "data": {
      "text/plain": [
       "[0, 4461, 8922, 13383, 17845, 22306, 26767, 31229, 35690, 40151]"
      ]
     },
     "execution_count": 97,
     "metadata": {},
     "output_type": "execute_result"
    }
   ],
   "source": [
    "index_list"
   ]
  },
  {
   "cell_type": "code",
   "execution_count": 84,
   "metadata": {
    "collapsed": false
   },
   "outputs": [],
   "source": [
    "tmp_index = tmp_index_1.append(tmp_index_2)"
   ]
  },
  {
   "cell_type": "code",
   "execution_count": 85,
   "metadata": {
    "collapsed": false
   },
   "outputs": [
    {
     "data": {
      "text/plain": [
       "Int64Index([70, 78, 174, 206, 208, 226, 325, 355, 368, 396], dtype='int64', name=u'Id')"
      ]
     },
     "execution_count": 85,
     "metadata": {},
     "output_type": "execute_result"
    }
   ],
   "source": [
    "tmp_index"
   ]
  },
  {
   "cell_type": "code",
   "execution_count": 81,
   "metadata": {
    "collapsed": false
   },
   "outputs": [
    {
     "ename": "TypeError",
     "evalue": "cannot concatenate a non-NDFrame object",
     "output_type": "error",
     "traceback": [
      "\u001b[0;31m---------------------------------------------------------------------------\u001b[0m",
      "\u001b[0;31mTypeError\u001b[0m                                 Traceback (most recent call last)",
      "\u001b[0;32m<ipython-input-81-c00753129260>\u001b[0m in \u001b[0;36m<module>\u001b[0;34m()\u001b[0m\n\u001b[0;32m----> 1\u001b[0;31m \u001b[0mtmp_index\u001b[0m \u001b[0;34m=\u001b[0m \u001b[0mpd\u001b[0m\u001b[0;34m.\u001b[0m\u001b[0mconcat\u001b[0m\u001b[0;34m(\u001b[0m\u001b[0mtmp_index_1\u001b[0m\u001b[0;34m,\u001b[0m \u001b[0mtmp_index_2\u001b[0m\u001b[0;34m)\u001b[0m\u001b[0;34m\u001b[0m\u001b[0m\n\u001b[0m",
      "\u001b[0;32m/mnt/home/ymm/.virtualenvs/kaggle/local/lib/python2.7/site-packages/pandas/tools/merge.pyc\u001b[0m in \u001b[0;36mconcat\u001b[0;34m(objs, axis, join, join_axes, ignore_index, keys, levels, names, verify_integrity, copy)\u001b[0m\n\u001b[1;32m    843\u001b[0m                        \u001b[0mkeys\u001b[0m\u001b[0;34m=\u001b[0m\u001b[0mkeys\u001b[0m\u001b[0;34m,\u001b[0m \u001b[0mlevels\u001b[0m\u001b[0;34m=\u001b[0m\u001b[0mlevels\u001b[0m\u001b[0;34m,\u001b[0m \u001b[0mnames\u001b[0m\u001b[0;34m=\u001b[0m\u001b[0mnames\u001b[0m\u001b[0;34m,\u001b[0m\u001b[0;34m\u001b[0m\u001b[0m\n\u001b[1;32m    844\u001b[0m                        \u001b[0mverify_integrity\u001b[0m\u001b[0;34m=\u001b[0m\u001b[0mverify_integrity\u001b[0m\u001b[0;34m,\u001b[0m\u001b[0;34m\u001b[0m\u001b[0m\n\u001b[0;32m--> 845\u001b[0;31m                        copy=copy)\n\u001b[0m\u001b[1;32m    846\u001b[0m     \u001b[0;32mreturn\u001b[0m \u001b[0mop\u001b[0m\u001b[0;34m.\u001b[0m\u001b[0mget_result\u001b[0m\u001b[0;34m(\u001b[0m\u001b[0;34m)\u001b[0m\u001b[0;34m\u001b[0m\u001b[0m\n\u001b[1;32m    847\u001b[0m \u001b[0;34m\u001b[0m\u001b[0m\n",
      "\u001b[0;32m/mnt/home/ymm/.virtualenvs/kaggle/local/lib/python2.7/site-packages/pandas/tools/merge.pyc\u001b[0m in \u001b[0;36m__init__\u001b[0;34m(self, objs, axis, join, join_axes, keys, levels, names, ignore_index, verify_integrity, copy)\u001b[0m\n\u001b[1;32m    899\u001b[0m         \u001b[0;32mfor\u001b[0m \u001b[0mobj\u001b[0m \u001b[0;32min\u001b[0m \u001b[0mobjs\u001b[0m\u001b[0;34m:\u001b[0m\u001b[0;34m\u001b[0m\u001b[0m\n\u001b[1;32m    900\u001b[0m             \u001b[0;32mif\u001b[0m \u001b[0;32mnot\u001b[0m \u001b[0misinstance\u001b[0m\u001b[0;34m(\u001b[0m\u001b[0mobj\u001b[0m\u001b[0;34m,\u001b[0m \u001b[0mNDFrame\u001b[0m\u001b[0;34m)\u001b[0m\u001b[0;34m:\u001b[0m\u001b[0;34m\u001b[0m\u001b[0m\n\u001b[0;32m--> 901\u001b[0;31m                 \u001b[0;32mraise\u001b[0m \u001b[0mTypeError\u001b[0m\u001b[0;34m(\u001b[0m\u001b[0;34m\"cannot concatenate a non-NDFrame object\"\u001b[0m\u001b[0;34m)\u001b[0m\u001b[0;34m\u001b[0m\u001b[0m\n\u001b[0m\u001b[1;32m    902\u001b[0m \u001b[0;34m\u001b[0m\u001b[0m\n\u001b[1;32m    903\u001b[0m             \u001b[0;31m# consolidate\u001b[0m\u001b[0;34m\u001b[0m\u001b[0;34m\u001b[0m\u001b[0m\n",
      "\u001b[0;31mTypeError\u001b[0m: cannot concatenate a non-NDFrame object"
     ]
    }
   ],
   "source": [
    "tmp_index = pd.concat(tmp_index_1, tmp_index_2)"
   ]
  },
  {
   "cell_type": "code",
   "execution_count": 80,
   "metadata": {
    "collapsed": false
   },
   "outputs": [
    {
     "data": {
      "text/plain": [
       "5"
      ]
     },
     "execution_count": 80,
     "metadata": {},
     "output_type": "execute_result"
    }
   ],
   "source": [
    "len(tmp_index)"
   ]
  },
  {
   "cell_type": "code",
   "execution_count": 72,
   "metadata": {
    "collapsed": false
   },
   "outputs": [
    {
     "data": {
      "text/plain": [
       "Id\n",
       "70     0\n",
       "78     0\n",
       "174    0\n",
       "206    0\n",
       "208    0\n",
       "Name: Response, dtype: int64"
      ]
     },
     "execution_count": 72,
     "metadata": {},
     "output_type": "execute_result"
    }
   ],
   "source": [
    "labels[tmp_index]"
   ]
  },
  {
   "cell_type": "code",
   "execution_count": null,
   "metadata": {
    "collapsed": true
   },
   "outputs": [],
   "source": []
  },
  {
   "cell_type": "code",
   "execution_count": 95,
   "metadata": {
    "collapsed": true
   },
   "outputs": [],
   "source": [
    "\n",
    "import pandas as pd\n",
    "import numpy as np\n",
    "import os, sys, time\n",
    "import yaml\n",
    "from sklearn.metrics import matthews_corrcoef\n",
    "from sklearn.ensemble import ExtraTreesClassifier\n",
    "\n",
    "\n",
    "project_path = '/mnt/home/ymm/kaggle/compete/current'\n",
    "data_path = '/mnt/home/ymm/kaggle/bosch_data/bosch_complete_processed_data'\n",
    "#data_path = '/mnt/home/ymm/kaggle/bosch_processed_data'"
   ]
  },
  {
   "cell_type": "code",
   "execution_count": null,
   "metadata": {
    "collapsed": true
   },
   "outputs": [],
   "source": []
  },
  {
   "cell_type": "code",
   "execution_count": null,
   "metadata": {
    "collapsed": true
   },
   "outputs": [],
   "source": []
  },
  {
   "cell_type": "code",
   "execution_count": 10,
   "metadata": {
    "collapsed": true
   },
   "outputs": [],
   "source": [
    "import pandas as pd\n",
    "import os, sys, time\n",
    "from os.path import isfile, join"
   ]
  },
  {
   "cell_type": "code",
   "execution_count": 41,
   "metadata": {
    "collapsed": true
   },
   "outputs": [],
   "source": [
    "data_path ='/mnt/home/ymm/kaggle/xgboost_hyperopt/tests/data_16_bins_results'"
   ]
  },
  {
   "cell_type": "code",
   "execution_count": 42,
   "metadata": {
    "collapsed": false
   },
   "outputs": [],
   "source": [
    "csv_files = [f for f in os.listdir(data_path) if isfile(join(data_path, f)) and 'results' in f]"
   ]
  },
  {
   "cell_type": "code",
   "execution_count": 43,
   "metadata": {
    "collapsed": false
   },
   "outputs": [
    {
     "data": {
      "text/plain": [
       "['bosch_results_data_bin_8.csv',\n",
       " 'bosch_results_data_bin_5.csv',\n",
       " 'bosch_results_data_bin_0.csv',\n",
       " 'bosch_results_data_bin_6.csv',\n",
       " 'bosch_results_data_bin_3.csv',\n",
       " 'bosch_results_data_bin_9.csv',\n",
       " 'bosch_results_data_bin_14.csv',\n",
       " 'bosch_results_data_bin_4.csv',\n",
       " 'bosch_results_data_bin_NaN.csv',\n",
       " 'bosch_results_data_bin_11.csv',\n",
       " 'bosch_results_data_bin_2.csv',\n",
       " 'bosch_results_data_bin_1.csv',\n",
       " 'bosch_results_data_bin_12.csv',\n",
       " 'bosch_results_data_bin_7.csv',\n",
       " 'bosch_results_data_bin_13.csv',\n",
       " 'bosch_results_data_bin_10.csv']"
      ]
     },
     "execution_count": 43,
     "metadata": {},
     "output_type": "execute_result"
    }
   ],
   "source": [
    "csv_files"
   ]
  },
  {
   "cell_type": "code",
   "execution_count": 44,
   "metadata": {
    "collapsed": false
   },
   "outputs": [],
   "source": [
    "#csv_files = [f for f in all_csv_files if 'results' in f]\n",
    "submission_sample_file = 'sample_submission.csv' \n",
    "submission_sample = pd.read_csv(join(data_path, submission_sample_file), index_col='Id')"
   ]
  },
  {
   "cell_type": "code",
   "execution_count": 45,
   "metadata": {
    "collapsed": false
   },
   "outputs": [
    {
     "name": "stdout",
     "output_type": "stream",
     "text": [
      "(1183748, 1)\n"
     ]
    },
    {
     "data": {
      "text/html": [
       "<div>\n",
       "<table border=\"1\" class=\"dataframe\">\n",
       "  <thead>\n",
       "    <tr style=\"text-align: right;\">\n",
       "      <th></th>\n",
       "      <th>Response</th>\n",
       "    </tr>\n",
       "    <tr>\n",
       "      <th>Id</th>\n",
       "      <th></th>\n",
       "    </tr>\n",
       "  </thead>\n",
       "  <tbody>\n",
       "    <tr>\n",
       "      <th>1</th>\n",
       "      <td>0</td>\n",
       "    </tr>\n",
       "    <tr>\n",
       "      <th>2</th>\n",
       "      <td>0</td>\n",
       "    </tr>\n",
       "    <tr>\n",
       "      <th>3</th>\n",
       "      <td>0</td>\n",
       "    </tr>\n",
       "    <tr>\n",
       "      <th>5</th>\n",
       "      <td>0</td>\n",
       "    </tr>\n",
       "    <tr>\n",
       "      <th>8</th>\n",
       "      <td>0</td>\n",
       "    </tr>\n",
       "    <tr>\n",
       "      <th>10</th>\n",
       "      <td>0</td>\n",
       "    </tr>\n",
       "    <tr>\n",
       "      <th>12</th>\n",
       "      <td>0</td>\n",
       "    </tr>\n",
       "    <tr>\n",
       "      <th>15</th>\n",
       "      <td>0</td>\n",
       "    </tr>\n",
       "    <tr>\n",
       "      <th>17</th>\n",
       "      <td>0</td>\n",
       "    </tr>\n",
       "    <tr>\n",
       "      <th>19</th>\n",
       "      <td>0</td>\n",
       "    </tr>\n",
       "  </tbody>\n",
       "</table>\n",
       "</div>"
      ],
      "text/plain": [
       "    Response\n",
       "Id          \n",
       "1          0\n",
       "2          0\n",
       "3          0\n",
       "5          0\n",
       "8          0\n",
       "10         0\n",
       "12         0\n",
       "15         0\n",
       "17         0\n",
       "19         0"
      ]
     },
     "execution_count": 45,
     "metadata": {},
     "output_type": "execute_result"
    }
   ],
   "source": [
    "print submission_sample.shape\n",
    "submission_sample.head(10)"
   ]
  },
  {
   "cell_type": "code",
   "execution_count": 46,
   "metadata": {
    "collapsed": false
   },
   "outputs": [
    {
     "data": {
      "text/plain": [
       "Int64Index([      1,       2,       3,       5,       8,      10,      12,\n",
       "                 15,      17,      19,\n",
       "            ...\n",
       "            2367475, 2367477, 2367479, 2367481, 2367482, 2367483, 2367485,\n",
       "            2367486, 2367489, 2367494],\n",
       "           dtype='int64', name=u'Id', length=1183748)"
      ]
     },
     "execution_count": 46,
     "metadata": {},
     "output_type": "execute_result"
    }
   ],
   "source": [
    "submission_sample.index"
   ]
  },
  {
   "cell_type": "code",
   "execution_count": 47,
   "metadata": {
    "collapsed": false
   },
   "outputs": [],
   "source": [
    "results = pd.DataFrame()\n",
    "for csv_file in csv_files:\n",
    "    res = pd.read_csv(join(data_path, csv_file), index_col=0)\n",
    "    results = pd.concat([results, res])"
   ]
  },
  {
   "cell_type": "code",
   "execution_count": 52,
   "metadata": {
    "collapsed": false
   },
   "outputs": [
    {
     "data": {
      "text/plain": [
       "{1, 5, 10, 12, 15, 21, 22, 24, 25, 29, 33, 37, 50, 62, 114, 158}"
      ]
     },
     "execution_count": 52,
     "metadata": {},
     "output_type": "execute_result"
    }
   ],
   "source": [
    "set(submission_sample.index) - set(results.index)"
   ]
  },
  {
   "cell_type": "code",
   "execution_count": 51,
   "metadata": {
    "collapsed": false
   },
   "outputs": [
    {
     "name": "stdout",
     "output_type": "stream",
     "text": [
      "(1183732, 1)\n"
     ]
    },
    {
     "data": {
      "text/html": [
       "<div>\n",
       "<table border=\"1\" class=\"dataframe\">\n",
       "  <thead>\n",
       "    <tr style=\"text-align: right;\">\n",
       "      <th></th>\n",
       "      <th>0.0</th>\n",
       "    </tr>\n",
       "  </thead>\n",
       "  <tbody>\n",
       "    <tr>\n",
       "      <th>241</th>\n",
       "      <td>0.0</td>\n",
       "    </tr>\n",
       "    <tr>\n",
       "      <th>253</th>\n",
       "      <td>0.0</td>\n",
       "    </tr>\n",
       "    <tr>\n",
       "      <th>291</th>\n",
       "      <td>0.0</td>\n",
       "    </tr>\n",
       "    <tr>\n",
       "      <th>530</th>\n",
       "      <td>0.0</td>\n",
       "    </tr>\n",
       "    <tr>\n",
       "      <th>563</th>\n",
       "      <td>0.0</td>\n",
       "    </tr>\n",
       "    <tr>\n",
       "      <th>579</th>\n",
       "      <td>0.0</td>\n",
       "    </tr>\n",
       "    <tr>\n",
       "      <th>595</th>\n",
       "      <td>0.0</td>\n",
       "    </tr>\n",
       "    <tr>\n",
       "      <th>606</th>\n",
       "      <td>0.0</td>\n",
       "    </tr>\n",
       "    <tr>\n",
       "      <th>686</th>\n",
       "      <td>0.0</td>\n",
       "    </tr>\n",
       "    <tr>\n",
       "      <th>690</th>\n",
       "      <td>0.0</td>\n",
       "    </tr>\n",
       "  </tbody>\n",
       "</table>\n",
       "</div>"
      ],
      "text/plain": [
       "     0.0\n",
       "241  0.0\n",
       "253  0.0\n",
       "291  0.0\n",
       "530  0.0\n",
       "563  0.0\n",
       "579  0.0\n",
       "595  0.0\n",
       "606  0.0\n",
       "686  0.0\n",
       "690  0.0"
      ]
     },
     "execution_count": 51,
     "metadata": {},
     "output_type": "execute_result"
    }
   ],
   "source": [
    "print results.shape\n",
    "results.head(10)"
   ]
  },
  {
   "cell_type": "code",
   "execution_count": 3,
   "metadata": {
    "collapsed": false,
    "scrolled": true
   },
   "outputs": [
    {
     "name": "stdout",
     "output_type": "stream",
     "text": [
      "loading data from  /mnt/home/ymm/kaggle/bosch_data/bosch_complete_processed_data/processed_totBins_16_bin_0_train.csv\n"
     ]
    }
   ],
   "source": [
    "data_index = '0'\n",
    "data_file = os.path.join(data_path, data_dict[data_index]['train_file'])\n",
    "print 'loading data from ', data_file\n",
    "train = pd.read_csv(data_file, index_col='Id')\n",
    "#train = pd.read_csv(data_file, index_col='Id', nrows=1000)"
   ]
  },
  {
   "cell_type": "code",
   "execution_count": 53,
   "metadata": {
    "collapsed": true
   },
   "outputs": [],
   "source": [
    "sys.path.append('/home/ymm/kaggle/xgboost_hyperopt')\n",
    "import utils\n",
    "#from utils.wrapped_xgboost import xgboost_classifier\n",
    "from utils.models import RandomForestModel, ExtraTreeModel\n",
    "from utils.validation_tools import cross_validate_model, score_MCC"
   ]
  },
  {
   "cell_type": "code",
   "execution_count": 5,
   "metadata": {
    "collapsed": false
   },
   "outputs": [],
   "source": [
    "#reload(utils.models)\n",
    "#dir(utils.models)\n",
    "#reload(utils.validation_tools)\n",
    "#reload(utils.wrapped_xgboost)\n",
    "#dir(utils.wrapped_xgboost)"
   ]
  },
  {
   "cell_type": "code",
   "execution_count": 5,
   "metadata": {
    "collapsed": false,
    "scrolled": true
   },
   "outputs": [],
   "source": [
    "## for other sk-learn models\n",
    "dep_var_name = 'Response'\n",
    "## not to separate the dep_var from data\n",
    "#train_label = train[dep_var_name]\n",
    "#train.drop(dep_var_name, axis=1, inplace=True)"
   ]
  },
  {
   "cell_type": "code",
   "execution_count": 60,
   "metadata": {
    "collapsed": true
   },
   "outputs": [],
   "source": [
    "data = pd.read_csv('../kaggle/compete/current/combined_model/tmp.csv', index_col='Id')"
   ]
  },
  {
   "cell_type": "code",
   "execution_count": 66,
   "metadata": {
    "collapsed": false
   },
   "outputs": [],
   "source": [
    "aa = data.sum(axis=1)"
   ]
  },
  {
   "cell_type": "code",
   "execution_count": 70,
   "metadata": {
    "collapsed": false
   },
   "outputs": [
    {
     "data": {
      "text/plain": [
       "(8984,)"
      ]
     },
     "execution_count": 70,
     "metadata": {},
     "output_type": "execute_result"
    }
   ],
   "source": [
    "aa.shape"
   ]
  },
  {
   "cell_type": "code",
   "execution_count": 43,
   "metadata": {
    "collapsed": false
   },
   "outputs": [],
   "source": [
    "res_df = data.loc[:, data.columns != 'valid_label']"
   ]
  },
  {
   "cell_type": "code",
   "execution_count": 9,
   "metadata": {
    "collapsed": false
   },
   "outputs": [],
   "source": [
    "rf_params = {'n_estimators' : 100, 'max_depth' : 5, 'random_state' : 0}\n",
    "rf_model = RandomForestModel(rf_params)\n",
    "#rf_model = ExtraTreeModel(rf_params)"
   ]
  },
  {
   "cell_type": "code",
   "execution_count": null,
   "metadata": {
    "collapsed": true
   },
   "outputs": [],
   "source": []
  },
  {
   "cell_type": "code",
   "execution_count": null,
   "metadata": {
    "collapsed": true
   },
   "outputs": [],
   "source": []
  },
  {
   "cell_type": "code",
   "execution_count": null,
   "metadata": {
    "collapsed": true
   },
   "outputs": [],
   "source": []
  },
  {
   "cell_type": "code",
   "execution_count": 1,
   "metadata": {
    "collapsed": false
   },
   "outputs": [
    {
     "name": "stdout",
     "output_type": "stream",
     "text": [
      "loading bosch data from  /mnt/home/ymm/kaggle/bosch_data/bosch_complete_processed_data/processed_totBins_16_bin_0_train.csv\n",
      "finished training model indexed 0 from combined model\n",
      "finished training model indexed 1 from combined model\n",
      "finished training model indexed 2 from combined model\n"
     ]
    }
   ],
   "source": [
    "import pandas as pd\n",
    "import numpy as np\n",
    "import os, sys, time\n",
    "import yaml\n",
    "\n",
    "sys.path.append('/home/ymm/kaggle/xgboost_hyperopt')\n",
    "from utils.bosch_functions import load_processed_bosch_data\n",
    "from utils.models import CombinedModel\n",
    "from utils.validation_tools import score_MCC, create_validation_index, cross_validate_model\n",
    "\n",
    "dep_var_name = 'Response'\n",
    "raw_models_yaml_file = 'raw_combined_models.yml'\n",
    "trained_model_yaml_file = 'trained_combined_model.yml'\n",
    "project_path = '/mnt/home/ymm/kaggle/compete/current/combined_model'\n",
    "trained_model_yaml_file = 'trained_combined_model.yml'\n",
    "\n",
    "## load training data\n",
    "project_yml_path = '/mnt/home/ymm/kaggle/compete/current'\n",
    "data_path = '/mnt/home/ymm/kaggle/bosch_data/bosch_complete_processed_data'\n",
    "data_yaml_file = 'bosch_processed_data_dict.yml'\n",
    "\n",
    "train = load_processed_bosch_data(data_path, project_yml_path, data_yaml_file, data_index='0')\n",
    "train_index, valid_index = create_validation_index(train, 0.2, dep_var_name, True)  \n",
    "valid_data = train.ix[valid_index]\n",
    "tmp_train  = train.ix[train_index]\n",
    "\n",
    "## train the comined model\n",
    "combined_model_params = {}\n",
    "combined_model_params['raw_models_yaml_file'] = raw_models_yaml_file\n",
    "combined_model_params['project_path'] = project_path\n",
    "combined_model_params['models_yaml_file'] = trained_model_yaml_file\n",
    "\n",
    "combined_model = CombinedModel(combined_model_params)\n",
    "\n",
    "\n",
    "## regular fit and predict\n",
    "combined_model.fit(tmp_train, dep_var_name)\n",
    "pred_df = combined_model.predict(valid_data)\n",
    "#pred_df.to_csv('tmp.csv')\n"
   ]
  },
  {
   "cell_type": "code",
   "execution_count": 2,
   "metadata": {
    "collapsed": true
   },
   "outputs": [],
   "source": [
    "valid_label = valid_data[dep_var_name]"
   ]
  },
  {
   "cell_type": "code",
   "execution_count": 5,
   "metadata": {
    "collapsed": false,
    "scrolled": true
   },
   "outputs": [
    {
     "data": {
      "text/plain": [
       "25"
      ]
     },
     "execution_count": 5,
     "metadata": {},
     "output_type": "execute_result"
    }
   ],
   "source": [
    "valid_label.sum()"
   ]
  },
  {
   "cell_type": "code",
   "execution_count": 36,
   "metadata": {
    "collapsed": false
   },
   "outputs": [
    {
     "name": "stdout",
     "output_type": "stream",
     "text": [
      "(8984,)\n"
     ]
    },
    {
     "data": {
      "text/plain": [
       "Id\n",
       "33170     0\n",
       "172894    0\n",
       "178631    0\n",
       "336593    0\n",
       "256644    0\n",
       "99443     0\n",
       "44367     0\n",
       "179958    0\n",
       "383400    0\n",
       "366442    0\n",
       "Name: Response, dtype: int64"
      ]
     },
     "execution_count": 36,
     "metadata": {},
     "output_type": "execute_result"
    }
   ],
   "source": [
    "print valid_label.shape\n",
    "valid_label[0:10]"
   ]
  },
  {
   "cell_type": "code",
   "execution_count": 37,
   "metadata": {
    "collapsed": false
   },
   "outputs": [
    {
     "name": "stdout",
     "output_type": "stream",
     "text": [
      "(8984,)\n"
     ]
    },
    {
     "data": {
      "text/plain": [
       "0    0.008955\n",
       "1    0.007676\n",
       "2    0.008934\n",
       "3    0.009692\n",
       "4    0.008714\n",
       "5    0.007840\n",
       "6    0.014090\n",
       "7    0.007601\n",
       "8    0.007621\n",
       "9    0.007360\n",
       "dtype: float64"
      ]
     },
     "execution_count": 37,
     "metadata": {},
     "output_type": "execute_result"
    }
   ],
   "source": [
    "print pred_df.shape\n",
    "pred_df[0:10]"
   ]
  },
  {
   "cell_type": "code",
   "execution_count": 4,
   "metadata": {
    "collapsed": false,
    "scrolled": true
   },
   "outputs": [
    {
     "data": {
      "text/plain": [
       "0.15765598839156222"
      ]
     },
     "execution_count": 4,
     "metadata": {},
     "output_type": "execute_result"
    }
   ],
   "source": [
    "score_MCC(valid_label, pred_df)"
   ]
  },
  {
   "cell_type": "code",
   "execution_count": 30,
   "metadata": {
    "collapsed": false
   },
   "outputs": [
    {
     "data": {
      "text/plain": [
       "-8934"
      ]
     },
     "execution_count": 30,
     "metadata": {},
     "output_type": "execute_result"
    }
   ],
   "source": [
    "valid_label.sum()"
   ]
  },
  {
   "cell_type": "code",
   "execution_count": 28,
   "metadata": {
    "collapsed": false
   },
   "outputs": [
    {
     "data": {
      "image/png": "[encoded data removed]",
      "text/plain": [
       "<matplotlib.figure.Figure at 0x7f16ed754450>"
      ]
     },
     "metadata": {},
     "output_type": "display_data"
    }
   ],
   "source": [
    "fig, ax = plt.subplots()\n",
    "pred_df.hist(ax=ax, bins=200, bottom=0.1)\n",
    "ax.set_yscale('log')"
   ]
  },
  {
   "cell_type": "code",
   "execution_count": 24,
   "metadata": {
    "collapsed": false,
    "scrolled": true
   },
   "outputs": [
    {
     "data": {
      "text/plain": [
       "<matplotlib.axes._subplots.AxesSubplot at 0x7f16ed90f4d0>"
      ]
     },
     "execution_count": 24,
     "metadata": {},
     "output_type": "execute_result"
    },
    {
     "data": {
      "image/png": "[encoded data removed]",
      "text/plain": [
       "<matplotlib.figure.Figure at 0x7f16ed792e50>"
      ]
     },
     "metadata": {},
     "output_type": "display_data"
    }
   ],
   "source": [
    "sns.distplot(pred_df, kde=False, bins=60)"
   ]
  },
  {
   "cell_type": "code",
   "execution_count": 19,
   "metadata": {
    "collapsed": true
   },
   "outputs": [],
   "source": [
    "%matplotlib inline  \n",
    "from sklearn.metrics import matthews_corrcoef\n",
    "import matplotlib.pyplot as plt\n",
    "import seaborn as sns\n",
    "\n",
    "\n",
    "\n",
    "def mcc(tp, tn, fp, fn):\n",
    "    sup = tp * tn - fp * fn\n",
    "    inf = (tp + fp) * (tp + fn) * (tn + fp) * (tn + fn)\n",
    "    if inf==0:\n",
    "        return 0\n",
    "    else:\n",
    "        return sup / np.sqrt(inf)\n",
    "\n",
    "def eval_mcc(y_true, y_prob, show=False):\n",
    "    idx = np.argsort(y_prob)\n",
    "    y_true_sort = y_true[idx]\n",
    "    n = y_true.shape[0]\n",
    "    nump = 1.0 * np.sum(y_true) # number of positive\n",
    "    numn = n - nump # number of negative\n",
    "    tp = nump\n",
    "    tn = 0.0\n",
    "    fp = numn\n",
    "    fn = 0.0\n",
    "    best_mcc = 0.0\n",
    "    best_id = -1\n",
    "    mccs = np.zeros(n)\n",
    "    for i in range(n):\n",
    "        # all items with idx <= i are predicted negative while others are predicted positive\n",
    "        if y_true_sort[i] == 1:\n",
    "            tp -= 1.0\n",
    "            fn += 1.0\n",
    "        else:\n",
    "            fp -= 1.0\n",
    "            tn += 1.0\n",
    "        new_mcc = mcc(tp, tn, fp, fn)\n",
    "        mccs[i] = new_mcc\n",
    "        if new_mcc >= best_mcc:\n",
    "            best_mcc = new_mcc\n",
    "            best_id = i\n",
    "    if show:\n",
    "        best_proba = y_prob[idx[best_id]]\n",
    "        y_pred = (y_prob > best_proba).astype(int)\n",
    "        score = matthews_corrcoef(y_true, y_pred)\n",
    "        print(score, best_mcc)\n",
    "        plt.plot(mccs)\n",
    "        return best_proba, best_mcc, y_pred\n",
    "    else:\n",
    "        return best_mcc"
   ]
  },
  {
   "cell_type": "code",
   "execution_count": 12,
   "metadata": {
    "collapsed": false,
    "scrolled": true
   },
   "outputs": [
    {
     "name": "stdout",
     "output_type": "stream",
     "text": [
      "(0.21670403956737572, 0.21670403956737724)\n"
     ]
    },
    {
     "data": {
      "image/png": "[encoded data removed]",
      "text/plain": [
       "<matplotlib.figure.Figure at 0x7f17314ff090>"
      ]
     },
     "metadata": {},
     "output_type": "display_data"
    }
   ],
   "source": [
    "best_proba, best_mcc, y_pred = eval_mcc(valid_label.values, pred_df.values, True)"
   ]
  },
  {
   "cell_type": "code",
   "execution_count": 87,
   "metadata": {
    "collapsed": false
   },
   "outputs": [],
   "source": [
    "aa = pd.read_csv('/home/ymm/kaggle/xgboost_hyperopt/tests/tmp_pred_df.csv', index_col=0)"
   ]
  },
  {
   "cell_type": "code",
   "execution_count": 88,
   "metadata": {
    "collapsed": false
   },
   "outputs": [
    {
     "name": "stdout",
     "output_type": "stream",
     "text": [
      "22461.0 22461.0\n"
     ]
    }
   ],
   "source": [
    "print aa.model_ExtraTree_index_1.max(), aa.model_RandomForest_index_2.max()"
   ]
  },
  {
   "cell_type": "code",
   "execution_count": 89,
   "metadata": {
    "collapsed": false
   },
   "outputs": [
    {
     "data": {
      "text/html": [
       "<div>\n",
       "<table border=\"1\" class=\"dataframe\">\n",
       "  <thead>\n",
       "    <tr style=\"text-align: right;\">\n",
       "      <th></th>\n",
       "      <th>score_model_ExtraTree_index_1</th>\n",
       "      <th>model_ExtraTree_index_1</th>\n",
       "      <th>score_model_RandomForest_index_2</th>\n",
       "      <th>model_RandomForest_index_2</th>\n",
       "      <th>label</th>\n",
       "    </tr>\n",
       "    <tr>\n",
       "      <th>Id</th>\n",
       "      <th></th>\n",
       "      <th></th>\n",
       "      <th></th>\n",
       "      <th></th>\n",
       "      <th></th>\n",
       "    </tr>\n",
       "  </thead>\n",
       "  <tbody>\n",
       "    <tr>\n",
       "      <th>985620</th>\n",
       "      <td>0.002838</td>\n",
       "      <td>18305.0</td>\n",
       "      <td>0.002919</td>\n",
       "      <td>20323.0</td>\n",
       "      <td>0</td>\n",
       "    </tr>\n",
       "    <tr>\n",
       "      <th>474697</th>\n",
       "      <td>0.001650</td>\n",
       "      <td>862.0</td>\n",
       "      <td>0.001680</td>\n",
       "      <td>1674.0</td>\n",
       "      <td>0</td>\n",
       "    </tr>\n",
       "    <tr>\n",
       "      <th>5323</th>\n",
       "      <td>0.002294</td>\n",
       "      <td>6597.0</td>\n",
       "      <td>0.001736</td>\n",
       "      <td>2344.0</td>\n",
       "      <td>0</td>\n",
       "    </tr>\n",
       "    <tr>\n",
       "      <th>415693</th>\n",
       "      <td>0.002349</td>\n",
       "      <td>8133.0</td>\n",
       "      <td>0.002496</td>\n",
       "      <td>16199.0</td>\n",
       "      <td>0</td>\n",
       "    </tr>\n",
       "    <tr>\n",
       "      <th>331501</th>\n",
       "      <td>0.002626</td>\n",
       "      <td>15708.0</td>\n",
       "      <td>0.002154</td>\n",
       "      <td>10442.0</td>\n",
       "      <td>0</td>\n",
       "    </tr>\n",
       "  </tbody>\n",
       "</table>\n",
       "</div>"
      ],
      "text/plain": [
       "        score_model_ExtraTree_index_1  model_ExtraTree_index_1  \\\n",
       "Id                                                               \n",
       "985620                       0.002838                  18305.0   \n",
       "474697                       0.001650                    862.0   \n",
       "5323                         0.002294                   6597.0   \n",
       "415693                       0.002349                   8133.0   \n",
       "331501                       0.002626                  15708.0   \n",
       "\n",
       "        score_model_RandomForest_index_2  model_RandomForest_index_2  label  \n",
       "Id                                                                           \n",
       "985620                          0.002919                     20323.0      0  \n",
       "474697                          0.001680                      1674.0      0  \n",
       "5323                            0.001736                      2344.0      0  \n",
       "415693                          0.002496                     16199.0      0  \n",
       "331501                          0.002154                     10442.0      0  "
      ]
     },
     "execution_count": 89,
     "metadata": {},
     "output_type": "execute_result"
    }
   ],
   "source": [
    "aa.head()"
   ]
  },
  {
   "cell_type": "code",
   "execution_count": 46,
   "metadata": {
    "collapsed": false
   },
   "outputs": [
    {
     "data": {
      "text/plain": [
       "0.0028048617603846668"
      ]
     },
     "execution_count": 46,
     "metadata": {},
     "output_type": "execute_result"
    }
   ],
   "source": [
    "aa['b'].mean()"
   ]
  },
  {
   "cell_type": "code",
   "execution_count": 65,
   "metadata": {
    "collapsed": true
   },
   "outputs": [],
   "source": [
    "scores = np.array([4, 5, 6, 10, 2, 1, 7])"
   ]
  },
  {
   "cell_type": "code",
   "execution_count": 66,
   "metadata": {
    "collapsed": true
   },
   "outputs": [],
   "source": [
    "rank_index = np.argsort(scores)"
   ]
  },
  {
   "cell_type": "code",
   "execution_count": 85,
   "metadata": {
    "collapsed": false
   },
   "outputs": [],
   "source": [
    "a = pd.Series(scores).rank()"
   ]
  },
  {
   "cell_type": "code",
   "execution_count": 94,
   "metadata": {
    "collapsed": false
   },
   "outputs": [
    {
     "data": {
      "text/plain": [
       "[0, 1, 2, 3, 4, 5, 6, 7, 8, 9, 'NaN']"
      ]
     },
     "execution_count": 94,
     "metadata": {},
     "output_type": "execute_result"
    }
   ],
   "source": [
    "range(10) + ['NaN']"
   ]
  },
  {
   "cell_type": "code",
   "execution_count": 74,
   "metadata": {
    "collapsed": false
   },
   "outputs": [
    {
     "data": {
      "text/plain": [
       "array([5, 4, 0, 1, 2, 6, 3])"
      ]
     },
     "execution_count": 74,
     "metadata": {},
     "output_type": "execute_result"
    }
   ],
   "source": [
    "rank_index"
   ]
  },
  {
   "cell_type": "code",
   "execution_count": 69,
   "metadata": {
    "collapsed": false
   },
   "outputs": [],
   "source": [
    "ranks = np.array(range(1, len(rank_index)+1))"
   ]
  },
  {
   "cell_type": "code",
   "execution_count": 72,
   "metadata": {
    "collapsed": false
   },
   "outputs": [
    {
     "data": {
      "text/plain": [
       "array([1, 2, 3, 4, 5, 6, 7])"
      ]
     },
     "execution_count": 72,
     "metadata": {},
     "output_type": "execute_result"
    }
   ],
   "source": [
    "ranks"
   ]
  },
  {
   "cell_type": "code",
   "execution_count": 70,
   "metadata": {
    "collapsed": false
   },
   "outputs": [
    {
     "data": {
      "text/plain": [
       "array([6, 5, 1, 2, 3, 7, 4])"
      ]
     },
     "execution_count": 70,
     "metadata": {},
     "output_type": "execute_result"
    }
   ],
   "source": [
    "ranks[rank_index]"
   ]
  },
  {
   "cell_type": "code",
   "execution_count": null,
   "metadata": {
    "collapsed": true
   },
   "outputs": [],
   "source": []
  },
  {
   "cell_type": "code",
   "execution_count": 16,
   "metadata": {
    "collapsed": false
   },
   "outputs": [
    {
     "data": {
      "text/plain": [
       "30"
      ]
     },
     "execution_count": 16,
     "metadata": {},
     "output_type": "execute_result"
    }
   ],
   "source": [
    "y_pred.sum()"
   ]
  },
  {
   "cell_type": "code",
   "execution_count": 5,
   "metadata": {
    "collapsed": false
   },
   "outputs": [],
   "source": [
    "import pandas as pd\n",
    "import numpy as np\n",
    "a = pd.DataFrame({'a':range(10), 'b':range(0, 100, 10)})"
   ]
  },
  {
   "cell_type": "code",
   "execution_count": 20,
   "metadata": {
    "collapsed": false
   },
   "outputs": [],
   "source": [
    "score_index = np.argsort(a['b'])"
   ]
  },
  {
   "cell_type": "code",
   "execution_count": 23,
   "metadata": {
    "collapsed": false
   },
   "outputs": [
    {
     "data": {
      "text/plain": [
       "0    0\n",
       "1    1\n",
       "2    2\n",
       "3    3\n",
       "4    4\n",
       "5    5\n",
       "6    6\n",
       "7    7\n",
       "8    8\n",
       "9    9\n",
       "Name: b, dtype: int64"
      ]
     },
     "execution_count": 23,
     "metadata": {},
     "output_type": "execute_result"
    }
   ],
   "source": [
    "score_index"
   ]
  },
  {
   "cell_type": "code",
   "execution_count": 24,
   "metadata": {
    "collapsed": false
   },
   "outputs": [],
   "source": [
    "a['c'] = np.array(range(1, len(score_index)+1))[score_index]"
   ]
  },
  {
   "cell_type": "code",
   "execution_count": 25,
   "metadata": {
    "collapsed": false
   },
   "outputs": [],
   "source": [
    "result = a.sum(axis=1)"
   ]
  },
  {
   "cell_type": "code",
   "execution_count": 33,
   "metadata": {
    "collapsed": false
   },
   "outputs": [],
   "source": [
    "result.sort_values(inplace=True)"
   ]
  },
  {
   "cell_type": "code",
   "execution_count": 34,
   "metadata": {
    "collapsed": true
   },
   "outputs": [],
   "source": [
    "mean_faulted_rate = 0.2\n",
    "thres_index = int(mean_faulted_rate * len(score_index))"
   ]
  },
  {
   "cell_type": "code",
   "execution_count": 38,
   "metadata": {
    "collapsed": false
   },
   "outputs": [],
   "source": [
    "result[:-thres_index] = 0\n",
    "result[-thres_index:] = 1\n"
   ]
  },
  {
   "cell_type": "code",
   "execution_count": 39,
   "metadata": {
    "collapsed": false
   },
   "outputs": [
    {
     "data": {
      "text/plain": [
       "0    0\n",
       "1    0\n",
       "2    0\n",
       "3    0\n",
       "4    0\n",
       "5    0\n",
       "6    0\n",
       "7    0\n",
       "8    1\n",
       "9    1\n",
       "dtype: int64"
      ]
     },
     "execution_count": 39,
     "metadata": {},
     "output_type": "execute_result"
    }
   ],
   "source": [
    "result"
   ]
  }
 ],
 "metadata": {
  "kernelspec": {
   "display_name": "Python 2",
   "language": "python",
   "name": "python2"
  },
  "language_info": {
   "codemirror_mode": {
    "name": "ipython",
    "version": 2
   },
   "file_extension": ".py",
   "mimetype": "text/x-python",
   "name": "python",
   "nbconvert_exporter": "python",
   "pygments_lexer": "ipython2",
   "version": "2.7.6"
  }
 },
 "nbformat": 4,
 "nbformat_minor": 0
}
