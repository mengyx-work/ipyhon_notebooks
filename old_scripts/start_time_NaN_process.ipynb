{
 "cells": [
  {
   "cell_type": "code",
   "execution_count": 1,
   "metadata": {
    "collapsed": true
   },
   "outputs": [],
   "source": [
    "import os, sys, time\n",
    "import pandas as pd\n",
    "import numpy as np\n",
    "from sklearn.preprocessing import LabelEncoder\n",
    "from scipy.sparse import csr_matrix, hstack\n",
    "import yaml\n",
    "from os.path import join\n",
    "import cPickle as pickle\n",
    "\n",
    "sys.path.append('/home/ymm/kaggle/xgboost_hyperopt')\n",
    "import utils.bosch_functions as bosch_functions\n",
    "\n",
    "data_path = '/home/ymm/bosch/'\n",
    "\n",
    "train_num_file   = 'train_numeric.csv'\n",
    "train_cat_file   = 'train_categorical.csv'\n",
    "train_date_file  = 'train_date.csv'\n",
    "test_num_file    = 'test_numeric.csv'\n",
    "test_cat_file    = 'test_categorical.csv'\n",
    "test_date_file   = 'test_date.csv'\n",
    "\n",
    "sample_submission_file   = 'sample_submission.csv'\n",
    "\n",
    "\n",
    "start_time_column_name = 'L0_S0_D1'\n",
    "id_column_name = 'Id'\n",
    "dep_var_name = 'Response'\n",
    "\n",
    "nrows = 10000\n",
    "bin_num = 1 ## number of bins to separate data by start_timeb"
   ]
  },
  {
   "cell_type": "code",
   "execution_count": 2,
   "metadata": {
    "collapsed": false
   },
   "outputs": [
    {
     "name": "stdout",
     "output_type": "stream",
     "text": [
      "data loading takes  105.7  seconds.\n"
     ]
    }
   ],
   "source": [
    "tmp_train, tmp_test, bins, bin_names = bosch_functions.create_grouped_index_df(bin_num)"
   ]
  },
  {
   "cell_type": "code",
   "execution_count": 3,
   "metadata": {
    "collapsed": false,
    "scrolled": true
   },
   "outputs": [
    {
     "name": "stdout",
     "output_type": "stream",
     "text": [
      "0    673861\n",
      "Name: time_window_num, dtype: int64 \n",
      "0    674503\n",
      "Name: time_window_num, dtype: int64\n"
     ]
    }
   ],
   "source": [
    "print tmp_train.time_window_num.value_counts(), '\\n', tmp_test.time_window_num.value_counts()"
   ]
  },
  {
   "cell_type": "code",
   "execution_count": 4,
   "metadata": {
    "collapsed": true
   },
   "outputs": [],
   "source": [
    "none_selected_window_num = bin_names[:]\n",
    "skipped_test_row_num = tmp_test.loc[tmp_test['time_window_num'].isin(none_selected_window_num), 'row_num'].tolist()\n",
    "skipped_train_row_num = tmp_train.loc[tmp_train['time_window_num'].isin(none_selected_window_num), 'row_num'].tolist()\n",
    "#bosch_functions.subset_complete_data_by_index(skipped_train_row_num, skipped_test_row_num, train_data_file, test_data_file)"
   ]
  },
  {
   "cell_type": "code",
   "execution_count": 5,
   "metadata": {
    "collapsed": false
   },
   "outputs": [],
   "source": [
    "train_cat_cols = pd.read_csv(join(data_path, train_cat_file), index_col=id_column_name, nrows=0)\n",
    "train_date_cols = pd.read_csv(join(data_path, train_date_file), index_col=id_column_name, nrows=0)\n",
    "train_num_cols = pd.read_csv(join(data_path, train_num_file), index_col=id_column_name, nrows=0)"
   ]
  },
  {
   "cell_type": "code",
   "execution_count": 7,
   "metadata": {
    "collapsed": true
   },
   "outputs": [],
   "source": [
    "### section to obtain the feature impotance from xgboost model\n",
    "bin_NaN_data_path = '/home/ymm/kaggle/bosch/data_2_bins_xgb_combined_models/data_bin_NaN_models'\n",
    "\n",
    "def collect_feature_names(data_path, fea_name='feature', thres_name = None, thres = 10):\n",
    "    csv_files = [f for f in os.listdir(data_path) if '.csv' in f]\n",
    "    feature_names = set()\n",
    "    for file_name in csv_files:\n",
    "        data = pd.read_csv(join(data_path, file_name), index_col=0)\n",
    "        if thres_name is None:\n",
    "            feature_names = feature_names.union(data[fea_name])\n",
    "        else:\n",
    "            feature_names = feature_names.union(data.loc[data[thres_name] > thres, fea_name])\n",
    "            \n",
    "    return feature_names\n",
    "\n",
    "bin_NaN_selected_col_names = collect_feature_names(bin_NaN_data_path, 'feature', 'fscore', 10)"
   ]
  },
  {
   "cell_type": "code",
   "execution_count": 8,
   "metadata": {
    "collapsed": false
   },
   "outputs": [
    {
     "data": {
      "text/plain": [
       "568"
      ]
     },
     "execution_count": 8,
     "metadata": {},
     "output_type": "execute_result"
    }
   ],
   "source": [
    "len(bin_NaN_selected_col_names)"
   ]
  },
  {
   "cell_type": "code",
   "execution_count": 9,
   "metadata": {
    "collapsed": false
   },
   "outputs": [
    {
     "name": "stdout",
     "output_type": "stream",
     "text": [
      "554 14 0\n"
     ]
    }
   ],
   "source": [
    "print sum(train_num_cols.columns.isin(bin_NaN_selected_col_names)), sum(train_cat_cols.columns.isin(bin_NaN_selected_col_names)), sum(train_date_cols.columns.isin(bin_NaN_selected_col_names))"
   ]
  },
  {
   "cell_type": "code",
   "execution_count": 44,
   "metadata": {
    "collapsed": false
   },
   "outputs": [],
   "source": [
    "selected_cat_col_names =  train_cat_cols.columns[train_cat_cols.columns.isin(bin_NaN_selected_col_names)].tolist()\n",
    "selected_num_col_names =  train_num_cols.columns[train_num_cols.columns.isin(bin_NaN_selected_col_names)].tolist()"
   ]
  },
  {
   "cell_type": "code",
   "execution_count": 45,
   "metadata": {
    "collapsed": false
   },
   "outputs": [],
   "source": [
    "selected_cat_col_names.append(id_column_name)\n",
    "selected_num_col_names.append(id_column_name)"
   ]
  },
  {
   "cell_type": "code",
   "execution_count": 53,
   "metadata": {
    "collapsed": false
   },
   "outputs": [
    {
     "name": "stdout",
     "output_type": "stream",
     "text": [
      "CPU times: user 17.3 s, sys: 730 ms, total: 18 s\n",
      "Wall time: 18 s\n",
      "CPU times: user 30.4 s, sys: 2.8 s, total: 33.2 s\n",
      "Wall time: 50.3 s\n"
     ]
    }
   ],
   "source": [
    "%time train_cat  = pd.read_csv(join(data_path, train_cat_file),  index_col='Id', skiprows=skipped_train_row_num, usecols=selected_cat_col_names)\n",
    "%time test_cat   = pd.read_csv(join(data_path, test_cat_file),   index_col='Id', skiprows=skipped_train_row_num, usecols=selected_cat_col_names)"
   ]
  },
  {
   "cell_type": "code",
   "execution_count": 54,
   "metadata": {
    "collapsed": false,
    "scrolled": true
   },
   "outputs": [
    {
     "name": "stdout",
     "output_type": "stream",
     "text": [
      "CPU times: user 35.2 s, sys: 2.54 s, total: 37.7 s\n",
      "Wall time: 37.7 s\n",
      "CPU times: user 48.5 s, sys: 3.94 s, total: 52.5 s\n",
      "Wall time: 1min 6s\n"
     ]
    }
   ],
   "source": [
    "%time train_num  = pd.read_csv(join(data_path, train_num_file),  index_col='Id', skiprows=skipped_train_row_num, usecols=selected_num_col_names)\n",
    "%time test_num   = pd.read_csv(join(data_path, test_num_file),   index_col='Id', skiprows=skipped_train_row_num, usecols=selected_num_col_names)"
   ]
  },
  {
   "cell_type": "code",
   "execution_count": 55,
   "metadata": {
    "collapsed": false
   },
   "outputs": [
    {
     "name": "stdout",
     "output_type": "stream",
     "text": [
      "(509886, 554)\n"
     ]
    },
    {
     "data": {
      "text/html": [
       "<div>\n",
       "<table border=\"1\" class=\"dataframe\">\n",
       "  <thead>\n",
       "    <tr style=\"text-align: right;\">\n",
       "      <th></th>\n",
       "      <th>L0_S8_F144</th>\n",
       "      <th>L0_S12_F330</th>\n",
       "      <th>L0_S12_F332</th>\n",
       "      <th>L0_S12_F334</th>\n",
       "      <th>L0_S12_F336</th>\n",
       "      <th>L0_S12_F338</th>\n",
       "      <th>L0_S12_F340</th>\n",
       "      <th>L0_S12_F342</th>\n",
       "      <th>L0_S12_F344</th>\n",
       "      <th>L0_S12_F346</th>\n",
       "      <th>...</th>\n",
       "      <th>L3_S44_F4121</th>\n",
       "      <th>L3_S45_F4124</th>\n",
       "      <th>L3_S47_F4138</th>\n",
       "      <th>L3_S47_F4143</th>\n",
       "      <th>L3_S47_F4153</th>\n",
       "      <th>L3_S47_F4158</th>\n",
       "      <th>L3_S47_F4163</th>\n",
       "      <th>L3_S48_F4196</th>\n",
       "      <th>L3_S48_F4198</th>\n",
       "      <th>L3_S50_F4243</th>\n",
       "    </tr>\n",
       "    <tr>\n",
       "      <th>Id</th>\n",
       "      <th></th>\n",
       "      <th></th>\n",
       "      <th></th>\n",
       "      <th></th>\n",
       "      <th></th>\n",
       "      <th></th>\n",
       "      <th></th>\n",
       "      <th></th>\n",
       "      <th></th>\n",
       "      <th></th>\n",
       "      <th></th>\n",
       "      <th></th>\n",
       "      <th></th>\n",
       "      <th></th>\n",
       "      <th></th>\n",
       "      <th></th>\n",
       "      <th></th>\n",
       "      <th></th>\n",
       "      <th></th>\n",
       "      <th></th>\n",
       "      <th></th>\n",
       "    </tr>\n",
       "  </thead>\n",
       "  <tbody>\n",
       "    <tr>\n",
       "      <th>6</th>\n",
       "      <td>NaN</td>\n",
       "      <td>0.096</td>\n",
       "      <td>0.076</td>\n",
       "      <td>-0.065</td>\n",
       "      <td>-0.136</td>\n",
       "      <td>0.169</td>\n",
       "      <td>0.231</td>\n",
       "      <td>-0.014</td>\n",
       "      <td>-0.072</td>\n",
       "      <td>-0.039</td>\n",
       "      <td>...</td>\n",
       "      <td>NaN</td>\n",
       "      <td>NaN</td>\n",
       "      <td>NaN</td>\n",
       "      <td>NaN</td>\n",
       "      <td>NaN</td>\n",
       "      <td>NaN</td>\n",
       "      <td>NaN</td>\n",
       "      <td>NaN</td>\n",
       "      <td>NaN</td>\n",
       "      <td>NaN</td>\n",
       "    </tr>\n",
       "    <tr>\n",
       "      <th>14</th>\n",
       "      <td>NaN</td>\n",
       "      <td>-0.051</td>\n",
       "      <td>-0.082</td>\n",
       "      <td>-0.181</td>\n",
       "      <td>-0.481</td>\n",
       "      <td>0.113</td>\n",
       "      <td>0.154</td>\n",
       "      <td>-0.010</td>\n",
       "      <td>-0.072</td>\n",
       "      <td>-0.054</td>\n",
       "      <td>...</td>\n",
       "      <td>NaN</td>\n",
       "      <td>NaN</td>\n",
       "      <td>NaN</td>\n",
       "      <td>NaN</td>\n",
       "      <td>NaN</td>\n",
       "      <td>NaN</td>\n",
       "      <td>NaN</td>\n",
       "      <td>NaN</td>\n",
       "      <td>NaN</td>\n",
       "      <td>NaN</td>\n",
       "    </tr>\n",
       "    <tr>\n",
       "      <th>16</th>\n",
       "      <td>NaN</td>\n",
       "      <td>NaN</td>\n",
       "      <td>NaN</td>\n",
       "      <td>NaN</td>\n",
       "      <td>NaN</td>\n",
       "      <td>NaN</td>\n",
       "      <td>NaN</td>\n",
       "      <td>NaN</td>\n",
       "      <td>NaN</td>\n",
       "      <td>NaN</td>\n",
       "      <td>...</td>\n",
       "      <td>NaN</td>\n",
       "      <td>NaN</td>\n",
       "      <td>NaN</td>\n",
       "      <td>NaN</td>\n",
       "      <td>NaN</td>\n",
       "      <td>NaN</td>\n",
       "      <td>NaN</td>\n",
       "      <td>NaN</td>\n",
       "      <td>NaN</td>\n",
       "      <td>NaN</td>\n",
       "    </tr>\n",
       "    <tr>\n",
       "      <th>23</th>\n",
       "      <td>NaN</td>\n",
       "      <td>-0.008</td>\n",
       "      <td>-0.003</td>\n",
       "      <td>-0.065</td>\n",
       "      <td>-0.136</td>\n",
       "      <td>-0.053</td>\n",
       "      <td>-0.154</td>\n",
       "      <td>-0.006</td>\n",
       "      <td>-0.041</td>\n",
       "      <td>-0.049</td>\n",
       "      <td>...</td>\n",
       "      <td>NaN</td>\n",
       "      <td>NaN</td>\n",
       "      <td>NaN</td>\n",
       "      <td>NaN</td>\n",
       "      <td>NaN</td>\n",
       "      <td>NaN</td>\n",
       "      <td>NaN</td>\n",
       "      <td>NaN</td>\n",
       "      <td>NaN</td>\n",
       "      <td>NaN</td>\n",
       "    </tr>\n",
       "    <tr>\n",
       "      <th>41</th>\n",
       "      <td>NaN</td>\n",
       "      <td>0.041</td>\n",
       "      <td>0.062</td>\n",
       "      <td>0.081</td>\n",
       "      <td>0.140</td>\n",
       "      <td>0.002</td>\n",
       "      <td>0.000</td>\n",
       "      <td>0.002</td>\n",
       "      <td>-0.010</td>\n",
       "      <td>0.223</td>\n",
       "      <td>...</td>\n",
       "      <td>NaN</td>\n",
       "      <td>NaN</td>\n",
       "      <td>NaN</td>\n",
       "      <td>NaN</td>\n",
       "      <td>NaN</td>\n",
       "      <td>NaN</td>\n",
       "      <td>NaN</td>\n",
       "      <td>NaN</td>\n",
       "      <td>NaN</td>\n",
       "      <td>NaN</td>\n",
       "    </tr>\n",
       "  </tbody>\n",
       "</table>\n",
       "<p>5 rows × 554 columns</p>\n",
       "</div>"
      ],
      "text/plain": [
       "    L0_S8_F144  L0_S12_F330  L0_S12_F332  L0_S12_F334  L0_S12_F336  \\\n",
       "Id                                                                   \n",
       "6          NaN        0.096        0.076       -0.065       -0.136   \n",
       "14         NaN       -0.051       -0.082       -0.181       -0.481   \n",
       "16         NaN          NaN          NaN          NaN          NaN   \n",
       "23         NaN       -0.008       -0.003       -0.065       -0.136   \n",
       "41         NaN        0.041        0.062        0.081        0.140   \n",
       "\n",
       "    L0_S12_F338  L0_S12_F340  L0_S12_F342  L0_S12_F344  L0_S12_F346  \\\n",
       "Id                                                                    \n",
       "6         0.169        0.231       -0.014       -0.072       -0.039   \n",
       "14        0.113        0.154       -0.010       -0.072       -0.054   \n",
       "16          NaN          NaN          NaN          NaN          NaN   \n",
       "23       -0.053       -0.154       -0.006       -0.041       -0.049   \n",
       "41        0.002        0.000        0.002       -0.010        0.223   \n",
       "\n",
       "        ...       L3_S44_F4121  L3_S45_F4124  L3_S47_F4138  L3_S47_F4143  \\\n",
       "Id      ...                                                                \n",
       "6       ...                NaN           NaN           NaN           NaN   \n",
       "14      ...                NaN           NaN           NaN           NaN   \n",
       "16      ...                NaN           NaN           NaN           NaN   \n",
       "23      ...                NaN           NaN           NaN           NaN   \n",
       "41      ...                NaN           NaN           NaN           NaN   \n",
       "\n",
       "    L3_S47_F4153  L3_S47_F4158  L3_S47_F4163  L3_S48_F4196  L3_S48_F4198  \\\n",
       "Id                                                                         \n",
       "6            NaN           NaN           NaN           NaN           NaN   \n",
       "14           NaN           NaN           NaN           NaN           NaN   \n",
       "16           NaN           NaN           NaN           NaN           NaN   \n",
       "23           NaN           NaN           NaN           NaN           NaN   \n",
       "41           NaN           NaN           NaN           NaN           NaN   \n",
       "\n",
       "    L3_S50_F4243  \n",
       "Id                \n",
       "6            NaN  \n",
       "14           NaN  \n",
       "16           NaN  \n",
       "23           NaN  \n",
       "41           NaN  \n",
       "\n",
       "[5 rows x 554 columns]"
      ]
     },
     "execution_count": 55,
     "metadata": {},
     "output_type": "execute_result"
    }
   ],
   "source": [
    "print train_num.shape\n",
    "train_num.head()"
   ]
  },
  {
   "cell_type": "code",
   "execution_count": 56,
   "metadata": {
    "collapsed": false
   },
   "outputs": [
    {
     "name": "stdout",
     "output_type": "stream",
     "text": [
      "(509886, 14)\n"
     ]
    },
    {
     "data": {
      "text/html": [
       "<div>\n",
       "<table border=\"1\" class=\"dataframe\">\n",
       "  <thead>\n",
       "    <tr style=\"text-align: right;\">\n",
       "      <th></th>\n",
       "      <th>L1_S24_F675</th>\n",
       "      <th>L1_S24_F1510</th>\n",
       "      <th>L1_S24_F1582</th>\n",
       "      <th>L1_S24_F1584</th>\n",
       "      <th>L1_S24_F1585</th>\n",
       "      <th>L1_S25_F1852</th>\n",
       "      <th>L1_S25_F2099</th>\n",
       "      <th>L1_S25_F2779</th>\n",
       "      <th>L2_S26_F3038</th>\n",
       "      <th>L2_S27_F3131</th>\n",
       "      <th>L3_S29_F3317</th>\n",
       "      <th>L3_S29_F3475</th>\n",
       "      <th>L3_S32_F3851</th>\n",
       "      <th>L3_S32_F3854</th>\n",
       "    </tr>\n",
       "    <tr>\n",
       "      <th>Id</th>\n",
       "      <th></th>\n",
       "      <th></th>\n",
       "      <th></th>\n",
       "      <th></th>\n",
       "      <th></th>\n",
       "      <th></th>\n",
       "      <th></th>\n",
       "      <th></th>\n",
       "      <th></th>\n",
       "      <th></th>\n",
       "      <th></th>\n",
       "      <th></th>\n",
       "      <th></th>\n",
       "      <th></th>\n",
       "    </tr>\n",
       "  </thead>\n",
       "  <tbody>\n",
       "    <tr>\n",
       "      <th>6</th>\n",
       "      <td>NaN</td>\n",
       "      <td>NaN</td>\n",
       "      <td>NaN</td>\n",
       "      <td>NaN</td>\n",
       "      <td>NaN</td>\n",
       "      <td>NaN</td>\n",
       "      <td>NaN</td>\n",
       "      <td>NaN</td>\n",
       "      <td>NaN</td>\n",
       "      <td>NaN</td>\n",
       "      <td>NaN</td>\n",
       "      <td>NaN</td>\n",
       "      <td>NaN</td>\n",
       "      <td>NaN</td>\n",
       "    </tr>\n",
       "    <tr>\n",
       "      <th>14</th>\n",
       "      <td>NaN</td>\n",
       "      <td>NaN</td>\n",
       "      <td>NaN</td>\n",
       "      <td>NaN</td>\n",
       "      <td>NaN</td>\n",
       "      <td>NaN</td>\n",
       "      <td>NaN</td>\n",
       "      <td>NaN</td>\n",
       "      <td>NaN</td>\n",
       "      <td>NaN</td>\n",
       "      <td>1.0</td>\n",
       "      <td>1.0</td>\n",
       "      <td>NaN</td>\n",
       "      <td>NaN</td>\n",
       "    </tr>\n",
       "    <tr>\n",
       "      <th>16</th>\n",
       "      <td>NaN</td>\n",
       "      <td>3.0</td>\n",
       "      <td>NaN</td>\n",
       "      <td>NaN</td>\n",
       "      <td>NaN</td>\n",
       "      <td>NaN</td>\n",
       "      <td>NaN</td>\n",
       "      <td>NaN</td>\n",
       "      <td>1.0</td>\n",
       "      <td>NaN</td>\n",
       "      <td>1.0</td>\n",
       "      <td>1.0</td>\n",
       "      <td>NaN</td>\n",
       "      <td>NaN</td>\n",
       "    </tr>\n",
       "    <tr>\n",
       "      <th>23</th>\n",
       "      <td>NaN</td>\n",
       "      <td>NaN</td>\n",
       "      <td>NaN</td>\n",
       "      <td>NaN</td>\n",
       "      <td>NaN</td>\n",
       "      <td>NaN</td>\n",
       "      <td>NaN</td>\n",
       "      <td>NaN</td>\n",
       "      <td>NaN</td>\n",
       "      <td>NaN</td>\n",
       "      <td>1.0</td>\n",
       "      <td>1.0</td>\n",
       "      <td>NaN</td>\n",
       "      <td>NaN</td>\n",
       "    </tr>\n",
       "    <tr>\n",
       "      <th>41</th>\n",
       "      <td>NaN</td>\n",
       "      <td>NaN</td>\n",
       "      <td>NaN</td>\n",
       "      <td>NaN</td>\n",
       "      <td>NaN</td>\n",
       "      <td>NaN</td>\n",
       "      <td>NaN</td>\n",
       "      <td>NaN</td>\n",
       "      <td>NaN</td>\n",
       "      <td>NaN</td>\n",
       "      <td>1.0</td>\n",
       "      <td>1.0</td>\n",
       "      <td>NaN</td>\n",
       "      <td>NaN</td>\n",
       "    </tr>\n",
       "  </tbody>\n",
       "</table>\n",
       "</div>"
      ],
      "text/plain": [
       "    L1_S24_F675  L1_S24_F1510  L1_S24_F1582  L1_S24_F1584  L1_S24_F1585  \\\n",
       "Id                                                                        \n",
       "6           NaN           NaN           NaN           NaN           NaN   \n",
       "14          NaN           NaN           NaN           NaN           NaN   \n",
       "16          NaN           3.0           NaN           NaN           NaN   \n",
       "23          NaN           NaN           NaN           NaN           NaN   \n",
       "41          NaN           NaN           NaN           NaN           NaN   \n",
       "\n",
       "    L1_S25_F1852  L1_S25_F2099  L1_S25_F2779  L2_S26_F3038  L2_S27_F3131  \\\n",
       "Id                                                                         \n",
       "6            NaN           NaN           NaN           NaN           NaN   \n",
       "14           NaN           NaN           NaN           NaN           NaN   \n",
       "16           NaN           NaN           NaN           1.0           NaN   \n",
       "23           NaN           NaN           NaN           NaN           NaN   \n",
       "41           NaN           NaN           NaN           NaN           NaN   \n",
       "\n",
       "    L3_S29_F3317  L3_S29_F3475  L3_S32_F3851  L3_S32_F3854  \n",
       "Id                                                          \n",
       "6            NaN           NaN           NaN           NaN  \n",
       "14           1.0           1.0           NaN           NaN  \n",
       "16           1.0           1.0           NaN           NaN  \n",
       "23           1.0           1.0           NaN           NaN  \n",
       "41           1.0           1.0           NaN           NaN  "
      ]
     },
     "execution_count": 56,
     "metadata": {},
     "output_type": "execute_result"
    }
   ],
   "source": [
    "print train_cat.shape\n",
    "train_cat.head()"
   ]
  },
  {
   "cell_type": "code",
   "execution_count": 57,
   "metadata": {
    "collapsed": true
   },
   "outputs": [],
   "source": [
    "combined_cat = pd.concat([train_cat, test_cat])"
   ]
  },
  {
   "cell_type": "code",
   "execution_count": 58,
   "metadata": {
    "collapsed": false
   },
   "outputs": [],
   "source": [
    "combined_cat = combined_cat.astype(str)"
   ]
  },
  {
   "cell_type": "code",
   "execution_count": 59,
   "metadata": {
    "collapsed": false
   },
   "outputs": [],
   "source": [
    "oneHot_combined_cat = pd.get_dummies(combined_cat, dummy_na=True)"
   ]
  },
  {
   "cell_type": "code",
   "execution_count": 60,
   "metadata": {
    "collapsed": false,
    "scrolled": true
   },
   "outputs": [
    {
     "data": {
      "text/html": [
       "<div>\n",
       "<table border=\"1\" class=\"dataframe\">\n",
       "  <thead>\n",
       "    <tr style=\"text-align: right;\">\n",
       "      <th></th>\n",
       "      <th>L1_S24_F675_1.0</th>\n",
       "      <th>L1_S24_F675_2.0</th>\n",
       "      <th>L1_S24_F675_3.0</th>\n",
       "      <th>L1_S24_F675_4.0</th>\n",
       "      <th>L1_S24_F675_5.0</th>\n",
       "      <th>L1_S24_F675_nan</th>\n",
       "      <th>L1_S24_F675_nan</th>\n",
       "      <th>L1_S24_F1510_1.0</th>\n",
       "      <th>L1_S24_F1510_2.0</th>\n",
       "      <th>L1_S24_F1510_3.0</th>\n",
       "      <th>...</th>\n",
       "      <th>L3_S32_F3854_4.0</th>\n",
       "      <th>L3_S32_F3854_48.0</th>\n",
       "      <th>L3_S32_F3854_492.0</th>\n",
       "      <th>L3_S32_F3854_512.0</th>\n",
       "      <th>L3_S32_F3854_55424.0</th>\n",
       "      <th>L3_S32_F3854_63616.0</th>\n",
       "      <th>L3_S32_F3854_65536.0</th>\n",
       "      <th>L3_S32_F3854_8.0</th>\n",
       "      <th>L3_S32_F3854_nan</th>\n",
       "      <th>L3_S32_F3854_nan</th>\n",
       "    </tr>\n",
       "    <tr>\n",
       "      <th>Id</th>\n",
       "      <th></th>\n",
       "      <th></th>\n",
       "      <th></th>\n",
       "      <th></th>\n",
       "      <th></th>\n",
       "      <th></th>\n",
       "      <th></th>\n",
       "      <th></th>\n",
       "      <th></th>\n",
       "      <th></th>\n",
       "      <th></th>\n",
       "      <th></th>\n",
       "      <th></th>\n",
       "      <th></th>\n",
       "      <th></th>\n",
       "      <th></th>\n",
       "      <th></th>\n",
       "      <th></th>\n",
       "      <th></th>\n",
       "      <th></th>\n",
       "      <th></th>\n",
       "    </tr>\n",
       "  </thead>\n",
       "  <tbody>\n",
       "    <tr>\n",
       "      <th>6</th>\n",
       "      <td>0.0</td>\n",
       "      <td>0.0</td>\n",
       "      <td>0.0</td>\n",
       "      <td>0.0</td>\n",
       "      <td>0.0</td>\n",
       "      <td>1.0</td>\n",
       "      <td>0.0</td>\n",
       "      <td>0.0</td>\n",
       "      <td>0.0</td>\n",
       "      <td>0.0</td>\n",
       "      <td>...</td>\n",
       "      <td>0.0</td>\n",
       "      <td>0.0</td>\n",
       "      <td>0.0</td>\n",
       "      <td>0.0</td>\n",
       "      <td>0.0</td>\n",
       "      <td>0.0</td>\n",
       "      <td>0.0</td>\n",
       "      <td>0.0</td>\n",
       "      <td>1.0</td>\n",
       "      <td>0.0</td>\n",
       "    </tr>\n",
       "    <tr>\n",
       "      <th>14</th>\n",
       "      <td>0.0</td>\n",
       "      <td>0.0</td>\n",
       "      <td>0.0</td>\n",
       "      <td>0.0</td>\n",
       "      <td>0.0</td>\n",
       "      <td>1.0</td>\n",
       "      <td>0.0</td>\n",
       "      <td>0.0</td>\n",
       "      <td>0.0</td>\n",
       "      <td>0.0</td>\n",
       "      <td>...</td>\n",
       "      <td>0.0</td>\n",
       "      <td>0.0</td>\n",
       "      <td>0.0</td>\n",
       "      <td>0.0</td>\n",
       "      <td>0.0</td>\n",
       "      <td>0.0</td>\n",
       "      <td>0.0</td>\n",
       "      <td>0.0</td>\n",
       "      <td>1.0</td>\n",
       "      <td>0.0</td>\n",
       "    </tr>\n",
       "    <tr>\n",
       "      <th>16</th>\n",
       "      <td>0.0</td>\n",
       "      <td>0.0</td>\n",
       "      <td>0.0</td>\n",
       "      <td>0.0</td>\n",
       "      <td>0.0</td>\n",
       "      <td>1.0</td>\n",
       "      <td>0.0</td>\n",
       "      <td>0.0</td>\n",
       "      <td>0.0</td>\n",
       "      <td>1.0</td>\n",
       "      <td>...</td>\n",
       "      <td>0.0</td>\n",
       "      <td>0.0</td>\n",
       "      <td>0.0</td>\n",
       "      <td>0.0</td>\n",
       "      <td>0.0</td>\n",
       "      <td>0.0</td>\n",
       "      <td>0.0</td>\n",
       "      <td>0.0</td>\n",
       "      <td>1.0</td>\n",
       "      <td>0.0</td>\n",
       "    </tr>\n",
       "    <tr>\n",
       "      <th>23</th>\n",
       "      <td>0.0</td>\n",
       "      <td>0.0</td>\n",
       "      <td>0.0</td>\n",
       "      <td>0.0</td>\n",
       "      <td>0.0</td>\n",
       "      <td>1.0</td>\n",
       "      <td>0.0</td>\n",
       "      <td>0.0</td>\n",
       "      <td>0.0</td>\n",
       "      <td>0.0</td>\n",
       "      <td>...</td>\n",
       "      <td>0.0</td>\n",
       "      <td>0.0</td>\n",
       "      <td>0.0</td>\n",
       "      <td>0.0</td>\n",
       "      <td>0.0</td>\n",
       "      <td>0.0</td>\n",
       "      <td>0.0</td>\n",
       "      <td>0.0</td>\n",
       "      <td>1.0</td>\n",
       "      <td>0.0</td>\n",
       "    </tr>\n",
       "    <tr>\n",
       "      <th>41</th>\n",
       "      <td>0.0</td>\n",
       "      <td>0.0</td>\n",
       "      <td>0.0</td>\n",
       "      <td>0.0</td>\n",
       "      <td>0.0</td>\n",
       "      <td>1.0</td>\n",
       "      <td>0.0</td>\n",
       "      <td>0.0</td>\n",
       "      <td>0.0</td>\n",
       "      <td>0.0</td>\n",
       "      <td>...</td>\n",
       "      <td>0.0</td>\n",
       "      <td>0.0</td>\n",
       "      <td>0.0</td>\n",
       "      <td>0.0</td>\n",
       "      <td>0.0</td>\n",
       "      <td>0.0</td>\n",
       "      <td>0.0</td>\n",
       "      <td>0.0</td>\n",
       "      <td>1.0</td>\n",
       "      <td>0.0</td>\n",
       "    </tr>\n",
       "  </tbody>\n",
       "</table>\n",
       "<p>5 rows × 102 columns</p>\n",
       "</div>"
      ],
      "text/plain": [
       "    L1_S24_F675_1.0  L1_S24_F675_2.0  L1_S24_F675_3.0  L1_S24_F675_4.0  \\\n",
       "Id                                                                       \n",
       "6               0.0              0.0              0.0              0.0   \n",
       "14              0.0              0.0              0.0              0.0   \n",
       "16              0.0              0.0              0.0              0.0   \n",
       "23              0.0              0.0              0.0              0.0   \n",
       "41              0.0              0.0              0.0              0.0   \n",
       "\n",
       "    L1_S24_F675_5.0  L1_S24_F675_nan  L1_S24_F675_nan  L1_S24_F1510_1.0  \\\n",
       "Id                                                                        \n",
       "6               0.0              1.0              0.0               0.0   \n",
       "14              0.0              1.0              0.0               0.0   \n",
       "16              0.0              1.0              0.0               0.0   \n",
       "23              0.0              1.0              0.0               0.0   \n",
       "41              0.0              1.0              0.0               0.0   \n",
       "\n",
       "    L1_S24_F1510_2.0  L1_S24_F1510_3.0        ...         L3_S32_F3854_4.0  \\\n",
       "Id                                            ...                            \n",
       "6                0.0               0.0        ...                      0.0   \n",
       "14               0.0               0.0        ...                      0.0   \n",
       "16               0.0               1.0        ...                      0.0   \n",
       "23               0.0               0.0        ...                      0.0   \n",
       "41               0.0               0.0        ...                      0.0   \n",
       "\n",
       "    L3_S32_F3854_48.0  L3_S32_F3854_492.0  L3_S32_F3854_512.0  \\\n",
       "Id                                                              \n",
       "6                 0.0                 0.0                 0.0   \n",
       "14                0.0                 0.0                 0.0   \n",
       "16                0.0                 0.0                 0.0   \n",
       "23                0.0                 0.0                 0.0   \n",
       "41                0.0                 0.0                 0.0   \n",
       "\n",
       "    L3_S32_F3854_55424.0  L3_S32_F3854_63616.0  L3_S32_F3854_65536.0  \\\n",
       "Id                                                                     \n",
       "6                    0.0                   0.0                   0.0   \n",
       "14                   0.0                   0.0                   0.0   \n",
       "16                   0.0                   0.0                   0.0   \n",
       "23                   0.0                   0.0                   0.0   \n",
       "41                   0.0                   0.0                   0.0   \n",
       "\n",
       "    L3_S32_F3854_8.0  L3_S32_F3854_nan  L3_S32_F3854_nan  \n",
       "Id                                                        \n",
       "6                0.0               1.0               0.0  \n",
       "14               0.0               1.0               0.0  \n",
       "16               0.0               1.0               0.0  \n",
       "23               0.0               1.0               0.0  \n",
       "41               0.0               1.0               0.0  \n",
       "\n",
       "[5 rows x 102 columns]"
      ]
     },
     "execution_count": 60,
     "metadata": {},
     "output_type": "execute_result"
    }
   ],
   "source": [
    "oneHot_combined_cat.head()"
   ]
  },
  {
   "cell_type": "code",
   "execution_count": null,
   "metadata": {
    "collapsed": true
   },
   "outputs": [],
   "source": [
    "combined_train_data"
   ]
  },
  {
   "cell_type": "code",
   "execution_count": null,
   "metadata": {
    "collapsed": true
   },
   "outputs": [],
   "source": []
  },
  {
   "cell_type": "code",
   "execution_count": null,
   "metadata": {
    "collapsed": true
   },
   "outputs": [],
   "source": []
  },
  {
   "cell_type": "code",
   "execution_count": null,
   "metadata": {
    "collapsed": true
   },
   "outputs": [],
   "source": []
  },
  {
   "cell_type": "code",
   "execution_count": null,
   "metadata": {
    "collapsed": true
   },
   "outputs": [],
   "source": []
  },
  {
   "cell_type": "code",
   "execution_count": 31,
   "metadata": {
    "collapsed": false
   },
   "outputs": [
    {
     "name": "stdout",
     "output_type": "stream",
     "text": [
      "3.0    21368\n",
      "2.0     1813\n",
      "4.0      191\n",
      "1.0       17\n",
      "5.0        7\n",
      "Name: L1_S24_F675, dtype: int64\n",
      "3.0    121130\n",
      "2.0      8575\n",
      "4.0      1449\n",
      "1.0       174\n",
      "5.0        78\n",
      "Name: L1_S24_F1510, dtype: int64\n",
      "1.0    136\n",
      "Name: L1_S24_F1582, dtype: int64\n",
      "1.0    65819\n",
      "Name: L1_S24_F1584, dtype: int64\n",
      "1372.0       64\n",
      "262144.0     34\n",
      "24.0         20\n",
      "8389632.0     9\n",
      "748928.0      2\n",
      "618624.0      2\n",
      "83888.0       2\n",
      "8651776.0     1\n",
      "8768.0        1\n",
      "16.0          1\n",
      "Name: L1_S24_F1585, dtype: int64\n",
      "4.0    41376\n",
      "5.0    10156\n",
      "3.0     2486\n",
      "6.0      604\n",
      "2.0      243\n",
      "7.0      185\n",
      "1.0       32\n",
      "8.0       21\n",
      "Name: L1_S25_F1852, dtype: int64\n",
      "1.0    5303\n",
      "Name: L1_S25_F2099, dtype: int64\n",
      "4.0    11500\n",
      "5.0     4942\n",
      "3.0      965\n",
      "6.0      254\n",
      "2.0       67\n",
      "7.0       30\n",
      "1.0       12\n",
      "8.0        1\n",
      "Name: L1_S25_F2779, dtype: int64\n",
      "1.0    180002\n",
      "Name: L2_S26_F3038, dtype: int64\n",
      "1.0    78356\n",
      "Name: L2_S27_F3131, dtype: int64\n",
      "1.0    341597\n",
      "Name: L3_S29_F3317, dtype: int64\n",
      "1.0    327624\n",
      "Name: L3_S29_F3475, dtype: int64\n",
      "1.0    8958\n",
      "Name: L3_S32_F3851, dtype: int64\n",
      " 2.000000e+00    1983\n",
      " 1.280000e+02    1830\n",
      " 1.600000e+01    1380\n",
      " 8.000000e+00    1061\n",
      " 5.120000e+02     569\n",
      " 2.560000e+02     545\n",
      " 4.000000e+00     381\n",
      " 1.000000e+00     266\n",
      "-2.147484e+09     197\n",
      "-2.147483e+09     171\n",
      "-2.147483e+09     144\n",
      " 4.800000e+01     137\n",
      "-2.147482e+09     123\n",
      " 1.152000e+03      53\n",
      "-2.147487e+07      43\n",
      " 3.289600e+04      17\n",
      " 3.699200e+04      16\n",
      "-2.147482e+09      15\n",
      "-2.147482e+07       8\n",
      " 1.310000e+03       7\n",
      " 4.920000e+02       3\n",
      "-2.147482e+07       3\n",
      " 1.651200e+04       2\n",
      " 5.542400e+04       1\n",
      " 3.200000e+01       1\n",
      " 2.400000e+01       1\n",
      " 6.361600e+04       1\n",
      "Name: L3_S32_F3854, dtype: int64\n"
     ]
    }
   ],
   "source": [
    "for column in tmp_train_cat.columns:\n",
    "    print tmp_train_cat[column].value_counts()"
   ]
  },
  {
   "cell_type": "code",
   "execution_count": null,
   "metadata": {
    "collapsed": true
   },
   "outputs": [],
   "source": []
  },
  {
   "cell_type": "code",
   "execution_count": null,
   "metadata": {
    "collapsed": true
   },
   "outputs": [],
   "source": []
  },
  {
   "cell_type": "code",
   "execution_count": null,
   "metadata": {
    "collapsed": true
   },
   "outputs": [],
   "source": []
  },
  {
   "cell_type": "code",
   "execution_count": 59,
   "metadata": {
    "collapsed": true
   },
   "outputs": [],
   "source": [
    "#train_date = pd.read_csv(data_path + train_date_file, index_col='Id', skiprows=skipped_train_row_num, nrows = nrows)\n",
    "train_num  = pd.read_csv(data_path + train_num_file,  index_col='Id', skiprows=skipped_train_row_num, nrows = nrows)\n",
    "train_cat  = pd.read_csv(data_path + train_cat_file,  index_col='Id', skiprows=skipped_train_row_num, nrows = nrows)"
   ]
  },
  {
   "cell_type": "code",
   "execution_count": 60,
   "metadata": {
    "collapsed": false
   },
   "outputs": [],
   "source": [
    "train_cat[dep_var_name] = train_num[dep_var_name]"
   ]
  },
  {
   "cell_type": "code",
   "execution_count": 44,
   "metadata": {
    "collapsed": false
   },
   "outputs": [
    {
     "name": "stdout",
     "output_type": "stream",
     "text": [
      "L1_S24_F675\n",
      "L1_S24_F705\n",
      "L1_S24_F710\n",
      "L1_S24_F1114\n",
      "L1_S24_F1137\n",
      "L1_S24_F1140\n",
      "L1_S24_F1510\n",
      "L1_S24_F1525\n",
      "L1_S24_F1530\n",
      "L1_S24_F1585\n",
      "L1_S24_F1589\n",
      "L1_S24_F1593\n",
      "L1_S24_F1598\n",
      "L1_S24_F1603\n",
      "L1_S24_F1608\n",
      "L1_S24_F1613\n",
      "L1_S24_F1617\n",
      "L1_S24_F1621\n",
      "L1_S24_F1626\n",
      "L1_S24_F1631\n",
      "L1_S24_F1636\n",
      "L1_S24_F1641\n",
      "L1_S24_F1646\n",
      "L1_S24_F1651\n",
      "L1_S24_F1656\n",
      "L1_S24_F1661\n",
      "L1_S24_F1666\n",
      "L1_S24_F1671\n",
      "L1_S25_F1852\n",
      "L1_S25_F2229\n",
      "L1_S25_F2496\n",
      "L1_S25_F2779\n",
      "L3_S32_F3854\n"
     ]
    }
   ],
   "source": [
    "for column in train_cat.columns:\n",
    "    if len(train_cat[column].value_counts().keys()) > 2:\n",
    "        print column"
   ]
  },
  {
   "cell_type": "code",
   "execution_count": 61,
   "metadata": {
    "collapsed": true
   },
   "outputs": [],
   "source": [
    "tmp_train_cat = train_cat.copy()"
   ]
  },
  {
   "cell_type": "code",
   "execution_count": 62,
   "metadata": {
    "collapsed": false,
    "scrolled": true
   },
   "outputs": [
    {
     "name": "stdout",
     "output_type": "stream",
     "text": [
      "9586\n"
     ]
    }
   ],
   "source": [
    "col_name = 'L1_S24_F710'\n",
    "#train_cat[[col_name, dep_var_name]].groupby(col_name).mean()\n",
    "#print train_cat[col_name].value_counts()\n",
    "print tmp_train_cat[col_name].isnull().sum()"
   ]
  },
  {
   "cell_type": "code",
   "execution_count": 63,
   "metadata": {
    "collapsed": false
   },
   "outputs": [],
   "source": [
    "tmp_train_cat[col_name] = tmp_train_cat[col_name].fillna('missing')\n",
    "dict_results = tmp_train_cat[col_name].value_counts().to_dict()"
   ]
  },
  {
   "cell_type": "code",
   "execution_count": 64,
   "metadata": {
    "collapsed": false
   },
   "outputs": [
    {
     "data": {
      "text/plain": [
       "{2.0: 35, 3.0: 373, 4.0: 6, 'missing': 9586}"
      ]
     },
     "execution_count": 64,
     "metadata": {},
     "output_type": "execute_result"
    }
   ],
   "source": [
    "dict_results"
   ]
  },
  {
   "cell_type": "code",
   "execution_count": 84,
   "metadata": {
    "collapsed": true
   },
   "outputs": [],
   "source": [
    "mean_dep_var_value = tmp_train_cat[[col_name, dep_var_name]].groupby(col_name).mean()[dep_var_name]"
   ]
  },
  {
   "cell_type": "code",
   "execution_count": 85,
   "metadata": {
    "collapsed": false,
    "scrolled": true
   },
   "outputs": [],
   "source": [
    "dep_var_dict = mean_dep_var_value.to_dict()"
   ]
  },
  {
   "cell_type": "code",
   "execution_count": 86,
   "metadata": {
    "collapsed": false
   },
   "outputs": [
    {
     "data": {
      "text/plain": [
       "{2.0: 0.0,\n",
       " 3.0: 0.0026809651474530832,\n",
       " 4.0: 0.16666666666666666,\n",
       " 'missing': 0.0063634466930940952}"
      ]
     },
     "execution_count": 86,
     "metadata": {},
     "output_type": "execute_result"
    }
   ],
   "source": [
    "dep_var_dict"
   ]
  },
  {
   "cell_type": "code",
   "execution_count": 77,
   "metadata": {
    "collapsed": false
   },
   "outputs": [
    {
     "data": {
      "text/plain": [
       "[2.0, 3.0, 4.0, 'missing']"
      ]
     },
     "execution_count": 77,
     "metadata": {},
     "output_type": "execute_result"
    }
   ],
   "source": [
    "aa.keys()"
   ]
  }
 ],
 "metadata": {
  "kernelspec": {
   "display_name": "Python 2",
   "language": "python",
   "name": "python2"
  },
  "language_info": {
   "codemirror_mode": {
    "name": "ipython",
    "version": 2
   },
   "file_extension": ".py",
   "mimetype": "text/x-python",
   "name": "python",
   "nbconvert_exporter": "python",
   "pygments_lexer": "ipython2",
   "version": "2.7.6"
  }
 },
 "nbformat": 4,
 "nbformat_minor": 0
}
