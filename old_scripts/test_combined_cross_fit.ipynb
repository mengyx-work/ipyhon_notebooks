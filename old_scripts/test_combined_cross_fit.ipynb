{
 "cells": [
  {
   "cell_type": "code",
   "execution_count": 1,
   "metadata": {
    "collapsed": true
   },
   "outputs": [],
   "source": [
    "import os, sys, time\n",
    "import pandas as pd\n",
    "sys.path.append('/home/ymm/kaggle/xgboost_hyperopt')\n",
    "import utils\n",
    "from utils.models import CombinedModel"
   ]
  },
  {
   "cell_type": "code",
   "execution_count": 2,
   "metadata": {
    "collapsed": true
   },
   "outputs": [],
   "source": [
    "from utils.bosch_functions import load_processed_bosch_data\n",
    "## 15 bins data\n",
    "'''\n",
    "project_yml_path    = '/mnt/home/ymm/kaggle/compete/current'\n",
    "data_path           = '/home/ymm/kaggle/bosch_data/bosch_complete_processed_15_bins_data'\n",
    "data_yaml_file      = 'bosch_processed_data_dict.yml'\n",
    "bin_index = '1'\n",
    "train, test  = load_processed_bosch_data(data_path, data_yaml_file, data_index = bin_index, load_test=True)\n",
    "'''\n",
    "train = pd.read_csv('/home/ymm/kaggle/bosch_data/bosch_complete_processed_15_bins_data/processed_totBins_16_bin_0_train.csv', index_col='Id', nrows=5000)"
   ]
  },
  {
   "cell_type": "code",
   "execution_count": 3,
   "metadata": {
    "collapsed": true
   },
   "outputs": [],
   "source": [
    "test = pd.read_csv('/home/ymm/kaggle/bosch_data/bosch_complete_processed_15_bins_data/processed_totBins_16_bin_0_test.csv', index_col='Id', nrows=5000)"
   ]
  },
  {
   "cell_type": "code",
   "execution_count": 4,
   "metadata": {
    "collapsed": true
   },
   "outputs": [],
   "source": [
    "dep_var_name = 'Response'\n",
    "## params for combined model\n",
    "raw_models_yaml_file    = 'raw_combined_models.yml'\n",
    "trained_model_yaml_file = 'trained_combined_model.yml'\n",
    "project_path            = '/mnt/home/ymm/kaggle/compete/current/combined_model'\n",
    "raw_models_yaml_path    = '/mnt/home/ymm/kaggle/compete/current/combined_model'"
   ]
  },
  {
   "cell_type": "code",
   "execution_count": 5,
   "metadata": {
    "collapsed": true
   },
   "outputs": [],
   "source": [
    " ## train the comined model\n",
    "combined_model_params = {}\n",
    "combined_model_params['raw_models_yaml_file']   = raw_models_yaml_file\n",
    "combined_model_params['project_path']           = project_path\n",
    "combined_model_params['models_yaml_file']       = trained_model_yaml_file\n",
    "combined_model_params['raw_models_yaml_path']   = raw_models_yaml_path\n",
    "\n",
    "## build the combined model\n",
    "combined_model = utils.models.CombinedModel(combined_model_params)"
   ]
  },
  {
   "cell_type": "code",
   "execution_count": 5,
   "metadata": {
    "collapsed": true
   },
   "outputs": [],
   "source": [
    "best_mcc, best_thres = combined_model.mcc_eval_func([1, 1, 0, 0, 1, 0], [0.5, 0.3, 0.2, 0.1, 0.23, 0.77])"
   ]
  },
  {
   "cell_type": "code",
   "execution_count": 5,
   "metadata": {
    "collapsed": false
   },
   "outputs": [
    {
     "name": "stdout",
     "output_type": "stream",
     "text": [
      "the predict_path /mnt/home/ymm/kaggle/compete/current/combined_model already exits, overwrite the contents...\n",
      "scale_pos_weight: 1249.0\n",
      "weights are used for xgboost training data...\n"
     ]
    },
    {
     "name": "stderr",
     "output_type": "stream",
     "text": [
      "\n",
      "####################\n",
      " train the xgboost without early stopping\n",
      "####################\n"
     ]
    },
    {
     "name": "stdout",
     "output_type": "stream",
     "text": [
      "[0]\ttrain-auc:0.9998\n",
      "[1]\ttrain-auc:0.9998\n",
      "[2]\ttrain-auc:0.9998\n",
      "[3]\ttrain-auc:0.9998\n",
      "[4]\ttrain-auc:0.9998\n",
      "the xgboost fit is finished by using 2.52096104622 seconds, saved into /mnt/home/ymm/kaggle/compete/current/combined_model/combinedModel_indexed_0_Xgboost_model_2_folds_eval\n"
     ]
    },
    {
     "name": "stderr",
     "output_type": "stream",
     "text": [
      "\n",
      "####################\n",
      " train the xgboost without early stopping\n",
      "####################\n"
     ]
    },
    {
     "name": "stdout",
     "output_type": "stream",
     "text": [
      "[0]\ttrain-auc:0.7494\n",
      "[1]\ttrain-auc:0.998499\n",
      "[2]\ttrain-auc:0.998499\n",
      "[3]\ttrain-auc:0.998499\n",
      "[4]\ttrain-auc:0.998499\n",
      "the xgboost fit is finished by using 2.56630301476 seconds, saved into /mnt/home/ymm/kaggle/compete/current/combined_model/combinedModel_indexed_1_Xgboost_model_2_folds_eval\n",
      "finished training Xgboost model indexed 0 from combined model\n",
      "finished training ExtraTree model indexed 1 from combined model\n",
      "finished training RandomForest model indexed 2 from combined model\n"
     ]
    }
   ],
   "source": [
    "#combined_model.cross_vlidate_fit(train, dep_var_name)"
   ]
  },
  {
   "cell_type": "code",
   "execution_count": 6,
   "metadata": {
    "collapsed": false
   },
   "outputs": [
    {
     "name": "stdout",
     "output_type": "stream",
     "text": [
      "in the prediction step, dep_var_name is not provided....\n",
      "in the prediction step, dep_var_name is not provided....\n"
     ]
    }
   ],
   "source": [
    "pred_df = combined_model.predict(test)"
   ]
  },
  {
   "cell_type": "code",
   "execution_count": 7,
   "metadata": {
    "collapsed": false,
    "scrolled": true
   },
   "outputs": [
    {
     "name": "stdout",
     "output_type": "stream",
     "text": [
      "(5000,)\n"
     ]
    },
    {
     "data": {
      "text/plain": [
       "Id\n",
       "114    0\n",
       "154    0\n",
       "155    0\n",
       "329    0\n",
       "402    0\n",
       "dtype: int64"
      ]
     },
     "execution_count": 7,
     "metadata": {},
     "output_type": "execute_result"
    }
   ],
   "source": [
    "print pred_df.shape\n",
    "pred_df.head()"
   ]
  },
  {
   "cell_type": "code",
   "execution_count": 10,
   "metadata": {
    "collapsed": false
   },
   "outputs": [
    {
     "data": {
      "text/plain": [
       "Id\n",
       "114       0.166667\n",
       "154       0.333333\n",
       "155       0.333333\n",
       "329       0.000000\n",
       "402       0.000000\n",
       "419       0.000000\n",
       "462       0.000000\n",
       "543       0.333333\n",
       "559       0.166667\n",
       "593       0.000000\n",
       "716       0.166667\n",
       "782       0.000000\n",
       "807       0.000000\n",
       "846       0.000000\n",
       "856       0.333333\n",
       "857       0.166667\n",
       "858       0.000000\n",
       "924       0.000000\n",
       "930       0.000000\n",
       "965       0.166667\n",
       "972       0.166667\n",
       "1131      0.000000\n",
       "1238      0.000000\n",
       "1265      0.000000\n",
       "1303      0.000000\n",
       "1319      0.000000\n",
       "1330      0.000000\n",
       "1405      0.000000\n",
       "1434      0.333333\n",
       "1479      0.000000\n",
       "            ...   \n",
       "251747    0.000000\n",
       "251750    0.000000\n",
       "251763    0.166667\n",
       "251767    0.000000\n",
       "251793    0.000000\n",
       "251802    0.000000\n",
       "251860    0.000000\n",
       "251883    0.166667\n",
       "251885    0.000000\n",
       "251890    0.000000\n",
       "251933    0.000000\n",
       "251942    0.166667\n",
       "251970    0.000000\n",
       "251989    0.000000\n",
       "251993    0.000000\n",
       "252020    0.166667\n",
       "252049    0.166667\n",
       "252060    0.000000\n",
       "252097    0.166667\n",
       "252239    0.166667\n",
       "252261    0.000000\n",
       "252295    0.333333\n",
       "252360    0.000000\n",
       "252388    0.000000\n",
       "252468    0.333333\n",
       "252610    0.000000\n",
       "252618    0.166667\n",
       "252648    0.333333\n",
       "252821    0.166667\n",
       "252839    0.000000\n",
       "dtype: float64"
      ]
     },
     "execution_count": 10,
     "metadata": {},
     "output_type": "execute_result"
    }
   ],
   "source": [
    "pred_df.mean(axis=1)"
   ]
  }
 ],
 "metadata": {
  "kernelspec": {
   "display_name": "Python 2",
   "language": "python",
   "name": "python2"
  },
  "language_info": {
   "codemirror_mode": {
    "name": "ipython",
    "version": 2
   },
   "file_extension": ".py",
   "mimetype": "text/x-python",
   "name": "python",
   "nbconvert_exporter": "python",
   "pygments_lexer": "ipython2",
   "version": "2.7.6"
  }
 },
 "nbformat": 4,
 "nbformat_minor": 0
}
