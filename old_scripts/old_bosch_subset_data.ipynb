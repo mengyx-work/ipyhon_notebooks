{
 "cells": [
  {
   "cell_type": "code",
   "execution_count": 95,
   "metadata": {
    "collapsed": true
   },
   "outputs": [],
   "source": [
    "%matplotlib inline\n",
    "import os, sys, time\n",
    "import pandas as pd\n",
    "import numpy as np\n",
    "import seaborn as sb\n",
    "from sklearn.preprocessing import LabelEncoder\n",
    "from scipy.sparse import csr_matrix, hstack\n",
    "\n",
    "\n",
    "import matplotlib.pyplot as plt\n",
    "\n",
    "import yaml\n",
    "import cPickle as pickle"
   ]
  },
  {
   "cell_type": "code",
   "execution_count": 99,
   "metadata": {
    "collapsed": true
   },
   "outputs": [],
   "source": [
    "data_path = '/home/ymm/bosch/'\n",
    "\n",
    "train_num_file   = 'train_numeric.csv'\n",
    "train_cat_file   = 'train_categorical.csv'\n",
    "train_date_file  = 'train_date.csv'\n",
    "test_num_file    = 'test_numeric.csv'\n",
    "test_cat_file    = 'test_categorical.csv'\n",
    "test_date_file   = 'test_date.csv'\n",
    "\n",
    "sample_submission_file   = 'sample_submission.csv'\n",
    "pickle_column_names_file = data_path + 'cat_col_names.pkl'"
   ]
  },
  {
   "cell_type": "code",
   "execution_count": 101,
   "metadata": {
    "collapsed": false
   },
   "outputs": [],
   "source": [
    "'''\n",
    "This section loads a fraction of categorical data and save the columns\n",
    "names into a pickle file named by 'pickle_column_names_file'.\n",
    "So that the following categorical data loading can directly use explicitly types\n",
    "'''\n",
    "\n",
    "def create_categorical_column_name_pickle(train_cat_file, pickle_column_names_file):\n",
    "    \n",
    "    tmp_train_cat = pd.read_csv(data_path + train_cat_file, index_col='Id', nrows=1000)\n",
    "\n",
    "    #for col, dtype in zip(tmp_train_cat.columns, tmp_train_cat.dtypes):\n",
    "    #    print len(train_cat[col].unique()), dtype\n",
    "\n",
    "    ## save the column names to pickle file\n",
    "    col_names = tmp_train_cat.columns.tolist()\n",
    "    with open(pickle_column_names_file, 'wb') as pickle_file:\n",
    "        pickle.dump(col_names, pickle_file)"
   ]
  },
  {
   "cell_type": "code",
   "execution_count": 24,
   "metadata": {
    "collapsed": true
   },
   "outputs": [],
   "source": [
    "start_time_column_name = 'L0_S0_D1'\n",
    "id_column_name = 'Id'\n",
    "dep_var_name = 'Response'\n",
    "\n",
    "## number of bins to separate data by start_time\n",
    "bin_num = 15"
   ]
  },
  {
   "cell_type": "code",
   "execution_count": 27,
   "metadata": {
    "collapsed": false
   },
   "outputs": [
    {
     "name": "stdout",
     "output_type": "stream",
     "text": [
      "data loading takes  57.462346077  seconds.\n"
     ]
    }
   ],
   "source": [
    "start_time = time.time()\n",
    "## load the labels and start_time column for train and test data\n",
    "train_labels = pd.read_csv(data_path + train_num_file, index_col='Id', usecols=['Id', dep_var_name])\n",
    "train_date_start_columm = pd.read_csv(data_path + train_date_file, index_col='Id', usecols=['Id', start_time_column_name])\n",
    "test_date_start_columm = pd.read_csv(data_path + test_date_file, index_col='Id', usecols=['Id', start_time_column_name])\n",
    "end_time = time.time()\n",
    "print 'data loading takes ', round((end_time - start_time), 1), ' seconds.'"
   ]
  },
  {
   "cell_type": "code",
   "execution_count": 36,
   "metadata": {
    "collapsed": false
   },
   "outputs": [
    {
     "name": "stdout",
     "output_type": "stream",
     "text": [
      "(1183747, 2)\n"
     ]
    }
   ],
   "source": [
    "## join the start_time with labels, then drop the NaN in start_time\n",
    "labeled_start_time = pd.merge(train_labels, train_date_start_columm, how='left', left_index=True, right_index=True)\n",
    "print labeled_start_time.shape\n",
    "## this labeled_start_time dataFrame doesn't contain the NaN\n",
    "## can be directly used for calculating the mquantiles\n",
    "labeled_start_time = labeled_start_time[~labeled_start_time[start_time_column_name].isnull()]"
   ]
  },
  {
   "cell_type": "code",
   "execution_count": 58,
   "metadata": {
    "collapsed": false
   },
   "outputs": [],
   "source": [
    "'''\n",
    "section to subset the data by start_time\n",
    "'''\n",
    "from scipy.stats.mstats import mquantiles\n",
    "\n",
    "prob_list = [1.*i/bin_num for i in range(1, bin_num)]\n",
    "quantile_values = mquantiles(labeled_start_time[start_time_column_name], prob=prob_list)\n",
    "\n",
    "bins = [labeled_start_time[start_time_column_name].min()]\n",
    "bins.extend(quantile_values)\n",
    "bins.append(labeled_start_time[start_time_column_name].max())\n",
    "bin_names = [str(i) for i in range(len(bins)-1)]"
   ]
  },
  {
   "cell_type": "code",
   "execution_count": 155,
   "metadata": {
    "collapsed": false,
    "scrolled": true
   },
   "outputs": [],
   "source": [
    "## cut the entire dataframe into different time_windows by start_time\n",
    "tmp_train = train_date_start_columm.copy()\n",
    "tmp_test = test_date_start_columm.copy()\n",
    "\n",
    "tmp_train['time_window_num'] = pd.cut(tmp_train[start_time_column_name], bins, labels=bin_names)\n",
    "tmp_test['time_window_num'] = pd.cut(tmp_test[start_time_column_name], bins, labels=bin_names)\n",
    "## create a row number column, start index is 1\n",
    "tmp_train['row_num'] = range(1, (tmp_train.shape[0] + 1))\n",
    "tmp_test['row_num'] = range(1, (tmp_test.shape[0] + 1))"
   ]
  },
  {
   "cell_type": "code",
   "execution_count": 156,
   "metadata": {
    "collapsed": false
   },
   "outputs": [
    {
     "data": {
      "text/html": [
       "<div>\n",
       "<table border=\"1\" class=\"dataframe\">\n",
       "  <thead>\n",
       "    <tr style=\"text-align: right;\">\n",
       "      <th></th>\n",
       "      <th>L0_S0_D1</th>\n",
       "      <th>time_window_num</th>\n",
       "      <th>row_num</th>\n",
       "    </tr>\n",
       "    <tr>\n",
       "      <th>Id</th>\n",
       "      <th></th>\n",
       "      <th></th>\n",
       "      <th></th>\n",
       "    </tr>\n",
       "  </thead>\n",
       "  <tbody>\n",
       "    <tr>\n",
       "      <th>4</th>\n",
       "      <td>82.24</td>\n",
       "      <td>0</td>\n",
       "      <td>1</td>\n",
       "    </tr>\n",
       "    <tr>\n",
       "      <th>6</th>\n",
       "      <td>NaN</td>\n",
       "      <td>NaN</td>\n",
       "      <td>2</td>\n",
       "    </tr>\n",
       "    <tr>\n",
       "      <th>7</th>\n",
       "      <td>1618.70</td>\n",
       "      <td>14</td>\n",
       "      <td>3</td>\n",
       "    </tr>\n",
       "    <tr>\n",
       "      <th>9</th>\n",
       "      <td>1149.20</td>\n",
       "      <td>9</td>\n",
       "      <td>4</td>\n",
       "    </tr>\n",
       "    <tr>\n",
       "      <th>11</th>\n",
       "      <td>602.64</td>\n",
       "      <td>5</td>\n",
       "      <td>5</td>\n",
       "    </tr>\n",
       "  </tbody>\n",
       "</table>\n",
       "</div>"
      ],
      "text/plain": [
       "    L0_S0_D1 time_window_num  row_num\n",
       "Id                                   \n",
       "4      82.24               0        1\n",
       "6        NaN             NaN        2\n",
       "7    1618.70              14        3\n",
       "9    1149.20               9        4\n",
       "11    602.64               5        5"
      ]
     },
     "execution_count": 156,
     "metadata": {},
     "output_type": "execute_result"
    }
   ],
   "source": [
    "tmp_train.head()"
   ]
  },
  {
   "cell_type": "code",
   "execution_count": 157,
   "metadata": {
    "collapsed": false
   },
   "outputs": [
    {
     "data": {
      "text/html": [
       "<div>\n",
       "<table border=\"1\" class=\"dataframe\">\n",
       "  <thead>\n",
       "    <tr style=\"text-align: right;\">\n",
       "      <th></th>\n",
       "      <th>L0_S0_D1</th>\n",
       "      <th>time_window_num</th>\n",
       "      <th>row_num</th>\n",
       "    </tr>\n",
       "    <tr>\n",
       "      <th>Id</th>\n",
       "      <th></th>\n",
       "      <th></th>\n",
       "      <th></th>\n",
       "    </tr>\n",
       "  </thead>\n",
       "  <tbody>\n",
       "    <tr>\n",
       "      <th>1</th>\n",
       "      <td>NaN</td>\n",
       "      <td>NaN</td>\n",
       "      <td>1</td>\n",
       "    </tr>\n",
       "    <tr>\n",
       "      <th>2</th>\n",
       "      <td>NaN</td>\n",
       "      <td>NaN</td>\n",
       "      <td>2</td>\n",
       "    </tr>\n",
       "    <tr>\n",
       "      <th>3</th>\n",
       "      <td>NaN</td>\n",
       "      <td>NaN</td>\n",
       "      <td>3</td>\n",
       "    </tr>\n",
       "    <tr>\n",
       "      <th>5</th>\n",
       "      <td>255.45</td>\n",
       "      <td>2</td>\n",
       "      <td>4</td>\n",
       "    </tr>\n",
       "    <tr>\n",
       "      <th>8</th>\n",
       "      <td>NaN</td>\n",
       "      <td>NaN</td>\n",
       "      <td>5</td>\n",
       "    </tr>\n",
       "  </tbody>\n",
       "</table>\n",
       "</div>"
      ],
      "text/plain": [
       "    L0_S0_D1 time_window_num  row_num\n",
       "Id                                   \n",
       "1        NaN             NaN        1\n",
       "2        NaN             NaN        2\n",
       "3        NaN             NaN        3\n",
       "5     255.45               2        4\n",
       "8        NaN             NaN        5"
      ]
     },
     "execution_count": 157,
     "metadata": {},
     "output_type": "execute_result"
    }
   ],
   "source": [
    "tmp_test.head()"
   ]
  },
  {
   "cell_type": "code",
   "execution_count": 151,
   "metadata": {
    "collapsed": false
   },
   "outputs": [
    {
     "data": {
      "text/plain": [
       "\"\\n## sample for create the skipped row number list for row selection\\nselect_window_num = '0'\\nnone_selected_window_num = bin_names\\nnone_selected_window_num.append(np.NaN)\\nnone_selected_window_num.remove(select_window_num)\\n\\nskipped_test_row_num = tmp_test.loc[tmp_test['time_window_num'].isin(none_selected_window_num), 'row_num'].tolist()\\nskipped_train_row_num = tmp_train.loc[tmp_train['time_window_num'].isin(none_selected_window_num), 'row_num'].tolist()\\n\\nprint bin_names, len(bins)\\n\""
      ]
     },
     "execution_count": 151,
     "metadata": {},
     "output_type": "execute_result"
    }
   ],
   "source": [
    "'''\n",
    "## sample for create the skipped row number list for row selection\n",
    "select_window_num = '0'\n",
    "none_selected_window_num = bin_names\n",
    "none_selected_window_num.append(np.NaN)\n",
    "none_selected_window_num.remove(select_window_num)\n",
    "\n",
    "skipped_test_row_num = tmp_test.loc[tmp_test['time_window_num'].isin(none_selected_window_num), 'row_num'].tolist()\n",
    "skipped_train_row_num = tmp_train.loc[tmp_train['time_window_num'].isin(none_selected_window_num), 'row_num'].tolist()\n",
    "\n",
    "print bin_names, len(bins)\n",
    "'''"
   ]
  },
  {
   "cell_type": "code",
   "execution_count": 158,
   "metadata": {
    "collapsed": true
   },
   "outputs": [],
   "source": [
    "def process_date_data(train_date, test_date, start_time_column_name):\n",
    "    print 'raw date data dimension: ', train_date.shape, test_date.shape\n",
    "    train_date['start_time'] = train_date[start_time_column_name]\n",
    "    test_date['start_time'] = test_date[start_time_column_name]\n",
    "    single_value_column_names = []\n",
    "\n",
    "    for column in train_date.columns:\n",
    "        if column != 'start_time':\n",
    "            train_date[column] = train_date[column] - train_date['start_time']\n",
    "            test_date[column] = test_date[column] - test_date['start_time']\n",
    "        if len(train_date[column].unique()) == 1:\n",
    "            single_value_column_names.append(column)\n",
    "            \n",
    "    ## drop single-valued columns        \n",
    "    train_date.drop(single_value_column_names, axis=1, inplace=True)\n",
    "    test_date.drop(single_value_column_names, axis=1, inplace=True)\n",
    "    print 'processed date data dimension: ', train_date.shape, test_date.shape\n",
    "    \n",
    "\n",
    "    \n",
    "def remove_single_value_categorical_columns(train, test):\n",
    "    print 'raw categorical data dimension: ', train.shape, test.shape\n",
    "    single_value_column_names = []\n",
    "    for col in train.columns:\n",
    "        if len(train[col].unique()) == 1:\n",
    "            single_value_column_names.append(col)\n",
    "    \n",
    "    train.drop(single_value_column_names, axis=1, inplace=True)\n",
    "    test.drop(single_value_column_names, axis=1, inplace=True)\n",
    "    print 'processed categorical data dimension: ', train.shape, test.shape\n",
    "\n",
    "\n",
    "\n",
    "def encode_categorical_data(train, test, fill_missing = False):\n",
    "    '''\n",
    "    encoding is an extemely slow process\n",
    "    So only use the training data to trian the encoder\n",
    "    '''\n",
    "    le = LabelEncoder()\n",
    "    \n",
    "    if fill_missing:\n",
    "        train = train.fillna(value='missing')\n",
    "        test = test.fillna(value='missing')\n",
    "    \n",
    "    ## idealy combine the train and test\n",
    "    #combined = pd.concat([train, test], axis=0)\n",
    "    counter = 0\n",
    "    start_time = time.time()\n",
    "    for col, dtype in zip(train.columns, train.dtypes):\n",
    "        if dtype == 'object':\n",
    "            le.fit(pd.concat([train[col], test[col]], axis=0))\n",
    "            train[col] = le.transform(train[col])\n",
    "            test[col] = le.transform(test[col])\n",
    "                              \n",
    "        counter += 1\n",
    "        if counter % 20 == 0:\n",
    "            print '{} out of {} is process...'.format(str(counter), str(train.shape[1]))\n",
    "                              \n",
    "    end_time = time.time()\n",
    "    print 'encoding process takes ', round((end_time - start_time)), 'seconds'\n",
    "    \n",
    "    return train, test\n",
    "    \n",
    "\n",
    "def load_data_by_index(skipped_train_row_num, skipped_test_row_num, train_data_file, test_data_file):\n",
    "\n",
    "    start_time = time.time()\n",
    "\n",
    "    ## section to load column names for categorical data\n",
    "    if not os.path.isfile(pickle_column_names_file):\n",
    "        print 'create new column name pickle file ...'\n",
    "        create_categorical_column_name_pickle(train_cat_file, pickle_column_names_file)\n",
    "    \n",
    "    with open(pickle_column_names_file, 'rb') as pickle_file:\n",
    "        cat_column_names = pickle.load(pickle_file)\n",
    "    \n",
    "    column_types = [np.object] * len(cat_column_names)\n",
    "    column_types_dict = dict(zip(cat_column_names, column_types))\n",
    "    ######\n",
    "\n",
    "    train_date = pd.read_csv(data_path + train_date_file, index_col='Id', skiprows=skipped_train_row_num)\n",
    "    train_num = pd.read_csv(data_path + train_num_file, index_col='Id', skiprows=skipped_train_row_num)\n",
    "    train_cat = pd.read_csv(data_path + train_cat_file, index_col='Id', skiprows=skipped_train_row_num, dtype=column_types_dict)\n",
    "\n",
    "    test_date = pd.read_csv(data_path + test_date_file, index_col='Id', skiprows=skipped_test_row_num)\n",
    "    test_num = pd.read_csv(data_path + test_num_file, index_col='Id', skiprows=skipped_test_row_num)\n",
    "    test_cat = pd.read_csv(data_path + test_cat_file, index_col='Id', skiprows=skipped_test_row_num, dtype=column_types_dict)\n",
    "\n",
    "    end_time = time.time()\n",
    "    print 'data loading takes ', round((end_time - start_time), 2), 'seconds'\n",
    "    \n",
    "    ## process the date data\n",
    "    process_date_data(train_date, test_date, start_time_column_name)\n",
    "    print 'finish processing date data ...'\n",
    "    \n",
    "    ## process categorical data\n",
    "    remove_single_value_categorical_columns(train_cat, test_cat)\n",
    "    encode_categorical_data(train_cat, test_cat)\n",
    "    print 'finish processing categorical data ...'\n",
    "\n",
    "    ## combine the data and save into csv files\n",
    "    combined_train = pd.concat([train_cat, train_num, train_date], axis=1)\n",
    "    combined_test = pd.concat([test_cat, test_num, test_date], axis=1)\n",
    "    \n",
    "    combined_train.to_csv(train_data_file)\n",
    "    combined_test.to_csv(test_data_file)"
   ]
  },
  {
   "cell_type": "code",
   "execution_count": null,
   "metadata": {
    "collapsed": false,
    "scrolled": true
   },
   "outputs": [
    {
     "name": "stdout",
     "output_type": "stream",
     "text": [
      "data loading takes  555.32 seconds\n",
      "raw date data dimension:  (509886, 1156) (509245, 1156)\n",
      "processed date data dimension:  (509886, 173) (509245, 173)\n",
      "finish processing date data ...\n",
      "raw categorical data dimension:  (509886, 2140) (509245, 2140)\n",
      "processed categorical data dimension:  (509886, 1792) (509245, 1792)\n",
      "20 out of 1792 is process...\n",
      "40 out of 1792 is process...\n",
      "60 out of 1792 is process...\n",
      "80 out of 1792 is process...\n",
      "100 out of 1792 is process...\n",
      "120 out of 1792 is process...\n",
      "140 out of 1792 is process...\n",
      "160 out of 1792 is process...\n",
      "180 out of 1792 is process...\n",
      "200 out of 1792 is process...\n",
      "220 out of 1792 is process...\n",
      "240 out of 1792 is process...\n",
      "260 out of 1792 is process...\n",
      "280 out of 1792 is process...\n",
      "300 out of 1792 is process...\n",
      "320 out of 1792 is process...\n",
      "340 out of 1792 is process...\n",
      "360 out of 1792 is process...\n",
      "380 out of 1792 is process...\n"
     ]
    }
   ],
   "source": [
    "## dict for the yaml file\n",
    "subset_data_dict = {}\n",
    "\n",
    "## for the NaN start_time rows\n",
    "print 'for bin: NaN', \n",
    "none_selected_window_num = bin_names[:]\n",
    "skipped_test_row_num = tmp_test.loc[tmp_test['time_window_num'].isin(none_selected_window_num), 'row_num'].tolist()\n",
    "skipped_train_row_num = tmp_train.loc[tmp_train['time_window_num'].isin(none_selected_window_num), 'row_num'].tolist()\n",
    "selected_bin_name = 'NaN'\n",
    "subset_data_dict[selected_bin_name] = {}\n",
    "subset_data_dict[selected_bin_name]['start_time'] = 'NaN'\n",
    "subset_data_dict[selected_bin_name]['end_time'] = 'NaN'\n",
    "#print len(skipped_test_row_num), len(skipped_train_row_num), skipped_test_row_num[:10], skipped_train_row_num[:10]\n",
    "\n",
    "train_data_file = 'processed_totBins_' + str(len(bin_names)+1) + '_bin_' + selected_bin_name + '_train.csv'\n",
    "test_data_file = 'processed_totBins_' + str(len(bin_names)+1) + '_bin_' + selected_bin_name + '_test.csv'\n",
    "load_data_by_index(skipped_train_row_num, skipped_test_row_num, train_data_file, test_data_file)\n",
    "subset_data_dict[selected_bin_name]['train_file'] = train_data_file\n",
    "subset_data_dict[selected_bin_name]['test_file'] = test_data_file\n",
    "\n",
    "for selected_bin_name, i in zip(bin_names, range(len(bin_names))):\n",
    "    print 'for bin:', selected_bin_name\n",
    "    subset_data_dict[selected_bin_name] = {}\n",
    "    none_selected_window_num = bin_names[:]\n",
    "    none_selected_window_num.append(np.NaN)\n",
    "    none_selected_window_num.remove(selected_bin_name)\n",
    "    subset_data_dict[selected_bin_name]['start_time'] = round(float(bins[i]), 2)\n",
    "    subset_data_dict[selected_bin_name]['end_time'] = round(float(bins[i+1]), 2)\n",
    "\n",
    "    skipped_test_row_num = tmp_test.loc[tmp_test['time_window_num'].isin(none_selected_window_num), 'row_num'].tolist()\n",
    "    skipped_train_row_num = tmp_train.loc[tmp_train['time_window_num'].isin(none_selected_window_num), 'row_num'].tolist()\n",
    "    print len(skipped_test_row_num), len(skipped_train_row_num), skipped_test_row_num[:10], skipped_train_row_num[:10]\n",
    "    \n",
    "    train_data_file = 'processed_totBins_' + str(len(bin_names)+1) + '_bin_' + selected_bin_name + '_train.csv'\n",
    "    test_data_file = 'processed_totBins_' + str(len(bin_names)+1) + '_bin_' + selected_bin_name + '_test.csv'\n",
    "    load_data_by_index(skipped_train_row_num, skipped_test_row_num, train_data_file, test_data_file)\n",
    "    subset_data_dict[selected_bin_name]['train_file'] = train_data_file\n",
    "    subset_data_dict[selected_bin_name]['test_file'] = test_data_file\n",
    "\n",
    "\n",
    "print subset_data_dict\n",
    "with open('subsest_data_dict.yml', 'w') as outfile:\n",
    "    yaml.dump(subset_data_dict, outfile, default_flow_style=False)\n"
   ]
  },
  {
   "cell_type": "code",
   "execution_count": null,
   "metadata": {
    "collapsed": true
   },
   "outputs": [],
   "source": []
  },
  {
   "cell_type": "code",
   "execution_count": null,
   "metadata": {
    "collapsed": true
   },
   "outputs": [],
   "source": []
  },
  {
   "cell_type": "markdown",
   "metadata": {},
   "source": [
    "### R&D steps for the data"
   ]
  },
  {
   "cell_type": "code",
   "execution_count": 63,
   "metadata": {
    "collapsed": false
   },
   "outputs": [],
   "source": [
    "## create the skipped row number list for row selection\n",
    "select_window_num = np.NaN\n",
    "none_selected_window_num = bin_names\n",
    "none_selected_window_num.append(np.NaN)\n",
    "none_selected_window_num.remove(select_window_num)\n",
    "\n",
    "skipped_test_row_num = tmp_test.loc[tmp_test['time_window_num'].isin(none_selected_window_num), 'row_num'].tolist()\n",
    "skipped_train_row_num = tmp_train.loc[tmp_train['time_window_num'].isin(none_selected_window_num), 'row_num'].tolist()\n"
   ]
  },
  {
   "cell_type": "code",
   "execution_count": 65,
   "metadata": {
    "collapsed": false
   },
   "outputs": [
    {
     "name": "stdout",
     "output_type": "stream",
     "text": [
      "674503 673861 [4, 6, 7, 8, 11, 12, 13, 14, 15, 16] [1, 3, 4, 5, 6, 9, 11, 12, 13, 14]\n"
     ]
    }
   ],
   "source": [
    "print len(skipped_test_row_num), len(skipped_train_row_num), skipped_test_row_num[:10], skipped_train_row_num[:10]"
   ]
  },
  {
   "cell_type": "code",
   "execution_count": null,
   "metadata": {
    "collapsed": true
   },
   "outputs": [],
   "source": [
    "test_index = tmp[tmp['time_window_num']=='0'].index.tolist()\n",
    "print 'selected row number: ', tmp.shape[0] - len(skipped_row_num)"
   ]
  },
  {
   "cell_type": "code",
   "execution_count": 140,
   "metadata": {
    "collapsed": false
   },
   "outputs": [
    {
     "name": "stdout",
     "output_type": "stream",
     "text": [
      "data loading takes  91.98 seconds\n",
      "raw date data dimension:  (44909, 1156) (44980, 1156)\n",
      "processed date data dimension:  (44909, 495) (44980, 495)\n",
      "finish processing date data ...\n",
      "raw categorical data dimension:  (44909, 2140) (44980, 2140)\n",
      "processed categorical data dimension:  (44909, 436) (44980, 436)\n",
      "20 out of 436 is process...\n",
      "40 out of 436 is process...\n",
      "60 out of 436 is process...\n",
      "80 out of 436 is process...\n",
      "100 out of 436 is process...\n",
      "120 out of 436 is process...\n",
      "140 out of 436 is process...\n",
      "160 out of 436 is process...\n",
      "180 out of 436 is process...\n",
      "200 out of 436 is process...\n",
      "220 out of 436 is process...\n",
      "240 out of 436 is process...\n",
      "260 out of 436 is process...\n",
      "280 out of 436 is process...\n",
      "300 out of 436 is process...\n",
      "320 out of 436 is process...\n",
      "340 out of 436 is process...\n",
      "360 out of 436 is process...\n",
      "380 out of 436 is process...\n",
      "400 out of 436 is process...\n",
      "420 out of 436 is process...\n",
      "encoding process takes  173.0 seconds\n",
      "finish processing categorical data ...\n"
     ]
    }
   ],
   "source": [
    "load_data_by_index(skipped_train_row_num, skipped_test_row_num, 'tmp_train.csv', 'tmp_test.csv')"
   ]
  },
  {
   "cell_type": "code",
   "execution_count": 139,
   "metadata": {
    "collapsed": false
   },
   "outputs": [],
   "source": [
    "def process_date_data(train_date, test_date, start_time_column_name):\n",
    "    print 'raw date data dimension: ', train_date.shape, test_date.shape\n",
    "    train_date['start_time'] = train_date[start_time_column_name]\n",
    "    test_date['start_time'] = test_date[start_time_column_name]\n",
    "    single_value_column_names = []\n",
    "\n",
    "    for column in train_date.columns:\n",
    "        if column != 'start_time':\n",
    "            train_date[column] = train_date[column] - train_date['start_time']\n",
    "            test_date[column] = test_date[column] - test_date['start_time']\n",
    "        if len(train_date[column].unique()) == 1:\n",
    "            single_value_column_names.append(column)\n",
    "            \n",
    "    ## drop single-valued columns        \n",
    "    train_date.drop(single_value_column_names, axis=1, inplace=True)\n",
    "    test_date.drop(single_value_column_names, axis=1, inplace=True)\n",
    "    print 'processed date data dimension: ', train_date.shape, test_date.shape\n",
    "    \n",
    "\n",
    "    \n",
    "def remove_single_value_categorical_columns(train, test):\n",
    "    print 'raw categorical data dimension: ', train.shape, test.shape\n",
    "    single_value_column_names = []\n",
    "    for col in train.columns:\n",
    "        if len(train[col].unique()) == 1:\n",
    "            single_value_column_names.append(col)\n",
    "    \n",
    "    train.drop(single_value_column_names, axis=1, inplace=True)\n",
    "    test.drop(single_value_column_names, axis=1, inplace=True)\n",
    "    print 'processed categorical data dimension: ', train.shape, test.shape\n",
    "\n",
    "\n",
    "\n",
    "def encode_categorical_data(train, test, fill_missing = False):\n",
    "    '''\n",
    "    encoding is an extemely slow process\n",
    "    So only use the training data to trian the encoder\n",
    "    '''\n",
    "    le = LabelEncoder()\n",
    "    \n",
    "    if fill_missing:\n",
    "        train = train.fillna(value='missing')\n",
    "        test = test.fillna(value='missing')\n",
    "    \n",
    "    ## idealy combine the train and test\n",
    "    #combined = pd.concat([train, test], axis=0)\n",
    "    counter = 0\n",
    "    start_time = time.time()\n",
    "    for col, dtype in zip(train.columns, train.dtypes):\n",
    "        if dtype == 'object':\n",
    "            le.fit(pd.concat([train[col], test[col]], axis=0))\n",
    "            train[col] = le.transform(train[col])\n",
    "            test[col] = le.transform(test[col])\n",
    "                              \n",
    "        counter += 1\n",
    "        if counter % 20 == 0:\n",
    "            print '{} out of {} is process...'.format(str(counter), str(train.shape[1]))\n",
    "                              \n",
    "    end_time = time.time()\n",
    "    print 'encoding process takes ', round((end_time - start_time)), 'seconds'\n",
    "    \n",
    "    \n",
    "\n",
    "def load_data_by_index(skipped_train_row_num, skipped_test_row_num, train_data_file, test_data_file):\n",
    "\n",
    "    start_time = time.time()\n",
    "\n",
    "    ## section to load column names for categorical data\n",
    "    if not os.path.isfile(pickle_column_names_file):\n",
    "        print 'create new column name pickle file ...'\n",
    "        create_categorical_column_name_pickle(train_cat_file, pickle_column_names_file)\n",
    "    \n",
    "    with open(pickle_column_names_file, 'rb') as pickle_file:\n",
    "        cat_column_names = pickle.load(pickle_file)\n",
    "    \n",
    "    column_types = [np.object] * len(cat_column_names)\n",
    "    column_types_dict = dict(zip(cat_column_names, column_types))\n",
    "    ######\n",
    "\n",
    "    train_date = pd.read_csv(data_path + train_date_file, index_col='Id', skiprows=skipped_train_row_num)\n",
    "    train_num = pd.read_csv(data_path + train_num_file, index_col='Id', skiprows=skipped_train_row_num)\n",
    "    train_cat = pd.read_csv(data_path + train_cat_file, index_col='Id', skiprows=skipped_train_row_num, dtype=column_types_dict)\n",
    "\n",
    "    test_date = pd.read_csv(data_path + test_date_file, index_col='Id', skiprows=skipped_test_row_num)\n",
    "    test_num = pd.read_csv(data_path + test_num_file, index_col='Id', skiprows=skipped_test_row_num)\n",
    "    test_cat = pd.read_csv(data_path + test_cat_file, index_col='Id', skiprows=skipped_test_row_num, dtype=column_types_dict)\n",
    "\n",
    "    end_time = time.time()\n",
    "    print 'data loading takes ', round((end_time - start_time), 2), 'seconds'\n",
    "    \n",
    "    ## process the date data\n",
    "    process_date_data(train_date, test_date, start_time_column_name)\n",
    "    print 'finish processing date data ...'\n",
    "    \n",
    "    ## process categorical data\n",
    "    remove_single_value_categorical_columns(train_cat, test_cat)\n",
    "    encode_categorical_data(train_cat, test_cat)\n",
    "    print 'finish processing categorical data ...'\n",
    "\n",
    "    ## combine the data and save into csv files\n",
    "    combined_train = pd.concat([train_cat, train_num, train_date], axis=1)\n",
    "    combined_test = pd.concat([test_cat, test_num, test_date], axis=1)\n",
    "    \n",
    "    combined_train.to_csv(train_data_file)\n",
    "    combined_test.to_csv(test_data_file)"
   ]
  },
  {
   "cell_type": "code",
   "execution_count": 141,
   "metadata": {
    "collapsed": false
   },
   "outputs": [],
   "source": [
    "tmp_train = pd.read_csv('tmp_train.csv')"
   ]
  },
  {
   "cell_type": "code",
   "execution_count": 147,
   "metadata": {
    "collapsed": true
   },
   "outputs": [],
   "source": [
    "tmp_test = pd.read_csv('tmp_test.csv')"
   ]
  },
  {
   "cell_type": "code",
   "execution_count": 149,
   "metadata": {
    "collapsed": false
   },
   "outputs": [
    {
     "name": "stdout",
     "output_type": "stream",
     "text": [
      "(44909, 1901) (44980, 1900)\n"
     ]
    }
   ],
   "source": [
    "print tmp_train.shape, tmp_test.shape"
   ]
  },
  {
   "cell_type": "code",
   "execution_count": 143,
   "metadata": {
    "collapsed": false,
    "scrolled": true
   },
   "outputs": [
    {
     "data": {
      "text/html": [
       "<div>\n",
       "<table border=\"1\" class=\"dataframe\">\n",
       "  <thead>\n",
       "    <tr style=\"text-align: right;\">\n",
       "      <th></th>\n",
       "      <th>Id</th>\n",
       "      <th>L0_S1_F25</th>\n",
       "      <th>L0_S1_F27</th>\n",
       "      <th>L0_S1_F29</th>\n",
       "      <th>L0_S1_F31</th>\n",
       "      <th>L0_S2_F33</th>\n",
       "      <th>L0_S2_F35</th>\n",
       "      <th>L0_S2_F37</th>\n",
       "      <th>L0_S2_F39</th>\n",
       "      <th>L0_S2_F41</th>\n",
       "      <th>...</th>\n",
       "      <th>L3_S37_D3942</th>\n",
       "      <th>L3_S37_D3943</th>\n",
       "      <th>L3_S37_D3945</th>\n",
       "      <th>L3_S37_D3947</th>\n",
       "      <th>L3_S37_D3949</th>\n",
       "      <th>L3_S37_D3951</th>\n",
       "      <th>L3_S38_D3953</th>\n",
       "      <th>L3_S38_D3957</th>\n",
       "      <th>L3_S38_D3961</th>\n",
       "      <th>start_time</th>\n",
       "    </tr>\n",
       "  </thead>\n",
       "  <tbody>\n",
       "    <tr>\n",
       "      <th>0</th>\n",
       "      <td>7</td>\n",
       "      <td>0</td>\n",
       "      <td>0</td>\n",
       "      <td>0</td>\n",
       "      <td>0</td>\n",
       "      <td>0</td>\n",
       "      <td>0</td>\n",
       "      <td>0</td>\n",
       "      <td>0</td>\n",
       "      <td>0</td>\n",
       "      <td>...</td>\n",
       "      <td>5.72</td>\n",
       "      <td>5.72</td>\n",
       "      <td>5.72</td>\n",
       "      <td>5.72</td>\n",
       "      <td>5.72</td>\n",
       "      <td>5.72</td>\n",
       "      <td>NaN</td>\n",
       "      <td>NaN</td>\n",
       "      <td>NaN</td>\n",
       "      <td>1618.70</td>\n",
       "    </tr>\n",
       "    <tr>\n",
       "      <th>1</th>\n",
       "      <td>38</td>\n",
       "      <td>0</td>\n",
       "      <td>0</td>\n",
       "      <td>0</td>\n",
       "      <td>0</td>\n",
       "      <td>0</td>\n",
       "      <td>0</td>\n",
       "      <td>0</td>\n",
       "      <td>0</td>\n",
       "      <td>0</td>\n",
       "      <td>...</td>\n",
       "      <td>2.57</td>\n",
       "      <td>2.57</td>\n",
       "      <td>2.57</td>\n",
       "      <td>2.57</td>\n",
       "      <td>2.57</td>\n",
       "      <td>2.57</td>\n",
       "      <td>NaN</td>\n",
       "      <td>NaN</td>\n",
       "      <td>NaN</td>\n",
       "      <td>1633.80</td>\n",
       "    </tr>\n",
       "    <tr>\n",
       "      <th>2</th>\n",
       "      <td>82</td>\n",
       "      <td>0</td>\n",
       "      <td>0</td>\n",
       "      <td>0</td>\n",
       "      <td>0</td>\n",
       "      <td>0</td>\n",
       "      <td>0</td>\n",
       "      <td>0</td>\n",
       "      <td>0</td>\n",
       "      <td>0</td>\n",
       "      <td>...</td>\n",
       "      <td>16.77</td>\n",
       "      <td>16.77</td>\n",
       "      <td>16.77</td>\n",
       "      <td>16.77</td>\n",
       "      <td>16.77</td>\n",
       "      <td>16.77</td>\n",
       "      <td>NaN</td>\n",
       "      <td>NaN</td>\n",
       "      <td>NaN</td>\n",
       "      <td>1674.90</td>\n",
       "    </tr>\n",
       "    <tr>\n",
       "      <th>3</th>\n",
       "      <td>205</td>\n",
       "      <td>0</td>\n",
       "      <td>0</td>\n",
       "      <td>0</td>\n",
       "      <td>0</td>\n",
       "      <td>0</td>\n",
       "      <td>0</td>\n",
       "      <td>0</td>\n",
       "      <td>0</td>\n",
       "      <td>0</td>\n",
       "      <td>...</td>\n",
       "      <td>1.88</td>\n",
       "      <td>1.88</td>\n",
       "      <td>1.88</td>\n",
       "      <td>1.88</td>\n",
       "      <td>1.88</td>\n",
       "      <td>1.88</td>\n",
       "      <td>NaN</td>\n",
       "      <td>NaN</td>\n",
       "      <td>NaN</td>\n",
       "      <td>1658.58</td>\n",
       "    </tr>\n",
       "    <tr>\n",
       "      <th>4</th>\n",
       "      <td>330</td>\n",
       "      <td>0</td>\n",
       "      <td>0</td>\n",
       "      <td>0</td>\n",
       "      <td>0</td>\n",
       "      <td>0</td>\n",
       "      <td>0</td>\n",
       "      <td>0</td>\n",
       "      <td>0</td>\n",
       "      <td>0</td>\n",
       "      <td>...</td>\n",
       "      <td>1.48</td>\n",
       "      <td>1.48</td>\n",
       "      <td>1.48</td>\n",
       "      <td>1.48</td>\n",
       "      <td>1.48</td>\n",
       "      <td>1.48</td>\n",
       "      <td>NaN</td>\n",
       "      <td>NaN</td>\n",
       "      <td>NaN</td>\n",
       "      <td>1662.79</td>\n",
       "    </tr>\n",
       "  </tbody>\n",
       "</table>\n",
       "<p>5 rows × 1901 columns</p>\n",
       "</div>"
      ],
      "text/plain": [
       "    Id  L0_S1_F25  L0_S1_F27  L0_S1_F29  L0_S1_F31  L0_S2_F33  L0_S2_F35  \\\n",
       "0    7          0          0          0          0          0          0   \n",
       "1   38          0          0          0          0          0          0   \n",
       "2   82          0          0          0          0          0          0   \n",
       "3  205          0          0          0          0          0          0   \n",
       "4  330          0          0          0          0          0          0   \n",
       "\n",
       "   L0_S2_F37  L0_S2_F39  L0_S2_F41     ...      L3_S37_D3942  L3_S37_D3943  \\\n",
       "0          0          0          0     ...              5.72          5.72   \n",
       "1          0          0          0     ...              2.57          2.57   \n",
       "2          0          0          0     ...             16.77         16.77   \n",
       "3          0          0          0     ...              1.88          1.88   \n",
       "4          0          0          0     ...              1.48          1.48   \n",
       "\n",
       "   L3_S37_D3945  L3_S37_D3947  L3_S37_D3949  L3_S37_D3951  L3_S38_D3953  \\\n",
       "0          5.72          5.72          5.72          5.72           NaN   \n",
       "1          2.57          2.57          2.57          2.57           NaN   \n",
       "2         16.77         16.77         16.77         16.77           NaN   \n",
       "3          1.88          1.88          1.88          1.88           NaN   \n",
       "4          1.48          1.48          1.48          1.48           NaN   \n",
       "\n",
       "   L3_S38_D3957  L3_S38_D3961  start_time  \n",
       "0           NaN           NaN     1618.70  \n",
       "1           NaN           NaN     1633.80  \n",
       "2           NaN           NaN     1674.90  \n",
       "3           NaN           NaN     1658.58  \n",
       "4           NaN           NaN     1662.79  \n",
       "\n",
       "[5 rows x 1901 columns]"
      ]
     },
     "execution_count": 143,
     "metadata": {},
     "output_type": "execute_result"
    }
   ],
   "source": [
    "tmp_train.head()"
   ]
  },
  {
   "cell_type": "code",
   "execution_count": 145,
   "metadata": {
    "collapsed": false
   },
   "outputs": [
    {
     "data": {
      "text/plain": [
       "<matplotlib.axes._subplots.AxesSubplot at 0x7fd4f4b59410>"
      ]
     },
     "execution_count": 145,
     "metadata": {},
     "output_type": "execute_result"
    },
    {
     "data": {
      "image/png": "[encoded data removed]",
      "text/plain": [
       "<matplotlib.figure.Figure at 0x7fd4ef9a9750>"
      ]
     },
     "metadata": {},
     "output_type": "display_data"
    }
   ],
   "source": [
    "tmp_train.start_time.hist(bins=20)"
   ]
  },
  {
   "cell_type": "code",
   "execution_count": 121,
   "metadata": {
    "collapsed": false,
    "scrolled": true
   },
   "outputs": [
    {
     "data": {
      "text/plain": [
       "True"
      ]
     },
     "execution_count": 121,
     "metadata": {},
     "output_type": "execute_result"
    }
   ],
   "source": [
    "'start_time' in train_date.columns"
   ]
  },
  {
   "cell_type": "code",
   "execution_count": 120,
   "metadata": {
    "collapsed": false
   },
   "outputs": [
    {
     "data": {
      "text/html": [
       "<div>\n",
       "<table border=\"1\" class=\"dataframe\">\n",
       "  <thead>\n",
       "    <tr style=\"text-align: right;\">\n",
       "      <th></th>\n",
       "      <th>L0_S1_D26</th>\n",
       "      <th>L0_S1_D30</th>\n",
       "      <th>L0_S2_D34</th>\n",
       "      <th>L0_S2_D38</th>\n",
       "      <th>L0_S2_D42</th>\n",
       "      <th>L0_S2_D46</th>\n",
       "      <th>L0_S2_D50</th>\n",
       "      <th>L0_S2_D54</th>\n",
       "      <th>L0_S2_D58</th>\n",
       "      <th>L0_S2_D62</th>\n",
       "      <th>...</th>\n",
       "      <th>L3_S37_D3942</th>\n",
       "      <th>L3_S37_D3943</th>\n",
       "      <th>L3_S37_D3945</th>\n",
       "      <th>L3_S37_D3947</th>\n",
       "      <th>L3_S37_D3949</th>\n",
       "      <th>L3_S37_D3951</th>\n",
       "      <th>L3_S38_D3953</th>\n",
       "      <th>L3_S38_D3957</th>\n",
       "      <th>L3_S38_D3961</th>\n",
       "      <th>start_time</th>\n",
       "    </tr>\n",
       "    <tr>\n",
       "      <th>Id</th>\n",
       "      <th></th>\n",
       "      <th></th>\n",
       "      <th></th>\n",
       "      <th></th>\n",
       "      <th></th>\n",
       "      <th></th>\n",
       "      <th></th>\n",
       "      <th></th>\n",
       "      <th></th>\n",
       "      <th></th>\n",
       "      <th></th>\n",
       "      <th></th>\n",
       "      <th></th>\n",
       "      <th></th>\n",
       "      <th></th>\n",
       "      <th></th>\n",
       "      <th></th>\n",
       "      <th></th>\n",
       "      <th></th>\n",
       "      <th></th>\n",
       "      <th></th>\n",
       "    </tr>\n",
       "  </thead>\n",
       "  <tbody>\n",
       "    <tr>\n",
       "      <th>22</th>\n",
       "      <td>0.0</td>\n",
       "      <td>0.0</td>\n",
       "      <td>0.00</td>\n",
       "      <td>0.00</td>\n",
       "      <td>0.00</td>\n",
       "      <td>0.00</td>\n",
       "      <td>0.00</td>\n",
       "      <td>0.00</td>\n",
       "      <td>0.00</td>\n",
       "      <td>0.00</td>\n",
       "      <td>...</td>\n",
       "      <td>11.26</td>\n",
       "      <td>11.26</td>\n",
       "      <td>11.26</td>\n",
       "      <td>11.26</td>\n",
       "      <td>11.26</td>\n",
       "      <td>11.26</td>\n",
       "      <td>NaN</td>\n",
       "      <td>NaN</td>\n",
       "      <td>NaN</td>\n",
       "      <td>1699.10</td>\n",
       "    </tr>\n",
       "    <tr>\n",
       "      <th>69</th>\n",
       "      <td>0.0</td>\n",
       "      <td>0.0</td>\n",
       "      <td>0.00</td>\n",
       "      <td>0.00</td>\n",
       "      <td>0.00</td>\n",
       "      <td>0.00</td>\n",
       "      <td>0.00</td>\n",
       "      <td>0.00</td>\n",
       "      <td>0.00</td>\n",
       "      <td>0.00</td>\n",
       "      <td>...</td>\n",
       "      <td>6.81</td>\n",
       "      <td>6.81</td>\n",
       "      <td>6.81</td>\n",
       "      <td>6.81</td>\n",
       "      <td>6.81</td>\n",
       "      <td>6.81</td>\n",
       "      <td>NaN</td>\n",
       "      <td>NaN</td>\n",
       "      <td>NaN</td>\n",
       "      <td>1653.24</td>\n",
       "    </tr>\n",
       "    <tr>\n",
       "      <th>74</th>\n",
       "      <td>0.0</td>\n",
       "      <td>0.0</td>\n",
       "      <td>0.01</td>\n",
       "      <td>0.01</td>\n",
       "      <td>0.01</td>\n",
       "      <td>0.01</td>\n",
       "      <td>0.01</td>\n",
       "      <td>0.01</td>\n",
       "      <td>0.01</td>\n",
       "      <td>0.01</td>\n",
       "      <td>...</td>\n",
       "      <td>2.95</td>\n",
       "      <td>2.95</td>\n",
       "      <td>2.95</td>\n",
       "      <td>2.95</td>\n",
       "      <td>2.95</td>\n",
       "      <td>2.95</td>\n",
       "      <td>NaN</td>\n",
       "      <td>NaN</td>\n",
       "      <td>NaN</td>\n",
       "      <td>1643.28</td>\n",
       "    </tr>\n",
       "    <tr>\n",
       "      <th>105</th>\n",
       "      <td>0.0</td>\n",
       "      <td>0.0</td>\n",
       "      <td>0.00</td>\n",
       "      <td>0.00</td>\n",
       "      <td>0.00</td>\n",
       "      <td>0.00</td>\n",
       "      <td>0.00</td>\n",
       "      <td>0.00</td>\n",
       "      <td>0.00</td>\n",
       "      <td>0.00</td>\n",
       "      <td>...</td>\n",
       "      <td>2.20</td>\n",
       "      <td>2.20</td>\n",
       "      <td>2.20</td>\n",
       "      <td>2.20</td>\n",
       "      <td>2.20</td>\n",
       "      <td>2.20</td>\n",
       "      <td>NaN</td>\n",
       "      <td>NaN</td>\n",
       "      <td>NaN</td>\n",
       "      <td>1625.58</td>\n",
       "    </tr>\n",
       "    <tr>\n",
       "      <th>195</th>\n",
       "      <td>0.0</td>\n",
       "      <td>0.0</td>\n",
       "      <td>NaN</td>\n",
       "      <td>NaN</td>\n",
       "      <td>NaN</td>\n",
       "      <td>NaN</td>\n",
       "      <td>NaN</td>\n",
       "      <td>NaN</td>\n",
       "      <td>NaN</td>\n",
       "      <td>NaN</td>\n",
       "      <td>...</td>\n",
       "      <td>0.41</td>\n",
       "      <td>0.41</td>\n",
       "      <td>0.41</td>\n",
       "      <td>0.41</td>\n",
       "      <td>0.41</td>\n",
       "      <td>0.41</td>\n",
       "      <td>NaN</td>\n",
       "      <td>NaN</td>\n",
       "      <td>NaN</td>\n",
       "      <td>1641.87</td>\n",
       "    </tr>\n",
       "  </tbody>\n",
       "</table>\n",
       "<p>5 rows × 495 columns</p>\n",
       "</div>"
      ],
      "text/plain": [
       "     L0_S1_D26  L0_S1_D30  L0_S2_D34  L0_S2_D38  L0_S2_D42  L0_S2_D46  \\\n",
       "Id                                                                      \n",
       "22         0.0        0.0       0.00       0.00       0.00       0.00   \n",
       "69         0.0        0.0       0.00       0.00       0.00       0.00   \n",
       "74         0.0        0.0       0.01       0.01       0.01       0.01   \n",
       "105        0.0        0.0       0.00       0.00       0.00       0.00   \n",
       "195        0.0        0.0        NaN        NaN        NaN        NaN   \n",
       "\n",
       "     L0_S2_D50  L0_S2_D54  L0_S2_D58  L0_S2_D62     ...      L3_S37_D3942  \\\n",
       "Id                                                  ...                     \n",
       "22        0.00       0.00       0.00       0.00     ...             11.26   \n",
       "69        0.00       0.00       0.00       0.00     ...              6.81   \n",
       "74        0.01       0.01       0.01       0.01     ...              2.95   \n",
       "105       0.00       0.00       0.00       0.00     ...              2.20   \n",
       "195        NaN        NaN        NaN        NaN     ...              0.41   \n",
       "\n",
       "     L3_S37_D3943  L3_S37_D3945  L3_S37_D3947  L3_S37_D3949  L3_S37_D3951  \\\n",
       "Id                                                                          \n",
       "22          11.26         11.26         11.26         11.26         11.26   \n",
       "69           6.81          6.81          6.81          6.81          6.81   \n",
       "74           2.95          2.95          2.95          2.95          2.95   \n",
       "105          2.20          2.20          2.20          2.20          2.20   \n",
       "195          0.41          0.41          0.41          0.41          0.41   \n",
       "\n",
       "     L3_S38_D3953  L3_S38_D3957  L3_S38_D3961  start_time  \n",
       "Id                                                         \n",
       "22            NaN           NaN           NaN     1699.10  \n",
       "69            NaN           NaN           NaN     1653.24  \n",
       "74            NaN           NaN           NaN     1643.28  \n",
       "105           NaN           NaN           NaN     1625.58  \n",
       "195           NaN           NaN           NaN     1641.87  \n",
       "\n",
       "[5 rows x 495 columns]"
      ]
     },
     "execution_count": 120,
     "metadata": {},
     "output_type": "execute_result"
    }
   ],
   "source": [
    "test_date.head()"
   ]
  }
 ],
 "metadata": {
  "kernelspec": {
   "display_name": "Python 2",
   "language": "python",
   "name": "python2"
  },
  "language_info": {
   "codemirror_mode": {
    "name": "ipython",
    "version": 2
   },
   "file_extension": ".py",
   "mimetype": "text/x-python",
   "name": "python",
   "nbconvert_exporter": "python",
   "pygments_lexer": "ipython2",
   "version": "2.7.6"
  }
 },
 "nbformat": 4,
 "nbformat_minor": 0
}
