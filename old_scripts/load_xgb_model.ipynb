{
 "cells": [
  {
   "cell_type": "code",
   "execution_count": 51,
   "metadata": {
    "collapsed": true
   },
   "outputs": [],
   "source": [
    "%matplotlib inline  \n",
    "import pandas as pd\n",
    "import numpy as np\n",
    "import os, sys, time\n",
    "import yaml\n",
    "from sklearn.metrics import matthews_corrcoef\n",
    "\n",
    "from xgboost import XGBClassifier\n",
    "\n",
    "sys.path.append('/home/ymm/kaggle/xgboost_hyperopt')\n",
    "import utils\n",
    "from utils.bosch_functions import load_processed_bosch_data\n",
    "from utils.models import CombinedModel, ExtraTreeModel\n",
    "from utils.validation_tools import score_MCC, create_validation_index, cross_validate_model\n",
    "from utils.wrapped_xgboost import xgboost_classifier"
   ]
  },
  {
   "cell_type": "code",
   "execution_count": 69,
   "metadata": {
    "collapsed": false
   },
   "outputs": [
    {
     "name": "stdout",
     "output_type": "stream",
     "text": [
      "loading bosch data from  /home/ymm/kaggle/bosch_data/bosch_complete_processed_6_bins_data/processed_totBins_6_bin_0_train.csv\n"
     ]
    }
   ],
   "source": [
    "project_path = '/home/ymm/kaggle/compete/current/model_6_bins_data'\n",
    "data_path = '/home/ymm/kaggle/bosch_data/bosch_complete_processed_6_bins_data'\n",
    "data_yaml_file = 'complete_subset_data_6_bins_dict.yml'\n",
    "\n",
    "dep_var_name = 'Response'\n",
    "data_index= '0'\n",
    "train = load_processed_bosch_data(data_path, project_path, data_yaml_file, data_index=data_index)\n",
    "#train_index, valid_index = create_validation_index(train, 0.5, dep_var_name, True)  \n",
    "#valid_data = train.ix[valid_index]\n",
    "#tmp_train  = train.ix[train_index]\n"
   ]
  },
  {
   "cell_type": "code",
   "execution_count": null,
   "metadata": {
    "collapsed": true
   },
   "outputs": [],
   "source": []
  },
  {
   "cell_type": "code",
   "execution_count": 70,
   "metadata": {
    "collapsed": false
   },
   "outputs": [
    {
     "data": {
      "text/plain": [
       "float64    1621\n",
       "int64       648\n",
       "dtype: int64"
      ]
     },
     "execution_count": 70,
     "metadata": {},
     "output_type": "execute_result"
    }
   ],
   "source": [
    "train.dtypes.value_counts()"
   ]
  },
  {
   "cell_type": "code",
   "execution_count": 2,
   "metadata": {
    "collapsed": true
   },
   "outputs": [],
   "source": [
    "xgb_model = xgboost_classifier()"
   ]
  },
  {
   "cell_type": "code",
   "execution_count": 24,
   "metadata": {
    "collapsed": true
   },
   "outputs": [],
   "source": [
    "#xgb_model.load_model_from_file('../kaggle/compete/current/current_xgboost_model')\n",
    "xgb_model.load_model_from_file('./current_xgboost_model')"
   ]
  },
  {
   "cell_type": "code",
   "execution_count": 48,
   "metadata": {
    "collapsed": false
   },
   "outputs": [],
   "source": [
    "a = xgb_model.bst.get_fscore()"
   ]
  },
  {
   "cell_type": "code",
   "execution_count": 19,
   "metadata": {
    "collapsed": false
   },
   "outputs": [],
   "source": [
    "fea_imp = xgb_model.get_feature_impoartance()"
   ]
  },
  {
   "cell_type": "code",
   "execution_count": 20,
   "metadata": {
    "collapsed": false
   },
   "outputs": [
    {
     "data": {
      "text/plain": [
       "245"
      ]
     },
     "execution_count": 20,
     "metadata": {},
     "output_type": "execute_result"
    }
   ],
   "source": [
    "len(fea_imp)"
   ]
  },
  {
   "cell_type": "code",
   "execution_count": 22,
   "metadata": {
    "collapsed": false
   },
   "outputs": [],
   "source": [
    "imp_df = pd.DataFrame.from_dict(fea_imp, orient='index')"
   ]
  },
  {
   "cell_type": "code",
   "execution_count": 28,
   "metadata": {
    "collapsed": false
   },
   "outputs": [],
   "source": [
    "imp_df['index'] = imp_df.index"
   ]
  },
  {
   "cell_type": "code",
   "execution_count": 30,
   "metadata": {
    "collapsed": false
   },
   "outputs": [],
   "source": [
    "imp_df['fea_index'] = imp_df['index'].apply(lambda x: x[1:])"
   ]
  },
  {
   "cell_type": "code",
   "execution_count": 35,
   "metadata": {
    "collapsed": false
   },
   "outputs": [
    {
     "name": "stdout",
     "output_type": "stream",
     "text": [
      "(67390, 2269)\n"
     ]
    }
   ],
   "source": [
    "print tmp_train.shape"
   ]
  },
  {
   "cell_type": "code",
   "execution_count": 34,
   "metadata": {
    "collapsed": false
   },
   "outputs": [
    {
     "data": {
      "text/html": [
       "<div>\n",
       "<table border=\"1\" class=\"dataframe\">\n",
       "  <thead>\n",
       "    <tr style=\"text-align: right;\">\n",
       "      <th></th>\n",
       "      <th>0</th>\n",
       "      <th>index</th>\n",
       "      <th>fea_index</th>\n",
       "    </tr>\n",
       "  </thead>\n",
       "  <tbody>\n",
       "    <tr>\n",
       "      <th>f2075</th>\n",
       "      <td>1028</td>\n",
       "      <td>f2075</td>\n",
       "      <td>2075</td>\n",
       "    </tr>\n",
       "    <tr>\n",
       "      <th>f1911</th>\n",
       "      <td>2</td>\n",
       "      <td>f1911</td>\n",
       "      <td>1911</td>\n",
       "    </tr>\n",
       "    <tr>\n",
       "      <th>f2573</th>\n",
       "      <td>1</td>\n",
       "      <td>f2573</td>\n",
       "      <td>2573</td>\n",
       "    </tr>\n",
       "    <tr>\n",
       "      <th>f2179</th>\n",
       "      <td>6</td>\n",
       "      <td>f2179</td>\n",
       "      <td>2179</td>\n",
       "    </tr>\n",
       "    <tr>\n",
       "      <th>f2178</th>\n",
       "      <td>8</td>\n",
       "      <td>f2178</td>\n",
       "      <td>2178</td>\n",
       "    </tr>\n",
       "    <tr>\n",
       "      <th>f2274</th>\n",
       "      <td>17</td>\n",
       "      <td>f2274</td>\n",
       "      <td>2274</td>\n",
       "    </tr>\n",
       "    <tr>\n",
       "      <th>f2272</th>\n",
       "      <td>18</td>\n",
       "      <td>f2272</td>\n",
       "      <td>2272</td>\n",
       "    </tr>\n",
       "    <tr>\n",
       "      <th>f2273</th>\n",
       "      <td>180</td>\n",
       "      <td>f2273</td>\n",
       "      <td>2273</td>\n",
       "    </tr>\n",
       "    <tr>\n",
       "      <th>f2271</th>\n",
       "      <td>18</td>\n",
       "      <td>f2271</td>\n",
       "      <td>2271</td>\n",
       "    </tr>\n",
       "    <tr>\n",
       "      <th>f1941</th>\n",
       "      <td>396</td>\n",
       "      <td>f1941</td>\n",
       "      <td>1941</td>\n",
       "    </tr>\n",
       "    <tr>\n",
       "      <th>f1989</th>\n",
       "      <td>2</td>\n",
       "      <td>f1989</td>\n",
       "      <td>1989</td>\n",
       "    </tr>\n",
       "    <tr>\n",
       "      <th>f1943</th>\n",
       "      <td>11</td>\n",
       "      <td>f1943</td>\n",
       "      <td>1943</td>\n",
       "    </tr>\n",
       "    <tr>\n",
       "      <th>f2172</th>\n",
       "      <td>37</td>\n",
       "      <td>f2172</td>\n",
       "      <td>2172</td>\n",
       "    </tr>\n",
       "    <tr>\n",
       "      <th>f2160</th>\n",
       "      <td>111</td>\n",
       "      <td>f2160</td>\n",
       "      <td>2160</td>\n",
       "    </tr>\n",
       "    <tr>\n",
       "      <th>f2278</th>\n",
       "      <td>86</td>\n",
       "      <td>f2278</td>\n",
       "      <td>2278</td>\n",
       "    </tr>\n",
       "    <tr>\n",
       "      <th>f2176</th>\n",
       "      <td>25</td>\n",
       "      <td>f2176</td>\n",
       "      <td>2176</td>\n",
       "    </tr>\n",
       "    <tr>\n",
       "      <th>f2522</th>\n",
       "      <td>170</td>\n",
       "      <td>f2522</td>\n",
       "      <td>2522</td>\n",
       "    </tr>\n",
       "    <tr>\n",
       "      <th>f1951</th>\n",
       "      <td>7</td>\n",
       "      <td>f1951</td>\n",
       "      <td>1951</td>\n",
       "    </tr>\n",
       "    <tr>\n",
       "      <th>f2161</th>\n",
       "      <td>59</td>\n",
       "      <td>f2161</td>\n",
       "      <td>2161</td>\n",
       "    </tr>\n",
       "    <tr>\n",
       "      <th>f2664</th>\n",
       "      <td>340</td>\n",
       "      <td>f2664</td>\n",
       "      <td>2664</td>\n",
       "    </tr>\n",
       "    <tr>\n",
       "      <th>f2485</th>\n",
       "      <td>51</td>\n",
       "      <td>f2485</td>\n",
       "      <td>2485</td>\n",
       "    </tr>\n",
       "    <tr>\n",
       "      <th>f2484</th>\n",
       "      <td>440</td>\n",
       "      <td>f2484</td>\n",
       "      <td>2484</td>\n",
       "    </tr>\n",
       "    <tr>\n",
       "      <th>f2184</th>\n",
       "      <td>41</td>\n",
       "      <td>f2184</td>\n",
       "      <td>2184</td>\n",
       "    </tr>\n",
       "    <tr>\n",
       "      <th>f2185</th>\n",
       "      <td>413</td>\n",
       "      <td>f2185</td>\n",
       "      <td>2185</td>\n",
       "    </tr>\n",
       "    <tr>\n",
       "      <th>f2186</th>\n",
       "      <td>2724</td>\n",
       "      <td>f2186</td>\n",
       "      <td>2186</td>\n",
       "    </tr>\n",
       "    <tr>\n",
       "      <th>f2187</th>\n",
       "      <td>3</td>\n",
       "      <td>f2187</td>\n",
       "      <td>2187</td>\n",
       "    </tr>\n",
       "    <tr>\n",
       "      <th>f1954</th>\n",
       "      <td>20</td>\n",
       "      <td>f1954</td>\n",
       "      <td>1954</td>\n",
       "    </tr>\n",
       "    <tr>\n",
       "      <th>f1984</th>\n",
       "      <td>2</td>\n",
       "      <td>f1984</td>\n",
       "      <td>1984</td>\n",
       "    </tr>\n",
       "    <tr>\n",
       "      <th>f2239</th>\n",
       "      <td>8</td>\n",
       "      <td>f2239</td>\n",
       "      <td>2239</td>\n",
       "    </tr>\n",
       "    <tr>\n",
       "      <th>f2188</th>\n",
       "      <td>94</td>\n",
       "      <td>f2188</td>\n",
       "      <td>2188</td>\n",
       "    </tr>\n",
       "    <tr>\n",
       "      <th>f1986</th>\n",
       "      <td>54</td>\n",
       "      <td>f1986</td>\n",
       "      <td>1986</td>\n",
       "    </tr>\n",
       "    <tr>\n",
       "      <th>f2568</th>\n",
       "      <td>323</td>\n",
       "      <td>f2568</td>\n",
       "      <td>2568</td>\n",
       "    </tr>\n",
       "    <tr>\n",
       "      <th>f2323</th>\n",
       "      <td>52</td>\n",
       "      <td>f2323</td>\n",
       "      <td>2323</td>\n",
       "    </tr>\n",
       "    <tr>\n",
       "      <th>f2562</th>\n",
       "      <td>251</td>\n",
       "      <td>f2562</td>\n",
       "      <td>2562</td>\n",
       "    </tr>\n",
       "    <tr>\n",
       "      <th>f2563</th>\n",
       "      <td>392</td>\n",
       "      <td>f2563</td>\n",
       "      <td>2563</td>\n",
       "    </tr>\n",
       "    <tr>\n",
       "      <th>f1910</th>\n",
       "      <td>127</td>\n",
       "      <td>f1910</td>\n",
       "      <td>1910</td>\n",
       "    </tr>\n",
       "    <tr>\n",
       "      <th>f2561</th>\n",
       "      <td>108</td>\n",
       "      <td>f2561</td>\n",
       "      <td>2561</td>\n",
       "    </tr>\n",
       "    <tr>\n",
       "      <th>f1903</th>\n",
       "      <td>157</td>\n",
       "      <td>f1903</td>\n",
       "      <td>1903</td>\n",
       "    </tr>\n",
       "    <tr>\n",
       "      <th>f2168</th>\n",
       "      <td>359</td>\n",
       "      <td>f2168</td>\n",
       "      <td>2168</td>\n",
       "    </tr>\n",
       "    <tr>\n",
       "      <th>f1959</th>\n",
       "      <td>21</td>\n",
       "      <td>f1959</td>\n",
       "      <td>1959</td>\n",
       "    </tr>\n",
       "    <tr>\n",
       "      <th>f1940</th>\n",
       "      <td>44</td>\n",
       "      <td>f1940</td>\n",
       "      <td>1940</td>\n",
       "    </tr>\n",
       "    <tr>\n",
       "      <th>f2162</th>\n",
       "      <td>58</td>\n",
       "      <td>f2162</td>\n",
       "      <td>2162</td>\n",
       "    </tr>\n",
       "    <tr>\n",
       "      <th>f2163</th>\n",
       "      <td>152</td>\n",
       "      <td>f2163</td>\n",
       "      <td>2163</td>\n",
       "    </tr>\n",
       "    <tr>\n",
       "      <th>f2483</th>\n",
       "      <td>500</td>\n",
       "      <td>f2483</td>\n",
       "      <td>2483</td>\n",
       "    </tr>\n",
       "    <tr>\n",
       "      <th>f2482</th>\n",
       "      <td>461</td>\n",
       "      <td>f2482</td>\n",
       "      <td>2482</td>\n",
       "    </tr>\n",
       "    <tr>\n",
       "      <th>f2166</th>\n",
       "      <td>15</td>\n",
       "      <td>f2166</td>\n",
       "      <td>2166</td>\n",
       "    </tr>\n",
       "    <tr>\n",
       "      <th>f2167</th>\n",
       "      <td>197</td>\n",
       "      <td>f2167</td>\n",
       "      <td>2167</td>\n",
       "    </tr>\n",
       "    <tr>\n",
       "      <th>f2164</th>\n",
       "      <td>84</td>\n",
       "      <td>f2164</td>\n",
       "      <td>2164</td>\n",
       "    </tr>\n",
       "    <tr>\n",
       "      <th>f2165</th>\n",
       "      <td>13</td>\n",
       "      <td>f2165</td>\n",
       "      <td>2165</td>\n",
       "    </tr>\n",
       "    <tr>\n",
       "      <th>f1904</th>\n",
       "      <td>150</td>\n",
       "      <td>f1904</td>\n",
       "      <td>1904</td>\n",
       "    </tr>\n",
       "  </tbody>\n",
       "</table>\n",
       "</div>"
      ],
      "text/plain": [
       "          0  index fea_index\n",
       "f2075  1028  f2075      2075\n",
       "f1911     2  f1911      1911\n",
       "f2573     1  f2573      2573\n",
       "f2179     6  f2179      2179\n",
       "f2178     8  f2178      2178\n",
       "f2274    17  f2274      2274\n",
       "f2272    18  f2272      2272\n",
       "f2273   180  f2273      2273\n",
       "f2271    18  f2271      2271\n",
       "f1941   396  f1941      1941\n",
       "f1989     2  f1989      1989\n",
       "f1943    11  f1943      1943\n",
       "f2172    37  f2172      2172\n",
       "f2160   111  f2160      2160\n",
       "f2278    86  f2278      2278\n",
       "f2176    25  f2176      2176\n",
       "f2522   170  f2522      2522\n",
       "f1951     7  f1951      1951\n",
       "f2161    59  f2161      2161\n",
       "f2664   340  f2664      2664\n",
       "f2485    51  f2485      2485\n",
       "f2484   440  f2484      2484\n",
       "f2184    41  f2184      2184\n",
       "f2185   413  f2185      2185\n",
       "f2186  2724  f2186      2186\n",
       "f2187     3  f2187      2187\n",
       "f1954    20  f1954      1954\n",
       "f1984     2  f1984      1984\n",
       "f2239     8  f2239      2239\n",
       "f2188    94  f2188      2188\n",
       "f1986    54  f1986      1986\n",
       "f2568   323  f2568      2568\n",
       "f2323    52  f2323      2323\n",
       "f2562   251  f2562      2562\n",
       "f2563   392  f2563      2563\n",
       "f1910   127  f1910      1910\n",
       "f2561   108  f2561      2561\n",
       "f1903   157  f1903      1903\n",
       "f2168   359  f2168      2168\n",
       "f1959    21  f1959      1959\n",
       "f1940    44  f1940      1940\n",
       "f2162    58  f2162      2162\n",
       "f2163   152  f2163      2163\n",
       "f2483   500  f2483      2483\n",
       "f2482   461  f2482      2482\n",
       "f2166    15  f2166      2166\n",
       "f2167   197  f2167      2167\n",
       "f2164    84  f2164      2164\n",
       "f2165    13  f2165      2165\n",
       "f1904   150  f1904      1904"
      ]
     },
     "execution_count": 34,
     "metadata": {},
     "output_type": "execute_result"
    }
   ],
   "source": [
    "imp_df.head(50)"
   ]
  },
  {
   "cell_type": "code",
   "execution_count": 36,
   "metadata": {
    "collapsed": false
   },
   "outputs": [
    {
     "data": {
      "text/plain": [
       "'2677'"
      ]
     },
     "execution_count": 36,
     "metadata": {},
     "output_type": "execute_result"
    }
   ],
   "source": [
    "imp_df['fea_index'].max()"
   ]
  },
  {
   "cell_type": "code",
   "execution_count": 57,
   "metadata": {
    "collapsed": true
   },
   "outputs": [],
   "source": [
    "a = {'a' : 1, 'b' : True}"
   ]
  },
  {
   "cell_type": "code",
   "execution_count": 58,
   "metadata": {
    "collapsed": false
   },
   "outputs": [
    {
     "data": {
      "text/plain": [
       "{'a': 1, 'b': True}"
      ]
     },
     "execution_count": 58,
     "metadata": {},
     "output_type": "execute_result"
    }
   ],
   "source": [
    "a"
   ]
  },
  {
   "cell_type": "code",
   "execution_count": 59,
   "metadata": {
    "collapsed": true
   },
   "outputs": [],
   "source": [
    "tmp = a.pop('b', None)"
   ]
  },
  {
   "cell_type": "code",
   "execution_count": 67,
   "metadata": {
    "collapsed": false,
    "scrolled": true
   },
   "outputs": [],
   "source": [
    "class ABC(object):\n",
    "    const = 1\n",
    "    def aa(self, x):\n",
    "        return x + ABC.const"
   ]
  },
  {
   "cell_type": "code",
   "execution_count": 68,
   "metadata": {
    "collapsed": false
   },
   "outputs": [
    {
     "data": {
      "text/plain": [
       "3"
      ]
     },
     "execution_count": 68,
     "metadata": {},
     "output_type": "execute_result"
    }
   ],
   "source": [
    "a = ABC()\n",
    "a.aa(2)"
   ]
  }
 ],
 "metadata": {
  "kernelspec": {
   "display_name": "Python 2",
   "language": "python",
   "name": "python2"
  },
  "language_info": {
   "codemirror_mode": {
    "name": "ipython",
    "version": 2
   },
   "file_extension": ".py",
   "mimetype": "text/x-python",
   "name": "python",
   "nbconvert_exporter": "python",
   "pygments_lexer": "ipython2",
   "version": "2.7.6"
  }
 },
 "nbformat": 4,
 "nbformat_minor": 0
}
