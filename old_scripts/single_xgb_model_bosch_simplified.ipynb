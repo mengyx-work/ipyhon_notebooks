{
 "cells": [
  {
   "cell_type": "code",
   "execution_count": 1,
   "metadata": {
    "collapsed": true
   },
   "outputs": [],
   "source": [
    "import pandas as pd\n",
    "import numpy as np\n",
    "import os, sys, time\n",
    "import yaml\n",
    "from sklearn.metrics import matthews_corrcoef\n",
    "\n",
    "%matplotlib inline  \n",
    "import pandas as pd\n",
    "import numpy as np\n",
    "import os, sys, time\n",
    "import yaml\n",
    "\n",
    "sys.path.append('/home/ymm/kaggle/xgboost_hyperopt')\n",
    "import utils\n",
    "from utils.bosch_functions import load_processed_bosch_data\n",
    "from utils.models import CombinedModel, ExtraTreeModel\n",
    "from utils.validation_tools import score_MCC, create_validation_index, cross_validate_model\n"
   ]
  },
  {
   "cell_type": "code",
   "execution_count": 2,
   "metadata": {
    "collapsed": true
   },
   "outputs": [],
   "source": [
    "from utils.wrapped_xgboost import xgboost_classifier"
   ]
  },
  {
   "cell_type": "code",
   "execution_count": 2,
   "metadata": {
    "collapsed": false
   },
   "outputs": [
    {
     "data": {
      "text/plain": [
       "\"\\nproject_path = '/mnt/home/ymm/kaggle/compete/current'\\ndata_path = '/mnt/home/ymm/kaggle/bosch_processed_data'\\n\\nold way to import data\\nyaml_file = 'bosch_processed_data_dict.yml'\\nwith open(os.path.join(project_path, yaml_file), 'r') as yml_stream:\\n    data_dict = yaml.load(yml_stream)\\n\\ndata_index = '0'\\ndata_file = os.path.join(data_path, data_dict[data_index]['train_file'])\\nprint 'loading data from ', data_file\\ntrain = pd.read_csv(data_file, index_col='Id')\\n\""
      ]
     },
     "execution_count": 2,
     "metadata": {},
     "output_type": "execute_result"
    }
   ],
   "source": [
    "'''\n",
    "project_path = '/mnt/home/ymm/kaggle/compete/current'\n",
    "data_path = '/mnt/home/ymm/kaggle/bosch_processed_data'\n",
    "\n",
    "old way to import data\n",
    "yaml_file = 'bosch_processed_data_dict.yml'\n",
    "with open(os.path.join(project_path, yaml_file), 'r') as yml_stream:\n",
    "    data_dict = yaml.load(yml_stream)\n",
    "\n",
    "data_index = '0'\n",
    "data_file = os.path.join(data_path, data_dict[data_index]['train_file'])\n",
    "print 'loading data from ', data_file\n",
    "train = pd.read_csv(data_file, index_col='Id')\n",
    "'''"
   ]
  },
  {
   "cell_type": "code",
   "execution_count": 3,
   "metadata": {
    "collapsed": false
   },
   "outputs": [
    {
     "name": "stdout",
     "output_type": "stream",
     "text": [
      "loading bosch data from  /home/ymm/kaggle/bosch_data/bosch_complete_processed_6_bins_data/processed_totBins_6_bin_0_train.csv\n"
     ]
    }
   ],
   "source": [
    "## load training data\n",
    "#project_path = '/mnt/home/ymm/kaggle/compete/current'\n",
    "#data_path = '/mnt/home/ymm/kaggle/bosch_data/bosch_complete_processed_data'\n",
    "#data_yaml_file = 'bosch_processed_data_dict.yml'\n",
    "\n",
    "project_path = '/home/ymm/kaggle/compete/current/model_6_bins_data'\n",
    "data_path = '/home/ymm/kaggle/bosch_data/bosch_complete_processed_6_bins_data'\n",
    "data_yaml_file = 'complete_subset_data_6_bins_dict.yml'\n",
    "\n",
    "dep_var_name = 'Response'\n",
    "data_index= '0'\n",
    "train = load_processed_bosch_data(data_path, project_path, data_yaml_file, data_index=data_index)\n",
    "train_index, valid_index = create_validation_index(train, 0.5, dep_var_name, True)  \n",
    "valid_data = train.ix[valid_index]\n",
    "tmp_train  = train.ix[train_index]"
   ]
  },
  {
   "cell_type": "code",
   "execution_count": 18,
   "metadata": {
    "collapsed": false
   },
   "outputs": [
    {
     "data": {
      "text/plain": [
       "<module 'utils.wrapped_xgboost' from '/home/ymm/kaggle/xgboost_hyperopt/utils/wrapped_xgboost.pyc'>"
      ]
     },
     "execution_count": 18,
     "metadata": {},
     "output_type": "execute_result"
    }
   ],
   "source": [
    "reload(utils)\n",
    "reload(utils.wrapped_xgboost)\n",
    "#dir(utils.wrapped_xgboost)\n",
    "#reload(utils.validation_tools)"
   ]
  },
  {
   "cell_type": "code",
   "execution_count": 5,
   "metadata": {
    "collapsed": false
   },
   "outputs": [],
   "source": [
    "#reload(utils.wrapped_xgboost)"
   ]
  },
  {
   "cell_type": "code",
   "execution_count": 147,
   "metadata": {
    "collapsed": false
   },
   "outputs": [
    {
     "data": {
      "text/plain": [
       "\"\\nfrom utils.validation_tools import create_validation_index\\n## obtein the index for train and validation data\\ntrain_index, valid_index = create_validation_index(train, dep_var_name='Response', valid_frac=0.3)\\n\""
      ]
     },
     "execution_count": 147,
     "metadata": {},
     "output_type": "execute_result"
    }
   ],
   "source": [
    "'''\n",
    "from utils.validation_tools import create_validation_index\n",
    "## obtein the index for train and validation data\n",
    "train_index, valid_index = create_validation_index(train, dep_var_name='Response', valid_frac=0.3)\n",
    "'''"
   ]
  },
  {
   "cell_type": "markdown",
   "metadata": {},
   "source": [
    "### xgboost for imbalanced data\n",
    "\n",
    "#### data preparation\n",
    "    a. use the larger dataset, first bin out of 6-bins data\n",
    "    b. a fully processed data, missing values are already filled\n",
    "\n",
    "#### model benchmark\n",
    "    params[\"eta\"]                      = 0.01\n",
    "    params[\"subsample\"]                = 0.8\n",
    "    params[\"colsample_bytree\"]         = 0.8\n",
    "    params[\"num_round\"]                = 500\n",
    "\n",
    "#### approaches\n",
    "    1. Use param 'scale_pos_weight', as the ratio of negative samples to positive ones\n",
    "     3-folds results: [0.17132387528893958, 0.18898085550009494, 0.15096433310166174]\n",
    "     \n",
    "    2. valina xgboost without any additional modification.\n",
    "     3-folds results: \n",
    "    \n",
    "    2. Assign proper weights to samples"
   ]
  },
  {
   "cell_type": "code",
   "execution_count": 4,
   "metadata": {
    "collapsed": false,
    "scrolled": true
   },
   "outputs": [
    {
     "name": "stdout",
     "output_type": "stream",
     "text": [
      "scale_pos_weight: 187.502097902\n"
     ]
    }
   ],
   "source": [
    "scale_pos_weight = 1. * np.sum(train[dep_var_name].values == 0) / np.sum(train[dep_var_name].values == 1)\n",
    "print 'scale_pos_weight:', scale_pos_weight\n",
    "\n",
    "init_weight = np.copy(train[dep_var_name].values)\n",
    "\n",
    "np.place(init_weight, init_weight==1, scale_pos_weight)\n",
    "np.place(init_weight, init_weight==0, 1.)\n",
    "\n",
    "init_weight = init_weight.astype(float)\n",
    "#init_weight[:500]"
   ]
  },
  {
   "cell_type": "code",
   "execution_count": 22,
   "metadata": {
    "collapsed": true
   },
   "outputs": [],
   "source": [
    "dep_var_name = 'Response'\n",
    "\n",
    "params = {}\n",
    "params[\"eta\"]                      = 0.01\n",
    "params[\"subsample\"]                = 0.8\n",
    "params[\"colsample_bytree\"]         = 0.8\n",
    "params[\"num_round\"]                = 1000\n",
    "params[\"max_depth\"]                = 5\n",
    "params[\"gamma\"]                    = 0\n",
    "params[\"metrics\"]                  = 'auc'\n",
    "params['eval_metric']              = 'auc'\n",
    "params[\"seed\"]                     = 100\n",
    "params[\"val\"]                      = False\n",
    "params[\"early_stopping_ratio\"]     = 0.2\n",
    "## important param for highly imbalanced data\n",
    "#params['scale_pos_weight']         = scale_pos_weight"
   ]
  },
  {
   "cell_type": "code",
   "execution_count": 23,
   "metadata": {
    "collapsed": false
   },
   "outputs": [],
   "source": [
    "xgb_clf = xgboost_classifier(label_name = dep_var_name, params = params)"
   ]
  },
  {
   "cell_type": "code",
   "execution_count": null,
   "metadata": {
    "collapsed": false,
    "scrolled": true
   },
   "outputs": [
    {
     "name": "stdout",
     "output_type": "stream",
     "text": [
      "scale_pos_weight: 187.764705882\n"
     ]
    },
    {
     "name": "stderr",
     "output_type": "stream",
     "text": [
      "\n",
      "####################\n",
      " train the xgboost without early stopping\n",
      "####################\n"
     ]
    },
    {
     "name": "stdout",
     "output_type": "stream",
     "text": [
      "weights are used for xgboost training data...\n",
      "[0]\ttrain-auc:0.757654\n",
      "[1]\ttrain-auc:0.790898\n",
      "[2]\ttrain-auc:0.805074\n",
      "[3]\ttrain-auc:0.809885\n",
      "[4]\ttrain-auc:0.810948\n",
      "[5]\ttrain-auc:0.814427\n",
      "[6]\ttrain-auc:0.818645\n",
      "[7]\ttrain-auc:0.82283\n",
      "[8]\ttrain-auc:0.825488\n",
      "[9]\ttrain-auc:0.825008\n",
      "[10]\ttrain-auc:0.829774\n",
      "[11]\ttrain-auc:0.830754\n",
      "[12]\ttrain-auc:0.832469\n",
      "[13]\ttrain-auc:0.833765\n",
      "[14]\ttrain-auc:0.83544\n",
      "[15]\ttrain-auc:0.83665\n",
      "[16]\ttrain-auc:0.838642\n",
      "[17]\ttrain-auc:0.839358\n",
      "[18]\ttrain-auc:0.839225\n",
      "[19]\ttrain-auc:0.840876\n",
      "[20]\ttrain-auc:0.841949\n",
      "[21]\ttrain-auc:0.842047\n",
      "[22]\ttrain-auc:0.842563\n",
      "[23]\ttrain-auc:0.842802\n",
      "[24]\ttrain-auc:0.844478\n",
      "[25]\ttrain-auc:0.846359\n",
      "[26]\ttrain-auc:0.847522\n",
      "[27]\ttrain-auc:0.848715\n",
      "[28]\ttrain-auc:0.848558\n",
      "[29]\ttrain-auc:0.849879\n",
      "[30]\ttrain-auc:0.850941\n",
      "[31]\ttrain-auc:0.851296\n",
      "[32]\ttrain-auc:0.852558\n",
      "[33]\ttrain-auc:0.852526\n",
      "[34]\ttrain-auc:0.854047\n",
      "[35]\ttrain-auc:0.854946\n",
      "[36]\ttrain-auc:0.856217\n",
      "[37]\ttrain-auc:0.856819\n",
      "[38]\ttrain-auc:0.85783\n",
      "[39]\ttrain-auc:0.858435\n",
      "[40]\ttrain-auc:0.859656\n",
      "[41]\ttrain-auc:0.861386\n",
      "[42]\ttrain-auc:0.862337\n",
      "[43]\ttrain-auc:0.86199\n",
      "[44]\ttrain-auc:0.862863\n"
     ]
    }
   ],
   "source": [
    "results = xgb_clf.cross_validate_fit(score_MCC, train, use_weights = True, n_folds=3)"
   ]
  },
  {
   "cell_type": "code",
   "execution_count": 25,
   "metadata": {
    "collapsed": false
   },
   "outputs": [
    {
     "name": "stdout",
     "output_type": "stream",
     "text": [
      "[0.12925909738482472, 0.16786056527874313, 0.17630868136728384]\n"
     ]
    }
   ],
   "source": [
    "print results"
   ]
  },
  {
   "cell_type": "markdown",
   "metadata": {},
   "source": [
    "### single xgb model"
   ]
  },
  {
   "cell_type": "code",
   "execution_count": 141,
   "metadata": {
    "collapsed": false
   },
   "outputs": [
    {
     "data": {
      "text/plain": [
       "['StratifiedKFold',\n",
       " '__builtins__',\n",
       " '__doc__',\n",
       " '__file__',\n",
       " '__name__',\n",
       " '__package__',\n",
       " 'create_validation_index',\n",
       " 'cross_validate_model',\n",
       " 'matthews_corrcoef',\n",
       " 'np',\n",
       " 'os',\n",
       " 'pd',\n",
       " 'score_MCC',\n",
       " 'shuffle',\n",
       " 'sys',\n",
       " 'time']"
      ]
     },
     "execution_count": 141,
     "metadata": {},
     "output_type": "execute_result"
    }
   ],
   "source": [
    "reload(utils.validation_tools)\n",
    "dir(utils.validation_tools)"
   ]
  },
  {
   "cell_type": "code",
   "execution_count": 38,
   "metadata": {
    "collapsed": false
   },
   "outputs": [],
   "source": [
    "xgb_train_data = train.ix[train_index]\n",
    "xgb_test_data = train.ix[valid_index]"
   ]
  },
  {
   "cell_type": "code",
   "execution_count": 51,
   "metadata": {
    "collapsed": false
   },
   "outputs": [
    {
     "name": "stderr",
     "output_type": "stream",
     "text": [
      "\n",
      "####################\n",
      " train the xgboost without early stopping\n",
      "####################\n"
     ]
    },
    {
     "name": "stdout",
     "output_type": "stream",
     "text": [
      "[0]\ttrain-auc:0.505492\n",
      "[1]\ttrain-auc:0.505492\n",
      "[2]\ttrain-auc:0.516412\n",
      "[3]\ttrain-auc:0.516412\n",
      "[4]\ttrain-auc:0.527302\n",
      "[5]\ttrain-auc:0.527272\n",
      "[6]\ttrain-auc:0.591767\n",
      "[7]\ttrain-auc:0.591868\n",
      "[8]\ttrain-auc:0.59186\n",
      "[9]\ttrain-auc:0.591876\n",
      "[10]\ttrain-auc:0.591876\n",
      "[11]\ttrain-auc:0.591877\n",
      "[12]\ttrain-auc:0.591864\n",
      "[13]\ttrain-auc:0.591861\n",
      "[14]\ttrain-auc:0.597336\n",
      "[15]\ttrain-auc:0.597341\n",
      "[16]\ttrain-auc:0.597227\n",
      "[17]\ttrain-auc:0.597221\n",
      "[18]\ttrain-auc:0.597218\n",
      "[19]\ttrain-auc:0.59719\n",
      "[20]\ttrain-auc:0.59719\n",
      "[21]\ttrain-auc:0.597188\n",
      "[22]\ttrain-auc:0.597188\n",
      "[23]\ttrain-auc:0.597193\n",
      "[24]\ttrain-auc:0.597196\n",
      "[25]\ttrain-auc:0.5972\n",
      "[26]\ttrain-auc:0.602639\n",
      "[27]\ttrain-auc:0.602647\n",
      "[28]\ttrain-auc:0.602645\n",
      "[29]\ttrain-auc:0.602644\n",
      "[30]\ttrain-auc:0.602629\n",
      "[31]\ttrain-auc:0.602621\n",
      "[32]\ttrain-auc:0.602626\n",
      "[33]\ttrain-auc:0.602624\n",
      "[34]\ttrain-auc:0.602626\n",
      "[35]\ttrain-auc:0.602627\n",
      "[36]\ttrain-auc:0.602626\n",
      "[37]\ttrain-auc:0.602626\n",
      "[38]\ttrain-auc:0.602626\n",
      "[39]\ttrain-auc:0.602597\n",
      "[40]\ttrain-auc:0.602596\n",
      "[41]\ttrain-auc:0.602598\n",
      "[42]\ttrain-auc:0.602598\n",
      "[43]\ttrain-auc:0.602597\n",
      "[44]\ttrain-auc:0.602598\n",
      "[45]\ttrain-auc:0.602629\n",
      "[46]\ttrain-auc:0.60263\n",
      "[47]\ttrain-auc:0.602629\n",
      "[48]\ttrain-auc:0.602637\n",
      "[49]\ttrain-auc:0.602637\n",
      "[50]\ttrain-auc:0.602636\n",
      "[51]\ttrain-auc:0.602639\n",
      "[52]\ttrain-auc:0.602645\n",
      "[53]\ttrain-auc:0.602647\n",
      "[54]\ttrain-auc:0.602648\n",
      "[55]\ttrain-auc:0.602652\n",
      "[56]\ttrain-auc:0.602651\n",
      "[57]\ttrain-auc:0.60265\n",
      "[58]\ttrain-auc:0.60265\n",
      "[59]\ttrain-auc:0.602613\n",
      "[60]\ttrain-auc:0.602613\n",
      "[61]\ttrain-auc:0.602614\n",
      "[62]\ttrain-auc:0.602615\n",
      "[63]\ttrain-auc:0.602618\n",
      "[64]\ttrain-auc:0.627725\n",
      "[65]\ttrain-auc:0.633059\n",
      "[66]\ttrain-auc:0.63324\n",
      "[67]\ttrain-auc:0.633215\n",
      "[68]\ttrain-auc:0.633252\n",
      "[69]\ttrain-auc:0.633249\n",
      "[70]\ttrain-auc:0.633249\n",
      "[71]\ttrain-auc:0.633248\n",
      "[72]\ttrain-auc:0.633223\n",
      "[73]\ttrain-auc:0.633219\n",
      "[74]\ttrain-auc:0.633219\n",
      "[75]\ttrain-auc:0.633218\n",
      "[76]\ttrain-auc:0.633216\n",
      "[77]\ttrain-auc:0.633214\n",
      "[78]\ttrain-auc:0.633291\n",
      "[79]\ttrain-auc:0.633293\n",
      "[80]\ttrain-auc:0.633286\n",
      "[81]\ttrain-auc:0.633288\n",
      "[82]\ttrain-auc:0.633289\n",
      "[83]\ttrain-auc:0.633342\n",
      "[84]\ttrain-auc:0.638737\n",
      "[85]\ttrain-auc:0.638768\n",
      "[86]\ttrain-auc:0.638648\n",
      "[87]\ttrain-auc:0.638644\n",
      "[88]\ttrain-auc:0.638642\n",
      "[89]\ttrain-auc:0.638657\n",
      "[90]\ttrain-auc:0.638656\n",
      "[91]\ttrain-auc:0.638659\n",
      "[92]\ttrain-auc:0.638658\n",
      "[93]\ttrain-auc:0.638657\n",
      "[94]\ttrain-auc:0.638664\n",
      "[95]\ttrain-auc:0.638669\n",
      "[96]\ttrain-auc:0.638676\n",
      "[97]\ttrain-auc:0.638676\n",
      "[98]\ttrain-auc:0.638675\n",
      "[99]\ttrain-auc:0.638675\n",
      "[100]\ttrain-auc:0.638679\n",
      "[101]\ttrain-auc:0.644027\n",
      "[102]\ttrain-auc:0.644026\n",
      "[103]\ttrain-auc:0.644025\n",
      "[104]\ttrain-auc:0.644025\n",
      "[105]\ttrain-auc:0.644011\n",
      "[106]\ttrain-auc:0.643973\n",
      "[107]\ttrain-auc:0.643974\n",
      "[108]\ttrain-auc:0.643979\n",
      "[109]\ttrain-auc:0.643997\n",
      "[110]\ttrain-auc:0.643996\n",
      "[111]\ttrain-auc:0.644013\n",
      "[112]\ttrain-auc:0.644017\n",
      "[113]\ttrain-auc:0.642452\n",
      "[114]\ttrain-auc:0.647805\n",
      "[115]\ttrain-auc:0.647804\n",
      "[116]\ttrain-auc:0.64781\n",
      "[117]\ttrain-auc:0.647811\n",
      "[118]\ttrain-auc:0.647835\n",
      "[119]\ttrain-auc:0.64784\n",
      "[120]\ttrain-auc:0.647839\n",
      "[121]\ttrain-auc:0.64784\n",
      "[122]\ttrain-auc:0.647838\n",
      "[123]\ttrain-auc:0.647833\n",
      "[124]\ttrain-auc:0.647833\n",
      "[125]\ttrain-auc:0.647815\n",
      "[126]\ttrain-auc:0.647814\n",
      "[127]\ttrain-auc:0.647821\n",
      "[128]\ttrain-auc:0.65779\n",
      "[129]\ttrain-auc:0.657793\n",
      "[130]\ttrain-auc:0.657794\n",
      "[131]\ttrain-auc:0.657793\n",
      "[132]\ttrain-auc:0.663007\n",
      "[133]\ttrain-auc:0.663005\n",
      "[134]\ttrain-auc:0.663004\n",
      "[135]\ttrain-auc:0.663004\n",
      "[136]\ttrain-auc:0.663005\n",
      "[137]\ttrain-auc:0.663003\n",
      "[138]\ttrain-auc:0.663002\n",
      "[139]\ttrain-auc:0.66301\n",
      "[140]\ttrain-auc:0.663009\n",
      "[141]\ttrain-auc:0.66301\n",
      "[142]\ttrain-auc:0.663017\n",
      "[143]\ttrain-auc:0.663015\n",
      "[144]\ttrain-auc:0.663022\n",
      "[145]\ttrain-auc:0.663031\n",
      "[146]\ttrain-auc:0.663028\n",
      "[147]\ttrain-auc:0.663051\n",
      "[148]\ttrain-auc:0.663051\n",
      "[149]\ttrain-auc:0.663056\n",
      "[150]\ttrain-auc:0.668719\n",
      "[151]\ttrain-auc:0.668717\n",
      "[152]\ttrain-auc:0.668715\n",
      "[153]\ttrain-auc:0.669509\n",
      "[154]\ttrain-auc:0.669505\n",
      "[155]\ttrain-auc:0.669504\n",
      "[156]\ttrain-auc:0.669515\n",
      "[157]\ttrain-auc:0.690336\n",
      "[158]\ttrain-auc:0.689014\n",
      "[159]\ttrain-auc:0.689002\n",
      "[160]\ttrain-auc:0.689001\n",
      "[161]\ttrain-auc:0.68927\n",
      "[162]\ttrain-auc:0.68925\n",
      "[163]\ttrain-auc:0.689226\n",
      "[164]\ttrain-auc:0.689223\n",
      "[165]\ttrain-auc:0.68925\n",
      "[166]\ttrain-auc:0.689106\n",
      "[167]\ttrain-auc:0.689103\n",
      "[168]\ttrain-auc:0.689162\n",
      "[169]\ttrain-auc:0.689174\n",
      "[170]\ttrain-auc:0.689159\n",
      "[171]\ttrain-auc:0.689182\n",
      "[172]\ttrain-auc:0.689161\n",
      "[173]\ttrain-auc:0.689161\n",
      "[174]\ttrain-auc:0.689145\n",
      "[175]\ttrain-auc:0.68912\n",
      "[176]\ttrain-auc:0.689114\n",
      "[177]\ttrain-auc:0.68911\n",
      "[178]\ttrain-auc:0.689175\n",
      "[179]\ttrain-auc:0.689174\n",
      "[180]\ttrain-auc:0.689178\n",
      "[181]\ttrain-auc:0.689169\n",
      "[182]\ttrain-auc:0.689151\n",
      "[183]\ttrain-auc:0.694487\n",
      "[184]\ttrain-auc:0.694539\n",
      "[185]\ttrain-auc:0.694602\n",
      "[186]\ttrain-auc:0.694618\n",
      "[187]\ttrain-auc:0.694653\n",
      "[188]\ttrain-auc:0.695029\n",
      "[189]\ttrain-auc:0.694906\n",
      "[190]\ttrain-auc:0.694914\n",
      "[191]\ttrain-auc:0.694912\n",
      "[192]\ttrain-auc:0.69492\n",
      "[193]\ttrain-auc:0.694915\n",
      "[194]\ttrain-auc:0.702242\n",
      "[195]\ttrain-auc:0.702218\n",
      "[196]\ttrain-auc:0.70223\n",
      "[197]\ttrain-auc:0.70224\n",
      "[198]\ttrain-auc:0.702256\n",
      "[199]\ttrain-auc:0.702239\n",
      "[200]\ttrain-auc:0.702215\n",
      "[201]\ttrain-auc:0.702219\n",
      "[202]\ttrain-auc:0.702175\n",
      "[203]\ttrain-auc:0.701835\n",
      "[204]\ttrain-auc:0.701838\n",
      "[205]\ttrain-auc:0.701849\n",
      "[206]\ttrain-auc:0.701875\n",
      "[207]\ttrain-auc:0.701871\n",
      "[208]\ttrain-auc:0.701874\n",
      "[209]\ttrain-auc:0.701885\n",
      "[210]\ttrain-auc:0.701826\n",
      "[211]\ttrain-auc:0.701823\n",
      "[212]\ttrain-auc:0.701812\n",
      "[213]\ttrain-auc:0.701813\n",
      "[214]\ttrain-auc:0.701811\n",
      "[215]\ttrain-auc:0.701798\n",
      "[216]\ttrain-auc:0.701804\n",
      "[217]\ttrain-auc:0.701781\n",
      "[218]\ttrain-auc:0.701779\n",
      "[219]\ttrain-auc:0.701779\n",
      "[220]\ttrain-auc:0.701782\n",
      "[221]\ttrain-auc:0.701776\n",
      "[222]\ttrain-auc:0.701766\n",
      "[223]\ttrain-auc:0.701738\n",
      "[224]\ttrain-auc:0.701729\n",
      "[225]\ttrain-auc:0.701723\n",
      "[226]\ttrain-auc:0.706314\n",
      "[227]\ttrain-auc:0.706314\n",
      "[228]\ttrain-auc:0.706169\n",
      "[229]\ttrain-auc:0.706166\n",
      "[230]\ttrain-auc:0.706169\n",
      "[231]\ttrain-auc:0.706169\n",
      "[232]\ttrain-auc:0.706174\n",
      "[233]\ttrain-auc:0.706176\n",
      "[234]\ttrain-auc:0.706191\n",
      "[235]\ttrain-auc:0.706191\n",
      "[236]\ttrain-auc:0.706154\n",
      "[237]\ttrain-auc:0.706146\n",
      "[238]\ttrain-auc:0.706149\n",
      "[239]\ttrain-auc:0.706153\n",
      "[240]\ttrain-auc:0.703145\n",
      "[241]\ttrain-auc:0.703142\n",
      "[242]\ttrain-auc:0.703137\n",
      "[243]\ttrain-auc:0.703144\n",
      "[244]\ttrain-auc:0.703176\n",
      "[245]\ttrain-auc:0.703189\n",
      "[246]\ttrain-auc:0.703198\n",
      "[247]\ttrain-auc:0.703193\n",
      "[248]\ttrain-auc:0.703193\n",
      "[249]\ttrain-auc:0.703187\n",
      "[250]\ttrain-auc:0.703181\n",
      "[251]\ttrain-auc:0.703161\n",
      "[252]\ttrain-auc:0.703265\n",
      "[253]\ttrain-auc:0.70326\n",
      "[254]\ttrain-auc:0.703263\n",
      "[255]\ttrain-auc:0.703263\n",
      "[256]\ttrain-auc:0.703261\n",
      "[257]\ttrain-auc:0.703267\n",
      "[258]\ttrain-auc:0.703274\n",
      "[259]\ttrain-auc:0.703277\n",
      "[260]\ttrain-auc:0.703189\n",
      "[261]\ttrain-auc:0.710025\n",
      "[262]\ttrain-auc:0.709942\n",
      "[263]\ttrain-auc:0.709942\n",
      "[264]\ttrain-auc:0.709933\n",
      "[265]\ttrain-auc:0.709904\n",
      "[266]\ttrain-auc:0.709901\n",
      "[267]\ttrain-auc:0.709881\n",
      "[268]\ttrain-auc:0.709794\n",
      "[269]\ttrain-auc:0.709799\n",
      "[270]\ttrain-auc:0.714551\n",
      "[271]\ttrain-auc:0.714663\n",
      "[272]\ttrain-auc:0.714639\n",
      "[273]\ttrain-auc:0.714642\n",
      "[274]\ttrain-auc:0.714636\n",
      "[275]\ttrain-auc:0.714635\n",
      "[276]\ttrain-auc:0.714554\n",
      "[277]\ttrain-auc:0.714555\n",
      "[278]\ttrain-auc:0.714554\n",
      "[279]\ttrain-auc:0.714385\n",
      "[280]\ttrain-auc:0.714436\n",
      "[281]\ttrain-auc:0.71443\n",
      "[282]\ttrain-auc:0.714407\n",
      "[283]\ttrain-auc:0.714411\n",
      "[284]\ttrain-auc:0.714419\n",
      "[285]\ttrain-auc:0.71483\n",
      "[286]\ttrain-auc:0.71485\n",
      "[287]\ttrain-auc:0.714852\n",
      "[288]\ttrain-auc:0.71491\n",
      "[289]\ttrain-auc:0.714901\n",
      "[290]\ttrain-auc:0.7149\n",
      "[291]\ttrain-auc:0.714892\n",
      "[292]\ttrain-auc:0.714895\n",
      "[293]\ttrain-auc:0.714887\n",
      "[294]\ttrain-auc:0.714886\n",
      "[295]\ttrain-auc:0.719823\n",
      "[296]\ttrain-auc:0.719803\n",
      "[297]\ttrain-auc:0.719809\n",
      "[298]\ttrain-auc:0.719812\n",
      "[299]\ttrain-auc:0.719819\n",
      "[300]\ttrain-auc:0.719817\n",
      "[301]\ttrain-auc:0.719837\n",
      "[302]\ttrain-auc:0.724504\n",
      "[303]\ttrain-auc:0.729586\n",
      "[304]\ttrain-auc:0.729647\n",
      "[305]\ttrain-auc:0.729674\n",
      "[306]\ttrain-auc:0.729755\n",
      "[307]\ttrain-auc:0.729806\n",
      "[308]\ttrain-auc:0.729693\n",
      "[309]\ttrain-auc:0.729693\n",
      "[310]\ttrain-auc:0.729468\n",
      "[311]\ttrain-auc:0.729483\n",
      "[312]\ttrain-auc:0.729465\n",
      "[313]\ttrain-auc:0.729463\n",
      "[314]\ttrain-auc:0.729228\n",
      "[315]\ttrain-auc:0.729224\n",
      "[316]\ttrain-auc:0.729552\n",
      "[317]\ttrain-auc:0.72954\n",
      "[318]\ttrain-auc:0.733145\n",
      "[319]\ttrain-auc:0.73273\n",
      "[320]\ttrain-auc:0.732747\n",
      "[321]\ttrain-auc:0.732686\n",
      "[322]\ttrain-auc:0.732677\n",
      "[323]\ttrain-auc:0.737287\n",
      "[324]\ttrain-auc:0.737283\n",
      "[325]\ttrain-auc:0.737176\n",
      "[326]\ttrain-auc:0.737354\n",
      "[327]\ttrain-auc:0.737337\n",
      "[328]\ttrain-auc:0.737329\n",
      "[329]\ttrain-auc:0.736968\n",
      "[330]\ttrain-auc:0.736995\n",
      "[331]\ttrain-auc:0.736984\n",
      "[332]\ttrain-auc:0.736975\n",
      "[333]\ttrain-auc:0.757229\n",
      "[334]\ttrain-auc:0.757212\n",
      "[335]\ttrain-auc:0.757185\n",
      "[336]\ttrain-auc:0.756835\n",
      "[337]\ttrain-auc:0.756846\n",
      "[338]\ttrain-auc:0.756856\n",
      "[339]\ttrain-auc:0.756893\n",
      "[340]\ttrain-auc:0.761662\n",
      "[341]\ttrain-auc:0.761679\n",
      "[342]\ttrain-auc:0.761691\n",
      "[343]\ttrain-auc:0.761768\n",
      "[344]\ttrain-auc:0.761785\n",
      "[345]\ttrain-auc:0.761777\n",
      "[346]\ttrain-auc:0.761876\n",
      "[347]\ttrain-auc:0.761958\n",
      "[348]\ttrain-auc:0.765822\n",
      "[349]\ttrain-auc:0.765826\n",
      "[350]\ttrain-auc:0.770383\n",
      "[351]\ttrain-auc:0.770622\n",
      "[352]\ttrain-auc:0.770615\n",
      "[353]\ttrain-auc:0.770537\n",
      "[354]\ttrain-auc:0.770617\n",
      "[355]\ttrain-auc:0.770586\n",
      "[356]\ttrain-auc:0.77065\n",
      "[357]\ttrain-auc:0.77062\n",
      "[358]\ttrain-auc:0.770565\n",
      "[359]\ttrain-auc:0.770621\n",
      "[360]\ttrain-auc:0.770621\n",
      "[361]\ttrain-auc:0.786897\n",
      "[362]\ttrain-auc:0.78693\n",
      "[363]\ttrain-auc:0.786925\n",
      "[364]\ttrain-auc:0.786549\n",
      "[365]\ttrain-auc:0.786293\n",
      "[366]\ttrain-auc:0.786281\n",
      "[367]\ttrain-auc:0.78595\n",
      "[368]\ttrain-auc:0.78595\n",
      "[369]\ttrain-auc:0.791146\n",
      "[370]\ttrain-auc:0.790801\n",
      "[371]\ttrain-auc:0.790727\n",
      "[372]\ttrain-auc:0.790496\n",
      "[373]\ttrain-auc:0.790536\n",
      "[374]\ttrain-auc:0.79054\n",
      "[375]\ttrain-auc:0.790327\n",
      "[376]\ttrain-auc:0.790055\n",
      "[377]\ttrain-auc:0.789748\n",
      "[378]\ttrain-auc:0.789741\n",
      "[379]\ttrain-auc:0.790005\n",
      "[380]\ttrain-auc:0.790062\n",
      "[381]\ttrain-auc:0.790522\n",
      "[382]\ttrain-auc:0.790511\n",
      "[383]\ttrain-auc:0.790405\n",
      "[384]\ttrain-auc:0.790258\n",
      "[385]\ttrain-auc:0.790251\n",
      "[386]\ttrain-auc:0.789867\n",
      "[387]\ttrain-auc:0.791122\n",
      "[388]\ttrain-auc:0.791569\n",
      "[389]\ttrain-auc:0.791455\n",
      "[390]\ttrain-auc:0.791427\n",
      "[391]\ttrain-auc:0.791355\n",
      "[392]\ttrain-auc:0.791295\n",
      "[393]\ttrain-auc:0.791295\n",
      "[394]\ttrain-auc:0.792368\n",
      "[395]\ttrain-auc:0.794007\n",
      "[396]\ttrain-auc:0.79402\n",
      "[397]\ttrain-auc:0.794017\n",
      "[398]\ttrain-auc:0.793976\n",
      "[399]\ttrain-auc:0.793986\n",
      "[400]\ttrain-auc:0.793934\n",
      "[401]\ttrain-auc:0.794007\n",
      "[402]\ttrain-auc:0.793971\n",
      "[403]\ttrain-auc:0.793977\n",
      "[404]\ttrain-auc:0.798369\n",
      "[405]\ttrain-auc:0.798569\n",
      "[406]\ttrain-auc:0.79856\n",
      "[407]\ttrain-auc:0.798507\n",
      "[408]\ttrain-auc:0.798573\n",
      "[409]\ttrain-auc:0.798577\n",
      "[410]\ttrain-auc:0.79852\n",
      "[411]\ttrain-auc:0.798475\n",
      "[412]\ttrain-auc:0.798576\n",
      "[413]\ttrain-auc:0.799541\n",
      "[414]\ttrain-auc:0.799106\n",
      "[415]\ttrain-auc:0.802144\n",
      "[416]\ttrain-auc:0.802357\n",
      "[417]\ttrain-auc:0.802274\n",
      "[418]\ttrain-auc:0.802259\n",
      "[419]\ttrain-auc:0.802389\n",
      "[420]\ttrain-auc:0.802351\n",
      "[421]\ttrain-auc:0.802371\n",
      "[422]\ttrain-auc:0.802352\n",
      "[423]\ttrain-auc:0.806711\n",
      "[424]\ttrain-auc:0.806678\n",
      "[425]\ttrain-auc:0.806375\n",
      "[426]\ttrain-auc:0.806806\n",
      "[427]\ttrain-auc:0.806706\n",
      "[428]\ttrain-auc:0.806696\n",
      "[429]\ttrain-auc:0.806427\n",
      "[430]\ttrain-auc:0.806383\n",
      "[431]\ttrain-auc:0.806363\n",
      "[432]\ttrain-auc:0.80634\n",
      "[433]\ttrain-auc:0.807423\n",
      "[434]\ttrain-auc:0.807307\n",
      "[435]\ttrain-auc:0.807229\n",
      "[436]\ttrain-auc:0.807188\n",
      "[437]\ttrain-auc:0.807096\n",
      "[438]\ttrain-auc:0.807117\n",
      "[439]\ttrain-auc:0.80708\n",
      "[440]\ttrain-auc:0.823513\n",
      "[441]\ttrain-auc:0.823366\n",
      "[442]\ttrain-auc:0.84369\n",
      "[443]\ttrain-auc:0.843666\n",
      "[444]\ttrain-auc:0.843625\n",
      "[445]\ttrain-auc:0.843662\n",
      "[446]\ttrain-auc:0.84354\n",
      "[447]\ttrain-auc:0.843515\n",
      "[448]\ttrain-auc:0.843463\n",
      "[449]\ttrain-auc:0.843241\n",
      "[450]\ttrain-auc:0.843168\n",
      "[451]\ttrain-auc:0.843199\n",
      "[452]\ttrain-auc:0.843152\n",
      "[453]\ttrain-auc:0.842204\n",
      "[454]\ttrain-auc:0.847193\n",
      "[455]\ttrain-auc:0.847048\n",
      "[456]\ttrain-auc:0.847555\n",
      "[457]\ttrain-auc:0.847185\n",
      "[458]\ttrain-auc:0.851581\n",
      "[459]\ttrain-auc:0.851562\n",
      "[460]\ttrain-auc:0.851754\n",
      "[461]\ttrain-auc:0.851735\n",
      "[462]\ttrain-auc:0.85158\n",
      "[463]\ttrain-auc:0.851457\n",
      "[464]\ttrain-auc:0.851536\n",
      "[465]\ttrain-auc:0.851577\n",
      "[466]\ttrain-auc:0.850966\n",
      "[467]\ttrain-auc:0.851256\n",
      "[468]\ttrain-auc:0.851249\n",
      "[469]\ttrain-auc:0.850815\n",
      "[470]\ttrain-auc:0.850892\n",
      "[471]\ttrain-auc:0.850921\n",
      "[472]\ttrain-auc:0.851045\n",
      "[473]\ttrain-auc:0.851033\n",
      "[474]\ttrain-auc:0.850935\n",
      "[475]\ttrain-auc:0.850884\n",
      "[476]\ttrain-auc:0.850822\n",
      "[477]\ttrain-auc:0.850776\n",
      "[478]\ttrain-auc:0.850743\n",
      "[479]\ttrain-auc:0.850825\n",
      "[480]\ttrain-auc:0.850792\n",
      "[481]\ttrain-auc:0.851166\n",
      "[482]\ttrain-auc:0.851112\n",
      "[483]\ttrain-auc:0.851222\n",
      "[484]\ttrain-auc:0.851152\n",
      "[485]\ttrain-auc:0.850992\n",
      "[486]\ttrain-auc:0.850952\n",
      "[487]\ttrain-auc:0.850949\n",
      "[488]\ttrain-auc:0.850919\n",
      "[489]\ttrain-auc:0.850782\n",
      "[490]\ttrain-auc:0.85551\n",
      "[491]\ttrain-auc:0.855471\n",
      "[492]\ttrain-auc:0.855437\n",
      "[493]\ttrain-auc:0.855722\n",
      "[494]\ttrain-auc:0.855711\n",
      "[495]\ttrain-auc:0.863492\n",
      "[496]\ttrain-auc:0.863486\n",
      "[497]\ttrain-auc:0.86347\n",
      "[498]\ttrain-auc:0.863324\n",
      "[499]\ttrain-auc:0.874929\n",
      "the xgboost fit is finished by using 32.9234240055 seconds, saved into ./current_xgboost_model\n"
     ]
    },
    {
     "data": {
      "text/plain": [
       "<utils.wrapped_xgboost.xgboost_classifier at 0x7fc86d681890>"
      ]
     },
     "execution_count": 51,
     "metadata": {},
     "output_type": "execute_result"
    }
   ],
   "source": [
    "xgb_clf = xgboost_classifier(xgb_train_data, dep_var_name, params = params)\n",
    "xgb_clf.fit()"
   ]
  },
  {
   "cell_type": "code",
   "execution_count": 41,
   "metadata": {
    "collapsed": false
   },
   "outputs": [],
   "source": [
    "pred_res = xgb_clf.predict(xgb_test_data)\n",
    "validation_tools.score_MCC(xgb_test_data['Response'].values, pred_res)"
   ]
  },
  {
   "cell_type": "code",
   "execution_count": 43,
   "metadata": {
    "collapsed": true
   },
   "outputs": [],
   "source": [
    "sys.path.append('/home/ymm/kaggle/xgboost_hyperopt')\n",
    "import utils.validation_tools as validation_tools"
   ]
  },
  {
   "cell_type": "code",
   "execution_count": 47,
   "metadata": {
    "collapsed": false,
    "scrolled": true
   },
   "outputs": [
    {
     "data": {
      "text/plain": [
       "<module 'utils.validation_tools' from '/home/ymm/kaggle/xgboost_hyperopt/utils/validation_tools.py'>"
      ]
     },
     "execution_count": 47,
     "metadata": {},
     "output_type": "execute_result"
    }
   ],
   "source": [
    "reload(validation_tools)\n",
    "dir(validation_tools)"
   ]
  }
 ],
 "metadata": {
  "kernelspec": {
   "display_name": "Python 2",
   "language": "python",
   "name": "python2"
  },
  "language_info": {
   "codemirror_mode": {
    "name": "ipython",
    "version": 2
   },
   "file_extension": ".py",
   "mimetype": "text/x-python",
   "name": "python",
   "nbconvert_exporter": "python",
   "pygments_lexer": "ipython2",
   "version": "2.7.6"
  }
 },
 "nbformat": 4,
 "nbformat_minor": 0
}
