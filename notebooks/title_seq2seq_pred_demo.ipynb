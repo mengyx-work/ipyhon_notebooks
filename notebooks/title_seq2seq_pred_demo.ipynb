{
 "metadata": {
  "kernelspec": {
   "display_name": "Python 2",
   "language": "python",
   "name": "python2"
  },
  "language_info": {
   "codemirror_mode": {
    "name": "ipython",
    "version": 2
   },
   "file_extension": ".py",
   "mimetype": "text/x-python",
   "name": "python",
   "nbconvert_exporter": "python",
   "pygments_lexer": "ipython2",
   "version": "2.7.10"
  },
  "name": "",
  "signature": "sha256:951c5fc33b67d641239f3a880824f53e19e95d741058c0187d6da11168343394"
 },
 "nbformat": 3,
 "nbformat_minor": 0,
 "worksheets": [
  {
   "cells": [
    {
     "cell_type": "code",
     "collapsed": false,
     "input": [
      "import cPickle as pickle\n",
      "import os, sys, multiprocessing, time, math\n",
      "import tensorflow as tf\n",
      "import numpy as np\n",
      "sys.path.append('/home/matt.meng/seq2seq_model')\n",
      "from graph_model import Seq2SeqModel\n",
      "from utils import create_local_model_path, create_local_log_path\n",
      "import matplotlib.pyplot as plt\n",
      "%matplotlib inline  \n"
     ],
     "language": "python",
     "metadata": {},
     "outputs": [],
     "prompt_number": 1
    },
    {
     "cell_type": "code",
     "collapsed": false,
     "input": [
      "from matplotlib import rcParams\n",
      "rcParams['figure.figsize'] = (16, 8)"
     ],
     "language": "python",
     "metadata": {},
     "outputs": [],
     "prompt_number": 2
    },
    {
     "cell_type": "code",
     "collapsed": false,
     "input": [
      "def build_seq2seq_model(model_name):\n",
      "    \n",
      "    NUM_THREADS = 2*multiprocessing.cpu_count()-1\n",
      "    COMMON_PATH = os.path.join(os.path.expanduser(\"~\"), 'local_tensorflow_content')\n",
      "    \n",
      "    model_config = {}\n",
      "    model_config['model_name'] = model_name\n",
      "    model_config['restore_model'] = True\n",
      "    model_config['eval_mode'] = True\n",
      "    model_config['BiDirectional'] = True\n",
      "    model_config['model_path'] = create_local_model_path(COMMON_PATH, model_config['model_name'])\n",
      "    model_config['log_path'] = create_local_log_path(COMMON_PATH, model_config['model_name'])\n",
      "    \n",
      "    use_gpu = False\n",
      "    if use_gpu:\n",
      "        model_config['sess_config'] = tf.ConfigProto(log_device_placement=False,\n",
      "                                                     gpu_options=tf.GPUOptions(per_process_gpu_memory_fraction=0.5))\n",
      "    else:\n",
      "        os.environ['CUDA_VISIBLE_DEVICES'] = '-1'  # the only way to completely not use GPU\n",
      "        model_config['sess_config'] = tf.ConfigProto(intra_op_parallelism_threads=NUM_THREADS)\n",
      "\n",
      "    model = Seq2SeqModel(**model_config)\n",
      "    return model\n",
      "\n",
      "def collect_key_from_pickle_file(titles_pickle_file, title_key):\n",
      "    pickle_file_path = os.path.join(os.path.expanduser(\"~\"), titles_pickle_file)\n",
      "\n",
      "    with open(pickle_file_path, 'rb') as input_stream:\n",
      "        data = pickle.load(input_stream)\n",
      "    return data[title_key]\n",
      "\n",
      "\n",
      "def collect_multi_keys_from_pickle_file(titles_pickle_file, key_dict):\n",
      "    pickle_file_path = os.path.join(os.path.expanduser(\"~\"), titles_pickle_file)\n",
      "\n",
      "    with open(pickle_file_path, 'rb') as input_stream:\n",
      "        data = pickle.load(input_stream)\n",
      "        \n",
      "    content_dict = {}\n",
      "    for key in key_dict.keys():\n",
      "        content_dict[key] = data[key_dict[key]]\n",
      "    return content_dict\n",
      "\n",
      "\n",
      "class ProcessedTitle(object):\n",
      "    \n",
      "    def __init__(self, index_title, url, pageView):\n",
      "        self.index_title = index_title\n",
      "        self.url = url\n",
      "        self.pageView = pageView\n",
      "        title_array = map(ProcessedTitle.reverse_token_dict.get, self.index_title)\n",
      "        self.title = \" \".join(title_array) \n",
      "        \n",
      "    def create_seq2seq_model_embeddings(self, model):\n",
      "        embedded_input_sets, encode_ouput_sets, hidden_state_sets = model.eval_by_batch([self.index_title])\n",
      "        self.embeddings = []\n",
      "        \n",
      "        # mean_embedded_inputs_, max_embedded_inputs_, min_embedded_inputs_\n",
      "        for embedding in embedded_input_sets:\n",
      "            self.embeddings.append(embedding[0])\n",
      "        # mean_encoder_outputs, max_encoder_outputs, min_encoder_outputs\n",
      "        for embedding in encode_ouput_sets:\n",
      "            self.embeddings.append(embedding[0])\n",
      "        # final_cell_state_, final_hidden_state_\n",
      "        for embedding in hidden_state_sets:\n",
      "            self.embeddings.append(embedding[0])\n",
      "        '''\n",
      "        self.mean_embedded_inputs = embedded_input_sets[0]\n",
      "        self.max_embedded_inputs = embedded_input_sets[1]\n",
      "        self.min_embedded_inputs = embedded_input_sets[2]\n",
      "        '''\n",
      "        \n",
      "\n",
      "def predict_titles_with_seq2seq(content_dict, model, display_couner=1000, count_limit=None):\n",
      "    processed_titles = []\n",
      "    cur_time = time.time()\n",
      "    if count_limit is None:\n",
      "        count_limit = len(content_dict['titles'])\n",
      "    else:\n",
      "        count_limit = min(count_limit, len(content_dict['titles']))\n",
      "    ProcessedTitle.reverse_token_dict = content_dict['reverse_token_dict']\n",
      "    for i in xrange(count_limit):\n",
      "        title = ProcessedTitle(index_title=content_dict['titles'][i],\n",
      "                               url=content_dict['url'][i],\n",
      "                               pageView=content_dict['pageView'][i])\n",
      "        title.create_seq2seq_model_embeddings(model)\n",
      "        processed_titles.append(title)\n",
      "        if i != 0 and i % display_couner == 0:\n",
      "            print \"processing {} titles using {:.2f} seconds\".format(display_couner, time.time() - cur_time)\n",
      "            cur_time = time.time()\n",
      "    return processed_titles\n",
      "\n",
      "\n",
      "def get_dict_keys(titles_pickle_file):\n",
      "    pickle_file_path = os.path.join(os.path.expanduser(\"~\"), titles_pickle_file)\n",
      "    with open(pickle_file_path, 'rb') as input_stream:\n",
      "        data = pickle.load(input_stream)\n",
      "    for key in data:\n",
      "        print \"for the key: {}, totale {} entries\".format(key, len(data[key]))\n",
      "        \n",
      "        \n",
      "def square_rooted(x):\n",
      "    return math.sqrt(sum([a*a for a in x]))\n",
      " \n",
      "def euclidean_distance(x,y):\n",
      "     return math.sqrt(sum(math.pow(a - b, 2) for a, b in zip(x, y)))\n",
      "\n",
      "def manhattan_distance(x,y): \n",
      "    return sum(abs(a - b) for a,b in zip(x,y))\n",
      "\n",
      "def cosine_similarity(x, y):\n",
      "    numerator = sum(a*b for a, b in zip(x,y))\n",
      "    denominator = square_rooted(x) * square_rooted(y)\n",
      "    #denominator = (square_rooted(x) + square_rooted(y))\n",
      "    return numerator / denominator\n",
      "\n",
      "\n",
      "def get_embedding_vector(sorted_titles, article_index):\n",
      "    embedding_index = 6\n",
      "    #sample_vector = sorted_titles[article_index].embeddings[0][:]\n",
      "\n",
      "    sample_vector = sorted_titles[article_index].embeddings[6][:]\n",
      "    sample_vector = np.append(sample_vector, sorted_titles[article_index].embeddings[0][:])\n",
      "\n",
      "    #sample_vector = sorted_titles[article_index].embeddings[embedding_index][:]\n",
      "    #sample_vector = np.append(sample_vector, sorted_titles[article_index].embeddings[embedding_index+1][:])\n",
      "    #sample_vector = np.append(sample_vector, sorted_titles[article_index].embeddings[0][:])\n",
      "    \n",
      "    return sample_vector"
     ],
     "language": "python",
     "metadata": {},
     "outputs": [],
     "prompt_number": 3
    },
    {
     "cell_type": "markdown",
     "metadata": {},
     "source": [
      "#### the data file and model file"
     ]
    },
    {
     "cell_type": "code",
     "collapsed": false,
     "input": [
      "titles_pickle_file = 'full_dedup_scrambled_1_token_thres_8_titles.pkl'\n",
      "model_name = 'seq2seq_full_dedup_raw_rnn_scramble_1_token_thres_8_embedding_64_hidden_128_BiDirectional'\n",
      "\n",
      "dual_output_expected_keys = {\"titles\": 'target_titles', \"url\": 'url', 'pageView': \"pageViw\", 'reverse_token_dict': 'reverse_token_dict'}\n",
      "content_dict = collect_multi_keys_from_pickle_file(titles_pickle_file, dual_output_expected_keys)"
     ],
     "language": "python",
     "metadata": {},
     "outputs": [],
     "prompt_number": 6
    },
    {
     "cell_type": "markdown",
     "metadata": {},
     "source": [
      "#### reload the TensorFlow model"
     ]
    },
    {
     "cell_type": "code",
     "collapsed": false,
     "input": [
      "seq2seq_model = build_seq2seq_model(model_name)"
     ],
     "language": "python",
     "metadata": {},
     "outputs": [
      {
       "output_type": "stream",
       "stream": "stdout",
       "text": [
        "warning, more than one model meta file is found in /home/matt.meng/local_tensorflow_content/seq2seq_full_dedup_raw_rnn_scramble_1_token_thres_8_embedding_64_hidden_128_BiDirectional\n",
        "INFO:tensorflow:Restoring parameters from /home/matt.meng/local_tensorflow_content/seq2seq_full_dedup_raw_rnn_scramble_1_token_thres_8_embedding_64_hidden_128_BiDirectional/models-195000\n"
       ]
      },
      {
       "output_type": "stream",
       "stream": "stderr",
       "text": [
        "INFO:tensorflow:Restoring parameters from /home/matt.meng/local_tensorflow_content/seq2seq_full_dedup_raw_rnn_scramble_1_token_thres_8_embedding_64_hidden_128_BiDirectional/models-195000\n"
       ]
      },
      {
       "output_type": "stream",
       "stream": "stdout",
       "text": [
        "restore eval models from /home/matt.meng/local_tensorflow_content/seq2seq_full_dedup_raw_rnn_scramble_1_token_thres_8_embedding_64_hidden_128_BiDirectional\n"
       ]
      }
     ],
     "prompt_number": 8
    },
    {
     "cell_type": "code",
     "collapsed": false,
     "input": [],
     "language": "python",
     "metadata": {},
     "outputs": [],
     "prompt_number": 8
    },
    {
     "cell_type": "markdown",
     "metadata": {},
     "source": [
      "#### process the data with TensorFlow model"
     ]
    },
    {
     "cell_type": "code",
     "collapsed": false,
     "input": [
      "processed_titles = predict_titles_with_seq2seq(content_dict, seq2seq_model, display_couner=10000, count_limit=200000)"
     ],
     "language": "python",
     "metadata": {},
     "outputs": [
      {
       "output_type": "stream",
       "stream": "stdout",
       "text": [
        "processing 10000 titles using 33.82 seconds\n",
        "processing 10000 titles using 36.02 seconds"
       ]
      },
      {
       "output_type": "stream",
       "stream": "stdout",
       "text": [
        "\n",
        "processing 10000 titles using 36.45 seconds"
       ]
      },
      {
       "output_type": "stream",
       "stream": "stdout",
       "text": [
        "\n",
        "processing 10000 titles using 36.10 seconds"
       ]
      },
      {
       "output_type": "stream",
       "stream": "stdout",
       "text": [
        "\n",
        "processing 10000 titles using 39.30 seconds"
       ]
      },
      {
       "output_type": "stream",
       "stream": "stdout",
       "text": [
        "\n",
        "processing 10000 titles using 39.21 seconds"
       ]
      },
      {
       "output_type": "stream",
       "stream": "stdout",
       "text": [
        "\n",
        "processing 10000 titles using 39.37 seconds"
       ]
      },
      {
       "output_type": "stream",
       "stream": "stdout",
       "text": [
        "\n",
        "processing 10000 titles using 39.03 seconds"
       ]
      },
      {
       "output_type": "stream",
       "stream": "stdout",
       "text": [
        "\n",
        "processing 10000 titles using 39.28 seconds"
       ]
      },
      {
       "output_type": "stream",
       "stream": "stdout",
       "text": [
        "\n",
        "processing 10000 titles using 41.67 seconds"
       ]
      },
      {
       "output_type": "stream",
       "stream": "stdout",
       "text": [
        "\n",
        "processing 10000 titles using 41.64 seconds"
       ]
      },
      {
       "output_type": "stream",
       "stream": "stdout",
       "text": [
        "\n",
        "processing 10000 titles using 42.76 seconds"
       ]
      },
      {
       "output_type": "stream",
       "stream": "stdout",
       "text": [
        "\n",
        "processing 10000 titles using 42.25 seconds"
       ]
      },
      {
       "output_type": "stream",
       "stream": "stdout",
       "text": [
        "\n",
        "processing 10000 titles using 41.84 seconds"
       ]
      },
      {
       "output_type": "stream",
       "stream": "stdout",
       "text": [
        "\n",
        "processing 10000 titles using 41.18 seconds"
       ]
      },
      {
       "output_type": "stream",
       "stream": "stdout",
       "text": [
        "\n",
        "processing 10000 titles using 42.18 seconds"
       ]
      },
      {
       "output_type": "stream",
       "stream": "stdout",
       "text": [
        "\n",
        "processing 10000 titles using 43.28 seconds"
       ]
      },
      {
       "output_type": "stream",
       "stream": "stdout",
       "text": [
        "\n",
        "processing 10000 titles using 43.42 seconds"
       ]
      },
      {
       "output_type": "stream",
       "stream": "stdout",
       "text": [
        "\n",
        "processing 10000 titles using 43.48 seconds"
       ]
      },
      {
       "output_type": "stream",
       "stream": "stdout",
       "text": [
        "\n"
       ]
      }
     ],
     "prompt_number": 9
    },
    {
     "cell_type": "code",
     "collapsed": true,
     "input": [
      "sorted_titles = sorted(processed_titles, key=lambda x: x.pageView, reverse=True)\n",
      "\n",
      "# check the embedding dimension\n",
      "assert len(sorted_titles[20].embeddings) == 8"
     ],
     "language": "python",
     "metadata": {},
     "outputs": [],
     "prompt_number": 10
    },
    {
     "cell_type": "code",
     "collapsed": false,
     "input": [
      "sorted_titles[0].url"
     ],
     "language": "python",
     "metadata": {},
     "outputs": [
      {
       "metadata": {},
       "output_type": "pyout",
       "prompt_number": 11,
       "text": [
        "'http://www.msn.com/en-us/news/breakingnews/live-coverage-from-cbs-news/ar-BBmYvYY'"
       ]
      }
     ],
     "prompt_number": 11
    },
    {
     "cell_type": "code",
     "collapsed": false,
     "input": [
      "'''\n",
      "example_url = 'http://www.businessinsider.com/signs-layoffs-are-coming-2016-8'\n",
      "\n",
      "for i in xrange(len(sorted_titles)):\n",
      "    if sorted_titles[i].url == example_url:\n",
      "        print i\n",
      "'''"
     ],
     "language": "python",
     "metadata": {},
     "outputs": [
      {
       "metadata": {},
       "output_type": "pyout",
       "prompt_number": 12,
       "text": [
        "\"\\nexample_url = 'http://www.businessinsider.com/signs-layoffs-are-coming-2016-8'\\n\\nfor i in xrange(len(sorted_titles)):\\n    if sorted_titles[i].url == example_url:\\n        print i\\n\""
       ]
      }
     ],
     "prompt_number": 12
    },
    {
     "cell_type": "markdown",
     "metadata": {},
     "source": [
      "#### select the articles to compare with others"
     ]
    },
    {
     "cell_type": "code",
     "collapsed": false,
     "input": [
      "index = 130\n",
      "#print sorted_titles[index].max_vector\n",
      "#print sorted_titles[index].min_vector\n",
      "print '\\n', sorted_titles[index].title\n",
      "print sorted_titles[index].url\n",
      "\n",
      "embeddings = sorted_titles[index].embeddings\n",
      "print \"embedding size: \", len(embeddings), '\\n'\n",
      "#embeddings[2]"
     ],
     "language": "python",
     "metadata": {},
     "outputs": [
      {
       "output_type": "stream",
       "stream": "stdout",
       "text": [
        "\n",
        "actor death spotlights dangers of home detox\n",
        "http://www.msn.com/en-us/health/healthtrending/actors-death-spotlights-dangers-of-home-detox/ar-BBEfUl5\n",
        "embedding size:  8 \n",
        "\n"
       ]
      }
     ],
     "prompt_number": 60
    },
    {
     "cell_type": "code",
     "collapsed": false,
     "input": [
      "len(embeddings[7])"
     ],
     "language": "python",
     "metadata": {},
     "outputs": [
      {
       "metadata": {},
       "output_type": "pyout",
       "prompt_number": 55,
       "text": [
        "256"
       ]
      }
     ],
     "prompt_number": 55
    },
    {
     "cell_type": "code",
     "collapsed": false,
     "input": [],
     "language": "python",
     "metadata": {},
     "outputs": [],
     "prompt_number": 55
    },
    {
     "cell_type": "markdown",
     "metadata": {},
     "source": [
      "#### compare the selected articles to others, add `cosine_similarity` to all sorted artitles"
     ]
    },
    {
     "cell_type": "code",
     "collapsed": false,
     "input": [
      "cosine_results, euclidean_results = [], []\n",
      "start_time = time.time()\n",
      "article_index = index\n",
      "print sorted_titles[article_index].url\n",
      "print sorted_titles[article_index].title\n",
      "print sorted_titles[article_index].pageView\n",
      "\n",
      "sample_vector = get_embedding_vector(sorted_titles, article_index)\n",
      "expected_length = len(sample_vector)\n",
      "#print \"sample vector length:\", len(sample_vector)\n",
      "print \"\\n\"\n",
      "\n",
      "#sample_vector = np.append(sample_vector, sorted_titles[index].min_vector[:])\n",
      "#sample_vector = np.append(sample_vector, sorted_titles[index].mean_vector[:])\n",
      "#sample_vector = sorted_titles[index].mean_vector[:]\n",
      "\n",
      "\n",
      "#sample_vector = sorted_titles[index].mean_vector[:]\n",
      "for i in xrange(min(len(sorted_titles), 50000)):\n",
      "#for i in xrange(len(sorted_titles)):\n",
      "    cur_vector = get_embedding_vector(sorted_titles, i)\n",
      "    assert len(cur_vector) == expected_length\n",
      "    \n",
      "    cosine_result = cosine_similarity(cur_vector, sample_vector)\n",
      "    euclidean_result = euclidean_distance(cur_vector, sample_vector)\n",
      "    sorted_titles[i].cosine_similarity = cosine_result\n",
      "    cosine_results.append(cosine_result)\n",
      "    euclidean_results.append(euclidean_result)\n",
      "print 'all the process takes {:.2f} seconds...'.format(time.time() - start_time)"
     ],
     "language": "python",
     "metadata": {},
     "outputs": [
      {
       "output_type": "stream",
       "stream": "stdout",
       "text": [
        "http://nextluxury.com/mens-style-and-fashion/badass-tattoos-for-guys/\n",
        "## badass tattoos for guys masculine design ideas\n",
        "376214\n",
        "sample vector length: 320\n",
        "\n",
        "\n",
        "all the process takes 27.32 seconds..."
       ]
      },
      {
       "output_type": "stream",
       "stream": "stdout",
       "text": [
        "\n"
       ]
      }
     ],
     "prompt_number": 57
    },
    {
     "cell_type": "markdown",
     "metadata": {},
     "source": [
      "#### show the similarity distribution"
     ]
    },
    {
     "cell_type": "code",
     "collapsed": true,
     "input": [
      "plt.hist(cosine_results, bins=100)"
     ],
     "language": "python",
     "metadata": {},
     "outputs": [
      {
       "metadata": {},
       "output_type": "pyout",
       "prompt_number": 58,
       "text": [
        "(array([  1.00000000e+00,   1.00000000e+00,   0.00000000e+00,\n",
        "          0.00000000e+00,   0.00000000e+00,   1.00000000e+00,\n",
        "          1.00000000e+00,   1.00000000e+00,   0.00000000e+00,\n",
        "          3.00000000e+00,   1.00000000e+00,   4.00000000e+00,\n",
        "          1.00000000e+00,   4.00000000e+00,   6.00000000e+00,\n",
        "          8.00000000e+00,   3.00000000e+00,   3.00000000e+00,\n",
        "          4.00000000e+00,   1.30000000e+01,   1.20000000e+01,\n",
        "          8.00000000e+00,   1.30000000e+01,   1.40000000e+01,\n",
        "          2.60000000e+01,   2.60000000e+01,   2.50000000e+01,\n",
        "          2.90000000e+01,   5.30000000e+01,   6.80000000e+01,\n",
        "          7.30000000e+01,   1.00000000e+02,   1.10000000e+02,\n",
        "          1.21000000e+02,   1.75000000e+02,   1.82000000e+02,\n",
        "          2.34000000e+02,   2.81000000e+02,   3.62000000e+02,\n",
        "          4.10000000e+02,   4.57000000e+02,   6.37000000e+02,\n",
        "          6.62000000e+02,   8.10000000e+02,   1.03000000e+03,\n",
        "          1.22300000e+03,   1.44300000e+03,   1.62500000e+03,\n",
        "          1.89900000e+03,   2.07500000e+03,   2.34600000e+03,\n",
        "          2.64300000e+03,   2.88100000e+03,   3.02900000e+03,\n",
        "          3.18600000e+03,   3.05900000e+03,   2.95900000e+03,\n",
        "          2.91600000e+03,   2.66600000e+03,   2.30700000e+03,\n",
        "          1.88000000e+03,   1.56700000e+03,   1.17200000e+03,\n",
        "          9.54000000e+02,   6.84000000e+02,   4.93000000e+02,\n",
        "          3.31000000e+02,   2.46000000e+02,   1.50000000e+02,\n",
        "          9.50000000e+01,   5.60000000e+01,   3.80000000e+01,\n",
        "          1.80000000e+01,   9.00000000e+00,   1.40000000e+01,\n",
        "          6.00000000e+00,   2.00000000e+00,   5.00000000e+00,\n",
        "          2.00000000e+00,   2.00000000e+00,   0.00000000e+00,\n",
        "          3.00000000e+00,   2.00000000e+00,   3.00000000e+00,\n",
        "          3.00000000e+00,   1.00000000e+00,   5.00000000e+00,\n",
        "          6.00000000e+00,   4.00000000e+00,   3.00000000e+00,\n",
        "          2.00000000e+00,   6.00000000e+00,   5.00000000e+00,\n",
        "          0.00000000e+00,   1.00000000e+00,   1.00000000e+00,\n",
        "          0.00000000e+00,   0.00000000e+00,   0.00000000e+00,\n",
        "          1.00000000e+00]),\n",
        " array([ 0.33240916,  0.33908507,  0.34576098,  0.35243689,  0.35911279,\n",
        "         0.3657887 ,  0.37246461,  0.37914052,  0.38581643,  0.39249234,\n",
        "         0.39916824,  0.40584415,  0.41252006,  0.41919597,  0.42587188,\n",
        "         0.43254779,  0.43922369,  0.4458996 ,  0.45257551,  0.45925142,\n",
        "         0.46592733,  0.47260324,  0.47927914,  0.48595505,  0.49263096,\n",
        "         0.49930687,  0.50598278,  0.51265869,  0.5193346 ,  0.5260105 ,\n",
        "         0.53268641,  0.53936232,  0.54603823,  0.55271414,  0.55939005,\n",
        "         0.56606595,  0.57274186,  0.57941777,  0.58609368,  0.59276959,\n",
        "         0.5994455 ,  0.6061214 ,  0.61279731,  0.61947322,  0.62614913,\n",
        "         0.63282504,  0.63950095,  0.64617685,  0.65285276,  0.65952867,\n",
        "         0.66620458,  0.67288049,  0.6795564 ,  0.68623231,  0.69290821,\n",
        "         0.69958412,  0.70626003,  0.71293594,  0.71961185,  0.72628776,\n",
        "         0.73296366,  0.73963957,  0.74631548,  0.75299139,  0.7596673 ,\n",
        "         0.76634321,  0.77301911,  0.77969502,  0.78637093,  0.79304684,\n",
        "         0.79972275,  0.80639866,  0.81307456,  0.81975047,  0.82642638,\n",
        "         0.83310229,  0.8397782 ,  0.84645411,  0.85313002,  0.85980592,\n",
        "         0.86648183,  0.87315774,  0.87983365,  0.88650956,  0.89318547,\n",
        "         0.89986137,  0.90653728,  0.91321319,  0.9198891 ,  0.92656501,\n",
        "         0.93324092,  0.93991682,  0.94659273,  0.95326864,  0.95994455,\n",
        "         0.96662046,  0.97329637,  0.97997227,  0.98664818,  0.99332409,  1.        ]),\n",
        " <a list of 100 Patch objects>)"
       ]
      },
      {
       "metadata": {},
       "output_type": "display_data",
       "png": "[encoded data removed]",
       "text": [
        "<matplotlib.figure.Figure at 0x7fdb8e50aa50>"
       ]
      }
     ],
     "prompt_number": 58
    },
    {
     "cell_type": "code",
     "collapsed": false,
     "input": [],
     "language": "python",
     "metadata": {},
     "outputs": [],
     "prompt_number": 21
    },
    {
     "cell_type": "code",
     "collapsed": false,
     "input": [],
     "language": "python",
     "metadata": {},
     "outputs": [],
     "prompt_number": 21
    },
    {
     "cell_type": "code",
     "collapsed": false,
     "input": [],
     "language": "python",
     "metadata": {},
     "outputs": [],
     "prompt_number": 21
    },
    {
     "cell_type": "markdown",
     "metadata": {},
     "source": [
      "#### collect and show the relevant articles, the articles are sorted by `cosine_similarity`"
     ]
    },
    {
     "cell_type": "code",
     "collapsed": true,
     "input": [
      "cosine_threshold = 0.85\n",
      "euclidean_threshold = 4\n",
      "\n",
      "\n",
      "total_counts = 0\n",
      "relevant_titles = []\n",
      "for i in xrange(len(cosine_results)):\n",
      "    if sorted_titles[i].cosine_similarity > cosine_threshold:\n",
      "        total_counts += 1\n",
      "        relevant_titles.append(sorted_titles[i])\n",
      "\n",
      "# sort the titles by the `cosine_similarity`\n",
      "selected_titles = sorted(relevant_titles, key=lambda elem: elem.cosine_similarity, reverse=True)\n",
      "\n",
      "for title in selected_titles:\n",
      "    print title.cosine_similarity\n",
      "    print title.url\n",
      "    print title.title\n",
      "    print \"\\n\""
     ],
     "language": "python",
     "metadata": {},
     "outputs": [
      {
       "output_type": "stream",
       "stream": "stdout",
       "text": [
        "1.0\n",
        "http://nextluxury.com/mens-style-and-fashion/badass-tattoos-for-guys/\n",
        "## badass tattoos for guys masculine design ideas\n",
        "\n",
        "\n",
        "0.967298189956\n",
        "http://nextluxury.com/mens-style-and-fashion/amazing-tattoos-for-guys/\n",
        "## amazing tattoos for guys masculine design ideas\n",
        "\n",
        "\n",
        "0.96202136324\n",
        "http://nextluxury.com/mens-style-and-fashion/astronomy-tattoos-for-men/\n",
        "## astronomy tattoos for men masculine design ideas\n",
        "\n",
        "\n",
        "0.951805189604\n",
        "http://nextluxury.com/mens-style-and-fashion/bulldog-tattoos-for-men/\n",
        "## bulldog tattoos for men masculine design ideas\n",
        "\n",
        "\n",
        "0.950888068084\n",
        "http://nextluxury.com/mens-style-and-fashion/unique-tattoos-for-guys/\n",
        "## unique tattoos for guys distinctive design ideas\n",
        "\n",
        "\n",
        "0.950265028419\n",
        "http://nextluxury.com/mens-style-and-fashion/chinese-tattoos-for-men/\n",
        "## chinese tattoos for men masculine design ideas\n",
        "\n",
        "\n",
        "0.948854232122\n",
        "http://nextluxury.com/mens-style-and-fashion/great-tattoos-for-men/\n",
        "## great tattoos for men masculine design ideas\n",
        "\n",
        "\n",
        "0.948494351436\n",
        "http://nextluxury.com/mens-style-and-fashion/ankle-tattoos-for-men/\n",
        "## ankle tattoos for men masculine design ideas\n",
        "\n",
        "\n",
        "0.94589596606\n",
        "http://nextluxury.com/mens-style-and-fashion/face-tattoos-for-men/\n",
        "## face tattoos for men masculine design ideas\n",
        "\n",
        "\n",
        "0.945315564226\n",
        "http://nextluxury.com/mens-style-and-fashion/barber-tattoos-for-men/\n",
        "## barber tattoos for men masculine design ideas\n",
        "\n",
        "\n",
        "0.944699478474\n",
        "http://nextluxury.com/mens-style-and-fashion/incredible-tattoos-for-men/\n",
        "## incredible tattoos for men masculine design ideas\n",
        "\n",
        "\n",
        "0.943625035436\n",
        "http://nextluxury.com/mens-style-and-fashion/brother-tattoos-for-men/\n",
        "## brother tattoos for men masculine design ideas\n",
        "\n",
        "\n",
        "0.94307924435\n",
        "http://nextluxury.com/mens-style-and-fashion/wrist-tattoos-for-men/\n",
        "## wrist tattoos for men masculine design ideas\n",
        "\n",
        "\n",
        "0.942676377627\n",
        "http://nextluxury.com/mens-style-and-fashion/basketball-tattoos-for-men/\n",
        "## basketball tattoos for men masculine design ideas\n",
        "\n",
        "\n",
        "0.939428710031\n",
        "http://nextluxury.com/mens-style-and-fashion/mayan-tattoos-for-men/\n",
        "## mayan tattoos for men masculine design ideas\n",
        "\n",
        "\n",
        "0.935440149157\n",
        "http://nextluxury.com/mens-style-and-fashion/wrestling-tattoos-for-men/\n",
        "## wrestling tattoos for men wwe design ideas\n",
        "\n",
        "\n",
        "0.933046988988\n",
        "http://nextluxury.com/mens-style-and-fashion/landscape-tattoos-for-men/\n",
        "## landscape tattoos for men scenic design ideas\n",
        "\n",
        "\n",
        "0.927924900194\n",
        "http://nextluxury.com/mens-style-and-fashion/culinary-tattoos-for-men/\n",
        "## culinary tattoos for men cooking ink ideas\n",
        "\n",
        "\n",
        "0.927634384199\n",
        "http://nextluxury.com/mens-style-and-fashion/realistic-tattoos-for-men/\n",
        "## realistic tattoos for men realism design ideas\n",
        "\n",
        "\n",
        "0.923601057357\n",
        "http://nextluxury.com/mens-style-and-fashion/thorn-tattoos-for-men/\n",
        "## thorn tattoos for men sharp design ideas\n",
        "\n",
        "\n",
        "0.923544450018\n",
        "http://nextluxury.com/mens-style-and-fashion/finger-tattoos-for-men/\n",
        "## finger tattoos for men manly design ideas\n",
        "\n",
        "\n",
        "0.920488351706\n",
        "http://nextluxury.com/mens-style-and-fashion/sky-tattoos-for-men/\n",
        "## sky tattoos for men atmosphere design ideas\n",
        "\n",
        "\n",
        "0.920246205117\n",
        "http://nextluxury.com/mens-style-and-fashion/train-tattoos-for-men/\n",
        "## train tattoos for men masculine railroad designs\n",
        "\n",
        "\n",
        "0.919143967355\n",
        "http://nextluxury.com/mens-style-and-fashion/batman-tattoos-men/\n",
        "## batman tattoos for men superhero ink designs\n",
        "\n",
        "\n",
        "0.917571311493\n",
        "http://nextluxury.com/mens-style-and-fashion/creative-tattoos-for-men/\n",
        "## creative tattoos for men unique design ideas\n",
        "\n",
        "\n",
        "0.916459146938\n",
        "http://nextluxury.com/mens-style-and-fashion/castle-tattoos-for-men/\n",
        "## castle tattoos for men masculine fortress designs\n",
        "\n",
        "\n",
        "0.91639373738\n",
        "http://nextluxury.com/mens-style-and-fashion/thigh-tattoos-for-men/\n",
        "## thigh tattoos for men manly ink designs\n",
        "\n",
        "\n",
        "0.916032845968\n",
        "http://nextluxury.com/mens-style-and-fashion/hockey-tattoos-for-men/\n",
        "## hockey tattoos for men nhl design ideas\n",
        "\n",
        "\n",
        "0.915763556308\n",
        "http://nextluxury.com/mens-style-and-fashion/lineman-tattoos-for-men/\n",
        "## lineman tattoos for men electrical design ideas\n",
        "\n",
        "\n",
        "0.910259085708\n",
        "http://nextluxury.com/mens-style-and-fashion/crazy-tattoos-for-men/\n",
        "## crazy tattoos for men bold design ideas\n",
        "\n",
        "\n",
        "0.910190151757\n",
        "http://nextluxury.com/mens-style-and-fashion/travel-tattoos-for-men/\n",
        "## travel tattoos for men adventure design ideas\n",
        "\n",
        "\n",
        "0.909922720662\n",
        "http://nextluxury.com/mens-style-and-fashion/camping-tattoos-for-men/\n",
        "## camping tattoos for men wilderness design ideas\n",
        "\n",
        "\n",
        "0.909761039225\n",
        "http://nextluxury.com/mens-style-and-fashion/catholic-tattoos-for-men/\n",
        "## catholic tattoos for men religious design ideas\n",
        "\n",
        "\n",
        "0.907689418126\n",
        "http://nextluxury.com/mens-style-and-fashion/religious-tattoos-for-men/\n",
        "## religious tattoos for men sacred design ideas\n",
        "\n",
        "\n",
        "0.904954157177\n",
        "http://nextluxury.com/mens-style-and-fashion/fitness-tattoos-for-men/\n",
        "## fitness tattoos for men bodybuilding design ideas\n",
        "\n",
        "\n",
        "0.898263857179\n",
        "http://nextluxury.com/mens-style-and-fashion/gangster-tattoos-for-men/\n",
        "## gangster tattoos for men mobster design ideas\n",
        "\n",
        "\n",
        "0.897094081399\n",
        "http://nextluxury.com/mens-style-and-fashion/golf-tattoos-for-men/\n",
        "## golf tattoos for men manly golfer designs\n",
        "\n",
        "\n",
        "0.89666051753\n",
        "http://nextluxury.com/mens-style-and-fashion/water-tattoos-for-men/\n",
        "## water tattoos for men masculine liquid designs\n",
        "\n",
        "\n",
        "0.89054241781\n",
        "http://nextluxury.com/mens-style-and-fashion/christian-tattoos-for-men/\n",
        "## christian tattoos for men manly spiritual designs\n",
        "\n",
        "\n",
        "0.889284952175\n",
        "http://nextluxury.com/mens-style-and-fashion/lizard-tattoos-for-men/\n",
        "## lizard tattoos for men cool reptile designs\n",
        "\n",
        "\n",
        "0.887811039173\n",
        "http://nextluxury.com/mens-style-and-fashion/japanese-samurai-mask-tattoo-designs-for-men/\n",
        "## japanese samurai mask tattoo designs for men\n",
        "\n",
        "\n",
        "0.886411371308\n",
        "http://nextluxury.com/mens-style-and-fashion/norse-tattoos-for-men/\n",
        "## norse tattoos for men medieval norwegian designs\n",
        "\n",
        "\n",
        "0.883791607871\n",
        "http://nextluxury.com/mens-style-and-fashion/modern-hairstyles-for-men/\n",
        "## modern hairstyles for men fashion forward impression\n",
        "\n",
        "\n",
        "0.877795539648\n",
        "http://nextluxury.com/mens-style-and-fashion/fox-tattoo-designs-for-men/\n",
        "fox tattoo designs for men sly ink inspiration\n",
        "\n",
        "\n",
        "0.87531858156\n",
        "http://nextluxury.com/mens-style-and-fashion/constellation-tattoos-for-men/\n",
        "## constellation tattoos for men star formation designs\n",
        "\n",
        "\n",
        "0.874103364146\n",
        "http://nextluxury.com/mens-style-and-fashion/tombstone-tattoos-for-men/\n",
        "## tombstone tattoos for men memorial stone designs\n",
        "\n",
        "\n",
        "0.864784756678\n",
        "http://nextluxury.com/mens-style-and-fashion/cloud-tattoos-for-men/\n",
        "## cloud tattoos for men divine dwelling designs\n",
        "\n",
        "\n",
        "0.862195689389\n",
        "http://nextluxury.com/mens-style-and-fashion/sagittarius-tattoos-for-men/\n",
        "## sagittarius tattoos for men astrological sign designs\n",
        "\n",
        "\n",
        "0.858790213176\n",
        "http://www.huffingtonpost.com/entry/backyard-wedding-ideas-for-low-key-couples_us_56de127de4b0000de405a256\n",
        "## charming backyard wedding ideas for low-key couples\n",
        "\n",
        "\n",
        "0.85317828321\n",
        "http://www.businessinsider.com/10-awesome-business-ideas-for-the-teen-entrepreneur-2011-2\n",
        "## awesome business ideas for teen entrepreneurs\n",
        "\n",
        "\n",
        "0.852805644905\n",
        "http://nextluxury.com/mens-style-and-fashion/short-curly-hair-for-men/\n",
        "short curly hair for men ## dapper hairstyles\n",
        "\n",
        "\n",
        "0.851978865922\n",
        "http://nextluxury.com/mens-style-and-fashion/elephant-tattoo-designs-for-men/\n",
        "## elephant tattoo designs for men think big\n",
        "\n",
        "\n"
       ]
      }
     ],
     "prompt_number": 59
    },
    {
     "cell_type": "code",
     "collapsed": true,
     "input": [],
     "language": "python",
     "metadata": {},
     "outputs": [],
     "prompt_number": null
    },
    {
     "cell_type": "code",
     "collapsed": false,
     "input": [],
     "language": "python",
     "metadata": {},
     "outputs": [],
     "prompt_number": null
    }
   ],
   "metadata": {}
  }
 ]
}