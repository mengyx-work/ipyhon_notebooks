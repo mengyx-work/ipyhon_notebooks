{
 "cells": [
  {
   "cell_type": "code",
   "execution_count": 1,
   "metadata": {
    "collapsed": true
   },
   "outputs": [],
   "source": [
    "import os, sys, json, time, re\n",
    "import random, collections, cPickle\n",
    "import numpy as np\n",
    "import pandas as pd\n",
    "import matplotlib.pyplot as plt\n",
    "import cPickle as pickle\n",
    "sys.path.append('/Users/matt.meng/dev/seq2seq_model/')\n",
    "from data_preprocess import tokenize_title_column, create_vocab_dict\n",
    "%matplotlib inline  "
   ]
  },
  {
   "cell_type": "code",
   "execution_count": 2,
   "metadata": {
    "collapsed": true
   },
   "outputs": [],
   "source": [
    "data_path = '/Users/matt.meng/title_data.csv'"
   ]
  },
  {
   "cell_type": "code",
   "execution_count": 3,
   "metadata": {
    "collapsed": true
   },
   "outputs": [],
   "source": [
    "#data = pd.read_csv(data_path, delimiter='\\t')\n",
    "data = pd.read_csv(data_path, index_col='url', delimiter='\\t')"
   ]
  },
  {
   "cell_type": "code",
   "execution_count": 4,
   "metadata": {
    "collapsed": false
   },
   "outputs": [
    {
     "name": "stdout",
     "output_type": "stream",
     "text": [
      "(464340, 2)\n"
     ]
    },
    {
     "data": {
      "text/html": [
       "<div>\n",
       "<table border=\"1\" class=\"dataframe\">\n",
       "  <thead>\n",
       "    <tr style=\"text-align: right;\">\n",
       "      <th></th>\n",
       "      <th>title</th>\n",
       "      <th>traffic</th>\n",
       "    </tr>\n",
       "    <tr>\n",
       "      <th>url</th>\n",
       "      <th></th>\n",
       "      <th></th>\n",
       "    </tr>\n",
       "  </thead>\n",
       "  <tbody>\n",
       "    <tr>\n",
       "      <th>https://www.bizjournals.com/sanfrancisco/news/2017/07/21/mission-san-francisco-real-estate-elon-musk.html</th>\n",
       "      <td>Bridgeton Holdings sold the Pioneer Building, ...</td>\n",
       "      <td>577.0</td>\n",
       "    </tr>\n",
       "    <tr>\n",
       "      <th>https://www.bizjournals.com/sanfrancisco/news/2017/07/24/real-estate-fintech-opendoor-florida-expansion.html</th>\n",
       "      <td>San Francisco real estate fintech Opendoor hir...</td>\n",
       "      <td>379.0</td>\n",
       "    </tr>\n",
       "    <tr>\n",
       "      <th>https://www.bizjournals.com/chicago/news/2017/07/25/united-airlines-special-for-boeing-747-enthusiasts.html</th>\n",
       "      <td>United Airlines doing something special for Bo...</td>\n",
       "      <td>1320.0</td>\n",
       "    </tr>\n",
       "    <tr>\n",
       "      <th>https://www.bizjournals.com/sanfrancisco/blog/2016/01/kaiser-permanente-health-manager-website-outage.html</th>\n",
       "      <td>Some problems persist with Kaiser Permanente's...</td>\n",
       "      <td>68.0</td>\n",
       "    </tr>\n",
       "    <tr>\n",
       "      <th>https://www.bizjournals.com/sanfrancisco/news/2017/05/04/most-influential-women-2017-bay-area-business.html</th>\n",
       "      <td>Meet 2017's Most Influential Women in Bay Area...</td>\n",
       "      <td>300.0</td>\n",
       "    </tr>\n",
       "  </tbody>\n",
       "</table>\n",
       "</div>"
      ],
      "text/plain": [
       "                                                                                                title  \\\n",
       "url                                                                                                     \n",
       "https://www.bizjournals.com/sanfrancisco/news/2...  Bridgeton Holdings sold the Pioneer Building, ...   \n",
       "https://www.bizjournals.com/sanfrancisco/news/2...  San Francisco real estate fintech Opendoor hir...   \n",
       "https://www.bizjournals.com/chicago/news/2017/0...  United Airlines doing something special for Bo...   \n",
       "https://www.bizjournals.com/sanfrancisco/blog/2...  Some problems persist with Kaiser Permanente's...   \n",
       "https://www.bizjournals.com/sanfrancisco/news/2...  Meet 2017's Most Influential Women in Bay Area...   \n",
       "\n",
       "                                                    traffic  \n",
       "url                                                          \n",
       "https://www.bizjournals.com/sanfrancisco/news/2...    577.0  \n",
       "https://www.bizjournals.com/sanfrancisco/news/2...    379.0  \n",
       "https://www.bizjournals.com/chicago/news/2017/0...   1320.0  \n",
       "https://www.bizjournals.com/sanfrancisco/blog/2...     68.0  \n",
       "https://www.bizjournals.com/sanfrancisco/news/2...    300.0  "
      ]
     },
     "execution_count": 4,
     "metadata": {},
     "output_type": "execute_result"
    }
   ],
   "source": [
    "print data.shape\n",
    "data.head()\n"
   ]
  },
  {
   "cell_type": "code",
   "execution_count": null,
   "metadata": {
    "collapsed": true
   },
   "outputs": [],
   "source": []
  },
  {
   "cell_type": "code",
   "execution_count": null,
   "metadata": {
    "collapsed": true
   },
   "outputs": [],
   "source": []
  },
  {
   "cell_type": "code",
   "execution_count": 26,
   "metadata": {
    "collapsed": false
   },
   "outputs": [
    {
     "name": "stdout",
     "output_type": "stream",
     "text": [
      "finish the tokenization...\n",
      "total 103278 tokens are ideintified...\n",
      "total 25417 unique tokens are included in the token dictionary...\n",
      "total 399823 titles are included...\n"
     ]
    }
   ],
   "source": [
    "processed_column_name = 'processed_title'\n",
    "filtered_data = tokenize_title_column(data, processed_column_name)\n",
    "token_dict, reverse_token_dict, titles, selected_title_urls, selected_title_pageView = create_vocab_dict(filtered_data,\n",
    "                                                                                                         processed_column_name,\n",
    "                                                                                                         token_freq_threshold=8)\n",
    "    "
   ]
  },
  {
   "cell_type": "code",
   "execution_count": 6,
   "metadata": {
    "collapsed": true
   },
   "outputs": [],
   "source": [
    "def count_vocab(data, column_name):\n",
    "    vocab_dict = {}\n",
    "    for title in data[column_name]:\n",
    "        for token in title.split(' '):\n",
    "            if token not in vocab_dict:\n",
    "                vocab_dict[token] = 0\n",
    "            vocab_dict[token] += 1\n",
    "    print 'total {} tokens are ideintified...'.format(len(vocab_dict))\n",
    "    counter = collections.Counter(vocab_dict.values())\n",
    "    return counter, vocab_dict"
   ]
  },
  {
   "cell_type": "code",
   "execution_count": 7,
   "metadata": {
    "collapsed": false
   },
   "outputs": [
    {
     "name": "stdout",
     "output_type": "stream",
     "text": [
      "total 103278 tokens are ideintified...\n"
     ]
    }
   ],
   "source": [
    "counter, vocab_dict = count_vocab(filtered_data, processed_column_name)"
   ]
  },
  {
   "cell_type": "code",
   "execution_count": 17,
   "metadata": {
    "collapsed": false
   },
   "outputs": [
    {
     "data": {
      "text/plain": [
       "1"
      ]
     },
     "execution_count": 17,
     "metadata": {},
     "output_type": "execute_result"
    }
   ],
   "source": [
    "vocab_dict['angna']"
   ]
  },
  {
   "cell_type": "code",
   "execution_count": 18,
   "metadata": {
    "collapsed": false
   },
   "outputs": [],
   "source": [
    "#vocab_dict.keys()[:50]"
   ]
  },
  {
   "cell_type": "code",
   "execution_count": 25,
   "metadata": {
    "collapsed": false
   },
   "outputs": [
    {
     "data": {
      "text/plain": [
       "(0, 20)"
      ]
     },
     "execution_count": 25,
     "metadata": {},
     "output_type": "execute_result"
    },
    {
     "data": {
      "image/png": "[encoded data removed]",
      "text/plain": [
       "<matplotlib.figure.Figure at 0x127d78310>"
      ]
     },
     "metadata": {},
     "output_type": "display_data"
    }
   ],
   "source": [
    "plt.hist(counter.values(), bins=100)\n",
    "#plt.yscale('log')\n",
    "axes = plt.gca()\n",
    "axes.set_xlim([0,20])\n",
    "#axes.set_ylim([ymin,ymax])"
   ]
  },
  {
   "cell_type": "code",
   "execution_count": null,
   "metadata": {
    "collapsed": true
   },
   "outputs": [],
   "source": []
  },
  {
   "cell_type": "code",
   "execution_count": null,
   "metadata": {
    "collapsed": true
   },
   "outputs": [],
   "source": [
    "content = {'url': selected_title_urls,\n",
    "               'titles': titles,\n",
    "               'pageViw': selected_title_pageView,\n",
    "               'token_dict': token_dict,\n",
    "               'reverse_token_dict': reverse_token_dict}"
   ]
  },
  {
   "cell_type": "code",
   "execution_count": null,
   "metadata": {
    "collapsed": true
   },
   "outputs": [],
   "source": []
  },
  {
   "cell_type": "code",
   "execution_count": null,
   "metadata": {
    "collapsed": true
   },
   "outputs": [],
   "source": []
  },
  {
   "cell_type": "code",
   "execution_count": null,
   "metadata": {
    "collapsed": true
   },
   "outputs": [],
   "source": []
  },
  {
   "cell_type": "code",
   "execution_count": null,
   "metadata": {
    "collapsed": true
   },
   "outputs": [],
   "source": []
  },
  {
   "cell_type": "code",
   "execution_count": null,
   "metadata": {
    "collapsed": true
   },
   "outputs": [],
   "source": []
  },
  {
   "cell_type": "code",
   "execution_count": null,
   "metadata": {
    "collapsed": true
   },
   "outputs": [],
   "source": [
    "data_path = '/Users/matt.meng/Downloads'\n",
    "file_name = 'small_articles.json'"
   ]
  },
  {
   "cell_type": "code",
   "execution_count": null,
   "metadata": {
    "collapsed": true
   },
   "outputs": [],
   "source": [
    "def isEnglish(s):\n",
    "    try:\n",
    "        s.encode(encoding='utf-8').decode('ascii')\n",
    "    except UnicodeDecodeError:\n",
    "        return False\n",
    "    else:\n",
    "        return True\n",
    "    \n",
    "def process_raw_data(data_path, file_name):\n",
    "    start_time = time.time()\n",
    "    with open(os.path.join(data_path, file_name), 'r') as input:\n",
    "        counter = 0\n",
    "        title_df = pd.DataFrame(columns=['title', 'pageView'])\n",
    "        for line in input:\n",
    "            json_doc = json.loads(line)\n",
    "            #publisher_id = json_doc['pv_publisherId']\n",
    "            expected_keys = ['pv_title', 'pv_url', 'pv_pageViews']\n",
    "            if not all([key in json_doc.keys() for key in expected_keys]):\n",
    "                continue\n",
    "            title, url, pageView = json_doc['pv_title'], json_doc['pv_url'], json_doc['pv_pageViews']\n",
    "            if not isEnglish(title):\n",
    "                continue\n",
    "            title_df.loc[url] = pd.Series({'title' : title, 'pageView' : pageView})\n",
    "    title_df.index.name = 'url'\n",
    "    print 'finished processing all the data using {:.2f} seconds'.format(time.time() - start_time) \n",
    "    return title_df\n",
    "\n",
    "def basic_tokenizer(line, normalize_digits=True):\n",
    "    line = line.replace(\"'s\", '')\n",
    "    line = re.sub(r\"\\'ve\", \" have \", line)\n",
    "    line = re.sub(r\"can't\", \"cannot \", line)\n",
    "    line = re.sub(r\"n't\", \" not \", line)\n",
    "    line = re.sub(r\"I'm\", \"I am\", line)\n",
    "    line = re.sub(r\" m \", \" am \", line)\n",
    "    line = re.sub(r\"\\'re\", \" are \", line)\n",
    "    line = re.sub(r\"\\'d\", \" would \", line)\n",
    "    line = re.sub(r\"\\'ll\", \" will \", line)\n",
    "    line = re.sub(r\"\\?\", \" ? \", line)\n",
    "    line = re.sub(r\"!\", \" ! \", line)\n",
    "    line = re.sub(r\":\", \" : \", line)\n",
    "    \n",
    "    line = re.sub('[,.\"#%\\'()*+/;<=>@\\[\\]^_{|}~`’”“′‘\\\\\\]', ' ', line)\n",
    "    line = re.sub('[\\n\\t ]+', ' ', line)\n",
    "    words = []\n",
    "    #_WORD_SPLIT = re.compile(b\"([.,!?\\\"'-<>:;)(])\")\n",
    "    _DIGIT_RE = re.compile(r\"\\d\")\n",
    "    for token in line.strip().lower().split():\n",
    "        if not token:\n",
    "            continue\n",
    "        if normalize_digits:\n",
    "            token = re.sub(_DIGIT_RE, b'#', token)\n",
    "        words.append(token)\n",
    "    return len(words), ' '.join(words)\n",
    "\n",
    "_PAD = b\"_PAD\"\n",
    "_GO = b\"_GO\"\n",
    "_EOS = b\"_EOS\"\n",
    "_UNK = b\"_UNK\"\n",
    "_START_VOCAB = [_PAD, _GO, _EOS, _UNK]\n",
    "\n",
    "'''\n",
    "PAD_ID = 0\n",
    "GO_ID = 1\n",
    "EOS_ID = 2\n",
    "UNK_ID = 3\n",
    "'''\n",
    "\n",
    "TOKEN_DICT = {}\n",
    "REVERSE_TOKEN_DICT = {}\n",
    "for i in xrange(len(_START_VOCAB)):\n",
    "    TOKEN_DICT[_START_VOCAB[i]] = i\n",
    "    REVERSE_TOKEN_DICT[i] = _START_VOCAB[i]\n",
    "\n",
    "\n",
    "def create_vocab_dict(data, column_name, token_freq_threshold=5, UKN_frac_threshold=0.3):\n",
    "    vocab_dict = {}\n",
    "    all_titles = []\n",
    "    selected_titles = []\n",
    "    selected_title_urls = []\n",
    "    selected_title_pageView = []\n",
    "    bad_titles = []\n",
    "    for title, url, pageView in zip(data[column_name], data.index, data['pageView']):\n",
    "        words = []\n",
    "        for token in title.split(' '):\n",
    "            words.append(token)\n",
    "            if token not in vocab_dict:\n",
    "                vocab_dict[token] = 0\n",
    "            vocab_dict[token] += 1\n",
    "        all_titles.append((words, url, pageView))\n",
    "    print 'total {} tokens are ideintified...'.format(len(vocab_dict))\n",
    "\n",
    "    token_dict, reverse_token_dict = TOKEN_DICT.copy(), REVERSE_TOKEN_DICT.copy()\n",
    "    UKN_index = len(token_dict) - 1\n",
    "    unique_counts = 0\n",
    "    sorted_pairs = sorted(vocab_dict.items(), key=lambda x : x[1], reverse=True)\n",
    "    for i, pair in enumerate(sorted_pairs):\n",
    "        if pair[1] >= token_freq_threshold:\n",
    "            unique_counts += 1\n",
    "            token_dict[pair[0]] = i + 1 + UKN_index\n",
    "            reverse_token_dict[(i + 1 + UKN_index)] = pair[0]\n",
    "        else:\n",
    "            token_dict[pair[0]] = UKN_index\n",
    "    print 'total {} unique tokens are included in the token dictionary...'.format(unique_counts)            \n",
    "    \n",
    "    for i in xrange(len(all_titles)):\n",
    "        indexed_title = map(token_dict.get, all_titles[i][0])\n",
    "        UKN_count = sum([elem == UKN_index for elem in indexed_title])\n",
    "        if (1.*UKN_count/len(indexed_title)) < UKN_frac_threshold:\n",
    "            selected_titles.append(indexed_title)\n",
    "            selected_title_urls.append(all_titles[i][1])\n",
    "            selected_title_pageView.append(all_titles[i][2])\n",
    "        else:\n",
    "            bad_titles.append((indexed_title, all_titles[i][1], all_titles[i][2]))\n",
    "    print 'total {} titles are included...'.format(len(selected_titles))            \n",
    "    return token_dict, reverse_token_dict, selected_titles, selected_title_urls, selected_title_pageView, bad_titles"
   ]
  },
  {
   "cell_type": "code",
   "execution_count": null,
   "metadata": {
    "collapsed": false
   },
   "outputs": [],
   "source": [
    "title_df = process_raw_data(data_path, file_name)\n",
    "\n",
    "print title_df.shape\n",
    "title_df.head()"
   ]
  },
  {
   "cell_type": "code",
   "execution_count": null,
   "metadata": {
    "collapsed": true
   },
   "outputs": [],
   "source": [
    "file_name = '/Users/matt.meng/Downloads/title_data.csv'\n",
    "title_df.to_csv(file_name, index=True)\n",
    "data = pd.read_csv(file_name, index_col='url')"
   ]
  },
  {
   "cell_type": "code",
   "execution_count": null,
   "metadata": {
    "collapsed": false
   },
   "outputs": [],
   "source": [
    "print data.shape\n",
    "data.head()"
   ]
  },
  {
   "cell_type": "code",
   "execution_count": null,
   "metadata": {
    "collapsed": true
   },
   "outputs": [],
   "source": [
    "# tokenize the titles\n",
    "data['title_word_counts'], data['processed_title'] = zip(*data['title'].map(basic_tokenizer))\n",
    "# sort by the title word counts and filter them\n",
    "sorted_data = data.sort_values(by=['title_word_counts', 'pageView'], ascending=[True, False])\n",
    "index = (sorted_data['title_word_counts'] >= 4) & (sorted_data['title_word_counts'] <= 15)\n",
    "filtered_data = sorted_data.loc[index, :]"
   ]
  },
  {
   "cell_type": "code",
   "execution_count": null,
   "metadata": {
    "collapsed": false
   },
   "outputs": [],
   "source": [
    "token_dict, reverse_token_dict, titles, selected_title_urls, selected_title_pageView, bad_titles = create_vocab_dict(filtered_data, 'processed_title')"
   ]
  },
  {
   "cell_type": "code",
   "execution_count": null,
   "metadata": {
    "collapsed": false
   },
   "outputs": [],
   "source": [
    "print len(titles), len(selected_title_urls), len(selected_title_pageView)"
   ]
  },
  {
   "cell_type": "code",
   "execution_count": null,
   "metadata": {
    "collapsed": false
   },
   "outputs": [],
   "source": [
    "#bad_titles"
   ]
  },
  {
   "cell_type": "code",
   "execution_count": null,
   "metadata": {
    "collapsed": false
   },
   "outputs": [],
   "source": [
    "pickle_file = 'processed_title_data.pkl'\n",
    "\n",
    "content = {'url' : selected_title_urls, \n",
    "           'titles' : titles, \n",
    "           'pageViw' : selected_title_pageView,\n",
    "           'token_dict' : token_dict,\n",
    "           'reverse_token_dict' : reverse_token_dict}\n",
    "\n",
    "with open(pickle_file, 'wb') as handle:\n",
    "    cPickle.dump(content, handle, protocol=cPickle.HIGHEST_PROTOCOL)"
   ]
  },
  {
   "cell_type": "code",
   "execution_count": null,
   "metadata": {
    "collapsed": true
   },
   "outputs": [],
   "source": []
  }
 ],
 "metadata": {
  "kernelspec": {
   "display_name": "Python 2",
   "language": "python",
   "name": "python2"
  },
  "language_info": {
   "codemirror_mode": {
    "name": "ipython",
    "version": 2
   },
   "file_extension": ".py",
   "mimetype": "text/x-python",
   "name": "python",
   "nbconvert_exporter": "python",
   "pygments_lexer": "ipython2",
   "version": "2.7.10"
  }
 },
 "nbformat": 4,
 "nbformat_minor": 2
}
