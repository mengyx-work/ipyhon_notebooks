{
 "cells": [
  {
   "cell_type": "code",
   "execution_count": 1,
   "metadata": {
    "collapsed": true
   },
   "outputs": [],
   "source": [
    "import os, json, time, re\n",
    "import random, collections, cPickle\n",
    "import numpy as np\n",
    "import pandas as pd\n",
    "import matplotlib.pyplot as plt\n",
    "import cPickle as pickle\n",
    "\n",
    "%matplotlib inline  "
   ]
  },
  {
   "cell_type": "code",
   "execution_count": 2,
   "metadata": {
    "collapsed": true
   },
   "outputs": [],
   "source": [
    "data_path = '/Users/matt.meng/Downloads'\n",
    "file_name = 'small_articles.json'"
   ]
  },
  {
   "cell_type": "code",
   "execution_count": 8,
   "metadata": {
    "collapsed": true
   },
   "outputs": [],
   "source": [
    "def isEnglish(s):\n",
    "    try:\n",
    "        s.encode(encoding='utf-8').decode('ascii')\n",
    "    except UnicodeDecodeError:\n",
    "        return False\n",
    "    else:\n",
    "        return True\n",
    "    \n",
    "def process_raw_data(data_path, file_name):\n",
    "    start_time = time.time()\n",
    "    with open(os.path.join(data_path, file_name), 'r') as input:\n",
    "        counter = 0\n",
    "        title_df = pd.DataFrame(columns=['title', 'pageView'])\n",
    "        for line in input:\n",
    "            json_doc = json.loads(line)\n",
    "            #publisher_id = json_doc['pv_publisherId']\n",
    "            expected_keys = ['pv_title', 'pv_url', 'pv_pageViews']\n",
    "            if not all([key in json_doc.keys() for key in expected_keys]):\n",
    "                continue\n",
    "            title, url, pageView = json_doc['pv_title'], json_doc['pv_url'], json_doc['pv_pageViews']\n",
    "            if not isEnglish(title):\n",
    "                continue\n",
    "            title_df.loc[url] = pd.Series({'title' : title, 'pageView' : pageView})\n",
    "    title_df.index.name = 'url'\n",
    "    print 'finished processing all the data using {:.2f} seconds'.format(time.time() - start_time) \n",
    "    return title_df\n",
    "\n",
    "def basic_tokenizer(line, normalize_digits=True):\n",
    "    line = line.replace(\"'s\", '')\n",
    "    line = re.sub(r\"\\'ve\", \" have \", line)\n",
    "    line = re.sub(r\"can't\", \"cannot \", line)\n",
    "    line = re.sub(r\"n't\", \" not \", line)\n",
    "    line = re.sub(r\"I'm\", \"I am\", line)\n",
    "    line = re.sub(r\" m \", \" am \", line)\n",
    "    line = re.sub(r\"\\'re\", \" are \", line)\n",
    "    line = re.sub(r\"\\'d\", \" would \", line)\n",
    "    line = re.sub(r\"\\'ll\", \" will \", line)\n",
    "    line = re.sub(r\"\\?\", \" ? \", line)\n",
    "    line = re.sub(r\"!\", \" ! \", line)\n",
    "    line = re.sub(r\":\", \" : \", line)\n",
    "    \n",
    "    line = re.sub('[,.\"#%\\'()*+/;<=>@\\[\\]^_{|}~`’”“′‘\\\\\\]', ' ', line)\n",
    "    line = re.sub('[\\n\\t ]+', ' ', line)\n",
    "    words = []\n",
    "    #_WORD_SPLIT = re.compile(b\"([.,!?\\\"'-<>:;)(])\")\n",
    "    _DIGIT_RE = re.compile(r\"\\d\")\n",
    "    for token in line.strip().lower().split():\n",
    "        if not token:\n",
    "            continue\n",
    "        if normalize_digits:\n",
    "            token = re.sub(_DIGIT_RE, b'#', token)\n",
    "        words.append(token)\n",
    "    return len(words), ' '.join(words)\n",
    "\n",
    "_PAD = b\"_PAD\"\n",
    "_GO = b\"_GO\"\n",
    "_EOS = b\"_EOS\"\n",
    "_UNK = b\"_UNK\"\n",
    "_START_VOCAB = [_PAD, _GO, _EOS, _UNK]\n",
    "\n",
    "'''\n",
    "PAD_ID = 0\n",
    "GO_ID = 1\n",
    "EOS_ID = 2\n",
    "UNK_ID = 3\n",
    "'''\n",
    "\n",
    "TOKEN_DICT = {}\n",
    "REVERSE_TOKEN_DICT = {}\n",
    "for i in xrange(len(_START_VOCAB)):\n",
    "    TOKEN_DICT[_START_VOCAB[i]] = i\n",
    "    REVERSE_TOKEN_DICT[i] = _START_VOCAB[i]\n",
    "\n",
    "\n",
    "def create_vocab_dict(data, column_name, token_freq_threshold=5, UKN_frac_threshold=0.3):\n",
    "    vocab_dict = {}\n",
    "    all_titles = []\n",
    "    selected_titles = []\n",
    "    selected_title_urls = []\n",
    "    selected_title_pageView = []\n",
    "    bad_titles = []\n",
    "    for title, url, pageView in zip(data[column_name], data.index, data['pageView']):\n",
    "        words = []\n",
    "        for token in title.split(' '):\n",
    "            words.append(token)\n",
    "            if token not in vocab_dict:\n",
    "                vocab_dict[token] = 0\n",
    "            vocab_dict[token] += 1\n",
    "        all_titles.append((words, url, pageView))\n",
    "    print 'total {} tokens are ideintified...'.format(len(vocab_dict))\n",
    "\n",
    "    token_dict, reverse_token_dict = TOKEN_DICT.copy(), REVERSE_TOKEN_DICT.copy()\n",
    "    UKN_index = len(token_dict) - 1\n",
    "    unique_counts = 0\n",
    "    sorted_pairs = sorted(vocab_dict.items(), key=lambda x : x[1], reverse=True)\n",
    "    for i, pair in enumerate(sorted_pairs):\n",
    "        if pair[1] >= token_freq_threshold:\n",
    "            unique_counts += 1\n",
    "            token_dict[pair[0]] = i + 1 + UKN_index\n",
    "            reverse_token_dict[(i + 1 + UKN_index)] = pair[0]\n",
    "        else:\n",
    "            token_dict[pair[0]] = UKN_index\n",
    "    print 'total {} unique tokens are included in the token dictionary...'.format(unique_counts)            \n",
    "    \n",
    "    for i in xrange(len(all_titles)):\n",
    "        indexed_title = map(token_dict.get, all_titles[i][0])\n",
    "        UKN_count = sum([elem == UKN_index for elem in indexed_title])\n",
    "        if (1.*UKN_count/len(indexed_title)) < UKN_frac_threshold:\n",
    "            selected_titles.append(indexed_title)\n",
    "            selected_title_urls.append(all_titles[i][1])\n",
    "            selected_title_pageView.append(all_titles[i][2])\n",
    "        else:\n",
    "            bad_titles.append((indexed_title, all_titles[i][1], all_titles[i][2]))\n",
    "    print 'total {} titles are included...'.format(len(selected_titles))            \n",
    "    return token_dict, reverse_token_dict, selected_titles, selected_title_urls, selected_title_pageView, bad_titles"
   ]
  },
  {
   "cell_type": "code",
   "execution_count": 4,
   "metadata": {
    "collapsed": false
   },
   "outputs": [
    {
     "name": "stdout",
     "output_type": "stream",
     "text": [
      "finished processing all the data using 119.83 seconds\n",
      "(20913, 2)\n"
     ]
    },
    {
     "data": {
      "text/html": [
       "<div>\n",
       "<table border=\"1\" class=\"dataframe\">\n",
       "  <thead>\n",
       "    <tr style=\"text-align: right;\">\n",
       "      <th></th>\n",
       "      <th>title</th>\n",
       "      <th>pageView</th>\n",
       "    </tr>\n",
       "    <tr>\n",
       "      <th>url</th>\n",
       "      <th></th>\n",
       "      <th></th>\n",
       "    </tr>\n",
       "  </thead>\n",
       "  <tbody>\n",
       "    <tr>\n",
       "      <th>http://www.nydailynews.com/news/national/transgender-navy-seal-slams-trump-banning-servicemembers-article-1.3358836</th>\n",
       "      <td>Transgender Navy SEAL slams Trump for banning ...</td>\n",
       "      <td>410271</td>\n",
       "    </tr>\n",
       "    <tr>\n",
       "      <th>http://www.nydailynews.com/new-york/delta-pilot-flight-attendant-fight-delays-takeoff-laguardia-article-1.3352751</th>\n",
       "      <td>Delta pilot, flight attendant fight delays tak...</td>\n",
       "      <td>234898</td>\n",
       "    </tr>\n",
       "    <tr>\n",
       "      <th>http://www.nydailynews.com/news/national/fbi-suspect-custody-cruise-ship-death-article-1.3361442</th>\n",
       "      <td>FBI has suspect in custody in cruise ship death</td>\n",
       "      <td>151344</td>\n",
       "    </tr>\n",
       "    <tr>\n",
       "      <th>http://www.nydailynews.com/life-style/u-s-navy-aircraft-carrier-sets-sail-no-urinals-article-1.3352063</th>\n",
       "      <td>New U.S. Navy aircraft carrier sets sail with ...</td>\n",
       "      <td>24271</td>\n",
       "    </tr>\n",
       "    <tr>\n",
       "      <th>https://www.cbssports.com/mlb/news/seven-bold-predictions-for-the-2017-mlb-trade-deadline/</th>\n",
       "      <td>Seven bold predictions for the 2017 MLB trade ...</td>\n",
       "      <td>100887</td>\n",
       "    </tr>\n",
       "  </tbody>\n",
       "</table>\n",
       "</div>"
      ],
      "text/plain": [
       "                                                                                                title  \\\n",
       "url                                                                                                     \n",
       "http://www.nydailynews.com/news/national/transg...  Transgender Navy SEAL slams Trump for banning ...   \n",
       "http://www.nydailynews.com/new-york/delta-pilot...  Delta pilot, flight attendant fight delays tak...   \n",
       "http://www.nydailynews.com/news/national/fbi-su...    FBI has suspect in custody in cruise ship death   \n",
       "http://www.nydailynews.com/life-style/u-s-navy-...  New U.S. Navy aircraft carrier sets sail with ...   \n",
       "https://www.cbssports.com/mlb/news/seven-bold-p...  Seven bold predictions for the 2017 MLB trade ...   \n",
       "\n",
       "                                                   pageView  \n",
       "url                                                          \n",
       "http://www.nydailynews.com/news/national/transg...   410271  \n",
       "http://www.nydailynews.com/new-york/delta-pilot...   234898  \n",
       "http://www.nydailynews.com/news/national/fbi-su...   151344  \n",
       "http://www.nydailynews.com/life-style/u-s-navy-...    24271  \n",
       "https://www.cbssports.com/mlb/news/seven-bold-p...   100887  "
      ]
     },
     "execution_count": 4,
     "metadata": {},
     "output_type": "execute_result"
    }
   ],
   "source": [
    "title_df = process_raw_data(data_path, file_name)\n",
    "\n",
    "print title_df.shape\n",
    "title_df.head()"
   ]
  },
  {
   "cell_type": "code",
   "execution_count": 5,
   "metadata": {
    "collapsed": true
   },
   "outputs": [],
   "source": [
    "file_name = '/Users/matt.meng/Downloads/title_data.csv'\n",
    "title_df.to_csv(file_name, index=True)\n",
    "data = pd.read_csv(file_name, index_col='url')"
   ]
  },
  {
   "cell_type": "code",
   "execution_count": 6,
   "metadata": {
    "collapsed": false
   },
   "outputs": [
    {
     "name": "stdout",
     "output_type": "stream",
     "text": [
      "(20913, 2)\n"
     ]
    },
    {
     "data": {
      "text/html": [
       "<div>\n",
       "<table border=\"1\" class=\"dataframe\">\n",
       "  <thead>\n",
       "    <tr style=\"text-align: right;\">\n",
       "      <th></th>\n",
       "      <th>title</th>\n",
       "      <th>pageView</th>\n",
       "    </tr>\n",
       "    <tr>\n",
       "      <th>url</th>\n",
       "      <th></th>\n",
       "      <th></th>\n",
       "    </tr>\n",
       "  </thead>\n",
       "  <tbody>\n",
       "    <tr>\n",
       "      <th>http://www.nydailynews.com/news/national/transgender-navy-seal-slams-trump-banning-servicemembers-article-1.3358836</th>\n",
       "      <td>Transgender Navy SEAL slams Trump for banning ...</td>\n",
       "      <td>410271</td>\n",
       "    </tr>\n",
       "    <tr>\n",
       "      <th>http://www.nydailynews.com/new-york/delta-pilot-flight-attendant-fight-delays-takeoff-laguardia-article-1.3352751</th>\n",
       "      <td>Delta pilot, flight attendant fight delays tak...</td>\n",
       "      <td>234898</td>\n",
       "    </tr>\n",
       "    <tr>\n",
       "      <th>http://www.nydailynews.com/news/national/fbi-suspect-custody-cruise-ship-death-article-1.3361442</th>\n",
       "      <td>FBI has suspect in custody in cruise ship death</td>\n",
       "      <td>151344</td>\n",
       "    </tr>\n",
       "    <tr>\n",
       "      <th>http://www.nydailynews.com/life-style/u-s-navy-aircraft-carrier-sets-sail-no-urinals-article-1.3352063</th>\n",
       "      <td>New U.S. Navy aircraft carrier sets sail with ...</td>\n",
       "      <td>24271</td>\n",
       "    </tr>\n",
       "    <tr>\n",
       "      <th>https://www.cbssports.com/mlb/news/seven-bold-predictions-for-the-2017-mlb-trade-deadline/</th>\n",
       "      <td>Seven bold predictions for the 2017 MLB trade ...</td>\n",
       "      <td>100887</td>\n",
       "    </tr>\n",
       "  </tbody>\n",
       "</table>\n",
       "</div>"
      ],
      "text/plain": [
       "                                                                                                title  \\\n",
       "url                                                                                                     \n",
       "http://www.nydailynews.com/news/national/transg...  Transgender Navy SEAL slams Trump for banning ...   \n",
       "http://www.nydailynews.com/new-york/delta-pilot...  Delta pilot, flight attendant fight delays tak...   \n",
       "http://www.nydailynews.com/news/national/fbi-su...    FBI has suspect in custody in cruise ship death   \n",
       "http://www.nydailynews.com/life-style/u-s-navy-...  New U.S. Navy aircraft carrier sets sail with ...   \n",
       "https://www.cbssports.com/mlb/news/seven-bold-p...  Seven bold predictions for the 2017 MLB trade ...   \n",
       "\n",
       "                                                    pageView  \n",
       "url                                                           \n",
       "http://www.nydailynews.com/news/national/transg...    410271  \n",
       "http://www.nydailynews.com/new-york/delta-pilot...    234898  \n",
       "http://www.nydailynews.com/news/national/fbi-su...    151344  \n",
       "http://www.nydailynews.com/life-style/u-s-navy-...     24271  \n",
       "https://www.cbssports.com/mlb/news/seven-bold-p...    100887  "
      ]
     },
     "execution_count": 6,
     "metadata": {},
     "output_type": "execute_result"
    }
   ],
   "source": [
    "print data.shape\n",
    "data.head()"
   ]
  },
  {
   "cell_type": "code",
   "execution_count": 7,
   "metadata": {
    "collapsed": true
   },
   "outputs": [],
   "source": [
    "# tokenize the titles\n",
    "data['title_word_counts'], data['processed_title'] = zip(*data['title'].map(basic_tokenizer))\n",
    "# sort by the title word counts and filter them\n",
    "sorted_data = data.sort_values(by=['title_word_counts', 'pageView'], ascending=[True, False])\n",
    "index = (sorted_data['title_word_counts'] >= 4) & (sorted_data['title_word_counts'] <= 15)\n",
    "filtered_data = sorted_data.loc[index, :]"
   ]
  },
  {
   "cell_type": "code",
   "execution_count": 9,
   "metadata": {
    "collapsed": false
   },
   "outputs": [
    {
     "name": "stdout",
     "output_type": "stream",
     "text": [
      "total 22594 tokens are ideintified...\n",
      "total 5595 unique tokens are included in the token dictionary...\n",
      "total 17185 titles are included...\n"
     ]
    }
   ],
   "source": [
    "token_dict, reverse_token_dict, titles, selected_title_urls, selected_title_pageView, bad_titles = create_vocab_dict(filtered_data, 'processed_title')"
   ]
  },
  {
   "cell_type": "code",
   "execution_count": 11,
   "metadata": {
    "collapsed": false
   },
   "outputs": [
    {
     "name": "stdout",
     "output_type": "stream",
     "text": [
      "17185 17185 17185\n"
     ]
    }
   ],
   "source": [
    "print len(titles), len(selected_title_urls), len(selected_title_pageView)"
   ]
  },
  {
   "cell_type": "code",
   "execution_count": 12,
   "metadata": {
    "collapsed": false
   },
   "outputs": [],
   "source": [
    "#bad_titles"
   ]
  },
  {
   "cell_type": "code",
   "execution_count": 15,
   "metadata": {
    "collapsed": false
   },
   "outputs": [],
   "source": [
    "pickle_file = 'processed_title_data.pkl'\n",
    "\n",
    "content = {'url' : selected_title_urls, \n",
    "           'titles' : titles, \n",
    "           'pageViw' : selected_title_pageView,\n",
    "           'token_dict' : token_dict,\n",
    "           'reverse_token_dict' : reverse_token_dict}\n",
    "\n",
    "with open(pickle_file, 'wb') as handle:\n",
    "    cPickle.dump(content, handle, protocol=cPickle.HIGHEST_PROTOCOL)"
   ]
  },
  {
   "cell_type": "code",
   "execution_count": null,
   "metadata": {
    "collapsed": true
   },
   "outputs": [],
   "source": []
  }
 ],
 "metadata": {
  "kernelspec": {
   "display_name": "Python 2",
   "language": "python",
   "name": "python2"
  },
  "language_info": {
   "codemirror_mode": {
    "name": "ipython",
    "version": 2
   },
   "file_extension": ".py",
   "mimetype": "text/x-python",
   "name": "python",
   "nbconvert_exporter": "python",
   "pygments_lexer": "ipython2",
   "version": "2.7.10"
  }
 },
 "nbformat": 4,
 "nbformat_minor": 2
}
