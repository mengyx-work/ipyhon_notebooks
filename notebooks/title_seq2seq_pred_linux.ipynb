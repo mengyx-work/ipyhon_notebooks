{
 "metadata": {
  "kernelspec": {
   "display_name": "Python 2",
   "language": "python",
   "name": "python2"
  },
  "language_info": {
   "codemirror_mode": {
    "name": "ipython",
    "version": 2
   },
   "file_extension": ".py",
   "mimetype": "text/x-python",
   "name": "python",
   "nbconvert_exporter": "python",
   "pygments_lexer": "ipython2",
   "version": "2.7.10"
  },
  "name": "",
  "signature": "sha256:68f172f6c41e1c5a70ef1885efc62752cfd35a113cea74c3b019124212588ddb"
 },
 "nbformat": 3,
 "nbformat_minor": 0,
 "worksheets": [
  {
   "cells": [
    {
     "cell_type": "code",
     "collapsed": false,
     "input": [
      "import cPickle as pickle\n",
      "import os, sys, multiprocessing, time, math\n",
      "import tensorflow as tf\n",
      "import numpy as np\n",
      "sys.path.append('/home/matt.meng/seq2seq_model')\n",
      "from graph_model import Seq2SeqModel\n",
      "from utils import create_local_model_path, create_local_log_path\n",
      "import matplotlib.pyplot as plt\n",
      "%matplotlib inline  \n"
     ],
     "language": "python",
     "metadata": {},
     "outputs": [
      {
       "output_type": "stream",
       "stream": "stderr",
       "text": [
        "/usr/lib/python2.7/dist-packages/matplotlib/font_manager.py:273: UserWarning: Matplotlib is building the font cache using fc-list. This may take a moment.\n",
        "  warnings.warn('Matplotlib is building the font cache using fc-list. This may take a moment.')\n"
       ]
      }
     ],
     "prompt_number": 1
    },
    {
     "cell_type": "code",
     "collapsed": false,
     "input": [
      "from matplotlib import rcParams\n",
      "rcParams['figure.figsize'] = (16, 8)"
     ],
     "language": "python",
     "metadata": {},
     "outputs": [],
     "prompt_number": 17
    },
    {
     "cell_type": "code",
     "collapsed": false,
     "input": [
      "def build_seq2seq_model(model_name):\n",
      "    \n",
      "    NUM_THREADS = 2*multiprocessing.cpu_count()-1\n",
      "    COMMON_PATH = os.path.join(os.path.expanduser(\"~\"), 'local_tensorflow_content')\n",
      "    \n",
      "    model_config = {}\n",
      "    model_config['model_name'] = model_name\n",
      "    model_config['restore_model'] = True\n",
      "    model_config['eval_mode'] = True\n",
      "    model_config['model_path'] = create_local_model_path(COMMON_PATH, model_config['model_name'])\n",
      "    model_config['log_path'] = create_local_log_path(COMMON_PATH, model_config['model_name'])\n",
      "    \n",
      "    use_gpu = False\n",
      "    if use_gpu:\n",
      "        model_config['sess_config'] = tf.ConfigProto(log_device_placement=False,\n",
      "                                                     gpu_options=tf.GPUOptions(per_process_gpu_memory_fraction=0.5))\n",
      "    else:\n",
      "        os.environ['CUDA_VISIBLE_DEVICES'] = '-1'  # the only way to completely not use GPU\n",
      "        model_config['sess_config'] = tf.ConfigProto(intra_op_parallelism_threads=NUM_THREADS)\n",
      "\n",
      "    model = Seq2SeqModel(**model_config)\n",
      "    return model\n",
      "\n",
      "def collect_key_from_pickle_file(titles_pickle_file, title_key):\n",
      "    pickle_file_path = os.path.join(os.path.expanduser(\"~\"), titles_pickle_file)\n",
      "\n",
      "    with open(pickle_file_path, 'rb') as input_stream:\n",
      "        data = pickle.load(input_stream)\n",
      "    return data[title_key]\n",
      "\n",
      "\n",
      "def collect_multi_keys_from_pickle_file(titles_pickle_file, key_dict):\n",
      "    pickle_file_path = os.path.join(os.path.expanduser(\"~\"), titles_pickle_file)\n",
      "\n",
      "    with open(pickle_file_path, 'rb') as input_stream:\n",
      "        data = pickle.load(input_stream)\n",
      "        \n",
      "    content_dict = {}\n",
      "    for key in key_dict.keys():\n",
      "        content_dict[key] = data[key_dict[key]]\n",
      "    return content_dict\n",
      "\n",
      "\n",
      "class ProcessedTitle(object):\n",
      "    \n",
      "    def __init__(self, index_title, url, pageView):\n",
      "        self.index_title = index_title\n",
      "        self.url = url\n",
      "        self.pageView = pageView\n",
      "        title_array = map(ProcessedTitle.reverse_token_dict.get, self.index_title)\n",
      "        self.title = \" \".join(title_array) \n",
      "        \n",
      "    def create_seq2seq_model_embeddings(self, word2vec_model):\n",
      "        embedded_input_sets, encode_ouput_sets, hidden_state_sets = word2vec_model.eval_by_batch([self.index_title])\n",
      "        self.embeddings = []\n",
      "        \n",
      "        # mean_embedded_inputs_, max_embedded_inputs_, min_embedded_inputs_\n",
      "        for embedding in embedded_input_sets:\n",
      "            self.embeddings.append(embedding[0])\n",
      "        # mean_encoder_outputs, max_encoder_outputs, min_encoder_outputs\n",
      "        for embedding in encode_ouput_sets:\n",
      "            self.embeddings.append(embedding[0])\n",
      "        # final_cell_state_, final_hidden_state_\n",
      "        for embedding in hidden_state_sets:\n",
      "            self.embeddings.append(embedding[0])\n",
      "        '''\n",
      "        self.mean_embedded_inputs = embedded_input_sets[0]\n",
      "        self.max_embedded_inputs = embedded_input_sets[1]\n",
      "        self.min_embedded_inputs = embedded_input_sets[2]\n",
      "        '''\n",
      "        \n",
      "\n",
      "def predict_titles_with_seq2seq(content_dict, model, display_couner=1000, count_limit=None):\n",
      "    processed_titles = []\n",
      "    cur_time = time.time()\n",
      "    if count_limit is None:\n",
      "        count_limit = len(content_dict['titles'])\n",
      "    else:\n",
      "        count_limit = min(count_limit, len(content_dict['titles']))\n",
      "    ProcessedTitle.reverse_token_dict = content_dict['reverse_token_dict']\n",
      "    for i in xrange(count_limit):\n",
      "        title = ProcessedTitle(index_title=content_dict['titles'][i],\n",
      "                               url=content_dict['url'][i],\n",
      "                               pageView=content_dict['pageView'][i])\n",
      "        title.create_seq2seq_model_embeddings(model)\n",
      "        processed_titles.append(title)\n",
      "        if i != 0 and i % display_couner == 0:\n",
      "            print \"processing {} titles using {:.2f} seconds\".format(display_couner, time.time() - cur_time)\n",
      "            cur_time = time.time()\n",
      "    return processed_titles\n",
      "\n",
      "\n",
      "def get_dict_keys(titles_pickle_file):\n",
      "    pickle_file_path = os.path.join(os.path.expanduser(\"~\"), titles_pickle_file)\n",
      "    with open(pickle_file_path, 'rb') as input_stream:\n",
      "        data = pickle.load(input_stream)\n",
      "    for key in data:\n",
      "        print \"for the key: {}, totale {} entries\".format(key, len(data[key]))\n",
      "        \n",
      "        \n",
      "def square_rooted(x):\n",
      "    return math.sqrt(sum([a*a for a in x]))\n",
      " \n",
      "def euclidean_distance(x,y):\n",
      "     return math.sqrt(sum(math.pow(a - b, 2) for a, b in zip(x, y)))\n",
      "\n",
      "def manhattan_distance(x,y): \n",
      "    return sum(abs(a - b) for a,b in zip(x,y))\n",
      "\n",
      "def cosine_similarity(x, y):\n",
      "    numerator = sum(a*b for a, b in zip(x,y))\n",
      "    denominator = square_rooted(x) * square_rooted(y)\n",
      "    #denominator = (square_rooted(x) + square_rooted(y))\n",
      "    return numerator / denominator"
     ],
     "language": "python",
     "metadata": {},
     "outputs": [],
     "prompt_number": 2
    },
    {
     "cell_type": "code",
     "collapsed": false,
     "input": [],
     "language": "python",
     "metadata": {},
     "outputs": [],
     "prompt_number": 2
    },
    {
     "cell_type": "code",
     "collapsed": false,
     "input": [
      "'''\n",
      "\n",
      "titles_pickle_file = 'scramble_titles_data.pkl'\n",
      "pickle_file_path = os.path.join(os.path.expanduser(\"~\"), titles_pickle_file)\n",
      "\n",
      "with open(pickle_file_path, 'rb') as input_stream:\n",
      "    data = pickle.load(input_stream)\n",
      "data.keys()\n",
      "'''"
     ],
     "language": "python",
     "metadata": {},
     "outputs": [
      {
       "metadata": {},
       "output_type": "pyout",
       "prompt_number": 23,
       "text": [
        "'\\n\\ntitles_pickle_file = \\'scramble_titles_data.pkl\\'\\npickle_file_path = os.path.join(os.path.expanduser(\"~\"), titles_pickle_file)\\n\\nwith open(pickle_file_path, \\'rb\\') as input_stream:\\n    data = pickle.load(input_stream)\\ndata.keys()\\n'"
       ]
      }
     ],
     "prompt_number": 23
    },
    {
     "cell_type": "markdown",
     "metadata": {},
     "source": [
      "#### the data file and model file"
     ]
    },
    {
     "cell_type": "code",
     "collapsed": false,
     "input": [
      "titles_pickle_file = 'full_dedup_scrambled_1_token_thres_8_titles.pkl'\n",
      "#model_name = 'seq2seq_full_dedup_raw_rnn_scramble_1_token_thres_8'\n",
      "model_name = 'seq2seq_full_dedup_raw_rnn_scramble_1_token_thres_8_hidden_128'"
     ],
     "language": "python",
     "metadata": {},
     "outputs": [],
     "prompt_number": 3
    },
    {
     "cell_type": "markdown",
     "metadata": {},
     "source": [
      "### process the titles with trained model\n",
      "    1. load the model\n",
      "    2. re-direct the pickle file content\n",
      "    3. use the model to score the titles"
     ]
    },
    {
     "cell_type": "code",
     "collapsed": false,
     "input": [
      "\n",
      "#expected_keys = {\"titles\": 'titles', \"url\": 'url', 'pageView': \"pageViw\", 'reverse_token_dict': 'reverse_token_dict'}\n",
      "dual_output_expected_keys = {\"titles\": 'target_titles', \"url\": 'url', 'pageView': \"pageViw\", 'reverse_token_dict': 'reverse_token_dict'}\n",
      "\n",
      "# check the pickle file content\n",
      "#get_dict_keys(titles_pickle_file)\n",
      "\n",
      "content_dict = collect_multi_keys_from_pickle_file(titles_pickle_file, dual_output_expected_keys)"
     ],
     "language": "python",
     "metadata": {},
     "outputs": [],
     "prompt_number": 5
    },
    {
     "cell_type": "code",
     "collapsed": false,
     "input": [
      "seq2seq_model = build_seq2seq_model(model_name)"
     ],
     "language": "python",
     "metadata": {},
     "outputs": [
      {
       "output_type": "stream",
       "stream": "stdout",
       "text": [
        "warning, more than one model meta file is found in /home/matt.meng/local_tensorflow_content/seq2seq_full_dedup_raw_rnn_scramble_1_token_thres_8_hidden_128\n",
        "INFO:tensorflow:Restoring parameters from /home/matt.meng/local_tensorflow_content/seq2seq_full_dedup_raw_rnn_scramble_1_token_thres_8_hidden_128/models-660000\n"
       ]
      },
      {
       "output_type": "stream",
       "stream": "stderr",
       "text": [
        "INFO:tensorflow:Restoring parameters from /home/matt.meng/local_tensorflow_content/seq2seq_full_dedup_raw_rnn_scramble_1_token_thres_8_hidden_128/models-660000\n"
       ]
      },
      {
       "output_type": "stream",
       "stream": "stdout",
       "text": [
        "restore eval models from /home/matt.meng/local_tensorflow_content/seq2seq_full_dedup_raw_rnn_scramble_1_token_thres_8_hidden_128\n"
       ]
      }
     ],
     "prompt_number": 6
    },
    {
     "cell_type": "code",
     "collapsed": false,
     "input": [
      "processed_titles = predict_titles_with_seq2seq(content_dict, seq2seq_model, display_couner=5000, count_limit=50000)"
     ],
     "language": "python",
     "metadata": {},
     "outputs": [
      {
       "output_type": "stream",
       "stream": "stdout",
       "text": [
        "processing 5000 titles using 14.73 seconds\n",
        "processing 5000 titles using 14.55 seconds"
       ]
      },
      {
       "output_type": "stream",
       "stream": "stdout",
       "text": [
        "\n",
        "processing 5000 titles using 15.18 seconds"
       ]
      },
      {
       "output_type": "stream",
       "stream": "stdout",
       "text": [
        "\n",
        "processing 5000 titles using 15.45 seconds"
       ]
      },
      {
       "output_type": "stream",
       "stream": "stdout",
       "text": [
        "\n",
        "processing 5000 titles using 15.50 seconds"
       ]
      },
      {
       "output_type": "stream",
       "stream": "stdout",
       "text": [
        "\n",
        "processing 5000 titles using 15.54 seconds"
       ]
      },
      {
       "output_type": "stream",
       "stream": "stdout",
       "text": [
        "\n",
        "processing 5000 titles using 15.45 seconds"
       ]
      },
      {
       "output_type": "stream",
       "stream": "stdout",
       "text": [
        "\n",
        "processing 5000 titles using 15.53 seconds"
       ]
      },
      {
       "output_type": "stream",
       "stream": "stdout",
       "text": [
        "\n",
        "processing 5000 titles using 16.21 seconds"
       ]
      },
      {
       "output_type": "stream",
       "stream": "stdout",
       "text": [
        "\n"
       ]
      }
     ],
     "prompt_number": 7
    },
    {
     "cell_type": "code",
     "collapsed": true,
     "input": [
      "sorted_titles = sorted(processed_titles, key=lambda x: x.pageView, reverse=True)\n",
      "\n",
      "# check the embedding dimension\n",
      "assert len(sorted_titles[20].embeddings) == 8"
     ],
     "language": "python",
     "metadata": {},
     "outputs": [],
     "prompt_number": 33
    },
    {
     "cell_type": "markdown",
     "metadata": {},
     "source": [
      "#### select the articles to compare with others"
     ]
    },
    {
     "cell_type": "code",
     "collapsed": false,
     "input": [
      "index = 10\n",
      "print sorted_titles[index].title\n",
      "#print sorted_titles[index].max_vector\n",
      "#print sorted_titles[index].min_vector\n",
      "embeddings = sorted_titles[index].embeddings\n",
      "print len(embeddings)\n",
      "#embeddings[2]"
     ],
     "language": "python",
     "metadata": {},
     "outputs": [
      {
       "output_type": "stream",
       "stream": "stdout",
       "text": [
        "ranking the top ## cfb head coaches\n",
        "8\n"
       ]
      }
     ],
     "prompt_number": 34
    },
    {
     "cell_type": "markdown",
     "metadata": {},
     "source": [
      "#### the function to calculate the `sample_vector` to represent each titles"
     ]
    },
    {
     "cell_type": "code",
     "collapsed": false,
     "input": [
      "def get_embedding_vector(sorted_titles, article_index):\n",
      "    embedding_index = 6\n",
      "    #sample_vector = sorted_titles[article_index].embeddings[0][:]\n",
      "\n",
      "    sample_vector = sorted_titles[article_index].embeddings[embedding_index][:]\n",
      "    sample_vector = np.append(sample_vector, sorted_titles[article_index].embeddings[embedding_index+1][:])\n",
      "    sample_vector = np.append(sample_vector, sorted_titles[article_index].embeddings[0][:])\n",
      "    \n",
      "    return sample_vector"
     ],
     "language": "python",
     "metadata": {},
     "outputs": [],
     "prompt_number": 11
    },
    {
     "cell_type": "markdown",
     "metadata": {},
     "source": [
      "#### compare the selected articles to others, add `cosine_similarity` to all sorted artitles"
     ]
    },
    {
     "cell_type": "code",
     "collapsed": false,
     "input": [
      "cosine_results, euclidean_results = [], []\n",
      "start_time = time.time()\n",
      "article_index = index\n",
      "print sorted_titles[article_index].url\n",
      "print sorted_titles[article_index].title\n",
      "sample_vector = get_embedding_vector(sorted_titles, article_index)\n",
      "expected_length = len(sample_vector)\n",
      "print \"sample vector length:\", len(sample_vector)\n",
      "print \"\\n\"\n",
      "\n",
      "#sample_vector = np.append(sample_vector, sorted_titles[index].min_vector[:])\n",
      "#sample_vector = np.append(sample_vector, sorted_titles[index].mean_vector[:])\n",
      "#sample_vector = sorted_titles[index].mean_vector[:]\n",
      "\n",
      "\n",
      "#sample_vector = sorted_titles[index].mean_vector[:]\n",
      "for i in xrange(min(len(sorted_titles), 10000)):\n",
      "    cur_vector = get_embedding_vector(sorted_titles, i)\n",
      "    assert len(cur_vector) == expected_length\n",
      "    \n",
      "    cosine_result = cosine_similarity(cur_vector, sample_vector)\n",
      "    euclidean_result = euclidean_distance(cur_vector, sample_vector)\n",
      "    sorted_titles[i].cosine_similarity = cosine_result\n",
      "    cosine_results.append(cosine_result)\n",
      "    euclidean_results.append(euclidean_result)\n",
      "print 'all the process takes {:.2f} seconds...'.format(time.time() - start_time)"
     ],
     "language": "python",
     "metadata": {},
     "outputs": []
    },
    {
     "cell_type": "markdown",
     "metadata": {},
     "source": [
      "#### show the similarity distribution"
     ]
    },
    {
     "cell_type": "code",
     "collapsed": true,
     "input": [
      "plt.hist(cosine_results, bins=100)"
     ],
     "language": "python",
     "metadata": {},
     "outputs": [
      {
       "metadata": {},
       "output_type": "pyout",
       "prompt_number": 18,
       "text": [
        "(array([   2.,    0.,    3.,    1.,    2.,    4.,    6.,    8.,    8.,\n",
        "          13.,   13.,   26.,   26.,   30.,   45.,   53.,   71.,   89.,\n",
        "         124.,  121.,  152.,  156.,  184.,  206.,  235.,  279.,  270.,\n",
        "         305.,  339.,  369.,  420.,  367.,  377.,  405.,  389.,  389.,\n",
        "         321.,  378.,  363.,  357.,  323.,  271.,  277.,  225.,  246.,\n",
        "         217.,  183.,  165.,  151.,  137.,  139.,  104.,  100.,   80.,\n",
        "          64.,   69.,   61.,   53.,   43.,   34.,   27.,   23.,   16.,\n",
        "          16.,    9.,   10.,   12.,    9.,    6.,    3.,    2.,    6.,\n",
        "           2.,    2.,    3.,    1.,    1.,    1.,    2.,    0.,    0.,\n",
        "           0.,    0.,    0.,    0.,    0.,    0.,    0.,    0.,    0.,\n",
        "           0.,    0.,    0.,    0.,    0.,    0.,    0.,    0.,    0.,    1.]),\n",
        " array([ 0.09408729,  0.10314642,  0.11220555,  0.12126467,  0.1303238 ,\n",
        "         0.13938293,  0.14844206,  0.15750118,  0.16656031,  0.17561944,\n",
        "         0.18467856,  0.19373769,  0.20279682,  0.21185594,  0.22091507,\n",
        "         0.2299742 ,  0.23903333,  0.24809245,  0.25715158,  0.26621071,\n",
        "         0.27526983,  0.28432896,  0.29338809,  0.30244722,  0.31150634,\n",
        "         0.32056547,  0.3296246 ,  0.33868372,  0.34774285,  0.35680198,\n",
        "         0.3658611 ,  0.37492023,  0.38397936,  0.39303849,  0.40209761,\n",
        "         0.41115674,  0.42021587,  0.42927499,  0.43833412,  0.44739325,\n",
        "         0.45645238,  0.4655115 ,  0.47457063,  0.48362976,  0.49268888,\n",
        "         0.50174801,  0.51080714,  0.51986627,  0.52892539,  0.53798452,\n",
        "         0.54704365,  0.55610277,  0.5651619 ,  0.57422103,  0.58328015,\n",
        "         0.59233928,  0.60139841,  0.61045754,  0.61951666,  0.62857579,\n",
        "         0.63763492,  0.64669404,  0.65575317,  0.6648123 ,  0.67387143,\n",
        "         0.68293055,  0.69198968,  0.70104881,  0.71010793,  0.71916706,\n",
        "         0.72822619,  0.73728531,  0.74634444,  0.75540357,  0.7644627 ,\n",
        "         0.77352182,  0.78258095,  0.79164008,  0.8006992 ,  0.80975833,\n",
        "         0.81881746,  0.82787659,  0.83693571,  0.84599484,  0.85505397,\n",
        "         0.86411309,  0.87317222,  0.88223135,  0.89129048,  0.9003496 ,\n",
        "         0.90940873,  0.91846786,  0.92752698,  0.93658611,  0.94564524,\n",
        "         0.95470436,  0.96376349,  0.97282262,  0.98188175,  0.99094087,  1.        ]),\n",
        " <a list of 100 Patch objects>)"
       ]
      },
      {
       "metadata": {},
       "output_type": "display_data",
       "png": "[encoded data removed]",
       "text": [
        "<matplotlib.figure.Figure at 0x7f6eb4119c10>"
       ]
      }
     ],
     "prompt_number": 18
    },
    {
     "cell_type": "code",
     "collapsed": false,
     "input": [],
     "language": "python",
     "metadata": {},
     "outputs": [],
     "prompt_number": 44
    },
    {
     "cell_type": "markdown",
     "metadata": {},
     "source": [
      "#### collect and show the relevant articles, the articles are sorted by `cosine_similarity`"
     ]
    },
    {
     "cell_type": "code",
     "collapsed": true,
     "input": [
      "cosine_threshold = 0.75\n",
      "euclidean_threshold = 4\n",
      "\n",
      "\n",
      "total_counts = 0\n",
      "relevant_titles = []\n",
      "for i in xrange(len(cosine_results)):\n",
      "    if sorted_titles[i].cosine_similarity > cosine_threshold:\n",
      "        total_counts += 1\n",
      "        relevant_titles.append(sorted_titles[i])\n",
      "\n",
      "# sort the titles by the `cosine_similarity`\n",
      "selected_titles = sorted(relevant_titles, key=lambda elem: elem.cosine_similarity, reverse=True)\n",
      "\n",
      "for title in selected_titles:\n",
      "    print title.cosine_similarity\n",
      "    print title.url\n",
      "    print title.title\n",
      "    print \"\\n\""
     ],
     "language": "python",
     "metadata": {},
     "outputs": [
      {
       "output_type": "stream",
       "stream": "stdout",
       "text": [
        "1.0\n",
        "http://newarena.com/ncaaf/ranking-the-top-29-cfb-head-coaches/\n",
        "ranking the top ## cfb head coaches\n",
        "\n",
        "\n",
        "0.80707955686\n",
        "http://thespun.com/college-football/the-week-5-coaches-poll-top-25-is-out\n",
        "new coaches poll top ## released\n",
        "\n",
        "\n",
        "0.804183648995\n",
        "http://thespun.com/college-football/espn-fpi-updates-its-top-10\n",
        "espn releases its new top ##\n",
        "\n",
        "\n",
        "0.79620005062\n",
        "http://thespun.com/college-football/sports-illustrated-releases-new-top-10\n",
        "sports illustrated releases new top ##\n",
        "\n",
        "\n",
        "0.785538680761\n",
        "http://thespun.com/college-football/danny-kanells-top-8-teams-after-week-3\n",
        "danny kanell releases his new top ##\n",
        "\n",
        "\n",
        "0.776486701572\n",
        "http://newarena.com/mlb/ranking-the-20-most-overrated-mlb-players/\n",
        "ranking the ## most overrated mlb players\n",
        "\n",
        "\n",
        "0.77292420116\n",
        "http://thespun.com/college-football/espn-computers-new-top-25\n",
        "espn computer releases new top ##\n",
        "\n",
        "\n",
        "0.770029810626\n",
        "http://www.msn.com/en-us/sports/ncaafb/top-takeaways-from-college-football-week-2/ar-AArAXjd\n",
        "top takeaways from college football week ##\n",
        "\n",
        "\n",
        "0.76636791557\n",
        "http://thespun.com/college-football/sports-illustrated-releases-updated-top-25\n",
        "sports illustrated releases updated top ##\n",
        "\n",
        "\n",
        "0.762658744851\n",
        "http://thespun.com/college-football/kirk-herbstreit-unveils-his-top-4-teams-after-week-4\n",
        "kirk herbstreit releases his new top ##\n",
        "\n",
        "\n",
        "0.761553809065\n",
        "https://www.usatoday.com/story/sports/fantasy/2017/08/10/fantasy-football-position-rankings-top-35-kickers/557127001/\n",
        "fantasy football position rankings top ## kickers\n",
        "\n",
        "\n"
       ]
      }
     ],
     "prompt_number": 41
    },
    {
     "cell_type": "code",
     "collapsed": true,
     "input": [],
     "language": "python",
     "metadata": {},
     "outputs": [],
     "prompt_number": null
    },
    {
     "cell_type": "code",
     "collapsed": false,
     "input": [],
     "language": "python",
     "metadata": {},
     "outputs": [],
     "prompt_number": null
    },
    {
     "cell_type": "code",
     "collapsed": false,
     "input": [],
     "language": "python",
     "metadata": {},
     "outputs": [],
     "prompt_number": null
    },
    {
     "cell_type": "code",
     "collapsed": false,
     "input": [],
     "language": "python",
     "metadata": {},
     "outputs": [],
     "prompt_number": null
    },
    {
     "cell_type": "code",
     "collapsed": true,
     "input": [],
     "language": "python",
     "metadata": {},
     "outputs": [],
     "prompt_number": null
    },
    {
     "cell_type": "code",
     "collapsed": true,
     "input": [],
     "language": "python",
     "metadata": {},
     "outputs": [],
     "prompt_number": null
    },
    {
     "cell_type": "code",
     "collapsed": false,
     "input": [
      "titles_pickle_file = 'lemmanized_no_stop_words_processed_titles.pkl'\n",
      "pickle_file_path = os.path.join(os.path.expanduser(\"~\"), titles_pickle_file)\n",
      "\n",
      "with open(pickle_file_path, 'rb') as input_stream:\n",
      "    data = pickle.load(input_stream)\n",
      "\n",
      "print data.keys()\n",
      "titles = data['titles']\n",
      "reverse_token_dict = data['reverse_token_dict']\n",
      "title_urls = data['url']\n",
      "title_pageViews = data['pageViw']"
     ],
     "language": "python",
     "metadata": {},
     "outputs": [],
     "prompt_number": null
    },
    {
     "cell_type": "code",
     "collapsed": false,
     "input": [
      "print len(titles)"
     ],
     "language": "python",
     "metadata": {},
     "outputs": [],
     "prompt_number": null
    },
    {
     "cell_type": "code",
     "collapsed": false,
     "input": [
      "titles[:5]"
     ],
     "language": "python",
     "metadata": {},
     "outputs": [],
     "prompt_number": null
    },
    {
     "cell_type": "heading",
     "level": 4,
     "metadata": {},
     "source": [
      "work on the scrambled data"
     ]
    },
    {
     "cell_type": "code",
     "collapsed": false,
     "input": [
      "titles_pickle_file = 'lemmanized_no_stop_words_scrambled_titles.pkl'\n",
      "pickle_file_path = os.path.join(os.path.expanduser(\"~\"), titles_pickle_file)\n",
      "\n",
      "with open(pickle_file_path, 'rb') as input_stream:\n",
      "    tmp_data = pickle.load(input_stream)\n"
     ],
     "language": "python",
     "metadata": {},
     "outputs": [],
     "prompt_number": null
    },
    {
     "cell_type": "code",
     "collapsed": false,
     "input": [
      "\n"
     ],
     "language": "python",
     "metadata": {},
     "outputs": [],
     "prompt_number": null
    },
    {
     "cell_type": "code",
     "collapsed": false,
     "input": [],
     "language": "python",
     "metadata": {},
     "outputs": [],
     "prompt_number": null
    },
    {
     "cell_type": "code",
     "collapsed": false,
     "input": [],
     "language": "python",
     "metadata": {},
     "outputs": [],
     "prompt_number": null
    },
    {
     "cell_type": "code",
     "collapsed": false,
     "input": [
      "content_dict.keys()"
     ],
     "language": "python",
     "metadata": {},
     "outputs": [],
     "prompt_number": null
    },
    {
     "cell_type": "code",
     "collapsed": false,
     "input": [],
     "language": "python",
     "metadata": {},
     "outputs": [],
     "prompt_number": null
    },
    {
     "cell_type": "code",
     "collapsed": false,
     "input": [
      "    \n",
      "    \n",
      "    "
     ],
     "language": "python",
     "metadata": {},
     "outputs": [],
     "prompt_number": null
    },
    {
     "cell_type": "code",
     "collapsed": false,
     "input": [],
     "language": "python",
     "metadata": {},
     "outputs": [],
     "prompt_number": null
    },
    {
     "cell_type": "code",
     "collapsed": false,
     "input": [
      "print tmp_data.keys()"
     ],
     "language": "python",
     "metadata": {},
     "outputs": [],
     "prompt_number": null
    },
    {
     "cell_type": "code",
     "collapsed": false,
     "input": [
      "print len(tmp_data['target_titles'])"
     ],
     "language": "python",
     "metadata": {},
     "outputs": [],
     "prompt_number": null
    },
    {
     "cell_type": "code",
     "collapsed": false,
     "input": [
      "tmp_data['target_titles'][:5]"
     ],
     "language": "python",
     "metadata": {},
     "outputs": [],
     "prompt_number": null
    },
    {
     "cell_type": "code",
     "collapsed": false,
     "input": [],
     "language": "python",
     "metadata": {},
     "outputs": [],
     "prompt_number": null
    }
   ],
   "metadata": {}
  }
 ]
}