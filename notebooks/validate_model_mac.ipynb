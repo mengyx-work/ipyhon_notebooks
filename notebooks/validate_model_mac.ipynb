{
 "cells": [
  {
   "cell_type": "code",
   "execution_count": 3,
   "metadata": {
    "collapsed": false
   },
   "outputs": [],
   "source": [
    "import os, sys, math\n",
    "sys.path.append(\"/Users/matt.meng/dev/rnn_regressor\")\n",
    "import tensorflow as tf\n",
    "%matplotlib inline  \n",
    "\n",
    "import pandas as pd\n",
    "from google_cloud_storage_util import GCS_Bucket, GCS_BUCKET_NAME\n",
    "\n",
    "from hybrid_model import HybridModel, model_predict\n",
    "from data_preprocess import load_training_data_from_gcs, load_yaml_file_from_gcs, create_train_test_by_index\n",
    "from series_data_generator import SeriesDataGenerator"
   ]
  },
  {
   "cell_type": "code",
   "execution_count": 4,
   "metadata": {
    "collapsed": true
   },
   "outputs": [],
   "source": [
    "GCS_path = 'test/ML'\n",
    "yaml_file_name = 'target_median_norm_configuration.yaml'"
   ]
  },
  {
   "cell_type": "code",
   "execution_count": null,
   "metadata": {
    "collapsed": true
   },
   "outputs": [],
   "source": [
    "index_gcs_path = 'test/ML/index_yaml'\n",
    "model_name = \"target_median_last_hid8_16-1_learning_rate_0.001_MAE_fold_1\"\n",
    "index_file_name = '{}.yaml'.format(model_name)\n",
    "\n",
    "bucket = GCS_Bucket(GCS_BUCKET_NAME)\n",
    "index_dict = load_yaml_file_from_gcs(bucket, index_gcs_path, index_file_name)\n",
    "\n",
    "train, valid_data = create_train_test_by_index(local_data_file, config_dict, index_dict)"
   ]
  }
 ],
 "metadata": {
  "kernelspec": {
   "display_name": "Python 2",
   "language": "python",
   "name": "python2"
  },
  "language_info": {
   "codemirror_mode": {
    "name": "ipython",
    "version": 2
   },
   "file_extension": ".py",
   "mimetype": "text/x-python",
   "name": "python",
   "nbconvert_exporter": "python",
   "pygments_lexer": "ipython2",
   "version": "2.7.10"
  }
 },
 "nbformat": 4,
 "nbformat_minor": 2
}
