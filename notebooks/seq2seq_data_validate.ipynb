{
 "cells": [
  {
   "cell_type": "code",
   "execution_count": null,
   "metadata": {
    "collapsed": false
   },
   "outputs": [],
   "source": [
    "import cPickle as pickle\n",
    "import os, sys\n",
    "sys.path.append('/Users/matt.meng/dev/seq2seq_model')"
   ]
  },
  {
   "cell_type": "code",
   "execution_count": null,
   "metadata": {
    "collapsed": false
   },
   "outputs": [],
   "source": [
    "data_path = '/Users/matt.meng'\n",
    "pickle_file = 'processed_titles_data.pkl'\n",
    "with open(os.path.join(data_path, pickle_file), 'r') as input_file:\n",
    "     data = pickle.load(input_file)"
   ]
  },
  {
   "cell_type": "code",
   "execution_count": null,
   "metadata": {
    "collapsed": false
   },
   "outputs": [],
   "source": [
    "training_titles = data['training_titles']\n",
    "target_titles = data['target_titles']"
   ]
  },
  {
   "cell_type": "code",
   "execution_count": null,
   "metadata": {
    "collapsed": false
   },
   "outputs": [],
   "source": [
    "index = 20000\n",
    "print training_titles[index]\n",
    "print target_titles[index]"
   ]
  },
  {
   "cell_type": "code",
   "execution_count": null,
   "metadata": {
    "collapsed": true
   },
   "outputs": [],
   "source": []
  },
  {
   "cell_type": "markdown",
   "metadata": {},
   "source": [
    "### validate the DataGenerator with dual outputs"
   ]
  },
  {
   "cell_type": "code",
   "execution_count": 7,
   "metadata": {
    "collapsed": false
   },
   "outputs": [],
   "source": [
    "from data_preprocess import TOKEN_DICT, _GO, _EOS\n",
    "from data import DataGenerator, process_batch"
   ]
  },
  {
   "cell_type": "code",
   "execution_count": 3,
   "metadata": {
    "collapsed": false
   },
   "outputs": [],
   "source": [
    "pickle_file = 'scramble_titles_data.pkl'\n",
    "batch_size = 32\n",
    "pickle_file_path = os.path.join(os.path.expanduser(\"~\"), pickle_file)\n",
    "\n",
    "## the dual_output test\n",
    "#dataGen = DataGenerator(pickle_file_path)\n",
    "dataGen = DataGenerator(pickle_file_path, True)\n",
    "batches = dataGen.generate_sequence(batch_size)\n",
    "training_batch, target_batch = next(batches)\n",
    "  "
   ]
  },
  {
   "cell_type": "code",
   "execution_count": 4,
   "metadata": {
    "collapsed": false
   },
   "outputs": [
    {
     "data": {
      "text/plain": [
       "[[20, 2805, 168, 163, 2969],\n",
       " [186, 3, 156, 210, 27],\n",
       " [1523, 16262, 31, 493, 322],\n",
       " [2939, 713, 54, 6, 181],\n",
       " [635, 9, 1425, 49, 64],\n",
       " [67, 8308, 3025, 941, 1386],\n",
       " [7451, 1655, 3, 219, 12302],\n",
       " [1646, 18, 935, 258, 3],\n",
       " [2608, 693, 695, 1002, 536],\n",
       " [650, 8236, 6618, 3835, 745],\n",
       " [377, 9827, 3203, 5, 974],\n",
       " [23, 72, 187, 2148, 46],\n",
       " [42, 183, 1697, 998, 946],\n",
       " [18, 742, 718, 8869, 138],\n",
       " [559, 399, 2870, 9717, 12],\n",
       " [1465, 401, 494, 33, 579],\n",
       " [3999, 15, 3, 206, 18],\n",
       " [2805, 168, 163, 2969, 20],\n",
       " [8318, 3948, 1764, 782, 12],\n",
       " [715, 3233, 27, 4, 1567],\n",
       " [14, 3443, 2528, 5751, 7055],\n",
       " [2898, 371, 15, 38, 5265],\n",
       " [6, 1613, 1223, 202, 13],\n",
       " [4231, 3711, 1836, 5003, 1865],\n",
       " [2787, 13855, 143, 3568, 79],\n",
       " [4224, 972, 1338, 282, 360],\n",
       " [18, 9708, 609, 1261, 2707],\n",
       " [11, 879, 169, 9542, 1802],\n",
       " [3366, 1465, 401, 1664, 7],\n",
       " [7188, 73, 6, 973, 6622],\n",
       " [8747, 805, 8937, 344, 10750],\n",
       " [5205, 317, 6981, 8306, 5]]"
      ]
     },
     "execution_count": 4,
     "metadata": {},
     "output_type": "execute_result"
    }
   ],
   "source": [
    "training_batch"
   ]
  },
  {
   "cell_type": "code",
   "execution_count": 5,
   "metadata": {
    "collapsed": false
   },
   "outputs": [
    {
     "data": {
      "text/plain": [
       "[[163, 2969, 20, 2805, 168],\n",
       " [27, 186, 3, 156, 210],\n",
       " [322, 1523, 16262, 31, 493],\n",
       " [54, 6, 181, 2939, 713],\n",
       " [49, 64, 635, 9, 1425],\n",
       " [3025, 941, 1386, 67, 8308],\n",
       " [12302, 7451, 1655, 3, 219],\n",
       " [258, 3, 1646, 18, 935],\n",
       " [2608, 693, 695, 1002, 536],\n",
       " [745, 650, 8236, 6618, 3835],\n",
       " [377, 9827, 3203, 5, 974],\n",
       " [187, 2148, 46, 23, 72],\n",
       " [1697, 998, 946, 42, 183],\n",
       " [8869, 138, 18, 742, 718],\n",
       " [12, 559, 399, 2870, 9717],\n",
       " [494, 33, 579, 1465, 401],\n",
       " [206, 18, 3999, 15, 3],\n",
       " [163, 2969, 20, 2805, 168],\n",
       " [8318, 3948, 1764, 782, 12],\n",
       " [27, 4, 1567, 715, 3233],\n",
       " [5751, 7055, 14, 3443, 2528],\n",
       " [15, 38, 5265, 2898, 371],\n",
       " [202, 13, 6, 1613, 1223],\n",
       " [1836, 5003, 1865, 4231, 3711],\n",
       " [143, 3568, 79, 2787, 13855],\n",
       " [4224, 972, 1338, 282, 360],\n",
       " [18, 9708, 609, 1261, 2707],\n",
       " [169, 9542, 1802, 11, 879],\n",
       " [1664, 7, 3366, 1465, 401],\n",
       " [6622, 7188, 73, 6, 973],\n",
       " [10750, 8747, 805, 8937, 344],\n",
       " [6981, 8306, 5, 5205, 317]]"
      ]
     },
     "execution_count": 5,
     "metadata": {},
     "output_type": "execute_result"
    }
   ],
   "source": [
    "target_batch"
   ]
  },
  {
   "cell_type": "code",
   "execution_count": 8,
   "metadata": {
    "collapsed": false
   },
   "outputs": [],
   "source": [
    "encoder_inputs_, encoder_inputs_length = process_batch([sequence + [TOKEN_DICT[_EOS]] for sequence in training_batch])\n",
    "decoder_inputs_, decoder_inputs_length = process_batch([[TOKEN_DICT[_GO]] + sequence for sequence in target_batch])\n"
   ]
  },
  {
   "cell_type": "code",
   "execution_count": 9,
   "metadata": {
    "collapsed": false
   },
   "outputs": [
    {
     "data": {
      "text/plain": [
       "array([[   20,   186,  1523,  2939,   635,    67,  7451,  1646,  2608,\n",
       "          650,   377,    23,    42,    18,   559,  1465,  3999,  2805,\n",
       "         8318,   715,    14,  2898,     6,  4231,  2787,  4224,    18,\n",
       "           11,  3366,  7188,  8747,  5205],\n",
       "       [ 2805,     3, 16262,   713,     9,  8308,  1655,    18,   693,\n",
       "         8236,  9827,    72,   183,   742,   399,   401,    15,   168,\n",
       "         3948,  3233,  3443,   371,  1613,  3711, 13855,   972,  9708,\n",
       "          879,  1465,    73,   805,   317],\n",
       "       [  168,   156,    31,    54,  1425,  3025,     3,   935,   695,\n",
       "         6618,  3203,   187,  1697,   718,  2870,   494,     3,   163,\n",
       "         1764,    27,  2528,    15,  1223,  1836,   143,  1338,   609,\n",
       "          169,   401,     6,  8937,  6981],\n",
       "       [  163,   210,   493,     6,    49,   941,   219,   258,  1002,\n",
       "         3835,     5,  2148,   998,  8869,  9717,    33,   206,  2969,\n",
       "          782,     4,  5751,    38,   202,  5003,  3568,   282,  1261,\n",
       "         9542,  1664,   973,   344,  8306],\n",
       "       [ 2969,    27,   322,   181,    64,  1386, 12302,     3,   536,\n",
       "          745,   974,    46,   946,   138,    12,   579,    18,    20,\n",
       "           12,  1567,  7055,  5265,    13,  1865,    79,   360,  2707,\n",
       "         1802,     7,  6622, 10750,     5],\n",
       "       [    2,     2,     2,     2,     2,     2,     2,     2,     2,\n",
       "            2,     2,     2,     2,     2,     2,     2,     2,     2,\n",
       "            2,     2,     2,     2,     2,     2,     2,     2,     2,\n",
       "            2,     2,     2,     2,     2]], dtype=int32)"
      ]
     },
     "execution_count": 9,
     "metadata": {},
     "output_type": "execute_result"
    }
   ],
   "source": [
    "encoder_inputs_"
   ]
  },
  {
   "cell_type": "code",
   "execution_count": 10,
   "metadata": {
    "collapsed": false
   },
   "outputs": [
    {
     "data": {
      "text/plain": [
       "array([[    1,     1,     1,     1,     1,     1,     1,     1,     1,\n",
       "            1,     1,     1,     1,     1,     1,     1,     1,     1,\n",
       "            1,     1,     1,     1,     1,     1,     1,     1,     1,\n",
       "            1,     1,     1,     1,     1],\n",
       "       [  163,    27,   322,    54,    49,  3025, 12302,   258,  2608,\n",
       "          745,   377,   187,  1697,  8869,    12,   494,   206,   163,\n",
       "         8318,    27,  5751,    15,   202,  1836,   143,  4224,    18,\n",
       "          169,  1664,  6622, 10750,  6981],\n",
       "       [ 2969,   186,  1523,     6,    64,   941,  7451,     3,   693,\n",
       "          650,  9827,  2148,   998,   138,   559,    33,    18,  2969,\n",
       "         3948,     4,  7055,    38,    13,  5003,  3568,   972,  9708,\n",
       "         9542,     7,  7188,  8747,  8306],\n",
       "       [   20,     3, 16262,   181,   635,  1386,  1655,  1646,   695,\n",
       "         8236,  3203,    46,   946,    18,   399,   579,  3999,    20,\n",
       "         1764,  1567,    14,  5265,     6,  1865,    79,  1338,   609,\n",
       "         1802,  3366,    73,   805,     5],\n",
       "       [ 2805,   156,    31,  2939,     9,    67,     3,    18,  1002,\n",
       "         6618,     5,    23,    42,   742,  2870,  1465,    15,  2805,\n",
       "          782,   715,  3443,  2898,  1613,  4231,  2787,   282,  1261,\n",
       "           11,  1465,     6,  8937,  5205],\n",
       "       [  168,   210,   493,   713,  1425,  8308,   219,   935,   536,\n",
       "         3835,   974,    72,   183,   718,  9717,   401,     3,   168,\n",
       "           12,  3233,  2528,   371,  1223,  3711, 13855,   360,  2707,\n",
       "          879,   401,   973,   344,   317]], dtype=int32)"
      ]
     },
     "execution_count": 10,
     "metadata": {},
     "output_type": "execute_result"
    }
   ],
   "source": [
    "decoder_inputs_"
   ]
  },
  {
   "cell_type": "code",
   "execution_count": null,
   "metadata": {
    "collapsed": true
   },
   "outputs": [],
   "source": []
  }
 ],
 "metadata": {
  "kernelspec": {
   "display_name": "Python 2",
   "language": "python",
   "name": "python2"
  },
  "language_info": {
   "codemirror_mode": {
    "name": "ipython",
    "version": 2
   },
   "file_extension": ".py",
   "mimetype": "text/x-python",
   "name": "python",
   "nbconvert_exporter": "python",
   "pygments_lexer": "ipython2",
   "version": "2.7.10"
  }
 },
 "nbformat": 4,
 "nbformat_minor": 2
}
