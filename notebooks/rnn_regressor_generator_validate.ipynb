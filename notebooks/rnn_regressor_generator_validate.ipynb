{
 "cells": [
  {
   "cell_type": "code",
   "execution_count": 1,
   "metadata": {
    "collapsed": true
   },
   "outputs": [],
   "source": [
    "import os, sys, yaml, tempfile, time\n",
    "sys.path.append(\"/Users/matt.meng/dev/rnn_regressor\")\n",
    "import tensorflow as tf\n",
    "import pandas as pd\n",
    "from data_preprocess import load_training_data_from_gcs, load_yaml_file_from_gcs, create_train_test_by_index\n",
    "from google_cloud_storage_util import GCS_Bucket\n",
    "from series_data_generator import SeriesDataGenerator"
   ]
  },
  {
   "cell_type": "code",
   "execution_count": 2,
   "metadata": {
    "collapsed": true
   },
   "outputs": [],
   "source": [
    "gcs_path = 'test/MachineLearning'\n",
    "yaml_file_name = 'target_median_norm_configuration.yaml'\n",
    "config_dict, local_data_file = load_training_data_from_gcs(gcs_path, yaml_file_name)"
   ]
  },
  {
   "cell_type": "code",
   "execution_count": 3,
   "metadata": {
    "collapsed": false
   },
   "outputs": [
    {
     "name": "stdout",
     "output_type": "stream",
     "text": [
      "/var/folders/k5/nkzf3kxj2v721gq7p2nytvv48ppbxr/T/tmp2bnZvQ\n"
     ]
    }
   ],
   "source": [
    "print local_data_file"
   ]
  },
  {
   "cell_type": "code",
   "execution_count": 4,
   "metadata": {
    "collapsed": true
   },
   "outputs": [],
   "source": [
    "index_gcs_path = 'test/MachineLearning/index_yaml'\n",
    "index_file_name = 'NYDN_hybrid_model_fold_2.yaml'\n",
    "bucket = GCS_Bucket()\n",
    "index_dict = load_yaml_file_from_gcs(bucket, index_gcs_path, index_file_name)"
   ]
  },
  {
   "cell_type": "code",
   "execution_count": 5,
   "metadata": {
    "collapsed": false
   },
   "outputs": [
    {
     "name": "stdout",
     "output_type": "stream",
     "text": [
      "total #columns: 187, training data: 8101, validation data: 8101.\n"
     ]
    }
   ],
   "source": [
    "train, valid_data = create_train_test_by_index(local_data_file, config_dict, index_dict)\n"
   ]
  },
  {
   "cell_type": "code",
   "execution_count": 6,
   "metadata": {
    "collapsed": false
   },
   "outputs": [
    {
     "name": "stdout",
     "output_type": "stream",
     "text": [
      "(8101, 187)\n"
     ]
    },
    {
     "data": {
      "text/html": [
       "<div>\n",
       "<table border=\"1\" class=\"dataframe\">\n",
       "  <thead>\n",
       "    <tr style=\"text-align: right;\">\n",
       "      <th></th>\n",
       "      <th>total_views</th>\n",
       "      <th>views_0min_to_10min</th>\n",
       "      <th>views_10min_to_20min</th>\n",
       "      <th>views_20min_to_30min</th>\n",
       "      <th>views_30min_to_40min</th>\n",
       "      <th>views_40min_to_50min</th>\n",
       "      <th>views_50min_to_60min</th>\n",
       "      <th>views_60min_to_70min</th>\n",
       "      <th>views_70min_to_80min</th>\n",
       "      <th>views_80min_to_90min</th>\n",
       "      <th>...</th>\n",
       "      <th>pageReferrer_SOCIAL_80min_to_90min</th>\n",
       "      <th>pageReferrer_SOCIAL_90min_to_100min</th>\n",
       "      <th>pageReferrer_SOCIAL_100min_to_110min</th>\n",
       "      <th>pageReferrer_SOCIAL_110min_to_120min</th>\n",
       "      <th>minLocalDateInWeek</th>\n",
       "      <th>minLocalTime</th>\n",
       "      <th>createTime</th>\n",
       "      <th>articleInfo_type</th>\n",
       "      <th>articleInfo_authorName</th>\n",
       "      <th>articleInfo_section</th>\n",
       "    </tr>\n",
       "    <tr>\n",
       "      <th>articleId</th>\n",
       "      <th></th>\n",
       "      <th></th>\n",
       "      <th></th>\n",
       "      <th></th>\n",
       "      <th></th>\n",
       "      <th></th>\n",
       "      <th></th>\n",
       "      <th></th>\n",
       "      <th></th>\n",
       "      <th></th>\n",
       "      <th></th>\n",
       "      <th></th>\n",
       "      <th></th>\n",
       "      <th></th>\n",
       "      <th></th>\n",
       "      <th></th>\n",
       "      <th></th>\n",
       "      <th></th>\n",
       "      <th></th>\n",
       "      <th></th>\n",
       "      <th></th>\n",
       "    </tr>\n",
       "  </thead>\n",
       "  <tbody>\n",
       "    <tr>\n",
       "      <th>fe14a0c51595d6b2</th>\n",
       "      <td>1.489762</td>\n",
       "      <td>0.000186</td>\n",
       "      <td>0.000372</td>\n",
       "      <td>0.001489</td>\n",
       "      <td>0.017964</td>\n",
       "      <td>0.011821</td>\n",
       "      <td>0.021314</td>\n",
       "      <td>0.022990</td>\n",
       "      <td>0.028388</td>\n",
       "      <td>0.031087</td>\n",
       "      <td>...</td>\n",
       "      <td>0.000000</td>\n",
       "      <td>0.000000</td>\n",
       "      <td>0.000000</td>\n",
       "      <td>0.000000</td>\n",
       "      <td>0.000093</td>\n",
       "      <td>0.027550</td>\n",
       "      <td>0.029226</td>\n",
       "      <td>1.851089</td>\n",
       "      <td>2.078020</td>\n",
       "      <td>1.594471</td>\n",
       "    </tr>\n",
       "    <tr>\n",
       "      <th>b3ccb90b8f256bb3</th>\n",
       "      <td>1.032856</td>\n",
       "      <td>0.001210</td>\n",
       "      <td>0.025875</td>\n",
       "      <td>0.028853</td>\n",
       "      <td>0.047282</td>\n",
       "      <td>0.056869</td>\n",
       "      <td>0.065525</td>\n",
       "      <td>0.057800</td>\n",
       "      <td>0.058917</td>\n",
       "      <td>0.052681</td>\n",
       "      <td>...</td>\n",
       "      <td>0.000000</td>\n",
       "      <td>0.000000</td>\n",
       "      <td>0.000000</td>\n",
       "      <td>0.000093</td>\n",
       "      <td>0.000186</td>\n",
       "      <td>0.066549</td>\n",
       "      <td>0.067573</td>\n",
       "      <td>1.851089</td>\n",
       "      <td>1.899045</td>\n",
       "      <td>2.139606</td>\n",
       "    </tr>\n",
       "    <tr>\n",
       "      <th>0b9d5d6103145106</th>\n",
       "      <td>0.865227</td>\n",
       "      <td>0.000186</td>\n",
       "      <td>0.000372</td>\n",
       "      <td>0.009214</td>\n",
       "      <td>0.009028</td>\n",
       "      <td>0.008470</td>\n",
       "      <td>0.012193</td>\n",
       "      <td>0.008656</td>\n",
       "      <td>0.008191</td>\n",
       "      <td>0.015078</td>\n",
       "      <td>...</td>\n",
       "      <td>0.000000</td>\n",
       "      <td>0.000000</td>\n",
       "      <td>0.000000</td>\n",
       "      <td>0.000000</td>\n",
       "      <td>0.000093</td>\n",
       "      <td>0.066549</td>\n",
       "      <td>0.068410</td>\n",
       "      <td>1.851089</td>\n",
       "      <td>1.829996</td>\n",
       "      <td>2.422299</td>\n",
       "    </tr>\n",
       "    <tr>\n",
       "      <th>6b82629c96ad1cb1</th>\n",
       "      <td>1.342703</td>\n",
       "      <td>0.001768</td>\n",
       "      <td>0.006701</td>\n",
       "      <td>0.012565</td>\n",
       "      <td>0.009680</td>\n",
       "      <td>0.009773</td>\n",
       "      <td>0.010145</td>\n",
       "      <td>0.008935</td>\n",
       "      <td>0.012379</td>\n",
       "      <td>0.014799</td>\n",
       "      <td>...</td>\n",
       "      <td>0.000372</td>\n",
       "      <td>0.000838</td>\n",
       "      <td>0.000558</td>\n",
       "      <td>0.000745</td>\n",
       "      <td>0.000558</td>\n",
       "      <td>0.025689</td>\n",
       "      <td>0.026061</td>\n",
       "      <td>1.851089</td>\n",
       "      <td>2.840517</td>\n",
       "      <td>1.701381</td>\n",
       "    </tr>\n",
       "    <tr>\n",
       "      <th>7d40e971565bd494</th>\n",
       "      <td>0.560499</td>\n",
       "      <td>0.005026</td>\n",
       "      <td>0.008377</td>\n",
       "      <td>0.006329</td>\n",
       "      <td>0.006981</td>\n",
       "      <td>0.008098</td>\n",
       "      <td>0.007539</td>\n",
       "      <td>0.008004</td>\n",
       "      <td>0.010797</td>\n",
       "      <td>0.009028</td>\n",
       "      <td>...</td>\n",
       "      <td>0.000000</td>\n",
       "      <td>0.000000</td>\n",
       "      <td>0.000000</td>\n",
       "      <td>0.000000</td>\n",
       "      <td>0.000558</td>\n",
       "      <td>0.086839</td>\n",
       "      <td>0.087211</td>\n",
       "      <td>1.851089</td>\n",
       "      <td>1.395782</td>\n",
       "      <td>1.701381</td>\n",
       "    </tr>\n",
       "  </tbody>\n",
       "</table>\n",
       "<p>5 rows × 187 columns</p>\n",
       "</div>"
      ],
      "text/plain": [
       "                  total_views  views_0min_to_10min  views_10min_to_20min  \\\n",
       "articleId                                                                  \n",
       "fe14a0c51595d6b2     1.489762             0.000186              0.000372   \n",
       "b3ccb90b8f256bb3     1.032856             0.001210              0.025875   \n",
       "0b9d5d6103145106     0.865227             0.000186              0.000372   \n",
       "6b82629c96ad1cb1     1.342703             0.001768              0.006701   \n",
       "7d40e971565bd494     0.560499             0.005026              0.008377   \n",
       "\n",
       "                  views_20min_to_30min  views_30min_to_40min  \\\n",
       "articleId                                                      \n",
       "fe14a0c51595d6b2              0.001489              0.017964   \n",
       "b3ccb90b8f256bb3              0.028853              0.047282   \n",
       "0b9d5d6103145106              0.009214              0.009028   \n",
       "6b82629c96ad1cb1              0.012565              0.009680   \n",
       "7d40e971565bd494              0.006329              0.006981   \n",
       "\n",
       "                  views_40min_to_50min  views_50min_to_60min  \\\n",
       "articleId                                                      \n",
       "fe14a0c51595d6b2              0.011821              0.021314   \n",
       "b3ccb90b8f256bb3              0.056869              0.065525   \n",
       "0b9d5d6103145106              0.008470              0.012193   \n",
       "6b82629c96ad1cb1              0.009773              0.010145   \n",
       "7d40e971565bd494              0.008098              0.007539   \n",
       "\n",
       "                  views_60min_to_70min  views_70min_to_80min  \\\n",
       "articleId                                                      \n",
       "fe14a0c51595d6b2              0.022990              0.028388   \n",
       "b3ccb90b8f256bb3              0.057800              0.058917   \n",
       "0b9d5d6103145106              0.008656              0.008191   \n",
       "6b82629c96ad1cb1              0.008935              0.012379   \n",
       "7d40e971565bd494              0.008004              0.010797   \n",
       "\n",
       "                  views_80min_to_90min         ...           \\\n",
       "articleId                                      ...            \n",
       "fe14a0c51595d6b2              0.031087         ...            \n",
       "b3ccb90b8f256bb3              0.052681         ...            \n",
       "0b9d5d6103145106              0.015078         ...            \n",
       "6b82629c96ad1cb1              0.014799         ...            \n",
       "7d40e971565bd494              0.009028         ...            \n",
       "\n",
       "                  pageReferrer_SOCIAL_80min_to_90min  \\\n",
       "articleId                                              \n",
       "fe14a0c51595d6b2                            0.000000   \n",
       "b3ccb90b8f256bb3                            0.000000   \n",
       "0b9d5d6103145106                            0.000000   \n",
       "6b82629c96ad1cb1                            0.000372   \n",
       "7d40e971565bd494                            0.000000   \n",
       "\n",
       "                  pageReferrer_SOCIAL_90min_to_100min  \\\n",
       "articleId                                               \n",
       "fe14a0c51595d6b2                             0.000000   \n",
       "b3ccb90b8f256bb3                             0.000000   \n",
       "0b9d5d6103145106                             0.000000   \n",
       "6b82629c96ad1cb1                             0.000838   \n",
       "7d40e971565bd494                             0.000000   \n",
       "\n",
       "                  pageReferrer_SOCIAL_100min_to_110min  \\\n",
       "articleId                                                \n",
       "fe14a0c51595d6b2                              0.000000   \n",
       "b3ccb90b8f256bb3                              0.000000   \n",
       "0b9d5d6103145106                              0.000000   \n",
       "6b82629c96ad1cb1                              0.000558   \n",
       "7d40e971565bd494                              0.000000   \n",
       "\n",
       "                  pageReferrer_SOCIAL_110min_to_120min  minLocalDateInWeek  \\\n",
       "articleId                                                                    \n",
       "fe14a0c51595d6b2                              0.000000            0.000093   \n",
       "b3ccb90b8f256bb3                              0.000093            0.000186   \n",
       "0b9d5d6103145106                              0.000000            0.000093   \n",
       "6b82629c96ad1cb1                              0.000745            0.000558   \n",
       "7d40e971565bd494                              0.000000            0.000558   \n",
       "\n",
       "                  minLocalTime  createTime  articleInfo_type  \\\n",
       "articleId                                                      \n",
       "fe14a0c51595d6b2      0.027550    0.029226          1.851089   \n",
       "b3ccb90b8f256bb3      0.066549    0.067573          1.851089   \n",
       "0b9d5d6103145106      0.066549    0.068410          1.851089   \n",
       "6b82629c96ad1cb1      0.025689    0.026061          1.851089   \n",
       "7d40e971565bd494      0.086839    0.087211          1.851089   \n",
       "\n",
       "                  articleInfo_authorName  articleInfo_section  \n",
       "articleId                                                      \n",
       "fe14a0c51595d6b2                2.078020             1.594471  \n",
       "b3ccb90b8f256bb3                1.899045             2.139606  \n",
       "0b9d5d6103145106                1.829996             2.422299  \n",
       "6b82629c96ad1cb1                2.840517             1.701381  \n",
       "7d40e971565bd494                1.395782             1.701381  \n",
       "\n",
       "[5 rows x 187 columns]"
      ]
     },
     "execution_count": 6,
     "metadata": {},
     "output_type": "execute_result"
    }
   ],
   "source": [
    "print train.shape\n",
    "train.head()"
   ]
  },
  {
   "cell_type": "code",
   "execution_count": 7,
   "metadata": {
    "collapsed": false
   },
   "outputs": [],
   "source": [
    "#%timeit data_generator = SeriesDataGenerator(train, config_dict)"
   ]
  },
  {
   "cell_type": "markdown",
   "metadata": {},
   "source": [
    "#### create the `data_generator` and check the content"
   ]
  },
  {
   "cell_type": "code",
   "execution_count": 8,
   "metadata": {
    "collapsed": true
   },
   "outputs": [],
   "source": [
    "data_generator = SeriesDataGenerator(train, config_dict)"
   ]
  },
  {
   "cell_type": "code",
   "execution_count": 9,
   "metadata": {
    "collapsed": true
   },
   "outputs": [],
   "source": [
    "data_sequence = data_generator.data_sequence"
   ]
  },
  {
   "cell_type": "code",
   "execution_count": 15,
   "metadata": {
    "collapsed": false
   },
   "outputs": [
    {
     "name": "stdout",
     "output_type": "stream",
     "text": [
      "['meta_data', 'time_series_data', 'target']\n",
      "\n",
      " \n",
      "\n",
      "[9.30752047655e-05, 0.027550260610599998, 0.029225614296400002, 1.8510885138799997, 2.07802012537, 1.5944707547299999]\n",
      "\n",
      " \n",
      "\n",
      "12\n",
      "\n",
      " \n",
      "\n"
     ]
    },
    {
     "data": {
      "text/plain": [
       "[1.4897617274799999]"
      ]
     },
     "execution_count": 15,
     "metadata": {},
     "output_type": "execute_result"
    }
   ],
   "source": [
    "print data_sequence[0].keys()\n",
    "print '\\n \\n'\n",
    "print data_sequence[0]['meta_data']\n",
    "print '\\n \\n'\n",
    "print len(data_sequence[0]['time_series_data'])\n",
    "print '\\n \\n'\n",
    "data_sequence[0]['target']"
   ]
  },
  {
   "cell_type": "code",
   "execution_count": null,
   "metadata": {
    "collapsed": true
   },
   "outputs": [],
   "source": []
  },
  {
   "cell_type": "markdown",
   "metadata": {},
   "source": [
    "#### check the data content consistency"
   ]
  },
  {
   "cell_type": "code",
   "execution_count": 16,
   "metadata": {
    "collapsed": true
   },
   "outputs": [],
   "source": [
    "column_names = data_generator._build_time_series_column_names()"
   ]
  },
  {
   "cell_type": "code",
   "execution_count": 17,
   "metadata": {
    "collapsed": false
   },
   "outputs": [
    {
     "data": {
      "text/plain": [
       "[['views_0min_to_10min',\n",
       "  'US_counts_0min_to_10min',\n",
       "  'sessionReferrer_DIRECT_0min_to_10min',\n",
       "  'sessionReferrer_SOCIAL_0min_to_10min',\n",
       "  'sessionReferrer_SEARCH_0min_to_10min',\n",
       "  'sessionReferrer_OTHER_0min_to_10min',\n",
       "  'platform_PHON_0min_to_10min',\n",
       "  'platform_DESK_0min_to_10min',\n",
       "  'platform_TBLT_0min_to_10min',\n",
       "  'platform_OTHR_0min_to_10min',\n",
       "  'pageReferrer_OTHER_0min_to_10min',\n",
       "  'pageReferrer_SEARCH_0min_to_10min',\n",
       "  'pageReferrer_DIRECT_0min_to_10min',\n",
       "  'pageReferrer_EMPTY_DOMAIN_0min_to_10min',\n",
       "  'pageReferrer_SOCIAL_0min_to_10min'],\n",
       " ['views_10min_to_20min',\n",
       "  'US_counts_10min_to_20min',\n",
       "  'sessionReferrer_DIRECT_10min_to_20min',\n",
       "  'sessionReferrer_SOCIAL_10min_to_20min',\n",
       "  'sessionReferrer_SEARCH_10min_to_20min',\n",
       "  'sessionReferrer_OTHER_10min_to_20min',\n",
       "  'platform_PHON_10min_to_20min',\n",
       "  'platform_DESK_10min_to_20min',\n",
       "  'platform_TBLT_10min_to_20min',\n",
       "  'platform_OTHR_10min_to_20min',\n",
       "  'pageReferrer_OTHER_10min_to_20min',\n",
       "  'pageReferrer_SEARCH_10min_to_20min',\n",
       "  'pageReferrer_DIRECT_10min_to_20min',\n",
       "  'pageReferrer_EMPTY_DOMAIN_10min_to_20min',\n",
       "  'pageReferrer_SOCIAL_10min_to_20min'],\n",
       " ['views_20min_to_30min',\n",
       "  'US_counts_20min_to_30min',\n",
       "  'sessionReferrer_DIRECT_20min_to_30min',\n",
       "  'sessionReferrer_SOCIAL_20min_to_30min',\n",
       "  'sessionReferrer_SEARCH_20min_to_30min',\n",
       "  'sessionReferrer_OTHER_20min_to_30min',\n",
       "  'platform_PHON_20min_to_30min',\n",
       "  'platform_DESK_20min_to_30min',\n",
       "  'platform_TBLT_20min_to_30min',\n",
       "  'platform_OTHR_20min_to_30min',\n",
       "  'pageReferrer_OTHER_20min_to_30min',\n",
       "  'pageReferrer_SEARCH_20min_to_30min',\n",
       "  'pageReferrer_DIRECT_20min_to_30min',\n",
       "  'pageReferrer_EMPTY_DOMAIN_20min_to_30min',\n",
       "  'pageReferrer_SOCIAL_20min_to_30min'],\n",
       " ['views_30min_to_40min',\n",
       "  'US_counts_30min_to_40min',\n",
       "  'sessionReferrer_DIRECT_30min_to_40min',\n",
       "  'sessionReferrer_SOCIAL_30min_to_40min',\n",
       "  'sessionReferrer_SEARCH_30min_to_40min',\n",
       "  'sessionReferrer_OTHER_30min_to_40min',\n",
       "  'platform_PHON_30min_to_40min',\n",
       "  'platform_DESK_30min_to_40min',\n",
       "  'platform_TBLT_30min_to_40min',\n",
       "  'platform_OTHR_30min_to_40min',\n",
       "  'pageReferrer_OTHER_30min_to_40min',\n",
       "  'pageReferrer_SEARCH_30min_to_40min',\n",
       "  'pageReferrer_DIRECT_30min_to_40min',\n",
       "  'pageReferrer_EMPTY_DOMAIN_30min_to_40min',\n",
       "  'pageReferrer_SOCIAL_30min_to_40min'],\n",
       " ['views_40min_to_50min',\n",
       "  'US_counts_40min_to_50min',\n",
       "  'sessionReferrer_DIRECT_40min_to_50min',\n",
       "  'sessionReferrer_SOCIAL_40min_to_50min',\n",
       "  'sessionReferrer_SEARCH_40min_to_50min',\n",
       "  'sessionReferrer_OTHER_40min_to_50min',\n",
       "  'platform_PHON_40min_to_50min',\n",
       "  'platform_DESK_40min_to_50min',\n",
       "  'platform_TBLT_40min_to_50min',\n",
       "  'platform_OTHR_40min_to_50min',\n",
       "  'pageReferrer_OTHER_40min_to_50min',\n",
       "  'pageReferrer_SEARCH_40min_to_50min',\n",
       "  'pageReferrer_DIRECT_40min_to_50min',\n",
       "  'pageReferrer_EMPTY_DOMAIN_40min_to_50min',\n",
       "  'pageReferrer_SOCIAL_40min_to_50min'],\n",
       " ['views_50min_to_60min',\n",
       "  'US_counts_50min_to_60min',\n",
       "  'sessionReferrer_DIRECT_50min_to_60min',\n",
       "  'sessionReferrer_SOCIAL_50min_to_60min',\n",
       "  'sessionReferrer_SEARCH_50min_to_60min',\n",
       "  'sessionReferrer_OTHER_50min_to_60min',\n",
       "  'platform_PHON_50min_to_60min',\n",
       "  'platform_DESK_50min_to_60min',\n",
       "  'platform_TBLT_50min_to_60min',\n",
       "  'platform_OTHR_50min_to_60min',\n",
       "  'pageReferrer_OTHER_50min_to_60min',\n",
       "  'pageReferrer_SEARCH_50min_to_60min',\n",
       "  'pageReferrer_DIRECT_50min_to_60min',\n",
       "  'pageReferrer_EMPTY_DOMAIN_50min_to_60min',\n",
       "  'pageReferrer_SOCIAL_50min_to_60min'],\n",
       " ['views_60min_to_70min',\n",
       "  'US_counts_60min_to_70min',\n",
       "  'sessionReferrer_DIRECT_60min_to_70min',\n",
       "  'sessionReferrer_SOCIAL_60min_to_70min',\n",
       "  'sessionReferrer_SEARCH_60min_to_70min',\n",
       "  'sessionReferrer_OTHER_60min_to_70min',\n",
       "  'platform_PHON_60min_to_70min',\n",
       "  'platform_DESK_60min_to_70min',\n",
       "  'platform_TBLT_60min_to_70min',\n",
       "  'platform_OTHR_60min_to_70min',\n",
       "  'pageReferrer_OTHER_60min_to_70min',\n",
       "  'pageReferrer_SEARCH_60min_to_70min',\n",
       "  'pageReferrer_DIRECT_60min_to_70min',\n",
       "  'pageReferrer_EMPTY_DOMAIN_60min_to_70min',\n",
       "  'pageReferrer_SOCIAL_60min_to_70min'],\n",
       " ['views_70min_to_80min',\n",
       "  'US_counts_70min_to_80min',\n",
       "  'sessionReferrer_DIRECT_70min_to_80min',\n",
       "  'sessionReferrer_SOCIAL_70min_to_80min',\n",
       "  'sessionReferrer_SEARCH_70min_to_80min',\n",
       "  'sessionReferrer_OTHER_70min_to_80min',\n",
       "  'platform_PHON_70min_to_80min',\n",
       "  'platform_DESK_70min_to_80min',\n",
       "  'platform_TBLT_70min_to_80min',\n",
       "  'platform_OTHR_70min_to_80min',\n",
       "  'pageReferrer_OTHER_70min_to_80min',\n",
       "  'pageReferrer_SEARCH_70min_to_80min',\n",
       "  'pageReferrer_DIRECT_70min_to_80min',\n",
       "  'pageReferrer_EMPTY_DOMAIN_70min_to_80min',\n",
       "  'pageReferrer_SOCIAL_70min_to_80min'],\n",
       " ['views_80min_to_90min',\n",
       "  'US_counts_80min_to_90min',\n",
       "  'sessionReferrer_DIRECT_80min_to_90min',\n",
       "  'sessionReferrer_SOCIAL_80min_to_90min',\n",
       "  'sessionReferrer_SEARCH_80min_to_90min',\n",
       "  'sessionReferrer_OTHER_80min_to_90min',\n",
       "  'platform_PHON_80min_to_90min',\n",
       "  'platform_DESK_80min_to_90min',\n",
       "  'platform_TBLT_80min_to_90min',\n",
       "  'platform_OTHR_80min_to_90min',\n",
       "  'pageReferrer_OTHER_80min_to_90min',\n",
       "  'pageReferrer_SEARCH_80min_to_90min',\n",
       "  'pageReferrer_DIRECT_80min_to_90min',\n",
       "  'pageReferrer_EMPTY_DOMAIN_80min_to_90min',\n",
       "  'pageReferrer_SOCIAL_80min_to_90min'],\n",
       " ['views_90min_to_100min',\n",
       "  'US_counts_90min_to_100min',\n",
       "  'sessionReferrer_DIRECT_90min_to_100min',\n",
       "  'sessionReferrer_SOCIAL_90min_to_100min',\n",
       "  'sessionReferrer_SEARCH_90min_to_100min',\n",
       "  'sessionReferrer_OTHER_90min_to_100min',\n",
       "  'platform_PHON_90min_to_100min',\n",
       "  'platform_DESK_90min_to_100min',\n",
       "  'platform_TBLT_90min_to_100min',\n",
       "  'platform_OTHR_90min_to_100min',\n",
       "  'pageReferrer_OTHER_90min_to_100min',\n",
       "  'pageReferrer_SEARCH_90min_to_100min',\n",
       "  'pageReferrer_DIRECT_90min_to_100min',\n",
       "  'pageReferrer_EMPTY_DOMAIN_90min_to_100min',\n",
       "  'pageReferrer_SOCIAL_90min_to_100min'],\n",
       " ['views_100min_to_110min',\n",
       "  'US_counts_100min_to_110min',\n",
       "  'sessionReferrer_DIRECT_100min_to_110min',\n",
       "  'sessionReferrer_SOCIAL_100min_to_110min',\n",
       "  'sessionReferrer_SEARCH_100min_to_110min',\n",
       "  'sessionReferrer_OTHER_100min_to_110min',\n",
       "  'platform_PHON_100min_to_110min',\n",
       "  'platform_DESK_100min_to_110min',\n",
       "  'platform_TBLT_100min_to_110min',\n",
       "  'platform_OTHR_100min_to_110min',\n",
       "  'pageReferrer_OTHER_100min_to_110min',\n",
       "  'pageReferrer_SEARCH_100min_to_110min',\n",
       "  'pageReferrer_DIRECT_100min_to_110min',\n",
       "  'pageReferrer_EMPTY_DOMAIN_100min_to_110min',\n",
       "  'pageReferrer_SOCIAL_100min_to_110min'],\n",
       " ['views_110min_to_120min',\n",
       "  'US_counts_110min_to_120min',\n",
       "  'sessionReferrer_DIRECT_110min_to_120min',\n",
       "  'sessionReferrer_SOCIAL_110min_to_120min',\n",
       "  'sessionReferrer_SEARCH_110min_to_120min',\n",
       "  'sessionReferrer_OTHER_110min_to_120min',\n",
       "  'platform_PHON_110min_to_120min',\n",
       "  'platform_DESK_110min_to_120min',\n",
       "  'platform_TBLT_110min_to_120min',\n",
       "  'platform_OTHR_110min_to_120min',\n",
       "  'pageReferrer_OTHER_110min_to_120min',\n",
       "  'pageReferrer_SEARCH_110min_to_120min',\n",
       "  'pageReferrer_DIRECT_110min_to_120min',\n",
       "  'pageReferrer_EMPTY_DOMAIN_110min_to_120min',\n",
       "  'pageReferrer_SOCIAL_110min_to_120min']]"
      ]
     },
     "execution_count": 17,
     "metadata": {},
     "output_type": "execute_result"
    }
   ],
   "source": [
    "column_names"
   ]
  },
  {
   "cell_type": "code",
   "execution_count": 85,
   "metadata": {
    "collapsed": true
   },
   "outputs": [],
   "source": [
    "data_generator._cur_index = 0\n",
    "batch_size = 64\n",
    "offset = 10\n",
    "step = 8"
   ]
  },
  {
   "cell_type": "code",
   "execution_count": 103,
   "metadata": {
    "collapsed": false,
    "scrolled": true
   },
   "outputs": [],
   "source": [
    "train_data = data_generator.next_batch(64)"
   ]
  },
  {
   "cell_type": "code",
   "execution_count": 104,
   "metadata": {
    "collapsed": false
   },
   "outputs": [],
   "source": [
    "cur_index = data_generator._cur_index"
   ]
  },
  {
   "cell_type": "code",
   "execution_count": 105,
   "metadata": {
    "collapsed": false
   },
   "outputs": [
    {
     "data": {
      "text/plain": [
       "320"
      ]
     },
     "execution_count": 105,
     "metadata": {},
     "output_type": "execute_result"
    }
   ],
   "source": [
    "cur_index"
   ]
  },
  {
   "cell_type": "code",
   "execution_count": 106,
   "metadata": {
    "collapsed": false
   },
   "outputs": [
    {
     "data": {
      "text/plain": [
       "articleId\n",
       "e2170a119f872e73     4.666884\n",
       "0708b74befedca04     0.378816\n",
       "88e6b0e4aae7272d     0.624162\n",
       "04152a5046177496     0.687826\n",
       "ab2c4aab8edae766     1.643987\n",
       "5c4112d26ef65009     0.714631\n",
       "28c3ade76f7e44db    13.314501\n",
       "c724436de8a77a82     1.346984\n",
       "f2380f7531c3ffad     2.054449\n",
       "596727663ec350ad     0.622301\n",
       "Name: total_views, dtype: float64"
      ]
     },
     "execution_count": 106,
     "metadata": {},
     "output_type": "execute_result"
    }
   ],
   "source": [
    "train.iloc[cur_index - offset:cur_index]['total_views']"
   ]
  },
  {
   "cell_type": "code",
   "execution_count": 107,
   "metadata": {
    "collapsed": false
   },
   "outputs": [
    {
     "data": {
      "text/plain": [
       "[[4.6668838421399998],\n",
       " [0.378816083395],\n",
       " [0.62416232315700004],\n",
       " [0.68782576321700006],\n",
       " [1.6439873417700002],\n",
       " [0.714631422189],\n",
       " [13.314501116900001],\n",
       " [1.34698436337],\n",
       " [2.05444899479],\n",
       " [0.62230081906199997]]"
      ]
     },
     "execution_count": 107,
     "metadata": {},
     "output_type": "execute_result"
    }
   ],
   "source": [
    "train_data.target[-offset:]"
   ]
  },
  {
   "cell_type": "code",
   "execution_count": null,
   "metadata": {
    "collapsed": true
   },
   "outputs": [],
   "source": []
  },
  {
   "cell_type": "code",
   "execution_count": 115,
   "metadata": {
    "collapsed": false
   },
   "outputs": [
    {
     "data": {
      "text/plain": [
       "[[9.30752047655e-05,\n",
       "  0.0692479523455,\n",
       "  0.0697133283693,\n",
       "  1.8510885138799997,\n",
       "  1.89922838822,\n",
       "  1.6792807602700002],\n",
       " [0.000279225614296,\n",
       "  0.0667349218168,\n",
       "  0.0679448994788,\n",
       "  1.8510885138799997,\n",
       "  1.89922838822,\n",
       "  1.5944707547299999],\n",
       " [0.0,\n",
       "  0.105361131794,\n",
       "  0.105640357409,\n",
       "  1.8510885138799997,\n",
       "  1.8338940998700002,\n",
       "  1.7394396100599998],\n",
       " [0.0005584512285930001,\n",
       "  0.0699925539836,\n",
       "  0.0708302308265,\n",
       "  1.8510885138799997,\n",
       "  2.30962367243,\n",
       "  2.13960613987],\n",
       " [0.000279225614296,\n",
       "  0.123603871929,\n",
       "  0.123976172748,\n",
       "  1.8510885138799997,\n",
       "  1.9798791002,\n",
       "  2.13960613987],\n",
       " [0.000279225614296,\n",
       "  0.102941176471,\n",
       "  0.103220402085,\n",
       "  1.8510885138799997,\n",
       "  1.89922838822,\n",
       "  1.87994728572],\n",
       " [0.000279225614296,\n",
       "  0.0271779597915,\n",
       "  0.0282017870439,\n",
       "  1.8510885138799997,\n",
       "  3.35291338501,\n",
       "  2.13960613987],\n",
       " [0.000279225614296,\n",
       "  0.106664184661,\n",
       "  0.10712956068499999,\n",
       "  1.8510885138799997,\n",
       "  1.89922838822,\n",
       "  1.2058203028],\n",
       " [0.000186150409531,\n",
       "  0.0779970215934,\n",
       "  0.0794862248697,\n",
       "  1.8510885138799997,\n",
       "  1.6077587344100002,\n",
       "  2.13960613987],\n",
       " [0.0005584512285930001,\n",
       "  0.078555472822,\n",
       "  0.0790208488459,\n",
       "  1.8510885138799997,\n",
       "  1.9806503297599998,\n",
       "  1.87994728572]]"
      ]
     },
     "execution_count": 115,
     "metadata": {},
     "output_type": "execute_result"
    }
   ],
   "source": [
    "train_data.meta_data[-offset:]"
   ]
  },
  {
   "cell_type": "code",
   "execution_count": 112,
   "metadata": {
    "collapsed": false
   },
   "outputs": [
    {
     "data": {
      "text/html": [
       "<div>\n",
       "<table border=\"1\" class=\"dataframe\">\n",
       "  <thead>\n",
       "    <tr style=\"text-align: right;\">\n",
       "      <th></th>\n",
       "      <th>minLocalDateInWeek</th>\n",
       "      <th>minLocalTime</th>\n",
       "      <th>createTime</th>\n",
       "      <th>articleInfo_type</th>\n",
       "      <th>articleInfo_authorName</th>\n",
       "      <th>articleInfo_section</th>\n",
       "    </tr>\n",
       "    <tr>\n",
       "      <th>articleId</th>\n",
       "      <th></th>\n",
       "      <th></th>\n",
       "      <th></th>\n",
       "      <th></th>\n",
       "      <th></th>\n",
       "      <th></th>\n",
       "    </tr>\n",
       "  </thead>\n",
       "  <tbody>\n",
       "    <tr>\n",
       "      <th>e2170a119f872e73</th>\n",
       "      <td>0.000093</td>\n",
       "      <td>0.069248</td>\n",
       "      <td>0.069713</td>\n",
       "      <td>1.851089</td>\n",
       "      <td>1.899228</td>\n",
       "      <td>1.679281</td>\n",
       "    </tr>\n",
       "    <tr>\n",
       "      <th>0708b74befedca04</th>\n",
       "      <td>0.000279</td>\n",
       "      <td>0.066735</td>\n",
       "      <td>0.067945</td>\n",
       "      <td>1.851089</td>\n",
       "      <td>1.899228</td>\n",
       "      <td>1.594471</td>\n",
       "    </tr>\n",
       "    <tr>\n",
       "      <th>88e6b0e4aae7272d</th>\n",
       "      <td>0.000000</td>\n",
       "      <td>0.105361</td>\n",
       "      <td>0.105640</td>\n",
       "      <td>1.851089</td>\n",
       "      <td>1.833894</td>\n",
       "      <td>1.739440</td>\n",
       "    </tr>\n",
       "    <tr>\n",
       "      <th>04152a5046177496</th>\n",
       "      <td>0.000558</td>\n",
       "      <td>0.069993</td>\n",
       "      <td>0.070830</td>\n",
       "      <td>1.851089</td>\n",
       "      <td>2.309624</td>\n",
       "      <td>2.139606</td>\n",
       "    </tr>\n",
       "    <tr>\n",
       "      <th>ab2c4aab8edae766</th>\n",
       "      <td>0.000279</td>\n",
       "      <td>0.123604</td>\n",
       "      <td>0.123976</td>\n",
       "      <td>1.851089</td>\n",
       "      <td>1.979879</td>\n",
       "      <td>2.139606</td>\n",
       "    </tr>\n",
       "    <tr>\n",
       "      <th>5c4112d26ef65009</th>\n",
       "      <td>0.000279</td>\n",
       "      <td>0.102941</td>\n",
       "      <td>0.103220</td>\n",
       "      <td>1.851089</td>\n",
       "      <td>1.899228</td>\n",
       "      <td>1.879947</td>\n",
       "    </tr>\n",
       "    <tr>\n",
       "      <th>28c3ade76f7e44db</th>\n",
       "      <td>0.000279</td>\n",
       "      <td>0.027178</td>\n",
       "      <td>0.028202</td>\n",
       "      <td>1.851089</td>\n",
       "      <td>3.352913</td>\n",
       "      <td>2.139606</td>\n",
       "    </tr>\n",
       "    <tr>\n",
       "      <th>c724436de8a77a82</th>\n",
       "      <td>0.000279</td>\n",
       "      <td>0.106664</td>\n",
       "      <td>0.107130</td>\n",
       "      <td>1.851089</td>\n",
       "      <td>1.899228</td>\n",
       "      <td>1.205820</td>\n",
       "    </tr>\n",
       "    <tr>\n",
       "      <th>f2380f7531c3ffad</th>\n",
       "      <td>0.000186</td>\n",
       "      <td>0.077997</td>\n",
       "      <td>0.079486</td>\n",
       "      <td>1.851089</td>\n",
       "      <td>1.607759</td>\n",
       "      <td>2.139606</td>\n",
       "    </tr>\n",
       "    <tr>\n",
       "      <th>596727663ec350ad</th>\n",
       "      <td>0.000558</td>\n",
       "      <td>0.078555</td>\n",
       "      <td>0.079021</td>\n",
       "      <td>1.851089</td>\n",
       "      <td>1.980650</td>\n",
       "      <td>1.879947</td>\n",
       "    </tr>\n",
       "  </tbody>\n",
       "</table>\n",
       "</div>"
      ],
      "text/plain": [
       "                  minLocalDateInWeek  minLocalTime  createTime  \\\n",
       "articleId                                                        \n",
       "e2170a119f872e73            0.000093      0.069248    0.069713   \n",
       "0708b74befedca04            0.000279      0.066735    0.067945   \n",
       "88e6b0e4aae7272d            0.000000      0.105361    0.105640   \n",
       "04152a5046177496            0.000558      0.069993    0.070830   \n",
       "ab2c4aab8edae766            0.000279      0.123604    0.123976   \n",
       "5c4112d26ef65009            0.000279      0.102941    0.103220   \n",
       "28c3ade76f7e44db            0.000279      0.027178    0.028202   \n",
       "c724436de8a77a82            0.000279      0.106664    0.107130   \n",
       "f2380f7531c3ffad            0.000186      0.077997    0.079486   \n",
       "596727663ec350ad            0.000558      0.078555    0.079021   \n",
       "\n",
       "                  articleInfo_type  articleInfo_authorName  \\\n",
       "articleId                                                    \n",
       "e2170a119f872e73          1.851089                1.899228   \n",
       "0708b74befedca04          1.851089                1.899228   \n",
       "88e6b0e4aae7272d          1.851089                1.833894   \n",
       "04152a5046177496          1.851089                2.309624   \n",
       "ab2c4aab8edae766          1.851089                1.979879   \n",
       "5c4112d26ef65009          1.851089                1.899228   \n",
       "28c3ade76f7e44db          1.851089                3.352913   \n",
       "c724436de8a77a82          1.851089                1.899228   \n",
       "f2380f7531c3ffad          1.851089                1.607759   \n",
       "596727663ec350ad          1.851089                1.980650   \n",
       "\n",
       "                  articleInfo_section  \n",
       "articleId                              \n",
       "e2170a119f872e73             1.679281  \n",
       "0708b74befedca04             1.594471  \n",
       "88e6b0e4aae7272d             1.739440  \n",
       "04152a5046177496             2.139606  \n",
       "ab2c4aab8edae766             2.139606  \n",
       "5c4112d26ef65009             1.879947  \n",
       "28c3ade76f7e44db             2.139606  \n",
       "c724436de8a77a82             1.205820  \n",
       "f2380f7531c3ffad             2.139606  \n",
       "596727663ec350ad             1.879947  "
      ]
     },
     "execution_count": 112,
     "metadata": {},
     "output_type": "execute_result"
    }
   ],
   "source": [
    "train.iloc[cur_index - offset:cur_index][config_dict[\"static_columns\"]]"
   ]
  },
  {
   "cell_type": "code",
   "execution_count": null,
   "metadata": {
    "collapsed": true
   },
   "outputs": [],
   "source": []
  },
  {
   "cell_type": "code",
   "execution_count": null,
   "metadata": {
    "collapsed": true
   },
   "outputs": [],
   "source": []
  },
  {
   "cell_type": "code",
   "execution_count": 108,
   "metadata": {
    "collapsed": false
   },
   "outputs": [
    {
     "data": {
      "text/plain": [
       "[0.08302308265080001,\n",
       " 0.0819992553984,\n",
       " 0.063104988831,\n",
       " 0.017218912881599997,\n",
       " 0.0026991809382,\n",
       " 0.0,\n",
       " 0.0400223380491,\n",
       " 0.0396500372301,\n",
       " 0.00335070737156,\n",
       " 0.0,\n",
       " 0.0,\n",
       " 0.0,\n",
       " 0.0,\n",
       " 0.0,\n",
       " 0.0]"
      ]
     },
     "execution_count": 108,
     "metadata": {},
     "output_type": "execute_result"
    }
   ],
   "source": [
    "train_data.time_series_data[-offset][step]"
   ]
  },
  {
   "cell_type": "code",
   "execution_count": 109,
   "metadata": {
    "collapsed": false
   },
   "outputs": [
    {
     "name": "stdout",
     "output_type": "stream",
     "text": [
      "310\n"
     ]
    },
    {
     "data": {
      "text/plain": [
       "views_80min_to_90min                        0.083023\n",
       "US_counts_80min_to_90min                    0.081999\n",
       "sessionReferrer_DIRECT_80min_to_90min       0.063105\n",
       "sessionReferrer_SOCIAL_80min_to_90min       0.017219\n",
       "sessionReferrer_SEARCH_80min_to_90min       0.002699\n",
       "sessionReferrer_OTHER_80min_to_90min        0.000000\n",
       "platform_PHON_80min_to_90min                0.040022\n",
       "platform_DESK_80min_to_90min                0.039650\n",
       "platform_TBLT_80min_to_90min                0.003351\n",
       "platform_OTHR_80min_to_90min                0.000000\n",
       "pageReferrer_OTHER_80min_to_90min           0.000000\n",
       "pageReferrer_SEARCH_80min_to_90min          0.000000\n",
       "pageReferrer_DIRECT_80min_to_90min          0.000000\n",
       "pageReferrer_EMPTY_DOMAIN_80min_to_90min    0.000000\n",
       "pageReferrer_SOCIAL_80min_to_90min          0.000000\n",
       "Name: e2170a119f872e73, dtype: float64"
      ]
     },
     "execution_count": 109,
     "metadata": {},
     "output_type": "execute_result"
    }
   ],
   "source": [
    "tmp_index = cur_index - offset\n",
    "print tmp_index\n",
    "train.iloc[tmp_index][column_names[step]]"
   ]
  },
  {
   "cell_type": "code",
   "execution_count": 84,
   "metadata": {
    "collapsed": false
   },
   "outputs": [
    {
     "data": {
      "text/plain": [
       "[[0.00353685778109,\n",
       "  0.0034437825763200002,\n",
       "  0.00167535368578,\n",
       "  0.0,\n",
       "  0.0018615040953099998,\n",
       "  0.0,\n",
       "  0.0013961280714799998,\n",
       "  0.0018615040953099998,\n",
       "  0.000279225614296,\n",
       "  0.0,\n",
       "  0.0,\n",
       "  0.0018615040953099998,\n",
       "  0.00111690245719,\n",
       "  0.0005584512285930001,\n",
       "  0.0],\n",
       " [0.0136820551005,\n",
       "  0.0127513030529,\n",
       "  0.00967982129561,\n",
       "  0.00148920327625,\n",
       "  0.00251303052867,\n",
       "  0.0,\n",
       "  0.00400223380491,\n",
       "  0.00819061801936,\n",
       "  0.00148920327625,\n",
       "  0.0,\n",
       "  0.0,\n",
       "  0.0024199553239000002,\n",
       "  0.00893521965748,\n",
       "  0.000837676842889,\n",
       "  0.00148920327625],\n",
       " [0.0133097542815,\n",
       "  0.0127513030529,\n",
       "  0.010052122114700001,\n",
       "  0.000744601638124,\n",
       "  0.00251303052867,\n",
       "  0.0,\n",
       "  0.00651526433358,\n",
       "  0.006049888309750001,\n",
       "  0.000744601638124,\n",
       "  0.0,\n",
       "  0.0,\n",
       "  0.00251303052867,\n",
       "  0.00912137006701,\n",
       "  0.0012099776619500001,\n",
       "  0.00046537602382699993],\n",
       " [0.0157297096054,\n",
       "  0.0149851079672,\n",
       "  0.011634400595700001,\n",
       "  0.000372300819062,\n",
       "  0.0037230081906199997,\n",
       "  0.0,\n",
       "  0.0077252419955299995,\n",
       "  0.00725986597171,\n",
       "  0.000744601638124,\n",
       "  0.0,\n",
       "  0.0,\n",
       "  0.00362993298585,\n",
       "  0.010331347729,\n",
       "  0.0013961280714799998,\n",
       "  0.000372300819062],\n",
       " [0.014612807148200001,\n",
       "  0.013402829486200002,\n",
       "  0.012937453462399998,\n",
       "  0.000186150409531,\n",
       "  0.0013961280714799998,\n",
       "  9.30752047655e-05,\n",
       "  0.00558451228593,\n",
       "  0.00819061801936,\n",
       "  0.000837676842889,\n",
       "  0.0,\n",
       "  9.30752047655e-05,\n",
       "  0.00130305286672,\n",
       "  0.01191362621,\n",
       "  0.00102382725242,\n",
       "  0.000279225614296],\n",
       " [0.0107967237528,\n",
       "  0.0104244229337,\n",
       "  0.00967982129561,\n",
       "  9.30752047655e-05,\n",
       "  0.00102382725242,\n",
       "  0.0,\n",
       "  0.00418838421445,\n",
       "  0.006142963514520001,\n",
       "  0.00046537602382699993,\n",
       "  0.0,\n",
       "  0.0,\n",
       "  0.000837676842889,\n",
       "  0.00884214445272,\n",
       "  0.0009307520476549999,\n",
       "  0.000186150409531],\n",
       " [0.011541325390899998,\n",
       "  0.010982874162299998,\n",
       "  0.0101451973194,\n",
       "  0.000372300819062,\n",
       "  0.0009307520476549999,\n",
       "  9.30752047655e-05,\n",
       "  0.0048399106478000005,\n",
       "  0.0057706626954600005,\n",
       "  0.0009307520476549999,\n",
       "  0.0,\n",
       "  9.30752047655e-05,\n",
       "  0.0009307520476549999,\n",
       "  0.00977289650037,\n",
       "  0.000372300819062,\n",
       "  0.000372300819062],\n",
       " [0.011634400595700001,\n",
       "  0.010982874162299998,\n",
       "  0.0108897989576,\n",
       "  0.000186150409531,\n",
       "  0.0005584512285930001,\n",
       "  0.0,\n",
       "  0.0051191362621,\n",
       "  0.00530528667163,\n",
       "  0.0012099776619500001,\n",
       "  0.0,\n",
       "  0.0,\n",
       "  0.000651526433358,\n",
       "  0.00977289650037,\n",
       "  0.00102382725242,\n",
       "  0.000186150409531],\n",
       " [0.010982874162299998,\n",
       "  0.0105174981385,\n",
       "  0.0106105733433,\n",
       "  0.0,\n",
       "  0.000372300819062,\n",
       "  0.0,\n",
       "  0.00530528667163,\n",
       "  0.004653760238270001,\n",
       "  0.00102382725242,\n",
       "  0.0,\n",
       "  0.0,\n",
       "  0.000372300819062,\n",
       "  0.00977289650037,\n",
       "  0.000837676842889,\n",
       "  0.0],\n",
       " [0.0114482501862,\n",
       "  0.010982874162299998,\n",
       "  0.0105174981385,\n",
       "  0.00046537602382699993,\n",
       "  0.000372300819062,\n",
       "  9.30752047655e-05,\n",
       "  0.00446760982874,\n",
       "  0.005026061057329999,\n",
       "  0.00195457930007,\n",
       "  0.0,\n",
       "  0.0,\n",
       "  0.000279225614296,\n",
       "  0.0099590469099,\n",
       "  0.000837676842889,\n",
       "  0.000372300819062],\n",
       " [0.0125651526433,\n",
       "  0.011541325390899998,\n",
       "  0.0118205510052,\n",
       "  0.000279225614296,\n",
       "  0.000372300819062,\n",
       "  9.30752047655e-05,\n",
       "  0.0048399106478000005,\n",
       "  0.006049888309750001,\n",
       "  0.00167535368578,\n",
       "  0.0,\n",
       "  9.30752047655e-05,\n",
       "  0.000372300819062,\n",
       "  0.010982874162299998,\n",
       "  0.0009307520476549999,\n",
       "  0.000186150409531],\n",
       " [0.011634400595700001,\n",
       "  0.0108897989576,\n",
       "  0.0107967237528,\n",
       "  0.000279225614296,\n",
       "  0.0005584512285930001,\n",
       "  0.0,\n",
       "  0.00381608339538,\n",
       "  0.00642218912882,\n",
       "  0.0013961280714799998,\n",
       "  0.0,\n",
       "  0.0,\n",
       "  0.000279225614296,\n",
       "  0.0107967237528,\n",
       "  0.000372300819062,\n",
       "  0.000186150409531]]"
      ]
     },
     "execution_count": 84,
     "metadata": {},
     "output_type": "execute_result"
    }
   ],
   "source": [
    "train_data.time_series_data[-offset]"
   ]
  },
  {
   "cell_type": "code",
   "execution_count": null,
   "metadata": {
    "collapsed": true
   },
   "outputs": [],
   "source": []
  },
  {
   "cell_type": "code",
   "execution_count": null,
   "metadata": {
    "collapsed": true
   },
   "outputs": [],
   "source": []
  },
  {
   "cell_type": "code",
   "execution_count": null,
   "metadata": {
    "collapsed": true
   },
   "outputs": [],
   "source": []
  },
  {
   "cell_type": "code",
   "execution_count": 43,
   "metadata": {
    "collapsed": false
   },
   "outputs": [
    {
     "data": {
      "text/plain": [
       "[0.000279225614296,\n",
       " 0.0819992553984,\n",
       " 0.08265078183170001,\n",
       " 1.8510885138799997,\n",
       " 1.9806503297599998,\n",
       " 1.87994728572]"
      ]
     },
     "execution_count": 43,
     "metadata": {},
     "output_type": "execute_result"
    }
   ],
   "source": [
    "train_data.meta_data[10]"
   ]
  },
  {
   "cell_type": "code",
   "execution_count": 40,
   "metadata": {
    "collapsed": false
   },
   "outputs": [
    {
     "data": {
      "text/plain": [
       "[0.000279225614296,\n",
       " 0.0819992553984,\n",
       " 0.08265078183170001,\n",
       " 1.8510885138799997,\n",
       " 1.9806503297599998,\n",
       " 1.87994728572]"
      ]
     },
     "execution_count": 40,
     "metadata": {},
     "output_type": "execute_result"
    }
   ],
   "source": [
    "train_data.meta_data[10]"
   ]
  },
  {
   "cell_type": "code",
   "execution_count": null,
   "metadata": {
    "collapsed": true
   },
   "outputs": [],
   "source": []
  },
  {
   "cell_type": "code",
   "execution_count": null,
   "metadata": {
    "collapsed": false
   },
   "outputs": [],
   "source": [
    "train_data.target[0]"
   ]
  },
  {
   "cell_type": "code",
   "execution_count": null,
   "metadata": {
    "collapsed": false
   },
   "outputs": [],
   "source": [
    "train.iloc[0][column_names[0]]"
   ]
  },
  {
   "cell_type": "code",
   "execution_count": null,
   "metadata": {
    "collapsed": true
   },
   "outputs": [],
   "source": []
  },
  {
   "cell_type": "code",
   "execution_count": null,
   "metadata": {
    "collapsed": true
   },
   "outputs": [],
   "source": []
  },
  {
   "cell_type": "code",
   "execution_count": null,
   "metadata": {
    "collapsed": false
   },
   "outputs": [],
   "source": [
    "%timeit train_data = data_generator.next_batch(256)"
   ]
  },
  {
   "cell_type": "code",
   "execution_count": null,
   "metadata": {
    "collapsed": false
   },
   "outputs": [],
   "source": [
    "%timeit train_data = data_generator.next_batch(4000)"
   ]
  },
  {
   "cell_type": "code",
   "execution_count": null,
   "metadata": {
    "collapsed": true
   },
   "outputs": [],
   "source": []
  },
  {
   "cell_type": "code",
   "execution_count": null,
   "metadata": {
    "collapsed": true
   },
   "outputs": [],
   "source": []
  },
  {
   "cell_type": "code",
   "execution_count": null,
   "metadata": {
    "collapsed": false
   },
   "outputs": [],
   "source": [
    "data_generator = SeriesDataGenerator(train, config_dict)\n",
    "test_generator = SeriesDataGenerator(valid_data, config_dict)"
   ]
  },
  {
   "cell_type": "code",
   "execution_count": null,
   "metadata": {
    "collapsed": true
   },
   "outputs": [],
   "source": []
  },
  {
   "cell_type": "code",
   "execution_count": null,
   "metadata": {
    "collapsed": true
   },
   "outputs": [],
   "source": [
    "batch_size = data_generator.get_total_counts()"
   ]
  },
  {
   "cell_type": "code",
   "execution_count": null,
   "metadata": {
    "collapsed": false
   },
   "outputs": [],
   "source": [
    "%timeit data = data_generator.next_batch(batch_size)"
   ]
  },
  {
   "cell_type": "code",
   "execution_count": null,
   "metadata": {
    "collapsed": false
   },
   "outputs": [],
   "source": [
    "indexes = train.index"
   ]
  },
  {
   "cell_type": "code",
   "execution_count": null,
   "metadata": {
    "collapsed": false
   },
   "outputs": [],
   "source": [
    "train.loc[indexes[:5]]"
   ]
  },
  {
   "cell_type": "code",
   "execution_count": null,
   "metadata": {
    "collapsed": false
   },
   "outputs": [],
   "source": [
    "train.head()"
   ]
  },
  {
   "cell_type": "code",
   "execution_count": null,
   "metadata": {
    "collapsed": false
   },
   "outputs": [],
   "source": [
    "df = train.sample(frac=1)"
   ]
  },
  {
   "cell_type": "code",
   "execution_count": null,
   "metadata": {
    "collapsed": false
   },
   "outputs": [],
   "source": [
    "df.head()"
   ]
  },
  {
   "cell_type": "code",
   "execution_count": null,
   "metadata": {
    "collapsed": false
   },
   "outputs": [],
   "source": [
    "df.loc['fe14a0c51595d6b2']"
   ]
  },
  {
   "cell_type": "code",
   "execution_count": null,
   "metadata": {
    "collapsed": false
   },
   "outputs": [],
   "source": [
    "len(train.index.unique())"
   ]
  },
  {
   "cell_type": "code",
   "execution_count": null,
   "metadata": {
    "collapsed": false
   },
   "outputs": [],
   "source": [
    "config_dict[\"static_columns\"]"
   ]
  },
  {
   "cell_type": "code",
   "execution_count": null,
   "metadata": {
    "collapsed": false,
    "scrolled": true
   },
   "outputs": [],
   "source": [
    "content = train.loc[indexes[:5]][config_dict[\"static_columns\"]].values.tolist()"
   ]
  },
  {
   "cell_type": "code",
   "execution_count": null,
   "metadata": {
    "collapsed": false
   },
   "outputs": [],
   "source": [
    "train.loc[indexes[5]][config_dict[\"label_column\"]].tolist()"
   ]
  },
  {
   "cell_type": "code",
   "execution_count": null,
   "metadata": {
    "collapsed": false
   },
   "outputs": [],
   "source": [
    "content"
   ]
  },
  {
   "cell_type": "code",
   "execution_count": null,
   "metadata": {
    "collapsed": false
   },
   "outputs": [],
   "source": [
    "[[elem] for elem in train.loc[indexes[:5]][config_dict[\"label_column\"]]]"
   ]
  },
  {
   "cell_type": "code",
   "execution_count": null,
   "metadata": {
    "collapsed": false
   },
   "outputs": [],
   "source": [
    "len(content)"
   ]
  },
  {
   "cell_type": "code",
   "execution_count": null,
   "metadata": {
    "collapsed": false
   },
   "outputs": [],
   "source": [
    "meta_data = train.loc[indexes[:5]][config_dict[\"static_columns\"]].values.tolist()\n",
    "target = [[elem] for elem in train.loc[indexes[:5]][config_dict[\"label_column\"]]]"
   ]
  },
  {
   "cell_type": "code",
   "execution_count": null,
   "metadata": {
    "collapsed": false
   },
   "outputs": [],
   "source": [
    "meta_data"
   ]
  },
  {
   "cell_type": "code",
   "execution_count": null,
   "metadata": {
    "collapsed": true
   },
   "outputs": [],
   "source": []
  }
 ],
 "metadata": {
  "kernelspec": {
   "display_name": "Python 2",
   "language": "python",
   "name": "python2"
  },
  "language_info": {
   "codemirror_mode": {
    "name": "ipython",
    "version": 2
   },
   "file_extension": ".py",
   "mimetype": "text/x-python",
   "name": "python",
   "nbconvert_exporter": "python",
   "pygments_lexer": "ipython2",
   "version": "2.7.10"
  }
 },
 "nbformat": 4,
 "nbformat_minor": 2
}
