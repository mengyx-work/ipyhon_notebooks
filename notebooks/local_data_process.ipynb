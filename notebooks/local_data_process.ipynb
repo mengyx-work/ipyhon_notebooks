{
 "cells": [
  {
   "cell_type": "code",
   "execution_count": 15,
   "metadata": {
    "collapsed": true
   },
   "outputs": [],
   "source": [
    "%matplotlib inline  \n",
    "import os, sys, yaml, tempfile\n",
    "sys.path.append(\"/Users/matt.meng/dev/rnn_regressor\")\n",
    "import tensorflow as tf\n",
    "import pandas as pd"
   ]
  },
  {
   "cell_type": "code",
   "execution_count": 2,
   "metadata": {
    "collapsed": true
   },
   "outputs": [],
   "source": [
    "from data_preprocess import load_training_data_from_gcs\n",
    "from google_cloud_storage_util import GCS_Bucket"
   ]
  },
  {
   "cell_type": "code",
   "execution_count": 3,
   "metadata": {
    "collapsed": true
   },
   "outputs": [],
   "source": [
    "GCS_path = 'test/ML'\n",
    "yaml_file_name = 'training_configuration.yaml'\n",
    "processed_data_yaml_file = 'processed_data_configuration.yaml'"
   ]
  },
  {
   "cell_type": "code",
   "execution_count": 4,
   "metadata": {
    "collapsed": true
   },
   "outputs": [],
   "source": [
    "config_dict, local_data_file = load_training_data_from_gcs(GCS_path, yaml_file_name)"
   ]
  },
  {
   "cell_type": "code",
   "execution_count": 5,
   "metadata": {
    "collapsed": false
   },
   "outputs": [
    {
     "data": {
      "text/plain": [
       "{'GCS_path': 'test/ML',\n",
       " 'data_file_name': 'NYDN_240min_fullWindow_120min_exposure_600seconds_interval_target_24hr_data.csv',\n",
       " 'index_column': 'articleId',\n",
       " 'label_column': 'total_views',\n",
       " 'static_columns': ['minLocalDateInWeek',\n",
       "  'minLocalTime',\n",
       "  'createTime',\n",
       "  'articleInfo_type',\n",
       "  'articleInfo_authorName',\n",
       "  'articleInfo_section'],\n",
       " 'time_interval_columns': ['views',\n",
       "  'US_counts',\n",
       "  'sessionReferrer_DIRECT',\n",
       "  'sessionReferrer_SOCIAL',\n",
       "  'sessionReferrer_SEARCH',\n",
       "  'sessionReferrer_OTHER',\n",
       "  'platform_PHON',\n",
       "  'platform_DESK',\n",
       "  'platform_TBLT',\n",
       "  'platform_OTHR',\n",
       "  'pageReferrer_OTHER',\n",
       "  'pageReferrer_SEARCH',\n",
       "  'pageReferrer_DIRECT',\n",
       "  'pageReferrer_EMPTY_DOMAIN',\n",
       "  'pageReferrer_SOCIAL'],\n",
       " 'time_step_list': ['0min_to_10min',\n",
       "  '10min_to_20min',\n",
       "  '20min_to_30min',\n",
       "  '30min_to_40min',\n",
       "  '40min_to_50min',\n",
       "  '50min_to_60min',\n",
       "  '60min_to_70min',\n",
       "  '70min_to_80min',\n",
       "  '80min_to_90min',\n",
       "  '90min_to_100min']}"
      ]
     },
     "execution_count": 5,
     "metadata": {},
     "output_type": "execute_result"
    }
   ],
   "source": [
    "config_dict"
   ]
  },
  {
   "cell_type": "code",
   "execution_count": 6,
   "metadata": {
    "collapsed": true
   },
   "outputs": [],
   "source": [
    "target_name = config_dict['label_column']"
   ]
  },
  {
   "cell_type": "code",
   "execution_count": 7,
   "metadata": {
    "collapsed": true
   },
   "outputs": [],
   "source": [
    "data = pd.read_csv(local_data_file, index_col=config_dict['index_column'])"
   ]
  },
  {
   "cell_type": "code",
   "execution_count": 8,
   "metadata": {
    "collapsed": false
   },
   "outputs": [
    {
     "data": {
      "text/html": [
       "<div>\n",
       "<table border=\"1\" class=\"dataframe\">\n",
       "  <thead>\n",
       "    <tr style=\"text-align: right;\">\n",
       "      <th></th>\n",
       "      <th>total_views</th>\n",
       "      <th>views_0min_to_10min</th>\n",
       "      <th>views_10min_to_20min</th>\n",
       "      <th>views_20min_to_30min</th>\n",
       "      <th>views_30min_to_40min</th>\n",
       "      <th>views_40min_to_50min</th>\n",
       "      <th>views_50min_to_60min</th>\n",
       "      <th>views_60min_to_70min</th>\n",
       "      <th>views_70min_to_80min</th>\n",
       "      <th>views_80min_to_90min</th>\n",
       "      <th>...</th>\n",
       "      <th>pageReferrer_SOCIAL_80min_to_90min</th>\n",
       "      <th>pageReferrer_SOCIAL_90min_to_100min</th>\n",
       "      <th>pageReferrer_SOCIAL_100min_to_110min</th>\n",
       "      <th>pageReferrer_SOCIAL_110min_to_120min</th>\n",
       "      <th>minLocalDateInWeek</th>\n",
       "      <th>minLocalTime</th>\n",
       "      <th>createTime</th>\n",
       "      <th>articleInfo_type</th>\n",
       "      <th>articleInfo_authorName</th>\n",
       "      <th>articleInfo_section</th>\n",
       "    </tr>\n",
       "    <tr>\n",
       "      <th>articleId</th>\n",
       "      <th></th>\n",
       "      <th></th>\n",
       "      <th></th>\n",
       "      <th></th>\n",
       "      <th></th>\n",
       "      <th></th>\n",
       "      <th></th>\n",
       "      <th></th>\n",
       "      <th></th>\n",
       "      <th></th>\n",
       "      <th></th>\n",
       "      <th></th>\n",
       "      <th></th>\n",
       "      <th></th>\n",
       "      <th></th>\n",
       "      <th></th>\n",
       "      <th></th>\n",
       "      <th></th>\n",
       "      <th></th>\n",
       "      <th></th>\n",
       "      <th></th>\n",
       "    </tr>\n",
       "  </thead>\n",
       "  <tbody>\n",
       "    <tr>\n",
       "      <th>002aa1aeac470688</th>\n",
       "      <td>22220</td>\n",
       "      <td>33.0</td>\n",
       "      <td>131.0</td>\n",
       "      <td>87.0</td>\n",
       "      <td>182.0</td>\n",
       "      <td>273.0</td>\n",
       "      <td>267.0</td>\n",
       "      <td>279.0</td>\n",
       "      <td>252.0</td>\n",
       "      <td>230.0</td>\n",
       "      <td>...</td>\n",
       "      <td>34.0</td>\n",
       "      <td>27.0</td>\n",
       "      <td>30.0</td>\n",
       "      <td>34.0</td>\n",
       "      <td>0.0</td>\n",
       "      <td>1263.0</td>\n",
       "      <td>1272.0</td>\n",
       "      <td>19802.648827</td>\n",
       "      <td>21364.080645</td>\n",
       "      <td>14080.652253</td>\n",
       "    </tr>\n",
       "    <tr>\n",
       "      <th>0041d850a2d98cc5</th>\n",
       "      <td>8368</td>\n",
       "      <td>52.0</td>\n",
       "      <td>116.0</td>\n",
       "      <td>117.0</td>\n",
       "      <td>102.0</td>\n",
       "      <td>83.0</td>\n",
       "      <td>87.0</td>\n",
       "      <td>90.0</td>\n",
       "      <td>88.0</td>\n",
       "      <td>87.0</td>\n",
       "      <td>...</td>\n",
       "      <td>1.0</td>\n",
       "      <td>0.0</td>\n",
       "      <td>0.0</td>\n",
       "      <td>0.0</td>\n",
       "      <td>6.0</td>\n",
       "      <td>1044.0</td>\n",
       "      <td>1048.0</td>\n",
       "      <td>18123.160839</td>\n",
       "      <td>13408.365079</td>\n",
       "      <td>20232.002640</td>\n",
       "    </tr>\n",
       "    <tr>\n",
       "      <th>004d3c3d30b769f3</th>\n",
       "      <td>10927</td>\n",
       "      <td>63.0</td>\n",
       "      <td>205.0</td>\n",
       "      <td>242.0</td>\n",
       "      <td>258.0</td>\n",
       "      <td>215.0</td>\n",
       "      <td>217.0</td>\n",
       "      <td>177.0</td>\n",
       "      <td>186.0</td>\n",
       "      <td>196.0</td>\n",
       "      <td>...</td>\n",
       "      <td>9.0</td>\n",
       "      <td>7.0</td>\n",
       "      <td>13.0</td>\n",
       "      <td>4.0</td>\n",
       "      <td>2.0</td>\n",
       "      <td>1196.0</td>\n",
       "      <td>1199.0</td>\n",
       "      <td>19802.648827</td>\n",
       "      <td>9356.027586</td>\n",
       "      <td>14080.652253</td>\n",
       "    </tr>\n",
       "    <tr>\n",
       "      <th>00553f953ae05383</th>\n",
       "      <td>9344</td>\n",
       "      <td>0.0</td>\n",
       "      <td>0.0</td>\n",
       "      <td>0.0</td>\n",
       "      <td>399.0</td>\n",
       "      <td>678.0</td>\n",
       "      <td>535.0</td>\n",
       "      <td>679.0</td>\n",
       "      <td>555.0</td>\n",
       "      <td>363.0</td>\n",
       "      <td>...</td>\n",
       "      <td>13.0</td>\n",
       "      <td>10.0</td>\n",
       "      <td>13.0</td>\n",
       "      <td>5.0</td>\n",
       "      <td>2.0</td>\n",
       "      <td>644.0</td>\n",
       "      <td>678.0</td>\n",
       "      <td>19802.648827</td>\n",
       "      <td>18252.402778</td>\n",
       "      <td>23475.380183</td>\n",
       "    </tr>\n",
       "    <tr>\n",
       "      <th>0062fedc0669a575</th>\n",
       "      <td>9741</td>\n",
       "      <td>117.0</td>\n",
       "      <td>211.0</td>\n",
       "      <td>184.0</td>\n",
       "      <td>178.0</td>\n",
       "      <td>174.0</td>\n",
       "      <td>161.0</td>\n",
       "      <td>193.0</td>\n",
       "      <td>154.0</td>\n",
       "      <td>185.0</td>\n",
       "      <td>...</td>\n",
       "      <td>43.0</td>\n",
       "      <td>34.0</td>\n",
       "      <td>38.0</td>\n",
       "      <td>34.0</td>\n",
       "      <td>0.0</td>\n",
       "      <td>666.0</td>\n",
       "      <td>671.0</td>\n",
       "      <td>19802.648827</td>\n",
       "      <td>24216.654546</td>\n",
       "      <td>14080.652253</td>\n",
       "    </tr>\n",
       "  </tbody>\n",
       "</table>\n",
       "<p>5 rows × 187 columns</p>\n",
       "</div>"
      ],
      "text/plain": [
       "                  total_views  views_0min_to_10min  views_10min_to_20min  \\\n",
       "articleId                                                                  \n",
       "002aa1aeac470688        22220                 33.0                 131.0   \n",
       "0041d850a2d98cc5         8368                 52.0                 116.0   \n",
       "004d3c3d30b769f3        10927                 63.0                 205.0   \n",
       "00553f953ae05383         9344                  0.0                   0.0   \n",
       "0062fedc0669a575         9741                117.0                 211.0   \n",
       "\n",
       "                  views_20min_to_30min  views_30min_to_40min  \\\n",
       "articleId                                                      \n",
       "002aa1aeac470688                  87.0                 182.0   \n",
       "0041d850a2d98cc5                 117.0                 102.0   \n",
       "004d3c3d30b769f3                 242.0                 258.0   \n",
       "00553f953ae05383                   0.0                 399.0   \n",
       "0062fedc0669a575                 184.0                 178.0   \n",
       "\n",
       "                  views_40min_to_50min  views_50min_to_60min  \\\n",
       "articleId                                                      \n",
       "002aa1aeac470688                 273.0                 267.0   \n",
       "0041d850a2d98cc5                  83.0                  87.0   \n",
       "004d3c3d30b769f3                 215.0                 217.0   \n",
       "00553f953ae05383                 678.0                 535.0   \n",
       "0062fedc0669a575                 174.0                 161.0   \n",
       "\n",
       "                  views_60min_to_70min  views_70min_to_80min  \\\n",
       "articleId                                                      \n",
       "002aa1aeac470688                 279.0                 252.0   \n",
       "0041d850a2d98cc5                  90.0                  88.0   \n",
       "004d3c3d30b769f3                 177.0                 186.0   \n",
       "00553f953ae05383                 679.0                 555.0   \n",
       "0062fedc0669a575                 193.0                 154.0   \n",
       "\n",
       "                  views_80min_to_90min         ...           \\\n",
       "articleId                                      ...            \n",
       "002aa1aeac470688                 230.0         ...            \n",
       "0041d850a2d98cc5                  87.0         ...            \n",
       "004d3c3d30b769f3                 196.0         ...            \n",
       "00553f953ae05383                 363.0         ...            \n",
       "0062fedc0669a575                 185.0         ...            \n",
       "\n",
       "                  pageReferrer_SOCIAL_80min_to_90min  \\\n",
       "articleId                                              \n",
       "002aa1aeac470688                                34.0   \n",
       "0041d850a2d98cc5                                 1.0   \n",
       "004d3c3d30b769f3                                 9.0   \n",
       "00553f953ae05383                                13.0   \n",
       "0062fedc0669a575                                43.0   \n",
       "\n",
       "                  pageReferrer_SOCIAL_90min_to_100min  \\\n",
       "articleId                                               \n",
       "002aa1aeac470688                                 27.0   \n",
       "0041d850a2d98cc5                                  0.0   \n",
       "004d3c3d30b769f3                                  7.0   \n",
       "00553f953ae05383                                 10.0   \n",
       "0062fedc0669a575                                 34.0   \n",
       "\n",
       "                  pageReferrer_SOCIAL_100min_to_110min  \\\n",
       "articleId                                                \n",
       "002aa1aeac470688                                  30.0   \n",
       "0041d850a2d98cc5                                   0.0   \n",
       "004d3c3d30b769f3                                  13.0   \n",
       "00553f953ae05383                                  13.0   \n",
       "0062fedc0669a575                                  38.0   \n",
       "\n",
       "                  pageReferrer_SOCIAL_110min_to_120min  minLocalDateInWeek  \\\n",
       "articleId                                                                    \n",
       "002aa1aeac470688                                  34.0                 0.0   \n",
       "0041d850a2d98cc5                                   0.0                 6.0   \n",
       "004d3c3d30b769f3                                   4.0                 2.0   \n",
       "00553f953ae05383                                   5.0                 2.0   \n",
       "0062fedc0669a575                                  34.0                 0.0   \n",
       "\n",
       "                  minLocalTime  createTime  articleInfo_type  \\\n",
       "articleId                                                      \n",
       "002aa1aeac470688        1263.0      1272.0      19802.648827   \n",
       "0041d850a2d98cc5        1044.0      1048.0      18123.160839   \n",
       "004d3c3d30b769f3        1196.0      1199.0      19802.648827   \n",
       "00553f953ae05383         644.0       678.0      19802.648827   \n",
       "0062fedc0669a575         666.0       671.0      19802.648827   \n",
       "\n",
       "                  articleInfo_authorName  articleInfo_section  \n",
       "articleId                                                      \n",
       "002aa1aeac470688            21364.080645         14080.652253  \n",
       "0041d850a2d98cc5            13408.365079         20232.002640  \n",
       "004d3c3d30b769f3             9356.027586         14080.652253  \n",
       "00553f953ae05383            18252.402778         23475.380183  \n",
       "0062fedc0669a575            24216.654546         14080.652253  \n",
       "\n",
       "[5 rows x 187 columns]"
      ]
     },
     "execution_count": 8,
     "metadata": {},
     "output_type": "execute_result"
    }
   ],
   "source": [
    "data.head()"
   ]
  },
  {
   "cell_type": "code",
   "execution_count": 32,
   "metadata": {
    "collapsed": true
   },
   "outputs": [],
   "source": [
    "def normalized_columns_by_column_mean(data):\n",
    "    norm_dict = {}\n",
    "    processed_data = data.copy()\n",
    "    for column in processed_data.columns:\n",
    "        data_mean = processed_data[column].mean()\n",
    "        norm_dict[column] = data_mean\n",
    "        processed_data.loc[:, column] = processed_data[column] / data_mean\n",
    "    return norm_dict, processed_data\n",
    "\n",
    "def update_config_dict(config_dict, norm_dict, data_prefix='mean_normalized'):\n",
    "    processed_config_dict = config_dict.copy()\n",
    "    processed_config_dict['data_file_name'] = '{}_{}'.format(data_prefix, processed_config_dict['data_file_name'])\n",
    "    processed_config_dict['norm_dict'] = norm_dict\n",
    "    return processed_config_dict\n",
    "\n",
    "def upload_content_to_GCS(config_dict, data, processed_data_yaml_file='processed_data_configuration.yaml'):\n",
    "    local_data_file = tempfile.NamedTemporaryFile(delete=True).name\n",
    "    local_yaml_file = tempfile.NamedTemporaryFile(delete=True).name\n",
    "    data.to_csv(local_data_file)\n",
    "    print local_yaml_file\n",
    "    print local_data_file\n",
    "    with open(local_yaml_file, 'w') as output:\n",
    "        yaml.dump(config_dict, output)\n",
    "    bucket = GCS_Bucket()\n",
    "    bucket.put(local_data_file, \"{}/{}\".format(config_dict['GCS_path'], config_dict['data_file_name']))\n",
    "    bucket.put(local_yaml_file, \"{}/{}\".format(config_dict['GCS_path'], processed_data_yaml_file))\n",
    "    os.unlink(local_data_file)\n",
    "    os.unlink(local_yaml_file)"
   ]
  },
  {
   "cell_type": "code",
   "execution_count": 10,
   "metadata": {
    "collapsed": true
   },
   "outputs": [],
   "source": [
    "norm_dict, processed_data = normalized_columns_by_column_mean(data)"
   ]
  },
  {
   "cell_type": "code",
   "execution_count": 18,
   "metadata": {
    "collapsed": false
   },
   "outputs": [],
   "source": [
    "#processed_data.head()"
   ]
  },
  {
   "cell_type": "code",
   "execution_count": 12,
   "metadata": {
    "collapsed": false
   },
   "outputs": [],
   "source": [
    "processed_dict = update_config_dict(config_dict, norm_dict)"
   ]
  },
  {
   "cell_type": "code",
   "execution_count": 19,
   "metadata": {
    "collapsed": false
   },
   "outputs": [],
   "source": [
    "#processed_dict"
   ]
  },
  {
   "cell_type": "code",
   "execution_count": 33,
   "metadata": {
    "collapsed": false
   },
   "outputs": [
    {
     "name": "stdout",
     "output_type": "stream",
     "text": [
      "/var/folders/k5/nkzf3kxj2v721gq7p2nytvv48ppbxr/T/tmpSFDLIY\n",
      "/var/folders/k5/nkzf3kxj2v721gq7p2nytvv48ppbxr/T/tmps_ACaq\n"
     ]
    }
   ],
   "source": [
    "upload_content_to_GCS(processed_dict, processed_data)"
   ]
  },
  {
   "cell_type": "code",
   "execution_count": null,
   "metadata": {
    "collapsed": true
   },
   "outputs": [],
   "source": []
  },
  {
   "cell_type": "code",
   "execution_count": 35,
   "metadata": {
    "collapsed": false
   },
   "outputs": [
    {
     "name": "stdout",
     "output_type": "stream",
     "text": [
      " 20M\t/var/folders/k5/nkzf3kxj2v721gq7p2nytvv48ppbxr/T/tmps_ACaq\n"
     ]
    }
   ],
   "source": [
    "%%bash\n",
    "du -ah /var/folders/k5/nkzf3kxj2v721gq7p2nytvv48ppbxr/T/tmps_ACaq"
   ]
  },
  {
   "cell_type": "code",
   "execution_count": null,
   "metadata": {
    "collapsed": true
   },
   "outputs": [],
   "source": []
  },
  {
   "cell_type": "code",
   "execution_count": null,
   "metadata": {
    "collapsed": false
   },
   "outputs": [],
   "source": [
    "data[target_name].median()"
   ]
  },
  {
   "cell_type": "code",
   "execution_count": null,
   "metadata": {
    "collapsed": false
   },
   "outputs": [],
   "source": [
    "data_mean = data[target_name].mean()"
   ]
  },
  {
   "cell_type": "code",
   "execution_count": null,
   "metadata": {
    "collapsed": false
   },
   "outputs": [],
   "source": [
    "data_mean"
   ]
  },
  {
   "cell_type": "code",
   "execution_count": null,
   "metadata": {
    "collapsed": false
   },
   "outputs": [],
   "source": [
    "data.loc[:, target_name] = data[target_name] / data_mean"
   ]
  },
  {
   "cell_type": "code",
   "execution_count": null,
   "metadata": {
    "collapsed": false
   },
   "outputs": [],
   "source": [
    "data.loc[target_name] = data[target_name] / data_mean"
   ]
  },
  {
   "cell_type": "code",
   "execution_count": null,
   "metadata": {
    "collapsed": false
   },
   "outputs": [],
   "source": [
    "data.loc[data[target_name] > 10, target_name].hist(bins=50)"
   ]
  },
  {
   "cell_type": "code",
   "execution_count": null,
   "metadata": {
    "collapsed": true
   },
   "outputs": [],
   "source": []
  }
 ],
 "metadata": {
  "kernelspec": {
   "display_name": "Python 2",
   "language": "python",
   "name": "python2"
  },
  "language_info": {
   "codemirror_mode": {
    "name": "ipython",
    "version": 2
   },
   "file_extension": ".py",
   "mimetype": "text/x-python",
   "name": "python",
   "nbconvert_exporter": "python",
   "pygments_lexer": "ipython2",
   "version": "2.7.10"
  }
 },
 "nbformat": 4,
 "nbformat_minor": 2
}
