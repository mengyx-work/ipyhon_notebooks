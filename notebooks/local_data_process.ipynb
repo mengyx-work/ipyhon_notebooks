{
 "cells": [
  {
   "cell_type": "code",
   "execution_count": 2,
   "metadata": {
    "collapsed": true
   },
   "outputs": [],
   "source": [
    "%matplotlib inline  \n",
    "import os, sys, yaml, tempfile\n",
    "sys.path.append(\"/Users/matt.meng/dev/rnn_regressor\")\n",
    "import tensorflow as tf\n",
    "import pandas as pd"
   ]
  },
  {
   "cell_type": "code",
   "execution_count": 3,
   "metadata": {
    "collapsed": true
   },
   "outputs": [],
   "source": [
    "from data_preprocess import load_training_data_from_gcs\n",
    "from google_cloud_storage_util import GCS_Bucket"
   ]
  },
  {
   "cell_type": "code",
   "execution_count": 4,
   "metadata": {
    "collapsed": true
   },
   "outputs": [],
   "source": [
    "GCS_path = 'test/ML'\n",
    "yaml_file_name = 'training_configuration.yaml'\n",
    "processed_data_yaml_file = 'processed_data_configuration.yaml'"
   ]
  },
  {
   "cell_type": "code",
   "execution_count": 5,
   "metadata": {
    "collapsed": true
   },
   "outputs": [],
   "source": [
    "config_dict, local_data_file = load_training_data_from_gcs(GCS_path, yaml_file_name)"
   ]
  },
  {
   "cell_type": "code",
   "execution_count": 6,
   "metadata": {
    "collapsed": false
   },
   "outputs": [
    {
     "data": {
      "text/plain": [
       "{'GCS_path': 'test/ML',\n",
       " 'data_file_name': 'NYDN_240min_fullWindow_120min_exposure_600seconds_interval_target_24hr_data.csv',\n",
       " 'index_column': 'articleId',\n",
       " 'label_column': 'total_views',\n",
       " 'static_columns': ['minLocalDateInWeek',\n",
       "  'minLocalTime',\n",
       "  'createTime',\n",
       "  'articleInfo_type',\n",
       "  'articleInfo_authorName',\n",
       "  'articleInfo_section'],\n",
       " 'time_interval_columns': ['views',\n",
       "  'US_counts',\n",
       "  'sessionReferrer_DIRECT',\n",
       "  'sessionReferrer_SOCIAL',\n",
       "  'sessionReferrer_SEARCH',\n",
       "  'sessionReferrer_OTHER',\n",
       "  'platform_PHON',\n",
       "  'platform_DESK',\n",
       "  'platform_TBLT',\n",
       "  'platform_OTHR',\n",
       "  'pageReferrer_OTHER',\n",
       "  'pageReferrer_SEARCH',\n",
       "  'pageReferrer_DIRECT',\n",
       "  'pageReferrer_EMPTY_DOMAIN',\n",
       "  'pageReferrer_SOCIAL'],\n",
       " 'time_step_list': ['0min_to_10min',\n",
       "  '10min_to_20min',\n",
       "  '20min_to_30min',\n",
       "  '30min_to_40min',\n",
       "  '40min_to_50min',\n",
       "  '50min_to_60min',\n",
       "  '60min_to_70min',\n",
       "  '70min_to_80min',\n",
       "  '80min_to_90min',\n",
       "  '90min_to_100min']}"
      ]
     },
     "execution_count": 6,
     "metadata": {},
     "output_type": "execute_result"
    }
   ],
   "source": [
    "config_dict"
   ]
  },
  {
   "cell_type": "code",
   "execution_count": 7,
   "metadata": {
    "collapsed": true
   },
   "outputs": [],
   "source": [
    "target_name = config_dict['label_column']"
   ]
  },
  {
   "cell_type": "code",
   "execution_count": 18,
   "metadata": {
    "collapsed": false
   },
   "outputs": [
    {
     "name": "stdout",
     "output_type": "stream",
     "text": [
      "10637.0 19773.2130163\n"
     ]
    }
   ],
   "source": [
    "print data[target_name].median(), data[target_name].mean()"
   ]
  },
  {
   "cell_type": "code",
   "execution_count": null,
   "metadata": {
    "collapsed": true
   },
   "outputs": [],
   "source": []
  },
  {
   "cell_type": "code",
   "execution_count": 8,
   "metadata": {
    "collapsed": true
   },
   "outputs": [],
   "source": [
    "data = pd.read_csv(local_data_file, index_col=config_dict['index_column'])"
   ]
  },
  {
   "cell_type": "code",
   "execution_count": 16,
   "metadata": {
    "collapsed": false
   },
   "outputs": [
    {
     "data": {
      "text/html": [
       "<div>\n",
       "<table border=\"1\" class=\"dataframe\">\n",
       "  <thead>\n",
       "    <tr style=\"text-align: right;\">\n",
       "      <th></th>\n",
       "      <th>total_views</th>\n",
       "      <th>views_0min_to_10min</th>\n",
       "      <th>views_10min_to_20min</th>\n",
       "      <th>views_20min_to_30min</th>\n",
       "      <th>views_30min_to_40min</th>\n",
       "      <th>views_40min_to_50min</th>\n",
       "      <th>views_50min_to_60min</th>\n",
       "      <th>views_60min_to_70min</th>\n",
       "      <th>views_70min_to_80min</th>\n",
       "      <th>views_80min_to_90min</th>\n",
       "      <th>...</th>\n",
       "      <th>pageReferrer_SOCIAL_80min_to_90min</th>\n",
       "      <th>pageReferrer_SOCIAL_90min_to_100min</th>\n",
       "      <th>pageReferrer_SOCIAL_100min_to_110min</th>\n",
       "      <th>pageReferrer_SOCIAL_110min_to_120min</th>\n",
       "      <th>minLocalDateInWeek</th>\n",
       "      <th>minLocalTime</th>\n",
       "      <th>createTime</th>\n",
       "      <th>articleInfo_type</th>\n",
       "      <th>articleInfo_authorName</th>\n",
       "      <th>articleInfo_section</th>\n",
       "    </tr>\n",
       "    <tr>\n",
       "      <th>articleId</th>\n",
       "      <th></th>\n",
       "      <th></th>\n",
       "      <th></th>\n",
       "      <th></th>\n",
       "      <th></th>\n",
       "      <th></th>\n",
       "      <th></th>\n",
       "      <th></th>\n",
       "      <th></th>\n",
       "      <th></th>\n",
       "      <th></th>\n",
       "      <th></th>\n",
       "      <th></th>\n",
       "      <th></th>\n",
       "      <th></th>\n",
       "      <th></th>\n",
       "      <th></th>\n",
       "      <th></th>\n",
       "      <th></th>\n",
       "      <th></th>\n",
       "      <th></th>\n",
       "    </tr>\n",
       "  </thead>\n",
       "  <tbody>\n",
       "    <tr>\n",
       "      <th>002aa1aeac470688</th>\n",
       "      <td>22220</td>\n",
       "      <td>33.0</td>\n",
       "      <td>131.0</td>\n",
       "      <td>87.0</td>\n",
       "      <td>182.0</td>\n",
       "      <td>273.0</td>\n",
       "      <td>267.0</td>\n",
       "      <td>279.0</td>\n",
       "      <td>252.0</td>\n",
       "      <td>230.0</td>\n",
       "      <td>...</td>\n",
       "      <td>34.0</td>\n",
       "      <td>27.0</td>\n",
       "      <td>30.0</td>\n",
       "      <td>34.0</td>\n",
       "      <td>0.0</td>\n",
       "      <td>1263.0</td>\n",
       "      <td>1272.0</td>\n",
       "      <td>19802.648827</td>\n",
       "      <td>21364.080645</td>\n",
       "      <td>14080.652253</td>\n",
       "    </tr>\n",
       "    <tr>\n",
       "      <th>0041d850a2d98cc5</th>\n",
       "      <td>8368</td>\n",
       "      <td>52.0</td>\n",
       "      <td>116.0</td>\n",
       "      <td>117.0</td>\n",
       "      <td>102.0</td>\n",
       "      <td>83.0</td>\n",
       "      <td>87.0</td>\n",
       "      <td>90.0</td>\n",
       "      <td>88.0</td>\n",
       "      <td>87.0</td>\n",
       "      <td>...</td>\n",
       "      <td>1.0</td>\n",
       "      <td>0.0</td>\n",
       "      <td>0.0</td>\n",
       "      <td>0.0</td>\n",
       "      <td>6.0</td>\n",
       "      <td>1044.0</td>\n",
       "      <td>1048.0</td>\n",
       "      <td>18123.160839</td>\n",
       "      <td>13408.365079</td>\n",
       "      <td>20232.002640</td>\n",
       "    </tr>\n",
       "    <tr>\n",
       "      <th>004d3c3d30b769f3</th>\n",
       "      <td>10927</td>\n",
       "      <td>63.0</td>\n",
       "      <td>205.0</td>\n",
       "      <td>242.0</td>\n",
       "      <td>258.0</td>\n",
       "      <td>215.0</td>\n",
       "      <td>217.0</td>\n",
       "      <td>177.0</td>\n",
       "      <td>186.0</td>\n",
       "      <td>196.0</td>\n",
       "      <td>...</td>\n",
       "      <td>9.0</td>\n",
       "      <td>7.0</td>\n",
       "      <td>13.0</td>\n",
       "      <td>4.0</td>\n",
       "      <td>2.0</td>\n",
       "      <td>1196.0</td>\n",
       "      <td>1199.0</td>\n",
       "      <td>19802.648827</td>\n",
       "      <td>9356.027586</td>\n",
       "      <td>14080.652253</td>\n",
       "    </tr>\n",
       "    <tr>\n",
       "      <th>00553f953ae05383</th>\n",
       "      <td>9344</td>\n",
       "      <td>0.0</td>\n",
       "      <td>0.0</td>\n",
       "      <td>0.0</td>\n",
       "      <td>399.0</td>\n",
       "      <td>678.0</td>\n",
       "      <td>535.0</td>\n",
       "      <td>679.0</td>\n",
       "      <td>555.0</td>\n",
       "      <td>363.0</td>\n",
       "      <td>...</td>\n",
       "      <td>13.0</td>\n",
       "      <td>10.0</td>\n",
       "      <td>13.0</td>\n",
       "      <td>5.0</td>\n",
       "      <td>2.0</td>\n",
       "      <td>644.0</td>\n",
       "      <td>678.0</td>\n",
       "      <td>19802.648827</td>\n",
       "      <td>18252.402778</td>\n",
       "      <td>23475.380183</td>\n",
       "    </tr>\n",
       "    <tr>\n",
       "      <th>0062fedc0669a575</th>\n",
       "      <td>9741</td>\n",
       "      <td>117.0</td>\n",
       "      <td>211.0</td>\n",
       "      <td>184.0</td>\n",
       "      <td>178.0</td>\n",
       "      <td>174.0</td>\n",
       "      <td>161.0</td>\n",
       "      <td>193.0</td>\n",
       "      <td>154.0</td>\n",
       "      <td>185.0</td>\n",
       "      <td>...</td>\n",
       "      <td>43.0</td>\n",
       "      <td>34.0</td>\n",
       "      <td>38.0</td>\n",
       "      <td>34.0</td>\n",
       "      <td>0.0</td>\n",
       "      <td>666.0</td>\n",
       "      <td>671.0</td>\n",
       "      <td>19802.648827</td>\n",
       "      <td>24216.654546</td>\n",
       "      <td>14080.652253</td>\n",
       "    </tr>\n",
       "  </tbody>\n",
       "</table>\n",
       "<p>5 rows × 187 columns</p>\n",
       "</div>"
      ],
      "text/plain": [
       "                  total_views  views_0min_to_10min  views_10min_to_20min  \\\n",
       "articleId                                                                  \n",
       "002aa1aeac470688        22220                 33.0                 131.0   \n",
       "0041d850a2d98cc5         8368                 52.0                 116.0   \n",
       "004d3c3d30b769f3        10927                 63.0                 205.0   \n",
       "00553f953ae05383         9344                  0.0                   0.0   \n",
       "0062fedc0669a575         9741                117.0                 211.0   \n",
       "\n",
       "                  views_20min_to_30min  views_30min_to_40min  \\\n",
       "articleId                                                      \n",
       "002aa1aeac470688                  87.0                 182.0   \n",
       "0041d850a2d98cc5                 117.0                 102.0   \n",
       "004d3c3d30b769f3                 242.0                 258.0   \n",
       "00553f953ae05383                   0.0                 399.0   \n",
       "0062fedc0669a575                 184.0                 178.0   \n",
       "\n",
       "                  views_40min_to_50min  views_50min_to_60min  \\\n",
       "articleId                                                      \n",
       "002aa1aeac470688                 273.0                 267.0   \n",
       "0041d850a2d98cc5                  83.0                  87.0   \n",
       "004d3c3d30b769f3                 215.0                 217.0   \n",
       "00553f953ae05383                 678.0                 535.0   \n",
       "0062fedc0669a575                 174.0                 161.0   \n",
       "\n",
       "                  views_60min_to_70min  views_70min_to_80min  \\\n",
       "articleId                                                      \n",
       "002aa1aeac470688                 279.0                 252.0   \n",
       "0041d850a2d98cc5                  90.0                  88.0   \n",
       "004d3c3d30b769f3                 177.0                 186.0   \n",
       "00553f953ae05383                 679.0                 555.0   \n",
       "0062fedc0669a575                 193.0                 154.0   \n",
       "\n",
       "                  views_80min_to_90min         ...           \\\n",
       "articleId                                      ...            \n",
       "002aa1aeac470688                 230.0         ...            \n",
       "0041d850a2d98cc5                  87.0         ...            \n",
       "004d3c3d30b769f3                 196.0         ...            \n",
       "00553f953ae05383                 363.0         ...            \n",
       "0062fedc0669a575                 185.0         ...            \n",
       "\n",
       "                  pageReferrer_SOCIAL_80min_to_90min  \\\n",
       "articleId                                              \n",
       "002aa1aeac470688                                34.0   \n",
       "0041d850a2d98cc5                                 1.0   \n",
       "004d3c3d30b769f3                                 9.0   \n",
       "00553f953ae05383                                13.0   \n",
       "0062fedc0669a575                                43.0   \n",
       "\n",
       "                  pageReferrer_SOCIAL_90min_to_100min  \\\n",
       "articleId                                               \n",
       "002aa1aeac470688                                 27.0   \n",
       "0041d850a2d98cc5                                  0.0   \n",
       "004d3c3d30b769f3                                  7.0   \n",
       "00553f953ae05383                                 10.0   \n",
       "0062fedc0669a575                                 34.0   \n",
       "\n",
       "                  pageReferrer_SOCIAL_100min_to_110min  \\\n",
       "articleId                                                \n",
       "002aa1aeac470688                                  30.0   \n",
       "0041d850a2d98cc5                                   0.0   \n",
       "004d3c3d30b769f3                                  13.0   \n",
       "00553f953ae05383                                  13.0   \n",
       "0062fedc0669a575                                  38.0   \n",
       "\n",
       "                  pageReferrer_SOCIAL_110min_to_120min  minLocalDateInWeek  \\\n",
       "articleId                                                                    \n",
       "002aa1aeac470688                                  34.0                 0.0   \n",
       "0041d850a2d98cc5                                   0.0                 6.0   \n",
       "004d3c3d30b769f3                                   4.0                 2.0   \n",
       "00553f953ae05383                                   5.0                 2.0   \n",
       "0062fedc0669a575                                  34.0                 0.0   \n",
       "\n",
       "                  minLocalTime  createTime  articleInfo_type  \\\n",
       "articleId                                                      \n",
       "002aa1aeac470688        1263.0      1272.0      19802.648827   \n",
       "0041d850a2d98cc5        1044.0      1048.0      18123.160839   \n",
       "004d3c3d30b769f3        1196.0      1199.0      19802.648827   \n",
       "00553f953ae05383         644.0       678.0      19802.648827   \n",
       "0062fedc0669a575         666.0       671.0      19802.648827   \n",
       "\n",
       "                  articleInfo_authorName  articleInfo_section  \n",
       "articleId                                                      \n",
       "002aa1aeac470688            21364.080645         14080.652253  \n",
       "0041d850a2d98cc5            13408.365079         20232.002640  \n",
       "004d3c3d30b769f3             9356.027586         14080.652253  \n",
       "00553f953ae05383            18252.402778         23475.380183  \n",
       "0062fedc0669a575            24216.654546         14080.652253  \n",
       "\n",
       "[5 rows x 187 columns]"
      ]
     },
     "execution_count": 16,
     "metadata": {},
     "output_type": "execute_result"
    }
   ],
   "source": [
    "data.head()"
   ]
  },
  {
   "cell_type": "code",
   "execution_count": 10,
   "metadata": {
    "collapsed": true
   },
   "outputs": [],
   "source": [
    "def normalized_columns_by_column_mean(data):\n",
    "    norm_dict = {}\n",
    "    processed_data = data.copy()\n",
    "    for column in processed_data.columns:\n",
    "        data_mean = processed_data[column].mean()\n",
    "        norm_dict[column] = data_mean\n",
    "        processed_data.loc[:, column] = processed_data[column] / data_mean\n",
    "    return norm_dict, processed_data\n",
    "\n",
    "\n",
    "def normalized_columns_by_target_max(data, target_column_name):\n",
    "    norm_dict = {}\n",
    "    processed_data = data.copy()\n",
    "    target_max = processed_data[target_column_name].max()\n",
    "    norm_dict['all_data_target_max'] = target_max\n",
    "    processed_data = processed_data / target_max\n",
    "    return norm_dict, processed_data\n",
    "\n",
    "\n",
    "def normalized_columns_by_target_median(data, target_column_name):\n",
    "    norm_dict = {}\n",
    "    processed_data = data.copy()\n",
    "    target_median = processed_data[target_column_name].median()\n",
    "    norm_dict['all_data_target_median'] = target_median\n",
    "    processed_data = processed_data / target_median\n",
    "    return norm_dict, processed_data\n",
    "\n",
    "\n",
    "def normalized_columns_by_target_mean(data, target_column_name):\n",
    "    norm_dict = {}\n",
    "    processed_data = data.copy()\n",
    "    target_mean = processed_data[target_column_name].mean()\n",
    "    norm_dict['all_data_target_mean'] = target_mean\n",
    "    processed_data = processed_data / target_mean\n",
    "    return norm_dict, processed_data\n",
    "\n",
    "\n",
    "def update_config_dict(config_dict, norm_dict, data_prefix='mean_normalized'):\n",
    "    processed_config_dict = config_dict.copy()\n",
    "    processed_config_dict['data_file_name'] = '{}_{}'.format(data_prefix, processed_config_dict['data_file_name'])\n",
    "    processed_config_dict['norm_dict'] = norm_dict\n",
    "    return processed_config_dict\n",
    "\n",
    "def upload_content_to_GCS(config_dict, data, processed_data_yaml_file='processed_data_configuration.yaml'):\n",
    "    local_data_file = tempfile.NamedTemporaryFile(delete=True).name\n",
    "    local_yaml_file = tempfile.NamedTemporaryFile(delete=True).name\n",
    "    data.to_csv(local_data_file)\n",
    "    print local_yaml_file\n",
    "    print local_data_file\n",
    "    with open(local_yaml_file, 'w') as output:\n",
    "        yaml.dump(config_dict, output)\n",
    "    bucket = GCS_Bucket()\n",
    "    bucket.put(local_data_file, \"{}/{}\".format(config_dict['GCS_path'], config_dict['data_file_name']))\n",
    "    bucket.put(local_yaml_file, \"{}/{}\".format(config_dict['GCS_path'], processed_data_yaml_file))\n",
    "    os.unlink(local_data_file)\n",
    "    os.unlink(local_yaml_file)"
   ]
  },
  {
   "cell_type": "code",
   "execution_count": 11,
   "metadata": {
    "collapsed": false
   },
   "outputs": [],
   "source": [
    "#norm_dict, processed_data = normalized_columns_by_column_mean(data) ## use mean for each column\n",
    "#norm_dict, processed_data = normalized_columns_by_target_mean(data, target_name) ## use the target mean\n",
    "#norm_dict, processed_data = normalized_columns_by_target_mean(data, target_name) ## use the target mean\n",
    "norm_dict, processed_data = normalized_columns_by_target_median(data, target_name) ## use the target median"
   ]
  },
  {
   "cell_type": "code",
   "execution_count": 12,
   "metadata": {
    "collapsed": false
   },
   "outputs": [
    {
     "data": {
      "text/html": [
       "<div>\n",
       "<table border=\"1\" class=\"dataframe\">\n",
       "  <thead>\n",
       "    <tr style=\"text-align: right;\">\n",
       "      <th></th>\n",
       "      <th>total_views</th>\n",
       "      <th>views_0min_to_10min</th>\n",
       "      <th>views_10min_to_20min</th>\n",
       "      <th>views_20min_to_30min</th>\n",
       "      <th>views_30min_to_40min</th>\n",
       "      <th>views_40min_to_50min</th>\n",
       "      <th>views_50min_to_60min</th>\n",
       "      <th>views_60min_to_70min</th>\n",
       "      <th>views_70min_to_80min</th>\n",
       "      <th>views_80min_to_90min</th>\n",
       "      <th>...</th>\n",
       "      <th>pageReferrer_SOCIAL_80min_to_90min</th>\n",
       "      <th>pageReferrer_SOCIAL_90min_to_100min</th>\n",
       "      <th>pageReferrer_SOCIAL_100min_to_110min</th>\n",
       "      <th>pageReferrer_SOCIAL_110min_to_120min</th>\n",
       "      <th>minLocalDateInWeek</th>\n",
       "      <th>minLocalTime</th>\n",
       "      <th>createTime</th>\n",
       "      <th>articleInfo_type</th>\n",
       "      <th>articleInfo_authorName</th>\n",
       "      <th>articleInfo_section</th>\n",
       "    </tr>\n",
       "    <tr>\n",
       "      <th>articleId</th>\n",
       "      <th></th>\n",
       "      <th></th>\n",
       "      <th></th>\n",
       "      <th></th>\n",
       "      <th></th>\n",
       "      <th></th>\n",
       "      <th></th>\n",
       "      <th></th>\n",
       "      <th></th>\n",
       "      <th></th>\n",
       "      <th></th>\n",
       "      <th></th>\n",
       "      <th></th>\n",
       "      <th></th>\n",
       "      <th></th>\n",
       "      <th></th>\n",
       "      <th></th>\n",
       "      <th></th>\n",
       "      <th></th>\n",
       "      <th></th>\n",
       "      <th></th>\n",
       "    </tr>\n",
       "  </thead>\n",
       "  <tbody>\n",
       "    <tr>\n",
       "      <th>002aa1aeac470688</th>\n",
       "      <td>2.088935</td>\n",
       "      <td>0.003102</td>\n",
       "      <td>0.012316</td>\n",
       "      <td>0.008179</td>\n",
       "      <td>0.017110</td>\n",
       "      <td>0.025665</td>\n",
       "      <td>0.025101</td>\n",
       "      <td>0.026229</td>\n",
       "      <td>0.023691</td>\n",
       "      <td>0.021623</td>\n",
       "      <td>...</td>\n",
       "      <td>0.003196</td>\n",
       "      <td>0.002538</td>\n",
       "      <td>0.002820</td>\n",
       "      <td>0.003196</td>\n",
       "      <td>0.000000</td>\n",
       "      <td>0.118736</td>\n",
       "      <td>0.119583</td>\n",
       "      <td>1.861676</td>\n",
       "      <td>2.008469</td>\n",
       "      <td>1.323743</td>\n",
       "    </tr>\n",
       "    <tr>\n",
       "      <th>0041d850a2d98cc5</th>\n",
       "      <td>0.786688</td>\n",
       "      <td>0.004889</td>\n",
       "      <td>0.010905</td>\n",
       "      <td>0.010999</td>\n",
       "      <td>0.009589</td>\n",
       "      <td>0.007803</td>\n",
       "      <td>0.008179</td>\n",
       "      <td>0.008461</td>\n",
       "      <td>0.008273</td>\n",
       "      <td>0.008179</td>\n",
       "      <td>...</td>\n",
       "      <td>0.000094</td>\n",
       "      <td>0.000000</td>\n",
       "      <td>0.000000</td>\n",
       "      <td>0.000000</td>\n",
       "      <td>0.000564</td>\n",
       "      <td>0.098148</td>\n",
       "      <td>0.098524</td>\n",
       "      <td>1.703785</td>\n",
       "      <td>1.260540</td>\n",
       "      <td>1.902040</td>\n",
       "    </tr>\n",
       "    <tr>\n",
       "      <th>004d3c3d30b769f3</th>\n",
       "      <td>1.027263</td>\n",
       "      <td>0.005923</td>\n",
       "      <td>0.019272</td>\n",
       "      <td>0.022751</td>\n",
       "      <td>0.024255</td>\n",
       "      <td>0.020212</td>\n",
       "      <td>0.020400</td>\n",
       "      <td>0.016640</td>\n",
       "      <td>0.017486</td>\n",
       "      <td>0.018426</td>\n",
       "      <td>...</td>\n",
       "      <td>0.000846</td>\n",
       "      <td>0.000658</td>\n",
       "      <td>0.001222</td>\n",
       "      <td>0.000376</td>\n",
       "      <td>0.000188</td>\n",
       "      <td>0.112438</td>\n",
       "      <td>0.112720</td>\n",
       "      <td>1.861676</td>\n",
       "      <td>0.879574</td>\n",
       "      <td>1.323743</td>\n",
       "    </tr>\n",
       "    <tr>\n",
       "      <th>00553f953ae05383</th>\n",
       "      <td>0.878443</td>\n",
       "      <td>0.000000</td>\n",
       "      <td>0.000000</td>\n",
       "      <td>0.000000</td>\n",
       "      <td>0.037511</td>\n",
       "      <td>0.063740</td>\n",
       "      <td>0.050296</td>\n",
       "      <td>0.063834</td>\n",
       "      <td>0.052176</td>\n",
       "      <td>0.034126</td>\n",
       "      <td>...</td>\n",
       "      <td>0.001222</td>\n",
       "      <td>0.000940</td>\n",
       "      <td>0.001222</td>\n",
       "      <td>0.000470</td>\n",
       "      <td>0.000188</td>\n",
       "      <td>0.060543</td>\n",
       "      <td>0.063740</td>\n",
       "      <td>1.861676</td>\n",
       "      <td>1.715935</td>\n",
       "      <td>2.206955</td>\n",
       "    </tr>\n",
       "    <tr>\n",
       "      <th>0062fedc0669a575</th>\n",
       "      <td>0.915766</td>\n",
       "      <td>0.010999</td>\n",
       "      <td>0.019836</td>\n",
       "      <td>0.017298</td>\n",
       "      <td>0.016734</td>\n",
       "      <td>0.016358</td>\n",
       "      <td>0.015136</td>\n",
       "      <td>0.018144</td>\n",
       "      <td>0.014478</td>\n",
       "      <td>0.017392</td>\n",
       "      <td>...</td>\n",
       "      <td>0.004042</td>\n",
       "      <td>0.003196</td>\n",
       "      <td>0.003572</td>\n",
       "      <td>0.003196</td>\n",
       "      <td>0.000000</td>\n",
       "      <td>0.062612</td>\n",
       "      <td>0.063082</td>\n",
       "      <td>1.861676</td>\n",
       "      <td>2.276643</td>\n",
       "      <td>1.323743</td>\n",
       "    </tr>\n",
       "  </tbody>\n",
       "</table>\n",
       "<p>5 rows × 187 columns</p>\n",
       "</div>"
      ],
      "text/plain": [
       "                  total_views  views_0min_to_10min  views_10min_to_20min  \\\n",
       "articleId                                                                  \n",
       "002aa1aeac470688     2.088935             0.003102              0.012316   \n",
       "0041d850a2d98cc5     0.786688             0.004889              0.010905   \n",
       "004d3c3d30b769f3     1.027263             0.005923              0.019272   \n",
       "00553f953ae05383     0.878443             0.000000              0.000000   \n",
       "0062fedc0669a575     0.915766             0.010999              0.019836   \n",
       "\n",
       "                  views_20min_to_30min  views_30min_to_40min  \\\n",
       "articleId                                                      \n",
       "002aa1aeac470688              0.008179              0.017110   \n",
       "0041d850a2d98cc5              0.010999              0.009589   \n",
       "004d3c3d30b769f3              0.022751              0.024255   \n",
       "00553f953ae05383              0.000000              0.037511   \n",
       "0062fedc0669a575              0.017298              0.016734   \n",
       "\n",
       "                  views_40min_to_50min  views_50min_to_60min  \\\n",
       "articleId                                                      \n",
       "002aa1aeac470688              0.025665              0.025101   \n",
       "0041d850a2d98cc5              0.007803              0.008179   \n",
       "004d3c3d30b769f3              0.020212              0.020400   \n",
       "00553f953ae05383              0.063740              0.050296   \n",
       "0062fedc0669a575              0.016358              0.015136   \n",
       "\n",
       "                  views_60min_to_70min  views_70min_to_80min  \\\n",
       "articleId                                                      \n",
       "002aa1aeac470688              0.026229              0.023691   \n",
       "0041d850a2d98cc5              0.008461              0.008273   \n",
       "004d3c3d30b769f3              0.016640              0.017486   \n",
       "00553f953ae05383              0.063834              0.052176   \n",
       "0062fedc0669a575              0.018144              0.014478   \n",
       "\n",
       "                  views_80min_to_90min         ...           \\\n",
       "articleId                                      ...            \n",
       "002aa1aeac470688              0.021623         ...            \n",
       "0041d850a2d98cc5              0.008179         ...            \n",
       "004d3c3d30b769f3              0.018426         ...            \n",
       "00553f953ae05383              0.034126         ...            \n",
       "0062fedc0669a575              0.017392         ...            \n",
       "\n",
       "                  pageReferrer_SOCIAL_80min_to_90min  \\\n",
       "articleId                                              \n",
       "002aa1aeac470688                            0.003196   \n",
       "0041d850a2d98cc5                            0.000094   \n",
       "004d3c3d30b769f3                            0.000846   \n",
       "00553f953ae05383                            0.001222   \n",
       "0062fedc0669a575                            0.004042   \n",
       "\n",
       "                  pageReferrer_SOCIAL_90min_to_100min  \\\n",
       "articleId                                               \n",
       "002aa1aeac470688                             0.002538   \n",
       "0041d850a2d98cc5                             0.000000   \n",
       "004d3c3d30b769f3                             0.000658   \n",
       "00553f953ae05383                             0.000940   \n",
       "0062fedc0669a575                             0.003196   \n",
       "\n",
       "                  pageReferrer_SOCIAL_100min_to_110min  \\\n",
       "articleId                                                \n",
       "002aa1aeac470688                              0.002820   \n",
       "0041d850a2d98cc5                              0.000000   \n",
       "004d3c3d30b769f3                              0.001222   \n",
       "00553f953ae05383                              0.001222   \n",
       "0062fedc0669a575                              0.003572   \n",
       "\n",
       "                  pageReferrer_SOCIAL_110min_to_120min  minLocalDateInWeek  \\\n",
       "articleId                                                                    \n",
       "002aa1aeac470688                              0.003196            0.000000   \n",
       "0041d850a2d98cc5                              0.000000            0.000564   \n",
       "004d3c3d30b769f3                              0.000376            0.000188   \n",
       "00553f953ae05383                              0.000470            0.000188   \n",
       "0062fedc0669a575                              0.003196            0.000000   \n",
       "\n",
       "                  minLocalTime  createTime  articleInfo_type  \\\n",
       "articleId                                                      \n",
       "002aa1aeac470688      0.118736    0.119583          1.861676   \n",
       "0041d850a2d98cc5      0.098148    0.098524          1.703785   \n",
       "004d3c3d30b769f3      0.112438    0.112720          1.861676   \n",
       "00553f953ae05383      0.060543    0.063740          1.861676   \n",
       "0062fedc0669a575      0.062612    0.063082          1.861676   \n",
       "\n",
       "                  articleInfo_authorName  articleInfo_section  \n",
       "articleId                                                      \n",
       "002aa1aeac470688                2.008469             1.323743  \n",
       "0041d850a2d98cc5                1.260540             1.902040  \n",
       "004d3c3d30b769f3                0.879574             1.323743  \n",
       "00553f953ae05383                1.715935             2.206955  \n",
       "0062fedc0669a575                2.276643             1.323743  \n",
       "\n",
       "[5 rows x 187 columns]"
      ]
     },
     "execution_count": 12,
     "metadata": {},
     "output_type": "execute_result"
    }
   ],
   "source": [
    "processed_data.head()"
   ]
  },
  {
   "cell_type": "markdown",
   "metadata": {},
   "source": [
    "#### create a new `config_dict`"
   ]
  },
  {
   "cell_type": "code",
   "execution_count": 13,
   "metadata": {
    "collapsed": false
   },
   "outputs": [],
   "source": [
    "#processed_dict = update_config_dict(config_dict, norm_dict, data_prefix='target_mean_normalized')\n",
    "#processed_dict = update_config_dict(config_dict, norm_dict, data_prefix='target_max_normalized')\n",
    "processed_dict = update_config_dict(config_dict, norm_dict, data_prefix='target_median_normalized')"
   ]
  },
  {
   "cell_type": "code",
   "execution_count": 14,
   "metadata": {
    "collapsed": false
   },
   "outputs": [
    {
     "data": {
      "text/plain": [
       "{'GCS_path': 'test/ML',\n",
       " 'data_file_name': 'target_median_normalized_NYDN_240min_fullWindow_120min_exposure_600seconds_interval_target_24hr_data.csv',\n",
       " 'index_column': 'articleId',\n",
       " 'label_column': 'total_views',\n",
       " 'norm_dict': {'all_data_target_median': 10637.0},\n",
       " 'static_columns': ['minLocalDateInWeek',\n",
       "  'minLocalTime',\n",
       "  'createTime',\n",
       "  'articleInfo_type',\n",
       "  'articleInfo_authorName',\n",
       "  'articleInfo_section'],\n",
       " 'time_interval_columns': ['views',\n",
       "  'US_counts',\n",
       "  'sessionReferrer_DIRECT',\n",
       "  'sessionReferrer_SOCIAL',\n",
       "  'sessionReferrer_SEARCH',\n",
       "  'sessionReferrer_OTHER',\n",
       "  'platform_PHON',\n",
       "  'platform_DESK',\n",
       "  'platform_TBLT',\n",
       "  'platform_OTHR',\n",
       "  'pageReferrer_OTHER',\n",
       "  'pageReferrer_SEARCH',\n",
       "  'pageReferrer_DIRECT',\n",
       "  'pageReferrer_EMPTY_DOMAIN',\n",
       "  'pageReferrer_SOCIAL'],\n",
       " 'time_step_list': ['0min_to_10min',\n",
       "  '10min_to_20min',\n",
       "  '20min_to_30min',\n",
       "  '30min_to_40min',\n",
       "  '40min_to_50min',\n",
       "  '50min_to_60min',\n",
       "  '60min_to_70min',\n",
       "  '70min_to_80min',\n",
       "  '80min_to_90min',\n",
       "  '90min_to_100min']}"
      ]
     },
     "execution_count": 14,
     "metadata": {},
     "output_type": "execute_result"
    }
   ],
   "source": [
    "#processed_dict['norm_dict'][target_name]\n",
    "processed_dict"
   ]
  },
  {
   "cell_type": "markdown",
   "metadata": {},
   "source": [
    "#### save both data and `config_dict` to lcoal temp file and upload to GCS"
   ]
  },
  {
   "cell_type": "code",
   "execution_count": 15,
   "metadata": {
    "collapsed": false
   },
   "outputs": [
    {
     "name": "stdout",
     "output_type": "stream",
     "text": [
      "/var/folders/k5/nkzf3kxj2v721gq7p2nytvv48ppbxr/T/tmpRx0su5\n",
      "/var/folders/k5/nkzf3kxj2v721gq7p2nytvv48ppbxr/T/tmp8BWwDc\n"
     ]
    }
   ],
   "source": [
    "#upload_content_to_GCS(processed_dict, processed_data, processed_data_yaml_file='target_mean_norm_configuration.yaml')\n",
    "#upload_content_to_GCS(processed_dict, processed_data, processed_data_yaml_file='target_max_norm_configuration.yaml')\n",
    "upload_content_to_GCS(processed_dict, processed_data, processed_data_yaml_file='target_median_norm_configuration.yaml')"
   ]
  },
  {
   "cell_type": "code",
   "execution_count": null,
   "metadata": {
    "collapsed": true
   },
   "outputs": [],
   "source": []
  },
  {
   "cell_type": "code",
   "execution_count": null,
   "metadata": {
    "collapsed": false
   },
   "outputs": [],
   "source": [
    "%%bash\n",
    "du -ah /var/folders/k5/nkzf3kxj2v721gq7p2nytvv48ppbxr/T/tmpQ22XFy"
   ]
  },
  {
   "cell_type": "code",
   "execution_count": null,
   "metadata": {
    "collapsed": true
   },
   "outputs": [],
   "source": []
  },
  {
   "cell_type": "code",
   "execution_count": null,
   "metadata": {
    "collapsed": false
   },
   "outputs": [],
   "source": [
    "data[target_name].median()"
   ]
  },
  {
   "cell_type": "code",
   "execution_count": null,
   "metadata": {
    "collapsed": false
   },
   "outputs": [],
   "source": [
    "data_mean = data[target_name].mean()"
   ]
  },
  {
   "cell_type": "code",
   "execution_count": null,
   "metadata": {
    "collapsed": false
   },
   "outputs": [],
   "source": [
    "data_mean"
   ]
  },
  {
   "cell_type": "code",
   "execution_count": null,
   "metadata": {
    "collapsed": false
   },
   "outputs": [],
   "source": [
    "data.loc[:, target_name] = data[target_name] / data_mean"
   ]
  },
  {
   "cell_type": "code",
   "execution_count": null,
   "metadata": {
    "collapsed": false
   },
   "outputs": [],
   "source": [
    "data.loc[target_name] = data[target_name] / data_mean"
   ]
  },
  {
   "cell_type": "code",
   "execution_count": null,
   "metadata": {
    "collapsed": false
   },
   "outputs": [],
   "source": [
    "data.loc[data[target_name] > 10, target_name].hist(bins=50)"
   ]
  },
  {
   "cell_type": "code",
   "execution_count": null,
   "metadata": {
    "collapsed": true
   },
   "outputs": [],
   "source": []
  }
 ],
 "metadata": {
  "kernelspec": {
   "display_name": "Python 2",
   "language": "python",
   "name": "python2"
  },
  "language_info": {
   "codemirror_mode": {
    "name": "ipython",
    "version": 2
   },
   "file_extension": ".py",
   "mimetype": "text/x-python",
   "name": "python",
   "nbconvert_exporter": "python",
   "pygments_lexer": "ipython2",
   "version": "2.7.10"
  }
 },
 "nbformat": 4,
 "nbformat_minor": 2
}
