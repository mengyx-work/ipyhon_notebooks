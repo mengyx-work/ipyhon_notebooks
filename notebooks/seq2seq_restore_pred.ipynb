{
 "cells": [
  {
   "cell_type": "code",
   "execution_count": 1,
   "metadata": {
    "collapsed": true
   },
   "outputs": [],
   "source": [
    "%matplotlib inline  \n",
    "\n",
    "import sys, os, time, math\n",
    "import cPickle as pickle\n",
    "import tensorflow as tf\n",
    "sys.path.append('/Users/matt.meng/dev/seq2seq_model')\n",
    "from data import DataGenerator, process_batch\n",
    "from utils import model_meta_file\n",
    "from data_preprocess import TOKEN_DICT, _GO, _EOS\n",
    "import matplotlib.pyplot as plt"
   ]
  },
  {
   "cell_type": "code",
   "execution_count": null,
   "metadata": {
    "collapsed": true
   },
   "outputs": [],
   "source": []
  },
  {
   "cell_type": "code",
   "execution_count": 2,
   "metadata": {
    "collapsed": false
   },
   "outputs": [],
   "source": [
    "pickle_file = 'processed_title_data.pkl'\n",
    "local_model_path = '/Users/matt.meng/local_tensorflow_content/seq2seq'\n",
    "encoder_output_c_name = 'encoder_decoder_sequence/encoder/while/Exit_2:0'\n",
    "encoder_output_h_name = 'encoder_decoder_sequence/encoder/while/Exit_3:0'\n",
    "\n",
    "\n",
    "pickle_file_path = os.path.join(os.path.expanduser(\"~\"), pickle_file)\n",
    "with open(pickle_file_path, 'rb') as input_stream:\n",
    "    data = pickle.load(input_stream)\n",
    "titles = data['titles']\n",
    "reverse_token_dict = data['reverse_token_dict']\n",
    "title_urls = data['url']\n",
    "title_pageViews = data['pageViw']"
   ]
  },
  {
   "cell_type": "code",
   "execution_count": 3,
   "metadata": {
    "collapsed": false
   },
   "outputs": [
    {
     "data": {
      "text/plain": [
       "['url', 'reverse_token_dict', 'pageViw', 'titles', 'token_dict']"
      ]
     },
     "execution_count": 3,
     "metadata": {},
     "output_type": "execute_result"
    }
   ],
   "source": [
    "data.keys()"
   ]
  },
  {
   "cell_type": "code",
   "execution_count": null,
   "metadata": {
    "collapsed": false
   },
   "outputs": [],
   "source": []
  },
  {
   "cell_type": "code",
   "execution_count": 24,
   "metadata": {
    "collapsed": false
   },
   "outputs": [
    {
     "name": "stdout",
     "output_type": "stream",
     "text": [
      "warning, more than one model meta file is found in /Users/matt.meng/local_tensorflow_content/seq2seq\n",
      "INFO:tensorflow:Restoring parameters from /Users/matt.meng/local_tensorflow_content/seq2seq/models-2100000\n",
      "finish processing 5000 articles using 13.14 seconds...\n",
      "finish processing 10000 articles using 28.06 seconds...\n",
      "finish processing 15000 articles using 45.64 seconds...\n"
     ]
    }
   ],
   "source": [
    "#c_vector_list, h_vector_list = [], []\n",
    "vector_dict = {}\n",
    "saver = tf.train.import_meta_graph(model_meta_file(local_model_path))\n",
    "with tf.Session() as sess:\n",
    "    saver.restore(sess, tf.train.latest_checkpoint(local_model_path))\n",
    "    \n",
    "    encoder_inputs = sess.graph.get_tensor_by_name(\"initial_inputs/encoder_inputs:0\")\n",
    "    decoder_inputs = sess.graph.get_tensor_by_name(\"initial_inputs/decoder_inputs:0\")\n",
    "    decoder_targets = sess.graph.get_tensor_by_name(\"initial_inputs/decoder_targets:0\")\n",
    "    dropout_input_keep_prob = sess.graph.get_tensor_by_name(\"initial_inputs/dropout_input_keep_prob:0\")\n",
    "\n",
    "    encoder_output_c = sess.graph.get_tensor_by_name('encoder_decoder_sequence/encoder/while/Exit_2:0')\n",
    "    encoder_output_h = sess.graph.get_tensor_by_name('encoder_decoder_sequence/encoder/while/Exit_3:0')\n",
    "    counter = 0\n",
    "    start_time = time.time()\n",
    "    for i in xrange(len(titles)):\n",
    "        counter += 1\n",
    "        vector_dict[title_urls[i]] = {'pageView' : title_pageViews[i], \n",
    "                                      'title_string' : ' '.join(map(reverse_token_dict.get, titles[i]))}\n",
    "        #title = ' '.join(map(reverse_token_dict.get, titles[i]))\n",
    "        encoder_inputs_, _ = process_batch([titles[i] + [TOKEN_DICT[_EOS]]])\n",
    "        decoder_targets_, _ = process_batch([titles[i] + [TOKEN_DICT[_EOS]]])\n",
    "        decoder_inputs_, _ = process_batch([[TOKEN_DICT[_GO]] + titles[i]])\n",
    "        c_vector, h_vector = sess.run([encoder_output_c, encoder_output_h], {encoder_inputs : encoder_inputs_,\n",
    "                                                                             decoder_inputs : decoder_inputs_, \n",
    "                                                                             decoder_targets : decoder_targets_, \n",
    "                                                                             dropout_input_keep_prob : 1.})\n",
    "        vector_dict[title_urls[i]]['vectors'] = (c_vector[0] + h_vector[0])\n",
    "        #c_vector_list.append(c_vector)\n",
    "        #h_vector_list.append(h_vector)\n",
    "        if counter % 5000 == 0:\n",
    "            print 'finish processing {} articles using {:.2f} seconds...'.format(counter, time.time() - start_time)"
   ]
  },
  {
   "cell_type": "code",
   "execution_count": 25,
   "metadata": {
    "collapsed": false
   },
   "outputs": [
    {
     "name": "stdout",
     "output_type": "stream",
     "text": [
      "17185 17185\n"
     ]
    }
   ],
   "source": [
    "print len(title_pageViews), len(vector_dict)"
   ]
  },
  {
   "cell_type": "code",
   "execution_count": 26,
   "metadata": {
    "collapsed": false
   },
   "outputs": [
    {
     "name": "stdout",
     "output_type": "stream",
     "text": [
      "['pageView', 'vectors', 'title_string']\n"
     ]
    }
   ],
   "source": [
    "key = vector_dict.keys()[10]\n",
    "print vector_dict[key].keys()"
   ]
  },
  {
   "cell_type": "code",
   "execution_count": 27,
   "metadata": {
    "collapsed": true
   },
   "outputs": [],
   "source": [
    "vector_items = vector_dict.items()"
   ]
  },
  {
   "cell_type": "code",
   "execution_count": 28,
   "metadata": {
    "collapsed": false
   },
   "outputs": [],
   "source": [
    "sorted_vecor = sorted(vector_items, key=lambda x: x[1]['pageView'], reverse=True)"
   ]
  },
  {
   "cell_type": "code",
   "execution_count": 29,
   "metadata": {
    "collapsed": false
   },
   "outputs": [
    {
     "data": {
      "text/plain": [
       "('http://www.nydailynews.com/new-york/delta-pilot-flight-attendant-fight-delays-takeoff-laguardia-article-1.3352751',\n",
       " {'pageView': 234898,\n",
       "  'title_string': 'delta pilot flight attendant fight delays _UNK at _UNK',\n",
       "  'vectors': array([-2.00210595,  0.70956612,  1.2261126 ,  4.91165352, -5.52067995,\n",
       "          0.65053552,  3.38198543, -1.98489177, -1.53014588, -2.77692223,\n",
       "          0.41954407,  1.38518429, -4.1707468 ,  3.31093717, -6.82586336,\n",
       "         -2.563169  , -1.93261743,  0.08439458, -0.34545758, -5.91424608,\n",
       "         -2.6972177 ,  1.6733501 , -1.5586071 ,  2.33327675,  3.88655853,\n",
       "         -1.36372066,  1.96337891,  1.23290229,  1.82884359,  1.90434992,\n",
       "          0.9236629 , -9.39466476], dtype=float32)})"
      ]
     },
     "execution_count": 29,
     "metadata": {},
     "output_type": "execute_result"
    }
   ],
   "source": [
    "sorted_vecor[0]"
   ]
  },
  {
   "cell_type": "code",
   "execution_count": 30,
   "metadata": {
    "collapsed": false
   },
   "outputs": [
    {
     "data": {
      "text/plain": [
       "{'pageView': 1,\n",
       " 'title_string': 'linda c black horoscopes for # # ##',\n",
       " 'vectors': array([-1.37608314, -1.06412494, -3.16853094,  5.78051901, -3.40847945,\n",
       "        -0.58878434,  1.30917573, -3.26261854, -1.60178423, -0.81033075,\n",
       "         2.88599205,  1.29148567, -3.21983457,  1.89780283, -4.40292168,\n",
       "        -2.30535603, -2.32270789,  0.59876782, -6.09389591, -3.09071398,\n",
       "        -4.89437056,  2.10428381,  1.08439183,  3.3922255 , -0.34335831,\n",
       "        -2.47728777, -0.95580059,  2.11615801, -0.52365917,  0.45603269,\n",
       "         4.67831898, -7.77249098], dtype=float32)}"
      ]
     },
     "execution_count": 30,
     "metadata": {},
     "output_type": "execute_result"
    }
   ],
   "source": [
    "vector_dict['http://www.chicagotribune.com/lifestyles/sns-201706141112--tms--hscopebctnzz-a20170708-20170708-story.html']"
   ]
  },
  {
   "cell_type": "code",
   "execution_count": 31,
   "metadata": {
    "collapsed": true
   },
   "outputs": [],
   "source": [
    "def square_rooted(x):\n",
    "    return math.sqrt(sum([a*a for a in x]))\n",
    " \n",
    "def euclidean_distance(x,y):\n",
    "     return math.sqrt(sum(math.pow(a - b, 2) for a, b in zip(x, y)))\n",
    "\n",
    "def manhattan_distance(x,y): \n",
    "    return sum(abs(a - b) for a,b in zip(x,y))\n",
    "\n",
    "def cosine_similarity(x, y):\n",
    "    numerator = sum(a*b for a, b in zip(x,y))\n",
    "    denominator = square_rooted(x) * square_rooted(y)\n",
    "    #denominator = (square_rooted(x) + square_rooted(y))\n",
    "\n",
    "    return numerator / denominator"
   ]
  },
  {
   "cell_type": "code",
   "execution_count": 59,
   "metadata": {
    "collapsed": false
   },
   "outputs": [
    {
     "name": "stdout",
     "output_type": "stream",
     "text": [
      "nba free agency : after derrick rose deal ## players who are still available\n",
      "https://www.cbssports.com/nba/news/nba-free-agency-after-derrick-rose-deal-25-players-who-are-still-available/\n"
     ]
    }
   ],
   "source": [
    "index = 7\n",
    "print sorted_vecor[index][1]['title_string']\n",
    "selected_key = sorted_vecor[index][0]\n",
    "print selected_key"
   ]
  },
  {
   "cell_type": "code",
   "execution_count": 66,
   "metadata": {
    "collapsed": false
   },
   "outputs": [
    {
     "name": "stdout",
     "output_type": "stream",
     "text": [
      "http://www.cbssports.com/nba/news/nba-draft-lavar-ball-guarantees-lonzo-will-lead-lakers-to-playoffs-next-season/\n",
      "\n",
      " \n",
      "\n",
      "http://www.chicagotribune.com/sports/baseball/whitesox/ct-mark-buehrle-number-retired-white-sox-20170621-story.html 7.15864151953\n",
      "http://www.cbssports.com/nba/news/nba-free-agency-2017-breaking-down-the-biggest-needs-free-agent-fits-for-each-team/ 6.17284305998\n",
      "https://www.cbssports.com/fantasy/football/news/broncos-devontae-booker-out-6-to-8-weeks-with-wrist-injury/ 7.45207165218\n",
      "https://www.cbssports.com/fantasy/football/news/broncos-devontae-booker-will-get-opportunities-with-the-first-team/ 7.3106981743\n",
      "https://www.cbssports.com/fantasy/football/news/bears-mitchell-trubisky-will-not-open-season-as-starting-quarterback/ 7.20473918611\n",
      "https://www.cbssports.com/tennis/news/wimbledon-2017-roger-federer-rolls-to-a-record-eighth-title-19th-grand-slam-win/ 6.03781379096\n",
      "http://www.chicagotribune.com/sports/baseball/whitesox/ct-mark-buehrle-number-retired-white-sox-20170621-story,amp.html 7.15864151953\n",
      "http://www.chicagotribune.com/sports/baseball/cubs/ct-jon-jay-steady-influence-cubs-spt-0713-20170712-story.html 7.43790730264\n",
      "https://www.cbssports.com/fantasy/basketball/news/suns-brandon-knight-tears-acl-could-miss-all-of-2017-18-season/ 7.37499261418\n",
      "https://www.cbssports.com/golf/news/british-open-2017-twitter-roasts-johnny-miller-after-brendan-graces-round-of-62/ 7.33390349612\n",
      "https://www.cbssports.com/nba/news/nba-free-agency-after-derrick-rose-deal-25-players-who-are-still-available/ 6.63363501417\n",
      "http://www.chicagotribune.com/sports/baseball/cubs/ct-cubs-ben-zobrist-20170624-story,amp.html 7.47437051167\n"
     ]
    }
   ],
   "source": [
    "results = []\n",
    "selected_key = 'http://www.cbssports.com/nba/news/nba-draft-lavar-ball-guarantees-lonzo-will-lead-lakers-to-playoffs-next-season/'\n",
    "print selected_key\n",
    "print '\\n \\n'\n",
    "for key in vector_dict.keys():\n",
    "    if key == selected_key:\n",
    "        continue\n",
    "    #vector_index = 0\n",
    "    #cosine_result = cosine_similarity(vector_dict[selected_key]['vectors'][vector_index], vector_dict[key]['vectors'][vector_index])\n",
    "    #euclidean_result = euclidean_distance(vector_dict[selected_key]['vectors'][vector_index], vector_dict[key]['vectors'][vector_index])\n",
    "    #result = cosine_result\n",
    "    \n",
    "    cosine_result = cosine_similarity(vector_dict[selected_key]['vectors'], vector_dict[key]['vectors'])\n",
    "    euclidean_result = euclidean_distance(vector_dict[selected_key]['vectors'], vector_dict[key]['vectors'])\n",
    "    #result = cosine_result\n",
    "    result = euclidean_result\n",
    "    #result = 10 * (1 - cosine_result) * euclidean_result\n",
    "    #result = manhattan_distance(vector_dict[selected_key]['vectors'][0], vector_dict[key]['vectors'][0])\n",
    "    if result < 7.5:\n",
    "    #if result > 0.96:\n",
    "        print key, result\n",
    "        #print vector_dict[key]['pageView']\n",
    "    \n",
    "    #print cosine_result, euclidean_result, result\n",
    "    results.append(result)"
   ]
  },
  {
   "cell_type": "code",
   "execution_count": 64,
   "metadata": {
    "collapsed": false,
    "scrolled": true
   },
   "outputs": [
    {
     "data": {
      "text/plain": [
       "(array([   2.,    1.,    0.,    6.,    9.,   13.,   17.,   25.,   43.,\n",
       "          51.,   98.,  110.,  127.,  190.,  247.,  287.,  373.,  446.,\n",
       "         544.,  579.,  729.,  731.,  836.,  907.,  930.,  913.,  919.,\n",
       "         930.,  885.,  842.,  783.,  744.,  658.,  595.,  545.,  438.,\n",
       "         367.,  289.,  250.,  192.,  152.,  105.,  108.,   60.,   46.,\n",
       "          26.,   18.,    8.,    7.,    3.]),\n",
       " array([  6.03781379,   6.38678424,   6.73575469,   7.08472513,\n",
       "          7.43369558,   7.78266603,   8.13163648,   8.48060692,\n",
       "          8.82957737,   9.17854782,   9.52751826,   9.87648871,\n",
       "         10.22545916,  10.57442961,  10.92340005,  11.2723705 ,\n",
       "         11.62134095,  11.9703114 ,  12.31928184,  12.66825229,\n",
       "         13.01722274,  13.36619319,  13.71516363,  14.06413408,\n",
       "         14.41310453,  14.76207498,  15.11104542,  15.46001587,\n",
       "         15.80898632,  16.15795676,  16.50692721,  16.85589766,\n",
       "         17.20486811,  17.55383855,  17.902809  ,  18.25177945,\n",
       "         18.6007499 ,  18.94972034,  19.29869079,  19.64766124,\n",
       "         19.99663169,  20.34560213,  20.69457258,  21.04354303,\n",
       "         21.39251348,  21.74148392,  22.09045437,  22.43942482,\n",
       "         22.78839527,  23.13736571,  23.48633616]),\n",
       " <a list of 50 Patch objects>)"
      ]
     },
     "execution_count": 64,
     "metadata": {},
     "output_type": "execute_result"
    },
    {
     "data": {
      "image/png": "[encoded data removed]",
      "text/plain": [
       "<matplotlib.figure.Figure at 0x11d4dcd10>"
      ]
     },
     "metadata": {},
     "output_type": "display_data"
    }
   ],
   "source": [
    "plt.hist(results, bins=50)"
   ]
  },
  {
   "cell_type": "code",
   "execution_count": null,
   "metadata": {
    "collapsed": true
   },
   "outputs": [],
   "source": []
  }
 ],
 "metadata": {
  "kernelspec": {
   "display_name": "Python 2",
   "language": "python",
   "name": "python2"
  },
  "language_info": {
   "codemirror_mode": {
    "name": "ipython",
    "version": 2
   },
   "file_extension": ".py",
   "mimetype": "text/x-python",
   "name": "python",
   "nbconvert_exporter": "python",
   "pygments_lexer": "ipython2",
   "version": "2.7.10"
  }
 },
 "nbformat": 4,
 "nbformat_minor": 2
}
