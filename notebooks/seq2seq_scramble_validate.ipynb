{
 "cells": [
  {
   "cell_type": "code",
   "execution_count": 1,
   "metadata": {
    "collapsed": true
   },
   "outputs": [],
   "source": [
    "import random"
   ]
  },
  {
   "cell_type": "code",
   "execution_count": null,
   "metadata": {
    "collapsed": true
   },
   "outputs": [],
   "source": []
  },
  {
   "cell_type": "code",
   "execution_count": 35,
   "metadata": {
    "collapsed": false
   },
   "outputs": [
    {
     "data": {
      "text/plain": [
       "1"
      ]
     },
     "execution_count": 35,
     "metadata": {},
     "output_type": "execute_result"
    }
   ],
   "source": [
    "random.randrange(1, 5)"
   ]
  },
  {
   "cell_type": "code",
   "execution_count": 70,
   "metadata": {
    "collapsed": true
   },
   "outputs": [],
   "source": [
    "index = range(20)\n",
    "content = range(20)"
   ]
  },
  {
   "cell_type": "code",
   "execution_count": 71,
   "metadata": {
    "collapsed": false
   },
   "outputs": [
    {
     "data": {
      "text/plain": [
       "[0, 1, 2, 3, 4, 5, 6, 7, 8, 9, 10, 11, 12, 13, 14, 15, 16, 17, 18, 19]"
      ]
     },
     "execution_count": 71,
     "metadata": {},
     "output_type": "execute_result"
    }
   ],
   "source": [
    "index"
   ]
  },
  {
   "cell_type": "code",
   "execution_count": 73,
   "metadata": {
    "collapsed": false
   },
   "outputs": [
    {
     "name": "stdout",
     "output_type": "stream",
     "text": [
      "[9, 13, 1, 6, 11, 18, 10, 0, 7, 19, 15, 8, 16, 14, 5, 2, 17, 12, 3, 4]\n"
     ]
    }
   ],
   "source": [
    "random.shuffle(index)\n",
    "print index"
   ]
  },
  {
   "cell_type": "code",
   "execution_count": 75,
   "metadata": {
    "collapsed": false
   },
   "outputs": [],
   "source": [
    "content = [content[i] for i in content]"
   ]
  },
  {
   "cell_type": "code",
   "execution_count": 77,
   "metadata": {
    "collapsed": true
   },
   "outputs": [],
   "source": [
    "def create_crambled_training(titles, scramble_times=1, dropout_frac=0.2):\n",
    "    training_titles, target_titles = [], []\n",
    "    #for index, title in enumerate(content['titles']):\n",
    "    for index, title in enumerate(titles):\n",
    "        title_len = len(title)\n",
    "        if title_len == 1 or title_len < scramble_times:\n",
    "            continue\n",
    "        random_indexes, dropout_indexes = set(), []\n",
    "        \n",
    "        while len(random_indexes)<scramble_times:\n",
    "            index = random.randrange(1, title_len)\n",
    "            random_indexes.add(index)\n",
    "        print random_indexes\n",
    "            \n",
    "        if dropout_frac*title_len > 1.:\n",
    "            dropout_indexes = random.sample(xrange(title_len), int(dropout_frac*title_len))\n",
    "            \n",
    "        for random_index in random_indexes:\n",
    "            scrambled_title = title[random_index:] + title[:random_index]\n",
    "            process_title = [scrambled_title[idx] for idx in xrange(title_len) if idx not in dropout_indexes]\n",
    "            training_titles.append(process_title)\n",
    "            target_titles.append(title)\n",
    "    # shuffle the training \n",
    "    indexes = range(len(training_titles))\n",
    "    random.shuffle(indexes)\n",
    "    training_titles = [training_titles[i] for i in indexes]\n",
    "    target_titles = [target_titles[i] for i in indexes]\n",
    "                \n",
    "    return training_titles, target_titles"
   ]
  },
  {
   "cell_type": "code",
   "execution_count": 78,
   "metadata": {
    "collapsed": true
   },
   "outputs": [],
   "source": [
    "titles = [[1, 2, 3,  4], [4, 5, 6, 7]]"
   ]
  },
  {
   "cell_type": "code",
   "execution_count": 79,
   "metadata": {
    "collapsed": false
   },
   "outputs": [
    {
     "name": "stdout",
     "output_type": "stream",
     "text": [
      "set([2, 3])\n",
      "set([1, 2])\n"
     ]
    }
   ],
   "source": [
    "training_titles, target_titles = create_crambled_training(titles, 2, 0.4)"
   ]
  },
  {
   "cell_type": "code",
   "execution_count": 80,
   "metadata": {
    "collapsed": false
   },
   "outputs": [
    {
     "data": {
      "text/plain": [
       "[[1, 2, 3], [6, 7, 5], [5, 6, 4], [4, 1, 2]]"
      ]
     },
     "execution_count": 80,
     "metadata": {},
     "output_type": "execute_result"
    }
   ],
   "source": [
    "training_titles"
   ]
  },
  {
   "cell_type": "code",
   "execution_count": 81,
   "metadata": {
    "collapsed": false
   },
   "outputs": [
    {
     "data": {
      "text/plain": [
       "[[1, 2, 3, 4], [4, 5, 6, 7], [4, 5, 6, 7], [1, 2, 3, 4]]"
      ]
     },
     "execution_count": 81,
     "metadata": {},
     "output_type": "execute_result"
    }
   ],
   "source": [
    "target_titles"
   ]
  },
  {
   "cell_type": "code",
   "execution_count": null,
   "metadata": {
    "collapsed": true
   },
   "outputs": [],
   "source": []
  },
  {
   "cell_type": "code",
   "execution_count": null,
   "metadata": {
    "collapsed": true
   },
   "outputs": [],
   "source": []
  }
 ],
 "metadata": {
  "kernelspec": {
   "display_name": "Python 2",
   "language": "python",
   "name": "python2"
  },
  "language_info": {
   "codemirror_mode": {
    "name": "ipython",
    "version": 2
   },
   "file_extension": ".py",
   "mimetype": "text/x-python",
   "name": "python",
   "nbconvert_exporter": "python",
   "pygments_lexer": "ipython2",
   "version": "2.7.10"
  }
 },
 "nbformat": 4,
 "nbformat_minor": 2
}
