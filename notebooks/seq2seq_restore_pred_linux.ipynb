{
 "metadata": {
  "kernelspec": {
   "display_name": "Python 2",
   "language": "python",
   "name": "python2"
  },
  "language_info": {
   "codemirror_mode": {
    "name": "ipython",
    "version": 2
   },
   "file_extension": ".py",
   "mimetype": "text/x-python",
   "name": "python",
   "nbconvert_exporter": "python",
   "pygments_lexer": "ipython2",
   "version": "2.7.10"
  },
  "name": "",
  "signature": "sha256:e38a3d94261dd50319afa25e00d1742f9189894d6bdfb1794654232b8b4ec924"
 },
 "nbformat": 3,
 "nbformat_minor": 0,
 "worksheets": [
  {
   "cells": [
    {
     "cell_type": "code",
     "collapsed": true,
     "input": [
      "%matplotlib inline  \n",
      "\n",
      "import sys, os, time, math\n",
      "import cPickle as pickle\n",
      "import tensorflow as tf\n",
      "sys.path.append('/home/matt.meng/dev/seq2seq_model')\n",
      "from data import DataGenerator, process_batch\n",
      "from utils import model_meta_file\n",
      "from data_preprocess import TOKEN_DICT, _GO, _EOS\n",
      "import matplotlib.pyplot as plt"
     ],
     "language": "python",
     "metadata": {},
     "outputs": [],
     "prompt_number": 1
    },
    {
     "cell_type": "code",
     "collapsed": false,
     "input": [
      "pickle_file = 'processed_titles_data.pkl'\n",
      "local_model_path = '/home/matt.meng/local_tensorflow_content/large_64embed_128hid/'"
     ],
     "language": "python",
     "metadata": {},
     "outputs": [],
     "prompt_number": 2
    },
    {
     "cell_type": "code",
     "collapsed": false,
     "input": [
      "#with open(pickle_file_path, 'rb') as input_stream:\n",
      "#    data = pickle.load(input_stream)"
     ],
     "language": "python",
     "metadata": {},
     "outputs": [],
     "prompt_number": 3
    },
    {
     "cell_type": "code",
     "collapsed": false,
     "input": [
      "encoder_output_c_name = 'encoder_decoder_sequence/encoder/while/Exit_2:0'\n",
      "encoder_output_h_name = 'encoder_decoder_sequence/encoder/while/Exit_3:0'\n",
      "\n",
      "\n",
      "pickle_file_path = os.path.join(os.path.expanduser(\"~\"), pickle_file)\n",
      "with open(pickle_file_path, 'rb') as input_stream:\n",
      "    data = pickle.load(input_stream)\n",
      "titles = data['titles']\n",
      "reverse_token_dict = data['reverse_token_dict']\n",
      "title_urls = data['url']\n",
      "title_pageViews = data['pageViw']"
     ],
     "language": "python",
     "metadata": {},
     "outputs": [],
     "prompt_number": 4
    },
    {
     "cell_type": "code",
     "collapsed": false,
     "input": [
      "data.keys()"
     ],
     "language": "python",
     "metadata": {},
     "outputs": [
      {
       "metadata": {},
       "output_type": "pyout",
       "prompt_number": 5,
       "text": [
        "['url', 'reverse_token_dict', 'pageViw', 'titles', 'token_dict']"
       ]
      }
     ],
     "prompt_number": 5
    },
    {
     "cell_type": "code",
     "collapsed": false,
     "input": [],
     "language": "python",
     "metadata": {},
     "outputs": [],
     "prompt_number": 5
    },
    {
     "cell_type": "code",
     "collapsed": false,
     "input": [
      "#c_vector_list, h_vector_list = [], []\n",
      "vector_dict = {}\n",
      "saver = tf.train.import_meta_graph(model_meta_file(local_model_path))\n",
      "with tf.Session() as sess:\n",
      "    saver.restore(sess, tf.train.latest_checkpoint(local_model_path))\n",
      "    \n",
      "    encoder_inputs = sess.graph.get_tensor_by_name(\"initial_inputs/encoder_inputs:0\")\n",
      "    decoder_inputs = sess.graph.get_tensor_by_name(\"initial_inputs/decoder_inputs:0\")\n",
      "    decoder_targets = sess.graph.get_tensor_by_name(\"initial_inputs/decoder_targets:0\")\n",
      "    dropout_input_keep_prob = sess.graph.get_tensor_by_name(\"initial_inputs/dropout_input_keep_prob:0\")\n",
      "\n",
      "    encoder_output_c = sess.graph.get_tensor_by_name('encoder_decoder_sequence/encoder/while/Exit_2:0')\n",
      "    encoder_output_h = sess.graph.get_tensor_by_name('encoder_decoder_sequence/encoder/while/Exit_3:0')\n",
      "    counter = 0\n",
      "    start_time = time.time()\n",
      "    #for i in xrange(len(titles)):\n",
      "    for i in xrange(100000):\n",
      "        counter += 1\n",
      "        vector_dict[title_urls[i]] = {'pageView' : title_pageViews[i], \n",
      "                                      'title_string' : ' '.join(map(reverse_token_dict.get, titles[i]))}\n",
      "        #title = ' '.join(map(reverse_token_dict.get, titles[i]))\n",
      "        encoder_inputs_, _ = process_batch([titles[i] + [TOKEN_DICT[_EOS]]])\n",
      "        decoder_targets_, _ = process_batch([titles[i] + [TOKEN_DICT[_EOS]]])\n",
      "        decoder_inputs_, _ = process_batch([[TOKEN_DICT[_GO]] + titles[i]])\n",
      "        c_vector, h_vector = sess.run([encoder_output_c, encoder_output_h], {encoder_inputs : encoder_inputs_,\n",
      "                                                                             decoder_inputs : decoder_inputs_, \n",
      "                                                                             decoder_targets : decoder_targets_, \n",
      "                                                                             dropout_input_keep_prob : 1.})\n",
      "        vector_dict[title_urls[i]]['vectors'] = (c_vector[0] + h_vector[0])\n",
      "        #c_vector_list.append(c_vector)\n",
      "        #h_vector_list.append(h_vector)\n",
      "        if counter % 10000 == 0:\n",
      "            print 'finish processing {} articles using {:.2f} seconds...'.format(counter, time.time() - start_time)"
     ],
     "language": "python",
     "metadata": {},
     "outputs": [
      {
       "output_type": "stream",
       "stream": "stdout",
       "text": [
        "warning, more than one model meta file is found in /home/matt.meng/local_tensorflow_content/large_64embed_128hid/\n",
        "INFO:tensorflow:Restoring parameters from /home/matt.meng/local_tensorflow_content/large_64embed_128hid/models-1400000\n"
       ]
      },
      {
       "output_type": "stream",
       "stream": "stderr",
       "text": [
        "INFO:tensorflow:Restoring parameters from /home/matt.meng/local_tensorflow_content/large_64embed_128hid/models-1400000\n"
       ]
      },
      {
       "output_type": "stream",
       "stream": "stdout",
       "text": [
        "finish processing 10000 articles using 38.08 seconds...\n",
        "finish processing 20000 articles using 77.00 seconds..."
       ]
      },
      {
       "output_type": "stream",
       "stream": "stdout",
       "text": [
        "\n",
        "finish processing 30000 articles using 116.93 seconds..."
       ]
      },
      {
       "output_type": "stream",
       "stream": "stdout",
       "text": [
        "\n",
        "finish processing 40000 articles using 161.01 seconds..."
       ]
      },
      {
       "output_type": "stream",
       "stream": "stdout",
       "text": [
        "\n",
        "finish processing 50000 articles using 209.96 seconds..."
       ]
      },
      {
       "output_type": "stream",
       "stream": "stdout",
       "text": [
        "\n",
        "finish processing 60000 articles using 258.47 seconds..."
       ]
      },
      {
       "output_type": "stream",
       "stream": "stdout",
       "text": [
        "\n",
        "finish processing 70000 articles using 313.21 seconds..."
       ]
      },
      {
       "output_type": "stream",
       "stream": "stdout",
       "text": [
        "\n",
        "finish processing 80000 articles using 368.21 seconds..."
       ]
      },
      {
       "output_type": "stream",
       "stream": "stdout",
       "text": [
        "\n",
        "finish processing 90000 articles using 421.00 seconds..."
       ]
      },
      {
       "output_type": "stream",
       "stream": "stdout",
       "text": [
        "\n",
        "finish processing 100000 articles using 474.17 seconds..."
       ]
      },
      {
       "output_type": "stream",
       "stream": "stdout",
       "text": [
        "\n"
       ]
      }
     ],
     "prompt_number": 6
    },
    {
     "cell_type": "code",
     "collapsed": false,
     "input": [
      "# the difference is caused by duplicate URLs\n",
      "print len(title_pageViews), len(vector_dict)"
     ],
     "language": "python",
     "metadata": {},
     "outputs": [
      {
       "output_type": "stream",
       "stream": "stdout",
       "text": [
        "561661 100000\n"
       ]
      }
     ],
     "prompt_number": 19
    },
    {
     "cell_type": "code",
     "collapsed": false,
     "input": [
      "key = vector_dict.keys()[10]\n",
      "print vector_dict[key].keys()"
     ],
     "language": "python",
     "metadata": {},
     "outputs": [
      {
       "output_type": "stream",
       "stream": "stdout",
       "text": [
        "['pageView', 'vectors', 'title_string']\n"
       ]
      }
     ],
     "prompt_number": 8
    },
    {
     "cell_type": "code",
     "collapsed": true,
     "input": [
      "vector_items = vector_dict.items()"
     ],
     "language": "python",
     "metadata": {},
     "outputs": [],
     "prompt_number": 9
    },
    {
     "cell_type": "code",
     "collapsed": false,
     "input": [
      "sorted_vecor = sorted(vector_items, key=lambda x: x[1]['pageView'], reverse=True)"
     ],
     "language": "python",
     "metadata": {},
     "outputs": [],
     "prompt_number": 10
    },
    {
     "cell_type": "code",
     "collapsed": false,
     "input": [
      "sorted_vecor[10]"
     ],
     "language": "python",
     "metadata": {},
     "outputs": [
      {
       "metadata": {},
       "output_type": "pyout",
       "prompt_number": 11,
       "text": [
        "('https://en.testony.com/test/what-age-do-you-look/225567',\n",
        " {'pageView': 921750.0,\n",
        "  'title_string': 'what age do you look ?',\n",
        "  'vectors': array([ 0.99300838,  2.06619668,  2.26133919, -0.36729908,  0.64540553,\n",
        "          1.05159497,  0.37690425, -0.41233599,  1.79020333,  1.82300472,\n",
        "         -1.25996256, -0.77858275,  0.64482725,  1.78010345, -1.81227231,\n",
        "         -0.93447161, -0.05193129,  1.60793447, -1.07613087,  3.12883186,\n",
        "         -0.43989635,  0.7842536 , -1.37940216, -1.9126662 ,  0.72824216,\n",
        "          2.21197414, -1.07991362, -2.14896679, -2.68631101, -0.13821608,\n",
        "         -2.15017343, -2.37084246,  1.54167545,  2.611624  ,  3.06954813,\n",
        "          2.03385568, -2.79071164,  0.12732753,  2.0260973 , -0.74589372,\n",
        "          1.03762233, -1.84770679,  0.15470363,  2.08290291,  2.51540351,\n",
        "          0.71464455,  0.17836343,  4.37279844,  0.90385169,  0.08890817,\n",
        "          1.43872046, -1.90211058, -2.52603483,  4.99059439,  0.86261129,\n",
        "         -0.64537072, -1.72417808, -5.17562437,  2.95505714,  2.66496897,\n",
        "         -2.86829662,  0.25463003,  3.08419299,  0.83374047,  0.61860704,\n",
        "         -1.53926516, -0.2430582 , -3.34502411,  2.82384682,  0.0893226 ,\n",
        "          2.75580168, -0.2727856 ,  1.59102225,  0.37940374, -1.08328879,\n",
        "         -1.6458683 ,  0.91004264, -0.64405107,  2.91232681,  1.97169399,\n",
        "         -0.1663001 , -0.64728856, -0.11357875, -0.97896194,  2.70274925,\n",
        "         -0.02044156,  1.76053727, -2.89380527, -0.4987492 ,  1.92262483,\n",
        "          1.30880833,  1.79558098, -0.17194098, -1.26272583, -3.13674593,\n",
        "          0.86129302, -0.11807514, -1.35592532, -3.21398282,  2.28467131,\n",
        "         -0.42814425, -2.39738345,  1.13320684,  0.45686856,  1.58200181,\n",
        "         -1.24270213,  1.36484611,  1.28571641, -0.52346599,  0.76007855,\n",
        "         -1.51340425, -0.05725042,  1.73003769, -0.46595195,  1.04080319,\n",
        "         -0.72753239, -0.43543148,  0.5059936 , -0.88233066, -0.82514495,\n",
        "         -0.02939766,  0.11716882,  1.9239291 ,  3.7506671 ,  1.27975273,\n",
        "          0.74513042,  1.94164491,  0.50284761], dtype=float32)})"
       ]
      }
     ],
     "prompt_number": 11
    },
    {
     "cell_type": "code",
     "collapsed": false,
     "input": [
      "#vector_dict['http://www.chicagotribune.com/lifestyles/sns-201706141112--tms--hscopebctnzz-a20170708-20170708-story.html']"
     ],
     "language": "python",
     "metadata": {},
     "outputs": [],
     "prompt_number": 12
    },
    {
     "cell_type": "code",
     "collapsed": true,
     "input": [
      "def square_rooted(x):\n",
      "    return math.sqrt(sum([a*a for a in x]))\n",
      " \n",
      "def euclidean_distance(x,y):\n",
      "     return math.sqrt(sum(math.pow(a - b, 2) for a, b in zip(x, y)))\n",
      "\n",
      "def manhattan_distance(x,y): \n",
      "    return sum(abs(a - b) for a,b in zip(x,y))\n",
      "\n",
      "def cosine_similarity(x, y):\n",
      "    numerator = sum(a*b for a, b in zip(x,y))\n",
      "    denominator = square_rooted(x) * square_rooted(y)\n",
      "    #denominator = (square_rooted(x) + square_rooted(y))\n",
      "\n",
      "    return numerator / denominator"
     ],
     "language": "python",
     "metadata": {},
     "outputs": [],
     "prompt_number": 13
    },
    {
     "cell_type": "code",
     "collapsed": false,
     "input": [
      "index = 69\n",
      "print sorted_vecor[index][1]['title_string']\n",
      "selected_key = sorted_vecor[index][0]\n",
      "print selected_key"
     ],
     "language": "python",
     "metadata": {},
     "outputs": [
      {
       "output_type": "stream",
       "stream": "stdout",
       "text": [
        "trump administration ends low-income retirement savings plan\n",
        "https://www.usatoday.com/story/money/2017/07/28/trump-administration-ends-low-income-retirement-savings-plan/519761001/\n"
       ]
      }
     ],
     "prompt_number": 24
    },
    {
     "cell_type": "code",
     "collapsed": true,
     "input": [
      "i = 400\n",
      "sorted_vecor[i][1]['vectors']"
     ],
     "language": "python",
     "metadata": {},
     "outputs": [
      {
       "metadata": {},
       "output_type": "pyout",
       "prompt_number": 28,
       "text": [
        "array([ 2.06001258,  1.74279237,  2.14093137, -0.47223616,  2.12118864,\n",
        "        1.44879735,  0.11716247,  0.795807  , -2.63710666,  1.08581281,\n",
        "       -1.62125826,  0.28093761,  1.86082029,  2.16041899, -1.47547555,\n",
        "       -0.33835903, -0.41745639,  1.59090197, -1.45184791,  3.4165113 ,\n",
        "       -0.68782604, -0.88916421, -1.59605956,  0.08593644,  0.33728135,\n",
        "        1.90312958, -0.16090925,  1.24857223, -1.4516027 ,  0.09067947,\n",
        "       -1.52384269, -2.66789842,  1.97444797,  3.13937187,  1.68146491,\n",
        "        2.09028912,  2.12181878,  0.64319211,  1.84009624, -1.36761439,\n",
        "        1.91733193, -1.56400728,  1.19882584,  2.24289894,  0.33870786,\n",
        "        1.5749222 , -1.3939476 , -0.41255793,  3.85653186, -0.07984363,\n",
        "        0.59540248, -1.75866997, -2.59378195,  5.79703331,  0.33519498,\n",
        "       -0.01563287, -3.1515348 , -4.81092167, -2.5696249 ,  2.67143345,\n",
        "       -2.53109932, -0.69302732, -1.77401817,  0.31057918,  0.09408297,\n",
        "       -0.84358394,  3.32528305, -0.74414122,  3.35501719,  1.64782691,\n",
        "        2.55410504,  0.4601028 ,  2.65630388,  1.07486534, -1.86984539,\n",
        "        1.05646634,  2.34181499, -1.03212965,  2.94735241,  0.6873889 ,\n",
        "       -3.69562149, -1.92990041,  1.18209815, -1.38742721,  2.55311155,\n",
        "        1.57363081,  1.17457294, -3.54388571, -0.51349306,  2.03306437,\n",
        "       -0.66012603,  1.05335593, -2.60677862, -0.77782017, -3.73434687,\n",
        "       -0.38069224,  0.96143901, -1.47948885, -3.64699173,  0.93732184,\n",
        "        1.4342097 ,  0.78899658,  0.88324577,  0.96254879,  3.4942019 ,\n",
        "       -1.04772794, -1.39046657,  2.24532771, -1.98732257,  1.76627684,\n",
        "       -0.62747538, -1.10717988,  0.43871748, -0.84677696,  1.20603979,\n",
        "       -1.12997377, -0.34869075,  3.34375048, -2.05329847, -0.89857495,\n",
        "       -0.68221772,  0.72994167,  0.01026108,  2.76150894,  2.46112585,\n",
        "        1.33629417,  1.9471103 ,  0.62213945], dtype=float32)"
       ]
      }
     ],
     "prompt_number": 28
    },
    {
     "cell_type": "heading",
     "level": 4,
     "metadata": {},
     "source": [
      "use `index` to loop through all the articles"
     ]
    },
    {
     "cell_type": "code",
     "collapsed": false,
     "input": [
      "cosine_results, euclidean_results = [], []\n",
      "#selected_key = 'http://www.cbssports.com/nba/news/nba-draft-lavar-ball-guarantees-lonzo-will-lead-lakers-to-playoffs-next-season/'\n",
      "print selected_key\n",
      "print '\\n \\n'\n",
      "start_time = time.time()\n",
      "#for i in xrange(len(sorted_vecor)):\n",
      "for i in xrange(100000):\n",
      "    if i == index:\n",
      "        continue\n",
      "    cosine_result = cosine_similarity(sorted_vecor[index][1]['vectors'], sorted_vecor[i][1]['vectors'])\n",
      "    euclidean_result = euclidean_distance(sorted_vecor[index][1]['vectors'], sorted_vecor[i][1]['vectors'])\n",
      "    cosine_results.append(cosine_result)\n",
      "    euclidean_results.append(euclidean_result)\n",
      "print 'all the process takes {:.2f} seconds...'.format(time.time() - start_time)"
     ],
     "language": "python",
     "metadata": {},
     "outputs": [
      {
       "output_type": "stream",
       "stream": "stdout",
       "text": [
        "https://www.usatoday.com/story/money/2017/07/28/trump-administration-ends-low-income-retirement-savings-plan/519761001/\n",
        "\n",
        " \n",
        "\n",
        "all the process takes 17.67 seconds..."
       ]
      },
      {
       "output_type": "stream",
       "stream": "stdout",
       "text": [
        "\n"
       ]
      }
     ],
     "prompt_number": 25
    },
    {
     "cell_type": "code",
     "collapsed": false,
     "input": [
      "#plt.hist(euclidean_results, bins=50)\n",
      "plt.hist(cosine_results, bins=50)"
     ],
     "language": "python",
     "metadata": {},
     "outputs": [
      {
       "metadata": {},
       "output_type": "pyout",
       "prompt_number": 29,
       "text": [
        "(array([  9.00000000e+00,   1.00000000e+00,   8.00000000e+00,\n",
        "          1.10000000e+01,   5.60000000e+01,   1.33000000e+02,\n",
        "          2.10000000e+02,   2.11000000e+02,   4.52000000e+02,\n",
        "          4.95000000e+02,   8.91000000e+02,   8.66000000e+02,\n",
        "          4.67400000e+03,   2.19800000e+03,   2.30300000e+03,\n",
        "          2.54200000e+03,   2.99400000e+03,   4.73700000e+03,\n",
        "          5.32300000e+03,   6.38000000e+03,   6.86900000e+03,\n",
        "          7.16300000e+03,   7.02200000e+03,   7.51900000e+03,\n",
        "          7.32100000e+03,   7.03600000e+03,   6.32200000e+03,\n",
        "          4.76900000e+03,   4.21900000e+03,   2.78000000e+03,\n",
        "          1.88500000e+03,   1.13700000e+03,   7.06000000e+02,\n",
        "          3.87000000e+02,   2.22000000e+02,   9.40000000e+01,\n",
        "          4.00000000e+01,   1.00000000e+01,   3.00000000e+00,\n",
        "          0.00000000e+00,   0.00000000e+00,   0.00000000e+00,\n",
        "          0.00000000e+00,   0.00000000e+00,   0.00000000e+00,\n",
        "          0.00000000e+00,   0.00000000e+00,   0.00000000e+00,\n",
        "          0.00000000e+00,   1.00000000e+00]),\n",
        " array([ 0.18190392,  0.19826584,  0.21462776,  0.23098969,  0.24735161,\n",
        "         0.26371353,  0.28007545,  0.29643737,  0.31279929,  0.32916121,\n",
        "         0.34552314,  0.36188506,  0.37824698,  0.3946089 ,  0.41097082,\n",
        "         0.42733274,  0.44369467,  0.46005659,  0.47641851,  0.49278043,\n",
        "         0.50914235,  0.52550427,  0.5418662 ,  0.55822812,  0.57459004,\n",
        "         0.59095196,  0.60731388,  0.6236758 ,  0.64003772,  0.65639965,\n",
        "         0.67276157,  0.68912349,  0.70548541,  0.72184733,  0.73820925,\n",
        "         0.75457118,  0.7709331 ,  0.78729502,  0.80365694,  0.82001886,\n",
        "         0.83638078,  0.85274271,  0.86910463,  0.88546655,  0.90182847,\n",
        "         0.91819039,  0.93455231,  0.95091424,  0.96727616,  0.98363808,  1.        ]),\n",
        " <a list of 50 Patch objects>)"
       ]
      },
      {
       "metadata": {},
       "output_type": "display_data",
       "png": "[encoded data removed]",
       "text": [
        "<matplotlib.figure.Figure at 0x7fdde85eb250>"
       ]
      }
     ],
     "prompt_number": 29
    },
    {
     "cell_type": "code",
     "collapsed": true,
     "input": [
      "#cosine_results, euclidean_results = [], []"
     ],
     "language": "python",
     "metadata": {},
     "outputs": [],
     "prompt_number": 17
    },
    {
     "cell_type": "code",
     "collapsed": false,
     "input": [
      "cosine_threshold = 0.8\n",
      "euclidean_threshold = 20\n",
      "\n",
      "'''\n",
      "for i in xrange(len(euclidean_results)):\n",
      "    if euclidean_results[i] < euclidean_threshold:\n",
      "        print sorted_vecor[i][0], sorted_vecor[i][1]['title_string']\n",
      "'''\n",
      "\n",
      "#'''        \n",
      "for i in xrange(len(cosine_results)):\n",
      "    if cosine_results[i] > cosine_threshold:\n",
      "        print cosine_results[i]\n",
      "        print sorted_vecor[i][0], sorted_vecor[i][1]['title_string']\n",
      "#'''"
     ],
     "language": "python",
     "metadata": {},
     "outputs": [
      {
       "output_type": "stream",
       "stream": "stdout",
       "text": [
        "1.0\n",
        "http://www.fox23.com/news/east-tulsa-homeowner-catches-burglary-on-video/573391399 east tulsa homeowner catches burglary on video\n",
        "0.805662762036\n",
        "http://www.hivisasa.com/posts/f8166c50-02eb-4a7a-a6ae-0cb3e72fe47c questions over _UNK kibaki health\n",
        "0.805901347677\n",
        "http://www.app.com/story/sports/college/monmouth-university/2017/07/26/monmouth-freshman-deion-hammond-debuts-jsbl/511875001/ monmouth freshman deion hammond debuts at _UNK\n",
        "0.81101141947\n",
        "http://www.ynetnews.com/articles/www.ynetnews.com/articles/0,7340,L-4986698,00.html ynetnews - news - sorry page\n"
       ]
      }
     ],
     "prompt_number": 30
    },
    {
     "cell_type": "code",
     "collapsed": true,
     "input": [],
     "language": "python",
     "metadata": {},
     "outputs": [],
     "prompt_number": 18
    },
    {
     "cell_type": "code",
     "collapsed": true,
     "input": [],
     "language": "python",
     "metadata": {},
     "outputs": [],
     "prompt_number": null
    },
    {
     "cell_type": "heading",
     "level": 4,
     "metadata": {},
     "source": [
      "use the `key` to loop through all the titles"
     ]
    },
    {
     "cell_type": "code",
     "collapsed": false,
     "input": [
      "results = []\n",
      "#selected_key = 'http://www.cbssports.com/nba/news/nba-draft-lavar-ball-guarantees-lonzo-will-lead-lakers-to-playoffs-next-season/'\n",
      "print selected_key\n",
      "print '\\n \\n'\n",
      "for key in vector_dict.keys():\n",
      "    if key == selected_key:\n",
      "        continue\n",
      "    #vector_index = 0\n",
      "    #cosine_result = cosine_similarity(vector_dict[selected_key]['vectors'][vector_index], vector_dict[key]['vectors'][vector_index])\n",
      "    #euclidean_result = euclidean_distance(vector_dict[selected_key]['vectors'][vector_index], vector_dict[key]['vectors'][vector_index])\n",
      "    #result = cosine_result\n",
      "    start_time = time.time()\n",
      "    cosine_result = cosine_similarity(vector_dict[selected_key]['vectors'], vector_dict[key]['vectors'])\n",
      "    euclidean_result = euclidean_distance(vector_dict[selected_key]['vectors'], vector_dict[key]['vectors'])\n",
      "    result = cosine_result\n",
      "    print 'all the process takes {:.2f} seconds...'.format(time.time() - start_time)\n",
      "    #result = euclidean_result\n",
      "    #result = 10 * (1 - cosine_result) * euclidean_result\n",
      "    #result = manhattan_distance(vector_dict[selected_key]['vectors'][0], vector_dict[key]['vectors'][0])\n",
      "    #if result < 18:\n",
      "    #if result > 0.92:\n",
      "        #print key, result\n",
      "        #print vector_dict[key]['pageView']\n",
      "    \n",
      "    #print cosine_result, euclidean_result, result\n",
      "    results.append(result)"
     ],
     "language": "python",
     "metadata": {},
     "outputs": [],
     "prompt_number": null
    },
    {
     "cell_type": "code",
     "collapsed": false,
     "input": [
      "plt.hist(results, bins=50)"
     ],
     "language": "python",
     "metadata": {
      "scrolled": true
     },
     "outputs": [],
     "prompt_number": null
    },
    {
     "cell_type": "code",
     "collapsed": true,
     "input": [],
     "language": "python",
     "metadata": {},
     "outputs": [],
     "prompt_number": null
    }
   ],
   "metadata": {}
  }
 ]
}