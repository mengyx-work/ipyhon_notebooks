{
 "metadata": {
  "kernelspec": {
   "display_name": "Python 2",
   "language": "python",
   "name": "python2"
  },
  "language_info": {
   "codemirror_mode": {
    "name": "ipython",
    "version": 2
   },
   "file_extension": ".py",
   "mimetype": "text/x-python",
   "name": "python",
   "nbconvert_exporter": "python",
   "pygments_lexer": "ipython2",
   "version": "2.7.10"
  },
  "name": "",
  "signature": "sha256:ffcc38cf817803b8e10f12563b67e3487cfcfc020c59c566960ad7fb189e0bcb"
 },
 "nbformat": 3,
 "nbformat_minor": 0,
 "worksheets": [
  {
   "cells": [
    {
     "cell_type": "code",
     "collapsed": true,
     "input": [
      "%matplotlib inline  \n",
      "\n",
      "import sys, os, time, math\n",
      "import cPickle as pickle\n",
      "import tensorflow as tf\n",
      "sys.path.append('/home/matt.meng/dev/seq2seq_model')\n",
      "from data import DataGenerator, process_batch\n",
      "from utils import model_meta_file\n",
      "from data_preprocess import TOKEN_DICT, _GO, _EOS\n",
      "import matplotlib.pyplot as plt"
     ],
     "language": "python",
     "metadata": {},
     "outputs": [],
     "prompt_number": 1
    },
    {
     "cell_type": "code",
     "collapsed": false,
     "input": [
      "%%bash\n",
      "ls /home/matt.meng/local_tensorflow_content/"
     ],
     "language": "python",
     "metadata": {},
     "outputs": [
      {
       "output_type": "stream",
       "stream": "stdout",
       "text": [
        "large_16embed_32hid\n",
        "large_16embed_8hid\n",
        "large_32embed_32hid\n",
        "large_32embed_32hid_bk\n",
        "large_32embed_64hid\n",
        "large_64embed_128hid\n",
        "large_8embed_16hid\n",
        "new_16embed_8hid\n",
        "new_32embed_128hid\n",
        "new_8embed_256hid\n",
        "seq2seq\n",
        "seq2seq_16embed_128hid\n",
        "seq2seq_64embed_128hid\n"
       ]
      }
     ],
     "prompt_number": 2
    },
    {
     "cell_type": "code",
     "collapsed": false,
     "input": [
      "#pickle_file = 'processed_titles_data.pkl'\n",
      "pickle_file = 'new_processed_titles_data.pkl'\n",
      "\n",
      "#local_model_path = '/home/matt.meng/local_tensorflow_content/large_64embed_128hid'\n",
      "#local_model_path = '/home/matt.meng/local_tensorflow_content/large_32embed_32hid'\n",
      "#local_model_path = '/home/matt.meng/local_tensorflow_content/large_8embed_16hid/'\n",
      "\n",
      "#local_model_path = '/home/matt.meng/local_tensorflow_content/new_16embed_8hid'\n",
      "#local_model_path = '/home/matt.meng/local_tensorflow_content/new_32embed_128hid'\n",
      "local_model_path = '/home/matt.meng/local_tensorflow_content/new_8embed_256hid'"
     ],
     "language": "python",
     "metadata": {},
     "outputs": [],
     "prompt_number": 3
    },
    {
     "cell_type": "code",
     "collapsed": false,
     "input": [
      "#with open(pickle_file_path, 'rb') as input_stream:\n",
      "#    data = pickle.load(input_stream)"
     ],
     "language": "python",
     "metadata": {},
     "outputs": [],
     "prompt_number": 4
    },
    {
     "cell_type": "code",
     "collapsed": false,
     "input": [
      "encoder_output_c_name = 'encoder_decoder_sequence/encoder/while/Exit_2:0'\n",
      "encoder_output_h_name = 'encoder_decoder_sequence/encoder/while/Exit_3:0'\n",
      "\n",
      "\n",
      "pickle_file_path = os.path.join(os.path.expanduser(\"~\"), pickle_file)\n",
      "with open(pickle_file_path, 'rb') as input_stream:\n",
      "    data = pickle.load(input_stream)\n",
      "titles = data['titles']\n",
      "reverse_token_dict = data['reverse_token_dict']\n",
      "title_urls = data['url']\n",
      "title_pageViews = data['pageViw']"
     ],
     "language": "python",
     "metadata": {},
     "outputs": [],
     "prompt_number": 5
    },
    {
     "cell_type": "code",
     "collapsed": false,
     "input": [
      "data.keys()"
     ],
     "language": "python",
     "metadata": {},
     "outputs": [
      {
       "metadata": {},
       "output_type": "pyout",
       "prompt_number": 6,
       "text": [
        "['url', 'reverse_token_dict', 'pageViw', 'titles', 'token_dict']"
       ]
      }
     ],
     "prompt_number": 6
    },
    {
     "cell_type": "code",
     "collapsed": false,
     "input": [
      "local_model_path"
     ],
     "language": "python",
     "metadata": {},
     "outputs": [
      {
       "metadata": {},
       "output_type": "pyout",
       "prompt_number": 7,
       "text": [
        "'/home/matt.meng/local_tensorflow_content/new_8embed_256hid'"
       ]
      }
     ],
     "prompt_number": 7
    },
    {
     "cell_type": "code",
     "collapsed": false,
     "input": [
      "#c_vector_list, h_vector_list = [], []\n",
      "vector_dict = {}\n",
      "saver = tf.train.import_meta_graph(model_meta_file(local_model_path))\n",
      "\n",
      "config = tf.ConfigProto(device_count = {'GPU': 0})\n",
      "\n",
      "#with tf.Session(config=config) as sess:\n",
      "with tf.Session() as sess:\n",
      "    saver.restore(sess, tf.train.latest_checkpoint(local_model_path))\n",
      "    \n",
      "    encoder_inputs = sess.graph.get_tensor_by_name(\"initial_inputs/encoder_inputs:0\")\n",
      "    decoder_inputs = sess.graph.get_tensor_by_name(\"initial_inputs/decoder_inputs:0\")\n",
      "    decoder_targets = sess.graph.get_tensor_by_name(\"initial_inputs/decoder_targets:0\")\n",
      "    dropout_input_keep_prob = sess.graph.get_tensor_by_name(\"initial_inputs/dropout_input_keep_prob:0\")\n",
      "\n",
      "    encoder_output_c = sess.graph.get_tensor_by_name('encoder_decoder_sequence/encoder/while/Exit_2:0')\n",
      "    encoder_output_h = sess.graph.get_tensor_by_name('encoder_decoder_sequence/encoder/while/Exit_3:0')\n",
      "    counter = 0\n",
      "    start_time = time.time()\n",
      "    #for i in xrange(len(titles)):\n",
      "    for i in xrange(10000):\n",
      "        counter += 1\n",
      "        vector_dict[title_urls[i]] = {'pageView' : title_pageViews[i], \n",
      "                                      'title_string' : ' '.join(map(reverse_token_dict.get, titles[i]))}\n",
      "        #title = ' '.join(map(reverse_token_dict.get, titles[i]))\n",
      "        encoder_inputs_, _ = process_batch([titles[i] + [TOKEN_DICT[_EOS]]])\n",
      "        decoder_targets_, _ = process_batch([titles[i] + [TOKEN_DICT[_EOS]]])\n",
      "        decoder_inputs_, _ = process_batch([[TOKEN_DICT[_GO]] + titles[i]])\n",
      "        c_vector, h_vector = sess.run([encoder_output_c, encoder_output_h], {encoder_inputs : encoder_inputs_,\n",
      "                                                                             decoder_inputs : decoder_inputs_, \n",
      "                                                                             decoder_targets : decoder_targets_, \n",
      "                                                                             dropout_input_keep_prob : 1.})\n",
      "        vector_dict[title_urls[i]]['c_vectors'] = c_vector[0]\n",
      "        vector_dict[title_urls[i]]['h_vectors'] = h_vector[0]\n",
      "        vector_dict[title_urls[i]]['combined_vectors'] = (c_vector[0] + h_vector[0])\n",
      "\n",
      "        #c_vector_list.append(c_vector)\n",
      "        #h_vector_list.append(h_vector)\n",
      "        if counter % 5000 == 0:\n",
      "            print 'finish processing {} articles using {:.2f} seconds...'.format(counter, time.time() - start_time)"
     ],
     "language": "python",
     "metadata": {},
     "outputs": [
      {
       "output_type": "stream",
       "stream": "stdout",
       "text": [
        "warning, more than one model meta file is found in /home/matt.meng/local_tensorflow_content/new_8embed_256hid\n",
        "INFO:tensorflow:Restoring parameters from /home/matt.meng/local_tensorflow_content/new_8embed_256hid/models-750000\n"
       ]
      },
      {
       "output_type": "stream",
       "stream": "stderr",
       "text": [
        "INFO:tensorflow:Restoring parameters from /home/matt.meng/local_tensorflow_content/new_8embed_256hid/models-750000\n"
       ]
      },
      {
       "output_type": "stream",
       "stream": "stdout",
       "text": [
        "finish processing 5000 articles using 31.58 seconds...\n",
        "finish processing 10000 articles using 66.79 seconds..."
       ]
      },
      {
       "output_type": "stream",
       "stream": "stdout",
       "text": [
        "\n"
       ]
      }
     ],
     "prompt_number": 9
    },
    {
     "cell_type": "code",
     "collapsed": false,
     "input": [],
     "language": "python",
     "metadata": {},
     "outputs": []
    },
    {
     "cell_type": "code",
     "collapsed": false,
     "input": [
      "# the difference is caused by duplicate URLs\n",
      "print len(title_pageViews), len(vector_dict)"
     ],
     "language": "python",
     "metadata": {},
     "outputs": [
      {
       "output_type": "stream",
       "stream": "stdout",
       "text": [
        "115583 10000\n"
       ]
      }
     ],
     "prompt_number": 10
    },
    {
     "cell_type": "code",
     "collapsed": false,
     "input": [
      "key = vector_dict.keys()[10]\n",
      "print vector_dict[key].keys()"
     ],
     "language": "python",
     "metadata": {},
     "outputs": [
      {
       "output_type": "stream",
       "stream": "stdout",
       "text": [
        "['h_vectors', 'pageView', 'c_vectors', 'combined_vectors', 'title_string']\n"
       ]
      }
     ],
     "prompt_number": 11
    },
    {
     "cell_type": "code",
     "collapsed": true,
     "input": [
      "vector_items = vector_dict.items()"
     ],
     "language": "python",
     "metadata": {},
     "outputs": [],
     "prompt_number": 12
    },
    {
     "cell_type": "code",
     "collapsed": false,
     "input": [
      "sorted_vecor = sorted(vector_items, key=lambda x: x[1]['pageView'], reverse=True)"
     ],
     "language": "python",
     "metadata": {},
     "outputs": [],
     "prompt_number": 13
    },
    {
     "cell_type": "code",
     "collapsed": false,
     "input": [
      "sorted_vecor[10]"
     ],
     "language": "python",
     "metadata": {},
     "outputs": [
      {
       "metadata": {},
       "output_type": "pyout",
       "prompt_number": 14,
       "text": [
        "('http://www.msn.com/en-us/money/companies/harley-davidson-is-losing-its-cool/ar-BBEGRSQ',\n",
        " {'c_vectors': array([ -2.87905872e-01,  -1.06589878e+00,  -9.52594936e-01,\n",
        "           9.51671898e-02,   1.52256203e+00,   3.29797089e-01,\n",
        "           1.06658351e+00,   2.86686063e+00,   9.41939414e-01,\n",
        "          -6.06732428e-01,   1.45999014e+00,   1.89112091e+00,\n",
        "           7.98927844e-01,  -1.58887431e-02,  -5.05576394e-02,\n",
        "           6.26731694e-01,   2.87634468e+00,  -3.01760125e+00,\n",
        "          -2.24560547e+00,  -7.57605731e-02,  -2.18242455e+00,\n",
        "          -6.85162425e-01,  -5.90069950e-01,  -5.28816767e-02,\n",
        "          -5.01438379e-01,  -1.96293086e-01,  -8.50223675e-02,\n",
        "          -1.42306805e+00,  -1.23170484e-03,   2.98776436e+00,\n",
        "          -1.71672845e+00,  -5.80317616e-01,  -2.19294250e-01,\n",
        "          -2.43660748e-01,   9.81259942e-02,  -7.16345757e-02,\n",
        "           4.29816730e-03,   1.43022990e+00,  -2.70913649e+00,\n",
        "           1.41635150e-01,  -1.71257377e-01,   1.64567184e+00,\n",
        "          -1.71965197e-01,  -2.68587857e-01,  -1.16385426e-02,\n",
        "           2.46342450e-01,   5.10225534e-01,   2.66603798e-01,\n",
        "           4.40563746e-02,  -1.34477615e+00,   3.00388765e+00,\n",
        "          -5.28517962e-02,  -1.21356511e+00,   8.84697020e-01,\n",
        "          -1.20532846e+00,   1.14633963e-02,  -1.03831708e-01,\n",
        "           1.08357239e+00,  -2.98782110e+00,   1.03884828e+00,\n",
        "          -1.94634175e+00,  -1.76589155e+00,   5.30662417e-01,\n",
        "          -7.73990676e-02,  -9.20526743e-01,  -9.23044324e-01,\n",
        "          -5.32291830e-02,  -9.49958712e-03,   1.81581572e-01,\n",
        "           9.37058210e-01,   3.53329062e-01,   8.47603798e-01,\n",
        "           4.10330474e-01,   6.35209918e-01,   2.75413971e-03,\n",
        "           1.84079945e+00,   3.63977879e-01,   1.87469578e+00,\n",
        "           6.72693193e-01,  -1.04400837e+00,  -3.35345238e-01,\n",
        "           3.68360579e-01,  -3.69458765e-01,  -9.94103551e-01,\n",
        "           2.23179770e+00,   3.52179050e-01,  -5.91289580e-01,\n",
        "          -5.01472890e-01,  -2.30283767e-01,   3.73033341e-04,\n",
        "           6.78753853e-01,  -2.54148245e-01,  -2.32599068e+00,\n",
        "          -2.00727844e+00,  -9.66597021e-01,   6.26589179e-01,\n",
        "          -1.43570662e+00,   1.63519204e+00,  -3.09816569e-01,\n",
        "          -1.11429892e-01,  -2.95668453e-01,   1.86376512e-01,\n",
        "           7.59773552e-01,  -4.22013819e-01,  -5.63178241e-01,\n",
        "           2.41566586e+00,  -2.83770829e-01,   4.91791904e-01,\n",
        "          -5.09675108e-02,   4.67447378e-02,  -1.41159907e-01,\n",
        "          -5.92417233e-02,  -9.48131904e-02,  -1.07977808e-01,\n",
        "          -1.25912869e+00,  -2.16726124e-01,  -1.18348098e+00,\n",
        "           3.70128274e-01,  -8.43531907e-01,   3.92518133e-01,\n",
        "          -9.73434865e-01,   2.55995798e+00,  -6.22650385e-01,\n",
        "           2.73334360e+00,  -8.24885964e-01,  -1.27547669e+00,\n",
        "           3.63349438e-01,   8.54807377e-01,  -4.68802452e-01,\n",
        "          -9.00395811e-01,   1.56422544e+00,   9.96986926e-02,\n",
        "           4.34368253e-02,  -8.39181710e-03,   3.38361979e-01,\n",
        "          -1.03877258e+00,   1.02678999e-01,   3.72431055e-02,\n",
        "          -5.20390391e-01,   1.02938604e+00,  -3.10416758e-01,\n",
        "          -2.10001934e-02,  -2.31780812e-01,   7.34088421e-01,\n",
        "           9.36888337e-01,  -1.33324933e+00,   4.02204543e-01,\n",
        "           1.00341475e+00,  -6.40799642e-01,   7.24768937e-02,\n",
        "           6.55241460e-02,   9.87604678e-01,   6.57199264e-01,\n",
        "           6.21886514e-02,   1.33441146e-02,  -3.72104347e-04,\n",
        "          -1.83966029e+00,   8.44388083e-02,   2.26199746e+00,\n",
        "           1.21535212e-01,  -9.50856414e-03,  -7.16005802e-01,\n",
        "           2.81618368e-02,   2.63941882e-04,  -5.01442477e-02,\n",
        "           1.31522107e+00,   2.00164959e-01,  -2.99298763e-01,\n",
        "          -1.42419481e+00,   2.07384080e-01,  -1.01758754e+00,\n",
        "           9.24650133e-02,   6.29067063e-01,  -4.43077385e-02,\n",
        "          -4.79477383e-02,   6.48177743e-01,   9.07186866e-01,\n",
        "           1.79581082e+00,   4.31073189e-01,  -1.00210762e+00,\n",
        "          -5.37336588e-01,  -4.76015598e-01,  -3.12967569e-01,\n",
        "           4.32587206e-01,   1.75708926e+00,   2.67875139e-02,\n",
        "          -4.54496533e-01,   5.96913278e-01,   3.83722395e-01,\n",
        "          -5.05402908e-02,   3.06058311e+00,   3.23795557e-01,\n",
        "           1.77899659e+00,  -1.06745625e+00,   2.28405625e-01,\n",
        "           6.38712943e-02,   3.53278965e-02,  -3.43726397e-01,\n",
        "          -3.37053873e-02,  -7.75571465e-01,  -9.63817358e-01,\n",
        "           2.14773461e-01,  -1.97953010e+00,   2.80654341e-01,\n",
        "          -2.39616334e-01,   1.62012053e+00,  -4.26867008e-01,\n",
        "           3.54108572e-01,   1.64373711e-01,  -2.07406431e-01,\n",
        "          -6.19935334e-01,  -1.05037165e+00,  -2.96066999e-01,\n",
        "           7.25143313e-01,  -1.48256332e-01,  -1.88676268e-01,\n",
        "           1.49939346e+00,   3.49887237e-02,   1.26455760e+00,\n",
        "           5.04380539e-02,  -9.67295393e-02,   7.62382001e-02,\n",
        "           1.90132523e+00,  -2.98063111e+00,  -5.69091618e-01,\n",
        "           8.83030832e-01,  -2.77426720e-01,  -7.35217929e-01,\n",
        "           9.77966726e-01,  -1.31839252e+00,   2.44176179e-01,\n",
        "          -6.80923343e-01,   1.05328679e+00,  -4.86171722e-01,\n",
        "           8.77605900e-02,   1.12361014e-01,   4.71096516e-01,\n",
        "           8.60846043e-02,  -4.11438644e-02,   1.80258167e+00,\n",
        "           8.16391349e-01,  -1.96535873e+00,  -4.58709061e-01,\n",
        "          -9.41012129e-02,  -4.02002782e-03,   2.15583026e-01,\n",
        "           8.28610182e-01,   5.18162966e-01,  -8.71948123e-01,\n",
        "           1.85046470e+00,   7.06604645e-02,  -5.35912216e-02,\n",
        "          -1.72933078e+00,  -1.76806962e+00,   6.16125204e-02,\n",
        "           1.16226768e+00], dtype=float32),\n",
        "  'combined_vectors': array([ -4.39388216e-01,  -1.08208752e+00,  -1.10031426e+00,\n",
        "           1.09941550e-01,   1.65077424e+00,   4.59844649e-01,\n",
        "           1.08678162e+00,   2.86976957e+00,   9.45902348e-01,\n",
        "          -7.63275862e-01,   1.48148620e+00,   1.89177608e+00,\n",
        "           1.06726933e+00,  -1.87302735e-02,  -9.00131613e-02,\n",
        "           6.54363215e-01,   2.88830495e+00,  -3.03424072e+00,\n",
        "          -2.30838728e+00,  -1.28689751e-01,  -2.18400025e+00,\n",
        "          -1.17359447e+00,  -8.49643111e-01,  -1.03020236e-01,\n",
        "          -5.07044792e-01,  -3.17831039e-01,  -1.64073467e-01,\n",
        "          -1.50219679e+00,  -1.68713438e-03,   2.98961473e+00,\n",
        "          -1.72395134e+00,  -6.53796375e-01,  -2.19760254e-01,\n",
        "          -2.50295699e-01,   1.39520749e-01,  -1.14987925e-01,\n",
        "           5.38637443e-03,   1.45278609e+00,  -3.23168206e+00,\n",
        "           1.80291206e-01,  -2.10232884e-01,   1.87370515e+00,\n",
        "          -2.31656164e-01,  -3.24536353e-01,  -2.08847988e-02,\n",
        "           4.82481807e-01,   5.22276819e-01,   4.36883301e-01,\n",
        "           6.69064000e-02,  -1.35151982e+00,   3.04595399e+00,\n",
        "          -1.02960795e-01,  -1.25455463e+00,   9.08229470e-01,\n",
        "          -1.32775056e+00,   2.28592698e-02,  -1.81247681e-01,\n",
        "           1.15340626e+00,  -3.03905582e+00,   1.38294220e+00,\n",
        "          -1.97128797e+00,  -1.88577032e+00,   5.60019791e-01,\n",
        "          -8.63882154e-02,  -9.37502861e-01,  -1.22308826e+00,\n",
        "          -6.11518733e-02,  -1.51963327e-02,   3.21184337e-01,\n",
        "           1.23778975e+00,   4.02255058e-01,   8.56548786e-01,\n",
        "           4.21948582e-01,   6.73657179e-01,   4.64252243e-03,\n",
        "           1.84983218e+00,   6.28174424e-01,   1.93054271e+00,\n",
        "           7.24072337e-01,  -1.06259644e+00,  -5.77511132e-01,\n",
        "           3.72090340e-01,  -3.75358701e-01,  -1.54862309e+00,\n",
        "           2.24905968e+00,   3.80289614e-01,  -8.86605740e-01,\n",
        "          -5.70305586e-01,  -2.37803757e-01,   6.73032948e-04,\n",
        "           7.18394101e-01,  -4.97128010e-01,  -2.34070516e+00,\n",
        "          -2.09348559e+00,  -9.91821647e-01,   7.14485705e-01,\n",
        "          -1.54164732e+00,   1.65243411e+00,  -5.48179090e-01,\n",
        "          -2.21430540e-01,  -3.64298373e-01,   2.79155970e-01,\n",
        "           9.15191293e-01,  -4.24713016e-01,  -8.75521064e-01,\n",
        "           2.43575740e+00,  -3.67213279e-01,   5.39294243e-01,\n",
        "          -6.18299395e-02,   8.91089439e-02,  -1.65953934e-01,\n",
        "          -1.09369218e-01,  -1.11942485e-01,  -2.14586914e-01,\n",
        "          -1.30664420e+00,  -2.25459963e-01,  -1.20604968e+00,\n",
        "           4.01905268e-01,  -9.13652658e-01,   4.60652530e-01,\n",
        "          -1.61775541e+00,   2.56794095e+00,  -7.33801067e-01,\n",
        "           2.74382973e+00,  -8.30592155e-01,  -1.28368533e+00,\n",
        "           4.56946552e-01,   8.57301772e-01,  -4.85036850e-01,\n",
        "          -9.12242353e-01,   1.61955321e+00,   1.98952824e-01,\n",
        "           5.17960340e-02,  -1.26459012e-02,   4.40399349e-01,\n",
        "          -1.81473815e+00,   1.21409521e-01,   4.76805344e-02,\n",
        "          -5.48247933e-01,   1.79811096e+00,  -3.16389322e-01,\n",
        "          -3.87140140e-02,  -2.39384606e-01,   7.62724996e-01,\n",
        "           9.58610237e-01,  -1.39097822e+00,   5.53105175e-01,\n",
        "           1.00904655e+00,  -6.97319150e-01,   1.31005913e-01,\n",
        "           7.25912899e-02,   1.04423630e+00,   7.29374647e-01,\n",
        "           1.13278553e-01,   2.40604039e-02,  -3.98625009e-04,\n",
        "          -1.90305662e+00,   9.32409838e-02,   2.26489925e+00,\n",
        "           1.79337353e-01,  -1.71472486e-02,  -7.23886788e-01,\n",
        "           5.46899587e-02,   2.64053233e-04,  -9.75191295e-02,\n",
        "           1.79029822e+00,   2.49352038e-01,  -5.29213548e-01,\n",
        "          -1.54254997e+00,   3.64864349e-01,  -1.22384870e+00,\n",
        "           1.44438401e-01,   7.05624700e-01,  -4.46744710e-02,\n",
        "          -5.74148707e-02,   6.59716725e-01,   1.20902300e+00,\n",
        "           2.70784593e+00,   4.77091730e-01,  -1.00733507e+00,\n",
        "          -6.30975306e-01,  -6.18546247e-01,  -4.32662517e-01,\n",
        "           4.94091570e-01,   1.75822127e+00,   5.05779237e-02,\n",
        "          -4.66598362e-01,   7.71325350e-01,   4.45591092e-01,\n",
        "          -9.32434499e-02,   3.14688158e+00,   5.90104997e-01,\n",
        "           1.77934587e+00,  -1.06982541e+00,   3.14201981e-01,\n",
        "           1.27076000e-01,   5.98889999e-02,  -6.31823778e-01,\n",
        "          -3.37448157e-02,  -1.41290641e+00,  -9.80337560e-01,\n",
        "           2.24843040e-01,  -2.01742482e+00,   4.47720408e-01,\n",
        "          -3.12057018e-01,   1.66713047e+00,  -4.44614559e-01,\n",
        "           6.02159262e-01,   2.16075748e-01,  -2.81653464e-01,\n",
        "          -6.57697916e-01,  -1.17346728e+00,  -5.57955384e-01,\n",
        "           7.27509499e-01,  -2.50271052e-01,  -2.57479131e-01,\n",
        "           1.50185049e+00,   5.14133275e-02,   1.29880476e+00,\n",
        "           8.20970237e-02,  -1.90850496e-01,   8.29553157e-02,\n",
        "           2.27624083e+00,  -2.98092651e+00,  -5.81007421e-01,\n",
        "           1.05157828e+00,  -3.18489641e-01,  -7.73996711e-01,\n",
        "           1.31503832e+00,  -1.33001220e+00,   4.23104584e-01,\n",
        "          -8.57173204e-01,   1.77217090e+00,  -9.24737990e-01,\n",
        "           9.28513333e-02,   1.37732953e-01,   6.03666842e-01,\n",
        "           1.08327031e-01,  -5.72979972e-02,   1.81113172e+00,\n",
        "           8.60994101e-01,  -1.98816359e+00,  -6.51026905e-01,\n",
        "          -1.01702601e-01,  -4.19773627e-03,   3.48292440e-01,\n",
        "           8.44597578e-01,   7.87815690e-01,  -9.90869820e-01,\n",
        "           1.87396359e+00,   8.98206979e-02,  -5.80833331e-02,\n",
        "          -1.84532416e+00,  -1.78354955e+00,   6.25198334e-02,\n",
        "           1.17052317e+00], dtype=float32),\n",
        "  'h_vectors': array([ -1.51482344e-01,  -1.61886811e-02,  -1.47719279e-01,\n",
        "           1.47743598e-02,   1.28212228e-01,   1.30047575e-01,\n",
        "           2.01981030e-02,   2.90896744e-03,   3.96293588e-03,\n",
        "          -1.56543419e-01,   2.14960650e-02,   6.55231124e-04,\n",
        "           2.68341511e-01,  -2.84153107e-03,  -3.94555181e-02,\n",
        "           2.76315361e-02,   1.19603006e-02,  -1.66394990e-02,\n",
        "          -6.27819076e-02,  -5.29291742e-02,  -1.57581863e-03,\n",
        "          -4.88432050e-01,  -2.59573191e-01,  -5.01385555e-02,\n",
        "          -5.60639892e-03,  -1.21537939e-01,  -7.90511072e-02,\n",
        "          -7.91287646e-02,  -4.55429516e-04,   1.85026554e-03,\n",
        "          -7.22289924e-03,  -7.34787732e-02,  -4.66010533e-04,\n",
        "          -6.63493993e-03,   4.13947515e-02,  -4.33533490e-02,\n",
        "           1.08820712e-03,   2.25561634e-02,  -5.22545636e-01,\n",
        "           3.86560485e-02,  -3.89755033e-02,   2.28033245e-01,\n",
        "          -5.96909747e-02,  -5.59484959e-02,  -9.24625620e-03,\n",
        "           2.36139357e-01,   1.20512908e-02,   1.70279503e-01,\n",
        "           2.28500236e-02,  -6.74371934e-03,   4.20662723e-02,\n",
        "          -5.01090027e-02,  -4.09895033e-02,   2.35324390e-02,\n",
        "          -1.22422054e-01,   1.13958735e-02,  -7.74159804e-02,\n",
        "           6.98338524e-02,  -5.12348339e-02,   3.44093978e-01,\n",
        "          -2.49462053e-02,  -1.19878791e-01,   2.93573812e-02,\n",
        "          -8.98914784e-03,  -1.69761442e-02,  -3.00043911e-01,\n",
        "          -7.92269129e-03,  -5.69674559e-03,   1.39602765e-01,\n",
        "           3.00731570e-01,   4.89260107e-02,   8.94495845e-03,\n",
        "           1.16180982e-02,   3.84472795e-02,   1.88838271e-03,\n",
        "           9.03270021e-03,   2.64196545e-01,   5.58469146e-02,\n",
        "           5.13791740e-02,  -1.85880829e-02,  -2.42165893e-01,\n",
        "           3.72976274e-03,  -5.89992898e-03,  -5.54519594e-01,\n",
        "           1.72620360e-02,   2.81105544e-02,  -2.95316130e-01,\n",
        "          -6.88326806e-02,  -7.51998555e-03,   2.99999636e-04,\n",
        "           3.96402702e-02,  -2.42979750e-01,  -1.47143826e-02,\n",
        "          -8.62070918e-02,  -2.52246223e-02,   8.78965408e-02,\n",
        "          -1.05940744e-01,   1.72420461e-02,  -2.38362536e-01,\n",
        "          -1.10000640e-01,  -6.86299279e-02,   9.27794650e-02,\n",
        "           1.55417740e-01,  -2.69918912e-03,  -3.12342852e-01,\n",
        "           2.00916063e-02,  -8.34424421e-02,   4.75023165e-02,\n",
        "          -1.08624268e-02,   4.23642099e-02,  -2.47940347e-02,\n",
        "          -5.01274951e-02,  -1.71292946e-02,  -1.06609114e-01,\n",
        "          -4.75155413e-02,  -8.73384625e-03,  -2.25687362e-02,\n",
        "           3.17769833e-02,  -7.01207817e-02,   6.81344122e-02,\n",
        "          -6.44320548e-01,   7.98289664e-03,  -1.11150667e-01,\n",
        "           1.04861837e-02,  -5.70617244e-03,  -8.20863619e-03,\n",
        "           9.35971290e-02,   2.49438873e-03,  -1.62344016e-02,\n",
        "          -1.18465582e-02,   5.53277805e-02,   9.92541388e-02,\n",
        "           8.35920963e-03,  -4.25408408e-03,   1.02037385e-01,\n",
        "          -7.75965571e-01,   1.87305231e-02,   1.04374308e-02,\n",
        "          -2.78575476e-02,   7.68724859e-01,  -5.97257772e-03,\n",
        "          -1.77138187e-02,  -7.60379620e-03,   2.86365673e-02,\n",
        "           2.17219032e-02,  -5.77288680e-02,   1.50900632e-01,\n",
        "           5.63179608e-03,  -5.65194935e-02,   5.85290156e-02,\n",
        "           7.06714345e-03,   5.66316806e-02,   7.21754059e-02,\n",
        "           5.10899052e-02,   1.07162893e-02,  -2.65206527e-05,\n",
        "          -6.33962899e-02,   8.80217645e-03,   2.90187798e-03,\n",
        "           5.78021370e-02,  -7.63868401e-03,  -7.88099784e-03,\n",
        "           2.65281238e-02,   1.11349578e-07,  -4.73748855e-02,\n",
        "           4.75077152e-01,   4.91870828e-02,  -2.29914784e-01,\n",
        "          -1.18355148e-01,   1.57480270e-01,  -2.06261203e-01,\n",
        "           5.19733913e-02,   7.65576065e-02,  -3.66732973e-04,\n",
        "          -9.46713239e-03,   1.15389973e-02,   3.01836073e-01,\n",
        "           9.12035108e-01,   4.60185483e-02,  -5.22745261e-03,\n",
        "          -9.36387405e-02,  -1.42530650e-01,  -1.19694948e-01,\n",
        "           6.15043491e-02,   1.13204273e-03,   2.37904079e-02,\n",
        "          -1.21018151e-02,   1.74412087e-01,   6.18686825e-02,\n",
        "          -4.27031592e-02,   8.62985328e-02,   2.66309440e-01,\n",
        "           3.49254726e-04,  -2.36913911e-03,   8.57963637e-02,\n",
        "           6.32047132e-02,   2.45611034e-02,  -2.88097382e-01,\n",
        "          -3.94275266e-05,  -6.37334883e-01,  -1.65202003e-02,\n",
        "           1.00695770e-02,  -3.78947742e-02,   1.67066082e-01,\n",
        "          -7.24406913e-02,   4.70099971e-02,  -1.77475642e-02,\n",
        "           2.48050719e-01,   5.17020300e-02,  -7.42470324e-02,\n",
        "          -3.77626047e-02,  -1.23095602e-01,  -2.61888415e-01,\n",
        "           2.36616493e-03,  -1.02014713e-01,  -6.88028708e-02,\n",
        "           2.45703221e-03,   1.64246019e-02,   3.42471823e-02,\n",
        "           3.16589661e-02,  -9.41209644e-02,   6.71711937e-03,\n",
        "           3.74915510e-01,  -2.95326783e-04,  -1.19157918e-02,\n",
        "           1.68547481e-01,  -4.10629176e-02,  -3.87787856e-02,\n",
        "           3.37071568e-01,  -1.16197104e-02,   1.78928420e-01,\n",
        "          -1.76249862e-01,   7.18884110e-01,  -4.38566267e-01,\n",
        "           5.09074237e-03,   2.53719334e-02,   1.32570311e-01,\n",
        "           2.22424250e-02,  -1.61541328e-02,   8.55009817e-03,\n",
        "           4.46027592e-02,  -2.28048656e-02,  -1.92317858e-01,\n",
        "          -7.60138966e-03,  -1.77708222e-04,   1.32709414e-01,\n",
        "           1.59874167e-02,   2.69652694e-01,  -1.18921705e-01,\n",
        "           2.34988518e-02,   1.91602353e-02,  -4.49211244e-03,\n",
        "          -1.15993381e-01,  -1.54798646e-02,   9.07313952e-04,\n",
        "           8.25542677e-03], dtype=float32),\n",
        "  'pageView': 260602.0,\n",
        "  'title_string': 'harley-davidson is losing its cool'})"
       ]
      }
     ],
     "prompt_number": 14
    },
    {
     "cell_type": "code",
     "collapsed": false,
     "input": [
      "#vector_dict['http://www.chicagotribune.com/lifestyles/sns-201706141112--tms--hscopebctnzz-a20170708-20170708-story.html']\n",
      "#vector_dict['http://www.nbcdfw.com/news/politics/Trumps-New-Message-Man-Deletes-Inconvenient-Tweets-436065023.html']"
     ],
     "language": "python",
     "metadata": {},
     "outputs": [],
     "prompt_number": 13
    },
    {
     "cell_type": "code",
     "collapsed": true,
     "input": [
      "def square_rooted(x):\n",
      "    return math.sqrt(sum([a*a for a in x]))\n",
      " \n",
      "def euclidean_distance(x,y):\n",
      "     return math.sqrt(sum(math.pow(a - b, 2) for a, b in zip(x, y)))\n",
      "\n",
      "def manhattan_distance(x,y): \n",
      "    return sum(abs(a - b) for a,b in zip(x,y))\n",
      "\n",
      "def cosine_similarity(x, y):\n",
      "    numerator = sum(a*b for a, b in zip(x,y))\n",
      "    denominator = square_rooted(x) * square_rooted(y)\n",
      "    #denominator = (square_rooted(x) + square_rooted(y))\n",
      "\n",
      "    return numerator / denominator"
     ],
     "language": "python",
     "metadata": {},
     "outputs": [],
     "prompt_number": 15
    },
    {
     "cell_type": "code",
     "collapsed": false,
     "input": [
      "index = 12\n",
      "print sorted_vecor[index][1]['title_string']\n",
      "selected_key = sorted_vecor[index][0]\n",
      "print selected_key"
     ],
     "language": "python",
     "metadata": {},
     "outputs": [
      {
       "output_type": "stream",
       "stream": "stdout",
       "text": [
        "trump _UNK everyone including john mccain\n",
        "http://www.huffingtonpost.com/entry/john-mccain-donald-trump-senate-health-care_us_5977e2bae4b0a8a40e8399df\n"
       ]
      }
     ],
     "prompt_number": 37
    },
    {
     "cell_type": "code",
     "collapsed": true,
     "input": [
      "#i = 400\n",
      "#sorted_vecor[i][1]['vectors']"
     ],
     "language": "python",
     "metadata": {},
     "outputs": [],
     "prompt_number": 16
    },
    {
     "cell_type": "heading",
     "level": 4,
     "metadata": {},
     "source": [
      "use `index` to loop through all the articles"
     ]
    },
    {
     "cell_type": "code",
     "collapsed": false,
     "input": [
      "#vector_name = 'h_vectors'\n",
      "#vector_name = 'c_vectors'\n",
      "vector_name = 'combined_vectors'\n",
      "\n",
      "cosine_results, euclidean_results = [], []\n",
      "#selected_key = 'http://www.cbssports.com/nba/news/nba-draft-lavar-ball-guarantees-lonzo-will-lead-lakers-to-playoffs-next-season/'\n",
      "print selected_key\n",
      "print '\\n \\n'\n",
      "start_time = time.time()\n",
      "#for i in xrange(len(sorted_vecor)):\n",
      "for i in xrange(min(len(sorted_vecor), 100000)):\n",
      "    if i == index:\n",
      "        continue\n",
      "    cosine_result = cosine_similarity(sorted_vecor[index][1][vector_name], sorted_vecor[i][1][vector_name])\n",
      "    euclidean_result = euclidean_distance(sorted_vecor[index][1][vector_name], sorted_vecor[i][1][vector_name])\n",
      "    cosine_results.append(cosine_result)\n",
      "    euclidean_results.append(euclidean_result)\n",
      "print 'all the process takes {:.2f} seconds...'.format(time.time() - start_time)"
     ],
     "language": "python",
     "metadata": {},
     "outputs": [
      {
       "output_type": "stream",
       "stream": "stdout",
       "text": [
        "http://www.huffingtonpost.com/entry/john-mccain-donald-trump-senate-health-care_us_5977e2bae4b0a8a40e8399df\n",
        "\n",
        " \n",
        "\n",
        "all the process takes 3.33 seconds..."
       ]
      },
      {
       "output_type": "stream",
       "stream": "stdout",
       "text": [
        "\n"
       ]
      }
     ],
     "prompt_number": 47
    },
    {
     "cell_type": "code",
     "collapsed": false,
     "input": [
      "#plt.hist(euclidean_results, bins=50)\n",
      "plt.hist(cosine_results, bins=50)"
     ],
     "language": "python",
     "metadata": {},
     "outputs": [
      {
       "metadata": {},
       "output_type": "pyout",
       "prompt_number": 48,
       "text": [
        "(array([  1.00000000e+00,   0.00000000e+00,   3.00000000e+00,\n",
        "          4.00000000e+00,   2.30000000e+01,   2.50000000e+01,\n",
        "          2.80000000e+01,   2.90000000e+01,   4.90000000e+01,\n",
        "          4.60000000e+01,   5.70000000e+01,   7.20000000e+01,\n",
        "          4.80000000e+01,   5.50000000e+01,   5.40000000e+01,\n",
        "          2.30000000e+01,   2.50000000e+01,   4.00000000e+00,\n",
        "          0.00000000e+00,   0.00000000e+00,   0.00000000e+00,\n",
        "          0.00000000e+00,   0.00000000e+00,   4.00000000e+00,\n",
        "          4.00000000e+00,   1.10000000e+01,   4.00000000e+01,\n",
        "          8.30000000e+01,   1.54000000e+02,   2.11000000e+02,\n",
        "          1.84000000e+02,   3.40000000e+02,   2.64000000e+02,\n",
        "          1.50000000e+02,   1.14000000e+02,   2.40000000e+01,\n",
        "          8.50000000e+01,   3.44000000e+02,   9.71000000e+02,\n",
        "          1.45100000e+03,   1.46600000e+03,   1.01800000e+03,\n",
        "          8.80000000e+02,   8.98000000e+02,   5.86000000e+02,\n",
        "          1.49000000e+02,   2.00000000e+01,   1.00000000e+00,\n",
        "          0.00000000e+00,   1.00000000e+00]),\n",
        " array([ 0.73228458,  0.73763889,  0.7429932 ,  0.74834751,  0.75370182,\n",
        "         0.75905613,  0.76441043,  0.76976474,  0.77511905,  0.78047336,\n",
        "         0.78582767,  0.79118198,  0.79653628,  0.80189059,  0.8072449 ,\n",
        "         0.81259921,  0.81795352,  0.82330783,  0.82866213,  0.83401644,\n",
        "         0.83937075,  0.84472506,  0.85007937,  0.85543368,  0.86078798,\n",
        "         0.86614229,  0.8714966 ,  0.87685091,  0.88220522,  0.88755953,\n",
        "         0.89291383,  0.89826814,  0.90362245,  0.90897676,  0.91433107,\n",
        "         0.91968538,  0.92503968,  0.93039399,  0.9357483 ,  0.94110261,\n",
        "         0.94645692,  0.95181123,  0.95716553,  0.96251984,  0.96787415,\n",
        "         0.97322846,  0.97858277,  0.98393708,  0.98929138,  0.99464569,  1.        ]),\n",
        " <a list of 50 Patch objects>)"
       ]
      },
      {
       "metadata": {},
       "output_type": "display_data",
       "png": "[encoded data removed]",
       "text": [
        "<matplotlib.figure.Figure at 0x7f33a373c8d0>"
       ]
      }
     ],
     "prompt_number": 48
    },
    {
     "cell_type": "code",
     "collapsed": true,
     "input": [
      "#cosine_results, euclidean_results = [], []"
     ],
     "language": "python",
     "metadata": {},
     "outputs": [],
     "prompt_number": 19
    },
    {
     "cell_type": "code",
     "collapsed": false,
     "input": [
      "cosine_threshold = 0.98\n",
      "euclidean_threshold = 4\n",
      "\n",
      "#'''\n",
      "for i in xrange(len(euclidean_results)):\n",
      "    if euclidean_results[i] < euclidean_threshold:\n",
      "        print euclidean_results[i]\n",
      "        print sorted_vecor[i][0], sorted_vecor[i][1]['title_string']\n",
      "#'''\n",
      "print '\\n \\n'\n",
      "\n",
      "#'''        \n",
      "for i in xrange(len(cosine_results)):\n",
      "    if cosine_results[i] > cosine_threshold:\n",
      "        print cosine_results[i]\n",
      "        print sorted_vecor[i][0], sorted_vecor[i][1]['title_string']\n",
      "#'''"
     ],
     "language": "python",
     "metadata": {},
     "outputs": [
      {
       "output_type": "stream",
       "stream": "stdout",
       "text": [
        "0.0\n",
        "http://dailymail.co.uk/news/article-4723248 emily ratajkowski poses topless in _UNK hairdo\n",
        "3.4574912271\n",
        "http://www.huffingtonpost.com/2015/07/07/back-acne-treatment-prevention-tips_n_7737344.html everything you need to know about _UNK\n",
        "\n",
        " \n",
        "\n",
        "1.0\n",
        "http://dailymail.co.uk/news/article-4723248 emily ratajkowski poses topless in _UNK hairdo\n",
        "0.980170154482\n",
        "http://www.msnbc.com/msnbc-news/watch/spicer-out-scaramucci-in-white-house-1005986371552 spicer out scaramucci in white house\n",
        "0.9804685806\n",
        "http://www.msnbc.com/rachel-maddow-show/watch/rachel-maddow-7-27-17-episode rachel maddow # ## ##\n",
        "0.987753751269\n",
        "http://www.huffingtonpost.com/2015/07/07/back-acne-treatment-prevention-tips_n_7737344.html everything you need to know about _UNK\n",
        "0.981173130334\n",
        "https://www.usatoday.com/story/sports/nfl/2013/01/10/ray-lewis-baltimore-ravens-atlanta-murder-2000/1566198/ slayings not forgotten ray lewis not _UNK\n",
        "0.980778321041\n",
        "http://www.msn.com/en-us/news/world/martial-law-extended-on-philippine-island/ar-AAoAFaO martial law extended on philippine island\n"
       ]
      }
     ],
     "prompt_number": 49
    },
    {
     "cell_type": "code",
     "collapsed": true,
     "input": [],
     "language": "python",
     "metadata": {},
     "outputs": [],
     "prompt_number": 20
    },
    {
     "cell_type": "code",
     "collapsed": true,
     "input": [],
     "language": "python",
     "metadata": {},
     "outputs": [],
     "prompt_number": 19
    },
    {
     "cell_type": "code",
     "collapsed": false,
     "input": [],
     "language": "python",
     "metadata": {},
     "outputs": []
    },
    {
     "cell_type": "heading",
     "level": 4,
     "metadata": {},
     "source": [
      "use the `key` to loop through all the titles"
     ]
    },
    {
     "cell_type": "code",
     "collapsed": false,
     "input": [
      "results = []\n",
      "#selected_key = 'http://www.cbssports.com/nba/news/nba-draft-lavar-ball-guarantees-lonzo-will-lead-lakers-to-playoffs-next-season/'\n",
      "print selected_key\n",
      "print '\\n \\n'\n",
      "for key in vector_dict.keys():\n",
      "    if key == selected_key:\n",
      "        continue\n",
      "    #vector_index = 0\n",
      "    #cosine_result = cosine_similarity(vector_dict[selected_key]['vectors'][vector_index], vector_dict[key]['vectors'][vector_index])\n",
      "    #euclidean_result = euclidean_distance(vector_dict[selected_key]['vectors'][vector_index], vector_dict[key]['vectors'][vector_index])\n",
      "    #result = cosine_result\n",
      "    start_time = time.time()\n",
      "    cosine_result = cosine_similarity(vector_dict[selected_key]['vectors'], vector_dict[key]['vectors'])\n",
      "    euclidean_result = euclidean_distance(vector_dict[selected_key]['vectors'], vector_dict[key]['vectors'])\n",
      "    result = cosine_result\n",
      "    print 'all the process takes {:.2f} seconds...'.format(time.time() - start_time)\n",
      "    #result = euclidean_result\n",
      "    #result = 10 * (1 - cosine_result) * euclidean_result\n",
      "    #result = manhattan_distance(vector_dict[selected_key]['vectors'][0], vector_dict[key]['vectors'][0])\n",
      "    #if result < 18:\n",
      "    #if result > 0.92:\n",
      "        #print key, result\n",
      "        #print vector_dict[key]['pageView']\n",
      "    \n",
      "    #print cosine_result, euclidean_result, result\n",
      "    results.append(result)"
     ],
     "language": "python",
     "metadata": {},
     "outputs": [],
     "prompt_number": null
    },
    {
     "cell_type": "code",
     "collapsed": false,
     "input": [
      "plt.hist(results, bins=50)"
     ],
     "language": "python",
     "metadata": {
      "scrolled": true
     },
     "outputs": [],
     "prompt_number": null
    },
    {
     "cell_type": "code",
     "collapsed": true,
     "input": [],
     "language": "python",
     "metadata": {},
     "outputs": [],
     "prompt_number": null
    }
   ],
   "metadata": {}
  }
 ]
}