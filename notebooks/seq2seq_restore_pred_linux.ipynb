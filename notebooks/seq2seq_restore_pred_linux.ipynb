{
 "metadata": {
  "kernelspec": {
   "display_name": "Python 2",
   "language": "python",
   "name": "python2"
  },
  "language_info": {
   "codemirror_mode": {
    "name": "ipython",
    "version": 2
   },
   "file_extension": ".py",
   "mimetype": "text/x-python",
   "name": "python",
   "nbconvert_exporter": "python",
   "pygments_lexer": "ipython2",
   "version": "2.7.10"
  },
  "name": "",
  "signature": "sha256:afa0ea6a4d47f3b02700c3ffe942fcb78aadf3b7a45a4d15ea2c57000929e788"
 },
 "nbformat": 3,
 "nbformat_minor": 0,
 "worksheets": [
  {
   "cells": [
    {
     "cell_type": "code",
     "collapsed": true,
     "input": [
      "%matplotlib inline  \n",
      "\n",
      "import sys, os, time, math\n",
      "import cPickle as pickle\n",
      "import tensorflow as tf\n",
      "sys.path.append('/home/matt.meng/dev/seq2seq_model')\n",
      "from data import DataGenerator, process_batch\n",
      "from utils import model_meta_file\n",
      "from data_preprocess import TOKEN_DICT, _GO, _EOS\n",
      "import matplotlib.pyplot as plt"
     ],
     "language": "python",
     "metadata": {},
     "outputs": [],
     "prompt_number": 1
    },
    {
     "cell_type": "code",
     "collapsed": false,
     "input": [
      "%%bash\n",
      "ls /home/matt.meng/local_tensorflow_content/"
     ],
     "language": "python",
     "metadata": {},
     "outputs": [
      {
       "output_type": "stream",
       "stream": "stdout",
       "text": [
        "large_16embed_32hid\n",
        "large_16embed_8hid\n",
        "large_32embed_32hid\n",
        "large_32embed_32hid_bk\n",
        "large_32embed_64hid\n",
        "large_64embed_128hid\n",
        "large_8embed_16hid\n",
        "seq2seq\n",
        "seq2seq_16embed_128hid\n",
        "seq2seq_64embed_128hid\n"
       ]
      }
     ],
     "prompt_number": 2
    },
    {
     "cell_type": "code",
     "collapsed": false,
     "input": [
      "pickle_file = 'processed_titles_data.pkl'\n",
      "#local_model_path = '/home/matt.meng/local_tensorflow_content/large_64embed_128hid'\n",
      "#local_model_path = '/home/matt.meng/local_tensorflow_content/large_32embed_32hid'\n",
      "local_model_path = '/home/matt.meng/local_tensorflow_content/large_8embed_16hid/'"
     ],
     "language": "python",
     "metadata": {},
     "outputs": [],
     "prompt_number": 3
    },
    {
     "cell_type": "code",
     "collapsed": false,
     "input": [
      "#with open(pickle_file_path, 'rb') as input_stream:\n",
      "#    data = pickle.load(input_stream)"
     ],
     "language": "python",
     "metadata": {},
     "outputs": [],
     "prompt_number": 3
    },
    {
     "cell_type": "code",
     "collapsed": false,
     "input": [
      "encoder_output_c_name = 'encoder_decoder_sequence/encoder/while/Exit_2:0'\n",
      "encoder_output_h_name = 'encoder_decoder_sequence/encoder/while/Exit_3:0'\n",
      "\n",
      "\n",
      "pickle_file_path = os.path.join(os.path.expanduser(\"~\"), pickle_file)\n",
      "with open(pickle_file_path, 'rb') as input_stream:\n",
      "    data = pickle.load(input_stream)\n",
      "titles = data['titles']\n",
      "reverse_token_dict = data['reverse_token_dict']\n",
      "title_urls = data['url']\n",
      "title_pageViews = data['pageViw']"
     ],
     "language": "python",
     "metadata": {},
     "outputs": [],
     "prompt_number": 4
    },
    {
     "cell_type": "code",
     "collapsed": false,
     "input": [
      "data.keys()"
     ],
     "language": "python",
     "metadata": {},
     "outputs": [
      {
       "metadata": {},
       "output_type": "pyout",
       "prompt_number": 5,
       "text": [
        "['url', 'reverse_token_dict', 'pageViw', 'titles', 'token_dict']"
       ]
      }
     ],
     "prompt_number": 5
    },
    {
     "cell_type": "code",
     "collapsed": false,
     "input": [],
     "language": "python",
     "metadata": {},
     "outputs": [],
     "prompt_number": 5
    },
    {
     "cell_type": "code",
     "collapsed": false,
     "input": [
      "#c_vector_list, h_vector_list = [], []\n",
      "vector_dict = {}\n",
      "saver = tf.train.import_meta_graph(model_meta_file(local_model_path))\n",
      "\n",
      "config = tf.ConfigProto(device_count = {'GPU': 0})\n",
      "\n",
      "with tf.Session(config=config) as sess:\n",
      "    saver.restore(sess, tf.train.latest_checkpoint(local_model_path))\n",
      "    \n",
      "    encoder_inputs = sess.graph.get_tensor_by_name(\"initial_inputs/encoder_inputs:0\")\n",
      "    decoder_inputs = sess.graph.get_tensor_by_name(\"initial_inputs/decoder_inputs:0\")\n",
      "    decoder_targets = sess.graph.get_tensor_by_name(\"initial_inputs/decoder_targets:0\")\n",
      "    dropout_input_keep_prob = sess.graph.get_tensor_by_name(\"initial_inputs/dropout_input_keep_prob:0\")\n",
      "\n",
      "    encoder_output_c = sess.graph.get_tensor_by_name('encoder_decoder_sequence/encoder/while/Exit_2:0')\n",
      "    encoder_output_h = sess.graph.get_tensor_by_name('encoder_decoder_sequence/encoder/while/Exit_3:0')\n",
      "    counter = 0\n",
      "    start_time = time.time()\n",
      "    #for i in xrange(len(titles)):\n",
      "    for i in xrange(100000):\n",
      "        counter += 1\n",
      "        vector_dict[title_urls[i]] = {'pageView' : title_pageViews[i], \n",
      "                                      'title_string' : ' '.join(map(reverse_token_dict.get, titles[i]))}\n",
      "        #title = ' '.join(map(reverse_token_dict.get, titles[i]))\n",
      "        encoder_inputs_, _ = process_batch([titles[i] + [TOKEN_DICT[_EOS]]])\n",
      "        decoder_targets_, _ = process_batch([titles[i] + [TOKEN_DICT[_EOS]]])\n",
      "        decoder_inputs_, _ = process_batch([[TOKEN_DICT[_GO]] + titles[i]])\n",
      "        c_vector, h_vector = sess.run([encoder_output_c, encoder_output_h], {encoder_inputs : encoder_inputs_,\n",
      "                                                                             decoder_inputs : decoder_inputs_, \n",
      "                                                                             decoder_targets : decoder_targets_, \n",
      "                                                                             dropout_input_keep_prob : 1.})\n",
      "        vector_dict[title_urls[i]]['vectors'] = (c_vector[0] + h_vector[0])\n",
      "        #c_vector_list.append(c_vector)\n",
      "        #h_vector_list.append(h_vector)\n",
      "        if counter % 5000 == 0:\n",
      "            print 'finish processing {} articles using {:.2f} seconds...'.format(counter, time.time() - start_time)"
     ],
     "language": "python",
     "metadata": {},
     "outputs": [
      {
       "output_type": "stream",
       "stream": "stdout",
       "text": [
        "warning, more than one model meta file is found in /home/matt.meng/local_tensorflow_content/large_8embed_16hid/\n",
        "INFO:tensorflow:Restoring parameters from /home/matt.meng/local_tensorflow_content/large_8embed_16hid/models-950000\n"
       ]
      },
      {
       "output_type": "stream",
       "stream": "stderr",
       "text": [
        "INFO:tensorflow:Restoring parameters from /home/matt.meng/local_tensorflow_content/large_8embed_16hid/models-950000\n"
       ]
      },
      {
       "output_type": "stream",
       "stream": "stdout",
       "text": [
        "finish processing 5000 articles using 5.93 seconds...\n",
        "finish processing 10000 articles using 11.26 seconds..."
       ]
      },
      {
       "output_type": "stream",
       "stream": "stdout",
       "text": [
        "\n",
        "finish processing 15000 articles using 16.10 seconds..."
       ]
      },
      {
       "output_type": "stream",
       "stream": "stdout",
       "text": [
        "\n",
        "finish processing 20000 articles using 20.94 seconds..."
       ]
      },
      {
       "output_type": "stream",
       "stream": "stdout",
       "text": [
        "\n",
        "finish processing 25000 articles using 25.77 seconds..."
       ]
      },
      {
       "output_type": "stream",
       "stream": "stdout",
       "text": [
        "\n",
        "finish processing 30000 articles using 30.66 seconds..."
       ]
      },
      {
       "output_type": "stream",
       "stream": "stdout",
       "text": [
        "\n",
        "finish processing 35000 articles using 35.43 seconds..."
       ]
      },
      {
       "output_type": "stream",
       "stream": "stdout",
       "text": [
        "\n",
        "finish processing 40000 articles using 40.50 seconds..."
       ]
      },
      {
       "output_type": "stream",
       "stream": "stdout",
       "text": [
        "\n",
        "finish processing 45000 articles using 45.62 seconds..."
       ]
      },
      {
       "output_type": "stream",
       "stream": "stdout",
       "text": [
        "\n",
        "finish processing 50000 articles using 50.75 seconds..."
       ]
      },
      {
       "output_type": "stream",
       "stream": "stdout",
       "text": [
        "\n",
        "finish processing 55000 articles using 56.00 seconds..."
       ]
      },
      {
       "output_type": "stream",
       "stream": "stdout",
       "text": [
        "\n",
        "finish processing 60000 articles using 61.19 seconds..."
       ]
      },
      {
       "output_type": "stream",
       "stream": "stdout",
       "text": [
        "\n",
        "finish processing 65000 articles using 66.34 seconds..."
       ]
      },
      {
       "output_type": "stream",
       "stream": "stdout",
       "text": [
        "\n",
        "finish processing 70000 articles using 71.78 seconds..."
       ]
      },
      {
       "output_type": "stream",
       "stream": "stdout",
       "text": [
        "\n",
        "finish processing 75000 articles using 77.26 seconds..."
       ]
      },
      {
       "output_type": "stream",
       "stream": "stdout",
       "text": [
        "\n",
        "finish processing 80000 articles using 82.74 seconds..."
       ]
      },
      {
       "output_type": "stream",
       "stream": "stdout",
       "text": [
        "\n",
        "finish processing 85000 articles using 88.23 seconds..."
       ]
      },
      {
       "output_type": "stream",
       "stream": "stdout",
       "text": [
        "\n",
        "finish processing 90000 articles using 93.74 seconds..."
       ]
      },
      {
       "output_type": "stream",
       "stream": "stdout",
       "text": [
        "\n",
        "finish processing 95000 articles using 99.21 seconds..."
       ]
      },
      {
       "output_type": "stream",
       "stream": "stdout",
       "text": [
        "\n",
        "finish processing 100000 articles using 104.66 seconds..."
       ]
      },
      {
       "output_type": "stream",
       "stream": "stdout",
       "text": [
        "\n"
       ]
      }
     ],
     "prompt_number": 6
    },
    {
     "cell_type": "code",
     "collapsed": false,
     "input": [
      "# the difference is caused by duplicate URLs\n",
      "print len(title_pageViews), len(vector_dict)"
     ],
     "language": "python",
     "metadata": {},
     "outputs": [
      {
       "output_type": "stream",
       "stream": "stdout",
       "text": [
        "561661 100000\n"
       ]
      }
     ],
     "prompt_number": 7
    },
    {
     "cell_type": "code",
     "collapsed": false,
     "input": [
      "key = vector_dict.keys()[10]\n",
      "print vector_dict[key].keys()"
     ],
     "language": "python",
     "metadata": {},
     "outputs": [
      {
       "output_type": "stream",
       "stream": "stdout",
       "text": [
        "['pageView', 'vectors', 'title_string']\n"
       ]
      }
     ],
     "prompt_number": 8
    },
    {
     "cell_type": "code",
     "collapsed": true,
     "input": [
      "vector_items = vector_dict.items()"
     ],
     "language": "python",
     "metadata": {},
     "outputs": [],
     "prompt_number": 9
    },
    {
     "cell_type": "code",
     "collapsed": false,
     "input": [
      "sorted_vecor = sorted(vector_items, key=lambda x: x[1]['pageView'], reverse=True)"
     ],
     "language": "python",
     "metadata": {},
     "outputs": [],
     "prompt_number": 10
    },
    {
     "cell_type": "code",
     "collapsed": false,
     "input": [
      "sorted_vecor[10]"
     ],
     "language": "python",
     "metadata": {},
     "outputs": [
      {
       "metadata": {},
       "output_type": "pyout",
       "prompt_number": 11,
       "text": [
        "('https://en.testony.com/test/what-age-do-you-look/225567',\n",
        " {'pageView': 921750.0,\n",
        "  'title_string': 'what age do you look ?',\n",
        "  'vectors': array([ 0.62886757,  0.81229585,  2.39246941,  5.9736104 , -0.62463266,\n",
        "          0.95609987,  4.84258938, -6.23928928,  0.48631725,  1.64343214,\n",
        "         -2.03407288, -0.82114917,  1.12053764, -1.11060596,  4.86240864,\n",
        "         -1.46000636], dtype=float32)})"
       ]
      }
     ],
     "prompt_number": 11
    },
    {
     "cell_type": "code",
     "collapsed": false,
     "input": [
      "#vector_dict['http://www.chicagotribune.com/lifestyles/sns-201706141112--tms--hscopebctnzz-a20170708-20170708-story.html']\n",
      "#vector_dict['http://www.nbcdfw.com/news/politics/Trumps-New-Message-Man-Deletes-Inconvenient-Tweets-436065023.html']"
     ],
     "language": "python",
     "metadata": {},
     "outputs": [],
     "prompt_number": 53
    },
    {
     "cell_type": "code",
     "collapsed": true,
     "input": [
      "def square_rooted(x):\n",
      "    return math.sqrt(sum([a*a for a in x]))\n",
      " \n",
      "def euclidean_distance(x,y):\n",
      "     return math.sqrt(sum(math.pow(a - b, 2) for a, b in zip(x, y)))\n",
      "\n",
      "def manhattan_distance(x,y): \n",
      "    return sum(abs(a - b) for a,b in zip(x,y))\n",
      "\n",
      "def cosine_similarity(x, y):\n",
      "    numerator = sum(a*b for a, b in zip(x,y))\n",
      "    denominator = square_rooted(x) * square_rooted(y)\n",
      "    #denominator = (square_rooted(x) + square_rooted(y))\n",
      "\n",
      "    return numerator / denominator"
     ],
     "language": "python",
     "metadata": {},
     "outputs": [],
     "prompt_number": 54
    },
    {
     "cell_type": "code",
     "collapsed": false,
     "input": [
      "index = 1550\n",
      "print sorted_vecor[index][1]['title_string']\n",
      "selected_key = sorted_vecor[index][0]\n",
      "print selected_key"
     ],
     "language": "python",
     "metadata": {},
     "outputs": [
      {
       "output_type": "stream",
       "stream": "stdout",
       "text": [
        "us scientists have genetically modified human embryos\n",
        "https://www.engadget.com/2017/07/27/crispr-human-embryo-gene-editing-first-time-us/\n"
       ]
      }
     ],
     "prompt_number": 55
    },
    {
     "cell_type": "code",
     "collapsed": true,
     "input": [
      "#i = 400\n",
      "#sorted_vecor[i][1]['vectors']"
     ],
     "language": "python",
     "metadata": {},
     "outputs": [],
     "prompt_number": 48
    },
    {
     "cell_type": "heading",
     "level": 4,
     "metadata": {},
     "source": [
      "use `index` to loop through all the articles"
     ]
    },
    {
     "cell_type": "code",
     "collapsed": false,
     "input": [
      "cosine_results, euclidean_results = [], []\n",
      "#selected_key = 'http://www.cbssports.com/nba/news/nba-draft-lavar-ball-guarantees-lonzo-will-lead-lakers-to-playoffs-next-season/'\n",
      "print selected_key\n",
      "print '\\n \\n'\n",
      "start_time = time.time()\n",
      "#for i in xrange(len(sorted_vecor)):\n",
      "for i in xrange(100000):\n",
      "    if i == index:\n",
      "        continue\n",
      "    cosine_result = cosine_similarity(sorted_vecor[index][1]['vectors'], sorted_vecor[i][1]['vectors'])\n",
      "    euclidean_result = euclidean_distance(sorted_vecor[index][1]['vectors'], sorted_vecor[i][1]['vectors'])\n",
      "    cosine_results.append(cosine_result)\n",
      "    euclidean_results.append(euclidean_result)\n",
      "print 'all the process takes {:.2f} seconds...'.format(time.time() - start_time)"
     ],
     "language": "python",
     "metadata": {},
     "outputs": [
      {
       "output_type": "stream",
       "stream": "stdout",
       "text": [
        "https://www.engadget.com/2017/07/27/crispr-human-embryo-gene-editing-first-time-us/\n",
        "\n",
        " \n",
        "\n",
        "all the process takes 3.68 seconds..."
       ]
      },
      {
       "output_type": "stream",
       "stream": "stdout",
       "text": [
        "\n"
       ]
      }
     ],
     "prompt_number": 56
    },
    {
     "cell_type": "code",
     "collapsed": false,
     "input": [
      "plt.hist(euclidean_results, bins=50)\n",
      "#plt.hist(cosine_results, bins=50)"
     ],
     "language": "python",
     "metadata": {},
     "outputs": [
      {
       "metadata": {},
       "output_type": "pyout",
       "prompt_number": 50,
       "text": [
        "(array([  4.00000000e+00,   7.00000000e+00,   2.20000000e+01,\n",
        "          5.80000000e+01,   1.16000000e+02,   3.18000000e+02,\n",
        "          5.23000000e+02,   1.02100000e+03,   1.37700000e+03,\n",
        "          2.13400000e+03,   2.86700000e+03,   3.43300000e+03,\n",
        "          4.28500000e+03,   4.54700000e+03,   5.04500000e+03,\n",
        "          4.91900000e+03,   4.38100000e+03,   4.69100000e+03,\n",
        "          4.33800000e+03,   4.59100000e+03,   4.89000000e+03,\n",
        "          5.53100000e+03,   5.73800000e+03,   4.47000000e+03,\n",
        "          4.69100000e+03,   4.26100000e+03,   3.56400000e+03,\n",
        "          6.40300000e+03,   2.47600000e+03,   2.23500000e+03,\n",
        "          1.60400000e+03,   1.67500000e+03,   9.91000000e+02,\n",
        "          8.02000000e+02,   5.11000000e+02,   4.16000000e+02,\n",
        "          3.03000000e+02,   3.29000000e+02,   1.59000000e+02,\n",
        "          4.50000000e+01,   7.20000000e+01,   2.80000000e+01,\n",
        "          3.40000000e+01,   7.00000000e+00,   2.70000000e+01,\n",
        "          6.00000000e+00,   4.80000000e+01,   3.00000000e+00,\n",
        "          1.00000000e+00,   2.00000000e+00]),\n",
        " array([  1.89641911,   2.12363542,   2.35085174,   2.57806805,\n",
        "          2.80528436,   3.03250068,   3.25971699,   3.48693331,\n",
        "          3.71414962,   3.94136593,   4.16858225,   4.39579856,\n",
        "          4.62301487,   4.85023119,   5.0774475 ,   5.30466381,\n",
        "          5.53188013,   5.75909644,   5.98631275,   6.21352907,\n",
        "          6.44074538,   6.6679617 ,   6.89517801,   7.12239432,\n",
        "          7.34961064,   7.57682695,   7.80404326,   8.03125958,\n",
        "          8.25847589,   8.4856922 ,   8.71290852,   8.94012483,\n",
        "          9.16734114,   9.39455746,   9.62177377,   9.84899008,\n",
        "         10.0762064 ,  10.30342271,  10.53063903,  10.75785534,\n",
        "         10.98507165,  11.21228797,  11.43950428,  11.66672059,\n",
        "         11.89393691,  12.12115322,  12.34836953,  12.57558585,\n",
        "         12.80280216,  13.03001847,  13.25723479]),\n",
        " <a list of 50 Patch objects>)"
       ]
      },
      {
       "metadata": {},
       "output_type": "display_data",
       "png": "[encoded data removed]",
       "text": [
        "<matplotlib.figure.Figure at 0x7fabd8ade990>"
       ]
      }
     ],
     "prompt_number": 50
    },
    {
     "cell_type": "code",
     "collapsed": true,
     "input": [
      "#cosine_results, euclidean_results = [], []"
     ],
     "language": "python",
     "metadata": {},
     "outputs": [],
     "prompt_number": 46
    },
    {
     "cell_type": "code",
     "collapsed": false,
     "input": [
      "cosine_threshold = 0.98\n",
      "euclidean_threshold = 2\n",
      "\n",
      "#'''\n",
      "for i in xrange(len(euclidean_results)):\n",
      "    if euclidean_results[i] < euclidean_threshold:\n",
      "        print euclidean_results[i]\n",
      "        print sorted_vecor[i][0], sorted_vecor[i][1]['title_string']\n",
      "#'''\n",
      "\n",
      "\n",
      "'''        \n",
      "for i in xrange(len(cosine_results)):\n",
      "    if cosine_results[i] > cosine_threshold:\n",
      "        print cosine_results[i]\n",
      "        print sorted_vecor[i][0], sorted_vecor[i][1]['title_string']\n",
      "'''"
     ],
     "language": "python",
     "metadata": {},
     "outputs": [
      {
       "output_type": "stream",
       "stream": "stdout",
       "text": [
        "1.89641911085\n",
        "http://www.msn.com/en-us/news/politics/ivanka-faces-backlash-after-trans-military-ban/ar-AAoSPCz ivanka faces backlash after trans military ban\n",
        "1.89641911085\n",
        "http://www.kraftrecipes.com/recipes/philadelphia-fruit-pizza-57079.aspx philadelphia fruit pizza - kraft recipes\n",
        "1.89641911085\n",
        "http://www.semesterz.com/outside-of-college/final-words-famous/40/ final words of the famous\n",
        "1.89641911085\n",
        "https://www.hemmings.com/classifieds/dealer/jaguar/xj6c/1919642.html #### jaguar _UNK for sale #######\n"
       ]
      },
      {
       "metadata": {},
       "output_type": "pyout",
       "prompt_number": 57,
       "text": [
        "\"        \\nfor i in xrange(len(cosine_results)):\\n    if cosine_results[i] > cosine_threshold:\\n        print cosine_results[i]\\n        print sorted_vecor[i][0], sorted_vecor[i][1]['title_string']\\n\""
       ]
      }
     ],
     "prompt_number": 57
    },
    {
     "cell_type": "code",
     "collapsed": true,
     "input": [],
     "language": "python",
     "metadata": {},
     "outputs": [],
     "prompt_number": 19
    },
    {
     "cell_type": "code",
     "collapsed": true,
     "input": [],
     "language": "python",
     "metadata": {},
     "outputs": [],
     "prompt_number": 19
    },
    {
     "cell_type": "code",
     "collapsed": false,
     "input": [],
     "language": "python",
     "metadata": {},
     "outputs": []
    },
    {
     "cell_type": "heading",
     "level": 4,
     "metadata": {},
     "source": [
      "use the `key` to loop through all the titles"
     ]
    },
    {
     "cell_type": "code",
     "collapsed": false,
     "input": [
      "results = []\n",
      "#selected_key = 'http://www.cbssports.com/nba/news/nba-draft-lavar-ball-guarantees-lonzo-will-lead-lakers-to-playoffs-next-season/'\n",
      "print selected_key\n",
      "print '\\n \\n'\n",
      "for key in vector_dict.keys():\n",
      "    if key == selected_key:\n",
      "        continue\n",
      "    #vector_index = 0\n",
      "    #cosine_result = cosine_similarity(vector_dict[selected_key]['vectors'][vector_index], vector_dict[key]['vectors'][vector_index])\n",
      "    #euclidean_result = euclidean_distance(vector_dict[selected_key]['vectors'][vector_index], vector_dict[key]['vectors'][vector_index])\n",
      "    #result = cosine_result\n",
      "    start_time = time.time()\n",
      "    cosine_result = cosine_similarity(vector_dict[selected_key]['vectors'], vector_dict[key]['vectors'])\n",
      "    euclidean_result = euclidean_distance(vector_dict[selected_key]['vectors'], vector_dict[key]['vectors'])\n",
      "    result = cosine_result\n",
      "    print 'all the process takes {:.2f} seconds...'.format(time.time() - start_time)\n",
      "    #result = euclidean_result\n",
      "    #result = 10 * (1 - cosine_result) * euclidean_result\n",
      "    #result = manhattan_distance(vector_dict[selected_key]['vectors'][0], vector_dict[key]['vectors'][0])\n",
      "    #if result < 18:\n",
      "    #if result > 0.92:\n",
      "        #print key, result\n",
      "        #print vector_dict[key]['pageView']\n",
      "    \n",
      "    #print cosine_result, euclidean_result, result\n",
      "    results.append(result)"
     ],
     "language": "python",
     "metadata": {},
     "outputs": [],
     "prompt_number": null
    },
    {
     "cell_type": "code",
     "collapsed": false,
     "input": [
      "plt.hist(results, bins=50)"
     ],
     "language": "python",
     "metadata": {
      "scrolled": true
     },
     "outputs": [],
     "prompt_number": null
    },
    {
     "cell_type": "code",
     "collapsed": true,
     "input": [],
     "language": "python",
     "metadata": {},
     "outputs": [],
     "prompt_number": null
    }
   ],
   "metadata": {}
  }
 ]
}