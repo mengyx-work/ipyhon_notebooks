{
 "metadata": {
  "name": "",
  "signature": "sha256:cb56d02d32f361d5f9f36a9cd45c536515b9782761aebd051131c02624487c96"
 },
 "nbformat": 3,
 "nbformat_minor": 0,
 "worksheets": [
  {
   "cells": [
    {
     "cell_type": "code",
     "collapsed": false,
     "input": [
      "import cPickle as pickle\n",
      "import time, math\n",
      "import numpy as np"
     ],
     "language": "python",
     "metadata": {},
     "outputs": [],
     "prompt_number": 25
    },
    {
     "cell_type": "code",
     "collapsed": false,
     "input": [
      "class ProcessedTitle(object):\n",
      "    \n",
      "    def __init__(self, index_title, url, pageView):\n",
      "        self.index_title = index_title\n",
      "        self.url = url\n",
      "        self.pageView = pageView\n",
      "        title_array = map(ProcessedTitle.reverse_token_dict.get, self.index_title)\n",
      "        self.title = \" \".join(title_array) \n",
      "        \n",
      "    def create_seq2seq_model_embeddings(self, model):\n",
      "        embedded_input_sets, encode_ouput_sets, hidden_state_sets = model.eval_by_batch([self.index_title])\n",
      "        self.embeddings = []\n",
      "        \n",
      "        # mean_embedded_inputs_, max_embedded_inputs_, min_embedded_inputs_\n",
      "        for embedding in embedded_input_sets:\n",
      "            self.embeddings.append(embedding[0])\n",
      "        # mean_encoder_outputs, max_encoder_outputs, min_encoder_outputs\n",
      "        for embedding in encode_ouput_sets:\n",
      "            self.embeddings.append(embedding[0])\n",
      "        # final_cell_state_, final_hidden_state_\n",
      "        for embedding in hidden_state_sets:\n",
      "            self.embeddings.append(embedding[0])\n",
      "            \n",
      "def get_embedding_vector(sorted_titles, article_index):\n",
      "    sample_vector = sorted_titles[article_index].embeddings[6][:]\n",
      "    sample_vector = np.append(sample_vector, sorted_titles[article_index].embeddings[0][:])    \n",
      "    return sample_vector\n",
      "\n",
      "def cosine_similarity(x, y):\n",
      "    numerator = sum(a*b for a, b in zip(x,y))\n",
      "    denominator = square_rooted(x) * square_rooted(y)\n",
      "    return numerator / denominator\n",
      "\n",
      "def square_rooted(x):\n",
      "    return math.sqrt(sum([a*a for a in x]))"
     ],
     "language": "python",
     "metadata": {},
     "outputs": [],
     "prompt_number": 23
    },
    {
     "cell_type": "code",
     "collapsed": false,
     "input": [
      "processed_titles_pickle_file = 'processed_titles_data.pkl'\n",
      "\n",
      "with open(processed_titles_pickle_file, 'rb') as output_stream:\n",
      "    sorted_titles = pickle.load(output_stream)"
     ],
     "language": "python",
     "metadata": {},
     "outputs": [],
     "prompt_number": 6
    },
    {
     "cell_type": "code",
     "collapsed": false,
     "input": [
      "tot_counts = len(sorted_titles)\n",
      "print 'total {} articles are processed...'.format(tot_counts)"
     ],
     "language": "python",
     "metadata": {},
     "outputs": [
      {
       "output_type": "stream",
       "stream": "stdout",
       "text": [
        "total 200000 articles are processed...\n"
       ]
      }
     ],
     "prompt_number": 8
    },
    {
     "cell_type": "markdown",
     "metadata": {},
     "source": [
      "### choose the articles index, between [0, 20000)"
     ]
    },
    {
     "cell_type": "code",
     "collapsed": false,
     "input": [
      "index = 130"
     ],
     "language": "python",
     "metadata": {},
     "outputs": [],
     "prompt_number": 9
    },
    {
     "cell_type": "code",
     "collapsed": false,
     "input": [
      "print '\\n', sorted_titles[index].title\n",
      "print sorted_titles[index].url\n",
      "\n",
      "embeddings = sorted_titles[index].embeddings\n",
      "print \"embedding size: \", len(embeddings), '\\n'\n",
      "#embeddings[2]"
     ],
     "language": "python",
     "metadata": {},
     "outputs": [
      {
       "output_type": "stream",
       "stream": "stdout",
       "text": [
        "\n",
        "actor death spotlights dangers of home detox\n",
        "http://www.msn.com/en-us/health/healthtrending/actors-death-spotlights-dangers-of-home-detox/ar-BBEfUl5\n",
        "embedding size:  8 \n",
        "\n"
       ]
      }
     ],
     "prompt_number": 10
    },
    {
     "cell_type": "markdown",
     "metadata": {},
     "source": [
      "#### compare the target article with all others"
     ]
    },
    {
     "cell_type": "code",
     "collapsed": false,
     "input": [
      "cosine_results, euclidean_results = [], []\n",
      "start_time = time.time()\n",
      "article_index = index\n",
      "print sorted_titles[article_index].url\n",
      "print sorted_titles[article_index].title\n",
      "print sorted_titles[article_index].pageView\n",
      "\n",
      "sample_vector = get_embedding_vector(sorted_titles, article_index)\n",
      "expected_length = len(sample_vector)\n",
      "print \"\\n\"\n",
      "\n",
      "for i in xrange(min(len(sorted_titles), 50000)):\n",
      "    cur_vector = get_embedding_vector(sorted_titles, i)\n",
      "    assert len(cur_vector) == expected_length\n",
      "    \n",
      "    cosine_result = cosine_similarity(cur_vector, sample_vector)\n",
      "    sorted_titles[i].cosine_similarity = cosine_result\n",
      "    cosine_results.append(cosine_result)\n",
      "print 'all the process takes {:.2f} seconds...'.format(time.time() - start_time)"
     ],
     "language": "python",
     "metadata": {},
     "outputs": [
      {
       "output_type": "stream",
       "stream": "stdout",
       "text": [
        "http://www.msn.com/en-us/health/healthtrending/actors-death-spotlights-dangers-of-home-detox/ar-BBEfUl5\n",
        "actor death spotlights dangers of home detox\n",
        "356421\n",
        "\n",
        "\n",
        "all the process takes 18.17 seconds..."
       ]
      },
      {
       "output_type": "stream",
       "stream": "stdout",
       "text": [
        "\n"
       ]
      }
     ],
     "prompt_number": 27
    },
    {
     "cell_type": "markdown",
     "metadata": {},
     "source": [
      "#### show articlse ranked by the similarity"
     ]
    },
    {
     "cell_type": "code",
     "collapsed": false,
     "input": [
      "cosine_threshold = 0.85\n",
      "euclidean_threshold = 4\n",
      "\n",
      "\n",
      "total_counts = 0\n",
      "relevant_titles = []\n",
      "for i in xrange(len(cosine_results)):\n",
      "    if sorted_titles[i].cosine_similarity > cosine_threshold:\n",
      "        total_counts += 1\n",
      "        relevant_titles.append(sorted_titles[i])\n",
      "\n",
      "# sort the titles by the `cosine_similarity`\n",
      "selected_titles = sorted(relevant_titles, key=lambda elem: elem.cosine_similarity, reverse=True)\n",
      "\n",
      "for title in selected_titles:\n",
      "    print title.cosine_similarity\n",
      "    print title.url\n",
      "    print title.title\n",
      "    print \"\\n\""
     ],
     "language": "python",
     "metadata": {},
     "outputs": [
      {
       "output_type": "stream",
       "stream": "stdout",
       "text": [
        "1.0\n",
        "http://www.msn.com/en-us/health/healthtrending/actors-death-spotlights-dangers-of-home-detox/ar-BBEfUl5\n",
        "actor death spotlights dangers of home detox\n",
        "\n",
        "\n",
        "0.974326971663\n",
        "https://www.nbcnews.com/health/health-news/actor-s-death-spotlights-risks-detoxing-alone-n781906\n",
        "actor _UNK ellis death spotlights dangers of home detox\n",
        "\n",
        "\n"
       ]
      }
     ],
     "prompt_number": 28
    },
    {
     "cell_type": "code",
     "collapsed": false,
     "input": [],
     "language": "python",
     "metadata": {},
     "outputs": []
    }
   ],
   "metadata": {}
  }
 ]
}