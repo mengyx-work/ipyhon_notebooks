{
 "cells": [
  {
   "cell_type": "code",
   "execution_count": 252,
   "metadata": {
    "collapsed": true
   },
   "outputs": [],
   "source": [
    "import os, json, time, re\n",
    "import random, collections, cPickle\n",
    "import numpy as np\n",
    "import pandas as pd\n",
    "%matplotlib inline  "
   ]
  },
  {
   "cell_type": "code",
   "execution_count": 88,
   "metadata": {
    "collapsed": true
   },
   "outputs": [],
   "source": [
    "data_path = '/Users/matt.meng/Downloads'\n",
    "file_name = 'small_articles.json'"
   ]
  },
  {
   "cell_type": "code",
   "execution_count": 91,
   "metadata": {
    "collapsed": false
   },
   "outputs": [],
   "source": [
    "def isEnglish(s):\n",
    "    try:\n",
    "        s.encode(encoding='utf-8').decode('ascii')\n",
    "    except UnicodeDecodeError:\n",
    "        return False\n",
    "    else:\n",
    "        return True\n",
    "    \n",
    "def process_raw_data(data_path, file_name):\n",
    "    start_time = time.time()\n",
    "    with open(os.path.join(data_path, file_name), 'r') as input:\n",
    "        counter = 0\n",
    "        title_df = pd.DataFrame(columns=['title', 'pageView'])\n",
    "        for line in input:\n",
    "            json_doc = json.loads(line)\n",
    "            #publisher_id = json_doc['pv_publisherId']\n",
    "            expected_keys = ['pv_title', 'pv_url', 'pv_pageViews']\n",
    "            if not all([key in json_doc.keys() for key in expected_keys]):\n",
    "                continue\n",
    "            title, url, pageView = json_doc['pv_title'], json_doc['pv_url'], json_doc['pv_pageViews']\n",
    "            if not isEnglish(title):\n",
    "                continue\n",
    "            title_df.loc[url] = pd.Series({'title' : title, 'pageView' : pageView})\n",
    "    title_df.index.name = 'url'\n",
    "    print 'finished processing all the data using {:.2f} seconds'.format(time.time() - start_time) \n",
    "    return title_df"
   ]
  },
  {
   "cell_type": "code",
   "execution_count": 92,
   "metadata": {
    "collapsed": false
   },
   "outputs": [
    {
     "name": "stdout",
     "output_type": "stream",
     "text": [
      "finished processing all the data using 123.05 seconds\n"
     ]
    }
   ],
   "source": [
    "title_df = process_raw_data(data_path, file_name)"
   ]
  },
  {
   "cell_type": "code",
   "execution_count": 93,
   "metadata": {
    "collapsed": false
   },
   "outputs": [
    {
     "name": "stdout",
     "output_type": "stream",
     "text": [
      "(20913, 2)\n"
     ]
    },
    {
     "data": {
      "text/html": [
       "<div>\n",
       "<table border=\"1\" class=\"dataframe\">\n",
       "  <thead>\n",
       "    <tr style=\"text-align: right;\">\n",
       "      <th></th>\n",
       "      <th>title</th>\n",
       "      <th>pageView</th>\n",
       "    </tr>\n",
       "    <tr>\n",
       "      <th>url</th>\n",
       "      <th></th>\n",
       "      <th></th>\n",
       "    </tr>\n",
       "  </thead>\n",
       "  <tbody>\n",
       "    <tr>\n",
       "      <th>http://www.nydailynews.com/news/national/transgender-navy-seal-slams-trump-banning-servicemembers-article-1.3358836</th>\n",
       "      <td>Transgender Navy SEAL slams Trump for banning ...</td>\n",
       "      <td>410271</td>\n",
       "    </tr>\n",
       "    <tr>\n",
       "      <th>http://www.nydailynews.com/new-york/delta-pilot-flight-attendant-fight-delays-takeoff-laguardia-article-1.3352751</th>\n",
       "      <td>Delta pilot, flight attendant fight delays tak...</td>\n",
       "      <td>234898</td>\n",
       "    </tr>\n",
       "    <tr>\n",
       "      <th>http://www.nydailynews.com/news/national/fbi-suspect-custody-cruise-ship-death-article-1.3361442</th>\n",
       "      <td>FBI has suspect in custody in cruise ship death</td>\n",
       "      <td>151344</td>\n",
       "    </tr>\n",
       "    <tr>\n",
       "      <th>http://www.nydailynews.com/life-style/u-s-navy-aircraft-carrier-sets-sail-no-urinals-article-1.3352063</th>\n",
       "      <td>New U.S. Navy aircraft carrier sets sail with ...</td>\n",
       "      <td>24271</td>\n",
       "    </tr>\n",
       "    <tr>\n",
       "      <th>https://www.cbssports.com/mlb/news/seven-bold-predictions-for-the-2017-mlb-trade-deadline/</th>\n",
       "      <td>Seven bold predictions for the 2017 MLB trade ...</td>\n",
       "      <td>100887</td>\n",
       "    </tr>\n",
       "  </tbody>\n",
       "</table>\n",
       "</div>"
      ],
      "text/plain": [
       "                                                                                                title  \\\n",
       "url                                                                                                     \n",
       "http://www.nydailynews.com/news/national/transg...  Transgender Navy SEAL slams Trump for banning ...   \n",
       "http://www.nydailynews.com/new-york/delta-pilot...  Delta pilot, flight attendant fight delays tak...   \n",
       "http://www.nydailynews.com/news/national/fbi-su...    FBI has suspect in custody in cruise ship death   \n",
       "http://www.nydailynews.com/life-style/u-s-navy-...  New U.S. Navy aircraft carrier sets sail with ...   \n",
       "https://www.cbssports.com/mlb/news/seven-bold-p...  Seven bold predictions for the 2017 MLB trade ...   \n",
       "\n",
       "                                                   pageView  \n",
       "url                                                          \n",
       "http://www.nydailynews.com/news/national/transg...   410271  \n",
       "http://www.nydailynews.com/new-york/delta-pilot...   234898  \n",
       "http://www.nydailynews.com/news/national/fbi-su...   151344  \n",
       "http://www.nydailynews.com/life-style/u-s-navy-...    24271  \n",
       "https://www.cbssports.com/mlb/news/seven-bold-p...   100887  "
      ]
     },
     "execution_count": 93,
     "metadata": {},
     "output_type": "execute_result"
    }
   ],
   "source": [
    "print title_df.shape\n",
    "title_df.head()"
   ]
  },
  {
   "cell_type": "code",
   "execution_count": 94,
   "metadata": {
    "collapsed": false
   },
   "outputs": [],
   "source": [
    "title_df.to_csv('/Users/matt.meng/Downloads/title_data.csv', index=True, encoding='utf-8')"
   ]
  },
  {
   "cell_type": "code",
   "execution_count": null,
   "metadata": {
    "collapsed": true
   },
   "outputs": [],
   "source": []
  },
  {
   "cell_type": "code",
   "execution_count": null,
   "metadata": {
    "collapsed": true
   },
   "outputs": [],
   "source": []
  },
  {
   "cell_type": "code",
   "execution_count": 241,
   "metadata": {
    "collapsed": true
   },
   "outputs": [],
   "source": [
    "file_name = '/Users/matt.meng/Downloads/title_data.csv'"
   ]
  },
  {
   "cell_type": "code",
   "execution_count": 242,
   "metadata": {
    "collapsed": true
   },
   "outputs": [],
   "source": [
    "data = pd.read_csv(file_name, index_col='url', encoding='utf-8')"
   ]
  },
  {
   "cell_type": "code",
   "execution_count": 243,
   "metadata": {
    "collapsed": false
   },
   "outputs": [
    {
     "name": "stdout",
     "output_type": "stream",
     "text": [
      "(20913, 2)\n"
     ]
    },
    {
     "data": {
      "text/html": [
       "<div>\n",
       "<table border=\"1\" class=\"dataframe\">\n",
       "  <thead>\n",
       "    <tr style=\"text-align: right;\">\n",
       "      <th></th>\n",
       "      <th>title</th>\n",
       "      <th>pageView</th>\n",
       "    </tr>\n",
       "    <tr>\n",
       "      <th>url</th>\n",
       "      <th></th>\n",
       "      <th></th>\n",
       "    </tr>\n",
       "  </thead>\n",
       "  <tbody>\n",
       "    <tr>\n",
       "      <th>http://www.nydailynews.com/news/national/transgender-navy-seal-slams-trump-banning-servicemembers-article-1.3358836</th>\n",
       "      <td>Transgender Navy SEAL slams Trump for banning ...</td>\n",
       "      <td>410271</td>\n",
       "    </tr>\n",
       "    <tr>\n",
       "      <th>http://www.nydailynews.com/new-york/delta-pilot-flight-attendant-fight-delays-takeoff-laguardia-article-1.3352751</th>\n",
       "      <td>Delta pilot, flight attendant fight delays tak...</td>\n",
       "      <td>234898</td>\n",
       "    </tr>\n",
       "    <tr>\n",
       "      <th>http://www.nydailynews.com/news/national/fbi-suspect-custody-cruise-ship-death-article-1.3361442</th>\n",
       "      <td>FBI has suspect in custody in cruise ship death</td>\n",
       "      <td>151344</td>\n",
       "    </tr>\n",
       "    <tr>\n",
       "      <th>http://www.nydailynews.com/life-style/u-s-navy-aircraft-carrier-sets-sail-no-urinals-article-1.3352063</th>\n",
       "      <td>New U.S. Navy aircraft carrier sets sail with ...</td>\n",
       "      <td>24271</td>\n",
       "    </tr>\n",
       "    <tr>\n",
       "      <th>https://www.cbssports.com/mlb/news/seven-bold-predictions-for-the-2017-mlb-trade-deadline/</th>\n",
       "      <td>Seven bold predictions for the 2017 MLB trade ...</td>\n",
       "      <td>100887</td>\n",
       "    </tr>\n",
       "  </tbody>\n",
       "</table>\n",
       "</div>"
      ],
      "text/plain": [
       "                                                                                                title  \\\n",
       "url                                                                                                     \n",
       "http://www.nydailynews.com/news/national/transg...  Transgender Navy SEAL slams Trump for banning ...   \n",
       "http://www.nydailynews.com/new-york/delta-pilot...  Delta pilot, flight attendant fight delays tak...   \n",
       "http://www.nydailynews.com/news/national/fbi-su...    FBI has suspect in custody in cruise ship death   \n",
       "http://www.nydailynews.com/life-style/u-s-navy-...  New U.S. Navy aircraft carrier sets sail with ...   \n",
       "https://www.cbssports.com/mlb/news/seven-bold-p...  Seven bold predictions for the 2017 MLB trade ...   \n",
       "\n",
       "                                                    pageView  \n",
       "url                                                           \n",
       "http://www.nydailynews.com/news/national/transg...    410271  \n",
       "http://www.nydailynews.com/new-york/delta-pilot...    234898  \n",
       "http://www.nydailynews.com/news/national/fbi-su...    151344  \n",
       "http://www.nydailynews.com/life-style/u-s-navy-...     24271  \n",
       "https://www.cbssports.com/mlb/news/seven-bold-p...    100887  "
      ]
     },
     "execution_count": 243,
     "metadata": {},
     "output_type": "execute_result"
    }
   ],
   "source": [
    "print data.shape\n",
    "data.head()"
   ]
  },
  {
   "cell_type": "code",
   "execution_count": 244,
   "metadata": {
    "collapsed": true
   },
   "outputs": [],
   "source": [
    "def basic_tokenizer(line, normalize_digits=True):\n",
    "    line = line.replace(\"'s\", '')\n",
    "    line = re.sub(\"\\.\", '', line)\n",
    "    line = re.sub('[!\"#%\\'()*+,/:;<=>?@\\[\\]^_{|}~`’”“′‘\\\\\\]', ' ', line)\n",
    "    line = re.sub('[\\n\\t ]+', ' ', line)\n",
    "    words = []\n",
    "    #_WORD_SPLIT = re.compile(b\"([.,!?\\\"'-<>:;)(])\")\n",
    "    _DIGIT_RE = re.compile(r\"\\d\")\n",
    "    for token in line.strip().lower().split():\n",
    "        if not token:\n",
    "            continue\n",
    "        if normalize_digits:\n",
    "            token = re.sub(_DIGIT_RE, b'#', token)\n",
    "        words.append(token)\n",
    "    return len(words), ' '.join(words)"
   ]
  },
  {
   "cell_type": "code",
   "execution_count": 279,
   "metadata": {
    "collapsed": false
   },
   "outputs": [
    {
     "data": {
      "text/plain": [
       "\"\\n# way to check the tokenizer\\nindex = random.randint(0, data.shape[0])\\nprint index\\nprint data['title'][index]\\nprint basic_tokenizer(data['title'][index])\\n\""
      ]
     },
     "execution_count": 279,
     "metadata": {},
     "output_type": "execute_result"
    }
   ],
   "source": [
    "'''\n",
    "# way to check the tokenizer\n",
    "index = random.randint(0, data.shape[0])\n",
    "print index\n",
    "print data['title'][index]\n",
    "print basic_tokenizer(data['title'][index])\n",
    "'''"
   ]
  },
  {
   "cell_type": "code",
   "execution_count": 277,
   "metadata": {
    "collapsed": true
   },
   "outputs": [],
   "source": [
    "# tokenize the titles\n",
    "data['title_word_counts'], data['processed_title'] = zip(*data['title'].map(basic_tokenizer))\n",
    "# sort by the title word counts and filter them\n",
    "sorted_data = data.sort_values(by=['title_word_counts', 'pageView'], ascending=[True, False])\n",
    "index = (sorted_data['title_word_counts'] >= 4) & (sorted_data['title_word_counts'] <= 15)\n",
    "filtered_data = sorted_data.loc[index, :]"
   ]
  },
  {
   "cell_type": "code",
   "execution_count": 280,
   "metadata": {
    "collapsed": false
   },
   "outputs": [
    {
     "data": {
      "text/html": [
       "<div>\n",
       "<table border=\"1\" class=\"dataframe\">\n",
       "  <thead>\n",
       "    <tr style=\"text-align: right;\">\n",
       "      <th></th>\n",
       "      <th>title</th>\n",
       "      <th>pageView</th>\n",
       "      <th>title_word_counts</th>\n",
       "      <th>processed_title</th>\n",
       "    </tr>\n",
       "    <tr>\n",
       "      <th>url</th>\n",
       "      <th></th>\n",
       "      <th></th>\n",
       "      <th></th>\n",
       "      <th></th>\n",
       "    </tr>\n",
       "  </thead>\n",
       "  <tbody>\n",
       "    <tr>\n",
       "      <th>http://www.nydailynews.com/opinion/football-brink-article-1.3355753</th>\n",
       "      <td>Football on the brink</td>\n",
       "      <td>15339</td>\n",
       "      <td>4</td>\n",
       "      <td>football on the brink</td>\n",
       "    </tr>\n",
       "    <tr>\n",
       "      <th>http://www.chicagotribune.com/news/opinion/huppke/ct-trump-sessions-ohio-boy-scout-huppke-20170726-story.html</th>\n",
       "      <td>Donald Trump's abnormal behavior</td>\n",
       "      <td>5651</td>\n",
       "      <td>4</td>\n",
       "      <td>donald trump abnormal behavior</td>\n",
       "    </tr>\n",
       "    <tr>\n",
       "      <th>http://www.nydailynews.com/opinion/sacred-article-1.3359322</th>\n",
       "      <td>Every one is sacred</td>\n",
       "      <td>2095</td>\n",
       "      <td>4</td>\n",
       "      <td>every one is sacred</td>\n",
       "    </tr>\n",
       "    <tr>\n",
       "      <th>http://www.nydailynews.com/opinion/immigration-reform-mission-article-1.3355621</th>\n",
       "      <td>Immigration reform: Mission possible</td>\n",
       "      <td>1749</td>\n",
       "      <td>4</td>\n",
       "      <td>immigration reform mission possible</td>\n",
       "    </tr>\n",
       "    <tr>\n",
       "      <th>http://www.nydailynews.com/opinion/ugly-american-president-article-1.3288340</th>\n",
       "      <td>The ugly American President</td>\n",
       "      <td>515</td>\n",
       "      <td>4</td>\n",
       "      <td>the ugly american president</td>\n",
       "    </tr>\n",
       "  </tbody>\n",
       "</table>\n",
       "</div>"
      ],
      "text/plain": [
       "                                                                                   title  \\\n",
       "url                                                                                        \n",
       "http://www.nydailynews.com/opinion/football-bri...                 Football on the brink   \n",
       "http://www.chicagotribune.com/news/opinion/hupp...      Donald Trump's abnormal behavior   \n",
       "http://www.nydailynews.com/opinion/sacred-artic...                   Every one is sacred   \n",
       "http://www.nydailynews.com/opinion/immigration-...  Immigration reform: Mission possible   \n",
       "http://www.nydailynews.com/opinion/ugly-america...           The ugly American President   \n",
       "\n",
       "                                                    pageView  \\\n",
       "url                                                            \n",
       "http://www.nydailynews.com/opinion/football-bri...     15339   \n",
       "http://www.chicagotribune.com/news/opinion/hupp...      5651   \n",
       "http://www.nydailynews.com/opinion/sacred-artic...      2095   \n",
       "http://www.nydailynews.com/opinion/immigration-...      1749   \n",
       "http://www.nydailynews.com/opinion/ugly-america...       515   \n",
       "\n",
       "                                                    title_word_counts  \\\n",
       "url                                                                     \n",
       "http://www.nydailynews.com/opinion/football-bri...                  4   \n",
       "http://www.chicagotribune.com/news/opinion/hupp...                  4   \n",
       "http://www.nydailynews.com/opinion/sacred-artic...                  4   \n",
       "http://www.nydailynews.com/opinion/immigration-...                  4   \n",
       "http://www.nydailynews.com/opinion/ugly-america...                  4   \n",
       "\n",
       "                                                                        processed_title  \n",
       "url                                                                                      \n",
       "http://www.nydailynews.com/opinion/football-bri...                football on the brink  \n",
       "http://www.chicagotribune.com/news/opinion/hupp...       donald trump abnormal behavior  \n",
       "http://www.nydailynews.com/opinion/sacred-artic...                  every one is sacred  \n",
       "http://www.nydailynews.com/opinion/immigration-...  immigration reform mission possible  \n",
       "http://www.nydailynews.com/opinion/ugly-america...          the ugly american president  "
      ]
     },
     "execution_count": 280,
     "metadata": {},
     "output_type": "execute_result"
    }
   ],
   "source": [
    "filtered_data.head()"
   ]
  },
  {
   "cell_type": "code",
   "execution_count": null,
   "metadata": {
    "collapsed": true
   },
   "outputs": [],
   "source": []
  },
  {
   "cell_type": "markdown",
   "metadata": {},
   "source": [
    "#### build the vocabulary dictionary"
   ]
  },
  {
   "cell_type": "code",
   "execution_count": 281,
   "metadata": {
    "collapsed": false
   },
   "outputs": [],
   "source": [
    "'''\n",
    "def create_vocab_dict(data, column_name, freq_threshold=2):\n",
    "    vocab_dict = {}\n",
    "    titles = []\n",
    "    for title in data[column_name]:\n",
    "        words = []\n",
    "        for token in basic_tokenizer(title):\n",
    "            words.append(token)\n",
    "            if token not in vocab_dict:\n",
    "                vocab_dict[token] = 0\n",
    "            vocab_dict[token] += 1\n",
    "        titles.append(words)\n",
    "    print 'total {} tokens are ideintified...'.format(len(vocab_dict))\n",
    "    sorted_pairs = sorted(vocab_dict.items(), key=lambda x : x[1], reverse=True)\n",
    "\n",
    "    offset = 4\n",
    "    UKN_index = offset - 1\n",
    "    token_dict, reverse_token_dict = {}, {UKN_index : 'UKN'}\n",
    "    unique_counts = 0\n",
    "    for i, pair in enumerate(sorted_pairs):\n",
    "        if pair[1] >= freq_threshold:\n",
    "            unique_counts += 1\n",
    "            token_dict[pair[0]] = i + offset\n",
    "            reverse_token_dict[(i + offset)] = pair[0]\n",
    "        else:\n",
    "            token_dict[pair[0]] = UKN_index\n",
    "    print 'total {} unique tokens are included in the token dictionary...'.format(unique_counts)            \n",
    "    for i in xrange(len(titles)):\n",
    "          titles[i] = map(token_dict.get, titles[i])\n",
    "    return token_dict, reverse_token_dict, titles\n",
    "'''\n",
    "\n",
    "def create_vocab_dict(data, column_name, freq_threshold=2):\n",
    "    vocab_dict = {}\n",
    "    titles = []\n",
    "    for title in data[column_name]:\n",
    "        words = []\n",
    "        for token in title.split(' '):\n",
    "            words.append(token)\n",
    "            if token not in vocab_dict:\n",
    "                vocab_dict[token] = 0\n",
    "            vocab_dict[token] += 1\n",
    "        titles.append(words)\n",
    "    print 'total {} tokens are ideintified...'.format(len(vocab_dict))\n",
    "    sorted_pairs = sorted(vocab_dict.items(), key=lambda x : x[1], reverse=True)\n",
    "\n",
    "    offset = 4\n",
    "    UKN_index = offset - 1\n",
    "    token_dict, reverse_token_dict = {}, {UKN_index : 'UKN'}\n",
    "    unique_counts = 0\n",
    "    for i, pair in enumerate(sorted_pairs):\n",
    "        if pair[1] >= freq_threshold:\n",
    "            unique_counts += 1\n",
    "            token_dict[pair[0]] = i + offset\n",
    "            reverse_token_dict[(i + offset)] = pair[0]\n",
    "        else:\n",
    "            token_dict[pair[0]] = UKN_index\n",
    "    print 'total {} unique tokens are included in the token dictionary...'.format(unique_counts)            \n",
    "    for i in xrange(len(titles)):\n",
    "          titles[i] = map(token_dict.get, titles[i])\n",
    "    return token_dict, reverse_token_dict, titles"
   ]
  },
  {
   "cell_type": "code",
   "execution_count": 282,
   "metadata": {
    "collapsed": false
   },
   "outputs": [
    {
     "name": "stdout",
     "output_type": "stream",
     "text": [
      "total 22767 tokens are ideintified...\n",
      "total 12575 unique tokens are included in the token dictionary...\n"
     ]
    }
   ],
   "source": [
    "token_dict, reverse_token_dict, titles = create_vocab_dict(filtered_data, 'processed_title')"
   ]
  },
  {
   "cell_type": "code",
   "execution_count": 286,
   "metadata": {
    "collapsed": false
   },
   "outputs": [
    {
     "name": "stdout",
     "output_type": "stream",
     "text": [
      "(20244, 4) 20244\n"
     ]
    }
   ],
   "source": [
    "print filtered_data.shape, len(titles)\n",
    "pickle_file = 'content.pkl'\n",
    "\n",
    "url_list = filtered_data.index.tolist()\n",
    "content = {'url' : url_list, \n",
    "           'titles' : titles, \n",
    "           'token_dict' : token_dict,\n",
    "           'reverse_token_dict' : reverse_token_dict}\n",
    "\n",
    "with open(pickle_file, 'wb') as handle:\n",
    "    cPickle.dump(content, handle, protocol=cPickle.HIGHEST_PROTOCOL)"
   ]
  },
  {
   "cell_type": "code",
   "execution_count": 288,
   "metadata": {
    "collapsed": true
   },
   "outputs": [],
   "source": [
    "import cPickle as pickle\n",
    "\n",
    "class DataGenerator(object):\n",
    "\n",
    "    def __init__ (self, pickle_file_path):\n",
    "        self._cur_index = 0\n",
    "        with open(pickle_file_path, 'rb') as input_stream:\n",
    "            self.data = pickle.load(input_stream)\n",
    "        self.titles = self.data['titles']\n",
    "        self.reverse_token_dict = self.data['reverse_token_dict']\n",
    "        self.data_size = len(self.titles)\n",
    "    \n",
    "    def generate_sequence(self, batch_size):\n",
    "        \n",
    "        while True:\n",
    "            if self._cur_index + batch_size <= self.data_size:\n",
    "                start_index = self._cur_index\n",
    "                self._cur_index += batch_size\n",
    "                yield self.titles[start_index : self._cur_index]\n",
    "            else:\n",
    "                start_index = self._cur_index\n",
    "                self._cur_index = self._cur_index + batch_size - self.data_size\n",
    "                yield self.titles[start_index : self.data_size].extend(self.titles[0 : self._cur_index])        "
   ]
  },
  {
   "cell_type": "code",
   "execution_count": 289,
   "metadata": {
    "collapsed": false
   },
   "outputs": [],
   "source": [
    "dataGen = DataGenerator(pickle_file)"
   ]
  },
  {
   "cell_type": "code",
   "execution_count": 302,
   "metadata": {
    "collapsed": false
   },
   "outputs": [
    {
     "data": {
      "text/plain": [
       "'UKN'"
      ]
     },
     "execution_count": 302,
     "metadata": {},
     "output_type": "execute_result"
    }
   ],
   "source": [
    "dataGen.reverse_token_dict[3]"
   ]
  },
  {
   "cell_type": "code",
   "execution_count": 292,
   "metadata": {
    "collapsed": false
   },
   "outputs": [],
   "source": [
    "seq = dataGen.generate_sequence(20)"
   ]
  },
  {
   "cell_type": "code",
   "execution_count": 309,
   "metadata": {
    "collapsed": false
   },
   "outputs": [
    {
     "data": {
      "text/plain": [
       "[[3, 3, 4208, 9322, 1073],\n",
       " [529, 6984, 6880, 318, 739],\n",
       " [3, 4153, 1790, 6, 3],\n",
       " [2457, 96, 16, 2298, 3468],\n",
       " [3609, 7438, 3, 3, 4772],\n",
       " [3, 3, 433, 5, 140],\n",
       " [348, 2220, 3, 21, 352],\n",
       " [139, 1935, 303, 5, 6924],\n",
       " [12024, 3, 8297, 3, 3],\n",
       " [292, 430, 172, 7944, 93],\n",
       " [1676, 4445, 946, 192, 12],\n",
       " [92, 280, 3211, 164, 1508],\n",
       " [12322, 2133, 2841, 2384, 6857],\n",
       " [3219, 5, 9, 1579, 3],\n",
       " [8006, 3, 1073, 3, 3],\n",
       " [781, 8915, 1477, 4978, 1426],\n",
       " [2911, 3, 316, 7, 3],\n",
       " [6974, 8239, 495, 1420, 7317],\n",
       " [2541, 2732, 1490, 569, 2015],\n",
       " [2703, 2509, 19, 3784, 3355]]"
      ]
     },
     "execution_count": 309,
     "metadata": {},
     "output_type": "execute_result"
    }
   ],
   "source": [
    "next(seq)"
   ]
  },
  {
   "cell_type": "code",
   "execution_count": null,
   "metadata": {
    "collapsed": true
   },
   "outputs": [],
   "source": []
  },
  {
   "cell_type": "code",
   "execution_count": 257,
   "metadata": {
    "collapsed": false
   },
   "outputs": [
    {
     "data": {
      "text/html": [
       "<div>\n",
       "<table border=\"1\" class=\"dataframe\">\n",
       "  <thead>\n",
       "    <tr style=\"text-align: right;\">\n",
       "      <th></th>\n",
       "      <th>title</th>\n",
       "      <th>pageView</th>\n",
       "      <th>title_word_counts</th>\n",
       "      <th>processed_title</th>\n",
       "    </tr>\n",
       "    <tr>\n",
       "      <th>url</th>\n",
       "      <th></th>\n",
       "      <th></th>\n",
       "      <th></th>\n",
       "      <th></th>\n",
       "    </tr>\n",
       "  </thead>\n",
       "  <tbody>\n",
       "    <tr>\n",
       "      <th>http://www.nydailynews.com/opinion/new-life-east-midtown-article-1.3343073</th>\n",
       "      <td>New life for East Midtown</td>\n",
       "      <td>13</td>\n",
       "      <td>5</td>\n",
       "      <td>new life for east midtown</td>\n",
       "    </tr>\n",
       "    <tr>\n",
       "      <th>http://www.nydailynews.com/opinion/bring-next-gen-urban-farming-article-1.3359066</th>\n",
       "      <td>Bring on next-gen urban farming</td>\n",
       "      <td>224</td>\n",
       "      <td>5</td>\n",
       "      <td>bring on next-gen urban farming</td>\n",
       "    </tr>\n",
       "    <tr>\n",
       "      <th>http://www.chicagotribune.com/news/opinion/editorials/ct-cmap-region-planning-2050-edit-0703-md-20170630-story.html</th>\n",
       "      <td>Planning for a new Chicagoland</td>\n",
       "      <td>3</td>\n",
       "      <td>5</td>\n",
       "      <td>planning for a new chicagoland</td>\n",
       "    </tr>\n",
       "    <tr>\n",
       "      <th>http://www.chicagotribune.com/business/ct-illinois-home-sales-0725-biz-20170724-story,amp.html</th>\n",
       "      <td>Chicago-area home sales lose momentum</td>\n",
       "      <td>28</td>\n",
       "      <td>5</td>\n",
       "      <td>chicago-area home sales lose momentum</td>\n",
       "    </tr>\n",
       "    <tr>\n",
       "      <th>http://www.chicagotribune.com/news/local/breaking/ct-southwest-side-drive-by-victim-identified-20170712-story,amp.html</th>\n",
       "      <td>Southwest Side drive-by victim identified</td>\n",
       "      <td>1</td>\n",
       "      <td>5</td>\n",
       "      <td>southwest side drive-by victim identified</td>\n",
       "    </tr>\n",
       "    <tr>\n",
       "      <th>http://www.nydailynews.com/new-york/fire-union-furious-deutsche-fire-verdict-demands-investigation-article-1.158002</th>\n",
       "      <td>Fire union demands Deutsche probe</td>\n",
       "      <td>1</td>\n",
       "      <td>5</td>\n",
       "      <td>fire union demands deutsche probe</td>\n",
       "    </tr>\n",
       "    <tr>\n",
       "      <th>http://www.nydailynews.com/life-style/co-op-board-no-pet-rule-killed-wife-dispute-therapy-dog-widower-lawsuit-article-1.999062</th>\n",
       "      <td>No-pet rule killed my wife</td>\n",
       "      <td>1</td>\n",
       "      <td>5</td>\n",
       "      <td>no-pet rule killed my wife</td>\n",
       "    </tr>\n",
       "    <tr>\n",
       "      <th>http://www.greenvilleonline.com/story/life/style/talk-greenville/2017/06/30/minutes-holly-julian/103319768/</th>\n",
       "      <td>15 Minutes with Holly Julian</td>\n",
       "      <td>13</td>\n",
       "      <td>5</td>\n",
       "      <td>## minutes with holly julian</td>\n",
       "    </tr>\n",
       "    <tr>\n",
       "      <th>http://www.chicagotribune.com/sports/rosenblog/ct-jose-quintana-jon-lester-number-2-pitcher-rosenbloom-20170714-column.html</th>\n",
       "      <td>The Jose Quintana-Jon Lester connection</td>\n",
       "      <td>3</td>\n",
       "      <td>5</td>\n",
       "      <td>the jose quintana-jon lester connection</td>\n",
       "    </tr>\n",
       "    <tr>\n",
       "      <th>http://articles.chicagotribune.com/2003-12-13/sports/0312130154_1_wide-receiver-larry-fitzgerald-chris-perry-argument</th>\n",
       "      <td>Time for annual Heisman debate</td>\n",
       "      <td>4</td>\n",
       "      <td>5</td>\n",
       "      <td>time for annual heisman debate</td>\n",
       "    </tr>\n",
       "    <tr>\n",
       "      <th>http://www.nydailynews.com/new-york/bronx-kid-represents-united-states-yu-gi-oh-world-championship-article-1.948403</th>\n",
       "      <td>Bx. pride fuels game finalist</td>\n",
       "      <td>3</td>\n",
       "      <td>5</td>\n",
       "      <td>bx pride fuels game finalist</td>\n",
       "    </tr>\n",
       "    <tr>\n",
       "      <th>http://www.nydailynews.com/sports/more-sports/jordan-spieth-wins-british-open-article-1.3349147</th>\n",
       "      <td>Jordan Spieth wins British Open</td>\n",
       "      <td>40</td>\n",
       "      <td>5</td>\n",
       "      <td>jordan spieth wins british open</td>\n",
       "    </tr>\n",
       "    <tr>\n",
       "      <th>https://www.welt.de/print/welt_kompakt/print_sport/article167089608/Shoppingking-Pep-Guardiola.html</th>\n",
       "      <td>Shoppingking Pep Guardiola - WELT</td>\n",
       "      <td>2</td>\n",
       "      <td>5</td>\n",
       "      <td>shoppingking pep guardiola - welt</td>\n",
       "    </tr>\n",
       "    <tr>\n",
       "      <th>http://www.nydailynews.com/newswires/news/business/boeing-beats-2q-profit-forecasts-article-1.3357585</th>\n",
       "      <td>Boeing beats 2Q profit forecasts</td>\n",
       "      <td>28</td>\n",
       "      <td>5</td>\n",
       "      <td>boeing beats #q profit forecasts</td>\n",
       "    </tr>\n",
       "    <tr>\n",
       "      <th>http://www.msn.com/de-ch/reisen/artikel/hausboot-trip-entschleunigung-mit-allen-sinnen/ar-AAovpEs</th>\n",
       "      <td>Hausboot-Trip: Entschleunigung mit allen Sinnen</td>\n",
       "      <td>4</td>\n",
       "      <td>5</td>\n",
       "      <td>hausboot-trip entschleunigung mit allen sinnen</td>\n",
       "    </tr>\n",
       "    <tr>\n",
       "      <th>https://www.cbssports.com/fantasy/football/news/lucky-whitehead-cut-by-dallas/</th>\n",
       "      <td>Lucky Whitehead: Cut by Dallas</td>\n",
       "      <td>304</td>\n",
       "      <td>5</td>\n",
       "      <td>lucky whitehead cut by dallas</td>\n",
       "    </tr>\n",
       "    <tr>\n",
       "      <th>http://www.chicagotribune.com/news/opinion/editorials/ct-car-electric-volvo-hybrid-edit-0709-md-20170707-story.html</th>\n",
       "      <td>Goodbye to the gas pedal</td>\n",
       "      <td>7</td>\n",
       "      <td>5</td>\n",
       "      <td>goodbye to the gas pedal</td>\n",
       "    </tr>\n",
       "    <tr>\n",
       "      <th>https://www.cbssports.com/fantasy/football/news/anquan-boldin-to-visit-bills/</th>\n",
       "      <td>Anquan Boldin: To visit Bills</td>\n",
       "      <td>28</td>\n",
       "      <td>5</td>\n",
       "      <td>anquan boldin to visit bills</td>\n",
       "    </tr>\n",
       "    <tr>\n",
       "      <th>http://www.nydailynews.com/opinion/affordable-housing-cost-article-1.3327672</th>\n",
       "      <td>Affordable housing, at what cost?</td>\n",
       "      <td>40</td>\n",
       "      <td>5</td>\n",
       "      <td>affordable housing at what cost</td>\n",
       "    </tr>\n",
       "    <tr>\n",
       "      <th>http://www.chicagotribune.com/news/local/breaking/ct-irving-park-teen-reported-missing-20170617-story.html</th>\n",
       "      <td>Irving Park teen reported missing</td>\n",
       "      <td>1</td>\n",
       "      <td>5</td>\n",
       "      <td>irving park teen reported missing</td>\n",
       "    </tr>\n",
       "    <tr>\n",
       "      <th>http://www.nydailynews.com/new-york/manhattan/morris-jumel-mansion-celebrates-250th-anniversary-article-1.2027320</th>\n",
       "      <td>Morris-Jumel Mansion celebrates 250th anniversary</td>\n",
       "      <td>1</td>\n",
       "      <td>5</td>\n",
       "      <td>morris-jumel mansion celebrates ###th anniversary</td>\n",
       "    </tr>\n",
       "    <tr>\n",
       "      <th>https://www.cbssports.com/fantasy/baseball/news/marlins-brandon-miller-joining-marlins/</th>\n",
       "      <td>Marlins' Brandon Miller: Joining Marlins</td>\n",
       "      <td>1</td>\n",
       "      <td>5</td>\n",
       "      <td>marlins brandon miller joining marlins</td>\n",
       "    </tr>\n",
       "    <tr>\n",
       "      <th>http://www.chicagotribune.com/suburbs/naperville-sun/news/ct-nvs-naperville-people-st-0630-20170629-story.html</th>\n",
       "      <td>Naperville People in the News</td>\n",
       "      <td>4</td>\n",
       "      <td>5</td>\n",
       "      <td>naperville people in the news</td>\n",
       "    </tr>\n",
       "    <tr>\n",
       "      <th>http://www.chicagotribune.com/news/opinion/letters/ct-how-indiana-could-save-illinois-20170623-story.html</th>\n",
       "      <td>How Indiana could save Illinois</td>\n",
       "      <td>1</td>\n",
       "      <td>5</td>\n",
       "      <td>how indiana could save illinois</td>\n",
       "    </tr>\n",
       "    <tr>\n",
       "      <th>https://www.cbssports.com/fantasy/football/news/t-j-graham-signs-with-panthers/</th>\n",
       "      <td>T.J. Graham: Signs with Panthers</td>\n",
       "      <td>31</td>\n",
       "      <td>5</td>\n",
       "      <td>tj graham signs with panthers</td>\n",
       "    </tr>\n",
       "    <tr>\n",
       "      <th>http://articles.chicagotribune.com/1994-08-19/news/9408190229_1_commuter-train-new-laws-death</th>\n",
       "      <td>Overpass Idea Still Just Talk</td>\n",
       "      <td>1</td>\n",
       "      <td>5</td>\n",
       "      <td>overpass idea still just talk</td>\n",
       "    </tr>\n",
       "    <tr>\n",
       "      <th>http://www.msn.com/de-de/reisen/artikel/hausboot-trip-entschleunigung-mit-allen-sinnen/ar-AAovpEs</th>\n",
       "      <td>Hausboot-Trip: Entschleunigung mit allen Sinnen</td>\n",
       "      <td>7</td>\n",
       "      <td>5</td>\n",
       "      <td>hausboot-trip entschleunigung mit allen sinnen</td>\n",
       "    </tr>\n",
       "    <tr>\n",
       "      <th>http://www.nydailynews.com/newswires/entertainment/review-afterlife-mind-bending-thriller-article-1.3332696</th>\n",
       "      <td>Review: 'Afterlife' is mind-bending thriller</td>\n",
       "      <td>2</td>\n",
       "      <td>5</td>\n",
       "      <td>review afterlife is mind-bending thriller</td>\n",
       "    </tr>\n",
       "    <tr>\n",
       "      <th>https://www.cbssports.com/fantasy/baseball/news/astros-collin-mchugh-introduces-slider/</th>\n",
       "      <td>Astros' Collin McHugh: Introduces slider</td>\n",
       "      <td>14</td>\n",
       "      <td>5</td>\n",
       "      <td>astros collin mchugh introduces slider</td>\n",
       "    </tr>\n",
       "    <tr>\n",
       "      <th>http://www.nydailynews.com/opinion/needed-first-class-training-mayors-article-1.3327325</th>\n",
       "      <td>Needed: First-class training for mayors</td>\n",
       "      <td>7</td>\n",
       "      <td>5</td>\n",
       "      <td>needed first-class training for mayors</td>\n",
       "    </tr>\n",
       "    <tr>\n",
       "      <th>...</th>\n",
       "      <td>...</td>\n",
       "      <td>...</td>\n",
       "      <td>...</td>\n",
       "      <td>...</td>\n",
       "    </tr>\n",
       "    <tr>\n",
       "      <th>http://www.nydailynews.com/newswires/news/world/spanish-rescue-group-found-167-migrants-alive-13-dead-rubber-boat-mediterranean-article-1.3354657</th>\n",
       "      <td>Spanish rescue group says it has found 167 mig...</td>\n",
       "      <td>3</td>\n",
       "      <td>20</td>\n",
       "      <td>spanish rescue group says it has found ### mig...</td>\n",
       "    </tr>\n",
       "    <tr>\n",
       "      <th>http://www.chicagotribune.com/bluesky/technology/ct-samsung-bixby-us-20170719-story.html</th>\n",
       "      <td>One of the Galaxy S8's biggest features is her...</td>\n",
       "      <td>2</td>\n",
       "      <td>20</td>\n",
       "      <td>one of the galaxy s# biggest features is here ...</td>\n",
       "    </tr>\n",
       "    <tr>\n",
       "      <th>http://www.nbcnewyork.com/news/local/Zip-Ties-7-Train-Subway-State-of-Emergency-MTA-Photo-Derailment-431544033.html</th>\n",
       "      <td>Amid Growing Outrage Over Subway System Failur...</td>\n",
       "      <td>6</td>\n",
       "      <td>20</td>\n",
       "      <td>amid growing outrage over subway system failur...</td>\n",
       "    </tr>\n",
       "    <tr>\n",
       "      <th>http://www.chicagotribune.com/news/local/politics/ct-illinois-senate-health-care-met-0623-20170622-story,amp.html</th>\n",
       "      <td>Durbin on GOP health care plan: 'Put a lace co...</td>\n",
       "      <td>2</td>\n",
       "      <td>20</td>\n",
       "      <td>durbin on gop health care plan put a lace coll...</td>\n",
       "    </tr>\n",
       "    <tr>\n",
       "      <th>http://www.chicagotribune.com/bluesky/technology/ct-samsung-bixby-us-20170719-story,amp.html</th>\n",
       "      <td>One of the Galaxy S8's biggest features is her...</td>\n",
       "      <td>1</td>\n",
       "      <td>20</td>\n",
       "      <td>one of the galaxy s# biggest features is here ...</td>\n",
       "    </tr>\n",
       "    <tr>\n",
       "      <th>http://www.nydailynews.com/newswires/news/world/pakistani-official-12-people-killed-car-bombing-eastern-city-lahore-article-1.3351059</th>\n",
       "      <td>Pakistani official says at least 12 people hav...</td>\n",
       "      <td>2</td>\n",
       "      <td>20</td>\n",
       "      <td>pakistani official says at least ## people hav...</td>\n",
       "    </tr>\n",
       "    <tr>\n",
       "      <th>http://www.cbssports.com/mlb/news/florida-vs-lsu-live-stream-online-start-time-tv-channel-how-to-watch-2017-college-world-series-championship-game-1/</th>\n",
       "      <td>Florida vs. LSU: Live stream online, start tim...</td>\n",
       "      <td>4</td>\n",
       "      <td>20</td>\n",
       "      <td>florida vs lsu live stream online start time t...</td>\n",
       "    </tr>\n",
       "    <tr>\n",
       "      <th>https://www.cbssports.com/fantasy/football/news/2017-fantasy-football-draft-prep-what-to-know-as-teams-report-to-training-camp-position-battles-rookies-and-injuries/</th>\n",
       "      <td>2017 Fantasy Football Draft Prep: What to know...</td>\n",
       "      <td>1348</td>\n",
       "      <td>20</td>\n",
       "      <td>#### fantasy football draft prep what to know ...</td>\n",
       "    </tr>\n",
       "    <tr>\n",
       "      <th>http://www.chicagotribune.com/business/ct-ultra-foods-calumet-park-0629-biz-20170628-story.html</th>\n",
       "      <td>Ultra Foods closing in Calumet Park leaves voi...</td>\n",
       "      <td>19</td>\n",
       "      <td>20</td>\n",
       "      <td>ultra foods closing in calumet park leaves voi...</td>\n",
       "    </tr>\n",
       "    <tr>\n",
       "      <th>http://www.nydailynews.com/newswires/news/world/jordan-court-convicts-jordanian-soldier-shooting-deaths-3-troops-sentences-life-prison-article-1.3332001</th>\n",
       "      <td>Jordan court convicts a Jordanian soldier in t...</td>\n",
       "      <td>1</td>\n",
       "      <td>20</td>\n",
       "      <td>jordan court convicts a jordanian soldier in t...</td>\n",
       "    </tr>\n",
       "    <tr>\n",
       "      <th>http://www.chicagotribune.com/news/local/politics/ct-illinois-senate-health-care-met-0623-20170622-story.html</th>\n",
       "      <td>Durbin on GOP health care plan: 'Put a lace co...</td>\n",
       "      <td>3</td>\n",
       "      <td>20</td>\n",
       "      <td>durbin on gop health care plan put a lace coll...</td>\n",
       "    </tr>\n",
       "    <tr>\n",
       "      <th>http://www.chicagotribune.com/sports/football/ct-warren-sapp-cte-concussion-research-20170620-story.html</th>\n",
       "      <td>'My memory ain't what it used to be': Warren S...</td>\n",
       "      <td>4</td>\n",
       "      <td>20</td>\n",
       "      <td>my memory ain t what it used to be warren sapp...</td>\n",
       "    </tr>\n",
       "    <tr>\n",
       "      <th>http://www.chicagotribune.com/sports/baseball/whitesox/ct-hawk-harrelson-jose-quintana-trade-20170713-column.html</th>\n",
       "      <td>Hawk Harrelson on trade: 'If you can make your...</td>\n",
       "      <td>10</td>\n",
       "      <td>20</td>\n",
       "      <td>hawk harrelson on trade if you can make your b...</td>\n",
       "    </tr>\n",
       "    <tr>\n",
       "      <th>http://www.chicagotribune.com/business/ct-ultra-foods-calumet-park-0629-biz-20170628-story,amp.html</th>\n",
       "      <td>Ultra Foods closing in Calumet Park leaves voi...</td>\n",
       "      <td>9</td>\n",
       "      <td>20</td>\n",
       "      <td>ultra foods closing in calumet park leaves voi...</td>\n",
       "    </tr>\n",
       "    <tr>\n",
       "      <th>http://www.20minutes.fr/strasbourg/2104655-20170713-football-comment-attendu-pendant-heures-signature-bingourou-kamara-nouveau-gardien-racing-club-strasbourg</th>\n",
       "      <td>Football: Comment on a attendu pendant des heu...</td>\n",
       "      <td>2</td>\n",
       "      <td>20</td>\n",
       "      <td>football comment on a attendu pendant des heur...</td>\n",
       "    </tr>\n",
       "    <tr>\n",
       "      <th>http://www.nydailynews.com/newswires/news/world/attorney-general-jeff-sessions-tells-ap-continue-serve-long-president-donald-trump-article-1.3362281</th>\n",
       "      <td>Attorney General Jeff Sessions tells AP he wil...</td>\n",
       "      <td>1</td>\n",
       "      <td>20</td>\n",
       "      <td>attorney general jeff sessions tells ap he wil...</td>\n",
       "    </tr>\n",
       "    <tr>\n",
       "      <th>http://www.nydailynews.com/newswires/news/world/vatican-hospital-experimental-therapy-opportunity-charlie-gard-late-article-1.3354197</th>\n",
       "      <td>A Vatican hospital says experimental therapy \"...</td>\n",
       "      <td>6</td>\n",
       "      <td>20</td>\n",
       "      <td>a vatican hospital says experimental therapy c...</td>\n",
       "    </tr>\n",
       "    <tr>\n",
       "      <th>http://hollywoodtake.com/beyonces-weight-loss-photos-are-amazing-gorgeous-pictures-show-sir-and-rumis-mom-looks-262051</th>\n",
       "      <td>Beyonce's Weight Loss Photos Are Amazing! Gorg...</td>\n",
       "      <td>10</td>\n",
       "      <td>20</td>\n",
       "      <td>beyonce weight loss photos are amazing gorgeou...</td>\n",
       "    </tr>\n",
       "    <tr>\n",
       "      <th>http://www.nbcnewyork.com/news/local/Shot-Doctor-Speaks-Bronx-Lebanon-Hospital-Rampage-Henry-Bello-432937593.html</th>\n",
       "      <td>Doctor Shot in Hospital Rampage Recalls Going ...</td>\n",
       "      <td>3</td>\n",
       "      <td>20</td>\n",
       "      <td>doctor shot in hospital rampage recalls going ...</td>\n",
       "    </tr>\n",
       "    <tr>\n",
       "      <th>https://www.cbssports.com/fantasy/football/news/fantasy-football-draft-prep-jeremy-maclin-and-danny-woodhead-to-help-fill-target-void-left-for-joe-flacco-and-the-baltimore-ravens/</th>\n",
       "      <td>Fantasy Football Draft Prep: Danny Woodhead an...</td>\n",
       "      <td>441</td>\n",
       "      <td>21</td>\n",
       "      <td>fantasy football draft prep danny woodhead and...</td>\n",
       "    </tr>\n",
       "    <tr>\n",
       "      <th>https://www.cbssports.com/nhl/news/jaromir-jagr-i-dont-think-i-am-so-bad-that-playing-in-the-nhl-at-45-is-out-of-reach/</th>\n",
       "      <td>Jaromir Jagr: 'I don't think I am so bad' that...</td>\n",
       "      <td>4923</td>\n",
       "      <td>21</td>\n",
       "      <td>jaromir jagr i don t think i am so bad that pl...</td>\n",
       "    </tr>\n",
       "    <tr>\n",
       "      <th>http://www.nydailynews.com/newswires/news/world/chris-gard-son-charlie-won-live-birthday-weeks-article-1.3351354</th>\n",
       "      <td>Chris Gard says his son Charlie won't live to ...</td>\n",
       "      <td>5</td>\n",
       "      <td>21</td>\n",
       "      <td>chris gard says his son charlie won t live to ...</td>\n",
       "    </tr>\n",
       "    <tr>\n",
       "      <th>https://www.cbssports.com/fantasy/baseball/news/instant-fantasy-baseball-reaction-todd-frazier-trade-creates-opening-for-yoan-moncada-but-eliminates-david-robertson-tommy-kahnle-from-closer-conversation/</th>\n",
       "      <td>Instant Fantasy Baseball Reaction: Todd Frazie...</td>\n",
       "      <td>32</td>\n",
       "      <td>21</td>\n",
       "      <td>instant fantasy baseball reaction todd frazier...</td>\n",
       "    </tr>\n",
       "    <tr>\n",
       "      <th>http://www.cbssports.com/fantasy/baseball/news/fantasy-baseball-prospects-report-the-10-prospects-whove-upped-their-stock-the-most-led-by-bo-bichette-and-scott-kingery/</th>\n",
       "      <td>Fantasy Baseball Prospects Report: The 10 pros...</td>\n",
       "      <td>1</td>\n",
       "      <td>21</td>\n",
       "      <td>fantasy baseball prospects report the ## prosp...</td>\n",
       "    </tr>\n",
       "    <tr>\n",
       "      <th>https://www.cbssports.com/fantasy/football/news/2017-fantasy-football-dalvin-cook-has-a-chance-to-win-the-starting-job-for-the-vikings-is-he-a-draft-day-bargain/</th>\n",
       "      <td>2017 Fantasy Football: Dalvin Cook has a chanc...</td>\n",
       "      <td>5883</td>\n",
       "      <td>21</td>\n",
       "      <td>#### fantasy football dalvin cook has a chance...</td>\n",
       "    </tr>\n",
       "    <tr>\n",
       "      <th>http://www.hollywoodtake.com/bachelor-paradise-couples-engaged-after-season-4-amanda-stanton-robby-hayes-and-dean-262161</th>\n",
       "      <td>'Bachelor In Paradise' Couples Engaged After S...</td>\n",
       "      <td>138</td>\n",
       "      <td>21</td>\n",
       "      <td>bachelor in paradise couples engaged after sea...</td>\n",
       "    </tr>\n",
       "    <tr>\n",
       "      <th>http://articles.chicagotribune.com/2012-08-09/entertainment/ct-mov-essanay-studios-renovation-20120810_1_david-kiehn-top-studios-buildings</th>\n",
       "      <td>St. Augustine College is looping back to a pie...</td>\n",
       "      <td>1</td>\n",
       "      <td>21</td>\n",
       "      <td>st augustine college is looping back to a piec...</td>\n",
       "    </tr>\n",
       "    <tr>\n",
       "      <th>http://www.cbssports.com/fantasy/baseball/news/fantasy-baseball-bullpen-report-tommy-kahnle-keone-kela-among-the-top-10-closers-in-waiting-i-e-next-in-line-for-saves/</th>\n",
       "      <td>Fantasy Baseball Bullpen Report: Tommy Kahnle,...</td>\n",
       "      <td>1</td>\n",
       "      <td>21</td>\n",
       "      <td>fantasy baseball bullpen report tommy kahnle k...</td>\n",
       "    </tr>\n",
       "    <tr>\n",
       "      <th>http://www.cbssports.com/fantasy/baseball/news/fantasy-baseball-two-start-pitcher-rankings-for-week-13-offer-no-shortage-of-sleepers-from-sean-newcomb-to-nick-pivetta-to-hyun-jin-ryu/</th>\n",
       "      <td>Fantasy Baseball: Two-start pitcher rankings f...</td>\n",
       "      <td>1</td>\n",
       "      <td>22</td>\n",
       "      <td>fantasy baseball two-start pitcher rankings fo...</td>\n",
       "    </tr>\n",
       "    <tr>\n",
       "      <th>https://thefreshtoast.com/news/what-happens-if-you-smoke-cannabis-for-a-year-to-relieve-chronic-pain/</th>\n",
       "      <td>What Happens If You Smoke Cannabis For A Year ...</td>\n",
       "      <td>2060</td>\n",
       "      <td>25</td>\n",
       "      <td>what happens if you smoke cannabis for a year ...</td>\n",
       "    </tr>\n",
       "  </tbody>\n",
       "</table>\n",
       "<p>20697 rows × 4 columns</p>\n",
       "</div>"
      ],
      "text/plain": [
       "                                                                                                title  \\\n",
       "url                                                                                                     \n",
       "http://www.nydailynews.com/opinion/new-life-eas...                          New life for East Midtown   \n",
       "http://www.nydailynews.com/opinion/bring-next-g...                    Bring on next-gen urban farming   \n",
       "http://www.chicagotribune.com/news/opinion/edit...                     Planning for a new Chicagoland   \n",
       "http://www.chicagotribune.com/business/ct-illin...              Chicago-area home sales lose momentum   \n",
       "http://www.chicagotribune.com/news/local/breaki...          Southwest Side drive-by victim identified   \n",
       "http://www.nydailynews.com/new-york/fire-union-...                  Fire union demands Deutsche probe   \n",
       "http://www.nydailynews.com/life-style/co-op-boa...                         No-pet rule killed my wife   \n",
       "http://www.greenvilleonline.com/story/life/styl...                       15 Minutes with Holly Julian   \n",
       "http://www.chicagotribune.com/sports/rosenblog/...            The Jose Quintana-Jon Lester connection   \n",
       "http://articles.chicagotribune.com/2003-12-13/s...                     Time for annual Heisman debate   \n",
       "http://www.nydailynews.com/new-york/bronx-kid-r...                      Bx. pride fuels game finalist   \n",
       "http://www.nydailynews.com/sports/more-sports/j...                    Jordan Spieth wins British Open   \n",
       "https://www.welt.de/print/welt_kompakt/print_sp...                  Shoppingking Pep Guardiola - WELT   \n",
       "http://www.nydailynews.com/newswires/news/busin...                   Boeing beats 2Q profit forecasts   \n",
       "http://www.msn.com/de-ch/reisen/artikel/hausboo...    Hausboot-Trip: Entschleunigung mit allen Sinnen   \n",
       "https://www.cbssports.com/fantasy/football/news...                     Lucky Whitehead: Cut by Dallas   \n",
       "http://www.chicagotribune.com/news/opinion/edit...                           Goodbye to the gas pedal   \n",
       "https://www.cbssports.com/fantasy/football/news...                      Anquan Boldin: To visit Bills   \n",
       "http://www.nydailynews.com/opinion/affordable-h...                  Affordable housing, at what cost?   \n",
       "http://www.chicagotribune.com/news/local/breaki...                  Irving Park teen reported missing   \n",
       "http://www.nydailynews.com/new-york/manhattan/m...  Morris-Jumel Mansion celebrates 250th anniversary   \n",
       "https://www.cbssports.com/fantasy/baseball/news...           Marlins' Brandon Miller: Joining Marlins   \n",
       "http://www.chicagotribune.com/suburbs/napervill...                      Naperville People in the News   \n",
       "http://www.chicagotribune.com/news/opinion/lett...                    How Indiana could save Illinois   \n",
       "https://www.cbssports.com/fantasy/football/news...                   T.J. Graham: Signs with Panthers   \n",
       "http://articles.chicagotribune.com/1994-08-19/n...                      Overpass Idea Still Just Talk   \n",
       "http://www.msn.com/de-de/reisen/artikel/hausboo...    Hausboot-Trip: Entschleunigung mit allen Sinnen   \n",
       "http://www.nydailynews.com/newswires/entertainm...       Review: 'Afterlife' is mind-bending thriller   \n",
       "https://www.cbssports.com/fantasy/baseball/news...           Astros' Collin McHugh: Introduces slider   \n",
       "http://www.nydailynews.com/opinion/needed-first...            Needed: First-class training for mayors   \n",
       "...                                                                                               ...   \n",
       "http://www.nydailynews.com/newswires/news/world...  Spanish rescue group says it has found 167 mig...   \n",
       "http://www.chicagotribune.com/bluesky/technolog...  One of the Galaxy S8's biggest features is her...   \n",
       "http://www.nbcnewyork.com/news/local/Zip-Ties-7...  Amid Growing Outrage Over Subway System Failur...   \n",
       "http://www.chicagotribune.com/news/local/politi...  Durbin on GOP health care plan: 'Put a lace co...   \n",
       "http://www.chicagotribune.com/bluesky/technolog...  One of the Galaxy S8's biggest features is her...   \n",
       "http://www.nydailynews.com/newswires/news/world...  Pakistani official says at least 12 people hav...   \n",
       "http://www.cbssports.com/mlb/news/florida-vs-ls...  Florida vs. LSU: Live stream online, start tim...   \n",
       "https://www.cbssports.com/fantasy/football/news...  2017 Fantasy Football Draft Prep: What to know...   \n",
       "http://www.chicagotribune.com/business/ct-ultra...  Ultra Foods closing in Calumet Park leaves voi...   \n",
       "http://www.nydailynews.com/newswires/news/world...  Jordan court convicts a Jordanian soldier in t...   \n",
       "http://www.chicagotribune.com/news/local/politi...  Durbin on GOP health care plan: 'Put a lace co...   \n",
       "http://www.chicagotribune.com/sports/football/c...  'My memory ain't what it used to be': Warren S...   \n",
       "http://www.chicagotribune.com/sports/baseball/w...  Hawk Harrelson on trade: 'If you can make your...   \n",
       "http://www.chicagotribune.com/business/ct-ultra...  Ultra Foods closing in Calumet Park leaves voi...   \n",
       "http://www.20minutes.fr/strasbourg/2104655-2017...  Football: Comment on a attendu pendant des heu...   \n",
       "http://www.nydailynews.com/newswires/news/world...  Attorney General Jeff Sessions tells AP he wil...   \n",
       "http://www.nydailynews.com/newswires/news/world...  A Vatican hospital says experimental therapy \"...   \n",
       "http://hollywoodtake.com/beyonces-weight-loss-p...  Beyonce's Weight Loss Photos Are Amazing! Gorg...   \n",
       "http://www.nbcnewyork.com/news/local/Shot-Docto...  Doctor Shot in Hospital Rampage Recalls Going ...   \n",
       "https://www.cbssports.com/fantasy/football/news...  Fantasy Football Draft Prep: Danny Woodhead an...   \n",
       "https://www.cbssports.com/nhl/news/jaromir-jagr...  Jaromir Jagr: 'I don't think I am so bad' that...   \n",
       "http://www.nydailynews.com/newswires/news/world...  Chris Gard says his son Charlie won't live to ...   \n",
       "https://www.cbssports.com/fantasy/baseball/news...  Instant Fantasy Baseball Reaction: Todd Frazie...   \n",
       "http://www.cbssports.com/fantasy/baseball/news/...  Fantasy Baseball Prospects Report: The 10 pros...   \n",
       "https://www.cbssports.com/fantasy/football/news...  2017 Fantasy Football: Dalvin Cook has a chanc...   \n",
       "http://www.hollywoodtake.com/bachelor-paradise-...  'Bachelor In Paradise' Couples Engaged After S...   \n",
       "http://articles.chicagotribune.com/2012-08-09/e...  St. Augustine College is looping back to a pie...   \n",
       "http://www.cbssports.com/fantasy/baseball/news/...  Fantasy Baseball Bullpen Report: Tommy Kahnle,...   \n",
       "http://www.cbssports.com/fantasy/baseball/news/...  Fantasy Baseball: Two-start pitcher rankings f...   \n",
       "https://thefreshtoast.com/news/what-happens-if-...  What Happens If You Smoke Cannabis For A Year ...   \n",
       "\n",
       "                                                    pageView  \\\n",
       "url                                                            \n",
       "http://www.nydailynews.com/opinion/new-life-eas...        13   \n",
       "http://www.nydailynews.com/opinion/bring-next-g...       224   \n",
       "http://www.chicagotribune.com/news/opinion/edit...         3   \n",
       "http://www.chicagotribune.com/business/ct-illin...        28   \n",
       "http://www.chicagotribune.com/news/local/breaki...         1   \n",
       "http://www.nydailynews.com/new-york/fire-union-...         1   \n",
       "http://www.nydailynews.com/life-style/co-op-boa...         1   \n",
       "http://www.greenvilleonline.com/story/life/styl...        13   \n",
       "http://www.chicagotribune.com/sports/rosenblog/...         3   \n",
       "http://articles.chicagotribune.com/2003-12-13/s...         4   \n",
       "http://www.nydailynews.com/new-york/bronx-kid-r...         3   \n",
       "http://www.nydailynews.com/sports/more-sports/j...        40   \n",
       "https://www.welt.de/print/welt_kompakt/print_sp...         2   \n",
       "http://www.nydailynews.com/newswires/news/busin...        28   \n",
       "http://www.msn.com/de-ch/reisen/artikel/hausboo...         4   \n",
       "https://www.cbssports.com/fantasy/football/news...       304   \n",
       "http://www.chicagotribune.com/news/opinion/edit...         7   \n",
       "https://www.cbssports.com/fantasy/football/news...        28   \n",
       "http://www.nydailynews.com/opinion/affordable-h...        40   \n",
       "http://www.chicagotribune.com/news/local/breaki...         1   \n",
       "http://www.nydailynews.com/new-york/manhattan/m...         1   \n",
       "https://www.cbssports.com/fantasy/baseball/news...         1   \n",
       "http://www.chicagotribune.com/suburbs/napervill...         4   \n",
       "http://www.chicagotribune.com/news/opinion/lett...         1   \n",
       "https://www.cbssports.com/fantasy/football/news...        31   \n",
       "http://articles.chicagotribune.com/1994-08-19/n...         1   \n",
       "http://www.msn.com/de-de/reisen/artikel/hausboo...         7   \n",
       "http://www.nydailynews.com/newswires/entertainm...         2   \n",
       "https://www.cbssports.com/fantasy/baseball/news...        14   \n",
       "http://www.nydailynews.com/opinion/needed-first...         7   \n",
       "...                                                      ...   \n",
       "http://www.nydailynews.com/newswires/news/world...         3   \n",
       "http://www.chicagotribune.com/bluesky/technolog...         2   \n",
       "http://www.nbcnewyork.com/news/local/Zip-Ties-7...         6   \n",
       "http://www.chicagotribune.com/news/local/politi...         2   \n",
       "http://www.chicagotribune.com/bluesky/technolog...         1   \n",
       "http://www.nydailynews.com/newswires/news/world...         2   \n",
       "http://www.cbssports.com/mlb/news/florida-vs-ls...         4   \n",
       "https://www.cbssports.com/fantasy/football/news...      1348   \n",
       "http://www.chicagotribune.com/business/ct-ultra...        19   \n",
       "http://www.nydailynews.com/newswires/news/world...         1   \n",
       "http://www.chicagotribune.com/news/local/politi...         3   \n",
       "http://www.chicagotribune.com/sports/football/c...         4   \n",
       "http://www.chicagotribune.com/sports/baseball/w...        10   \n",
       "http://www.chicagotribune.com/business/ct-ultra...         9   \n",
       "http://www.20minutes.fr/strasbourg/2104655-2017...         2   \n",
       "http://www.nydailynews.com/newswires/news/world...         1   \n",
       "http://www.nydailynews.com/newswires/news/world...         6   \n",
       "http://hollywoodtake.com/beyonces-weight-loss-p...        10   \n",
       "http://www.nbcnewyork.com/news/local/Shot-Docto...         3   \n",
       "https://www.cbssports.com/fantasy/football/news...       441   \n",
       "https://www.cbssports.com/nhl/news/jaromir-jagr...      4923   \n",
       "http://www.nydailynews.com/newswires/news/world...         5   \n",
       "https://www.cbssports.com/fantasy/baseball/news...        32   \n",
       "http://www.cbssports.com/fantasy/baseball/news/...         1   \n",
       "https://www.cbssports.com/fantasy/football/news...      5883   \n",
       "http://www.hollywoodtake.com/bachelor-paradise-...       138   \n",
       "http://articles.chicagotribune.com/2012-08-09/e...         1   \n",
       "http://www.cbssports.com/fantasy/baseball/news/...         1   \n",
       "http://www.cbssports.com/fantasy/baseball/news/...         1   \n",
       "https://thefreshtoast.com/news/what-happens-if-...      2060   \n",
       "\n",
       "                                                    title_word_counts  \\\n",
       "url                                                                     \n",
       "http://www.nydailynews.com/opinion/new-life-eas...                  5   \n",
       "http://www.nydailynews.com/opinion/bring-next-g...                  5   \n",
       "http://www.chicagotribune.com/news/opinion/edit...                  5   \n",
       "http://www.chicagotribune.com/business/ct-illin...                  5   \n",
       "http://www.chicagotribune.com/news/local/breaki...                  5   \n",
       "http://www.nydailynews.com/new-york/fire-union-...                  5   \n",
       "http://www.nydailynews.com/life-style/co-op-boa...                  5   \n",
       "http://www.greenvilleonline.com/story/life/styl...                  5   \n",
       "http://www.chicagotribune.com/sports/rosenblog/...                  5   \n",
       "http://articles.chicagotribune.com/2003-12-13/s...                  5   \n",
       "http://www.nydailynews.com/new-york/bronx-kid-r...                  5   \n",
       "http://www.nydailynews.com/sports/more-sports/j...                  5   \n",
       "https://www.welt.de/print/welt_kompakt/print_sp...                  5   \n",
       "http://www.nydailynews.com/newswires/news/busin...                  5   \n",
       "http://www.msn.com/de-ch/reisen/artikel/hausboo...                  5   \n",
       "https://www.cbssports.com/fantasy/football/news...                  5   \n",
       "http://www.chicagotribune.com/news/opinion/edit...                  5   \n",
       "https://www.cbssports.com/fantasy/football/news...                  5   \n",
       "http://www.nydailynews.com/opinion/affordable-h...                  5   \n",
       "http://www.chicagotribune.com/news/local/breaki...                  5   \n",
       "http://www.nydailynews.com/new-york/manhattan/m...                  5   \n",
       "https://www.cbssports.com/fantasy/baseball/news...                  5   \n",
       "http://www.chicagotribune.com/suburbs/napervill...                  5   \n",
       "http://www.chicagotribune.com/news/opinion/lett...                  5   \n",
       "https://www.cbssports.com/fantasy/football/news...                  5   \n",
       "http://articles.chicagotribune.com/1994-08-19/n...                  5   \n",
       "http://www.msn.com/de-de/reisen/artikel/hausboo...                  5   \n",
       "http://www.nydailynews.com/newswires/entertainm...                  5   \n",
       "https://www.cbssports.com/fantasy/baseball/news...                  5   \n",
       "http://www.nydailynews.com/opinion/needed-first...                  5   \n",
       "...                                                               ...   \n",
       "http://www.nydailynews.com/newswires/news/world...                 20   \n",
       "http://www.chicagotribune.com/bluesky/technolog...                 20   \n",
       "http://www.nbcnewyork.com/news/local/Zip-Ties-7...                 20   \n",
       "http://www.chicagotribune.com/news/local/politi...                 20   \n",
       "http://www.chicagotribune.com/bluesky/technolog...                 20   \n",
       "http://www.nydailynews.com/newswires/news/world...                 20   \n",
       "http://www.cbssports.com/mlb/news/florida-vs-ls...                 20   \n",
       "https://www.cbssports.com/fantasy/football/news...                 20   \n",
       "http://www.chicagotribune.com/business/ct-ultra...                 20   \n",
       "http://www.nydailynews.com/newswires/news/world...                 20   \n",
       "http://www.chicagotribune.com/news/local/politi...                 20   \n",
       "http://www.chicagotribune.com/sports/football/c...                 20   \n",
       "http://www.chicagotribune.com/sports/baseball/w...                 20   \n",
       "http://www.chicagotribune.com/business/ct-ultra...                 20   \n",
       "http://www.20minutes.fr/strasbourg/2104655-2017...                 20   \n",
       "http://www.nydailynews.com/newswires/news/world...                 20   \n",
       "http://www.nydailynews.com/newswires/news/world...                 20   \n",
       "http://hollywoodtake.com/beyonces-weight-loss-p...                 20   \n",
       "http://www.nbcnewyork.com/news/local/Shot-Docto...                 20   \n",
       "https://www.cbssports.com/fantasy/football/news...                 21   \n",
       "https://www.cbssports.com/nhl/news/jaromir-jagr...                 21   \n",
       "http://www.nydailynews.com/newswires/news/world...                 21   \n",
       "https://www.cbssports.com/fantasy/baseball/news...                 21   \n",
       "http://www.cbssports.com/fantasy/baseball/news/...                 21   \n",
       "https://www.cbssports.com/fantasy/football/news...                 21   \n",
       "http://www.hollywoodtake.com/bachelor-paradise-...                 21   \n",
       "http://articles.chicagotribune.com/2012-08-09/e...                 21   \n",
       "http://www.cbssports.com/fantasy/baseball/news/...                 21   \n",
       "http://www.cbssports.com/fantasy/baseball/news/...                 22   \n",
       "https://thefreshtoast.com/news/what-happens-if-...                 25   \n",
       "\n",
       "                                                                                      processed_title  \n",
       "url                                                                                                    \n",
       "http://www.nydailynews.com/opinion/new-life-eas...                          new life for east midtown  \n",
       "http://www.nydailynews.com/opinion/bring-next-g...                    bring on next-gen urban farming  \n",
       "http://www.chicagotribune.com/news/opinion/edit...                     planning for a new chicagoland  \n",
       "http://www.chicagotribune.com/business/ct-illin...              chicago-area home sales lose momentum  \n",
       "http://www.chicagotribune.com/news/local/breaki...          southwest side drive-by victim identified  \n",
       "http://www.nydailynews.com/new-york/fire-union-...                  fire union demands deutsche probe  \n",
       "http://www.nydailynews.com/life-style/co-op-boa...                         no-pet rule killed my wife  \n",
       "http://www.greenvilleonline.com/story/life/styl...                       ## minutes with holly julian  \n",
       "http://www.chicagotribune.com/sports/rosenblog/...            the jose quintana-jon lester connection  \n",
       "http://articles.chicagotribune.com/2003-12-13/s...                     time for annual heisman debate  \n",
       "http://www.nydailynews.com/new-york/bronx-kid-r...                       bx pride fuels game finalist  \n",
       "http://www.nydailynews.com/sports/more-sports/j...                    jordan spieth wins british open  \n",
       "https://www.welt.de/print/welt_kompakt/print_sp...                  shoppingking pep guardiola - welt  \n",
       "http://www.nydailynews.com/newswires/news/busin...                   boeing beats #q profit forecasts  \n",
       "http://www.msn.com/de-ch/reisen/artikel/hausboo...     hausboot-trip entschleunigung mit allen sinnen  \n",
       "https://www.cbssports.com/fantasy/football/news...                      lucky whitehead cut by dallas  \n",
       "http://www.chicagotribune.com/news/opinion/edit...                           goodbye to the gas pedal  \n",
       "https://www.cbssports.com/fantasy/football/news...                       anquan boldin to visit bills  \n",
       "http://www.nydailynews.com/opinion/affordable-h...                    affordable housing at what cost  \n",
       "http://www.chicagotribune.com/news/local/breaki...                  irving park teen reported missing  \n",
       "http://www.nydailynews.com/new-york/manhattan/m...  morris-jumel mansion celebrates ###th anniversary  \n",
       "https://www.cbssports.com/fantasy/baseball/news...             marlins brandon miller joining marlins  \n",
       "http://www.chicagotribune.com/suburbs/napervill...                      naperville people in the news  \n",
       "http://www.chicagotribune.com/news/opinion/lett...                    how indiana could save illinois  \n",
       "https://www.cbssports.com/fantasy/football/news...                      tj graham signs with panthers  \n",
       "http://articles.chicagotribune.com/1994-08-19/n...                      overpass idea still just talk  \n",
       "http://www.msn.com/de-de/reisen/artikel/hausboo...     hausboot-trip entschleunigung mit allen sinnen  \n",
       "http://www.nydailynews.com/newswires/entertainm...          review afterlife is mind-bending thriller  \n",
       "https://www.cbssports.com/fantasy/baseball/news...             astros collin mchugh introduces slider  \n",
       "http://www.nydailynews.com/opinion/needed-first...             needed first-class training for mayors  \n",
       "...                                                                                               ...  \n",
       "http://www.nydailynews.com/newswires/news/world...  spanish rescue group says it has found ### mig...  \n",
       "http://www.chicagotribune.com/bluesky/technolog...  one of the galaxy s# biggest features is here ...  \n",
       "http://www.nbcnewyork.com/news/local/Zip-Ties-7...  amid growing outrage over subway system failur...  \n",
       "http://www.chicagotribune.com/news/local/politi...  durbin on gop health care plan put a lace coll...  \n",
       "http://www.chicagotribune.com/bluesky/technolog...  one of the galaxy s# biggest features is here ...  \n",
       "http://www.nydailynews.com/newswires/news/world...  pakistani official says at least ## people hav...  \n",
       "http://www.cbssports.com/mlb/news/florida-vs-ls...  florida vs lsu live stream online start time t...  \n",
       "https://www.cbssports.com/fantasy/football/news...  #### fantasy football draft prep what to know ...  \n",
       "http://www.chicagotribune.com/business/ct-ultra...  ultra foods closing in calumet park leaves voi...  \n",
       "http://www.nydailynews.com/newswires/news/world...  jordan court convicts a jordanian soldier in t...  \n",
       "http://www.chicagotribune.com/news/local/politi...  durbin on gop health care plan put a lace coll...  \n",
       "http://www.chicagotribune.com/sports/football/c...  my memory ain t what it used to be warren sapp...  \n",
       "http://www.chicagotribune.com/sports/baseball/w...  hawk harrelson on trade if you can make your b...  \n",
       "http://www.chicagotribune.com/business/ct-ultra...  ultra foods closing in calumet park leaves voi...  \n",
       "http://www.20minutes.fr/strasbourg/2104655-2017...  football comment on a attendu pendant des heur...  \n",
       "http://www.nydailynews.com/newswires/news/world...  attorney general jeff sessions tells ap he wil...  \n",
       "http://www.nydailynews.com/newswires/news/world...  a vatican hospital says experimental therapy c...  \n",
       "http://hollywoodtake.com/beyonces-weight-loss-p...  beyonce weight loss photos are amazing gorgeou...  \n",
       "http://www.nbcnewyork.com/news/local/Shot-Docto...  doctor shot in hospital rampage recalls going ...  \n",
       "https://www.cbssports.com/fantasy/football/news...  fantasy football draft prep danny woodhead and...  \n",
       "https://www.cbssports.com/nhl/news/jaromir-jagr...  jaromir jagr i don t think i am so bad that pl...  \n",
       "http://www.nydailynews.com/newswires/news/world...  chris gard says his son charlie won t live to ...  \n",
       "https://www.cbssports.com/fantasy/baseball/news...  instant fantasy baseball reaction todd frazier...  \n",
       "http://www.cbssports.com/fantasy/baseball/news/...  fantasy baseball prospects report the ## prosp...  \n",
       "https://www.cbssports.com/fantasy/football/news...  #### fantasy football dalvin cook has a chance...  \n",
       "http://www.hollywoodtake.com/bachelor-paradise-...  bachelor in paradise couples engaged after sea...  \n",
       "http://articles.chicagotribune.com/2012-08-09/e...  st augustine college is looping back to a piec...  \n",
       "http://www.cbssports.com/fantasy/baseball/news/...  fantasy baseball bullpen report tommy kahnle k...  \n",
       "http://www.cbssports.com/fantasy/baseball/news/...  fantasy baseball two-start pitcher rankings fo...  \n",
       "https://thefreshtoast.com/news/what-happens-if-...  what happens if you smoke cannabis for a year ...  \n",
       "\n",
       "[20697 rows x 4 columns]"
      ]
     },
     "execution_count": 257,
     "metadata": {},
     "output_type": "execute_result"
    }
   ],
   "source": [
    "sorted_data.loc[sorted_data['title_word_counts'] >= 5]"
   ]
  },
  {
   "cell_type": "code",
   "execution_count": 255,
   "metadata": {
    "collapsed": false
   },
   "outputs": [
    {
     "data": {
      "text/plain": [
       "<matplotlib.axes._subplots.AxesSubplot at 0x114a71250>"
      ]
     },
     "execution_count": 255,
     "metadata": {},
     "output_type": "execute_result"
    },
    {
     "data": {
      "image/png": "[encoded data removed]",
      "text/plain": [
       "<matplotlib.figure.Figure at 0x114bbdf10>"
      ]
     },
     "metadata": {},
     "output_type": "display_data"
    }
   ],
   "source": [
    "sorted_data['title_word_counts'].hist(bins=25)"
   ]
  },
  {
   "cell_type": "markdown",
   "metadata": {},
   "source": [
    "#### the unique vocabulary counts"
   ]
  },
  {
   "cell_type": "code",
   "execution_count": 219,
   "metadata": {
    "collapsed": true
   },
   "outputs": [],
   "source": [
    "counter = collections.Counter(vocab_dict.values())"
   ]
  },
  {
   "cell_type": "code",
   "execution_count": 220,
   "metadata": {
    "collapsed": false
   },
   "outputs": [
    {
     "name": "stdout",
     "output_type": "stream",
     "text": [
      "total 23176 tokens are ideintified...\n",
      "total 12821 unique tokens are included in the token dictionary...\n"
     ]
    }
   ],
   "source": []
  },
  {
   "cell_type": "code",
   "execution_count": 231,
   "metadata": {
    "collapsed": false
   },
   "outputs": [
    {
     "name": "stdout",
     "output_type": "stream",
     "text": [
      "(20913, 2) 20913\n"
     ]
    }
   ],
   "source": []
  },
  {
   "cell_type": "code",
   "execution_count": 232,
   "metadata": {
    "collapsed": false
   },
   "outputs": [],
   "source": []
  },
  {
   "cell_type": "code",
   "execution_count": 228,
   "metadata": {
    "collapsed": false
   },
   "outputs": [],
   "source": []
  },
  {
   "cell_type": "code",
   "execution_count": null,
   "metadata": {
    "collapsed": true
   },
   "outputs": [],
   "source": []
  },
  {
   "cell_type": "code",
   "execution_count": 196,
   "metadata": {
    "collapsed": false
   },
   "outputs": [],
   "source": [
    "sorted_pairs = sorted(vocab_dict.items(), key=lambda x : x[1], reverse=True)\n"
   ]
  },
  {
   "cell_type": "code",
   "execution_count": 173,
   "metadata": {
    "collapsed": false
   },
   "outputs": [],
   "source": []
  },
  {
   "cell_type": "markdown",
   "metadata": {},
   "source": [
    "#### frequency counts"
   ]
  },
  {
   "cell_type": "code",
   "execution_count": 185,
   "metadata": {
    "collapsed": true
   },
   "outputs": [],
   "source": []
  },
  {
   "cell_type": "code",
   "execution_count": 186,
   "metadata": {
    "collapsed": false
   },
   "outputs": [
    {
     "data": {
      "text/plain": [
       "Counter({1: 10355,\n",
       "         2: 3827,\n",
       "         3: 1919,\n",
       "         4: 1272,\n",
       "         5: 810,\n",
       "         6: 593,\n",
       "         7: 467,\n",
       "         8: 359,\n",
       "         9: 302,\n",
       "         10: 291,\n",
       "         11: 225,\n",
       "         12: 186,\n",
       "         13: 140,\n",
       "         14: 142,\n",
       "         15: 134,\n",
       "         16: 120,\n",
       "         17: 91,\n",
       "         18: 100,\n",
       "         19: 88,\n",
       "         20: 94,\n",
       "         21: 66,\n",
       "         22: 73,\n",
       "         23: 73,\n",
       "         24: 63,\n",
       "         25: 57,\n",
       "         26: 55,\n",
       "         27: 59,\n",
       "         28: 41,\n",
       "         29: 41,\n",
       "         30: 33,\n",
       "         31: 32,\n",
       "         32: 40,\n",
       "         33: 37,\n",
       "         34: 34,\n",
       "         35: 28,\n",
       "         36: 26,\n",
       "         37: 20,\n",
       "         38: 23,\n",
       "         39: 25,\n",
       "         40: 20,\n",
       "         41: 29,\n",
       "         42: 21,\n",
       "         43: 17,\n",
       "         44: 15,\n",
       "         45: 21,\n",
       "         46: 19,\n",
       "         47: 15,\n",
       "         48: 22,\n",
       "         49: 13,\n",
       "         50: 13,\n",
       "         51: 15,\n",
       "         52: 20,\n",
       "         53: 10,\n",
       "         54: 11,\n",
       "         55: 14,\n",
       "         56: 12,\n",
       "         57: 13,\n",
       "         58: 16,\n",
       "         59: 15,\n",
       "         60: 12,\n",
       "         61: 6,\n",
       "         62: 12,\n",
       "         63: 9,\n",
       "         64: 9,\n",
       "         65: 7,\n",
       "         66: 10,\n",
       "         67: 5,\n",
       "         68: 7,\n",
       "         69: 9,\n",
       "         70: 4,\n",
       "         71: 6,\n",
       "         72: 4,\n",
       "         73: 6,\n",
       "         74: 10,\n",
       "         75: 9,\n",
       "         76: 6,\n",
       "         77: 7,\n",
       "         78: 8,\n",
       "         79: 6,\n",
       "         80: 5,\n",
       "         81: 4,\n",
       "         82: 5,\n",
       "         83: 4,\n",
       "         84: 4,\n",
       "         85: 6,\n",
       "         86: 2,\n",
       "         87: 5,\n",
       "         88: 4,\n",
       "         89: 3,\n",
       "         90: 7,\n",
       "         91: 8,\n",
       "         92: 1,\n",
       "         93: 3,\n",
       "         94: 2,\n",
       "         95: 4,\n",
       "         96: 4,\n",
       "         97: 1,\n",
       "         98: 6,\n",
       "         99: 6,\n",
       "         100: 6,\n",
       "         101: 5,\n",
       "         102: 4,\n",
       "         103: 3,\n",
       "         104: 1,\n",
       "         105: 3,\n",
       "         106: 5,\n",
       "         107: 1,\n",
       "         108: 7,\n",
       "         109: 4,\n",
       "         110: 4,\n",
       "         111: 3,\n",
       "         112: 1,\n",
       "         113: 1,\n",
       "         114: 4,\n",
       "         115: 1,\n",
       "         116: 2,\n",
       "         117: 1,\n",
       "         118: 3,\n",
       "         120: 4,\n",
       "         121: 2,\n",
       "         122: 2,\n",
       "         123: 5,\n",
       "         124: 2,\n",
       "         125: 5,\n",
       "         126: 1,\n",
       "         127: 4,\n",
       "         128: 1,\n",
       "         129: 3,\n",
       "         130: 3,\n",
       "         131: 3,\n",
       "         132: 1,\n",
       "         133: 1,\n",
       "         134: 1,\n",
       "         135: 2,\n",
       "         136: 4,\n",
       "         138: 2,\n",
       "         139: 1,\n",
       "         140: 3,\n",
       "         142: 1,\n",
       "         143: 2,\n",
       "         145: 1,\n",
       "         146: 4,\n",
       "         147: 1,\n",
       "         148: 2,\n",
       "         149: 2,\n",
       "         150: 1,\n",
       "         152: 3,\n",
       "         153: 1,\n",
       "         154: 1,\n",
       "         156: 4,\n",
       "         158: 2,\n",
       "         159: 1,\n",
       "         163: 1,\n",
       "         164: 2,\n",
       "         167: 1,\n",
       "         169: 2,\n",
       "         170: 1,\n",
       "         173: 2,\n",
       "         174: 4,\n",
       "         175: 2,\n",
       "         176: 2,\n",
       "         178: 3,\n",
       "         179: 1,\n",
       "         180: 1,\n",
       "         181: 1,\n",
       "         182: 1,\n",
       "         184: 3,\n",
       "         187: 2,\n",
       "         190: 1,\n",
       "         191: 1,\n",
       "         192: 1,\n",
       "         193: 1,\n",
       "         195: 1,\n",
       "         196: 1,\n",
       "         197: 2,\n",
       "         199: 1,\n",
       "         200: 1,\n",
       "         202: 1,\n",
       "         203: 1,\n",
       "         205: 1,\n",
       "         208: 1,\n",
       "         210: 1,\n",
       "         212: 1,\n",
       "         213: 1,\n",
       "         215: 2,\n",
       "         221: 2,\n",
       "         224: 2,\n",
       "         229: 2,\n",
       "         230: 3,\n",
       "         232: 2,\n",
       "         235: 1,\n",
       "         236: 1,\n",
       "         237: 4,\n",
       "         238: 1,\n",
       "         240: 1,\n",
       "         247: 2,\n",
       "         250: 1,\n",
       "         257: 1,\n",
       "         259: 1,\n",
       "         261: 1,\n",
       "         265: 1,\n",
       "         272: 2,\n",
       "         273: 1,\n",
       "         280: 1,\n",
       "         287: 2,\n",
       "         288: 1,\n",
       "         289: 1,\n",
       "         291: 1,\n",
       "         302: 1,\n",
       "         303: 1,\n",
       "         304: 1,\n",
       "         316: 1,\n",
       "         318: 1,\n",
       "         321: 2,\n",
       "         369: 1,\n",
       "         372: 1,\n",
       "         373: 1,\n",
       "         380: 1,\n",
       "         388: 2,\n",
       "         393: 1,\n",
       "         394: 1,\n",
       "         408: 1,\n",
       "         410: 1,\n",
       "         419: 1,\n",
       "         420: 1,\n",
       "         433: 1,\n",
       "         446: 1,\n",
       "         453: 1,\n",
       "         462: 1,\n",
       "         465: 1,\n",
       "         473: 1,\n",
       "         525: 1,\n",
       "         543: 1,\n",
       "         568: 1,\n",
       "         585: 1,\n",
       "         607: 1,\n",
       "         707: 1,\n",
       "         820: 1,\n",
       "         831: 1,\n",
       "         895: 1,\n",
       "         921: 1,\n",
       "         1002: 1,\n",
       "         1038: 1,\n",
       "         1108: 1,\n",
       "         1325: 1,\n",
       "         1341: 1,\n",
       "         1372: 1,\n",
       "         1373: 1,\n",
       "         1548: 1,\n",
       "         1566: 1,\n",
       "         1982: 1,\n",
       "         2030: 1,\n",
       "         2429: 1,\n",
       "         2630: 1,\n",
       "         4841: 1,\n",
       "         4897: 1})"
      ]
     },
     "execution_count": 186,
     "metadata": {},
     "output_type": "execute_result"
    }
   ],
   "source": [
    "counter"
   ]
  },
  {
   "cell_type": "code",
   "execution_count": 182,
   "metadata": {
    "collapsed": false
   },
   "outputs": [
    {
     "data": {
      "text/plain": [
       "10307.45"
      ]
     },
     "execution_count": 182,
     "metadata": {},
     "output_type": "execute_result"
    }
   ],
   "source": [
    "sum(vocab_dict.values()) * 0.05"
   ]
  },
  {
   "cell_type": "code",
   "execution_count": 178,
   "metadata": {
    "collapsed": false
   },
   "outputs": [
    {
     "data": {
      "text/plain": [
       "(u'canular', 2)"
      ]
     },
     "execution_count": 178,
     "metadata": {},
     "output_type": "execute_result"
    }
   ],
   "source": [
    "sorted_pairs[10000]"
   ]
  },
  {
   "cell_type": "code",
   "execution_count": null,
   "metadata": {
    "collapsed": true
   },
   "outputs": [],
   "source": [
    "for key in vocab_dict.keys:"
   ]
  },
  {
   "cell_type": "code",
   "execution_count": 193,
   "metadata": {
    "collapsed": false
   },
   "outputs": [
    {
     "name": "stdout",
     "output_type": "stream",
     "text": [
      "19218\n",
      "Kiss rockers Gene Simmons, Paul Stanley to open rock 'n' roll-themed restaurants in Chicagoland\n",
      "[u'kiss', u'rockers', u'gene', u'simmons', u'paul', u'stanley', u'to', u'open', u'rock', u'n', u'roll-themed', u'restaurants', u'in', u'chicagoland']\n"
     ]
    }
   ],
   "source": []
  },
  {
   "cell_type": "code",
   "execution_count": 154,
   "metadata": {
    "collapsed": false
   },
   "outputs": [
    {
     "data": {
      "text/plain": [
       "u'Prominent NYC Judge Died by Suicide in Drowning, Medical Examiner Rules'"
      ]
     },
     "execution_count": 154,
     "metadata": {},
     "output_type": "execute_result"
    }
   ],
   "source": [
    "data['title'][10]"
   ]
  },
  {
   "cell_type": "code",
   "execution_count": 54,
   "metadata": {
    "collapsed": false
   },
   "outputs": [
    {
     "data": {
      "text/plain": [
       "[u'one',\n",
       " u'dead',\n",
       " u'and',\n",
       " u'five',\n",
       " u'injured',\n",
       " u'after',\n",
       " u'malfunction',\n",
       " u'at',\n",
       " u'ohio',\n",
       " u'state',\n",
       " u'fair']"
      ]
     },
     "execution_count": 54,
     "metadata": {},
     "output_type": "execute_result"
    }
   ],
   "source": [
    "basic_tokenizer(data['title'][10])"
   ]
  },
  {
   "cell_type": "code",
   "execution_count": 56,
   "metadata": {
    "collapsed": true
   },
   "outputs": [],
   "source": []
  },
  {
   "cell_type": "code",
   "execution_count": 127,
   "metadata": {
    "collapsed": false
   },
   "outputs": [
    {
     "name": "stdout",
     "output_type": "stream",
     "text": [
      "11146\n",
      "Amtrak CEO on Smooth Start to 'Summer of Hell': Commuters Have 'Figured It Out'\n",
      "\n",
      "[]\n"
     ]
    }
   ],
   "source": [
    "index = random.randint(0, data.shape[0])\n",
    "print index\n",
    "print data['title'][index]\n",
    "print basic_tokenizer(data['title'][index])"
   ]
  },
  {
   "cell_type": "code",
   "execution_count": 65,
   "metadata": {
    "collapsed": false
   },
   "outputs": [
    {
     "name": "stdout",
     "output_type": "stream",
     "text": [
      "<type 'unicode'>\n"
     ]
    }
   ],
   "source": [
    "index = 17218\n",
    "print type(data['title'][index])"
   ]
  },
  {
   "cell_type": "code",
   "execution_count": 69,
   "metadata": {
    "collapsed": false
   },
   "outputs": [
    {
     "name": "stdout",
     "output_type": "stream",
     "text": [
      "<type 'unicode'>\n",
      "MLB Trade Deadline: The details of Rangers' Yu Darvish's 10-team no-trade list\n"
     ]
    }
   ],
   "source": [
    "print type(data['title'][40])\n",
    "print data['title'][40]"
   ]
  },
  {
   "cell_type": "code",
   "execution_count": 71,
   "metadata": {
    "collapsed": false
   },
   "outputs": [
    {
     "data": {
      "text/plain": [
       "u\"MLB Trade Deadline: The details of Rangers' Yu Darvish's 10-team no-trade list\""
      ]
     },
     "execution_count": 71,
     "metadata": {},
     "output_type": "execute_result"
    }
   ],
   "source": [
    "data['title'][40].encode(encoding='utf-8').decode('ascii')"
   ]
  },
  {
   "cell_type": "code",
   "execution_count": null,
   "metadata": {
    "collapsed": true
   },
   "outputs": [],
   "source": []
  }
 ],
 "metadata": {
  "kernelspec": {
   "display_name": "Python 2",
   "language": "python",
   "name": "python2"
  },
  "language_info": {
   "codemirror_mode": {
    "name": "ipython",
    "version": 2
   },
   "file_extension": ".py",
   "mimetype": "text/x-python",
   "name": "python",
   "nbconvert_exporter": "python",
   "pygments_lexer": "ipython2",
   "version": "2.7.10"
  }
 },
 "nbformat": 4,
 "nbformat_minor": 2
}
