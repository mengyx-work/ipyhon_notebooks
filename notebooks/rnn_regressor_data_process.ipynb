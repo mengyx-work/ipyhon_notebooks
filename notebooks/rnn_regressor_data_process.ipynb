{
 "cells": [
  {
   "cell_type": "code",
   "execution_count": 16,
   "metadata": {
    "collapsed": true
   },
   "outputs": [],
   "source": [
    "%matplotlib inline  \n",
    "import os, sys, yaml, tempfile\n",
    "sys.path.append(\"/Users/matt.meng/dev/rnn_regressor\")\n",
    "import tensorflow as tf\n",
    "import pandas as pd"
   ]
  },
  {
   "cell_type": "code",
   "execution_count": 17,
   "metadata": {
    "collapsed": true
   },
   "outputs": [],
   "source": [
    "from data_preprocess import load_training_data_from_gcs\n",
    "from google_cloud_storage_util import GCS_Bucket"
   ]
  },
  {
   "cell_type": "code",
   "execution_count": 18,
   "metadata": {
    "collapsed": true
   },
   "outputs": [],
   "source": [
    "GCS_path = 'test/MachineLearning'\n",
    "yaml_file_name = 'training_configuration.yaml'\n",
    "processed_data_yaml_file = 'processed_data_configuration.yaml'"
   ]
  },
  {
   "cell_type": "code",
   "execution_count": 22,
   "metadata": {
    "collapsed": false
   },
   "outputs": [],
   "source": [
    "config_dict, local_data_file = load_training_data_from_gcs(GCS_path, yaml_file_name)"
   ]
  },
  {
   "cell_type": "code",
   "execution_count": 23,
   "metadata": {
    "collapsed": false
   },
   "outputs": [
    {
     "data": {
      "text/plain": [
       "{'GCS_path': 'test/MachineLearning',\n",
       " 'data_file_name': 'NYDN_240min_fullWindow_120min_exposure_600seconds_interval_target_24hr_data.csv',\n",
       " 'index_column': 'articleId',\n",
       " 'label_column': 'total_views',\n",
       " 'static_columns': ['minLocalDateInWeek',\n",
       "  'minLocalTime',\n",
       "  'createTime',\n",
       "  'articleInfo_type',\n",
       "  'articleInfo_authorName',\n",
       "  'articleInfo_section'],\n",
       " 'time_interval_columns': ['views',\n",
       "  'US_counts',\n",
       "  'sessionReferrer_DIRECT',\n",
       "  'sessionReferrer_SOCIAL',\n",
       "  'sessionReferrer_SEARCH',\n",
       "  'sessionReferrer_OTHER',\n",
       "  'platform_PHON',\n",
       "  'platform_DESK',\n",
       "  'platform_TBLT',\n",
       "  'platform_OTHR',\n",
       "  'pageReferrer_OTHER',\n",
       "  'pageReferrer_SEARCH',\n",
       "  'pageReferrer_DIRECT',\n",
       "  'pageReferrer_EMPTY_DOMAIN',\n",
       "  'pageReferrer_SOCIAL'],\n",
       " 'time_step_list': ['0min_to_10min',\n",
       "  '10min_to_20min',\n",
       "  '20min_to_30min',\n",
       "  '30min_to_40min',\n",
       "  '40min_to_50min',\n",
       "  '50min_to_60min',\n",
       "  '60min_to_70min',\n",
       "  '70min_to_80min',\n",
       "  '80min_to_90min',\n",
       "  '90min_to_100min',\n",
       "  '100min_to_110min',\n",
       "  '110min_to_120min']}"
      ]
     },
     "execution_count": 23,
     "metadata": {},
     "output_type": "execute_result"
    }
   ],
   "source": [
    "config_dict"
   ]
  },
  {
   "cell_type": "code",
   "execution_count": 24,
   "metadata": {
    "collapsed": true
   },
   "outputs": [],
   "source": [
    "target_name = config_dict['label_column']"
   ]
  },
  {
   "cell_type": "code",
   "execution_count": 25,
   "metadata": {
    "collapsed": false
   },
   "outputs": [
    {
     "name": "stdout",
     "output_type": "stream",
     "text": [
      "10744.0 19809.9554376\n"
     ]
    }
   ],
   "source": [
    "print data[target_name].median(), data[target_name].mean()"
   ]
  },
  {
   "cell_type": "markdown",
   "metadata": {
    "collapsed": true
   },
   "source": [
    "#### load the local data"
   ]
  },
  {
   "cell_type": "code",
   "execution_count": 26,
   "metadata": {
    "collapsed": true
   },
   "outputs": [],
   "source": [
    "data = pd.read_csv(local_data_file, index_col=config_dict['index_column'])"
   ]
  },
  {
   "cell_type": "code",
   "execution_count": 27,
   "metadata": {
    "collapsed": false
   },
   "outputs": [
    {
     "data": {
      "text/html": [
       "<div>\n",
       "<table border=\"1\" class=\"dataframe\">\n",
       "  <thead>\n",
       "    <tr style=\"text-align: right;\">\n",
       "      <th></th>\n",
       "      <th>total_views</th>\n",
       "      <th>views_0min_to_10min</th>\n",
       "      <th>views_10min_to_20min</th>\n",
       "      <th>views_20min_to_30min</th>\n",
       "      <th>views_30min_to_40min</th>\n",
       "      <th>views_40min_to_50min</th>\n",
       "      <th>views_50min_to_60min</th>\n",
       "      <th>views_60min_to_70min</th>\n",
       "      <th>views_70min_to_80min</th>\n",
       "      <th>views_80min_to_90min</th>\n",
       "      <th>...</th>\n",
       "      <th>pageReferrer_SOCIAL_80min_to_90min</th>\n",
       "      <th>pageReferrer_SOCIAL_90min_to_100min</th>\n",
       "      <th>pageReferrer_SOCIAL_100min_to_110min</th>\n",
       "      <th>pageReferrer_SOCIAL_110min_to_120min</th>\n",
       "      <th>minLocalDateInWeek</th>\n",
       "      <th>minLocalTime</th>\n",
       "      <th>createTime</th>\n",
       "      <th>articleInfo_type</th>\n",
       "      <th>articleInfo_authorName</th>\n",
       "      <th>articleInfo_section</th>\n",
       "    </tr>\n",
       "    <tr>\n",
       "      <th>articleId</th>\n",
       "      <th></th>\n",
       "      <th></th>\n",
       "      <th></th>\n",
       "      <th></th>\n",
       "      <th></th>\n",
       "      <th></th>\n",
       "      <th></th>\n",
       "      <th></th>\n",
       "      <th></th>\n",
       "      <th></th>\n",
       "      <th></th>\n",
       "      <th></th>\n",
       "      <th></th>\n",
       "      <th></th>\n",
       "      <th></th>\n",
       "      <th></th>\n",
       "      <th></th>\n",
       "      <th></th>\n",
       "      <th></th>\n",
       "      <th></th>\n",
       "      <th></th>\n",
       "    </tr>\n",
       "  </thead>\n",
       "  <tbody>\n",
       "    <tr>\n",
       "      <th>001cd0fd58dc13b2</th>\n",
       "      <td>21226</td>\n",
       "      <td>58.0</td>\n",
       "      <td>195.0</td>\n",
       "      <td>451.0</td>\n",
       "      <td>433.0</td>\n",
       "      <td>441.0</td>\n",
       "      <td>385.0</td>\n",
       "      <td>160.0</td>\n",
       "      <td>172.0</td>\n",
       "      <td>199.0</td>\n",
       "      <td>...</td>\n",
       "      <td>0.0</td>\n",
       "      <td>0.0</td>\n",
       "      <td>0.0</td>\n",
       "      <td>0.0</td>\n",
       "      <td>2.0</td>\n",
       "      <td>1005.0</td>\n",
       "      <td>1013.0</td>\n",
       "      <td>19888.094993</td>\n",
       "      <td>13263.348485</td>\n",
       "      <td>13257.382353</td>\n",
       "    </tr>\n",
       "    <tr>\n",
       "      <th>0035dc34e6c4dbc8</th>\n",
       "      <td>16272</td>\n",
       "      <td>117.0</td>\n",
       "      <td>381.0</td>\n",
       "      <td>406.0</td>\n",
       "      <td>406.0</td>\n",
       "      <td>243.0</td>\n",
       "      <td>253.0</td>\n",
       "      <td>229.0</td>\n",
       "      <td>248.0</td>\n",
       "      <td>235.0</td>\n",
       "      <td>...</td>\n",
       "      <td>0.0</td>\n",
       "      <td>0.0</td>\n",
       "      <td>0.0</td>\n",
       "      <td>0.0</td>\n",
       "      <td>6.0</td>\n",
       "      <td>1089.0</td>\n",
       "      <td>1096.0</td>\n",
       "      <td>19888.094993</td>\n",
       "      <td>15372.921212</td>\n",
       "      <td>10002.850746</td>\n",
       "    </tr>\n",
       "    <tr>\n",
       "      <th>0104a12e6d11db7d</th>\n",
       "      <td>19759</td>\n",
       "      <td>20.0</td>\n",
       "      <td>54.0</td>\n",
       "      <td>50.0</td>\n",
       "      <td>55.0</td>\n",
       "      <td>68.0</td>\n",
       "      <td>143.0</td>\n",
       "      <td>153.0</td>\n",
       "      <td>192.0</td>\n",
       "      <td>232.0</td>\n",
       "      <td>...</td>\n",
       "      <td>0.0</td>\n",
       "      <td>0.0</td>\n",
       "      <td>0.0</td>\n",
       "      <td>0.0</td>\n",
       "      <td>1.0</td>\n",
       "      <td>311.0</td>\n",
       "      <td>320.0</td>\n",
       "      <td>19888.094993</td>\n",
       "      <td>30518.520000</td>\n",
       "      <td>19490.012658</td>\n",
       "    </tr>\n",
       "    <tr>\n",
       "      <th>0131a9d62b685261</th>\n",
       "      <td>68481</td>\n",
       "      <td>5.0</td>\n",
       "      <td>18.0</td>\n",
       "      <td>22.0</td>\n",
       "      <td>29.0</td>\n",
       "      <td>32.0</td>\n",
       "      <td>31.0</td>\n",
       "      <td>25.0</td>\n",
       "      <td>26.0</td>\n",
       "      <td>26.0</td>\n",
       "      <td>...</td>\n",
       "      <td>0.0</td>\n",
       "      <td>0.0</td>\n",
       "      <td>0.0</td>\n",
       "      <td>0.0</td>\n",
       "      <td>4.0</td>\n",
       "      <td>245.0</td>\n",
       "      <td>257.0</td>\n",
       "      <td>19888.094993</td>\n",
       "      <td>20405.309803</td>\n",
       "      <td>33636.359375</td>\n",
       "    </tr>\n",
       "    <tr>\n",
       "      <th>014122408131c2a0</th>\n",
       "      <td>8636</td>\n",
       "      <td>158.0</td>\n",
       "      <td>279.0</td>\n",
       "      <td>212.0</td>\n",
       "      <td>177.0</td>\n",
       "      <td>138.0</td>\n",
       "      <td>162.0</td>\n",
       "      <td>119.0</td>\n",
       "      <td>105.0</td>\n",
       "      <td>89.0</td>\n",
       "      <td>...</td>\n",
       "      <td>0.0</td>\n",
       "      <td>0.0</td>\n",
       "      <td>0.0</td>\n",
       "      <td>0.0</td>\n",
       "      <td>4.0</td>\n",
       "      <td>1378.0</td>\n",
       "      <td>1382.0</td>\n",
       "      <td>19888.094993</td>\n",
       "      <td>8556.717105</td>\n",
       "      <td>10002.850746</td>\n",
       "    </tr>\n",
       "  </tbody>\n",
       "</table>\n",
       "<p>5 rows × 187 columns</p>\n",
       "</div>"
      ],
      "text/plain": [
       "                  total_views  views_0min_to_10min  views_10min_to_20min  \\\n",
       "articleId                                                                  \n",
       "001cd0fd58dc13b2        21226                 58.0                 195.0   \n",
       "0035dc34e6c4dbc8        16272                117.0                 381.0   \n",
       "0104a12e6d11db7d        19759                 20.0                  54.0   \n",
       "0131a9d62b685261        68481                  5.0                  18.0   \n",
       "014122408131c2a0         8636                158.0                 279.0   \n",
       "\n",
       "                  views_20min_to_30min  views_30min_to_40min  \\\n",
       "articleId                                                      \n",
       "001cd0fd58dc13b2                 451.0                 433.0   \n",
       "0035dc34e6c4dbc8                 406.0                 406.0   \n",
       "0104a12e6d11db7d                  50.0                  55.0   \n",
       "0131a9d62b685261                  22.0                  29.0   \n",
       "014122408131c2a0                 212.0                 177.0   \n",
       "\n",
       "                  views_40min_to_50min  views_50min_to_60min  \\\n",
       "articleId                                                      \n",
       "001cd0fd58dc13b2                 441.0                 385.0   \n",
       "0035dc34e6c4dbc8                 243.0                 253.0   \n",
       "0104a12e6d11db7d                  68.0                 143.0   \n",
       "0131a9d62b685261                  32.0                  31.0   \n",
       "014122408131c2a0                 138.0                 162.0   \n",
       "\n",
       "                  views_60min_to_70min  views_70min_to_80min  \\\n",
       "articleId                                                      \n",
       "001cd0fd58dc13b2                 160.0                 172.0   \n",
       "0035dc34e6c4dbc8                 229.0                 248.0   \n",
       "0104a12e6d11db7d                 153.0                 192.0   \n",
       "0131a9d62b685261                  25.0                  26.0   \n",
       "014122408131c2a0                 119.0                 105.0   \n",
       "\n",
       "                  views_80min_to_90min         ...           \\\n",
       "articleId                                      ...            \n",
       "001cd0fd58dc13b2                 199.0         ...            \n",
       "0035dc34e6c4dbc8                 235.0         ...            \n",
       "0104a12e6d11db7d                 232.0         ...            \n",
       "0131a9d62b685261                  26.0         ...            \n",
       "014122408131c2a0                  89.0         ...            \n",
       "\n",
       "                  pageReferrer_SOCIAL_80min_to_90min  \\\n",
       "articleId                                              \n",
       "001cd0fd58dc13b2                                 0.0   \n",
       "0035dc34e6c4dbc8                                 0.0   \n",
       "0104a12e6d11db7d                                 0.0   \n",
       "0131a9d62b685261                                 0.0   \n",
       "014122408131c2a0                                 0.0   \n",
       "\n",
       "                  pageReferrer_SOCIAL_90min_to_100min  \\\n",
       "articleId                                               \n",
       "001cd0fd58dc13b2                                  0.0   \n",
       "0035dc34e6c4dbc8                                  0.0   \n",
       "0104a12e6d11db7d                                  0.0   \n",
       "0131a9d62b685261                                  0.0   \n",
       "014122408131c2a0                                  0.0   \n",
       "\n",
       "                  pageReferrer_SOCIAL_100min_to_110min  \\\n",
       "articleId                                                \n",
       "001cd0fd58dc13b2                                   0.0   \n",
       "0035dc34e6c4dbc8                                   0.0   \n",
       "0104a12e6d11db7d                                   0.0   \n",
       "0131a9d62b685261                                   0.0   \n",
       "014122408131c2a0                                   0.0   \n",
       "\n",
       "                  pageReferrer_SOCIAL_110min_to_120min  minLocalDateInWeek  \\\n",
       "articleId                                                                    \n",
       "001cd0fd58dc13b2                                   0.0                 2.0   \n",
       "0035dc34e6c4dbc8                                   0.0                 6.0   \n",
       "0104a12e6d11db7d                                   0.0                 1.0   \n",
       "0131a9d62b685261                                   0.0                 4.0   \n",
       "014122408131c2a0                                   0.0                 4.0   \n",
       "\n",
       "                  minLocalTime  createTime  articleInfo_type  \\\n",
       "articleId                                                      \n",
       "001cd0fd58dc13b2        1005.0      1013.0      19888.094993   \n",
       "0035dc34e6c4dbc8        1089.0      1096.0      19888.094993   \n",
       "0104a12e6d11db7d         311.0       320.0      19888.094993   \n",
       "0131a9d62b685261         245.0       257.0      19888.094993   \n",
       "014122408131c2a0        1378.0      1382.0      19888.094993   \n",
       "\n",
       "                  articleInfo_authorName  articleInfo_section  \n",
       "articleId                                                      \n",
       "001cd0fd58dc13b2            13263.348485         13257.382353  \n",
       "0035dc34e6c4dbc8            15372.921212         10002.850746  \n",
       "0104a12e6d11db7d            30518.520000         19490.012658  \n",
       "0131a9d62b685261            20405.309803         33636.359375  \n",
       "014122408131c2a0             8556.717105         10002.850746  \n",
       "\n",
       "[5 rows x 187 columns]"
      ]
     },
     "execution_count": 27,
     "metadata": {},
     "output_type": "execute_result"
    }
   ],
   "source": [
    "data.head()"
   ]
  },
  {
   "cell_type": "code",
   "execution_count": 28,
   "metadata": {
    "collapsed": true
   },
   "outputs": [],
   "source": [
    "def normalized_columns_by_column_mean(data):\n",
    "    norm_dict = {}\n",
    "    processed_data = data.copy()\n",
    "    for column in processed_data.columns:\n",
    "        data_mean = processed_data[column].mean()\n",
    "        norm_dict[column] = data_mean\n",
    "        processed_data.loc[:, column] = processed_data[column] / data_mean\n",
    "    return norm_dict, processed_data\n",
    "\n",
    "\n",
    "def normalized_columns_by_target_max(data, target_column_name):\n",
    "    norm_dict = {}\n",
    "    processed_data = data.copy()\n",
    "    target_max = processed_data[target_column_name].max()\n",
    "    norm_dict['all_data_target_max'] = target_max\n",
    "    processed_data = processed_data / target_max\n",
    "    return norm_dict, processed_data\n",
    "\n",
    "\n",
    "def normalized_columns_by_target_median(data, target_column_name):\n",
    "    norm_dict = {}\n",
    "    processed_data = data.copy()\n",
    "    target_median = processed_data[target_column_name].median()\n",
    "    norm_dict['all_data_target_median'] = target_median\n",
    "    processed_data = processed_data / target_median\n",
    "    return norm_dict, processed_data\n",
    "\n",
    "\n",
    "def normalized_columns_by_target_mean(data, target_column_name):\n",
    "    norm_dict = {}\n",
    "    processed_data = data.copy()\n",
    "    target_mean = processed_data[target_column_name].mean()\n",
    "    norm_dict['all_data_target_mean'] = target_mean\n",
    "    processed_data = processed_data / target_mean\n",
    "    return norm_dict, processed_data\n",
    "\n",
    "\n",
    "def update_config_dict(config_dict, norm_dict, data_prefix='mean_normalized'):\n",
    "    processed_config_dict = config_dict.copy()\n",
    "    processed_config_dict['data_file_name'] = '{}_{}'.format(data_prefix, processed_config_dict['data_file_name'])\n",
    "    processed_config_dict['norm_dict'] = norm_dict\n",
    "    return processed_config_dict\n",
    "\n",
    "def upload_content_to_GCS(config_dict, data, processed_data_yaml_file='processed_data_configuration.yaml'):\n",
    "    local_data_file = tempfile.NamedTemporaryFile(delete=True).name\n",
    "    local_yaml_file = tempfile.NamedTemporaryFile(delete=True).name\n",
    "    data.to_csv(local_data_file)\n",
    "    print local_yaml_file\n",
    "    print local_data_file\n",
    "    with open(local_yaml_file, 'w') as output:\n",
    "        yaml.dump(config_dict, output)\n",
    "    bucket = GCS_Bucket()\n",
    "    bucket.put(local_data_file, \"{}/{}\".format(config_dict['GCS_path'], config_dict['data_file_name']))\n",
    "    bucket.put(local_yaml_file, \"{}/{}\".format(config_dict['GCS_path'], processed_data_yaml_file))\n",
    "    os.unlink(local_data_file)\n",
    "    os.unlink(local_yaml_file)"
   ]
  },
  {
   "cell_type": "code",
   "execution_count": 30,
   "metadata": {
    "collapsed": false
   },
   "outputs": [],
   "source": [
    "#norm_dict, processed_data = normalized_columns_by_column_mean(data) ## use mean for each column\n",
    "#norm_dict, processed_data = normalized_columns_by_target_mean(data, target_name) ## use the target mean\n",
    "#norm_dict, processed_data = normalized_columns_by_target_mean(data, target_name) ## use the target mean\n",
    "norm_dict, processed_data = normalized_columns_by_target_median(data, target_name) ## use the target median"
   ]
  },
  {
   "cell_type": "code",
   "execution_count": 32,
   "metadata": {
    "collapsed": false
   },
   "outputs": [
    {
     "data": {
      "text/html": [
       "<div>\n",
       "<table border=\"1\" class=\"dataframe\">\n",
       "  <thead>\n",
       "    <tr style=\"text-align: right;\">\n",
       "      <th></th>\n",
       "      <th>total_views</th>\n",
       "      <th>views_0min_to_10min</th>\n",
       "      <th>views_10min_to_20min</th>\n",
       "      <th>views_20min_to_30min</th>\n",
       "      <th>views_30min_to_40min</th>\n",
       "      <th>views_40min_to_50min</th>\n",
       "      <th>views_50min_to_60min</th>\n",
       "      <th>views_60min_to_70min</th>\n",
       "      <th>views_70min_to_80min</th>\n",
       "      <th>views_80min_to_90min</th>\n",
       "      <th>...</th>\n",
       "      <th>pageReferrer_SOCIAL_80min_to_90min</th>\n",
       "      <th>pageReferrer_SOCIAL_90min_to_100min</th>\n",
       "      <th>pageReferrer_SOCIAL_100min_to_110min</th>\n",
       "      <th>pageReferrer_SOCIAL_110min_to_120min</th>\n",
       "      <th>minLocalDateInWeek</th>\n",
       "      <th>minLocalTime</th>\n",
       "      <th>createTime</th>\n",
       "      <th>articleInfo_type</th>\n",
       "      <th>articleInfo_authorName</th>\n",
       "      <th>articleInfo_section</th>\n",
       "    </tr>\n",
       "    <tr>\n",
       "      <th>articleId</th>\n",
       "      <th></th>\n",
       "      <th></th>\n",
       "      <th></th>\n",
       "      <th></th>\n",
       "      <th></th>\n",
       "      <th></th>\n",
       "      <th></th>\n",
       "      <th></th>\n",
       "      <th></th>\n",
       "      <th></th>\n",
       "      <th></th>\n",
       "      <th></th>\n",
       "      <th></th>\n",
       "      <th></th>\n",
       "      <th></th>\n",
       "      <th></th>\n",
       "      <th></th>\n",
       "      <th></th>\n",
       "      <th></th>\n",
       "      <th></th>\n",
       "      <th></th>\n",
       "    </tr>\n",
       "  </thead>\n",
       "  <tbody>\n",
       "    <tr>\n",
       "      <th>001cd0fd58dc13b2</th>\n",
       "      <td>1.975614</td>\n",
       "      <td>0.005398</td>\n",
       "      <td>0.018150</td>\n",
       "      <td>0.041977</td>\n",
       "      <td>0.040302</td>\n",
       "      <td>0.041046</td>\n",
       "      <td>0.035834</td>\n",
       "      <td>0.014892</td>\n",
       "      <td>0.016009</td>\n",
       "      <td>0.018522</td>\n",
       "      <td>...</td>\n",
       "      <td>0.0</td>\n",
       "      <td>0.0</td>\n",
       "      <td>0.0</td>\n",
       "      <td>0.0</td>\n",
       "      <td>0.000186</td>\n",
       "      <td>0.093541</td>\n",
       "      <td>0.094285</td>\n",
       "      <td>1.851089</td>\n",
       "      <td>1.234489</td>\n",
       "      <td>1.233934</td>\n",
       "    </tr>\n",
       "    <tr>\n",
       "      <th>0035dc34e6c4dbc8</th>\n",
       "      <td>1.514520</td>\n",
       "      <td>0.010890</td>\n",
       "      <td>0.035462</td>\n",
       "      <td>0.037789</td>\n",
       "      <td>0.037789</td>\n",
       "      <td>0.022617</td>\n",
       "      <td>0.023548</td>\n",
       "      <td>0.021314</td>\n",
       "      <td>0.023083</td>\n",
       "      <td>0.021873</td>\n",
       "      <td>...</td>\n",
       "      <td>0.0</td>\n",
       "      <td>0.0</td>\n",
       "      <td>0.0</td>\n",
       "      <td>0.0</td>\n",
       "      <td>0.000558</td>\n",
       "      <td>0.101359</td>\n",
       "      <td>0.102010</td>\n",
       "      <td>1.851089</td>\n",
       "      <td>1.430838</td>\n",
       "      <td>0.931017</td>\n",
       "    </tr>\n",
       "    <tr>\n",
       "      <th>0104a12e6d11db7d</th>\n",
       "      <td>1.839073</td>\n",
       "      <td>0.001862</td>\n",
       "      <td>0.005026</td>\n",
       "      <td>0.004654</td>\n",
       "      <td>0.005119</td>\n",
       "      <td>0.006329</td>\n",
       "      <td>0.013310</td>\n",
       "      <td>0.014241</td>\n",
       "      <td>0.017870</td>\n",
       "      <td>0.021593</td>\n",
       "      <td>...</td>\n",
       "      <td>0.0</td>\n",
       "      <td>0.0</td>\n",
       "      <td>0.0</td>\n",
       "      <td>0.0</td>\n",
       "      <td>0.000093</td>\n",
       "      <td>0.028946</td>\n",
       "      <td>0.029784</td>\n",
       "      <td>1.851089</td>\n",
       "      <td>2.840517</td>\n",
       "      <td>1.814037</td>\n",
       "    </tr>\n",
       "    <tr>\n",
       "      <th>0131a9d62b685261</th>\n",
       "      <td>6.373883</td>\n",
       "      <td>0.000465</td>\n",
       "      <td>0.001675</td>\n",
       "      <td>0.002048</td>\n",
       "      <td>0.002699</td>\n",
       "      <td>0.002978</td>\n",
       "      <td>0.002885</td>\n",
       "      <td>0.002327</td>\n",
       "      <td>0.002420</td>\n",
       "      <td>0.002420</td>\n",
       "      <td>...</td>\n",
       "      <td>0.0</td>\n",
       "      <td>0.0</td>\n",
       "      <td>0.0</td>\n",
       "      <td>0.0</td>\n",
       "      <td>0.000372</td>\n",
       "      <td>0.022803</td>\n",
       "      <td>0.023920</td>\n",
       "      <td>1.851089</td>\n",
       "      <td>1.899228</td>\n",
       "      <td>3.130711</td>\n",
       "    </tr>\n",
       "    <tr>\n",
       "      <th>014122408131c2a0</th>\n",
       "      <td>0.803797</td>\n",
       "      <td>0.014706</td>\n",
       "      <td>0.025968</td>\n",
       "      <td>0.019732</td>\n",
       "      <td>0.016474</td>\n",
       "      <td>0.012844</td>\n",
       "      <td>0.015078</td>\n",
       "      <td>0.011076</td>\n",
       "      <td>0.009773</td>\n",
       "      <td>0.008284</td>\n",
       "      <td>...</td>\n",
       "      <td>0.0</td>\n",
       "      <td>0.0</td>\n",
       "      <td>0.0</td>\n",
       "      <td>0.0</td>\n",
       "      <td>0.000372</td>\n",
       "      <td>0.128258</td>\n",
       "      <td>0.128630</td>\n",
       "      <td>1.851089</td>\n",
       "      <td>0.796418</td>\n",
       "      <td>0.931017</td>\n",
       "    </tr>\n",
       "  </tbody>\n",
       "</table>\n",
       "<p>5 rows × 187 columns</p>\n",
       "</div>"
      ],
      "text/plain": [
       "                  total_views  views_0min_to_10min  views_10min_to_20min  \\\n",
       "articleId                                                                  \n",
       "001cd0fd58dc13b2     1.975614             0.005398              0.018150   \n",
       "0035dc34e6c4dbc8     1.514520             0.010890              0.035462   \n",
       "0104a12e6d11db7d     1.839073             0.001862              0.005026   \n",
       "0131a9d62b685261     6.373883             0.000465              0.001675   \n",
       "014122408131c2a0     0.803797             0.014706              0.025968   \n",
       "\n",
       "                  views_20min_to_30min  views_30min_to_40min  \\\n",
       "articleId                                                      \n",
       "001cd0fd58dc13b2              0.041977              0.040302   \n",
       "0035dc34e6c4dbc8              0.037789              0.037789   \n",
       "0104a12e6d11db7d              0.004654              0.005119   \n",
       "0131a9d62b685261              0.002048              0.002699   \n",
       "014122408131c2a0              0.019732              0.016474   \n",
       "\n",
       "                  views_40min_to_50min  views_50min_to_60min  \\\n",
       "articleId                                                      \n",
       "001cd0fd58dc13b2              0.041046              0.035834   \n",
       "0035dc34e6c4dbc8              0.022617              0.023548   \n",
       "0104a12e6d11db7d              0.006329              0.013310   \n",
       "0131a9d62b685261              0.002978              0.002885   \n",
       "014122408131c2a0              0.012844              0.015078   \n",
       "\n",
       "                  views_60min_to_70min  views_70min_to_80min  \\\n",
       "articleId                                                      \n",
       "001cd0fd58dc13b2              0.014892              0.016009   \n",
       "0035dc34e6c4dbc8              0.021314              0.023083   \n",
       "0104a12e6d11db7d              0.014241              0.017870   \n",
       "0131a9d62b685261              0.002327              0.002420   \n",
       "014122408131c2a0              0.011076              0.009773   \n",
       "\n",
       "                  views_80min_to_90min         ...           \\\n",
       "articleId                                      ...            \n",
       "001cd0fd58dc13b2              0.018522         ...            \n",
       "0035dc34e6c4dbc8              0.021873         ...            \n",
       "0104a12e6d11db7d              0.021593         ...            \n",
       "0131a9d62b685261              0.002420         ...            \n",
       "014122408131c2a0              0.008284         ...            \n",
       "\n",
       "                  pageReferrer_SOCIAL_80min_to_90min  \\\n",
       "articleId                                              \n",
       "001cd0fd58dc13b2                                 0.0   \n",
       "0035dc34e6c4dbc8                                 0.0   \n",
       "0104a12e6d11db7d                                 0.0   \n",
       "0131a9d62b685261                                 0.0   \n",
       "014122408131c2a0                                 0.0   \n",
       "\n",
       "                  pageReferrer_SOCIAL_90min_to_100min  \\\n",
       "articleId                                               \n",
       "001cd0fd58dc13b2                                  0.0   \n",
       "0035dc34e6c4dbc8                                  0.0   \n",
       "0104a12e6d11db7d                                  0.0   \n",
       "0131a9d62b685261                                  0.0   \n",
       "014122408131c2a0                                  0.0   \n",
       "\n",
       "                  pageReferrer_SOCIAL_100min_to_110min  \\\n",
       "articleId                                                \n",
       "001cd0fd58dc13b2                                   0.0   \n",
       "0035dc34e6c4dbc8                                   0.0   \n",
       "0104a12e6d11db7d                                   0.0   \n",
       "0131a9d62b685261                                   0.0   \n",
       "014122408131c2a0                                   0.0   \n",
       "\n",
       "                  pageReferrer_SOCIAL_110min_to_120min  minLocalDateInWeek  \\\n",
       "articleId                                                                    \n",
       "001cd0fd58dc13b2                                   0.0            0.000186   \n",
       "0035dc34e6c4dbc8                                   0.0            0.000558   \n",
       "0104a12e6d11db7d                                   0.0            0.000093   \n",
       "0131a9d62b685261                                   0.0            0.000372   \n",
       "014122408131c2a0                                   0.0            0.000372   \n",
       "\n",
       "                  minLocalTime  createTime  articleInfo_type  \\\n",
       "articleId                                                      \n",
       "001cd0fd58dc13b2      0.093541    0.094285          1.851089   \n",
       "0035dc34e6c4dbc8      0.101359    0.102010          1.851089   \n",
       "0104a12e6d11db7d      0.028946    0.029784          1.851089   \n",
       "0131a9d62b685261      0.022803    0.023920          1.851089   \n",
       "014122408131c2a0      0.128258    0.128630          1.851089   \n",
       "\n",
       "                  articleInfo_authorName  articleInfo_section  \n",
       "articleId                                                      \n",
       "001cd0fd58dc13b2                1.234489             1.233934  \n",
       "0035dc34e6c4dbc8                1.430838             0.931017  \n",
       "0104a12e6d11db7d                2.840517             1.814037  \n",
       "0131a9d62b685261                1.899228             3.130711  \n",
       "014122408131c2a0                0.796418             0.931017  \n",
       "\n",
       "[5 rows x 187 columns]"
      ]
     },
     "execution_count": 32,
     "metadata": {},
     "output_type": "execute_result"
    }
   ],
   "source": [
    "processed_data.head()"
   ]
  },
  {
   "cell_type": "markdown",
   "metadata": {},
   "source": [
    "#### create a new `config_dict`"
   ]
  },
  {
   "cell_type": "code",
   "execution_count": 33,
   "metadata": {
    "collapsed": false
   },
   "outputs": [],
   "source": [
    "#processed_dict = update_config_dict(config_dict, norm_dict, data_prefix='target_mean_normalized')\n",
    "#processed_dict = update_config_dict(config_dict, norm_dict, data_prefix='target_max_normalized')\n",
    "processed_dict = update_config_dict(config_dict, norm_dict, data_prefix='target_median_normalized')"
   ]
  },
  {
   "cell_type": "code",
   "execution_count": 34,
   "metadata": {
    "collapsed": false
   },
   "outputs": [
    {
     "data": {
      "text/plain": [
       "{'GCS_path': 'test/MachineLearning',\n",
       " 'data_file_name': 'target_median_normalized_NYDN_240min_fullWindow_120min_exposure_600seconds_interval_target_24hr_data.csv',\n",
       " 'index_column': 'articleId',\n",
       " 'label_column': 'total_views',\n",
       " 'norm_dict': {'all_data_target_median': 10744.0},\n",
       " 'static_columns': ['minLocalDateInWeek',\n",
       "  'minLocalTime',\n",
       "  'createTime',\n",
       "  'articleInfo_type',\n",
       "  'articleInfo_authorName',\n",
       "  'articleInfo_section'],\n",
       " 'time_interval_columns': ['views',\n",
       "  'US_counts',\n",
       "  'sessionReferrer_DIRECT',\n",
       "  'sessionReferrer_SOCIAL',\n",
       "  'sessionReferrer_SEARCH',\n",
       "  'sessionReferrer_OTHER',\n",
       "  'platform_PHON',\n",
       "  'platform_DESK',\n",
       "  'platform_TBLT',\n",
       "  'platform_OTHR',\n",
       "  'pageReferrer_OTHER',\n",
       "  'pageReferrer_SEARCH',\n",
       "  'pageReferrer_DIRECT',\n",
       "  'pageReferrer_EMPTY_DOMAIN',\n",
       "  'pageReferrer_SOCIAL'],\n",
       " 'time_step_list': ['0min_to_10min',\n",
       "  '10min_to_20min',\n",
       "  '20min_to_30min',\n",
       "  '30min_to_40min',\n",
       "  '40min_to_50min',\n",
       "  '50min_to_60min',\n",
       "  '60min_to_70min',\n",
       "  '70min_to_80min',\n",
       "  '80min_to_90min',\n",
       "  '90min_to_100min',\n",
       "  '100min_to_110min',\n",
       "  '110min_to_120min']}"
      ]
     },
     "execution_count": 34,
     "metadata": {},
     "output_type": "execute_result"
    }
   ],
   "source": [
    "#processed_dict['norm_dict'][target_name]\n",
    "processed_dict"
   ]
  },
  {
   "cell_type": "markdown",
   "metadata": {},
   "source": [
    "#### save both data and `config_dict` to lcoal temp file and upload to GCS"
   ]
  },
  {
   "cell_type": "code",
   "execution_count": 35,
   "metadata": {
    "collapsed": false
   },
   "outputs": [
    {
     "name": "stdout",
     "output_type": "stream",
     "text": [
      "/var/folders/k5/nkzf3kxj2v721gq7p2nytvv48ppbxr/T/tmpbkAIg0\n",
      "/var/folders/k5/nkzf3kxj2v721gq7p2nytvv48ppbxr/T/tmpWsEbsi\n"
     ]
    }
   ],
   "source": [
    "#upload_content_to_GCS(processed_dict, processed_data, processed_data_yaml_file='target_mean_norm_configuration.yaml')\n",
    "#upload_content_to_GCS(processed_dict, processed_data, processed_data_yaml_file='target_max_norm_configuration.yaml')\n",
    "upload_content_to_GCS(processed_dict, processed_data, processed_data_yaml_file='target_median_norm_configuration.yaml')"
   ]
  },
  {
   "cell_type": "code",
   "execution_count": null,
   "metadata": {
    "collapsed": true
   },
   "outputs": [],
   "source": []
  },
  {
   "cell_type": "code",
   "execution_count": null,
   "metadata": {
    "collapsed": false
   },
   "outputs": [],
   "source": [
    "%%bash\n",
    "du -ah /var/folders/k5/nkzf3kxj2v721gq7p2nytvv48ppbxr/T/tmpQ22XFy"
   ]
  },
  {
   "cell_type": "code",
   "execution_count": null,
   "metadata": {
    "collapsed": true
   },
   "outputs": [],
   "source": []
  },
  {
   "cell_type": "code",
   "execution_count": null,
   "metadata": {
    "collapsed": false
   },
   "outputs": [],
   "source": [
    "data[target_name].median()"
   ]
  },
  {
   "cell_type": "code",
   "execution_count": null,
   "metadata": {
    "collapsed": false
   },
   "outputs": [],
   "source": [
    "data_mean = data[target_name].mean()"
   ]
  },
  {
   "cell_type": "code",
   "execution_count": null,
   "metadata": {
    "collapsed": false
   },
   "outputs": [],
   "source": [
    "data_mean"
   ]
  },
  {
   "cell_type": "code",
   "execution_count": null,
   "metadata": {
    "collapsed": false
   },
   "outputs": [],
   "source": [
    "data.loc[:, target_name] = data[target_name] / data_mean"
   ]
  },
  {
   "cell_type": "code",
   "execution_count": null,
   "metadata": {
    "collapsed": false
   },
   "outputs": [],
   "source": [
    "data.loc[target_name] = data[target_name] / data_mean"
   ]
  },
  {
   "cell_type": "code",
   "execution_count": null,
   "metadata": {
    "collapsed": false
   },
   "outputs": [],
   "source": [
    "data.loc[data[target_name] > 10, target_name].hist(bins=50)"
   ]
  },
  {
   "cell_type": "code",
   "execution_count": null,
   "metadata": {
    "collapsed": true
   },
   "outputs": [],
   "source": []
  }
 ],
 "metadata": {
  "kernelspec": {
   "display_name": "Python 2",
   "language": "python",
   "name": "python2"
  },
  "language_info": {
   "codemirror_mode": {
    "name": "ipython",
    "version": 2
   },
   "file_extension": ".py",
   "mimetype": "text/x-python",
   "name": "python",
   "nbconvert_exporter": "python",
   "pygments_lexer": "ipython2",
   "version": "2.7.10"
  }
 },
 "nbformat": 4,
 "nbformat_minor": 2
}
