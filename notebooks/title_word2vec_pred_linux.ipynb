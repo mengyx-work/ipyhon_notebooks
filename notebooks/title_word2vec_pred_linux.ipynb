{
 "metadata": {
  "kernelspec": {
   "display_name": "Python 2",
   "language": "python",
   "name": "python2"
  },
  "language_info": {
   "codemirror_mode": {
    "name": "ipython",
    "version": 2
   },
   "file_extension": ".py",
   "mimetype": "text/x-python",
   "name": "python",
   "nbconvert_exporter": "python",
   "pygments_lexer": "ipython2",
   "version": "2.7.10"
  },
  "name": "",
  "signature": "sha256:5593be9b39f4387aa59a0f0187af0cb7a6fd836cf7c1c427d17db922fcb5dd86"
 },
 "nbformat": 3,
 "nbformat_minor": 0,
 "worksheets": [
  {
   "cells": [
    {
     "cell_type": "code",
     "collapsed": false,
     "input": [
      "import cPickle as pickle\n",
      "import os, sys, multiprocessing, time, math\n",
      "import tensorflow as tf\n",
      "import numpy as np\n",
      "sys.path.append('/home/matt.meng/word2dev_model')\n",
      "from graph_model import word2vec\n",
      "from model_utils import create_local_model_path, create_local_log_path\n",
      "import matplotlib.pyplot as plt\n",
      "%matplotlib inline  \n"
     ],
     "language": "python",
     "metadata": {},
     "outputs": [],
     "prompt_number": 26
    },
    {
     "cell_type": "code",
     "collapsed": false,
     "input": [
      "def build_word2vec_model(model_name):\n",
      "    \n",
      "    NUM_THREADS = 2*multiprocessing.cpu_count()-1\n",
      "    COMMON_PATH = os.path.join(os.path.expanduser(\"~\"), 'local_tensorflow_content')\n",
      "    \n",
      "    model_config = {}\n",
      "    model_config['model_name'] = model_name\n",
      "    model_config['restore_model'] = True\n",
      "    model_config['eval_mode'] = True\n",
      "\n",
      "    use_gpu = False\n",
      "    if use_gpu:\n",
      "        model_config['sess_config'] = tf.ConfigProto(log_device_placement=False,\n",
      "                                                     gpu_options=tf.GPUOptions(per_process_gpu_memory_fraction=0.5))\n",
      "    else:\n",
      "        os.environ['CUDA_VISIBLE_DEVICES'] = '-1'  # the only way to completely not use GPU\n",
      "        model_config['sess_config'] = tf.ConfigProto(intra_op_parallelism_threads=NUM_THREADS)\n",
      "\n",
      "    model_config['model_path'] = create_local_model_path(COMMON_PATH, model_config['model_name'])\n",
      "    model_config['log_path'] = create_local_log_path(COMMON_PATH, model_config['model_name'])\n",
      "\n",
      "    model = word2vec(**model_config)\n",
      "    return model\n",
      "\n",
      "def collect_key_from_pickle_file(titles_pickle_file, title_key):\n",
      "    pickle_file_path = os.path.join(os.path.expanduser(\"~\"), titles_pickle_file)\n",
      "\n",
      "    with open(pickle_file_path, 'rb') as input_stream:\n",
      "        data = pickle.load(input_stream)\n",
      "    return data[title_key]\n",
      "\n",
      "\n",
      "def collect_multi_keys_from_pickle_file(titles_pickle_file, key_dict):\n",
      "    pickle_file_path = os.path.join(os.path.expanduser(\"~\"), titles_pickle_file)\n",
      "\n",
      "    with open(pickle_file_path, 'rb') as input_stream:\n",
      "        data = pickle.load(input_stream)\n",
      "        \n",
      "    content_dict = {}\n",
      "    for key in key_dict.keys():\n",
      "        content_dict[key] = data[key_dict[key]]\n",
      "    return content_dict\n",
      "\n",
      "\n",
      "class ProcessedTitle(object):\n",
      "    \n",
      "    def __init__(self, index_title, url, pageView):\n",
      "        self.index_title = index_title\n",
      "        self.url = url\n",
      "        self.pageView = pageView\n",
      "        title_array = map(ProcessedTitle.reverse_token_dict.get, self.index_title)\n",
      "        self.title = \" \".join(title_array) \n",
      "        \n",
      "    def create_word2vec_embeddings(self, word2vec_model):\n",
      "        max_vector, min_vector, mean_vector = word2vec_model.predict(self.index_title)\n",
      "        self.max_vector = max_vector\n",
      "        self.min_vector = min_vector\n",
      "        self.mean_vector = mean_vector\n",
      "        \n",
      "\n",
      "def create_title_dict_with_word2vec(content_dict, model):\n",
      "    processed_titles = []\n",
      "    cur_time = time.time()\n",
      "    fixed_couner = 1000\n",
      "    title_limit = 10000\n",
      "    ProcessedTitle.reverse_token_dict = content_dict['reverse_token_dict']\n",
      "    for i in xrange(title_limit):\n",
      "    #for i in xrange(len(content_dict['titles'])):\n",
      "        title = ProcessedTitle(index_title=content_dict['titles'][i], \n",
      "                               url=content_dict['url'][i], \n",
      "                               pageView=content_dict['pageView'][i])\n",
      "        title.create_word2vec_embeddings(model)\n",
      "        processed_titles.append(title)\n",
      "        if i != 0 and i % fixed_couner == 0:\n",
      "            print \"processing {} titles using {:.2f} seconds\".format(fixed_couner, time.time()-cur_time)\n",
      "            cur_time = time.time()\n",
      "    return processed_titles\n",
      "\n",
      "\n",
      "def square_rooted(x):\n",
      "    return math.sqrt(sum([a*a for a in x]))\n",
      " \n",
      "def euclidean_distance(x,y):\n",
      "     return math.sqrt(sum(math.pow(a - b, 2) for a, b in zip(x, y)))\n",
      "\n",
      "def manhattan_distance(x,y): \n",
      "    return sum(abs(a - b) for a,b in zip(x,y))\n",
      "\n",
      "def cosine_similarity(x, y):\n",
      "    numerator = sum(a*b for a, b in zip(x,y))\n",
      "    denominator = square_rooted(x) * square_rooted(y)\n",
      "    #denominator = (square_rooted(x) + square_rooted(y))\n",
      "    return numerator / denominator"
     ],
     "language": "python",
     "metadata": {},
     "outputs": [],
     "prompt_number": 11
    },
    {
     "cell_type": "code",
     "collapsed": false,
     "input": [
      "titles_pickle_file = 'lemmanized_no_stop_words_scrambled_titles.pkl'\n",
      "model_name = 'word2vec_lemmatized_no_stop_words'\n",
      "expected_keys = {\"titles\": 'titles', \"url\": 'url', 'pageView': \"pageViw\", 'reverse_token_dict': 'reverse_token_dict'}\n",
      "lemmatized_expected_keys = {\"titles\": 'target_titles', \"url\": 'url', 'pageView': \"pageViw\", 'reverse_token_dict': 'reverse_token_dict'}\n",
      "\n",
      "content_dict = collect_multi_keys_from_pickle_file(titles_pickle_file, lemmatized_expected_keys)"
     ],
     "language": "python",
     "metadata": {},
     "outputs": [],
     "prompt_number": 5
    },
    {
     "cell_type": "code",
     "collapsed": false,
     "input": [
      "word2vec_model = build_word2vec_model(model_name)"
     ],
     "language": "python",
     "metadata": {},
     "outputs": [
      {
       "output_type": "stream",
       "stream": "stdout",
       "text": [
        "warning, more than one model meta file is found in /home/matt.meng/local_tensorflow_content/word2vec_lemmatized_no_stop_words\n",
        "INFO:tensorflow:Restoring parameters from /home/matt.meng/local_tensorflow_content/word2vec_lemmatized_no_stop_words/models-8750000\n"
       ]
      },
      {
       "output_type": "stream",
       "stream": "stderr",
       "text": [
        "INFO:tensorflow:Restoring parameters from /home/matt.meng/local_tensorflow_content/word2vec_lemmatized_no_stop_words/models-8750000\n"
       ]
      },
      {
       "output_type": "stream",
       "stream": "stdout",
       "text": [
        "restore trained models from /home/matt.meng/local_tensorflow_content/word2vec_lemmatized_no_stop_words\n",
        "restore model from step:  8750000\n"
       ]
      }
     ],
     "prompt_number": 6
    },
    {
     "cell_type": "code",
     "collapsed": false,
     "input": [
      "processed_titles = create_title_dict_with_word2vec(content_dict, word2vec_model)"
     ],
     "language": "python",
     "metadata": {},
     "outputs": [
      {
       "output_type": "stream",
       "stream": "stdout",
       "text": [
        "processing 1000 titles using 28.28 seconds\n",
        "processing 1000 titles using 28.56 seconds"
       ]
      },
      {
       "output_type": "stream",
       "stream": "stdout",
       "text": [
        "\n",
        "processing 1000 titles using 28.99 seconds"
       ]
      },
      {
       "output_type": "stream",
       "stream": "stdout",
       "text": [
        "\n",
        "processing 1000 titles using 28.33 seconds"
       ]
      },
      {
       "output_type": "stream",
       "stream": "stdout",
       "text": [
        "\n",
        "processing 1000 titles using 28.62 seconds"
       ]
      },
      {
       "output_type": "stream",
       "stream": "stdout",
       "text": [
        "\n",
        "processing 1000 titles using 28.70 seconds"
       ]
      },
      {
       "output_type": "stream",
       "stream": "stdout",
       "text": [
        "\n",
        "processing 1000 titles using 28.23 seconds"
       ]
      },
      {
       "output_type": "stream",
       "stream": "stdout",
       "text": [
        "\n",
        "processing 1000 titles using 28.29 seconds"
       ]
      },
      {
       "output_type": "stream",
       "stream": "stdout",
       "text": [
        "\n",
        "processing 1000 titles using 28.54 seconds"
       ]
      },
      {
       "output_type": "stream",
       "stream": "stdout",
       "text": [
        "\n"
       ]
      }
     ],
     "prompt_number": 7
    },
    {
     "cell_type": "code",
     "collapsed": true,
     "input": [
      "sorted_titles = sorted(processed_titles, key=lambda x: x.pageView, reverse=True)"
     ],
     "language": "python",
     "metadata": {},
     "outputs": [],
     "prompt_number": 8
    },
    {
     "cell_type": "code",
     "collapsed": false,
     "input": [
      "index = 35\n",
      "print sorted_titles[index].title\n",
      "#print sorted_titles[index].max_vector\n",
      "#print sorted_titles[index].min_vector\n",
      "vector = sorted_titles[index].max_vector[:]\n",
      "vector = np.append(vector, sorted_titles[index].min_vector[:])\n",
      "print len(vector)"
     ],
     "language": "python",
     "metadata": {},
     "outputs": [
      {
       "output_type": "stream",
       "stream": "stdout",
       "text": [
        "selfish suicide\n",
        "256\n"
       ]
      }
     ],
     "prompt_number": 56
    },
    {
     "cell_type": "code",
     "collapsed": false,
     "input": [],
     "language": "python",
     "metadata": {},
     "outputs": [],
     "prompt_number": 56
    },
    {
     "cell_type": "code",
     "collapsed": true,
     "input": [
      "cosine_results, euclidean_results = [], []\n",
      "start_time = time.time()\n",
      "print sorted_titles[index].url\n",
      "print sorted_titles[index].title\n",
      "print \"\\n\"\n",
      "sample_vector = sorted_titles[index].max_vector[:]\n",
      "sample_vector = np.append(sample_vector, sorted_titles[index].min_vector[:])\n",
      "#sample_vector = np.append(sample_vector, sorted_titles[index].mean_vector[:])\n",
      "\n",
      "#sample_vector = sorted_titles[index].mean_vector[:]\n",
      "\n",
      "\n",
      "#sample_vector = sorted_titles[index].mean_vector[:]\n",
      "for i in xrange(min(len(sorted_titles), 10000)):\n",
      "    cur_vector = sorted_titles[i].max_vector[:]\n",
      "    cur_vector = np.append(cur_vector, sorted_titles[i].min_vector[:])\n",
      "    #cur_vector = np.append(cur_vector, sorted_titles[i].mean_vector[:])\n",
      "    #cur_vector = sorted_titles[i].mean_vector[:]\n",
      "    \n",
      "    cosine_result = cosine_similarity(cur_vector, sample_vector)\n",
      "    euclidean_result = euclidean_distance(cur_vector, sample_vector)\n",
      "    sorted_titles[i].cosine_similarity = cosine_result\n",
      "    cosine_results.append(cosine_result)\n",
      "    euclidean_results.append(euclidean_result)\n",
      "print 'all the process takes {:.2f} seconds...'.format(time.time() - start_time)"
     ],
     "language": "python",
     "metadata": {},
     "outputs": [
      {
       "output_type": "stream",
       "stream": "stdout",
       "text": [
        "http://www.huffingtonpost.com/katie-hurley/theres-nothing-selfish-about-suicide_b_5672519.html\n",
        "selfish suicide\n",
        "\n",
        "\n",
        "all the process takes 6.19 seconds..."
       ]
      },
      {
       "output_type": "stream",
       "stream": "stdout",
       "text": [
        "\n"
       ]
      }
     ],
     "prompt_number": 70
    },
    {
     "cell_type": "code",
     "collapsed": true,
     "input": [],
     "language": "python",
     "metadata": {},
     "outputs": [],
     "prompt_number": 57
    },
    {
     "cell_type": "code",
     "collapsed": true,
     "input": [
      "plt.hist(cosine_results, bins=100)"
     ],
     "language": "python",
     "metadata": {},
     "outputs": [
      {
       "metadata": {},
       "output_type": "pyout",
       "prompt_number": 71,
       "text": [
        "(array([  1.00000000e+00,   0.00000000e+00,   0.00000000e+00,\n",
        "          0.00000000e+00,   0.00000000e+00,   0.00000000e+00,\n",
        "          0.00000000e+00,   0.00000000e+00,   1.00000000e+00,\n",
        "          0.00000000e+00,   0.00000000e+00,   0.00000000e+00,\n",
        "          0.00000000e+00,   0.00000000e+00,   0.00000000e+00,\n",
        "          1.00000000e+00,   0.00000000e+00,   0.00000000e+00,\n",
        "          0.00000000e+00,   0.00000000e+00,   0.00000000e+00,\n",
        "          0.00000000e+00,   0.00000000e+00,   1.00000000e+00,\n",
        "          0.00000000e+00,   0.00000000e+00,   1.00000000e+00,\n",
        "          0.00000000e+00,   0.00000000e+00,   0.00000000e+00,\n",
        "          7.00000000e+00,   8.00000000e+00,   0.00000000e+00,\n",
        "          0.00000000e+00,   0.00000000e+00,   0.00000000e+00,\n",
        "          0.00000000e+00,   1.00000000e+00,   8.00000000e+00,\n",
        "          2.00000000e+00,   0.00000000e+00,   6.00000000e+00,\n",
        "          3.00000000e+00,   5.00000000e+00,   2.00000000e+00,\n",
        "          3.00000000e+00,   1.40000000e+01,   2.00000000e+00,\n",
        "          1.10000000e+01,   1.20000000e+01,   1.10000000e+01,\n",
        "          1.50000000e+01,   2.10000000e+01,   2.40000000e+01,\n",
        "          3.90000000e+01,   4.10000000e+01,   5.20000000e+01,\n",
        "          6.10000000e+01,   7.30000000e+01,   1.09000000e+02,\n",
        "          1.31000000e+02,   1.72000000e+02,   2.15000000e+02,\n",
        "          2.80000000e+02,   4.08000000e+02,   5.70000000e+02,\n",
        "          7.57000000e+02,   9.75000000e+02,   1.18600000e+03,\n",
        "          1.22500000e+03,   1.17400000e+03,   1.03000000e+03,\n",
        "          7.02000000e+02,   3.08000000e+02,   2.87000000e+02,\n",
        "          4.10000000e+01,   1.00000000e+00,   2.00000000e+00,\n",
        "          0.00000000e+00,   0.00000000e+00,   0.00000000e+00,\n",
        "          0.00000000e+00,   0.00000000e+00,   0.00000000e+00,\n",
        "          0.00000000e+00,   0.00000000e+00,   0.00000000e+00,\n",
        "          0.00000000e+00,   0.00000000e+00,   0.00000000e+00,\n",
        "          0.00000000e+00,   0.00000000e+00,   0.00000000e+00,\n",
        "          0.00000000e+00,   0.00000000e+00,   0.00000000e+00,\n",
        "          0.00000000e+00,   0.00000000e+00,   0.00000000e+00,\n",
        "          1.00000000e+00]),\n",
        " array([ 0.48187819,  0.48705941,  0.49224063,  0.49742185,  0.50260307,\n",
        "         0.50778428,  0.5129655 ,  0.51814672,  0.52332794,  0.52850916,\n",
        "         0.53369037,  0.53887159,  0.54405281,  0.54923403,  0.55441525,\n",
        "         0.55959647,  0.56477768,  0.5699589 ,  0.57514012,  0.58032134,\n",
        "         0.58550256,  0.59068377,  0.59586499,  0.60104621,  0.60622743,\n",
        "         0.61140865,  0.61658986,  0.62177108,  0.6269523 ,  0.63213352,\n",
        "         0.63731474,  0.64249595,  0.64767717,  0.65285839,  0.65803961,\n",
        "         0.66322083,  0.66840204,  0.67358326,  0.67876448,  0.6839457 ,\n",
        "         0.68912692,  0.69430813,  0.69948935,  0.70467057,  0.70985179,\n",
        "         0.71503301,  0.72021422,  0.72539544,  0.73057666,  0.73575788,\n",
        "         0.7409391 ,  0.74612032,  0.75130153,  0.75648275,  0.76166397,\n",
        "         0.76684519,  0.77202641,  0.77720762,  0.78238884,  0.78757006,\n",
        "         0.79275128,  0.7979325 ,  0.80311371,  0.80829493,  0.81347615,\n",
        "         0.81865737,  0.82383859,  0.8290198 ,  0.83420102,  0.83938224,\n",
        "         0.84456346,  0.84974468,  0.85492589,  0.86010711,  0.86528833,\n",
        "         0.87046955,  0.87565077,  0.88083198,  0.8860132 ,  0.89119442,\n",
        "         0.89637564,  0.90155686,  0.90673807,  0.91191929,  0.91710051,\n",
        "         0.92228173,  0.92746295,  0.93264417,  0.93782538,  0.9430066 ,\n",
        "         0.94818782,  0.95336904,  0.95855026,  0.96373147,  0.96891269,\n",
        "         0.97409391,  0.97927513,  0.98445635,  0.98963756,  0.99481878,  1.        ]),\n",
        " <a list of 100 Patch objects>)"
       ]
      },
      {
       "metadata": {},
       "output_type": "display_data",
       "png": "[encoded data removed]",
       "text": [
        "<matplotlib.figure.Figure at 0x7fabae3e9710>"
       ]
      }
     ],
     "prompt_number": 71
    },
    {
     "cell_type": "code",
     "collapsed": true,
     "input": [
      "cosine_threshold = 0.87\n",
      "euclidean_threshold = 4\n",
      "\n",
      "'''\n",
      "for i in xrange(len(euclidean_results)):\n",
      "    if euclidean_results[i] < euclidean_threshold:\n",
      "        print euclidean_results[i]\n",
      "        print sorted_vecor[i][0], sorted_vecor[i][1]['title_string']\n",
      "'''\n",
      "print '\\n \\n'\n",
      "\n",
      "#'''        \n",
      "for i in xrange(len(cosine_results)):\n",
      "    if sorted_titles[i].cosine_similarity > cosine_threshold:\n",
      "        print sorted_titles[i].cosine_similarity\n",
      "        print sorted_titles[i].url\n",
      "        print sorted_titles[i].title\n",
      "#'''"
     ],
     "language": "python",
     "metadata": {},
     "outputs": [
      {
       "output_type": "stream",
       "stream": "stdout",
       "text": [
        "\n",
        " \n",
        "\n",
        "1.0\n",
        "http://www.huffingtonpost.com/katie-hurley/theres-nothing-selfish-about-suicide_b_5672519.html\n",
        "selfish suicide\n",
        "0.87517425396\n",
        "http://www.huffingtonpost.com/brynn-tannehill/the-truth-about-transgend_b_8564834.html\n",
        "truth transgender suicide\n",
        "0.873130911973\n",
        "http://www.nola.com/traffic/index.ssf/2017/07/metairie_motorcyclist_killed_i.html#incart_river_home_pop\n",
        "metairie motorcyclist kill crash\n",
        "0.872771205857\n",
        "http://www.nj.com/politics/index.ssf/2017/07/trump_to_bar_transgender_individuals_from_military.html#incart_river_home\n",
        "trump ban transgender individual military\n",
        "0.871189526298\n",
        "https://www.usatoday.com/story/life/tv/columnist/criticscorner/2017/07/23/tv-tonight-ballers-insecure-phelps-vs-shark/480345001/\n",
        "tv tonight baller insecure phelp vs shark\n",
        "0.872136634817\n",
        "http://www.msn.com/en-us/lifestyle/horoscope/scorpio-your-love-horoscope-july-24/ar-BBCTmv9\n",
        "scorpio love horoscope july\n",
        "0.872453064884\n",
        "http://www.huffingtonpost.com/Alicia-cook/what-you-learn-from-lovin_b_8112240.html\n",
        "learn love addict\n",
        "0.870740480699\n",
        "http://www.msn.com/en-us/lifestyle/whats-hot/pisces-your-love-horoscope-july-24/ar-BBCTmw9\n",
        "pisce love horoscope july\n",
        "0.872136634817\n",
        "http://www.msn.com/en-us/lifestyle/horoscope/scorpio-your-love-horoscope-july-26/ar-BBCTmv9\n",
        "scorpio love horoscope july\n",
        "0.872136634817\n",
        "http://www.msn.com/en-us/lifestyle/horoscope/scorpio-your-love-horoscope-july-19/ar-BBCTmv9\n",
        "scorpio love horoscope july\n",
        "0.872136634817\n",
        "http://www.msn.com/en-us/lifestyle/horoscope/scorpio-your-love-horoscope-july-25/ar-BBCTmv9\n",
        "scorpio love horoscope july\n",
        "0.872136634817\n",
        "http://www.msn.com/en-us/lifestyle/horoscope/scorpio-your-love-horoscope-july-20/ar-BBCTmv9\n",
        "scorpio love horoscope july\n",
        "0.870740480699\n",
        "http://www.msn.com/en-us/lifestyle/whats-hot/pisces-your-love-horoscope-july-26/ar-BBCTmw9\n",
        "pisce love horoscope july\n",
        "0.870740480699\n",
        "http://www.msn.com/en-us/lifestyle/whats-hot/pisces-your-love-horoscope-july-19/ar-BBCTmw9\n",
        "pisce love horoscope july\n",
        "0.870740480699\n",
        "http://www.msn.com/en-us/lifestyle/whats-hot/pisces-your-love-horoscope-july-25/ar-BBCTmw9\n",
        "pisce love horoscope july\n",
        "0.870076041331\n",
        "http://www.msn.com/en-us/lifestyle/horoscope/sagittarius-your-love-horoscope-july-24/ar-BBCToXT\n",
        "sagittarius love horoscope july\n",
        "0.870740480699\n",
        "http://www.msn.com/en-us/lifestyle/whats-hot/pisces-your-love-horoscope-july-20/ar-BBCTmw9\n",
        "pisce love horoscope july\n",
        "0.870076041331\n",
        "http://www.msn.com/en-us/lifestyle/horoscope/sagittarius-your-love-horoscope-july-19/ar-BBCToXT\n",
        "sagittarius love horoscope july\n",
        "0.870076041331\n",
        "http://www.msn.com/en-us/lifestyle/horoscope/sagittarius-your-love-horoscope-july-26/ar-BBCToXT\n",
        "sagittarius love horoscope july\n",
        "0.881393249433\n",
        "http://www.cbsnews.com/news/what-happened-after-the-foxconn-suicides/\n",
        "happen foxconn suicide\n",
        "0.870076041331\n",
        "http://www.msn.com/en-us/lifestyle/horoscope/sagittarius-your-love-horoscope-july-25/ar-BBCToXT\n",
        "sagittarius love horoscope july\n",
        "0.870076041331\n",
        "http://www.msn.com/en-us/lifestyle/horoscope/sagittarius-your-love-horoscope-july-20/ar-BBCToXT\n",
        "sagittarius love horoscope july\n",
        "0.873130911973\n",
        "http://www.nola.com/traffic/index.ssf/2017/07/metairie_motorcyclist_killed_i.html#incart_2box_nola_river_orleans_news\n",
        "metairie motorcyclist kill crash\n",
        "0.873130911973\n",
        "http://www.nola.com/traffic/index.ssf/2017/07/metairie_motorcyclist_killed_i.html#incart_most-read_\n",
        "metairie motorcyclist kill crash\n",
        "0.873130911973\n",
        "http://www.nola.com/traffic/index.ssf/2017/07/metairie_motorcyclist_killed_i.html\n",
        "metairie motorcyclist kill crash\n",
        "0.872136634817\n",
        "http://www.msn.com/en-us/lifestyle/horoscope/scorpio-your-love-horoscope-july-21/ar-BBCTmv9\n",
        "scorpio love horoscope july\n",
        "0.872830113409\n",
        "http://www.faithfamilyamerica.com/missing_nfl_player_found_dead_in_river\n",
        "miss nfl player find dead river\n",
        "0.872136634817\n",
        "http://www.msn.com/en-us/lifestyle/horoscope/scorpio-your-love-horoscope-july-23/ar-BBCTmv9\n",
        "scorpio love horoscope july\n",
        "0.870076041331\n",
        "http://www.msn.com/en-us/lifestyle/horoscope/sagittarius-your-love-horoscope-july-23/ar-BBCToXT\n",
        "sagittarius love horoscope july\n",
        "0.870740480699\n",
        "http://www.msn.com/en-us/lifestyle/whats-hot/pisces-your-love-horoscope-july-23/ar-BBCTmw9\n",
        "pisce love horoscope july\n",
        "0.872136634817\n",
        "https://www.msn.com/en-us/lifestyle/horoscope/scorpio-your-love-horoscope-july-24/ar-BBCTmv9\n",
        "scorpio love horoscope july\n",
        "0.871267925825\n",
        "http://www.cbsnews.com/news/husband-held-in-wifes-cruise-ship-murder/\n",
        "husband hold wife cruise ship murder\n",
        "0.870740480699\n",
        "http://www.msn.com/en-us/lifestyle/whats-hot/pisces-your-love-horoscope-july-21/ar-BBCTmw9\n",
        "pisce love horoscope july\n",
        "0.870740480699\n",
        "https://www.msn.com/en-us/lifestyle/whats-hot/pisces-your-love-horoscope-july-24/ar-BBCTmw9\n",
        "pisce love horoscope july\n",
        "0.872136634817\n",
        "https://www.msn.com/en-us/lifestyle/horoscope/scorpio-your-love-horoscope-july-26/ar-BBCTmv9\n",
        "scorpio love horoscope july\n",
        "0.870740480699\n",
        "https://www.msn.com/en-us/lifestyle/whats-hot/pisces-your-love-horoscope-july-26/ar-BBCTmw9\n",
        "pisce love horoscope july\n",
        "0.870076041331\n",
        "https://www.msn.com/en-us/lifestyle/horoscope/sagittarius-your-love-horoscope-july-26/ar-BBCToXT\n",
        "sagittarius love horoscope july\n",
        "0.872136634817\n",
        "https://www.msn.com/en-us/lifestyle/horoscope/scorpio-your-love-horoscope-july-19/ar-BBCTmv9\n",
        "scorpio love horoscope july\n",
        "0.872136634817\n",
        "https://www.msn.com/en-us/lifestyle/horoscope/scorpio-your-love-horoscope-july-25/ar-BBCTmv9\n",
        "scorpio love horoscope july\n",
        "0.870740480699\n",
        "https://www.msn.com/en-us/lifestyle/whats-hot/pisces-your-love-horoscope-july-25/ar-BBCTmw9\n",
        "pisce love horoscope july\n",
        "0.870740480699\n",
        "https://www.msn.com/en-us/lifestyle/whats-hot/pisces-your-love-horoscope-july-20/ar-BBCTmw9\n",
        "pisce love horoscope july\n",
        "0.870076041331\n",
        "https://www.msn.com/en-us/lifestyle/horoscope/sagittarius-your-love-horoscope-july-25/ar-BBCToXT\n",
        "sagittarius love horoscope july\n",
        "0.870076041331\n",
        "https://www.msn.com/en-us/lifestyle/horoscope/sagittarius-your-love-horoscope-july-24/ar-BBCToXT\n",
        "sagittarius love horoscope july\n",
        "0.870076041331\n",
        "https://www.msn.com/en-us/lifestyle/horoscope/sagittarius-your-love-horoscope-july-19/ar-BBCToXT\n",
        "sagittarius love horoscope july\n",
        "0.870740480699\n",
        "https://www.msn.com/en-us/lifestyle/whats-hot/pisces-your-love-horoscope-july-19/ar-BBCTmw9\n",
        "pisce love horoscope july\n",
        "0.873130911973\n",
        "http://www.nola.com/traffic/index.ssf/2017/07/metairie_motorcyclist_killed_i.html#incart_river_home\n",
        "metairie motorcyclist kill crash\n",
        "0.872136634817\n",
        "https://www.msn.com/en-us/lifestyle/horoscope/scorpio-your-love-horoscope-july-23/ar-BBCTmv9\n",
        "scorpio love horoscope july\n",
        "0.870076041331\n",
        "https://www.msn.com/en-us/lifestyle/horoscope/sagittarius-your-love-horoscope-july-23/ar-BBCToXT\n",
        "sagittarius love horoscope july\n",
        "0.870740480699\n",
        "https://www.msn.com/en-us/lifestyle/whats-hot/pisces-your-love-horoscope-july-23/ar-BBCTmw9\n",
        "pisce love horoscope july\n",
        "0.870076041331\n",
        "https://www.msn.com/en-us/lifestyle/horoscope/sagittarius-your-love-horoscope-july-20/ar-BBCToXT\n",
        "sagittarius love horoscope july\n",
        "0.872136634817\n",
        "https://www.msn.com/en-us/lifestyle/horoscope/scorpio-your-love-horoscope-july-20/ar-BBCTmv9\n",
        "scorpio love horoscope july\n",
        "0.872136634817\n",
        "http://www.msn.com/en-us/lifestyle/horoscope/scorpio-your-love-horoscope-july-18/ar-BBCTmv9\n",
        "scorpio love horoscope july\n",
        "0.870076041331\n",
        "http://www.msn.com/en-us/lifestyle/horoscope/sagittarius-your-love-horoscope-july-21/ar-BBCToXT\n",
        "sagittarius love horoscope july\n",
        "0.870740480699\n",
        "http://www.msn.com/en-us/lifestyle/whats-hot/pisces-your-love-horoscope-july-18/ar-BBCTmw9\n",
        "pisce love horoscope july\n",
        "0.870076041331\n",
        "http://www.msn.com/en-us/lifestyle/horoscope/sagittarius-your-love-horoscope-july-18/ar-BBCToXT\n",
        "sagittarius love horoscope july\n",
        "0.873950208246\n",
        "http://www.huffingtonpost.com/entry/welcome-to-the-psych-emergency-room_us_582c0878e4b0cfd1bce1a034\n",
        "welcome psych emergency room\n",
        "0.872136634817\n",
        "https://www.msn.com/en-us/lifestyle/horoscope/scorpio-your-love-horoscope-july-18/ar-BBCTmv9\n",
        "scorpio love horoscope july\n",
        "0.879211160791\n",
        "http://articles.latimes.com/2005/feb/26/nation/na-thompson26\n",
        "thompson wife forgive suicide\n",
        "0.8842047098\n",
        "http://articles.latimes.com/1988-07-28/local/me-9912_1_apparent-murder-suicide\n",
        "dead apparent murder suicide\n"
       ]
      }
     ],
     "prompt_number": 75
    },
    {
     "cell_type": "code",
     "collapsed": true,
     "input": [],
     "language": "python",
     "metadata": {},
     "outputs": [],
     "prompt_number": 24
    },
    {
     "cell_type": "code",
     "collapsed": false,
     "input": [
      "processed_titles[2].title"
     ],
     "language": "python",
     "metadata": {},
     "outputs": [],
     "prompt_number": null
    },
    {
     "cell_type": "code",
     "collapsed": true,
     "input": [],
     "language": "python",
     "metadata": {},
     "outputs": [],
     "prompt_number": null
    },
    {
     "cell_type": "code",
     "collapsed": true,
     "input": [],
     "language": "python",
     "metadata": {},
     "outputs": [],
     "prompt_number": null
    },
    {
     "cell_type": "code",
     "collapsed": false,
     "input": [],
     "language": "python",
     "metadata": {},
     "outputs": [],
     "prompt_number": null
    },
    {
     "cell_type": "code",
     "collapsed": false,
     "input": [
      "word2vec_model"
     ],
     "language": "python",
     "metadata": {},
     "outputs": [],
     "prompt_number": null
    },
    {
     "cell_type": "code",
     "collapsed": false,
     "input": [],
     "language": "python",
     "metadata": {},
     "outputs": [],
     "prompt_number": null
    },
    {
     "cell_type": "code",
     "collapsed": false,
     "input": [],
     "language": "python",
     "metadata": {},
     "outputs": [],
     "prompt_number": null
    },
    {
     "cell_type": "code",
     "collapsed": true,
     "input": [],
     "language": "python",
     "metadata": {},
     "outputs": [],
     "prompt_number": null
    },
    {
     "cell_type": "code",
     "collapsed": true,
     "input": [],
     "language": "python",
     "metadata": {},
     "outputs": [],
     "prompt_number": null
    },
    {
     "cell_type": "code",
     "collapsed": false,
     "input": [
      "titles_pickle_file = 'lemmanized_no_stop_words_processed_titles.pkl'\n",
      "pickle_file_path = os.path.join(os.path.expanduser(\"~\"), titles_pickle_file)\n",
      "\n",
      "with open(pickle_file_path, 'rb') as input_stream:\n",
      "    data = pickle.load(input_stream)\n",
      "\n",
      "print data.keys()\n",
      "titles = data['titles']\n",
      "reverse_token_dict = data['reverse_token_dict']\n",
      "title_urls = data['url']\n",
      "title_pageViews = data['pageViw']"
     ],
     "language": "python",
     "metadata": {},
     "outputs": [],
     "prompt_number": null
    },
    {
     "cell_type": "code",
     "collapsed": false,
     "input": [
      "print len(titles)"
     ],
     "language": "python",
     "metadata": {},
     "outputs": [],
     "prompt_number": null
    },
    {
     "cell_type": "code",
     "collapsed": false,
     "input": [
      "titles[:5]"
     ],
     "language": "python",
     "metadata": {},
     "outputs": [],
     "prompt_number": null
    },
    {
     "cell_type": "heading",
     "level": 4,
     "metadata": {},
     "source": [
      "work on the scrambled data"
     ]
    },
    {
     "cell_type": "code",
     "collapsed": false,
     "input": [
      "titles_pickle_file = 'lemmanized_no_stop_words_scrambled_titles.pkl'\n",
      "pickle_file_path = os.path.join(os.path.expanduser(\"~\"), titles_pickle_file)\n",
      "\n",
      "with open(pickle_file_path, 'rb') as input_stream:\n",
      "    tmp_data = pickle.load(input_stream)\n"
     ],
     "language": "python",
     "metadata": {},
     "outputs": [],
     "prompt_number": null
    },
    {
     "cell_type": "code",
     "collapsed": false,
     "input": [
      "\n"
     ],
     "language": "python",
     "metadata": {},
     "outputs": [],
     "prompt_number": null
    },
    {
     "cell_type": "code",
     "collapsed": false,
     "input": [],
     "language": "python",
     "metadata": {},
     "outputs": [],
     "prompt_number": null
    },
    {
     "cell_type": "code",
     "collapsed": false,
     "input": [],
     "language": "python",
     "metadata": {},
     "outputs": [],
     "prompt_number": null
    },
    {
     "cell_type": "code",
     "collapsed": false,
     "input": [
      "content_dict.keys()"
     ],
     "language": "python",
     "metadata": {},
     "outputs": [],
     "prompt_number": null
    },
    {
     "cell_type": "code",
     "collapsed": false,
     "input": [],
     "language": "python",
     "metadata": {},
     "outputs": [],
     "prompt_number": null
    },
    {
     "cell_type": "code",
     "collapsed": false,
     "input": [
      "    \n",
      "    \n",
      "    "
     ],
     "language": "python",
     "metadata": {},
     "outputs": [],
     "prompt_number": null
    },
    {
     "cell_type": "code",
     "collapsed": false,
     "input": [],
     "language": "python",
     "metadata": {},
     "outputs": [],
     "prompt_number": null
    },
    {
     "cell_type": "code",
     "collapsed": false,
     "input": [
      "print tmp_data.keys()"
     ],
     "language": "python",
     "metadata": {},
     "outputs": [],
     "prompt_number": null
    },
    {
     "cell_type": "code",
     "collapsed": false,
     "input": [
      "print len(tmp_data['target_titles'])"
     ],
     "language": "python",
     "metadata": {},
     "outputs": [],
     "prompt_number": null
    },
    {
     "cell_type": "code",
     "collapsed": false,
     "input": [
      "tmp_data['target_titles'][:5]"
     ],
     "language": "python",
     "metadata": {},
     "outputs": [],
     "prompt_number": null
    },
    {
     "cell_type": "code",
     "collapsed": false,
     "input": [],
     "language": "python",
     "metadata": {},
     "outputs": [],
     "prompt_number": null
    }
   ],
   "metadata": {}
  }
 ]
}