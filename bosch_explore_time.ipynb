{
 "cells": [
  {
   "cell_type": "code",
   "execution_count": 1,
   "metadata": {
    "collapsed": true
   },
   "outputs": [],
   "source": [
    "%matplotlib inline\n",
    "import os, sys\n",
    "import pandas as pd\n",
    "import numpy as np\n",
    "import seaborn as sb\n",
    "from sklearn.preprocessing import LabelEncoder\n",
    "from scipy.sparse import csr_matrix, hstack\n",
    "\n",
    "\n",
    "import matplotlib.pyplot as plt"
   ]
  },
  {
   "cell_type": "code",
   "execution_count": 2,
   "metadata": {
    "collapsed": true
   },
   "outputs": [],
   "source": [
    "data_path = '/home/ymm/bosch/'\n",
    "\n",
    "train_num_file   = 'train_numeric.csv'\n",
    "train_cat_file   = 'train_categorical.csv'\n",
    "train_date_file  = 'train_date.csv'\n",
    "test_num_file    = 'test_numeric.csv'\n",
    "test_cat_file    = 'train_categorical.csv'\n",
    "test_date_file   = 'train_date.csv'\n",
    "\n",
    "sample_submission_file   = 'sample_submission.csv'"
   ]
  },
  {
   "cell_type": "code",
   "execution_count": 3,
   "metadata": {
    "collapsed": false,
    "scrolled": true
   },
   "outputs": [
    {
     "name": "stderr",
     "output_type": "stream",
     "text": [
      "/mnt/home/ymm/.virtualenvs/kaggle/local/lib/python2.7/site-packages/IPython/core/interactiveshell.py:2705: DtypeWarning: Columns (57,59,60,62,63,65,66,68,69,71,72,74,75,77,78,80,81,83,84,86,87,89,90,92,93,95,96,97,98,99,100,101,102,103,104,105,106,107,108,109,110,111,112,113,114,115,116,117,118,119,120,121,122,123,124,125,126,127,128,129,130,131,132,133,134,204,206,210,212,216,218,249,250,251,252,253,254,255,256,257,258,259,260,261,262,263,264,265,266,267,268,269,270,271,272,273,274,275,276,277,278,279,280,281,282,283,284,285,286,287,288,289,290,291,292,293,335,406,407,408,409,410,411,412,413,414,415,416,417,418,419,420,421,422,423,424,425,426,427,428,429,430,431,432,433,434,435,436,437,438,439,440,441,442,443,444,445,446,447,448,449,450,451,452,453,454,455,456,457,458,459,460,461,462,464,467,470,473,476,479,482,485,488,491,494,497,500,503,506,509,512,515,518,611,614,617,620,623,626,629,632,635,638,641,644,647,650,653,656,659,662,665,668,671,674,677,680,683,686,689,692,695,698,701,704,707,710,713,716,719,722,1005,1007,1008,1010,1011,1013,1014,1016,1017,1019,1020,1022,1023,1025,1026,1028,1029,1031,1032,1034,1035,1037,1038,1040,1041,1043,1044,1046,1047,1049,1050,1052,1126,1129,1132,1135,1138,1141,1144,1147,1183,1185,1188,1191,1194,1197,1200,1203,1206,1209,1212,1215,1218,1221,1224,1227,1230,1233,1236,1239,1242,1245,1248,1251,1254,1257,1260,1263,1266,1269,1272,1275,1278,1288,1298,1300,1303,1306,1309,1312,1315,1318,1321,1324,1327,1330,1333,1336,1339,1342,1345,1348,1351,1354,1357,1360,1363,1366,1369,1372,1375,1378,1381,1384,1387,1390,1393,1419,1420,1421,1422,1423,1424,1425,1426,1427,1428,1429,1431,1434,1437,1440,1443,1446,1449,1452,1455,1458,1461,1464,1467,1470,1473,1476,1479,1482,1485,1488,1491,1494,1497,1500,1503,1506,1509,1512,1515,1518,1521,1524,1527,1530,1533,1536,1539,1542,1545,1548,1550,1657,1659,1661,1663,1665,1667,1669,1671,1673,1675,1677,1679,1681,1683,1685,1687,1689,1691,1693,1694,1696,1698,1700,1702,1704,1706,1708,1985,1987,2052,2054,2055,2057,2058,2060,2061,2063,2064,2066,2067,2069,2070,2072,2073,2075,2076,2077,2078,2079,2080,2081,2082,2083) have mixed types. Specify dtype option on import or set low_memory=False.\n",
      "  interactivity=interactivity, compiler=compiler, result=result)\n"
     ]
    }
   ],
   "source": [
    "row_num = 5000\n",
    "train_date = pd.read_csv(data_path + train_date_file, nrows=row_num, index_col='Id')\n",
    "train_num = pd.read_csv(data_path + train_num_file, nrows=row_num, index_col='Id')\n",
    "train_cat = pd.read_csv(data_path + train_cat_file, nrows=row_num, index_col='Id')\n",
    "train_label = train_num['Response'].values\n",
    "train_num.drop('Response', axis=1, inplace=True)"
   ]
  },
  {
   "cell_type": "code",
   "execution_count": 5,
   "metadata": {
    "collapsed": false
   },
   "outputs": [
    {
     "data": {
      "text/html": [
       "<div>\n",
       "<table border=\"1\" class=\"dataframe\">\n",
       "  <thead>\n",
       "    <tr style=\"text-align: right;\">\n",
       "      <th></th>\n",
       "      <th>L0_S0_D1</th>\n",
       "      <th>L0_S0_D3</th>\n",
       "      <th>L0_S0_D5</th>\n",
       "      <th>L0_S0_D7</th>\n",
       "      <th>L0_S0_D9</th>\n",
       "      <th>L0_S0_D11</th>\n",
       "      <th>L0_S0_D13</th>\n",
       "      <th>L0_S0_D15</th>\n",
       "      <th>L0_S0_D17</th>\n",
       "      <th>L0_S0_D19</th>\n",
       "      <th>...</th>\n",
       "      <th>L3_S50_D4246</th>\n",
       "      <th>L3_S50_D4248</th>\n",
       "      <th>L3_S50_D4250</th>\n",
       "      <th>L3_S50_D4252</th>\n",
       "      <th>L3_S50_D4254</th>\n",
       "      <th>L3_S51_D4255</th>\n",
       "      <th>L3_S51_D4257</th>\n",
       "      <th>L3_S51_D4259</th>\n",
       "      <th>L3_S51_D4261</th>\n",
       "      <th>L3_S51_D4263</th>\n",
       "    </tr>\n",
       "    <tr>\n",
       "      <th>Id</th>\n",
       "      <th></th>\n",
       "      <th></th>\n",
       "      <th></th>\n",
       "      <th></th>\n",
       "      <th></th>\n",
       "      <th></th>\n",
       "      <th></th>\n",
       "      <th></th>\n",
       "      <th></th>\n",
       "      <th></th>\n",
       "      <th></th>\n",
       "      <th></th>\n",
       "      <th></th>\n",
       "      <th></th>\n",
       "      <th></th>\n",
       "      <th></th>\n",
       "      <th></th>\n",
       "      <th></th>\n",
       "      <th></th>\n",
       "      <th></th>\n",
       "      <th></th>\n",
       "    </tr>\n",
       "  </thead>\n",
       "  <tbody>\n",
       "    <tr>\n",
       "      <th>4</th>\n",
       "      <td>82.24</td>\n",
       "      <td>82.24</td>\n",
       "      <td>82.24</td>\n",
       "      <td>82.24</td>\n",
       "      <td>82.24</td>\n",
       "      <td>82.24</td>\n",
       "      <td>82.24</td>\n",
       "      <td>82.24</td>\n",
       "      <td>82.24</td>\n",
       "      <td>82.24</td>\n",
       "      <td>...</td>\n",
       "      <td>NaN</td>\n",
       "      <td>NaN</td>\n",
       "      <td>NaN</td>\n",
       "      <td>NaN</td>\n",
       "      <td>NaN</td>\n",
       "      <td>NaN</td>\n",
       "      <td>NaN</td>\n",
       "      <td>NaN</td>\n",
       "      <td>NaN</td>\n",
       "      <td>NaN</td>\n",
       "    </tr>\n",
       "    <tr>\n",
       "      <th>6</th>\n",
       "      <td>NaN</td>\n",
       "      <td>NaN</td>\n",
       "      <td>NaN</td>\n",
       "      <td>NaN</td>\n",
       "      <td>NaN</td>\n",
       "      <td>NaN</td>\n",
       "      <td>NaN</td>\n",
       "      <td>NaN</td>\n",
       "      <td>NaN</td>\n",
       "      <td>NaN</td>\n",
       "      <td>...</td>\n",
       "      <td>NaN</td>\n",
       "      <td>NaN</td>\n",
       "      <td>NaN</td>\n",
       "      <td>NaN</td>\n",
       "      <td>NaN</td>\n",
       "      <td>NaN</td>\n",
       "      <td>NaN</td>\n",
       "      <td>NaN</td>\n",
       "      <td>NaN</td>\n",
       "      <td>NaN</td>\n",
       "    </tr>\n",
       "    <tr>\n",
       "      <th>7</th>\n",
       "      <td>1618.70</td>\n",
       "      <td>1618.70</td>\n",
       "      <td>1618.70</td>\n",
       "      <td>1618.70</td>\n",
       "      <td>1618.70</td>\n",
       "      <td>1618.70</td>\n",
       "      <td>1618.70</td>\n",
       "      <td>1618.70</td>\n",
       "      <td>1618.70</td>\n",
       "      <td>1618.70</td>\n",
       "      <td>...</td>\n",
       "      <td>NaN</td>\n",
       "      <td>NaN</td>\n",
       "      <td>NaN</td>\n",
       "      <td>NaN</td>\n",
       "      <td>NaN</td>\n",
       "      <td>NaN</td>\n",
       "      <td>NaN</td>\n",
       "      <td>NaN</td>\n",
       "      <td>NaN</td>\n",
       "      <td>NaN</td>\n",
       "    </tr>\n",
       "    <tr>\n",
       "      <th>9</th>\n",
       "      <td>1149.20</td>\n",
       "      <td>1149.20</td>\n",
       "      <td>1149.20</td>\n",
       "      <td>1149.20</td>\n",
       "      <td>1149.20</td>\n",
       "      <td>1149.20</td>\n",
       "      <td>1149.20</td>\n",
       "      <td>1149.20</td>\n",
       "      <td>1149.20</td>\n",
       "      <td>1149.20</td>\n",
       "      <td>...</td>\n",
       "      <td>NaN</td>\n",
       "      <td>NaN</td>\n",
       "      <td>NaN</td>\n",
       "      <td>NaN</td>\n",
       "      <td>NaN</td>\n",
       "      <td>NaN</td>\n",
       "      <td>NaN</td>\n",
       "      <td>NaN</td>\n",
       "      <td>NaN</td>\n",
       "      <td>NaN</td>\n",
       "    </tr>\n",
       "    <tr>\n",
       "      <th>11</th>\n",
       "      <td>602.64</td>\n",
       "      <td>602.64</td>\n",
       "      <td>602.64</td>\n",
       "      <td>602.64</td>\n",
       "      <td>602.64</td>\n",
       "      <td>602.64</td>\n",
       "      <td>602.64</td>\n",
       "      <td>602.64</td>\n",
       "      <td>602.64</td>\n",
       "      <td>602.64</td>\n",
       "      <td>...</td>\n",
       "      <td>NaN</td>\n",
       "      <td>NaN</td>\n",
       "      <td>NaN</td>\n",
       "      <td>NaN</td>\n",
       "      <td>NaN</td>\n",
       "      <td>NaN</td>\n",
       "      <td>NaN</td>\n",
       "      <td>NaN</td>\n",
       "      <td>NaN</td>\n",
       "      <td>NaN</td>\n",
       "    </tr>\n",
       "  </tbody>\n",
       "</table>\n",
       "<p>5 rows × 1156 columns</p>\n",
       "</div>"
      ],
      "text/plain": [
       "    L0_S0_D1  L0_S0_D3  L0_S0_D5  L0_S0_D7  L0_S0_D9  L0_S0_D11  L0_S0_D13  \\\n",
       "Id                                                                           \n",
       "4      82.24     82.24     82.24     82.24     82.24      82.24      82.24   \n",
       "6        NaN       NaN       NaN       NaN       NaN        NaN        NaN   \n",
       "7    1618.70   1618.70   1618.70   1618.70   1618.70    1618.70    1618.70   \n",
       "9    1149.20   1149.20   1149.20   1149.20   1149.20    1149.20    1149.20   \n",
       "11    602.64    602.64    602.64    602.64    602.64     602.64     602.64   \n",
       "\n",
       "    L0_S0_D15  L0_S0_D17  L0_S0_D19      ...       L3_S50_D4246  L3_S50_D4248  \\\n",
       "Id                                       ...                                    \n",
       "4       82.24      82.24      82.24      ...                NaN           NaN   \n",
       "6         NaN        NaN        NaN      ...                NaN           NaN   \n",
       "7     1618.70    1618.70    1618.70      ...                NaN           NaN   \n",
       "9     1149.20    1149.20    1149.20      ...                NaN           NaN   \n",
       "11     602.64     602.64     602.64      ...                NaN           NaN   \n",
       "\n",
       "    L3_S50_D4250  L3_S50_D4252  L3_S50_D4254  L3_S51_D4255  L3_S51_D4257  \\\n",
       "Id                                                                         \n",
       "4            NaN           NaN           NaN           NaN           NaN   \n",
       "6            NaN           NaN           NaN           NaN           NaN   \n",
       "7            NaN           NaN           NaN           NaN           NaN   \n",
       "9            NaN           NaN           NaN           NaN           NaN   \n",
       "11           NaN           NaN           NaN           NaN           NaN   \n",
       "\n",
       "    L3_S51_D4259  L3_S51_D4261  L3_S51_D4263  \n",
       "Id                                            \n",
       "4            NaN           NaN           NaN  \n",
       "6            NaN           NaN           NaN  \n",
       "7            NaN           NaN           NaN  \n",
       "9            NaN           NaN           NaN  \n",
       "11           NaN           NaN           NaN  \n",
       "\n",
       "[5 rows x 1156 columns]"
      ]
     },
     "execution_count": 5,
     "metadata": {},
     "output_type": "execute_result"
    }
   ],
   "source": [
    "train_date.head()"
   ]
  },
  {
   "cell_type": "code",
   "execution_count": 4,
   "metadata": {
    "collapsed": true
   },
   "outputs": [],
   "source": [
    "## full-scale train labels\n",
    "train_labels = pd.read_csv(data_path + train_num_file, index_col='Id', usecols=['Id', 'Response'])"
   ]
  },
  {
   "cell_type": "code",
   "execution_count": 80,
   "metadata": {
    "collapsed": false
   },
   "outputs": [
    {
     "name": "stdout",
     "output_type": "stream",
     "text": [
      "\n"
     ]
    }
   ],
   "source": [
    "train_date_start_columm = pd.read_csv(data_path + train_date_file, index_col='Id', usecols=['Id', 'L0_S0_D1'])\n",
    "test_date_start_columm = pd.read_csv(data_path + test_date_file, index_col='Id', usecols=['Id', 'L0_S0_D1'])"
   ]
  },
  {
   "cell_type": "code",
   "execution_count": 81,
   "metadata": {
    "collapsed": false,
    "scrolled": true
   },
   "outputs": [
    {
     "name": "stdout",
     "output_type": "stream",
     "text": [
      "(1183747, 1) (1183747, 1) (1183747, 1)\n"
     ]
    }
   ],
   "source": [
    "print train_labels.shape, train_date_start_columm.shape, test_date_start_columm.shape"
   ]
  },
  {
   "cell_type": "code",
   "execution_count": 95,
   "metadata": {
    "collapsed": false
   },
   "outputs": [
    {
     "name": "stdout",
     "output_type": "stream",
     "text": [
      "509885 509885\n"
     ]
    }
   ],
   "source": [
    "print sum(test_date_start_columm.L0_S0_D1.isnull()), sum(train_date_start_columm.L0_S0_D1.isnull())"
   ]
  },
  {
   "cell_type": "code",
   "execution_count": 83,
   "metadata": {
    "collapsed": false
   },
   "outputs": [
    {
     "data": {
      "text/plain": [
       "([array([ 54468.,  94514.,  30160.,  99076.,  31522.,  81201.,  49195.,\n",
       "          62930.,  98216.,  72580.]),\n",
       "  array([ 54468.,  94514.,  30160.,  99076.,  31522.,  81201.,  49195.,\n",
       "          62930.,  98216.,  72580.])],\n",
       " array([    0.   ,   171.371,   342.742,   514.113,   685.484,   856.855,\n",
       "         1028.226,  1199.597,  1370.968,  1542.339,  1713.71 ]),\n",
       " <a list of 2 Lists of Patches objects>)"
      ]
     },
     "execution_count": 83,
     "metadata": {},
     "output_type": "execute_result"
    },
    {
     "data": {
      "image/png": "[encoded data removed]",
      "text/plain": [
       "<matplotlib.figure.Figure at 0x7f618e88fdd0>"
      ]
     },
     "metadata": {},
     "output_type": "display_data"
    }
   ],
   "source": [
    "## show the time/date distribution for train/test\n",
    "start_time_column_name = 'L0_S0_D1'\n",
    "train_start_time = train_date_start_columm[start_time_column_name].dropna()\n",
    "test_start_time = test_date_start_columm[start_time_column_name].dropna()\n",
    "plt.hist([train_start_time, test_start_time], color=['r','b'], alpha=0.5)"
   ]
  },
  {
   "cell_type": "code",
   "execution_count": 86,
   "metadata": {
    "collapsed": false
   },
   "outputs": [],
   "source": [
    "labeled_start_time = pd.merge(train_labels, train_date_start_columm, how='left', left_index=True, right_index=True)"
   ]
  },
  {
   "cell_type": "code",
   "execution_count": 89,
   "metadata": {
    "collapsed": false
   },
   "outputs": [],
   "source": [
    "missing_df = labeled_start_time[labeled_start_time[start_time_column_name].isnull()]"
   ]
  },
  {
   "cell_type": "code",
   "execution_count": 91,
   "metadata": {
    "collapsed": false
   },
   "outputs": [
    {
     "data": {
      "text/plain": [
       "0.0064151720485991943"
      ]
     },
     "execution_count": 91,
     "metadata": {},
     "output_type": "execute_result"
    }
   ],
   "source": [
    "missing_df.Response.mean()"
   ]
  },
  {
   "cell_type": "code",
   "execution_count": 26,
   "metadata": {
    "collapsed": true
   },
   "outputs": [],
   "source": [
    "tmp1 = labeled_start_time.loc[labeled_start_time.Response==0, 'L0_S0_D1'].dropna()\n",
    "tmp2 = labeled_start_time.loc[labeled_start_time.Response==1, 'L0_S0_D1'].dropna()"
   ]
  },
  {
   "cell_type": "code",
   "execution_count": 28,
   "metadata": {
    "collapsed": false
   },
   "outputs": [
    {
     "data": {
      "text/plain": [
       "(array([ 16316.,  10051.,   9756.,   7509.,  10676.,  19198.,  14780.,\n",
       "         31151.,  10135.,  18568.,  18286.,   4678.,      0.,      0.,\n",
       "          6912.,  17141.,  29266.,  19110.,  19731.,  13218.,  10576.,\n",
       "             0.,      0.,   4468.,  16188.,   9690.,  31678.,  21925.,\n",
       "         17314.,      0.,      0.,   7715.,  19274.,  20487.,   1604.,\n",
       "         17988.,  15573.,   7181.,   6834.,  15147.,  26010.,  23735.,\n",
       "         20526.,  10148.,  17375.,  15880.,  14715.,  18657.,  16742.,\n",
       "          6342.]),\n",
       " array([    0.    ,    34.2742,    68.5484,   102.8226,   137.0968,\n",
       "          171.371 ,   205.6452,   239.9194,   274.1936,   308.4678,\n",
       "          342.742 ,   377.0162,   411.2904,   445.5646,   479.8388,\n",
       "          514.113 ,   548.3872,   582.6614,   616.9356,   651.2098,\n",
       "          685.484 ,   719.7582,   754.0324,   788.3066,   822.5808,\n",
       "          856.855 ,   891.1292,   925.4034,   959.6776,   993.9518,\n",
       "         1028.226 ,  1062.5002,  1096.7744,  1131.0486,  1165.3228,\n",
       "         1199.597 ,  1233.8712,  1268.1454,  1302.4196,  1336.6938,\n",
       "         1370.968 ,  1405.2422,  1439.5164,  1473.7906,  1508.0648,\n",
       "         1542.339 ,  1576.6132,  1610.8874,  1645.1616,  1679.4358,  1713.71  ]),\n",
       " <a list of 50 Patch objects>)"
      ]
     },
     "execution_count": 28,
     "metadata": {},
     "output_type": "execute_result"
    },
    {
     "data": {
      "image/png": "[encoded data removed]",
      "text/plain": [
       "<matplotlib.figure.Figure at 0x7f618eee7350>"
      ]
     },
     "metadata": {},
     "output_type": "display_data"
    }
   ],
   "source": [
    "plt.hist(tmp1, bins=50)"
   ]
  },
  {
   "cell_type": "code",
   "execution_count": 29,
   "metadata": {
    "collapsed": false,
    "scrolled": true
   },
   "outputs": [
    {
     "data": {
      "text/plain": [
       "(array([  52.,   24.,   33.,   15.,   36.,  177.,  101.,  182.,   64.,\n",
       "         158.,  218.,   25.,    0.,    0.,   41.,  106.,  149.,  124.,\n",
       "         127.,  104.,   76.,    0.,    0.,   34.,  180.,  120.,  260.,\n",
       "         133.,   81.,    0.,    0.,    5.,   53.,   53.,    4.,   55.,\n",
       "          38.,   43.,   25.,   46.,  147.,   56.,   42.,   71.,   95.,\n",
       "          43.,   73.,   55.,   65.,   19.]),\n",
       " array([  1.46000000e+02,   6.98320000e+03,   1.38204000e+04,\n",
       "          2.06576000e+04,   2.74948000e+04,   3.43320000e+04,\n",
       "          4.11692000e+04,   4.80064000e+04,   5.48436000e+04,\n",
       "          6.16808000e+04,   6.85180000e+04,   7.53552000e+04,\n",
       "          8.21924000e+04,   8.90296000e+04,   9.58668000e+04,\n",
       "          1.02704000e+05,   1.09541200e+05,   1.16378400e+05,\n",
       "          1.23215600e+05,   1.30052800e+05,   1.36890000e+05,\n",
       "          1.43727200e+05,   1.50564400e+05,   1.57401600e+05,\n",
       "          1.64238800e+05,   1.71076000e+05,   1.77913200e+05,\n",
       "          1.84750400e+05,   1.91587600e+05,   1.98424800e+05,\n",
       "          2.05262000e+05,   2.12099200e+05,   2.18936400e+05,\n",
       "          2.25773600e+05,   2.32610800e+05,   2.39448000e+05,\n",
       "          2.46285200e+05,   2.53122400e+05,   2.59959600e+05,\n",
       "          2.66796800e+05,   2.73634000e+05,   2.80471200e+05,\n",
       "          2.87308400e+05,   2.94145600e+05,   3.00982800e+05,\n",
       "          3.07820000e+05,   3.14657200e+05,   3.21494400e+05,\n",
       "          3.28331600e+05,   3.35168800e+05,   3.42006000e+05]),\n",
       " <a list of 50 Patch objects>)"
      ]
     },
     "execution_count": 29,
     "metadata": {},
     "output_type": "execute_result"
    },
    {
     "data": {
      "image/png": "[encoded data removed]",
      "text/plain": [
       "<matplotlib.figure.Figure at 0x7f618ebc69d0>"
      ]
     },
     "metadata": {},
     "output_type": "display_data"
    }
   ],
   "source": [
    "#plt.hist([tmp1, tmp2], color=['r','b'], alpha=0.5)\n",
    "plt.hist(tmp2, bins=50)"
   ]
  },
  {
   "cell_type": "code",
   "execution_count": 45,
   "metadata": {
    "collapsed": false
   },
   "outputs": [],
   "source": [
    "labeled_start_time = labeled_start_time.dropna()"
   ]
  },
  {
   "cell_type": "code",
   "execution_count": 62,
   "metadata": {
    "collapsed": true
   },
   "outputs": [],
   "source": [
    "from scipy.stats.mstats import mquantiles\n",
    "\n",
    "bin_num = 20\n",
    "start_time_column_name = 'L0_S0_D1'\n",
    "prob_list = [1.*i/bin_num for i in range(1, bin_num)]\n",
    "quantile_values = mquantiles(labeled_start_time[start_time_column_name], prob=prob_list)"
   ]
  },
  {
   "cell_type": "code",
   "execution_count": 63,
   "metadata": {
    "collapsed": false
   },
   "outputs": [],
   "source": [
    "bins = [labeled_start_time[start_time_column_name].min()]\n",
    "bins.extend(quantile_values)\n",
    "bins.append(labeled_start_time[start_time_column_name].max())"
   ]
  },
  {
   "cell_type": "code",
   "execution_count": 66,
   "metadata": {
    "collapsed": false
   },
   "outputs": [],
   "source": [
    "labeled_start_time['binning'] = pd.cut(labeled_start_time[start_time_column_name], bins)"
   ]
  },
  {
   "cell_type": "code",
   "execution_count": 78,
   "metadata": {
    "collapsed": false
   },
   "outputs": [
    {
     "data": {
      "text/html": [
       "<div>\n",
       "<table border=\"1\" class=\"dataframe\">\n",
       "  <thead>\n",
       "    <tr style=\"text-align: right;\">\n",
       "      <th></th>\n",
       "      <th>mean</th>\n",
       "      <th>size</th>\n",
       "    </tr>\n",
       "    <tr>\n",
       "      <th>binned</th>\n",
       "      <th></th>\n",
       "      <th></th>\n",
       "    </tr>\n",
       "  </thead>\n",
       "  <tbody>\n",
       "    <tr>\n",
       "      <th>(0, 96.27]</th>\n",
       "      <td>0.002998</td>\n",
       "      <td>33693</td>\n",
       "    </tr>\n",
       "    <tr>\n",
       "      <th>(96.27, 195.97]</th>\n",
       "      <td>0.005075</td>\n",
       "      <td>33693</td>\n",
       "    </tr>\n",
       "    <tr>\n",
       "      <th>(195.97, 255.86]</th>\n",
       "      <td>0.006291</td>\n",
       "      <td>33698</td>\n",
       "    </tr>\n",
       "    <tr>\n",
       "      <th>(255.86, 322.41]</th>\n",
       "      <td>0.006856</td>\n",
       "      <td>33695</td>\n",
       "    </tr>\n",
       "    <tr>\n",
       "      <th>(322.41, 392.8]</th>\n",
       "      <td>0.010569</td>\n",
       "      <td>33685</td>\n",
       "    </tr>\n",
       "    <tr>\n",
       "      <th>(392.8, 556.08]</th>\n",
       "      <td>0.005994</td>\n",
       "      <td>33700</td>\n",
       "    </tr>\n",
       "    <tr>\n",
       "      <th>(556.08, 601.79]</th>\n",
       "      <td>0.005044</td>\n",
       "      <td>33706</td>\n",
       "    </tr>\n",
       "    <tr>\n",
       "      <th>(601.79, 670.64]</th>\n",
       "      <td>0.006266</td>\n",
       "      <td>33676</td>\n",
       "    </tr>\n",
       "    <tr>\n",
       "      <th>(670.64, 835.77]</th>\n",
       "      <td>0.008725</td>\n",
       "      <td>33696</td>\n",
       "    </tr>\n",
       "    <tr>\n",
       "      <th>(835.77, 909.23]</th>\n",
       "      <td>0.011247</td>\n",
       "      <td>33697</td>\n",
       "    </tr>\n",
       "    <tr>\n",
       "      <th>(909.23, 956.736]</th>\n",
       "      <td>0.006086</td>\n",
       "      <td>33684</td>\n",
       "    </tr>\n",
       "    <tr>\n",
       "      <th>(956.736, 1107.66]</th>\n",
       "      <td>0.003500</td>\n",
       "      <td>33716</td>\n",
       "    </tr>\n",
       "    <tr>\n",
       "      <th>(1107.66, 1164.51]</th>\n",
       "      <td>0.002405</td>\n",
       "      <td>33685</td>\n",
       "    </tr>\n",
       "    <tr>\n",
       "      <th>(1164.51, 1258.1]</th>\n",
       "      <td>0.002701</td>\n",
       "      <td>33696</td>\n",
       "    </tr>\n",
       "    <tr>\n",
       "      <th>(1258.1, 1374.45]</th>\n",
       "      <td>0.004007</td>\n",
       "      <td>33691</td>\n",
       "    </tr>\n",
       "    <tr>\n",
       "      <th>(1374.45, 1425.2]</th>\n",
       "      <td>0.004572</td>\n",
       "      <td>33683</td>\n",
       "    </tr>\n",
       "    <tr>\n",
       "      <th>(1425.2, 1467.8]</th>\n",
       "      <td>0.002256</td>\n",
       "      <td>33692</td>\n",
       "    </tr>\n",
       "    <tr>\n",
       "      <th>(1467.8, 1557.68]</th>\n",
       "      <td>0.005787</td>\n",
       "      <td>33695</td>\n",
       "    </tr>\n",
       "    <tr>\n",
       "      <th>(1557.68, 1626.2]</th>\n",
       "      <td>0.003411</td>\n",
       "      <td>33716</td>\n",
       "    </tr>\n",
       "    <tr>\n",
       "      <th>(1626.2, 1713.71]</th>\n",
       "      <td>0.003297</td>\n",
       "      <td>33664</td>\n",
       "    </tr>\n",
       "  </tbody>\n",
       "</table>\n",
       "</div>"
      ],
      "text/plain": [
       "                        mean   size\n",
       "binned                             \n",
       "(0, 96.27]          0.002998  33693\n",
       "(96.27, 195.97]     0.005075  33693\n",
       "(195.97, 255.86]    0.006291  33698\n",
       "(255.86, 322.41]    0.006856  33695\n",
       "(322.41, 392.8]     0.010569  33685\n",
       "(392.8, 556.08]     0.005994  33700\n",
       "(556.08, 601.79]    0.005044  33706\n",
       "(601.79, 670.64]    0.006266  33676\n",
       "(670.64, 835.77]    0.008725  33696\n",
       "(835.77, 909.23]    0.011247  33697\n",
       "(909.23, 956.736]   0.006086  33684\n",
       "(956.736, 1107.66]  0.003500  33716\n",
       "(1107.66, 1164.51]  0.002405  33685\n",
       "(1164.51, 1258.1]   0.002701  33696\n",
       "(1258.1, 1374.45]   0.004007  33691\n",
       "(1374.45, 1425.2]   0.004572  33683\n",
       "(1425.2, 1467.8]    0.002256  33692\n",
       "(1467.8, 1557.68]   0.005787  33695\n",
       "(1557.68, 1626.2]   0.003411  33716\n",
       "(1626.2, 1713.71]   0.003297  33664"
      ]
     },
     "execution_count": 78,
     "metadata": {},
     "output_type": "execute_result"
    }
   ],
   "source": [
    "labeled_start_time.groupby('binning')['Response'].agg([np.mean, np.size])"
   ]
  }
 ],
 "metadata": {
  "kernelspec": {
   "display_name": "Python 2",
   "language": "python",
   "name": "python2"
  },
  "language_info": {
   "codemirror_mode": {
    "name": "ipython",
    "version": 2
   },
   "file_extension": ".py",
   "mimetype": "text/x-python",
   "name": "python",
   "nbconvert_exporter": "python",
   "pygments_lexer": "ipython2",
   "version": "2.7.6"
  }
 },
 "nbformat": 4,
 "nbformat_minor": 0
}
