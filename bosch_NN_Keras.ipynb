{
 "cells": [
  {
   "cell_type": "code",
   "execution_count": 1,
   "metadata": {
    "collapsed": false
   },
   "outputs": [
    {
     "name": "stderr",
     "output_type": "stream",
     "text": [
      "Using Theano backend.\n"
     ]
    }
   ],
   "source": [
    "from keras.models import Sequential\n",
    "from keras.layers.core import Dense, Dropout, Activation\n",
    "from keras.optimizers import SGD\n",
    "from keras.utils import np_utils\n",
    "from sklearn.cross_validation import train_test_split\n",
    "from sklearn.metrics import roc_curve, auc\n",
    "import pandas as pd\n",
    "import matplotlib.pyplot as plt"
   ]
  },
  {
   "cell_type": "code",
   "execution_count": 2,
   "metadata": {
    "collapsed": true
   },
   "outputs": [],
   "source": [
    "# Initialize the MLP\n",
    "def initialize_nn(neuron_num, frame_size):\n",
    "    model = Sequential() # The Keras Sequential model is a linear stack of layers.\n",
    "    model.add(Dense(neuron_num, init='uniform', input_dim=frame_size)) # Dense layer\n",
    "    model.add(Activation('tanh')) # Activation layer\n",
    "    model.add(Dropout(0.5)) # Dropout layer\n",
    "    model.add(Dense(neuron_num, init='uniform')) # Another dense layer\n",
    "    model.add(Activation('tanh')) # Another activation layer\n",
    "    model.add(Dropout(0.5)) # Another dropout layer\n",
    "    model.add(Dense(2, init='uniform')) # Last dense layer\n",
    "    model.add(Activation('softmax')) # Softmax activation at the end\n",
    "    sgd = SGD(lr=0.1, decay=1e-6, momentum=0.9, nesterov=True) # Using Nesterov momentum\n",
    "    model.compile(loss='binary_crossentropy', optimizer=sgd, metrics=['accuracy']) # Using logloss\n",
    "    return model\n",
    "\n",
    "\n",
    "def test_nn(input_dim, neuron_num=50, dropout_rate=0.2):\n",
    "    model = Sequential()\n",
    "    model.add(Dense(neuron_num, input_dim=input_dim, init='uniform', activation='tanh'))\n",
    "    model.add(Dropout(dropout_rate))\n",
    "    model.add(Dense(neuron_num, init='uniform', activation='tanh'))\n",
    "    model.add(Dropout(dropout_rate))\n",
    "    model.add(Dense(2, init='uniform', activation='softmax'))\n",
    "    model.compile(loss='binary_crossentropy', optimizer='adam', metrics=['accuracy'])\n",
    "    return model\n",
    "\n",
    "def simple_nn(input_dim, neuron_num=50, dropout_rate=0.2):\n",
    "    model = Sequential()\n",
    "    model.add(Dense(neuron_num, input_dim=input_dim, init='uniform', activation='tanh'))\n",
    "    #model.add(Dropout(dropout_rate))\n",
    "    model.add(Dense(neuron_num, init='uniform', activation='tanh'))\n",
    "    #model.add(Dropout(dropout_rate))\n",
    "    model.add(Dense(2, init='uniform', activation='softmax'))\n",
    "    model.compile(loss='binary_crossentropy', optimizer='adam', metrics=['accuracy'])\n",
    "    return model"
   ]
  },
  {
   "cell_type": "code",
   "execution_count": 5,
   "metadata": {
    "collapsed": true
   },
   "outputs": [],
   "source": [
    "%matplotlib inline  \n",
    "import pandas as pd\n",
    "import numpy as np\n",
    "import os, sys, time\n",
    "from os.path import join\n",
    "import yaml\n",
    "\n",
    "sys.path.append('/home/ymm/kaggle/xgboost_hyperopt')\n",
    "import utils\n",
    "from utils.bosch_functions import load_processed_bosch_data\n",
    "from utils.models import CombinedModel, ExtraTreeModel\n",
    "from utils.validation_tools import score_MCC, create_validation_index, cross_validate_model"
   ]
  },
  {
   "cell_type": "code",
   "execution_count": 6,
   "metadata": {
    "collapsed": false
   },
   "outputs": [
    {
     "name": "stdout",
     "output_type": "stream",
     "text": [
      "finish loading data using 62.6 seconds\n"
     ]
    }
   ],
   "source": [
    "'''\n",
    "## load training data\n",
    "project_path = '/mnt/home/ymm/kaggle/compete/current'\n",
    "data_path = '/mnt/home/ymm/kaggle/bosch_data/bosch_complete_processed_data'\n",
    "data_yaml_file = 'bosch_processed_data_dict.yml'\n",
    "train = load_processed_bosch_data(data_path, project_path, data_yaml_file, data_index=data_index)\n",
    "'''\n",
    "\n",
    "dep_var_name = 'Response'\n",
    "data_index= '0'\n",
    "\n",
    "start_time = time.time()\n",
    "data_path = '/home/ymm/kaggle/bosch_data/bosch_regular_data_features_xgb_feature_10_thres'\n",
    "train_file_name = 'bosch_processed_regular_filled_thres_10_train_data.csv'\n",
    "test_file_name = 'bosch_processed_regular_filled_thres_10_test_data.csv'\n",
    "train = pd.read_csv(join(data_path, train_file_name), index_col='Id')\n",
    "\n",
    "train_index, valid_index = create_validation_index(train, 0.3, dep_var_name, True)  \n",
    "valid_data = train.ix[valid_index]\n",
    "tmp_train  = train.ix[train_index]\n",
    "print 'finish loading data using {} seconds'.format(round(time.time() - start_time, 1))"
   ]
  },
  {
   "cell_type": "code",
   "execution_count": 7,
   "metadata": {
    "collapsed": true
   },
   "outputs": [],
   "source": [
    "tmp_valid_data = valid_data.copy()\n",
    "valid_data_label = tmp_valid_data[dep_var_name]\n",
    "valid_data_X = tmp_valid_data.drop(dep_var_name, axis=1).values"
   ]
  },
  {
   "cell_type": "code",
   "execution_count": 109,
   "metadata": {
    "collapsed": false
   },
   "outputs": [],
   "source": [
    "nn_train = tmp_train.copy()"
   ]
  },
  {
   "cell_type": "code",
   "execution_count": 110,
   "metadata": {
    "collapsed": false
   },
   "outputs": [],
   "source": [
    "nn_train_y = nn_train[dep_var_name]\n",
    "nn_train_X = nn_train.drop(dep_var_name, axis=1).values\n",
    "encoded_train_y = np_utils.to_categorical(nn_train_y.values, 2)"
   ]
  },
  {
   "cell_type": "code",
   "execution_count": 128,
   "metadata": {
    "collapsed": false
   },
   "outputs": [],
   "source": [
    "init_weight = np.copy(nn_train_y.values)\n",
    "#pos_weight = int(len(init_weight) / sum(init_weight))\n",
    "neg_weight =  1. * sum(init_weight) / len(init_weight)"
   ]
  },
  {
   "cell_type": "code",
   "execution_count": 118,
   "metadata": {
    "collapsed": false
   },
   "outputs": [
    {
     "data": {
      "text/plain": [
       "0.0053542119899920165"
      ]
     },
     "execution_count": 118,
     "metadata": {},
     "output_type": "execute_result"
    }
   ],
   "source": [
    "neg_weight"
   ]
  },
  {
   "cell_type": "code",
   "execution_count": 131,
   "metadata": {
    "collapsed": false
   },
   "outputs": [],
   "source": [
    "init_weight = init_weight.astype(float)"
   ]
  },
  {
   "cell_type": "code",
   "execution_count": 132,
   "metadata": {
    "collapsed": false
   },
   "outputs": [],
   "source": [
    "#np.place(init_weight, init_weight==1, pos_weight)\n",
    "#np.place(init_weight, init_weight==0, 1)\n",
    "np.place(init_weight, init_weight==0., neg_weight)\n",
    "init_weight = init_weight.astype(float)"
   ]
  },
  {
   "cell_type": "code",
   "execution_count": 88,
   "metadata": {
    "collapsed": false
   },
   "outputs": [],
   "source": [
    "#init_weight = init_weight * 1000"
   ]
  },
  {
   "cell_type": "code",
   "execution_count": 172,
   "metadata": {
    "collapsed": false,
    "scrolled": true
   },
   "outputs": [],
   "source": [
    "#init_weight[:500]"
   ]
  },
  {
   "cell_type": "code",
   "execution_count": 27,
   "metadata": {
    "collapsed": false,
    "scrolled": true
   },
   "outputs": [
    {
     "name": "stdout",
     "output_type": "stream",
     "text": [
      "(336931,) (336931, 436)\n"
     ]
    }
   ],
   "source": [
    "print init_weight.shape, nn_train_X.shape"
   ]
  },
  {
   "cell_type": "code",
   "execution_count": 28,
   "metadata": {
    "collapsed": true
   },
   "outputs": [],
   "source": [
    "input_dim = nn_train_X.shape[1]"
   ]
  },
  {
   "cell_type": "code",
   "execution_count": 59,
   "metadata": {
    "collapsed": false
   },
   "outputs": [],
   "source": [
    "#model = simple_nn(input_dim)\n",
    "#model = initialize_nn(200, input_dim)\n",
    "model = test_nn(input_dim, 50, 0.01) ## works much better"
   ]
  },
  {
   "cell_type": "code",
   "execution_count": 134,
   "metadata": {
    "collapsed": false
   },
   "outputs": [],
   "source": [
    "#weights_list = init_weight.tolist()"
   ]
  },
  {
   "cell_type": "code",
   "execution_count": 139,
   "metadata": {
    "collapsed": true
   },
   "outputs": [],
   "source": [
    "from sklearn import preprocessing\n",
    "scaled_nn_train_X = preprocessing.scale(nn_train_X, with_std=False)"
   ]
  },
  {
   "cell_type": "code",
   "execution_count": null,
   "metadata": {
    "collapsed": false,
    "scrolled": false
   },
   "outputs": [
    {
     "name": "stdout",
     "output_type": "stream",
     "text": [
      "Train on 269544 samples, validate on 67387 samples\n",
      "Epoch 1/100\n",
      "35s - loss: 0.0074 - acc: 0.5753 - val_loss: 0.0073 - val_acc: 0.8768\n",
      "Epoch 2/100\n",
      "34s - loss: 0.0073 - acc: 0.5872 - val_loss: 0.0073 - val_acc: 0.4956\n",
      "Epoch 3/100\n",
      "34s - loss: 0.0073 - acc: 0.5747 - val_loss: 0.0074 - val_acc: 0.8461\n",
      "Epoch 4/100\n"
     ]
    }
   ],
   "source": [
    "model.fit(nn_train_X, encoded_train_y,\n",
    "          batch_size=32, nb_epoch=100,\n",
    "          verbose=2, callbacks=[],\n",
    "          validation_split=0.2,\n",
    "          validation_data=None,\n",
    "          shuffle=True,\n",
    "          class_weight=None,\n",
    "#          sample_weight=None)\n",
    "          sample_weight=init_weight)\n",
    "time.sleep(2)\n"
   ]
  },
  {
   "cell_type": "code",
   "execution_count": 165,
   "metadata": {
    "collapsed": true
   },
   "outputs": [],
   "source": [
    "y_score = model.predict(valid_data_X)"
   ]
  },
  {
   "cell_type": "code",
   "execution_count": 166,
   "metadata": {
    "collapsed": true
   },
   "outputs": [],
   "source": [
    "res_df = pd.DataFrame(y_score)\n",
    "res_df.columns = ['0', '1']\n",
    "pred_res = res_df['1']"
   ]
  },
  {
   "cell_type": "code",
   "execution_count": 167,
   "metadata": {
    "collapsed": false
   },
   "outputs": [
    {
     "data": {
      "text/html": [
       "<div>\n",
       "<table border=\"1\" class=\"dataframe\">\n",
       "  <thead>\n",
       "    <tr style=\"text-align: right;\">\n",
       "      <th></th>\n",
       "      <th>0</th>\n",
       "      <th>1</th>\n",
       "    </tr>\n",
       "  </thead>\n",
       "  <tbody>\n",
       "    <tr>\n",
       "      <th>0</th>\n",
       "      <td>0.620037</td>\n",
       "      <td>0.379963</td>\n",
       "    </tr>\n",
       "    <tr>\n",
       "      <th>1</th>\n",
       "      <td>0.620037</td>\n",
       "      <td>0.379963</td>\n",
       "    </tr>\n",
       "    <tr>\n",
       "      <th>2</th>\n",
       "      <td>0.620037</td>\n",
       "      <td>0.379963</td>\n",
       "    </tr>\n",
       "    <tr>\n",
       "      <th>3</th>\n",
       "      <td>0.620037</td>\n",
       "      <td>0.379963</td>\n",
       "    </tr>\n",
       "    <tr>\n",
       "      <th>4</th>\n",
       "      <td>0.441827</td>\n",
       "      <td>0.558173</td>\n",
       "    </tr>\n",
       "  </tbody>\n",
       "</table>\n",
       "</div>"
      ],
      "text/plain": [
       "          0         1\n",
       "0  0.620037  0.379963\n",
       "1  0.620037  0.379963\n",
       "2  0.620037  0.379963\n",
       "3  0.620037  0.379963\n",
       "4  0.441827  0.558173"
      ]
     },
     "execution_count": 167,
     "metadata": {},
     "output_type": "execute_result"
    }
   ],
   "source": [
    "res_df.head()"
   ]
  },
  {
   "cell_type": "code",
   "execution_count": 168,
   "metadata": {
    "collapsed": false,
    "scrolled": true
   },
   "outputs": [
    {
     "data": {
      "text/plain": [
       "27001"
      ]
     },
     "execution_count": 168,
     "metadata": {},
     "output_type": "execute_result"
    }
   ],
   "source": [
    "len(pred_res.unique())"
   ]
  },
  {
   "cell_type": "code",
   "execution_count": 169,
   "metadata": {
    "collapsed": false,
    "scrolled": true
   },
   "outputs": [
    {
     "data": {
      "image/png": "[encoded data removed]",
      "text/plain": [
       "<matplotlib.figure.Figure at 0x7fb7d68b03d0>"
      ]
     },
     "metadata": {},
     "output_type": "display_data"
    }
   ],
   "source": [
    "fig, ax = plt.subplots()\n",
    "res_df['1'].hist(ax=ax, bins=100, bottom=0.1)\n",
    "ax.set_yscale('log')"
   ]
  },
  {
   "cell_type": "code",
   "execution_count": 170,
   "metadata": {
    "collapsed": true
   },
   "outputs": [],
   "source": [
    "sys.path.append('/home/ymm/kaggle/xgboost_hyperopt')\n",
    "from utils.models import CombinedModel"
   ]
  },
  {
   "cell_type": "code",
   "execution_count": 171,
   "metadata": {
    "collapsed": false,
    "scrolled": true
   },
   "outputs": [
    {
     "name": "stdout",
     "output_type": "stream",
     "text": [
      "result from using constant fraction: mean of groud truth: 0.00535422788116\n",
      "threshold for preds: 0.608497500739\n",
      "0.118896562094\n",
      "\n",
      " \n",
      "\n",
      "result from using flexsible threshold: (0.1384397404096904, 0.9590152502059937)\n"
     ]
    }
   ],
   "source": [
    "print 'result from using constant fraction:', score_MCC(valid_data_label, pred_res)\n",
    "print '\\n \\n'\n",
    "print 'result from using flexsible threshold:', CombinedModel.mcc_eval_func(valid_data_label, pred_res)"
   ]
  }
 ],
 "metadata": {
  "kernelspec": {
   "display_name": "Python 2",
   "language": "python",
   "name": "python2"
  },
  "language_info": {
   "codemirror_mode": {
    "name": "ipython",
    "version": 2
   },
   "file_extension": ".py",
   "mimetype": "text/x-python",
   "name": "python",
   "nbconvert_exporter": "python",
   "pygments_lexer": "ipython2",
   "version": "2.7.6"
  }
 },
 "nbformat": 4,
 "nbformat_minor": 0
}
